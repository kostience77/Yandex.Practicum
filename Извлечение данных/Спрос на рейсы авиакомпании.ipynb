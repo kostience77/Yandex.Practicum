{
 "cells": [
  {
   "cell_type": "markdown",
   "metadata": {
    "toc": true
   },
   "source": [
    "<h1>Содержание<span class=\"tocSkip\"></span></h1>\n",
    "<div class=\"toc\"><ul class=\"toc-item\"><li><span><a href=\"#Аналитика\" data-toc-modified-id=\"Аналитика-1\"><span class=\"toc-item-num\">1&nbsp;&nbsp;</span>Аналитика</a></span><ul class=\"toc-item\"><li><span><a href=\"#Загрузим-библиотеки\" data-toc-modified-id=\"Загрузим-библиотеки-1.1\"><span class=\"toc-item-num\">1.1&nbsp;&nbsp;</span>Загрузим библиотеки</a></span></li><li><span><a href=\"#Откроем,-прочитаем-файл\" data-toc-modified-id=\"Откроем,-прочитаем-файл-1.2\"><span class=\"toc-item-num\">1.2&nbsp;&nbsp;</span>Откроем, прочитаем файл</a></span></li><li><span><a href=\"#Изучим-основную-информацию-по-датасетам\" data-toc-modified-id=\"Изучим-основную-информацию-по-датасетам-1.3\"><span class=\"toc-item-num\">1.3&nbsp;&nbsp;</span>Изучим основную информацию по датасетам</a></span><ul class=\"toc-item\"><li><span><a href=\"#Вывод\" data-toc-modified-id=\"Вывод-1.3.1\"><span class=\"toc-item-num\">1.3.1&nbsp;&nbsp;</span>Вывод</a></span></li></ul></li><li><span><a href=\"#Построим-график-зависимость-модели-самолётов-и-количество-рейсов-в-сентябре\" data-toc-modified-id=\"Построим-график-зависимость-модели-самолётов-и-количество-рейсов-в-сентябре-1.4\"><span class=\"toc-item-num\">1.4&nbsp;&nbsp;</span>Построим график зависимость модели самолётов и количество рейсов в сентябре</a></span></li><li><span><a href=\"#Построим-график--зависимости-количество-рейсов-от-города\" data-toc-modified-id=\"Построим-график--зависимости-количество-рейсов-от-города-1.5\"><span class=\"toc-item-num\">1.5&nbsp;&nbsp;</span>Построим график  зависимости количество рейсов от города</a></span></li><li><span><a href=\"#Выберем-топ-10-городов-по-количеству-рейсов-и-дополним-ее-данными-по-количеству-жителей,-проживающих-в-этих-городах.\" data-toc-modified-id=\"Выберем-топ-10-городов-по-количеству-рейсов-и-дополним-ее-данными-по-количеству-жителей,-проживающих-в-этих-городах.-1.6\"><span class=\"toc-item-num\">1.6&nbsp;&nbsp;</span>Выберем топ-10 городов по количеству рейсов и дополним ее данными по количеству жителей, проживающих в этих городах.</a></span></li></ul></li><li><span><a href=\"#Вывод\" data-toc-modified-id=\"Вывод-2\"><span class=\"toc-item-num\">2&nbsp;&nbsp;</span>Вывод</a></span></li><li><span><a href=\"#Чек-лист-проверки\" data-toc-modified-id=\"Чек-лист-проверки-3\"><span class=\"toc-item-num\">3&nbsp;&nbsp;</span>Чек-лист проверки</a></span></li></ul></div>"
   ]
  },
  {
   "cell_type": "markdown",
   "metadata": {},
   "source": [
    "# Спрос на рейсы авиакомпании"
   ]
  },
  {
   "cell_type": "markdown",
   "metadata": {},
   "source": [
    "Вы аналитик российской авиакомпании F9, выполняющей внутренние пассажирские перевозки. Важно понять предпочтения пользователей, покупающих билеты на разные направления.\n",
    "\n",
    "Вам предстоит изучить базу данных и проанализировать спрос пассажиров на рейсы в города, где проходят крупнейшие культурные фестивали."
   ]
  },
  {
   "cell_type": "markdown",
   "metadata": {},
   "source": [
    "У вас есть файлы с результатами запросов из предыдущих заданий.\n",
    "\n",
    "**query_1.csv** — результат первого запроса. В нём содержится такая информация:\n",
    "\n",
    "- *model* — **модель самолета;\n",
    "- *flights_amount* — количество рейсов для каждой модели самолетов *model* в сентябре 2018 года.\n",
    "\n",
    "**query_3.csv** — результат третьего запроса. В нём содержится такая информация:\n",
    "\n",
    "- *city* — город;\n",
    "- *average_flights* — среднее количество рейсов, прибывающих в город (*city*) за день в сентябре 2018 года.\n",
    "\n",
    " Для этих двух наборов данных нужно:\n",
    "\n",
    "- импортировать файлы;\n",
    "- изучить данные в них;\n",
    "- проверить типы данных на корректность;\n",
    "- выбрать топ-10 городов по количеству рейсов;\n",
    "- построить графики: модели самолётов и количество рейсов, города и количество рейсов, топ-10 городов и количество рейсов;\n",
    "- сделать выводы по каждому из графиков, пояснить результат.\n"
   ]
  },
  {
   "cell_type": "markdown",
   "metadata": {},
   "source": [
    "## Аналитика"
   ]
  },
  {
   "cell_type": "markdown",
   "metadata": {},
   "source": [
    "### Загрузим библиотеки"
   ]
  },
  {
   "cell_type": "code",
   "execution_count": 1,
   "metadata": {},
   "outputs": [],
   "source": [
    "import pandas as pd\n",
    "import matplotlib\n",
    "import matplotlib.pyplot as plt \n",
    "import seaborn as sns"
   ]
  },
  {
   "cell_type": "markdown",
   "metadata": {},
   "source": [
    "### Откроем, прочитаем файл "
   ]
  },
  {
   "cell_type": "code",
   "execution_count": 2,
   "metadata": {},
   "outputs": [],
   "source": [
    "df_flights = pd.read_csv('/datasets/query_1.csv')\n",
    "df_city = pd.read_csv('/datasets/query_3.csv')"
   ]
  },
  {
   "cell_type": "markdown",
   "metadata": {},
   "source": [
    "### Изучим основную информацию по датасетам"
   ]
  },
  {
   "cell_type": "code",
   "execution_count": 3,
   "metadata": {
    "scrolled": false
   },
   "outputs": [
    {
     "name": "stdout",
     "output_type": "stream",
     "text": [
      "<class 'pandas.core.frame.DataFrame'>\n",
      "RangeIndex: 8 entries, 0 to 7\n",
      "Data columns (total 2 columns):\n",
      "model             8 non-null object\n",
      "flights_amount    8 non-null int64\n",
      "dtypes: int64(1), object(1)\n",
      "memory usage: 256.0+ bytes\n"
     ]
    }
   ],
   "source": [
    "df_flights.info()"
   ]
  },
  {
   "cell_type": "code",
   "execution_count": 4,
   "metadata": {
    "scrolled": false
   },
   "outputs": [
    {
     "name": "stdout",
     "output_type": "stream",
     "text": [
      "<class 'pandas.core.frame.DataFrame'>\n",
      "RangeIndex: 101 entries, 0 to 100\n",
      "Data columns (total 2 columns):\n",
      "city               101 non-null object\n",
      "average_flights    101 non-null float64\n",
      "dtypes: float64(1), object(1)\n",
      "memory usage: 1.7+ KB\n"
     ]
    }
   ],
   "source": [
    "df_city.info()"
   ]
  },
  {
   "cell_type": "markdown",
   "metadata": {},
   "source": [
    "Опишем численные данные датасетов"
   ]
  },
  {
   "cell_type": "code",
   "execution_count": 5,
   "metadata": {
    "scrolled": true
   },
   "outputs": [
    {
     "data": {
      "text/html": [
       "<div>\n",
       "<style scoped>\n",
       "    .dataframe tbody tr th:only-of-type {\n",
       "        vertical-align: middle;\n",
       "    }\n",
       "\n",
       "    .dataframe tbody tr th {\n",
       "        vertical-align: top;\n",
       "    }\n",
       "\n",
       "    .dataframe thead th {\n",
       "        text-align: right;\n",
       "    }\n",
       "</style>\n",
       "<table border=\"1\" class=\"dataframe\">\n",
       "  <thead>\n",
       "    <tr style=\"text-align: right;\">\n",
       "      <th></th>\n",
       "      <th>average_flights</th>\n",
       "    </tr>\n",
       "  </thead>\n",
       "  <tbody>\n",
       "    <tr>\n",
       "      <td>count</td>\n",
       "      <td>101.000000</td>\n",
       "    </tr>\n",
       "    <tr>\n",
       "      <td>mean</td>\n",
       "      <td>5.494189</td>\n",
       "    </tr>\n",
       "    <tr>\n",
       "      <td>std</td>\n",
       "      <td>13.119790</td>\n",
       "    </tr>\n",
       "    <tr>\n",
       "      <td>min</td>\n",
       "      <td>1.000000</td>\n",
       "    </tr>\n",
       "    <tr>\n",
       "      <td>25%</td>\n",
       "      <td>2.000000</td>\n",
       "    </tr>\n",
       "    <tr>\n",
       "      <td>50%</td>\n",
       "      <td>3.000000</td>\n",
       "    </tr>\n",
       "    <tr>\n",
       "      <td>75%</td>\n",
       "      <td>5.870968</td>\n",
       "    </tr>\n",
       "    <tr>\n",
       "      <td>max</td>\n",
       "      <td>129.774194</td>\n",
       "    </tr>\n",
       "  </tbody>\n",
       "</table>\n",
       "</div>"
      ],
      "text/plain": [
       "       average_flights\n",
       "count       101.000000\n",
       "mean          5.494189\n",
       "std          13.119790\n",
       "min           1.000000\n",
       "25%           2.000000\n",
       "50%           3.000000\n",
       "75%           5.870968\n",
       "max         129.774194"
      ]
     },
     "execution_count": 5,
     "metadata": {},
     "output_type": "execute_result"
    }
   ],
   "source": [
    "df_city.describe()"
   ]
  },
  {
   "cell_type": "markdown",
   "metadata": {},
   "source": [
    "Проверим на дубликаты"
   ]
  },
  {
   "cell_type": "code",
   "execution_count": 6,
   "metadata": {},
   "outputs": [
    {
     "name": "stdout",
     "output_type": "stream",
     "text": [
      "Количество дубликатов в df_flights равно 0 шт\n",
      "Количество дубликатов в df_city равно 0 шт\n"
     ]
    }
   ],
   "source": [
    "print('Количество дубликатов в df_flights равно', df_flights.duplicated().sum(), 'шт')\n",
    "print('Количество дубликатов в df_city равно', df_city.duplicated().sum(), 'шт')"
   ]
  },
  {
   "cell_type": "markdown",
   "metadata": {},
   "source": [
    "#### Вывод"
   ]
  },
  {
   "cell_type": "markdown",
   "metadata": {},
   "source": [
    "В представленных датасетах df_flights: два столбца - model и flights_amount, 8 объектов; \n",
    "df_city: два столбца - city и average_flights,  101 объект\n",
    "\n",
    "Типы данных: model и city - object, flights_amount - int (целостное число), average_flights - float (вещественное число).\n",
    "\n",
    "Максимальные значения достигают flights_amount = 4557,  average_flights = 130, для уменьшения занимаемого объема памяти проведем замену типа данных.\n",
    "\n",
    "Пропущенные значения и дубликаты в датасетах не выявлены."
   ]
  },
  {
   "cell_type": "markdown",
   "metadata": {},
   "source": [
    "Проведем замены типа данных"
   ]
  },
  {
   "cell_type": "code",
   "execution_count": 7,
   "metadata": {},
   "outputs": [],
   "source": [
    "df_flights['flights_amount'] = df_flights['flights_amount'].astype('int16')"
   ]
  },
  {
   "cell_type": "code",
   "execution_count": 8,
   "metadata": {},
   "outputs": [],
   "source": [
    "df_city['average_flights'] = df_city['average_flights'].astype('float16')"
   ]
  },
  {
   "cell_type": "markdown",
   "metadata": {},
   "source": [
    "### Построим график зависимость модели самолётов и количество рейсов в сентябре"
   ]
  },
  {
   "cell_type": "code",
   "execution_count": 9,
   "metadata": {
    "scrolled": true
   },
   "outputs": [
    {
     "data": {
      "image/png": "[encoded data removed]",
      "text/plain": [
       "<Figure size 504x216 with 1 Axes>"
      ]
     },
     "metadata": {
      "needs_background": "light"
     },
     "output_type": "display_data"
    }
   ],
   "source": [
    "plt.figure(figsize=(7, 3))\n",
    "plt.title('Распределение моделей самолетов от количества рейсов', fontsize=15)\n",
    "sns.barplot(x='model', y='flights_amount', data=df_flights.sort_values(by='flights_amount', ascending=False), palette='Spectral')\n",
    "sns.despine(left=True)\n",
    "plt.ylabel('Количество рейсов')\n",
    "plt.xlabel('модель самолета', fontsize=10)\n",
    "plt.xticks(rotation=30)\n",
    "plt.show()"
   ]
  },
  {
   "cell_type": "markdown",
   "metadata": {},
   "source": [
    "Из графика видно, что самыми востребованными моделями самолетов являются Cessna 208 Caravan, Bombardier CRJ-200 и Sukhoi SuperJet-100 на них приходится 13188 (81%) полетов от всех  совершенных перелетов 16285 в сентябре 2018 г.\n",
    "Дополним таблицу характеристиками данных самолетов, чтобы наш анализ был более полным."
   ]
  },
  {
   "cell_type": "code",
   "execution_count": 10,
   "metadata": {},
   "outputs": [],
   "source": [
    "range_ability = ['4 700 - 6 800', '5 900', '2 300 - 2 900',  '9 700',  '7 500 - 11 000',  '2 500',  '1 680', '3 050']\n",
    "amount_armchair = ['156', '236', '149', '328', '550', '50', '9-13', '95']"
   ]
  },
  {
   "cell_type": "code",
   "execution_count": 11,
   "metadata": {},
   "outputs": [],
   "source": [
    "df_flights['range_ability'] = range_ability\n",
    "df_flights['amount_armchair'] = amount_armchair"
   ]
  },
  {
   "cell_type": "code",
   "execution_count": 12,
   "metadata": {
    "scrolled": false
   },
   "outputs": [
    {
     "data": {
      "text/html": [
       "<div>\n",
       "<style scoped>\n",
       "    .dataframe tbody tr th:only-of-type {\n",
       "        vertical-align: middle;\n",
       "    }\n",
       "\n",
       "    .dataframe tbody tr th {\n",
       "        vertical-align: top;\n",
       "    }\n",
       "\n",
       "    .dataframe thead th {\n",
       "        text-align: right;\n",
       "    }\n",
       "</style>\n",
       "<table border=\"1\" class=\"dataframe\">\n",
       "  <thead>\n",
       "    <tr style=\"text-align: right;\">\n",
       "      <th></th>\n",
       "      <th>model</th>\n",
       "      <th>flights_amount</th>\n",
       "      <th>range_ability</th>\n",
       "      <th>amount_armchair</th>\n",
       "    </tr>\n",
       "  </thead>\n",
       "  <tbody>\n",
       "    <tr>\n",
       "      <td>0</td>\n",
       "      <td>Airbus A319-100</td>\n",
       "      <td>607</td>\n",
       "      <td>4 700 - 6 800</td>\n",
       "      <td>156</td>\n",
       "    </tr>\n",
       "    <tr>\n",
       "      <td>1</td>\n",
       "      <td>Airbus A321-200</td>\n",
       "      <td>960</td>\n",
       "      <td>5 900</td>\n",
       "      <td>236</td>\n",
       "    </tr>\n",
       "    <tr>\n",
       "      <td>2</td>\n",
       "      <td>Boeing 737-300</td>\n",
       "      <td>630</td>\n",
       "      <td>2 300 - 2 900</td>\n",
       "      <td>149</td>\n",
       "    </tr>\n",
       "    <tr>\n",
       "      <td>3</td>\n",
       "      <td>Boeing 767-300</td>\n",
       "      <td>600</td>\n",
       "      <td>9 700</td>\n",
       "      <td>328</td>\n",
       "    </tr>\n",
       "    <tr>\n",
       "      <td>4</td>\n",
       "      <td>Boeing 777-300</td>\n",
       "      <td>300</td>\n",
       "      <td>7 500 - 11 000</td>\n",
       "      <td>550</td>\n",
       "    </tr>\n",
       "    <tr>\n",
       "      <td>5</td>\n",
       "      <td>Bombardier CRJ-200</td>\n",
       "      <td>4446</td>\n",
       "      <td>2 500</td>\n",
       "      <td>50</td>\n",
       "    </tr>\n",
       "    <tr>\n",
       "      <td>6</td>\n",
       "      <td>Cessna 208 Caravan</td>\n",
       "      <td>4557</td>\n",
       "      <td>1 680</td>\n",
       "      <td>9-13</td>\n",
       "    </tr>\n",
       "    <tr>\n",
       "      <td>7</td>\n",
       "      <td>Sukhoi SuperJet-100</td>\n",
       "      <td>4185</td>\n",
       "      <td>3 050</td>\n",
       "      <td>95</td>\n",
       "    </tr>\n",
       "  </tbody>\n",
       "</table>\n",
       "</div>"
      ],
      "text/plain": [
       "                 model  flights_amount   range_ability amount_armchair\n",
       "0      Airbus A319-100             607   4 700 - 6 800             156\n",
       "1      Airbus A321-200             960           5 900             236\n",
       "2       Boeing 737-300             630   2 300 - 2 900             149\n",
       "3       Boeing 767-300             600           9 700             328\n",
       "4       Boeing 777-300             300  7 500 - 11 000             550\n",
       "5   Bombardier CRJ-200            4446           2 500              50\n",
       "6   Cessna 208 Caravan            4557           1 680            9-13\n",
       "7  Sukhoi SuperJet-100            4185           3 050              95"
      ]
     },
     "execution_count": 12,
     "metadata": {},
     "output_type": "execute_result"
    }
   ],
   "source": [
    "df_flights "
   ]
  },
  {
   "cell_type": "markdown",
   "metadata": {},
   "source": [
    "Как видно из таблицы, лидирующая троица моделей самолетов: Cessna 208 Caravan относящийся к классу  ближнемагистральные и Bombardier CRJ-200 и Sukhoi SuperJet-100 - среднемагистральные. Однако у этих лайнеров дальность полетов не превышает 3 тыс. км. Самолеты Cessna эксплуатируются на воздушных линиях Центральной Сибири и соединяют города регионов Сибири и Дальнего Востока. Самолеты Bombardier CRJ-200 и Sukhoi SuperJet-100 также соединяют ближлежащие друг к другу города России. Максимальное количество пассажиров не превышает 100 человек.\n",
    "\n",
    "Второе место по количеству полетов занимает Airbus A321 относящийся к среднемагистральным самолетам. Дальность полетов не превышает 6 тыс. км. Количество пассажиров на борту 236 чел.\n",
    "\n",
    "На третьем месте расположились Boeing 737-300 и  Airbus A319-100 - среднемагистральные, количество кресел около 150 шт , Boeing 767-300 - дальнемагистральный, количество кресел - 328 шт.\n",
    "\n",
    "Замыкает ряд Boeing 777-300 - дальнемагистральный и способный перевезти до 550 пассажиров на борту. \n",
    "\n",
    "Стоит также отметить, что от дальности полета зависит количество возможных совершенных полетов в день. Например, если полет длится не больше одного-двух часов, лайнер в сутки может выполнить три пары рейсов туда-обратно, в тоже время дальнемагистральный самолет может осуществлять в среднем два полета в день."
   ]
  },
  {
   "cell_type": "markdown",
   "metadata": {},
   "source": [
    "### Построим график  зависимости количество рейсов от города"
   ]
  },
  {
   "cell_type": "code",
   "execution_count": 13,
   "metadata": {
    "scrolled": false
   },
   "outputs": [
    {
     "data": {
      "image/png": "[encoded data removed]",
      "text/plain": [
       "<Figure size 864x1440 with 1 Axes>"
      ]
     },
     "metadata": {
      "needs_background": "light"
     },
     "output_type": "display_data"
    }
   ],
   "source": [
    "plt.figure(figsize=(12, 20))\n",
    "plt.title('Количество рейсов в день по городам', fontsize=15)\n",
    "sns.barplot(x='average_flights', y='city', data=df_city.sort_values(by='average_flights'), palette='Spectral')\n",
    "sns.despine(left=True)\n",
    "plt.ylabel('город', fontsize=12)\n",
    "plt.xlabel('количество рейсов', fontsize=12)\n",
    "plt.show()"
   ]
  },
  {
   "cell_type": "markdown",
   "metadata": {},
   "source": [
    "Как видно из рисунка города можно разбить на группы по среднему количеству, пребывающим в город рейсов:\n",
    "* один рейс в день: Благовещенск, Анадырь, Комсомольск-на-Амуре, Стрежевой, Нефтеюганск, Петропавловск-Камчатский, Усть-Кут, Ижевск, Братск, Иваново, Нягань, Усинск, Грозный, Кызыл, Липецк, Ярославль, Магадан, Горно-Алтайск, Псков, Чита, Орск, Улан-Удэ;\n",
    "* два рейса: Владикавказ, Мурманск, Белоярский, Урай, Кемерово, Ставрополь, Саранск, Воронеж, Салехард, Калуга, Череповец, Анапа, Надым, Норильск, Курск, Астрахань, Калининград, Нерюнгри, Геленджик, Барнаул, Нарьян-Мар, Якутск, Усть-Илимск;\n",
    "* три рейса: Самара, Владивосток, Бугульма, Ноябрьск, Ухта, Нальчик, Удачный, Нижневартовск, Когалым, Махачкала, Омск, Курган, Минеральные Воды, Нижнекамск, Абакан, Краснодар\n",
    "* четыре - пять рейса: Пенза, Тамбов, Саратов, Магнитогорск, Сыктывкар, Томск, Южно-Сахалинск, Йошкар-Ола, Воркута, Элиста, Чебоксары, Оренбург, Волгоград, Архангельск, Нижний Новгород, Петрозаводск\t\n",
    "* шесть - девять рейсов:Белгород, Киров, Новокузнецк, Иркутск, Мирный, Уфа, Хабаровск, Челябинск, Тюмень, Казань, Новый Уренгой, Ханты-Мансийск, Сургут, Советский, Ульяновск, Сочи\n",
    "* больше десяти рейсов: Брянск, Пермь, Ростов-на-Дону, Екатеринбург, Красноярск, Новосибирск, Санкт-Петербург\t\n",
    "* больше ста рейсов - Москва"
   ]
  },
  {
   "cell_type": "markdown",
   "metadata": {},
   "source": [
    "Количество рейсов в город на прямую зависит от численности населения и значимости населенного пункта. Чем численность населения меньше тем и рейсов меньше, повышение количества жителей города приводит к повышению количества рейсов самолетов в день."
   ]
  },
  {
   "cell_type": "markdown",
   "metadata": {},
   "source": [
    "### Выберем топ-10 городов по количеству рейсов и дополним ее данными по количеству жителей, проживающих в этих городах."
   ]
  },
  {
   "cell_type": "code",
   "execution_count": 14,
   "metadata": {},
   "outputs": [],
   "source": [
    "df_10_top = df_city.sort_values(by='average_flights',ascending=False).head(10)"
   ]
  },
  {
   "cell_type": "code",
   "execution_count": 15,
   "metadata": {
    "scrolled": true
   },
   "outputs": [
    {
     "data": {
      "image/png": "[encoded data removed]",
      "text/plain": [
       "<Figure size 720x360 with 1 Axes>"
      ]
     },
     "metadata": {
      "needs_background": "light"
     },
     "output_type": "display_data"
    }
   ],
   "source": [
    "plt.figure(figsize=(10, 5))\n",
    "plt.title('Top 10  городов', fontsize=20)\n",
    "sns.barplot(x='average_flights', y='city', data=df_10_top, palette='cool')\n",
    "sns.despine(left=True)\n",
    "plt.ylabel('город')\n",
    "plt.xlabel('количество рейсов', fontsize=10)\n",
    "plt.show()"
   ]
  },
  {
   "cell_type": "code",
   "execution_count": 16,
   "metadata": {},
   "outputs": [],
   "source": [
    "people = ['12 655 050', '5 384 342', '1 620 162',  '1 092 851', '1 477 350', '1 137 704', '1 049 199', '399 579', ' 432 322', ' 625 462']"
   ]
  },
  {
   "cell_type": "code",
   "execution_count": 17,
   "metadata": {},
   "outputs": [],
   "source": [
    "df_10_top['people'] = people"
   ]
  },
  {
   "cell_type": "code",
   "execution_count": 18,
   "metadata": {
    "scrolled": false
   },
   "outputs": [
    {
     "data": {
      "text/html": [
       "<div>\n",
       "<style scoped>\n",
       "    .dataframe tbody tr th:only-of-type {\n",
       "        vertical-align: middle;\n",
       "    }\n",
       "\n",
       "    .dataframe tbody tr th {\n",
       "        vertical-align: top;\n",
       "    }\n",
       "\n",
       "    .dataframe thead th {\n",
       "        text-align: right;\n",
       "    }\n",
       "</style>\n",
       "<table border=\"1\" class=\"dataframe\">\n",
       "  <thead>\n",
       "    <tr style=\"text-align: right;\">\n",
       "      <th></th>\n",
       "      <th>city</th>\n",
       "      <th>average_flights</th>\n",
       "      <th>people</th>\n",
       "    </tr>\n",
       "  </thead>\n",
       "  <tbody>\n",
       "    <tr>\n",
       "      <td>43</td>\n",
       "      <td>Москва</td>\n",
       "      <td>129.750000</td>\n",
       "      <td>12 655 050</td>\n",
       "    </tr>\n",
       "    <tr>\n",
       "      <td>70</td>\n",
       "      <td>Санкт-Петербург</td>\n",
       "      <td>31.156250</td>\n",
       "      <td>5 384 342</td>\n",
       "    </tr>\n",
       "    <tr>\n",
       "      <td>54</td>\n",
       "      <td>Новосибирск</td>\n",
       "      <td>17.328125</td>\n",
       "      <td>1 620 162</td>\n",
       "    </tr>\n",
       "    <tr>\n",
       "      <td>33</td>\n",
       "      <td>Красноярск</td>\n",
       "      <td>11.578125</td>\n",
       "      <td>1 092 851</td>\n",
       "    </tr>\n",
       "    <tr>\n",
       "      <td>20</td>\n",
       "      <td>Екатеринбург</td>\n",
       "      <td>11.320312</td>\n",
       "      <td>1 477 350</td>\n",
       "    </tr>\n",
       "    <tr>\n",
       "      <td>67</td>\n",
       "      <td>Ростов-на-Дону</td>\n",
       "      <td>10.195312</td>\n",
       "      <td>1 137 704</td>\n",
       "    </tr>\n",
       "    <tr>\n",
       "      <td>63</td>\n",
       "      <td>Пермь</td>\n",
       "      <td>10.132812</td>\n",
       "      <td>1 049 199</td>\n",
       "    </tr>\n",
       "    <tr>\n",
       "      <td>10</td>\n",
       "      <td>Брянск</td>\n",
       "      <td>10.000000</td>\n",
       "      <td>399 579</td>\n",
       "    </tr>\n",
       "    <tr>\n",
       "      <td>74</td>\n",
       "      <td>Сочи</td>\n",
       "      <td>9.609375</td>\n",
       "      <td>432 322</td>\n",
       "    </tr>\n",
       "    <tr>\n",
       "      <td>84</td>\n",
       "      <td>Ульяновск</td>\n",
       "      <td>9.578125</td>\n",
       "      <td>625 462</td>\n",
       "    </tr>\n",
       "  </tbody>\n",
       "</table>\n",
       "</div>"
      ],
      "text/plain": [
       "               city  average_flights      people\n",
       "43           Москва       129.750000  12 655 050\n",
       "70  Санкт-Петербург        31.156250   5 384 342\n",
       "54      Новосибирск        17.328125   1 620 162\n",
       "33       Красноярск        11.578125   1 092 851\n",
       "20     Екатеринбург        11.320312   1 477 350\n",
       "67   Ростов-на-Дону        10.195312   1 137 704\n",
       "63            Пермь        10.132812   1 049 199\n",
       "10           Брянск        10.000000     399 579\n",
       "74             Сочи         9.609375     432 322\n",
       "84        Ульяновск         9.578125     625 462"
      ]
     },
     "execution_count": 18,
     "metadata": {},
     "output_type": "execute_result"
    }
   ],
   "source": [
    "df_10_top "
   ]
  },
  {
   "cell_type": "markdown",
   "metadata": {},
   "source": [
    "Из таблицы и графика видно, что увеличение количества жителей приводит к увеличению рейсов в день. При численности населения около 1 млн. человек  в среднем совершается около 10 рейсов в день, увеличение количества жителей до  5 млн, приводит к возрастанию рейсов до 30 шт. в день, число рейсов равное 120-130 становится возможным при населении больше 12 млн.\n",
    "\n",
    "Такое большое количество рейсов можно объяснить тем, что это крупнонаселеннные пункты, и/или это воздушнотранспортные узлы, где можно пересесть на международный рейс или стыковочный. Например, международные аэропорты федерального значения распологаются в Брянске, Сочи и Ульяновске, хотя численность населения там не превышает 650 тыс.чел.\n",
    "\n",
    "Максимальное количество приземлений самолетов - Москва, сюда слетаются самолеты со всех концов РФ, а именно ближне-, средне- и дальнемагистральные лайнеры, потому что во-первых - это столица РФ, во-вторых - численность населения 12 млн. чел. и в-третих - крупнейший пересадочный транспортный узел как на внутренных, так и на международных направлениях."
   ]
  },
  {
   "cell_type": "markdown",
   "metadata": {},
   "source": [
    "## Вывод"
   ]
  },
  {
   "cell_type": "markdown",
   "metadata": {},
   "source": [
    "В данной работе было рассмотренно два датасета: df_city и df_flights. \n",
    "1. Пропущенные значения и дубликаты в них не выявлены. \n",
    "2. Проведена замена типа данных для уменьшения объема занимаемой памяти.\n",
    "3. Построены графики: модели самолётов и количество рейсов, города и количество рейсов, топ-10 городов и количество рейсов.\n",
    "4. Выбраны топ-10 городов по количеству рейсов.\n",
    "\n",
    "\n",
    " Модели самолетов по количеству полетов можно разделить на три группы: \n",
    " \n",
    "      * на ближних расстояниях большим спросом пользуются небольшие самолеты (Cessna 208 Caravan, Bombardier CRJ-200 и Sukhoi SuperJet-100) - количество полетов больше 4000 шт в месяц, \n",
    "      * увеличение расстояния для перелета из одного города в другой повышает спрос на различные модификации самолетов по дальности полета и по количеству пассажиров, потому что дополняется еще один критерий численность населения городов. Поэтому  в данной группе можно встретить среднемагистральные самолеты с количеством мест от 150 до 250 шт. и дальнемагистральные с количеством мест до 350 шт.(Airbus A321, Boeing 737-300,  Airbus A319-100 и Boeing 767-300) - количество полетов от 600 до 900 шт. в месяц.\n",
    "      * и третья группа - это дальнемагистральные самолеты с максимальной загрузкой салона - 550 чел. (Boeing 777-300) - количество полетов 300.\n",
    "           \n",
    "  \n",
    "Количество полетов сильно коррелирует с дальностью полета, чем продолжительнее по времени полет, т.е. чем длиннее дистанция перелета, тем количество полетов в сутки меньше. Для дальнемагистрального лайнера - это одно приземление в городе в день.\n",
    " \n",
    "Количество полетов в сутки зависит от численности населения и регионального / федерального значения города. Например, в Москву каждый день со всех регионов совершают приземление около 130 лайнеров, а в такие города как Ярославль, Благовещенски и другие - один рейс в сутки.\n",
    " \n",
    "В топ-10 городов по количеству приземления в день вошли: Москва, Санкт-Петербург, Новосибирск, Красноярск, Екатеринбург,   Ростов-на-Дону, Пермь, Брянск, Сочи и Ульяновск.\n",
    " \n",
    "Высокое количество рейсов в Москву,  Санкт-Петербург, Новосибирск и т.д. объясняется не только большой численностью населения, но и тем, что эти города являются важнейшими воздушнотранспортными узлами, где можно пересесть на международный рейс или стыковочный. "
   ]
  },
  {
   "cell_type": "markdown",
   "metadata": {},
   "source": [
    "## Чек-лист проверки"
   ]
  },
  {
   "cell_type": "markdown",
   "metadata": {},
   "source": [
    "- [x]  Jupyter Notebook открыт\n",
    "- [x]  Весь код выполняется без ошибок\n",
    "- [x]  Ячейки с кодом расположены в порядке исполнения\n",
    "- [x]  Файлы изучены\n",
    "- [x]  Типы данных проверены на корректность\n",
    "- [x]  Выбран топ-10 городов по количеству рейсов\n",
    "- [x]  Построен график «Модели самолётов и количество рейсов»\n",
    "- [x]  Построен график «Города и количество рейсов»\n",
    "- [x]  Построен график «Топ-10 городов и количество рейсов»\n",
    "- [x]  На каждом этапе написаны выводы\n",
    "- [x]  Написан общий вывод"
   ]
  }
 ],
 "metadata": {
  "ExecuteTimeLog": [
   {
    "duration": 374,
    "start_time": "2021-10-07T06:11:44.841Z"
   },
   {
    "duration": 936,
    "start_time": "2021-10-07T06:14:27.177Z"
   },
   {
    "duration": 2252,
    "start_time": "2021-10-07T06:14:29.020Z"
   },
   {
    "duration": 2444,
    "start_time": "2021-10-07T06:14:50.554Z"
   },
   {
    "duration": 36,
    "start_time": "2021-10-07T06:15:20.652Z"
   },
   {
    "duration": 21,
    "start_time": "2021-10-07T06:15:31.985Z"
   },
   {
    "duration": 53,
    "start_time": "2021-10-07T06:18:54.574Z"
   },
   {
    "duration": 11,
    "start_time": "2021-10-07T06:18:55.630Z"
   },
   {
    "duration": 9,
    "start_time": "2021-10-07T06:19:37.329Z"
   },
   {
    "duration": 326,
    "start_time": "2021-10-07T06:19:44.488Z"
   },
   {
    "duration": 299,
    "start_time": "2021-10-07T06:22:32.717Z"
   },
   {
    "duration": 32,
    "start_time": "2021-10-07T06:22:36.262Z"
   },
   {
    "duration": 8,
    "start_time": "2021-10-07T06:22:38.687Z"
   },
   {
    "duration": 7,
    "start_time": "2021-10-07T06:31:16.693Z"
   },
   {
    "duration": 7,
    "start_time": "2021-10-07T06:31:18.008Z"
   },
   {
    "duration": 317,
    "start_time": "2021-10-07T06:40:53.726Z"
   },
   {
    "duration": 9,
    "start_time": "2021-10-07T06:41:36.457Z"
   },
   {
    "duration": 448,
    "start_time": "2021-10-07T06:42:22.543Z"
   },
   {
    "duration": 293,
    "start_time": "2021-10-07T06:42:42.118Z"
   },
   {
    "duration": 2309,
    "start_time": "2021-10-07T06:45:28.535Z"
   },
   {
    "duration": 2350,
    "start_time": "2021-10-07T06:45:46.010Z"
   },
   {
    "duration": 398,
    "start_time": "2021-10-07T06:46:29.823Z"
   },
   {
    "duration": 278,
    "start_time": "2021-10-07T06:48:52.896Z"
   },
   {
    "duration": 13,
    "start_time": "2021-10-07T06:49:01.140Z"
   },
   {
    "duration": 5,
    "start_time": "2021-10-07T06:50:26.978Z"
   },
   {
    "duration": 10,
    "start_time": "2021-10-07T06:50:31.078Z"
   },
   {
    "duration": 427,
    "start_time": "2021-10-07T06:50:48.501Z"
   },
   {
    "duration": 4,
    "start_time": "2021-10-07T13:32:32.902Z"
   },
   {
    "duration": 1933,
    "start_time": "2021-10-07T13:32:35.030Z"
   },
   {
    "duration": 287,
    "start_time": "2021-10-07T13:33:38.116Z"
   },
   {
    "duration": 273,
    "start_time": "2021-10-07T13:33:51.195Z"
   },
   {
    "duration": 390,
    "start_time": "2021-10-07T13:34:11.962Z"
   },
   {
    "duration": 638,
    "start_time": "2021-10-07T13:34:45.044Z"
   },
   {
    "duration": 391,
    "start_time": "2021-10-07T13:34:54.835Z"
   },
   {
    "duration": 352,
    "start_time": "2021-10-07T13:35:07.436Z"
   },
   {
    "duration": 9,
    "start_time": "2021-10-07T13:37:40.571Z"
   },
   {
    "duration": 6,
    "start_time": "2021-10-07T13:38:02.738Z"
   },
   {
    "duration": 270,
    "start_time": "2021-10-07T13:38:25.012Z"
   },
   {
    "duration": 8,
    "start_time": "2021-10-07T13:38:36.199Z"
   },
   {
    "duration": 5,
    "start_time": "2021-10-07T13:38:45.518Z"
   },
   {
    "duration": 6,
    "start_time": "2021-10-07T13:39:21.895Z"
   },
   {
    "duration": 5,
    "start_time": "2021-10-07T13:39:36.512Z"
   },
   {
    "duration": 757,
    "start_time": "2021-10-08T01:31:14.977Z"
   },
   {
    "duration": 29,
    "start_time": "2021-10-08T01:31:16.791Z"
   },
   {
    "duration": 12,
    "start_time": "2021-10-08T01:31:17.804Z"
   },
   {
    "duration": 8,
    "start_time": "2021-10-08T01:31:18.874Z"
   },
   {
    "duration": 28,
    "start_time": "2021-10-08T01:31:19.878Z"
   },
   {
    "duration": 18,
    "start_time": "2021-10-08T01:31:38.212Z"
   },
   {
    "duration": 369,
    "start_time": "2021-10-08T01:32:40.456Z"
   },
   {
    "duration": 12,
    "start_time": "2021-10-08T01:32:55.759Z"
   },
   {
    "duration": 23,
    "start_time": "2021-10-08T01:32:58.151Z"
   },
   {
    "duration": 17,
    "start_time": "2021-10-08T01:33:01.930Z"
   },
   {
    "duration": 5,
    "start_time": "2021-10-08T01:33:14.064Z"
   },
   {
    "duration": 27,
    "start_time": "2021-10-08T01:33:15.042Z"
   },
   {
    "duration": 27,
    "start_time": "2021-10-08T01:33:34.225Z"
   },
   {
    "duration": 6,
    "start_time": "2021-10-08T01:33:38.134Z"
   },
   {
    "duration": 22,
    "start_time": "2021-10-08T01:33:38.825Z"
   },
   {
    "duration": 16,
    "start_time": "2021-10-08T01:33:50.059Z"
   },
   {
    "duration": 7,
    "start_time": "2021-10-08T01:33:51.341Z"
   },
   {
    "duration": 8,
    "start_time": "2021-10-08T01:33:52.741Z"
   },
   {
    "duration": 440,
    "start_time": "2021-10-08T01:33:53.763Z"
   },
   {
    "duration": 698,
    "start_time": "2021-10-08T01:34:19.881Z"
   },
   {
    "duration": 729,
    "start_time": "2021-10-08T01:34:33.447Z"
   },
   {
    "duration": 6,
    "start_time": "2021-10-08T01:35:36.445Z"
   },
   {
    "duration": 5,
    "start_time": "2021-10-08T01:35:36.824Z"
   },
   {
    "duration": 5,
    "start_time": "2021-10-08T01:45:44.431Z"
   },
   {
    "duration": 6,
    "start_time": "2021-10-08T01:45:50.873Z"
   },
   {
    "duration": 6,
    "start_time": "2021-10-08T01:46:02.312Z"
   },
   {
    "duration": 10,
    "start_time": "2021-10-08T01:47:54.399Z"
   },
   {
    "duration": 11,
    "start_time": "2021-10-08T01:48:05.076Z"
   },
   {
    "duration": 321,
    "start_time": "2021-10-08T02:29:59.467Z"
   },
   {
    "duration": 3,
    "start_time": "2021-10-08T02:30:17.150Z"
   },
   {
    "duration": 1084,
    "start_time": "2021-10-08T02:30:18.154Z"
   },
   {
    "duration": 561,
    "start_time": "2021-10-08T02:30:30.625Z"
   },
   {
    "duration": 2969,
    "start_time": "2021-10-08T02:30:34.767Z"
   },
   {
    "duration": 1128,
    "start_time": "2021-10-08T02:31:12.423Z"
   },
   {
    "duration": 343,
    "start_time": "2021-10-08T02:31:46.378Z"
   },
   {
    "duration": 2999,
    "start_time": "2021-10-08T02:32:21.867Z"
   },
   {
    "duration": 3050,
    "start_time": "2021-10-08T02:32:55.330Z"
   },
   {
    "duration": 3125,
    "start_time": "2021-10-08T02:33:09.060Z"
   },
   {
    "duration": 3020,
    "start_time": "2021-10-08T02:33:27.555Z"
   },
   {
    "duration": 975,
    "start_time": "2021-10-08T02:35:59.277Z"
   },
   {
    "duration": 446,
    "start_time": "2021-10-08T02:36:11.618Z"
   },
   {
    "duration": 664,
    "start_time": "2021-10-08T02:36:31.583Z"
   },
   {
    "duration": 323,
    "start_time": "2021-10-08T02:38:28.639Z"
   },
   {
    "duration": 316,
    "start_time": "2021-10-08T02:38:46.211Z"
   },
   {
    "duration": 344,
    "start_time": "2021-10-08T02:39:04.197Z"
   },
   {
    "duration": 622,
    "start_time": "2021-10-08T02:39:55.454Z"
   },
   {
    "duration": 338,
    "start_time": "2021-10-08T02:40:14.825Z"
   },
   {
    "duration": 593,
    "start_time": "2021-10-08T02:40:33.099Z"
   },
   {
    "duration": 345,
    "start_time": "2021-10-08T02:40:46.743Z"
   },
   {
    "duration": 326,
    "start_time": "2021-10-08T02:41:09.647Z"
   },
   {
    "duration": 345,
    "start_time": "2021-10-08T02:41:27.078Z"
   },
   {
    "duration": 726,
    "start_time": "2021-10-08T02:42:07.294Z"
   },
   {
    "duration": 338,
    "start_time": "2021-10-08T02:42:22.415Z"
   },
   {
    "duration": 338,
    "start_time": "2021-10-08T02:42:50.705Z"
   },
   {
    "duration": 328,
    "start_time": "2021-10-08T02:43:21.959Z"
   },
   {
    "duration": 328,
    "start_time": "2021-10-08T02:44:03.610Z"
   },
   {
    "duration": 109,
    "start_time": "2021-10-08T08:06:35.405Z"
   },
   {
    "duration": 1114,
    "start_time": "2021-10-08T08:07:00.766Z"
   },
   {
    "duration": 28,
    "start_time": "2021-10-08T08:07:47.468Z"
   },
   {
    "duration": 19,
    "start_time": "2021-10-08T08:08:08.324Z"
   },
   {
    "duration": 21,
    "start_time": "2021-10-08T08:08:51.864Z"
   },
   {
    "duration": 18,
    "start_time": "2021-10-08T08:09:00.238Z"
   },
   {
    "duration": 22,
    "start_time": "2021-10-08T08:09:04.041Z"
   },
   {
    "duration": 677,
    "start_time": "2021-10-09T05:26:43.694Z"
   },
   {
    "duration": 755,
    "start_time": "2021-10-09T05:26:52.212Z"
   },
   {
    "duration": 45,
    "start_time": "2021-10-09T05:26:54.744Z"
   },
   {
    "duration": 760,
    "start_time": "2021-10-09T05:27:02.031Z"
   },
   {
    "duration": 6,
    "start_time": "2021-10-09T05:27:08.725Z"
   },
   {
    "duration": 367,
    "start_time": "2021-10-09T05:27:12.147Z"
   },
   {
    "duration": 1157,
    "start_time": "2021-10-09T05:28:09.996Z"
   },
   {
    "duration": 1056,
    "start_time": "2021-10-09T05:28:23.631Z"
   },
   {
    "duration": 1097,
    "start_time": "2021-10-09T05:28:47.256Z"
   },
   {
    "duration": 2887,
    "start_time": "2021-10-09T05:29:17.352Z"
   },
   {
    "duration": 2828,
    "start_time": "2021-10-09T05:29:53.968Z"
   },
   {
    "duration": 1091,
    "start_time": "2021-10-09T05:32:18.649Z"
   },
   {
    "duration": 2830,
    "start_time": "2021-10-09T05:33:03.766Z"
   },
   {
    "duration": 376,
    "start_time": "2021-10-09T05:33:25.196Z"
   },
   {
    "duration": 478,
    "start_time": "2021-10-09T05:33:57.729Z"
   },
   {
    "duration": 343,
    "start_time": "2021-10-09T05:34:05.673Z"
   },
   {
    "duration": 352,
    "start_time": "2021-10-09T05:34:11.643Z"
   },
   {
    "duration": 4,
    "start_time": "2021-10-09T09:25:38.429Z"
   },
   {
    "duration": 30,
    "start_time": "2021-10-09T09:25:39.922Z"
   },
   {
    "duration": 8,
    "start_time": "2021-10-09T09:25:44.221Z"
   },
   {
    "duration": 9,
    "start_time": "2021-10-09T09:25:44.665Z"
   },
   {
    "duration": 11,
    "start_time": "2021-10-09T09:25:49.012Z"
   },
   {
    "duration": 24,
    "start_time": "2021-10-09T09:25:49.439Z"
   },
   {
    "duration": 18,
    "start_time": "2021-10-09T09:25:49.631Z"
   },
   {
    "duration": 8,
    "start_time": "2021-10-09T09:25:50.027Z"
   },
   {
    "duration": 7,
    "start_time": "2021-10-09T09:25:50.858Z"
   },
   {
    "duration": 240,
    "start_time": "2021-10-09T09:25:53.836Z"
   },
   {
    "duration": 231,
    "start_time": "2021-10-09T09:26:07.421Z"
   },
   {
    "duration": 8,
    "start_time": "2021-10-09T09:26:17.169Z"
   },
   {
    "duration": 8,
    "start_time": "2021-10-09T09:26:24.311Z"
   },
   {
    "duration": 4,
    "start_time": "2021-10-09T09:26:33.674Z"
   },
   {
    "duration": 8,
    "start_time": "2021-10-09T09:26:48.145Z"
   },
   {
    "duration": 5,
    "start_time": "2021-10-09T09:28:00.751Z"
   },
   {
    "duration": 9,
    "start_time": "2021-10-09T09:28:10.473Z"
   },
   {
    "duration": 17,
    "start_time": "2021-10-09T09:30:36.362Z"
   },
   {
    "duration": 5,
    "start_time": "2021-10-09T09:31:45.278Z"
   },
   {
    "duration": 5,
    "start_time": "2021-10-09T09:32:12.202Z"
   },
   {
    "duration": 7,
    "start_time": "2021-10-09T09:32:14.289Z"
   },
   {
    "duration": 8,
    "start_time": "2021-10-09T09:32:23.440Z"
   },
   {
    "duration": 13,
    "start_time": "2021-10-09T09:32:28.239Z"
   },
   {
    "duration": 10,
    "start_time": "2021-10-09T09:32:35.598Z"
   },
   {
    "duration": 6,
    "start_time": "2021-10-09T09:32:41.096Z"
   },
   {
    "duration": 11,
    "start_time": "2021-10-09T09:32:43.090Z"
   },
   {
    "duration": 3,
    "start_time": "2021-10-09T09:32:48.302Z"
   },
   {
    "duration": 29,
    "start_time": "2021-10-09T09:32:48.811Z"
   },
   {
    "duration": 6,
    "start_time": "2021-10-09T09:32:53.142Z"
   },
   {
    "duration": 5,
    "start_time": "2021-10-09T09:32:53.410Z"
   },
   {
    "duration": 9,
    "start_time": "2021-10-09T09:32:54.460Z"
   },
   {
    "duration": 17,
    "start_time": "2021-10-09T09:33:15.098Z"
   },
   {
    "duration": 5558,
    "start_time": "2021-10-09T09:33:41.625Z"
   },
   {
    "duration": 5,
    "start_time": "2021-10-09T09:33:54.856Z"
   },
   {
    "duration": 18,
    "start_time": "2021-10-09T09:33:57.854Z"
   },
   {
    "duration": 30,
    "start_time": "2021-10-09T09:34:09.284Z"
   },
   {
    "duration": 13,
    "start_time": "2021-10-09T09:34:10.195Z"
   },
   {
    "duration": 8,
    "start_time": "2021-10-09T09:34:10.432Z"
   },
   {
    "duration": 7,
    "start_time": "2021-10-09T09:34:14.487Z"
   },
   {
    "duration": 6,
    "start_time": "2021-10-09T09:34:14.844Z"
   },
   {
    "duration": 17,
    "start_time": "2021-10-09T09:34:15.483Z"
   },
   {
    "duration": 8,
    "start_time": "2021-10-09T09:34:37.833Z"
   },
   {
    "duration": 4,
    "start_time": "2021-10-09T09:44:17.425Z"
   },
   {
    "duration": 4,
    "start_time": "2021-10-09T09:44:18.324Z"
   },
   {
    "duration": 10,
    "start_time": "2021-10-09T09:44:22.366Z"
   },
   {
    "duration": 4,
    "start_time": "2021-10-09T09:45:53.461Z"
   },
   {
    "duration": 3,
    "start_time": "2021-10-09T09:45:54.329Z"
   },
   {
    "duration": 11,
    "start_time": "2021-10-09T09:45:55.287Z"
   },
   {
    "duration": 4,
    "start_time": "2021-10-09T09:46:35.212Z"
   },
   {
    "duration": 4,
    "start_time": "2021-10-09T09:46:36.130Z"
   },
   {
    "duration": 10,
    "start_time": "2021-10-09T09:46:37.127Z"
   },
   {
    "duration": 102,
    "start_time": "2021-10-09T09:48:42.574Z"
   },
   {
    "duration": 80,
    "start_time": "2021-10-09T09:49:01.003Z"
   },
   {
    "duration": 5,
    "start_time": "2021-10-09T09:49:16.302Z"
   },
   {
    "duration": 319,
    "start_time": "2021-10-09T09:49:17.502Z"
   },
   {
    "duration": 3,
    "start_time": "2021-10-09T09:50:54.761Z"
   },
   {
    "duration": 7,
    "start_time": "2021-10-09T09:50:55.716Z"
   },
   {
    "duration": 4,
    "start_time": "2021-10-09T09:51:23.348Z"
   },
   {
    "duration": 3,
    "start_time": "2021-10-09T09:51:24.191Z"
   },
   {
    "duration": 6,
    "start_time": "2021-10-09T09:51:25.109Z"
   },
   {
    "duration": 4,
    "start_time": "2021-10-09T09:53:06.339Z"
   },
   {
    "duration": 4,
    "start_time": "2021-10-09T09:53:07.993Z"
   },
   {
    "duration": 6,
    "start_time": "2021-10-09T09:53:09.078Z"
   },
   {
    "duration": 4,
    "start_time": "2021-10-09T09:53:26.686Z"
   },
   {
    "duration": 4,
    "start_time": "2021-10-09T09:53:27.565Z"
   },
   {
    "duration": 7,
    "start_time": "2021-10-09T09:53:28.655Z"
   },
   {
    "duration": 32,
    "start_time": "2021-10-09T09:53:55.285Z"
   },
   {
    "duration": 8,
    "start_time": "2021-10-09T09:53:56.860Z"
   },
   {
    "duration": 8,
    "start_time": "2021-10-09T09:53:57.078Z"
   },
   {
    "duration": 5,
    "start_time": "2021-10-09T09:53:57.470Z"
   },
   {
    "duration": 10,
    "start_time": "2021-10-09T09:53:58.159Z"
   },
   {
    "duration": 16,
    "start_time": "2021-10-09T09:53:58.371Z"
   },
   {
    "duration": 11,
    "start_time": "2021-10-09T09:53:58.779Z"
   },
   {
    "duration": 9,
    "start_time": "2021-10-09T09:53:58.974Z"
   },
   {
    "duration": 5,
    "start_time": "2021-10-09T09:54:00.664Z"
   },
   {
    "duration": 5,
    "start_time": "2021-10-09T09:54:01.848Z"
   },
   {
    "duration": 347,
    "start_time": "2021-10-09T09:54:03.921Z"
   },
   {
    "duration": 11,
    "start_time": "2021-10-09T09:54:18.275Z"
   },
   {
    "duration": 353,
    "start_time": "2021-10-09T09:54:26.761Z"
   },
   {
    "duration": 8,
    "start_time": "2021-10-09T09:54:33.252Z"
   },
   {
    "duration": 5,
    "start_time": "2021-10-09T09:54:34.552Z"
   },
   {
    "duration": 11,
    "start_time": "2021-10-09T09:54:35.721Z"
   },
   {
    "duration": 253,
    "start_time": "2021-10-09T09:54:54.110Z"
   },
   {
    "duration": 3,
    "start_time": "2021-10-09T09:55:05.094Z"
   },
   {
    "duration": 289,
    "start_time": "2021-10-09T09:55:11.511Z"
   },
   {
    "duration": 4,
    "start_time": "2021-10-09T09:55:33.151Z"
   },
   {
    "duration": 4,
    "start_time": "2021-10-09T09:55:33.953Z"
   },
   {
    "duration": 5,
    "start_time": "2021-10-09T09:55:34.961Z"
   },
   {
    "duration": 13,
    "start_time": "2021-10-09T09:55:35.874Z"
   },
   {
    "duration": 31,
    "start_time": "2021-10-09T09:56:46.414Z"
   },
   {
    "duration": 11,
    "start_time": "2021-10-09T09:56:46.870Z"
   },
   {
    "duration": 8,
    "start_time": "2021-10-09T09:56:47.059Z"
   },
   {
    "duration": 5,
    "start_time": "2021-10-09T09:56:47.437Z"
   },
   {
    "duration": 8,
    "start_time": "2021-10-09T09:56:47.831Z"
   },
   {
    "duration": 17,
    "start_time": "2021-10-09T09:56:48.059Z"
   },
   {
    "duration": 242,
    "start_time": "2021-10-09T09:56:54.694Z"
   },
   {
    "duration": 4,
    "start_time": "2021-10-09T09:57:06.988Z"
   },
   {
    "duration": 234,
    "start_time": "2021-10-09T09:57:08.444Z"
   },
   {
    "duration": 5,
    "start_time": "2021-10-09T09:57:43.238Z"
   },
   {
    "duration": 4,
    "start_time": "2021-10-09T09:57:44.163Z"
   },
   {
    "duration": 4,
    "start_time": "2021-10-09T09:57:44.876Z"
   },
   {
    "duration": 12,
    "start_time": "2021-10-09T09:57:48.849Z"
   },
   {
    "duration": 29,
    "start_time": "2021-10-09T10:13:29.497Z"
   },
   {
    "duration": 9,
    "start_time": "2021-10-09T10:13:30.107Z"
   },
   {
    "duration": 8,
    "start_time": "2021-10-09T10:13:30.303Z"
   },
   {
    "duration": 5,
    "start_time": "2021-10-09T10:13:40.682Z"
   },
   {
    "duration": 6,
    "start_time": "2021-10-09T10:13:46.348Z"
   },
   {
    "duration": 4,
    "start_time": "2021-10-09T10:14:10.505Z"
   },
   {
    "duration": 6,
    "start_time": "2021-10-09T10:14:11.479Z"
   },
   {
    "duration": 30,
    "start_time": "2021-10-09T10:14:18.579Z"
   },
   {
    "duration": 9,
    "start_time": "2021-10-09T10:14:19.020Z"
   },
   {
    "duration": 9,
    "start_time": "2021-10-09T10:14:19.209Z"
   },
   {
    "duration": 263,
    "start_time": "2021-10-09T10:14:25.639Z"
   },
   {
    "duration": 243,
    "start_time": "2021-10-09T10:18:16.568Z"
   },
   {
    "duration": 6,
    "start_time": "2021-10-09T10:43:03.704Z"
   },
   {
    "duration": 11,
    "start_time": "2021-10-09T10:43:06.027Z"
   },
   {
    "duration": 5,
    "start_time": "2021-10-09T10:44:43.830Z"
   },
   {
    "duration": 246,
    "start_time": "2021-10-09T10:45:39.552Z"
   },
   {
    "duration": 10,
    "start_time": "2021-10-09T10:45:58.227Z"
   },
   {
    "duration": 8,
    "start_time": "2021-10-09T10:46:08.435Z"
   },
   {
    "duration": 85,
    "start_time": "2021-10-09T10:49:43.013Z"
   },
   {
    "duration": 3,
    "start_time": "2021-10-09T10:49:48.581Z"
   },
   {
    "duration": 6,
    "start_time": "2021-10-09T10:50:13.524Z"
   },
   {
    "duration": 13,
    "start_time": "2021-10-09T10:50:22.150Z"
   },
   {
    "duration": 4,
    "start_time": "2021-10-09T10:50:44.801Z"
   },
   {
    "duration": 30,
    "start_time": "2021-10-09T10:50:45.372Z"
   },
   {
    "duration": 8,
    "start_time": "2021-10-09T10:50:45.806Z"
   },
   {
    "duration": 8,
    "start_time": "2021-10-09T10:50:46.035Z"
   },
   {
    "duration": 5,
    "start_time": "2021-10-09T10:50:46.452Z"
   },
   {
    "duration": 9,
    "start_time": "2021-10-09T10:50:46.899Z"
   },
   {
    "duration": 17,
    "start_time": "2021-10-09T10:50:47.133Z"
   },
   {
    "duration": 8,
    "start_time": "2021-10-09T10:50:47.588Z"
   },
   {
    "duration": 7,
    "start_time": "2021-10-09T10:50:47.792Z"
   },
   {
    "duration": 5,
    "start_time": "2021-10-09T10:50:48.588Z"
   },
   {
    "duration": 5,
    "start_time": "2021-10-09T10:50:48.774Z"
   },
   {
    "duration": 331,
    "start_time": "2021-10-09T10:50:49.155Z"
   },
   {
    "duration": 4,
    "start_time": "2021-10-09T10:51:08.294Z"
   },
   {
    "duration": 30,
    "start_time": "2021-10-09T10:51:08.763Z"
   },
   {
    "duration": 9,
    "start_time": "2021-10-09T10:51:09.220Z"
   },
   {
    "duration": 9,
    "start_time": "2021-10-09T10:51:09.511Z"
   },
   {
    "duration": 10,
    "start_time": "2021-10-09T10:51:11.088Z"
   },
   {
    "duration": 17,
    "start_time": "2021-10-09T10:51:11.369Z"
   },
   {
    "duration": 7,
    "start_time": "2021-10-09T10:51:12.191Z"
   },
   {
    "duration": 7,
    "start_time": "2021-10-09T10:51:12.963Z"
   },
   {
    "duration": 5,
    "start_time": "2021-10-09T10:51:14.419Z"
   },
   {
    "duration": 5,
    "start_time": "2021-10-09T10:51:14.659Z"
   },
   {
    "duration": 328,
    "start_time": "2021-10-09T10:51:16.134Z"
   },
   {
    "duration": 5,
    "start_time": "2021-10-09T10:51:18.352Z"
   },
   {
    "duration": 6010,
    "start_time": "2021-10-09T10:51:19.503Z"
   },
   {
    "duration": -39736,
    "start_time": "2021-10-09T10:52:05.252Z"
   },
   {
    "duration": -39737,
    "start_time": "2021-10-09T10:52:05.255Z"
   },
   {
    "duration": 6,
    "start_time": "2021-10-09T10:51:33.865Z"
   },
   {
    "duration": 4,
    "start_time": "2021-10-09T10:51:34.651Z"
   },
   {
    "duration": 2893,
    "start_time": "2021-10-09T10:51:36.433Z"
   },
   {
    "duration": 5,
    "start_time": "2021-10-09T10:51:39.866Z"
   },
   {
    "duration": 9,
    "start_time": "2021-10-09T10:51:40.454Z"
   },
   {
    "duration": 9,
    "start_time": "2021-10-09T10:51:42.954Z"
   },
   {
    "duration": 473,
    "start_time": "2021-10-09T10:51:47.569Z"
   },
   {
    "duration": 4,
    "start_time": "2021-10-09T10:51:52.641Z"
   },
   {
    "duration": 5,
    "start_time": "2021-10-09T10:51:53.279Z"
   },
   {
    "duration": 12,
    "start_time": "2021-10-09T10:51:55.220Z"
   },
   {
    "duration": 282,
    "start_time": "2021-10-09T10:54:28.673Z"
   },
   {
    "duration": 290,
    "start_time": "2021-10-09T10:56:22.035Z"
   },
   {
    "duration": 4,
    "start_time": "2021-10-09T12:32:30.023Z"
   },
   {
    "duration": 4,
    "start_time": "2021-10-09T12:32:30.848Z"
   },
   {
    "duration": 12,
    "start_time": "2021-10-09T12:32:31.894Z"
   },
   {
    "duration": 4,
    "start_time": "2021-10-09T13:31:10.726Z"
   },
   {
    "duration": 3195,
    "start_time": "2021-10-09T13:31:26.123Z"
   },
   {
    "duration": 3,
    "start_time": "2021-10-09T13:31:34.925Z"
   },
   {
    "duration": 31,
    "start_time": "2021-10-09T13:31:35.853Z"
   },
   {
    "duration": 8,
    "start_time": "2021-10-09T13:31:36.347Z"
   },
   {
    "duration": 8,
    "start_time": "2021-10-09T13:31:36.573Z"
   },
   {
    "duration": 9,
    "start_time": "2021-10-09T13:31:37.428Z"
   },
   {
    "duration": 16,
    "start_time": "2021-10-09T13:31:37.652Z"
   },
   {
    "duration": 8,
    "start_time": "2021-10-09T13:31:38.058Z"
   },
   {
    "duration": 7,
    "start_time": "2021-10-09T13:31:38.262Z"
   },
   {
    "duration": 5,
    "start_time": "2021-10-09T13:31:39.058Z"
   },
   {
    "duration": 5,
    "start_time": "2021-10-09T13:31:39.250Z"
   },
   {
    "duration": 298,
    "start_time": "2021-10-09T13:31:39.649Z"
   },
   {
    "duration": 4,
    "start_time": "2021-10-09T13:31:40.049Z"
   },
   {
    "duration": 6,
    "start_time": "2021-10-09T13:31:40.294Z"
   },
   {
    "duration": 12,
    "start_time": "2021-10-09T13:31:40.536Z"
   },
   {
    "duration": 3007,
    "start_time": "2021-10-09T13:31:43.225Z"
   },
   {
    "duration": 253,
    "start_time": "2021-10-09T13:35:20.628Z"
   },
   {
    "duration": 15,
    "start_time": "2021-10-09T13:35:41.345Z"
   },
   {
    "duration": 15,
    "start_time": "2021-10-09T13:36:05.601Z"
   },
   {
    "duration": 16,
    "start_time": "2021-10-09T13:43:55.642Z"
   },
   {
    "duration": 4,
    "start_time": "2021-10-09T13:58:50.057Z"
   },
   {
    "duration": 6,
    "start_time": "2021-10-09T13:58:50.939Z"
   },
   {
    "duration": 11,
    "start_time": "2021-10-09T13:59:00.304Z"
   },
   {
    "duration": 2875,
    "start_time": "2021-10-09T14:16:50.057Z"
   },
   {
    "duration": 3033,
    "start_time": "2021-10-09T14:17:27.869Z"
   },
   {
    "duration": 2659,
    "start_time": "2021-10-09T14:17:44.684Z"
   },
   {
    "duration": 2620,
    "start_time": "2021-10-09T14:17:57.015Z"
   },
   {
    "duration": 2570,
    "start_time": "2021-10-09T14:18:19.899Z"
   },
   {
    "duration": 2760,
    "start_time": "2021-10-09T14:18:47.654Z"
   },
   {
    "duration": 2705,
    "start_time": "2021-10-09T14:19:37.296Z"
   },
   {
    "duration": 2572,
    "start_time": "2021-10-09T14:19:55.213Z"
   },
   {
    "duration": 4,
    "start_time": "2021-10-10T04:17:59.016Z"
   },
   {
    "duration": 387,
    "start_time": "2021-10-10T04:20:52.731Z"
   },
   {
    "duration": 1503,
    "start_time": "2021-10-10T04:21:00.193Z"
   },
   {
    "duration": 28,
    "start_time": "2021-10-10T04:21:03.320Z"
   },
   {
    "duration": 10,
    "start_time": "2021-10-10T04:21:04.855Z"
   },
   {
    "duration": 8,
    "start_time": "2021-10-10T04:21:05.463Z"
   },
   {
    "duration": 21,
    "start_time": "2021-10-10T04:21:07.805Z"
   },
   {
    "duration": 9,
    "start_time": "2021-10-10T04:21:10.116Z"
   },
   {
    "duration": 9,
    "start_time": "2021-10-10T04:21:21.392Z"
   },
   {
    "duration": 1494,
    "start_time": "2021-10-10T04:33:41.729Z"
   },
   {
    "duration": 27,
    "start_time": "2021-10-10T04:33:44.497Z"
   },
   {
    "duration": 10,
    "start_time": "2021-10-10T04:33:45.912Z"
   },
   {
    "duration": 8,
    "start_time": "2021-10-10T04:33:46.816Z"
   },
   {
    "duration": 21,
    "start_time": "2021-10-10T04:33:48.248Z"
   },
   {
    "duration": 9,
    "start_time": "2021-10-10T04:33:49.794Z"
   },
   {
    "duration": 5,
    "start_time": "2021-10-10T04:45:42.676Z"
   },
   {
    "duration": 5,
    "start_time": "2021-10-10T04:45:43.596Z"
   },
   {
    "duration": 310,
    "start_time": "2021-10-10T04:45:48.711Z"
   },
   {
    "duration": 4,
    "start_time": "2021-10-10T04:46:10.267Z"
   },
   {
    "duration": 6,
    "start_time": "2021-10-10T04:46:11.126Z"
   },
   {
    "duration": 12,
    "start_time": "2021-10-10T04:46:12.256Z"
   },
   {
    "duration": 2785,
    "start_time": "2021-10-10T04:48:51.904Z"
   },
   {
    "duration": 2743,
    "start_time": "2021-10-10T04:49:24.835Z"
   },
   {
    "duration": 2739,
    "start_time": "2021-10-10T04:49:52.181Z"
   },
   {
    "duration": 1462,
    "start_time": "2021-10-10T04:52:17.907Z"
   },
   {
    "duration": 7,
    "start_time": "2021-10-10T04:52:53.171Z"
   },
   {
    "duration": 500,
    "start_time": "2021-10-10T04:52:54.456Z"
   },
   {
    "duration": 500,
    "start_time": "2021-10-10T04:53:03.701Z"
   },
   {
    "duration": 5,
    "start_time": "2021-10-10T04:53:12.148Z"
   },
   {
    "duration": 6,
    "start_time": "2021-10-10T04:53:12.568Z"
   },
   {
    "duration": 11,
    "start_time": "2021-10-10T04:53:13.016Z"
   },
   {
    "duration": 1482,
    "start_time": "2021-10-10T05:17:14.261Z"
   },
   {
    "duration": 28,
    "start_time": "2021-10-10T05:17:15.746Z"
   },
   {
    "duration": 9,
    "start_time": "2021-10-10T05:17:15.777Z"
   },
   {
    "duration": 8,
    "start_time": "2021-10-10T05:17:15.789Z"
   },
   {
    "duration": 24,
    "start_time": "2021-10-10T05:17:15.800Z"
   },
   {
    "duration": 9,
    "start_time": "2021-10-10T05:17:15.827Z"
   },
   {
    "duration": 5,
    "start_time": "2021-10-10T05:17:15.863Z"
   },
   {
    "duration": 6,
    "start_time": "2021-10-10T05:17:15.872Z"
   },
   {
    "duration": 349,
    "start_time": "2021-10-10T05:17:15.880Z"
   },
   {
    "duration": 5,
    "start_time": "2021-10-10T05:17:16.232Z"
   },
   {
    "duration": 23,
    "start_time": "2021-10-10T05:17:16.240Z"
   },
   {
    "duration": 23,
    "start_time": "2021-10-10T05:17:16.265Z"
   },
   {
    "duration": 2677,
    "start_time": "2021-10-10T05:17:16.291Z"
   },
   {
    "duration": 6,
    "start_time": "2021-10-10T05:17:18.970Z"
   },
   {
    "duration": 429,
    "start_time": "2021-10-10T05:17:18.978Z"
   },
   {
    "duration": 4,
    "start_time": "2021-10-10T05:17:19.409Z"
   },
   {
    "duration": 9,
    "start_time": "2021-10-10T05:17:19.416Z"
   },
   {
    "duration": 36,
    "start_time": "2021-10-10T05:17:19.428Z"
   },
   {
    "duration": 1503,
    "start_time": "2021-10-10T07:00:07.915Z"
   },
   {
    "duration": 32,
    "start_time": "2021-10-10T07:00:09.420Z"
   },
   {
    "duration": 11,
    "start_time": "2021-10-10T07:00:09.455Z"
   },
   {
    "duration": 11,
    "start_time": "2021-10-10T07:00:09.469Z"
   },
   {
    "duration": 22,
    "start_time": "2021-10-10T07:00:09.482Z"
   },
   {
    "duration": 7,
    "start_time": "2021-10-10T07:00:09.507Z"
   },
   {
    "duration": 5,
    "start_time": "2021-10-10T07:00:09.517Z"
   },
   {
    "duration": 5,
    "start_time": "2021-10-10T07:00:09.558Z"
   },
   {
    "duration": 319,
    "start_time": "2021-10-10T07:00:09.566Z"
   },
   {
    "duration": 4,
    "start_time": "2021-10-10T07:00:09.887Z"
   },
   {
    "duration": 13,
    "start_time": "2021-10-10T07:00:09.893Z"
   },
   {
    "duration": 17,
    "start_time": "2021-10-10T07:00:09.909Z"
   },
   {
    "duration": 2577,
    "start_time": "2021-10-10T07:00:09.928Z"
   },
   {
    "duration": 10,
    "start_time": "2021-10-10T07:00:12.509Z"
   },
   {
    "duration": 382,
    "start_time": "2021-10-10T07:00:12.522Z"
   },
   {
    "duration": 4,
    "start_time": "2021-10-10T07:00:12.906Z"
   },
   {
    "duration": 18,
    "start_time": "2021-10-10T07:00:12.913Z"
   },
   {
    "duration": 25,
    "start_time": "2021-10-10T07:00:12.934Z"
   },
   {
    "duration": 13,
    "start_time": "2021-10-10T07:00:19.384Z"
   },
   {
    "duration": 8,
    "start_time": "2021-10-10T07:00:25.660Z"
   },
   {
    "duration": 1031,
    "start_time": "2021-10-10T10:49:35.647Z"
   },
   {
    "duration": 30,
    "start_time": "2021-10-10T10:49:38.079Z"
   },
   {
    "duration": 7,
    "start_time": "2021-10-10T10:49:38.519Z"
   },
   {
    "duration": 5,
    "start_time": "2021-10-10T10:49:38.736Z"
   },
   {
    "duration": 13,
    "start_time": "2021-10-10T10:49:39.736Z"
   },
   {
    "duration": 7,
    "start_time": "2021-10-10T10:49:41.262Z"
   },
   {
    "duration": 3,
    "start_time": "2021-10-10T10:49:43.248Z"
   },
   {
    "duration": 3,
    "start_time": "2021-10-10T10:49:44.232Z"
   },
   {
    "duration": 3,
    "start_time": "2021-10-10T10:49:46.098Z"
   },
   {
    "duration": 5,
    "start_time": "2021-10-10T10:49:58.620Z"
   },
   {
    "duration": 10,
    "start_time": "2021-10-10T10:50:10.227Z"
   },
   {
    "duration": 30,
    "start_time": "2021-10-10T10:50:26.656Z"
   },
   {
    "duration": 29,
    "start_time": "2021-10-10T10:50:29.532Z"
   },
   {
    "duration": 11,
    "start_time": "2021-10-10T10:50:38.663Z"
   },
   {
    "duration": 6,
    "start_time": "2021-10-10T10:51:08.334Z"
   },
   {
    "duration": 6,
    "start_time": "2021-10-10T10:51:09.094Z"
   },
   {
    "duration": 12,
    "start_time": "2021-10-10T10:51:09.662Z"
   },
   {
    "duration": 6,
    "start_time": "2021-10-10T10:51:10.103Z"
   },
   {
    "duration": 3,
    "start_time": "2021-10-10T10:51:11.229Z"
   },
   {
    "duration": 3,
    "start_time": "2021-10-10T10:51:11.700Z"
   },
   {
    "duration": 3,
    "start_time": "2021-10-10T10:51:12.058Z"
   },
   {
    "duration": 6,
    "start_time": "2021-10-10T10:56:50.652Z"
   },
   {
    "duration": 29,
    "start_time": "2021-10-10T11:02:51.658Z"
   },
   {
    "duration": 6,
    "start_time": "2021-10-10T11:02:52.258Z"
   },
   {
    "duration": 6,
    "start_time": "2021-10-10T11:02:52.476Z"
   },
   {
    "duration": 11,
    "start_time": "2021-10-10T11:02:52.882Z"
   },
   {
    "duration": 6,
    "start_time": "2021-10-10T11:02:53.293Z"
   },
   {
    "duration": 3,
    "start_time": "2021-10-10T11:02:54.077Z"
   },
   {
    "duration": 3,
    "start_time": "2021-10-10T11:02:54.264Z"
   },
   {
    "duration": 3,
    "start_time": "2021-10-10T11:02:54.481Z"
   },
   {
    "duration": 183,
    "start_time": "2021-10-10T11:02:55.500Z"
   },
   {
    "duration": 3,
    "start_time": "2021-10-10T11:02:55.882Z"
   },
   {
    "duration": 4,
    "start_time": "2021-10-10T11:02:56.075Z"
   },
   {
    "duration": 7,
    "start_time": "2021-10-10T11:02:56.276Z"
   },
   {
    "duration": 1466,
    "start_time": "2021-10-10T11:02:57.090Z"
   },
   {
    "duration": 1558,
    "start_time": "2021-10-10T11:03:11.666Z"
   },
   {
    "duration": 1585,
    "start_time": "2021-10-10T11:03:20.378Z"
   },
   {
    "duration": 1572,
    "start_time": "2021-10-10T11:03:43.103Z"
   },
   {
    "duration": 1847,
    "start_time": "2021-10-10T11:03:56.024Z"
   },
   {
    "duration": 2846,
    "start_time": "2021-10-10T11:04:21.619Z"
   },
   {
    "duration": 17,
    "start_time": "2021-10-10T11:05:32.071Z"
   },
   {
    "duration": 17,
    "start_time": "2021-10-10T11:05:36.189Z"
   },
   {
    "duration": 12,
    "start_time": "2021-10-10T11:10:48.819Z"
   },
   {
    "duration": 11,
    "start_time": "2021-10-10T11:10:59.869Z"
   },
   {
    "duration": 4,
    "start_time": "2021-10-10T11:18:22.193Z"
   },
   {
    "duration": 209,
    "start_time": "2021-10-10T11:18:23.413Z"
   },
   {
    "duration": 7,
    "start_time": "2021-10-10T11:19:11.209Z"
   },
   {
    "duration": 203,
    "start_time": "2021-10-10T11:19:43.155Z"
   },
   {
    "duration": 3,
    "start_time": "2021-10-10T11:19:43.679Z"
   },
   {
    "duration": 4,
    "start_time": "2021-10-10T11:19:44.617Z"
   },
   {
    "duration": 8,
    "start_time": "2021-10-10T11:19:45.343Z"
   },
   {
    "duration": 3,
    "start_time": "2021-10-10T13:09:05.305Z"
   },
   {
    "duration": 3,
    "start_time": "2021-10-10T13:09:06.164Z"
   },
   {
    "duration": 7,
    "start_time": "2021-10-10T13:09:07.774Z"
   },
   {
    "duration": 1008,
    "start_time": "2021-10-10T13:30:40.872Z"
   },
   {
    "duration": 29,
    "start_time": "2021-10-10T13:30:41.881Z"
   },
   {
    "duration": 14,
    "start_time": "2021-10-10T13:30:41.912Z"
   },
   {
    "duration": 13,
    "start_time": "2021-10-10T13:30:41.928Z"
   },
   {
    "duration": 17,
    "start_time": "2021-10-10T13:30:41.942Z"
   },
   {
    "duration": 15,
    "start_time": "2021-10-10T13:30:41.961Z"
   },
   {
    "duration": 6,
    "start_time": "2021-10-10T13:30:41.977Z"
   },
   {
    "duration": 5,
    "start_time": "2021-10-10T13:30:41.985Z"
   },
   {
    "duration": 6,
    "start_time": "2021-10-10T13:30:41.991Z"
   },
   {
    "duration": 180,
    "start_time": "2021-10-10T13:30:41.998Z"
   },
   {
    "duration": 3,
    "start_time": "2021-10-10T13:30:42.179Z"
   },
   {
    "duration": 8,
    "start_time": "2021-10-10T13:30:42.183Z"
   },
   {
    "duration": 18,
    "start_time": "2021-10-10T13:30:42.193Z"
   },
   {
    "duration": 1596,
    "start_time": "2021-10-10T13:30:42.213Z"
   },
   {
    "duration": 5,
    "start_time": "2021-10-10T13:30:43.811Z"
   },
   {
    "duration": 220,
    "start_time": "2021-10-10T13:30:43.818Z"
   },
   {
    "duration": 5,
    "start_time": "2021-10-10T13:30:44.040Z"
   },
   {
    "duration": 6,
    "start_time": "2021-10-10T13:30:44.047Z"
   },
   {
    "duration": 10,
    "start_time": "2021-10-10T13:30:44.055Z"
   },
   {
    "duration": 1148,
    "start_time": "2022-01-21T02:13:15.460Z"
   },
   {
    "duration": 67,
    "start_time": "2022-01-21T02:13:17.756Z"
   },
   {
    "duration": 6,
    "start_time": "2022-01-21T02:13:18.397Z"
   },
   {
    "duration": 6,
    "start_time": "2022-01-21T02:13:18.681Z"
   },
   {
    "duration": 14,
    "start_time": "2022-01-21T02:13:19.229Z"
   },
   {
    "duration": 6,
    "start_time": "2022-01-21T02:13:19.732Z"
   },
   {
    "duration": 4,
    "start_time": "2022-01-21T02:13:20.803Z"
   },
   {
    "duration": 3,
    "start_time": "2022-01-21T02:13:21.033Z"
   },
   {
    "duration": 190,
    "start_time": "2022-01-21T02:13:21.508Z"
   },
   {
    "duration": 3,
    "start_time": "2022-01-21T02:13:22.013Z"
   },
   {
    "duration": 5,
    "start_time": "2022-01-21T02:13:22.247Z"
   },
   {
    "duration": 8,
    "start_time": "2022-01-21T02:13:22.502Z"
   },
   {
    "duration": 1567,
    "start_time": "2022-01-21T02:13:23.184Z"
   },
   {
    "duration": 3,
    "start_time": "2022-01-21T02:13:24.753Z"
   },
   {
    "duration": 224,
    "start_time": "2022-01-21T02:13:24.758Z"
   },
   {
    "duration": 4,
    "start_time": "2022-01-21T02:13:24.985Z"
   },
   {
    "duration": 5,
    "start_time": "2022-01-21T02:13:24.991Z"
   },
   {
    "duration": 8,
    "start_time": "2022-01-21T02:13:25.057Z"
   }
  ],
  "kernelspec": {
   "display_name": "Python 3",
   "language": "python",
   "name": "python3"
  },
  "language_info": {
   "codemirror_mode": {
    "name": "ipython",
    "version": 3
   },
   "file_extension": ".py",
   "mimetype": "text/x-python",
   "name": "python",
   "nbconvert_exporter": "python",
   "pygments_lexer": "ipython3",
   "version": "3.7.8"
  },
  "toc": {
   "base_numbering": 1,
   "nav_menu": {},
   "number_sections": true,
   "sideBar": true,
   "skip_h1_title": true,
   "title_cell": "Содержание",
   "title_sidebar": "Contents",
   "toc_cell": true,
   "toc_position": {
    "height": "calc(100% - 180px)",
    "left": "10px",
    "top": "150px",
    "width": "165px"
   },
   "toc_section_display": true,
   "toc_window_display": false
  }
 },
 "nbformat": 4,
 "nbformat_minor": 2
}
