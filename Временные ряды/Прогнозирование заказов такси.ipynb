{
 "cells": [
  {
   "cell_type": "markdown",
   "metadata": {
    "toc": true
   },
   "source": [
    "<h1>Содержание<span class=\"tocSkip\"></span></h1>\n",
    "<div class=\"toc\"><ul class=\"toc-item\"><li><span><a href=\"#Подготовка\" data-toc-modified-id=\"Подготовка-1\"><span class=\"toc-item-num\">1&nbsp;&nbsp;</span>Подготовка</a></span><ul class=\"toc-item\"><li><span><a href=\"#Вывод\" data-toc-modified-id=\"Вывод-1.1\"><span class=\"toc-item-num\">1.1&nbsp;&nbsp;</span>Вывод</a></span></li></ul></li><li><span><a href=\"#Анализ\" data-toc-modified-id=\"Анализ-2\"><span class=\"toc-item-num\">2&nbsp;&nbsp;</span>Анализ</a></span><ul class=\"toc-item\"><li><span><a href=\"#Вывод\" data-toc-modified-id=\"Вывод-2.1\"><span class=\"toc-item-num\">2.1&nbsp;&nbsp;</span>Вывод</a></span></li></ul></li><li><span><a href=\"#Обучение\" data-toc-modified-id=\"Обучение-3\"><span class=\"toc-item-num\">3&nbsp;&nbsp;</span>Обучение</a></span><ul class=\"toc-item\"><li><span><a href=\"#Вывод\" data-toc-modified-id=\"Вывод-3.1\"><span class=\"toc-item-num\">3.1&nbsp;&nbsp;</span>Вывод</a></span></li></ul></li><li><span><a href=\"#Тестирование\" data-toc-modified-id=\"Тестирование-4\"><span class=\"toc-item-num\">4&nbsp;&nbsp;</span>Тестирование</a></span><ul class=\"toc-item\"><li><span><a href=\"#Вывод\" data-toc-modified-id=\"Вывод-4.1\"><span class=\"toc-item-num\">4.1&nbsp;&nbsp;</span>Вывод</a></span></li></ul></li><li><span><a href=\"#Чек-лист-проверки\" data-toc-modified-id=\"Чек-лист-проверки-5\"><span class=\"toc-item-num\">5&nbsp;&nbsp;</span>Чек-лист проверки</a></span></li></ul></div>"
   ]
  },
  {
   "cell_type": "markdown",
   "metadata": {},
   "source": [
    "#  Прогнозирование заказов такси"
   ]
  },
  {
   "cell_type": "markdown",
   "metadata": {},
   "source": [
    "Необходимо построить модель предсказания, привлечения количества водителей в зависимости от  периода пиковой нагрузки, т.е. спрогнозировать количество заказов такси на следующий час. \n",
    "Компания «Чётенькое такси» собрала исторические данные о заказах такси в аэропортах. \n",
    "\n",
    "Значение метрики *RMSE* на тестовой выборке должно быть не больше 48.\n",
    "\n",
    "1. Загрузить данные и выполнить их ресемплирование по одному часу.\n",
    "2. Проанализировать данные.\n",
    "3. Обучить разные модели с различными гиперпараметрами. Сделать тестовую выборку размером 10% от исходных данных.\n",
    "4. Проверить данные на тестовой выборке и сделать выводы."
   ]
  },
  {
   "cell_type": "markdown",
   "metadata": {},
   "source": [
    "## Подготовка"
   ]
  },
  {
   "cell_type": "code",
   "execution_count": 1,
   "metadata": {},
   "outputs": [],
   "source": [
    "import warnings\n",
    "warnings.simplefilter(action='ignore')# Игнорировать все предупреждения\n",
    "\n",
    "import pandas as pd\n",
    "import numpy as np\n",
    "\n",
    "import matplotlib.pyplot as plt\n",
    "import seaborn as sns\n",
    "\n",
    "import statsmodels.api as sm\n",
    "from statsmodels.tsa.seasonal import seasonal_decompose\n",
    "\n",
    "from sklearn.model_selection import train_test_split, TimeSeriesSplit, GridSearchCV\n",
    "from sklearn.linear_model import LinearRegression\n",
    "from sklearn.ensemble import RandomForestRegressor\n",
    "from lightgbm import LGBMRegressor\n",
    "\n",
    "from sklearn.metrics import mean_squared_error\n",
    "from sklearn.metrics import make_scorer"
   ]
  },
  {
   "cell_type": "code",
   "execution_count": 2,
   "metadata": {
    "scrolled": true
   },
   "outputs": [
    {
     "data": {
      "text/html": [
       "<div>\n",
       "<style scoped>\n",
       "    .dataframe tbody tr th:only-of-type {\n",
       "        vertical-align: middle;\n",
       "    }\n",
       "\n",
       "    .dataframe tbody tr th {\n",
       "        vertical-align: top;\n",
       "    }\n",
       "\n",
       "    .dataframe thead th {\n",
       "        text-align: right;\n",
       "    }\n",
       "</style>\n",
       "<table border=\"1\" class=\"dataframe\">\n",
       "  <thead>\n",
       "    <tr style=\"text-align: right;\">\n",
       "      <th></th>\n",
       "      <th>num_orders</th>\n",
       "    </tr>\n",
       "    <tr>\n",
       "      <th>datetime</th>\n",
       "      <th></th>\n",
       "    </tr>\n",
       "  </thead>\n",
       "  <tbody>\n",
       "    <tr>\n",
       "      <td>2018-03-01 00:00:00</td>\n",
       "      <td>9</td>\n",
       "    </tr>\n",
       "    <tr>\n",
       "      <td>2018-03-01 00:10:00</td>\n",
       "      <td>14</td>\n",
       "    </tr>\n",
       "    <tr>\n",
       "      <td>2018-03-01 00:20:00</td>\n",
       "      <td>28</td>\n",
       "    </tr>\n",
       "    <tr>\n",
       "      <td>2018-03-01 00:30:00</td>\n",
       "      <td>20</td>\n",
       "    </tr>\n",
       "    <tr>\n",
       "      <td>2018-03-01 00:40:00</td>\n",
       "      <td>32</td>\n",
       "    </tr>\n",
       "  </tbody>\n",
       "</table>\n",
       "</div>"
      ],
      "text/plain": [
       "                     num_orders\n",
       "datetime                       \n",
       "2018-03-01 00:00:00           9\n",
       "2018-03-01 00:10:00          14\n",
       "2018-03-01 00:20:00          28\n",
       "2018-03-01 00:30:00          20\n",
       "2018-03-01 00:40:00          32"
      ]
     },
     "execution_count": 2,
     "metadata": {},
     "output_type": "execute_result"
    }
   ],
   "source": [
    "df_taxi = pd.read_csv('/datasets/taxi.csv', index_col=['datetime'], parse_dates=['datetime'])\n",
    "df_taxi.head()"
   ]
  },
  {
   "cell_type": "code",
   "execution_count": 3,
   "metadata": {
    "scrolled": true
   },
   "outputs": [
    {
     "name": "stdout",
     "output_type": "stream",
     "text": [
      "<class 'pandas.core.frame.DataFrame'>\n",
      "DatetimeIndex: 26496 entries, 2018-03-01 00:00:00 to 2018-08-31 23:50:00\n",
      "Data columns (total 1 columns):\n",
      "num_orders    26496 non-null int64\n",
      "dtypes: int64(1)\n",
      "memory usage: 414.0 KB\n"
     ]
    }
   ],
   "source": [
    "df_taxi.info()"
   ]
  },
  {
   "cell_type": "markdown",
   "metadata": {},
   "source": [
    "Проверим, в хронологическом ли порядке расположены даты и время."
   ]
  },
  {
   "cell_type": "code",
   "execution_count": 4,
   "metadata": {},
   "outputs": [
    {
     "data": {
      "text/plain": [
       "True"
      ]
     },
     "execution_count": 4,
     "metadata": {},
     "output_type": "execute_result"
    }
   ],
   "source": [
    "df_taxi.sort_index(inplace=True)\n",
    "df_taxi.index.is_monotonic"
   ]
  },
  {
   "cell_type": "markdown",
   "metadata": {},
   "source": [
    "is_monotonic=True - в хронологическом"
   ]
  },
  {
   "cell_type": "code",
   "execution_count": 5,
   "metadata": {},
   "outputs": [
    {
     "data": {
      "text/plain": [
       "(Timestamp('2018-03-01 00:00:00'), Timestamp('2018-08-31 23:50:00'))"
      ]
     },
     "execution_count": 5,
     "metadata": {},
     "output_type": "execute_result"
    }
   ],
   "source": [
    "df_taxi.index.min(), df_taxi.index.max()"
   ]
  },
  {
   "cell_type": "markdown",
   "metadata": {},
   "source": [
    "### Вывод"
   ]
  },
  {
   "cell_type": "markdown",
   "metadata": {},
   "source": [
    "В  датасете 26496 строк 1 столбец. \n",
    "\n",
    "Пропуски отсутствуют.\n",
    "\n",
    "В столбце num_orders тип данных int64.\n",
    "\n",
    "Дата была сразу переведена в формат DateTime и помещена в индекс при загрузке исходных данных.\n",
    "\n",
    "Представлен временной период  с 2018-03-01 по 2018-08-31 расположен в хронологическом порядке.\n",
    "\n",
    "Целевой признак: num_orders - количество заказов."
   ]
  },
  {
   "cell_type": "markdown",
   "metadata": {},
   "source": [
    "## Анализ"
   ]
  },
  {
   "cell_type": "markdown",
   "metadata": {},
   "source": [
    "Визуализируем данные"
   ]
  },
  {
   "cell_type": "code",
   "execution_count": 6,
   "metadata": {
    "scrolled": false
   },
   "outputs": [
    {
     "data": {
      "text/plain": [
       "<matplotlib.axes._subplots.AxesSubplot at 0x7fc105e2dc90>"
      ]
     },
     "execution_count": 6,
     "metadata": {},
     "output_type": "execute_result"
    },
    {
     "data": {
      "image/png": "[encoded data removed]",
      "text/plain": [
       "<Figure size 864x432 with 1 Axes>"
      ]
     },
     "metadata": {
      "needs_background": "light"
     },
     "output_type": "display_data"
    }
   ],
   "source": [
    "df_taxi.plot(figsize=(12,6))"
   ]
  },
  {
   "cell_type": "markdown",
   "metadata": {},
   "source": [
    "Исходные данные изменяются раз в 10 минут.\n",
    "Проведем ресемплирование по одному часу."
   ]
  },
  {
   "cell_type": "code",
   "execution_count": 7,
   "metadata": {},
   "outputs": [],
   "source": [
    "df_taxi = df_taxi.resample('1H').sum()"
   ]
  },
  {
   "cell_type": "markdown",
   "metadata": {},
   "source": [
    "Как можно заметить, график имеет яркие выбросы. Посмотрим на данные взависимости от месяца"
   ]
  },
  {
   "cell_type": "code",
   "execution_count": 8,
   "metadata": {},
   "outputs": [],
   "source": [
    "df_taxi_study=df_taxi.copy()"
   ]
  },
  {
   "cell_type": "code",
   "execution_count": 9,
   "metadata": {},
   "outputs": [
    {
     "data": {
      "text/plain": [
       "Text(0.5, 0, 'месяц')"
      ]
     },
     "execution_count": 9,
     "metadata": {},
     "output_type": "execute_result"
    },
    {
     "data": {
      "image/png": "[encoded data removed]",
      "text/plain": [
       "<Figure size 720x504 with 1 Axes>"
      ]
     },
     "metadata": {
      "needs_background": "light"
     },
     "output_type": "display_data"
    }
   ],
   "source": [
    "df_taxi_study['Month'] = df_taxi_study.index.month\n",
    "fig, axes = plt.subplots(figsize=(10, 7), sharex=True)\n",
    "sns.boxplot(data=df_taxi_study, x='Month', y='num_orders')\n",
    "plt.title(\"Диаграмма размаха для каждого месяца\")\n",
    "plt.xlabel(\"месяц\")"
   ]
  },
  {
   "cell_type": "markdown",
   "metadata": {},
   "source": [
    "Можем видеть, как изменяются данные о заказах такси в зависимости от месяца.\n",
    "Каждый месяц характеризуется наличием выбросов, однако среднее для всех месяцев примерно одинаковое."
   ]
  },
  {
   "cell_type": "markdown",
   "metadata": {},
   "source": [
    "Посмотрим на характеристики и гистограмму представленного датафрейма."
   ]
  },
  {
   "cell_type": "code",
   "execution_count": 10,
   "metadata": {
    "scrolled": true
   },
   "outputs": [
    {
     "data": {
      "text/html": [
       "<div>\n",
       "<style scoped>\n",
       "    .dataframe tbody tr th:only-of-type {\n",
       "        vertical-align: middle;\n",
       "    }\n",
       "\n",
       "    .dataframe tbody tr th {\n",
       "        vertical-align: top;\n",
       "    }\n",
       "\n",
       "    .dataframe thead th {\n",
       "        text-align: right;\n",
       "    }\n",
       "</style>\n",
       "<table border=\"1\" class=\"dataframe\">\n",
       "  <thead>\n",
       "    <tr style=\"text-align: right;\">\n",
       "      <th></th>\n",
       "      <th>num_orders</th>\n",
       "    </tr>\n",
       "  </thead>\n",
       "  <tbody>\n",
       "    <tr>\n",
       "      <td>count</td>\n",
       "      <td>4416.000000</td>\n",
       "    </tr>\n",
       "    <tr>\n",
       "      <td>mean</td>\n",
       "      <td>84.422781</td>\n",
       "    </tr>\n",
       "    <tr>\n",
       "      <td>std</td>\n",
       "      <td>45.023853</td>\n",
       "    </tr>\n",
       "    <tr>\n",
       "      <td>min</td>\n",
       "      <td>0.000000</td>\n",
       "    </tr>\n",
       "    <tr>\n",
       "      <td>25%</td>\n",
       "      <td>54.000000</td>\n",
       "    </tr>\n",
       "    <tr>\n",
       "      <td>50%</td>\n",
       "      <td>78.000000</td>\n",
       "    </tr>\n",
       "    <tr>\n",
       "      <td>75%</td>\n",
       "      <td>107.000000</td>\n",
       "    </tr>\n",
       "    <tr>\n",
       "      <td>max</td>\n",
       "      <td>462.000000</td>\n",
       "    </tr>\n",
       "  </tbody>\n",
       "</table>\n",
       "</div>"
      ],
      "text/plain": [
       "        num_orders\n",
       "count  4416.000000\n",
       "mean     84.422781\n",
       "std      45.023853\n",
       "min       0.000000\n",
       "25%      54.000000\n",
       "50%      78.000000\n",
       "75%     107.000000\n",
       "max     462.000000"
      ]
     },
     "execution_count": 10,
     "metadata": {},
     "output_type": "execute_result"
    },
    {
     "data": {
      "image/png": "[encoded data removed]",
      "text/plain": [
       "<Figure size 432x288 with 1 Axes>"
      ]
     },
     "metadata": {
      "needs_background": "light"
     },
     "output_type": "display_data"
    }
   ],
   "source": [
    "df_taxi_describe = df_taxi.describe()\n",
    "df_taxi.hist()\n",
    "df_taxi_describe"
   ]
  },
  {
   "cell_type": "markdown",
   "metadata": {},
   "source": [
    "Среднее равно 14,070463. Данные имеют нормальное распределение с отклонением вправо."
   ]
  },
  {
   "cell_type": "markdown",
   "metadata": {},
   "source": [
    "Расчитаем коэффициент вариации — это величина, используемая в статистике, равная отношению стандартного (среднеквадратичного) отклонения случайной величины к ее математическому ожиданию:\n",
    "\n",
    "CV=(σ/k)∗100,\n",
    "\n",
    "где  σ – среднеквадратическое отклонение случайной величины; \n",
    "      \n",
    "    k- ожидаемое (среднее) значение случайной величины.\n",
    "\n",
    "* если коэффициент вариации меньше 10%, то степень рассеивания данных считается незначительной;\n",
    "* если от 10% до 20% — средней;\n",
    "* больше 20% и меньше или равно 33% — значительной.\n",
    "\n",
    "Если значение коэффициента вариации не превышает 33%, то совокупность считается однородной, а если больше 33%, то – неоднородной."
   ]
  },
  {
   "cell_type": "code",
   "execution_count": 11,
   "metadata": {
    "scrolled": true
   },
   "outputs": [
    {
     "name": "stdout",
     "output_type": "stream",
     "text": [
      "V = 53.33140296285983\n"
     ]
    }
   ],
   "source": [
    "print('V =', df_taxi_describe.num_orders['std']/df_taxi_describe.num_orders['mean']*100)"
   ]
  },
  {
   "cell_type": "markdown",
   "metadata": {},
   "source": [
    "Рассчитанная величина свидетельствует о неоднородности данных о заказах такси в аэропортах, т.к. однородной совокупность считается, если коэффициент вариации меньше 33% (для распределений близких к нормальному), и следовательно данные значительно разбросаны относительно среднего значения."
   ]
  },
  {
   "cell_type": "markdown",
   "metadata": {},
   "source": [
    "Проверим наш ряд на стационарность"
   ]
  },
  {
   "cell_type": "code",
   "execution_count": 12,
   "metadata": {
    "scrolled": true
   },
   "outputs": [
    {
     "name": "stdout",
     "output_type": "stream",
     "text": [
      "adf:  -3.068924289027949\n",
      "p-value:  0.02894005140261345\n",
      "Critical values:  {'1%': -3.431842162413052, '5%': -2.8621993540813637, '10%': -2.567120978470452}\n",
      "единичных корней нет, ряд стационарен\n"
     ]
    }
   ],
   "source": [
    "test = sm.tsa.adfuller(df_taxi['num_orders'])\n",
    "print ('adf: ', test[0] )\n",
    "print ('p-value: ', test[1])\n",
    "print('Critical values: ', test[4])\n",
    "if test[0]> test[4]['5%']: \n",
    "    print ('есть единичные корни, ряд не стационарен')\n",
    "else:\n",
    "    print ('единичных корней нет, ряд стационарен')"
   ]
  },
  {
   "cell_type": "markdown",
   "metadata": {},
   "source": [
    "Исследуем временной ряд на тренды и сезонность"
   ]
  },
  {
   "cell_type": "code",
   "execution_count": 13,
   "metadata": {
    "scrolled": false
   },
   "outputs": [
    {
     "data": {
      "image/png": "[encoded data removed]",
      "text/plain": [
       "<Figure size 432x576 with 3 Axes>"
      ]
     },
     "metadata": {
      "needs_background": "light"
     },
     "output_type": "display_data"
    }
   ],
   "source": [
    "decomposed = seasonal_decompose(df_taxi) \n",
    "\n",
    "plt.figure(figsize=(6, 8))\n",
    "plt.subplot(311)\n",
    "# Чтобы график корректно отобразился, указываем его\n",
    "# оси ax, равными plt.gca() (англ. get current axis,\n",
    "# получить текущие оси)\n",
    "decomposed.trend.plot(ax=plt.gca())\n",
    "plt.title('Trend')\n",
    "plt.subplot(312)\n",
    "decomposed.seasonal.plot(ax=plt.gca())\n",
    "plt.title('Seasonality')\n",
    "plt.subplot(313)\n",
    "decomposed.resid.plot(ax=plt.gca())\n",
    "plt.title('Residuals')\n",
    "plt.tight_layout()"
   ]
  },
  {
   "cell_type": "markdown",
   "metadata": {},
   "source": [
    "Исследуем временной ряд на тренды и сезонность за последние 10 дней выборки."
   ]
  },
  {
   "cell_type": "code",
   "execution_count": 14,
   "metadata": {
    "scrolled": true
   },
   "outputs": [
    {
     "data": {
      "image/png": "[encoded data removed]",
      "text/plain": [
       "<Figure size 432x576 with 3 Axes>"
      ]
     },
     "metadata": {
      "needs_background": "light"
     },
     "output_type": "display_data"
    }
   ],
   "source": [
    "decomposed = seasonal_decompose(df_taxi) \n",
    "plt.figure(figsize=(6, 8))\n",
    "plt.subplot(311)\n",
    "# Чтобы график корректно отобразился, указываем его\n",
    "# оси ax, равными plt.gca() (англ. get current axis,\n",
    "# получить текущие оси)\n",
    "decomposed.trend['2018-08-21':'2018-08-31'].plot(ax=plt.gca())\n",
    "plt.title('Trend')\n",
    "plt.subplot(312)\n",
    "decomposed.seasonal['2018-08-21':'2018-08-31'].plot(ax=plt.gca())\n",
    "plt.title('Seasonality')\n",
    "plt.subplot(313)\n",
    "decomposed.resid['2018-08-21':'2018-08-31'].plot(ax=plt.gca())\n",
    "plt.title('Residuals')\n",
    "plt.tight_layout()"
   ]
  },
  {
   "cell_type": "markdown",
   "metadata": {},
   "source": [
    "Тренд - это общая тенденция - восходящий.\n",
    "\n",
    "Сезонность - влияния периодичности - дневная цикличность. Видим, что частотата заказов возрастает к концу дня. В течение ночи резко убывает и затем начинает снова наростать.\n",
    "\n",
    "Шум - это случайные факторы - присутствуют."
   ]
  },
  {
   "cell_type": "markdown",
   "metadata": {},
   "source": [
    "Посмотрим на степень линейной статистической связи между значениями временного ряда построив автокорреляционную функцию. \n",
    "\n",
    "Функция автокорреляции (ACF). При лаге k это корреляция между рядами значений, отстоящих друг от друга на k интервалов. \n",
    "\n",
    "Функция частной автокорреляции (PACF). При лаге k это корреляция между рядами значений, отстоящих друг от друга на k интервалов, считая значения интервалов в промежутке."
   ]
  },
  {
   "cell_type": "code",
   "execution_count": 15,
   "metadata": {},
   "outputs": [
    {
     "data": {
      "image/png": "[encoded data removed]",
      "text/plain": [
       "<Figure size 864x576 with 2 Axes>"
      ]
     },
     "metadata": {
      "needs_background": "light"
     },
     "output_type": "display_data"
    }
   ],
   "source": [
    "fig = plt.figure(figsize=(12,8))\n",
    "ax1 = fig.add_subplot(211)\n",
    "fig = sm.graphics.tsa.plot_acf(df_taxi['num_orders'].values.squeeze(), lags=25, ax=ax1)\n",
    "ax2 = fig.add_subplot(212)\n",
    "fig = sm.graphics.tsa.plot_pacf(df_taxi['num_orders'], lags=25, ax=ax2)"
   ]
  },
  {
   "cell_type": "markdown",
   "metadata": {},
   "source": [
    "Значения ACF и PACF для лагов 1 и 24 максимальны, говорят о выраженной дневной цикличности  рассматриваемого ряда."
   ]
  },
  {
   "cell_type": "markdown",
   "metadata": {},
   "source": [
    "### Вывод"
   ]
  },
  {
   "cell_type": "markdown",
   "metadata": {},
   "source": [
    "Анализ временного ряда показал, что:\n",
    "* имеются выбросы;\n",
    "* ряд стационарен, но неоднороден;\n",
    "* данные имеют нормальное распределение с отклонением вправо;\n",
    "* тренд - восходящий;\n",
    "* сезонность - присутствует и равна суткам;\n",
    "* максимальные значения ACF и PACF для лагов 1 и 24."
   ]
  },
  {
   "cell_type": "markdown",
   "metadata": {},
   "source": [
    "## Обучение"
   ]
  },
  {
   "cell_type": "markdown",
   "metadata": {},
   "source": [
    "Напишем функцию make_features() (англ. «создать признаки»), чтобы прибавить к таблице четыре новых календарных признака: год, месяц, день и день недели. Имена столбцов должны быть такие: 'year', 'month', 'day', 'dayofweek'.\n",
    "Cнизим колебания во временном ряду, применив скользящее среднее.\n",
    "Скользящее среднее (англ. rolling mean), или движущееся среднее (англ. moving average), — метод сглаживания временных рядов."
   ]
  },
  {
   "cell_type": "code",
   "execution_count": 16,
   "metadata": {},
   "outputs": [],
   "source": [
    "def make_features(data, max_lag, rolling_mean_size):\n",
    "    new_data = data.copy(deep=True)\n",
    "    new_data['year'] = new_data.index.year\n",
    "    new_data['month'] = new_data.index.month\n",
    "    new_data['day'] = new_data.index.day\n",
    "    new_data['dayofweek'] = new_data.index.dayofweek\n",
    "\n",
    "    for i in range(1,max_lag+1):\n",
    "        new_data['lag_{}'.format(i)]=new_data['num_orders'].shift(i)\n",
    "    new_data['rolling_mean']=new_data['num_orders'].shift().rolling(window=rolling_mean_size).mean()\n",
    "    \n",
    "    train, test = train_test_split(new_data, shuffle=False, test_size=0.1)\n",
    "    train = train.dropna()\n",
    "    \n",
    "    X_train = train.drop(['num_orders'], axis=1)\n",
    "    y_train = train['num_orders']\n",
    "    \n",
    "    X_test = test.drop(['num_orders'], axis=1)\n",
    "    y_test = test['num_orders']\n",
    "    \n",
    "    return X_train, y_train, X_test, y_test "
   ]
  },
  {
   "cell_type": "code",
   "execution_count": 17,
   "metadata": {},
   "outputs": [],
   "source": [
    "features_train, target_train, features_test, target_test  = make_features(df_taxi, 168, 168)"
   ]
  },
  {
   "cell_type": "code",
   "execution_count": 18,
   "metadata": {
    "scrolled": true
   },
   "outputs": [
    {
     "name": "stdout",
     "output_type": "stream",
     "text": [
      "2018-03-08 00:00:00 2018-08-13 13:00:00\n",
      "2018-08-13 14:00:00 2018-08-31 23:00:00\n",
      "Размер обучающей выборки: 3806 объектов, 173 признаков\n",
      "Размер тестовой выборки: 442 объектов, 173 признаков\n"
     ]
    }
   ],
   "source": [
    "print(features_train.index.min(), features_train.index.max())\n",
    "print(features_test.index.min(), features_test.index.max())\n",
    "print('Размер обучающей выборки: {} объектов, {} признаков'.format(features_train.shape[0], features_train.shape[1]))\n",
    "print('Размер тестовой выборки: {} объектов, {} признаков'.format(features_test.shape[0], features_test.shape[1]))"
   ]
  },
  {
   "cell_type": "markdown",
   "metadata": {},
   "source": [
    "Напишем функции rmse_scorer и rmse_model, и обучим следующие модели регрессии:\n",
    "* LinearRegression - линейной регрессии\n",
    "* RandomForestRegressor - случайный лес для регрессии\n",
    "* LGBMRegressor - градиентный бустинг и модель линейной регрессии\n",
    "\n",
    "Оценим точность предсказания по метрике RMSE."
   ]
  },
  {
   "cell_type": "code",
   "execution_count": 19,
   "metadata": {},
   "outputs": [],
   "source": [
    "def rmse_scorer(targ, pred):\n",
    "    return (mean_squared_error(targ, pred)** 0.5)\n",
    "\n",
    "my_scorer = make_scorer(rmse_scorer, greater_is_better=False)\n",
    "\n",
    "\n",
    "def rmse_model(model, feat_tr, targ_tr):\n",
    "    model_study = model\n",
    "    model_study.fit(feat_tr, targ_tr)\n",
    "\n",
    "    predicted = model_study.predict(feat_tr) \n",
    "   \n",
    "    RMSE = rmse_scorer (targ_tr, predicted)# квадратный корень из средней квадратичной ошибки\n",
    "\n",
    "    return RMSE"
   ]
  },
  {
   "cell_type": "code",
   "execution_count": 20,
   "metadata": {},
   "outputs": [],
   "source": [
    "rmse_LR = rmse_model(LinearRegression(), features_train, target_train)"
   ]
  },
  {
   "cell_type": "code",
   "execution_count": 21,
   "metadata": {},
   "outputs": [],
   "source": [
    "rmse_RFR = rmse_model(RandomForestRegressor(),  features_train, target_train)"
   ]
  },
  {
   "cell_type": "code",
   "execution_count": 22,
   "metadata": {},
   "outputs": [],
   "source": [
    "rmse_LGBMR = rmse_model(LGBMRegressor(), features_train, target_train)"
   ]
  },
  {
   "cell_type": "code",
   "execution_count": 23,
   "metadata": {},
   "outputs": [
    {
     "data": {
      "text/html": [
       "<div>\n",
       "<style scoped>\n",
       "    .dataframe tbody tr th:only-of-type {\n",
       "        vertical-align: middle;\n",
       "    }\n",
       "\n",
       "    .dataframe tbody tr th {\n",
       "        vertical-align: top;\n",
       "    }\n",
       "\n",
       "    .dataframe thead th {\n",
       "        text-align: right;\n",
       "    }\n",
       "</style>\n",
       "<table border=\"1\" class=\"dataframe\">\n",
       "  <thead>\n",
       "    <tr style=\"text-align: right;\">\n",
       "      <th></th>\n",
       "      <th>Модель</th>\n",
       "      <th>Параметры</th>\n",
       "      <th>RMSE</th>\n",
       "    </tr>\n",
       "  </thead>\n",
       "  <tbody>\n",
       "    <tr>\n",
       "      <td>0</td>\n",
       "      <td>LinearRegression</td>\n",
       "      <td>-</td>\n",
       "      <td>20.328394</td>\n",
       "    </tr>\n",
       "    <tr>\n",
       "      <td>1</td>\n",
       "      <td>RandomForestRegressor</td>\n",
       "      <td>-</td>\n",
       "      <td>9.594511</td>\n",
       "    </tr>\n",
       "    <tr>\n",
       "      <td>2</td>\n",
       "      <td>LGBMRegressor</td>\n",
       "      <td>-</td>\n",
       "      <td>9.195034</td>\n",
       "    </tr>\n",
       "  </tbody>\n",
       "</table>\n",
       "</div>"
      ],
      "text/plain": [
       "                  Модель Параметры       RMSE\n",
       "0       LinearRegression         -  20.328394\n",
       "1  RandomForestRegressor         -   9.594511\n",
       "2          LGBMRegressor         -   9.195034"
      ]
     },
     "execution_count": 23,
     "metadata": {},
     "output_type": "execute_result"
    }
   ],
   "source": [
    "model_train = pd.DataFrame({'Модель': ['LinearRegression','RandomForestRegressor','LGBMRegressor'],\n",
    "                'Параметры': ['-',  '-',  '-'], \n",
    "                'RMSE': [rmse_LR, rmse_RFR, rmse_LGBMR]})\n",
    "model_train"
   ]
  },
  {
   "cell_type": "markdown",
   "metadata": {},
   "source": [
    "Подберем гиперпараметры для  моделей и проверим как изменится метрика RMSE."
   ]
  },
  {
   "cell_type": "code",
   "execution_count": 24,
   "metadata": {},
   "outputs": [],
   "source": [
    "# модели, которые сравниваются\n",
    "models = {\n",
    "     'LinearRegression': LinearRegression(),\n",
    "    'RandomForestRegressor': RandomForestRegressor(),\n",
    "    'LGBMRegressor()': LGBMRegressor() \n",
    "}\n",
    "\n",
    "# параметры оптимизации для каждой из вышеперечисленных моделей\n",
    "params = {\n",
    "       'LinearRegression': {\n",
    "            'fit_intercept':[True, False], \n",
    "            'normalize':[True, False], \n",
    "            'copy_X':[True, False]\n",
    "    },\n",
    "        'RandomForestRegressor':{\n",
    "             'n_estimators': [10, 100, 200], \n",
    "              'max_features': [2, 4, 6, 8],  \n",
    "              'max_depth':[3, 6, 9]\n",
    "    },\n",
    "\n",
    "    'LGBMRegressor()': {\n",
    "         'max_depth': [-1, 3, 5],\n",
    "         'n_estimators': [100, 200]\n",
    "    }\n",
    "}"
   ]
  },
  {
   "cell_type": "code",
   "execution_count": 25,
   "metadata": {},
   "outputs": [],
   "source": [
    "cv = TimeSeriesSplit(n_splits=4) #это вариант k-фолд возврата, , разделение создается только в соответствии с порядком, в котором появляются записи.."
   ]
  },
  {
   "cell_type": "code",
   "execution_count": 26,
   "metadata": {},
   "outputs": [],
   "source": [
    "def fit(train_features, train_actuals):\n",
    "        \"\"\"\n",
    "        fits the list of models to the training data, thereby obtaining in each \n",
    "        case an evaluation score after GridSearchCV cross-validation\n",
    "        \"\"\"\n",
    "\n",
    "        for name in models.keys():\n",
    "            est = models[name]\n",
    "            est_params = params[name]\n",
    "            gscv = GridSearchCV(estimator=est, param_grid=est_params, scoring=my_scorer, \n",
    "                                cv=cv, n_jobs=-1)\n",
    "            gscv.fit(train_actuals, train_features)\n",
    "            print(\"best parameters are: {}\".format(gscv.best_estimator_))"
   ]
  },
  {
   "cell_type": "code",
   "execution_count": 27,
   "metadata": {
    "scrolled": false
   },
   "outputs": [
    {
     "name": "stdout",
     "output_type": "stream",
     "text": [
      "best parameters are: LinearRegression(copy_X=True, fit_intercept=False, n_jobs=None, normalize=True)\n",
      "best parameters are: RandomForestRegressor(bootstrap=True, criterion='mse', max_depth=9,\n",
      "                      max_features=8, max_leaf_nodes=None,\n",
      "                      min_impurity_decrease=0.0, min_impurity_split=None,\n",
      "                      min_samples_leaf=1, min_samples_split=2,\n",
      "                      min_weight_fraction_leaf=0.0, n_estimators=100,\n",
      "                      n_jobs=None, oob_score=False, random_state=None,\n",
      "                      verbose=0, warm_start=False)\n",
      "best parameters are: LGBMRegressor(boosting_type='gbdt', class_weight=None, colsample_bytree=1.0,\n",
      "              importance_type='split', learning_rate=0.1, max_depth=3,\n",
      "              min_child_samples=20, min_child_weight=0.001, min_split_gain=0.0,\n",
      "              n_estimators=100, n_jobs=-1, num_leaves=31, objective=None,\n",
      "              random_state=None, reg_alpha=0.0, reg_lambda=0.0, silent=True,\n",
      "              subsample=1.0, subsample_for_bin=200000, subsample_freq=0)\n"
     ]
    }
   ],
   "source": [
    "fit(target_train, features_train)"
   ]
  },
  {
   "cell_type": "code",
   "execution_count": 28,
   "metadata": {},
   "outputs": [],
   "source": [
    "rmse_LR = rmse_model(LinearRegression(copy_X=True, fit_intercept=False, n_jobs=None, normalize=True), features_train, target_train)"
   ]
  },
  {
   "cell_type": "code",
   "execution_count": 29,
   "metadata": {},
   "outputs": [],
   "source": [
    "rmse_RFR = rmse_model(RandomForestRegressor(bootstrap=True, criterion='mse', max_depth=9,\n",
    "                      max_features=8, max_leaf_nodes=None,\n",
    "                      min_impurity_decrease=0.0, min_impurity_split=None,\n",
    "                      min_samples_leaf=1, min_samples_split=2,\n",
    "                      min_weight_fraction_leaf=0.0, n_estimators=200,\n",
    "                      n_jobs=None, oob_score=False, random_state=None,\n",
    "                      verbose=0, warm_start=False),  features_train, target_train)"
   ]
  },
  {
   "cell_type": "code",
   "execution_count": 30,
   "metadata": {},
   "outputs": [],
   "source": [
    "rmse_LGBMR = rmse_model(LGBMRegressor(boosting_type='gbdt', class_weight=None, colsample_bytree=1.0,\n",
    "              importance_type='split', learning_rate=0.1, max_depth=-1,\n",
    "              min_child_samples=20, min_child_weight=0.001, min_split_gain=0.0,\n",
    "              n_estimators=100, n_jobs=-1, num_leaves=31, objective=None,\n",
    "              random_state=None, reg_alpha=0.0, reg_lambda=0.0, silent=True,\n",
    "              subsample=1.0, subsample_for_bin=200000, subsample_freq=0), features_train, target_train)"
   ]
  },
  {
   "cell_type": "code",
   "execution_count": 31,
   "metadata": {
    "scrolled": true
   },
   "outputs": [
    {
     "data": {
      "text/html": [
       "<div>\n",
       "<style scoped>\n",
       "    .dataframe tbody tr th:only-of-type {\n",
       "        vertical-align: middle;\n",
       "    }\n",
       "\n",
       "    .dataframe tbody tr th {\n",
       "        vertical-align: top;\n",
       "    }\n",
       "\n",
       "    .dataframe thead th {\n",
       "        text-align: right;\n",
       "    }\n",
       "</style>\n",
       "<table border=\"1\" class=\"dataframe\">\n",
       "  <thead>\n",
       "    <tr style=\"text-align: right;\">\n",
       "      <th></th>\n",
       "      <th>Модель</th>\n",
       "      <th>Параметры</th>\n",
       "      <th>RMSE</th>\n",
       "    </tr>\n",
       "  </thead>\n",
       "  <tbody>\n",
       "    <tr>\n",
       "      <td>0</td>\n",
       "      <td>LinearRegression</td>\n",
       "      <td>copy_X=True, fit_intercept=False, n_jobs=None,...</td>\n",
       "      <td>20.344587</td>\n",
       "    </tr>\n",
       "    <tr>\n",
       "      <td>1</td>\n",
       "      <td>RandomForestRegressor</td>\n",
       "      <td>max_depth=9, max_features=8, n_estimators=200</td>\n",
       "      <td>15.651090</td>\n",
       "    </tr>\n",
       "    <tr>\n",
       "      <td>2</td>\n",
       "      <td>LGBMRegressor</td>\n",
       "      <td>max_depth=-1, n_estimators=100</td>\n",
       "      <td>9.195034</td>\n",
       "    </tr>\n",
       "  </tbody>\n",
       "</table>\n",
       "</div>"
      ],
      "text/plain": [
       "                  Модель                                          Параметры  \\\n",
       "0       LinearRegression  copy_X=True, fit_intercept=False, n_jobs=None,...   \n",
       "1  RandomForestRegressor      max_depth=9, max_features=8, n_estimators=200   \n",
       "2          LGBMRegressor                     max_depth=-1, n_estimators=100   \n",
       "\n",
       "        RMSE  \n",
       "0  20.344587  \n",
       "1  15.651090  \n",
       "2   9.195034  "
      ]
     },
     "execution_count": 31,
     "metadata": {},
     "output_type": "execute_result"
    }
   ],
   "source": [
    "model_train_param = pd.DataFrame({'Модель': ['LinearRegression','RandomForestRegressor','LGBMRegressor'],\n",
    "                'Параметры': ['copy_X=True, fit_intercept=False, n_jobs=None, normalize=True',  \n",
    "                              'max_depth=9, max_features=8, n_estimators=200', \n",
    "                              'max_depth=-1, n_estimators=100'], \n",
    "                'RMSE': [rmse_LR, rmse_RFR, rmse_LGBMR]})\n",
    "model_train_param"
   ]
  },
  {
   "cell_type": "markdown",
   "metadata": {},
   "source": [
    "### Вывод"
   ]
  },
  {
   "cell_type": "markdown",
   "metadata": {},
   "source": [
    "Были рассмотрены три модели:  LinearRegression, RandomForestRegressor, LGBMRegressor.\n",
    "Наилучшее значение RMSE = 9.195034 выявлено у  LGBMRegressor, однако после подбора гиперпараметров с помощью GridSearchCV ситуация изменилась.\n",
    "Лучшим показателем RMSE = 9.195034 обладает модель LGBMRegressor с гиперпараметрами: max_depth=-1, n_estimators=100."
   ]
  },
  {
   "cell_type": "markdown",
   "metadata": {},
   "source": [
    "## Тестирование"
   ]
  },
  {
   "cell_type": "markdown",
   "metadata": {},
   "source": [
    "Проведем тестирование лучшей модели с подобранными гиперпараментрами и визуализируем результат."
   ]
  },
  {
   "cell_type": "code",
   "execution_count": 32,
   "metadata": {},
   "outputs": [
    {
     "name": "stdout",
     "output_type": "stream",
     "text": [
      "RMSE: 36.13292175177176\n"
     ]
    }
   ],
   "source": [
    "model = LGBMRegressor(boosting_type='gbdt', class_weight=None, colsample_bytree=1.0,\n",
    "              importance_type='split', learning_rate=0.1, max_depth=-1,\n",
    "              min_child_samples=20, min_child_weight=0.001, min_split_gain=0.0,\n",
    "              n_estimators=100, n_jobs=-1, num_leaves=31, objective=None,\n",
    "              random_state=None, reg_alpha=0.0, reg_lambda=0.0, silent=True,\n",
    "              subsample=1.0, subsample_for_bin=200000, subsample_freq=0)\n",
    "model.fit(features_train, target_train)\n",
    "\n",
    "predicted_test = model.predict(features_test) \n",
    "print('RMSE:', rmse_scorer(target_test, predicted_test))# квадратный корень из средней квадратичной ошибки"
   ]
  },
  {
   "cell_type": "code",
   "execution_count": 33,
   "metadata": {
    "scrolled": true
   },
   "outputs": [
    {
     "data": {
      "image/png": "[encoded data removed]",
      "text/plain": [
       "<Figure size 864x432 with 1 Axes>"
      ]
     },
     "metadata": {
      "needs_background": "light"
     },
     "output_type": "display_data"
    }
   ],
   "source": [
    "plt.figure(figsize=(12, 6))\n",
    "\n",
    "plt.plot(target_test, label='Input data')\n",
    "plt.plot(target_test.index, predicted_test, label='Predict')\n",
    "\n",
    "plt.title('Test prediction')\n",
    "plt.legend()\n",
    "plt.show()"
   ]
  },
  {
   "cell_type": "markdown",
   "metadata": {},
   "source": [
    "### Вывод"
   ]
  },
  {
   "cell_type": "markdown",
   "metadata": {},
   "source": [
    "В работе проанализирован ресемплированый  по 1 часу временной ряд заказов такси в аэропортах.\n",
    "Показано, что:\n",
    "* имеются выбросы;\n",
    "* ряд стационарен, но неоднороден;\n",
    "* данные имеют нормальное распределение с отклонением вправо;\n",
    "* тренд - восходящий;\n",
    "* сезонность - присутствует и равна суткам;\n",
    "* максимальные значения ACF и PACF для лагов 1 и 24.\n",
    "\n",
    "Из трех рассматриваемых моделей: LinearRegression, RandomForestRegressor, LGBMRegressor выбрана одна модель имеющая наилучший показатель метрики RMSE = 2.059239 на обучающей выборке после подбора гиперпараметров, равными max_depth=-1, n_estimators=100 - LGBMRegressor.\n",
    "\n",
    "На тестовых данных у модели LGBMRegressor метрика RMSE имеет значение  36.13292175177176, что не превышает определенного заданием порога 48."
   ]
  },
  {
   "cell_type": "markdown",
   "metadata": {},
   "source": [
    "## Чек-лист проверки"
   ]
  },
  {
   "cell_type": "markdown",
   "metadata": {},
   "source": [
    "- [x]  Jupyter Notebook открыт\n",
    "- [x]  Весь код выполняется без ошибок\n",
    "- [x]  Ячейки с кодом расположены в порядке исполнения\n",
    "- [x]  Данные загружены и подготовлены\n",
    "- [x]  Данные проанализированы\n",
    "- [x]  Модель обучена, гиперпараметры подобраны\n",
    "- [x]  Качество моделей проверено, выводы сделаны\n",
    "- [x]  Значение *RMSE* на тестовой выборке не больше 48"
   ]
  }
 ],
 "metadata": {
  "ExecuteTimeLog": [
   {
    "duration": 782,
    "start_time": "2021-09-07T03:36:55.748Z"
   },
   {
    "duration": 40,
    "start_time": "2021-09-07T03:36:57.831Z"
   },
   {
    "duration": 25,
    "start_time": "2021-09-07T03:37:02.467Z"
   },
   {
    "duration": 10,
    "start_time": "2021-09-07T03:37:15.724Z"
   },
   {
    "duration": 6912,
    "start_time": "2021-09-07T05:56:14.451Z"
   },
   {
    "duration": 49,
    "start_time": "2021-09-07T05:56:33.501Z"
   },
   {
    "duration": 59,
    "start_time": "2021-09-07T05:56:46.240Z"
   },
   {
    "duration": 14,
    "start_time": "2021-09-07T05:56:59.359Z"
   },
   {
    "duration": 76,
    "start_time": "2021-09-07T05:57:16.652Z"
   },
   {
    "duration": 13,
    "start_time": "2021-09-07T05:57:17.748Z"
   },
   {
    "duration": 6,
    "start_time": "2021-09-07T05:58:28.255Z"
   },
   {
    "duration": 187,
    "start_time": "2021-09-07T05:59:57.736Z"
   },
   {
    "duration": 3,
    "start_time": "2021-09-07T06:00:38.839Z"
   },
   {
    "duration": 70,
    "start_time": "2021-09-07T06:00:42.359Z"
   },
   {
    "duration": 57,
    "start_time": "2021-09-07T06:01:22.855Z"
   },
   {
    "duration": 11,
    "start_time": "2021-09-07T06:01:37.085Z"
   },
   {
    "duration": 69,
    "start_time": "2021-09-07T06:01:38.306Z"
   },
   {
    "duration": 450,
    "start_time": "2021-09-07T06:02:09.602Z"
   },
   {
    "duration": 10,
    "start_time": "2021-09-07T06:03:11.826Z"
   },
   {
    "duration": 3,
    "start_time": "2021-09-07T06:03:15.637Z"
   },
   {
    "duration": 61,
    "start_time": "2021-09-07T06:03:16.596Z"
   },
   {
    "duration": 6485,
    "start_time": "2021-09-07T06:03:28.601Z"
   },
   {
    "duration": 5,
    "start_time": "2021-09-07T06:03:45.468Z"
   },
   {
    "duration": 6711,
    "start_time": "2021-09-07T06:03:46.608Z"
   },
   {
    "duration": 6717,
    "start_time": "2021-09-07T06:04:20.691Z"
   },
   {
    "duration": 102,
    "start_time": "2021-09-07T06:04:34.745Z"
   },
   {
    "duration": 7,
    "start_time": "2021-09-07T06:04:58.014Z"
   },
   {
    "duration": 10,
    "start_time": "2021-09-07T06:05:01.324Z"
   },
   {
    "duration": 6270,
    "start_time": "2021-09-07T06:08:30.154Z"
   },
   {
    "duration": 42,
    "start_time": "2021-09-07T06:08:44.088Z"
   },
   {
    "duration": 6517,
    "start_time": "2021-09-07T06:09:03.580Z"
   },
   {
    "duration": 53,
    "start_time": "2021-09-07T06:09:23.049Z"
   },
   {
    "duration": 48,
    "start_time": "2021-09-07T06:09:41.372Z"
   },
   {
    "duration": 56,
    "start_time": "2021-09-07T06:10:12.032Z"
   },
   {
    "duration": 3,
    "start_time": "2021-09-07T06:10:17.865Z"
   },
   {
    "duration": 6,
    "start_time": "2021-09-07T06:10:21.278Z"
   },
   {
    "duration": 10,
    "start_time": "2021-09-07T06:10:25.278Z"
   },
   {
    "duration": 946,
    "start_time": "2021-09-07T06:10:43.738Z"
   },
   {
    "duration": 421,
    "start_time": "2021-09-07T06:11:45.490Z"
   },
   {
    "duration": 12,
    "start_time": "2021-09-07T06:11:53.090Z"
   },
   {
    "duration": 489,
    "start_time": "2021-09-07T06:12:03.385Z"
   },
   {
    "duration": 11,
    "start_time": "2021-09-07T06:12:46.279Z"
   },
   {
    "duration": 490,
    "start_time": "2021-09-07T06:12:47.770Z"
   },
   {
    "duration": 374,
    "start_time": "2021-09-07T06:17:09.778Z"
   },
   {
    "duration": 512,
    "start_time": "2021-09-07T06:17:30.283Z"
   },
   {
    "duration": 1629,
    "start_time": "2021-09-07T06:17:31.757Z"
   },
   {
    "duration": 1789,
    "start_time": "2021-09-07T06:18:41.305Z"
   },
   {
    "duration": 6336,
    "start_time": "2021-09-07T06:19:46.059Z"
   },
   {
    "duration": 7535,
    "start_time": "2021-09-07T06:20:14.710Z"
   },
   {
    "duration": 572,
    "start_time": "2021-09-07T06:20:41.445Z"
   },
   {
    "duration": 613,
    "start_time": "2021-09-07T06:21:45.647Z"
   },
   {
    "duration": 2333,
    "start_time": "2021-09-07T06:24:25.767Z"
   },
   {
    "duration": 1055,
    "start_time": "2021-09-07T06:27:12.645Z"
   },
   {
    "duration": 1270,
    "start_time": "2021-09-07T06:29:09.765Z"
   },
   {
    "duration": 4,
    "start_time": "2021-09-07T06:30:00.900Z"
   },
   {
    "duration": 50,
    "start_time": "2021-09-07T06:30:01.779Z"
   },
   {
    "duration": 9,
    "start_time": "2021-09-07T06:30:09.394Z"
   },
   {
    "duration": 5,
    "start_time": "2021-09-07T06:30:14.993Z"
   },
   {
    "duration": 9,
    "start_time": "2021-09-07T06:30:18.580Z"
   },
   {
    "duration": 1961,
    "start_time": "2021-09-07T06:30:23.841Z"
   },
   {
    "duration": 1130,
    "start_time": "2021-09-07T06:30:41.351Z"
   },
   {
    "duration": 13,
    "start_time": "2021-09-07T06:30:54.188Z"
   },
   {
    "duration": 466,
    "start_time": "2021-09-07T06:30:55.603Z"
   },
   {
    "duration": 11,
    "start_time": "2021-09-07T06:31:10.505Z"
   },
   {
    "duration": 1741,
    "start_time": "2021-09-07T06:31:11.779Z"
   },
   {
    "duration": 550,
    "start_time": "2021-09-07T06:31:16.030Z"
   },
   {
    "duration": 610,
    "start_time": "2021-09-07T06:31:20.016Z"
   },
   {
    "duration": 580,
    "start_time": "2021-09-07T09:08:33.142Z"
   },
   {
    "duration": 39,
    "start_time": "2021-09-07T09:08:34.220Z"
   },
   {
    "duration": 2,
    "start_time": "2021-09-07T09:08:38.347Z"
   },
   {
    "duration": 10,
    "start_time": "2021-09-07T09:08:39.213Z"
   },
   {
    "duration": 4,
    "start_time": "2021-09-07T09:08:42.415Z"
   },
   {
    "duration": 7,
    "start_time": "2021-09-07T09:08:47.282Z"
   },
   {
    "duration": 267,
    "start_time": "2021-09-07T09:09:12.382Z"
   },
   {
    "duration": 307,
    "start_time": "2021-09-07T09:09:31.360Z"
   },
   {
    "duration": 331,
    "start_time": "2021-09-07T09:09:49.726Z"
   },
   {
    "duration": 202,
    "start_time": "2021-09-07T09:09:56.941Z"
   },
   {
    "duration": 202,
    "start_time": "2021-09-07T09:10:16.734Z"
   },
   {
    "duration": 239,
    "start_time": "2021-09-07T09:10:22.121Z"
   },
   {
    "duration": 126,
    "start_time": "2021-09-07T09:10:36.685Z"
   },
   {
    "duration": 238,
    "start_time": "2021-09-07T09:10:43.130Z"
   },
   {
    "duration": 246,
    "start_time": "2021-09-07T09:11:07.764Z"
   },
   {
    "duration": 180,
    "start_time": "2021-09-07T09:11:13.159Z"
   },
   {
    "duration": 241,
    "start_time": "2021-09-07T09:11:38.251Z"
   },
   {
    "duration": 178,
    "start_time": "2021-09-07T09:11:39.555Z"
   },
   {
    "duration": 2,
    "start_time": "2021-09-07T09:11:46.836Z"
   },
   {
    "duration": 37,
    "start_time": "2021-09-07T09:11:47.525Z"
   },
   {
    "duration": 2,
    "start_time": "2021-09-07T09:11:47.907Z"
   },
   {
    "duration": 7,
    "start_time": "2021-09-07T09:11:48.251Z"
   },
   {
    "duration": 4,
    "start_time": "2021-09-07T09:11:48.872Z"
   },
   {
    "duration": 7,
    "start_time": "2021-09-07T09:11:49.889Z"
   },
   {
    "duration": 263,
    "start_time": "2021-09-07T09:11:50.822Z"
   },
   {
    "duration": 203,
    "start_time": "2021-09-07T09:11:55.575Z"
   },
   {
    "duration": 2,
    "start_time": "2021-09-07T09:12:06.150Z"
   },
   {
    "duration": 38,
    "start_time": "2021-09-07T09:12:06.398Z"
   },
   {
    "duration": 2,
    "start_time": "2021-09-07T09:12:06.650Z"
   },
   {
    "duration": 6,
    "start_time": "2021-09-07T09:12:06.908Z"
   },
   {
    "duration": 4,
    "start_time": "2021-09-07T09:12:07.365Z"
   },
   {
    "duration": 7,
    "start_time": "2021-09-07T09:12:07.809Z"
   },
   {
    "duration": 400,
    "start_time": "2021-09-07T09:12:08.747Z"
   },
   {
    "duration": 194,
    "start_time": "2021-09-07T09:12:13.693Z"
   },
   {
    "duration": 407,
    "start_time": "2021-09-07T09:22:16.894Z"
   },
   {
    "duration": 1456,
    "start_time": "2021-09-07T09:25:52.630Z"
   },
   {
    "duration": 938,
    "start_time": "2021-09-07T09:26:21.032Z"
   },
   {
    "duration": 914,
    "start_time": "2021-09-07T09:26:40.560Z"
   },
   {
    "duration": 942,
    "start_time": "2021-09-07T09:26:48.329Z"
   },
   {
    "duration": 963,
    "start_time": "2021-09-07T09:27:13.216Z"
   },
   {
    "duration": 1072,
    "start_time": "2021-09-07T09:27:18.529Z"
   },
   {
    "duration": 5188,
    "start_time": "2021-09-07T09:28:04.951Z"
   },
   {
    "duration": 5667,
    "start_time": "2021-09-07T09:28:42.089Z"
   },
   {
    "duration": 4556,
    "start_time": "2021-09-07T09:29:48.130Z"
   },
   {
    "duration": 4776,
    "start_time": "2021-09-07T09:30:00.454Z"
   },
   {
    "duration": 196,
    "start_time": "2021-09-07T09:30:18.364Z"
   },
   {
    "duration": 200,
    "start_time": "2021-09-07T09:30:25.805Z"
   },
   {
    "duration": 188,
    "start_time": "2021-09-07T09:30:35.261Z"
   },
   {
    "duration": 149,
    "start_time": "2021-09-07T09:30:49.318Z"
   },
   {
    "duration": 3,
    "start_time": "2021-09-07T09:31:05.608Z"
   },
   {
    "duration": 37,
    "start_time": "2021-09-07T09:31:05.914Z"
   },
   {
    "duration": 3,
    "start_time": "2021-09-07T09:31:06.295Z"
   },
   {
    "duration": 6,
    "start_time": "2021-09-07T09:31:06.906Z"
   },
   {
    "duration": 3,
    "start_time": "2021-09-07T09:31:08.577Z"
   },
   {
    "duration": 7,
    "start_time": "2021-09-07T09:31:11.155Z"
   },
   {
    "duration": 362,
    "start_time": "2021-09-07T09:31:13.013Z"
   },
   {
    "duration": 134,
    "start_time": "2021-09-07T09:31:24.030Z"
   },
   {
    "duration": 7,
    "start_time": "2021-09-07T09:32:42.159Z"
   },
   {
    "duration": 7,
    "start_time": "2021-09-07T09:32:51.625Z"
   },
   {
    "duration": 611,
    "start_time": "2021-09-08T01:46:31.853Z"
   },
   {
    "duration": 50,
    "start_time": "2021-09-08T01:46:33.299Z"
   },
   {
    "duration": 2,
    "start_time": "2021-09-08T01:46:34.440Z"
   },
   {
    "duration": 9,
    "start_time": "2021-09-08T01:46:35.795Z"
   },
   {
    "duration": 4,
    "start_time": "2021-09-08T01:46:39.217Z"
   },
   {
    "duration": 7,
    "start_time": "2021-09-08T01:46:43.488Z"
   },
   {
    "duration": 344,
    "start_time": "2021-09-08T01:46:52.478Z"
   },
   {
    "duration": 201,
    "start_time": "2021-09-08T01:47:00.306Z"
   },
   {
    "duration": 74,
    "start_time": "2021-09-08T01:47:33.251Z"
   },
   {
    "duration": 55,
    "start_time": "2021-09-08T01:47:41.986Z"
   },
   {
    "duration": 4629,
    "start_time": "2021-09-08T01:47:45.405Z"
   },
   {
    "duration": 2,
    "start_time": "2021-09-08T01:47:55.724Z"
   },
   {
    "duration": 174,
    "start_time": "2021-09-08T02:23:41.057Z"
   },
   {
    "duration": 322,
    "start_time": "2021-09-08T02:23:54.966Z"
   },
   {
    "duration": 171,
    "start_time": "2021-09-08T02:24:00.409Z"
   },
   {
    "duration": 5,
    "start_time": "2021-09-08T02:28:21.121Z"
   },
   {
    "duration": 4556,
    "start_time": "2021-09-08T02:32:09.249Z"
   },
   {
    "duration": 4721,
    "start_time": "2021-09-08T02:33:36.293Z"
   },
   {
    "duration": 174,
    "start_time": "2021-09-08T02:34:39.395Z"
   },
   {
    "duration": 4523,
    "start_time": "2021-09-08T02:34:53.369Z"
   },
   {
    "duration": 5,
    "start_time": "2021-09-08T02:35:12.498Z"
   },
   {
    "duration": 186,
    "start_time": "2021-09-08T02:35:24.194Z"
   },
   {
    "duration": 4,
    "start_time": "2021-09-08T02:35:33.393Z"
   },
   {
    "duration": 4,
    "start_time": "2021-09-08T02:35:51.250Z"
   },
   {
    "duration": 3,
    "start_time": "2021-09-08T02:36:04.104Z"
   },
   {
    "duration": 4,
    "start_time": "2021-09-08T02:36:21.986Z"
   },
   {
    "duration": 3,
    "start_time": "2021-09-08T02:37:39.157Z"
   },
   {
    "duration": 54,
    "start_time": "2021-09-08T02:55:31.132Z"
   },
   {
    "duration": 176,
    "start_time": "2021-09-08T02:56:12.538Z"
   },
   {
    "duration": 1203,
    "start_time": "2021-09-08T02:57:02.663Z"
   },
   {
    "duration": 6,
    "start_time": "2021-09-08T03:01:30.339Z"
   },
   {
    "duration": 182,
    "start_time": "2021-09-08T03:01:31.992Z"
   },
   {
    "duration": 187,
    "start_time": "2021-09-08T03:02:03.391Z"
   },
   {
    "duration": 633,
    "start_time": "2021-09-08T03:02:18.724Z"
   },
   {
    "duration": 618,
    "start_time": "2021-09-08T03:02:27.437Z"
   },
   {
    "duration": 3,
    "start_time": "2021-09-08T04:41:29.747Z"
   },
   {
    "duration": 39,
    "start_time": "2021-09-08T04:41:30.524Z"
   },
   {
    "duration": 2,
    "start_time": "2021-09-08T04:41:31.315Z"
   },
   {
    "duration": 7,
    "start_time": "2021-09-08T04:41:32.076Z"
   },
   {
    "duration": 5,
    "start_time": "2021-09-08T04:41:32.948Z"
   },
   {
    "duration": 7,
    "start_time": "2021-09-08T04:41:34.981Z"
   },
   {
    "duration": 4,
    "start_time": "2021-09-08T04:41:36.556Z"
   },
   {
    "duration": 734,
    "start_time": "2021-09-08T04:41:40.130Z"
   },
   {
    "duration": 185,
    "start_time": "2021-09-08T04:41:58.748Z"
   },
   {
    "duration": 185,
    "start_time": "2021-09-08T04:42:28.487Z"
   },
   {
    "duration": 160,
    "start_time": "2021-09-08T04:43:14.798Z"
   },
   {
    "duration": 5,
    "start_time": "2021-09-08T04:56:09.733Z"
   },
   {
    "duration": 389,
    "start_time": "2021-09-08T04:56:10.846Z"
   },
   {
    "duration": 372,
    "start_time": "2021-09-08T04:56:56.052Z"
   },
   {
    "duration": 368,
    "start_time": "2021-09-08T04:57:08.649Z"
   },
   {
    "duration": 7,
    "start_time": "2021-09-08T04:59:08.753Z"
   },
   {
    "duration": 7,
    "start_time": "2021-09-08T05:00:13.224Z"
   },
   {
    "duration": 6,
    "start_time": "2021-09-08T05:01:07.708Z"
   },
   {
    "duration": 6,
    "start_time": "2021-09-08T05:01:25.440Z"
   },
   {
    "duration": 191,
    "start_time": "2021-09-08T05:01:35.106Z"
   },
   {
    "duration": 7,
    "start_time": "2021-09-08T05:01:44.242Z"
   },
   {
    "duration": 66,
    "start_time": "2021-09-08T05:02:55.625Z"
   },
   {
    "duration": 182,
    "start_time": "2021-09-08T05:03:11.965Z"
   },
   {
    "duration": 63,
    "start_time": "2021-09-08T05:05:20.771Z"
   },
   {
    "duration": 914,
    "start_time": "2021-09-08T05:05:45.419Z"
   },
   {
    "duration": 4,
    "start_time": "2021-09-08T05:05:52.316Z"
   },
   {
    "duration": 185,
    "start_time": "2021-09-08T05:05:54.261Z"
   },
   {
    "duration": 5,
    "start_time": "2021-09-08T05:06:05.905Z"
   },
   {
    "duration": 179,
    "start_time": "2021-09-08T05:06:07.910Z"
   },
   {
    "duration": 9,
    "start_time": "2021-09-08T05:06:26.374Z"
   },
   {
    "duration": 5,
    "start_time": "2021-09-08T05:06:42.745Z"
   },
   {
    "duration": 183,
    "start_time": "2021-09-08T05:06:45.621Z"
   },
   {
    "duration": 4,
    "start_time": "2021-09-08T05:06:52.382Z"
   },
   {
    "duration": 193,
    "start_time": "2021-09-08T05:06:54.335Z"
   },
   {
    "duration": 7,
    "start_time": "2021-09-08T05:07:22.024Z"
   },
   {
    "duration": 189,
    "start_time": "2021-09-08T05:07:58.168Z"
   },
   {
    "duration": 180,
    "start_time": "2021-09-08T05:12:26.379Z"
   },
   {
    "duration": 192,
    "start_time": "2021-09-08T05:13:17.862Z"
   },
   {
    "duration": 8,
    "start_time": "2021-09-08T05:13:57.817Z"
   },
   {
    "duration": 2,
    "start_time": "2021-09-08T05:14:07.041Z"
   },
   {
    "duration": 36,
    "start_time": "2021-09-08T05:14:07.367Z"
   },
   {
    "duration": 3,
    "start_time": "2021-09-08T05:14:07.887Z"
   },
   {
    "duration": 7,
    "start_time": "2021-09-08T05:14:08.514Z"
   },
   {
    "duration": 5,
    "start_time": "2021-09-08T05:14:09.011Z"
   },
   {
    "duration": 6,
    "start_time": "2021-09-08T05:14:09.882Z"
   },
   {
    "duration": 4,
    "start_time": "2021-09-08T05:14:10.484Z"
   },
   {
    "duration": 680,
    "start_time": "2021-09-08T05:14:11.394Z"
   },
   {
    "duration": 9,
    "start_time": "2021-09-08T05:14:31.185Z"
   },
   {
    "duration": 208,
    "start_time": "2021-09-08T05:14:39.030Z"
   },
   {
    "duration": 196,
    "start_time": "2021-09-08T05:16:56.934Z"
   },
   {
    "duration": 186,
    "start_time": "2021-09-08T05:19:42.425Z"
   },
   {
    "duration": 5,
    "start_time": "2021-09-08T05:24:41.311Z"
   },
   {
    "duration": 61,
    "start_time": "2021-09-08T05:24:43.954Z"
   },
   {
    "duration": 182,
    "start_time": "2021-09-08T05:25:11.168Z"
   },
   {
    "duration": 857,
    "start_time": "2021-09-08T09:10:34.888Z"
   },
   {
    "duration": 53,
    "start_time": "2021-09-08T09:10:35.748Z"
   },
   {
    "duration": 2,
    "start_time": "2021-09-08T09:10:36.975Z"
   },
   {
    "duration": 15,
    "start_time": "2021-09-08T09:10:37.220Z"
   },
   {
    "duration": 5,
    "start_time": "2021-09-08T09:10:37.433Z"
   },
   {
    "duration": 9,
    "start_time": "2021-09-08T09:10:37.866Z"
   },
   {
    "duration": 6,
    "start_time": "2021-09-08T09:10:38.607Z"
   },
   {
    "duration": 1064,
    "start_time": "2021-09-08T09:10:38.797Z"
   },
   {
    "duration": 720,
    "start_time": "2021-09-08T09:10:39.864Z"
   },
   {
    "duration": 149,
    "start_time": "2021-09-08T09:12:43.157Z"
   },
   {
    "duration": 558,
    "start_time": "2021-09-08T09:12:44.236Z"
   },
   {
    "duration": 434,
    "start_time": "2021-09-08T09:13:05.234Z"
   },
   {
    "duration": 8,
    "start_time": "2021-09-08T09:14:39.667Z"
   },
   {
    "duration": 4,
    "start_time": "2021-09-08T09:16:03.775Z"
   },
   {
    "duration": 54,
    "start_time": "2021-09-08T09:16:04.563Z"
   },
   {
    "duration": 3,
    "start_time": "2021-09-08T09:16:05.322Z"
   },
   {
    "duration": 10,
    "start_time": "2021-09-08T09:16:06.068Z"
   },
   {
    "duration": 6,
    "start_time": "2021-09-08T09:16:06.796Z"
   },
   {
    "duration": 9,
    "start_time": "2021-09-08T09:16:08.960Z"
   },
   {
    "duration": 7,
    "start_time": "2021-09-08T09:16:10.003Z"
   },
   {
    "duration": 8,
    "start_time": "2021-09-08T10:05:48.527Z"
   },
   {
    "duration": 3,
    "start_time": "2021-09-08T10:05:52.854Z"
   },
   {
    "duration": 9,
    "start_time": "2021-09-08T10:05:53.172Z"
   },
   {
    "duration": 5,
    "start_time": "2021-09-08T10:05:55.134Z"
   },
   {
    "duration": 10,
    "start_time": "2021-09-08T10:05:56.851Z"
   },
   {
    "duration": 7,
    "start_time": "2021-09-08T10:05:57.829Z"
   },
   {
    "duration": 6,
    "start_time": "2021-09-08T10:05:58.788Z"
   },
   {
    "duration": 8,
    "start_time": "2021-09-08T10:06:29.424Z"
   },
   {
    "duration": 1107,
    "start_time": "2021-09-08T10:06:43.017Z"
   },
   {
    "duration": 214,
    "start_time": "2021-09-08T10:06:47.132Z"
   },
   {
    "duration": 304,
    "start_time": "2021-09-08T10:06:51.533Z"
   },
   {
    "duration": 5,
    "start_time": "2021-09-08T10:06:56.264Z"
   },
   {
    "duration": 14,
    "start_time": "2021-09-08T10:07:18.420Z"
   },
   {
    "duration": 305,
    "start_time": "2021-09-08T10:07:19.359Z"
   },
   {
    "duration": 8,
    "start_time": "2021-09-08T10:07:29.941Z"
   },
   {
    "duration": 712,
    "start_time": "2021-09-08T10:07:30.992Z"
   },
   {
    "duration": 356,
    "start_time": "2021-09-08T10:07:44.406Z"
   },
   {
    "duration": 1087,
    "start_time": "2021-09-08T10:08:12.614Z"
   },
   {
    "duration": 785,
    "start_time": "2021-09-08T10:08:19.763Z"
   },
   {
    "duration": 7,
    "start_time": "2021-09-08T10:08:30.409Z"
   },
   {
    "duration": 4,
    "start_time": "2021-09-08T10:08:35.295Z"
   },
   {
    "duration": 405,
    "start_time": "2021-09-08T10:08:36.191Z"
   },
   {
    "duration": 445,
    "start_time": "2021-09-08T10:40:02.611Z"
   },
   {
    "duration": 6,
    "start_time": "2021-09-08T10:41:43.852Z"
   },
   {
    "duration": 10,
    "start_time": "2021-09-08T10:41:52.895Z"
   },
   {
    "duration": 344,
    "start_time": "2021-09-08T10:42:38.103Z"
   },
   {
    "duration": 8,
    "start_time": "2021-09-08T10:42:42.086Z"
   },
   {
    "duration": 9,
    "start_time": "2021-09-08T10:42:56.883Z"
   },
   {
    "duration": 18,
    "start_time": "2021-09-08T10:44:31.975Z"
   },
   {
    "duration": 8,
    "start_time": "2021-09-08T10:44:55.581Z"
   },
   {
    "duration": 3,
    "start_time": "2021-09-08T10:45:05.440Z"
   },
   {
    "duration": 50,
    "start_time": "2021-09-08T10:45:06.189Z"
   },
   {
    "duration": 5,
    "start_time": "2021-09-08T10:45:06.675Z"
   },
   {
    "duration": 4,
    "start_time": "2021-09-08T10:45:07.078Z"
   },
   {
    "duration": 10,
    "start_time": "2021-09-08T10:45:07.491Z"
   },
   {
    "duration": 5,
    "start_time": "2021-09-08T10:45:07.865Z"
   },
   {
    "duration": 10,
    "start_time": "2021-09-08T10:45:08.818Z"
   },
   {
    "duration": 18,
    "start_time": "2021-09-08T10:45:09.765Z"
   },
   {
    "duration": 8,
    "start_time": "2021-09-08T10:45:10.314Z"
   },
   {
    "duration": 4,
    "start_time": "2021-09-08T10:45:23.632Z"
   },
   {
    "duration": 55,
    "start_time": "2021-09-08T10:45:24.007Z"
   },
   {
    "duration": 4,
    "start_time": "2021-09-08T10:45:24.385Z"
   },
   {
    "duration": 4,
    "start_time": "2021-09-08T10:45:24.724Z"
   },
   {
    "duration": 10,
    "start_time": "2021-09-08T10:45:25.059Z"
   },
   {
    "duration": 6,
    "start_time": "2021-09-08T10:45:25.375Z"
   },
   {
    "duration": 8,
    "start_time": "2021-09-08T10:45:26.013Z"
   },
   {
    "duration": 24,
    "start_time": "2021-09-08T10:45:26.354Z"
   },
   {
    "duration": 8,
    "start_time": "2021-09-08T10:45:26.662Z"
   },
   {
    "duration": 394,
    "start_time": "2021-09-08T10:45:26.991Z"
   },
   {
    "duration": 4,
    "start_time": "2021-09-08T10:45:53.122Z"
   },
   {
    "duration": 411,
    "start_time": "2021-09-08T10:45:54.122Z"
   },
   {
    "duration": 19,
    "start_time": "2021-09-08T10:46:56.804Z"
   },
   {
    "duration": 8,
    "start_time": "2021-09-08T10:46:59.489Z"
   },
   {
    "duration": 9,
    "start_time": "2021-09-08T10:47:19.257Z"
   },
   {
    "duration": 396,
    "start_time": "2021-09-08T10:47:19.834Z"
   },
   {
    "duration": 29803,
    "start_time": "2021-09-08T10:51:56.463Z"
   },
   {
    "duration": 9,
    "start_time": "2021-09-08T10:55:18.016Z"
   },
   {
    "duration": 357,
    "start_time": "2021-09-08T10:55:27.700Z"
   },
   {
    "duration": 8,
    "start_time": "2021-09-08T10:55:39.835Z"
   },
   {
    "duration": 8,
    "start_time": "2021-09-08T10:55:46.464Z"
   },
   {
    "duration": 10,
    "start_time": "2021-09-08T10:55:57.311Z"
   },
   {
    "duration": 10,
    "start_time": "2021-09-08T10:56:12.309Z"
   },
   {
    "duration": 10,
    "start_time": "2021-09-08T10:57:44.964Z"
   },
   {
    "duration": 9,
    "start_time": "2021-09-08T10:57:52.674Z"
   },
   {
    "duration": 374,
    "start_time": "2021-09-08T10:59:41.370Z"
   },
   {
    "duration": 10,
    "start_time": "2021-09-08T11:00:35.927Z"
   },
   {
    "duration": 10,
    "start_time": "2021-09-08T11:00:46.371Z"
   },
   {
    "duration": 4,
    "start_time": "2021-09-08T11:01:17.552Z"
   },
   {
    "duration": 50,
    "start_time": "2021-09-08T11:01:17.883Z"
   },
   {
    "duration": 4,
    "start_time": "2021-09-08T11:01:19.308Z"
   },
   {
    "duration": 3,
    "start_time": "2021-09-08T11:01:19.685Z"
   },
   {
    "duration": 9,
    "start_time": "2021-09-08T11:01:20.345Z"
   },
   {
    "duration": 5,
    "start_time": "2021-09-08T11:01:21.066Z"
   },
   {
    "duration": 8,
    "start_time": "2021-09-08T11:01:24.012Z"
   },
   {
    "duration": 6,
    "start_time": "2021-09-08T11:01:31.511Z"
   },
   {
    "duration": 978,
    "start_time": "2021-09-08T11:01:32.707Z"
   },
   {
    "duration": 298,
    "start_time": "2021-09-08T11:01:43.960Z"
   },
   {
    "duration": 6,
    "start_time": "2021-09-08T11:02:06.289Z"
   },
   {
    "duration": 203,
    "start_time": "2021-09-08T11:04:23.601Z"
   },
   {
    "duration": 945,
    "start_time": "2021-09-08T11:04:32.083Z"
   },
   {
    "duration": 12,
    "start_time": "2021-09-08T11:04:38.397Z"
   },
   {
    "duration": 288,
    "start_time": "2021-09-08T11:04:38.973Z"
   },
   {
    "duration": 10,
    "start_time": "2021-09-08T11:04:58.978Z"
   },
   {
    "duration": 4,
    "start_time": "2021-09-08T11:05:02.554Z"
   },
   {
    "duration": 2086,
    "start_time": "2021-09-08T11:05:04.775Z"
   },
   {
    "duration": 7,
    "start_time": "2021-09-08T11:05:44.054Z"
   },
   {
    "duration": 850,
    "start_time": "2021-09-08T11:05:45.022Z"
   },
   {
    "duration": 1979,
    "start_time": "2021-09-08T11:07:03.666Z"
   },
   {
    "duration": 11,
    "start_time": "2021-09-08T11:07:41.425Z"
   },
   {
    "duration": 281,
    "start_time": "2021-09-08T11:07:42.276Z"
   },
   {
    "duration": 9,
    "start_time": "2021-09-08T11:07:49.550Z"
   },
   {
    "duration": 1524,
    "start_time": "2021-09-08T11:07:50.762Z"
   },
   {
    "duration": 573,
    "start_time": "2021-09-08T11:07:57.143Z"
   },
   {
    "duration": 556,
    "start_time": "2021-09-08T11:08:02.283Z"
   },
   {
    "duration": 726,
    "start_time": "2021-09-08T11:17:56.165Z"
   },
   {
    "duration": 10058,
    "start_time": "2021-09-08T11:18:16.313Z"
   },
   {
    "duration": 5892,
    "start_time": "2021-09-08T11:22:17.060Z"
   },
   {
    "duration": 437,
    "start_time": "2021-09-08T11:22:25.845Z"
   },
   {
    "duration": 4,
    "start_time": "2021-09-08T13:37:12.922Z"
   },
   {
    "duration": 52,
    "start_time": "2021-09-08T13:37:13.748Z"
   },
   {
    "duration": 10,
    "start_time": "2021-09-08T13:39:29.242Z"
   },
   {
    "duration": 281,
    "start_time": "2021-09-08T13:41:03.629Z"
   },
   {
    "duration": 248,
    "start_time": "2021-09-08T13:41:10.983Z"
   },
   {
    "duration": 762,
    "start_time": "2021-09-08T13:41:21.611Z"
   },
   {
    "duration": 326,
    "start_time": "2021-09-08T13:41:31.836Z"
   },
   {
    "duration": 16,
    "start_time": "2021-09-08T13:42:06.902Z"
   },
   {
    "duration": 469,
    "start_time": "2021-09-08T13:42:49.040Z"
   },
   {
    "duration": 469,
    "start_time": "2021-09-08T13:43:04.969Z"
   },
   {
    "duration": 636,
    "start_time": "2021-09-08T13:44:15.253Z"
   },
   {
    "duration": 1532,
    "start_time": "2021-09-08T13:45:48.683Z"
   },
   {
    "duration": 11380,
    "start_time": "2021-09-08T13:49:44.524Z"
   },
   {
    "duration": 9,
    "start_time": "2021-09-08T13:55:20.046Z"
   },
   {
    "duration": 8581,
    "start_time": "2021-09-08T13:55:35.831Z"
   },
   {
    "duration": 33,
    "start_time": "2021-09-08T13:56:01.115Z"
   },
   {
    "duration": 9,
    "start_time": "2021-09-08T13:56:38.755Z"
   },
   {
    "duration": 529,
    "start_time": "2021-09-08T13:56:47.044Z"
   },
   {
    "duration": 11481,
    "start_time": "2021-09-08T13:58:11.524Z"
   },
   {
    "duration": 9823,
    "start_time": "2021-09-08T13:58:55.085Z"
   },
   {
    "duration": 9006,
    "start_time": "2021-09-08T13:59:35.681Z"
   },
   {
    "duration": 9142,
    "start_time": "2021-09-08T13:59:57.621Z"
   },
   {
    "duration": 9182,
    "start_time": "2021-09-08T14:00:22.687Z"
   },
   {
    "duration": 9254,
    "start_time": "2021-09-08T14:00:55.326Z"
   },
   {
    "duration": 520,
    "start_time": "2021-09-08T14:03:17.528Z"
   },
   {
    "duration": 739,
    "start_time": "2021-09-08T14:03:27.893Z"
   },
   {
    "duration": 554,
    "start_time": "2021-09-08T14:03:37.967Z"
   },
   {
    "duration": 565,
    "start_time": "2021-09-08T14:03:48.314Z"
   },
   {
    "duration": 558,
    "start_time": "2021-09-08T14:04:11.351Z"
   },
   {
    "duration": 563,
    "start_time": "2021-09-08T14:04:22.160Z"
   },
   {
    "duration": 618,
    "start_time": "2021-09-08T14:04:40.564Z"
   },
   {
    "duration": 5,
    "start_time": "2021-09-08T14:08:37.389Z"
   },
   {
    "duration": 666,
    "start_time": "2021-09-08T14:08:40.015Z"
   },
   {
    "duration": 2988,
    "start_time": "2021-09-08T14:08:50.210Z"
   },
   {
    "duration": 1277,
    "start_time": "2021-09-08T14:09:03.457Z"
   },
   {
    "duration": 369,
    "start_time": "2021-09-08T14:09:30.131Z"
   },
   {
    "duration": 2424,
    "start_time": "2021-09-08T14:09:31.171Z"
   },
   {
    "duration": 744,
    "start_time": "2021-09-08T14:09:54.898Z"
   },
   {
    "duration": 659,
    "start_time": "2021-09-08T14:09:57.471Z"
   },
   {
    "duration": 7,
    "start_time": "2021-09-08T14:10:33.602Z"
   },
   {
    "duration": 674,
    "start_time": "2021-09-08T14:10:34.690Z"
   },
   {
    "duration": 4,
    "start_time": "2021-09-08T14:11:03.100Z"
   },
   {
    "duration": 52,
    "start_time": "2021-09-08T14:11:03.448Z"
   },
   {
    "duration": 8,
    "start_time": "2021-09-08T14:11:03.751Z"
   },
   {
    "duration": 6,
    "start_time": "2021-09-08T14:11:04.026Z"
   },
   {
    "duration": 6,
    "start_time": "2021-09-08T14:11:04.586Z"
   },
   {
    "duration": 8,
    "start_time": "2021-09-08T14:11:15.523Z"
   },
   {
    "duration": 3846,
    "start_time": "2021-09-08T14:11:15.932Z"
   },
   {
    "duration": 420,
    "start_time": "2021-09-08T14:13:09.566Z"
   },
   {
    "duration": 13,
    "start_time": "2021-09-08T14:13:24.151Z"
   },
   {
    "duration": 380,
    "start_time": "2021-09-08T14:15:12.143Z"
   },
   {
    "duration": 346,
    "start_time": "2021-09-08T14:15:19.854Z"
   },
   {
    "duration": 9,
    "start_time": "2021-09-08T14:15:38.701Z"
   },
   {
    "duration": 9,
    "start_time": "2021-09-08T14:15:39.960Z"
   },
   {
    "duration": 51,
    "start_time": "2021-09-08T14:17:43.411Z"
   },
   {
    "duration": 1413,
    "start_time": "2021-09-08T14:20:22.432Z"
   },
   {
    "duration": 534,
    "start_time": "2021-09-08T14:21:22.243Z"
   },
   {
    "duration": 512,
    "start_time": "2021-09-08T14:21:39.450Z"
   },
   {
    "duration": 389,
    "start_time": "2021-09-08T14:24:30.712Z"
   },
   {
    "duration": 716,
    "start_time": "2021-09-08T14:24:55.102Z"
   },
   {
    "duration": 414,
    "start_time": "2021-09-08T14:25:40.186Z"
   },
   {
    "duration": 385,
    "start_time": "2021-09-08T14:26:04.804Z"
   },
   {
    "duration": 186,
    "start_time": "2021-09-08T14:26:35.076Z"
   },
   {
    "duration": 6,
    "start_time": "2021-09-08T14:30:18.336Z"
   },
   {
    "duration": 6,
    "start_time": "2021-09-08T14:31:06.963Z"
   },
   {
    "duration": 6,
    "start_time": "2021-09-08T14:31:07.993Z"
   },
   {
    "duration": 663,
    "start_time": "2021-09-09T01:25:06.926Z"
   },
   {
    "duration": 45,
    "start_time": "2021-09-09T01:25:08.271Z"
   },
   {
    "duration": 6,
    "start_time": "2021-09-09T01:25:10.169Z"
   },
   {
    "duration": 5,
    "start_time": "2021-09-09T01:25:10.724Z"
   },
   {
    "duration": 4,
    "start_time": "2021-09-09T01:25:11.904Z"
   },
   {
    "duration": 11,
    "start_time": "2021-09-09T01:25:24.215Z"
   },
   {
    "duration": 441,
    "start_time": "2021-09-09T01:25:27.520Z"
   },
   {
    "duration": 988,
    "start_time": "2021-09-09T01:25:37.876Z"
   },
   {
    "duration": 2,
    "start_time": "2021-09-09T01:25:48.242Z"
   },
   {
    "duration": 41,
    "start_time": "2021-09-09T01:25:48.512Z"
   },
   {
    "duration": 7,
    "start_time": "2021-09-09T01:25:48.894Z"
   },
   {
    "duration": 5,
    "start_time": "2021-09-09T01:25:49.208Z"
   },
   {
    "duration": 4,
    "start_time": "2021-09-09T01:25:49.772Z"
   },
   {
    "duration": 707,
    "start_time": "2021-09-09T01:25:55.203Z"
   },
   {
    "duration": 258,
    "start_time": "2021-09-09T01:25:57.106Z"
   },
   {
    "duration": 4,
    "start_time": "2021-09-09T01:25:58.781Z"
   },
   {
    "duration": 196,
    "start_time": "2021-09-09T01:26:00.530Z"
   },
   {
    "duration": 8,
    "start_time": "2021-09-09T01:26:03.048Z"
   },
   {
    "duration": 173,
    "start_time": "2021-09-09T01:26:04.342Z"
   },
   {
    "duration": 5,
    "start_time": "2021-09-09T01:26:38.056Z"
   },
   {
    "duration": 366,
    "start_time": "2021-09-09T01:26:39.643Z"
   },
   {
    "duration": 1282,
    "start_time": "2021-09-09T01:26:44.851Z"
   },
   {
    "duration": 8515,
    "start_time": "2021-09-09T01:27:03.084Z"
   },
   {
    "duration": 4,
    "start_time": "2021-09-09T01:27:30.889Z"
   },
   {
    "duration": 8714,
    "start_time": "2021-09-09T01:27:34.099Z"
   },
   {
    "duration": 3,
    "start_time": "2021-09-09T01:27:48.774Z"
   },
   {
    "duration": 112,
    "start_time": "2021-09-09T01:27:49.065Z"
   },
   {
    "duration": 6,
    "start_time": "2021-09-09T01:27:49.369Z"
   },
   {
    "duration": 4,
    "start_time": "2021-09-09T01:27:49.909Z"
   },
   {
    "duration": 4,
    "start_time": "2021-09-09T01:27:51.022Z"
   },
   {
    "duration": 8732,
    "start_time": "2021-09-09T01:27:58.383Z"
   },
   {
    "duration": 5,
    "start_time": "2021-09-09T01:28:18.905Z"
   },
   {
    "duration": 38,
    "start_time": "2021-09-09T01:28:19.159Z"
   },
   {
    "duration": 6,
    "start_time": "2021-09-09T01:28:19.376Z"
   },
   {
    "duration": 5,
    "start_time": "2021-09-09T01:28:19.595Z"
   },
   {
    "duration": 5,
    "start_time": "2021-09-09T01:28:20.091Z"
   },
   {
    "duration": 8,
    "start_time": "2021-09-09T01:28:28.075Z"
   },
   {
    "duration": 4,
    "start_time": "2021-09-09T01:28:34.775Z"
   },
   {
    "duration": 8436,
    "start_time": "2021-09-09T01:28:38.653Z"
   },
   {
    "duration": 8526,
    "start_time": "2021-09-09T01:30:14.786Z"
   },
   {
    "duration": 4,
    "start_time": "2021-09-09T01:31:23.138Z"
   },
   {
    "duration": 383,
    "start_time": "2021-09-09T01:31:24.239Z"
   },
   {
    "duration": 8412,
    "start_time": "2021-09-09T01:31:34.415Z"
   },
   {
    "duration": 9133,
    "start_time": "2021-09-09T01:31:53.688Z"
   },
   {
    "duration": 3,
    "start_time": "2021-09-09T01:32:10.725Z"
   },
   {
    "duration": 39,
    "start_time": "2021-09-09T01:32:11.040Z"
   },
   {
    "duration": 7,
    "start_time": "2021-09-09T01:32:11.279Z"
   },
   {
    "duration": 5,
    "start_time": "2021-09-09T01:32:11.514Z"
   },
   {
    "duration": 4,
    "start_time": "2021-09-09T01:32:11.959Z"
   },
   {
    "duration": 730,
    "start_time": "2021-09-09T01:32:23.047Z"
   },
   {
    "duration": 44,
    "start_time": "2021-09-09T01:32:23.778Z"
   },
   {
    "duration": 6,
    "start_time": "2021-09-09T01:32:23.824Z"
   },
   {
    "duration": 3,
    "start_time": "2021-09-09T01:32:23.832Z"
   },
   {
    "duration": 5,
    "start_time": "2021-09-09T01:32:24.093Z"
   },
   {
    "duration": 10,
    "start_time": "2021-09-09T01:32:32.518Z"
   },
   {
    "duration": 427,
    "start_time": "2021-09-09T01:32:49.766Z"
   },
   {
    "duration": 398,
    "start_time": "2021-09-09T01:32:59.346Z"
   },
   {
    "duration": 6,
    "start_time": "2021-09-09T01:33:03.952Z"
   },
   {
    "duration": 1194,
    "start_time": "2021-09-09T01:33:05.277Z"
   },
   {
    "duration": 3,
    "start_time": "2021-09-09T01:33:36.697Z"
   },
   {
    "duration": 43,
    "start_time": "2021-09-09T01:33:36.946Z"
   },
   {
    "duration": 7,
    "start_time": "2021-09-09T01:33:37.121Z"
   },
   {
    "duration": 5,
    "start_time": "2021-09-09T01:33:37.305Z"
   },
   {
    "duration": 4,
    "start_time": "2021-09-09T01:33:37.716Z"
   },
   {
    "duration": 6,
    "start_time": "2021-09-09T01:33:50.341Z"
   },
   {
    "duration": 3587,
    "start_time": "2021-09-09T01:33:51.260Z"
   },
   {
    "duration": 8,
    "start_time": "2021-09-09T01:34:00.514Z"
   },
   {
    "duration": 28,
    "start_time": "2021-09-09T01:34:10.115Z"
   },
   {
    "duration": 29297,
    "start_time": "2021-09-09T01:34:11.084Z"
   },
   {
    "duration": 10,
    "start_time": "2021-09-09T01:34:52.541Z"
   },
   {
    "duration": 6,
    "start_time": "2021-09-09T01:34:54.967Z"
   },
   {
    "duration": 7,
    "start_time": "2021-09-09T01:34:59.948Z"
   },
   {
    "duration": 164,
    "start_time": "2021-09-09T01:35:05.019Z"
   },
   {
    "duration": 4,
    "start_time": "2021-09-09T01:35:07.036Z"
   },
   {
    "duration": 4,
    "start_time": "2021-09-09T01:35:09.795Z"
   },
   {
    "duration": 619,
    "start_time": "2021-09-09T07:28:03.689Z"
   },
   {
    "duration": 41,
    "start_time": "2021-09-09T07:28:04.324Z"
   },
   {
    "duration": 3,
    "start_time": "2021-09-09T07:28:49.582Z"
   },
   {
    "duration": 39,
    "start_time": "2021-09-09T07:28:50.403Z"
   },
   {
    "duration": 248,
    "start_time": "2021-09-09T07:28:52.211Z"
   },
   {
    "duration": 383,
    "start_time": "2021-09-09T07:29:16.997Z"
   },
   {
    "duration": 40,
    "start_time": "2021-09-09T07:29:18.141Z"
   },
   {
    "duration": 561,
    "start_time": "2021-09-09T07:29:19.128Z"
   },
   {
    "duration": 977,
    "start_time": "2021-09-09T07:29:50.939Z"
   },
   {
    "duration": 204,
    "start_time": "2021-09-09T07:32:23.400Z"
   },
   {
    "duration": 186,
    "start_time": "2021-09-09T07:32:41.455Z"
   },
   {
    "duration": 184,
    "start_time": "2021-09-09T07:32:55.807Z"
   },
   {
    "duration": 1414,
    "start_time": "2021-09-10T02:00:38.584Z"
   },
   {
    "duration": 60,
    "start_time": "2021-09-10T02:00:40.960Z"
   },
   {
    "duration": 9,
    "start_time": "2021-09-10T02:01:14.745Z"
   },
   {
    "duration": 6,
    "start_time": "2021-09-10T02:01:19.110Z"
   },
   {
    "duration": 5,
    "start_time": "2021-09-10T02:01:24.247Z"
   },
   {
    "duration": 1013,
    "start_time": "2021-09-10T02:01:30.254Z"
   },
   {
    "duration": 288,
    "start_time": "2021-09-10T02:01:35.991Z"
   },
   {
    "duration": 5,
    "start_time": "2021-09-10T02:01:41.700Z"
   },
   {
    "duration": 1084,
    "start_time": "2021-09-10T02:05:09.870Z"
   },
   {
    "duration": 932,
    "start_time": "2021-09-10T02:06:26.405Z"
   },
   {
    "duration": 831,
    "start_time": "2021-09-10T02:06:44.368Z"
   },
   {
    "duration": 900,
    "start_time": "2021-09-10T02:08:00.324Z"
   },
   {
    "duration": 880,
    "start_time": "2021-09-10T02:08:39.450Z"
   },
   {
    "duration": 808,
    "start_time": "2021-09-10T02:09:32.200Z"
   },
   {
    "duration": 669,
    "start_time": "2021-09-10T02:09:36.152Z"
   },
   {
    "duration": 580,
    "start_time": "2021-09-10T02:09:53.146Z"
   },
   {
    "duration": 544,
    "start_time": "2021-09-10T02:10:07.747Z"
   },
   {
    "duration": 416,
    "start_time": "2021-09-10T02:10:15.621Z"
   },
   {
    "duration": 445,
    "start_time": "2021-09-10T02:12:36.435Z"
   },
   {
    "duration": 451,
    "start_time": "2021-09-10T02:13:01.881Z"
   },
   {
    "duration": 330,
    "start_time": "2021-09-10T02:13:29.088Z"
   },
   {
    "duration": 4,
    "start_time": "2021-09-10T02:14:45.909Z"
   },
   {
    "duration": 443,
    "start_time": "2021-09-10T02:14:53.907Z"
   },
   {
    "duration": 226,
    "start_time": "2021-09-10T02:14:58.980Z"
   },
   {
    "duration": 4,
    "start_time": "2021-09-10T02:15:16.428Z"
   },
   {
    "duration": 48,
    "start_time": "2021-09-10T02:15:16.744Z"
   },
   {
    "duration": 9,
    "start_time": "2021-09-10T02:15:17.068Z"
   },
   {
    "duration": 6,
    "start_time": "2021-09-10T02:15:17.483Z"
   },
   {
    "duration": 6,
    "start_time": "2021-09-10T02:15:18.082Z"
   },
   {
    "duration": 970,
    "start_time": "2021-09-10T02:15:19.128Z"
   },
   {
    "duration": 304,
    "start_time": "2021-09-10T02:15:20.102Z"
   },
   {
    "duration": 5,
    "start_time": "2021-09-10T02:15:20.416Z"
   },
   {
    "duration": 4,
    "start_time": "2021-09-10T02:15:22.423Z"
   },
   {
    "duration": 441,
    "start_time": "2021-09-10T02:15:24.535Z"
   },
   {
    "duration": 206,
    "start_time": "2021-09-10T02:15:26.936Z"
   },
   {
    "duration": 12,
    "start_time": "2021-09-10T02:15:30.867Z"
   },
   {
    "duration": 280,
    "start_time": "2021-09-10T02:15:32.081Z"
   },
   {
    "duration": 7,
    "start_time": "2021-09-10T02:16:19.790Z"
   },
   {
    "duration": 884,
    "start_time": "2021-09-10T02:16:22.392Z"
   },
   {
    "duration": 1386,
    "start_time": "2021-09-10T02:16:57.369Z"
   },
   {
    "duration": 10687,
    "start_time": "2021-09-10T02:17:27.030Z"
   },
   {
    "duration": 8,
    "start_time": "2021-09-10T02:17:57.570Z"
   },
   {
    "duration": 9595,
    "start_time": "2021-09-10T02:18:01.986Z"
   },
   {
    "duration": 9355,
    "start_time": "2021-09-10T02:18:20.556Z"
   },
   {
    "duration": 4,
    "start_time": "2021-09-10T02:19:00.267Z"
   },
   {
    "duration": 54,
    "start_time": "2021-09-10T02:19:00.611Z"
   },
   {
    "duration": 9,
    "start_time": "2021-09-10T02:19:00.972Z"
   },
   {
    "duration": 5,
    "start_time": "2021-09-10T02:19:01.245Z"
   },
   {
    "duration": 5,
    "start_time": "2021-09-10T02:19:01.680Z"
   },
   {
    "duration": 984,
    "start_time": "2021-09-10T02:19:02.413Z"
   },
   {
    "duration": 8,
    "start_time": "2021-09-10T02:19:12.163Z"
   },
   {
    "duration": 10481,
    "start_time": "2021-09-10T02:19:15.700Z"
   },
   {
    "duration": 1057,
    "start_time": "2021-09-10T02:19:49.911Z"
   },
   {
    "duration": 12,
    "start_time": "2021-09-10T02:20:28.395Z"
   },
   {
    "duration": 335,
    "start_time": "2021-09-10T02:20:29.311Z"
   },
   {
    "duration": 20104,
    "start_time": "2021-09-10T02:20:49.209Z"
   },
   {
    "duration": 904,
    "start_time": "2021-09-10T02:21:26.936Z"
   },
   {
    "duration": 5,
    "start_time": "2021-09-10T02:21:49.598Z"
   },
   {
    "duration": 53,
    "start_time": "2021-09-10T02:21:49.988Z"
   },
   {
    "duration": 11,
    "start_time": "2021-09-10T02:21:50.349Z"
   },
   {
    "duration": 6,
    "start_time": "2021-09-10T02:21:50.807Z"
   },
   {
    "duration": 5,
    "start_time": "2021-09-10T02:21:52.738Z"
   },
   {
    "duration": 1197,
    "start_time": "2021-09-10T02:22:08.174Z"
   },
   {
    "duration": 4,
    "start_time": "2021-09-10T02:22:16.429Z"
   },
   {
    "duration": 50,
    "start_time": "2021-09-10T02:22:16.718Z"
   },
   {
    "duration": 10,
    "start_time": "2021-09-10T02:22:17.010Z"
   },
   {
    "duration": 6,
    "start_time": "2021-09-10T02:22:17.380Z"
   },
   {
    "duration": 6,
    "start_time": "2021-09-10T02:22:19.010Z"
   },
   {
    "duration": 8,
    "start_time": "2021-09-10T02:22:40.106Z"
   },
   {
    "duration": 10407,
    "start_time": "2021-09-10T02:22:41.471Z"
   },
   {
    "duration": 9877,
    "start_time": "2021-09-10T02:23:13.669Z"
   },
   {
    "duration": 1280,
    "start_time": "2021-09-10T02:23:45.810Z"
   },
   {
    "duration": 10,
    "start_time": "2021-09-10T02:24:17.498Z"
   },
   {
    "duration": 2552,
    "start_time": "2021-09-10T02:24:18.725Z"
   },
   {
    "duration": 4,
    "start_time": "2021-09-10T02:24:28.872Z"
   },
   {
    "duration": 52,
    "start_time": "2021-09-10T02:24:29.208Z"
   },
   {
    "duration": 8,
    "start_time": "2021-09-10T02:24:29.494Z"
   },
   {
    "duration": 6,
    "start_time": "2021-09-10T02:24:29.776Z"
   },
   {
    "duration": 6,
    "start_time": "2021-09-10T02:24:30.274Z"
   },
   {
    "duration": 9,
    "start_time": "2021-09-10T02:24:41.297Z"
   },
   {
    "duration": 2845,
    "start_time": "2021-09-10T02:24:42.237Z"
   },
   {
    "duration": 56,
    "start_time": "2021-09-10T02:33:00.723Z"
   },
   {
    "duration": 14,
    "start_time": "2021-09-10T02:33:09.662Z"
   },
   {
    "duration": 21,
    "start_time": "2021-09-10T02:36:50.021Z"
   },
   {
    "duration": 410,
    "start_time": "2021-09-10T02:36:51.153Z"
   },
   {
    "duration": 22,
    "start_time": "2021-09-10T02:38:12.627Z"
   },
   {
    "duration": 633,
    "start_time": "2021-09-10T02:38:14.029Z"
   },
   {
    "duration": 31,
    "start_time": "2021-09-10T02:39:19.288Z"
   },
   {
    "duration": 26,
    "start_time": "2021-09-10T02:39:51.712Z"
   },
   {
    "duration": 406,
    "start_time": "2021-09-10T02:39:55.379Z"
   },
   {
    "duration": 4,
    "start_time": "2021-09-10T02:40:10.091Z"
   },
   {
    "duration": 4,
    "start_time": "2021-09-10T02:40:28.574Z"
   },
   {
    "duration": 24,
    "start_time": "2021-09-10T02:40:39.018Z"
   },
   {
    "duration": 441,
    "start_time": "2021-09-10T02:40:40.138Z"
   },
   {
    "duration": 24,
    "start_time": "2021-09-10T02:41:38.663Z"
   },
   {
    "duration": 75,
    "start_time": "2021-09-10T02:41:39.742Z"
   },
   {
    "duration": 22,
    "start_time": "2021-09-10T02:42:38.071Z"
   },
   {
    "duration": 107,
    "start_time": "2021-09-10T02:42:38.909Z"
   },
   {
    "duration": 739,
    "start_time": "2021-09-10T02:44:41.280Z"
   },
   {
    "duration": 403,
    "start_time": "2021-09-10T02:44:56.022Z"
   },
   {
    "duration": 667,
    "start_time": "2021-09-10T02:45:21.362Z"
   },
   {
    "duration": 40,
    "start_time": "2021-09-10T02:45:47.309Z"
   },
   {
    "duration": 167,
    "start_time": "2021-09-10T02:45:49.151Z"
   },
   {
    "duration": 94,
    "start_time": "2021-09-10T02:47:22.223Z"
   },
   {
    "duration": 321,
    "start_time": "2021-09-10T02:50:56.442Z"
   },
   {
    "duration": 291,
    "start_time": "2021-09-10T02:51:20.885Z"
   },
   {
    "duration": 38,
    "start_time": "2021-09-10T03:11:25.986Z"
   },
   {
    "duration": 5,
    "start_time": "2021-09-10T03:11:29.181Z"
   },
   {
    "duration": 541,
    "start_time": "2021-09-10T03:11:30.806Z"
   },
   {
    "duration": 1047,
    "start_time": "2021-09-10T03:11:35.279Z"
   },
   {
    "duration": 498,
    "start_time": "2021-09-10T03:11:43.903Z"
   },
   {
    "duration": 11,
    "start_time": "2021-09-10T03:12:11.681Z"
   },
   {
    "duration": 19,
    "start_time": "2021-09-10T03:12:56.218Z"
   },
   {
    "duration": 390,
    "start_time": "2021-09-10T03:15:05.463Z"
   },
   {
    "duration": 44,
    "start_time": "2021-09-10T03:15:24.872Z"
   },
   {
    "duration": 10,
    "start_time": "2021-09-10T03:15:33.271Z"
   },
   {
    "duration": 489,
    "start_time": "2021-09-10T03:15:36.192Z"
   },
   {
    "duration": 8,
    "start_time": "2021-09-10T03:15:46.384Z"
   },
   {
    "duration": 458,
    "start_time": "2021-09-10T03:16:31.909Z"
   },
   {
    "duration": 46,
    "start_time": "2021-09-10T03:16:46.272Z"
   },
   {
    "duration": 70,
    "start_time": "2021-09-10T03:17:01.651Z"
   },
   {
    "duration": 751,
    "start_time": "2021-09-10T03:17:44.566Z"
   },
   {
    "duration": 207,
    "start_time": "2021-09-10T03:18:15.410Z"
   },
   {
    "duration": 417,
    "start_time": "2021-09-10T03:19:15.788Z"
   },
   {
    "duration": 8621,
    "start_time": "2021-09-10T03:20:40.553Z"
   },
   {
    "duration": 1350,
    "start_time": "2021-09-10T12:26:26.472Z"
   },
   {
    "duration": 60,
    "start_time": "2021-09-10T12:26:27.824Z"
   },
   {
    "duration": 8,
    "start_time": "2021-09-10T12:26:27.888Z"
   },
   {
    "duration": 6,
    "start_time": "2021-09-10T12:26:27.899Z"
   },
   {
    "duration": 6,
    "start_time": "2021-09-10T12:26:27.907Z"
   },
   {
    "duration": 139,
    "start_time": "2021-09-10T12:27:04.579Z"
   },
   {
    "duration": 5,
    "start_time": "2021-09-10T12:27:06.486Z"
   },
   {
    "duration": 617,
    "start_time": "2021-09-10T12:27:10.437Z"
   },
   {
    "duration": 9,
    "start_time": "2021-09-10T12:34:33.743Z"
   },
   {
    "duration": 4,
    "start_time": "2021-09-10T12:34:42.399Z"
   },
   {
    "duration": 11,
    "start_time": "2021-09-10T12:34:45.544Z"
   },
   {
    "duration": 10,
    "start_time": "2021-09-10T12:34:56.689Z"
   },
   {
    "duration": 4,
    "start_time": "2021-09-10T12:35:02.128Z"
   },
   {
    "duration": 586,
    "start_time": "2021-09-10T12:35:03.602Z"
   },
   {
    "duration": 4,
    "start_time": "2021-09-10T12:36:38.767Z"
   },
   {
    "duration": 9,
    "start_time": "2021-09-10T12:36:39.852Z"
   },
   {
    "duration": 1950,
    "start_time": "2021-09-10T12:37:40.311Z"
   },
   {
    "duration": 56,
    "start_time": "2021-09-10T12:37:46.596Z"
   },
   {
    "duration": 9,
    "start_time": "2021-09-10T12:37:47.054Z"
   },
   {
    "duration": 6,
    "start_time": "2021-09-10T12:37:47.321Z"
   },
   {
    "duration": 5,
    "start_time": "2021-09-10T12:37:47.797Z"
   },
   {
    "duration": 4,
    "start_time": "2021-09-10T12:38:06.659Z"
   },
   {
    "duration": 2068,
    "start_time": "2021-09-10T12:38:08.033Z"
   },
   {
    "duration": 125,
    "start_time": "2021-09-10T12:38:21.972Z"
   },
   {
    "duration": 9,
    "start_time": "2021-09-10T12:38:26.520Z"
   },
   {
    "duration": 5,
    "start_time": "2021-09-10T12:38:34.607Z"
   },
   {
    "duration": 11,
    "start_time": "2021-09-10T12:38:35.539Z"
   },
   {
    "duration": 8,
    "start_time": "2021-09-10T12:38:36.894Z"
   },
   {
    "duration": 4,
    "start_time": "2021-09-10T12:38:38.690Z"
   },
   {
    "duration": 2212730,
    "start_time": "2021-09-10T12:38:42.660Z"
   },
   {
    "duration": 10,
    "start_time": "2021-09-10T13:22:08.496Z"
   },
   {
    "duration": 547,
    "start_time": "2021-09-10T13:22:20.131Z"
   },
   {
    "duration": 1913,
    "start_time": "2021-09-10T13:23:29.355Z"
   },
   {
    "duration": 1317,
    "start_time": "2021-09-11T02:02:19.121Z"
   },
   {
    "duration": 56,
    "start_time": "2021-09-11T02:02:20.441Z"
   },
   {
    "duration": 8,
    "start_time": "2021-09-11T02:02:20.500Z"
   },
   {
    "duration": 6,
    "start_time": "2021-09-11T02:02:20.510Z"
   },
   {
    "duration": 6,
    "start_time": "2021-09-11T02:02:20.931Z"
   },
   {
    "duration": 128,
    "start_time": "2021-09-11T02:02:35.461Z"
   },
   {
    "duration": 4,
    "start_time": "2021-09-11T02:02:39.872Z"
   },
   {
    "duration": 9,
    "start_time": "2021-09-11T02:02:40.850Z"
   },
   {
    "duration": 5,
    "start_time": "2021-09-11T02:02:47.118Z"
   },
   {
    "duration": 395,
    "start_time": "2021-09-11T02:02:48.165Z"
   },
   {
    "duration": 87,
    "start_time": "2021-09-11T02:04:03.888Z"
   },
   {
    "duration": 46,
    "start_time": "2021-09-11T02:04:44.863Z"
   },
   {
    "duration": 267,
    "start_time": "2021-09-11T02:04:58.619Z"
   },
   {
    "duration": 287,
    "start_time": "2021-09-11T02:05:58.981Z"
   },
   {
    "duration": 238,
    "start_time": "2021-09-11T02:08:24.934Z"
   },
   {
    "duration": 86,
    "start_time": "2021-09-11T02:24:41.784Z"
   },
   {
    "duration": 11,
    "start_time": "2021-09-11T02:42:34.020Z"
   },
   {
    "duration": 277,
    "start_time": "2021-09-11T02:42:34.970Z"
   },
   {
    "duration": 4,
    "start_time": "2021-09-11T02:42:50.223Z"
   },
   {
    "duration": 8,
    "start_time": "2021-09-11T02:42:51.247Z"
   },
   {
    "duration": 7,
    "start_time": "2021-09-11T02:45:53.366Z"
   },
   {
    "duration": 3,
    "start_time": "2021-09-11T02:48:13.883Z"
   },
   {
    "duration": 49,
    "start_time": "2021-09-11T02:48:14.167Z"
   },
   {
    "duration": 8,
    "start_time": "2021-09-11T02:48:14.362Z"
   },
   {
    "duration": 6,
    "start_time": "2021-09-11T02:48:14.552Z"
   },
   {
    "duration": 6,
    "start_time": "2021-09-11T02:48:14.931Z"
   },
   {
    "duration": 42,
    "start_time": "2021-09-11T02:48:37.856Z"
   },
   {
    "duration": 322,
    "start_time": "2021-09-11T02:48:42.025Z"
   },
   {
    "duration": 4,
    "start_time": "2021-09-11T02:48:52.415Z"
   },
   {
    "duration": 7,
    "start_time": "2021-09-11T02:49:25.684Z"
   },
   {
    "duration": 5,
    "start_time": "2021-09-11T02:49:30.227Z"
   },
   {
    "duration": 545,
    "start_time": "2021-09-11T02:49:35.014Z"
   },
   {
    "duration": 18,
    "start_time": "2021-09-11T02:51:16.826Z"
   },
   {
    "duration": 7,
    "start_time": "2021-09-11T02:51:48.673Z"
   },
   {
    "duration": 3,
    "start_time": "2021-09-11T02:52:50.906Z"
   },
   {
    "duration": 4,
    "start_time": "2021-09-11T02:53:38.416Z"
   },
   {
    "duration": 11,
    "start_time": "2021-09-11T02:53:39.401Z"
   },
   {
    "duration": 7,
    "start_time": "2021-09-11T02:53:40.591Z"
   },
   {
    "duration": 497,
    "start_time": "2021-09-11T02:53:59.990Z"
   },
   {
    "duration": 3,
    "start_time": "2021-09-11T02:54:09.528Z"
   },
   {
    "duration": 32,
    "start_time": "2021-09-11T02:55:05.481Z"
   },
   {
    "duration": 300,
    "start_time": "2021-09-11T02:55:14.024Z"
   },
   {
    "duration": 1264,
    "start_time": "2021-09-11T02:55:50.700Z"
   },
   {
    "duration": 57,
    "start_time": "2021-09-11T02:55:51.967Z"
   },
   {
    "duration": 9,
    "start_time": "2021-09-11T02:55:52.027Z"
   },
   {
    "duration": 25,
    "start_time": "2021-09-11T02:55:52.039Z"
   },
   {
    "duration": 12,
    "start_time": "2021-09-11T02:55:52.067Z"
   },
   {
    "duration": 1003,
    "start_time": "2021-09-11T02:55:52.615Z"
   },
   {
    "duration": 110,
    "start_time": "2021-09-11T02:56:02.258Z"
   },
   {
    "duration": 132,
    "start_time": "2021-09-11T02:56:12.254Z"
   },
   {
    "duration": 370,
    "start_time": "2021-09-11T02:56:23.032Z"
   },
   {
    "duration": 43,
    "start_time": "2021-09-11T02:56:33.388Z"
   },
   {
    "duration": 190,
    "start_time": "2021-09-11T02:56:39.174Z"
   },
   {
    "duration": 7,
    "start_time": "2021-09-11T02:56:44.695Z"
   },
   {
    "duration": 6,
    "start_time": "2021-09-11T02:56:49.498Z"
   },
   {
    "duration": 534,
    "start_time": "2021-09-11T02:57:01.120Z"
   },
   {
    "duration": 152968,
    "start_time": "2021-09-11T02:57:46.915Z"
   },
   {
    "duration": 5,
    "start_time": "2021-09-11T03:05:55.631Z"
   },
   {
    "duration": 6,
    "start_time": "2021-09-11T03:05:56.576Z"
   },
   {
    "duration": 4,
    "start_time": "2021-09-11T03:06:02.499Z"
   },
   {
    "duration": 4,
    "start_time": "2021-09-11T03:06:04.612Z"
   },
   {
    "duration": 558,
    "start_time": "2021-09-11T03:06:07.479Z"
   },
   {
    "duration": 5,
    "start_time": "2021-09-11T03:06:46.678Z"
   },
   {
    "duration": 6,
    "start_time": "2021-09-11T03:06:48.779Z"
   },
   {
    "duration": 4,
    "start_time": "2021-09-11T03:06:49.670Z"
   },
   {
    "duration": 909,
    "start_time": "2021-09-11T03:06:53.204Z"
   },
   {
    "duration": 5,
    "start_time": "2021-09-11T03:07:10.155Z"
   },
   {
    "duration": 8,
    "start_time": "2021-09-11T03:07:11.001Z"
   },
   {
    "duration": 4,
    "start_time": "2021-09-11T03:07:11.691Z"
   },
   {
    "duration": 37540,
    "start_time": "2021-09-11T03:07:14.491Z"
   },
   {
    "duration": 4,
    "start_time": "2021-09-11T03:12:30.626Z"
   },
   {
    "duration": 5,
    "start_time": "2021-09-11T03:12:36.049Z"
   },
   {
    "duration": 36124,
    "start_time": "2021-09-11T03:12:40.215Z"
   },
   {
    "duration": 104,
    "start_time": "2021-09-11T03:14:37.558Z"
   },
   {
    "duration": 6762,
    "start_time": "2021-09-11T03:14:54.262Z"
   },
   {
    "duration": 215,
    "start_time": "2021-09-11T03:15:33.664Z"
   },
   {
    "duration": 302,
    "start_time": "2021-09-11T03:16:00.518Z"
   },
   {
    "duration": 233,
    "start_time": "2021-09-11T03:17:27.327Z"
   },
   {
    "duration": 312,
    "start_time": "2021-09-11T03:18:25.643Z"
   },
   {
    "duration": 217,
    "start_time": "2021-09-11T03:18:36.560Z"
   },
   {
    "duration": 4,
    "start_time": "2021-09-11T03:18:41.544Z"
   },
   {
    "duration": 5,
    "start_time": "2021-09-11T03:18:42.583Z"
   },
   {
    "duration": 4,
    "start_time": "2021-09-11T03:18:44.116Z"
   },
   {
    "duration": 37332,
    "start_time": "2021-09-11T03:18:46.769Z"
   },
   {
    "duration": 257,
    "start_time": "2021-09-11T03:19:27.066Z"
   },
   {
    "duration": 1390,
    "start_time": "2021-09-11T03:24:30.465Z"
   },
   {
    "duration": 57,
    "start_time": "2021-09-11T03:24:31.858Z"
   },
   {
    "duration": 8,
    "start_time": "2021-09-11T03:24:31.919Z"
   },
   {
    "duration": 6,
    "start_time": "2021-09-11T03:24:31.929Z"
   },
   {
    "duration": 6,
    "start_time": "2021-09-11T03:24:32.110Z"
   },
   {
    "duration": 463,
    "start_time": "2021-09-11T03:24:44.707Z"
   },
   {
    "duration": 47,
    "start_time": "2021-09-11T03:25:01.001Z"
   },
   {
    "duration": 44,
    "start_time": "2021-09-11T03:25:02.415Z"
   },
   {
    "duration": 9,
    "start_time": "2021-09-11T03:25:09.834Z"
   },
   {
    "duration": 8,
    "start_time": "2021-09-11T03:25:47.239Z"
   },
   {
    "duration": 18,
    "start_time": "2021-09-11T03:25:49.532Z"
   },
   {
    "duration": 21,
    "start_time": "2021-09-11T03:27:30.667Z"
   },
   {
    "duration": 8,
    "start_time": "2021-09-11T03:28:00.755Z"
   },
   {
    "duration": 37,
    "start_time": "2021-09-11T03:28:39.379Z"
   },
   {
    "duration": 7,
    "start_time": "2021-09-11T03:28:40.437Z"
   },
   {
    "duration": 7,
    "start_time": "2021-09-11T03:28:59.311Z"
   },
   {
    "duration": 260,
    "start_time": "2021-09-11T03:29:27.194Z"
   },
   {
    "duration": 234,
    "start_time": "2021-09-11T03:30:20.916Z"
   },
   {
    "duration": 229,
    "start_time": "2021-09-11T03:30:26.916Z"
   },
   {
    "duration": 7,
    "start_time": "2021-09-11T03:30:41.569Z"
   },
   {
    "duration": 374,
    "start_time": "2021-09-11T03:31:05.581Z"
   },
   {
    "duration": 7,
    "start_time": "2021-09-11T03:31:11.903Z"
   },
   {
    "duration": 274,
    "start_time": "2021-09-11T03:31:34.092Z"
   },
   {
    "duration": 8,
    "start_time": "2021-09-11T03:31:42.221Z"
   },
   {
    "duration": 8,
    "start_time": "2021-09-11T03:32:00.284Z"
   },
   {
    "duration": 3,
    "start_time": "2021-09-11T03:32:12.630Z"
   },
   {
    "duration": 5,
    "start_time": "2021-09-11T03:32:19.070Z"
   },
   {
    "duration": 36,
    "start_time": "2021-09-11T03:32:19.584Z"
   },
   {
    "duration": 9,
    "start_time": "2021-09-11T03:32:20.115Z"
   },
   {
    "duration": 232,
    "start_time": "2021-09-11T03:39:43.370Z"
   },
   {
    "duration": 69,
    "start_time": "2021-09-11T03:40:06.350Z"
   },
   {
    "duration": 6,
    "start_time": "2021-09-11T03:40:12.469Z"
   },
   {
    "duration": 6,
    "start_time": "2021-09-11T03:40:15.589Z"
   },
   {
    "duration": 5,
    "start_time": "2021-09-11T03:40:19.150Z"
   },
   {
    "duration": 4,
    "start_time": "2021-09-11T03:40:22.131Z"
   },
   {
    "duration": 147219,
    "start_time": "2021-09-11T03:40:27.069Z"
   },
   {
    "duration": 809,
    "start_time": "2021-09-11T03:46:48.260Z"
   },
   {
    "duration": 1010,
    "start_time": "2021-09-12T01:54:12.381Z"
   },
   {
    "duration": 43,
    "start_time": "2021-09-12T01:54:13.393Z"
   },
   {
    "duration": 5,
    "start_time": "2021-09-12T01:54:13.438Z"
   },
   {
    "duration": 8,
    "start_time": "2021-09-12T01:54:13.445Z"
   },
   {
    "duration": 5,
    "start_time": "2021-09-12T01:54:16.493Z"
   },
   {
    "duration": 85,
    "start_time": "2021-09-12T01:56:10.911Z"
   },
   {
    "duration": 37,
    "start_time": "2021-09-12T01:56:12.341Z"
   },
   {
    "duration": 5,
    "start_time": "2021-09-12T01:56:16.345Z"
   },
   {
    "duration": 3,
    "start_time": "2021-09-12T01:56:20.450Z"
   },
   {
    "duration": 45,
    "start_time": "2021-09-12T01:56:22.794Z"
   },
   {
    "duration": 3,
    "start_time": "2021-09-12T01:56:29.343Z"
   },
   {
    "duration": 3,
    "start_time": "2021-09-12T01:56:32.025Z"
   },
   {
    "duration": 5,
    "start_time": "2021-09-12T01:56:36.927Z"
   },
   {
    "duration": 113413,
    "start_time": "2021-09-12T01:56:41.666Z"
   },
   {
    "duration": 579,
    "start_time": "2021-09-12T02:11:14.419Z"
   },
   {
    "duration": 4,
    "start_time": "2021-09-12T02:18:51.816Z"
   },
   {
    "duration": 3,
    "start_time": "2021-09-12T02:18:53.975Z"
   },
   {
    "duration": 115684,
    "start_time": "2021-09-12T02:18:55.460Z"
   },
   {
    "duration": 279,
    "start_time": "2021-09-12T02:24:03.185Z"
   },
   {
    "duration": 4,
    "start_time": "2021-09-12T04:12:11.541Z"
   },
   {
    "duration": 41,
    "start_time": "2021-09-12T04:12:11.750Z"
   },
   {
    "duration": 6,
    "start_time": "2021-09-12T04:12:11.926Z"
   },
   {
    "duration": 4,
    "start_time": "2021-09-12T04:12:12.113Z"
   },
   {
    "duration": 4,
    "start_time": "2021-09-12T04:12:12.493Z"
   },
   {
    "duration": 4,
    "start_time": "2021-09-12T04:12:24.797Z"
   },
   {
    "duration": 10,
    "start_time": "2021-09-12T04:12:28.498Z"
   },
   {
    "duration": 3,
    "start_time": "2021-09-12T04:12:32.306Z"
   },
   {
    "duration": 21,
    "start_time": "2021-09-12T04:12:40.351Z"
   },
   {
    "duration": 3,
    "start_time": "2021-09-12T04:13:32.441Z"
   },
   {
    "duration": 148,
    "start_time": "2021-09-12T04:13:34.211Z"
   },
   {
    "duration": 3,
    "start_time": "2021-09-12T04:15:47.230Z"
   },
   {
    "duration": 129,
    "start_time": "2021-09-12T04:15:48.824Z"
   },
   {
    "duration": 3,
    "start_time": "2021-09-12T04:23:10.642Z"
   },
   {
    "duration": 14,
    "start_time": "2021-09-12T04:23:11.256Z"
   },
   {
    "duration": 3,
    "start_time": "2021-09-12T04:23:12.261Z"
   },
   {
    "duration": 4,
    "start_time": "2021-09-12T04:23:14.334Z"
   },
   {
    "duration": 2,
    "start_time": "2021-09-12T04:23:15.900Z"
   },
   {
    "duration": 42754,
    "start_time": "2021-09-12T04:23:17.752Z"
   },
   {
    "duration": 4,
    "start_time": "2021-09-12T04:26:12.481Z"
   },
   {
    "duration": 4,
    "start_time": "2021-09-12T04:39:29.475Z"
   },
   {
    "duration": 495,
    "start_time": "2021-09-12T04:39:30.221Z"
   },
   {
    "duration": 319,
    "start_time": "2021-09-12T04:40:08.212Z"
   },
   {
    "duration": 3,
    "start_time": "2021-09-12T04:40:32.858Z"
   },
   {
    "duration": 43,
    "start_time": "2021-09-12T04:40:33.318Z"
   },
   {
    "duration": 7,
    "start_time": "2021-09-12T04:40:33.575Z"
   },
   {
    "duration": 5,
    "start_time": "2021-09-12T04:40:33.822Z"
   },
   {
    "duration": 5,
    "start_time": "2021-09-12T04:40:34.226Z"
   },
   {
    "duration": 4,
    "start_time": "2021-09-12T04:40:41.717Z"
   },
   {
    "duration": 334,
    "start_time": "2021-09-12T04:40:42.931Z"
   },
   {
    "duration": 26,
    "start_time": "2021-09-12T04:42:19.429Z"
   },
   {
    "duration": 7,
    "start_time": "2021-09-12T04:42:23.755Z"
   },
   {
    "duration": 2,
    "start_time": "2021-09-12T04:42:35.363Z"
   },
   {
    "duration": 5,
    "start_time": "2021-09-12T04:42:36.759Z"
   },
   {
    "duration": 3,
    "start_time": "2021-09-12T04:42:40.963Z"
   },
   {
    "duration": 64,
    "start_time": "2021-09-12T04:42:43.848Z"
   },
   {
    "duration": 3,
    "start_time": "2021-09-12T04:43:00.349Z"
   },
   {
    "duration": 66,
    "start_time": "2021-09-12T04:43:02.496Z"
   },
   {
    "duration": 4,
    "start_time": "2021-09-12T04:43:06.927Z"
   },
   {
    "duration": 126105,
    "start_time": "2021-09-12T04:43:09.966Z"
   },
   {
    "duration": 21,
    "start_time": "2021-09-12T05:05:29.646Z"
   },
   {
    "duration": 130694,
    "start_time": "2021-09-12T05:05:33.900Z"
   },
   {
    "duration": 45,
    "start_time": "2021-09-12T05:16:11.845Z"
   },
   {
    "duration": 151165,
    "start_time": "2021-09-12T05:16:12.687Z"
   },
   {
    "duration": 59,
    "start_time": "2021-09-12T05:23:21.326Z"
   },
   {
    "duration": 20,
    "start_time": "2021-09-12T05:24:44.368Z"
   },
   {
    "duration": 117,
    "start_time": "2021-09-12T05:27:50.369Z"
   },
   {
    "duration": 77,
    "start_time": "2021-09-12T05:28:03.809Z"
   },
   {
    "duration": 1007,
    "start_time": "2021-09-12T05:28:28.862Z"
   },
   {
    "duration": 46,
    "start_time": "2021-09-12T05:28:30.592Z"
   },
   {
    "duration": 6,
    "start_time": "2021-09-12T05:28:31.009Z"
   },
   {
    "duration": 5,
    "start_time": "2021-09-12T05:28:31.394Z"
   },
   {
    "duration": 4,
    "start_time": "2021-09-12T05:28:32.996Z"
   },
   {
    "duration": 684,
    "start_time": "2021-09-12T05:28:37.444Z"
   },
   {
    "duration": 188,
    "start_time": "2021-09-12T05:28:40.314Z"
   },
   {
    "duration": 4,
    "start_time": "2021-09-12T05:28:53.763Z"
   },
   {
    "duration": 3,
    "start_time": "2021-09-12T05:28:58.735Z"
   },
   {
    "duration": 373,
    "start_time": "2021-09-12T05:29:03.282Z"
   },
   {
    "duration": 182,
    "start_time": "2021-09-12T05:29:19.768Z"
   },
   {
    "duration": 9,
    "start_time": "2021-09-12T05:29:23.203Z"
   },
   {
    "duration": 174,
    "start_time": "2021-09-12T05:29:27.334Z"
   },
   {
    "duration": 5,
    "start_time": "2021-09-12T05:29:35.388Z"
   },
   {
    "duration": 497,
    "start_time": "2021-09-12T05:29:39.212Z"
   },
   {
    "duration": 337,
    "start_time": "2021-09-12T05:30:35.044Z"
   },
   {
    "duration": 7,
    "start_time": "2021-09-12T05:31:07.015Z"
   },
   {
    "duration": 715,
    "start_time": "2021-09-12T05:31:09.661Z"
   },
   {
    "duration": 315,
    "start_time": "2021-09-12T05:32:51.427Z"
   },
   {
    "duration": 342,
    "start_time": "2021-09-12T05:32:53.688Z"
   },
   {
    "duration": 6,
    "start_time": "2021-09-12T05:33:00.788Z"
   },
   {
    "duration": 384,
    "start_time": "2021-09-12T05:33:03.312Z"
   },
   {
    "duration": 3,
    "start_time": "2021-09-12T05:33:24.370Z"
   },
   {
    "duration": 39,
    "start_time": "2021-09-12T05:33:24.623Z"
   },
   {
    "duration": 6,
    "start_time": "2021-09-12T05:33:24.772Z"
   },
   {
    "duration": 4,
    "start_time": "2021-09-12T05:33:24.983Z"
   },
   {
    "duration": 4,
    "start_time": "2021-09-12T05:33:25.358Z"
   },
   {
    "duration": 6,
    "start_time": "2021-09-12T05:33:35.189Z"
   },
   {
    "duration": 2100,
    "start_time": "2021-09-12T05:33:36.050Z"
   },
   {
    "duration": 8,
    "start_time": "2021-09-12T05:33:46.192Z"
   },
   {
    "duration": 25,
    "start_time": "2021-09-12T05:34:22.738Z"
   },
   {
    "duration": 20445,
    "start_time": "2021-09-12T05:34:26.442Z"
   },
   {
    "duration": 8,
    "start_time": "2021-09-12T05:35:25.645Z"
   },
   {
    "duration": 145,
    "start_time": "2021-09-12T05:35:42.244Z"
   },
   {
    "duration": 22,
    "start_time": "2021-09-12T05:35:44.028Z"
   },
   {
    "duration": 220,
    "start_time": "2021-09-12T05:35:46.143Z"
   },
   {
    "duration": 5,
    "start_time": "2021-09-12T05:36:39.693Z"
   },
   {
    "duration": 3,
    "start_time": "2021-09-12T05:36:50.662Z"
   },
   {
    "duration": 4,
    "start_time": "2021-09-12T05:36:51.295Z"
   },
   {
    "duration": 4,
    "start_time": "2021-09-12T05:36:53.755Z"
   },
   {
    "duration": 3,
    "start_time": "2021-09-12T05:36:54.849Z"
   },
   {
    "duration": 4,
    "start_time": "2021-09-12T05:36:56.084Z"
   },
   {
    "duration": 56454,
    "start_time": "2021-09-12T05:36:57.788Z"
   },
   {
    "duration": 4,
    "start_time": "2021-09-12T05:38:12.208Z"
   },
   {
    "duration": 2,
    "start_time": "2021-09-12T05:38:13.871Z"
   },
   {
    "duration": 2,
    "start_time": "2021-09-12T05:38:14.814Z"
   },
   {
    "duration": 4,
    "start_time": "2021-09-12T05:38:15.763Z"
   },
   {
    "duration": 57342,
    "start_time": "2021-09-12T05:38:21.145Z"
   },
   {
    "duration": 25,
    "start_time": "2021-09-12T05:40:35.023Z"
   },
   {
    "duration": 69401,
    "start_time": "2021-09-12T05:40:35.991Z"
   },
   {
    "duration": 1038,
    "start_time": "2021-09-12T05:45:14.397Z"
   },
   {
    "duration": 3,
    "start_time": "2021-09-12T05:46:46.990Z"
   },
   {
    "duration": 37,
    "start_time": "2021-09-12T05:46:47.355Z"
   },
   {
    "duration": 6,
    "start_time": "2021-09-12T05:46:47.759Z"
   },
   {
    "duration": 4,
    "start_time": "2021-09-12T05:46:48.206Z"
   },
   {
    "duration": 4,
    "start_time": "2021-09-12T05:46:54.357Z"
   },
   {
    "duration": 262,
    "start_time": "2021-09-12T05:55:39.842Z"
   },
   {
    "duration": 2419,
    "start_time": "2021-09-12T06:08:02.243Z"
   },
   {
    "duration": 3,
    "start_time": "2021-09-12T06:09:12.243Z"
   },
   {
    "duration": 37,
    "start_time": "2021-09-12T06:09:12.663Z"
   },
   {
    "duration": 6,
    "start_time": "2021-09-12T06:09:12.833Z"
   },
   {
    "duration": 5,
    "start_time": "2021-09-12T06:09:13.030Z"
   },
   {
    "duration": 5,
    "start_time": "2021-09-12T06:09:13.418Z"
   },
   {
    "duration": 2291,
    "start_time": "2021-09-12T06:09:24.486Z"
   },
   {
    "duration": 7,
    "start_time": "2021-09-12T06:10:01.834Z"
   },
   {
    "duration": 603,
    "start_time": "2021-09-12T06:10:07.575Z"
   },
   {
    "duration": 3,
    "start_time": "2021-09-12T06:17:00.609Z"
   },
   {
    "duration": 37,
    "start_time": "2021-09-12T06:17:00.909Z"
   },
   {
    "duration": 6,
    "start_time": "2021-09-12T06:17:01.148Z"
   },
   {
    "duration": 4,
    "start_time": "2021-09-12T06:17:01.396Z"
   },
   {
    "duration": 4,
    "start_time": "2021-09-12T06:17:01.835Z"
   },
   {
    "duration": 657,
    "start_time": "2021-09-12T06:17:03.229Z"
   },
   {
    "duration": 370,
    "start_time": "2021-09-12T06:18:54.580Z"
   },
   {
    "duration": 7,
    "start_time": "2021-09-12T06:19:59.226Z"
   },
   {
    "duration": 178,
    "start_time": "2021-09-12T06:20:09.008Z"
   },
   {
    "duration": 2,
    "start_time": "2021-09-12T06:21:15.781Z"
   },
   {
    "duration": 37,
    "start_time": "2021-09-12T06:21:16.081Z"
   },
   {
    "duration": 6,
    "start_time": "2021-09-12T06:21:16.313Z"
   },
   {
    "duration": 4,
    "start_time": "2021-09-12T06:21:16.547Z"
   },
   {
    "duration": 4,
    "start_time": "2021-09-12T06:21:17.027Z"
   },
   {
    "duration": 670,
    "start_time": "2021-09-12T06:21:18.271Z"
   },
   {
    "duration": 216,
    "start_time": "2021-09-12T06:21:20.910Z"
   },
   {
    "duration": 195,
    "start_time": "2021-09-12T06:21:28.131Z"
   },
   {
    "duration": 3,
    "start_time": "2021-09-12T06:21:44.170Z"
   },
   {
    "duration": 37,
    "start_time": "2021-09-12T06:21:44.385Z"
   },
   {
    "duration": 7,
    "start_time": "2021-09-12T06:21:44.585Z"
   },
   {
    "duration": 4,
    "start_time": "2021-09-12T06:21:44.784Z"
   },
   {
    "duration": 4,
    "start_time": "2021-09-12T06:21:45.202Z"
   },
   {
    "duration": 659,
    "start_time": "2021-09-12T06:21:46.231Z"
   },
   {
    "duration": 192,
    "start_time": "2021-09-12T06:21:46.903Z"
   },
   {
    "duration": 3,
    "start_time": "2021-09-12T06:21:59.997Z"
   },
   {
    "duration": 47,
    "start_time": "2021-09-12T06:22:00.195Z"
   },
   {
    "duration": 7,
    "start_time": "2021-09-12T06:22:00.378Z"
   },
   {
    "duration": 4,
    "start_time": "2021-09-12T06:22:00.575Z"
   },
   {
    "duration": 4,
    "start_time": "2021-09-12T06:22:00.932Z"
   },
   {
    "duration": 780,
    "start_time": "2021-09-12T06:22:01.890Z"
   },
   {
    "duration": 3,
    "start_time": "2021-09-12T06:22:02.672Z"
   },
   {
    "duration": 282,
    "start_time": "2021-09-12T06:22:02.677Z"
   },
   {
    "duration": 184,
    "start_time": "2021-09-12T06:22:10.949Z"
   },
   {
    "duration": 4,
    "start_time": "2021-09-12T06:22:15.025Z"
   },
   {
    "duration": 186,
    "start_time": "2021-09-12T06:22:59.090Z"
   },
   {
    "duration": 4,
    "start_time": "2021-09-12T06:23:06.658Z"
   },
   {
    "duration": 180,
    "start_time": "2021-09-12T06:44:47.587Z"
   },
   {
    "duration": 183,
    "start_time": "2021-09-12T06:45:05.516Z"
   },
   {
    "duration": 173,
    "start_time": "2021-09-12T06:45:34.567Z"
   },
   {
    "duration": 185,
    "start_time": "2021-09-12T06:46:05.652Z"
   },
   {
    "duration": 3,
    "start_time": "2021-09-12T06:46:16.429Z"
   },
   {
    "duration": 3,
    "start_time": "2021-09-12T06:54:11.858Z"
   },
   {
    "duration": 38,
    "start_time": "2021-09-12T06:54:12.126Z"
   },
   {
    "duration": 6,
    "start_time": "2021-09-12T06:54:12.336Z"
   },
   {
    "duration": 4,
    "start_time": "2021-09-12T06:54:12.536Z"
   },
   {
    "duration": 4,
    "start_time": "2021-09-12T06:54:12.990Z"
   },
   {
    "duration": 669,
    "start_time": "2021-09-12T06:54:14.078Z"
   },
   {
    "duration": 3,
    "start_time": "2021-09-12T06:54:20.474Z"
   },
   {
    "duration": 275,
    "start_time": "2021-09-12T06:54:21.187Z"
   },
   {
    "duration": 189,
    "start_time": "2021-09-12T06:54:23.200Z"
   },
   {
    "duration": 4,
    "start_time": "2021-09-12T06:54:23.805Z"
   },
   {
    "duration": 7,
    "start_time": "2021-09-12T06:54:24.639Z"
   },
   {
    "duration": 192,
    "start_time": "2021-09-12T06:54:24.976Z"
   },
   {
    "duration": 1051,
    "start_time": "2021-09-12T06:56:40.276Z"
   },
   {
    "duration": 322,
    "start_time": "2021-09-12T06:56:55.014Z"
   },
   {
    "duration": 1842,
    "start_time": "2021-09-12T06:59:56.652Z"
   },
   {
    "duration": 3,
    "start_time": "2021-09-12T07:04:09.841Z"
   },
   {
    "duration": 36,
    "start_time": "2021-09-12T07:04:10.247Z"
   },
   {
    "duration": 7,
    "start_time": "2021-09-12T07:04:10.487Z"
   },
   {
    "duration": 4,
    "start_time": "2021-09-12T07:04:10.761Z"
   },
   {
    "duration": 4,
    "start_time": "2021-09-12T07:04:11.227Z"
   },
   {
    "duration": 660,
    "start_time": "2021-09-12T07:04:12.740Z"
   },
   {
    "duration": 7,
    "start_time": "2021-09-12T07:04:15.485Z"
   },
   {
    "duration": 3,
    "start_time": "2021-09-12T07:04:21.900Z"
   },
   {
    "duration": 283,
    "start_time": "2021-09-12T07:04:22.861Z"
   },
   {
    "duration": 207,
    "start_time": "2021-09-12T07:04:30.316Z"
   },
   {
    "duration": 4,
    "start_time": "2021-09-12T07:04:40.388Z"
   },
   {
    "duration": 64,
    "start_time": "2021-09-12T07:06:16.258Z"
   },
   {
    "duration": 58,
    "start_time": "2021-09-12T07:06:44.874Z"
   },
   {
    "duration": 180,
    "start_time": "2021-09-12T07:07:11.317Z"
   },
   {
    "duration": 177,
    "start_time": "2021-09-12T07:07:23.944Z"
   },
   {
    "duration": 177,
    "start_time": "2021-09-12T07:07:50.346Z"
   },
   {
    "duration": 179,
    "start_time": "2021-09-12T07:08:24.741Z"
   },
   {
    "duration": 170,
    "start_time": "2021-09-12T07:08:44.861Z"
   },
   {
    "duration": 1525,
    "start_time": "2021-09-12T07:08:57.867Z"
   },
   {
    "duration": 3,
    "start_time": "2021-09-12T07:09:08.168Z"
   },
   {
    "duration": 1603,
    "start_time": "2021-09-12T07:10:16.091Z"
   },
   {
    "duration": 62,
    "start_time": "2021-09-12T07:11:57.553Z"
   },
   {
    "duration": 6,
    "start_time": "2021-09-12T07:12:07.407Z"
   },
   {
    "duration": 1614,
    "start_time": "2021-09-12T07:19:28.980Z"
   },
   {
    "duration": 3,
    "start_time": "2021-09-12T07:20:21.775Z"
   },
   {
    "duration": 1052,
    "start_time": "2021-09-12T07:20:46.125Z"
   },
   {
    "duration": 44,
    "start_time": "2021-09-12T07:20:48.053Z"
   },
   {
    "duration": 9,
    "start_time": "2021-09-12T07:20:48.325Z"
   },
   {
    "duration": 4,
    "start_time": "2021-09-12T07:20:48.597Z"
   },
   {
    "duration": 4,
    "start_time": "2021-09-12T07:20:49.113Z"
   },
   {
    "duration": 696,
    "start_time": "2021-09-12T07:20:50.835Z"
   },
   {
    "duration": 9,
    "start_time": "2021-09-12T07:20:55.199Z"
   },
   {
    "duration": 3,
    "start_time": "2021-09-12T07:20:56.791Z"
   },
   {
    "duration": 372,
    "start_time": "2021-09-12T07:20:57.676Z"
   },
   {
    "duration": 260,
    "start_time": "2021-09-12T07:21:02.417Z"
   },
   {
    "duration": 5,
    "start_time": "2021-09-12T07:21:06.927Z"
   },
   {
    "duration": 291,
    "start_time": "2021-09-12T07:21:10.445Z"
   },
   {
    "duration": 2043,
    "start_time": "2021-09-12T07:21:24.443Z"
   },
   {
    "duration": 352,
    "start_time": "2021-09-12T07:23:25.360Z"
   },
   {
    "duration": 201,
    "start_time": "2021-09-12T07:24:47.486Z"
   },
   {
    "duration": 3,
    "start_time": "2021-09-12T07:26:11.809Z"
   },
   {
    "duration": 37,
    "start_time": "2021-09-12T07:26:12.255Z"
   },
   {
    "duration": 6,
    "start_time": "2021-09-12T07:26:13.135Z"
   },
   {
    "duration": 4,
    "start_time": "2021-09-12T07:26:13.434Z"
   },
   {
    "duration": 4,
    "start_time": "2021-09-12T07:26:13.908Z"
   },
   {
    "duration": 792,
    "start_time": "2021-09-12T07:26:14.971Z"
   },
   {
    "duration": 7,
    "start_time": "2021-09-12T07:26:15.764Z"
   },
   {
    "duration": 13,
    "start_time": "2021-09-12T07:26:15.773Z"
   },
   {
    "duration": 296,
    "start_time": "2021-09-12T07:26:15.906Z"
   },
   {
    "duration": 195,
    "start_time": "2021-09-12T07:26:16.453Z"
   },
   {
    "duration": 4,
    "start_time": "2021-09-12T07:26:16.817Z"
   },
   {
    "duration": 1737,
    "start_time": "2021-09-12T07:26:17.349Z"
   },
   {
    "duration": 3,
    "start_time": "2021-09-12T07:26:19.089Z"
   },
   {
    "duration": 442,
    "start_time": "2021-09-12T07:26:19.094Z"
   },
   {
    "duration": 2,
    "start_time": "2021-09-12T07:26:19.538Z"
   },
   {
    "duration": 6303,
    "start_time": "2021-09-12T07:26:51.033Z"
   },
   {
    "duration": 6421,
    "start_time": "2021-09-12T07:27:09.606Z"
   },
   {
    "duration": 195,
    "start_time": "2021-09-12T07:28:15.947Z"
   },
   {
    "duration": 450,
    "start_time": "2021-09-12T07:34:18.374Z"
   },
   {
    "duration": 350,
    "start_time": "2021-09-12T07:34:39.200Z"
   },
   {
    "duration": 974,
    "start_time": "2021-09-12T07:35:55.829Z"
   },
   {
    "duration": 834,
    "start_time": "2021-09-12T07:36:17.103Z"
   },
   {
    "duration": 863,
    "start_time": "2021-09-12T07:36:34.146Z"
   },
   {
    "duration": 897,
    "start_time": "2021-09-12T07:36:44.709Z"
   },
   {
    "duration": 1154,
    "start_time": "2021-09-12T07:37:12.800Z"
   },
   {
    "duration": 64,
    "start_time": "2021-09-12T07:37:26.959Z"
   },
   {
    "duration": 1044,
    "start_time": "2021-09-12T07:37:31.779Z"
   },
   {
    "duration": 57,
    "start_time": "2021-09-12T07:38:31.783Z"
   },
   {
    "duration": 871,
    "start_time": "2021-09-12T07:38:37.075Z"
   },
   {
    "duration": 727,
    "start_time": "2021-09-12T07:39:03.455Z"
   },
   {
    "duration": 3,
    "start_time": "2021-09-12T07:40:42.556Z"
   },
   {
    "duration": 38,
    "start_time": "2021-09-12T07:40:43.402Z"
   },
   {
    "duration": 6,
    "start_time": "2021-09-12T07:40:44.058Z"
   },
   {
    "duration": 4,
    "start_time": "2021-09-12T07:40:44.306Z"
   },
   {
    "duration": 4,
    "start_time": "2021-09-12T07:40:44.755Z"
   },
   {
    "duration": 816,
    "start_time": "2021-09-12T07:40:45.722Z"
   },
   {
    "duration": 8,
    "start_time": "2021-09-12T07:40:46.541Z"
   },
   {
    "duration": 6,
    "start_time": "2021-09-12T07:40:46.551Z"
   },
   {
    "duration": 303,
    "start_time": "2021-09-12T07:40:46.724Z"
   },
   {
    "duration": 201,
    "start_time": "2021-09-12T07:40:47.319Z"
   },
   {
    "duration": 4,
    "start_time": "2021-09-12T07:40:47.719Z"
   },
   {
    "duration": 1796,
    "start_time": "2021-09-12T07:40:48.294Z"
   },
   {
    "duration": 93,
    "start_time": "2021-09-12T07:40:50.093Z"
   },
   {
    "duration": 448,
    "start_time": "2021-09-12T07:40:50.189Z"
   },
   {
    "duration": 2,
    "start_time": "2021-09-12T07:40:51.689Z"
   },
   {
    "duration": 2,
    "start_time": "2021-09-12T07:40:51.985Z"
   },
   {
    "duration": 1062,
    "start_time": "2021-09-12T07:40:55.345Z"
   },
   {
    "duration": 685,
    "start_time": "2021-09-12T07:40:58.504Z"
   },
   {
    "duration": 954,
    "start_time": "2021-09-12T07:42:44.568Z"
   },
   {
    "duration": 593,
    "start_time": "2021-09-12T07:47:34.160Z"
   },
   {
    "duration": 3789,
    "start_time": "2021-09-12T08:35:41.926Z"
   },
   {
    "duration": 444,
    "start_time": "2021-09-12T08:36:33.384Z"
   },
   {
    "duration": 3619,
    "start_time": "2021-09-12T08:36:39.957Z"
   },
   {
    "duration": 601,
    "start_time": "2021-09-12T08:37:44.941Z"
   },
   {
    "duration": 649,
    "start_time": "2021-09-12T08:38:24.311Z"
   },
   {
    "duration": 572,
    "start_time": "2021-09-12T08:38:32.584Z"
   },
   {
    "duration": 633,
    "start_time": "2021-09-12T08:38:48.123Z"
   },
   {
    "duration": 845,
    "start_time": "2021-09-12T08:39:02.748Z"
   },
   {
    "duration": 523,
    "start_time": "2021-09-12T08:42:03.302Z"
   },
   {
    "duration": 590,
    "start_time": "2021-09-12T08:42:12.452Z"
   },
   {
    "duration": 820,
    "start_time": "2021-09-12T08:46:00.787Z"
   },
   {
    "duration": 900,
    "start_time": "2021-09-12T08:46:10.298Z"
   },
   {
    "duration": 714,
    "start_time": "2021-09-12T08:46:24.565Z"
   },
   {
    "duration": 331,
    "start_time": "2021-09-12T08:54:37.270Z"
   },
   {
    "duration": 183,
    "start_time": "2021-09-12T08:54:47.727Z"
   },
   {
    "duration": 3,
    "start_time": "2021-09-12T08:54:53.831Z"
   },
   {
    "duration": 39,
    "start_time": "2021-09-12T08:54:54.142Z"
   },
   {
    "duration": 7,
    "start_time": "2021-09-12T08:54:54.371Z"
   },
   {
    "duration": 4,
    "start_time": "2021-09-12T08:54:54.594Z"
   },
   {
    "duration": 4,
    "start_time": "2021-09-12T08:54:55.052Z"
   },
   {
    "duration": 686,
    "start_time": "2021-09-12T08:54:56.119Z"
   },
   {
    "duration": 6,
    "start_time": "2021-09-12T08:54:56.807Z"
   },
   {
    "duration": 3,
    "start_time": "2021-09-12T08:54:56.933Z"
   },
   {
    "duration": 280,
    "start_time": "2021-09-12T08:54:57.142Z"
   },
   {
    "duration": 211,
    "start_time": "2021-09-12T08:54:57.758Z"
   },
   {
    "duration": 4,
    "start_time": "2021-09-12T08:54:58.435Z"
   },
   {
    "duration": 1940,
    "start_time": "2021-09-12T08:54:59.050Z"
   },
   {
    "duration": 97,
    "start_time": "2021-09-12T08:55:00.993Z"
   },
   {
    "duration": 452,
    "start_time": "2021-09-12T08:55:01.095Z"
   },
   {
    "duration": 2,
    "start_time": "2021-09-12T08:55:01.549Z"
   },
   {
    "duration": 27,
    "start_time": "2021-09-12T08:55:01.553Z"
   },
   {
    "duration": 990,
    "start_time": "2021-09-12T08:55:07.605Z"
   },
   {
    "duration": 705,
    "start_time": "2021-09-12T08:55:11.309Z"
   },
   {
    "duration": 6,
    "start_time": "2021-09-12T08:55:23.382Z"
   },
   {
    "duration": 385,
    "start_time": "2021-09-12T08:55:30.773Z"
   },
   {
    "duration": 4,
    "start_time": "2021-09-12T08:55:40.480Z"
   },
   {
    "duration": 38,
    "start_time": "2021-09-12T08:55:40.709Z"
   },
   {
    "duration": 6,
    "start_time": "2021-09-12T08:55:40.877Z"
   },
   {
    "duration": 5,
    "start_time": "2021-09-12T08:55:41.075Z"
   },
   {
    "duration": 4,
    "start_time": "2021-09-12T08:55:41.441Z"
   },
   {
    "duration": 690,
    "start_time": "2021-09-12T08:55:42.367Z"
   },
   {
    "duration": 7,
    "start_time": "2021-09-12T08:55:43.058Z"
   },
   {
    "duration": 4,
    "start_time": "2021-09-12T08:55:43.132Z"
   },
   {
    "duration": 297,
    "start_time": "2021-09-12T08:55:43.281Z"
   },
   {
    "duration": 220,
    "start_time": "2021-09-12T08:55:43.818Z"
   },
   {
    "duration": 4,
    "start_time": "2021-09-12T08:55:44.279Z"
   },
   {
    "duration": 1738,
    "start_time": "2021-09-12T08:55:45.049Z"
   },
   {
    "duration": 94,
    "start_time": "2021-09-12T08:55:46.791Z"
   },
   {
    "duration": 348,
    "start_time": "2021-09-12T08:55:54.027Z"
   },
   {
    "duration": 3,
    "start_time": "2021-09-12T08:55:55.583Z"
   },
   {
    "duration": 3,
    "start_time": "2021-09-12T08:55:56.223Z"
   },
   {
    "duration": 1173,
    "start_time": "2021-09-12T08:55:56.853Z"
   },
   {
    "duration": 532,
    "start_time": "2021-09-12T08:56:03.462Z"
   },
   {
    "duration": 550,
    "start_time": "2021-09-12T08:56:20.848Z"
   },
   {
    "duration": 3,
    "start_time": "2021-09-12T09:16:38.772Z"
   },
   {
    "duration": 39,
    "start_time": "2021-09-12T09:16:39.155Z"
   },
   {
    "duration": 7,
    "start_time": "2021-09-12T09:16:39.479Z"
   },
   {
    "duration": 4,
    "start_time": "2021-09-12T09:16:39.772Z"
   },
   {
    "duration": 5,
    "start_time": "2021-09-12T09:16:40.285Z"
   },
   {
    "duration": 673,
    "start_time": "2021-09-12T09:16:41.279Z"
   },
   {
    "duration": 6,
    "start_time": "2021-09-12T09:16:41.954Z"
   },
   {
    "duration": 3,
    "start_time": "2021-09-12T09:16:42.037Z"
   },
   {
    "duration": 278,
    "start_time": "2021-09-12T09:16:42.211Z"
   },
   {
    "duration": 209,
    "start_time": "2021-09-12T09:16:42.791Z"
   },
   {
    "duration": 3,
    "start_time": "2021-09-12T09:16:43.177Z"
   },
   {
    "duration": 2040,
    "start_time": "2021-09-12T09:16:43.751Z"
   },
   {
    "duration": 92,
    "start_time": "2021-09-12T09:16:45.794Z"
   },
   {
    "duration": 455,
    "start_time": "2021-09-12T09:16:45.889Z"
   },
   {
    "duration": 2,
    "start_time": "2021-09-12T09:16:46.346Z"
   },
   {
    "duration": 5,
    "start_time": "2021-09-12T09:16:46.350Z"
   },
   {
    "duration": 987,
    "start_time": "2021-09-12T09:16:46.356Z"
   },
   {
    "duration": 685,
    "start_time": "2021-09-12T09:16:47.345Z"
   },
   {
    "duration": 6,
    "start_time": "2021-09-12T09:16:51.415Z"
   },
   {
    "duration": 378,
    "start_time": "2021-09-12T09:16:52.931Z"
   },
   {
    "duration": 10,
    "start_time": "2021-09-12T09:17:13.105Z"
   },
   {
    "duration": 389,
    "start_time": "2021-09-12T09:18:30.077Z"
   },
   {
    "duration": 367,
    "start_time": "2021-09-12T09:18:40.449Z"
   },
   {
    "duration": 629,
    "start_time": "2021-09-12T09:20:01.364Z"
   },
   {
    "duration": 559,
    "start_time": "2021-09-12T09:27:53.554Z"
   },
   {
    "duration": 365,
    "start_time": "2021-09-12T09:28:04.553Z"
   },
   {
    "duration": 344,
    "start_time": "2021-09-12T09:28:13.746Z"
   },
   {
    "duration": 359,
    "start_time": "2021-09-12T09:28:22.769Z"
   },
   {
    "duration": 661,
    "start_time": "2021-09-12T09:28:53.422Z"
   },
   {
    "duration": 44,
    "start_time": "2021-09-12T09:28:58.642Z"
   },
   {
    "duration": 22,
    "start_time": "2021-09-12T09:28:59.705Z"
   },
   {
    "duration": 6,
    "start_time": "2021-09-12T09:29:05.287Z"
   },
   {
    "duration": 22,
    "start_time": "2021-09-12T09:29:23.192Z"
   },
   {
    "duration": 6,
    "start_time": "2021-09-12T09:29:24.578Z"
   },
   {
    "duration": 3,
    "start_time": "2021-09-12T09:29:52.605Z"
   },
   {
    "duration": 37,
    "start_time": "2021-09-12T09:29:52.884Z"
   },
   {
    "duration": 6,
    "start_time": "2021-09-12T09:29:53.204Z"
   },
   {
    "duration": 4,
    "start_time": "2021-09-12T09:29:53.473Z"
   },
   {
    "duration": 4,
    "start_time": "2021-09-12T09:29:54.756Z"
   },
   {
    "duration": 64,
    "start_time": "2021-09-12T09:30:06.400Z"
   },
   {
    "duration": 4,
    "start_time": "2021-09-12T09:30:06.700Z"
   },
   {
    "duration": 59,
    "start_time": "2021-09-12T09:30:07.006Z"
   },
   {
    "duration": 6,
    "start_time": "2021-09-12T09:30:08.508Z"
   },
   {
    "duration": 3,
    "start_time": "2021-09-12T09:30:17.845Z"
   },
   {
    "duration": 37,
    "start_time": "2021-09-12T09:30:18.090Z"
   },
   {
    "duration": 7,
    "start_time": "2021-09-12T09:30:18.306Z"
   },
   {
    "duration": 4,
    "start_time": "2021-09-12T09:30:18.510Z"
   },
   {
    "duration": 4,
    "start_time": "2021-09-12T09:30:18.964Z"
   },
   {
    "duration": 671,
    "start_time": "2021-09-12T09:30:20.300Z"
   },
   {
    "duration": 7,
    "start_time": "2021-09-12T09:30:22.957Z"
   },
   {
    "duration": 3,
    "start_time": "2021-09-12T09:30:26.650Z"
   },
   {
    "duration": 280,
    "start_time": "2021-09-12T09:30:27.085Z"
   },
   {
    "duration": 221,
    "start_time": "2021-09-12T09:30:30.467Z"
   },
   {
    "duration": 4,
    "start_time": "2021-09-12T09:30:41.760Z"
   },
   {
    "duration": 1797,
    "start_time": "2021-09-12T09:30:43.097Z"
   },
   {
    "duration": 2,
    "start_time": "2021-09-12T09:30:45.574Z"
   },
   {
    "duration": 333,
    "start_time": "2021-09-12T09:30:50.353Z"
   },
   {
    "duration": 2,
    "start_time": "2021-09-12T09:30:52.163Z"
   },
   {
    "duration": 3,
    "start_time": "2021-09-12T09:30:54.461Z"
   },
   {
    "duration": 1200,
    "start_time": "2021-09-12T09:30:55.789Z"
   },
   {
    "duration": 711,
    "start_time": "2021-09-12T09:31:03.187Z"
   },
   {
    "duration": 575,
    "start_time": "2021-09-12T09:31:10.944Z"
   },
   {
    "duration": 3,
    "start_time": "2021-09-12T09:31:15.578Z"
   },
   {
    "duration": 61,
    "start_time": "2021-09-12T09:31:19.868Z"
   },
   {
    "duration": 4,
    "start_time": "2021-09-12T09:31:26.309Z"
   },
   {
    "duration": 34,
    "start_time": "2021-09-12T09:31:28.025Z"
   },
   {
    "duration": 6,
    "start_time": "2021-09-12T09:31:29.877Z"
   },
   {
    "duration": 3,
    "start_time": "2021-09-12T09:32:28.711Z"
   },
   {
    "duration": 37,
    "start_time": "2021-09-12T09:32:28.946Z"
   },
   {
    "duration": 6,
    "start_time": "2021-09-12T09:32:29.170Z"
   },
   {
    "duration": 4,
    "start_time": "2021-09-12T09:32:29.355Z"
   },
   {
    "duration": 4,
    "start_time": "2021-09-12T09:32:29.745Z"
   },
   {
    "duration": 4,
    "start_time": "2021-09-12T09:32:39.250Z"
   },
   {
    "duration": 54,
    "start_time": "2021-09-12T09:32:39.512Z"
   },
   {
    "duration": 6,
    "start_time": "2021-09-12T09:32:39.871Z"
   },
   {
    "duration": 3,
    "start_time": "2021-09-12T09:32:49.568Z"
   },
   {
    "duration": 39,
    "start_time": "2021-09-12T09:32:49.775Z"
   },
   {
    "duration": 7,
    "start_time": "2021-09-12T09:32:49.984Z"
   },
   {
    "duration": 5,
    "start_time": "2021-09-12T09:32:50.182Z"
   },
   {
    "duration": 5,
    "start_time": "2021-09-12T09:32:50.551Z"
   },
   {
    "duration": 662,
    "start_time": "2021-09-12T09:32:53.270Z"
   },
   {
    "duration": 8,
    "start_time": "2021-09-12T09:32:57.574Z"
   },
   {
    "duration": 4,
    "start_time": "2021-09-12T09:33:09.905Z"
   },
   {
    "duration": 32,
    "start_time": "2021-09-12T09:33:11.286Z"
   },
   {
    "duration": 6,
    "start_time": "2021-09-12T09:33:12.721Z"
   },
   {
    "duration": 14,
    "start_time": "2021-09-12T09:33:41.454Z"
   },
   {
    "duration": 8,
    "start_time": "2021-09-12T09:33:51.327Z"
   },
   {
    "duration": 2,
    "start_time": "2021-09-12T09:34:23.566Z"
   },
   {
    "duration": 4,
    "start_time": "2021-09-12T09:34:25.093Z"
   },
   {
    "duration": 4,
    "start_time": "2021-09-12T09:34:27.481Z"
   },
   {
    "duration": 3,
    "start_time": "2021-09-12T09:34:28.508Z"
   },
   {
    "duration": 4,
    "start_time": "2021-09-12T09:34:29.718Z"
   },
   {
    "duration": 74277,
    "start_time": "2021-09-12T09:34:33.011Z"
   },
   {
    "duration": 16970,
    "start_time": "2021-09-12T10:11:30.934Z"
   },
   {
    "duration": 271,
    "start_time": "2021-09-12T10:41:36.437Z"
   },
   {
    "duration": 192,
    "start_time": "2021-09-12T10:42:38.929Z"
   },
   {
    "duration": 262,
    "start_time": "2021-09-12T10:43:15.710Z"
   },
   {
    "duration": 1731,
    "start_time": "2021-09-12T10:46:47.569Z"
   },
   {
    "duration": 4,
    "start_time": "2021-09-12T10:47:36.257Z"
   },
   {
    "duration": 1232,
    "start_time": "2021-09-12T10:47:37.366Z"
   },
   {
    "duration": 1995,
    "start_time": "2021-09-12T10:48:48.077Z"
   },
   {
    "duration": 276,
    "start_time": "2021-09-12T10:48:51.851Z"
   },
   {
    "duration": 264,
    "start_time": "2021-09-12T10:48:55.990Z"
   },
   {
    "duration": 68,
    "start_time": "2021-09-12T10:49:14.917Z"
   },
   {
    "duration": 260,
    "start_time": "2021-09-12T10:49:16.774Z"
   },
   {
    "duration": 254,
    "start_time": "2021-09-12T10:49:19.091Z"
   },
   {
    "duration": 4,
    "start_time": "2021-09-12T10:55:24.008Z"
   },
   {
    "duration": 254,
    "start_time": "2021-09-12T10:55:25.617Z"
   },
   {
    "duration": 3,
    "start_time": "2021-09-12T10:55:35.670Z"
   },
   {
    "duration": 10,
    "start_time": "2021-09-12T10:55:36.669Z"
   },
   {
    "duration": 12,
    "start_time": "2021-09-12T10:55:44.717Z"
   },
   {
    "duration": 202,
    "start_time": "2021-09-12T10:57:29.867Z"
   },
   {
    "duration": 511,
    "start_time": "2021-09-12T10:57:39.626Z"
   },
   {
    "duration": 247,
    "start_time": "2021-09-12T10:57:45.371Z"
   },
   {
    "duration": 1463,
    "start_time": "2021-09-12T10:58:09.822Z"
   },
   {
    "duration": 513,
    "start_time": "2021-09-12T10:58:14.054Z"
   },
   {
    "duration": 186,
    "start_time": "2021-09-12T10:59:16.194Z"
   },
   {
    "duration": 9,
    "start_time": "2021-09-12T11:00:37.643Z"
   },
   {
    "duration": 107,
    "start_time": "2021-09-12T11:02:21.481Z"
   },
   {
    "duration": 2040,
    "start_time": "2021-09-12T11:02:22.538Z"
   },
   {
    "duration": 1461,
    "start_time": "2021-09-12T11:02:25.444Z"
   },
   {
    "duration": 8,
    "start_time": "2021-09-12T11:02:28.062Z"
   },
   {
    "duration": 229479,
    "start_time": "2021-09-12T11:05:59.410Z"
   },
   {
    "duration": 3,
    "start_time": "2021-09-12T11:14:58.797Z"
   },
   {
    "duration": 262,
    "start_time": "2021-09-12T11:15:10.073Z"
   },
   {
    "duration": 945,
    "start_time": "2021-09-12T11:22:39.539Z"
   },
   {
    "duration": 46,
    "start_time": "2021-09-12T11:22:41.291Z"
   },
   {
    "duration": 6,
    "start_time": "2021-09-12T11:22:46.039Z"
   },
   {
    "duration": 5,
    "start_time": "2021-09-12T11:22:46.912Z"
   },
   {
    "duration": 5,
    "start_time": "2021-09-12T11:23:36.593Z"
   },
   {
    "duration": 706,
    "start_time": "2021-09-12T11:24:03.736Z"
   },
   {
    "duration": 9,
    "start_time": "2021-09-12T11:24:10.886Z"
   },
   {
    "duration": 3,
    "start_time": "2021-09-12T11:24:22.646Z"
   },
   {
    "duration": 333,
    "start_time": "2021-09-12T11:24:31.021Z"
   },
   {
    "duration": 252,
    "start_time": "2021-09-12T11:24:50.561Z"
   },
   {
    "duration": 4,
    "start_time": "2021-09-12T11:25:50.169Z"
   },
   {
    "duration": 1833,
    "start_time": "2021-09-12T11:26:14.861Z"
   },
   {
    "duration": 971,
    "start_time": "2021-09-12T11:27:51.005Z"
   },
   {
    "duration": 714,
    "start_time": "2021-09-12T11:28:00.071Z"
   },
   {
    "duration": 720,
    "start_time": "2021-09-12T11:28:30.767Z"
   },
   {
    "duration": 25,
    "start_time": "2021-09-12T11:29:11.250Z"
   },
   {
    "duration": 61,
    "start_time": "2021-09-12T11:29:44.463Z"
   },
   {
    "duration": 32,
    "start_time": "2021-09-12T11:30:16.203Z"
   },
   {
    "duration": 6,
    "start_time": "2021-09-12T11:30:56.741Z"
   },
   {
    "duration": 3,
    "start_time": "2021-09-12T11:35:03.348Z"
   },
   {
    "duration": 80,
    "start_time": "2021-09-12T11:35:04.305Z"
   },
   {
    "duration": 516,
    "start_time": "2021-09-12T11:35:04.639Z"
   },
   {
    "duration": 1632,
    "start_time": "2021-09-12T11:35:05.157Z"
   },
   {
    "duration": 9,
    "start_time": "2021-09-12T11:35:08.857Z"
   },
   {
    "duration": 4,
    "start_time": "2021-09-12T11:58:41.060Z"
   },
   {
    "duration": 93,
    "start_time": "2021-09-12T11:58:42.095Z"
   },
   {
    "duration": 507,
    "start_time": "2021-09-12T11:58:43.100Z"
   },
   {
    "duration": 1391,
    "start_time": "2021-09-12T11:58:44.600Z"
   },
   {
    "duration": 10,
    "start_time": "2021-09-12T11:58:46.954Z"
   },
   {
    "duration": 4,
    "start_time": "2021-09-12T11:59:12.548Z"
   },
   {
    "duration": 3,
    "start_time": "2021-09-12T11:59:23.501Z"
   },
   {
    "duration": 4,
    "start_time": "2021-09-12T11:59:27.758Z"
   },
   {
    "duration": 466,
    "start_time": "2021-09-12T11:59:34.784Z"
   },
   {
    "duration": 5,
    "start_time": "2021-09-12T12:00:28.144Z"
   },
   {
    "duration": 74266,
    "start_time": "2021-09-12T12:00:30.724Z"
   },
   {
    "duration": 149,
    "start_time": "2021-09-12T12:03:26.036Z"
   },
   {
    "duration": 2000,
    "start_time": "2021-09-12T12:03:27.039Z"
   },
   {
    "duration": 1387,
    "start_time": "2021-09-12T12:03:30.000Z"
   },
   {
    "duration": 9,
    "start_time": "2021-09-12T12:03:33.317Z"
   },
   {
    "duration": 9,
    "start_time": "2021-09-12T12:05:42.908Z"
   },
   {
    "duration": 1697,
    "start_time": "2021-09-12T12:10:04.901Z"
   },
   {
    "duration": 431,
    "start_time": "2021-09-12T12:10:13.099Z"
   },
   {
    "duration": 270,
    "start_time": "2021-09-12T12:10:28.652Z"
   },
   {
    "duration": 21,
    "start_time": "2021-09-12T12:11:12.538Z"
   },
   {
    "duration": 1561,
    "start_time": "2021-09-12T12:11:20.133Z"
   },
   {
    "duration": 276,
    "start_time": "2021-09-12T12:11:24.799Z"
   },
   {
    "duration": 21,
    "start_time": "2021-09-12T12:11:50.614Z"
   },
   {
    "duration": 1433,
    "start_time": "2021-09-12T12:11:55.552Z"
   },
   {
    "duration": 60,
    "start_time": "2021-09-12T12:14:20.663Z"
   },
   {
    "duration": 59,
    "start_time": "2021-09-12T12:14:47.187Z"
   },
   {
    "duration": 4,
    "start_time": "2021-09-12T12:16:58.780Z"
   },
   {
    "duration": 193,
    "start_time": "2021-09-12T12:17:00.407Z"
   },
   {
    "duration": 5383,
    "start_time": "2021-09-12T12:17:33.004Z"
   },
   {
    "duration": 965,
    "start_time": "2021-09-12T12:34:32.536Z"
   },
   {
    "duration": 44,
    "start_time": "2021-09-12T12:34:33.503Z"
   },
   {
    "duration": 5,
    "start_time": "2021-09-12T12:34:33.549Z"
   },
   {
    "duration": 4,
    "start_time": "2021-09-12T12:34:33.556Z"
   },
   {
    "duration": 7,
    "start_time": "2021-09-12T12:34:33.561Z"
   },
   {
    "duration": 722,
    "start_time": "2021-09-12T12:34:33.585Z"
   },
   {
    "duration": 8,
    "start_time": "2021-09-12T12:34:34.309Z"
   },
   {
    "duration": 3,
    "start_time": "2021-09-12T12:34:34.320Z"
   },
   {
    "duration": 373,
    "start_time": "2021-09-12T12:34:34.324Z"
   },
   {
    "duration": 286,
    "start_time": "2021-09-12T12:34:34.699Z"
   },
   {
    "duration": 3,
    "start_time": "2021-09-12T12:34:34.987Z"
   },
   {
    "duration": 2099,
    "start_time": "2021-09-12T12:34:34.992Z"
   },
   {
    "duration": 95,
    "start_time": "2021-09-12T12:34:37.095Z"
   },
   {
    "duration": 1139,
    "start_time": "2021-09-12T12:34:37.195Z"
   },
   {
    "duration": 738,
    "start_time": "2021-09-12T12:34:38.336Z"
   },
   {
    "duration": 796,
    "start_time": "2021-09-12T12:34:39.076Z"
   },
   {
    "duration": 28,
    "start_time": "2021-09-12T12:34:39.874Z"
   },
   {
    "duration": 59,
    "start_time": "2021-09-12T12:34:39.904Z"
   },
   {
    "duration": 46,
    "start_time": "2021-09-12T12:34:39.965Z"
   },
   {
    "duration": 5,
    "start_time": "2021-09-12T12:34:40.013Z"
   },
   {
    "duration": 32,
    "start_time": "2021-09-12T12:34:40.020Z"
   },
   {
    "duration": 40,
    "start_time": "2021-09-12T12:34:40.054Z"
   },
   {
    "duration": 639,
    "start_time": "2021-09-12T12:34:40.189Z"
   },
   {
    "duration": 1561,
    "start_time": "2021-09-12T12:34:40.830Z"
   },
   {
    "duration": 10,
    "start_time": "2021-09-12T12:34:42.393Z"
   },
   {
    "duration": 12,
    "start_time": "2021-09-12T12:34:42.404Z"
   },
   {
    "duration": 16,
    "start_time": "2021-09-12T12:34:42.417Z"
   },
   {
    "duration": 53,
    "start_time": "2021-09-12T12:34:42.434Z"
   },
   {
    "duration": 78197,
    "start_time": "2021-09-12T12:34:42.488Z"
   },
   {
    "duration": 104,
    "start_time": "2021-09-12T12:36:00.687Z"
   },
   {
    "duration": 2129,
    "start_time": "2021-09-12T12:36:00.794Z"
   },
   {
    "duration": 1666,
    "start_time": "2021-09-12T12:36:02.924Z"
   },
   {
    "duration": 8,
    "start_time": "2021-09-12T12:36:04.592Z"
   },
   {
    "duration": 1588,
    "start_time": "2021-09-12T12:36:04.602Z"
   },
   {
    "duration": 298,
    "start_time": "2021-09-12T12:36:06.192Z"
   },
   {
    "duration": 4,
    "start_time": "2021-09-12T14:04:55.330Z"
   },
   {
    "duration": 41,
    "start_time": "2021-09-12T14:04:58.074Z"
   },
   {
    "duration": 6,
    "start_time": "2021-09-12T14:04:59.277Z"
   },
   {
    "duration": 5,
    "start_time": "2021-09-12T14:05:01.107Z"
   },
   {
    "duration": 4,
    "start_time": "2021-09-12T14:05:03.366Z"
   },
   {
    "duration": 753,
    "start_time": "2021-09-12T14:05:07.258Z"
   },
   {
    "duration": 7,
    "start_time": "2021-09-12T14:05:10.171Z"
   },
   {
    "duration": 3,
    "start_time": "2021-09-12T14:05:11.661Z"
   },
   {
    "duration": 366,
    "start_time": "2021-09-12T14:05:12.411Z"
   },
   {
    "duration": 207,
    "start_time": "2021-09-12T14:05:20.255Z"
   },
   {
    "duration": 3,
    "start_time": "2021-09-12T14:05:27.943Z"
   },
   {
    "duration": 1834,
    "start_time": "2021-09-12T14:05:30.551Z"
   },
   {
    "duration": 1007,
    "start_time": "2021-09-12T14:05:34.216Z"
   },
   {
    "duration": 708,
    "start_time": "2021-09-12T14:05:41.308Z"
   },
   {
    "duration": 646,
    "start_time": "2021-09-12T14:05:50.058Z"
   },
   {
    "duration": 2,
    "start_time": "2021-09-12T14:05:56.551Z"
   },
   {
    "duration": 5,
    "start_time": "2021-09-12T14:06:00.031Z"
   },
   {
    "duration": 32,
    "start_time": "2021-09-12T14:06:01.250Z"
   },
   {
    "duration": 5,
    "start_time": "2021-09-12T14:06:02.535Z"
   },
   {
    "duration": 4,
    "start_time": "2021-09-12T14:06:06.099Z"
   },
   {
    "duration": 104,
    "start_time": "2021-09-12T14:06:06.981Z"
   },
   {
    "duration": 518,
    "start_time": "2021-09-12T14:06:08.159Z"
   },
   {
    "duration": 1463,
    "start_time": "2021-09-12T14:06:09.635Z"
   },
   {
    "duration": 9,
    "start_time": "2021-09-12T14:06:11.966Z"
   },
   {
    "duration": 5,
    "start_time": "2021-09-12T14:06:14.098Z"
   },
   {
    "duration": 3,
    "start_time": "2021-09-12T14:06:15.972Z"
   },
   {
    "duration": 4,
    "start_time": "2021-09-12T14:06:16.848Z"
   },
   {
    "duration": 71560,
    "start_time": "2021-09-12T14:06:19.542Z"
   },
   {
    "duration": 106,
    "start_time": "2021-09-12T14:12:29.582Z"
   },
   {
    "duration": 1950,
    "start_time": "2021-09-12T14:12:30.500Z"
   },
   {
    "duration": 1453,
    "start_time": "2021-09-12T14:12:33.438Z"
   },
   {
    "duration": 9,
    "start_time": "2021-09-12T14:12:35.722Z"
   },
   {
    "duration": 242,
    "start_time": "2021-09-12T14:16:40.932Z"
   },
   {
    "duration": 342,
    "start_time": "2021-09-12T14:16:56.920Z"
   },
   {
    "duration": 231,
    "start_time": "2021-09-12T14:17:03.115Z"
   },
   {
    "duration": 204,
    "start_time": "2021-09-12T14:17:12.740Z"
   },
   {
    "duration": 206,
    "start_time": "2021-09-12T14:17:20.629Z"
   },
   {
    "duration": 210,
    "start_time": "2021-09-12T14:17:29.213Z"
   },
   {
    "duration": 205,
    "start_time": "2021-09-12T14:17:34.443Z"
   },
   {
    "duration": 258,
    "start_time": "2021-09-12T14:17:42.974Z"
   },
   {
    "duration": 291,
    "start_time": "2021-09-12T14:17:50.907Z"
   },
   {
    "duration": 357,
    "start_time": "2021-09-12T14:18:00.901Z"
   },
   {
    "duration": 334,
    "start_time": "2021-09-12T14:18:16.009Z"
   },
   {
    "duration": 265,
    "start_time": "2021-09-12T14:18:48.573Z"
   },
   {
    "duration": 279,
    "start_time": "2021-09-12T14:18:57.746Z"
   },
   {
    "duration": 255,
    "start_time": "2021-09-12T14:19:06.489Z"
   },
   {
    "duration": 326,
    "start_time": "2021-09-12T14:19:21.462Z"
   },
   {
    "duration": 306,
    "start_time": "2021-09-12T14:19:32.401Z"
   },
   {
    "duration": 296,
    "start_time": "2021-09-12T14:19:38.623Z"
   },
   {
    "duration": 266,
    "start_time": "2021-09-12T14:19:45.751Z"
   },
   {
    "duration": 276,
    "start_time": "2021-09-12T14:19:55.804Z"
   },
   {
    "duration": 18,
    "start_time": "2021-09-12T14:20:40.706Z"
   },
   {
    "duration": 1804,
    "start_time": "2021-09-12T14:20:46.981Z"
   },
   {
    "duration": 18,
    "start_time": "2021-09-12T14:21:03.655Z"
   },
   {
    "duration": 1573,
    "start_time": "2021-09-12T14:21:07.912Z"
   },
   {
    "duration": 17,
    "start_time": "2021-09-12T14:21:23.569Z"
   },
   {
    "duration": 1989,
    "start_time": "2021-09-12T14:21:31.815Z"
   },
   {
    "duration": 18,
    "start_time": "2021-09-12T14:21:52.951Z"
   },
   {
    "duration": 1459,
    "start_time": "2021-09-12T14:21:58.034Z"
   },
   {
    "duration": 16,
    "start_time": "2021-09-12T14:22:08.069Z"
   },
   {
    "duration": 1529,
    "start_time": "2021-09-12T14:22:16.261Z"
   },
   {
    "duration": 323,
    "start_time": "2021-09-12T14:22:17.793Z"
   },
   {
    "duration": 1273,
    "start_time": "2021-09-12T14:25:50.489Z"
   },
   {
    "duration": 43,
    "start_time": "2021-09-12T14:25:51.765Z"
   },
   {
    "duration": 7,
    "start_time": "2021-09-12T14:25:51.811Z"
   },
   {
    "duration": 5,
    "start_time": "2021-09-12T14:25:51.820Z"
   },
   {
    "duration": 4,
    "start_time": "2021-09-12T14:25:51.827Z"
   },
   {
    "duration": 799,
    "start_time": "2021-09-12T14:25:51.833Z"
   },
   {
    "duration": 8,
    "start_time": "2021-09-12T14:25:52.634Z"
   },
   {
    "duration": 2,
    "start_time": "2021-09-12T14:25:52.645Z"
   },
   {
    "duration": 295,
    "start_time": "2021-09-12T14:25:52.649Z"
   },
   {
    "duration": 205,
    "start_time": "2021-09-12T14:25:52.946Z"
   },
   {
    "duration": 4,
    "start_time": "2021-09-12T14:25:53.153Z"
   },
   {
    "duration": 3333,
    "start_time": "2021-09-12T14:25:53.159Z"
   },
   {
    "duration": 1155,
    "start_time": "2021-09-12T14:25:56.494Z"
   },
   {
    "duration": 773,
    "start_time": "2021-09-12T14:25:57.651Z"
   },
   {
    "duration": 662,
    "start_time": "2021-09-12T14:25:58.425Z"
   },
   {
    "duration": 2,
    "start_time": "2021-09-12T14:25:59.089Z"
   },
   {
    "duration": 10,
    "start_time": "2021-09-12T14:25:59.093Z"
   },
   {
    "duration": 37,
    "start_time": "2021-09-12T14:25:59.104Z"
   },
   {
    "duration": 4,
    "start_time": "2021-09-12T14:25:59.143Z"
   },
   {
    "duration": 21,
    "start_time": "2021-09-12T14:25:59.148Z"
   },
   {
    "duration": 724,
    "start_time": "2021-09-12T14:25:59.171Z"
   },
   {
    "duration": -28188,
    "start_time": "2021-09-12T14:26:28.085Z"
   },
   {
    "duration": -28190,
    "start_time": "2021-09-12T14:26:28.088Z"
   },
   {
    "duration": -28192,
    "start_time": "2021-09-12T14:26:28.091Z"
   },
   {
    "duration": -28194,
    "start_time": "2021-09-12T14:26:28.094Z"
   },
   {
    "duration": -28197,
    "start_time": "2021-09-12T14:26:28.097Z"
   },
   {
    "duration": -28199,
    "start_time": "2021-09-12T14:26:28.100Z"
   },
   {
    "duration": -28201,
    "start_time": "2021-09-12T14:26:28.103Z"
   },
   {
    "duration": -28204,
    "start_time": "2021-09-12T14:26:28.106Z"
   },
   {
    "duration": -28205,
    "start_time": "2021-09-12T14:26:28.108Z"
   },
   {
    "duration": -28207,
    "start_time": "2021-09-12T14:26:28.111Z"
   },
   {
    "duration": -28209,
    "start_time": "2021-09-12T14:26:28.114Z"
   },
   {
    "duration": -28212,
    "start_time": "2021-09-12T14:26:28.117Z"
   },
   {
    "duration": -28221,
    "start_time": "2021-09-12T14:26:28.127Z"
   },
   {
    "duration": 552,
    "start_time": "2021-09-12T14:47:23.084Z"
   },
   {
    "duration": 4,
    "start_time": "2021-09-12T14:49:32.214Z"
   },
   {
    "duration": 4,
    "start_time": "2021-09-12T14:49:41.011Z"
   },
   {
    "duration": 10,
    "start_time": "2021-09-12T14:49:41.871Z"
   },
   {
    "duration": 513,
    "start_time": "2021-09-12T14:49:43.212Z"
   },
   {
    "duration": 1469,
    "start_time": "2021-09-12T14:49:46.219Z"
   },
   {
    "duration": 8,
    "start_time": "2021-09-12T14:49:49.116Z"
   },
   {
    "duration": 1710,
    "start_time": "2021-09-12T14:50:08.582Z"
   },
   {
    "duration": 43,
    "start_time": "2021-09-12T14:50:10.294Z"
   },
   {
    "duration": 6,
    "start_time": "2021-09-12T14:50:10.339Z"
   },
   {
    "duration": 11,
    "start_time": "2021-09-12T14:50:10.347Z"
   },
   {
    "duration": 6,
    "start_time": "2021-09-12T14:50:10.360Z"
   },
   {
    "duration": 757,
    "start_time": "2021-09-12T14:50:10.368Z"
   },
   {
    "duration": 8,
    "start_time": "2021-09-12T14:50:11.126Z"
   },
   {
    "duration": 3,
    "start_time": "2021-09-12T14:50:11.136Z"
   },
   {
    "duration": 305,
    "start_time": "2021-09-12T14:50:11.141Z"
   },
   {
    "duration": 218,
    "start_time": "2021-09-12T14:50:11.448Z"
   },
   {
    "duration": 4,
    "start_time": "2021-09-12T14:50:11.668Z"
   },
   {
    "duration": 1903,
    "start_time": "2021-09-12T14:50:11.684Z"
   },
   {
    "duration": 1119,
    "start_time": "2021-09-12T14:50:13.590Z"
   },
   {
    "duration": 819,
    "start_time": "2021-09-12T14:50:14.711Z"
   },
   {
    "duration": 731,
    "start_time": "2021-09-12T14:50:15.532Z"
   },
   {
    "duration": 6,
    "start_time": "2021-09-12T14:50:16.265Z"
   },
   {
    "duration": 50,
    "start_time": "2021-09-12T14:50:16.272Z"
   },
   {
    "duration": 4,
    "start_time": "2021-09-12T14:50:16.324Z"
   },
   {
    "duration": 14,
    "start_time": "2021-09-12T14:50:16.330Z"
   },
   {
    "duration": 45,
    "start_time": "2021-09-12T14:50:16.346Z"
   },
   {
    "duration": 709,
    "start_time": "2021-09-12T14:50:16.394Z"
   },
   {
    "duration": 1596,
    "start_time": "2021-09-12T14:50:17.105Z"
   },
   {
    "duration": 9,
    "start_time": "2021-09-12T14:50:18.784Z"
   },
   {
    "duration": 7,
    "start_time": "2021-09-12T14:50:18.796Z"
   },
   {
    "duration": 10,
    "start_time": "2021-09-12T14:50:18.804Z"
   },
   {
    "duration": 5,
    "start_time": "2021-09-12T14:50:18.816Z"
   },
   {
    "duration": 69667,
    "start_time": "2021-09-12T14:50:18.823Z"
   },
   {
    "duration": 98,
    "start_time": "2021-09-12T14:51:28.492Z"
   },
   {
    "duration": 2116,
    "start_time": "2021-09-12T14:51:28.592Z"
   },
   {
    "duration": 1390,
    "start_time": "2021-09-12T14:51:30.710Z"
   },
   {
    "duration": 89,
    "start_time": "2021-09-12T14:51:32.102Z"
   },
   {
    "duration": 1694,
    "start_time": "2021-09-12T14:51:32.192Z"
   },
   {
    "duration": 291,
    "start_time": "2021-09-12T14:51:33.887Z"
   },
   {
    "duration": 1569,
    "start_time": "2021-09-13T01:50:56.508Z"
   },
   {
    "duration": 50,
    "start_time": "2021-09-13T01:50:58.188Z"
   },
   {
    "duration": 10,
    "start_time": "2021-09-13T01:50:58.439Z"
   },
   {
    "duration": 6,
    "start_time": "2021-09-13T01:50:58.910Z"
   },
   {
    "duration": 5,
    "start_time": "2021-09-13T01:50:59.329Z"
   },
   {
    "duration": 1033,
    "start_time": "2021-09-13T01:51:00.557Z"
   },
   {
    "duration": 16,
    "start_time": "2021-09-13T01:51:01.593Z"
   },
   {
    "duration": 4,
    "start_time": "2021-09-13T01:51:01.983Z"
   },
   {
    "duration": 394,
    "start_time": "2021-09-13T01:51:02.198Z"
   },
   {
    "duration": 287,
    "start_time": "2021-09-13T01:51:03.028Z"
   },
   {
    "duration": 5,
    "start_time": "2021-09-13T01:51:03.643Z"
   },
   {
    "duration": 2124,
    "start_time": "2021-09-13T01:51:04.259Z"
   },
   {
    "duration": 1544,
    "start_time": "2021-09-13T01:51:06.391Z"
   },
   {
    "duration": 1098,
    "start_time": "2021-09-13T01:51:07.938Z"
   },
   {
    "duration": 867,
    "start_time": "2021-09-13T01:51:09.038Z"
   },
   {
    "duration": 7,
    "start_time": "2021-09-13T01:51:13.801Z"
   },
   {
    "duration": 41,
    "start_time": "2021-09-13T01:51:28.168Z"
   },
   {
    "duration": 8,
    "start_time": "2021-09-13T01:51:28.971Z"
   },
   {
    "duration": 5,
    "start_time": "2021-09-13T01:51:31.034Z"
   },
   {
    "duration": 17,
    "start_time": "2021-09-13T01:51:32.414Z"
   },
   {
    "duration": 664,
    "start_time": "2021-09-13T01:51:32.684Z"
   },
   {
    "duration": 1732,
    "start_time": "2021-09-13T01:51:33.350Z"
   },
   {
    "duration": 13,
    "start_time": "2021-09-13T01:51:35.085Z"
   },
   {
    "duration": 7,
    "start_time": "2021-09-13T01:51:37.786Z"
   },
   {
    "duration": 4,
    "start_time": "2021-09-13T01:51:38.134Z"
   },
   {
    "duration": 5,
    "start_time": "2021-09-13T01:51:38.400Z"
   },
   {
    "duration": 88699,
    "start_time": "2021-09-13T01:51:38.889Z"
   },
   {
    "duration": 189,
    "start_time": "2021-09-13T01:53:07.592Z"
   },
   {
    "duration": 2404,
    "start_time": "2021-09-13T01:53:07.784Z"
   },
   {
    "duration": 1596,
    "start_time": "2021-09-13T01:53:10.190Z"
   },
   {
    "duration": 12,
    "start_time": "2021-09-13T01:53:11.789Z"
   },
   {
    "duration": 826,
    "start_time": "2021-09-13T01:55:45.758Z"
   },
   {
    "duration": 13,
    "start_time": "2021-09-13T01:55:47.600Z"
   },
   {
    "duration": 1443,
    "start_time": "2021-09-13T01:55:58.345Z"
   },
   {
    "duration": 13,
    "start_time": "2021-09-13T01:56:00.666Z"
   },
   {
    "duration": 2483,
    "start_time": "2021-09-13T01:56:26.349Z"
   },
   {
    "duration": 12,
    "start_time": "2021-09-13T01:56:33.026Z"
   },
   {
    "duration": 1638,
    "start_time": "2021-09-13T01:56:51.758Z"
   },
   {
    "duration": 382,
    "start_time": "2021-09-13T01:56:57.121Z"
   },
   {
    "duration": 29,
    "start_time": "2021-09-13T01:57:12.667Z"
   },
   {
    "duration": 1599,
    "start_time": "2021-09-13T01:57:23.498Z"
   },
   {
    "duration": 28,
    "start_time": "2021-09-13T01:57:42.420Z"
   },
   {
    "duration": 1664,
    "start_time": "2021-09-13T01:57:47.730Z"
   },
   {
    "duration": 39,
    "start_time": "2021-09-13T01:58:01.585Z"
   },
   {
    "duration": 1635,
    "start_time": "2021-09-13T01:58:06.549Z"
   },
   {
    "duration": 25,
    "start_time": "2021-09-13T01:58:19.654Z"
   },
   {
    "duration": 1440,
    "start_time": "2021-09-13T01:58:28.058Z"
   },
   {
    "duration": 24,
    "start_time": "2021-09-13T01:58:43.691Z"
   },
   {
    "duration": 1379,
    "start_time": "2021-09-13T01:58:48.616Z"
   },
   {
    "duration": 26,
    "start_time": "2021-09-13T01:58:58.847Z"
   },
   {
    "duration": 1536,
    "start_time": "2021-09-13T01:59:04.970Z"
   },
   {
    "duration": 26,
    "start_time": "2021-09-13T01:59:15.863Z"
   },
   {
    "duration": 1705,
    "start_time": "2021-09-13T01:59:20.393Z"
   },
   {
    "duration": 26,
    "start_time": "2021-09-13T01:59:30.573Z"
   },
   {
    "duration": 1508,
    "start_time": "2021-09-13T01:59:38.075Z"
   },
   {
    "duration": 25,
    "start_time": "2021-09-13T01:59:55.071Z"
   },
   {
    "duration": 1578,
    "start_time": "2021-09-13T01:59:59.823Z"
   },
   {
    "duration": 25,
    "start_time": "2021-09-13T02:00:11.204Z"
   },
   {
    "duration": 1639,
    "start_time": "2021-09-13T02:00:17.452Z"
   },
   {
    "duration": 26,
    "start_time": "2021-09-13T02:00:29.283Z"
   },
   {
    "duration": 1542,
    "start_time": "2021-09-13T02:00:35.264Z"
   },
   {
    "duration": 26,
    "start_time": "2021-09-13T02:00:46.720Z"
   },
   {
    "duration": 1851,
    "start_time": "2021-09-13T02:00:51.532Z"
   },
   {
    "duration": 24,
    "start_time": "2021-09-13T02:01:08.607Z"
   },
   {
    "duration": 1889,
    "start_time": "2021-09-13T02:01:16.393Z"
   },
   {
    "duration": 27,
    "start_time": "2021-09-13T02:01:30.087Z"
   },
   {
    "duration": 1763,
    "start_time": "2021-09-13T02:01:37.421Z"
   },
   {
    "duration": 26,
    "start_time": "2021-09-13T02:01:51.067Z"
   },
   {
    "duration": 1855,
    "start_time": "2021-09-13T02:01:57.540Z"
   },
   {
    "duration": 23,
    "start_time": "2021-09-13T02:02:14.009Z"
   },
   {
    "duration": 1666,
    "start_time": "2021-09-13T02:02:19.828Z"
   },
   {
    "duration": 21,
    "start_time": "2021-09-13T02:02:35.927Z"
   },
   {
    "duration": 1505,
    "start_time": "2021-09-13T02:02:40.992Z"
   },
   {
    "duration": 19,
    "start_time": "2021-09-13T02:02:54.053Z"
   },
   {
    "duration": 1481,
    "start_time": "2021-09-13T02:02:58.017Z"
   },
   {
    "duration": 17,
    "start_time": "2021-09-13T02:03:09.924Z"
   },
   {
    "duration": 1769,
    "start_time": "2021-09-13T02:03:17.626Z"
   },
   {
    "duration": 17,
    "start_time": "2021-09-13T02:03:36.483Z"
   },
   {
    "duration": 2512,
    "start_time": "2021-09-13T02:03:42.684Z"
   },
   {
    "duration": 16,
    "start_time": "2021-09-13T02:03:56.641Z"
   },
   {
    "duration": 1760,
    "start_time": "2021-09-13T02:04:02.228Z"
   },
   {
    "duration": 23,
    "start_time": "2021-09-13T02:05:14.689Z"
   },
   {
    "duration": 4173,
    "start_time": "2021-09-13T02:05:21.024Z"
   },
   {
    "duration": 25,
    "start_time": "2021-09-13T02:05:31.299Z"
   },
   {
    "duration": 1492,
    "start_time": "2021-09-13T02:05:35.890Z"
   },
   {
    "duration": 36,
    "start_time": "2021-09-13T02:05:47.762Z"
   },
   {
    "duration": 2067,
    "start_time": "2021-09-13T02:05:52.039Z"
   },
   {
    "duration": 17,
    "start_time": "2021-09-13T02:09:14.826Z"
   },
   {
    "duration": 1886,
    "start_time": "2021-09-13T02:09:20.312Z"
   },
   {
    "duration": 19,
    "start_time": "2021-09-13T02:09:29.802Z"
   },
   {
    "duration": 1386,
    "start_time": "2021-09-13T02:09:35.412Z"
   },
   {
    "duration": 20,
    "start_time": "2021-09-13T02:10:36.488Z"
   },
   {
    "duration": 1788,
    "start_time": "2021-09-13T02:10:42.295Z"
   },
   {
    "duration": 190,
    "start_time": "2021-09-13T02:11:11.927Z"
   },
   {
    "duration": 8740,
    "start_time": "2021-09-13T02:11:18.689Z"
   },
   {
    "duration": 33,
    "start_time": "2021-09-13T02:11:56.639Z"
   },
   {
    "duration": 6977,
    "start_time": "2021-09-13T02:12:06.344Z"
   },
   {
    "duration": 31,
    "start_time": "2021-09-13T02:12:31.939Z"
   },
   {
    "duration": 6169,
    "start_time": "2021-09-13T02:12:39.448Z"
   },
   {
    "duration": 6,
    "start_time": "2021-09-13T02:13:01.128Z"
   },
   {
    "duration": 43,
    "start_time": "2021-09-13T02:13:01.742Z"
   },
   {
    "duration": 8,
    "start_time": "2021-09-13T02:13:02.031Z"
   },
   {
    "duration": 6,
    "start_time": "2021-09-13T02:13:02.593Z"
   },
   {
    "duration": 5,
    "start_time": "2021-09-13T02:13:03.184Z"
   },
   {
    "duration": 7,
    "start_time": "2021-09-13T02:13:12.011Z"
   },
   {
    "duration": 91,
    "start_time": "2021-09-13T02:13:12.685Z"
   },
   {
    "duration": 7,
    "start_time": "2021-09-13T02:13:12.973Z"
   },
   {
    "duration": 5,
    "start_time": "2021-09-13T02:13:13.589Z"
   },
   {
    "duration": 187,
    "start_time": "2021-09-13T02:13:14.195Z"
   },
   {
    "duration": 3360,
    "start_time": "2021-09-13T02:13:14.834Z"
   },
   {
    "duration": 1993,
    "start_time": "2021-09-13T02:13:18.196Z"
   },
   {
    "duration": 13,
    "start_time": "2021-09-13T02:13:20.192Z"
   },
   {
    "duration": 5,
    "start_time": "2021-09-13T02:13:22.717Z"
   },
   {
    "duration": 10,
    "start_time": "2021-09-13T02:13:22.725Z"
   },
   {
    "duration": 5,
    "start_time": "2021-09-13T02:13:23.043Z"
   },
   {
    "duration": 207111,
    "start_time": "2021-09-13T02:13:25.378Z"
   },
   {
    "duration": 195,
    "start_time": "2021-09-13T02:16:52.491Z"
   },
   {
    "duration": 8924,
    "start_time": "2021-09-13T02:16:52.690Z"
   },
   {
    "duration": 2172,
    "start_time": "2021-09-13T02:17:01.618Z"
   },
   {
    "duration": 95,
    "start_time": "2021-09-13T02:17:03.793Z"
   },
   {
    "duration": 1804,
    "start_time": "2021-09-13T02:17:03.891Z"
   },
   {
    "duration": 469,
    "start_time": "2021-09-13T02:17:05.698Z"
   },
   {
    "duration": 6,
    "start_time": "2021-09-13T02:39:09.443Z"
   },
   {
    "duration": 42,
    "start_time": "2021-09-13T02:39:15.478Z"
   },
   {
    "duration": 8,
    "start_time": "2021-09-13T02:39:17.209Z"
   },
   {
    "duration": 5,
    "start_time": "2021-09-13T02:39:26.287Z"
   },
   {
    "duration": 229,
    "start_time": "2021-09-13T02:39:27.458Z"
   },
   {
    "duration": 3395,
    "start_time": "2021-09-13T02:39:27.865Z"
   },
   {
    "duration": 2231,
    "start_time": "2021-09-13T02:39:31.262Z"
   },
   {
    "duration": 12,
    "start_time": "2021-09-13T02:39:34.755Z"
   },
   {
    "duration": 6,
    "start_time": "2021-09-13T02:39:36.499Z"
   },
   {
    "duration": 5,
    "start_time": "2021-09-13T02:39:36.868Z"
   },
   {
    "duration": 6,
    "start_time": "2021-09-13T02:39:37.227Z"
   },
   {
    "duration": 205788,
    "start_time": "2021-09-13T02:39:38.103Z"
   },
   {
    "duration": 99,
    "start_time": "2021-09-13T02:43:08.684Z"
   },
   {
    "duration": 9226,
    "start_time": "2021-09-13T02:43:09.109Z"
   },
   {
    "duration": 1961,
    "start_time": "2021-09-13T02:43:18.337Z"
   },
   {
    "duration": 13,
    "start_time": "2021-09-13T02:43:22.706Z"
   },
   {
    "duration": 1908,
    "start_time": "2021-09-13T02:43:25.598Z"
   },
   {
    "duration": 534,
    "start_time": "2021-09-13T02:43:27.508Z"
   },
   {
    "duration": 27,
    "start_time": "2021-09-13T02:44:18.513Z"
   },
   {
    "duration": 5,
    "start_time": "2021-09-13T02:47:07.877Z"
   },
   {
    "duration": 42,
    "start_time": "2021-09-13T02:47:08.443Z"
   },
   {
    "duration": 8,
    "start_time": "2021-09-13T02:47:08.678Z"
   },
   {
    "duration": 5,
    "start_time": "2021-09-13T02:47:09.181Z"
   },
   {
    "duration": 5,
    "start_time": "2021-09-13T02:47:09.704Z"
   },
   {
    "duration": 983,
    "start_time": "2021-09-13T02:47:11.304Z"
   },
   {
    "duration": 11,
    "start_time": "2021-09-13T02:47:12.289Z"
   },
   {
    "duration": 4,
    "start_time": "2021-09-13T02:47:12.897Z"
   },
   {
    "duration": 409,
    "start_time": "2021-09-13T02:47:13.112Z"
   },
   {
    "duration": 290,
    "start_time": "2021-09-13T02:47:13.994Z"
   },
   {
    "duration": 5,
    "start_time": "2021-09-13T02:47:14.674Z"
   },
   {
    "duration": 1935,
    "start_time": "2021-09-13T02:47:15.354Z"
   },
   {
    "duration": 1663,
    "start_time": "2021-09-13T02:47:17.292Z"
   },
   {
    "duration": 989,
    "start_time": "2021-09-13T02:47:18.958Z"
   },
   {
    "duration": 892,
    "start_time": "2021-09-13T02:47:19.949Z"
   },
   {
    "duration": 7,
    "start_time": "2021-09-13T02:47:24.850Z"
   },
   {
    "duration": 9,
    "start_time": "2021-09-13T02:47:27.393Z"
   },
   {
    "duration": 45,
    "start_time": "2021-09-13T02:47:38.392Z"
   },
   {
    "duration": 31,
    "start_time": "2021-09-13T02:47:43.120Z"
   },
   {
    "duration": 8,
    "start_time": "2021-09-13T02:47:52.857Z"
   },
   {
    "duration": 6,
    "start_time": "2021-09-13T02:47:55.911Z"
   },
   {
    "duration": 49,
    "start_time": "2021-09-13T02:47:57.842Z"
   },
   {
    "duration": 605,
    "start_time": "2021-09-13T02:47:58.340Z"
   },
   {
    "duration": 1644,
    "start_time": "2021-09-13T02:47:59.842Z"
   },
   {
    "duration": 12,
    "start_time": "2021-09-13T02:48:02.203Z"
   },
   {
    "duration": 79,
    "start_time": "2021-09-13T02:48:10.405Z"
   },
   {
    "duration": 2449,
    "start_time": "2021-09-13T02:48:11.112Z"
   },
   {
    "duration": 1611,
    "start_time": "2021-09-13T02:48:14.576Z"
   },
   {
    "duration": 12,
    "start_time": "2021-09-13T02:48:17.016Z"
   },
   {
    "duration": 1422,
    "start_time": "2021-09-13T02:48:25.279Z"
   },
   {
    "duration": 417,
    "start_time": "2021-09-13T02:48:26.783Z"
   },
   {
    "duration": 1842,
    "start_time": "2021-09-13T02:49:11.951Z"
   },
   {
    "duration": 43,
    "start_time": "2021-09-13T02:49:24.238Z"
   },
   {
    "duration": 1745,
    "start_time": "2021-09-13T02:49:31.640Z"
   },
   {
    "duration": 298,
    "start_time": "2021-09-13T02:49:41.595Z"
   },
   {
    "duration": 6010,
    "start_time": "2021-09-13T02:49:48.573Z"
   },
   {
    "duration": 199,
    "start_time": "2021-09-13T02:50:06.804Z"
   },
   {
    "duration": 6360,
    "start_time": "2021-09-13T02:50:13.262Z"
   },
   {
    "duration": 190,
    "start_time": "2021-09-13T02:50:36.260Z"
   },
   {
    "duration": 6475,
    "start_time": "2021-09-13T02:50:41.155Z"
   },
   {
    "duration": 105,
    "start_time": "2021-09-13T02:51:12.219Z"
   },
   {
    "duration": 3383,
    "start_time": "2021-09-13T02:51:18.017Z"
   },
   {
    "duration": 61,
    "start_time": "2021-09-13T02:51:34.421Z"
   },
   {
    "duration": 2082,
    "start_time": "2021-09-13T02:51:39.420Z"
   },
   {
    "duration": 197,
    "start_time": "2021-09-13T02:51:53.356Z"
   },
   {
    "duration": 6422,
    "start_time": "2021-09-13T02:51:59.361Z"
   },
   {
    "duration": 202,
    "start_time": "2021-09-13T02:52:14.558Z"
   },
   {
    "duration": 6072,
    "start_time": "2021-09-13T02:52:18.813Z"
   },
   {
    "duration": 196,
    "start_time": "2021-09-13T02:52:31.876Z"
   },
   {
    "duration": 6315,
    "start_time": "2021-09-13T02:52:37.299Z"
   },
   {
    "duration": 199,
    "start_time": "2021-09-13T02:52:55.126Z"
   },
   {
    "duration": 6737,
    "start_time": "2021-09-13T02:52:59.361Z"
   },
   {
    "duration": 214,
    "start_time": "2021-09-13T02:53:14.864Z"
   },
   {
    "duration": 6316,
    "start_time": "2021-09-13T02:53:22.674Z"
   },
   {
    "duration": 195,
    "start_time": "2021-09-13T02:53:39.725Z"
   },
   {
    "duration": 6368,
    "start_time": "2021-09-13T02:53:44.757Z"
   },
   {
    "duration": 210,
    "start_time": "2021-09-13T02:54:01.472Z"
   },
   {
    "duration": 6715,
    "start_time": "2021-09-13T02:54:06.572Z"
   },
   {
    "duration": 193,
    "start_time": "2021-09-13T02:54:26.863Z"
   },
   {
    "duration": 6152,
    "start_time": "2021-09-13T02:54:31.364Z"
   },
   {
    "duration": 197,
    "start_time": "2021-09-13T02:54:50.181Z"
   },
   {
    "duration": 6345,
    "start_time": "2021-09-13T02:54:55.739Z"
   },
   {
    "duration": 188,
    "start_time": "2021-09-13T02:55:10.673Z"
   },
   {
    "duration": 7159,
    "start_time": "2021-09-13T02:55:15.626Z"
   },
   {
    "duration": 382,
    "start_time": "2021-09-13T02:56:00.770Z"
   },
   {
    "duration": 116,
    "start_time": "2021-09-13T02:56:20.382Z"
   },
   {
    "duration": 3533,
    "start_time": "2021-09-13T02:56:25.249Z"
   },
   {
    "duration": 203,
    "start_time": "2021-09-13T02:56:40.101Z"
   },
   {
    "duration": 8386,
    "start_time": "2021-09-13T02:56:44.616Z"
   },
   {
    "duration": 209,
    "start_time": "2021-09-13T02:57:00.777Z"
   },
   {
    "duration": 6202,
    "start_time": "2021-09-13T02:57:05.515Z"
   },
   {
    "duration": 392,
    "start_time": "2021-09-13T02:57:19.015Z"
   },
   {
    "duration": 2339,
    "start_time": "2021-09-13T08:31:49.699Z"
   },
   {
    "duration": 55,
    "start_time": "2021-09-13T08:31:52.041Z"
   },
   {
    "duration": 8,
    "start_time": "2021-09-13T08:31:52.743Z"
   },
   {
    "duration": 6,
    "start_time": "2021-09-13T08:31:53.852Z"
   },
   {
    "duration": 6,
    "start_time": "2021-09-13T08:31:54.910Z"
   },
   {
    "duration": 1083,
    "start_time": "2021-09-13T08:31:58.003Z"
   },
   {
    "duration": 13,
    "start_time": "2021-09-13T08:32:07.292Z"
   },
   {
    "duration": 4,
    "start_time": "2021-09-13T08:32:19.048Z"
   },
   {
    "duration": 431,
    "start_time": "2021-09-13T08:32:19.543Z"
   },
   {
    "duration": 302,
    "start_time": "2021-09-13T08:32:24.217Z"
   },
   {
    "duration": 6,
    "start_time": "2021-09-13T08:32:26.774Z"
   },
   {
    "duration": 2087,
    "start_time": "2021-09-13T08:32:29.176Z"
   },
   {
    "duration": 1511,
    "start_time": "2021-09-13T08:32:32.401Z"
   },
   {
    "duration": 1147,
    "start_time": "2021-09-13T08:32:35.506Z"
   },
   {
    "duration": 889,
    "start_time": "2021-09-13T08:32:45.255Z"
   },
   {
    "duration": 7,
    "start_time": "2021-09-13T08:32:54.067Z"
   },
   {
    "duration": 220,
    "start_time": "2021-09-13T08:33:07.042Z"
   },
   {
    "duration": 7,
    "start_time": "2021-09-13T08:33:08.366Z"
   },
   {
    "duration": 5,
    "start_time": "2021-09-13T08:33:10.387Z"
   },
   {
    "duration": 484,
    "start_time": "2021-09-13T08:33:12.479Z"
   },
   {
    "duration": 3730,
    "start_time": "2021-09-13T08:33:13.312Z"
   },
   {
    "duration": 7118,
    "start_time": "2021-09-13T08:33:17.044Z"
   },
   {
    "duration": 12,
    "start_time": "2021-09-13T08:33:24.165Z"
   },
   {
    "duration": 6,
    "start_time": "2021-09-13T08:33:39.437Z"
   },
   {
    "duration": 3,
    "start_time": "2021-09-13T08:33:41.382Z"
   },
   {
    "duration": 6,
    "start_time": "2021-09-13T08:33:47.517Z"
   },
   {
    "duration": 169348,
    "start_time": "2021-09-13T08:33:47.526Z"
   },
   {
    "duration": 290,
    "start_time": "2021-09-13T08:36:36.877Z"
   },
   {
    "duration": 2921,
    "start_time": "2021-09-13T08:36:37.169Z"
   },
   {
    "duration": 6574,
    "start_time": "2021-09-13T08:36:40.093Z"
   },
   {
    "duration": 12,
    "start_time": "2021-09-13T08:36:46.669Z"
   },
   {
    "duration": 6165,
    "start_time": "2021-09-13T08:38:30.348Z"
   },
   {
    "duration": 482,
    "start_time": "2021-09-13T08:38:36.516Z"
   },
   {
    "duration": 1689,
    "start_time": "2021-09-13T08:50:44.472Z"
   },
   {
    "duration": 67,
    "start_time": "2021-09-13T08:50:46.164Z"
   },
   {
    "duration": 11,
    "start_time": "2021-09-13T08:50:46.234Z"
   },
   {
    "duration": 6,
    "start_time": "2021-09-13T08:50:46.261Z"
   },
   {
    "duration": 6,
    "start_time": "2021-09-13T08:50:46.651Z"
   },
   {
    "duration": 1071,
    "start_time": "2021-09-13T08:50:47.993Z"
   },
   {
    "duration": 13,
    "start_time": "2021-09-13T08:50:49.067Z"
   },
   {
    "duration": 4,
    "start_time": "2021-09-13T08:50:50.248Z"
   },
   {
    "duration": 444,
    "start_time": "2021-09-13T08:50:50.458Z"
   },
   {
    "duration": 310,
    "start_time": "2021-09-13T08:50:51.254Z"
   },
   {
    "duration": 5,
    "start_time": "2021-09-13T08:50:51.839Z"
   },
   {
    "duration": 2057,
    "start_time": "2021-09-13T08:50:52.407Z"
   },
   {
    "duration": 1543,
    "start_time": "2021-09-13T08:50:54.561Z"
   },
   {
    "duration": 1167,
    "start_time": "2021-09-13T08:50:56.107Z"
   },
   {
    "duration": 949,
    "start_time": "2021-09-13T08:50:57.276Z"
   },
   {
    "duration": 7,
    "start_time": "2021-09-13T08:50:58.228Z"
   },
   {
    "duration": 248,
    "start_time": "2021-09-13T08:50:58.237Z"
   },
   {
    "duration": 8,
    "start_time": "2021-09-13T08:50:58.487Z"
   },
   {
    "duration": 35,
    "start_time": "2021-09-13T08:50:58.499Z"
   },
   {
    "duration": 428,
    "start_time": "2021-09-13T08:50:58.537Z"
   },
   {
    "duration": 4080,
    "start_time": "2021-09-13T08:50:58.968Z"
   },
   {
    "duration": 7518,
    "start_time": "2021-09-13T08:51:03.051Z"
   },
   {
    "duration": 12,
    "start_time": "2021-09-13T08:51:10.572Z"
   },
   {
    "duration": 79,
    "start_time": "2021-09-13T08:51:10.586Z"
   },
   {
    "duration": 21,
    "start_time": "2021-09-13T08:51:10.667Z"
   },
   {
    "duration": 30,
    "start_time": "2021-09-13T08:51:10.690Z"
   },
   {
    "duration": 167045,
    "start_time": "2021-09-13T08:51:10.724Z"
   },
   {
    "duration": 595,
    "start_time": "2021-09-13T08:53:57.773Z"
   },
   {
    "duration": 3059,
    "start_time": "2021-09-13T08:53:58.371Z"
   },
   {
    "duration": 7730,
    "start_time": "2021-09-13T08:54:01.432Z"
   },
   {
    "duration": 12,
    "start_time": "2021-09-13T08:54:09.165Z"
   },
   {
    "duration": 6514,
    "start_time": "2021-09-13T08:54:09.180Z"
   },
   {
    "duration": 460,
    "start_time": "2021-09-13T08:54:15.696Z"
   }
  ],
  "kernelspec": {
   "display_name": "Python 3",
   "language": "python",
   "name": "python3"
  },
  "language_info": {
   "codemirror_mode": {
    "name": "ipython",
    "version": 3
   },
   "file_extension": ".py",
   "mimetype": "text/x-python",
   "name": "python",
   "nbconvert_exporter": "python",
   "pygments_lexer": "ipython3",
   "version": "3.7.8"
  },
  "toc": {
   "base_numbering": 1,
   "nav_menu": {},
   "number_sections": true,
   "sideBar": true,
   "skip_h1_title": true,
   "title_cell": "Содержание",
   "title_sidebar": "Contents",
   "toc_cell": true,
   "toc_position": {
    "height": "calc(100% - 180px)",
    "left": "10px",
    "top": "150px",
    "width": "165px"
   },
   "toc_section_display": true,
   "toc_window_display": false
  }
 },
 "nbformat": 4,
 "nbformat_minor": 2
}
