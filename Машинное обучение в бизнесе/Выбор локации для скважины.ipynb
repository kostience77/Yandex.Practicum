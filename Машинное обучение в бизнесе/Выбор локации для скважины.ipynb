{
 "cells": [
  {
   "cell_type": "markdown",
   "metadata": {},
   "source": [
    "# Выбор локации для скважины"
   ]
  },
  {
   "cell_type": "markdown",
   "metadata": {},
   "source": [
    "Добывающей компании «ГлавРосГосНефть» нужно решить, где бурить новую скважину.\n",
    "\n",
    "Предоставлены пробы нефти в трёх регионах: в каждом 10 000 месторождений, где измерили качество нефти и объём её запасов. Необходимо построить  модель машинного обучения, которая поможет определить регион, где добыча принесёт наибольшую прибыль. Проанализируйте возможную прибыль и риски техникой *Bootstrap.*\n",
    "\n",
    "Шаги для выбора локации:\n",
    "\n",
    "- В избранном регионе ищут месторождения, для каждого определяют значения признаков;\n",
    "- Строят модель и оценивают объём запасов;\n",
    "- Выбирают месторождения с самым высокими оценками значений. Количество месторождений зависит от бюджета компании и стоимости разработки одной скважины;\n",
    "- Прибыль равна суммарной прибыли отобранных месторождений.\n",
    "\n",
    "**Цель: определить регион, где добыча принесёт наибольшую прибыль**"
   ]
  },
  {
   "cell_type": "markdown",
   "metadata": {},
   "source": [
    "1. [Загрузка и подготовка данных](#старт)\n",
    "    - [вывод](#вывод1.1)\n",
    "2. [Обучение и проверка модели](#обучение)\n",
    "    - [вывод](#вывод2.1)\n",
    "3. [Подготовка к расчёту прибыли](#модель)\n",
    "    - [вывод](#вывод3.1)\n",
    "4. [Расчёт прибыли и рисков](#расчет)\n",
    "    - [вывод](#вывод4.1)\n",
    "5. [Подсчет рисков и прибыли для каждого региона](#подсчет)\n",
    "    - [вывод](#вывод5.1)\n",
    "6. [Вывод](#вывод)  \n",
    "7. [Чек-лист готовности проекта](#лист)"
   ]
  },
  {
   "cell_type": "markdown",
   "metadata": {},
   "source": [
    "## Загрузка и подготовка данных\n",
    "<a id=\"старт\"></a>"
   ]
  },
  {
   "cell_type": "code",
   "execution_count": 1,
   "metadata": {},
   "outputs": [],
   "source": [
    "import warnings\n",
    "warnings.simplefilter(action='ignore')# Игнорировать все предупреждения\n",
    "\n",
    "import pandas as pd# импорт библиотеки pandas\n",
    "import numpy as np #Импорт модуля numpy. numpy работает с однородными многомерными массивами (матрицами)\n",
    "\n",
    "import matplotlib.pyplot as plt#Импорт модуля matplotlib\n",
    "import seaborn as sns# импорт seaborn\n",
    "\n",
    "from IPython.display import display\n",
    "\n",
    "from sklearn.model_selection import train_test_split # функция  для разделения датасет на данные для обучения и тестирования\n",
    "from sklearn.preprocessing import StandardScaler # импортируем StandardScaler из библиотеки sklearn\n",
    "from sklearn.preprocessing import MinMaxScaler\n",
    "scaler = StandardScaler()\n",
    "\n",
    "from sklearn.model_selection import train_test_split\n",
    "from sklearn.linear_model import LinearRegression # импортируем LinearRegression из библиотеки sklearn\n",
    "from sklearn.metrics import mean_squared_error, r2_score"
   ]
  },
  {
   "cell_type": "code",
   "execution_count": 2,
   "metadata": {},
   "outputs": [],
   "source": [
    "data_1=pd.read_csv('/datasets/geo_data_0.csv')# чтение файла с данными с сохранением в data_1\n",
    "data_2=pd.read_csv('/datasets/geo_data_1.csv')# чтение файла с данными с сохранением в data_2\n",
    "data_3=pd.read_csv('/datasets/geo_data_2.csv')# чтение файла с данными с сохранением в data_3"
   ]
  },
  {
   "cell_type": "code",
   "execution_count": 3,
   "metadata": {},
   "outputs": [
    {
     "data": {
      "text/html": [
       "<div>\n",
       "<style scoped>\n",
       "    .dataframe tbody tr th:only-of-type {\n",
       "        vertical-align: middle;\n",
       "    }\n",
       "\n",
       "    .dataframe tbody tr th {\n",
       "        vertical-align: top;\n",
       "    }\n",
       "\n",
       "    .dataframe thead th {\n",
       "        text-align: right;\n",
       "    }\n",
       "</style>\n",
       "<table border=\"1\" class=\"dataframe\">\n",
       "  <thead>\n",
       "    <tr style=\"text-align: right;\">\n",
       "      <th></th>\n",
       "      <th>id</th>\n",
       "      <th>f0</th>\n",
       "      <th>f1</th>\n",
       "      <th>f2</th>\n",
       "      <th>product</th>\n",
       "    </tr>\n",
       "  </thead>\n",
       "  <tbody>\n",
       "    <tr>\n",
       "      <td>0</td>\n",
       "      <td>txEyH</td>\n",
       "      <td>0.705745</td>\n",
       "      <td>-0.497823</td>\n",
       "      <td>1.221170</td>\n",
       "      <td>105.280062</td>\n",
       "    </tr>\n",
       "    <tr>\n",
       "      <td>1</td>\n",
       "      <td>2acmU</td>\n",
       "      <td>1.334711</td>\n",
       "      <td>-0.340164</td>\n",
       "      <td>4.365080</td>\n",
       "      <td>73.037750</td>\n",
       "    </tr>\n",
       "    <tr>\n",
       "      <td>2</td>\n",
       "      <td>409Wp</td>\n",
       "      <td>1.022732</td>\n",
       "      <td>0.151990</td>\n",
       "      <td>1.419926</td>\n",
       "      <td>85.265647</td>\n",
       "    </tr>\n",
       "    <tr>\n",
       "      <td>3</td>\n",
       "      <td>iJLyR</td>\n",
       "      <td>-0.032172</td>\n",
       "      <td>0.139033</td>\n",
       "      <td>2.978566</td>\n",
       "      <td>168.620776</td>\n",
       "    </tr>\n",
       "    <tr>\n",
       "      <td>4</td>\n",
       "      <td>Xdl7t</td>\n",
       "      <td>1.988431</td>\n",
       "      <td>0.155413</td>\n",
       "      <td>4.751769</td>\n",
       "      <td>154.036647</td>\n",
       "    </tr>\n",
       "  </tbody>\n",
       "</table>\n",
       "</div>"
      ],
      "text/plain": [
       "      id        f0        f1        f2     product\n",
       "0  txEyH  0.705745 -0.497823  1.221170  105.280062\n",
       "1  2acmU  1.334711 -0.340164  4.365080   73.037750\n",
       "2  409Wp  1.022732  0.151990  1.419926   85.265647\n",
       "3  iJLyR -0.032172  0.139033  2.978566  168.620776\n",
       "4  Xdl7t  1.988431  0.155413  4.751769  154.036647"
      ]
     },
     "metadata": {},
     "output_type": "display_data"
    },
    {
     "data": {
      "text/html": [
       "<div>\n",
       "<style scoped>\n",
       "    .dataframe tbody tr th:only-of-type {\n",
       "        vertical-align: middle;\n",
       "    }\n",
       "\n",
       "    .dataframe tbody tr th {\n",
       "        vertical-align: top;\n",
       "    }\n",
       "\n",
       "    .dataframe thead th {\n",
       "        text-align: right;\n",
       "    }\n",
       "</style>\n",
       "<table border=\"1\" class=\"dataframe\">\n",
       "  <thead>\n",
       "    <tr style=\"text-align: right;\">\n",
       "      <th></th>\n",
       "      <th>id</th>\n",
       "      <th>f0</th>\n",
       "      <th>f1</th>\n",
       "      <th>f2</th>\n",
       "      <th>product</th>\n",
       "    </tr>\n",
       "  </thead>\n",
       "  <tbody>\n",
       "    <tr>\n",
       "      <td>0</td>\n",
       "      <td>kBEdx</td>\n",
       "      <td>-15.001348</td>\n",
       "      <td>-8.276000</td>\n",
       "      <td>-0.005876</td>\n",
       "      <td>3.179103</td>\n",
       "    </tr>\n",
       "    <tr>\n",
       "      <td>1</td>\n",
       "      <td>62mP7</td>\n",
       "      <td>14.272088</td>\n",
       "      <td>-3.475083</td>\n",
       "      <td>0.999183</td>\n",
       "      <td>26.953261</td>\n",
       "    </tr>\n",
       "    <tr>\n",
       "      <td>2</td>\n",
       "      <td>vyE1P</td>\n",
       "      <td>6.263187</td>\n",
       "      <td>-5.948386</td>\n",
       "      <td>5.001160</td>\n",
       "      <td>134.766305</td>\n",
       "    </tr>\n",
       "    <tr>\n",
       "      <td>3</td>\n",
       "      <td>KcrkZ</td>\n",
       "      <td>-13.081196</td>\n",
       "      <td>-11.506057</td>\n",
       "      <td>4.999415</td>\n",
       "      <td>137.945408</td>\n",
       "    </tr>\n",
       "    <tr>\n",
       "      <td>4</td>\n",
       "      <td>AHL4O</td>\n",
       "      <td>12.702195</td>\n",
       "      <td>-8.147433</td>\n",
       "      <td>5.004363</td>\n",
       "      <td>134.766305</td>\n",
       "    </tr>\n",
       "  </tbody>\n",
       "</table>\n",
       "</div>"
      ],
      "text/plain": [
       "      id         f0         f1        f2     product\n",
       "0  kBEdx -15.001348  -8.276000 -0.005876    3.179103\n",
       "1  62mP7  14.272088  -3.475083  0.999183   26.953261\n",
       "2  vyE1P   6.263187  -5.948386  5.001160  134.766305\n",
       "3  KcrkZ -13.081196 -11.506057  4.999415  137.945408\n",
       "4  AHL4O  12.702195  -8.147433  5.004363  134.766305"
      ]
     },
     "metadata": {},
     "output_type": "display_data"
    },
    {
     "data": {
      "text/html": [
       "<div>\n",
       "<style scoped>\n",
       "    .dataframe tbody tr th:only-of-type {\n",
       "        vertical-align: middle;\n",
       "    }\n",
       "\n",
       "    .dataframe tbody tr th {\n",
       "        vertical-align: top;\n",
       "    }\n",
       "\n",
       "    .dataframe thead th {\n",
       "        text-align: right;\n",
       "    }\n",
       "</style>\n",
       "<table border=\"1\" class=\"dataframe\">\n",
       "  <thead>\n",
       "    <tr style=\"text-align: right;\">\n",
       "      <th></th>\n",
       "      <th>id</th>\n",
       "      <th>f0</th>\n",
       "      <th>f1</th>\n",
       "      <th>f2</th>\n",
       "      <th>product</th>\n",
       "    </tr>\n",
       "  </thead>\n",
       "  <tbody>\n",
       "    <tr>\n",
       "      <td>0</td>\n",
       "      <td>fwXo0</td>\n",
       "      <td>-1.146987</td>\n",
       "      <td>0.963328</td>\n",
       "      <td>-0.828965</td>\n",
       "      <td>27.758673</td>\n",
       "    </tr>\n",
       "    <tr>\n",
       "      <td>1</td>\n",
       "      <td>WJtFt</td>\n",
       "      <td>0.262778</td>\n",
       "      <td>0.269839</td>\n",
       "      <td>-2.530187</td>\n",
       "      <td>56.069697</td>\n",
       "    </tr>\n",
       "    <tr>\n",
       "      <td>2</td>\n",
       "      <td>ovLUW</td>\n",
       "      <td>0.194587</td>\n",
       "      <td>0.289035</td>\n",
       "      <td>-5.586433</td>\n",
       "      <td>62.871910</td>\n",
       "    </tr>\n",
       "    <tr>\n",
       "      <td>3</td>\n",
       "      <td>q6cA6</td>\n",
       "      <td>2.236060</td>\n",
       "      <td>-0.553760</td>\n",
       "      <td>0.930038</td>\n",
       "      <td>114.572842</td>\n",
       "    </tr>\n",
       "    <tr>\n",
       "      <td>4</td>\n",
       "      <td>WPMUX</td>\n",
       "      <td>-0.515993</td>\n",
       "      <td>1.716266</td>\n",
       "      <td>5.899011</td>\n",
       "      <td>149.600746</td>\n",
       "    </tr>\n",
       "  </tbody>\n",
       "</table>\n",
       "</div>"
      ],
      "text/plain": [
       "      id        f0        f1        f2     product\n",
       "0  fwXo0 -1.146987  0.963328 -0.828965   27.758673\n",
       "1  WJtFt  0.262778  0.269839 -2.530187   56.069697\n",
       "2  ovLUW  0.194587  0.289035 -5.586433   62.871910\n",
       "3  q6cA6  2.236060 -0.553760  0.930038  114.572842\n",
       "4  WPMUX -0.515993  1.716266  5.899011  149.600746"
      ]
     },
     "metadata": {},
     "output_type": "display_data"
    }
   ],
   "source": [
    "display(data_1.head(), data_2.head(),  data_3.head())"
   ]
  },
  {
   "cell_type": "code",
   "execution_count": 4,
   "metadata": {},
   "outputs": [
    {
     "name": "stdout",
     "output_type": "stream",
     "text": [
      "<class 'pandas.core.frame.DataFrame'>\n",
      "RangeIndex: 100000 entries, 0 to 99999\n",
      "Data columns (total 5 columns):\n",
      "id         100000 non-null object\n",
      "f0         100000 non-null float64\n",
      "f1         100000 non-null float64\n",
      "f2         100000 non-null float64\n",
      "product    100000 non-null float64\n",
      "dtypes: float64(4), object(1)\n",
      "memory usage: 3.8+ MB\n"
     ]
    }
   ],
   "source": [
    "data_1.info()#выведем информацию по датафрейму"
   ]
  },
  {
   "cell_type": "code",
   "execution_count": 5,
   "metadata": {},
   "outputs": [
    {
     "name": "stdout",
     "output_type": "stream",
     "text": [
      "<class 'pandas.core.frame.DataFrame'>\n",
      "RangeIndex: 100000 entries, 0 to 99999\n",
      "Data columns (total 5 columns):\n",
      "id         100000 non-null object\n",
      "f0         100000 non-null float64\n",
      "f1         100000 non-null float64\n",
      "f2         100000 non-null float64\n",
      "product    100000 non-null float64\n",
      "dtypes: float64(4), object(1)\n",
      "memory usage: 3.8+ MB\n"
     ]
    }
   ],
   "source": [
    "data_2.info()"
   ]
  },
  {
   "cell_type": "code",
   "execution_count": 6,
   "metadata": {},
   "outputs": [
    {
     "name": "stdout",
     "output_type": "stream",
     "text": [
      "<class 'pandas.core.frame.DataFrame'>\n",
      "RangeIndex: 100000 entries, 0 to 99999\n",
      "Data columns (total 5 columns):\n",
      "id         100000 non-null object\n",
      "f0         100000 non-null float64\n",
      "f1         100000 non-null float64\n",
      "f2         100000 non-null float64\n",
      "product    100000 non-null float64\n",
      "dtypes: float64(4), object(1)\n",
      "memory usage: 3.8+ MB\n"
     ]
    }
   ],
   "source": [
    "data_3.info()"
   ]
  },
  {
   "cell_type": "code",
   "execution_count": 7,
   "metadata": {
    "scrolled": true
   },
   "outputs": [
    {
     "data": {
      "text/html": [
       "<div>\n",
       "<style scoped>\n",
       "    .dataframe tbody tr th:only-of-type {\n",
       "        vertical-align: middle;\n",
       "    }\n",
       "\n",
       "    .dataframe tbody tr th {\n",
       "        vertical-align: top;\n",
       "    }\n",
       "\n",
       "    .dataframe thead th {\n",
       "        text-align: right;\n",
       "    }\n",
       "</style>\n",
       "<table border=\"1\" class=\"dataframe\">\n",
       "  <thead>\n",
       "    <tr style=\"text-align: right;\">\n",
       "      <th></th>\n",
       "      <th>f0</th>\n",
       "      <th>f1</th>\n",
       "      <th>f2</th>\n",
       "      <th>product</th>\n",
       "    </tr>\n",
       "  </thead>\n",
       "  <tbody>\n",
       "    <tr>\n",
       "      <td>count</td>\n",
       "      <td>100000.000000</td>\n",
       "      <td>100000.000000</td>\n",
       "      <td>100000.000000</td>\n",
       "      <td>100000.000000</td>\n",
       "    </tr>\n",
       "    <tr>\n",
       "      <td>mean</td>\n",
       "      <td>0.500419</td>\n",
       "      <td>0.250143</td>\n",
       "      <td>2.502647</td>\n",
       "      <td>92.500000</td>\n",
       "    </tr>\n",
       "    <tr>\n",
       "      <td>std</td>\n",
       "      <td>0.871832</td>\n",
       "      <td>0.504433</td>\n",
       "      <td>3.248248</td>\n",
       "      <td>44.288691</td>\n",
       "    </tr>\n",
       "    <tr>\n",
       "      <td>min</td>\n",
       "      <td>-1.408605</td>\n",
       "      <td>-0.848218</td>\n",
       "      <td>-12.088328</td>\n",
       "      <td>0.000000</td>\n",
       "    </tr>\n",
       "    <tr>\n",
       "      <td>25%</td>\n",
       "      <td>-0.072580</td>\n",
       "      <td>-0.200881</td>\n",
       "      <td>0.287748</td>\n",
       "      <td>56.497507</td>\n",
       "    </tr>\n",
       "    <tr>\n",
       "      <td>50%</td>\n",
       "      <td>0.502360</td>\n",
       "      <td>0.250252</td>\n",
       "      <td>2.515969</td>\n",
       "      <td>91.849972</td>\n",
       "    </tr>\n",
       "    <tr>\n",
       "      <td>75%</td>\n",
       "      <td>1.073581</td>\n",
       "      <td>0.700646</td>\n",
       "      <td>4.715088</td>\n",
       "      <td>128.564089</td>\n",
       "    </tr>\n",
       "    <tr>\n",
       "      <td>max</td>\n",
       "      <td>2.362331</td>\n",
       "      <td>1.343769</td>\n",
       "      <td>16.003790</td>\n",
       "      <td>185.364347</td>\n",
       "    </tr>\n",
       "  </tbody>\n",
       "</table>\n",
       "</div>"
      ],
      "text/plain": [
       "                  f0             f1             f2        product\n",
       "count  100000.000000  100000.000000  100000.000000  100000.000000\n",
       "mean        0.500419       0.250143       2.502647      92.500000\n",
       "std         0.871832       0.504433       3.248248      44.288691\n",
       "min        -1.408605      -0.848218     -12.088328       0.000000\n",
       "25%        -0.072580      -0.200881       0.287748      56.497507\n",
       "50%         0.502360       0.250252       2.515969      91.849972\n",
       "75%         1.073581       0.700646       4.715088     128.564089\n",
       "max         2.362331       1.343769      16.003790     185.364347"
      ]
     },
     "execution_count": 7,
     "metadata": {},
     "output_type": "execute_result"
    }
   ],
   "source": [
    "data_1.describe()"
   ]
  },
  {
   "cell_type": "code",
   "execution_count": 8,
   "metadata": {},
   "outputs": [
    {
     "data": {
      "text/html": [
       "<div>\n",
       "<style scoped>\n",
       "    .dataframe tbody tr th:only-of-type {\n",
       "        vertical-align: middle;\n",
       "    }\n",
       "\n",
       "    .dataframe tbody tr th {\n",
       "        vertical-align: top;\n",
       "    }\n",
       "\n",
       "    .dataframe thead th {\n",
       "        text-align: right;\n",
       "    }\n",
       "</style>\n",
       "<table border=\"1\" class=\"dataframe\">\n",
       "  <thead>\n",
       "    <tr style=\"text-align: right;\">\n",
       "      <th></th>\n",
       "      <th>f0</th>\n",
       "      <th>f1</th>\n",
       "      <th>f2</th>\n",
       "      <th>product</th>\n",
       "    </tr>\n",
       "  </thead>\n",
       "  <tbody>\n",
       "    <tr>\n",
       "      <td>count</td>\n",
       "      <td>100000.000000</td>\n",
       "      <td>100000.000000</td>\n",
       "      <td>100000.000000</td>\n",
       "      <td>100000.000000</td>\n",
       "    </tr>\n",
       "    <tr>\n",
       "      <td>mean</td>\n",
       "      <td>1.141296</td>\n",
       "      <td>-4.796579</td>\n",
       "      <td>2.494541</td>\n",
       "      <td>68.825000</td>\n",
       "    </tr>\n",
       "    <tr>\n",
       "      <td>std</td>\n",
       "      <td>8.965932</td>\n",
       "      <td>5.119872</td>\n",
       "      <td>1.703572</td>\n",
       "      <td>45.944423</td>\n",
       "    </tr>\n",
       "    <tr>\n",
       "      <td>min</td>\n",
       "      <td>-31.609576</td>\n",
       "      <td>-26.358598</td>\n",
       "      <td>-0.018144</td>\n",
       "      <td>0.000000</td>\n",
       "    </tr>\n",
       "    <tr>\n",
       "      <td>25%</td>\n",
       "      <td>-6.298551</td>\n",
       "      <td>-8.267985</td>\n",
       "      <td>1.000021</td>\n",
       "      <td>26.953261</td>\n",
       "    </tr>\n",
       "    <tr>\n",
       "      <td>50%</td>\n",
       "      <td>1.153055</td>\n",
       "      <td>-4.813172</td>\n",
       "      <td>2.011479</td>\n",
       "      <td>57.085625</td>\n",
       "    </tr>\n",
       "    <tr>\n",
       "      <td>75%</td>\n",
       "      <td>8.621015</td>\n",
       "      <td>-1.332816</td>\n",
       "      <td>3.999904</td>\n",
       "      <td>107.813044</td>\n",
       "    </tr>\n",
       "    <tr>\n",
       "      <td>max</td>\n",
       "      <td>29.421755</td>\n",
       "      <td>18.734063</td>\n",
       "      <td>5.019721</td>\n",
       "      <td>137.945408</td>\n",
       "    </tr>\n",
       "  </tbody>\n",
       "</table>\n",
       "</div>"
      ],
      "text/plain": [
       "                  f0             f1             f2        product\n",
       "count  100000.000000  100000.000000  100000.000000  100000.000000\n",
       "mean        1.141296      -4.796579       2.494541      68.825000\n",
       "std         8.965932       5.119872       1.703572      45.944423\n",
       "min       -31.609576     -26.358598      -0.018144       0.000000\n",
       "25%        -6.298551      -8.267985       1.000021      26.953261\n",
       "50%         1.153055      -4.813172       2.011479      57.085625\n",
       "75%         8.621015      -1.332816       3.999904     107.813044\n",
       "max        29.421755      18.734063       5.019721     137.945408"
      ]
     },
     "execution_count": 8,
     "metadata": {},
     "output_type": "execute_result"
    }
   ],
   "source": [
    "data_2.describe()"
   ]
  },
  {
   "cell_type": "code",
   "execution_count": 9,
   "metadata": {},
   "outputs": [
    {
     "data": {
      "text/html": [
       "<div>\n",
       "<style scoped>\n",
       "    .dataframe tbody tr th:only-of-type {\n",
       "        vertical-align: middle;\n",
       "    }\n",
       "\n",
       "    .dataframe tbody tr th {\n",
       "        vertical-align: top;\n",
       "    }\n",
       "\n",
       "    .dataframe thead th {\n",
       "        text-align: right;\n",
       "    }\n",
       "</style>\n",
       "<table border=\"1\" class=\"dataframe\">\n",
       "  <thead>\n",
       "    <tr style=\"text-align: right;\">\n",
       "      <th></th>\n",
       "      <th>f0</th>\n",
       "      <th>f1</th>\n",
       "      <th>f2</th>\n",
       "      <th>product</th>\n",
       "    </tr>\n",
       "  </thead>\n",
       "  <tbody>\n",
       "    <tr>\n",
       "      <td>count</td>\n",
       "      <td>100000.000000</td>\n",
       "      <td>100000.000000</td>\n",
       "      <td>100000.000000</td>\n",
       "      <td>100000.000000</td>\n",
       "    </tr>\n",
       "    <tr>\n",
       "      <td>mean</td>\n",
       "      <td>0.002023</td>\n",
       "      <td>-0.002081</td>\n",
       "      <td>2.495128</td>\n",
       "      <td>95.000000</td>\n",
       "    </tr>\n",
       "    <tr>\n",
       "      <td>std</td>\n",
       "      <td>1.732045</td>\n",
       "      <td>1.730417</td>\n",
       "      <td>3.473445</td>\n",
       "      <td>44.749921</td>\n",
       "    </tr>\n",
       "    <tr>\n",
       "      <td>min</td>\n",
       "      <td>-8.760004</td>\n",
       "      <td>-7.084020</td>\n",
       "      <td>-11.970335</td>\n",
       "      <td>0.000000</td>\n",
       "    </tr>\n",
       "    <tr>\n",
       "      <td>25%</td>\n",
       "      <td>-1.162288</td>\n",
       "      <td>-1.174820</td>\n",
       "      <td>0.130359</td>\n",
       "      <td>59.450441</td>\n",
       "    </tr>\n",
       "    <tr>\n",
       "      <td>50%</td>\n",
       "      <td>0.009424</td>\n",
       "      <td>-0.009482</td>\n",
       "      <td>2.484236</td>\n",
       "      <td>94.925613</td>\n",
       "    </tr>\n",
       "    <tr>\n",
       "      <td>75%</td>\n",
       "      <td>1.158535</td>\n",
       "      <td>1.163678</td>\n",
       "      <td>4.858794</td>\n",
       "      <td>130.595027</td>\n",
       "    </tr>\n",
       "    <tr>\n",
       "      <td>max</td>\n",
       "      <td>7.238262</td>\n",
       "      <td>7.844801</td>\n",
       "      <td>16.739402</td>\n",
       "      <td>190.029838</td>\n",
       "    </tr>\n",
       "  </tbody>\n",
       "</table>\n",
       "</div>"
      ],
      "text/plain": [
       "                  f0             f1             f2        product\n",
       "count  100000.000000  100000.000000  100000.000000  100000.000000\n",
       "mean        0.002023      -0.002081       2.495128      95.000000\n",
       "std         1.732045       1.730417       3.473445      44.749921\n",
       "min        -8.760004      -7.084020     -11.970335       0.000000\n",
       "25%        -1.162288      -1.174820       0.130359      59.450441\n",
       "50%         0.009424      -0.009482       2.484236      94.925613\n",
       "75%         1.158535       1.163678       4.858794     130.595027\n",
       "max         7.238262       7.844801      16.739402     190.029838"
      ]
     },
     "execution_count": 9,
     "metadata": {},
     "output_type": "execute_result"
    }
   ],
   "source": [
    "data_3.describe()"
   ]
  },
  {
   "cell_type": "code",
   "execution_count": 10,
   "metadata": {
    "scrolled": true
   },
   "outputs": [
    {
     "name": "stdout",
     "output_type": "stream",
     "text": [
      "Суммарное количество дубликатов в регионе 1: 0 шт\n",
      "Суммарное количество дубликатов в регионе 2: 0 шт\n",
      "Суммарное количество дубликатов в регионе 3: 0 шт\n"
     ]
    },
    {
     "data": {
      "text/plain": [
       "None"
      ]
     },
     "metadata": {},
     "output_type": "display_data"
    },
    {
     "data": {
      "text/plain": [
       "None"
      ]
     },
     "metadata": {},
     "output_type": "display_data"
    },
    {
     "data": {
      "text/plain": [
       "None"
      ]
     },
     "metadata": {},
     "output_type": "display_data"
    }
   ],
   "source": [
    "display(print('Суммарное количество дубликатов в регионе 1:', data_1.duplicated().sum(), 'шт'),\n",
    "        print('Суммарное количество дубликатов в регионе 2:',data_2.duplicated().sum(), 'шт'), \n",
    "        print('Суммарное количество дубликатов в регионе 3:',data_3.duplicated().sum(), 'шт'))"
   ]
  },
  {
   "cell_type": "code",
   "execution_count": 11,
   "metadata": {},
   "outputs": [
    {
     "data": {
      "text/html": [
       "<div>\n",
       "<style scoped>\n",
       "    .dataframe tbody tr th:only-of-type {\n",
       "        vertical-align: middle;\n",
       "    }\n",
       "\n",
       "    .dataframe tbody tr th {\n",
       "        vertical-align: top;\n",
       "    }\n",
       "\n",
       "    .dataframe thead th {\n",
       "        text-align: right;\n",
       "    }\n",
       "</style>\n",
       "<table border=\"1\" class=\"dataframe\">\n",
       "  <thead>\n",
       "    <tr style=\"text-align: right;\">\n",
       "      <th></th>\n",
       "      <th>f0</th>\n",
       "      <th>f1</th>\n",
       "      <th>f2</th>\n",
       "      <th>product</th>\n",
       "    </tr>\n",
       "  </thead>\n",
       "  <tbody>\n",
       "    <tr>\n",
       "      <td>f0</td>\n",
       "      <td>1.000000</td>\n",
       "      <td>-0.440723</td>\n",
       "      <td>-0.003153</td>\n",
       "      <td>0.143536</td>\n",
       "    </tr>\n",
       "    <tr>\n",
       "      <td>f1</td>\n",
       "      <td>-0.440723</td>\n",
       "      <td>1.000000</td>\n",
       "      <td>0.001724</td>\n",
       "      <td>-0.192356</td>\n",
       "    </tr>\n",
       "    <tr>\n",
       "      <td>f2</td>\n",
       "      <td>-0.003153</td>\n",
       "      <td>0.001724</td>\n",
       "      <td>1.000000</td>\n",
       "      <td>0.483663</td>\n",
       "    </tr>\n",
       "    <tr>\n",
       "      <td>product</td>\n",
       "      <td>0.143536</td>\n",
       "      <td>-0.192356</td>\n",
       "      <td>0.483663</td>\n",
       "      <td>1.000000</td>\n",
       "    </tr>\n",
       "  </tbody>\n",
       "</table>\n",
       "</div>"
      ],
      "text/plain": [
       "               f0        f1        f2   product\n",
       "f0       1.000000 -0.440723 -0.003153  0.143536\n",
       "f1      -0.440723  1.000000  0.001724 -0.192356\n",
       "f2      -0.003153  0.001724  1.000000  0.483663\n",
       "product  0.143536 -0.192356  0.483663  1.000000"
      ]
     },
     "metadata": {},
     "output_type": "display_data"
    },
    {
     "data": {
      "text/plain": [
       "<matplotlib.axes._subplots.AxesSubplot at 0x7f868ac38710>"
      ]
     },
     "metadata": {},
     "output_type": "display_data"
    },
    {
     "data": {
      "image/png": "[encoded data removed]",
      "text/plain": [
       "<Figure size 432x288 with 1 Axes>"
      ]
     },
     "metadata": {
      "needs_background": "light"
     },
     "output_type": "display_data"
    }
   ],
   "source": [
    "display(data_1.corr(), data_1['product'].plot(kind='hist', y='duration', bins=15, title = 'region_1'))"
   ]
  },
  {
   "cell_type": "code",
   "execution_count": 12,
   "metadata": {},
   "outputs": [
    {
     "data": {
      "text/html": [
       "<div>\n",
       "<style scoped>\n",
       "    .dataframe tbody tr th:only-of-type {\n",
       "        vertical-align: middle;\n",
       "    }\n",
       "\n",
       "    .dataframe tbody tr th {\n",
       "        vertical-align: top;\n",
       "    }\n",
       "\n",
       "    .dataframe thead th {\n",
       "        text-align: right;\n",
       "    }\n",
       "</style>\n",
       "<table border=\"1\" class=\"dataframe\">\n",
       "  <thead>\n",
       "    <tr style=\"text-align: right;\">\n",
       "      <th></th>\n",
       "      <th>f0</th>\n",
       "      <th>f1</th>\n",
       "      <th>f2</th>\n",
       "      <th>product</th>\n",
       "    </tr>\n",
       "  </thead>\n",
       "  <tbody>\n",
       "    <tr>\n",
       "      <td>f0</td>\n",
       "      <td>1.000000</td>\n",
       "      <td>0.182287</td>\n",
       "      <td>-0.001777</td>\n",
       "      <td>-0.030491</td>\n",
       "    </tr>\n",
       "    <tr>\n",
       "      <td>f1</td>\n",
       "      <td>0.182287</td>\n",
       "      <td>1.000000</td>\n",
       "      <td>-0.002595</td>\n",
       "      <td>-0.010155</td>\n",
       "    </tr>\n",
       "    <tr>\n",
       "      <td>f2</td>\n",
       "      <td>-0.001777</td>\n",
       "      <td>-0.002595</td>\n",
       "      <td>1.000000</td>\n",
       "      <td>0.999397</td>\n",
       "    </tr>\n",
       "    <tr>\n",
       "      <td>product</td>\n",
       "      <td>-0.030491</td>\n",
       "      <td>-0.010155</td>\n",
       "      <td>0.999397</td>\n",
       "      <td>1.000000</td>\n",
       "    </tr>\n",
       "  </tbody>\n",
       "</table>\n",
       "</div>"
      ],
      "text/plain": [
       "               f0        f1        f2   product\n",
       "f0       1.000000  0.182287 -0.001777 -0.030491\n",
       "f1       0.182287  1.000000 -0.002595 -0.010155\n",
       "f2      -0.001777 -0.002595  1.000000  0.999397\n",
       "product -0.030491 -0.010155  0.999397  1.000000"
      ]
     },
     "metadata": {},
     "output_type": "display_data"
    },
    {
     "data": {
      "text/plain": [
       "<matplotlib.axes._subplots.AxesSubplot at 0x7f868ab35490>"
      ]
     },
     "metadata": {},
     "output_type": "display_data"
    },
    {
     "data": {
      "image/png": "[encoded data removed]",
      "text/plain": [
       "<Figure size 432x288 with 1 Axes>"
      ]
     },
     "metadata": {
      "needs_background": "light"
     },
     "output_type": "display_data"
    }
   ],
   "source": [
    "display(data_2.corr(), data_2['product'].plot(kind='hist', y='product', bins=15, title = 'region_2'))"
   ]
  },
  {
   "cell_type": "code",
   "execution_count": 13,
   "metadata": {
    "scrolled": true
   },
   "outputs": [
    {
     "data": {
      "text/html": [
       "<div>\n",
       "<style scoped>\n",
       "    .dataframe tbody tr th:only-of-type {\n",
       "        vertical-align: middle;\n",
       "    }\n",
       "\n",
       "    .dataframe tbody tr th {\n",
       "        vertical-align: top;\n",
       "    }\n",
       "\n",
       "    .dataframe thead th {\n",
       "        text-align: right;\n",
       "    }\n",
       "</style>\n",
       "<table border=\"1\" class=\"dataframe\">\n",
       "  <thead>\n",
       "    <tr style=\"text-align: right;\">\n",
       "      <th></th>\n",
       "      <th>f0</th>\n",
       "      <th>f1</th>\n",
       "      <th>f2</th>\n",
       "      <th>product</th>\n",
       "    </tr>\n",
       "  </thead>\n",
       "  <tbody>\n",
       "    <tr>\n",
       "      <td>f0</td>\n",
       "      <td>1.000000</td>\n",
       "      <td>0.000528</td>\n",
       "      <td>-0.000448</td>\n",
       "      <td>-0.001987</td>\n",
       "    </tr>\n",
       "    <tr>\n",
       "      <td>f1</td>\n",
       "      <td>0.000528</td>\n",
       "      <td>1.000000</td>\n",
       "      <td>0.000779</td>\n",
       "      <td>-0.001012</td>\n",
       "    </tr>\n",
       "    <tr>\n",
       "      <td>f2</td>\n",
       "      <td>-0.000448</td>\n",
       "      <td>0.000779</td>\n",
       "      <td>1.000000</td>\n",
       "      <td>0.445871</td>\n",
       "    </tr>\n",
       "    <tr>\n",
       "      <td>product</td>\n",
       "      <td>-0.001987</td>\n",
       "      <td>-0.001012</td>\n",
       "      <td>0.445871</td>\n",
       "      <td>1.000000</td>\n",
       "    </tr>\n",
       "  </tbody>\n",
       "</table>\n",
       "</div>"
      ],
      "text/plain": [
       "               f0        f1        f2   product\n",
       "f0       1.000000  0.000528 -0.000448 -0.001987\n",
       "f1       0.000528  1.000000  0.000779 -0.001012\n",
       "f2      -0.000448  0.000779  1.000000  0.445871\n",
       "product -0.001987 -0.001012  0.445871  1.000000"
      ]
     },
     "metadata": {},
     "output_type": "display_data"
    },
    {
     "data": {
      "text/plain": [
       "<matplotlib.axes._subplots.AxesSubplot at 0x7f868aa66050>"
      ]
     },
     "metadata": {},
     "output_type": "display_data"
    },
    {
     "data": {
      "image/png": "[encoded data removed]",
      "text/plain": [
       "<Figure size 432x288 with 1 Axes>"
      ]
     },
     "metadata": {
      "needs_background": "light"
     },
     "output_type": "display_data"
    }
   ],
   "source": [
    "display(data_3.corr(), data_3['product'].plot(kind='hist', y='product', bins=15, title = 'region_3'))"
   ]
  },
  {
   "cell_type": "markdown",
   "metadata": {},
   "source": [
    "### Вывод\n",
    "<a id=\"вывод1.1\"></a>"
   ]
  },
  {
   "cell_type": "markdown",
   "metadata": {},
   "source": [
    "Для построения модели представлены наборы данных по трем регионам.\n",
    "В каждой таблице по 5 столбцов и 100000 объектов:\n",
    "* id — уникальный идентификатор скважины;\n",
    "* f0, f1, f2 — три признака точек;\n",
    "* product — объём запасов в скважине (тыс. баррелей)\n",
    "\n",
    "Пропущенных значений нет.\n",
    "Дубликатов нет.\n",
    "Названия столбцов - корректны.\n",
    "Типы данных   4 колонки - float64 и одна - object.\n",
    "\n",
    "Для дальнейшего анализа столбец ['id'] необходимо удалить. Информативной нагрузки не несет, для анализа не нужен.\n",
    "\n",
    "Во всех трех регионах выявлены скажены, содержащие нуливые запасы нефти. Больше половины скажен по всем трем участкам умеют запасы нефти ниже 94 тыс.баррелей на скважину.\n",
    "\n",
    "В колонках наблюдается небольшой разброс данных.\n",
    "В данных региона 2 выявлена сильная корреляция между целевым признаком и признаком f2. Коэффициент корреляции близок к единице.\n",
    "В регионах 1 и 3 коэффициент корреляции близок к 0,5 и это нужно иметь ввиду при построении модели.\n",
    "Данные регионов один и три стремятся к нормальному распределению, регион два - распределение далеко от нормального."
   ]
  },
  {
   "cell_type": "markdown",
   "metadata": {},
   "source": [
    "## Обучение и проверка модели\n",
    "<a id=\"обучение\"></a>"
   ]
  },
  {
   "cell_type": "markdown",
   "metadata": {},
   "source": [
    "Обучим и проверим модель для каждого региона:\n",
    "* 1. Разобьем данные на обучающую и валидационную выборки в соотношении 75:25.\n",
    "* 2. Обучим модель и сделаем предсказания на валидационной выборке.\n",
    "* 3. Сохраним предсказания и правильные ответы на валидационной выборке.\n",
    "* 4. Напечатаем на экране средний запас предсказанного сырья и RMSE модели.\n",
    "* 5. Проанализируем результаты."
   ]
  },
  {
   "cell_type": "markdown",
   "metadata": {},
   "source": [
    "Удаляем признак для региона 2, который сильно коррелирует с целевым признаком"
   ]
  },
  {
   "cell_type": "markdown",
   "metadata": {},
   "source": [
    "Напишем функцию, которая получается данные, разбивает их на обучающую и валидационную выборки. После чего масштабируем данные и обучаем модель линейной регрессии. На обученной модели получаем предсказания и рассчитываем показатели работы модели."
   ]
  },
  {
   "cell_type": "code",
   "execution_count": 14,
   "metadata": {},
   "outputs": [],
   "source": [
    "def region_study(region):\n",
    "    X =region.drop(['product', 'id'], axis=1)# признаки \n",
    "    y = region['product']# целевой признак\n",
    "    features_train, features_valid, target_train, target_valid = train_test_split(X, y, \n",
    "                                                    train_size=0.75, random_state=42)\n",
    "    \n",
    "    scaler = MinMaxScaler()\n",
    "    features_train = scaler.fit_transform(features_train)\n",
    "    features_valid = scaler.transform(features_valid)\n",
    "    \n",
    "        \n",
    "    model=LinearRegression() #инициализируйте модель LinearRegression()\n",
    "    model.fit(features_train, target_train)# обучите модель на обучающей выборке\n",
    "\n",
    "    predicted_valid = model.predict(features_valid)  # получаем предсказания модели на валидационной выборке\n",
    "\n",
    "    mse=mean_squared_error(target_valid, predicted_valid)# средняя квадратичная ошибка\n",
    "    RMSE = mse ** 0.5# квадратный корень из средней квадратичной ошибки\n",
    "    mean = predicted_valid.mean()# среднее значение product\n",
    "    study= ({'mse': mse, 'rmse':RMSE, 'mean':mean, 'target_valid': target_valid, 'predicted_valid':predicted_valid})\n",
    "  \n",
    "\n",
    "    return  dict(study)"
   ]
  },
  {
   "cell_type": "code",
   "execution_count": 15,
   "metadata": {},
   "outputs": [],
   "source": [
    "region_1_all= region_study(data_1)\n",
    "predicted_valid_1 =  pd.Series(region_1_all.pop('predicted_valid'))\n",
    "target_valid_1 =  pd.Series(region_1_all.pop('target_valid'))\n",
    "region_1=region_1_all\n",
    "\n",
    "region_2_all= region_study(data_2)\n",
    "predicted_valid_2 = pd.Series(region_2_all.pop('predicted_valid'))\n",
    "target_valid_2 = pd.Series(region_2_all.pop('target_valid'))\n",
    "region_2=region_2_all\n",
    "\n",
    "region_3_all= region_study(data_3)\n",
    "predicted_valid_3 = pd.Series(region_3_all.pop('predicted_valid'))\n",
    "target_valid_3 = pd.Series(region_3_all.pop('target_valid'))\n",
    "region_3=region_3_all"
   ]
  },
  {
   "cell_type": "code",
   "execution_count": 16,
   "metadata": {
    "scrolled": false
   },
   "outputs": [
    {
     "data": {
      "text/html": [
       "<div>\n",
       "<style scoped>\n",
       "    .dataframe tbody tr th:only-of-type {\n",
       "        vertical-align: middle;\n",
       "    }\n",
       "\n",
       "    .dataframe tbody tr th {\n",
       "        vertical-align: top;\n",
       "    }\n",
       "\n",
       "    .dataframe thead th {\n",
       "        text-align: right;\n",
       "    }\n",
       "</style>\n",
       "<table border=\"1\" class=\"dataframe\">\n",
       "  <thead>\n",
       "    <tr style=\"text-align: right;\">\n",
       "      <th></th>\n",
       "      <th>mse</th>\n",
       "      <th>rmse</th>\n",
       "      <th>mean</th>\n",
       "    </tr>\n",
       "  </thead>\n",
       "  <tbody>\n",
       "    <tr>\n",
       "      <td>region_1</td>\n",
       "      <td>1425.560870</td>\n",
       "      <td>37.756600</td>\n",
       "      <td>92.398800</td>\n",
       "    </tr>\n",
       "    <tr>\n",
       "      <td>region_2</td>\n",
       "      <td>0.792599</td>\n",
       "      <td>0.890280</td>\n",
       "      <td>68.712878</td>\n",
       "    </tr>\n",
       "    <tr>\n",
       "      <td>region_3</td>\n",
       "      <td>1611.691064</td>\n",
       "      <td>40.145872</td>\n",
       "      <td>94.771024</td>\n",
       "    </tr>\n",
       "  </tbody>\n",
       "</table>\n",
       "</div>"
      ],
      "text/plain": [
       "                  mse       rmse       mean\n",
       "region_1  1425.560870  37.756600  92.398800\n",
       "region_2     0.792599   0.890280  68.712878\n",
       "region_3  1611.691064  40.145872  94.771024"
      ]
     },
     "execution_count": 16,
     "metadata": {},
     "output_type": "execute_result"
    }
   ],
   "source": [
    "region_all = pd.DataFrame([region_1,region_2,region_3], index=['region_1','region_2','region_3'])\n",
    "region_all"
   ]
  },
  {
   "cell_type": "markdown",
   "metadata": {},
   "source": [
    "Предсказания среднего запаса нефти на валидационной выборке почти не отличаются от фактических запасов нефти в каждом из регионов.\n",
    "\n",
    "Метрики MSE и RSME —  являются характеристиками модели, их показатели должны быть как можно меньше. Видим, что наименьший показатель данных метрик в первом регионе."
   ]
  },
  {
   "cell_type": "markdown",
   "metadata": {},
   "source": [
    "### Вывод\n",
    "<a id=\"вывод2.1\"></a>"
   ]
  },
  {
   "cell_type": "markdown",
   "metadata": {},
   "source": [
    "В этом разделе проекта были разделены исходные данные на обучающую и валидационную выборки.\n",
    "Обучена модель линейной регрессии и проанализировали метрики: MSE, RMSE и mean.\n",
    "Рассчитанные моделью средние значения нефти очень близки к реальным данным."
   ]
  },
  {
   "cell_type": "code",
   "execution_count": 17,
   "metadata": {
    "scrolled": true
   },
   "outputs": [
    {
     "data": {
      "text/html": [
       "<div>\n",
       "<style scoped>\n",
       "    .dataframe tbody tr th:only-of-type {\n",
       "        vertical-align: middle;\n",
       "    }\n",
       "\n",
       "    .dataframe tbody tr th {\n",
       "        vertical-align: top;\n",
       "    }\n",
       "\n",
       "    .dataframe thead th {\n",
       "        text-align: right;\n",
       "    }\n",
       "</style>\n",
       "<table border=\"1\" class=\"dataframe\">\n",
       "  <thead>\n",
       "    <tr style=\"text-align: right;\">\n",
       "      <th></th>\n",
       "      <th>mean_real</th>\n",
       "      <th>mean_pred</th>\n",
       "    </tr>\n",
       "  </thead>\n",
       "  <tbody>\n",
       "    <tr>\n",
       "      <td>region_1</td>\n",
       "      <td>92.5</td>\n",
       "      <td>92.4</td>\n",
       "    </tr>\n",
       "    <tr>\n",
       "      <td>region_2</td>\n",
       "      <td>68.8</td>\n",
       "      <td>68.8</td>\n",
       "    </tr>\n",
       "    <tr>\n",
       "      <td>region_3</td>\n",
       "      <td>95.0</td>\n",
       "      <td>94.8</td>\n",
       "    </tr>\n",
       "  </tbody>\n",
       "</table>\n",
       "</div>"
      ],
      "text/plain": [
       "          mean_real  mean_pred\n",
       "region_1       92.5       92.4\n",
       "region_2       68.8       68.8\n",
       "region_3       95.0       94.8"
      ]
     },
     "execution_count": 17,
     "metadata": {},
     "output_type": "execute_result"
    }
   ],
   "source": [
    "pd.DataFrame({'mean_real':[92.5, 68.8, 95.0], 'mean_pred': [92.4, 68.8, 94.8]}, index=['region_1','region_2','region_3'])"
   ]
  },
  {
   "cell_type": "markdown",
   "metadata": {},
   "source": [
    "Показатели модели метрики MSE и RSME указывают на низкое качество предсказаний. Наилучшие метрики у модели в первом и в третьем регионах. Самые плохие показания метрик во втором регионе."
   ]
  },
  {
   "cell_type": "markdown",
   "metadata": {},
   "source": [
    "## Подготовка к расчёту прибыли\n",
    "<a id=\"расчет\"></a>"
   ]
  },
  {
   "cell_type": "markdown",
   "metadata": {},
   "source": [
    "3.1. Сохраним все ключевые значения для расчётов  в отдельных переменных."
   ]
  },
  {
   "cell_type": "code",
   "execution_count": 18,
   "metadata": {},
   "outputs": [],
   "source": [
    "MAX_POINTS = 500 # исследуют 500 точек\n",
    "BEST_POINT = 200 # разработки 200 точек\n",
    "BUDGET_PER_REGION = 10*10**9 # Бюджет на разработку месторождений — 10 млрд рублей\n",
    "PRICE_PER_PRODUCT = 450000  # доход с одной единицы продукта (в рублях)\n",
    "RISK = 0.025 # максимальный уровень убытков "
   ]
  },
  {
   "cell_type": "markdown",
   "metadata": {},
   "source": [
    "3.2. Рассчитаем достаточный объём сырья для безубыточной разработки новой скважины. \n",
    "Сравните полученный объём сырья со средним запасом в каждом регионе."
   ]
  },
  {
   "cell_type": "code",
   "execution_count": 19,
   "metadata": {
    "scrolled": true
   },
   "outputs": [
    {
     "name": "stdout",
     "output_type": "stream",
     "text": [
      "Достаточный объём сырья для безубыточной разработки новой скважины: 111.11111111111111 тыс. баррелей\n"
     ]
    }
   ],
   "source": [
    "size_well=BUDGET_PER_REGION/(PRICE_PER_PRODUCT*BEST_POINT)\n",
    "print('Достаточный объём сырья для безубыточной разработки новой скважины:', size_well, 'тыс. баррелей')"
   ]
  },
  {
   "cell_type": "code",
   "execution_count": 20,
   "metadata": {},
   "outputs": [
    {
     "name": "stdout",
     "output_type": "stream",
     "text": [
      "объём сырья со средним запасом в регион 1: 92.5 тыс. баррелей\n",
      "объём сырья со средним запасом в регион 2: 68.8 тыс. баррелей\n",
      "объём сырья со средним запасом в регион 3: 95.0 тыс. баррелей\n"
     ]
    }
   ],
   "source": [
    "print ('объём сырья со средним запасом в регион 1:', (data_1['product'].mean()).round(1), 'тыс. баррелей')\n",
    "print ('объём сырья со средним запасом в регион 2:', (data_2['product'].mean()).round(1), 'тыс. баррелей')\n",
    "print ('объём сырья со средним запасом в регион 3:', (data_3['product'].mean()).round(1), 'тыс. баррелей')"
   ]
  },
  {
   "cell_type": "markdown",
   "metadata": {},
   "source": [
    "Подсчитаем сколько скважин в регионе соответствует этому требованию"
   ]
  },
  {
   "cell_type": "code",
   "execution_count": 21,
   "metadata": {
    "scrolled": true
   },
   "outputs": [
    {
     "name": "stdout",
     "output_type": "stream",
     "text": [
      "Процент скважин с подходящим количеством нефти для безубыточной разработки в регион 1: 36.675999999999995 %\n",
      "Процент скважин с подходящим количеством нефти для безубыточной разработки в регион 2: 16.537 %\n",
      "Процент скважин с подходящим количеством нефти для безубыточной разработки в регион 3: 38.278 %\n"
     ]
    }
   ],
   "source": [
    "print ('Процент скважин с подходящим количеством нефти для безубыточной разработки в регион 1:', len(data_1.query('product>111'))/len(data_1)*100, '%')\n",
    "print ('Процент скважин с подходящим количеством нефти для безубыточной разработки в регион 2:', len(data_2.query('product>111'))/len(data_2)*100, '%')\n",
    "print ('Процент скважин с подходящим количеством нефти для безубыточной разработки в регион 3:', len(data_3.query('product>111'))/len(data_3)*100, '%')"
   ]
  },
  {
   "cell_type": "markdown",
   "metadata": {},
   "source": [
    "### Вывод\n",
    "<a id=\"вывод3.1\"></a>"
   ]
  },
  {
   "cell_type": "markdown",
   "metadata": {},
   "source": [
    "Для безубыточной разработки новой скважины необходимо, чтобы ее запасы оценивались не менее 111 тыс. баррелей.\n",
    "\n",
    "В рассматриваемых регионах средние запасы нефти не превышают 95 тыс. баррелей. \n",
    "\n",
    "Только 36, 38 и 16% скважин в первом, третьем и во втором регионах соответственно отвечают требованиям получения возможной прибыли."
   ]
  },
  {
   "cell_type": "markdown",
   "metadata": {},
   "source": [
    "## Расчёт прибыли и рисков \n",
    "<a id=\"расчет\"></a>"
   ]
  },
  {
   "cell_type": "markdown",
   "metadata": {},
   "source": [
    "Напишим функцию для расчёта прибыли по выбранным скважинам и предсказаниям модели:\n",
    "* выберите скважины с максимальными значениями предсказаний.\n",
    "* просуммируем целевое значение объёма сырья, соответствующее этим предсказаниям.\n",
    "* рассчитаем прибыль для полученного объёма сырья."
   ]
  },
  {
   "cell_type": "code",
   "execution_count": 22,
   "metadata": {},
   "outputs": [],
   "source": [
    "def profit(reg, target_valid, predicted_valid):\n",
    "    sample=reg.sort_values(by=\"product\",ascending=False)# отсортируем данные в порядке убывания\n",
    "    total_profit=(sample['product'][0:BEST_POINT].sum()*PRICE_PER_PRODUCT-BUDGET_PER_REGION)/10**9#  подсчитаем прибыль на первых 200 скважинах богатых нефтью \n",
    "    \n",
    "    sample_valid=target_valid.sort_values(ascending=False)# отсортируем данные в порядке убывания\n",
    "    total_profit_valid=(sample_valid[0:BEST_POINT].sum()*PRICE_PER_PRODUCT-BUDGET_PER_REGION)/10**9#  подсчитаем прибыль на первых 200 скважинах богатых нефтью \n",
    "    \n",
    "    sample_pred=predicted_valid.sort_values(ascending=False)# отсортируем данные в порядке убывания\n",
    "    total_profit_pred = (sample_pred[0:BEST_POINT].sum()*PRICE_PER_PRODUCT-BUDGET_PER_REGION)/10**9#  подсчитаем прибыль на первых 200 скважинах богатых нефтью \n",
    "    \n",
    "    profit_all = ({'total_profit':total_profit, 'total_profit_valid':total_profit_valid, 'total_profit_pred':total_profit_pred})\n",
    "    return profit_all"
   ]
  },
  {
   "cell_type": "code",
   "execution_count": 23,
   "metadata": {
    "scrolled": true
   },
   "outputs": [
    {
     "data": {
      "text/html": [
       "<div>\n",
       "<style scoped>\n",
       "    .dataframe tbody tr th:only-of-type {\n",
       "        vertical-align: middle;\n",
       "    }\n",
       "\n",
       "    .dataframe tbody tr th {\n",
       "        vertical-align: top;\n",
       "    }\n",
       "\n",
       "    .dataframe thead th {\n",
       "        text-align: right;\n",
       "    }\n",
       "</style>\n",
       "<table border=\"1\" class=\"dataframe\">\n",
       "  <thead>\n",
       "    <tr style=\"text-align: right;\">\n",
       "      <th></th>\n",
       "      <th>total_profit</th>\n",
       "      <th>total_profit_valid</th>\n",
       "      <th>total_profit_pred</th>\n",
       "    </tr>\n",
       "  </thead>\n",
       "  <tbody>\n",
       "    <tr>\n",
       "      <td>region_1</td>\n",
       "      <td>6.635037</td>\n",
       "      <td>6.509319</td>\n",
       "      <td>3.896658</td>\n",
       "    </tr>\n",
       "    <tr>\n",
       "      <td>region_2</td>\n",
       "      <td>2.415087</td>\n",
       "      <td>2.415087</td>\n",
       "      <td>2.486938</td>\n",
       "    </tr>\n",
       "    <tr>\n",
       "      <td>region_3</td>\n",
       "      <td>7.059633</td>\n",
       "      <td>6.947125</td>\n",
       "      <td>3.377982</td>\n",
       "    </tr>\n",
       "  </tbody>\n",
       "</table>\n",
       "</div>"
      ],
      "text/plain": [
       "          total_profit  total_profit_valid  total_profit_pred\n",
       "region_1      6.635037            6.509319           3.896658\n",
       "region_2      2.415087            2.415087           2.486938\n",
       "region_3      7.059633            6.947125           3.377982"
      ]
     },
     "execution_count": 23,
     "metadata": {},
     "output_type": "execute_result"
    }
   ],
   "source": [
    "reg_1=profit(data_1, target_valid_1, predicted_valid_1)\n",
    "reg_2=profit(data_2, target_valid_2, predicted_valid_2)\n",
    "reg_3=profit(data_3, target_valid_3, predicted_valid_3)\n",
    "reg_prof = pd.DataFrame([reg_1,reg_2,reg_3], index=['region_1','region_2','region_3'])\n",
    "reg_prof"
   ]
  },
  {
   "cell_type": "code",
   "execution_count": 24,
   "metadata": {},
   "outputs": [],
   "source": [
    "def prof(targ_valid, pred_valid):\n",
    "    pred_valid_subs = pred_valid.sample(n=MAX_POINTS, replace=True, random_state=12345)\n",
    "    pred_valid_subs = pred_valid_subs.sort_values(ascending=False)[:BEST_POINT]\n",
    "    select =  targ_valid[pred_valid_subs.index]\n",
    "    total_profit=(select.sum()*PRICE_PER_PRODUCT-BUDGET_PER_REGION)/10**9\n",
    "    return total_profit"
   ]
  },
  {
   "cell_type": "code",
   "execution_count": 25,
   "metadata": {},
   "outputs": [
    {
     "data": {
      "text/html": [
       "<div>\n",
       "<style scoped>\n",
       "    .dataframe tbody tr th:only-of-type {\n",
       "        vertical-align: middle;\n",
       "    }\n",
       "\n",
       "    .dataframe tbody tr th {\n",
       "        vertical-align: top;\n",
       "    }\n",
       "\n",
       "    .dataframe thead th {\n",
       "        text-align: right;\n",
       "    }\n",
       "</style>\n",
       "<table border=\"1\" class=\"dataframe\">\n",
       "  <thead>\n",
       "    <tr style=\"text-align: right;\">\n",
       "      <th></th>\n",
       "      <th>profit</th>\n",
       "    </tr>\n",
       "  </thead>\n",
       "  <tbody>\n",
       "    <tr>\n",
       "      <td>region_1</td>\n",
       "      <td>-1.641132</td>\n",
       "    </tr>\n",
       "    <tr>\n",
       "      <td>region_2</td>\n",
       "      <td>-3.453592</td>\n",
       "    </tr>\n",
       "    <tr>\n",
       "      <td>region_3</td>\n",
       "      <td>-1.562084</td>\n",
       "    </tr>\n",
       "  </tbody>\n",
       "</table>\n",
       "</div>"
      ],
      "text/plain": [
       "            profit\n",
       "region_1 -1.641132\n",
       "region_2 -3.453592\n",
       "region_3 -1.562084"
      ]
     },
     "execution_count": 25,
     "metadata": {},
     "output_type": "execute_result"
    }
   ],
   "source": [
    "region_1=prof(data_1['product'], predicted_valid_1)\n",
    "region_2=prof(data_2['product'], predicted_valid_2)\n",
    "region_3=prof(data_3['product'], predicted_valid_3)\n",
    "region_prof = pd.DataFrame({'profit':[region_1,region_2,region_3]}, index=['region_1','region_2','region_3'])\n",
    "region_prof"
   ]
  },
  {
   "cell_type": "markdown",
   "metadata": {},
   "source": [
    "### Вывод\n",
    "<a id=\"вывод4.1\"></a>"
   ]
  },
  {
   "cell_type": "markdown",
   "metadata": {},
   "source": [
    "Доход на скважинах, в количестве 200 шт,  наиболее богатыми нефтянными запасами, не превышает 7 млрд. руб. в третьем регионе по предоставленным данным. В тоже время по предсказаниям модели доход ожидается в два раза меньше. Такая же картина наблюдается и в первом регионе. Модель предсказывает доход в два раза меньше номинального. Во втором регионе ожидаются  убытки в размере 3,5 млрд. руб. по предсказаниям модели."
   ]
  },
  {
   "cell_type": "markdown",
   "metadata": {},
   "source": [
    "## Подсчет рисков и прибыли для каждого региона\n",
    "<a id=\"подсчет\"></a>"
   ]
  },
  {
   "cell_type": "markdown",
   "metadata": {},
   "source": [
    "* применим технику Bootstrap с 1000 выборок, чтобы найти распределение прибыли.\n",
    "* найдем среднюю прибыль, 95%-й доверительный интервал и риск убытков.\n",
    "* напишем выводы: предложите регион для разработки скважин и обоснуйте выбор."
   ]
  },
  {
   "cell_type": "markdown",
   "metadata": {},
   "source": [
    "# **Тест**"
   ]
  },
  {
   "cell_type": "markdown",
   "metadata": {},
   "source": [
    "# **Исходные материалы**"
   ]
  },
  {
   "cell_type": "code",
   "execution_count": 26,
   "metadata": {},
   "outputs": [],
   "source": [
    "def revenue(target, probabilities, count):\n",
    "    probs_sorted = probabilities.sort_values(ascending=False)# отсортируем данные в порядке убывания\n",
    "    selected = target[probs_sorted.index][:count]  # первые 200 объектов \n",
    "    return ((PRICE_PER_PRODUCT*selected.sum() - BUDGET_PER_REGION)/10**9)#  подсчитаем прибыль на первых 200 скважинах богатых нефтью \n",
    "                                                                                                                                           # и вычтем бюджет на разработку скважин \n",
    "\n",
    "def part(targ,pred):  \n",
    "    state = np.random.RandomState(12345)\n",
    "    values = []\n",
    "  \n",
    "    for i in range(1000): # техника Bootstrap с 1000 выбороками\n",
    "        target_subsample = targ.sample(n=MAX_POINTS, replace=True, random_state=state)\n",
    "        probs_subsample = pred[target_subsample.index]      \n",
    "        values.append(revenue(target_subsample, probs_subsample,  BEST_POINT))\n",
    "    \n",
    " \n",
    "\n",
    "    values = pd.Series(values)\n",
    "    lower = values.quantile(0.025)# подсчитаем нижнюю границу 95%-й доверительного интервала\n",
    "    upper = values.quantile(0.975)# подсчитаем верхнюю границу 95%-й доверительного интервала\n",
    "    \n",
    "    point=0\n",
    "    for i in values:\n",
    "        if i < 0:# получение убытка\n",
    "            point +=1   \n",
    "    risk_of_loss = point/values.count()*100\n",
    "\n",
    "\n",
    "    mean = values.mean()\n",
    "    loss = mean - (BUDGET_PER_REGION/10**9)\n",
    "    print(\"Средняя выручка:\", mean.round(1), 'млрд рублей')\n",
    "    print('95% доверительный интервал от {:.2f} до {:.2f} млрд.руб.'.format(lower, upper))\n",
    "    print(\"Риск получения убытков:\", risk_of_loss, \"%\")"
   ]
  },
  {
   "cell_type": "code",
   "execution_count": 27,
   "metadata": {},
   "outputs": [
    {
     "name": "stdout",
     "output_type": "stream",
     "text": [
      "Средняя выручка: -1.7 млрд рублей\n",
      "95% доверительный интервал от -2.25 до -1.13 млрд.руб.\n",
      "Риск получения убытков: 100.0 %\n"
     ]
    }
   ],
   "source": [
    "part(target_valid_1, predicted_valid_1)"
   ]
  },
  {
   "cell_type": "code",
   "execution_count": 28,
   "metadata": {},
   "outputs": [
    {
     "name": "stdout",
     "output_type": "stream",
     "text": [
      "Средняя выручка: -3.8 млрд рублей\n",
      "95% доверительный интервал от -4.44 до -3.22 млрд.руб.\n",
      "Риск получения убытков: 100.0 %\n"
     ]
    }
   ],
   "source": [
    "part(target_valid_2, predicted_valid_2)  "
   ]
  },
  {
   "cell_type": "code",
   "execution_count": 29,
   "metadata": {
    "scrolled": true
   },
   "outputs": [
    {
     "name": "stdout",
     "output_type": "stream",
     "text": [
      "Средняя выручка: -1.4 млрд рублей\n",
      "95% доверительный интервал от -2.02 до -0.86 млрд.руб.\n",
      "Риск получения убытков: 100.0 %\n"
     ]
    }
   ],
   "source": [
    "part(target_valid_3, predicted_valid_3) "
   ]
  },
  {
   "cell_type": "code",
   "execution_count": 30,
   "metadata": {
    "scrolled": true
   },
   "outputs": [
    {
     "data": {
      "image/png": "[encoded data removed]",
      "text/plain": [
       "<Figure size 432x288 with 6 Axes>"
      ]
     },
     "execution_count": 30,
     "metadata": {},
     "output_type": "execute_result"
    },
    {
     "data": {
      "image/png": "[encoded data removed]",
      "text/plain": [
       "<Figure size 432x288 with 6 Axes>"
      ]
     },
     "metadata": {
      "needs_background": "light"
     },
     "output_type": "display_data"
    }
   ],
   "source": [
    "pd.plotting.bootstrap_plot(predicted_valid_3)"
   ]
  },
  {
   "cell_type": "markdown",
   "metadata": {},
   "source": [
    "### Вывод\n",
    "<a id=\"вывод5.1\"></a>"
   ]
  },
  {
   "cell_type": "markdown",
   "metadata": {},
   "source": [
    "Использование техники Bootstrap с 1000 выборок показало, что средняя выручка по регионам не превысит 8,6 млрд.руб.\n",
    "Убытки могут достичь отметки 3,8 млрд.руб по второму региону, и 1,7 и 1,4 млрд. руб в первом и третьем соответственно.\n",
    "Ни одни регион не соответствует требованию - вероятность убытков меньше 2.5%. Во всех трех регионах убытки превосходят этот уровень."
   ]
  },
  {
   "cell_type": "markdown",
   "metadata": {},
   "source": [
    "## Общий вывод"
   ]
  },
  {
   "cell_type": "markdown",
   "metadata": {},
   "source": [
    "В ходе работы были рассмотрены  геологоразведочные данные трех регионов.\n",
    "* Показано, что только 1/3  в первом и в третьем регионах и 1/6 часть скважин во втором регионе соответствуют требованию безубыточной добычи нефти.\n",
    "* Минимальный объем нефти залегающий в скважине должен быть не менее 111 тыс. баррелей.\n",
    "* Средний объем нефти по всем трем регионам меньше требуемого минимального значения объема нефти для безубыточной добычи.\n",
    "* Модель линейной регрессии предсказала средний объем нефти по регионам с ошибкой в пределах 0,002%. Однако метрики модели MSE и RSME велики.\n",
    "* Прибыль полученная на самых лучших скважинах, примерна равняется прибыли полученной на валидационной выборке, но не соответствует предсказанным.\n",
    "\n",
    "\n",
    "| регион    | средний объем нефти, тыс. руб  |  прибыль мах, млрд. руб.  |    прибыль прогноз, млрд. руб.  | прибыль Bootstrap, млрд. руб.  |    \n",
    "|:------------------:|:----------------------------------:|: ------------------------------:|: ------------------------------:|: ------------------------------:|\n",
    "| регион 1           |  92.5 | 6.63 |3.89   |- 1.7 |\n",
    "| регион 2 |  68.8    |  \t2.41  |-3.52   |- 3.8|\n",
    "| регион 3  |  95.0 |  7.05  | 3.37   |- 1.4 |\n",
    "\n",
    "* Техникой Bootstrap были определены распределения прибыли по регионам. \n",
    "\n",
    "Наилучшим регионом является третий регион, в котором убыток самый минимальный -1,4 млрд. руб., ожидаемая средняя выручка - 8,6 млрд. руб., Максимальная прибыль на 200 самых богатых залежами нефти скважинах составит 7,05 млрд. руб."
   ]
  },
  {
   "cell_type": "markdown",
   "metadata": {},
   "source": [
    "## Чек-лист готовности проекта"
   ]
  },
  {
   "cell_type": "markdown",
   "metadata": {},
   "source": [
    "Поставьте 'x' в выполненных пунктах. Далее нажмите Shift+Enter."
   ]
  },
  {
   "cell_type": "markdown",
   "metadata": {},
   "source": [
    "- [x]  Jupyter Notebook открыт\n",
    "- [x]  Весь код выполняется без ошибок\n",
    "- [x]  Ячейки с кодом расположены в порядке исполнения\n",
    "- [x]  Выполнен шаг 1: данные подготовлены\n",
    "- [x]  Выполнен шаг 2: модели обучены и проверены\n",
    "    - [x]  Данные корректно разбиты на обучающую и валидационную выборки\n",
    "    - [x]  Модели обучены, предсказания сделаны\n",
    "    - [x]  Предсказания и правильные ответы на валидационной выборке сохранены\n",
    "    - [x]  На экране напечатаны результаты\n",
    "    - [x]  Сделаны выводы\n",
    "- [x]  Выполнен шаг 3: проведена подготовка к расчёту прибыли\n",
    "    - [x]  Для всех ключевых значений созданы константы Python\n",
    "    - [x]  Посчитано минимальное среднее количество продукта в месторождениях региона, достаточное для разработки\n",
    "    - [x]  По предыдущему пункту сделаны выводы\n",
    "    - [x]  Написана функция расчёта прибыли\n",
    "- [x]  Выполнен шаг 4: посчитаны риски и прибыль\n",
    "    - [x]  Проведена процедура *Bootstrap*\n",
    "    - [x]  Все параметры бутстрепа соответствуют условию\n",
    "    - [x]  Найдены все нужные величины\n",
    "    - [x]  Предложен регион для разработки месторождения\n",
    "    - [x]  Выбор региона обоснован"
   ]
  }
 ],
 "metadata": {
  "ExecuteTimeLog": [
   {
    "duration": 1671,
    "start_time": "2021-07-14T03:37:42.161Z"
   },
   {
    "duration": 459,
    "start_time": "2021-07-14T03:37:43.835Z"
   },
   {
    "duration": 167,
    "start_time": "2021-07-14T03:37:57.493Z"
   },
   {
    "duration": 19,
    "start_time": "2021-07-14T03:38:07.912Z"
   },
   {
    "duration": 339,
    "start_time": "2021-07-14T03:39:08.000Z"
   },
   {
    "duration": 471,
    "start_time": "2021-07-14T03:39:14.883Z"
   },
   {
    "duration": 13,
    "start_time": "2021-07-14T03:39:16.144Z"
   },
   {
    "duration": 13,
    "start_time": "2021-07-14T03:39:31.332Z"
   },
   {
    "duration": 13,
    "start_time": "2021-07-14T03:39:32.071Z"
   },
   {
    "duration": 326,
    "start_time": "2021-07-14T03:41:03.892Z"
   },
   {
    "duration": 309,
    "start_time": "2021-07-14T03:42:06.864Z"
   },
   {
    "duration": 306,
    "start_time": "2021-07-14T03:42:17.222Z"
   },
   {
    "duration": 379,
    "start_time": "2021-07-14T03:42:26.127Z"
   },
   {
    "duration": 18,
    "start_time": "2021-07-14T03:43:55.083Z"
   },
   {
    "duration": 16,
    "start_time": "2021-07-14T03:44:00.235Z"
   },
   {
    "duration": 17,
    "start_time": "2021-07-14T03:44:09.685Z"
   },
   {
    "duration": 16,
    "start_time": "2021-07-14T03:44:16.611Z"
   },
   {
    "duration": 20,
    "start_time": "2021-07-14T03:44:50.159Z"
   },
   {
    "duration": 16,
    "start_time": "2021-07-14T03:44:53.880Z"
   },
   {
    "duration": 357,
    "start_time": "2021-07-14T03:46:28.781Z"
   },
   {
    "duration": 7,
    "start_time": "2021-07-14T03:46:33.488Z"
   },
   {
    "duration": 477,
    "start_time": "2021-07-14T03:46:33.835Z"
   },
   {
    "duration": 19,
    "start_time": "2021-07-14T03:46:34.315Z"
   },
   {
    "duration": 33,
    "start_time": "2021-07-14T03:46:34.728Z"
   },
   {
    "duration": 21,
    "start_time": "2021-07-14T03:46:56.494Z"
   },
   {
    "duration": 155,
    "start_time": "2021-07-14T03:47:55.637Z"
   },
   {
    "duration": 407,
    "start_time": "2021-07-14T03:48:01.761Z"
   },
   {
    "duration": 7,
    "start_time": "2021-07-14T03:48:52.555Z"
   },
   {
    "duration": 351,
    "start_time": "2021-07-14T03:49:30.601Z"
   },
   {
    "duration": 21,
    "start_time": "2021-07-14T03:49:39.666Z"
   },
   {
    "duration": 594,
    "start_time": "2021-07-14T05:18:46.470Z"
   },
   {
    "duration": 9,
    "start_time": "2021-07-14T05:25:22.441Z"
   },
   {
    "duration": 337,
    "start_time": "2021-07-14T05:25:23.473Z"
   },
   {
    "duration": 323,
    "start_time": "2021-07-14T05:26:21.326Z"
   },
   {
    "duration": 6,
    "start_time": "2021-07-14T05:27:17.007Z"
   },
   {
    "duration": 322,
    "start_time": "2021-07-14T05:27:18.196Z"
   },
   {
    "duration": 17,
    "start_time": "2021-07-14T05:27:40.551Z"
   },
   {
    "duration": 14,
    "start_time": "2021-07-14T05:27:47.006Z"
   },
   {
    "duration": 7,
    "start_time": "2021-07-14T05:27:53.172Z"
   },
   {
    "duration": 14,
    "start_time": "2021-07-14T05:28:02.551Z"
   },
   {
    "duration": 17,
    "start_time": "2021-07-14T05:28:08.178Z"
   },
   {
    "duration": 16,
    "start_time": "2021-07-14T05:28:09.012Z"
   },
   {
    "duration": 14,
    "start_time": "2021-07-14T05:28:13.608Z"
   },
   {
    "duration": 313,
    "start_time": "2021-07-14T05:33:13.917Z"
   },
   {
    "duration": 317,
    "start_time": "2021-07-14T05:33:57.900Z"
   },
   {
    "duration": 322,
    "start_time": "2021-07-14T05:34:59.470Z"
   },
   {
    "duration": 298,
    "start_time": "2021-07-14T05:35:12.034Z"
   },
   {
    "duration": 51107,
    "start_time": "2021-07-14T05:37:52.922Z"
   },
   {
    "duration": -4897,
    "start_time": "2021-07-14T05:38:48.931Z"
   },
   {
    "duration": 18,
    "start_time": "2021-07-14T05:38:52.950Z"
   },
   {
    "duration": 321,
    "start_time": "2021-07-14T05:43:05.390Z"
   },
   {
    "duration": 336,
    "start_time": "2021-07-14T05:45:33.963Z"
   },
   {
    "duration": 10,
    "start_time": "2021-07-14T05:50:25.488Z"
   },
   {
    "duration": 19,
    "start_time": "2021-07-14T05:50:35.228Z"
   },
   {
    "duration": 5,
    "start_time": "2021-07-14T05:50:55.617Z"
   },
   {
    "duration": 19,
    "start_time": "2021-07-14T05:50:56.566Z"
   },
   {
    "duration": 65,
    "start_time": "2021-07-14T05:51:51.758Z"
   },
   {
    "duration": 2302,
    "start_time": "2021-07-14T05:52:02.796Z"
   },
   {
    "duration": 5,
    "start_time": "2021-07-14T05:53:43.517Z"
   },
   {
    "duration": 2288,
    "start_time": "2021-07-14T05:53:44.479Z"
   },
   {
    "duration": 2285,
    "start_time": "2021-07-14T05:54:39.748Z"
   },
   {
    "duration": 6,
    "start_time": "2021-07-14T05:54:42.332Z"
   },
   {
    "duration": 2281,
    "start_time": "2021-07-14T05:54:43.894Z"
   },
   {
    "duration": 8,
    "start_time": "2021-07-14T05:55:10.879Z"
   },
   {
    "duration": 2215,
    "start_time": "2021-07-14T05:55:12.377Z"
   },
   {
    "duration": 2212,
    "start_time": "2021-07-14T05:55:23.774Z"
   },
   {
    "duration": 7,
    "start_time": "2021-07-14T06:05:03.879Z"
   },
   {
    "duration": 470,
    "start_time": "2021-07-14T06:05:04.314Z"
   },
   {
    "duration": 8,
    "start_time": "2021-07-14T06:05:04.786Z"
   },
   {
    "duration": 2229,
    "start_time": "2021-07-14T06:05:04.834Z"
   },
   {
    "duration": 30,
    "start_time": "2021-07-14T06:05:07.066Z"
   },
   {
    "duration": 26,
    "start_time": "2021-07-14T06:05:07.099Z"
   },
   {
    "duration": 142,
    "start_time": "2021-07-14T06:05:07.128Z"
   },
   {
    "duration": 431,
    "start_time": "2021-07-14T06:05:07.272Z"
   },
   {
    "duration": 22,
    "start_time": "2021-07-14T06:05:07.706Z"
   },
   {
    "duration": 16659,
    "start_time": "2021-07-14T06:05:07.730Z"
   },
   {
    "duration": -4660,
    "start_time": "2021-07-14T06:05:29.052Z"
   },
   {
    "duration": -4667,
    "start_time": "2021-07-14T06:05:29.063Z"
   },
   {
    "duration": -4785,
    "start_time": "2021-07-14T06:05:29.185Z"
   },
   {
    "duration": -4791,
    "start_time": "2021-07-14T06:05:29.192Z"
   },
   {
    "duration": 290,
    "start_time": "2021-07-14T06:05:26.510Z"
   },
   {
    "duration": 6,
    "start_time": "2021-07-14T06:05:53.897Z"
   },
   {
    "duration": 17,
    "start_time": "2021-07-14T06:05:54.827Z"
   },
   {
    "duration": 349,
    "start_time": "2021-07-14T06:05:56.898Z"
   },
   {
    "duration": 307,
    "start_time": "2021-07-14T06:06:05.949Z"
   },
   {
    "duration": 311,
    "start_time": "2021-07-14T06:06:22.189Z"
   },
   {
    "duration": 15,
    "start_time": "2021-07-14T06:06:29.396Z"
   },
   {
    "duration": 22,
    "start_time": "2021-07-14T06:06:42.217Z"
   },
   {
    "duration": 377,
    "start_time": "2021-07-14T06:06:52.131Z"
   },
   {
    "duration": 304,
    "start_time": "2021-07-14T06:07:00.275Z"
   },
   {
    "duration": 22,
    "start_time": "2021-07-14T06:09:15.149Z"
   },
   {
    "duration": 23,
    "start_time": "2021-07-14T06:09:40.083Z"
   },
   {
    "duration": 7,
    "start_time": "2021-07-14T06:11:11.175Z"
   },
   {
    "duration": 516,
    "start_time": "2021-07-14T06:11:12.305Z"
   },
   {
    "duration": 8,
    "start_time": "2021-07-14T06:11:12.824Z"
   },
   {
    "duration": 2238,
    "start_time": "2021-07-14T06:11:13.385Z"
   },
   {
    "duration": 39,
    "start_time": "2021-07-14T06:11:15.626Z"
   },
   {
    "duration": 6,
    "start_time": "2021-07-14T06:11:25.876Z"
   },
   {
    "duration": 18,
    "start_time": "2021-07-14T06:11:26.662Z"
   },
   {
    "duration": 373,
    "start_time": "2021-07-14T06:11:28.583Z"
   },
   {
    "duration": 18,
    "start_time": "2021-07-14T06:11:37.081Z"
   },
   {
    "duration": 5,
    "start_time": "2021-07-14T06:11:49.446Z"
   },
   {
    "duration": 5,
    "start_time": "2021-07-14T06:11:50.199Z"
   },
   {
    "duration": 5,
    "start_time": "2021-07-14T06:11:51.065Z"
   },
   {
    "duration": 6,
    "start_time": "2021-07-14T06:12:47.904Z"
   },
   {
    "duration": 17,
    "start_time": "2021-07-14T06:12:48.636Z"
   },
   {
    "duration": 16,
    "start_time": "2021-07-14T06:12:50.349Z"
   },
   {
    "duration": 5,
    "start_time": "2021-07-14T06:12:51.335Z"
   },
   {
    "duration": 5,
    "start_time": "2021-07-14T06:12:52.108Z"
   },
   {
    "duration": 5,
    "start_time": "2021-07-14T06:12:53.691Z"
   },
   {
    "duration": 103,
    "start_time": "2021-07-14T07:20:50.359Z"
   },
   {
    "duration": 7,
    "start_time": "2021-07-14T07:20:51.384Z"
   },
   {
    "duration": 5,
    "start_time": "2021-07-14T07:20:51.709Z"
   },
   {
    "duration": 5,
    "start_time": "2021-07-14T07:20:51.980Z"
   },
   {
    "duration": 7,
    "start_time": "2021-07-14T07:20:52.248Z"
   },
   {
    "duration": 323,
    "start_time": "2021-07-14T07:32:42.648Z"
   },
   {
    "duration": 61,
    "start_time": "2021-07-14T07:33:33.328Z"
   },
   {
    "duration": 61,
    "start_time": "2021-07-14T07:34:08.586Z"
   },
   {
    "duration": 47,
    "start_time": "2021-07-14T07:34:35.060Z"
   },
   {
    "duration": 27,
    "start_time": "2021-07-14T07:34:39.562Z"
   },
   {
    "duration": 300,
    "start_time": "2021-07-14T07:34:53.944Z"
   },
   {
    "duration": 6,
    "start_time": "2021-07-14T07:35:06.482Z"
   },
   {
    "duration": 5,
    "start_time": "2021-07-14T07:35:36.494Z"
   },
   {
    "duration": 8,
    "start_time": "2021-07-14T07:35:41.185Z"
   },
   {
    "duration": 27,
    "start_time": "2021-07-14T07:36:42.680Z"
   },
   {
    "duration": 35,
    "start_time": "2021-07-14T07:36:51.996Z"
   },
   {
    "duration": 35,
    "start_time": "2021-07-14T07:37:52.237Z"
   },
   {
    "duration": 4,
    "start_time": "2021-07-14T07:40:42.120Z"
   },
   {
    "duration": 3,
    "start_time": "2021-07-14T07:41:21.928Z"
   },
   {
    "duration": 6,
    "start_time": "2021-07-14T07:41:26.338Z"
   },
   {
    "duration": 59,
    "start_time": "2021-07-14T07:41:53.512Z"
   },
   {
    "duration": 61,
    "start_time": "2021-07-14T07:42:07.493Z"
   },
   {
    "duration": 79,
    "start_time": "2021-07-14T07:42:11.481Z"
   },
   {
    "duration": 58,
    "start_time": "2021-07-14T07:42:47.941Z"
   },
   {
    "duration": 61,
    "start_time": "2021-07-14T07:42:54.437Z"
   },
   {
    "duration": 7,
    "start_time": "2021-07-14T08:04:54.408Z"
   },
   {
    "duration": 328,
    "start_time": "2021-07-14T08:05:08.263Z"
   },
   {
    "duration": 5,
    "start_time": "2021-07-14T08:05:16.319Z"
   },
   {
    "duration": 4,
    "start_time": "2021-07-14T08:06:20.080Z"
   },
   {
    "duration": 8,
    "start_time": "2021-07-14T08:06:23.284Z"
   },
   {
    "duration": 13,
    "start_time": "2021-07-14T08:06:35.650Z"
   },
   {
    "duration": 13,
    "start_time": "2021-07-14T08:06:51.806Z"
   },
   {
    "duration": 108,
    "start_time": "2021-07-14T08:07:20.452Z"
   },
   {
    "duration": 12,
    "start_time": "2021-07-14T08:07:35.577Z"
   },
   {
    "duration": 12,
    "start_time": "2021-07-14T08:07:47.861Z"
   },
   {
    "duration": 12,
    "start_time": "2021-07-14T08:07:52.375Z"
   },
   {
    "duration": 12,
    "start_time": "2021-07-14T08:07:58.176Z"
   },
   {
    "duration": 12,
    "start_time": "2021-07-14T08:08:07.120Z"
   },
   {
    "duration": 13,
    "start_time": "2021-07-14T08:08:24.670Z"
   },
   {
    "duration": 11,
    "start_time": "2021-07-14T08:09:35.246Z"
   },
   {
    "duration": 11,
    "start_time": "2021-07-14T08:09:57.747Z"
   },
   {
    "duration": 23,
    "start_time": "2021-07-14T09:39:14.082Z"
   },
   {
    "duration": 21,
    "start_time": "2021-07-14T09:39:20.388Z"
   },
   {
    "duration": 23,
    "start_time": "2021-07-14T09:39:54.196Z"
   },
   {
    "duration": 177,
    "start_time": "2021-07-14T09:40:37.521Z"
   },
   {
    "duration": 195,
    "start_time": "2021-07-14T09:42:08.159Z"
   },
   {
    "duration": 159,
    "start_time": "2021-07-14T10:33:28.473Z"
   },
   {
    "duration": 160,
    "start_time": "2021-07-14T10:33:33.269Z"
   },
   {
    "duration": 317,
    "start_time": "2021-07-14T10:35:16.028Z"
   },
   {
    "duration": 159,
    "start_time": "2021-07-14T10:35:28.650Z"
   },
   {
    "duration": 83,
    "start_time": "2021-07-14T10:35:57.249Z"
   },
   {
    "duration": 7661,
    "start_time": "2021-07-14T10:36:26.718Z"
   },
   {
    "duration": 380,
    "start_time": "2021-07-14T10:38:50.136Z"
   },
   {
    "duration": 21,
    "start_time": "2021-07-14T10:40:56.863Z"
   },
   {
    "duration": 91,
    "start_time": "2021-07-14T10:41:47.979Z"
   },
   {
    "duration": 91,
    "start_time": "2021-07-14T10:41:54.718Z"
   },
   {
    "duration": 99,
    "start_time": "2021-07-14T10:42:00.534Z"
   },
   {
    "duration": 24,
    "start_time": "2021-07-14T10:44:11.399Z"
   },
   {
    "duration": 22,
    "start_time": "2021-07-14T10:44:36.230Z"
   },
   {
    "duration": 17,
    "start_time": "2021-07-14T10:46:21.065Z"
   },
   {
    "duration": 13,
    "start_time": "2021-07-14T10:46:50.055Z"
   },
   {
    "duration": 12,
    "start_time": "2021-07-14T10:46:55.338Z"
   },
   {
    "duration": 12,
    "start_time": "2021-07-14T10:46:59.439Z"
   },
   {
    "duration": 13,
    "start_time": "2021-07-14T10:47:03.349Z"
   },
   {
    "duration": 13,
    "start_time": "2021-07-14T10:47:07.559Z"
   },
   {
    "duration": 19,
    "start_time": "2021-07-14T10:47:15.202Z"
   },
   {
    "duration": 38,
    "start_time": "2021-07-14T10:47:51.539Z"
   },
   {
    "duration": 26,
    "start_time": "2021-07-14T10:47:56.768Z"
   },
   {
    "duration": 12,
    "start_time": "2021-07-14T10:48:24.293Z"
   },
   {
    "duration": 14,
    "start_time": "2021-07-14T10:48:30.395Z"
   },
   {
    "duration": 12,
    "start_time": "2021-07-14T10:48:34.903Z"
   },
   {
    "duration": 12,
    "start_time": "2021-07-14T10:48:39.031Z"
   },
   {
    "duration": 12,
    "start_time": "2021-07-14T10:48:42.844Z"
   },
   {
    "duration": 19,
    "start_time": "2021-07-14T10:48:56.253Z"
   },
   {
    "duration": 20,
    "start_time": "2021-07-14T10:49:06.875Z"
   },
   {
    "duration": 12,
    "start_time": "2021-07-14T10:51:23.023Z"
   },
   {
    "duration": 25,
    "start_time": "2021-07-14T10:53:23.652Z"
   },
   {
    "duration": 28,
    "start_time": "2021-07-14T10:53:41.235Z"
   },
   {
    "duration": 8011,
    "start_time": "2021-07-14T10:54:17.481Z"
   },
   {
    "duration": 7507,
    "start_time": "2021-07-14T10:54:30.920Z"
   },
   {
    "duration": 326,
    "start_time": "2021-07-14T10:55:35.364Z"
   },
   {
    "duration": 297,
    "start_time": "2021-07-14T10:55:40.799Z"
   },
   {
    "duration": 348,
    "start_time": "2021-07-14T10:57:20.610Z"
   },
   {
    "duration": 289,
    "start_time": "2021-07-14T10:57:34.780Z"
   },
   {
    "duration": 319,
    "start_time": "2021-07-14T11:00:59.436Z"
   },
   {
    "duration": 371,
    "start_time": "2021-07-14T11:01:11.057Z"
   },
   {
    "duration": 310,
    "start_time": "2021-07-14T11:01:49.213Z"
   },
   {
    "duration": 364,
    "start_time": "2021-07-14T11:02:10.409Z"
   },
   {
    "duration": 321,
    "start_time": "2021-07-14T11:02:42.543Z"
   },
   {
    "duration": 271,
    "start_time": "2021-07-14T11:02:50.849Z"
   },
   {
    "duration": 6,
    "start_time": "2021-07-14T11:03:23.872Z"
   },
   {
    "duration": 6,
    "start_time": "2021-07-14T11:03:41.730Z"
   },
   {
    "duration": 1102,
    "start_time": "2021-07-15T10:42:53.824Z"
   },
   {
    "duration": 353,
    "start_time": "2021-07-15T10:42:55.644Z"
   },
   {
    "duration": 9,
    "start_time": "2021-07-15T10:42:55.999Z"
   },
   {
    "duration": 1092,
    "start_time": "2021-07-15T10:42:56.254Z"
   },
   {
    "duration": 35,
    "start_time": "2021-07-15T10:42:57.349Z"
   },
   {
    "duration": 25,
    "start_time": "2021-07-15T10:42:57.386Z"
   },
   {
    "duration": 42,
    "start_time": "2021-07-15T10:42:57.413Z"
   },
   {
    "duration": 121,
    "start_time": "2021-07-15T10:43:01.989Z"
   },
   {
    "duration": 54,
    "start_time": "2021-07-15T10:43:02.336Z"
   },
   {
    "duration": 15,
    "start_time": "2021-07-15T10:43:02.596Z"
   },
   {
    "duration": 16,
    "start_time": "2021-07-15T10:43:06.332Z"
   },
   {
    "duration": 4,
    "start_time": "2021-07-15T10:43:11.280Z"
   },
   {
    "duration": 13,
    "start_time": "2021-07-15T10:43:12.149Z"
   },
   {
    "duration": 361,
    "start_time": "2021-07-15T10:43:13.146Z"
   },
   {
    "duration": 179,
    "start_time": "2021-07-15T10:43:13.579Z"
   },
   {
    "duration": 194,
    "start_time": "2021-07-15T10:43:13.950Z"
   },
   {
    "duration": 267,
    "start_time": "2021-07-15T10:43:39.643Z"
   },
   {
    "duration": 275,
    "start_time": "2021-07-15T10:47:20.974Z"
   },
   {
    "duration": 12,
    "start_time": "2021-07-15T10:47:32.781Z"
   },
   {
    "duration": 180,
    "start_time": "2021-07-15T10:47:35.489Z"
   },
   {
    "duration": 4,
    "start_time": "2021-07-15T10:47:47.574Z"
   },
   {
    "duration": 4,
    "start_time": "2021-07-15T10:48:51.252Z"
   },
   {
    "duration": 3,
    "start_time": "2021-07-15T10:48:54.922Z"
   },
   {
    "duration": 11,
    "start_time": "2021-07-15T10:49:10.402Z"
   },
   {
    "duration": 5,
    "start_time": "2021-07-15T10:49:11.911Z"
   },
   {
    "duration": 184,
    "start_time": "2021-07-15T10:49:12.869Z"
   },
   {
    "duration": 14,
    "start_time": "2021-07-15T10:49:19.730Z"
   },
   {
    "duration": 4,
    "start_time": "2021-07-15T10:49:21.639Z"
   },
   {
    "duration": 89,
    "start_time": "2021-07-15T10:49:53.596Z"
   },
   {
    "duration": 14,
    "start_time": "2021-07-15T10:55:02.581Z"
   },
   {
    "duration": 4,
    "start_time": "2021-07-15T10:55:03.747Z"
   },
   {
    "duration": 3,
    "start_time": "2021-07-15T10:55:04.375Z"
   },
   {
    "duration": 5,
    "start_time": "2021-07-15T10:55:05.150Z"
   },
   {
    "duration": 5,
    "start_time": "2021-07-15T10:55:05.880Z"
   },
   {
    "duration": 4,
    "start_time": "2021-07-15T10:55:10.299Z"
   },
   {
    "duration": 135,
    "start_time": "2021-07-15T10:55:11.116Z"
   },
   {
    "duration": 61,
    "start_time": "2021-07-15T10:55:20.553Z"
   },
   {
    "duration": 63,
    "start_time": "2021-07-15T10:55:32.032Z"
   },
   {
    "duration": 26,
    "start_time": "2021-07-15T10:55:42.546Z"
   },
   {
    "duration": 8,
    "start_time": "2021-07-15T10:55:46.774Z"
   },
   {
    "duration": 8,
    "start_time": "2021-07-15T10:55:53.818Z"
   },
   {
    "duration": 243,
    "start_time": "2021-07-15T10:55:59.818Z"
   },
   {
    "duration": 190,
    "start_time": "2021-07-15T10:59:23.903Z"
   },
   {
    "duration": 13,
    "start_time": "2021-07-15T11:04:17.950Z"
   },
   {
    "duration": 4,
    "start_time": "2021-07-15T11:04:20.102Z"
   },
   {
    "duration": 4,
    "start_time": "2021-07-15T11:04:20.371Z"
   },
   {
    "duration": 4,
    "start_time": "2021-07-15T11:04:20.770Z"
   },
   {
    "duration": 4,
    "start_time": "2021-07-15T11:04:21.564Z"
   },
   {
    "duration": 11,
    "start_time": "2021-07-15T11:08:13.736Z"
   },
   {
    "duration": 10,
    "start_time": "2021-07-15T11:11:02.124Z"
   },
   {
    "duration": 3005,
    "start_time": "2021-07-15T11:16:42.082Z"
   },
   {
    "duration": 2969,
    "start_time": "2021-07-15T11:22:58.897Z"
   },
   {
    "duration": 2967,
    "start_time": "2021-07-15T11:49:08.660Z"
   },
   {
    "duration": 3033,
    "start_time": "2021-07-15T11:49:23.980Z"
   },
   {
    "duration": 2930,
    "start_time": "2021-07-15T11:50:10.273Z"
   },
   {
    "duration": 2942,
    "start_time": "2021-07-15T11:50:30.208Z"
   },
   {
    "duration": 3,
    "start_time": "2021-07-15T11:54:54.915Z"
   },
   {
    "duration": 206,
    "start_time": "2021-07-15T11:56:45.398Z"
   },
   {
    "duration": 435,
    "start_time": "2021-07-15T11:57:11.718Z"
   },
   {
    "duration": 4,
    "start_time": "2021-07-15T12:03:55.586Z"
   },
   {
    "duration": 3,
    "start_time": "2021-07-15T12:03:57.975Z"
   },
   {
    "duration": 3,
    "start_time": "2021-07-15T12:04:18.337Z"
   },
   {
    "duration": 305,
    "start_time": "2021-07-15T12:04:50.390Z"
   },
   {
    "duration": 5,
    "start_time": "2021-07-15T12:05:26.233Z"
   },
   {
    "duration": 360,
    "start_time": "2021-07-15T12:05:34.519Z"
   },
   {
    "duration": 5,
    "start_time": "2021-07-15T12:05:40.077Z"
   },
   {
    "duration": 4,
    "start_time": "2021-07-15T12:05:49.658Z"
   },
   {
    "duration": 4,
    "start_time": "2021-07-15T12:06:41.295Z"
   },
   {
    "duration": 5,
    "start_time": "2021-07-15T12:07:04.574Z"
   },
   {
    "duration": 176,
    "start_time": "2021-07-15T12:08:18.019Z"
   },
   {
    "duration": 5,
    "start_time": "2021-07-15T12:09:08.071Z"
   },
   {
    "duration": 475,
    "start_time": "2021-07-15T12:09:09.414Z"
   },
   {
    "duration": 6,
    "start_time": "2021-07-15T12:09:51.255Z"
   },
   {
    "duration": 457,
    "start_time": "2021-07-15T12:09:52.445Z"
   },
   {
    "duration": 275,
    "start_time": "2021-07-15T12:12:35.053Z"
   },
   {
    "duration": 284,
    "start_time": "2021-07-15T12:13:01.122Z"
   },
   {
    "duration": 6,
    "start_time": "2021-07-15T12:13:44.450Z"
   },
   {
    "duration": 390,
    "start_time": "2021-07-15T12:13:45.297Z"
   },
   {
    "duration": 5,
    "start_time": "2021-07-15T12:13:56.431Z"
   },
   {
    "duration": 389,
    "start_time": "2021-07-15T12:13:57.299Z"
   },
   {
    "duration": 5,
    "start_time": "2021-07-15T12:14:35.268Z"
   },
   {
    "duration": 603,
    "start_time": "2021-07-15T12:14:36.087Z"
   },
   {
    "duration": 5,
    "start_time": "2021-07-15T12:14:50.175Z"
   },
   {
    "duration": 546,
    "start_time": "2021-07-15T12:14:51.164Z"
   },
   {
    "duration": 4,
    "start_time": "2021-07-15T12:15:30.524Z"
   },
   {
    "duration": 621,
    "start_time": "2021-07-15T12:15:31.669Z"
   },
   {
    "duration": 5,
    "start_time": "2021-07-15T12:17:09.166Z"
   },
   {
    "duration": 396,
    "start_time": "2021-07-15T12:17:10.488Z"
   },
   {
    "duration": 13,
    "start_time": "2021-07-15T12:19:25.369Z"
   },
   {
    "duration": 5,
    "start_time": "2021-07-15T12:19:25.935Z"
   },
   {
    "duration": 417,
    "start_time": "2021-07-15T12:19:26.871Z"
   },
   {
    "duration": 337,
    "start_time": "2021-07-15T12:19:37.749Z"
   },
   {
    "duration": 57,
    "start_time": "2021-07-15T12:21:04.946Z"
   },
   {
    "duration": 4,
    "start_time": "2021-07-15T12:21:20.769Z"
   },
   {
    "duration": 5,
    "start_time": "2021-07-15T12:21:37.740Z"
   },
   {
    "duration": 479,
    "start_time": "2021-07-15T12:21:39.257Z"
   },
   {
    "duration": 6,
    "start_time": "2021-07-15T12:22:23.511Z"
   },
   {
    "duration": 37,
    "start_time": "2021-07-15T12:22:24.452Z"
   },
   {
    "duration": 5,
    "start_time": "2021-07-15T12:23:05.166Z"
   },
   {
    "duration": 70,
    "start_time": "2021-07-15T12:23:06.317Z"
   },
   {
    "duration": 5,
    "start_time": "2021-07-15T12:24:09.497Z"
   },
   {
    "duration": 486,
    "start_time": "2021-07-15T12:24:10.521Z"
   },
   {
    "duration": 5,
    "start_time": "2021-07-15T12:24:33.329Z"
   },
   {
    "duration": 32,
    "start_time": "2021-07-15T12:24:34.822Z"
   },
   {
    "duration": 4,
    "start_time": "2021-07-15T12:24:59.149Z"
   },
   {
    "duration": 35,
    "start_time": "2021-07-15T12:25:00.034Z"
   },
   {
    "duration": 263,
    "start_time": "2021-07-15T12:25:42.783Z"
   },
   {
    "duration": 407,
    "start_time": "2021-07-15T12:26:03.640Z"
   },
   {
    "duration": 127,
    "start_time": "2021-07-15T12:26:12.559Z"
   },
   {
    "duration": 5,
    "start_time": "2021-07-15T13:26:21.879Z"
   },
   {
    "duration": 25,
    "start_time": "2021-07-15T13:26:22.234Z"
   },
   {
    "duration": 13,
    "start_time": "2021-07-15T13:27:10.312Z"
   },
   {
    "duration": 4,
    "start_time": "2021-07-15T13:27:14.682Z"
   },
   {
    "duration": 4,
    "start_time": "2021-07-15T13:27:17.300Z"
   },
   {
    "duration": 4,
    "start_time": "2021-07-15T13:27:18.936Z"
   },
   {
    "duration": 4,
    "start_time": "2021-07-15T13:27:20.069Z"
   },
   {
    "duration": 184,
    "start_time": "2021-07-15T13:49:53.845Z"
   },
   {
    "duration": 4,
    "start_time": "2021-07-15T13:51:01.542Z"
   },
   {
    "duration": 8,
    "start_time": "2021-07-15T13:51:12.601Z"
   },
   {
    "duration": 5,
    "start_time": "2021-07-15T13:52:51.032Z"
   },
   {
    "duration": 8,
    "start_time": "2021-07-15T13:52:52.252Z"
   },
   {
    "duration": 184,
    "start_time": "2021-07-15T13:53:18.734Z"
   },
   {
    "duration": 4,
    "start_time": "2021-07-15T13:53:23.359Z"
   },
   {
    "duration": 9,
    "start_time": "2021-07-15T13:53:24.165Z"
   },
   {
    "duration": 4,
    "start_time": "2021-07-15T13:53:36.117Z"
   },
   {
    "duration": 7,
    "start_time": "2021-07-15T13:53:37.016Z"
   },
   {
    "duration": 134,
    "start_time": "2021-07-15T13:54:03.267Z"
   },
   {
    "duration": 304,
    "start_time": "2021-07-15T13:54:31.998Z"
   },
   {
    "duration": 184,
    "start_time": "2021-07-15T13:55:58.377Z"
   },
   {
    "duration": 206,
    "start_time": "2021-07-15T13:56:28.501Z"
   },
   {
    "duration": 5,
    "start_time": "2021-07-15T13:56:34.778Z"
   },
   {
    "duration": 8,
    "start_time": "2021-07-15T13:56:38.462Z"
   },
   {
    "duration": 5,
    "start_time": "2021-07-15T13:57:09.554Z"
   },
   {
    "duration": 8,
    "start_time": "2021-07-15T13:57:10.572Z"
   },
   {
    "duration": 5,
    "start_time": "2021-07-15T13:57:38.495Z"
   },
   {
    "duration": 9,
    "start_time": "2021-07-15T13:57:39.429Z"
   },
   {
    "duration": 5,
    "start_time": "2021-07-15T13:58:16.405Z"
   },
   {
    "duration": 14,
    "start_time": "2021-07-15T13:58:17.788Z"
   },
   {
    "duration": 9,
    "start_time": "2021-07-15T13:59:29.555Z"
   },
   {
    "duration": 6,
    "start_time": "2021-07-15T13:59:30.866Z"
   },
   {
    "duration": 8,
    "start_time": "2021-07-15T13:59:44.494Z"
   },
   {
    "duration": 7,
    "start_time": "2021-07-15T13:59:45.639Z"
   },
   {
    "duration": 887,
    "start_time": "2021-07-15T14:00:10.989Z"
   },
   {
    "duration": 8,
    "start_time": "2021-07-15T14:00:12.037Z"
   },
   {
    "duration": 183,
    "start_time": "2021-07-15T14:00:17.428Z"
   },
   {
    "duration": 1495,
    "start_time": "2021-07-15T23:43:01.697Z"
   },
   {
    "duration": 427,
    "start_time": "2021-07-15T23:43:03.194Z"
   },
   {
    "duration": 10,
    "start_time": "2021-07-15T23:43:03.624Z"
   },
   {
    "duration": 2139,
    "start_time": "2021-07-15T23:43:03.636Z"
   },
   {
    "duration": 33,
    "start_time": "2021-07-15T23:43:05.778Z"
   },
   {
    "duration": 28,
    "start_time": "2021-07-15T23:43:05.814Z"
   },
   {
    "duration": 85,
    "start_time": "2021-07-15T23:43:05.845Z"
   },
   {
    "duration": 167,
    "start_time": "2021-07-15T23:43:07.367Z"
   },
   {
    "duration": 72,
    "start_time": "2021-07-15T23:43:11.342Z"
   },
   {
    "duration": 19,
    "start_time": "2021-07-15T23:43:13.521Z"
   },
   {
    "duration": 23,
    "start_time": "2021-07-15T23:43:15.531Z"
   },
   {
    "duration": 6,
    "start_time": "2021-07-15T23:43:18.997Z"
   },
   {
    "duration": 18,
    "start_time": "2021-07-15T23:43:19.312Z"
   },
   {
    "duration": 24,
    "start_time": "2021-07-15T23:43:19.838Z"
   },
   {
    "duration": 6,
    "start_time": "2021-07-15T23:43:20.505Z"
   },
   {
    "duration": 496,
    "start_time": "2021-07-15T23:43:21.687Z"
   },
   {
    "duration": 11,
    "start_time": "2021-07-15T23:43:24.430Z"
   },
   {
    "duration": 10,
    "start_time": "2021-07-15T23:43:26.364Z"
   },
   {
    "duration": 7,
    "start_time": "2021-07-15T23:43:45.085Z"
   },
   {
    "duration": 11,
    "start_time": "2021-07-15T23:43:45.956Z"
   },
   {
    "duration": 7,
    "start_time": "2021-07-16T00:04:46.579Z"
   },
   {
    "duration": 14,
    "start_time": "2021-07-16T00:04:47.222Z"
   },
   {
    "duration": 273,
    "start_time": "2021-07-16T00:05:17.410Z"
   },
   {
    "duration": 6,
    "start_time": "2021-07-16T00:08:53.990Z"
   },
   {
    "duration": 94,
    "start_time": "2021-07-16T00:09:02.890Z"
   },
   {
    "duration": 240,
    "start_time": "2021-07-16T00:09:25.350Z"
   },
   {
    "duration": 295,
    "start_time": "2021-07-16T00:09:32.688Z"
   },
   {
    "duration": 1067,
    "start_time": "2021-07-16T00:10:12.137Z"
   },
   {
    "duration": 13,
    "start_time": "2021-07-16T00:10:16.128Z"
   },
   {
    "duration": 814,
    "start_time": "2021-07-16T00:47:31.986Z"
   },
   {
    "duration": 105,
    "start_time": "2021-07-16T00:47:32.884Z"
   },
   {
    "duration": 6,
    "start_time": "2021-07-16T00:47:48.681Z"
   },
   {
    "duration": 501,
    "start_time": "2021-07-16T00:47:48.965Z"
   },
   {
    "duration": 17,
    "start_time": "2021-07-16T00:47:49.470Z"
   },
   {
    "duration": 2188,
    "start_time": "2021-07-16T00:47:49.494Z"
   },
   {
    "duration": 32,
    "start_time": "2021-07-16T00:47:51.684Z"
   },
   {
    "duration": 25,
    "start_time": "2021-07-16T00:47:51.719Z"
   },
   {
    "duration": 78,
    "start_time": "2021-07-16T00:47:51.746Z"
   },
   {
    "duration": 175,
    "start_time": "2021-07-16T00:47:51.826Z"
   },
   {
    "duration": 85,
    "start_time": "2021-07-16T00:47:52.004Z"
   },
   {
    "duration": 17,
    "start_time": "2021-07-16T00:47:52.091Z"
   },
   {
    "duration": 20,
    "start_time": "2021-07-16T00:47:52.111Z"
   },
   {
    "duration": 3,
    "start_time": "2021-07-16T00:47:52.133Z"
   },
   {
    "duration": 55,
    "start_time": "2021-07-16T00:47:52.138Z"
   },
   {
    "duration": 5,
    "start_time": "2021-07-16T00:47:52.195Z"
   },
   {
    "duration": 16,
    "start_time": "2021-07-16T00:47:54.408Z"
   },
   {
    "duration": 16,
    "start_time": "2021-07-16T00:47:54.656Z"
   },
   {
    "duration": 6,
    "start_time": "2021-07-16T00:47:54.883Z"
   },
   {
    "duration": 423,
    "start_time": "2021-07-16T00:47:55.070Z"
   },
   {
    "duration": 13,
    "start_time": "2021-07-16T00:47:56.529Z"
   },
   {
    "duration": 6,
    "start_time": "2021-07-16T00:50:13.882Z"
   },
   {
    "duration": 39,
    "start_time": "2021-07-16T00:50:14.849Z"
   },
   {
    "duration": 402,
    "start_time": "2021-07-16T00:50:41.695Z"
   },
   {
    "duration": 16,
    "start_time": "2021-07-16T00:50:42.537Z"
   },
   {
    "duration": 6,
    "start_time": "2021-07-16T00:51:20.299Z"
   },
   {
    "duration": 30,
    "start_time": "2021-07-16T00:51:21.534Z"
   },
   {
    "duration": 552,
    "start_time": "2021-07-16T00:51:31.390Z"
   },
   {
    "duration": 30,
    "start_time": "2021-07-16T00:51:32.118Z"
   },
   {
    "duration": 6,
    "start_time": "2021-07-16T00:53:57.184Z"
   },
   {
    "duration": 93,
    "start_time": "2021-07-16T00:54:02.590Z"
   },
   {
    "duration": 163,
    "start_time": "2021-07-16T00:57:37.062Z"
   },
   {
    "duration": 120,
    "start_time": "2021-07-16T00:57:52.189Z"
   },
   {
    "duration": 131,
    "start_time": "2021-07-16T00:58:09.176Z"
   },
   {
    "duration": 511,
    "start_time": "2021-07-16T00:59:06.103Z"
   },
   {
    "duration": 402,
    "start_time": "2021-07-16T01:01:07.177Z"
   },
   {
    "duration": 428,
    "start_time": "2021-07-16T01:01:20.536Z"
   },
   {
    "duration": 371,
    "start_time": "2021-07-16T01:01:31.773Z"
   },
   {
    "duration": 449,
    "start_time": "2021-07-16T01:02:17.572Z"
   },
   {
    "duration": 102,
    "start_time": "2021-07-16T01:02:50.283Z"
   },
   {
    "duration": 413,
    "start_time": "2021-07-16T01:04:01.320Z"
   },
   {
    "duration": 6,
    "start_time": "2021-07-16T01:07:51.973Z"
   },
   {
    "duration": 799,
    "start_time": "2021-07-16T01:07:52.957Z"
   },
   {
    "duration": 6,
    "start_time": "2021-07-16T01:08:02.718Z"
   },
   {
    "duration": 49,
    "start_time": "2021-07-16T01:08:04.134Z"
   },
   {
    "duration": 6,
    "start_time": "2021-07-16T01:08:46.936Z"
   },
   {
    "duration": 90,
    "start_time": "2021-07-16T01:08:48.393Z"
   },
   {
    "duration": 398,
    "start_time": "2021-07-16T01:09:00.288Z"
   },
   {
    "duration": 407,
    "start_time": "2021-07-16T01:09:19.696Z"
   },
   {
    "duration": 455,
    "start_time": "2021-07-16T01:09:42.169Z"
   },
   {
    "duration": 390,
    "start_time": "2021-07-16T01:10:15.388Z"
   },
   {
    "duration": 30,
    "start_time": "2021-07-16T01:12:59.373Z"
   },
   {
    "duration": 32,
    "start_time": "2021-07-16T01:13:14.753Z"
   },
   {
    "duration": 492,
    "start_time": "2021-07-16T01:14:17.804Z"
   },
   {
    "duration": 393,
    "start_time": "2021-07-16T01:14:24.920Z"
   },
   {
    "duration": 417,
    "start_time": "2021-07-16T01:14:34.108Z"
   },
   {
    "duration": 31,
    "start_time": "2021-07-16T01:14:47.370Z"
   },
   {
    "duration": 33,
    "start_time": "2021-07-16T01:14:59.293Z"
   },
   {
    "duration": 6,
    "start_time": "2021-07-16T01:16:03.392Z"
   },
   {
    "duration": 412,
    "start_time": "2021-07-16T01:16:05.981Z"
   },
   {
    "duration": 12,
    "start_time": "2021-07-16T01:16:07.907Z"
   },
   {
    "duration": 6,
    "start_time": "2021-07-16T01:18:44.075Z"
   },
   {
    "duration": 415,
    "start_time": "2021-07-16T01:18:45.579Z"
   },
   {
    "duration": 23,
    "start_time": "2021-07-16T01:18:47.053Z"
   },
   {
    "duration": 440,
    "start_time": "2021-07-16T01:19:16.647Z"
   },
   {
    "duration": 21,
    "start_time": "2021-07-16T01:19:19.112Z"
   },
   {
    "duration": 436,
    "start_time": "2021-07-16T01:19:49.264Z"
   },
   {
    "duration": 132,
    "start_time": "2021-07-16T01:21:29.685Z"
   },
   {
    "duration": 122,
    "start_time": "2021-07-16T01:21:44.962Z"
   },
   {
    "duration": 424,
    "start_time": "2021-07-16T01:23:02.065Z"
   },
   {
    "duration": 379,
    "start_time": "2021-07-16T01:23:20.315Z"
   },
   {
    "duration": 367,
    "start_time": "2021-07-16T01:25:20.035Z"
   },
   {
    "duration": 484,
    "start_time": "2021-07-16T01:26:25.578Z"
   },
   {
    "duration": 378,
    "start_time": "2021-07-16T01:26:34.510Z"
   },
   {
    "duration": 437,
    "start_time": "2021-07-16T01:27:09.364Z"
   },
   {
    "duration": 386,
    "start_time": "2021-07-16T01:28:02.308Z"
   },
   {
    "duration": 394,
    "start_time": "2021-07-16T01:28:12.289Z"
   },
   {
    "duration": 437,
    "start_time": "2021-07-16T01:28:21.862Z"
   },
   {
    "duration": 133,
    "start_time": "2021-07-16T01:30:31.246Z"
   },
   {
    "duration": 129,
    "start_time": "2021-07-16T01:30:48.135Z"
   },
   {
    "duration": 123,
    "start_time": "2021-07-16T01:31:43.910Z"
   },
   {
    "duration": 6,
    "start_time": "2021-07-16T01:32:24.920Z"
   },
   {
    "duration": 101,
    "start_time": "2021-07-16T01:32:28.696Z"
   },
   {
    "duration": 445,
    "start_time": "2021-07-16T01:32:43.651Z"
   },
   {
    "duration": 768,
    "start_time": "2021-07-16T01:41:11.629Z"
   },
   {
    "duration": 67,
    "start_time": "2021-07-16T01:46:25.918Z"
   },
   {
    "duration": 6,
    "start_time": "2021-07-16T01:46:33.159Z"
   },
   {
    "duration": 744,
    "start_time": "2021-07-16T01:46:35.581Z"
   },
   {
    "duration": 125,
    "start_time": "2021-07-16T01:46:49.892Z"
   },
   {
    "duration": 815,
    "start_time": "2021-07-16T01:46:51.285Z"
   },
   {
    "duration": 6,
    "start_time": "2021-07-16T01:47:20.062Z"
   },
   {
    "duration": 58,
    "start_time": "2021-07-16T01:47:23.027Z"
   },
   {
    "duration": 455,
    "start_time": "2021-07-16T01:50:40.471Z"
   },
   {
    "duration": 390,
    "start_time": "2021-07-16T01:50:57.708Z"
   },
   {
    "duration": 68,
    "start_time": "2021-07-16T01:51:10.817Z"
   },
   {
    "duration": 382,
    "start_time": "2021-07-16T01:54:41.936Z"
   },
   {
    "duration": 73,
    "start_time": "2021-07-16T01:54:55.312Z"
   },
   {
    "duration": 6,
    "start_time": "2021-07-16T01:57:45.952Z"
   },
   {
    "duration": 33,
    "start_time": "2021-07-16T01:57:47.001Z"
   },
   {
    "duration": 486,
    "start_time": "2021-07-16T01:58:25.478Z"
   },
   {
    "duration": 120,
    "start_time": "2021-07-16T01:58:35.701Z"
   },
   {
    "duration": 106,
    "start_time": "2021-07-16T01:58:44.297Z"
   },
   {
    "duration": 405,
    "start_time": "2021-07-16T01:58:48.283Z"
   },
   {
    "duration": 6,
    "start_time": "2021-07-16T02:14:10.318Z"
   },
   {
    "duration": 72,
    "start_time": "2021-07-16T02:14:11.013Z"
   },
   {
    "duration": 459,
    "start_time": "2021-07-16T02:17:21.634Z"
   },
   {
    "duration": 454,
    "start_time": "2021-07-16T02:18:02.067Z"
   },
   {
    "duration": 6,
    "start_time": "2021-07-16T02:18:36.711Z"
   },
   {
    "duration": 58,
    "start_time": "2021-07-16T02:18:47.127Z"
   },
   {
    "duration": 84,
    "start_time": "2021-07-16T02:18:55.699Z"
   },
   {
    "duration": 473,
    "start_time": "2021-07-16T02:19:45.110Z"
   },
   {
    "duration": 411,
    "start_time": "2021-07-16T02:19:57.457Z"
   },
   {
    "duration": 448,
    "start_time": "2021-07-16T02:20:28.672Z"
   },
   {
    "duration": 500,
    "start_time": "2021-07-16T02:20:54.299Z"
   },
   {
    "duration": 31,
    "start_time": "2021-07-16T02:22:12.404Z"
   },
   {
    "duration": 180,
    "start_time": "2021-07-16T02:25:44.190Z"
   },
   {
    "duration": 113,
    "start_time": "2021-07-16T02:26:04.972Z"
   },
   {
    "duration": 139,
    "start_time": "2021-07-16T02:27:25.965Z"
   },
   {
    "duration": 120,
    "start_time": "2021-07-16T02:27:43.170Z"
   },
   {
    "duration": 122,
    "start_time": "2021-07-16T02:27:56.711Z"
   },
   {
    "duration": 410,
    "start_time": "2021-07-16T02:30:07.095Z"
   },
   {
    "duration": 418,
    "start_time": "2021-07-16T02:30:26.296Z"
   },
   {
    "duration": 113,
    "start_time": "2021-07-16T02:30:33.755Z"
   },
   {
    "duration": 409,
    "start_time": "2021-07-16T02:30:39.279Z"
   },
   {
    "duration": 204,
    "start_time": "2021-07-16T02:35:30.586Z"
   },
   {
    "duration": 142,
    "start_time": "2021-07-16T02:36:15.943Z"
   },
   {
    "duration": 422,
    "start_time": "2021-07-16T02:45:48.129Z"
   },
   {
    "duration": 351,
    "start_time": "2021-07-16T02:46:13.954Z"
   },
   {
    "duration": 127,
    "start_time": "2021-07-16T02:47:23.041Z"
   },
   {
    "duration": 95,
    "start_time": "2021-07-16T02:47:32.688Z"
   },
   {
    "duration": 41,
    "start_time": "2021-07-16T02:47:41.846Z"
   },
   {
    "duration": 442,
    "start_time": "2021-07-16T02:47:59.858Z"
   },
   {
    "duration": 456,
    "start_time": "2021-07-16T02:48:09.164Z"
   },
   {
    "duration": 409,
    "start_time": "2021-07-16T02:49:07.921Z"
   },
   {
    "duration": 345,
    "start_time": "2021-07-16T02:49:24.290Z"
   },
   {
    "duration": 770,
    "start_time": "2021-07-16T02:51:27.057Z"
   },
   {
    "duration": 6,
    "start_time": "2021-07-16T02:53:33.443Z"
   },
   {
    "duration": 340,
    "start_time": "2021-07-16T02:53:41.457Z"
   },
   {
    "duration": 27,
    "start_time": "2021-07-16T02:53:58.766Z"
   },
   {
    "duration": 49,
    "start_time": "2021-07-16T02:54:02.936Z"
   },
   {
    "duration": 171,
    "start_time": "2021-07-16T03:01:51.013Z"
   },
   {
    "duration": 6,
    "start_time": "2021-07-16T03:02:00.210Z"
   },
   {
    "duration": 6,
    "start_time": "2021-07-16T03:02:17.313Z"
   },
   {
    "duration": 104,
    "start_time": "2021-07-16T03:02:20.368Z"
   },
   {
    "duration": 123,
    "start_time": "2021-07-16T03:02:36.747Z"
   },
   {
    "duration": 7,
    "start_time": "2021-07-16T03:08:00.450Z"
   },
   {
    "duration": 32,
    "start_time": "2021-07-16T03:08:01.828Z"
   },
   {
    "duration": 7,
    "start_time": "2021-07-16T03:08:13.558Z"
   },
   {
    "duration": 32,
    "start_time": "2021-07-16T03:08:14.745Z"
   },
   {
    "duration": 6,
    "start_time": "2021-07-16T03:08:29.070Z"
   },
   {
    "duration": 805,
    "start_time": "2021-07-16T03:08:30.112Z"
   },
   {
    "duration": 6,
    "start_time": "2021-07-16T03:08:42.545Z"
   },
   {
    "duration": 87,
    "start_time": "2021-07-16T03:08:43.298Z"
   },
   {
    "duration": 899,
    "start_time": "2021-07-16T03:09:18.587Z"
   },
   {
    "duration": 29,
    "start_time": "2021-07-16T03:09:30.435Z"
   },
   {
    "duration": 46,
    "start_time": "2021-07-16T03:09:36.640Z"
   },
   {
    "duration": 106,
    "start_time": "2021-07-16T03:09:53.806Z"
   },
   {
    "duration": 88,
    "start_time": "2021-07-16T03:10:35.198Z"
   },
   {
    "duration": 28,
    "start_time": "2021-07-16T03:10:53.522Z"
   },
   {
    "duration": 76,
    "start_time": "2021-07-16T03:10:59.009Z"
   },
   {
    "duration": 59,
    "start_time": "2021-07-16T03:11:21.626Z"
   },
   {
    "duration": 29,
    "start_time": "2021-07-16T03:11:37.122Z"
   },
   {
    "duration": 41,
    "start_time": "2021-07-16T03:11:41.654Z"
   },
   {
    "duration": 386,
    "start_time": "2021-07-16T03:13:03.106Z"
   },
   {
    "duration": 14,
    "start_time": "2021-07-16T03:13:07.830Z"
   },
   {
    "duration": 8,
    "start_time": "2021-07-16T03:13:30.158Z"
   },
   {
    "duration": 6,
    "start_time": "2021-07-16T03:13:33.635Z"
   },
   {
    "duration": 9,
    "start_time": "2021-07-16T03:13:39.938Z"
   },
   {
    "duration": 6,
    "start_time": "2021-07-16T03:13:47.308Z"
   },
   {
    "duration": 471,
    "start_time": "2021-07-16T03:17:20.203Z"
   },
   {
    "duration": 4,
    "start_time": "2021-07-16T03:17:24.710Z"
   },
   {
    "duration": 5,
    "start_time": "2021-07-16T03:17:27.284Z"
   },
   {
    "duration": 5,
    "start_time": "2021-07-16T03:18:42.984Z"
   },
   {
    "duration": 15,
    "start_time": "2021-07-16T03:19:42.035Z"
   },
   {
    "duration": 273,
    "start_time": "2021-07-16T03:19:57.592Z"
   },
   {
    "duration": 552,
    "start_time": "2021-07-16T03:20:03.605Z"
   },
   {
    "duration": 367,
    "start_time": "2021-07-16T03:22:42.265Z"
   },
   {
    "duration": 17,
    "start_time": "2021-07-16T03:23:10.203Z"
   },
   {
    "duration": 25,
    "start_time": "2021-07-16T03:23:25.429Z"
   },
   {
    "duration": 335,
    "start_time": "2021-07-16T03:24:40.510Z"
   },
   {
    "duration": 432,
    "start_time": "2021-07-16T03:24:55.711Z"
   },
   {
    "duration": 17,
    "start_time": "2021-07-16T03:25:28.267Z"
   },
   {
    "duration": 345,
    "start_time": "2021-07-16T03:25:46.540Z"
   },
   {
    "duration": 17,
    "start_time": "2021-07-16T03:25:56.439Z"
   },
   {
    "duration": 397,
    "start_time": "2021-07-16T03:30:46.180Z"
   },
   {
    "duration": 314,
    "start_time": "2021-07-16T03:30:55.719Z"
   },
   {
    "duration": 364,
    "start_time": "2021-07-16T03:32:34.790Z"
   },
   {
    "duration": 358,
    "start_time": "2021-07-16T03:35:28.712Z"
   },
   {
    "duration": 8414,
    "start_time": "2021-07-16T03:36:18.384Z"
   },
   {
    "duration": 8202,
    "start_time": "2021-07-16T03:36:32.629Z"
   },
   {
    "duration": 334,
    "start_time": "2021-07-16T03:37:12.712Z"
   },
   {
    "duration": 15,
    "start_time": "2021-07-16T03:37:21.591Z"
   },
   {
    "duration": 321,
    "start_time": "2021-07-16T03:37:54.589Z"
   },
   {
    "duration": 16,
    "start_time": "2021-07-16T03:38:09.555Z"
   },
   {
    "duration": 33,
    "start_time": "2021-07-16T03:38:47.769Z"
   },
   {
    "duration": 12,
    "start_time": "2021-07-16T03:39:23.330Z"
   },
   {
    "duration": 7,
    "start_time": "2021-07-16T03:51:28.358Z"
   },
   {
    "duration": 5,
    "start_time": "2021-07-16T03:51:42.837Z"
   },
   {
    "duration": 118,
    "start_time": "2021-07-16T03:58:21.674Z"
   },
   {
    "duration": 397,
    "start_time": "2021-07-16T03:59:07.721Z"
   },
   {
    "duration": 122,
    "start_time": "2021-07-16T03:59:10.736Z"
   },
   {
    "duration": 196,
    "start_time": "2021-07-16T03:59:19.517Z"
   },
   {
    "duration": 5,
    "start_time": "2021-07-16T03:59:36.609Z"
   },
   {
    "duration": 36,
    "start_time": "2021-07-16T03:59:37.900Z"
   },
   {
    "duration": 130,
    "start_time": "2021-07-16T03:59:49.778Z"
   },
   {
    "duration": 5,
    "start_time": "2021-07-16T04:00:32.735Z"
   },
   {
    "duration": 39,
    "start_time": "2021-07-16T04:00:34.846Z"
   },
   {
    "duration": 8,
    "start_time": "2021-07-16T04:02:15.889Z"
   },
   {
    "duration": 6,
    "start_time": "2021-07-16T04:02:29.559Z"
   },
   {
    "duration": 10,
    "start_time": "2021-07-16T04:02:45.391Z"
   },
   {
    "duration": 11,
    "start_time": "2021-07-16T04:02:59.394Z"
   },
   {
    "duration": 11,
    "start_time": "2021-07-16T04:03:07.806Z"
   },
   {
    "duration": 10,
    "start_time": "2021-07-16T04:03:15.403Z"
   },
   {
    "duration": 10,
    "start_time": "2021-07-16T04:03:28.134Z"
   },
   {
    "duration": 6,
    "start_time": "2021-07-16T04:04:30.267Z"
   },
   {
    "duration": 671,
    "start_time": "2021-07-16T04:04:31.656Z"
   },
   {
    "duration": 6,
    "start_time": "2021-07-16T04:04:41.357Z"
   },
   {
    "duration": 17,
    "start_time": "2021-07-16T04:04:42.797Z"
   },
   {
    "duration": 428,
    "start_time": "2021-07-16T04:08:40.955Z"
   },
   {
    "duration": 40,
    "start_time": "2021-07-16T04:09:12.354Z"
   },
   {
    "duration": 6,
    "start_time": "2021-07-16T04:09:25.453Z"
   },
   {
    "duration": 37,
    "start_time": "2021-07-16T04:09:26.638Z"
   },
   {
    "duration": 6,
    "start_time": "2021-07-16T04:11:48.037Z"
   },
   {
    "duration": 804,
    "start_time": "2021-07-16T04:11:50.353Z"
   },
   {
    "duration": 6,
    "start_time": "2021-07-16T04:12:50.548Z"
   },
   {
    "duration": 1122,
    "start_time": "2021-07-16T04:12:51.988Z"
   },
   {
    "duration": 6,
    "start_time": "2021-07-16T04:14:51.749Z"
   },
   {
    "duration": 1124,
    "start_time": "2021-07-16T04:14:55.367Z"
   },
   {
    "duration": 45,
    "start_time": "2021-07-16T04:15:17.476Z"
   },
   {
    "duration": 6,
    "start_time": "2021-07-16T04:15:30.924Z"
   },
   {
    "duration": 1209,
    "start_time": "2021-07-16T04:15:33.130Z"
   },
   {
    "duration": 751,
    "start_time": "2021-07-16T04:16:25.414Z"
   },
   {
    "duration": 37,
    "start_time": "2021-07-16T04:17:11.704Z"
   },
   {
    "duration": 32,
    "start_time": "2021-07-16T04:17:18.905Z"
   },
   {
    "duration": 6,
    "start_time": "2021-07-16T04:17:29.477Z"
   },
   {
    "duration": 108,
    "start_time": "2021-07-16T04:17:30.709Z"
   },
   {
    "duration": 26,
    "start_time": "2021-07-16T04:18:55.846Z"
   },
   {
    "duration": 6,
    "start_time": "2021-07-16T04:52:13.591Z"
   },
   {
    "duration": 109,
    "start_time": "2021-07-16T04:52:15.128Z"
   },
   {
    "duration": 6,
    "start_time": "2021-07-16T04:54:05.351Z"
   },
   {
    "duration": 105,
    "start_time": "2021-07-16T04:54:06.385Z"
   },
   {
    "duration": 5300,
    "start_time": "2021-07-16T04:58:24.566Z"
   },
   {
    "duration": 5083,
    "start_time": "2021-07-16T04:59:13.844Z"
   },
   {
    "duration": 5006,
    "start_time": "2021-07-16T05:12:08.046Z"
   },
   {
    "duration": 4922,
    "start_time": "2021-07-16T05:50:06.592Z"
   },
   {
    "duration": 5128,
    "start_time": "2021-07-16T05:50:32.693Z"
   },
   {
    "duration": 379,
    "start_time": "2021-07-16T06:00:28.018Z"
   },
   {
    "duration": 8179,
    "start_time": "2021-07-16T06:03:15.303Z"
   },
   {
    "duration": 6257,
    "start_time": "2021-07-16T06:03:33.355Z"
   },
   {
    "duration": 7863,
    "start_time": "2021-07-16T06:04:02.399Z"
   },
   {
    "duration": 5004,
    "start_time": "2021-07-16T06:04:41.981Z"
   },
   {
    "duration": 5017,
    "start_time": "2021-07-16T06:06:17.704Z"
   },
   {
    "duration": 5098,
    "start_time": "2021-07-16T06:06:31.894Z"
   },
   {
    "duration": 417,
    "start_time": "2021-07-16T06:20:46.483Z"
   },
   {
    "duration": 4893,
    "start_time": "2021-07-16T06:22:23.276Z"
   },
   {
    "duration": 5051,
    "start_time": "2021-07-16T06:27:11.970Z"
   },
   {
    "duration": 5771,
    "start_time": "2021-07-16T06:27:38.142Z"
   },
   {
    "duration": 736,
    "start_time": "2021-07-16T06:27:54.077Z"
   },
   {
    "duration": 620,
    "start_time": "2021-07-16T06:28:06.121Z"
   },
   {
    "duration": 680,
    "start_time": "2021-07-16T06:28:15.439Z"
   },
   {
    "duration": 4925,
    "start_time": "2021-07-16T06:28:23.825Z"
   },
   {
    "duration": 5068,
    "start_time": "2021-07-16T06:28:37.115Z"
   },
   {
    "duration": 609,
    "start_time": "2021-07-16T06:29:19.258Z"
   },
   {
    "duration": 396,
    "start_time": "2021-07-16T06:29:35.598Z"
   },
   {
    "duration": 13,
    "start_time": "2021-07-16T06:29:38.439Z"
   },
   {
    "duration": 5080,
    "start_time": "2021-07-16T06:29:43.337Z"
   },
   {
    "duration": 15172,
    "start_time": "2021-07-16T06:30:11.514Z"
   },
   {
    "duration": 4942,
    "start_time": "2021-07-16T06:31:06.396Z"
   },
   {
    "duration": 5005,
    "start_time": "2021-07-16T06:31:12.306Z"
   },
   {
    "duration": 4941,
    "start_time": "2021-07-16T06:31:18.351Z"
   },
   {
    "duration": 5243,
    "start_time": "2021-07-16T06:35:42.142Z"
   },
   {
    "duration": 5304,
    "start_time": "2021-07-16T06:35:48.983Z"
   },
   {
    "duration": 4996,
    "start_time": "2021-07-16T06:35:55.557Z"
   },
   {
    "duration": 8,
    "start_time": "2021-07-16T06:47:21.883Z"
   },
   {
    "duration": 9,
    "start_time": "2021-07-16T08:23:56.898Z"
   },
   {
    "duration": 5354,
    "start_time": "2021-07-16T08:23:58.265Z"
   },
   {
    "duration": 5195,
    "start_time": "2021-07-16T08:24:17.236Z"
   },
   {
    "duration": 5167,
    "start_time": "2021-07-16T08:24:23.652Z"
   },
   {
    "duration": 8,
    "start_time": "2021-07-16T08:25:38.027Z"
   },
   {
    "duration": 5020,
    "start_time": "2021-07-16T08:25:39.192Z"
   },
   {
    "duration": 13,
    "start_time": "2021-07-16T08:27:11.080Z"
   },
   {
    "duration": 5350,
    "start_time": "2021-07-16T08:27:12.543Z"
   },
   {
    "duration": 5286,
    "start_time": "2021-07-16T08:27:53.722Z"
   },
   {
    "duration": 5193,
    "start_time": "2021-07-16T08:27:59.011Z"
   },
   {
    "duration": 5132,
    "start_time": "2021-07-16T08:28:04.207Z"
   },
   {
    "duration": 8,
    "start_time": "2021-07-16T08:28:17.698Z"
   },
   {
    "duration": 5126,
    "start_time": "2021-07-16T08:28:21.038Z"
   },
   {
    "duration": 7,
    "start_time": "2021-07-16T08:28:37.817Z"
   },
   {
    "duration": 5138,
    "start_time": "2021-07-16T08:28:40.579Z"
   },
   {
    "duration": 150,
    "start_time": "2021-07-16T08:32:24.114Z"
   },
   {
    "duration": 8,
    "start_time": "2021-07-16T08:32:41.816Z"
   },
   {
    "duration": 5111,
    "start_time": "2021-07-16T08:32:43.492Z"
   },
   {
    "duration": 7,
    "start_time": "2021-07-16T08:33:05.209Z"
   },
   {
    "duration": 5250,
    "start_time": "2021-07-16T08:33:07.350Z"
   },
   {
    "duration": 8,
    "start_time": "2021-07-16T08:46:12.760Z"
   },
   {
    "duration": 5259,
    "start_time": "2021-07-16T08:46:13.799Z"
   },
   {
    "duration": 8,
    "start_time": "2021-07-16T08:46:27.407Z"
   },
   {
    "duration": 5163,
    "start_time": "2021-07-16T08:46:29.108Z"
   },
   {
    "duration": 8,
    "start_time": "2021-07-16T08:46:37.169Z"
   },
   {
    "duration": 5231,
    "start_time": "2021-07-16T08:46:37.640Z"
   },
   {
    "duration": 8,
    "start_time": "2021-07-16T08:46:59.409Z"
   },
   {
    "duration": 5362,
    "start_time": "2021-07-16T08:47:00.972Z"
   },
   {
    "duration": 9,
    "start_time": "2021-07-16T08:48:04.373Z"
   },
   {
    "duration": 5881,
    "start_time": "2021-07-16T08:48:05.332Z"
   },
   {
    "duration": 9,
    "start_time": "2021-07-16T08:48:47.191Z"
   },
   {
    "duration": 5196,
    "start_time": "2021-07-16T08:48:48.194Z"
   },
   {
    "duration": 8,
    "start_time": "2021-07-16T08:49:23.740Z"
   },
   {
    "duration": 5174,
    "start_time": "2021-07-16T08:49:24.789Z"
   },
   {
    "duration": 6,
    "start_time": "2021-07-16T09:40:20.685Z"
   },
   {
    "duration": 454,
    "start_time": "2021-07-16T09:40:21.068Z"
   },
   {
    "duration": 8,
    "start_time": "2021-07-16T09:40:42.612Z"
   },
   {
    "duration": 2197,
    "start_time": "2021-07-16T09:40:43.569Z"
   },
   {
    "duration": 36,
    "start_time": "2021-07-16T09:40:45.769Z"
   },
   {
    "duration": 26,
    "start_time": "2021-07-16T09:40:50.675Z"
   },
   {
    "duration": 55,
    "start_time": "2021-07-16T09:40:51.992Z"
   },
   {
    "duration": 161,
    "start_time": "2021-07-16T09:40:53.721Z"
   },
   {
    "duration": 74,
    "start_time": "2021-07-16T09:40:56.379Z"
   },
   {
    "duration": 19,
    "start_time": "2021-07-16T09:40:57.999Z"
   },
   {
    "duration": 22,
    "start_time": "2021-07-16T09:41:00.782Z"
   },
   {
    "duration": 6,
    "start_time": "2021-07-16T09:41:05.470Z"
   },
   {
    "duration": 17,
    "start_time": "2021-07-16T09:41:05.944Z"
   },
   {
    "duration": 7,
    "start_time": "2021-07-16T09:41:07.187Z"
   },
   {
    "duration": 380,
    "start_time": "2021-07-16T09:41:08.415Z"
   },
   {
    "duration": 13,
    "start_time": "2021-07-16T09:41:10.794Z"
   },
   {
    "duration": 4,
    "start_time": "2021-07-16T09:41:17.282Z"
   },
   {
    "duration": 6,
    "start_time": "2021-07-16T09:41:18.791Z"
   },
   {
    "duration": 17,
    "start_time": "2021-07-16T09:41:26.792Z"
   },
   {
    "duration": 15,
    "start_time": "2021-07-16T09:42:45.983Z"
   },
   {
    "duration": 17,
    "start_time": "2021-07-16T09:42:50.257Z"
   },
   {
    "duration": 6,
    "start_time": "2021-07-16T09:45:33.546Z"
   },
   {
    "duration": 114,
    "start_time": "2021-07-16T09:45:33.815Z"
   },
   {
    "duration": 7,
    "start_time": "2021-07-16T09:49:29.578Z"
   },
   {
    "duration": 108,
    "start_time": "2021-07-16T09:49:31.004Z"
   },
   {
    "duration": 49,
    "start_time": "2021-07-16T09:50:25.729Z"
   },
   {
    "duration": 45,
    "start_time": "2021-07-16T09:50:41.394Z"
   },
   {
    "duration": 47,
    "start_time": "2021-07-16T09:51:01.835Z"
   },
   {
    "duration": 7,
    "start_time": "2021-07-16T09:51:13.535Z"
   },
   {
    "duration": 102,
    "start_time": "2021-07-16T09:51:14.695Z"
   },
   {
    "duration": 6,
    "start_time": "2021-07-16T09:51:26.832Z"
   },
   {
    "duration": 109,
    "start_time": "2021-07-16T09:51:27.723Z"
   },
   {
    "duration": 8,
    "start_time": "2021-07-16T09:59:18.159Z"
   },
   {
    "duration": 5049,
    "start_time": "2021-07-16T09:59:19.042Z"
   },
   {
    "duration": 4973,
    "start_time": "2021-07-16T09:59:37.911Z"
   },
   {
    "duration": 4968,
    "start_time": "2021-07-16T09:59:44.470Z"
   },
   {
    "duration": 12,
    "start_time": "2021-07-16T10:01:15.150Z"
   },
   {
    "duration": 12,
    "start_time": "2021-07-16T10:01:43.417Z"
   },
   {
    "duration": 12,
    "start_time": "2021-07-16T10:01:52.153Z"
   },
   {
    "duration": 8,
    "start_time": "2021-07-16T10:02:09.710Z"
   },
   {
    "duration": 6,
    "start_time": "2021-07-16T10:02:20.248Z"
   },
   {
    "duration": 6,
    "start_time": "2021-07-16T10:02:33.208Z"
   },
   {
    "duration": 11,
    "start_time": "2021-07-16T10:02:57.003Z"
   },
   {
    "duration": 8,
    "start_time": "2021-07-16T10:04:55.289Z"
   },
   {
    "duration": 6270,
    "start_time": "2021-07-16T10:04:56.209Z"
   },
   {
    "duration": 8,
    "start_time": "2021-07-16T10:05:18.030Z"
   },
   {
    "duration": 5704,
    "start_time": "2021-07-16T10:05:19.146Z"
   },
   {
    "duration": 5,
    "start_time": "2021-07-16T10:06:09.202Z"
   },
   {
    "duration": 127,
    "start_time": "2021-07-16T10:06:11.673Z"
   },
   {
    "duration": 127,
    "start_time": "2021-07-16T10:06:22.988Z"
   },
   {
    "duration": 8,
    "start_time": "2021-07-16T10:06:37.066Z"
   },
   {
    "duration": 5406,
    "start_time": "2021-07-16T10:06:39.256Z"
   },
   {
    "duration": 9,
    "start_time": "2021-07-16T10:06:56.892Z"
   },
   {
    "duration": 5275,
    "start_time": "2021-07-16T10:06:58.050Z"
   },
   {
    "duration": 378,
    "start_time": "2021-07-16T10:39:31.081Z"
   },
   {
    "duration": 9,
    "start_time": "2021-07-16T10:46:24.894Z"
   },
   {
    "duration": 5198,
    "start_time": "2021-07-16T10:46:25.964Z"
   },
   {
    "duration": 8,
    "start_time": "2021-07-16T10:49:41.244Z"
   },
   {
    "duration": 4311,
    "start_time": "2021-07-16T10:49:42.093Z"
   },
   {
    "duration": 4390,
    "start_time": "2021-07-16T10:49:59.160Z"
   },
   {
    "duration": 4314,
    "start_time": "2021-07-16T10:50:06.416Z"
   },
   {
    "duration": 8,
    "start_time": "2021-07-16T11:03:53.037Z"
   },
   {
    "duration": 4467,
    "start_time": "2021-07-16T11:03:54.368Z"
   },
   {
    "duration": 7,
    "start_time": "2021-07-16T11:08:29.512Z"
   },
   {
    "duration": 124,
    "start_time": "2021-07-16T11:08:30.087Z"
   },
   {
    "duration": 106,
    "start_time": "2021-07-16T11:08:39.186Z"
   },
   {
    "duration": 2341,
    "start_time": "2021-07-16T11:09:04.923Z"
   },
   {
    "duration": 3969,
    "start_time": "2021-07-16T11:10:36.133Z"
   },
   {
    "duration": 8,
    "start_time": "2021-07-16T11:21:12.575Z"
   },
   {
    "duration": 4265,
    "start_time": "2021-07-16T11:21:14.024Z"
   },
   {
    "duration": 4997,
    "start_time": "2021-07-16T11:23:36.870Z"
   },
   {
    "duration": 5048,
    "start_time": "2021-07-16T11:24:01.144Z"
   },
   {
    "duration": 4998,
    "start_time": "2021-07-16T11:24:31.816Z"
   },
   {
    "duration": 5096,
    "start_time": "2021-07-16T11:25:00.954Z"
   },
   {
    "duration": 1506,
    "start_time": "2021-07-16T12:09:28.076Z"
   },
   {
    "duration": 431,
    "start_time": "2021-07-16T12:09:29.585Z"
   },
   {
    "duration": 16,
    "start_time": "2021-07-16T12:09:30.020Z"
   },
   {
    "duration": 15,
    "start_time": "2021-07-16T12:09:30.038Z"
   },
   {
    "duration": 14,
    "start_time": "2021-07-16T12:09:30.801Z"
   },
   {
    "duration": 55,
    "start_time": "2021-07-16T12:09:31.500Z"
   },
   {
    "duration": 47,
    "start_time": "2021-07-16T12:09:33.837Z"
   },
   {
    "duration": 66,
    "start_time": "2021-07-16T12:09:34.389Z"
   },
   {
    "duration": 192,
    "start_time": "2021-07-16T12:09:34.931Z"
   },
   {
    "duration": 22,
    "start_time": "2021-07-16T12:09:37.415Z"
   },
   {
    "duration": 4,
    "start_time": "2021-07-16T12:09:39.231Z"
   },
   {
    "duration": 3,
    "start_time": "2021-07-16T12:09:39.530Z"
   },
   {
    "duration": 17,
    "start_time": "2021-07-16T12:09:39.895Z"
   },
   {
    "duration": 3,
    "start_time": "2021-07-16T12:09:50.339Z"
   },
   {
    "duration": 3,
    "start_time": "2021-07-16T12:09:51.022Z"
   },
   {
    "duration": 7,
    "start_time": "2021-07-16T12:09:51.913Z"
   },
   {
    "duration": 828,
    "start_time": "2021-07-16T12:09:54.315Z"
   },
   {
    "duration": 6,
    "start_time": "2021-07-16T12:10:07.419Z"
   },
   {
    "duration": 440,
    "start_time": "2021-07-16T12:10:08.743Z"
   },
   {
    "duration": 13,
    "start_time": "2021-07-16T12:10:11.051Z"
   },
   {
    "duration": 17,
    "start_time": "2021-07-16T12:28:51.134Z"
   },
   {
    "duration": 17,
    "start_time": "2021-07-16T12:28:52.417Z"
   },
   {
    "duration": 8,
    "start_time": "2021-07-16T12:30:33.031Z"
   },
   {
    "duration": 7,
    "start_time": "2021-07-16T12:31:04.855Z"
   },
   {
    "duration": 440,
    "start_time": "2021-07-16T12:31:05.357Z"
   },
   {
    "duration": 13,
    "start_time": "2021-07-16T12:31:06.495Z"
   },
   {
    "duration": 7,
    "start_time": "2021-07-16T12:35:10.276Z"
   },
   {
    "duration": 648,
    "start_time": "2021-07-16T12:35:12.738Z"
   },
   {
    "duration": 7,
    "start_time": "2021-07-16T12:35:21.934Z"
   },
   {
    "duration": 311,
    "start_time": "2021-07-16T12:35:23.087Z"
   },
   {
    "duration": 12,
    "start_time": "2021-07-16T12:35:25.325Z"
   },
   {
    "duration": 531,
    "start_time": "2021-07-16T12:42:28.915Z"
   },
   {
    "duration": 124,
    "start_time": "2021-07-16T12:42:51.072Z"
   },
   {
    "duration": 7,
    "start_time": "2021-07-16T12:42:58.003Z"
   },
   {
    "duration": 6,
    "start_time": "2021-07-16T12:43:21.077Z"
   },
   {
    "duration": 386,
    "start_time": "2021-07-16T12:43:32.608Z"
   },
   {
    "duration": 523,
    "start_time": "2021-07-16T12:43:33.846Z"
   },
   {
    "duration": 722,
    "start_time": "2021-07-16T12:43:44.599Z"
   },
   {
    "duration": 653,
    "start_time": "2021-07-16T12:44:07.660Z"
   },
   {
    "duration": 694,
    "start_time": "2021-07-16T12:44:18.174Z"
   },
   {
    "duration": 557,
    "start_time": "2021-07-16T12:44:28.865Z"
   },
   {
    "duration": 818,
    "start_time": "2021-07-16T12:44:36.281Z"
   },
   {
    "duration": 19,
    "start_time": "2021-07-16T12:47:07.640Z"
   },
   {
    "duration": 14,
    "start_time": "2021-07-16T12:47:20.402Z"
   },
   {
    "duration": 367,
    "start_time": "2021-07-16T12:48:53.716Z"
   },
   {
    "duration": 767,
    "start_time": "2021-07-16T12:48:55.528Z"
   },
   {
    "duration": 18,
    "start_time": "2021-07-16T12:48:57.985Z"
   },
   {
    "duration": 5,
    "start_time": "2021-07-16T12:49:09.371Z"
   },
   {
    "duration": 5,
    "start_time": "2021-07-16T12:49:14.116Z"
   },
   {
    "duration": 16,
    "start_time": "2021-07-16T12:49:19.844Z"
   },
   {
    "duration": 7,
    "start_time": "2021-07-16T12:49:26.100Z"
   },
   {
    "duration": 135,
    "start_time": "2021-07-16T12:49:27.462Z"
   },
   {
    "duration": 109,
    "start_time": "2021-07-16T12:49:54.665Z"
   },
   {
    "duration": 8,
    "start_time": "2021-07-16T12:49:56.642Z"
   },
   {
    "duration": 4621,
    "start_time": "2021-07-16T12:49:58.317Z"
   },
   {
    "duration": 4528,
    "start_time": "2021-07-16T12:50:02.941Z"
   },
   {
    "duration": 4645,
    "start_time": "2021-07-16T12:50:07.472Z"
   },
   {
    "duration": 8,
    "start_time": "2021-07-16T12:50:36.328Z"
   },
   {
    "duration": 5531,
    "start_time": "2021-07-16T12:50:37.191Z"
   },
   {
    "duration": 343,
    "start_time": "2021-07-16T12:58:04.059Z"
   },
   {
    "duration": 16,
    "start_time": "2021-07-16T12:58:09.255Z"
   },
   {
    "duration": 12,
    "start_time": "2021-07-16T12:58:31.461Z"
   },
   {
    "duration": 12,
    "start_time": "2021-07-16T13:00:16.553Z"
   },
   {
    "duration": 136,
    "start_time": "2021-07-16T13:00:25.727Z"
   },
   {
    "duration": 12,
    "start_time": "2021-07-16T13:00:33.062Z"
   },
   {
    "duration": 25,
    "start_time": "2021-07-16T13:01:04.149Z"
   },
   {
    "duration": 24,
    "start_time": "2021-07-16T13:01:37.910Z"
   },
   {
    "duration": 33,
    "start_time": "2021-07-16T13:01:57.565Z"
   },
   {
    "duration": 111,
    "start_time": "2021-07-16T13:02:51.750Z"
   },
   {
    "duration": 6,
    "start_time": "2021-07-16T13:04:05.891Z"
   },
   {
    "duration": 109,
    "start_time": "2021-07-16T13:04:06.795Z"
   },
   {
    "duration": 393,
    "start_time": "2021-07-16T13:04:10.341Z"
   },
   {
    "duration": 15,
    "start_time": "2021-07-16T13:06:17.978Z"
   },
   {
    "duration": 5488,
    "start_time": "2021-07-16T13:06:19.636Z"
   },
   {
    "duration": 5491,
    "start_time": "2021-07-16T13:06:33.649Z"
   },
   {
    "duration": 6422,
    "start_time": "2021-07-16T13:06:41.870Z"
   },
   {
    "duration": 8,
    "start_time": "2021-07-16T13:13:28.430Z"
   },
   {
    "duration": 5748,
    "start_time": "2021-07-16T13:13:29.498Z"
   },
   {
    "duration": 5798,
    "start_time": "2021-07-16T13:13:46.428Z"
   },
   {
    "duration": 5813,
    "start_time": "2021-07-16T13:13:52.229Z"
   },
   {
    "duration": 8,
    "start_time": "2021-07-16T13:14:47.912Z"
   },
   {
    "duration": 5970,
    "start_time": "2021-07-16T13:14:48.955Z"
   },
   {
    "duration": 5836,
    "start_time": "2021-07-16T13:15:08.374Z"
   },
   {
    "duration": 5786,
    "start_time": "2021-07-16T13:15:14.213Z"
   },
   {
    "duration": 8,
    "start_time": "2021-07-16T13:16:13.239Z"
   },
   {
    "duration": 5726,
    "start_time": "2021-07-16T13:16:14.493Z"
   },
   {
    "duration": 8,
    "start_time": "2021-07-16T13:16:34.362Z"
   },
   {
    "duration": 5979,
    "start_time": "2021-07-16T13:16:35.533Z"
   },
   {
    "duration": 5,
    "start_time": "2021-07-16T13:17:55.072Z"
   },
   {
    "duration": 5,
    "start_time": "2021-07-16T13:18:05.452Z"
   },
   {
    "duration": 5,
    "start_time": "2021-07-16T13:18:24.693Z"
   },
   {
    "duration": 5,
    "start_time": "2021-07-16T13:18:42.808Z"
   },
   {
    "duration": 5,
    "start_time": "2021-07-16T13:18:43.733Z"
   },
   {
    "duration": 3,
    "start_time": "2021-07-16T13:18:53.230Z"
   },
   {
    "duration": 5,
    "start_time": "2021-07-16T13:18:56.754Z"
   },
   {
    "duration": 5,
    "start_time": "2021-07-16T13:19:05.735Z"
   },
   {
    "duration": 5,
    "start_time": "2021-07-16T13:19:45.225Z"
   },
   {
    "duration": 5,
    "start_time": "2021-07-16T13:19:50.865Z"
   },
   {
    "duration": 5,
    "start_time": "2021-07-16T13:20:08.346Z"
   },
   {
    "duration": 6,
    "start_time": "2021-07-16T13:20:25.271Z"
   },
   {
    "duration": 5,
    "start_time": "2021-07-16T13:20:45.867Z"
   },
   {
    "duration": 6,
    "start_time": "2021-07-16T13:21:06.532Z"
   },
   {
    "duration": 7,
    "start_time": "2021-07-16T13:21:20.194Z"
   },
   {
    "duration": 104,
    "start_time": "2021-07-16T13:21:21.001Z"
   },
   {
    "duration": 8,
    "start_time": "2021-07-16T13:21:42.745Z"
   },
   {
    "duration": 5169,
    "start_time": "2021-07-16T13:21:44.968Z"
   },
   {
    "duration": 8,
    "start_time": "2021-07-16T13:22:12.242Z"
   },
   {
    "duration": 5157,
    "start_time": "2021-07-16T13:22:13.830Z"
   },
   {
    "duration": 9,
    "start_time": "2021-07-16T13:22:42.149Z"
   },
   {
    "duration": 5058,
    "start_time": "2021-07-16T13:22:43.436Z"
   },
   {
    "duration": 9,
    "start_time": "2021-07-16T13:23:04.141Z"
   },
   {
    "duration": 6428,
    "start_time": "2021-07-16T13:23:04.932Z"
   },
   {
    "duration": 8,
    "start_time": "2021-07-16T13:23:45.786Z"
   },
   {
    "duration": 5053,
    "start_time": "2021-07-16T13:23:46.456Z"
   },
   {
    "duration": 8,
    "start_time": "2021-07-16T13:24:11.377Z"
   },
   {
    "duration": 5675,
    "start_time": "2021-07-16T13:24:12.529Z"
   },
   {
    "duration": 120,
    "start_time": "2021-07-16T13:24:22.644Z"
   },
   {
    "duration": 8,
    "start_time": "2021-07-16T13:24:26.389Z"
   },
   {
    "duration": 5052,
    "start_time": "2021-07-16T13:24:27.850Z"
   },
   {
    "duration": 5029,
    "start_time": "2021-07-16T13:24:43.425Z"
   },
   {
    "duration": 5035,
    "start_time": "2021-07-16T13:24:49.686Z"
   },
   {
    "duration": 1536,
    "start_time": "2021-07-16T13:25:34.360Z"
   },
   {
    "duration": 448,
    "start_time": "2021-07-16T13:25:35.899Z"
   },
   {
    "duration": 16,
    "start_time": "2021-07-16T13:25:36.350Z"
   },
   {
    "duration": 14,
    "start_time": "2021-07-16T13:25:37.005Z"
   },
   {
    "duration": 15,
    "start_time": "2021-07-16T13:25:37.403Z"
   },
   {
    "duration": 58,
    "start_time": "2021-07-16T13:25:37.672Z"
   },
   {
    "duration": 49,
    "start_time": "2021-07-16T13:25:37.955Z"
   },
   {
    "duration": 47,
    "start_time": "2021-07-16T13:25:38.195Z"
   },
   {
    "duration": 207,
    "start_time": "2021-07-16T13:25:38.453Z"
   },
   {
    "duration": 28,
    "start_time": "2021-07-16T13:25:38.697Z"
   },
   {
    "duration": 4,
    "start_time": "2021-07-16T13:25:39.202Z"
   },
   {
    "duration": 3,
    "start_time": "2021-07-16T13:25:39.446Z"
   },
   {
    "duration": 18,
    "start_time": "2021-07-16T13:25:39.700Z"
   },
   {
    "duration": 18,
    "start_time": "2021-07-16T13:25:39.930Z"
   },
   {
    "duration": 19,
    "start_time": "2021-07-16T13:25:40.157Z"
   },
   {
    "duration": 8,
    "start_time": "2021-07-16T13:25:40.411Z"
   },
   {
    "duration": 3,
    "start_time": "2021-07-16T13:25:42.733Z"
   },
   {
    "duration": 3,
    "start_time": "2021-07-16T13:25:42.956Z"
   },
   {
    "duration": 7,
    "start_time": "2021-07-16T13:25:43.189Z"
   },
   {
    "duration": 379,
    "start_time": "2021-07-16T13:25:43.418Z"
   },
   {
    "duration": 863,
    "start_time": "2021-07-16T13:25:43.800Z"
   },
   {
    "duration": 24,
    "start_time": "2021-07-16T13:25:44.665Z"
   },
   {
    "duration": 4,
    "start_time": "2021-07-16T13:25:48.114Z"
   },
   {
    "duration": 5,
    "start_time": "2021-07-16T13:25:49.622Z"
   },
   {
    "duration": 24,
    "start_time": "2021-07-16T13:25:50.101Z"
   },
   {
    "duration": 6,
    "start_time": "2021-07-16T13:25:51.421Z"
   },
   {
    "duration": 106,
    "start_time": "2021-07-16T13:25:51.656Z"
   },
   {
    "duration": 9,
    "start_time": "2021-07-16T13:25:57.088Z"
   },
   {
    "duration": 4962,
    "start_time": "2021-07-16T13:25:58.893Z"
   },
   {
    "duration": 4938,
    "start_time": "2021-07-16T13:26:03.857Z"
   },
   {
    "duration": 4954,
    "start_time": "2021-07-16T13:26:08.799Z"
   },
   {
    "duration": 10,
    "start_time": "2021-07-16T13:36:21.290Z"
   },
   {
    "duration": 5538,
    "start_time": "2021-07-16T13:36:22.426Z"
   },
   {
    "duration": 8,
    "start_time": "2021-07-16T13:36:46.282Z"
   },
   {
    "duration": 5395,
    "start_time": "2021-07-16T13:36:47.755Z"
   },
   {
    "duration": 8,
    "start_time": "2021-07-16T13:37:17.459Z"
   },
   {
    "duration": 5327,
    "start_time": "2021-07-16T13:37:19.460Z"
   },
   {
    "duration": 6,
    "start_time": "2021-07-16T13:38:18.529Z"
   },
   {
    "duration": 832,
    "start_time": "2021-07-16T13:38:19.092Z"
   },
   {
    "duration": -6693,
    "start_time": "2021-07-16T13:38:26.619Z"
   },
   {
    "duration": -6697,
    "start_time": "2021-07-16T13:38:26.624Z"
   },
   {
    "duration": 4,
    "start_time": "2021-07-16T13:38:20.798Z"
   },
   {
    "duration": 6,
    "start_time": "2021-07-16T13:38:21.198Z"
   },
   {
    "duration": 27,
    "start_time": "2021-07-16T13:38:21.598Z"
   },
   {
    "duration": 11,
    "start_time": "2021-07-16T13:38:23.616Z"
   },
   {
    "duration": 119,
    "start_time": "2021-07-16T13:38:23.631Z"
   },
   {
    "duration": 8,
    "start_time": "2021-07-16T13:38:26.990Z"
   },
   {
    "duration": 5345,
    "start_time": "2021-07-16T13:38:28.280Z"
   },
   {
    "duration": 6,
    "start_time": "2021-07-16T13:38:43.546Z"
   },
   {
    "duration": 701,
    "start_time": "2021-07-16T13:38:43.790Z"
   },
   {
    "duration": -6601,
    "start_time": "2021-07-16T13:38:51.096Z"
   },
   {
    "duration": -6601,
    "start_time": "2021-07-16T13:38:51.098Z"
   },
   {
    "duration": 4,
    "start_time": "2021-07-16T13:38:45.112Z"
   },
   {
    "duration": 5,
    "start_time": "2021-07-16T13:38:45.465Z"
   },
   {
    "duration": 33,
    "start_time": "2021-07-16T13:38:45.802Z"
   },
   {
    "duration": 6,
    "start_time": "2021-07-16T13:38:46.513Z"
   },
   {
    "duration": 125,
    "start_time": "2021-07-16T13:38:46.684Z"
   },
   {
    "duration": 8,
    "start_time": "2021-07-16T13:38:48.653Z"
   },
   {
    "duration": 5674,
    "start_time": "2021-07-16T13:38:48.841Z"
   },
   {
    "duration": 5702,
    "start_time": "2021-07-16T13:38:54.518Z"
   },
   {
    "duration": 6,
    "start_time": "2021-07-16T13:39:37.398Z"
   },
   {
    "duration": 709,
    "start_time": "2021-07-16T13:39:38.166Z"
   },
   {
    "duration": 9,
    "start_time": "2021-07-16T13:39:53.003Z"
   },
   {
    "duration": 706,
    "start_time": "2021-07-16T13:39:53.572Z"
   },
   {
    "duration": 12,
    "start_time": "2021-07-16T13:40:09.777Z"
   },
   {
    "duration": 759,
    "start_time": "2021-07-16T13:40:10.252Z"
   },
   {
    "duration": 6,
    "start_time": "2021-07-16T13:40:37.825Z"
   },
   {
    "duration": 704,
    "start_time": "2021-07-16T13:40:38.205Z"
   },
   {
    "duration": 7,
    "start_time": "2021-07-16T13:40:54.234Z"
   },
   {
    "duration": 325,
    "start_time": "2021-07-16T13:40:54.561Z"
   },
   {
    "duration": 788,
    "start_time": "2021-07-16T13:40:58.315Z"
   },
   {
    "duration": 16,
    "start_time": "2021-07-16T13:41:09.100Z"
   },
   {
    "duration": 4,
    "start_time": "2021-07-16T13:41:17.107Z"
   },
   {
    "duration": 5,
    "start_time": "2021-07-16T13:41:17.494Z"
   },
   {
    "duration": 30,
    "start_time": "2021-07-16T13:41:17.876Z"
   },
   {
    "duration": 6,
    "start_time": "2021-07-16T13:41:22.260Z"
   },
   {
    "duration": 115,
    "start_time": "2021-07-16T13:41:22.455Z"
   },
   {
    "duration": 8,
    "start_time": "2021-07-16T13:41:26.718Z"
   },
   {
    "duration": 5420,
    "start_time": "2021-07-16T13:41:28.515Z"
   },
   {
    "duration": 372,
    "start_time": "2021-07-16T13:45:32.746Z"
   },
   {
    "duration": 6,
    "start_time": "2021-07-16T13:45:41.526Z"
   },
   {
    "duration": 18,
    "start_time": "2021-07-16T13:45:42.602Z"
   },
   {
    "duration": 134,
    "start_time": "2021-07-16T13:45:56.238Z"
   },
   {
    "duration": 128,
    "start_time": "2021-07-16T13:46:09.484Z"
   },
   {
    "duration": 126,
    "start_time": "2021-07-16T13:46:31.618Z"
   },
   {
    "duration": 317,
    "start_time": "2021-07-16T13:46:45.896Z"
   },
   {
    "duration": 2798,
    "start_time": "2021-07-16T13:46:58.913Z"
   },
   {
    "duration": 2691,
    "start_time": "2021-07-16T13:47:15.506Z"
   },
   {
    "duration": 2708,
    "start_time": "2021-07-16T13:47:30.565Z"
   },
   {
    "duration": 3051,
    "start_time": "2021-07-16T13:47:46.872Z"
   },
   {
    "duration": 389,
    "start_time": "2021-07-16T13:49:04.746Z"
   },
   {
    "duration": 3701,
    "start_time": "2021-07-16T13:49:15.897Z"
   },
   {
    "duration": 7,
    "start_time": "2021-07-16T13:50:26.690Z"
   },
   {
    "duration": 413,
    "start_time": "2021-07-16T13:50:28.472Z"
   },
   {
    "duration": 17,
    "start_time": "2021-07-16T13:50:32.475Z"
   },
   {
    "duration": 9,
    "start_time": "2021-07-16T13:51:31.623Z"
   },
   {
    "duration": 308,
    "start_time": "2021-07-16T13:51:32.491Z"
   },
   {
    "duration": 12,
    "start_time": "2021-07-16T13:51:35.168Z"
   },
   {
    "duration": 5,
    "start_time": "2021-07-16T13:52:01.307Z"
   },
   {
    "duration": 5,
    "start_time": "2021-07-16T13:52:01.898Z"
   },
   {
    "duration": 24,
    "start_time": "2021-07-16T13:52:03.713Z"
   },
   {
    "duration": 6,
    "start_time": "2021-07-16T13:52:12.142Z"
   },
   {
    "duration": 112,
    "start_time": "2021-07-16T13:52:12.369Z"
   },
   {
    "duration": 9,
    "start_time": "2021-07-16T13:55:31.197Z"
   },
   {
    "duration": 5671,
    "start_time": "2021-07-16T13:55:32.311Z"
   },
   {
    "duration": 12,
    "start_time": "2021-07-16T13:56:02.772Z"
   },
   {
    "duration": 5547,
    "start_time": "2021-07-16T13:56:03.718Z"
   },
   {
    "duration": 8,
    "start_time": "2021-07-16T13:56:30.768Z"
   },
   {
    "duration": 5419,
    "start_time": "2021-07-16T13:56:31.687Z"
   },
   {
    "duration": 8,
    "start_time": "2021-07-16T13:57:00.960Z"
   },
   {
    "duration": 5573,
    "start_time": "2021-07-16T13:57:02.906Z"
   },
   {
    "duration": 8,
    "start_time": "2021-07-16T13:57:13.426Z"
   },
   {
    "duration": 5775,
    "start_time": "2021-07-16T13:57:14.355Z"
   },
   {
    "duration": 8,
    "start_time": "2021-07-16T13:57:36.266Z"
   },
   {
    "duration": 5397,
    "start_time": "2021-07-16T13:57:37.716Z"
   },
   {
    "duration": 8,
    "start_time": "2021-07-16T13:58:33.830Z"
   },
   {
    "duration": 4944,
    "start_time": "2021-07-16T13:58:35.468Z"
   },
   {
    "duration": 1527,
    "start_time": "2021-07-17T00:13:15.484Z"
   },
   {
    "duration": 435,
    "start_time": "2021-07-17T00:13:17.851Z"
   },
   {
    "duration": 21,
    "start_time": "2021-07-17T00:13:18.292Z"
   },
   {
    "duration": 13,
    "start_time": "2021-07-17T00:13:18.722Z"
   },
   {
    "duration": 15,
    "start_time": "2021-07-17T00:13:19.261Z"
   },
   {
    "duration": 53,
    "start_time": "2021-07-17T00:13:19.723Z"
   },
   {
    "duration": 47,
    "start_time": "2021-07-17T00:13:20.193Z"
   },
   {
    "duration": 45,
    "start_time": "2021-07-17T00:13:20.705Z"
   },
   {
    "duration": 197,
    "start_time": "2021-07-17T00:13:21.055Z"
   },
   {
    "duration": 23,
    "start_time": "2021-07-17T00:13:21.630Z"
   },
   {
    "duration": 4,
    "start_time": "2021-07-17T00:13:22.330Z"
   },
   {
    "duration": 4,
    "start_time": "2021-07-17T00:13:22.661Z"
   },
   {
    "duration": 7,
    "start_time": "2021-07-17T00:13:27.628Z"
   },
   {
    "duration": 402,
    "start_time": "2021-07-17T00:13:28.158Z"
   },
   {
    "duration": 395,
    "start_time": "2021-07-17T00:13:49.108Z"
   },
   {
    "duration": 392,
    "start_time": "2021-07-17T00:14:01.730Z"
   },
   {
    "duration": 366,
    "start_time": "2021-07-17T00:14:29.420Z"
   },
   {
    "duration": 378,
    "start_time": "2021-07-17T00:14:33.239Z"
   },
   {
    "duration": 6767,
    "start_time": "2021-07-17T00:21:41.753Z"
   },
   {
    "duration": 1856,
    "start_time": "2021-07-17T00:23:53.519Z"
   },
   {
    "duration": 1732,
    "start_time": "2021-07-17T00:24:22.519Z"
   },
   {
    "duration": 1823,
    "start_time": "2021-07-17T00:24:30.064Z"
   },
   {
    "duration": 1904,
    "start_time": "2021-07-17T00:25:09.758Z"
   },
   {
    "duration": 112,
    "start_time": "2021-07-17T00:26:15.047Z"
   },
   {
    "duration": 93,
    "start_time": "2021-07-17T00:26:29.537Z"
   },
   {
    "duration": 101,
    "start_time": "2021-07-17T00:26:37.041Z"
   },
   {
    "duration": 95,
    "start_time": "2021-07-17T00:26:40.803Z"
   },
   {
    "duration": 87,
    "start_time": "2021-07-17T00:28:20.694Z"
   },
   {
    "duration": 103,
    "start_time": "2021-07-17T00:28:41.925Z"
   },
   {
    "duration": 84,
    "start_time": "2021-07-17T00:28:48.864Z"
   },
   {
    "duration": 90,
    "start_time": "2021-07-17T00:29:22.628Z"
   },
   {
    "duration": 108,
    "start_time": "2021-07-17T00:29:36.613Z"
   },
   {
    "duration": 304,
    "start_time": "2021-07-17T00:34:30.822Z"
   },
   {
    "duration": 92,
    "start_time": "2021-07-17T00:34:56.769Z"
   },
   {
    "duration": 305,
    "start_time": "2021-07-17T00:35:05.624Z"
   },
   {
    "duration": 297,
    "start_time": "2021-07-17T00:35:46.321Z"
   },
   {
    "duration": 209,
    "start_time": "2021-07-17T00:42:43.745Z"
   },
   {
    "duration": 286,
    "start_time": "2021-07-17T00:43:06.617Z"
   },
   {
    "duration": 295,
    "start_time": "2021-07-17T00:43:37.869Z"
   },
   {
    "duration": 288,
    "start_time": "2021-07-17T00:43:46.236Z"
   },
   {
    "duration": 281,
    "start_time": "2021-07-17T00:44:10.642Z"
   },
   {
    "duration": 273,
    "start_time": "2021-07-17T00:49:09.679Z"
   },
   {
    "duration": 6227,
    "start_time": "2021-07-17T00:50:15.468Z"
   },
   {
    "duration": 7,
    "start_time": "2021-07-17T00:52:21.425Z"
   },
   {
    "duration": 1189,
    "start_time": "2021-07-17T00:52:25.027Z"
   },
   {
    "duration": 7,
    "start_time": "2021-07-17T00:53:19.217Z"
   },
   {
    "duration": 460,
    "start_time": "2021-07-17T00:53:20.577Z"
   },
   {
    "duration": 14,
    "start_time": "2021-07-17T00:53:21.039Z"
   },
   {
    "duration": 13,
    "start_time": "2021-07-17T00:53:21.068Z"
   },
   {
    "duration": 14,
    "start_time": "2021-07-17T00:53:21.278Z"
   },
   {
    "duration": 49,
    "start_time": "2021-07-17T00:53:21.474Z"
   },
   {
    "duration": 46,
    "start_time": "2021-07-17T00:53:21.678Z"
   },
   {
    "duration": 47,
    "start_time": "2021-07-17T00:53:22.820Z"
   },
   {
    "duration": 204,
    "start_time": "2021-07-17T00:53:23.317Z"
   },
   {
    "duration": 18,
    "start_time": "2021-07-17T00:53:24.144Z"
   },
   {
    "duration": 9,
    "start_time": "2021-07-17T00:53:31.757Z"
   },
   {
    "duration": 712,
    "start_time": "2021-07-17T00:53:32.639Z"
   },
   {
    "duration": 414,
    "start_time": "2021-07-17T00:54:24.509Z"
   },
   {
    "duration": 14,
    "start_time": "2021-07-17T00:54:31.964Z"
   },
   {
    "duration": 9,
    "start_time": "2021-07-17T00:55:22.933Z"
   },
   {
    "duration": 477,
    "start_time": "2021-07-17T00:55:23.949Z"
   },
   {
    "duration": 13,
    "start_time": "2021-07-17T00:55:27.589Z"
   },
   {
    "duration": 6,
    "start_time": "2021-07-17T00:55:47.882Z"
   },
   {
    "duration": 567,
    "start_time": "2021-07-17T00:55:48.884Z"
   },
   {
    "duration": 4,
    "start_time": "2021-07-17T00:55:58.452Z"
   },
   {
    "duration": 6,
    "start_time": "2021-07-17T00:56:00.676Z"
   },
   {
    "duration": 108,
    "start_time": "2021-07-17T00:56:01.956Z"
   },
   {
    "duration": 9,
    "start_time": "2021-07-17T00:56:06.729Z"
   },
   {
    "duration": 4807,
    "start_time": "2021-07-17T00:56:08.582Z"
   },
   {
    "duration": 8,
    "start_time": "2021-07-17T01:06:21.447Z"
   },
   {
    "duration": 4835,
    "start_time": "2021-07-17T01:06:23.158Z"
   },
   {
    "duration": 5012,
    "start_time": "2021-07-17T01:06:43.606Z"
   },
   {
    "duration": 8,
    "start_time": "2021-07-17T02:18:31.873Z"
   },
   {
    "duration": 4929,
    "start_time": "2021-07-17T02:18:33.338Z"
   },
   {
    "duration": 9,
    "start_time": "2021-07-17T02:18:50.005Z"
   },
   {
    "duration": 4843,
    "start_time": "2021-07-17T02:18:51.262Z"
   },
   {
    "duration": 8,
    "start_time": "2021-07-17T02:28:23.600Z"
   },
   {
    "duration": 4807,
    "start_time": "2021-07-17T02:28:25.272Z"
   },
   {
    "duration": 8,
    "start_time": "2021-07-17T02:30:26.008Z"
   },
   {
    "duration": 4838,
    "start_time": "2021-07-17T02:30:27.051Z"
   },
   {
    "duration": 8,
    "start_time": "2021-07-17T02:33:28.603Z"
   },
   {
    "duration": 4203,
    "start_time": "2021-07-17T02:33:30.326Z"
   },
   {
    "duration": 8,
    "start_time": "2021-07-17T02:34:33.023Z"
   },
   {
    "duration": 4184,
    "start_time": "2021-07-17T02:34:34.389Z"
   },
   {
    "duration": 7,
    "start_time": "2021-07-17T02:40:25.928Z"
   },
   {
    "duration": 430,
    "start_time": "2021-07-17T02:40:26.492Z"
   },
   {
    "duration": 4,
    "start_time": "2021-07-17T02:43:33.848Z"
   },
   {
    "duration": 6,
    "start_time": "2021-07-17T02:43:34.645Z"
   },
   {
    "duration": 557,
    "start_time": "2021-07-17T02:43:35.667Z"
   },
   {
    "duration": 4,
    "start_time": "2021-07-17T02:44:38.211Z"
   },
   {
    "duration": 7,
    "start_time": "2021-07-17T02:44:38.930Z"
   },
   {
    "duration": 4205,
    "start_time": "2021-07-17T02:44:39.765Z"
   },
   {
    "duration": 5,
    "start_time": "2021-07-17T02:45:03.302Z"
   },
   {
    "duration": 7,
    "start_time": "2021-07-17T02:45:04.015Z"
   },
   {
    "duration": 4173,
    "start_time": "2021-07-17T02:45:04.881Z"
   },
   {
    "duration": 5,
    "start_time": "2021-07-17T02:45:42.290Z"
   },
   {
    "duration": 7,
    "start_time": "2021-07-17T02:45:42.748Z"
   },
   {
    "duration": 4257,
    "start_time": "2021-07-17T02:45:43.317Z"
   },
   {
    "duration": 8,
    "start_time": "2021-07-17T02:45:56.398Z"
   },
   {
    "duration": 4369,
    "start_time": "2021-07-17T02:45:57.188Z"
   },
   {
    "duration": 4,
    "start_time": "2021-07-17T02:47:30.707Z"
   },
   {
    "duration": 7,
    "start_time": "2021-07-17T02:47:31.413Z"
   },
   {
    "duration": 4203,
    "start_time": "2021-07-17T02:47:33.298Z"
   },
   {
    "duration": 4,
    "start_time": "2021-07-17T02:48:18.002Z"
   },
   {
    "duration": 7,
    "start_time": "2021-07-17T02:48:19.183Z"
   },
   {
    "duration": 4239,
    "start_time": "2021-07-17T02:48:21.140Z"
   },
   {
    "duration": 4,
    "start_time": "2021-07-17T02:48:42.556Z"
   },
   {
    "duration": 7,
    "start_time": "2021-07-17T02:48:43.403Z"
   },
   {
    "duration": 4201,
    "start_time": "2021-07-17T02:48:44.601Z"
   },
   {
    "duration": 5,
    "start_time": "2021-07-17T02:52:25.381Z"
   },
   {
    "duration": 7,
    "start_time": "2021-07-17T02:52:26.781Z"
   },
   {
    "duration": 4248,
    "start_time": "2021-07-17T02:52:27.638Z"
   },
   {
    "duration": 8,
    "start_time": "2021-07-17T02:55:53.642Z"
   },
   {
    "duration": 4206,
    "start_time": "2021-07-17T02:55:54.459Z"
   },
   {
    "duration": 11,
    "start_time": "2021-07-17T03:00:31.502Z"
   },
   {
    "duration": 10,
    "start_time": "2021-07-17T03:03:01.455Z"
   },
   {
    "duration": 10,
    "start_time": "2021-07-17T03:03:23.749Z"
   },
   {
    "duration": 6,
    "start_time": "2021-07-17T03:03:48.645Z"
   },
   {
    "duration": 9,
    "start_time": "2021-07-17T03:03:49.080Z"
   },
   {
    "duration": 26,
    "start_time": "2021-07-17T03:03:52.185Z"
   },
   {
    "duration": 4380,
    "start_time": "2021-07-17T03:06:12.875Z"
   },
   {
    "duration": 4137,
    "start_time": "2021-07-17T03:06:18.877Z"
   },
   {
    "duration": 4126,
    "start_time": "2021-07-17T03:06:24.796Z"
   },
   {
    "duration": 8,
    "start_time": "2021-07-17T03:08:08.234Z"
   },
   {
    "duration": 4293,
    "start_time": "2021-07-17T03:08:09.107Z"
   },
   {
    "duration": 8,
    "start_time": "2021-07-17T03:08:29.510Z"
   },
   {
    "duration": 4465,
    "start_time": "2021-07-17T03:08:30.456Z"
   },
   {
    "duration": 8,
    "start_time": "2021-07-17T03:08:40.202Z"
   },
   {
    "duration": 4259,
    "start_time": "2021-07-17T03:08:40.787Z"
   },
   {
    "duration": 9,
    "start_time": "2021-07-17T03:11:48.880Z"
   },
   {
    "duration": 4196,
    "start_time": "2021-07-17T03:11:50.464Z"
   },
   {
    "duration": 4249,
    "start_time": "2021-07-17T03:11:54.663Z"
   },
   {
    "duration": 4454,
    "start_time": "2021-07-17T03:11:58.915Z"
   },
   {
    "duration": 9,
    "start_time": "2021-07-17T03:40:56.323Z"
   },
   {
    "duration": 4261,
    "start_time": "2021-07-17T03:40:57.913Z"
   },
   {
    "duration": 8,
    "start_time": "2021-07-17T03:41:06.204Z"
   },
   {
    "duration": 4189,
    "start_time": "2021-07-17T03:41:07.924Z"
   },
   {
    "duration": 8,
    "start_time": "2021-07-17T03:41:48.531Z"
   },
   {
    "duration": 4264,
    "start_time": "2021-07-17T03:41:49.478Z"
   },
   {
    "duration": 8,
    "start_time": "2021-07-17T03:42:13.224Z"
   },
   {
    "duration": 4484,
    "start_time": "2021-07-17T03:42:14.965Z"
   },
   {
    "duration": 9,
    "start_time": "2021-07-17T03:42:44.448Z"
   },
   {
    "duration": 4345,
    "start_time": "2021-07-17T03:42:45.340Z"
   },
   {
    "duration": 8,
    "start_time": "2021-07-17T03:44:39.565Z"
   },
   {
    "duration": 4295,
    "start_time": "2021-07-17T03:44:40.974Z"
   },
   {
    "duration": 9,
    "start_time": "2021-07-17T03:45:01.100Z"
   },
   {
    "duration": 4214,
    "start_time": "2021-07-17T03:45:01.880Z"
   },
   {
    "duration": 9,
    "start_time": "2021-07-17T03:46:53.443Z"
   },
   {
    "duration": 4302,
    "start_time": "2021-07-17T03:46:54.233Z"
   },
   {
    "duration": 10,
    "start_time": "2021-07-17T03:47:42.442Z"
   },
   {
    "duration": 4134,
    "start_time": "2021-07-17T03:47:45.172Z"
   },
   {
    "duration": 10,
    "start_time": "2021-07-17T03:48:31.360Z"
   },
   {
    "duration": 4146,
    "start_time": "2021-07-17T03:48:32.597Z"
   },
   {
    "duration": 10,
    "start_time": "2021-07-17T03:48:50.931Z"
   },
   {
    "duration": 4169,
    "start_time": "2021-07-17T03:48:51.907Z"
   },
   {
    "duration": 9,
    "start_time": "2021-07-17T03:49:00.595Z"
   },
   {
    "duration": 4272,
    "start_time": "2021-07-17T03:49:02.334Z"
   },
   {
    "duration": 10,
    "start_time": "2021-07-17T03:50:54.256Z"
   },
   {
    "duration": 4874,
    "start_time": "2021-07-17T03:50:55.862Z"
   },
   {
    "duration": 9,
    "start_time": "2021-07-17T03:51:17.118Z"
   },
   {
    "duration": 4823,
    "start_time": "2021-07-17T03:51:18.486Z"
   },
   {
    "duration": 9,
    "start_time": "2021-07-17T03:52:05.619Z"
   },
   {
    "duration": 540,
    "start_time": "2021-07-17T03:52:06.623Z"
   },
   {
    "duration": 10,
    "start_time": "2021-07-17T03:57:26.796Z"
   },
   {
    "duration": 4491,
    "start_time": "2021-07-17T03:57:27.549Z"
   },
   {
    "duration": 9,
    "start_time": "2021-07-17T03:57:40.535Z"
   },
   {
    "duration": 4248,
    "start_time": "2021-07-17T03:57:41.457Z"
   },
   {
    "duration": 9,
    "start_time": "2021-07-17T03:58:58.553Z"
   },
   {
    "duration": 4324,
    "start_time": "2021-07-17T03:58:59.344Z"
   },
   {
    "duration": 10,
    "start_time": "2021-07-17T03:59:52.904Z"
   },
   {
    "duration": 4401,
    "start_time": "2021-07-17T03:59:53.837Z"
   },
   {
    "duration": 4473,
    "start_time": "2021-07-17T04:00:00.024Z"
   },
   {
    "duration": 4164,
    "start_time": "2021-07-17T04:00:06.348Z"
   },
   {
    "duration": 11,
    "start_time": "2021-07-17T04:01:04.814Z"
   },
   {
    "duration": 4323,
    "start_time": "2021-07-17T04:01:06.644Z"
   },
   {
    "duration": 10,
    "start_time": "2021-07-17T04:01:25.731Z"
   },
   {
    "duration": 4243,
    "start_time": "2021-07-17T04:01:26.550Z"
   },
   {
    "duration": 9,
    "start_time": "2021-07-17T04:01:40.913Z"
   },
   {
    "duration": 4377,
    "start_time": "2021-07-17T04:01:41.642Z"
   },
   {
    "duration": 99,
    "start_time": "2021-07-17T04:05:49.231Z"
   },
   {
    "duration": 437,
    "start_time": "2021-07-17T04:08:26.590Z"
   },
   {
    "duration": 10,
    "start_time": "2021-07-17T04:10:50.896Z"
   },
   {
    "duration": 4280,
    "start_time": "2021-07-17T04:10:51.915Z"
   },
   {
    "duration": 10,
    "start_time": "2021-07-17T04:11:43.646Z"
   },
   {
    "duration": 7,
    "start_time": "2021-07-17T04:11:53.157Z"
   },
   {
    "duration": 441,
    "start_time": "2021-07-17T04:11:55.252Z"
   },
   {
    "duration": 85,
    "start_time": "2021-07-17T04:26:04.096Z"
   },
   {
    "duration": 19,
    "start_time": "2021-07-17T04:26:16.445Z"
   },
   {
    "duration": 23,
    "start_time": "2021-07-17T04:26:33.126Z"
   },
   {
    "duration": 31,
    "start_time": "2021-07-17T04:27:11.759Z"
   },
   {
    "duration": 30,
    "start_time": "2021-07-17T04:27:23.945Z"
   },
   {
    "duration": 90,
    "start_time": "2021-07-17T04:39:11.580Z"
   },
   {
    "duration": 100,
    "start_time": "2021-07-17T04:39:20.109Z"
   },
   {
    "duration": 10,
    "start_time": "2021-07-17T04:42:35.075Z"
   },
   {
    "duration": 5,
    "start_time": "2021-07-17T04:42:40.005Z"
   },
   {
    "duration": 10,
    "start_time": "2021-07-17T04:42:46.477Z"
   },
   {
    "duration": 270,
    "start_time": "2021-07-17T04:42:49.919Z"
   },
   {
    "duration": 10,
    "start_time": "2021-07-17T04:42:53.148Z"
   },
   {
    "duration": 6,
    "start_time": "2021-07-17T04:42:55.284Z"
   },
   {
    "duration": 7,
    "start_time": "2021-07-17T04:43:07.117Z"
   },
   {
    "duration": 6,
    "start_time": "2021-07-17T04:43:10.921Z"
   },
   {
    "duration": 10,
    "start_time": "2021-07-17T04:43:54.776Z"
   },
   {
    "duration": 6,
    "start_time": "2021-07-17T04:43:55.937Z"
   },
   {
    "duration": 10,
    "start_time": "2021-07-17T04:44:00.220Z"
   },
   {
    "duration": 5,
    "start_time": "2021-07-17T04:44:01.260Z"
   },
   {
    "duration": 10,
    "start_time": "2021-07-17T04:44:05.479Z"
   },
   {
    "duration": 6,
    "start_time": "2021-07-17T04:44:07.570Z"
   },
   {
    "duration": 6,
    "start_time": "2021-07-17T04:44:33.205Z"
   },
   {
    "duration": 9,
    "start_time": "2021-07-17T04:45:09.871Z"
   },
   {
    "duration": 6,
    "start_time": "2021-07-17T04:45:11.000Z"
   },
   {
    "duration": 10,
    "start_time": "2021-07-17T04:45:14.621Z"
   },
   {
    "duration": 6,
    "start_time": "2021-07-17T04:45:16.126Z"
   },
   {
    "duration": 10,
    "start_time": "2021-07-17T04:45:19.835Z"
   },
   {
    "duration": 6,
    "start_time": "2021-07-17T04:45:21.852Z"
   },
   {
    "duration": 5,
    "start_time": "2021-07-17T04:52:13.781Z"
   },
   {
    "duration": 9,
    "start_time": "2021-07-17T04:52:21.393Z"
   },
   {
    "duration": 5,
    "start_time": "2021-07-17T04:52:23.714Z"
   },
   {
    "duration": 10,
    "start_time": "2021-07-17T04:52:26.911Z"
   },
   {
    "duration": 6,
    "start_time": "2021-07-17T04:52:29.274Z"
   },
   {
    "duration": 7,
    "start_time": "2021-07-17T04:57:15.926Z"
   },
   {
    "duration": 413,
    "start_time": "2021-07-17T04:57:17.112Z"
   },
   {
    "duration": 13,
    "start_time": "2021-07-17T04:57:22.140Z"
   },
   {
    "duration": 4,
    "start_time": "2021-07-17T04:57:29.779Z"
   },
   {
    "duration": 5,
    "start_time": "2021-07-17T04:57:31.435Z"
   },
   {
    "duration": 10,
    "start_time": "2021-07-17T04:57:32.357Z"
   },
   {
    "duration": 27,
    "start_time": "2021-07-17T04:57:36.016Z"
   },
   {
    "duration": 9,
    "start_time": "2021-07-17T04:57:37.086Z"
   },
   {
    "duration": 5,
    "start_time": "2021-07-17T04:57:37.705Z"
   },
   {
    "duration": 6,
    "start_time": "2021-07-17T04:57:39.187Z"
   },
   {
    "duration": 6,
    "start_time": "2021-07-17T04:57:41.751Z"
   },
   {
    "duration": 107,
    "start_time": "2021-07-17T04:57:42.736Z"
   },
   {
    "duration": 10,
    "start_time": "2021-07-17T04:57:44.812Z"
   },
   {
    "duration": 4428,
    "start_time": "2021-07-17T04:57:44.987Z"
   },
   {
    "duration": 4237,
    "start_time": "2021-07-17T04:57:49.417Z"
   },
   {
    "duration": 4350,
    "start_time": "2021-07-17T04:57:53.657Z"
   },
   {
    "duration": 38,
    "start_time": "2021-07-17T04:59:09.601Z"
   },
   {
    "duration": 36,
    "start_time": "2021-07-17T04:59:22.277Z"
   },
   {
    "duration": 14,
    "start_time": "2021-07-17T05:00:21.577Z"
   },
   {
    "duration": 87,
    "start_time": "2021-07-17T05:00:44.704Z"
   },
   {
    "duration": 47,
    "start_time": "2021-07-17T05:00:54.795Z"
   },
   {
    "duration": 216,
    "start_time": "2021-07-17T05:01:44.616Z"
   },
   {
    "duration": 50,
    "start_time": "2021-07-17T05:01:55.169Z"
   },
   {
    "duration": 20,
    "start_time": "2021-07-17T05:02:08.218Z"
   },
   {
    "duration": 19,
    "start_time": "2021-07-17T05:02:12.883Z"
   },
   {
    "duration": 22,
    "start_time": "2021-07-17T05:02:17.566Z"
   },
   {
    "duration": 20,
    "start_time": "2021-07-17T05:02:24.032Z"
   },
   {
    "duration": 184,
    "start_time": "2021-07-17T05:03:25.701Z"
   },
   {
    "duration": 169,
    "start_time": "2021-07-17T05:05:22.975Z"
   },
   {
    "duration": 171,
    "start_time": "2021-07-17T05:06:13.115Z"
   },
   {
    "duration": 398,
    "start_time": "2021-07-17T05:07:33.799Z"
   },
   {
    "duration": 388,
    "start_time": "2021-07-17T05:08:54.590Z"
   },
   {
    "duration": 387,
    "start_time": "2021-07-17T05:08:55.632Z"
   },
   {
    "duration": 385,
    "start_time": "2021-07-17T05:08:59.595Z"
   },
   {
    "duration": 424,
    "start_time": "2021-07-17T05:09:32.493Z"
   },
   {
    "duration": 399,
    "start_time": "2021-07-17T05:09:34.154Z"
   },
   {
    "duration": 417,
    "start_time": "2021-07-17T05:09:35.862Z"
   },
   {
    "duration": 355,
    "start_time": "2021-07-17T05:09:43.758Z"
   },
   {
    "duration": 355,
    "start_time": "2021-07-17T05:09:51.072Z"
   },
   {
    "duration": 330,
    "start_time": "2021-07-17T05:10:00.074Z"
   },
   {
    "duration": 332,
    "start_time": "2021-07-17T05:10:19.232Z"
   },
   {
    "duration": 329,
    "start_time": "2021-07-17T05:10:24.974Z"
   },
   {
    "duration": 324,
    "start_time": "2021-07-17T05:10:28.403Z"
   },
   {
    "duration": 411,
    "start_time": "2021-07-17T05:10:34.513Z"
   },
   {
    "duration": 329,
    "start_time": "2021-07-17T05:10:37.871Z"
   },
   {
    "duration": -5099,
    "start_time": "2021-07-17T05:23:37.906Z"
   },
   {
    "duration": 6,
    "start_time": "2021-07-17T05:23:42.218Z"
   },
   {
    "duration": 456,
    "start_time": "2021-07-17T05:23:43.188Z"
   },
   {
    "duration": 30,
    "start_time": "2021-07-17T05:23:43.722Z"
   },
   {
    "duration": 14,
    "start_time": "2021-07-17T05:23:44.157Z"
   },
   {
    "duration": 14,
    "start_time": "2021-07-17T05:23:44.623Z"
   },
   {
    "duration": 14,
    "start_time": "2021-07-17T05:23:45.491Z"
   },
   {
    "duration": 51,
    "start_time": "2021-07-17T05:23:46.076Z"
   },
   {
    "duration": 48,
    "start_time": "2021-07-17T05:23:46.602Z"
   },
   {
    "duration": 49,
    "start_time": "2021-07-17T05:23:47.077Z"
   },
   {
    "duration": 171,
    "start_time": "2021-07-17T05:23:47.856Z"
   },
   {
    "duration": 14,
    "start_time": "2021-07-17T05:23:49.471Z"
   },
   {
    "duration": 30,
    "start_time": "2021-07-17T05:24:11.073Z"
   },
   {
    "duration": 283,
    "start_time": "2021-07-17T05:25:51.835Z"
   },
   {
    "duration": 545,
    "start_time": "2021-07-17T05:25:58.399Z"
   },
   {
    "duration": 445,
    "start_time": "2021-07-17T05:26:35.936Z"
   },
   {
    "duration": 85,
    "start_time": "2021-07-17T05:26:43.811Z"
   },
   {
    "duration": 92,
    "start_time": "2021-07-17T05:27:00.796Z"
   },
   {
    "duration": 100,
    "start_time": "2021-07-17T05:27:05.560Z"
   },
   {
    "duration": 91,
    "start_time": "2021-07-17T05:27:17.294Z"
   },
   {
    "duration": 411,
    "start_time": "2021-07-17T05:27:36.892Z"
   },
   {
    "duration": 405,
    "start_time": "2021-07-17T05:27:41.175Z"
   },
   {
    "duration": 276,
    "start_time": "2021-07-17T05:28:08.978Z"
   },
   {
    "duration": 467,
    "start_time": "2021-07-17T05:28:17.201Z"
   },
   {
    "duration": 360,
    "start_time": "2021-07-17T05:28:42.010Z"
   },
   {
    "duration": 320,
    "start_time": "2021-07-17T05:28:46.913Z"
   },
   {
    "duration": 335,
    "start_time": "2021-07-17T05:28:58.819Z"
   },
   {
    "duration": 350,
    "start_time": "2021-07-17T05:29:04.905Z"
   },
   {
    "duration": 334,
    "start_time": "2021-07-17T05:29:10.495Z"
   },
   {
    "duration": 317,
    "start_time": "2021-07-17T05:29:18.065Z"
   },
   {
    "duration": 300,
    "start_time": "2021-07-17T05:39:07.562Z"
   },
   {
    "duration": 301,
    "start_time": "2021-07-17T05:39:26.434Z"
   },
   {
    "duration": 483,
    "start_time": "2021-07-17T05:39:43.390Z"
   },
   {
    "duration": 288,
    "start_time": "2021-07-17T05:39:58.661Z"
   },
   {
    "duration": 1045,
    "start_time": "2021-07-17T05:41:37.992Z"
   },
   {
    "duration": 5,
    "start_time": "2021-07-17T05:44:20.193Z"
   },
   {
    "duration": 12,
    "start_time": "2021-07-17T05:44:22.544Z"
   },
   {
    "duration": 5,
    "start_time": "2021-07-17T05:44:37.143Z"
   },
   {
    "duration": 11,
    "start_time": "2021-07-17T05:44:38.657Z"
   },
   {
    "duration": 5,
    "start_time": "2021-07-17T05:45:23.065Z"
   },
   {
    "duration": 5,
    "start_time": "2021-07-17T05:45:37.171Z"
   },
   {
    "duration": 11,
    "start_time": "2021-07-17T05:45:39.529Z"
   },
   {
    "duration": 12,
    "start_time": "2021-07-17T05:46:02.844Z"
   },
   {
    "duration": 15,
    "start_time": "2021-07-17T05:46:25.671Z"
   },
   {
    "duration": 35,
    "start_time": "2021-07-17T05:47:01.311Z"
   },
   {
    "duration": 23,
    "start_time": "2021-07-17T05:47:07.057Z"
   },
   {
    "duration": 12,
    "start_time": "2021-07-17T05:48:36.707Z"
   },
   {
    "duration": 12,
    "start_time": "2021-07-17T05:48:57.625Z"
   },
   {
    "duration": 266,
    "start_time": "2021-07-17T05:49:10.806Z"
   },
   {
    "duration": 282,
    "start_time": "2021-07-17T05:49:47.879Z"
   },
   {
    "duration": 22,
    "start_time": "2021-07-17T05:50:50.575Z"
   },
   {
    "duration": 14,
    "start_time": "2021-07-17T05:51:18.963Z"
   },
   {
    "duration": 3,
    "start_time": "2021-07-17T05:51:21.004Z"
   },
   {
    "duration": 3,
    "start_time": "2021-07-17T05:51:22.168Z"
   },
   {
    "duration": 7,
    "start_time": "2021-07-17T05:51:22.659Z"
   },
   {
    "duration": 457,
    "start_time": "2021-07-17T05:51:23.663Z"
   },
   {
    "duration": 14,
    "start_time": "2021-07-17T05:51:29.635Z"
   },
   {
    "duration": 5,
    "start_time": "2021-07-17T05:51:35.778Z"
   },
   {
    "duration": 5,
    "start_time": "2021-07-17T05:51:36.418Z"
   },
   {
    "duration": 11,
    "start_time": "2021-07-17T05:51:36.865Z"
   },
   {
    "duration": 6,
    "start_time": "2021-07-17T05:51:44.816Z"
   },
   {
    "duration": 99,
    "start_time": "2021-07-17T05:51:45.135Z"
   },
   {
    "duration": 10,
    "start_time": "2021-07-17T05:51:52.630Z"
   },
   {
    "duration": 4430,
    "start_time": "2021-07-17T05:51:52.928Z"
   },
   {
    "duration": 4340,
    "start_time": "2021-07-17T05:51:57.362Z"
   },
   {
    "duration": 7,
    "start_time": "2021-07-17T05:54:17.433Z"
   },
   {
    "duration": 388,
    "start_time": "2021-07-17T05:54:32.638Z"
   },
   {
    "duration": 6,
    "start_time": "2021-07-17T05:54:40.178Z"
   },
   {
    "duration": 91,
    "start_time": "2021-07-17T05:54:40.544Z"
   },
   {
    "duration": 10,
    "start_time": "2021-07-17T05:54:51.530Z"
   },
   {
    "duration": 4244,
    "start_time": "2021-07-17T05:54:54.626Z"
   },
   {
    "duration": 8,
    "start_time": "2021-07-17T05:55:28.920Z"
   },
   {
    "duration": 300,
    "start_time": "2021-07-17T05:55:37.159Z"
   },
   {
    "duration": 10,
    "start_time": "2021-07-17T05:56:11.919Z"
   },
   {
    "duration": 13,
    "start_time": "2021-07-17T05:56:32.161Z"
   },
   {
    "duration": 10,
    "start_time": "2021-07-17T05:56:42.273Z"
   },
   {
    "duration": 412,
    "start_time": "2021-07-17T05:56:43.815Z"
   },
   {
    "duration": 393,
    "start_time": "2021-07-17T05:56:50.329Z"
   },
   {
    "duration": 14,
    "start_time": "2021-07-17T05:56:53.750Z"
   },
   {
    "duration": 7,
    "start_time": "2021-07-17T05:57:03.769Z"
   },
   {
    "duration": 96,
    "start_time": "2021-07-17T05:57:04.106Z"
   },
   {
    "duration": 10,
    "start_time": "2021-07-17T05:57:22.286Z"
   },
   {
    "duration": 4617,
    "start_time": "2021-07-17T05:57:25.025Z"
   },
   {
    "duration": 8,
    "start_time": "2021-07-17T05:58:02.717Z"
   },
   {
    "duration": 13,
    "start_time": "2021-07-17T05:58:17.859Z"
   },
   {
    "duration": 466,
    "start_time": "2021-07-17T05:58:28.147Z"
   },
   {
    "duration": 13,
    "start_time": "2021-07-17T05:58:39.351Z"
   },
   {
    "duration": 6,
    "start_time": "2021-07-17T05:58:45.872Z"
   },
   {
    "duration": 96,
    "start_time": "2021-07-17T05:58:46.208Z"
   },
   {
    "duration": 10,
    "start_time": "2021-07-17T05:58:56.458Z"
   },
   {
    "duration": 4220,
    "start_time": "2021-07-17T05:59:01.241Z"
   },
   {
    "duration": 12,
    "start_time": "2021-07-17T06:05:47.450Z"
   },
   {
    "duration": 13,
    "start_time": "2021-07-17T06:06:20.252Z"
   },
   {
    "duration": 13,
    "start_time": "2021-07-17T06:06:58.469Z"
   },
   {
    "duration": 10,
    "start_time": "2021-07-17T06:07:05.785Z"
   },
   {
    "duration": 12,
    "start_time": "2021-07-17T06:08:13.331Z"
   },
   {
    "duration": 8,
    "start_time": "2021-07-17T06:08:14.523Z"
   },
   {
    "duration": 9,
    "start_time": "2021-07-17T06:08:15.022Z"
   },
   {
    "duration": 314,
    "start_time": "2021-07-17T06:08:15.858Z"
   },
   {
    "duration": 1440,
    "start_time": "2021-07-17T06:08:34.066Z"
   },
   {
    "duration": 436,
    "start_time": "2021-07-17T06:08:35.508Z"
   },
   {
    "duration": 35,
    "start_time": "2021-07-17T06:08:36.697Z"
   },
   {
    "duration": 14,
    "start_time": "2021-07-17T06:08:37.771Z"
   },
   {
    "duration": 14,
    "start_time": "2021-07-17T06:08:38.086Z"
   },
   {
    "duration": 14,
    "start_time": "2021-07-17T06:08:38.360Z"
   },
   {
    "duration": 49,
    "start_time": "2021-07-17T06:08:38.601Z"
   },
   {
    "duration": 47,
    "start_time": "2021-07-17T06:08:38.825Z"
   },
   {
    "duration": 47,
    "start_time": "2021-07-17T06:08:39.037Z"
   },
   {
    "duration": 178,
    "start_time": "2021-07-17T06:08:39.238Z"
   },
   {
    "duration": 497,
    "start_time": "2021-07-17T06:08:39.433Z"
   },
   {
    "duration": 351,
    "start_time": "2021-07-17T06:08:39.933Z"
   },
   {
    "duration": 335,
    "start_time": "2021-07-17T06:08:40.287Z"
   },
   {
    "duration": 280,
    "start_time": "2021-07-17T06:08:40.932Z"
   },
   {
    "duration": 308,
    "start_time": "2021-07-17T06:08:41.214Z"
   },
   {
    "duration": 295,
    "start_time": "2021-07-17T06:08:41.524Z"
   },
   {
    "duration": 359,
    "start_time": "2021-07-17T06:08:42.061Z"
   },
   {
    "duration": 5,
    "start_time": "2021-07-17T06:08:43.838Z"
   },
   {
    "duration": 12,
    "start_time": "2021-07-17T06:08:44.417Z"
   },
   {
    "duration": 19,
    "start_time": "2021-07-17T06:08:44.897Z"
   },
   {
    "duration": 11,
    "start_time": "2021-07-17T06:08:45.337Z"
   },
   {
    "duration": 11,
    "start_time": "2021-07-17T06:08:45.919Z"
   },
   {
    "duration": 16,
    "start_time": "2021-07-17T06:08:46.952Z"
   },
   {
    "duration": 16,
    "start_time": "2021-07-17T06:09:03.961Z"
   },
   {
    "duration": 11,
    "start_time": "2021-07-17T06:09:07.033Z"
   },
   {
    "duration": 12,
    "start_time": "2021-07-17T06:09:08.192Z"
   },
   {
    "duration": 14,
    "start_time": "2021-07-17T06:09:15.211Z"
   },
   {
    "duration": 8,
    "start_time": "2021-07-17T06:09:18.011Z"
   },
   {
    "duration": 9,
    "start_time": "2021-07-17T06:09:18.518Z"
   },
   {
    "duration": 9,
    "start_time": "2021-07-17T06:09:20.009Z"
   },
   {
    "duration": 50,
    "start_time": "2021-07-17T06:09:35.672Z"
   },
   {
    "duration": 38,
    "start_time": "2021-07-17T06:09:48.412Z"
   },
   {
    "duration": 38,
    "start_time": "2021-07-17T06:09:49.440Z"
   },
   {
    "duration": 37,
    "start_time": "2021-07-17T06:10:00.807Z"
   },
   {
    "duration": 38,
    "start_time": "2021-07-17T06:10:43.242Z"
   },
   {
    "duration": 14,
    "start_time": "2021-07-17T06:11:07.203Z"
   },
   {
    "duration": 7,
    "start_time": "2021-07-17T06:11:08.187Z"
   },
   {
    "duration": 9,
    "start_time": "2021-07-17T06:11:08.559Z"
   },
   {
    "duration": 8,
    "start_time": "2021-07-17T06:11:08.869Z"
   },
   {
    "duration": 38,
    "start_time": "2021-07-17T06:11:09.732Z"
   },
   {
    "duration": 15,
    "start_time": "2021-07-17T06:11:36.599Z"
   },
   {
    "duration": 10,
    "start_time": "2021-07-17T06:11:36.992Z"
   },
   {
    "duration": 8,
    "start_time": "2021-07-17T06:11:37.294Z"
   },
   {
    "duration": 9,
    "start_time": "2021-07-17T06:11:37.639Z"
   },
   {
    "duration": 38,
    "start_time": "2021-07-17T06:11:40.089Z"
   },
   {
    "duration": 20,
    "start_time": "2021-07-17T06:11:56.368Z"
   },
   {
    "duration": 8,
    "start_time": "2021-07-17T06:11:56.688Z"
   },
   {
    "duration": 9,
    "start_time": "2021-07-17T06:11:56.979Z"
   },
   {
    "duration": 8,
    "start_time": "2021-07-17T06:11:57.304Z"
   },
   {
    "duration": 39,
    "start_time": "2021-07-17T06:11:57.823Z"
   },
   {
    "duration": 14,
    "start_time": "2021-07-17T06:12:31.623Z"
   },
   {
    "duration": 9,
    "start_time": "2021-07-17T06:12:31.972Z"
   },
   {
    "duration": 10,
    "start_time": "2021-07-17T06:12:32.239Z"
   },
   {
    "duration": 10,
    "start_time": "2021-07-17T06:12:32.502Z"
   },
   {
    "duration": 40,
    "start_time": "2021-07-17T06:12:33.054Z"
   },
   {
    "duration": 16,
    "start_time": "2021-07-17T06:12:53.987Z"
   },
   {
    "duration": 8,
    "start_time": "2021-07-17T06:12:54.351Z"
   },
   {
    "duration": 8,
    "start_time": "2021-07-17T06:12:54.587Z"
   },
   {
    "duration": 9,
    "start_time": "2021-07-17T06:12:54.896Z"
   },
   {
    "duration": 38,
    "start_time": "2021-07-17T06:12:55.228Z"
   },
   {
    "duration": 38,
    "start_time": "2021-07-17T06:13:25.769Z"
   },
   {
    "duration": 13,
    "start_time": "2021-07-17T06:13:47.840Z"
   },
   {
    "duration": 11,
    "start_time": "2021-07-17T06:13:48.168Z"
   },
   {
    "duration": 12,
    "start_time": "2021-07-17T06:13:48.379Z"
   },
   {
    "duration": 16,
    "start_time": "2021-07-17T06:13:48.579Z"
   },
   {
    "duration": 8,
    "start_time": "2021-07-17T06:13:48.780Z"
   },
   {
    "duration": 9,
    "start_time": "2021-07-17T06:13:48.962Z"
   },
   {
    "duration": 8,
    "start_time": "2021-07-17T06:13:49.152Z"
   },
   {
    "duration": 40,
    "start_time": "2021-07-17T06:13:50.219Z"
   },
   {
    "duration": 8,
    "start_time": "2021-07-17T06:14:23.620Z"
   },
   {
    "duration": 471,
    "start_time": "2021-07-17T06:14:24.660Z"
   },
   {
    "duration": 6,
    "start_time": "2021-07-17T06:15:12.383Z"
   },
   {
    "duration": 442,
    "start_time": "2021-07-17T06:15:12.689Z"
   },
   {
    "duration": 12,
    "start_time": "2021-07-17T06:15:19.619Z"
   },
   {
    "duration": 11,
    "start_time": "2021-07-17T06:15:19.911Z"
   },
   {
    "duration": 9,
    "start_time": "2021-07-17T06:15:21.853Z"
   },
   {
    "duration": 8,
    "start_time": "2021-07-17T06:15:25.403Z"
   },
   {
    "duration": 403,
    "start_time": "2021-07-17T06:15:26.228Z"
   },
   {
    "duration": 1437,
    "start_time": "2021-07-17T06:16:15.964Z"
   },
   {
    "duration": 433,
    "start_time": "2021-07-17T06:16:17.404Z"
   },
   {
    "duration": 8,
    "start_time": "2021-07-17T06:16:27.224Z"
   },
   {
    "duration": 9,
    "start_time": "2021-07-17T06:16:28.086Z"
   },
   {
    "duration": 10,
    "start_time": "2021-07-17T06:16:28.702Z"
   },
   {
    "duration": 9,
    "start_time": "2021-07-17T06:16:38.898Z"
   },
   {
    "duration": 461,
    "start_time": "2021-07-17T06:16:46.668Z"
   },
   {
    "duration": 18,
    "start_time": "2021-07-17T06:16:51.457Z"
   },
   {
    "duration": 420,
    "start_time": "2021-07-17T06:17:27.116Z"
   },
   {
    "duration": 8,
    "start_time": "2021-07-17T06:17:32.569Z"
   },
   {
    "duration": 463,
    "start_time": "2021-07-17T06:17:36.061Z"
   },
   {
    "duration": 13,
    "start_time": "2021-07-17T06:17:37.839Z"
   },
   {
    "duration": 4,
    "start_time": "2021-07-17T06:19:07.995Z"
   },
   {
    "duration": 6,
    "start_time": "2021-07-17T06:19:14.004Z"
   },
   {
    "duration": 104,
    "start_time": "2021-07-17T06:19:14.534Z"
   },
   {
    "duration": 10,
    "start_time": "2021-07-17T06:19:38.164Z"
   },
   {
    "duration": 4286,
    "start_time": "2021-07-17T06:19:39.116Z"
   },
   {
    "duration": 4230,
    "start_time": "2021-07-17T06:19:43.405Z"
   },
   {
    "duration": 4263,
    "start_time": "2021-07-17T06:19:47.638Z"
   },
   {
    "duration": 6,
    "start_time": "2021-07-17T06:29:02.724Z"
   },
   {
    "duration": 464,
    "start_time": "2021-07-17T06:29:03.044Z"
   },
   {
    "duration": 10,
    "start_time": "2021-07-17T06:29:08.380Z"
   },
   {
    "duration": 7,
    "start_time": "2021-07-17T06:29:11.128Z"
   },
   {
    "duration": 417,
    "start_time": "2021-07-17T06:29:12.092Z"
   },
   {
    "duration": 13,
    "start_time": "2021-07-17T06:29:15.425Z"
   },
   {
    "duration": 7,
    "start_time": "2021-07-17T06:29:34.109Z"
   },
   {
    "duration": 846,
    "start_time": "2021-07-17T06:29:35.185Z"
   },
   {
    "duration": 7,
    "start_time": "2021-07-17T06:29:43.832Z"
   },
   {
    "duration": 742,
    "start_time": "2021-07-17T06:29:44.745Z"
   },
   {
    "duration": 7,
    "start_time": "2021-07-17T06:29:56.303Z"
   },
   {
    "duration": 394,
    "start_time": "2021-07-17T06:29:57.116Z"
   },
   {
    "duration": 12,
    "start_time": "2021-07-17T06:29:58.582Z"
   },
   {
    "duration": 8,
    "start_time": "2021-07-17T06:31:21.909Z"
   },
   {
    "duration": 664,
    "start_time": "2021-07-17T06:31:23.408Z"
   },
   {
    "duration": 6,
    "start_time": "2021-07-17T06:31:33.637Z"
   },
   {
    "duration": 454,
    "start_time": "2021-07-17T06:31:34.757Z"
   },
   {
    "duration": 6,
    "start_time": "2021-07-17T06:32:04.958Z"
   },
   {
    "duration": 706,
    "start_time": "2021-07-17T06:32:05.856Z"
   },
   {
    "duration": 5,
    "start_time": "2021-07-17T06:36:27.995Z"
   },
   {
    "duration": 802,
    "start_time": "2021-07-17T06:36:28.900Z"
   },
   {
    "duration": 4,
    "start_time": "2021-07-17T06:36:49.975Z"
   },
   {
    "duration": 30,
    "start_time": "2021-07-17T06:36:50.779Z"
   },
   {
    "duration": 19,
    "start_time": "2021-07-17T06:37:36.782Z"
   },
   {
    "duration": 5,
    "start_time": "2021-07-17T06:39:52.510Z"
   },
   {
    "duration": 5,
    "start_time": "2021-07-17T06:39:54.427Z"
   },
   {
    "duration": 781,
    "start_time": "2021-07-17T06:39:55.674Z"
   },
   {
    "duration": 275,
    "start_time": "2021-07-17T06:42:23.934Z"
   },
   {
    "duration": 8,
    "start_time": "2021-07-17T06:42:26.570Z"
   },
   {
    "duration": 544,
    "start_time": "2021-07-17T06:42:27.196Z"
   },
   {
    "duration": 7,
    "start_time": "2021-07-17T06:43:48.019Z"
   },
   {
    "duration": 440,
    "start_time": "2021-07-17T06:43:48.788Z"
   },
   {
    "duration": 11,
    "start_time": "2021-07-17T06:43:55.767Z"
   },
   {
    "duration": 7,
    "start_time": "2021-07-17T06:43:58.180Z"
   },
   {
    "duration": 147,
    "start_time": "2021-07-17T06:43:59.355Z"
   },
   {
    "duration": 102,
    "start_time": "2021-07-17T06:44:57.201Z"
   },
   {
    "duration": 9,
    "start_time": "2021-07-17T06:47:44.141Z"
   },
   {
    "duration": 581,
    "start_time": "2021-07-17T06:47:44.853Z"
   },
   {
    "duration": 10,
    "start_time": "2021-07-17T06:48:55.375Z"
   },
   {
    "duration": 602,
    "start_time": "2021-07-17T06:48:55.762Z"
   },
   {
    "duration": 8,
    "start_time": "2021-07-17T06:50:47.989Z"
   },
   {
    "duration": 445,
    "start_time": "2021-07-17T06:50:49.381Z"
   },
   {
    "duration": 13,
    "start_time": "2021-07-17T06:50:51.483Z"
   },
   {
    "duration": 7,
    "start_time": "2021-07-17T06:51:29.281Z"
   },
   {
    "duration": 436,
    "start_time": "2021-07-17T06:51:30.385Z"
   },
   {
    "duration": 13,
    "start_time": "2021-07-17T06:51:31.860Z"
   },
   {
    "duration": 8,
    "start_time": "2021-07-17T06:51:49.364Z"
   },
   {
    "duration": 408,
    "start_time": "2021-07-17T06:51:50.313Z"
   },
   {
    "duration": 13,
    "start_time": "2021-07-17T06:51:51.790Z"
   },
   {
    "duration": 7,
    "start_time": "2021-07-17T06:51:59.377Z"
   },
   {
    "duration": 438,
    "start_time": "2021-07-17T06:52:00.182Z"
   },
   {
    "duration": 17,
    "start_time": "2021-07-17T06:52:01.424Z"
   },
   {
    "duration": 7,
    "start_time": "2021-07-17T06:52:08.605Z"
   },
   {
    "duration": 446,
    "start_time": "2021-07-17T06:52:09.375Z"
   },
   {
    "duration": 13,
    "start_time": "2021-07-17T06:52:10.524Z"
   },
   {
    "duration": 8,
    "start_time": "2021-07-17T06:52:15.123Z"
   },
   {
    "duration": 426,
    "start_time": "2021-07-17T06:52:16.190Z"
   },
   {
    "duration": 13,
    "start_time": "2021-07-17T06:52:18.088Z"
   },
   {
    "duration": 8,
    "start_time": "2021-07-17T06:52:25.407Z"
   },
   {
    "duration": 472,
    "start_time": "2021-07-17T06:52:26.245Z"
   },
   {
    "duration": 13,
    "start_time": "2021-07-17T06:52:27.600Z"
   },
   {
    "duration": 7,
    "start_time": "2021-07-17T06:56:45.708Z"
   },
   {
    "duration": 426,
    "start_time": "2021-07-17T06:56:46.991Z"
   },
   {
    "duration": 13,
    "start_time": "2021-07-17T06:56:48.426Z"
   },
   {
    "duration": 7,
    "start_time": "2021-07-17T06:58:11.211Z"
   },
   {
    "duration": 7,
    "start_time": "2021-07-17T06:59:53.974Z"
   },
   {
    "duration": 6,
    "start_time": "2021-07-17T06:59:57.506Z"
   },
   {
    "duration": 7,
    "start_time": "2021-07-17T07:00:12.865Z"
   },
   {
    "duration": 8,
    "start_time": "2021-07-17T07:00:17.910Z"
   },
   {
    "duration": 85,
    "start_time": "2021-07-17T07:01:36.616Z"
   },
   {
    "duration": 88,
    "start_time": "2021-07-17T07:01:56.639Z"
   },
   {
    "duration": 111,
    "start_time": "2021-07-17T07:02:36.289Z"
   },
   {
    "duration": 269,
    "start_time": "2021-07-17T07:02:52.582Z"
   },
   {
    "duration": 7,
    "start_time": "2021-07-17T07:03:30.051Z"
   },
   {
    "duration": 125,
    "start_time": "2021-07-17T07:04:32.075Z"
   },
   {
    "duration": 274,
    "start_time": "2021-07-17T07:04:51.466Z"
   },
   {
    "duration": 13,
    "start_time": "2021-07-17T07:05:00.291Z"
   },
   {
    "duration": 26,
    "start_time": "2021-07-17T07:05:26.551Z"
   },
   {
    "duration": 290,
    "start_time": "2021-07-17T07:05:58.344Z"
   },
   {
    "duration": 6,
    "start_time": "2021-07-17T07:16:42.114Z"
   },
   {
    "duration": 395,
    "start_time": "2021-07-17T07:16:46.619Z"
   },
   {
    "duration": 47,
    "start_time": "2021-07-17T07:22:51.842Z"
   },
   {
    "duration": 79,
    "start_time": "2021-07-17T07:22:54.304Z"
   },
   {
    "duration": 48,
    "start_time": "2021-07-17T07:22:55.393Z"
   },
   {
    "duration": 108,
    "start_time": "2021-07-17T07:24:14.206Z"
   },
   {
    "duration": 96,
    "start_time": "2021-07-17T07:24:40.571Z"
   },
   {
    "duration": 90,
    "start_time": "2021-07-17T07:24:56.951Z"
   },
   {
    "duration": 12,
    "start_time": "2021-07-17T07:25:04.378Z"
   },
   {
    "duration": 11,
    "start_time": "2021-07-17T07:29:03.173Z"
   },
   {
    "duration": 1481,
    "start_time": "2021-07-17T07:38:02.524Z"
   },
   {
    "duration": 440,
    "start_time": "2021-07-17T07:38:04.008Z"
   },
   {
    "duration": 7,
    "start_time": "2021-07-17T07:38:08.227Z"
   },
   {
    "duration": 9,
    "start_time": "2021-07-17T07:38:09.585Z"
   },
   {
    "duration": 455,
    "start_time": "2021-07-17T07:38:10.361Z"
   },
   {
    "duration": 23,
    "start_time": "2021-07-17T07:38:11.492Z"
   },
   {
    "duration": 11,
    "start_time": "2021-07-17T07:44:27.429Z"
   },
   {
    "duration": 4,
    "start_time": "2021-07-17T07:49:42.624Z"
   },
   {
    "duration": 5,
    "start_time": "2021-07-17T07:49:54.137Z"
   },
   {
    "duration": 5,
    "start_time": "2021-07-17T07:51:27.024Z"
   },
   {
    "duration": 9,
    "start_time": "2021-07-17T07:51:28.103Z"
   },
   {
    "duration": 75,
    "start_time": "2021-07-17T07:51:40.976Z"
   },
   {
    "duration": 6,
    "start_time": "2021-07-17T07:59:33.349Z"
   },
   {
    "duration": 119,
    "start_time": "2021-07-17T07:59:36.504Z"
   },
   {
    "duration": 106,
    "start_time": "2021-07-17T09:38:22.048Z"
   },
   {
    "duration": 9,
    "start_time": "2021-07-17T09:40:24.953Z"
   },
   {
    "duration": 901,
    "start_time": "2021-07-17T09:40:29.660Z"
   },
   {
    "duration": 11,
    "start_time": "2021-07-17T09:41:26.748Z"
   },
   {
    "duration": 2318,
    "start_time": "2021-07-17T09:41:29.750Z"
   },
   {
    "duration": 10,
    "start_time": "2021-07-17T09:41:47.572Z"
   },
   {
    "duration": 4453,
    "start_time": "2021-07-17T09:41:48.601Z"
   },
   {
    "duration": 9,
    "start_time": "2021-07-17T09:45:20.141Z"
   },
   {
    "duration": 5084,
    "start_time": "2021-07-17T09:45:21.163Z"
   },
   {
    "duration": 4964,
    "start_time": "2021-07-17T09:45:35.461Z"
   },
   {
    "duration": 4952,
    "start_time": "2021-07-17T09:45:46.813Z"
   },
   {
    "duration": 9,
    "start_time": "2021-07-17T09:50:04.149Z"
   },
   {
    "duration": 4965,
    "start_time": "2021-07-17T09:50:05.084Z"
   },
   {
    "duration": 10,
    "start_time": "2021-07-17T09:50:27.652Z"
   },
   {
    "duration": 5046,
    "start_time": "2021-07-17T09:50:28.684Z"
   },
   {
    "duration": 5117,
    "start_time": "2021-07-17T09:50:36.637Z"
   },
   {
    "duration": 5161,
    "start_time": "2021-07-17T09:50:44.425Z"
   },
   {
    "duration": 104,
    "start_time": "2021-07-17T09:50:54.257Z"
   },
   {
    "duration": 4958,
    "start_time": "2021-07-17T09:50:55.074Z"
   },
   {
    "duration": 11,
    "start_time": "2021-07-17T09:51:00.035Z"
   },
   {
    "duration": 4930,
    "start_time": "2021-07-17T09:51:00.434Z"
   },
   {
    "duration": 10,
    "start_time": "2021-07-17T09:51:42.146Z"
   },
   {
    "duration": 4952,
    "start_time": "2021-07-17T09:51:43.127Z"
   },
   {
    "duration": 10,
    "start_time": "2021-07-17T09:52:02.562Z"
   },
   {
    "duration": 5112,
    "start_time": "2021-07-17T09:52:03.154Z"
   },
   {
    "duration": 10,
    "start_time": "2021-07-17T09:57:47.441Z"
   },
   {
    "duration": 5132,
    "start_time": "2021-07-17T09:57:48.903Z"
   },
   {
    "duration": 10,
    "start_time": "2021-07-17T09:58:04.509Z"
   },
   {
    "duration": 5184,
    "start_time": "2021-07-17T09:58:05.568Z"
   },
   {
    "duration": 10,
    "start_time": "2021-07-17T09:58:36.689Z"
   },
   {
    "duration": 10,
    "start_time": "2021-07-17T09:59:22.256Z"
   },
   {
    "duration": 5737,
    "start_time": "2021-07-17T09:59:23.388Z"
   },
   {
    "duration": 6152,
    "start_time": "2021-07-17T09:59:36.793Z"
   },
   {
    "duration": 5075,
    "start_time": "2021-07-17T09:59:45.058Z"
   },
   {
    "duration": 10,
    "start_time": "2021-07-17T10:40:08.523Z"
   },
   {
    "duration": 5533,
    "start_time": "2021-07-17T10:40:09.107Z"
   },
   {
    "duration": 1489,
    "start_time": "2021-07-17T11:09:49.539Z"
   },
   {
    "duration": 493,
    "start_time": "2021-07-17T11:09:51.030Z"
   },
   {
    "duration": 36,
    "start_time": "2021-07-17T11:09:52.814Z"
   },
   {
    "duration": 14,
    "start_time": "2021-07-17T11:09:53.826Z"
   },
   {
    "duration": 14,
    "start_time": "2021-07-17T11:09:54.284Z"
   },
   {
    "duration": 15,
    "start_time": "2021-07-17T11:09:54.690Z"
   },
   {
    "duration": 57,
    "start_time": "2021-07-17T11:09:55.056Z"
   },
   {
    "duration": 55,
    "start_time": "2021-07-17T11:09:55.383Z"
   },
   {
    "duration": 46,
    "start_time": "2021-07-17T11:09:55.727Z"
   },
   {
    "duration": 181,
    "start_time": "2021-07-17T11:09:56.019Z"
   },
   {
    "duration": 353,
    "start_time": "2021-07-17T11:09:56.352Z"
   },
   {
    "duration": 380,
    "start_time": "2021-07-17T11:09:56.709Z"
   },
   {
    "duration": 382,
    "start_time": "2021-07-17T11:09:57.093Z"
   },
   {
    "duration": 8,
    "start_time": "2021-07-17T11:18:20.776Z"
   },
   {
    "duration": 7,
    "start_time": "2021-07-17T11:18:25.540Z"
   },
   {
    "duration": 420,
    "start_time": "2021-07-17T11:18:27.596Z"
   },
   {
    "duration": 14,
    "start_time": "2021-07-17T11:18:30.999Z"
   },
   {
    "duration": 12,
    "start_time": "2021-07-17T11:22:33.878Z"
   },
   {
    "duration": 5,
    "start_time": "2021-07-17T11:28:31.758Z"
   },
   {
    "duration": 5,
    "start_time": "2021-07-17T11:31:47.756Z"
   },
   {
    "duration": 10,
    "start_time": "2021-07-17T11:31:51.755Z"
   },
   {
    "duration": 31,
    "start_time": "2021-07-17T11:32:13.232Z"
   },
   {
    "duration": 7,
    "start_time": "2021-07-17T11:34:08.620Z"
   },
   {
    "duration": 113,
    "start_time": "2021-07-17T11:34:09.626Z"
   },
   {
    "duration": 10,
    "start_time": "2021-07-17T11:37:19.034Z"
   },
   {
    "duration": 4872,
    "start_time": "2021-07-17T11:37:20.490Z"
   },
   {
    "duration": 5142,
    "start_time": "2021-07-17T11:39:15.472Z"
   },
   {
    "duration": 1463,
    "start_time": "2021-07-17T11:39:36.953Z"
   },
   {
    "duration": 470,
    "start_time": "2021-07-17T11:39:38.419Z"
   },
   {
    "duration": 41,
    "start_time": "2021-07-17T11:39:38.892Z"
   },
   {
    "duration": 15,
    "start_time": "2021-07-17T11:39:38.936Z"
   },
   {
    "duration": 50,
    "start_time": "2021-07-17T11:39:38.953Z"
   },
   {
    "duration": 13,
    "start_time": "2021-07-17T11:39:39.005Z"
   },
   {
    "duration": 53,
    "start_time": "2021-07-17T11:39:39.021Z"
   },
   {
    "duration": 50,
    "start_time": "2021-07-17T11:39:39.102Z"
   },
   {
    "duration": 66,
    "start_time": "2021-07-17T11:39:39.156Z"
   },
   {
    "duration": 207,
    "start_time": "2021-07-17T11:39:39.224Z"
   },
   {
    "duration": 367,
    "start_time": "2021-07-17T11:39:39.433Z"
   },
   {
    "duration": 360,
    "start_time": "2021-07-17T11:39:39.802Z"
   },
   {
    "duration": 356,
    "start_time": "2021-07-17T11:39:40.164Z"
   },
   {
    "duration": 8,
    "start_time": "2021-07-17T11:39:40.522Z"
   },
   {
    "duration": 7,
    "start_time": "2021-07-17T11:39:40.533Z"
   },
   {
    "duration": 473,
    "start_time": "2021-07-17T11:39:40.543Z"
   },
   {
    "duration": 182,
    "start_time": "2021-07-17T11:39:41.019Z"
   },
   {
    "duration": 13,
    "start_time": "2021-07-17T11:39:41.204Z"
   },
   {
    "duration": 18,
    "start_time": "2021-07-17T11:39:41.220Z"
   },
   {
    "duration": 10,
    "start_time": "2021-07-17T11:39:41.241Z"
   },
   {
    "duration": 19,
    "start_time": "2021-07-17T11:39:41.254Z"
   },
   {
    "duration": 63,
    "start_time": "2021-07-17T11:39:41.276Z"
   },
   {
    "duration": 7,
    "start_time": "2021-07-17T11:39:41.344Z"
   },
   {
    "duration": 140,
    "start_time": "2021-07-17T11:39:41.354Z"
   },
   {
    "duration": 10,
    "start_time": "2021-07-17T11:39:41.500Z"
   },
   {
    "duration": 5353,
    "start_time": "2021-07-17T11:39:41.513Z"
   },
   {
    "duration": 8849,
    "start_time": "2021-07-17T11:39:46.869Z"
   },
   {
    "duration": 5368,
    "start_time": "2021-07-17T11:39:55.722Z"
   },
   {
    "duration": 1526,
    "start_time": "2021-07-18T13:21:14.066Z"
   },
   {
    "duration": 438,
    "start_time": "2021-07-18T13:21:15.595Z"
   },
   {
    "duration": 7,
    "start_time": "2021-07-18T13:21:25.309Z"
   },
   {
    "duration": 8,
    "start_time": "2021-07-18T13:21:28.632Z"
   },
   {
    "duration": 523,
    "start_time": "2021-07-18T13:21:32.360Z"
   },
   {
    "duration": 4,
    "start_time": "2021-07-18T13:21:38.013Z"
   },
   {
    "duration": 6,
    "start_time": "2021-07-18T13:21:45.774Z"
   },
   {
    "duration": 8,
    "start_time": "2021-07-18T13:21:47.185Z"
   },
   {
    "duration": 811,
    "start_time": "2021-07-18T13:22:00.714Z"
   },
   {
    "duration": 6,
    "start_time": "2021-07-18T13:22:32.655Z"
   },
   {
    "duration": 8,
    "start_time": "2021-07-18T13:22:33.530Z"
   },
   {
    "duration": 1014,
    "start_time": "2021-07-18T13:22:41.029Z"
   },
   {
    "duration": 5,
    "start_time": "2021-07-18T13:23:54.682Z"
   },
   {
    "duration": 10,
    "start_time": "2021-07-18T13:23:55.195Z"
   },
   {
    "duration": 4,
    "start_time": "2021-07-18T13:24:01.182Z"
   },
   {
    "duration": 13,
    "start_time": "2021-07-18T13:24:01.730Z"
   },
   {
    "duration": 4593,
    "start_time": "2021-07-18T13:24:04.426Z"
   },
   {
    "duration": 5,
    "start_time": "2021-07-18T13:24:46.601Z"
   },
   {
    "duration": 9,
    "start_time": "2021-07-18T13:24:46.996Z"
   },
   {
    "duration": 3647,
    "start_time": "2021-07-18T13:24:50.457Z"
   },
   {
    "duration": 3160,
    "start_time": "2021-07-18T13:24:58.601Z"
   },
   {
    "duration": 3440,
    "start_time": "2021-07-18T13:25:03.052Z"
   },
   {
    "duration": 5,
    "start_time": "2021-07-18T13:25:28.404Z"
   },
   {
    "duration": 8,
    "start_time": "2021-07-18T13:25:29.138Z"
   },
   {
    "duration": 2870,
    "start_time": "2021-07-18T13:25:32.261Z"
   },
   {
    "duration": 2853,
    "start_time": "2021-07-18T13:25:38.306Z"
   },
   {
    "duration": 2887,
    "start_time": "2021-07-18T13:25:41.161Z"
   },
   {
    "duration": 10,
    "start_time": "2021-07-18T13:26:11.854Z"
   },
   {
    "duration": 5071,
    "start_time": "2021-07-18T13:26:19.157Z"
   },
   {
    "duration": 1163,
    "start_time": "2021-07-19T02:13:42.951Z"
   },
   {
    "duration": 345,
    "start_time": "2021-07-19T02:13:44.116Z"
   },
   {
    "duration": 6,
    "start_time": "2021-07-19T02:13:50.238Z"
   },
   {
    "duration": 13,
    "start_time": "2021-07-19T02:13:50.702Z"
   },
   {
    "duration": 7,
    "start_time": "2021-07-19T02:13:54.600Z"
   },
   {
    "duration": 254,
    "start_time": "2021-07-19T02:13:57.791Z"
   },
   {
    "duration": 12,
    "start_time": "2021-07-19T02:14:00.243Z"
   },
   {
    "duration": 3,
    "start_time": "2021-07-19T02:14:17.837Z"
   },
   {
    "duration": 5,
    "start_time": "2021-07-19T02:14:18.850Z"
   },
   {
    "duration": 239,
    "start_time": "2021-07-19T02:14:19.514Z"
   },
   {
    "duration": 8,
    "start_time": "2021-07-19T02:14:21.521Z"
   },
   {
    "duration": 4,
    "start_time": "2021-07-19T02:14:33.326Z"
   },
   {
    "duration": 354,
    "start_time": "2021-07-19T02:14:33.674Z"
   },
   {
    "duration": 8,
    "start_time": "2021-07-19T02:14:39.094Z"
   },
   {
    "duration": 2,
    "start_time": "2021-07-19T02:14:39.484Z"
   },
   {
    "duration": 5,
    "start_time": "2021-07-19T02:14:40.053Z"
   },
   {
    "duration": 251,
    "start_time": "2021-07-19T02:14:40.401Z"
   },
   {
    "duration": 8,
    "start_time": "2021-07-19T02:14:41.063Z"
   },
   {
    "duration": 6,
    "start_time": "2021-07-19T02:16:52.668Z"
   },
   {
    "duration": 2,
    "start_time": "2021-07-19T02:16:53.038Z"
   },
   {
    "duration": 4,
    "start_time": "2021-07-19T02:16:54.986Z"
   },
   {
    "duration": 329,
    "start_time": "2021-07-19T02:16:55.917Z"
   },
   {
    "duration": 8,
    "start_time": "2021-07-19T02:16:57.767Z"
   },
   {
    "duration": 6,
    "start_time": "2021-07-19T02:18:31.184Z"
   },
   {
    "duration": 3,
    "start_time": "2021-07-19T02:18:31.415Z"
   },
   {
    "duration": 4,
    "start_time": "2021-07-19T02:18:31.924Z"
   },
   {
    "duration": 383,
    "start_time": "2021-07-19T02:18:32.160Z"
   },
   {
    "duration": 101,
    "start_time": "2021-07-19T02:18:32.545Z"
   },
   {
    "duration": 5,
    "start_time": "2021-07-19T02:18:46.328Z"
   },
   {
    "duration": 268,
    "start_time": "2021-07-19T02:18:47.185Z"
   },
   {
    "duration": 8,
    "start_time": "2021-07-19T02:18:47.848Z"
   },
   {
    "duration": 6,
    "start_time": "2021-07-19T02:20:49.836Z"
   },
   {
    "duration": 6,
    "start_time": "2021-07-19T02:20:50.337Z"
   },
   {
    "duration": 4,
    "start_time": "2021-07-19T02:20:52.189Z"
   },
   {
    "duration": 393,
    "start_time": "2021-07-19T02:20:52.950Z"
   },
   {
    "duration": 8,
    "start_time": "2021-07-19T02:20:54.418Z"
   },
   {
    "duration": 4,
    "start_time": "2021-07-19T02:21:06.567Z"
   },
   {
    "duration": 341,
    "start_time": "2021-07-19T02:21:06.849Z"
   },
   {
    "duration": 8,
    "start_time": "2021-07-19T02:21:12.583Z"
   },
   {
    "duration": 6,
    "start_time": "2021-07-19T02:21:12.943Z"
   },
   {
    "duration": 5,
    "start_time": "2021-07-19T02:21:14.258Z"
   },
   {
    "duration": 302,
    "start_time": "2021-07-19T02:21:15.149Z"
   },
   {
    "duration": 8,
    "start_time": "2021-07-19T02:21:16.608Z"
   },
   {
    "duration": 398,
    "start_time": "2021-07-19T02:21:29.831Z"
   },
   {
    "duration": 280,
    "start_time": "2021-07-19T02:21:39.641Z"
   },
   {
    "duration": 4,
    "start_time": "2021-07-19T02:21:57.986Z"
   },
   {
    "duration": 339,
    "start_time": "2021-07-19T02:21:58.293Z"
   },
   {
    "duration": 8,
    "start_time": "2021-07-19T02:22:05.057Z"
   },
   {
    "duration": 6,
    "start_time": "2021-07-19T02:22:05.906Z"
   },
   {
    "duration": 5,
    "start_time": "2021-07-19T02:22:08.650Z"
   },
   {
    "duration": 251,
    "start_time": "2021-07-19T02:22:14.702Z"
   },
   {
    "duration": 8,
    "start_time": "2021-07-19T02:22:15.653Z"
   },
   {
    "duration": 93,
    "start_time": "2021-07-19T02:47:00.349Z"
   },
   {
    "duration": 86,
    "start_time": "2021-07-19T02:47:10.607Z"
   },
   {
    "duration": 98,
    "start_time": "2021-07-19T02:47:33.437Z"
   },
   {
    "duration": 87,
    "start_time": "2021-07-19T02:47:39.218Z"
   },
   {
    "duration": 266,
    "start_time": "2021-07-19T02:48:08.865Z"
   },
   {
    "duration": 334,
    "start_time": "2021-07-19T02:48:35.521Z"
   },
   {
    "duration": 8,
    "start_time": "2021-07-19T02:48:49.201Z"
   },
   {
    "duration": 7,
    "start_time": "2021-07-19T02:49:04.006Z"
   },
   {
    "duration": 8,
    "start_time": "2021-07-19T02:49:20.391Z"
   },
   {
    "duration": 7,
    "start_time": "2021-07-19T02:50:27.149Z"
   },
   {
    "duration": 7,
    "start_time": "2021-07-19T02:50:44.176Z"
   },
   {
    "duration": 7,
    "start_time": "2021-07-19T02:51:13.635Z"
   },
   {
    "duration": 6,
    "start_time": "2021-07-19T02:51:16.588Z"
   },
   {
    "duration": 7,
    "start_time": "2021-07-19T02:51:29.576Z"
   },
   {
    "duration": 7,
    "start_time": "2021-07-19T02:51:30.634Z"
   },
   {
    "duration": 4,
    "start_time": "2021-07-19T02:51:47.108Z"
   },
   {
    "duration": 537,
    "start_time": "2021-07-19T02:51:48.075Z"
   },
   {
    "duration": 3,
    "start_time": "2021-07-19T02:51:57.400Z"
   },
   {
    "duration": 4,
    "start_time": "2021-07-19T02:51:59.979Z"
   },
   {
    "duration": 80,
    "start_time": "2021-07-19T02:52:01.614Z"
   },
   {
    "duration": 9,
    "start_time": "2021-07-19T02:52:45.799Z"
   },
   {
    "duration": 8,
    "start_time": "2021-07-19T02:52:54.315Z"
   },
   {
    "duration": 17,
    "start_time": "2021-07-19T02:53:53.861Z"
   },
   {
    "duration": 22,
    "start_time": "2021-07-19T02:54:03.056Z"
   },
   {
    "duration": 8,
    "start_time": "2021-07-19T02:54:45.964Z"
   },
   {
    "duration": 7,
    "start_time": "2021-07-19T02:56:10.797Z"
   },
   {
    "duration": 7,
    "start_time": "2021-07-19T02:56:40.528Z"
   },
   {
    "duration": 7,
    "start_time": "2021-07-19T02:56:57.289Z"
   },
   {
    "duration": 7,
    "start_time": "2021-07-19T02:57:04.476Z"
   },
   {
    "duration": 8,
    "start_time": "2021-07-19T02:57:32.542Z"
   },
   {
    "duration": 9,
    "start_time": "2021-07-19T02:57:42.337Z"
   },
   {
    "duration": 8,
    "start_time": "2021-07-19T02:57:56.304Z"
   },
   {
    "duration": 8,
    "start_time": "2021-07-19T02:58:30.984Z"
   },
   {
    "duration": 8,
    "start_time": "2021-07-19T02:58:43.257Z"
   },
   {
    "duration": 14,
    "start_time": "2021-07-19T02:59:11.772Z"
   },
   {
    "duration": 9,
    "start_time": "2021-07-19T02:59:21.055Z"
   },
   {
    "duration": 6,
    "start_time": "2021-07-19T02:59:32.273Z"
   },
   {
    "duration": 8,
    "start_time": "2021-07-19T02:59:53.845Z"
   },
   {
    "duration": 116,
    "start_time": "2021-07-19T03:09:24.958Z"
   },
   {
    "duration": 735,
    "start_time": "2021-07-19T03:09:29.400Z"
   },
   {
    "duration": 6,
    "start_time": "2021-07-19T03:36:17.427Z"
   },
   {
    "duration": 3177,
    "start_time": "2021-07-19T03:36:18.695Z"
   },
   {
    "duration": 3028,
    "start_time": "2021-07-19T03:36:28.833Z"
   },
   {
    "duration": 3187,
    "start_time": "2021-07-19T03:36:38.931Z"
   },
   {
    "duration": 3078,
    "start_time": "2021-07-19T03:36:51.716Z"
   },
   {
    "duration": 3116,
    "start_time": "2021-07-19T03:36:59.179Z"
   },
   {
    "duration": 3093,
    "start_time": "2021-07-19T03:37:04.212Z"
   },
   {
    "duration": 7,
    "start_time": "2021-07-19T03:58:27.461Z"
   },
   {
    "duration": 2934,
    "start_time": "2021-07-19T03:58:28.430Z"
   },
   {
    "duration": 6,
    "start_time": "2021-07-19T04:36:01.577Z"
   },
   {
    "duration": 3695,
    "start_time": "2021-07-19T04:36:02.868Z"
   },
   {
    "duration": 123,
    "start_time": "2021-07-19T04:37:50.748Z"
   },
   {
    "duration": 121,
    "start_time": "2021-07-19T04:38:03.567Z"
   },
   {
    "duration": 6,
    "start_time": "2021-07-19T04:38:15.284Z"
   },
   {
    "duration": 3405,
    "start_time": "2021-07-19T04:38:20.063Z"
   },
   {
    "duration": 6,
    "start_time": "2021-07-19T04:38:43.292Z"
   },
   {
    "duration": 3096,
    "start_time": "2021-07-19T04:38:45.394Z"
   },
   {
    "duration": 1178,
    "start_time": "2021-07-19T04:39:22.843Z"
   },
   {
    "duration": 434,
    "start_time": "2021-07-19T04:39:24.023Z"
   },
   {
    "duration": 6,
    "start_time": "2021-07-19T04:39:28.716Z"
   },
   {
    "duration": 7,
    "start_time": "2021-07-19T04:39:31.014Z"
   },
   {
    "duration": 463,
    "start_time": "2021-07-19T04:39:31.306Z"
   },
   {
    "duration": 3,
    "start_time": "2021-07-19T04:39:36.201Z"
   },
   {
    "duration": 4,
    "start_time": "2021-07-19T04:39:40.356Z"
   },
   {
    "duration": 90,
    "start_time": "2021-07-19T04:39:40.661Z"
   },
   {
    "duration": 6,
    "start_time": "2021-07-19T04:39:44.587Z"
   },
   {
    "duration": 3086,
    "start_time": "2021-07-19T04:39:47.216Z"
   },
   {
    "duration": 7,
    "start_time": "2021-07-19T04:40:00.937Z"
   },
   {
    "duration": 3045,
    "start_time": "2021-07-19T04:40:04.379Z"
   },
   {
    "duration": 6,
    "start_time": "2021-07-19T04:41:03.272Z"
   },
   {
    "duration": 3458,
    "start_time": "2021-07-19T04:41:06.370Z"
   },
   {
    "duration": 6,
    "start_time": "2021-07-19T04:41:49.724Z"
   },
   {
    "duration": 4498,
    "start_time": "2021-07-19T04:41:54.050Z"
   },
   {
    "duration": 6,
    "start_time": "2021-07-19T04:42:57.286Z"
   },
   {
    "duration": 3313,
    "start_time": "2021-07-19T04:42:59.595Z"
   },
   {
    "duration": 3159,
    "start_time": "2021-07-19T04:43:16.206Z"
   },
   {
    "duration": 3144,
    "start_time": "2021-07-19T04:43:22.876Z"
   },
   {
    "duration": 6,
    "start_time": "2021-07-19T04:45:37.759Z"
   },
   {
    "duration": 3258,
    "start_time": "2021-07-19T04:45:39.358Z"
   },
   {
    "duration": 6,
    "start_time": "2021-07-19T07:37:40.392Z"
   },
   {
    "duration": 3048,
    "start_time": "2021-07-19T07:37:41.094Z"
   },
   {
    "duration": 2907,
    "start_time": "2021-07-19T07:37:53.000Z"
   },
   {
    "duration": 6,
    "start_time": "2021-07-19T07:38:14.359Z"
   },
   {
    "duration": 2851,
    "start_time": "2021-07-19T07:38:15.500Z"
   },
   {
    "duration": 2981,
    "start_time": "2021-07-19T07:38:23.660Z"
   },
   {
    "duration": 2874,
    "start_time": "2021-07-19T07:38:29.763Z"
   },
   {
    "duration": 8,
    "start_time": "2021-07-19T07:41:08.566Z"
   },
   {
    "duration": 348,
    "start_time": "2021-07-19T07:41:25.810Z"
   },
   {
    "duration": 265,
    "start_time": "2021-07-19T07:41:45.205Z"
   },
   {
    "duration": 328,
    "start_time": "2021-07-19T07:41:59.074Z"
   },
   {
    "duration": 6,
    "start_time": "2021-07-19T07:42:07.026Z"
   },
   {
    "duration": 270,
    "start_time": "2021-07-19T07:42:07.523Z"
   },
   {
    "duration": 8,
    "start_time": "2021-07-19T07:42:20.596Z"
   },
   {
    "duration": 9,
    "start_time": "2021-07-19T07:43:07.835Z"
   },
   {
    "duration": 7,
    "start_time": "2021-07-19T07:43:22.652Z"
   },
   {
    "duration": 8,
    "start_time": "2021-07-19T07:43:36.741Z"
   },
   {
    "duration": 9,
    "start_time": "2021-07-19T07:43:47.614Z"
   },
   {
    "duration": 6,
    "start_time": "2021-07-19T07:47:12.659Z"
   },
   {
    "duration": 8,
    "start_time": "2021-07-19T07:47:13.640Z"
   },
   {
    "duration": 554,
    "start_time": "2021-07-19T07:47:15.520Z"
   },
   {
    "duration": 6,
    "start_time": "2021-07-19T07:48:39.658Z"
   },
   {
    "duration": 8,
    "start_time": "2021-07-19T07:48:40.590Z"
   },
   {
    "duration": 632,
    "start_time": "2021-07-19T07:48:41.459Z"
   },
   {
    "duration": 6,
    "start_time": "2021-07-19T07:48:53.381Z"
   },
   {
    "duration": 8,
    "start_time": "2021-07-19T07:48:54.230Z"
   },
   {
    "duration": 533,
    "start_time": "2021-07-19T07:48:55.733Z"
   },
   {
    "duration": 6,
    "start_time": "2021-07-19T07:49:16.067Z"
   },
   {
    "duration": 8,
    "start_time": "2021-07-19T07:49:16.637Z"
   },
   {
    "duration": 3218,
    "start_time": "2021-07-19T07:49:17.563Z"
   },
   {
    "duration": 6,
    "start_time": "2021-07-19T07:52:19.742Z"
   },
   {
    "duration": 8,
    "start_time": "2021-07-19T07:52:21.934Z"
   },
   {
    "duration": 3055,
    "start_time": "2021-07-19T07:52:23.212Z"
   },
   {
    "duration": 6,
    "start_time": "2021-07-19T07:53:08.226Z"
   },
   {
    "duration": 8,
    "start_time": "2021-07-19T07:53:09.754Z"
   },
   {
    "duration": 3052,
    "start_time": "2021-07-19T07:53:10.390Z"
   },
   {
    "duration": 94,
    "start_time": "2021-07-19T07:55:41.644Z"
   },
   {
    "duration": 6,
    "start_time": "2021-07-19T07:56:13.143Z"
   },
   {
    "duration": 9,
    "start_time": "2021-07-19T07:56:14.528Z"
   },
   {
    "duration": 4438,
    "start_time": "2021-07-19T07:56:15.585Z"
   },
   {
    "duration": 7,
    "start_time": "2021-07-19T07:59:30.940Z"
   },
   {
    "duration": 8,
    "start_time": "2021-07-19T07:59:33.493Z"
   },
   {
    "duration": 2239,
    "start_time": "2021-07-19T07:59:35.464Z"
   },
   {
    "duration": 2260,
    "start_time": "2021-07-19T07:59:47.620Z"
   },
   {
    "duration": 2500,
    "start_time": "2021-07-19T07:59:49.882Z"
   },
   {
    "duration": 2362,
    "start_time": "2021-07-19T07:59:54.126Z"
   },
   {
    "duration": 6,
    "start_time": "2021-07-19T08:08:44.972Z"
   },
   {
    "duration": 2256,
    "start_time": "2021-07-19T08:08:47.576Z"
   },
   {
    "duration": 5,
    "start_time": "2021-07-19T08:10:01.359Z"
   },
   {
    "duration": 1957,
    "start_time": "2021-07-19T08:10:04.666Z"
   },
   {
    "duration": 6,
    "start_time": "2021-07-19T08:10:47.994Z"
   },
   {
    "duration": 2311,
    "start_time": "2021-07-19T08:10:50.553Z"
   },
   {
    "duration": 95,
    "start_time": "2021-07-19T08:11:36.172Z"
   },
   {
    "duration": 5,
    "start_time": "2021-07-19T08:11:41.537Z"
   },
   {
    "duration": 1937,
    "start_time": "2021-07-19T08:11:44.794Z"
   },
   {
    "duration": 9,
    "start_time": "2021-07-19T08:13:04.785Z"
   },
   {
    "duration": 8,
    "start_time": "2021-07-19T08:13:13.916Z"
   },
   {
    "duration": 284,
    "start_time": "2021-07-19T08:13:51.609Z"
   },
   {
    "duration": 6,
    "start_time": "2021-07-19T08:14:00.990Z"
   },
   {
    "duration": 6,
    "start_time": "2021-07-19T08:14:16.031Z"
   },
   {
    "duration": 8,
    "start_time": "2021-07-19T08:15:03.058Z"
   },
   {
    "duration": 269,
    "start_time": "2021-07-19T08:17:21.757Z"
   },
   {
    "duration": 2047,
    "start_time": "2021-07-19T08:17:28.561Z"
   },
   {
    "duration": 1126,
    "start_time": "2021-07-19T08:26:17.838Z"
   },
   {
    "duration": 1105,
    "start_time": "2021-07-19T08:26:49.798Z"
   },
   {
    "duration": 275,
    "start_time": "2021-07-19T08:29:33.109Z"
   },
   {
    "duration": 6,
    "start_time": "2021-07-19T08:29:37.974Z"
   },
   {
    "duration": 7,
    "start_time": "2021-07-19T08:30:23.753Z"
   },
   {
    "duration": 8,
    "start_time": "2021-07-19T08:31:24.834Z"
   },
   {
    "duration": 6,
    "start_time": "2021-07-19T08:31:41.256Z"
   },
   {
    "duration": 5,
    "start_time": "2021-07-19T08:37:10.300Z"
   },
   {
    "duration": 1620,
    "start_time": "2021-07-19T08:37:14.621Z"
   },
   {
    "duration": 6,
    "start_time": "2021-07-19T08:37:34.447Z"
   },
   {
    "duration": 1681,
    "start_time": "2021-07-19T08:37:40.304Z"
   },
   {
    "duration": 5,
    "start_time": "2021-07-19T08:38:19.448Z"
   },
   {
    "duration": 1662,
    "start_time": "2021-07-19T08:38:23.402Z"
   },
   {
    "duration": 6,
    "start_time": "2021-07-19T08:39:03.801Z"
   },
   {
    "duration": 6,
    "start_time": "2021-07-19T08:47:58.340Z"
   },
   {
    "duration": 2956,
    "start_time": "2021-07-19T08:48:02.642Z"
   },
   {
    "duration": 6,
    "start_time": "2021-07-19T08:48:36.647Z"
   },
   {
    "duration": 2896,
    "start_time": "2021-07-19T08:48:42.373Z"
   },
   {
    "duration": 3082,
    "start_time": "2021-07-19T08:48:47.593Z"
   },
   {
    "duration": 2980,
    "start_time": "2021-07-19T08:48:52.039Z"
   },
   {
    "duration": 6,
    "start_time": "2021-07-19T08:49:34.434Z"
   },
   {
    "duration": 3097,
    "start_time": "2021-07-19T08:49:40.005Z"
   },
   {
    "duration": 6,
    "start_time": "2021-07-19T08:50:12.447Z"
   },
   {
    "duration": 2955,
    "start_time": "2021-07-19T08:50:15.355Z"
   },
   {
    "duration": 6,
    "start_time": "2021-07-19T08:50:43.643Z"
   },
   {
    "duration": 3068,
    "start_time": "2021-07-19T08:50:46.507Z"
   },
   {
    "duration": 2980,
    "start_time": "2021-07-19T08:50:54.420Z"
   },
   {
    "duration": 2907,
    "start_time": "2021-07-19T08:51:00.424Z"
   },
   {
    "duration": 4,
    "start_time": "2021-07-19T09:04:36.512Z"
   },
   {
    "duration": 356,
    "start_time": "2021-07-19T09:04:36.850Z"
   },
   {
    "duration": 8,
    "start_time": "2021-07-19T09:04:40.531Z"
   },
   {
    "duration": 2,
    "start_time": "2021-07-19T09:04:41.348Z"
   },
   {
    "duration": 4,
    "start_time": "2021-07-19T09:04:42.248Z"
   },
   {
    "duration": 377,
    "start_time": "2021-07-19T09:04:43.068Z"
   },
   {
    "duration": 8,
    "start_time": "2021-07-19T09:04:44.949Z"
   },
   {
    "duration": 8,
    "start_time": "2021-07-19T09:04:56.669Z"
   },
   {
    "duration": 92,
    "start_time": "2021-07-19T09:05:46.546Z"
   },
   {
    "duration": 324,
    "start_time": "2021-07-19T09:06:40.927Z"
   },
   {
    "duration": 9,
    "start_time": "2021-07-19T09:08:46.230Z"
   },
   {
    "duration": 8,
    "start_time": "2021-07-19T09:09:01.564Z"
   },
   {
    "duration": 5,
    "start_time": "2021-07-19T09:30:11.310Z"
   },
   {
    "duration": 1646,
    "start_time": "2021-07-19T09:30:14.827Z"
   },
   {
    "duration": 1586,
    "start_time": "2021-07-19T09:30:32.106Z"
   },
   {
    "duration": 6,
    "start_time": "2021-07-19T09:31:42.045Z"
   },
   {
    "duration": 2900,
    "start_time": "2021-07-19T09:31:45.991Z"
   },
   {
    "duration": 8,
    "start_time": "2021-07-19T09:32:16.824Z"
   },
   {
    "duration": 2932,
    "start_time": "2021-07-19T09:32:21.149Z"
   },
   {
    "duration": 1196,
    "start_time": "2021-07-19T09:33:03.046Z"
   },
   {
    "duration": 1090,
    "start_time": "2021-07-19T09:33:16.358Z"
   },
   {
    "duration": 3,
    "start_time": "2021-07-19T10:47:36.977Z"
   },
   {
    "duration": 698,
    "start_time": "2021-07-19T10:47:38.010Z"
   },
   {
    "duration": 4,
    "start_time": "2021-07-19T10:48:01.624Z"
   },
   {
    "duration": 8,
    "start_time": "2021-07-19T10:48:02.969Z"
   },
   {
    "duration": 8,
    "start_time": "2021-07-19T10:48:35.621Z"
   },
   {
    "duration": 8,
    "start_time": "2021-07-19T10:48:37.291Z"
   },
   {
    "duration": 5,
    "start_time": "2021-07-19T10:49:50.993Z"
   },
   {
    "duration": 2410,
    "start_time": "2021-07-19T10:49:52.611Z"
   },
   {
    "duration": 5,
    "start_time": "2021-07-19T10:50:07.750Z"
   },
   {
    "duration": 2308,
    "start_time": "2021-07-19T10:50:08.458Z"
   },
   {
    "duration": 2291,
    "start_time": "2021-07-19T10:50:29.713Z"
   },
   {
    "duration": 2456,
    "start_time": "2021-07-19T10:50:40.713Z"
   },
   {
    "duration": 4,
    "start_time": "2021-07-19T10:51:16.019Z"
   },
   {
    "duration": 9,
    "start_time": "2021-07-19T10:51:17.019Z"
   },
   {
    "duration": 9,
    "start_time": "2021-07-19T10:51:17.955Z"
   },
   {
    "duration": 10,
    "start_time": "2021-07-19T10:51:20.540Z"
   },
   {
    "duration": 5,
    "start_time": "2021-07-19T10:51:25.163Z"
   },
   {
    "duration": 2298,
    "start_time": "2021-07-19T10:51:27.307Z"
   },
   {
    "duration": 2456,
    "start_time": "2021-07-19T10:51:55.541Z"
   },
   {
    "duration": 2394,
    "start_time": "2021-07-19T10:52:08.951Z"
   },
   {
    "duration": 4,
    "start_time": "2021-07-19T10:54:02.555Z"
   },
   {
    "duration": 10,
    "start_time": "2021-07-19T10:54:03.669Z"
   },
   {
    "duration": 10,
    "start_time": "2021-07-19T10:54:14.592Z"
   },
   {
    "duration": 10,
    "start_time": "2021-07-19T10:54:15.922Z"
   },
   {
    "duration": 5,
    "start_time": "2021-07-19T10:54:54.262Z"
   },
   {
    "duration": 3069,
    "start_time": "2021-07-19T10:54:55.531Z"
   },
   {
    "duration": 9,
    "start_time": "2021-07-19T10:56:10.097Z"
   },
   {
    "duration": 10,
    "start_time": "2021-07-19T10:56:14.892Z"
   },
   {
    "duration": 11,
    "start_time": "2021-07-19T10:56:43.336Z"
   },
   {
    "duration": 9,
    "start_time": "2021-07-19T10:57:10.841Z"
   },
   {
    "duration": 11,
    "start_time": "2021-07-19T10:57:29.681Z"
   },
   {
    "duration": 10,
    "start_time": "2021-07-19T10:57:48.208Z"
   },
   {
    "duration": 13,
    "start_time": "2021-07-19T10:59:25.146Z"
   },
   {
    "duration": 13,
    "start_time": "2021-07-19T10:59:33.975Z"
   },
   {
    "duration": 15,
    "start_time": "2021-07-19T10:59:40.463Z"
   },
   {
    "duration": 282,
    "start_time": "2021-07-19T11:01:52.253Z"
   },
   {
    "duration": 269,
    "start_time": "2021-07-19T11:02:14.858Z"
   },
   {
    "duration": 281,
    "start_time": "2021-07-19T11:02:21.968Z"
   },
   {
    "duration": 289,
    "start_time": "2021-07-19T11:02:55.584Z"
   },
   {
    "duration": 1043,
    "start_time": "2021-07-19T11:07:58.088Z"
   },
   {
    "duration": 362,
    "start_time": "2021-07-19T11:08:00.537Z"
   },
   {
    "duration": 6,
    "start_time": "2021-07-19T11:08:09.232Z"
   },
   {
    "duration": 3,
    "start_time": "2021-07-19T11:08:10.384Z"
   },
   {
    "duration": 6,
    "start_time": "2021-07-19T11:08:11.372Z"
   },
   {
    "duration": 377,
    "start_time": "2021-07-19T11:08:12.574Z"
   },
   {
    "duration": 10,
    "start_time": "2021-07-19T11:08:16.254Z"
   },
   {
    "duration": 9,
    "start_time": "2021-07-19T11:08:16.708Z"
   },
   {
    "duration": 3,
    "start_time": "2021-07-19T11:08:27.835Z"
   },
   {
    "duration": 4,
    "start_time": "2021-07-19T11:08:33.608Z"
   },
   {
    "duration": 85,
    "start_time": "2021-07-19T11:08:34.313Z"
   },
   {
    "duration": 6,
    "start_time": "2021-07-19T11:08:41.362Z"
   },
   {
    "duration": 3009,
    "start_time": "2021-07-19T11:08:44.517Z"
   },
   {
    "duration": 3186,
    "start_time": "2021-07-19T11:08:56.571Z"
   },
   {
    "duration": 3056,
    "start_time": "2021-07-19T11:09:01.633Z"
   },
   {
    "duration": 1080,
    "start_time": "2021-07-19T11:09:37.170Z"
   },
   {
    "duration": 1155,
    "start_time": "2021-07-19T11:09:52.394Z"
   },
   {
    "duration": 1113,
    "start_time": "2021-07-19T11:10:03.401Z"
   },
   {
    "duration": 6,
    "start_time": "2021-07-19T11:26:22.161Z"
   },
   {
    "duration": 639,
    "start_time": "2021-07-19T11:26:23.320Z"
   },
   {
    "duration": 6,
    "start_time": "2021-07-19T11:27:11.897Z"
   },
   {
    "duration": 3767,
    "start_time": "2021-07-19T11:27:14.559Z"
   },
   {
    "duration": 6,
    "start_time": "2021-07-19T11:27:39.051Z"
   },
   {
    "duration": 2934,
    "start_time": "2021-07-19T11:27:40.069Z"
   },
   {
    "duration": 1204,
    "start_time": "2021-07-19T11:51:43.516Z"
   },
   {
    "duration": 350,
    "start_time": "2021-07-19T11:51:44.721Z"
   },
   {
    "duration": 21,
    "start_time": "2021-07-19T11:51:45.073Z"
   },
   {
    "duration": 9,
    "start_time": "2021-07-19T11:51:45.096Z"
   },
   {
    "duration": 9,
    "start_time": "2021-07-19T11:51:45.107Z"
   },
   {
    "duration": 28,
    "start_time": "2021-07-19T11:51:45.117Z"
   },
   {
    "duration": 34,
    "start_time": "2021-07-19T11:51:45.147Z"
   },
   {
    "duration": 34,
    "start_time": "2021-07-19T11:51:45.184Z"
   },
   {
    "duration": 33,
    "start_time": "2021-07-19T11:51:45.240Z"
   },
   {
    "duration": 136,
    "start_time": "2021-07-19T11:51:45.274Z"
   },
   {
    "duration": 245,
    "start_time": "2021-07-19T11:51:45.412Z"
   },
   {
    "duration": 355,
    "start_time": "2021-07-19T11:51:45.659Z"
   },
   {
    "duration": 343,
    "start_time": "2021-07-19T11:51:46.017Z"
   },
   {
    "duration": 5,
    "start_time": "2021-07-19T11:51:46.362Z"
   },
   {
    "duration": 7,
    "start_time": "2021-07-19T11:51:46.369Z"
   },
   {
    "duration": 6,
    "start_time": "2021-07-19T11:51:46.378Z"
   },
   {
    "duration": 362,
    "start_time": "2021-07-19T11:51:46.385Z"
   },
   {
    "duration": 93,
    "start_time": "2021-07-19T11:51:46.749Z"
   },
   {
    "duration": 97,
    "start_time": "2021-07-19T11:51:46.845Z"
   },
   {
    "duration": 10,
    "start_time": "2021-07-19T11:51:46.944Z"
   },
   {
    "duration": 29,
    "start_time": "2021-07-19T11:51:46.955Z"
   },
   {
    "duration": 9,
    "start_time": "2021-07-19T11:51:46.986Z"
   },
   {
    "duration": 12,
    "start_time": "2021-07-19T11:51:46.998Z"
   },
   {
    "duration": 30,
    "start_time": "2021-07-19T11:51:47.012Z"
   },
   {
    "duration": 4,
    "start_time": "2021-07-19T11:51:47.043Z"
   },
   {
    "duration": 87,
    "start_time": "2021-07-19T11:51:47.049Z"
   },
   {
    "duration": 5,
    "start_time": "2021-07-19T11:51:47.141Z"
   },
   {
    "duration": 2958,
    "start_time": "2021-07-19T11:51:47.148Z"
   },
   {
    "duration": 3016,
    "start_time": "2021-07-19T11:51:50.108Z"
   },
   {
    "duration": 3049,
    "start_time": "2021-07-19T11:51:53.126Z"
   },
   {
    "duration": 1368,
    "start_time": "2021-07-19T11:51:56.177Z"
   },
   {
    "duration": 1122,
    "start_time": "2021-07-19T12:07:35.293Z"
   },
   {
    "duration": 353,
    "start_time": "2021-07-19T12:07:36.417Z"
   },
   {
    "duration": 22,
    "start_time": "2021-07-19T12:07:36.772Z"
   },
   {
    "duration": 10,
    "start_time": "2021-07-19T12:07:36.796Z"
   },
   {
    "duration": 33,
    "start_time": "2021-07-19T12:07:36.808Z"
   },
   {
    "duration": 9,
    "start_time": "2021-07-19T12:07:36.843Z"
   },
   {
    "duration": 35,
    "start_time": "2021-07-19T12:07:36.854Z"
   },
   {
    "duration": 53,
    "start_time": "2021-07-19T12:07:36.891Z"
   },
   {
    "duration": 32,
    "start_time": "2021-07-19T12:07:36.947Z"
   },
   {
    "duration": 125,
    "start_time": "2021-07-19T12:07:36.981Z"
   },
   {
    "duration": 215,
    "start_time": "2021-07-19T12:07:37.108Z"
   },
   {
    "duration": 208,
    "start_time": "2021-07-19T12:07:37.325Z"
   },
   {
    "duration": 197,
    "start_time": "2021-07-19T12:07:37.534Z"
   },
   {
    "duration": 11,
    "start_time": "2021-07-19T12:07:37.733Z"
   },
   {
    "duration": 11,
    "start_time": "2021-07-19T12:07:37.745Z"
   },
   {
    "duration": 10,
    "start_time": "2021-07-19T12:07:37.758Z"
   },
   {
    "duration": 379,
    "start_time": "2021-07-19T12:07:37.769Z"
   },
   {
    "duration": 96,
    "start_time": "2021-07-19T12:07:38.150Z"
   },
   {
    "duration": 105,
    "start_time": "2021-07-19T12:07:38.248Z"
   },
   {
    "duration": 14,
    "start_time": "2021-07-19T12:07:38.355Z"
   },
   {
    "duration": 13,
    "start_time": "2021-07-19T12:07:38.371Z"
   },
   {
    "duration": 17,
    "start_time": "2021-07-19T12:07:38.386Z"
   },
   {
    "duration": 23,
    "start_time": "2021-07-19T12:07:38.405Z"
   },
   {
    "duration": 4,
    "start_time": "2021-07-19T12:07:38.429Z"
   },
   {
    "duration": 87,
    "start_time": "2021-07-19T12:07:38.435Z"
   },
   {
    "duration": 6,
    "start_time": "2021-07-19T12:07:38.523Z"
   },
   {
    "duration": 2984,
    "start_time": "2021-07-19T12:07:38.532Z"
   },
   {
    "duration": 3010,
    "start_time": "2021-07-19T12:07:41.518Z"
   },
   {
    "duration": 3253,
    "start_time": "2021-07-19T12:07:44.530Z"
   },
   {
    "duration": 1247,
    "start_time": "2021-07-19T12:07:47.785Z"
   },
   {
    "duration": 1072,
    "start_time": "2021-07-19T21:28:21.396Z"
   },
   {
    "duration": 357,
    "start_time": "2021-07-19T21:28:22.972Z"
   },
   {
    "duration": 22,
    "start_time": "2021-07-19T21:28:23.552Z"
   },
   {
    "duration": 8,
    "start_time": "2021-07-19T21:28:42.364Z"
   },
   {
    "duration": 16,
    "start_time": "2021-07-19T21:28:44.484Z"
   },
   {
    "duration": 4,
    "start_time": "2021-07-19T21:30:23.112Z"
   },
   {
    "duration": 428,
    "start_time": "2021-07-19T21:30:24.192Z"
   },
   {
    "duration": 2,
    "start_time": "2021-07-19T21:30:43.982Z"
   },
   {
    "duration": 4,
    "start_time": "2021-07-19T21:30:45.469Z"
   },
   {
    "duration": 371,
    "start_time": "2021-07-19T21:30:46.240Z"
   },
   {
    "duration": 9,
    "start_time": "2021-07-19T21:30:48.181Z"
   },
   {
    "duration": 5,
    "start_time": "2021-07-19T21:31:10.456Z"
   },
   {
    "duration": 365,
    "start_time": "2021-07-19T21:31:10.951Z"
   },
   {
    "duration": 8,
    "start_time": "2021-07-19T21:31:16.367Z"
   },
   {
    "duration": 1561,
    "start_time": "2021-07-20T01:52:57.640Z"
   },
   {
    "duration": 432,
    "start_time": "2021-07-20T01:52:59.204Z"
   },
   {
    "duration": 9,
    "start_time": "2021-07-20T01:53:06.497Z"
   },
   {
    "duration": 561,
    "start_time": "2021-07-20T01:53:07.415Z"
   },
   {
    "duration": 432,
    "start_time": "2021-07-20T01:53:18.371Z"
   },
   {
    "duration": 17,
    "start_time": "2021-07-20T01:53:20.077Z"
   },
   {
    "duration": 4,
    "start_time": "2021-07-20T01:53:30.006Z"
   },
   {
    "duration": 5,
    "start_time": "2021-07-20T01:53:31.619Z"
   },
   {
    "duration": 11,
    "start_time": "2021-07-20T01:53:31.988Z"
   },
   {
    "duration": 29,
    "start_time": "2021-07-20T01:53:32.551Z"
   },
   {
    "duration": 6,
    "start_time": "2021-07-20T01:53:35.886Z"
   },
   {
    "duration": 105,
    "start_time": "2021-07-20T01:53:40.760Z"
   },
   {
    "duration": 7,
    "start_time": "2021-07-20T01:53:50.008Z"
   },
   {
    "duration": 107,
    "start_time": "2021-07-20T01:53:50.931Z"
   },
   {
    "duration": 9,
    "start_time": "2021-07-20T02:02:34.392Z"
   },
   {
    "duration": 4796,
    "start_time": "2021-07-20T02:02:35.641Z"
   },
   {
    "duration": 4926,
    "start_time": "2021-07-20T02:03:12.867Z"
   },
   {
    "duration": 4807,
    "start_time": "2021-07-20T02:03:18.906Z"
   },
   {
    "duration": 105,
    "start_time": "2021-07-20T02:47:15.514Z"
   },
   {
    "duration": 5,
    "start_time": "2021-07-20T02:53:53.156Z"
   },
   {
    "duration": 100,
    "start_time": "2021-07-20T02:53:54.095Z"
   },
   {
    "duration": 6,
    "start_time": "2021-07-20T03:22:22.084Z"
   },
   {
    "duration": 475,
    "start_time": "2021-07-20T03:22:22.401Z"
   },
   {
    "duration": 7,
    "start_time": "2021-07-20T03:22:30.100Z"
   },
   {
    "duration": 430,
    "start_time": "2021-07-20T03:22:30.568Z"
   },
   {
    "duration": 12,
    "start_time": "2021-07-20T03:22:31.464Z"
   },
   {
    "duration": 12,
    "start_time": "2021-07-20T03:22:35.960Z"
   },
   {
    "duration": 4,
    "start_time": "2021-07-20T03:22:37.511Z"
   },
   {
    "duration": 4,
    "start_time": "2021-07-20T03:22:38.542Z"
   },
   {
    "duration": 9,
    "start_time": "2021-07-20T03:22:38.781Z"
   },
   {
    "duration": 24,
    "start_time": "2021-07-20T03:22:39.194Z"
   },
   {
    "duration": 7,
    "start_time": "2021-07-20T03:22:40.581Z"
   },
   {
    "duration": 101,
    "start_time": "2021-07-20T03:22:41.452Z"
   },
   {
    "duration": 131,
    "start_time": "2021-07-20T03:22:43.702Z"
   },
   {
    "duration": 134,
    "start_time": "2021-07-20T03:23:04.226Z"
   },
   {
    "duration": 112,
    "start_time": "2021-07-20T03:23:09.931Z"
   },
   {
    "duration": 4,
    "start_time": "2021-07-20T03:23:39.296Z"
   },
   {
    "duration": 615,
    "start_time": "2021-07-20T03:23:40.504Z"
   },
   {
    "duration": 4,
    "start_time": "2021-07-20T03:24:16.021Z"
   },
   {
    "duration": 23,
    "start_time": "2021-07-20T03:24:16.926Z"
   },
   {
    "duration": 1475,
    "start_time": "2021-07-20T03:24:33.523Z"
   },
   {
    "duration": 465,
    "start_time": "2021-07-20T03:24:35.000Z"
   },
   {
    "duration": 37,
    "start_time": "2021-07-20T03:24:35.469Z"
   },
   {
    "duration": 15,
    "start_time": "2021-07-20T03:24:35.509Z"
   },
   {
    "duration": 13,
    "start_time": "2021-07-20T03:24:35.527Z"
   },
   {
    "duration": 51,
    "start_time": "2021-07-20T03:24:35.542Z"
   },
   {
    "duration": 49,
    "start_time": "2021-07-20T03:24:35.596Z"
   },
   {
    "duration": 69,
    "start_time": "2021-07-20T03:24:35.649Z"
   },
   {
    "duration": 64,
    "start_time": "2021-07-20T03:24:35.721Z"
   },
   {
    "duration": 199,
    "start_time": "2021-07-20T03:24:35.787Z"
   },
   {
    "duration": 352,
    "start_time": "2021-07-20T03:24:35.988Z"
   },
   {
    "duration": 351,
    "start_time": "2021-07-20T03:24:36.342Z"
   },
   {
    "duration": 329,
    "start_time": "2021-07-20T03:24:36.696Z"
   },
   {
    "duration": 3,
    "start_time": "2021-07-20T03:24:37.027Z"
   },
   {
    "duration": 9,
    "start_time": "2021-07-20T03:24:37.033Z"
   },
   {
    "duration": 462,
    "start_time": "2021-07-20T03:24:37.045Z"
   },
   {
    "duration": 104,
    "start_time": "2021-07-20T03:24:37.585Z"
   },
   {
    "duration": 12,
    "start_time": "2021-07-20T03:24:37.691Z"
   },
   {
    "duration": 9,
    "start_time": "2021-07-20T03:24:37.705Z"
   },
   {
    "duration": 15,
    "start_time": "2021-07-20T03:24:37.717Z"
   },
   {
    "duration": 11,
    "start_time": "2021-07-20T03:24:37.734Z"
   },
   {
    "duration": 63,
    "start_time": "2021-07-20T03:24:37.747Z"
   },
   {
    "duration": 6,
    "start_time": "2021-07-20T03:24:37.815Z"
   },
   {
    "duration": 127,
    "start_time": "2021-07-20T03:24:37.824Z"
   },
   {
    "duration": 4,
    "start_time": "2021-07-20T03:24:37.954Z"
   },
   {
    "duration": 39,
    "start_time": "2021-07-20T03:24:37.960Z"
   },
   {
    "duration": 9,
    "start_time": "2021-07-20T03:24:38.002Z"
   },
   {
    "duration": 4836,
    "start_time": "2021-07-20T03:24:38.013Z"
   },
   {
    "duration": 5007,
    "start_time": "2021-07-20T03:24:42.851Z"
   },
   {
    "duration": 4782,
    "start_time": "2021-07-20T03:24:47.860Z"
   },
   {
    "duration": 4761,
    "start_time": "2021-07-20T03:24:52.644Z"
   },
   {
    "duration": 5322,
    "start_time": "2021-07-20T03:24:57.408Z"
   },
   {
    "duration": 5091,
    "start_time": "2021-07-20T03:25:02.733Z"
   },
   {
    "duration": 2051,
    "start_time": "2021-07-20T03:25:07.827Z"
   },
   {
    "duration": 11,
    "start_time": "2021-07-20T03:27:18.963Z"
   },
   {
    "duration": 11,
    "start_time": "2021-07-20T03:27:32.892Z"
   },
   {
    "duration": 5,
    "start_time": "2021-07-20T03:28:06.657Z"
   },
   {
    "duration": 21,
    "start_time": "2021-07-20T03:28:07.612Z"
   },
   {
    "duration": 12,
    "start_time": "2021-07-20T03:28:23.344Z"
   },
   {
    "duration": 10,
    "start_time": "2021-07-20T03:28:33.048Z"
   },
   {
    "duration": 5,
    "start_time": "2021-07-20T03:29:26.365Z"
   },
   {
    "duration": 20,
    "start_time": "2021-07-20T03:29:27.513Z"
   },
   {
    "duration": 5,
    "start_time": "2021-07-20T03:31:59.017Z"
   },
   {
    "duration": 9,
    "start_time": "2021-07-20T03:32:07.594Z"
   },
   {
    "duration": 6,
    "start_time": "2021-07-20T03:32:32.564Z"
   },
   {
    "duration": 11,
    "start_time": "2021-07-20T03:32:38.934Z"
   },
   {
    "duration": 9,
    "start_time": "2021-07-20T03:32:54.252Z"
   },
   {
    "duration": 10,
    "start_time": "2021-07-20T03:33:35.595Z"
   },
   {
    "duration": 12,
    "start_time": "2021-07-20T03:33:41.943Z"
   },
   {
    "duration": 13,
    "start_time": "2021-07-20T03:33:57.831Z"
   },
   {
    "duration": 12,
    "start_time": "2021-07-20T03:34:05.805Z"
   },
   {
    "duration": 11,
    "start_time": "2021-07-20T03:34:08.412Z"
   },
   {
    "duration": 12,
    "start_time": "2021-07-20T03:34:51.474Z"
   },
   {
    "duration": 12,
    "start_time": "2021-07-20T03:35:03.495Z"
   },
   {
    "duration": 22,
    "start_time": "2021-07-20T03:35:50.244Z"
   },
   {
    "duration": 5,
    "start_time": "2021-07-20T03:49:04.204Z"
   },
   {
    "duration": 453,
    "start_time": "2021-07-20T03:49:05.101Z"
   },
   {
    "duration": 716,
    "start_time": "2021-07-20T03:49:37.172Z"
   },
   {
    "duration": 5,
    "start_time": "2021-07-20T03:49:44.399Z"
   },
   {
    "duration": 701,
    "start_time": "2021-07-20T03:49:45.377Z"
   },
   {
    "duration": 5,
    "start_time": "2021-07-20T03:50:02.827Z"
   },
   {
    "duration": 20,
    "start_time": "2021-07-20T03:50:03.665Z"
   },
   {
    "duration": 5,
    "start_time": "2021-07-20T03:50:35.418Z"
   },
   {
    "duration": 9,
    "start_time": "2021-07-20T03:50:42.409Z"
   },
   {
    "duration": 12,
    "start_time": "2021-07-20T03:51:00.744Z"
   },
   {
    "duration": 10,
    "start_time": "2021-07-20T03:51:11.223Z"
   },
   {
    "duration": 9,
    "start_time": "2021-07-20T03:51:20.563Z"
   },
   {
    "duration": 11,
    "start_time": "2021-07-20T03:51:25.352Z"
   },
   {
    "duration": 5,
    "start_time": "2021-07-20T03:51:35.249Z"
   },
   {
    "duration": 19,
    "start_time": "2021-07-20T03:51:36.504Z"
   },
   {
    "duration": 6,
    "start_time": "2021-07-20T03:52:22.754Z"
   },
   {
    "duration": 18,
    "start_time": "2021-07-20T03:52:23.801Z"
   },
   {
    "duration": 11,
    "start_time": "2021-07-20T03:52:56.699Z"
   },
   {
    "duration": 10,
    "start_time": "2021-07-20T03:53:19.558Z"
   },
   {
    "duration": 13,
    "start_time": "2021-07-20T03:53:26.670Z"
   },
   {
    "duration": 11,
    "start_time": "2021-07-20T03:53:36.204Z"
   },
   {
    "duration": 9,
    "start_time": "2021-07-20T03:55:35.438Z"
   },
   {
    "duration": 656,
    "start_time": "2021-07-20T03:55:36.920Z"
   },
   {
    "duration": 9,
    "start_time": "2021-07-20T03:56:09.495Z"
   },
   {
    "duration": 3983,
    "start_time": "2021-07-20T03:56:10.458Z"
   },
   {
    "duration": 9,
    "start_time": "2021-07-20T03:56:37.245Z"
   },
   {
    "duration": 4873,
    "start_time": "2021-07-20T03:56:38.348Z"
   },
   {
    "duration": 5,
    "start_time": "2021-07-20T03:58:22.081Z"
   },
   {
    "duration": 20,
    "start_time": "2021-07-20T03:58:23.076Z"
   },
   {
    "duration": 11,
    "start_time": "2021-07-20T03:58:56.064Z"
   },
   {
    "duration": 11,
    "start_time": "2021-07-20T03:59:07.139Z"
   },
   {
    "duration": 12,
    "start_time": "2021-07-20T03:59:17.546Z"
   },
   {
    "duration": 12,
    "start_time": "2021-07-20T03:59:32.677Z"
   },
   {
    "duration": 5,
    "start_time": "2021-07-20T04:01:01.017Z"
   },
   {
    "duration": 694,
    "start_time": "2021-07-20T04:01:02.953Z"
   },
   {
    "duration": 5,
    "start_time": "2021-07-20T04:01:11.503Z"
   },
   {
    "duration": 20,
    "start_time": "2021-07-20T04:01:12.714Z"
   },
   {
    "duration": 408,
    "start_time": "2021-07-20T04:01:44.361Z"
   },
   {
    "duration": 5,
    "start_time": "2021-07-20T04:01:53.527Z"
   },
   {
    "duration": 20,
    "start_time": "2021-07-20T04:01:54.428Z"
   },
   {
    "duration": 130,
    "start_time": "2021-07-20T04:03:20.327Z"
   },
   {
    "duration": 20,
    "start_time": "2021-07-20T04:03:52.974Z"
   },
   {
    "duration": 5,
    "start_time": "2021-07-20T04:05:24.448Z"
   },
   {
    "duration": 21,
    "start_time": "2021-07-20T04:05:25.565Z"
   },
   {
    "duration": 5,
    "start_time": "2021-07-20T04:06:47.037Z"
   },
   {
    "duration": 21,
    "start_time": "2021-07-20T04:06:47.446Z"
   },
   {
    "duration": 1475,
    "start_time": "2021-07-20T04:07:05.007Z"
   },
   {
    "duration": 433,
    "start_time": "2021-07-20T04:07:06.485Z"
   },
   {
    "duration": 34,
    "start_time": "2021-07-20T04:07:06.920Z"
   },
   {
    "duration": 34,
    "start_time": "2021-07-20T04:07:06.957Z"
   },
   {
    "duration": 29,
    "start_time": "2021-07-20T04:07:06.993Z"
   },
   {
    "duration": 12,
    "start_time": "2021-07-20T04:07:07.025Z"
   },
   {
    "duration": 71,
    "start_time": "2021-07-20T04:07:07.039Z"
   },
   {
    "duration": 47,
    "start_time": "2021-07-20T04:07:07.114Z"
   },
   {
    "duration": 64,
    "start_time": "2021-07-20T04:07:07.164Z"
   },
   {
    "duration": 195,
    "start_time": "2021-07-20T04:07:07.230Z"
   },
   {
    "duration": 419,
    "start_time": "2021-07-20T04:07:07.427Z"
   },
   {
    "duration": 424,
    "start_time": "2021-07-20T04:07:07.850Z"
   },
   {
    "duration": 339,
    "start_time": "2021-07-20T04:07:08.276Z"
   },
   {
    "duration": 3,
    "start_time": "2021-07-20T04:07:08.618Z"
   },
   {
    "duration": 26,
    "start_time": "2021-07-20T04:07:08.624Z"
   },
   {
    "duration": 445,
    "start_time": "2021-07-20T04:07:08.653Z"
   },
   {
    "duration": 184,
    "start_time": "2021-07-20T04:07:09.101Z"
   },
   {
    "duration": 22,
    "start_time": "2021-07-20T04:07:09.287Z"
   },
   {
    "duration": 31,
    "start_time": "2021-07-20T04:07:09.311Z"
   },
   {
    "duration": 25,
    "start_time": "2021-07-20T04:07:09.344Z"
   },
   {
    "duration": 24,
    "start_time": "2021-07-20T04:07:09.371Z"
   },
   {
    "duration": 44,
    "start_time": "2021-07-20T04:07:09.397Z"
   },
   {
    "duration": 6,
    "start_time": "2021-07-20T04:07:09.445Z"
   },
   {
    "duration": 122,
    "start_time": "2021-07-20T04:07:09.453Z"
   },
   {
    "duration": 5,
    "start_time": "2021-07-20T04:07:09.582Z"
   },
   {
    "duration": 30,
    "start_time": "2021-07-20T04:07:09.589Z"
   },
   {
    "duration": 9,
    "start_time": "2021-07-20T04:07:09.621Z"
   },
   {
    "duration": 5057,
    "start_time": "2021-07-20T04:07:09.632Z"
   },
   {
    "duration": 4998,
    "start_time": "2021-07-20T04:07:14.692Z"
   },
   {
    "duration": 4914,
    "start_time": "2021-07-20T04:07:19.692Z"
   },
   {
    "duration": 1937,
    "start_time": "2021-07-20T04:07:24.609Z"
   },
   {
    "duration": 5,
    "start_time": "2021-07-20T04:20:12.042Z"
   },
   {
    "duration": 22,
    "start_time": "2021-07-20T04:20:12.880Z"
   },
   {
    "duration": 20,
    "start_time": "2021-07-20T04:20:19.941Z"
   },
   {
    "duration": 1542,
    "start_time": "2021-07-20T04:20:29.566Z"
   },
   {
    "duration": 445,
    "start_time": "2021-07-20T04:20:31.110Z"
   },
   {
    "duration": 44,
    "start_time": "2021-07-20T04:20:31.558Z"
   },
   {
    "duration": 18,
    "start_time": "2021-07-20T04:20:31.605Z"
   },
   {
    "duration": 24,
    "start_time": "2021-07-20T04:20:31.626Z"
   },
   {
    "duration": 19,
    "start_time": "2021-07-20T04:20:31.682Z"
   },
   {
    "duration": 49,
    "start_time": "2021-07-20T04:20:31.703Z"
   },
   {
    "duration": 70,
    "start_time": "2021-07-20T04:20:31.756Z"
   },
   {
    "duration": 61,
    "start_time": "2021-07-20T04:20:31.830Z"
   },
   {
    "duration": 188,
    "start_time": "2021-07-20T04:20:31.894Z"
   },
   {
    "duration": 354,
    "start_time": "2021-07-20T04:20:32.084Z"
   },
   {
    "duration": 355,
    "start_time": "2021-07-20T04:20:32.441Z"
   },
   {
    "duration": 338,
    "start_time": "2021-07-20T04:20:32.799Z"
   },
   {
    "duration": 3,
    "start_time": "2021-07-20T04:20:33.139Z"
   },
   {
    "duration": 9,
    "start_time": "2021-07-20T04:20:33.146Z"
   },
   {
    "duration": 441,
    "start_time": "2021-07-20T04:20:33.158Z"
   },
   {
    "duration": 180,
    "start_time": "2021-07-20T04:20:33.603Z"
   },
   {
    "duration": 13,
    "start_time": "2021-07-20T04:20:33.785Z"
   },
   {
    "duration": 9,
    "start_time": "2021-07-20T04:20:33.800Z"
   },
   {
    "duration": 8,
    "start_time": "2021-07-20T04:20:33.811Z"
   },
   {
    "duration": 10,
    "start_time": "2021-07-20T04:20:33.821Z"
   },
   {
    "duration": 68,
    "start_time": "2021-07-20T04:20:33.833Z"
   },
   {
    "duration": 6,
    "start_time": "2021-07-20T04:20:33.907Z"
   },
   {
    "duration": 124,
    "start_time": "2021-07-20T04:20:33.917Z"
   },
   {
    "duration": 6,
    "start_time": "2021-07-20T04:20:34.044Z"
   },
   {
    "duration": 43,
    "start_time": "2021-07-20T04:20:34.053Z"
   },
   {
    "duration": 10,
    "start_time": "2021-07-20T04:20:34.100Z"
   },
   {
    "duration": 4965,
    "start_time": "2021-07-20T04:20:34.113Z"
   },
   {
    "duration": 4991,
    "start_time": "2021-07-20T04:20:39.084Z"
   },
   {
    "duration": 5002,
    "start_time": "2021-07-20T04:20:44.082Z"
   },
   {
    "duration": 1976,
    "start_time": "2021-07-20T04:20:49.087Z"
   },
   {
    "duration": 1565,
    "start_time": "2021-07-20T04:25:45.563Z"
   },
   {
    "duration": 463,
    "start_time": "2021-07-20T04:25:47.131Z"
   },
   {
    "duration": 34,
    "start_time": "2021-07-20T04:25:47.597Z"
   },
   {
    "duration": 13,
    "start_time": "2021-07-20T04:25:47.634Z"
   },
   {
    "duration": 44,
    "start_time": "2021-07-20T04:25:47.650Z"
   },
   {
    "duration": 13,
    "start_time": "2021-07-20T04:25:47.697Z"
   },
   {
    "duration": 81,
    "start_time": "2021-07-20T04:25:47.712Z"
   },
   {
    "duration": 48,
    "start_time": "2021-07-20T04:25:47.797Z"
   },
   {
    "duration": 64,
    "start_time": "2021-07-20T04:25:47.848Z"
   },
   {
    "duration": 197,
    "start_time": "2021-07-20T04:25:47.914Z"
   },
   {
    "duration": 359,
    "start_time": "2021-07-20T04:25:48.114Z"
   },
   {
    "duration": 348,
    "start_time": "2021-07-20T04:25:48.475Z"
   },
   {
    "duration": 342,
    "start_time": "2021-07-20T04:25:48.826Z"
   },
   {
    "duration": 12,
    "start_time": "2021-07-20T04:25:49.170Z"
   },
   {
    "duration": 15,
    "start_time": "2021-07-20T04:25:49.185Z"
   },
   {
    "duration": 396,
    "start_time": "2021-07-20T04:25:49.203Z"
   },
   {
    "duration": 104,
    "start_time": "2021-07-20T04:25:49.684Z"
   },
   {
    "duration": 13,
    "start_time": "2021-07-20T04:25:49.791Z"
   },
   {
    "duration": 9,
    "start_time": "2021-07-20T04:25:49.807Z"
   },
   {
    "duration": 9,
    "start_time": "2021-07-20T04:25:49.819Z"
   },
   {
    "duration": 11,
    "start_time": "2021-07-20T04:25:49.830Z"
   },
   {
    "duration": 64,
    "start_time": "2021-07-20T04:25:49.843Z"
   },
   {
    "duration": 7,
    "start_time": "2021-07-20T04:25:49.913Z"
   },
   {
    "duration": 129,
    "start_time": "2021-07-20T04:25:49.923Z"
   },
   {
    "duration": 5,
    "start_time": "2021-07-20T04:25:50.055Z"
   },
   {
    "duration": 35,
    "start_time": "2021-07-20T04:25:50.062Z"
   },
   {
    "duration": 9,
    "start_time": "2021-07-20T04:25:50.100Z"
   },
   {
    "duration": 5082,
    "start_time": "2021-07-20T04:25:50.111Z"
   },
   {
    "duration": 5114,
    "start_time": "2021-07-20T04:25:55.196Z"
   },
   {
    "duration": 4993,
    "start_time": "2021-07-20T04:26:00.313Z"
   },
   {
    "duration": 2007,
    "start_time": "2021-07-20T04:26:05.308Z"
   },
   {
    "duration": 1479,
    "start_time": "2021-07-20T10:22:52.134Z"
   },
   {
    "duration": 457,
    "start_time": "2021-07-20T10:22:53.616Z"
   },
   {
    "duration": 45,
    "start_time": "2021-07-20T10:22:54.076Z"
   },
   {
    "duration": 14,
    "start_time": "2021-07-20T10:22:54.124Z"
   },
   {
    "duration": 14,
    "start_time": "2021-07-20T10:22:54.141Z"
   },
   {
    "duration": 45,
    "start_time": "2021-07-20T10:22:54.158Z"
   },
   {
    "duration": 75,
    "start_time": "2021-07-20T10:22:54.206Z"
   },
   {
    "duration": 87,
    "start_time": "2021-07-20T10:22:54.286Z"
   },
   {
    "duration": 89,
    "start_time": "2021-07-20T10:22:54.377Z"
   },
   {
    "duration": 204,
    "start_time": "2021-07-20T10:22:54.470Z"
   },
   {
    "duration": 361,
    "start_time": "2021-07-20T10:22:54.677Z"
   },
   {
    "duration": 362,
    "start_time": "2021-07-20T10:22:55.041Z"
   },
   {
    "duration": 363,
    "start_time": "2021-07-20T10:22:55.407Z"
   },
   {
    "duration": 3,
    "start_time": "2021-07-20T10:22:56.220Z"
   },
   {
    "duration": 7,
    "start_time": "2021-07-20T10:22:56.582Z"
   },
   {
    "duration": 458,
    "start_time": "2021-07-20T10:22:56.746Z"
   },
   {
    "duration": 106,
    "start_time": "2021-07-20T10:22:57.208Z"
   },
   {
    "duration": 17,
    "start_time": "2021-07-20T10:22:58.535Z"
   },
   {
    "duration": 4,
    "start_time": "2021-07-20T10:22:59.452Z"
   },
   {
    "duration": 5,
    "start_time": "2021-07-20T10:22:59.831Z"
   },
   {
    "duration": 11,
    "start_time": "2021-07-20T10:23:00.000Z"
   },
   {
    "duration": 31,
    "start_time": "2021-07-20T10:23:00.360Z"
   },
   {
    "duration": 7,
    "start_time": "2021-07-20T10:23:01.465Z"
   },
   {
    "duration": 107,
    "start_time": "2021-07-20T10:23:01.650Z"
   },
   {
    "duration": 5,
    "start_time": "2021-07-20T10:23:02.729Z"
   },
   {
    "duration": 21,
    "start_time": "2021-07-20T10:23:02.901Z"
   },
   {
    "duration": 9,
    "start_time": "2021-07-20T10:23:04.125Z"
   },
   {
    "duration": 5226,
    "start_time": "2021-07-20T10:23:04.697Z"
   },
   {
    "duration": 5076,
    "start_time": "2021-07-20T10:23:09.926Z"
   },
   {
    "duration": 4926,
    "start_time": "2021-07-20T10:23:15.005Z"
   },
   {
    "duration": 4890,
    "start_time": "2021-07-20T10:23:19.934Z"
   },
   {
    "duration": 7,
    "start_time": "2021-07-20T10:23:24.827Z"
   },
   {
    "duration": 1533,
    "start_time": "2021-07-21T13:09:39.923Z"
   },
   {
    "duration": 456,
    "start_time": "2021-07-21T13:09:42.101Z"
   },
   {
    "duration": 34,
    "start_time": "2021-07-21T13:09:42.560Z"
   },
   {
    "duration": 17,
    "start_time": "2021-07-21T13:09:42.681Z"
   },
   {
    "duration": 16,
    "start_time": "2021-07-21T13:09:42.923Z"
   },
   {
    "duration": 19,
    "start_time": "2021-07-21T13:09:43.155Z"
   },
   {
    "duration": 57,
    "start_time": "2021-07-21T13:09:43.365Z"
   },
   {
    "duration": 54,
    "start_time": "2021-07-21T13:09:43.626Z"
   },
   {
    "duration": 48,
    "start_time": "2021-07-21T13:09:43.835Z"
   },
   {
    "duration": 190,
    "start_time": "2021-07-21T13:09:44.074Z"
   },
   {
    "duration": 361,
    "start_time": "2021-07-21T13:09:44.299Z"
   },
   {
    "duration": 372,
    "start_time": "2021-07-21T13:09:44.663Z"
   },
   {
    "duration": 376,
    "start_time": "2021-07-21T13:09:45.039Z"
   },
   {
    "duration": 3,
    "start_time": "2021-07-21T13:09:46.219Z"
   },
   {
    "duration": 8,
    "start_time": "2021-07-21T13:09:46.630Z"
   },
   {
    "duration": 514,
    "start_time": "2021-07-21T13:09:48.689Z"
   },
   {
    "duration": 426,
    "start_time": "2021-07-21T13:10:12.543Z"
   },
   {
    "duration": 12,
    "start_time": "2021-07-21T13:10:17.490Z"
   },
   {
    "duration": 11,
    "start_time": "2021-07-21T13:10:22.195Z"
   },
   {
    "duration": 4,
    "start_time": "2021-07-21T13:10:23.881Z"
   },
   {
    "duration": 5,
    "start_time": "2021-07-21T13:10:24.715Z"
   },
   {
    "duration": 11,
    "start_time": "2021-07-21T13:10:24.888Z"
   },
   {
    "duration": 30,
    "start_time": "2021-07-21T13:10:25.281Z"
   },
   {
    "duration": 7,
    "start_time": "2021-07-21T13:10:26.429Z"
   },
   {
    "duration": 106,
    "start_time": "2021-07-21T13:10:26.614Z"
   },
   {
    "duration": 5,
    "start_time": "2021-07-21T13:10:29.310Z"
   },
   {
    "duration": 22,
    "start_time": "2021-07-21T13:10:29.517Z"
   },
   {
    "duration": 9,
    "start_time": "2021-07-21T13:10:34.724Z"
   },
   {
    "duration": 5154,
    "start_time": "2021-07-21T13:10:35.866Z"
   },
   {
    "duration": 367,
    "start_time": "2021-07-21T13:11:16.104Z"
   },
   {
    "duration": 12,
    "start_time": "2021-07-21T13:11:17.493Z"
   },
   {
    "duration": 11,
    "start_time": "2021-07-21T13:11:20.841Z"
   },
   {
    "duration": 4,
    "start_time": "2021-07-21T13:11:21.448Z"
   },
   {
    "duration": 4,
    "start_time": "2021-07-21T13:11:21.790Z"
   },
   {
    "duration": 9,
    "start_time": "2021-07-21T13:11:21.958Z"
   },
   {
    "duration": 24,
    "start_time": "2021-07-21T13:11:22.366Z"
   },
   {
    "duration": 6,
    "start_time": "2021-07-21T13:11:23.460Z"
   },
   {
    "duration": 106,
    "start_time": "2021-07-21T13:11:23.639Z"
   },
   {
    "duration": 4,
    "start_time": "2021-07-21T13:11:25.244Z"
   },
   {
    "duration": 20,
    "start_time": "2021-07-21T13:11:25.434Z"
   },
   {
    "duration": 10,
    "start_time": "2021-07-21T13:11:26.668Z"
   },
   {
    "duration": 5304,
    "start_time": "2021-07-21T13:11:26.826Z"
   },
   {
    "duration": 5159,
    "start_time": "2021-07-21T13:11:32.133Z"
   },
   {
    "duration": 5402,
    "start_time": "2021-07-21T13:11:37.295Z"
   },
   {
    "duration": 2164,
    "start_time": "2021-07-21T13:11:42.700Z"
   },
   {
    "duration": 1558,
    "start_time": "2021-07-21T13:24:44.385Z"
   },
   {
    "duration": 447,
    "start_time": "2021-07-21T13:24:45.946Z"
   },
   {
    "duration": 34,
    "start_time": "2021-07-21T13:24:46.396Z"
   },
   {
    "duration": 27,
    "start_time": "2021-07-21T13:24:46.433Z"
   },
   {
    "duration": 16,
    "start_time": "2021-07-21T13:24:46.462Z"
   },
   {
    "duration": 23,
    "start_time": "2021-07-21T13:24:46.481Z"
   },
   {
    "duration": 76,
    "start_time": "2021-07-21T13:24:46.506Z"
   },
   {
    "duration": 48,
    "start_time": "2021-07-21T13:24:46.586Z"
   },
   {
    "duration": 62,
    "start_time": "2021-07-21T13:24:46.637Z"
   },
   {
    "duration": 223,
    "start_time": "2021-07-21T13:24:46.701Z"
   },
   {
    "duration": 369,
    "start_time": "2021-07-21T13:24:46.927Z"
   },
   {
    "duration": 369,
    "start_time": "2021-07-21T13:24:47.299Z"
   },
   {
    "duration": 351,
    "start_time": "2021-07-21T13:24:47.671Z"
   },
   {
    "duration": 3,
    "start_time": "2021-07-21T13:24:48.025Z"
   },
   {
    "duration": 25,
    "start_time": "2021-07-21T13:24:48.030Z"
   },
   {
    "duration": 409,
    "start_time": "2021-07-21T13:24:48.058Z"
   },
   {
    "duration": 185,
    "start_time": "2021-07-21T13:24:48.470Z"
   },
   {
    "duration": 12,
    "start_time": "2021-07-21T13:24:48.657Z"
   },
   {
    "duration": 6,
    "start_time": "2021-07-21T13:24:48.671Z"
   },
   {
    "duration": 10,
    "start_time": "2021-07-21T13:24:48.680Z"
   },
   {
    "duration": 12,
    "start_time": "2021-07-21T13:24:48.692Z"
   },
   {
    "duration": 68,
    "start_time": "2021-07-21T13:24:48.707Z"
   },
   {
    "duration": 7,
    "start_time": "2021-07-21T13:24:48.779Z"
   },
   {
    "duration": 125,
    "start_time": "2021-07-21T13:24:48.789Z"
   },
   {
    "duration": 5,
    "start_time": "2021-07-21T13:24:48.916Z"
   },
   {
    "duration": 38,
    "start_time": "2021-07-21T13:24:48.923Z"
   },
   {
    "duration": 15,
    "start_time": "2021-07-21T13:24:48.964Z"
   },
   {
    "duration": 5164,
    "start_time": "2021-07-21T13:24:48.982Z"
   },
   {
    "duration": 5208,
    "start_time": "2021-07-21T13:24:54.148Z"
   },
   {
    "duration": 5300,
    "start_time": "2021-07-21T13:24:59.359Z"
   },
   {
    "duration": 2075,
    "start_time": "2021-07-21T13:25:04.662Z"
   },
   {
    "duration": 9,
    "start_time": "2021-07-21T13:27:05.606Z"
   },
   {
    "duration": 4743,
    "start_time": "2021-07-21T13:27:07.520Z"
   },
   {
    "duration": 10,
    "start_time": "2021-07-21T13:27:27.742Z"
   },
   {
    "duration": 6221,
    "start_time": "2021-07-21T13:27:30.428Z"
   },
   {
    "duration": 14,
    "start_time": "2021-07-21T13:28:06.095Z"
   },
   {
    "duration": 963,
    "start_time": "2021-07-21T13:28:07.512Z"
   },
   {
    "duration": 9,
    "start_time": "2021-07-21T13:29:14.568Z"
   },
   {
    "duration": 5203,
    "start_time": "2021-07-21T13:29:19.263Z"
   },
   {
    "duration": 9,
    "start_time": "2021-07-21T13:29:45.280Z"
   },
   {
    "duration": 826,
    "start_time": "2021-07-21T13:29:47.013Z"
   },
   {
    "duration": 10,
    "start_time": "2021-07-21T13:30:05.100Z"
   },
   {
    "duration": 5207,
    "start_time": "2021-07-21T13:30:06.078Z"
   },
   {
    "duration": 1527,
    "start_time": "2021-07-21T13:49:39.263Z"
   },
   {
    "duration": 449,
    "start_time": "2021-07-21T13:49:40.793Z"
   },
   {
    "duration": 37,
    "start_time": "2021-07-21T13:49:41.245Z"
   },
   {
    "duration": 15,
    "start_time": "2021-07-21T13:49:41.285Z"
   },
   {
    "duration": 16,
    "start_time": "2021-07-21T13:49:41.302Z"
   },
   {
    "duration": 13,
    "start_time": "2021-07-21T13:49:41.355Z"
   },
   {
    "duration": 50,
    "start_time": "2021-07-21T13:49:41.371Z"
   },
   {
    "duration": 75,
    "start_time": "2021-07-21T13:49:41.425Z"
   },
   {
    "duration": 63,
    "start_time": "2021-07-21T13:49:41.503Z"
   },
   {
    "duration": 197,
    "start_time": "2021-07-21T13:49:41.568Z"
   },
   {
    "duration": 364,
    "start_time": "2021-07-21T13:49:41.767Z"
   },
   {
    "duration": 377,
    "start_time": "2021-07-21T13:49:42.134Z"
   },
   {
    "duration": 363,
    "start_time": "2021-07-21T13:49:42.514Z"
   },
   {
    "duration": 3,
    "start_time": "2021-07-21T13:49:42.879Z"
   },
   {
    "duration": 17,
    "start_time": "2021-07-21T13:49:42.884Z"
   },
   {
    "duration": 467,
    "start_time": "2021-07-21T13:49:42.904Z"
   },
   {
    "duration": 181,
    "start_time": "2021-07-21T13:49:43.374Z"
   },
   {
    "duration": 11,
    "start_time": "2021-07-21T13:49:43.557Z"
   },
   {
    "duration": 6,
    "start_time": "2021-07-21T13:49:43.570Z"
   },
   {
    "duration": 8,
    "start_time": "2021-07-21T13:49:43.579Z"
   },
   {
    "duration": 16,
    "start_time": "2021-07-21T13:49:43.589Z"
   },
   {
    "duration": 65,
    "start_time": "2021-07-21T13:49:43.608Z"
   },
   {
    "duration": 6,
    "start_time": "2021-07-21T13:49:43.678Z"
   },
   {
    "duration": 127,
    "start_time": "2021-07-21T13:49:43.687Z"
   },
   {
    "duration": 4,
    "start_time": "2021-07-21T13:49:43.816Z"
   },
   {
    "duration": 36,
    "start_time": "2021-07-21T13:49:43.823Z"
   },
   {
    "duration": 10,
    "start_time": "2021-07-21T13:49:43.862Z"
   },
   {
    "duration": 5149,
    "start_time": "2021-07-21T13:49:43.874Z"
   },
   {
    "duration": 5203,
    "start_time": "2021-07-21T13:49:49.026Z"
   },
   {
    "duration": 5097,
    "start_time": "2021-07-21T13:49:54.232Z"
   },
   {
    "duration": 2103,
    "start_time": "2021-07-21T13:49:59.332Z"
   },
   {
    "duration": 1137,
    "start_time": "2021-12-27T12:51:57.982Z"
   },
   {
    "duration": 1138,
    "start_time": "2021-12-27T12:51:59.120Z"
   },
   {
    "duration": 24,
    "start_time": "2021-12-27T12:52:00.260Z"
   },
   {
    "duration": 16,
    "start_time": "2021-12-27T12:52:00.286Z"
   },
   {
    "duration": 11,
    "start_time": "2021-12-27T12:52:00.304Z"
   },
   {
    "duration": 11,
    "start_time": "2021-12-27T12:52:00.316Z"
   },
   {
    "duration": 63,
    "start_time": "2021-12-27T12:52:00.329Z"
   },
   {
    "duration": 37,
    "start_time": "2021-12-27T12:52:00.395Z"
   },
   {
    "duration": 38,
    "start_time": "2021-12-27T12:52:00.433Z"
   },
   {
    "duration": 144,
    "start_time": "2021-12-27T12:52:00.473Z"
   },
   {
    "duration": 262,
    "start_time": "2021-12-27T12:52:00.620Z"
   },
   {
    "duration": 240,
    "start_time": "2021-12-27T12:52:00.892Z"
   },
   {
    "duration": 248,
    "start_time": "2021-12-27T12:52:01.134Z"
   },
   {
    "duration": 6,
    "start_time": "2021-12-27T12:52:02.299Z"
   },
   {
    "duration": 386,
    "start_time": "2021-12-27T12:52:02.506Z"
   },
   {
    "duration": 101,
    "start_time": "2021-12-27T12:52:02.894Z"
   },
   {
    "duration": 8,
    "start_time": "2021-12-27T12:52:03.538Z"
   },
   {
    "duration": 3,
    "start_time": "2021-12-27T12:52:04.361Z"
   },
   {
    "duration": 4,
    "start_time": "2021-12-27T12:52:04.789Z"
   },
   {
    "duration": 8,
    "start_time": "2021-12-27T12:52:04.994Z"
   },
   {
    "duration": 20,
    "start_time": "2021-12-27T12:52:05.408Z"
   },
   {
    "duration": 5,
    "start_time": "2021-12-27T12:52:06.485Z"
   },
   {
    "duration": 81,
    "start_time": "2021-12-27T12:52:06.674Z"
   },
   {
    "duration": 4,
    "start_time": "2021-12-27T12:52:06.891Z"
   },
   {
    "duration": 15,
    "start_time": "2021-12-27T12:52:07.109Z"
   },
   {
    "duration": 6,
    "start_time": "2021-12-27T12:52:08.626Z"
   },
   {
    "duration": 3066,
    "start_time": "2021-12-27T12:52:08.845Z"
   },
   {
    "duration": 3265,
    "start_time": "2021-12-27T12:52:11.913Z"
   },
   {
    "duration": 3164,
    "start_time": "2021-12-27T12:52:15.181Z"
   },
   {
    "duration": 1381,
    "start_time": "2021-12-27T12:52:18.347Z"
   }
  ],
  "kernelspec": {
   "display_name": "Python 3",
   "language": "python",
   "name": "python3"
  },
  "language_info": {
   "codemirror_mode": {
    "name": "ipython",
    "version": 3
   },
   "file_extension": ".py",
   "mimetype": "text/x-python",
   "name": "python",
   "nbconvert_exporter": "python",
   "pygments_lexer": "ipython3",
   "version": "3.7.8"
  },
  "toc": {
   "base_numbering": 1,
   "nav_menu": {},
   "number_sections": true,
   "sideBar": true,
   "skip_h1_title": true,
   "title_cell": "Table of Contents",
   "title_sidebar": "Contents",
   "toc_cell": false,
   "toc_position": {},
   "toc_section_display": true,
   "toc_window_display": false
  }
 },
 "nbformat": 4,
 "nbformat_minor": 2
}
