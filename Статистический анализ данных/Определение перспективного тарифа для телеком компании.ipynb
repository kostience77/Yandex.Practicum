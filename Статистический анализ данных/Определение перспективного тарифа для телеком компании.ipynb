{
 "cells": [
  {
   "cell_type": "markdown",
   "metadata": {},
   "source": [
    "# Определение перспективного тарифа для телеком компании\n",
    "\n",
    "Компания «Мегалайн» — федерального оператора сотовой связи своим клиентам предлагает два тарифных плана: «Смарт» и «Ультра». Чтобы скорректировать рекламный бюджет, коммерческий департамент хочет понять, какой тариф приносит больше денег.\n",
    "В рамках данной работы предстоит сделать предварительный анализ тарифов на небольшой выборке клиентов. Для этого предоставляются  данные 500 пользователей «Мегалайна»: кто они, откуда, каким тарифом пользуются, сколько звонков и сообщений каждый отправил за 2018 год. Нужно проанализировать поведение клиентов и сделать вывод — какой тариф лучше.\n",
    "\n",
    "**Описание тарифов**\n",
    "- Тариф «Смарт»\n",
    "Ежемесячная плата: 550 рублей\n",
    "Включено 500 минут разговора, 50 сообщений и 15 Гб интернет-трафика\n",
    "Стоимость услуг сверх тарифного пакета:\n",
    "минута разговора: 3 рубля\n",
    "сообщение: 3 рубля\n",
    "1 Гб интернет-трафика: 200 рублей\n",
    "- Тариф «Ультра»\n",
    "Ежемесячная плата: 1950 рублей\n",
    "Включено 3000 минут разговора, 1000 сообщений и 30 Гб интернет-трафика\n",
    "Стоимость услуг сверх тарифного пакета:\n",
    "минута разговора: 1 рубль\n",
    "сообщение: 1 рубль\n",
    "1 Гб интернет-трафика: 150 рублей"
   ]
  },
  {
   "cell_type": "markdown",
   "metadata": {},
   "source": [
    "<h1>Содержание<span class=\"tocSkip\"></span></h1>\n",
    "\n",
    "1. [Изучение данных из файла](#start)\n",
    "    - [импорт библиотек](#import)\n",
    "    - [изучение файла](#study)\n",
    "    - [вывод](#вывод1.3)\n",
    "2. [Предобработка данных](#preprocessing)\n",
    "    - [Обработка пропусков](#processing)\n",
    "    - [Замена типа данных](#null)\n",
    "    - [вывод](#output2)\n",
    "3. [Расчеты и добавление результатов](#resalt)\n",
    "    - [вывод](#output3)\n",
    "4. [Исследовательский анализ данных](#analysis)\n",
    "5. [Общий вывод](#output)\n",
    "6. [Чек-лист готовности проекта](#list)"
   ]
  },
  {
   "cell_type": "markdown",
   "metadata": {},
   "source": [
    "## Изучение данных из файла\n",
    "<a id=\"start\"></a>"
   ]
  },
  {
   "cell_type": "markdown",
   "metadata": {},
   "source": [
    "### импорт библиотек\n",
    "<a id=\"import\"></a>"
   ]
  },
  {
   "cell_type": "markdown",
   "metadata": {},
   "source": [
    "Загружаем библиотеки"
   ]
  },
  {
   "cell_type": "code",
   "execution_count": 1,
   "metadata": {},
   "outputs": [],
   "source": [
    "import pandas as pd# импорт библиотеки pandas\n",
    "import numpy as np #Импорт модуля numpy. numpy работает с однородными многомерными массивами (матрицами).\n",
    "import pathlib #Импорт модуля pathlib. Модуль Pathlib в Python упрощает работу с файлами и папками.\n",
    "from pathlib import Path\n",
    "from IPython.display import display #импортируем метод display из библиотеки IPython.display\n",
    "import matplotlib.pyplot as plt #Импорт модуля matplotlib\n",
    "import seaborn as sns\n",
    "#import math\n",
    "from scipy import stats as st"
   ]
  },
  {
   "cell_type": "markdown",
   "metadata": {},
   "source": [
    "### Открываем исходные данные\n",
    "<a id=\"study\"></a>"
   ]
  },
  {
   "cell_type": "code",
   "execution_count": 2,
   "metadata": {},
   "outputs": [],
   "source": [
    "calls = pd.read_csv('/datasets/calls.csv')\n",
    "internet = pd.read_csv('/datasets/internet.csv')\n",
    "messages = pd.read_csv('/datasets/messages.csv')\n",
    "tariffs = pd.read_csv('/datasets/tariffs.csv')\n",
    "users = pd.read_csv('/datasets/users.csv')"
   ]
  },
  {
   "cell_type": "markdown",
   "metadata": {},
   "source": [
    "Посмотрим на данные из Дата Фрейм - **calls**"
   ]
  },
  {
   "cell_type": "code",
   "execution_count": 3,
   "metadata": {
    "scrolled": true
   },
   "outputs": [
    {
     "name": "stdout",
     "output_type": "stream",
     "text": [
      "<class 'pandas.core.frame.DataFrame'>\n",
      "RangeIndex: 202607 entries, 0 to 202606\n",
      "Data columns (total 4 columns):\n",
      "id           202607 non-null object\n",
      "call_date    202607 non-null object\n",
      "duration     202607 non-null float64\n",
      "user_id      202607 non-null int64\n",
      "dtypes: float64(1), int64(1), object(2)\n",
      "memory usage: 6.2+ MB\n"
     ]
    },
    {
     "data": {
      "text/plain": [
       "None"
      ]
     },
     "metadata": {},
     "output_type": "display_data"
    },
    {
     "data": {
      "text/html": [
       "<div>\n",
       "<style scoped>\n",
       "    .dataframe tbody tr th:only-of-type {\n",
       "        vertical-align: middle;\n",
       "    }\n",
       "\n",
       "    .dataframe tbody tr th {\n",
       "        vertical-align: top;\n",
       "    }\n",
       "\n",
       "    .dataframe thead th {\n",
       "        text-align: right;\n",
       "    }\n",
       "</style>\n",
       "<table border=\"1\" class=\"dataframe\">\n",
       "  <thead>\n",
       "    <tr style=\"text-align: right;\">\n",
       "      <th></th>\n",
       "      <th>id</th>\n",
       "      <th>call_date</th>\n",
       "      <th>duration</th>\n",
       "      <th>user_id</th>\n",
       "    </tr>\n",
       "  </thead>\n",
       "  <tbody>\n",
       "    <tr>\n",
       "      <td>0</td>\n",
       "      <td>1000_0</td>\n",
       "      <td>2018-07-25</td>\n",
       "      <td>0.00</td>\n",
       "      <td>1000</td>\n",
       "    </tr>\n",
       "    <tr>\n",
       "      <td>1</td>\n",
       "      <td>1000_1</td>\n",
       "      <td>2018-08-17</td>\n",
       "      <td>0.00</td>\n",
       "      <td>1000</td>\n",
       "    </tr>\n",
       "    <tr>\n",
       "      <td>2</td>\n",
       "      <td>1000_2</td>\n",
       "      <td>2018-06-11</td>\n",
       "      <td>2.85</td>\n",
       "      <td>1000</td>\n",
       "    </tr>\n",
       "    <tr>\n",
       "      <td>3</td>\n",
       "      <td>1000_3</td>\n",
       "      <td>2018-09-21</td>\n",
       "      <td>13.80</td>\n",
       "      <td>1000</td>\n",
       "    </tr>\n",
       "    <tr>\n",
       "      <td>4</td>\n",
       "      <td>1000_4</td>\n",
       "      <td>2018-12-15</td>\n",
       "      <td>5.18</td>\n",
       "      <td>1000</td>\n",
       "    </tr>\n",
       "  </tbody>\n",
       "</table>\n",
       "</div>"
      ],
      "text/plain": [
       "       id   call_date  duration  user_id\n",
       "0  1000_0  2018-07-25      0.00     1000\n",
       "1  1000_1  2018-08-17      0.00     1000\n",
       "2  1000_2  2018-06-11      2.85     1000\n",
       "3  1000_3  2018-09-21     13.80     1000\n",
       "4  1000_4  2018-12-15      5.18     1000"
      ]
     },
     "metadata": {},
     "output_type": "display_data"
    }
   ],
   "source": [
    "display(calls.info(), calls.head(5))"
   ]
  },
  {
   "cell_type": "markdown",
   "metadata": {},
   "source": [
    "calls - это таблица со звонками всех пользователей. Состоит из 4 столбцов и 202607 строк. Пропущенных значений нет.\n",
    "В столбце call_date нужно изменить тип данных и исследовать  duration  на нуливые значения, в условии указано, что их много и нужно принять решение что с ними делать дальше."
   ]
  },
  {
   "cell_type": "markdown",
   "metadata": {},
   "source": [
    "Посмотрим на данные из Дата Фрейм - **internet**"
   ]
  },
  {
   "cell_type": "code",
   "execution_count": 4,
   "metadata": {
    "scrolled": false
   },
   "outputs": [
    {
     "name": "stdout",
     "output_type": "stream",
     "text": [
      "<class 'pandas.core.frame.DataFrame'>\n",
      "RangeIndex: 149396 entries, 0 to 149395\n",
      "Data columns (total 5 columns):\n",
      "Unnamed: 0      149396 non-null int64\n",
      "id              149396 non-null object\n",
      "mb_used         149396 non-null float64\n",
      "session_date    149396 non-null object\n",
      "user_id         149396 non-null int64\n",
      "dtypes: float64(1), int64(2), object(2)\n",
      "memory usage: 5.7+ MB\n"
     ]
    },
    {
     "data": {
      "text/html": [
       "<div>\n",
       "<style scoped>\n",
       "    .dataframe tbody tr th:only-of-type {\n",
       "        vertical-align: middle;\n",
       "    }\n",
       "\n",
       "    .dataframe tbody tr th {\n",
       "        vertical-align: top;\n",
       "    }\n",
       "\n",
       "    .dataframe thead th {\n",
       "        text-align: right;\n",
       "    }\n",
       "</style>\n",
       "<table border=\"1\" class=\"dataframe\">\n",
       "  <thead>\n",
       "    <tr style=\"text-align: right;\">\n",
       "      <th></th>\n",
       "      <th>Unnamed: 0</th>\n",
       "      <th>id</th>\n",
       "      <th>mb_used</th>\n",
       "      <th>session_date</th>\n",
       "      <th>user_id</th>\n",
       "    </tr>\n",
       "  </thead>\n",
       "  <tbody>\n",
       "    <tr>\n",
       "      <td>0</td>\n",
       "      <td>0</td>\n",
       "      <td>1000_0</td>\n",
       "      <td>112.95</td>\n",
       "      <td>2018-11-25</td>\n",
       "      <td>1000</td>\n",
       "    </tr>\n",
       "    <tr>\n",
       "      <td>1</td>\n",
       "      <td>1</td>\n",
       "      <td>1000_1</td>\n",
       "      <td>1052.81</td>\n",
       "      <td>2018-09-07</td>\n",
       "      <td>1000</td>\n",
       "    </tr>\n",
       "    <tr>\n",
       "      <td>2</td>\n",
       "      <td>2</td>\n",
       "      <td>1000_2</td>\n",
       "      <td>1197.26</td>\n",
       "      <td>2018-06-25</td>\n",
       "      <td>1000</td>\n",
       "    </tr>\n",
       "    <tr>\n",
       "      <td>3</td>\n",
       "      <td>3</td>\n",
       "      <td>1000_3</td>\n",
       "      <td>550.27</td>\n",
       "      <td>2018-08-22</td>\n",
       "      <td>1000</td>\n",
       "    </tr>\n",
       "    <tr>\n",
       "      <td>4</td>\n",
       "      <td>4</td>\n",
       "      <td>1000_4</td>\n",
       "      <td>302.56</td>\n",
       "      <td>2018-09-24</td>\n",
       "      <td>1000</td>\n",
       "    </tr>\n",
       "  </tbody>\n",
       "</table>\n",
       "</div>"
      ],
      "text/plain": [
       "   Unnamed: 0      id  mb_used session_date  user_id\n",
       "0           0  1000_0   112.95   2018-11-25     1000\n",
       "1           1  1000_1  1052.81   2018-09-07     1000\n",
       "2           2  1000_2  1197.26   2018-06-25     1000\n",
       "3           3  1000_3   550.27   2018-08-22     1000\n",
       "4           4  1000_4   302.56   2018-09-24     1000"
      ]
     },
     "metadata": {},
     "output_type": "display_data"
    },
    {
     "data": {
      "text/plain": [
       "None"
      ]
     },
     "metadata": {},
     "output_type": "display_data"
    }
   ],
   "source": [
    "display(internet.head(5), internet.info())"
   ]
  },
  {
   "cell_type": "markdown",
   "metadata": {},
   "source": [
    "internet - это таблица с информацией об интернет-сессиях всех пользователей. Состоит из 5 столбцов и 149396 строк. Пропущенных значений нет.\n",
    "В столбце session_date нужно изменить тип данных. "
   ]
  },
  {
   "cell_type": "markdown",
   "metadata": {},
   "source": [
    "Посмотрим на данные из Дата Фрейм - **messages**"
   ]
  },
  {
   "cell_type": "code",
   "execution_count": 5,
   "metadata": {
    "scrolled": true
   },
   "outputs": [
    {
     "name": "stdout",
     "output_type": "stream",
     "text": [
      "<class 'pandas.core.frame.DataFrame'>\n",
      "RangeIndex: 123036 entries, 0 to 123035\n",
      "Data columns (total 3 columns):\n",
      "id              123036 non-null object\n",
      "message_date    123036 non-null object\n",
      "user_id         123036 non-null int64\n",
      "dtypes: int64(1), object(2)\n",
      "memory usage: 2.8+ MB\n"
     ]
    },
    {
     "data": {
      "text/html": [
       "<div>\n",
       "<style scoped>\n",
       "    .dataframe tbody tr th:only-of-type {\n",
       "        vertical-align: middle;\n",
       "    }\n",
       "\n",
       "    .dataframe tbody tr th {\n",
       "        vertical-align: top;\n",
       "    }\n",
       "\n",
       "    .dataframe thead th {\n",
       "        text-align: right;\n",
       "    }\n",
       "</style>\n",
       "<table border=\"1\" class=\"dataframe\">\n",
       "  <thead>\n",
       "    <tr style=\"text-align: right;\">\n",
       "      <th></th>\n",
       "      <th>id</th>\n",
       "      <th>message_date</th>\n",
       "      <th>user_id</th>\n",
       "    </tr>\n",
       "  </thead>\n",
       "  <tbody>\n",
       "    <tr>\n",
       "      <td>123031</td>\n",
       "      <td>1499_179</td>\n",
       "      <td>2018-12-12</td>\n",
       "      <td>1499</td>\n",
       "    </tr>\n",
       "    <tr>\n",
       "      <td>123032</td>\n",
       "      <td>1499_180</td>\n",
       "      <td>2018-09-28</td>\n",
       "      <td>1499</td>\n",
       "    </tr>\n",
       "    <tr>\n",
       "      <td>123033</td>\n",
       "      <td>1499_181</td>\n",
       "      <td>2018-09-27</td>\n",
       "      <td>1499</td>\n",
       "    </tr>\n",
       "    <tr>\n",
       "      <td>123034</td>\n",
       "      <td>1499_182</td>\n",
       "      <td>2018-11-15</td>\n",
       "      <td>1499</td>\n",
       "    </tr>\n",
       "    <tr>\n",
       "      <td>123035</td>\n",
       "      <td>1499_183</td>\n",
       "      <td>2018-11-16</td>\n",
       "      <td>1499</td>\n",
       "    </tr>\n",
       "  </tbody>\n",
       "</table>\n",
       "</div>"
      ],
      "text/plain": [
       "              id message_date  user_id\n",
       "123031  1499_179   2018-12-12     1499\n",
       "123032  1499_180   2018-09-28     1499\n",
       "123033  1499_181   2018-09-27     1499\n",
       "123034  1499_182   2018-11-15     1499\n",
       "123035  1499_183   2018-11-16     1499"
      ]
     },
     "metadata": {},
     "output_type": "display_data"
    },
    {
     "data": {
      "text/plain": [
       "None"
      ]
     },
     "metadata": {},
     "output_type": "display_data"
    }
   ],
   "source": [
    "display(messages.tail(5), messages.info())"
   ]
  },
  {
   "cell_type": "markdown",
   "metadata": {},
   "source": [
    "messages - это таблица с информацией об интернет-сессиях всех пользователей. Состоит из 3 столбцов и 123035 строк. Пропущенных значений нет.\n",
    "В столбце message_date нужно изменить тип данных. "
   ]
  },
  {
   "cell_type": "markdown",
   "metadata": {},
   "source": [
    "Посмотрим на данные из Дата Фрейм - **tariffs**"
   ]
  },
  {
   "cell_type": "code",
   "execution_count": 6,
   "metadata": {
    "scrolled": false
   },
   "outputs": [
    {
     "name": "stdout",
     "output_type": "stream",
     "text": [
      "<class 'pandas.core.frame.DataFrame'>\n",
      "RangeIndex: 2 entries, 0 to 1\n",
      "Data columns (total 8 columns):\n",
      "messages_included        2 non-null int64\n",
      "mb_per_month_included    2 non-null int64\n",
      "minutes_included         2 non-null int64\n",
      "rub_monthly_fee          2 non-null int64\n",
      "rub_per_gb               2 non-null int64\n",
      "rub_per_message          2 non-null int64\n",
      "rub_per_minute           2 non-null int64\n",
      "tariff_name              2 non-null object\n",
      "dtypes: int64(7), object(1)\n",
      "memory usage: 256.0+ bytes\n"
     ]
    },
    {
     "data": {
      "text/html": [
       "<div>\n",
       "<style scoped>\n",
       "    .dataframe tbody tr th:only-of-type {\n",
       "        vertical-align: middle;\n",
       "    }\n",
       "\n",
       "    .dataframe tbody tr th {\n",
       "        vertical-align: top;\n",
       "    }\n",
       "\n",
       "    .dataframe thead th {\n",
       "        text-align: right;\n",
       "    }\n",
       "</style>\n",
       "<table border=\"1\" class=\"dataframe\">\n",
       "  <thead>\n",
       "    <tr style=\"text-align: right;\">\n",
       "      <th></th>\n",
       "      <th>messages_included</th>\n",
       "      <th>mb_per_month_included</th>\n",
       "      <th>minutes_included</th>\n",
       "      <th>rub_monthly_fee</th>\n",
       "      <th>rub_per_gb</th>\n",
       "      <th>rub_per_message</th>\n",
       "      <th>rub_per_minute</th>\n",
       "      <th>tariff_name</th>\n",
       "    </tr>\n",
       "  </thead>\n",
       "  <tbody>\n",
       "    <tr>\n",
       "      <td>0</td>\n",
       "      <td>50</td>\n",
       "      <td>15360</td>\n",
       "      <td>500</td>\n",
       "      <td>550</td>\n",
       "      <td>200</td>\n",
       "      <td>3</td>\n",
       "      <td>3</td>\n",
       "      <td>smart</td>\n",
       "    </tr>\n",
       "    <tr>\n",
       "      <td>1</td>\n",
       "      <td>1000</td>\n",
       "      <td>30720</td>\n",
       "      <td>3000</td>\n",
       "      <td>1950</td>\n",
       "      <td>150</td>\n",
       "      <td>1</td>\n",
       "      <td>1</td>\n",
       "      <td>ultra</td>\n",
       "    </tr>\n",
       "  </tbody>\n",
       "</table>\n",
       "</div>"
      ],
      "text/plain": [
       "   messages_included  mb_per_month_included  minutes_included  \\\n",
       "0                 50                  15360               500   \n",
       "1               1000                  30720              3000   \n",
       "\n",
       "   rub_monthly_fee  rub_per_gb  rub_per_message  rub_per_minute tariff_name  \n",
       "0              550         200                3               3       smart  \n",
       "1             1950         150                1               1       ultra  "
      ]
     },
     "metadata": {},
     "output_type": "display_data"
    },
    {
     "data": {
      "text/plain": [
       "None"
      ]
     },
     "metadata": {},
     "output_type": "display_data"
    }
   ],
   "source": [
    "display(tariffs.head(5), tariffs.info())"
   ]
  },
  {
   "cell_type": "markdown",
   "metadata": {},
   "source": [
    "tariffs - это таблица с информацией об интернет-сессиях всех пользователей. Состоит из 8 столбцов и 2 строк. Пропущенных значений нет.\n",
    "Данная таблица - справочная информация по тарифам."
   ]
  },
  {
   "cell_type": "markdown",
   "metadata": {},
   "source": [
    "Посмотрим на данные из Дата Фрейм - **users**"
   ]
  },
  {
   "cell_type": "code",
   "execution_count": 7,
   "metadata": {},
   "outputs": [
    {
     "name": "stdout",
     "output_type": "stream",
     "text": [
      "<class 'pandas.core.frame.DataFrame'>\n",
      "RangeIndex: 500 entries, 0 to 499\n",
      "Data columns (total 8 columns):\n",
      "user_id       500 non-null int64\n",
      "age           500 non-null int64\n",
      "churn_date    38 non-null object\n",
      "city          500 non-null object\n",
      "first_name    500 non-null object\n",
      "last_name     500 non-null object\n",
      "reg_date      500 non-null object\n",
      "tariff        500 non-null object\n",
      "dtypes: int64(2), object(6)\n",
      "memory usage: 31.4+ KB\n"
     ]
    },
    {
     "data": {
      "text/html": [
       "<div>\n",
       "<style scoped>\n",
       "    .dataframe tbody tr th:only-of-type {\n",
       "        vertical-align: middle;\n",
       "    }\n",
       "\n",
       "    .dataframe tbody tr th {\n",
       "        vertical-align: top;\n",
       "    }\n",
       "\n",
       "    .dataframe thead th {\n",
       "        text-align: right;\n",
       "    }\n",
       "</style>\n",
       "<table border=\"1\" class=\"dataframe\">\n",
       "  <thead>\n",
       "    <tr style=\"text-align: right;\">\n",
       "      <th></th>\n",
       "      <th>user_id</th>\n",
       "      <th>age</th>\n",
       "      <th>churn_date</th>\n",
       "      <th>city</th>\n",
       "      <th>first_name</th>\n",
       "      <th>last_name</th>\n",
       "      <th>reg_date</th>\n",
       "      <th>tariff</th>\n",
       "    </tr>\n",
       "  </thead>\n",
       "  <tbody>\n",
       "    <tr>\n",
       "      <td>0</td>\n",
       "      <td>1000</td>\n",
       "      <td>52</td>\n",
       "      <td>NaN</td>\n",
       "      <td>Краснодар</td>\n",
       "      <td>Рафаил</td>\n",
       "      <td>Верещагин</td>\n",
       "      <td>2018-05-25</td>\n",
       "      <td>ultra</td>\n",
       "    </tr>\n",
       "    <tr>\n",
       "      <td>1</td>\n",
       "      <td>1001</td>\n",
       "      <td>41</td>\n",
       "      <td>NaN</td>\n",
       "      <td>Москва</td>\n",
       "      <td>Иван</td>\n",
       "      <td>Ежов</td>\n",
       "      <td>2018-11-01</td>\n",
       "      <td>smart</td>\n",
       "    </tr>\n",
       "    <tr>\n",
       "      <td>2</td>\n",
       "      <td>1002</td>\n",
       "      <td>59</td>\n",
       "      <td>NaN</td>\n",
       "      <td>Стерлитамак</td>\n",
       "      <td>Евгений</td>\n",
       "      <td>Абрамович</td>\n",
       "      <td>2018-06-17</td>\n",
       "      <td>smart</td>\n",
       "    </tr>\n",
       "    <tr>\n",
       "      <td>3</td>\n",
       "      <td>1003</td>\n",
       "      <td>23</td>\n",
       "      <td>NaN</td>\n",
       "      <td>Москва</td>\n",
       "      <td>Белла</td>\n",
       "      <td>Белякова</td>\n",
       "      <td>2018-08-17</td>\n",
       "      <td>ultra</td>\n",
       "    </tr>\n",
       "    <tr>\n",
       "      <td>4</td>\n",
       "      <td>1004</td>\n",
       "      <td>68</td>\n",
       "      <td>NaN</td>\n",
       "      <td>Новокузнецк</td>\n",
       "      <td>Татьяна</td>\n",
       "      <td>Авдеенко</td>\n",
       "      <td>2018-05-14</td>\n",
       "      <td>ultra</td>\n",
       "    </tr>\n",
       "  </tbody>\n",
       "</table>\n",
       "</div>"
      ],
      "text/plain": [
       "   user_id  age churn_date         city first_name  last_name    reg_date  \\\n",
       "0     1000   52        NaN    Краснодар     Рафаил  Верещагин  2018-05-25   \n",
       "1     1001   41        NaN       Москва       Иван       Ежов  2018-11-01   \n",
       "2     1002   59        NaN  Стерлитамак    Евгений  Абрамович  2018-06-17   \n",
       "3     1003   23        NaN       Москва      Белла   Белякова  2018-08-17   \n",
       "4     1004   68        NaN  Новокузнецк    Татьяна   Авдеенко  2018-05-14   \n",
       "\n",
       "  tariff  \n",
       "0  ultra  \n",
       "1  smart  \n",
       "2  smart  \n",
       "3  ultra  \n",
       "4  ultra  "
      ]
     },
     "metadata": {},
     "output_type": "display_data"
    },
    {
     "data": {
      "text/plain": [
       "None"
      ]
     },
     "metadata": {},
     "output_type": "display_data"
    },
    {
     "data": {
      "text/plain": [
       "user_id         0\n",
       "age             0\n",
       "churn_date    462\n",
       "city            0\n",
       "first_name      0\n",
       "last_name       0\n",
       "reg_date        0\n",
       "tariff          0\n",
       "dtype: int64"
      ]
     },
     "metadata": {},
     "output_type": "display_data"
    },
    {
     "data": {
      "text/plain": [
       "0"
      ]
     },
     "metadata": {},
     "output_type": "display_data"
    }
   ],
   "source": [
    "display(users.head(5), users.info(), users.isnull().sum(), users.duplicated().sum())"
   ]
  },
  {
   "cell_type": "markdown",
   "metadata": {},
   "source": [
    "users - это таблица с информацией о пользователях. Состоит из 8 столбцов и 500 строк. Пропущенные значения есть в churn_date и  в количестве 462. В описание к задаче сказано: \"churn_date - дата прекращения пользования тарифом (если значение пропущено, то тариф ещё действовал на момент выгрузки данных)\". Пока оставим как есть. Для дальнейшего анализа нам эти данные не нужны.\n",
    "Дубликатов не обнаружено.\n",
    "В столбцах churn_date и reg_date нужно изменить тип данных."
   ]
  },
  {
   "cell_type": "markdown",
   "metadata": {},
   "source": [
    "### Вывод\n",
    "<a id=\"вывод1.3\"></a>"
   ]
  },
  {
   "cell_type": "markdown",
   "metadata": {},
   "source": [
    "*Всего 5 датафреймов data:*\n",
    "  - Таблица users (информация о пользователях):\n",
    "user_id — уникальный идентификатор пользователя,\n",
    "first_name — имя пользователя,\n",
    "last_name — фамилия пользователя,\n",
    "age — возраст пользователя (годы),\n",
    "reg_date — дата подключения тарифа (день, месяц, год),\n",
    "churn_date — дата прекращения пользования тарифом (если значение пропущено, то тариф ещё действовал на момент выгрузки данных),\n",
    "city — город проживания пользователя,\n",
    "tariff — название тарифного плана\n",
    "   - Таблица calls (информация о звонках):\n",
    "id — уникальный номер звонка,\n",
    "call_date — дата звонка,\n",
    "duration — длительность звонка в минутах,\n",
    "user_id — идентификатор пользователя, сделавшего звонок\n",
    "   - Таблица messages (информация о сообщениях):\n",
    "id — уникальный номер сообщения,\n",
    "message_date — дата сообщения,\n",
    "user_id — идентификатор пользователя, отправившего сообщение\n",
    "   - Таблица internet (информация об интернет-сессиях):\n",
    "id — уникальный номер сессии,\n",
    "mb_used — объём потраченного за сессию интернет-трафика (в мегабайтах),\n",
    "session_date — дата интернет-сессии,\n",
    "user_id — идентификатор пользователя\n",
    "   - Таблица tariffs (информация о тарифах):\n",
    "tariff_name — название тарифа,\n",
    "rub_monthly_fee — ежемесячная абонентская плата в рублях,\n",
    "minutes_included — количество минут разговора в месяц, включённых в абонентскую плату,\n",
    "messages_included — количество сообщений в месяц, включённых в абонентскую плату,\n",
    "mb_per_month_included — объём интернет-трафика, включённого в абонентскую плату (в мегабайтах),\n",
    "rub_per_minute — стоимость минуты разговора сверх тарифного пакета (например, если в тарифе 100 минут разговора в месяц, то со 101 минуты будет взиматься плата),\n",
    "rub_per_message — стоимость отправки сообщения сверх тарифного пакета,\n",
    "rub_per_gb — стоимость дополнительного гигабайта интернет-трафика сверх тарифного пакета (1 гигабайт = 1024 мегабайта)\n",
    "                                                        \n",
    "Датафреймы: calls,  internet, tariffs, messages не содержат пропусков.  В таблице users выявлены пропуски в столбце  churn_date. Это связано с тем, что на данный момент абонент продолжает оставаться пользователем оператора \"Мегафон\".\n",
    "\n",
    "Присутствуют столбцы тип данных которых надо менять на другой тип: нужно менять типы данных в датах, вещественный тип в звонках, потреблении интернета и кл-ве смс переведем в целочисленный. В соответствии требования оператора округлить длительность звонка и потребление интернета до целого большего.\n"
   ]
  },
  {
   "cell_type": "markdown",
   "metadata": {},
   "source": [
    "## Предобработка данных\n",
    "<a id=\"preprocessing\"></a>"
   ]
  },
  {
   "cell_type": "markdown",
   "metadata": {},
   "source": [
    "###  Замена типа данных\n",
    "<a id='processing'></a>"
   ]
  },
  {
   "cell_type": "markdown",
   "metadata": {},
   "source": [
    "Проведем в столбцах замену типа данных."
   ]
  },
  {
   "cell_type": "code",
   "execution_count": 8,
   "metadata": {},
   "outputs": [],
   "source": [
    "calls['call_date'] = pd.to_datetime(calls['call_date'], format='%Y-%m-%d')# замена  типа данных на времянной \n",
    "internet['session_date'] = pd.to_datetime(internet['session_date'], format='%Y-%m-%d')\n",
    "messages['message_date'] = pd.to_datetime(messages['message_date'], format='%Y-%m-%d')\n",
    "users['churn_date'] = pd.to_datetime(users['churn_date'], format='%Y-%m-%d')                                       \n",
    "users['reg_date'] = pd.to_datetime(users['reg_date'], format='%Y-%m-%d')\n",
    "#calls_all['user_id']=calls_all['user_id'].astype('int32')\n",
    "users['age']=users['age'].astype('int16')"
   ]
  },
  {
   "cell_type": "markdown",
   "metadata": {},
   "source": [
    "Из условия нам известно, что «Мегалайн» всегда округляет вверх значения минут и мегабайтов. Если пользователь проговорил всего 1 секунду, в тарифе засчитывается целая минута. Округлим до целой минуты входные данные по телефонным звонкам и потраченным мегабайтам."
   ]
  },
  {
   "cell_type": "code",
   "execution_count": 9,
   "metadata": {
    "scrolled": false
   },
   "outputs": [],
   "source": [
    "calls['duration'] = calls['duration'].apply(np.ceil).astype('int32')\n",
    "\n",
    "calls['user_id']=calls['user_id'].astype('int32')"
   ]
  },
  {
   "cell_type": "markdown",
   "metadata": {},
   "source": [
    "Посмотрим на гистограмму длительности звонков."
   ]
  },
  {
   "cell_type": "code",
   "execution_count": 10,
   "metadata": {
    "scrolled": false
   },
   "outputs": [
    {
     "data": {
      "text/plain": [
       "<matplotlib.axes._subplots.AxesSubplot at 0x7fc6c94d1d90>"
      ]
     },
     "execution_count": 10,
     "metadata": {},
     "output_type": "execute_result"
    },
    {
     "data": {
      "image/png": "[encoded data removed]",
      "text/plain": [
       "<Figure size 432x288 with 1 Axes>"
      ]
     },
     "metadata": {
      "needs_background": "light"
     },
     "output_type": "display_data"
    }
   ],
   "source": [
    "calls['duration'].plot(kind='hist', y='duration', bins=37, title = 'duration')"
   ]
  },
  {
   "cell_type": "markdown",
   "metadata": {},
   "source": [
    "Сделаем срез таблицы по нулевым значениям звонков."
   ]
  },
  {
   "cell_type": "code",
   "execution_count": 11,
   "metadata": {},
   "outputs": [
    {
     "data": {
      "text/html": [
       "<div>\n",
       "<style scoped>\n",
       "    .dataframe tbody tr th:only-of-type {\n",
       "        vertical-align: middle;\n",
       "    }\n",
       "\n",
       "    .dataframe tbody tr th {\n",
       "        vertical-align: top;\n",
       "    }\n",
       "\n",
       "    .dataframe thead th {\n",
       "        text-align: right;\n",
       "    }\n",
       "</style>\n",
       "<table border=\"1\" class=\"dataframe\">\n",
       "  <thead>\n",
       "    <tr style=\"text-align: right;\">\n",
       "      <th></th>\n",
       "      <th>id</th>\n",
       "      <th>call_date</th>\n",
       "      <th>duration</th>\n",
       "      <th>user_id</th>\n",
       "    </tr>\n",
       "  </thead>\n",
       "  <tbody>\n",
       "    <tr>\n",
       "      <td>0</td>\n",
       "      <td>1000_0</td>\n",
       "      <td>2018-07-25</td>\n",
       "      <td>0</td>\n",
       "      <td>1000</td>\n",
       "    </tr>\n",
       "    <tr>\n",
       "      <td>1</td>\n",
       "      <td>1000_1</td>\n",
       "      <td>2018-08-17</td>\n",
       "      <td>0</td>\n",
       "      <td>1000</td>\n",
       "    </tr>\n",
       "    <tr>\n",
       "      <td>5</td>\n",
       "      <td>1000_5</td>\n",
       "      <td>2018-11-02</td>\n",
       "      <td>0</td>\n",
       "      <td>1000</td>\n",
       "    </tr>\n",
       "    <tr>\n",
       "      <td>6</td>\n",
       "      <td>1000_6</td>\n",
       "      <td>2018-10-18</td>\n",
       "      <td>0</td>\n",
       "      <td>1000</td>\n",
       "    </tr>\n",
       "    <tr>\n",
       "      <td>9</td>\n",
       "      <td>1000_9</td>\n",
       "      <td>2018-08-15</td>\n",
       "      <td>0</td>\n",
       "      <td>1000</td>\n",
       "    </tr>\n",
       "    <tr>\n",
       "      <td>...</td>\n",
       "      <td>...</td>\n",
       "      <td>...</td>\n",
       "      <td>...</td>\n",
       "      <td>...</td>\n",
       "    </tr>\n",
       "    <tr>\n",
       "      <td>202590</td>\n",
       "      <td>1499_203</td>\n",
       "      <td>2018-12-03</td>\n",
       "      <td>0</td>\n",
       "      <td>1499</td>\n",
       "    </tr>\n",
       "    <tr>\n",
       "      <td>202592</td>\n",
       "      <td>1499_205</td>\n",
       "      <td>2018-10-13</td>\n",
       "      <td>0</td>\n",
       "      <td>1499</td>\n",
       "    </tr>\n",
       "    <tr>\n",
       "      <td>202593</td>\n",
       "      <td>1499_206</td>\n",
       "      <td>2018-12-26</td>\n",
       "      <td>0</td>\n",
       "      <td>1499</td>\n",
       "    </tr>\n",
       "    <tr>\n",
       "      <td>202594</td>\n",
       "      <td>1499_207</td>\n",
       "      <td>2018-10-28</td>\n",
       "      <td>0</td>\n",
       "      <td>1499</td>\n",
       "    </tr>\n",
       "    <tr>\n",
       "      <td>202596</td>\n",
       "      <td>1499_209</td>\n",
       "      <td>2018-12-16</td>\n",
       "      <td>0</td>\n",
       "      <td>1499</td>\n",
       "    </tr>\n",
       "  </tbody>\n",
       "</table>\n",
       "<p>39613 rows × 4 columns</p>\n",
       "</div>"
      ],
      "text/plain": [
       "              id  call_date  duration  user_id\n",
       "0         1000_0 2018-07-25         0     1000\n",
       "1         1000_1 2018-08-17         0     1000\n",
       "5         1000_5 2018-11-02         0     1000\n",
       "6         1000_6 2018-10-18         0     1000\n",
       "9         1000_9 2018-08-15         0     1000\n",
       "...          ...        ...       ...      ...\n",
       "202590  1499_203 2018-12-03         0     1499\n",
       "202592  1499_205 2018-10-13         0     1499\n",
       "202593  1499_206 2018-12-26         0     1499\n",
       "202594  1499_207 2018-10-28         0     1499\n",
       "202596  1499_209 2018-12-16         0     1499\n",
       "\n",
       "[39613 rows x 4 columns]"
      ]
     },
     "execution_count": 11,
     "metadata": {},
     "output_type": "execute_result"
    }
   ],
   "source": [
    "calls.query('duration == 0')"
   ]
  },
  {
   "cell_type": "markdown",
   "metadata": {},
   "source": [
    "Из таблицы видно, что звонки длительностью разговора ноль минут есть у различных абонентов, в разные периоды времени. Скорее всего это или когда у другого абонента было занято, или никто не ответил на входящий.\n",
    "Эти нули несут информативное значение о количестве сделанных звонков пользователем. Однако, при этом они не оказывают влияния на расход  лимитированных минут разговора и не влияют на выручку оператора."
   ]
  },
  {
   "cell_type": "markdown",
   "metadata": {},
   "source": [
    "Удалим эти лишние данные и вновь построим гистограмму."
   ]
  },
  {
   "cell_type": "code",
   "execution_count": 12,
   "metadata": {},
   "outputs": [
    {
     "data": {
      "text/plain": [
       "<matplotlib.axes._subplots.AxesSubplot at 0x7fc6cc1c3a50>"
      ]
     },
     "execution_count": 12,
     "metadata": {},
     "output_type": "execute_result"
    },
    {
     "data": {
      "image/png": "[encoded data removed]",
      "text/plain": [
       "<Figure size 432x288 with 1 Axes>"
      ]
     },
     "metadata": {
      "needs_background": "light"
     },
     "output_type": "display_data"
    }
   ],
   "source": [
    "calls = calls[calls[\"duration\"] > 0]#отсортируем таблицу по столбцу duration с условием больше ноля и перезапишем calls дату фрейм с новым результатом\n",
    "calls['duration'].plot(kind='hist', y='duration', bins=37, title = 'duration')#проверяем, строим гистограмму"
   ]
  },
  {
   "cell_type": "markdown",
   "metadata": {},
   "source": [
    "Заменяем тип данные в столбце user_id. Удаляем столбец Unnamed: 0' и проверяем результат."
   ]
  },
  {
   "cell_type": "code",
   "execution_count": 13,
   "metadata": {
    "scrolled": false
   },
   "outputs": [
    {
     "name": "stdout",
     "output_type": "stream",
     "text": [
      "<class 'pandas.core.frame.DataFrame'>\n",
      "RangeIndex: 149396 entries, 0 to 149395\n",
      "Data columns (total 4 columns):\n",
      "id              149396 non-null object\n",
      "mb_used         149396 non-null int32\n",
      "session_date    149396 non-null datetime64[ns]\n",
      "user_id         149396 non-null int32\n",
      "dtypes: datetime64[ns](1), int32(2), object(1)\n",
      "memory usage: 3.4+ MB\n"
     ]
    }
   ],
   "source": [
    "internet['mb_used'] = internet['mb_used'].apply(np.ceil).astype('int32')\n",
    "\n",
    "internet['user_id']=internet['user_id'].astype('int32')\n",
    "del internet['Unnamed: 0']\n",
    "internet.head(5)\n",
    "internet.info()"
   ]
  },
  {
   "cell_type": "markdown",
   "metadata": {},
   "source": [
    "Строим гистограмму для дата фрейм internet."
   ]
  },
  {
   "cell_type": "code",
   "execution_count": 14,
   "metadata": {},
   "outputs": [
    {
     "data": {
      "text/plain": [
       "<matplotlib.axes._subplots.AxesSubplot at 0x7fc6cb2fb190>"
      ]
     },
     "execution_count": 14,
     "metadata": {},
     "output_type": "execute_result"
    },
    {
     "data": {
      "image/png": "[encoded data removed]",
      "text/plain": [
       "<Figure size 432x288 with 1 Axes>"
      ]
     },
     "metadata": {
      "needs_background": "light"
     },
     "output_type": "display_data"
    }
   ],
   "source": [
    "internet['mb_used'].plot(kind='hist', y='mb_used', bins=50, title = 'mb_used')"
   ]
  },
  {
   "cell_type": "code",
   "execution_count": 15,
   "metadata": {},
   "outputs": [
    {
     "data": {
      "text/html": [
       "<div>\n",
       "<style scoped>\n",
       "    .dataframe tbody tr th:only-of-type {\n",
       "        vertical-align: middle;\n",
       "    }\n",
       "\n",
       "    .dataframe tbody tr th {\n",
       "        vertical-align: top;\n",
       "    }\n",
       "\n",
       "    .dataframe thead th {\n",
       "        text-align: right;\n",
       "    }\n",
       "</style>\n",
       "<table border=\"1\" class=\"dataframe\">\n",
       "  <thead>\n",
       "    <tr style=\"text-align: right;\">\n",
       "      <th></th>\n",
       "      <th>id</th>\n",
       "      <th>mb_used</th>\n",
       "      <th>session_date</th>\n",
       "      <th>user_id</th>\n",
       "    </tr>\n",
       "  </thead>\n",
       "  <tbody>\n",
       "    <tr>\n",
       "      <td>11</td>\n",
       "      <td>1000_11</td>\n",
       "      <td>0</td>\n",
       "      <td>2018-08-28</td>\n",
       "      <td>1000</td>\n",
       "    </tr>\n",
       "    <tr>\n",
       "      <td>38</td>\n",
       "      <td>1000_38</td>\n",
       "      <td>0</td>\n",
       "      <td>2018-11-27</td>\n",
       "      <td>1000</td>\n",
       "    </tr>\n",
       "    <tr>\n",
       "      <td>46</td>\n",
       "      <td>1000_46</td>\n",
       "      <td>0</td>\n",
       "      <td>2018-06-30</td>\n",
       "      <td>1000</td>\n",
       "    </tr>\n",
       "    <tr>\n",
       "      <td>67</td>\n",
       "      <td>1000_67</td>\n",
       "      <td>0</td>\n",
       "      <td>2018-06-16</td>\n",
       "      <td>1000</td>\n",
       "    </tr>\n",
       "    <tr>\n",
       "      <td>72</td>\n",
       "      <td>1000_72</td>\n",
       "      <td>0</td>\n",
       "      <td>2018-06-15</td>\n",
       "      <td>1000</td>\n",
       "    </tr>\n",
       "    <tr>\n",
       "      <td>...</td>\n",
       "      <td>...</td>\n",
       "      <td>...</td>\n",
       "      <td>...</td>\n",
       "      <td>...</td>\n",
       "    </tr>\n",
       "    <tr>\n",
       "      <td>149380</td>\n",
       "      <td>1499_141</td>\n",
       "      <td>0</td>\n",
       "      <td>2018-12-11</td>\n",
       "      <td>1499</td>\n",
       "    </tr>\n",
       "    <tr>\n",
       "      <td>149381</td>\n",
       "      <td>1499_142</td>\n",
       "      <td>0</td>\n",
       "      <td>2018-11-01</td>\n",
       "      <td>1499</td>\n",
       "    </tr>\n",
       "    <tr>\n",
       "      <td>149383</td>\n",
       "      <td>1499_144</td>\n",
       "      <td>0</td>\n",
       "      <td>2018-11-27</td>\n",
       "      <td>1499</td>\n",
       "    </tr>\n",
       "    <tr>\n",
       "      <td>149386</td>\n",
       "      <td>1499_147</td>\n",
       "      <td>0</td>\n",
       "      <td>2018-10-21</td>\n",
       "      <td>1499</td>\n",
       "    </tr>\n",
       "    <tr>\n",
       "      <td>149393</td>\n",
       "      <td>1499_154</td>\n",
       "      <td>0</td>\n",
       "      <td>2018-10-27</td>\n",
       "      <td>1499</td>\n",
       "    </tr>\n",
       "  </tbody>\n",
       "</table>\n",
       "<p>19598 rows × 4 columns</p>\n",
       "</div>"
      ],
      "text/plain": [
       "              id  mb_used session_date  user_id\n",
       "11       1000_11        0   2018-08-28     1000\n",
       "38       1000_38        0   2018-11-27     1000\n",
       "46       1000_46        0   2018-06-30     1000\n",
       "67       1000_67        0   2018-06-16     1000\n",
       "72       1000_72        0   2018-06-15     1000\n",
       "...          ...      ...          ...      ...\n",
       "149380  1499_141        0   2018-12-11     1499\n",
       "149381  1499_142        0   2018-11-01     1499\n",
       "149383  1499_144        0   2018-11-27     1499\n",
       "149386  1499_147        0   2018-10-21     1499\n",
       "149393  1499_154        0   2018-10-27     1499\n",
       "\n",
       "[19598 rows x 4 columns]"
      ]
     },
     "execution_count": 15,
     "metadata": {},
     "output_type": "execute_result"
    }
   ],
   "source": [
    "internet.query('mb_used == 0')"
   ]
  },
  {
   "cell_type": "markdown",
   "metadata": {},
   "source": [
    "Из таблицы видно, что выход в интернет длительностью ноль минут есть у различных абонентов, в разные периоды времени. Скорее всего это был  осуществлен выход в интернет, но объём потраченного за сессию интернет-трафика (в мегабайтах) равен нулю.\n",
    "Эти нули несут информативное значение о количестве выходов в интернет. В тоже время они не отражаются на получение прибыли оператором и на суммарном потраченном трафике, поэтому убираем их из рассмотрения."
   ]
  },
  {
   "cell_type": "code",
   "execution_count": 16,
   "metadata": {},
   "outputs": [
    {
     "data": {
      "text/plain": [
       "<matplotlib.axes._subplots.AxesSubplot at 0x7fc6cb205f10>"
      ]
     },
     "execution_count": 16,
     "metadata": {},
     "output_type": "execute_result"
    },
    {
     "data": {
      "image/png": "[encoded data removed]",
      "text/plain": [
       "<Figure size 432x288 with 1 Axes>"
      ]
     },
     "metadata": {
      "needs_background": "light"
     },
     "output_type": "display_data"
    }
   ],
   "source": [
    "internet = internet[internet[\"mb_used\"] > 0]#отсортируем таблицу по столбцу duration с условием больше ноля и перезапишем calls дату фрейм с новым результатом\n",
    "internet['mb_used'].plot(kind='hist', y='mb_used', bins=50, title = 'mb_used')#проверяем, строим гистограмму"
   ]
  },
  {
   "cell_type": "markdown",
   "metadata": {},
   "source": [
    "Добавим в даты фреймы calls, messages, internet и users столбцы с месяцами. Они нам в дальшейшем потребуются для работы"
   ]
  },
  {
   "cell_type": "code",
   "execution_count": 17,
   "metadata": {},
   "outputs": [],
   "source": [
    "calls['month'] = calls['call_date'].dt.month"
   ]
  },
  {
   "cell_type": "code",
   "execution_count": 18,
   "metadata": {},
   "outputs": [],
   "source": [
    "messages['month'] = messages['message_date'].dt.month"
   ]
  },
  {
   "cell_type": "code",
   "execution_count": 19,
   "metadata": {},
   "outputs": [],
   "source": [
    "internet['month'] = internet['session_date'].dt.month"
   ]
  },
  {
   "cell_type": "code",
   "execution_count": 20,
   "metadata": {},
   "outputs": [],
   "source": [
    "users['month'] = users['reg_date'].dt.month"
   ]
  },
  {
   "cell_type": "markdown",
   "metadata": {},
   "source": [
    "* количество сделанных звонков и израсходованных минут разговора по месяцам"
   ]
  },
  {
   "cell_type": "code",
   "execution_count": 21,
   "metadata": {
    "scrolled": false
   },
   "outputs": [
    {
     "data": {
      "text/html": [
       "<div>\n",
       "<style scoped>\n",
       "    .dataframe tbody tr th:only-of-type {\n",
       "        vertical-align: middle;\n",
       "    }\n",
       "\n",
       "    .dataframe tbody tr th {\n",
       "        vertical-align: top;\n",
       "    }\n",
       "\n",
       "    .dataframe thead th {\n",
       "        text-align: right;\n",
       "    }\n",
       "</style>\n",
       "<table border=\"1\" class=\"dataframe\">\n",
       "  <thead>\n",
       "    <tr style=\"text-align: right;\">\n",
       "      <th></th>\n",
       "      <th></th>\n",
       "      <th>count</th>\n",
       "      <th>sum</th>\n",
       "    </tr>\n",
       "    <tr>\n",
       "      <th>month</th>\n",
       "      <th>user_id</th>\n",
       "      <th></th>\n",
       "      <th></th>\n",
       "    </tr>\n",
       "  </thead>\n",
       "  <tbody>\n",
       "    <tr>\n",
       "      <td rowspan=\"5\" valign=\"top\">1</td>\n",
       "      <td>1005</td>\n",
       "      <td>11</td>\n",
       "      <td>95</td>\n",
       "    </tr>\n",
       "    <tr>\n",
       "      <td>1032</td>\n",
       "      <td>44</td>\n",
       "      <td>380</td>\n",
       "    </tr>\n",
       "    <tr>\n",
       "      <td>1045</td>\n",
       "      <td>1</td>\n",
       "      <td>9</td>\n",
       "    </tr>\n",
       "    <tr>\n",
       "      <td>1055</td>\n",
       "      <td>47</td>\n",
       "      <td>551</td>\n",
       "    </tr>\n",
       "    <tr>\n",
       "      <td>1071</td>\n",
       "      <td>18</td>\n",
       "      <td>194</td>\n",
       "    </tr>\n",
       "    <tr>\n",
       "      <td>...</td>\n",
       "      <td>...</td>\n",
       "      <td>...</td>\n",
       "      <td>...</td>\n",
       "    </tr>\n",
       "    <tr>\n",
       "      <td rowspan=\"5\" valign=\"top\">12</td>\n",
       "      <td>1494</td>\n",
       "      <td>54</td>\n",
       "      <td>418</td>\n",
       "    </tr>\n",
       "    <tr>\n",
       "      <td>1495</td>\n",
       "      <td>120</td>\n",
       "      <td>1031</td>\n",
       "    </tr>\n",
       "    <tr>\n",
       "      <td>1496</td>\n",
       "      <td>65</td>\n",
       "      <td>518</td>\n",
       "    </tr>\n",
       "    <tr>\n",
       "      <td>1497</td>\n",
       "      <td>58</td>\n",
       "      <td>545</td>\n",
       "    </tr>\n",
       "    <tr>\n",
       "      <td>1499</td>\n",
       "      <td>56</td>\n",
       "      <td>492</td>\n",
       "    </tr>\n",
       "  </tbody>\n",
       "</table>\n",
       "<p>3168 rows × 2 columns</p>\n",
       "</div>"
      ],
      "text/plain": [
       "               count   sum\n",
       "month user_id             \n",
       "1     1005        11    95\n",
       "      1032        44   380\n",
       "      1045         1     9\n",
       "      1055        47   551\n",
       "      1071        18   194\n",
       "...              ...   ...\n",
       "12    1494        54   418\n",
       "      1495       120  1031\n",
       "      1496        65   518\n",
       "      1497        58   545\n",
       "      1499        56   492\n",
       "\n",
       "[3168 rows x 2 columns]"
      ]
     },
     "execution_count": 21,
     "metadata": {},
     "output_type": "execute_result"
    }
   ],
   "source": [
    "calls_group=calls.pivot_table(index=['month', 'user_id'],values='duration',aggfunc=('count', 'sum'))\n",
    "\n",
    "calls_group"
   ]
  },
  {
   "cell_type": "code",
   "execution_count": 22,
   "metadata": {
    "scrolled": false
   },
   "outputs": [
    {
     "data": {
      "text/plain": [
       "Text(0, 0.5, 'Количество звонков')"
      ]
     },
     "execution_count": 22,
     "metadata": {},
     "output_type": "execute_result"
    },
    {
     "data": {
      "image/png": "[encoded data removed]",
      "text/plain": [
       "<Figure size 432x288 with 1 Axes>"
      ]
     },
     "metadata": {
      "needs_background": "light"
     },
     "output_type": "display_data"
    }
   ],
   "source": [
    "calls.groupby('month')['duration'].count().plot(x=\"month\", y=\"count\", kind=\"bar\", rot=10, fontsize=10)\n",
    "plt.title('Зависимость количества телефонных звонков от месяца года')\n",
    "plt.xlabel(\"Месяц\")\n",
    "plt.ylabel(\"Количество звонков\")"
   ]
  },
  {
   "cell_type": "code",
   "execution_count": 23,
   "metadata": {},
   "outputs": [
    {
     "data": {
      "text/plain": [
       "Text(0, 0.5, 'Длительность звонков')"
      ]
     },
     "execution_count": 23,
     "metadata": {},
     "output_type": "execute_result"
    },
    {
     "data": {
      "image/png": "[encoded data removed]",
      "text/plain": [
       "<Figure size 432x288 with 1 Axes>"
      ]
     },
     "metadata": {
      "needs_background": "light"
     },
     "output_type": "display_data"
    }
   ],
   "source": [
    "calls.groupby('month')['duration'].sum().plot(x=\"month\", y=\"count\", kind=\"bar\", rot=10, fontsize=10)\n",
    "plt.title('Зависимость длительности телефонных звонков от месяца года')\n",
    "plt.xlabel(\"Месяц\")\n",
    "plt.ylabel(\"Длительность звонков\")"
   ]
  },
  {
   "cell_type": "markdown",
   "metadata": {},
   "source": [
    "Наблюдаем интересную зависимость. Количество звонков и длительность телефонных разговоров возрастает к концу года. Сделаю предположение, что количество абонентов растет и это влияет на количество звонков."
   ]
  },
  {
   "cell_type": "markdown",
   "metadata": {},
   "source": [
    "* количество отправленных сообщений по месяцам"
   ]
  },
  {
   "cell_type": "code",
   "execution_count": 24,
   "metadata": {
    "scrolled": true
   },
   "outputs": [
    {
     "data": {
      "text/html": [
       "<div>\n",
       "<style scoped>\n",
       "    .dataframe tbody tr th:only-of-type {\n",
       "        vertical-align: middle;\n",
       "    }\n",
       "\n",
       "    .dataframe tbody tr th {\n",
       "        vertical-align: top;\n",
       "    }\n",
       "\n",
       "    .dataframe thead th {\n",
       "        text-align: right;\n",
       "    }\n",
       "</style>\n",
       "<table border=\"1\" class=\"dataframe\">\n",
       "  <thead>\n",
       "    <tr style=\"text-align: right;\">\n",
       "      <th></th>\n",
       "      <th></th>\n",
       "      <th>id</th>\n",
       "    </tr>\n",
       "    <tr>\n",
       "      <th>month</th>\n",
       "      <th>user_id</th>\n",
       "      <th></th>\n",
       "    </tr>\n",
       "  </thead>\n",
       "  <tbody>\n",
       "    <tr>\n",
       "      <td rowspan=\"5\" valign=\"top\">1</td>\n",
       "      <td>1005</td>\n",
       "      <td>7</td>\n",
       "    </tr>\n",
       "    <tr>\n",
       "      <td>1032</td>\n",
       "      <td>38</td>\n",
       "    </tr>\n",
       "    <tr>\n",
       "      <td>1045</td>\n",
       "      <td>5</td>\n",
       "    </tr>\n",
       "    <tr>\n",
       "      <td>1055</td>\n",
       "      <td>30</td>\n",
       "    </tr>\n",
       "    <tr>\n",
       "      <td>1071</td>\n",
       "      <td>16</td>\n",
       "    </tr>\n",
       "    <tr>\n",
       "      <td>...</td>\n",
       "      <td>...</td>\n",
       "      <td>...</td>\n",
       "    </tr>\n",
       "    <tr>\n",
       "      <td rowspan=\"5\" valign=\"top\">12</td>\n",
       "      <td>1493</td>\n",
       "      <td>78</td>\n",
       "    </tr>\n",
       "    <tr>\n",
       "      <td>1495</td>\n",
       "      <td>84</td>\n",
       "    </tr>\n",
       "    <tr>\n",
       "      <td>1496</td>\n",
       "      <td>51</td>\n",
       "    </tr>\n",
       "    <tr>\n",
       "      <td>1497</td>\n",
       "      <td>17</td>\n",
       "    </tr>\n",
       "    <tr>\n",
       "      <td>1499</td>\n",
       "      <td>66</td>\n",
       "    </tr>\n",
       "  </tbody>\n",
       "</table>\n",
       "<p>2717 rows × 1 columns</p>\n",
       "</div>"
      ],
      "text/plain": [
       "               id\n",
       "month user_id    \n",
       "1     1005      7\n",
       "      1032     38\n",
       "      1045      5\n",
       "      1055     30\n",
       "      1071     16\n",
       "...            ..\n",
       "12    1493     78\n",
       "      1495     84\n",
       "      1496     51\n",
       "      1497     17\n",
       "      1499     66\n",
       "\n",
       "[2717 rows x 1 columns]"
      ]
     },
     "execution_count": 24,
     "metadata": {},
     "output_type": "execute_result"
    }
   ],
   "source": [
    "messages_group=messages.pivot_table(index=['month', 'user_id'],values='id',aggfunc=('count'))\n",
    "messages_group"
   ]
  },
  {
   "cell_type": "code",
   "execution_count": 25,
   "metadata": {
    "scrolled": true
   },
   "outputs": [
    {
     "data": {
      "text/plain": [
       "Text(0, 0.5, 'Количество сообщений')"
      ]
     },
     "execution_count": 25,
     "metadata": {},
     "output_type": "execute_result"
    },
    {
     "data": {
      "image/png": "[encoded data removed]",
      "text/plain": [
       "<Figure size 432x288 with 1 Axes>"
      ]
     },
     "metadata": {
      "needs_background": "light"
     },
     "output_type": "display_data"
    }
   ],
   "source": [
    "messages.groupby('month')['user_id'].count().plot(x=\"month\", y=\"sum\", kind=\"bar\", rot=10, fontsize=10)\n",
    "plt.title('Зависимость количества сообщений от месяца года')\n",
    "plt.xlabel(\"Месяц\")\n",
    "plt.ylabel(\"Количество сообщений\")"
   ]
  },
  {
   "cell_type": "markdown",
   "metadata": {},
   "source": [
    "Картина не изменяется, количество смс возрастает к приближению Нового года."
   ]
  },
  {
   "cell_type": "markdown",
   "metadata": {},
   "source": [
    "* объем израсходованного интернет-трафика по месяцам"
   ]
  },
  {
   "cell_type": "code",
   "execution_count": 26,
   "metadata": {
    "scrolled": true
   },
   "outputs": [
    {
     "data": {
      "text/html": [
       "<div>\n",
       "<style scoped>\n",
       "    .dataframe tbody tr th:only-of-type {\n",
       "        vertical-align: middle;\n",
       "    }\n",
       "\n",
       "    .dataframe tbody tr th {\n",
       "        vertical-align: top;\n",
       "    }\n",
       "\n",
       "    .dataframe thead th {\n",
       "        text-align: right;\n",
       "    }\n",
       "</style>\n",
       "<table border=\"1\" class=\"dataframe\">\n",
       "  <thead>\n",
       "    <tr style=\"text-align: right;\">\n",
       "      <th></th>\n",
       "      <th></th>\n",
       "      <th>mb_used</th>\n",
       "    </tr>\n",
       "    <tr>\n",
       "      <th>month</th>\n",
       "      <th>user_id</th>\n",
       "      <th></th>\n",
       "    </tr>\n",
       "  </thead>\n",
       "  <tbody>\n",
       "    <tr>\n",
       "      <td rowspan=\"5\" valign=\"top\">1</td>\n",
       "      <td>1005</td>\n",
       "      <td>2730</td>\n",
       "    </tr>\n",
       "    <tr>\n",
       "      <td>1032</td>\n",
       "      <td>24147</td>\n",
       "    </tr>\n",
       "    <tr>\n",
       "      <td>1045</td>\n",
       "      <td>2348</td>\n",
       "    </tr>\n",
       "    <tr>\n",
       "      <td>1055</td>\n",
       "      <td>17111</td>\n",
       "    </tr>\n",
       "    <tr>\n",
       "      <td>1071</td>\n",
       "      <td>15622</td>\n",
       "    </tr>\n",
       "    <tr>\n",
       "      <td>...</td>\n",
       "      <td>...</td>\n",
       "      <td>...</td>\n",
       "    </tr>\n",
       "    <tr>\n",
       "      <td rowspan=\"5\" valign=\"top\">12</td>\n",
       "      <td>1494</td>\n",
       "      <td>17645</td>\n",
       "    </tr>\n",
       "    <tr>\n",
       "      <td>1495</td>\n",
       "      <td>23450</td>\n",
       "    </tr>\n",
       "    <tr>\n",
       "      <td>1496</td>\n",
       "      <td>20757</td>\n",
       "    </tr>\n",
       "    <tr>\n",
       "      <td>1497</td>\n",
       "      <td>19940</td>\n",
       "    </tr>\n",
       "    <tr>\n",
       "      <td>1499</td>\n",
       "      <td>13077</td>\n",
       "    </tr>\n",
       "  </tbody>\n",
       "</table>\n",
       "<p>3201 rows × 1 columns</p>\n",
       "</div>"
      ],
      "text/plain": [
       "               mb_used\n",
       "month user_id         \n",
       "1     1005        2730\n",
       "      1032       24147\n",
       "      1045        2348\n",
       "      1055       17111\n",
       "      1071       15622\n",
       "...                ...\n",
       "12    1494       17645\n",
       "      1495       23450\n",
       "      1496       20757\n",
       "      1497       19940\n",
       "      1499       13077\n",
       "\n",
       "[3201 rows x 1 columns]"
      ]
     },
     "execution_count": 26,
     "metadata": {},
     "output_type": "execute_result"
    }
   ],
   "source": [
    "internet_group=internet.pivot_table(index=['month', 'user_id'],values='mb_used',aggfunc=('sum'))\n",
    "internet_group"
   ]
  },
  {
   "cell_type": "code",
   "execution_count": 27,
   "metadata": {
    "scrolled": false
   },
   "outputs": [
    {
     "data": {
      "text/plain": [
       "Text(0, 0.5, 'Количество интернет трафика')"
      ]
     },
     "execution_count": 27,
     "metadata": {},
     "output_type": "execute_result"
    },
    {
     "data": {
      "image/png": "[encoded data removed]",
      "text/plain": [
       "<Figure size 432x288 with 1 Axes>"
      ]
     },
     "metadata": {
      "needs_background": "light"
     },
     "output_type": "display_data"
    }
   ],
   "source": [
    "internet.groupby('month')['mb_used'].sum().plot(x=\"month\", y=\"sum\", kind=\"bar\", rot=10, fontsize=10)\n",
    "plt.title('Зависимость интернет трафика от месяца года')\n",
    "plt.xlabel(\"Месяц\")\n",
    "plt.ylabel(\"Количество интернет трафика\")"
   ]
  },
  {
   "cell_type": "markdown",
   "metadata": {},
   "source": [
    "И здесь тоже самое. Трафик растет от месяца к месяцу."
   ]
  },
  {
   "cell_type": "code",
   "execution_count": 28,
   "metadata": {
    "scrolled": false
   },
   "outputs": [
    {
     "data": {
      "text/plain": [
       "Text(0, 0.5, 'Количество')"
      ]
     },
     "execution_count": 28,
     "metadata": {},
     "output_type": "execute_result"
    },
    {
     "data": {
      "image/png": "[encoded data removed]",
      "text/plain": [
       "<Figure size 432x288 with 1 Axes>"
      ]
     },
     "metadata": {
      "needs_background": "light"
     },
     "output_type": "display_data"
    }
   ],
   "source": [
    "calls.groupby('month')['duration'].count().plot(x=\"month\", y=\"count\", kind=\"bar\", rot=10, fontsize=10, color='r')\n",
    "internet.groupby('month')['mb_used'].count().plot(x=\"month\", y=\"count\", kind=\"bar\", rot=10, fontsize=10, color='y')\n",
    "messages.groupby('month')['user_id'].count().plot(x=\"month\", y=\"count\", kind=\"bar\", rot=10, fontsize=10, alpha=0.7)\n",
    "plt.title('Зависимостьколичества звонков, смс и интернет трафика от месяца года')\n",
    "plt.legend(['звонки', 'интернет трафик',  'смс'])\n",
    "plt.xlabel(\"Месяц\")\n",
    "plt.ylabel(\"Количество\")"
   ]
  },
  {
   "cell_type": "markdown",
   "metadata": {},
   "source": [
    "Зависимости звонков, смс и трафик интернета от месяца года повторяют друг друга."
   ]
  },
  {
   "cell_type": "markdown",
   "metadata": {},
   "source": [
    "Создадим новую сводную таблицу, в которой графами будут:\n",
    "- User_id -  уникальный идентификатор пользователя\n",
    "- month\t- месяц\n",
    "- call_number - количество звонков\t\n",
    "- call - длительность звонков\n",
    "- sms_number - количество смс\t\n",
    "- internet_MB - объём потраченного за сессию интернет-трафика (в мегабайтах)\n",
    "- tariff - тариф \n",
    "- city - город\n",
    "- city_Moscow - если город Москва - \"1\", другой город - \"0\"\n",
    "- region - если регион - \"1\",  город Москва - \"0\""
   ]
  },
  {
   "cell_type": "code",
   "execution_count": 29,
   "metadata": {},
   "outputs": [
    {
     "data": {
      "text/html": [
       "<div>\n",
       "<style scoped>\n",
       "    .dataframe tbody tr th:only-of-type {\n",
       "        vertical-align: middle;\n",
       "    }\n",
       "\n",
       "    .dataframe tbody tr th {\n",
       "        vertical-align: top;\n",
       "    }\n",
       "\n",
       "    .dataframe thead th {\n",
       "        text-align: right;\n",
       "    }\n",
       "</style>\n",
       "<table border=\"1\" class=\"dataframe\">\n",
       "  <thead>\n",
       "    <tr style=\"text-align: right;\">\n",
       "      <th></th>\n",
       "      <th>User_id</th>\n",
       "      <th>month</th>\n",
       "      <th>call_number</th>\n",
       "      <th>call</th>\n",
       "      <th>sms_number</th>\n",
       "      <th>internet_MB</th>\n",
       "      <th>tariff</th>\n",
       "      <th>city</th>\n",
       "      <th>city_Moscow</th>\n",
       "      <th>region</th>\n",
       "    </tr>\n",
       "  </thead>\n",
       "  <tbody>\n",
       "    <tr>\n",
       "      <td>0</td>\n",
       "      <td>1000</td>\n",
       "      <td>5</td>\n",
       "      <td>17.0</td>\n",
       "      <td>159.0</td>\n",
       "      <td>22.0</td>\n",
       "      <td>2256.0</td>\n",
       "      <td>ultra</td>\n",
       "      <td>Краснодар</td>\n",
       "      <td>0</td>\n",
       "      <td>1</td>\n",
       "    </tr>\n",
       "    <tr>\n",
       "      <td>1</td>\n",
       "      <td>1000</td>\n",
       "      <td>6</td>\n",
       "      <td>28.0</td>\n",
       "      <td>172.0</td>\n",
       "      <td>60.0</td>\n",
       "      <td>23257.0</td>\n",
       "      <td>ultra</td>\n",
       "      <td>Краснодар</td>\n",
       "      <td>0</td>\n",
       "      <td>1</td>\n",
       "    </tr>\n",
       "    <tr>\n",
       "      <td>2</td>\n",
       "      <td>1000</td>\n",
       "      <td>7</td>\n",
       "      <td>41.0</td>\n",
       "      <td>340.0</td>\n",
       "      <td>75.0</td>\n",
       "      <td>14016.0</td>\n",
       "      <td>ultra</td>\n",
       "      <td>Краснодар</td>\n",
       "      <td>0</td>\n",
       "      <td>1</td>\n",
       "    </tr>\n",
       "    <tr>\n",
       "      <td>3</td>\n",
       "      <td>1000</td>\n",
       "      <td>8</td>\n",
       "      <td>42.0</td>\n",
       "      <td>408.0</td>\n",
       "      <td>81.0</td>\n",
       "      <td>14070.0</td>\n",
       "      <td>ultra</td>\n",
       "      <td>Краснодар</td>\n",
       "      <td>0</td>\n",
       "      <td>1</td>\n",
       "    </tr>\n",
       "    <tr>\n",
       "      <td>4</td>\n",
       "      <td>1000</td>\n",
       "      <td>9</td>\n",
       "      <td>46.0</td>\n",
       "      <td>466.0</td>\n",
       "      <td>57.0</td>\n",
       "      <td>14581.0</td>\n",
       "      <td>ultra</td>\n",
       "      <td>Краснодар</td>\n",
       "      <td>0</td>\n",
       "      <td>1</td>\n",
       "    </tr>\n",
       "    <tr>\n",
       "      <td>...</td>\n",
       "      <td>...</td>\n",
       "      <td>...</td>\n",
       "      <td>...</td>\n",
       "      <td>...</td>\n",
       "      <td>...</td>\n",
       "      <td>...</td>\n",
       "      <td>...</td>\n",
       "      <td>...</td>\n",
       "      <td>...</td>\n",
       "      <td>...</td>\n",
       "    </tr>\n",
       "    <tr>\n",
       "      <td>3209</td>\n",
       "      <td>1489</td>\n",
       "      <td>8</td>\n",
       "      <td>NaN</td>\n",
       "      <td>NaN</td>\n",
       "      <td>17.0</td>\n",
       "      <td>11066.0</td>\n",
       "      <td>smart</td>\n",
       "      <td>Санкт-Петербург</td>\n",
       "      <td>0</td>\n",
       "      <td>1</td>\n",
       "    </tr>\n",
       "    <tr>\n",
       "      <td>3210</td>\n",
       "      <td>1489</td>\n",
       "      <td>9</td>\n",
       "      <td>NaN</td>\n",
       "      <td>NaN</td>\n",
       "      <td>32.0</td>\n",
       "      <td>17232.0</td>\n",
       "      <td>smart</td>\n",
       "      <td>Санкт-Петербург</td>\n",
       "      <td>0</td>\n",
       "      <td>1</td>\n",
       "    </tr>\n",
       "    <tr>\n",
       "      <td>3211</td>\n",
       "      <td>1489</td>\n",
       "      <td>10</td>\n",
       "      <td>NaN</td>\n",
       "      <td>NaN</td>\n",
       "      <td>21.0</td>\n",
       "      <td>19588.0</td>\n",
       "      <td>smart</td>\n",
       "      <td>Санкт-Петербург</td>\n",
       "      <td>0</td>\n",
       "      <td>1</td>\n",
       "    </tr>\n",
       "    <tr>\n",
       "      <td>3212</td>\n",
       "      <td>1489</td>\n",
       "      <td>11</td>\n",
       "      <td>NaN</td>\n",
       "      <td>NaN</td>\n",
       "      <td>20.0</td>\n",
       "      <td>17516.0</td>\n",
       "      <td>smart</td>\n",
       "      <td>Санкт-Петербург</td>\n",
       "      <td>0</td>\n",
       "      <td>1</td>\n",
       "    </tr>\n",
       "    <tr>\n",
       "      <td>3213</td>\n",
       "      <td>1489</td>\n",
       "      <td>12</td>\n",
       "      <td>NaN</td>\n",
       "      <td>NaN</td>\n",
       "      <td>35.0</td>\n",
       "      <td>17341.0</td>\n",
       "      <td>smart</td>\n",
       "      <td>Санкт-Петербург</td>\n",
       "      <td>0</td>\n",
       "      <td>1</td>\n",
       "    </tr>\n",
       "  </tbody>\n",
       "</table>\n",
       "<p>3214 rows × 10 columns</p>\n",
       "</div>"
      ],
      "text/plain": [
       "      User_id  month  call_number   call  sms_number  internet_MB tariff  \\\n",
       "0        1000      5         17.0  159.0        22.0       2256.0  ultra   \n",
       "1        1000      6         28.0  172.0        60.0      23257.0  ultra   \n",
       "2        1000      7         41.0  340.0        75.0      14016.0  ultra   \n",
       "3        1000      8         42.0  408.0        81.0      14070.0  ultra   \n",
       "4        1000      9         46.0  466.0        57.0      14581.0  ultra   \n",
       "...       ...    ...          ...    ...         ...          ...    ...   \n",
       "3209     1489      8          NaN    NaN        17.0      11066.0  smart   \n",
       "3210     1489      9          NaN    NaN        32.0      17232.0  smart   \n",
       "3211     1489     10          NaN    NaN        21.0      19588.0  smart   \n",
       "3212     1489     11          NaN    NaN        20.0      17516.0  smart   \n",
       "3213     1489     12          NaN    NaN        35.0      17341.0  smart   \n",
       "\n",
       "                 city  city_Moscow  region  \n",
       "0           Краснодар            0       1  \n",
       "1           Краснодар            0       1  \n",
       "2           Краснодар            0       1  \n",
       "3           Краснодар            0       1  \n",
       "4           Краснодар            0       1  \n",
       "...               ...          ...     ...  \n",
       "3209  Санкт-Петербург            0       1  \n",
       "3210  Санкт-Петербург            0       1  \n",
       "3211  Санкт-Петербург            0       1  \n",
       "3212  Санкт-Петербург            0       1  \n",
       "3213  Санкт-Петербург            0       1  \n",
       "\n",
       "[3214 rows x 10 columns]"
      ]
     },
     "execution_count": 29,
     "metadata": {},
     "output_type": "execute_result"
    }
   ],
   "source": [
    "user_calls = calls.groupby(['user_id', 'month'])['duration'].agg(['count', 'sum'])\n",
    "#user_calls\n",
    "user_messages = messages.groupby(['user_id', 'month'])['id'].agg(['count'])\n",
    "#user_messages\n",
    "user_internet = internet.groupby(['user_id', 'month'])['mb_used'].agg(['sum'])\n",
    "#user_internet\n",
    "data_all =pd.merge((pd.merge(user_calls, user_messages, on = ['user_id', 'month'], how='outer')), user_internet, on = ['user_id', 'month'], how='outer')\n",
    "data_all = data_all.reset_index()# метод для сброса индекса фрейма данных\n",
    "data_all =  data_all.merge(users[['user_id','tariff']], on =  'user_id')\n",
    "data_all = data_all.merge(users[['user_id','city']], on = 'user_id')\n",
    "data_all.columns =  ['User_id','month', 'call_number', 'call', 'sms_number', 'internet_MB', 'tariff', 'city']\n",
    "data_all['city_Moscow'] = np.where(data_all['city']=='Москва', '1', '0').astype('int32')\n",
    "data_all['region'] = np.where(data_all['city']!='Москва', '1', '0').astype('int32')\n",
    "data_all"
   ]
  },
  {
   "cell_type": "code",
   "execution_count": 30,
   "metadata": {
    "scrolled": true
   },
   "outputs": [
    {
     "name": "stdout",
     "output_type": "stream",
     "text": [
      "<class 'pandas.core.frame.DataFrame'>\n",
      "Int64Index: 3214 entries, 0 to 3213\n",
      "Data columns (total 10 columns):\n",
      "User_id        3214 non-null int64\n",
      "month          3214 non-null int64\n",
      "call_number    3168 non-null float64\n",
      "call           3168 non-null float64\n",
      "sms_number     2717 non-null float64\n",
      "internet_MB    3201 non-null float64\n",
      "tariff         3214 non-null object\n",
      "city           3214 non-null object\n",
      "city_Moscow    3214 non-null int32\n",
      "region         3214 non-null int32\n",
      "dtypes: float64(4), int32(2), int64(2), object(2)\n",
      "memory usage: 251.1+ KB\n"
     ]
    }
   ],
   "source": [
    "data_all.info()"
   ]
  },
  {
   "cell_type": "markdown",
   "metadata": {},
   "source": [
    "В сводной таблице имеются пропуски. Посмотрим как соотносятся нули в этих столбцах"
   ]
  },
  {
   "cell_type": "code",
   "execution_count": 31,
   "metadata": {},
   "outputs": [
    {
     "data": {
      "text/html": [
       "<div>\n",
       "<style scoped>\n",
       "    .dataframe tbody tr th:only-of-type {\n",
       "        vertical-align: middle;\n",
       "    }\n",
       "\n",
       "    .dataframe tbody tr th {\n",
       "        vertical-align: top;\n",
       "    }\n",
       "\n",
       "    .dataframe thead th {\n",
       "        text-align: right;\n",
       "    }\n",
       "</style>\n",
       "<table border=\"1\" class=\"dataframe\">\n",
       "  <thead>\n",
       "    <tr style=\"text-align: right;\">\n",
       "      <th></th>\n",
       "      <th>User_id</th>\n",
       "      <th>month</th>\n",
       "      <th>call_number</th>\n",
       "      <th>call</th>\n",
       "      <th>sms_number</th>\n",
       "      <th>internet_MB</th>\n",
       "      <th>tariff</th>\n",
       "      <th>city</th>\n",
       "      <th>city_Moscow</th>\n",
       "      <th>region</th>\n",
       "    </tr>\n",
       "  </thead>\n",
       "  <tbody>\n",
       "    <tr>\n",
       "      <td>1503</td>\n",
       "      <td>1240</td>\n",
       "      <td>2</td>\n",
       "      <td>NaN</td>\n",
       "      <td>NaN</td>\n",
       "      <td>NaN</td>\n",
       "      <td>961.0</td>\n",
       "      <td>ultra</td>\n",
       "      <td>Воронеж</td>\n",
       "      <td>0</td>\n",
       "      <td>1</td>\n",
       "    </tr>\n",
       "    <tr>\n",
       "      <td>3039</td>\n",
       "      <td>1476</td>\n",
       "      <td>4</td>\n",
       "      <td>NaN</td>\n",
       "      <td>NaN</td>\n",
       "      <td>NaN</td>\n",
       "      <td>531.0</td>\n",
       "      <td>ultra</td>\n",
       "      <td>Москва</td>\n",
       "      <td>1</td>\n",
       "      <td>0</td>\n",
       "    </tr>\n",
       "  </tbody>\n",
       "</table>\n",
       "</div>"
      ],
      "text/plain": [
       "      User_id  month  call_number  call  sms_number  internet_MB tariff  \\\n",
       "1503     1240      2          NaN   NaN         NaN        961.0  ultra   \n",
       "3039     1476      4          NaN   NaN         NaN        531.0  ultra   \n",
       "\n",
       "         city  city_Moscow  region  \n",
       "1503  Воронеж            0       1  \n",
       "3039   Москва            1       0  "
      ]
     },
     "execution_count": 31,
     "metadata": {},
     "output_type": "execute_result"
    }
   ],
   "source": [
    "data_all.loc[(data_all['sms_number'].isnull()) & (data_all['call_number'].isnull())]"
   ]
  },
  {
   "cell_type": "code",
   "execution_count": 32,
   "metadata": {
    "scrolled": true
   },
   "outputs": [
    {
     "data": {
      "text/html": [
       "<div>\n",
       "<style scoped>\n",
       "    .dataframe tbody tr th:only-of-type {\n",
       "        vertical-align: middle;\n",
       "    }\n",
       "\n",
       "    .dataframe tbody tr th {\n",
       "        vertical-align: top;\n",
       "    }\n",
       "\n",
       "    .dataframe thead th {\n",
       "        text-align: right;\n",
       "    }\n",
       "</style>\n",
       "<table border=\"1\" class=\"dataframe\">\n",
       "  <thead>\n",
       "    <tr style=\"text-align: right;\">\n",
       "      <th></th>\n",
       "      <th>User_id</th>\n",
       "      <th>month</th>\n",
       "      <th>call_number</th>\n",
       "      <th>call</th>\n",
       "      <th>sms_number</th>\n",
       "      <th>internet_MB</th>\n",
       "      <th>tariff</th>\n",
       "      <th>city</th>\n",
       "      <th>city_Moscow</th>\n",
       "      <th>region</th>\n",
       "    </tr>\n",
       "  </thead>\n",
       "  <tbody>\n",
       "  </tbody>\n",
       "</table>\n",
       "</div>"
      ],
      "text/plain": [
       "Empty DataFrame\n",
       "Columns: [User_id, month, call_number, call, sms_number, internet_MB, tariff, city, city_Moscow, region]\n",
       "Index: []"
      ]
     },
     "execution_count": 32,
     "metadata": {},
     "output_type": "execute_result"
    }
   ],
   "source": [
    "data_all.loc[(data_all['internet_MB'].isnull()) & (data_all['call_number'].isnull()) & (data_all['sms_number'].isnull())]"
   ]
  },
  {
   "cell_type": "markdown",
   "metadata": {},
   "source": [
    "Людей, которые не используют телефон для смс, звоноков и выхода в интернет не выявлено. Следовательно, просто эти абоненты просто не пользуются одним из видов связью. Предположу, что есть категория абонентов, которые используют тариф только для выхода в интернет или только для звонков и отправления смс. Поставим на месте пропусков нули."
   ]
  },
  {
   "cell_type": "code",
   "execution_count": 33,
   "metadata": {},
   "outputs": [],
   "source": [
    "data_all = data_all.fillna(0)"
   ]
  },
  {
   "cell_type": "code",
   "execution_count": 34,
   "metadata": {},
   "outputs": [
    {
     "name": "stdout",
     "output_type": "stream",
     "text": [
      "<class 'pandas.core.frame.DataFrame'>\n",
      "Int64Index: 3214 entries, 0 to 3213\n",
      "Data columns (total 10 columns):\n",
      "User_id        3214 non-null int64\n",
      "month          3214 non-null int64\n",
      "call_number    3214 non-null float64\n",
      "call           3214 non-null float64\n",
      "sms_number     3214 non-null float64\n",
      "internet_MB    3214 non-null float64\n",
      "tariff         3214 non-null object\n",
      "city           3214 non-null object\n",
      "city_Moscow    3214 non-null int32\n",
      "region         3214 non-null int32\n",
      "dtypes: float64(4), int32(2), int64(2), object(2)\n",
      "memory usage: 251.1+ KB\n"
     ]
    }
   ],
   "source": [
    "data_all.info()"
   ]
  },
  {
   "cell_type": "markdown",
   "metadata": {},
   "source": [
    "Проверим есть ли дупликаты"
   ]
  },
  {
   "cell_type": "code",
   "execution_count": 35,
   "metadata": {
    "scrolled": true
   },
   "outputs": [
    {
     "data": {
      "text/plain": [
       "0"
      ]
     },
     "execution_count": 35,
     "metadata": {},
     "output_type": "execute_result"
    }
   ],
   "source": [
    "data_all.duplicated().sum()"
   ]
  },
  {
   "cell_type": "markdown",
   "metadata": {},
   "source": [
    "Добавам в data_all новый столбец month_pay, в котором отразим стоимость абонентской платы в месяц в зависимости от тарифа."
   ]
  },
  {
   "cell_type": "code",
   "execution_count": 36,
   "metadata": {},
   "outputs": [],
   "source": [
    "data_all['month_pay'] =  np.where(data_all['tariff']=='ultra', tariffs.loc[tariffs['tariff_name'] == 'ultra', 'rub_monthly_fee'],  tariffs.loc[tariffs['tariff_name'] == 'smart', 'rub_monthly_fee'])"
   ]
  },
  {
   "cell_type": "code",
   "execution_count": 37,
   "metadata": {},
   "outputs": [
    {
     "data": {
      "text/html": [
       "<div>\n",
       "<style scoped>\n",
       "    .dataframe tbody tr th:only-of-type {\n",
       "        vertical-align: middle;\n",
       "    }\n",
       "\n",
       "    .dataframe tbody tr th {\n",
       "        vertical-align: top;\n",
       "    }\n",
       "\n",
       "    .dataframe thead th {\n",
       "        text-align: right;\n",
       "    }\n",
       "</style>\n",
       "<table border=\"1\" class=\"dataframe\">\n",
       "  <thead>\n",
       "    <tr style=\"text-align: right;\">\n",
       "      <th></th>\n",
       "      <th>User_id</th>\n",
       "      <th>month</th>\n",
       "      <th>call_number</th>\n",
       "      <th>call</th>\n",
       "      <th>sms_number</th>\n",
       "      <th>internet_MB</th>\n",
       "      <th>tariff</th>\n",
       "      <th>city</th>\n",
       "      <th>city_Moscow</th>\n",
       "      <th>region</th>\n",
       "      <th>month_pay</th>\n",
       "    </tr>\n",
       "  </thead>\n",
       "  <tbody>\n",
       "    <tr>\n",
       "      <td>0</td>\n",
       "      <td>1000</td>\n",
       "      <td>5</td>\n",
       "      <td>17.0</td>\n",
       "      <td>159.0</td>\n",
       "      <td>22.0</td>\n",
       "      <td>2256.0</td>\n",
       "      <td>ultra</td>\n",
       "      <td>Краснодар</td>\n",
       "      <td>0</td>\n",
       "      <td>1</td>\n",
       "      <td>1950</td>\n",
       "    </tr>\n",
       "    <tr>\n",
       "      <td>1</td>\n",
       "      <td>1000</td>\n",
       "      <td>6</td>\n",
       "      <td>28.0</td>\n",
       "      <td>172.0</td>\n",
       "      <td>60.0</td>\n",
       "      <td>23257.0</td>\n",
       "      <td>ultra</td>\n",
       "      <td>Краснодар</td>\n",
       "      <td>0</td>\n",
       "      <td>1</td>\n",
       "      <td>1950</td>\n",
       "    </tr>\n",
       "    <tr>\n",
       "      <td>2</td>\n",
       "      <td>1000</td>\n",
       "      <td>7</td>\n",
       "      <td>41.0</td>\n",
       "      <td>340.0</td>\n",
       "      <td>75.0</td>\n",
       "      <td>14016.0</td>\n",
       "      <td>ultra</td>\n",
       "      <td>Краснодар</td>\n",
       "      <td>0</td>\n",
       "      <td>1</td>\n",
       "      <td>1950</td>\n",
       "    </tr>\n",
       "    <tr>\n",
       "      <td>3</td>\n",
       "      <td>1000</td>\n",
       "      <td>8</td>\n",
       "      <td>42.0</td>\n",
       "      <td>408.0</td>\n",
       "      <td>81.0</td>\n",
       "      <td>14070.0</td>\n",
       "      <td>ultra</td>\n",
       "      <td>Краснодар</td>\n",
       "      <td>0</td>\n",
       "      <td>1</td>\n",
       "      <td>1950</td>\n",
       "    </tr>\n",
       "    <tr>\n",
       "      <td>4</td>\n",
       "      <td>1000</td>\n",
       "      <td>9</td>\n",
       "      <td>46.0</td>\n",
       "      <td>466.0</td>\n",
       "      <td>57.0</td>\n",
       "      <td>14581.0</td>\n",
       "      <td>ultra</td>\n",
       "      <td>Краснодар</td>\n",
       "      <td>0</td>\n",
       "      <td>1</td>\n",
       "      <td>1950</td>\n",
       "    </tr>\n",
       "    <tr>\n",
       "      <td>5</td>\n",
       "      <td>1000</td>\n",
       "      <td>10</td>\n",
       "      <td>44.0</td>\n",
       "      <td>350.0</td>\n",
       "      <td>73.0</td>\n",
       "      <td>14717.0</td>\n",
       "      <td>ultra</td>\n",
       "      <td>Краснодар</td>\n",
       "      <td>0</td>\n",
       "      <td>1</td>\n",
       "      <td>1950</td>\n",
       "    </tr>\n",
       "    <tr>\n",
       "      <td>6</td>\n",
       "      <td>1000</td>\n",
       "      <td>11</td>\n",
       "      <td>37.0</td>\n",
       "      <td>338.0</td>\n",
       "      <td>58.0</td>\n",
       "      <td>14768.0</td>\n",
       "      <td>ultra</td>\n",
       "      <td>Краснодар</td>\n",
       "      <td>0</td>\n",
       "      <td>1</td>\n",
       "      <td>1950</td>\n",
       "    </tr>\n",
       "    <tr>\n",
       "      <td>7</td>\n",
       "      <td>1000</td>\n",
       "      <td>12</td>\n",
       "      <td>38.0</td>\n",
       "      <td>333.0</td>\n",
       "      <td>70.0</td>\n",
       "      <td>9827.0</td>\n",
       "      <td>ultra</td>\n",
       "      <td>Краснодар</td>\n",
       "      <td>0</td>\n",
       "      <td>1</td>\n",
       "      <td>1950</td>\n",
       "    </tr>\n",
       "    <tr>\n",
       "      <td>8</td>\n",
       "      <td>1001</td>\n",
       "      <td>11</td>\n",
       "      <td>45.0</td>\n",
       "      <td>430.0</td>\n",
       "      <td>0.0</td>\n",
       "      <td>18452.0</td>\n",
       "      <td>smart</td>\n",
       "      <td>Москва</td>\n",
       "      <td>1</td>\n",
       "      <td>0</td>\n",
       "      <td>550</td>\n",
       "    </tr>\n",
       "    <tr>\n",
       "      <td>9</td>\n",
       "      <td>1001</td>\n",
       "      <td>12</td>\n",
       "      <td>47.0</td>\n",
       "      <td>414.0</td>\n",
       "      <td>0.0</td>\n",
       "      <td>14053.0</td>\n",
       "      <td>smart</td>\n",
       "      <td>Москва</td>\n",
       "      <td>1</td>\n",
       "      <td>0</td>\n",
       "      <td>550</td>\n",
       "    </tr>\n",
       "  </tbody>\n",
       "</table>\n",
       "</div>"
      ],
      "text/plain": [
       "   User_id  month  call_number   call  sms_number  internet_MB tariff  \\\n",
       "0     1000      5         17.0  159.0        22.0       2256.0  ultra   \n",
       "1     1000      6         28.0  172.0        60.0      23257.0  ultra   \n",
       "2     1000      7         41.0  340.0        75.0      14016.0  ultra   \n",
       "3     1000      8         42.0  408.0        81.0      14070.0  ultra   \n",
       "4     1000      9         46.0  466.0        57.0      14581.0  ultra   \n",
       "5     1000     10         44.0  350.0        73.0      14717.0  ultra   \n",
       "6     1000     11         37.0  338.0        58.0      14768.0  ultra   \n",
       "7     1000     12         38.0  333.0        70.0       9827.0  ultra   \n",
       "8     1001     11         45.0  430.0         0.0      18452.0  smart   \n",
       "9     1001     12         47.0  414.0         0.0      14053.0  smart   \n",
       "\n",
       "        city  city_Moscow  region  month_pay  \n",
       "0  Краснодар            0       1       1950  \n",
       "1  Краснодар            0       1       1950  \n",
       "2  Краснодар            0       1       1950  \n",
       "3  Краснодар            0       1       1950  \n",
       "4  Краснодар            0       1       1950  \n",
       "5  Краснодар            0       1       1950  \n",
       "6  Краснодар            0       1       1950  \n",
       "7  Краснодар            0       1       1950  \n",
       "8     Москва            1       0        550  \n",
       "9     Москва            1       0        550  "
      ]
     },
     "execution_count": 37,
     "metadata": {},
     "output_type": "execute_result"
    }
   ],
   "source": [
    "data_all.head(10)"
   ]
  },
  {
   "cell_type": "markdown",
   "metadata": {},
   "source": [
    "Напишем функции, которые будут расчитывать и формировать новые столбцы  call_plus, sms_plus, internet_plus - в них будет отображаться информация - есть ли перерасход при использовании того или иного тарифа и сколько нужно доплатить."
   ]
  },
  {
   "cell_type": "code",
   "execution_count": 38,
   "metadata": {
    "scrolled": true
   },
   "outputs": [],
   "source": [
    "def calls_plus(row):\n",
    "    if row['tariff'] == 'ultra':\n",
    "        row['call_plus'] = row['call']-tariffs.loc[tariffs['tariff_name'] == 'ultra', 'minutes_included']\n",
    "        result = row['call_plus'] * tariffs.loc[tariffs['tariff_name'] == 'ultra', 'rub_per_minute']\n",
    "        return np.where(result > 0, result, 0)\n",
    "    \n",
    "    else:\n",
    "        row['call_plus'] = row['call']-tariffs.loc[tariffs['tariff_name'] == 'smart', 'minutes_included']\n",
    "        result = row['call_plus'] * tariffs.loc[tariffs['tariff_name'] == 'smart', 'rub_per_minute']\n",
    "        return np.where(result > 0, result, 0)\n",
    "    \n",
    "def message_plus(row):\n",
    "    if row['tariff'] == 'ultra':\n",
    "        row['sms_plus'] = row['sms_number']-tariffs.loc[tariffs['tariff_name'] == 'ultra', 'messages_included']\n",
    "        result = row['sms_plus'] * tariffs.loc[tariffs['tariff_name'] == 'ultra', 'rub_per_message']\n",
    "        return np.where(result > 0, result, 0)\n",
    "    \n",
    "    else:\n",
    "        row['sms_plus'] = row['sms_number']-tariffs.loc[tariffs['tariff_name'] == 'smart', 'messages_included']\n",
    "        result = row['sms_plus'] * tariffs.loc[tariffs['tariff_name'] == 'smart', 'rub_per_message']\n",
    "        return np.where(result > 0, result, 0) \n",
    "    \n",
    "def internet_plus(row):\n",
    "    if row['tariff'] == 'ultra':\n",
    "        row['internet_plus'] = np. ceil((row['internet_MB']-tariffs.loc[tariffs['tariff_name'] == 'ultra', 'mb_per_month_included'])/1024)\n",
    "        result = row['internet_plus'] * tariffs.loc[tariffs['tariff_name'] == 'ultra', 'rub_per_gb']\n",
    "        return np.where(result > 0, result, 0)\n",
    "    \n",
    "    else:\n",
    "        row['internet_plus'] = np. ceil((row['internet_MB']-tariffs.loc[tariffs['tariff_name'] == 'smart', 'mb_per_month_included'])/1024)\n",
    "        result = row['internet_plus'] * tariffs.loc[tariffs['tariff_name'] == 'smart', 'rub_per_gb']\n",
    "        return np.where(result > 0, result, 0) \n",
    "        "
   ]
  },
  {
   "cell_type": "markdown",
   "metadata": {},
   "source": [
    "Округлим полученные значения и поменяем тип данных на целочисленный."
   ]
  },
  {
   "cell_type": "code",
   "execution_count": 39,
   "metadata": {},
   "outputs": [],
   "source": [
    "data_all['call_plus'] = np. ceil(data_all.apply(calls_plus, axis=1)).astype('int32')\n",
    "data_all['sms_plus'] = np.ceil(data_all.apply(message_plus, axis=1)).astype('int32')\n",
    "data_all['internet_plus'] = np.ceil(data_all.apply(internet_plus, axis=1)).astype('int32')"
   ]
  },
  {
   "cell_type": "markdown",
   "metadata": {},
   "source": [
    "В новом  pay_plus будет хранится информация о суммарной доплате за перерасход по телефонным разговорам, смс и интернет трафику.\n",
    "all_pay - содержит информацию по оплате за пользование услугами оператора \"Мегафон\", состоящую из суммы оплаты по тарифу и дополнительной оплаты за перерасход."
   ]
  },
  {
   "cell_type": "code",
   "execution_count": 40,
   "metadata": {
    "scrolled": true
   },
   "outputs": [
    {
     "data": {
      "text/html": [
       "<div>\n",
       "<style scoped>\n",
       "    .dataframe tbody tr th:only-of-type {\n",
       "        vertical-align: middle;\n",
       "    }\n",
       "\n",
       "    .dataframe tbody tr th {\n",
       "        vertical-align: top;\n",
       "    }\n",
       "\n",
       "    .dataframe thead th {\n",
       "        text-align: right;\n",
       "    }\n",
       "</style>\n",
       "<table border=\"1\" class=\"dataframe\">\n",
       "  <thead>\n",
       "    <tr style=\"text-align: right;\">\n",
       "      <th></th>\n",
       "      <th>User_id</th>\n",
       "      <th>month</th>\n",
       "      <th>call_number</th>\n",
       "      <th>call</th>\n",
       "      <th>sms_number</th>\n",
       "      <th>internet_MB</th>\n",
       "      <th>tariff</th>\n",
       "      <th>city</th>\n",
       "      <th>city_Moscow</th>\n",
       "      <th>region</th>\n",
       "      <th>month_pay</th>\n",
       "      <th>call_plus</th>\n",
       "      <th>sms_plus</th>\n",
       "      <th>internet_plus</th>\n",
       "      <th>pay_plus</th>\n",
       "      <th>all_pay</th>\n",
       "    </tr>\n",
       "  </thead>\n",
       "  <tbody>\n",
       "    <tr>\n",
       "      <td>3204</td>\n",
       "      <td>1473</td>\n",
       "      <td>8</td>\n",
       "      <td>0.0</td>\n",
       "      <td>0.0</td>\n",
       "      <td>17.0</td>\n",
       "      <td>12917.0</td>\n",
       "      <td>ultra</td>\n",
       "      <td>Красноярск</td>\n",
       "      <td>0</td>\n",
       "      <td>1</td>\n",
       "      <td>1950</td>\n",
       "      <td>0</td>\n",
       "      <td>0</td>\n",
       "      <td>0</td>\n",
       "      <td>0</td>\n",
       "      <td>1950</td>\n",
       "    </tr>\n",
       "    <tr>\n",
       "      <td>3205</td>\n",
       "      <td>1473</td>\n",
       "      <td>9</td>\n",
       "      <td>0.0</td>\n",
       "      <td>0.0</td>\n",
       "      <td>19.0</td>\n",
       "      <td>17307.0</td>\n",
       "      <td>ultra</td>\n",
       "      <td>Красноярск</td>\n",
       "      <td>0</td>\n",
       "      <td>1</td>\n",
       "      <td>1950</td>\n",
       "      <td>0</td>\n",
       "      <td>0</td>\n",
       "      <td>0</td>\n",
       "      <td>0</td>\n",
       "      <td>1950</td>\n",
       "    </tr>\n",
       "    <tr>\n",
       "      <td>3206</td>\n",
       "      <td>1473</td>\n",
       "      <td>10</td>\n",
       "      <td>0.0</td>\n",
       "      <td>0.0</td>\n",
       "      <td>20.0</td>\n",
       "      <td>13703.0</td>\n",
       "      <td>ultra</td>\n",
       "      <td>Красноярск</td>\n",
       "      <td>0</td>\n",
       "      <td>1</td>\n",
       "      <td>1950</td>\n",
       "      <td>0</td>\n",
       "      <td>0</td>\n",
       "      <td>0</td>\n",
       "      <td>0</td>\n",
       "      <td>1950</td>\n",
       "    </tr>\n",
       "    <tr>\n",
       "      <td>3207</td>\n",
       "      <td>1473</td>\n",
       "      <td>11</td>\n",
       "      <td>0.0</td>\n",
       "      <td>0.0</td>\n",
       "      <td>14.0</td>\n",
       "      <td>21692.0</td>\n",
       "      <td>ultra</td>\n",
       "      <td>Красноярск</td>\n",
       "      <td>0</td>\n",
       "      <td>1</td>\n",
       "      <td>1950</td>\n",
       "      <td>0</td>\n",
       "      <td>0</td>\n",
       "      <td>0</td>\n",
       "      <td>0</td>\n",
       "      <td>1950</td>\n",
       "    </tr>\n",
       "    <tr>\n",
       "      <td>3208</td>\n",
       "      <td>1473</td>\n",
       "      <td>12</td>\n",
       "      <td>0.0</td>\n",
       "      <td>0.0</td>\n",
       "      <td>20.0</td>\n",
       "      <td>18432.0</td>\n",
       "      <td>ultra</td>\n",
       "      <td>Красноярск</td>\n",
       "      <td>0</td>\n",
       "      <td>1</td>\n",
       "      <td>1950</td>\n",
       "      <td>0</td>\n",
       "      <td>0</td>\n",
       "      <td>0</td>\n",
       "      <td>0</td>\n",
       "      <td>1950</td>\n",
       "    </tr>\n",
       "    <tr>\n",
       "      <td>3209</td>\n",
       "      <td>1489</td>\n",
       "      <td>8</td>\n",
       "      <td>0.0</td>\n",
       "      <td>0.0</td>\n",
       "      <td>17.0</td>\n",
       "      <td>11066.0</td>\n",
       "      <td>smart</td>\n",
       "      <td>Санкт-Петербург</td>\n",
       "      <td>0</td>\n",
       "      <td>1</td>\n",
       "      <td>550</td>\n",
       "      <td>0</td>\n",
       "      <td>0</td>\n",
       "      <td>0</td>\n",
       "      <td>0</td>\n",
       "      <td>550</td>\n",
       "    </tr>\n",
       "    <tr>\n",
       "      <td>3210</td>\n",
       "      <td>1489</td>\n",
       "      <td>9</td>\n",
       "      <td>0.0</td>\n",
       "      <td>0.0</td>\n",
       "      <td>32.0</td>\n",
       "      <td>17232.0</td>\n",
       "      <td>smart</td>\n",
       "      <td>Санкт-Петербург</td>\n",
       "      <td>0</td>\n",
       "      <td>1</td>\n",
       "      <td>550</td>\n",
       "      <td>0</td>\n",
       "      <td>0</td>\n",
       "      <td>400</td>\n",
       "      <td>400</td>\n",
       "      <td>950</td>\n",
       "    </tr>\n",
       "    <tr>\n",
       "      <td>3211</td>\n",
       "      <td>1489</td>\n",
       "      <td>10</td>\n",
       "      <td>0.0</td>\n",
       "      <td>0.0</td>\n",
       "      <td>21.0</td>\n",
       "      <td>19588.0</td>\n",
       "      <td>smart</td>\n",
       "      <td>Санкт-Петербург</td>\n",
       "      <td>0</td>\n",
       "      <td>1</td>\n",
       "      <td>550</td>\n",
       "      <td>0</td>\n",
       "      <td>0</td>\n",
       "      <td>1000</td>\n",
       "      <td>1000</td>\n",
       "      <td>1550</td>\n",
       "    </tr>\n",
       "    <tr>\n",
       "      <td>3212</td>\n",
       "      <td>1489</td>\n",
       "      <td>11</td>\n",
       "      <td>0.0</td>\n",
       "      <td>0.0</td>\n",
       "      <td>20.0</td>\n",
       "      <td>17516.0</td>\n",
       "      <td>smart</td>\n",
       "      <td>Санкт-Петербург</td>\n",
       "      <td>0</td>\n",
       "      <td>1</td>\n",
       "      <td>550</td>\n",
       "      <td>0</td>\n",
       "      <td>0</td>\n",
       "      <td>600</td>\n",
       "      <td>600</td>\n",
       "      <td>1150</td>\n",
       "    </tr>\n",
       "    <tr>\n",
       "      <td>3213</td>\n",
       "      <td>1489</td>\n",
       "      <td>12</td>\n",
       "      <td>0.0</td>\n",
       "      <td>0.0</td>\n",
       "      <td>35.0</td>\n",
       "      <td>17341.0</td>\n",
       "      <td>smart</td>\n",
       "      <td>Санкт-Петербург</td>\n",
       "      <td>0</td>\n",
       "      <td>1</td>\n",
       "      <td>550</td>\n",
       "      <td>0</td>\n",
       "      <td>0</td>\n",
       "      <td>400</td>\n",
       "      <td>400</td>\n",
       "      <td>950</td>\n",
       "    </tr>\n",
       "  </tbody>\n",
       "</table>\n",
       "</div>"
      ],
      "text/plain": [
       "      User_id  month  call_number  call  sms_number  internet_MB tariff  \\\n",
       "3204     1473      8          0.0   0.0        17.0      12917.0  ultra   \n",
       "3205     1473      9          0.0   0.0        19.0      17307.0  ultra   \n",
       "3206     1473     10          0.0   0.0        20.0      13703.0  ultra   \n",
       "3207     1473     11          0.0   0.0        14.0      21692.0  ultra   \n",
       "3208     1473     12          0.0   0.0        20.0      18432.0  ultra   \n",
       "3209     1489      8          0.0   0.0        17.0      11066.0  smart   \n",
       "3210     1489      9          0.0   0.0        32.0      17232.0  smart   \n",
       "3211     1489     10          0.0   0.0        21.0      19588.0  smart   \n",
       "3212     1489     11          0.0   0.0        20.0      17516.0  smart   \n",
       "3213     1489     12          0.0   0.0        35.0      17341.0  smart   \n",
       "\n",
       "                 city  city_Moscow  region  month_pay  call_plus  sms_plus  \\\n",
       "3204       Красноярск            0       1       1950          0         0   \n",
       "3205       Красноярск            0       1       1950          0         0   \n",
       "3206       Красноярск            0       1       1950          0         0   \n",
       "3207       Красноярск            0       1       1950          0         0   \n",
       "3208       Красноярск            0       1       1950          0         0   \n",
       "3209  Санкт-Петербург            0       1        550          0         0   \n",
       "3210  Санкт-Петербург            0       1        550          0         0   \n",
       "3211  Санкт-Петербург            0       1        550          0         0   \n",
       "3212  Санкт-Петербург            0       1        550          0         0   \n",
       "3213  Санкт-Петербург            0       1        550          0         0   \n",
       "\n",
       "      internet_plus  pay_plus  all_pay  \n",
       "3204              0         0     1950  \n",
       "3205              0         0     1950  \n",
       "3206              0         0     1950  \n",
       "3207              0         0     1950  \n",
       "3208              0         0     1950  \n",
       "3209              0         0      550  \n",
       "3210            400       400      950  \n",
       "3211           1000      1000     1550  \n",
       "3212            600       600     1150  \n",
       "3213            400       400      950  "
      ]
     },
     "execution_count": 40,
     "metadata": {},
     "output_type": "execute_result"
    }
   ],
   "source": [
    "data_all['pay_plus'] = data_all['call_plus'] + data_all['sms_plus']  + data_all['internet_plus'] \n",
    "data_all['all_pay'] =  data_all['month_pay'] + data_all['call_plus'] + data_all['sms_plus']  + data_all['internet_plus'] \n",
    "data_all.tail(10)"
   ]
  },
  {
   "cell_type": "code",
   "execution_count": 41,
   "metadata": {},
   "outputs": [
    {
     "name": "stdout",
     "output_type": "stream",
     "text": [
      "<class 'pandas.core.frame.DataFrame'>\n",
      "Int64Index: 3214 entries, 0 to 3213\n",
      "Data columns (total 16 columns):\n",
      "User_id          3214 non-null int64\n",
      "month            3214 non-null int64\n",
      "call_number      3214 non-null float64\n",
      "call             3214 non-null float64\n",
      "sms_number       3214 non-null float64\n",
      "internet_MB      3214 non-null float64\n",
      "tariff           3214 non-null object\n",
      "city             3214 non-null object\n",
      "city_Moscow      3214 non-null int32\n",
      "region           3214 non-null int32\n",
      "month_pay        3214 non-null int64\n",
      "call_plus        3214 non-null int32\n",
      "sms_plus         3214 non-null int32\n",
      "internet_plus    3214 non-null int32\n",
      "pay_plus         3214 non-null int32\n",
      "all_pay          3214 non-null int64\n",
      "dtypes: float64(4), int32(6), int64(4), object(2)\n",
      "memory usage: 351.5+ KB\n"
     ]
    }
   ],
   "source": [
    "data_all.info()"
   ]
  },
  {
   "cell_type": "markdown",
   "metadata": {},
   "source": [
    "Создадим две новые таблицы в зависимости от тарифа:\n",
    "- ultra_all - тариф \"Ультра\"\n",
    "- smart_all - тариф \"Смарт\""
   ]
  },
  {
   "cell_type": "code",
   "execution_count": 42,
   "metadata": {},
   "outputs": [],
   "source": [
    "ultra_all =  data_all.query(\"tariff == 'ultra'\")\n",
    "smart_all =  data_all.query(\"tariff == 'smart'\")"
   ]
  },
  {
   "cell_type": "code",
   "execution_count": 43,
   "metadata": {
    "scrolled": true
   },
   "outputs": [
    {
     "name": "stdout",
     "output_type": "stream",
     "text": [
      "<class 'pandas.core.frame.DataFrame'>\n",
      "Int64Index: 985 entries, 0 to 3208\n",
      "Data columns (total 16 columns):\n",
      "User_id          985 non-null int64\n",
      "month            985 non-null int64\n",
      "call_number      985 non-null float64\n",
      "call             985 non-null float64\n",
      "sms_number       985 non-null float64\n",
      "internet_MB      985 non-null float64\n",
      "tariff           985 non-null object\n",
      "city             985 non-null object\n",
      "city_Moscow      985 non-null int32\n",
      "region           985 non-null int32\n",
      "month_pay        985 non-null int64\n",
      "call_plus        985 non-null int32\n",
      "sms_plus         985 non-null int32\n",
      "internet_plus    985 non-null int32\n",
      "pay_plus         985 non-null int32\n",
      "all_pay          985 non-null int64\n",
      "dtypes: float64(4), int32(6), int64(4), object(2)\n",
      "memory usage: 107.7+ KB\n"
     ]
    }
   ],
   "source": [
    "ultra_all.info()"
   ]
  },
  {
   "cell_type": "code",
   "execution_count": 44,
   "metadata": {},
   "outputs": [
    {
     "name": "stdout",
     "output_type": "stream",
     "text": [
      "<class 'pandas.core.frame.DataFrame'>\n",
      "Int64Index: 2229 entries, 8 to 3213\n",
      "Data columns (total 16 columns):\n",
      "User_id          2229 non-null int64\n",
      "month            2229 non-null int64\n",
      "call_number      2229 non-null float64\n",
      "call             2229 non-null float64\n",
      "sms_number       2229 non-null float64\n",
      "internet_MB      2229 non-null float64\n",
      "tariff           2229 non-null object\n",
      "city             2229 non-null object\n",
      "city_Moscow      2229 non-null int32\n",
      "region           2229 non-null int32\n",
      "month_pay        2229 non-null int64\n",
      "call_plus        2229 non-null int32\n",
      "sms_plus         2229 non-null int32\n",
      "internet_plus    2229 non-null int32\n",
      "pay_plus         2229 non-null int32\n",
      "all_pay          2229 non-null int64\n",
      "dtypes: float64(4), int32(6), int64(4), object(2)\n",
      "memory usage: 243.8+ KB\n"
     ]
    }
   ],
   "source": [
    "smart_all.info()"
   ]
  },
  {
   "cell_type": "markdown",
   "metadata": {},
   "source": [
    "Напишим функции для строительства гистограмм, область построения будем автоматически отсекать по Q1-3*IQR до Q3+3*IQR."
   ]
  },
  {
   "cell_type": "code",
   "execution_count": 45,
   "metadata": {},
   "outputs": [
    {
     "data": {
      "image/png": "[encoded data removed]",
      "text/plain": [
       "<Figure size 432x288 with 1 Axes>"
      ]
     },
     "metadata": {
      "needs_background": "light"
     },
     "output_type": "display_data"
    }
   ],
   "source": [
    "def smart_all_gis(cl):#создаем новую функцию  smart_all_gis(cl)\n",
    "    q11 = smart_all[cl].quantile(0.25)#которая рассчитывает интервал для построения графиков\n",
    "    q33 =smart_all[cl].quantile(0.75)\n",
    "    iqr = q33 - q11\n",
    "    minn=q11 - (3*iqr)\n",
    "    maxx=q33 + (3*iqr)\n",
    "    return minn>=0, maxx\n",
    "\n",
    "def smart_all_hist(value, mesh, ambit):#создаем новую функцию smart_all_hist(value, mesh, ambit), \n",
    "                                                    #которая возвращает гистограмму\n",
    "    return smart_all[value].plot(kind='hist', y=\"value\", bins=mesh, rot = 10, range = ambit, label = 'smart', alpha=0.5)\n",
    "\n",
    "\n",
    "def ultra_all_gis(col):#создаем новую функцию  ultra_all_gis(col)\n",
    "    q1 = ultra_all[col].quantile(0.25)#которая рассчитывает интервал для построения графиков\n",
    "    q3 = ultra_all[col].quantile(0.75)\n",
    "    iqr = q3 - q1\n",
    "    min_n=q1 - (3*iqr)\n",
    "    max_x=q3 + (3*iqr)\n",
    "    return min_n>=0, max_x\n",
    "\n",
    "\n",
    "def ultra_all_hist(value, mesh, ambit):#создаем новую функцию ultra_all_hist(value, mesh, ambit), \n",
    "                                                    #которая возвращает гистограмму\n",
    "    return ultra_all[value].plot(kind='hist', y=\"value\", bins=mesh, rot = 10,  range = ambit, label = 'ultra', color = 'r')\n",
    "\n",
    "\n",
    "\n",
    "ultra_all_hist('all_pay', 10, (ultra_all_gis('all_pay')))#вызываем функцию ultra_all_hist(value, mesh, ambit), строим гистограмму\n",
    "smart_all_hist('all_pay', 10, (smart_all_gis('all_pay')))\n",
    "plt.title('Гистограмма общей выручки')\n",
    "plt.xlabel(\"Общая выручка, руб.\")\n",
    "plt.legend()\n",
    "plt.show()"
   ]
  },
  {
   "cell_type": "code",
   "execution_count": 46,
   "metadata": {},
   "outputs": [
    {
     "data": {
      "image/png": "[encoded data removed]",
      "text/plain": [
       "<Figure size 432x288 with 1 Axes>"
      ]
     },
     "metadata": {
      "needs_background": "light"
     },
     "output_type": "display_data"
    }
   ],
   "source": [
    "ultra_all.boxplot(column=['all_pay'], patch_artist=True,  positions=[1])#Посмотрим методом boxplot() диаграмму размаха для двух дат фреймов.\n",
    "smart_all.boxplot(column=['all_pay'],  positions=[2])\n",
    "plt.legend([ 'ultra_all', 'smart_all'])\n",
    "plt.show()"
   ]
  },
  {
   "cell_type": "markdown",
   "metadata": {},
   "source": [
    "Для пользователей тарифа \"Ультра\" достаточно пакета предоставляемого в рамках тарифа, для пользователей тарифа \"Смарт\" пакета не хватает."
   ]
  },
  {
   "cell_type": "code",
   "execution_count": 47,
   "metadata": {
    "scrolled": true
   },
   "outputs": [
    {
     "data": {
      "image/png": "[encoded data removed]",
      "text/plain": [
       "<Figure size 432x288 with 1 Axes>"
      ]
     },
     "metadata": {
      "needs_background": "light"
     },
     "output_type": "display_data"
    }
   ],
   "source": [
    "ultra_all_hist('call', 25, (ultra_all_gis('call')))#вызываем функцию flat_hist(value, mesh, ambit), строим гистограмму\n",
    "smart_all_hist('call', 25, (smart_all_gis('call')))\n",
    "plt.title('Гистограмма длительности телефонных разговоров')\n",
    "plt.xlabel(\"Длительность телефонных разговоров, мин.\")\n",
    "plt.legend()\n",
    "plt.show()"
   ]
  },
  {
   "cell_type": "code",
   "execution_count": 48,
   "metadata": {
    "scrolled": true
   },
   "outputs": [
    {
     "data": {
      "image/png": "[encoded data removed]",
      "text/plain": [
       "<Figure size 432x288 with 1 Axes>"
      ]
     },
     "metadata": {
      "needs_background": "light"
     },
     "output_type": "display_data"
    }
   ],
   "source": [
    "ultra_all_hist('sms_number', 10, (ultra_all_gis('sms_number')))#вызываем функцию flat_hist(value, mesh, ambit), строим гистограмму\n",
    "smart_all_hist('sms_number', 10, (smart_all_gis('sms_number')))\n",
    "plt.title('Гистограмма количества смс')\n",
    "plt.xlabel(\"Количество смс, шт.\")\n",
    "plt.legend()\n",
    "plt.show()"
   ]
  },
  {
   "cell_type": "code",
   "execution_count": 49,
   "metadata": {
    "scrolled": true
   },
   "outputs": [
    {
     "data": {
      "image/png": "[encoded data removed]",
      "text/plain": [
       "<Figure size 432x288 with 1 Axes>"
      ]
     },
     "metadata": {
      "needs_background": "light"
     },
     "output_type": "display_data"
    }
   ],
   "source": [
    "ultra_all.boxplot(column=['call', 'sms_number'], patch_artist=True,  positions=[1,3])\n",
    "smart_all.boxplot(column=['call', 'sms_number'],  positions=[2,4])\n",
    "plt.legend([ 'ultra_all', 'smart_all'])\n",
    "plt.show()"
   ]
  },
  {
   "cell_type": "markdown",
   "metadata": {},
   "source": [
    "Абоненты тарифа \"Ультра\" не экономят минуты, говорят если нужно долго. Для тарифа \"Смарт\" -  стараются не выходит за предоставленные пакетом минуты.\n",
    "\n",
    "Тариф \"Смарт\" - деньги все считают, поэтому количество смс, выходящие за предел предоставляемые пакетом резко падает. Тариф \"Ультра\" - выбирает не все входящие в пакет смс."
   ]
  },
  {
   "cell_type": "code",
   "execution_count": 50,
   "metadata": {},
   "outputs": [
    {
     "data": {
      "image/png": "[encoded data removed]",
      "text/plain": [
       "<Figure size 432x288 with 1 Axes>"
      ]
     },
     "metadata": {
      "needs_background": "light"
     },
     "output_type": "display_data"
    }
   ],
   "source": [
    "ultra_all_hist('internet_MB', 10, (ultra_all_gis('internet_MB')))#вызываем функцию flat_hist(value, mesh, ambit), строим гистограмму\n",
    "smart_all_hist('internet_MB', 10, (smart_all_gis('internet_MB')))\n",
    "\n",
    "plt.legend()\n",
    "plt.show()"
   ]
  },
  {
   "cell_type": "code",
   "execution_count": 51,
   "metadata": {
    "scrolled": false
   },
   "outputs": [
    {
     "data": {
      "image/png": "[encoded data removed]",
      "text/plain": [
       "<Figure size 432x288 with 1 Axes>"
      ]
     },
     "metadata": {
      "needs_background": "light"
     },
     "output_type": "display_data"
    }
   ],
   "source": [
    "ultra_all.boxplot(column=['internet_MB'], patch_artist=True,  positions=[1])\n",
    "smart_all.boxplot(column=['internet_MB'],  positions=[2])\n",
    "plt.legend([ 'ultra_all', 'smart_all'])\n",
    "plt.show()"
   ]
  },
  {
   "cell_type": "markdown",
   "metadata": {},
   "source": [
    "В обоих тарифах предоставляемого трафика не хватает. И там и там берут дополнительные мегабайты."
   ]
  },
  {
   "cell_type": "markdown",
   "metadata": {},
   "source": [
    "## Описание поведения клиента на основе полученной выборки"
   ]
  },
  {
   "cell_type": "code",
   "execution_count": 52,
   "metadata": {},
   "outputs": [
    {
     "name": "stdout",
     "output_type": "stream",
     "text": [
      "Количество пользователей ultra: 148\n"
     ]
    }
   ],
   "source": [
    "print('Количество пользователей ultra: {}'.format(len(ultra_all.groupby('User_id'))))"
   ]
  },
  {
   "cell_type": "code",
   "execution_count": 53,
   "metadata": {
    "scrolled": false
   },
   "outputs": [
    {
     "name": "stdout",
     "output_type": "stream",
     "text": [
      "Количество пользователей ultra: 350\n"
     ]
    }
   ],
   "source": [
    "print('Количество пользователей ultra: {}'.format(len(smart_all.groupby('User_id'))))"
   ]
  },
  {
   "cell_type": "markdown",
   "metadata": {},
   "source": [
    "Количество пользователей тарифа \"Смарт\" почти в два с половиной раза больше, чем пользователь тарифом \"Ультра\" "
   ]
  },
  {
   "cell_type": "code",
   "execution_count": 54,
   "metadata": {
    "scrolled": true
   },
   "outputs": [
    {
     "data": {
      "text/html": [
       "<div>\n",
       "<style scoped>\n",
       "    .dataframe tbody tr th:only-of-type {\n",
       "        vertical-align: middle;\n",
       "    }\n",
       "\n",
       "    .dataframe tbody tr th {\n",
       "        vertical-align: top;\n",
       "    }\n",
       "\n",
       "    .dataframe thead th {\n",
       "        text-align: right;\n",
       "    }\n",
       "</style>\n",
       "<table border=\"1\" class=\"dataframe\">\n",
       "  <thead>\n",
       "    <tr style=\"text-align: right;\">\n",
       "      <th></th>\n",
       "      <th>month</th>\n",
       "      <th>all_pay</th>\n",
       "      <th>call</th>\n",
       "      <th>city_Moscow</th>\n",
       "      <th>internet_MB</th>\n",
       "      <th>pay_plus</th>\n",
       "      <th>region</th>\n",
       "      <th>sms_number</th>\n",
       "      <th>count_user</th>\n",
       "      <th>all_pay_mean</th>\n",
       "    </tr>\n",
       "  </thead>\n",
       "  <tbody>\n",
       "    <tr>\n",
       "      <td>0</td>\n",
       "      <td>1</td>\n",
       "      <td>17550</td>\n",
       "      <td>3853.0</td>\n",
       "      <td>4</td>\n",
       "      <td>118382.0</td>\n",
       "      <td>0</td>\n",
       "      <td>5</td>\n",
       "      <td>304.0</td>\n",
       "      <td>9</td>\n",
       "      <td>1950</td>\n",
       "    </tr>\n",
       "    <tr>\n",
       "      <td>1</td>\n",
       "      <td>2</td>\n",
       "      <td>47400</td>\n",
       "      <td>7131.0</td>\n",
       "      <td>5</td>\n",
       "      <td>282887.0</td>\n",
       "      <td>600</td>\n",
       "      <td>19</td>\n",
       "      <td>527.0</td>\n",
       "      <td>24</td>\n",
       "      <td>1975</td>\n",
       "    </tr>\n",
       "    <tr>\n",
       "      <td>2</td>\n",
       "      <td>3</td>\n",
       "      <td>74550</td>\n",
       "      <td>18117.0</td>\n",
       "      <td>9</td>\n",
       "      <td>649423.0</td>\n",
       "      <td>2400</td>\n",
       "      <td>28</td>\n",
       "      <td>1195.0</td>\n",
       "      <td>37</td>\n",
       "      <td>2014</td>\n",
       "    </tr>\n",
       "    <tr>\n",
       "      <td>3</td>\n",
       "      <td>4</td>\n",
       "      <td>110100</td>\n",
       "      <td>25191.0</td>\n",
       "      <td>13</td>\n",
       "      <td>926409.0</td>\n",
       "      <td>2850</td>\n",
       "      <td>42</td>\n",
       "      <td>1736.0</td>\n",
       "      <td>55</td>\n",
       "      <td>2001</td>\n",
       "    </tr>\n",
       "    <tr>\n",
       "      <td>4</td>\n",
       "      <td>5</td>\n",
       "      <td>138150</td>\n",
       "      <td>34192.0</td>\n",
       "      <td>14</td>\n",
       "      <td>1298540.0</td>\n",
       "      <td>7500</td>\n",
       "      <td>53</td>\n",
       "      <td>2536.0</td>\n",
       "      <td>67</td>\n",
       "      <td>2061</td>\n",
       "    </tr>\n",
       "    <tr>\n",
       "      <td>5</td>\n",
       "      <td>6</td>\n",
       "      <td>171450</td>\n",
       "      <td>40295.0</td>\n",
       "      <td>19</td>\n",
       "      <td>1591148.0</td>\n",
       "      <td>7650</td>\n",
       "      <td>65</td>\n",
       "      <td>3505.0</td>\n",
       "      <td>84</td>\n",
       "      <td>2041</td>\n",
       "    </tr>\n",
       "    <tr>\n",
       "      <td>6</td>\n",
       "      <td>7</td>\n",
       "      <td>193050</td>\n",
       "      <td>49667.0</td>\n",
       "      <td>20</td>\n",
       "      <td>1866833.0</td>\n",
       "      <td>15600</td>\n",
       "      <td>71</td>\n",
       "      <td>4536.0</td>\n",
       "      <td>91</td>\n",
       "      <td>2121</td>\n",
       "    </tr>\n",
       "    <tr>\n",
       "      <td>7</td>\n",
       "      <td>8</td>\n",
       "      <td>222900</td>\n",
       "      <td>54653.0</td>\n",
       "      <td>24</td>\n",
       "      <td>2096565.0</td>\n",
       "      <td>14250</td>\n",
       "      <td>83</td>\n",
       "      <td>5183.0</td>\n",
       "      <td>107</td>\n",
       "      <td>2083</td>\n",
       "    </tr>\n",
       "    <tr>\n",
       "      <td>8</td>\n",
       "      <td>9</td>\n",
       "      <td>232800</td>\n",
       "      <td>62036.0</td>\n",
       "      <td>27</td>\n",
       "      <td>2210554.0</td>\n",
       "      <td>8550</td>\n",
       "      <td>88</td>\n",
       "      <td>6013.0</td>\n",
       "      <td>115</td>\n",
       "      <td>2024</td>\n",
       "    </tr>\n",
       "    <tr>\n",
       "      <td>9</td>\n",
       "      <td>10</td>\n",
       "      <td>254250</td>\n",
       "      <td>68644.0</td>\n",
       "      <td>29</td>\n",
       "      <td>2467856.0</td>\n",
       "      <td>14400</td>\n",
       "      <td>94</td>\n",
       "      <td>7187.0</td>\n",
       "      <td>123</td>\n",
       "      <td>2067</td>\n",
       "    </tr>\n",
       "    <tr>\n",
       "      <td>10</td>\n",
       "      <td>11</td>\n",
       "      <td>280500</td>\n",
       "      <td>72545.0</td>\n",
       "      <td>31</td>\n",
       "      <td>2653912.0</td>\n",
       "      <td>19200</td>\n",
       "      <td>103</td>\n",
       "      <td>7476.0</td>\n",
       "      <td>134</td>\n",
       "      <td>2093</td>\n",
       "    </tr>\n",
       "    <tr>\n",
       "      <td>11</td>\n",
       "      <td>12</td>\n",
       "      <td>297300</td>\n",
       "      <td>82400.0</td>\n",
       "      <td>30</td>\n",
       "      <td>3032089.0</td>\n",
       "      <td>26250</td>\n",
       "      <td>109</td>\n",
       "      <td>8425.0</td>\n",
       "      <td>139</td>\n",
       "      <td>2138</td>\n",
       "    </tr>\n",
       "  </tbody>\n",
       "</table>\n",
       "</div>"
      ],
      "text/plain": [
       "    month  all_pay     call  city_Moscow  internet_MB  pay_plus  region  \\\n",
       "0       1    17550   3853.0            4     118382.0         0       5   \n",
       "1       2    47400   7131.0            5     282887.0       600      19   \n",
       "2       3    74550  18117.0            9     649423.0      2400      28   \n",
       "3       4   110100  25191.0           13     926409.0      2850      42   \n",
       "4       5   138150  34192.0           14    1298540.0      7500      53   \n",
       "5       6   171450  40295.0           19    1591148.0      7650      65   \n",
       "6       7   193050  49667.0           20    1866833.0     15600      71   \n",
       "7       8   222900  54653.0           24    2096565.0     14250      83   \n",
       "8       9   232800  62036.0           27    2210554.0      8550      88   \n",
       "9      10   254250  68644.0           29    2467856.0     14400      94   \n",
       "10     11   280500  72545.0           31    2653912.0     19200     103   \n",
       "11     12   297300  82400.0           30    3032089.0     26250     109   \n",
       "\n",
       "    sms_number  count_user  all_pay_mean  \n",
       "0        304.0           9          1950  \n",
       "1        527.0          24          1975  \n",
       "2       1195.0          37          2014  \n",
       "3       1736.0          55          2001  \n",
       "4       2536.0          67          2061  \n",
       "5       3505.0          84          2041  \n",
       "6       4536.0          91          2121  \n",
       "7       5183.0         107          2083  \n",
       "8       6013.0         115          2024  \n",
       "9       7187.0         123          2067  \n",
       "10      7476.0         134          2093  \n",
       "11      8425.0         139          2138  "
      ]
     },
     "execution_count": 54,
     "metadata": {},
     "output_type": "execute_result"
    }
   ],
   "source": [
    "ultra_group=ultra_all.pivot_table(index=['month'],values=['internet_MB', 'call', 'sms_number', 'all_pay', 'pay_plus', 'city_Moscow', 'region'],aggfunc=('sum'))\n",
    "#Группируем таблицу ultra_all_good по месяцам и результат сохраняем в ultra_group\n",
    "ultra_group\n",
    "\n",
    "ultra_group['count_user']=ultra_group['city_Moscow']+ultra_group['region']#количество пользователей по месяцам\n",
    "ultra_group['all_pay_mean'] = ((ultra_group['all_pay'] / ultra_group['count_user'] ).round(1)).astype('int32')#средний чек в месяц\n",
    "ultra_group = ultra_group.reset_index()\n",
    "ultra_group"
   ]
  },
  {
   "cell_type": "markdown",
   "metadata": {},
   "source": [
    "Методом describeсделаем подсчет среднего количества и стандартного отклонения для даты фрейма ultra_group"
   ]
  },
  {
   "cell_type": "code",
   "execution_count": 55,
   "metadata": {
    "scrolled": false
   },
   "outputs": [
    {
     "data": {
      "text/html": [
       "<div>\n",
       "<style scoped>\n",
       "    .dataframe tbody tr th:only-of-type {\n",
       "        vertical-align: middle;\n",
       "    }\n",
       "\n",
       "    .dataframe tbody tr th {\n",
       "        vertical-align: top;\n",
       "    }\n",
       "\n",
       "    .dataframe thead th {\n",
       "        text-align: right;\n",
       "    }\n",
       "</style>\n",
       "<table border=\"1\" class=\"dataframe\">\n",
       "  <thead>\n",
       "    <tr style=\"text-align: right;\">\n",
       "      <th></th>\n",
       "      <th>month</th>\n",
       "      <th>all_pay</th>\n",
       "      <th>call</th>\n",
       "      <th>city_Moscow</th>\n",
       "      <th>internet_MB</th>\n",
       "      <th>pay_plus</th>\n",
       "      <th>region</th>\n",
       "      <th>sms_number</th>\n",
       "      <th>count_user</th>\n",
       "      <th>all_pay_mean</th>\n",
       "    </tr>\n",
       "  </thead>\n",
       "  <tbody>\n",
       "    <tr>\n",
       "      <td>count</td>\n",
       "      <td>12.000000</td>\n",
       "      <td>12.000000</td>\n",
       "      <td>12.000000</td>\n",
       "      <td>12.000000</td>\n",
       "      <td>1.200000e+01</td>\n",
       "      <td>12.000000</td>\n",
       "      <td>12.000000</td>\n",
       "      <td>12.000000</td>\n",
       "      <td>12.000000</td>\n",
       "      <td>12.000000</td>\n",
       "    </tr>\n",
       "    <tr>\n",
       "      <td>mean</td>\n",
       "      <td>6.500000</td>\n",
       "      <td>170000.000000</td>\n",
       "      <td>43227.000000</td>\n",
       "      <td>18.750000</td>\n",
       "      <td>1.599550e+06</td>\n",
       "      <td>9937.500000</td>\n",
       "      <td>63.333333</td>\n",
       "      <td>4051.916667</td>\n",
       "      <td>82.083333</td>\n",
       "      <td>2047.333333</td>\n",
       "    </tr>\n",
       "    <tr>\n",
       "      <td>std</td>\n",
       "      <td>3.605551</td>\n",
       "      <td>92821.507598</td>\n",
       "      <td>26050.944558</td>\n",
       "      <td>9.705903</td>\n",
       "      <td>9.526800e+05</td>\n",
       "      <td>8138.324738</td>\n",
       "      <td>34.158277</td>\n",
       "      <td>2838.549036</td>\n",
       "      <td>43.802155</td>\n",
       "      <td>57.308310</td>\n",
       "    </tr>\n",
       "    <tr>\n",
       "      <td>min</td>\n",
       "      <td>1.000000</td>\n",
       "      <td>17550.000000</td>\n",
       "      <td>3853.000000</td>\n",
       "      <td>4.000000</td>\n",
       "      <td>1.183820e+05</td>\n",
       "      <td>0.000000</td>\n",
       "      <td>5.000000</td>\n",
       "      <td>304.000000</td>\n",
       "      <td>9.000000</td>\n",
       "      <td>1950.000000</td>\n",
       "    </tr>\n",
       "    <tr>\n",
       "      <td>25%</td>\n",
       "      <td>3.750000</td>\n",
       "      <td>101212.500000</td>\n",
       "      <td>23422.500000</td>\n",
       "      <td>12.000000</td>\n",
       "      <td>8.571625e+05</td>\n",
       "      <td>2737.500000</td>\n",
       "      <td>38.500000</td>\n",
       "      <td>1600.750000</td>\n",
       "      <td>50.500000</td>\n",
       "      <td>2010.750000</td>\n",
       "    </tr>\n",
       "    <tr>\n",
       "      <td>50%</td>\n",
       "      <td>6.500000</td>\n",
       "      <td>182250.000000</td>\n",
       "      <td>44981.000000</td>\n",
       "      <td>19.500000</td>\n",
       "      <td>1.728990e+06</td>\n",
       "      <td>8100.000000</td>\n",
       "      <td>68.000000</td>\n",
       "      <td>4020.500000</td>\n",
       "      <td>87.500000</td>\n",
       "      <td>2051.000000</td>\n",
       "    </tr>\n",
       "    <tr>\n",
       "      <td>75%</td>\n",
       "      <td>9.250000</td>\n",
       "      <td>238162.500000</td>\n",
       "      <td>63688.000000</td>\n",
       "      <td>27.500000</td>\n",
       "      <td>2.274880e+06</td>\n",
       "      <td>14700.000000</td>\n",
       "      <td>89.500000</td>\n",
       "      <td>6306.500000</td>\n",
       "      <td>117.000000</td>\n",
       "      <td>2085.500000</td>\n",
       "    </tr>\n",
       "    <tr>\n",
       "      <td>max</td>\n",
       "      <td>12.000000</td>\n",
       "      <td>297300.000000</td>\n",
       "      <td>82400.000000</td>\n",
       "      <td>31.000000</td>\n",
       "      <td>3.032089e+06</td>\n",
       "      <td>26250.000000</td>\n",
       "      <td>109.000000</td>\n",
       "      <td>8425.000000</td>\n",
       "      <td>139.000000</td>\n",
       "      <td>2138.000000</td>\n",
       "    </tr>\n",
       "  </tbody>\n",
       "</table>\n",
       "</div>"
      ],
      "text/plain": [
       "           month        all_pay          call  city_Moscow   internet_MB  \\\n",
       "count  12.000000      12.000000     12.000000    12.000000  1.200000e+01   \n",
       "mean    6.500000  170000.000000  43227.000000    18.750000  1.599550e+06   \n",
       "std     3.605551   92821.507598  26050.944558     9.705903  9.526800e+05   \n",
       "min     1.000000   17550.000000   3853.000000     4.000000  1.183820e+05   \n",
       "25%     3.750000  101212.500000  23422.500000    12.000000  8.571625e+05   \n",
       "50%     6.500000  182250.000000  44981.000000    19.500000  1.728990e+06   \n",
       "75%     9.250000  238162.500000  63688.000000    27.500000  2.274880e+06   \n",
       "max    12.000000  297300.000000  82400.000000    31.000000  3.032089e+06   \n",
       "\n",
       "           pay_plus      region   sms_number  count_user  all_pay_mean  \n",
       "count     12.000000   12.000000    12.000000   12.000000     12.000000  \n",
       "mean    9937.500000   63.333333  4051.916667   82.083333   2047.333333  \n",
       "std     8138.324738   34.158277  2838.549036   43.802155     57.308310  \n",
       "min        0.000000    5.000000   304.000000    9.000000   1950.000000  \n",
       "25%     2737.500000   38.500000  1600.750000   50.500000   2010.750000  \n",
       "50%     8100.000000   68.000000  4020.500000   87.500000   2051.000000  \n",
       "75%    14700.000000   89.500000  6306.500000  117.000000   2085.500000  \n",
       "max    26250.000000  109.000000  8425.000000  139.000000   2138.000000  "
      ]
     },
     "execution_count": 55,
     "metadata": {},
     "output_type": "execute_result"
    }
   ],
   "source": [
    "ultra_group.describe()"
   ]
  },
  {
   "cell_type": "markdown",
   "metadata": {},
   "source": [
    "Напишем функцию для подсчета дисперсии и расчитаем ее для дата фрейма ultra_group."
   ]
  },
  {
   "cell_type": "code",
   "execution_count": 56,
   "metadata": {
    "scrolled": false
   },
   "outputs": [
    {
     "name": "stdout",
     "output_type": "stream",
     "text": [
      "Дисперсия all_pay : 8615832272.727272\n",
      "Дисперсия call : 678651712.3636364\n",
      "Дисперсия internet_MB : 907599123548.8788\n",
      "Дисперсия pay_plus : 66232329.54545455\n",
      "Дисперсия sms_number : 8057360.628787881\n",
      "Дисперсия all_pay_mean : 3284.2424242424245\n"
     ]
    }
   ],
   "source": [
    "def variant(row):\n",
    "    variance_row = np.var( ultra_group[row], ddof=1)#известно, что датасет выборка, поэтому указываем параметр ddof=1\n",
    "    print('Дисперсия', row, ':', variance_row) \n",
    "\n",
    "variant('all_pay')\n",
    "variant('call')\n",
    "variant('internet_MB')\n",
    "variant('pay_plus')\n",
    "variant('sms_number')\n",
    "variant('all_pay_mean')"
   ]
  },
  {
   "cell_type": "markdown",
   "metadata": {},
   "source": [
    "Проделаем тоже самое с smart_group."
   ]
  },
  {
   "cell_type": "code",
   "execution_count": 57,
   "metadata": {
    "scrolled": true
   },
   "outputs": [
    {
     "data": {
      "text/html": [
       "<div>\n",
       "<style scoped>\n",
       "    .dataframe tbody tr th:only-of-type {\n",
       "        vertical-align: middle;\n",
       "    }\n",
       "\n",
       "    .dataframe tbody tr th {\n",
       "        vertical-align: top;\n",
       "    }\n",
       "\n",
       "    .dataframe thead th {\n",
       "        text-align: right;\n",
       "    }\n",
       "</style>\n",
       "<table border=\"1\" class=\"dataframe\">\n",
       "  <thead>\n",
       "    <tr style=\"text-align: right;\">\n",
       "      <th></th>\n",
       "      <th>month</th>\n",
       "      <th>all_pay</th>\n",
       "      <th>call</th>\n",
       "      <th>city_Moscow</th>\n",
       "      <th>internet_MB</th>\n",
       "      <th>pay_plus</th>\n",
       "      <th>region</th>\n",
       "      <th>sms_number</th>\n",
       "      <th>count_user</th>\n",
       "      <th>all_pay_mean</th>\n",
       "    </tr>\n",
       "  </thead>\n",
       "  <tbody>\n",
       "    <tr>\n",
       "      <td>0</td>\n",
       "      <td>1</td>\n",
       "      <td>24525</td>\n",
       "      <td>6931.0</td>\n",
       "      <td>4</td>\n",
       "      <td>289831.0</td>\n",
       "      <td>5825</td>\n",
       "      <td>30</td>\n",
       "      <td>620.0</td>\n",
       "      <td>34</td>\n",
       "      <td>721</td>\n",
       "    </tr>\n",
       "    <tr>\n",
       "      <td>1</td>\n",
       "      <td>2</td>\n",
       "      <td>48001</td>\n",
       "      <td>17324.0</td>\n",
       "      <td>9</td>\n",
       "      <td>673461.0</td>\n",
       "      <td>16101</td>\n",
       "      <td>49</td>\n",
       "      <td>1397.0</td>\n",
       "      <td>58</td>\n",
       "      <td>827</td>\n",
       "    </tr>\n",
       "    <tr>\n",
       "      <td>2</td>\n",
       "      <td>3</td>\n",
       "      <td>89676</td>\n",
       "      <td>30034.0</td>\n",
       "      <td>11</td>\n",
       "      <td>1164537.0</td>\n",
       "      <td>47326</td>\n",
       "      <td>66</td>\n",
       "      <td>2453.0</td>\n",
       "      <td>77</td>\n",
       "      <td>1164</td>\n",
       "    </tr>\n",
       "    <tr>\n",
       "      <td>3</td>\n",
       "      <td>4</td>\n",
       "      <td>107866</td>\n",
       "      <td>41119.0</td>\n",
       "      <td>16</td>\n",
       "      <td>1509702.0</td>\n",
       "      <td>46266</td>\n",
       "      <td>96</td>\n",
       "      <td>3443.0</td>\n",
       "      <td>112</td>\n",
       "      <td>963</td>\n",
       "    </tr>\n",
       "    <tr>\n",
       "      <td>4</td>\n",
       "      <td>5</td>\n",
       "      <td>169849</td>\n",
       "      <td>54618.0</td>\n",
       "      <td>25</td>\n",
       "      <td>2231353.0</td>\n",
       "      <td>92299</td>\n",
       "      <td>116</td>\n",
       "      <td>4762.0</td>\n",
       "      <td>141</td>\n",
       "      <td>1204</td>\n",
       "    </tr>\n",
       "    <tr>\n",
       "      <td>5</td>\n",
       "      <td>6</td>\n",
       "      <td>198259</td>\n",
       "      <td>64885.0</td>\n",
       "      <td>28</td>\n",
       "      <td>2593622.0</td>\n",
       "      <td>108059</td>\n",
       "      <td>136</td>\n",
       "      <td>5478.0</td>\n",
       "      <td>164</td>\n",
       "      <td>1208</td>\n",
       "    </tr>\n",
       "    <tr>\n",
       "      <td>6</td>\n",
       "      <td>7</td>\n",
       "      <td>247014</td>\n",
       "      <td>82079.0</td>\n",
       "      <td>36</td>\n",
       "      <td>3168466.0</td>\n",
       "      <td>136464</td>\n",
       "      <td>165</td>\n",
       "      <td>6784.0</td>\n",
       "      <td>201</td>\n",
       "      <td>1228</td>\n",
       "    </tr>\n",
       "    <tr>\n",
       "      <td>7</td>\n",
       "      <td>8</td>\n",
       "      <td>312340</td>\n",
       "      <td>99045.0</td>\n",
       "      <td>38</td>\n",
       "      <td>3908561.0</td>\n",
       "      <td>183090</td>\n",
       "      <td>197</td>\n",
       "      <td>7905.0</td>\n",
       "      <td>235</td>\n",
       "      <td>1329</td>\n",
       "    </tr>\n",
       "    <tr>\n",
       "      <td>8</td>\n",
       "      <td>9</td>\n",
       "      <td>326386</td>\n",
       "      <td>111439.0</td>\n",
       "      <td>41</td>\n",
       "      <td>4244377.0</td>\n",
       "      <td>183386</td>\n",
       "      <td>219</td>\n",
       "      <td>8746.0</td>\n",
       "      <td>260</td>\n",
       "      <td>1255</td>\n",
       "    </tr>\n",
       "    <tr>\n",
       "      <td>9</td>\n",
       "      <td>10</td>\n",
       "      <td>402667</td>\n",
       "      <td>125284.0</td>\n",
       "      <td>52</td>\n",
       "      <td>4932898.0</td>\n",
       "      <td>240967</td>\n",
       "      <td>242</td>\n",
       "      <td>9927.0</td>\n",
       "      <td>294</td>\n",
       "      <td>1369</td>\n",
       "    </tr>\n",
       "    <tr>\n",
       "      <td>10</td>\n",
       "      <td>11</td>\n",
       "      <td>425803</td>\n",
       "      <td>137544.0</td>\n",
       "      <td>60</td>\n",
       "      <td>5345940.0</td>\n",
       "      <td>252003</td>\n",
       "      <td>256</td>\n",
       "      <td>10768.0</td>\n",
       "      <td>316</td>\n",
       "      <td>1347</td>\n",
       "    </tr>\n",
       "    <tr>\n",
       "      <td>11</td>\n",
       "      <td>12</td>\n",
       "      <td>533365</td>\n",
       "      <td>161275.0</td>\n",
       "      <td>66</td>\n",
       "      <td>6112113.0</td>\n",
       "      <td>348015</td>\n",
       "      <td>271</td>\n",
       "      <td>12130.0</td>\n",
       "      <td>337</td>\n",
       "      <td>1582</td>\n",
       "    </tr>\n",
       "  </tbody>\n",
       "</table>\n",
       "</div>"
      ],
      "text/plain": [
       "    month  all_pay      call  city_Moscow  internet_MB  pay_plus  region  \\\n",
       "0       1    24525    6931.0            4     289831.0      5825      30   \n",
       "1       2    48001   17324.0            9     673461.0     16101      49   \n",
       "2       3    89676   30034.0           11    1164537.0     47326      66   \n",
       "3       4   107866   41119.0           16    1509702.0     46266      96   \n",
       "4       5   169849   54618.0           25    2231353.0     92299     116   \n",
       "5       6   198259   64885.0           28    2593622.0    108059     136   \n",
       "6       7   247014   82079.0           36    3168466.0    136464     165   \n",
       "7       8   312340   99045.0           38    3908561.0    183090     197   \n",
       "8       9   326386  111439.0           41    4244377.0    183386     219   \n",
       "9      10   402667  125284.0           52    4932898.0    240967     242   \n",
       "10     11   425803  137544.0           60    5345940.0    252003     256   \n",
       "11     12   533365  161275.0           66    6112113.0    348015     271   \n",
       "\n",
       "    sms_number  count_user  all_pay_mean  \n",
       "0        620.0          34           721  \n",
       "1       1397.0          58           827  \n",
       "2       2453.0          77          1164  \n",
       "3       3443.0         112           963  \n",
       "4       4762.0         141          1204  \n",
       "5       5478.0         164          1208  \n",
       "6       6784.0         201          1228  \n",
       "7       7905.0         235          1329  \n",
       "8       8746.0         260          1255  \n",
       "9       9927.0         294          1369  \n",
       "10     10768.0         316          1347  \n",
       "11     12130.0         337          1582  "
      ]
     },
     "execution_count": 57,
     "metadata": {},
     "output_type": "execute_result"
    }
   ],
   "source": [
    "smart_group=smart_all.pivot_table(index=['month'],values=['internet_MB', 'call', 'sms_number', 'all_pay', 'pay_plus', 'city_Moscow', 'region'],aggfunc=('sum'))\n",
    "#Группируем таблицу smart_all_good по месяцам и результат сохраняем в smart_group\n",
    "smart_group\n",
    "#smart_group['internet, Мб'].plot(y='internet, Мб',grid=True,figsize=(13,6),style='o-',kind='bar',label='ultra')\n",
    "\n",
    "smart_group['count_user']=smart_group['city_Moscow']+smart_group['region']#количество пользователей по месяцам\n",
    "smart_group['all_pay_mean'] = ((smart_group['all_pay'] / smart_group['count_user']).round(1)).astype('int32')#средний чек в месяц\n",
    "#data_ll=data_all.query('tariff==\"smart\" and all_pay>550').count()\n",
    "smart_group = smart_group.reset_index()\n",
    "smart_group"
   ]
  },
  {
   "cell_type": "code",
   "execution_count": 58,
   "metadata": {
    "scrolled": false
   },
   "outputs": [
    {
     "data": {
      "text/html": [
       "<div>\n",
       "<style scoped>\n",
       "    .dataframe tbody tr th:only-of-type {\n",
       "        vertical-align: middle;\n",
       "    }\n",
       "\n",
       "    .dataframe tbody tr th {\n",
       "        vertical-align: top;\n",
       "    }\n",
       "\n",
       "    .dataframe thead th {\n",
       "        text-align: right;\n",
       "    }\n",
       "</style>\n",
       "<table border=\"1\" class=\"dataframe\">\n",
       "  <thead>\n",
       "    <tr style=\"text-align: right;\">\n",
       "      <th></th>\n",
       "      <th>month</th>\n",
       "      <th>all_pay</th>\n",
       "      <th>call</th>\n",
       "      <th>city_Moscow</th>\n",
       "      <th>internet_MB</th>\n",
       "      <th>pay_plus</th>\n",
       "      <th>region</th>\n",
       "      <th>sms_number</th>\n",
       "      <th>count_user</th>\n",
       "      <th>all_pay_mean</th>\n",
       "    </tr>\n",
       "  </thead>\n",
       "  <tbody>\n",
       "    <tr>\n",
       "      <td>count</td>\n",
       "      <td>12.000000</td>\n",
       "      <td>12.000000</td>\n",
       "      <td>12.000000</td>\n",
       "      <td>12.000000</td>\n",
       "      <td>1.200000e+01</td>\n",
       "      <td>12.000000</td>\n",
       "      <td>12.000000</td>\n",
       "      <td>12.000000</td>\n",
       "      <td>12.000000</td>\n",
       "      <td>12.000000</td>\n",
       "    </tr>\n",
       "    <tr>\n",
       "      <td>mean</td>\n",
       "      <td>6.500000</td>\n",
       "      <td>240479.250000</td>\n",
       "      <td>77631.416667</td>\n",
       "      <td>32.166667</td>\n",
       "      <td>3.014572e+06</td>\n",
       "      <td>138316.750000</td>\n",
       "      <td>153.583333</td>\n",
       "      <td>6201.083333</td>\n",
       "      <td>185.750000</td>\n",
       "      <td>1183.083333</td>\n",
       "    </tr>\n",
       "    <tr>\n",
       "      <td>std</td>\n",
       "      <td>3.605551</td>\n",
       "      <td>162313.291896</td>\n",
       "      <td>49912.744923</td>\n",
       "      <td>20.332837</td>\n",
       "      <td>1.917106e+06</td>\n",
       "      <td>106066.395367</td>\n",
       "      <td>83.832580</td>\n",
       "      <td>3790.989687</td>\n",
       "      <td>103.931905</td>\n",
       "      <td>241.062971</td>\n",
       "    </tr>\n",
       "    <tr>\n",
       "      <td>min</td>\n",
       "      <td>1.000000</td>\n",
       "      <td>24525.000000</td>\n",
       "      <td>6931.000000</td>\n",
       "      <td>4.000000</td>\n",
       "      <td>2.898310e+05</td>\n",
       "      <td>5825.000000</td>\n",
       "      <td>30.000000</td>\n",
       "      <td>620.000000</td>\n",
       "      <td>34.000000</td>\n",
       "      <td>721.000000</td>\n",
       "    </tr>\n",
       "    <tr>\n",
       "      <td>25%</td>\n",
       "      <td>3.750000</td>\n",
       "      <td>103318.500000</td>\n",
       "      <td>38347.750000</td>\n",
       "      <td>14.750000</td>\n",
       "      <td>1.423411e+06</td>\n",
       "      <td>47061.000000</td>\n",
       "      <td>88.500000</td>\n",
       "      <td>3195.500000</td>\n",
       "      <td>103.250000</td>\n",
       "      <td>1113.750000</td>\n",
       "    </tr>\n",
       "    <tr>\n",
       "      <td>50%</td>\n",
       "      <td>6.500000</td>\n",
       "      <td>222636.500000</td>\n",
       "      <td>73482.000000</td>\n",
       "      <td>32.000000</td>\n",
       "      <td>2.881044e+06</td>\n",
       "      <td>122261.500000</td>\n",
       "      <td>150.500000</td>\n",
       "      <td>6131.000000</td>\n",
       "      <td>182.500000</td>\n",
       "      <td>1218.000000</td>\n",
       "    </tr>\n",
       "    <tr>\n",
       "      <td>75%</td>\n",
       "      <td>9.250000</td>\n",
       "      <td>345456.250000</td>\n",
       "      <td>114900.250000</td>\n",
       "      <td>43.750000</td>\n",
       "      <td>4.416507e+06</td>\n",
       "      <td>197781.250000</td>\n",
       "      <td>224.750000</td>\n",
       "      <td>9041.250000</td>\n",
       "      <td>268.500000</td>\n",
       "      <td>1333.500000</td>\n",
       "    </tr>\n",
       "    <tr>\n",
       "      <td>max</td>\n",
       "      <td>12.000000</td>\n",
       "      <td>533365.000000</td>\n",
       "      <td>161275.000000</td>\n",
       "      <td>66.000000</td>\n",
       "      <td>6.112113e+06</td>\n",
       "      <td>348015.000000</td>\n",
       "      <td>271.000000</td>\n",
       "      <td>12130.000000</td>\n",
       "      <td>337.000000</td>\n",
       "      <td>1582.000000</td>\n",
       "    </tr>\n",
       "  </tbody>\n",
       "</table>\n",
       "</div>"
      ],
      "text/plain": [
       "           month        all_pay           call  city_Moscow   internet_MB  \\\n",
       "count  12.000000      12.000000      12.000000    12.000000  1.200000e+01   \n",
       "mean    6.500000  240479.250000   77631.416667    32.166667  3.014572e+06   \n",
       "std     3.605551  162313.291896   49912.744923    20.332837  1.917106e+06   \n",
       "min     1.000000   24525.000000    6931.000000     4.000000  2.898310e+05   \n",
       "25%     3.750000  103318.500000   38347.750000    14.750000  1.423411e+06   \n",
       "50%     6.500000  222636.500000   73482.000000    32.000000  2.881044e+06   \n",
       "75%     9.250000  345456.250000  114900.250000    43.750000  4.416507e+06   \n",
       "max    12.000000  533365.000000  161275.000000    66.000000  6.112113e+06   \n",
       "\n",
       "            pay_plus      region    sms_number  count_user  all_pay_mean  \n",
       "count      12.000000   12.000000     12.000000   12.000000     12.000000  \n",
       "mean   138316.750000  153.583333   6201.083333  185.750000   1183.083333  \n",
       "std    106066.395367   83.832580   3790.989687  103.931905    241.062971  \n",
       "min      5825.000000   30.000000    620.000000   34.000000    721.000000  \n",
       "25%     47061.000000   88.500000   3195.500000  103.250000   1113.750000  \n",
       "50%    122261.500000  150.500000   6131.000000  182.500000   1218.000000  \n",
       "75%    197781.250000  224.750000   9041.250000  268.500000   1333.500000  \n",
       "max    348015.000000  271.000000  12130.000000  337.000000   1582.000000  "
      ]
     },
     "execution_count": 58,
     "metadata": {},
     "output_type": "execute_result"
    }
   ],
   "source": [
    "smart_group.describe()"
   ]
  },
  {
   "cell_type": "code",
   "execution_count": 59,
   "metadata": {
    "scrolled": false
   },
   "outputs": [
    {
     "name": "stdout",
     "output_type": "stream",
     "text": [
      "Дисперсия all_pay : 26345604726.204544\n",
      "Дисперсия call : 2491282105.7196965\n",
      "Дисперсия internet_MB : 3675294547977.2954\n",
      "Дисперсия pay_plus : 11250080226.204546\n",
      "Дисперсия sms_number : 14371602.81060606\n",
      "Дисперсия all_pay_mean : 58111.35606060607\n"
     ]
    }
   ],
   "source": [
    "def var_row(row):\n",
    "    varian_row = np.var(smart_group[row], ddof=1)#известно, что датасет выборка, поэтому указывают параметр ddof=1\n",
    "    print('Дисперсия', row, ':', varian_row) \n",
    "\n",
    "var_row('all_pay')\n",
    "var_row('call')\n",
    "var_row('internet_MB')\n",
    "var_row('pay_plus')\n",
    "var_row('sms_number')\n",
    "var_row('all_pay_mean')"
   ]
  },
  {
   "cell_type": "markdown",
   "metadata": {},
   "source": [
    "Напишем функцию для построения графиков зависимостей количества абонентов оператора \"Мегафон\", выручки, длятельности разговора по телефону, количества смс, расходование интернет трафика, в течение года."
   ]
  },
  {
   "cell_type": "code",
   "execution_count": 60,
   "metadata": {},
   "outputs": [],
   "source": [
    "def ultra_bar(point1, point2):\n",
    "    return ultra_group.plot(x=point1, y=point2, kind='bar', ax=ax, figsize=(10,5),  label = 'ultra')\n",
    "    \n",
    "    \n",
    "def smart_bar(point11, point22):\n",
    "    return smart_group.plot(x=point11, y=point22, kind='bar', ax=ax, figsize=(10,5), color='y', label = 'smart', alpha=0.5 )"
   ]
  },
  {
   "cell_type": "code",
   "execution_count": 61,
   "metadata": {
    "scrolled": true
   },
   "outputs": [
    {
     "data": {
      "image/png": "[encoded data removed]",
      "text/plain": [
       "<Figure size 720x360 with 1 Axes>"
      ]
     },
     "metadata": {
      "needs_background": "light"
     },
     "output_type": "display_data"
    }
   ],
   "source": [
    "ax = plt.gca()\n",
    "ultra_bar('month', 'count_user')\n",
    "smart_bar('month', 'count_user')\n",
    "plt.title('Зависимость количество абонентов от месяца')\n",
    "plt.xlabel(\"Месяц\")\n",
    "plt.ylabel(\"Количество абонентов\")\n",
    "plt.legend()\n",
    "plt.show()"
   ]
  },
  {
   "cell_type": "markdown",
   "metadata": {},
   "source": [
    "Вот и подтверждение нашего допущения, что количесво пользователей, в течение года возрастает. Для тарифа \"Смарт\" это более ярко выражено. Людей привлекает недорогой, практичный тариф."
   ]
  },
  {
   "cell_type": "code",
   "execution_count": 62,
   "metadata": {
    "scrolled": true
   },
   "outputs": [
    {
     "data": {
      "image/png": "[encoded data removed]",
      "text/plain": [
       "<Figure size 720x360 with 1 Axes>"
      ]
     },
     "metadata": {
      "needs_background": "light"
     },
     "output_type": "display_data"
    },
    {
     "name": "stdout",
     "output_type": "stream",
     "text": [
      "Коэффициент корреляции числа абонентов и выручки для тарифа \"смарт\": 0.9895776988829807\n",
      "Коэффициент корреляции числа абонентов и выручки для тарифа: \"ультра\": 0.9992833145477678\n"
     ]
    }
   ],
   "source": [
    "ax = plt.gca()\n",
    "ultra_bar('month', 'all_pay')\n",
    "smart_bar('month', 'all_pay')\n",
    "plt.title('Зависимость выручки от месяца')\n",
    "plt.xlabel(\"Месяц\")\n",
    "plt.ylabel(\"Выручка\")\n",
    "plt.legend()\n",
    "plt.show()\n",
    "print('Коэффициент корреляции числа абонентов и выручки для тарифа \"смарт\":', smart_group['all_pay'].corr(smart_group['count_user']))\n",
    "print('Коэффициент корреляции числа абонентов и выручки для тарифа: \"ультра\":',ultra_group['all_pay'].corr(ultra_group['count_user']))"
   ]
  },
  {
   "cell_type": "markdown",
   "metadata": {},
   "source": [
    "Количество абонентов растет и выручка растет) Коэффициент корреляции только подтверждает нашу догатку, почти едининца."
   ]
  },
  {
   "cell_type": "code",
   "execution_count": 63,
   "metadata": {
    "scrolled": true
   },
   "outputs": [
    {
     "data": {
      "image/png": "[encoded data removed]",
      "text/plain": [
       "<Figure size 720x360 with 1 Axes>"
      ]
     },
     "metadata": {
      "needs_background": "light"
     },
     "output_type": "display_data"
    },
    {
     "name": "stdout",
     "output_type": "stream",
     "text": [
      "Коэффициент корреляции числа абонентов и длительности разговорадля тарифа \"смарт\": 0.9963569583228853\n",
      "Коэффициент корреляции числа абонентов и длительности разговора для тарифа: \"ультра\": 0.9941277197118302\n"
     ]
    }
   ],
   "source": [
    "ax = plt.gca()\n",
    "ultra_bar('month', 'call')\n",
    "smart_bar('month', 'call')\n",
    "plt.title('Зависимость длительности разговора от месяца')\n",
    "plt.xlabel(\"Месяц\")\n",
    "plt.ylabel(\"Длительность разговора\")\n",
    "plt.legend()\n",
    "plt.show()\n",
    "print('Коэффициент корреляции числа абонентов и длительности разговорадля тарифа \"смарт\":', smart_group['call'].corr(smart_group['count_user']))\n",
    "print('Коэффициент корреляции числа абонентов и длительности разговора для тарифа: \"ультра\":',ultra_group['call'].corr(ultra_group['count_user']))"
   ]
  },
  {
   "cell_type": "markdown",
   "metadata": {},
   "source": [
    "Зависимость от количества пользователей сохраняется для обоих тарифов."
   ]
  },
  {
   "cell_type": "code",
   "execution_count": 64,
   "metadata": {},
   "outputs": [
    {
     "data": {
      "image/png": "[encoded data removed]",
      "text/plain": [
       "<Figure size 720x360 with 1 Axes>"
      ]
     },
     "metadata": {
      "needs_background": "light"
     },
     "output_type": "display_data"
    },
    {
     "name": "stdout",
     "output_type": "stream",
     "text": [
      "Коэффициент корреляции числа абонентов и длительности разговорадля тарифа \"смарт\": 0.9963569583228853\n",
      "Коэффициент корреляции числа абонентов и длительности разговора для тарифа: \"ультра\": 0.9941277197118302\n"
     ]
    }
   ],
   "source": [
    "ax = plt.gca()\n",
    "ultra_bar('month', 'sms_number')\n",
    "smart_bar('month', 'sms_number')\n",
    "plt.title('Зависимость количества смс от месяца')\n",
    "plt.xlabel(\"Месяц\")\n",
    "plt.ylabel(\"Количество смс\")\n",
    "plt.legend()\n",
    "plt.show()\n",
    "print('Коэффициент корреляции числа абонентов и длительности разговорадля тарифа \"смарт\":', smart_group['call'].corr(smart_group['count_user']))\n",
    "print('Коэффициент корреляции числа абонентов и длительности разговора для тарифа: \"ультра\":',ultra_group['call'].corr(ultra_group['count_user']))"
   ]
  },
  {
   "cell_type": "code",
   "execution_count": 65,
   "metadata": {
    "scrolled": true
   },
   "outputs": [
    {
     "data": {
      "image/png": "[encoded data removed]",
      "text/plain": [
       "<Figure size 720x360 with 1 Axes>"
      ]
     },
     "metadata": {
      "needs_background": "light"
     },
     "output_type": "display_data"
    },
    {
     "name": "stdout",
     "output_type": "stream",
     "text": [
      "Коэффициент корреляции числа абонентов и длительности разговорадля тарифа \"смарт\": 0.997588647552626\n",
      "Коэффициент корреляции числа абонентов и длительности разговора для тарифа: \"ультра\": 0.9955839765006022\n"
     ]
    }
   ],
   "source": [
    "ax = plt.gca()\n",
    "ultra_bar('month', 'internet_MB')\n",
    "smart_bar('month', 'internet_MB')\n",
    "plt.title('Зависимость интернет трафика от месяца')\n",
    "plt.xlabel(\"Месяц\")\n",
    "plt.ylabel(\"Интернет трафик\")\n",
    "plt.legend()\n",
    "plt.show()\n",
    "print('Коэффициент корреляции числа абонентов и длительности разговорадля тарифа \"смарт\":', smart_group['internet_MB'].corr(smart_group['count_user']))\n",
    "print('Коэффициент корреляции числа абонентов и длительности разговора для тарифа: \"ультра\":',ultra_group['internet_MB'].corr(ultra_group['count_user']))"
   ]
  },
  {
   "cell_type": "markdown",
   "metadata": {},
   "source": [
    "Количество абонентов играет решающию роль в получение прибыли, в использование трафика, в количестве использованных смс и телефонных разговоров.\n",
    "Для тарифа \"Ультра\" эти показатели выше, чем у тарифа \"Смарт\", в первом больше пакет с объем включенных опций. "
   ]
  },
  {
   "cell_type": "code",
   "execution_count": 66,
   "metadata": {
    "scrolled": true
   },
   "outputs": [
    {
     "data": {
      "image/png": "[encoded data removed]",
      "text/plain": [
       "<Figure size 720x360 with 1 Axes>"
      ]
     },
     "metadata": {
      "needs_background": "light"
     },
     "output_type": "display_data"
    }
   ],
   "source": [
    "ax = plt.gca()\n",
    "ultra_bar('month', 'all_pay_mean')\n",
    "smart_bar('month', 'all_pay_mean')\n",
    "plt.title('Зависимость средней оплаты от месяца')\n",
    "plt.xlabel(\"Месяц\")\n",
    "plt.ylabel(\"Средняя оплата\")\n",
    "plt.legend()\n",
    "plt.show()"
   ]
  },
  {
   "cell_type": "markdown",
   "metadata": {},
   "source": [
    "Если посмотреть на график, то средний чек для тарифа \"Ультра\" выше, чем для тарифа \"Смарт\". В течение года средний чек изменяется. Увеличим масштаб, чтобы посмотреть повнимательней."
   ]
  },
  {
   "cell_type": "code",
   "execution_count": 67,
   "metadata": {},
   "outputs": [
    {
     "data": {
      "image/png": "[encoded data removed]",
      "text/plain": [
       "<Figure size 720x360 with 1 Axes>"
      ]
     },
     "metadata": {
      "needs_background": "light"
     },
     "output_type": "display_data"
    }
   ],
   "source": [
    "ax = plt.gca()\n",
    "ultra_bar('month', 'all_pay_mean')\n",
    "smart_bar('month', 'all_pay_mean')\n",
    "plt.title('Зависимость средней оплаты от месяца')\n",
    "plt.xlabel(\"Месяц\")\n",
    "plt.ylim(650, 2150)\n",
    "plt.ylabel(\"Средняя оплата\")\n",
    "plt.legend()\n",
    "plt.show()"
   ]
  },
  {
   "cell_type": "markdown",
   "metadata": {},
   "source": [
    "Сейчас хорошо видно, что для тарифа \"Смарт\" колебания в среднем чеке ярче выражены, чем для тарифа \"Ультра\". Для тарифа \"Смарт\" дельта составляет 861 руб - это в 1,5 раза больше ежемесячной платы. В тоже время для тарифа \"Ультра\", переплата составляет 188 руб - это в 0,09 раза больше ежемесячного платежа."
   ]
  },
  {
   "cell_type": "code",
   "execution_count": 68,
   "metadata": {},
   "outputs": [
    {
     "data": {
      "image/png": "[encoded data removed]",
      "text/plain": [
       "<Figure size 720x360 with 1 Axes>"
      ]
     },
     "metadata": {
      "needs_background": "light"
     },
     "output_type": "display_data"
    }
   ],
   "source": [
    "ax = plt.gca()\n",
    "ultra_bar('month', 'city_Moscow')\n",
    "ultra_group.plot(x='month', y='region', kind='bar', ax=ax, figsize=(10,5), color='y', alpha=0.5 )\n",
    "plt.title('Популярность тарифа \"Ультра\" в Москве и в регионе в зависимости от месяца')\n",
    "plt.xlabel(\"Месяц\")\n",
    "plt.ylabel(\"Тариф\")\n",
    "plt.legend(['Moscow', 'region'])\n",
    "plt.show()"
   ]
  },
  {
   "cell_type": "code",
   "execution_count": 69,
   "metadata": {},
   "outputs": [
    {
     "data": {
      "image/png": "[encoded data removed]",
      "text/plain": [
       "<Figure size 720x360 with 1 Axes>"
      ]
     },
     "metadata": {
      "needs_background": "light"
     },
     "output_type": "display_data"
    }
   ],
   "source": [
    "ax = plt.gca()\n",
    "smart_bar('month', 'city_Moscow')\n",
    "smart_group.plot(x='month', y='region', kind='bar', ax=ax, figsize=(10,5), color='g', alpha=0.5 )\n",
    "plt.title('Популярность тарифа \"Смарт\" в регионах в зависимости от месяца')\n",
    "plt.xlabel(\"Месяц\")\n",
    "plt.ylabel(\"Тариф\")\n",
    "plt.legend(['Moscow', 'region'])\n",
    "plt.show()"
   ]
  },
  {
   "cell_type": "markdown",
   "metadata": {},
   "source": [
    "Тариф \"Смарт\" пользуется популярностью и в Москве и в регионах. Проверим отличается ли средняя выручка пользователей из Москвы от выручки пользователей из других регионов. "
   ]
  },
  {
   "cell_type": "markdown",
   "metadata": {},
   "source": [
    "##  Проверка гипотез"
   ]
  },
  {
   "cell_type": "markdown",
   "metadata": {},
   "source": [
    "- средняя выручка пользователей тарифов «Ультра» и «Смарт» различается;"
   ]
  },
  {
   "cell_type": "code",
   "execution_count": 70,
   "metadata": {},
   "outputs": [
    {
     "name": "stdout",
     "output_type": "stream",
     "text": [
      "средняя выручка пользователей тарифов «Ультра»: 2071.0659898477156\n"
     ]
    }
   ],
   "source": [
    "print('средняя выручка пользователей тарифов «Ультра»: {}'.format(ultra_all['all_pay'].mean()))"
   ]
  },
  {
   "cell_type": "code",
   "execution_count": 71,
   "metadata": {
    "scrolled": true
   },
   "outputs": [
    {
     "name": "stdout",
     "output_type": "stream",
     "text": [
      "средняя выручка пользователей тарифов «Ультра»: 1294.6393001345896\n"
     ]
    }
   ],
   "source": [
    "print('средняя выручка пользователей тарифов «Ультра»: {}'.format(smart_all['all_pay'].mean()))"
   ]
  },
  {
   "cell_type": "markdown",
   "metadata": {},
   "source": [
    "Зная среднюю выручку пользователь разных тарифных планов, можно сформулировать гипотезы.\n",
    "Нулевая гипотеза H₀: \n",
    "- Средняя выручка пользователей тарифов \"Ультра\" и \"Смарт\" НЕ различается.\n",
    "Исходя из H₀ формулируется альтернативная гипотеза H₁: \n",
    "- Средняя выручка пользователей тарифов \"Ультра\" и \"Смарт\"  различается.\n",
    "\n",
    "Пороговое значение alpha (критический уровень статистической значимости) зададим равным 5%."
   ]
  },
  {
   "cell_type": "code",
   "execution_count": 72,
   "metadata": {
    "scrolled": true
   },
   "outputs": [
    {
     "name": "stdout",
     "output_type": "stream",
     "text": [
      "p-значение: 2.9776448000521676e-158\n",
      "Отвергаем нулевую гипотезу\n"
     ]
    }
   ],
   "source": [
    "alpha = 0.05  # критический уровень статистической значимости\n",
    "# если p-value окажется меньше него - отвергнем гипотезу\n",
    "\n",
    "\n",
    "results = st.ttest_ind(ultra_all['all_pay'], smart_all['all_pay'])\n",
    "\n",
    "print('p-значение:', results.pvalue)\n",
    "\n",
    "if results.pvalue < alpha:\n",
    "    print('Отвергаем нулевую гипотезу')\n",
    "else:\n",
    "    print('Не получилось отвергнуть нулевую гипотезу') \n"
   ]
  },
  {
   "cell_type": "markdown",
   "metadata": {},
   "source": [
    "Нуливая гипотеза не подтвердилась. Средняя выручка пользователей тарифов \"Ультра\" и \"Смарт\" различается, что видно из ежемесячного платежа за тариф и расчетов средней выручки по тарифам. Так же можно сказать, что абоненты выходят за рамки тарифного плана, но в тарифе \"Ультра\" это выражено несильно, по сравнению с тарифом \"Смарт\". "
   ]
  },
  {
   "cell_type": "markdown",
   "metadata": {},
   "source": [
    "- средняя выручка пользователей из Москвы отличается от выручки пользователей из других регионов;"
   ]
  },
  {
   "cell_type": "code",
   "execution_count": 73,
   "metadata": {},
   "outputs": [],
   "source": [
    "city_moscow= data_all.query('city == \"Москва\"')\n",
    "city_region = data_all.query('city != \"Москва\"')"
   ]
  },
  {
   "cell_type": "code",
   "execution_count": 74,
   "metadata": {},
   "outputs": [
    {
     "name": "stdout",
     "output_type": "stream",
     "text": [
      "средняя выручка пользователей в Москве: 1550.8052373158755\n"
     ]
    }
   ],
   "source": [
    "print('средняя выручка пользователей в Москве: {}'.format(city_moscow['all_pay'].mean()))"
   ]
  },
  {
   "cell_type": "code",
   "execution_count": 75,
   "metadata": {},
   "outputs": [
    {
     "name": "stdout",
     "output_type": "stream",
     "text": [
      "средняя выручка пользователей в регионах: 1528.3169419900116\n"
     ]
    }
   ],
   "source": [
    "print('средняя выручка пользователей в регионах: {}'.format(city_region['all_pay'].mean()))"
   ]
  },
  {
   "cell_type": "markdown",
   "metadata": {},
   "source": [
    "Расчитав среднюю выручку абонентов в г.Москве и регионах, сформулируем гипотезы.\n",
    "Нулевая гипотеза H₀:\n",
    "\n",
    "- средняя выручка пользователей из Москвы НЕ отличается от выручки пользователей из других регионов. Исходя из H₀ формулируется альтернативная гипотеза H₁:\n",
    "- средняя выручка пользователей из Москвы отличается от выручки пользователей из других регионов\n",
    "\n",
    "Пороговое значение alpha (критический уровень статистической значимости) зададим равным 5%."
   ]
  },
  {
   "cell_type": "code",
   "execution_count": 76,
   "metadata": {},
   "outputs": [
    {
     "name": "stdout",
     "output_type": "stream",
     "text": [
      "p-значение: 0.531666503831252\n",
      "Не получилось отвергнуть нулевую гипотезу\n"
     ]
    }
   ],
   "source": [
    "alpha = 0.05  # критический уровень статистической значимости\n",
    "# если p-value окажется меньше него - отвергнем гипотезу\n",
    "\n",
    "results = st.ttest_ind(city_moscow['all_pay'], city_region['all_pay'])\n",
    "\n",
    "print('p-значение:', results.pvalue)\n",
    "\n",
    "if results.pvalue < alpha:\n",
    "    print('Отвергаем нулевую гипотезу')\n",
    "else:\n",
    "    print('Не получилось отвергнуть нулевую гипотезу') "
   ]
  },
  {
   "cell_type": "markdown",
   "metadata": {},
   "source": [
    "Нуливая гипотеза не отвергнута . Средняя выручка пользователей из Москвы практически не отличается от выручки пользователей из других регионов, что видно из расчетов средней выручки по Москве и регионам. Разница между средней выручкой разных тарифов составляет 1,4%."
   ]
  },
  {
   "cell_type": "markdown",
   "metadata": {},
   "source": [
    "## Общий вывод\n",
    "<a id=\"output\"></a>"
   ]
  },
  {
   "cell_type": "markdown",
   "metadata": {},
   "source": [
    "1. Обработав полученный архив и 5 дата фреймов, было проведено исследование полученных данных, обработаны пропущенные значения где это требовалось, заменены типы данных.\n",
    "2. В таблицы были добавлены: новые столбцы с месяцами.\n",
    "3. Выявлены нуливые значения в длительности разговоров по телефону и интернет трафика. Сделано предположение, что это не состоявшиеся разговоры и выход в интернет без потраченного объема интернет-трафика за сессию. Нули убирали из рассмотрения.\n",
    "4. Выявлены NaN в churn_date, но по условию это значит, что  тариф ещё действует на момент выгрузки данных, поэтому оставили как есть.\n",
    "5.  Постоены гисторгаммы и боксплоты.\n",
    "6. Сформированы и очищены таблицы ultra_all, smart_all  от выбросов.\n",
    "7. Для каждого пользователя посчитано и построены зависимости:\n",
    "- количество сделанных звонков и израсходованных минут разговора по месяцам;\n",
    "- количество отправленных сообщений по месяцам;\n",
    "- объем израсходованного интернет-трафика по месяцам;\n",
    "- помесячную выручку с каждого пользователя (вычтите бесплатный лимит из суммарного количества звонков, сообщений и интернет-трафика; остаток умножьте на значение из тарифного плана; прибавьте абонентскую плату, соответствующую тарифному плану).\n",
    "8. Пользователи тарифа \"Смарт\" стараются не выходить за предоставленный лимит в телефонных разговорах, смс и интернет-трафика. Абоненты \"Ультра\" чувствуют себя более свободными, благодаря рассширеному пакету и не всегда выбирают его.\n",
    "9. С приближением Нового года количество минут разговора, сообщений и объём интернет-трафика возрастает\n",
    "\n",
    "| Тариф        | количество минут разговора       | количество смс  |     интернет-трафика    |   .                         |  \n",
    "|:------------------:|:----------------------------------:|: ------------------------------:|:---------------:|:-----------------------:|\n",
    "|                      |        43227                                    |                 4051                   |      1599550             |        среднее                         |                      \n",
    "|          \"Ультра\"             |  26050                                 |      2838                |       952682               |                      стандартное отклонение               |              \n",
    "|             |  678651712 | 8057360 | 907599123548     | дисперсия  | \n",
    "|    | 77631      | 6201   | 3014572   | среднее  | \n",
    "|  \"Смарт\"  | 49912    |    3790 |1917106   |      стандартное отклонение   | \n",
    "|    | 2491282105     |   14371602  | 3675294547977   |  дисперсия| \n",
    "\n",
    "10. Проверены гипотезы\n",
    "    - средняя выручка пользователей тарифов «Ультра» и «Смарт» НЕ различается;\n",
    "    - средняя выручка пользователей из Москвы НЕ отличается от выручки пользователей из других регионов;\n",
    "\n",
    "\n",
    "| Тариф        | средняя выручка       | Нуливая гипотеза  |  \n",
    "|:------------------:|:----------------------------------:|: ------------------------------:|\n",
    "|              \"Ультра\"          |        2071.0              |         Отвергаем нулевую гипотезу                 |                       \n",
    "|           \"Смарт\"            |  1294.1                       |                |                \n",
    "|       |    |    |   | \n",
    "| Москва  |   1550 |Не получилось отвергнуть нулевую гипотезу  |  \n",
    "|  регионы  | 1528     |     | "
   ]
  },
  {
   "cell_type": "markdown",
   "metadata": {},
   "source": [
    "## Чек-лист готовности проекта\n",
    "<a id=\"list\"></a>\n",
    "\n",
    "Поставьте 'x' в выполненных пунктах. Далее нажмите Shift+Enter."
   ]
  },
  {
   "cell_type": "markdown",
   "metadata": {},
   "source": [
    "- [x]  открыт файл\n",
    "- [x]  файлы изучены (выведены первые строки, метод info())\n",
    "- [x]  приведены данные к нужным типам\n",
    "- [x]  найдены и исправены ошибки в данных\n",
    "- [x]  есть пояснение, какие ошибки были найдены и как их исправили\n",
    "- [x]   посчитано для каждого пользователя количество сделанных звонков и израсходованных минут разговора по месяцам\n",
    "- [x]  посчитано для каждого пользователя количество отправленных сообщений по месяцам\n",
    "- [x]  посчитано для каждого пользователя помесячная выручка с каждого пользователя\n",
    "- [x]  описано поведение клиентов оператора, исходя из выборки\n",
    "- [x]  посчитано среднее количество, дисперсию и стандартное отклонение\n",
    "- [x]  построены гистограммы\n",
    "- [x]  описаны распределения\n",
    "- [x]  провеены гипотезы: средняя выручка пользователей тарифов «Ультра» и «Смарт» различается\n",
    "- [x]  провеены гипотезы:средняя выручка пользователей из Москвы отличается от выручки пользователей из других регионов;\n",
    "- [x]  cделано пояснение для формулирования нулевой и альтернативной гипотезы\n",
    "- [x]  cделано пояснение　какой критерий использовали для проверки гипотез и почему\n",
    "- [x]  в каждом этапе есть выводы\n",
    "- [x]  есть общий вывод"
   ]
  }
 ],
 "metadata": {
  "ExecuteTimeLog": [
   {
    "duration": 1521,
    "start_time": "2021-12-27T03:39:58.954Z"
   },
   {
    "duration": 576,
    "start_time": "2021-12-27T03:40:02.903Z"
   },
   {
    "duration": 49,
    "start_time": "2021-12-27T03:40:06.357Z"
   },
   {
    "duration": 33,
    "start_time": "2021-12-27T03:40:08.025Z"
   },
   {
    "duration": 29,
    "start_time": "2021-12-27T03:40:09.402Z"
   },
   {
    "duration": 19,
    "start_time": "2021-12-27T03:40:11.988Z"
   },
   {
    "duration": 34,
    "start_time": "2021-12-27T03:40:13.354Z"
   },
   {
    "duration": 114,
    "start_time": "2021-12-27T03:40:16.474Z"
   },
   {
    "duration": 8,
    "start_time": "2021-12-27T03:40:18.225Z"
   },
   {
    "duration": 429,
    "start_time": "2021-12-27T03:40:19.170Z"
   },
   {
    "duration": 28,
    "start_time": "2021-12-27T03:40:21.402Z"
   },
   {
    "duration": 425,
    "start_time": "2021-12-27T03:40:24.169Z"
   },
   {
    "duration": 24,
    "start_time": "2021-12-27T03:40:26.075Z"
   },
   {
    "duration": 462,
    "start_time": "2021-12-27T03:40:28.488Z"
   },
   {
    "duration": 23,
    "start_time": "2021-12-27T03:40:32.520Z"
   },
   {
    "duration": 468,
    "start_time": "2021-12-27T03:40:33.904Z"
   },
   {
    "duration": 27,
    "start_time": "2021-12-27T03:40:36.058Z"
   },
   {
    "duration": 22,
    "start_time": "2021-12-27T03:40:36.723Z"
   },
   {
    "duration": 23,
    "start_time": "2021-12-27T03:40:37.133Z"
   },
   {
    "duration": 5,
    "start_time": "2021-12-27T03:40:37.515Z"
   },
   {
    "duration": 74,
    "start_time": "2021-12-27T03:40:41.012Z"
   },
   {
    "duration": 311,
    "start_time": "2021-12-27T03:40:42.358Z"
   },
   {
    "duration": 349,
    "start_time": "2021-12-27T03:40:44.023Z"
   },
   {
    "duration": 56,
    "start_time": "2021-12-27T03:40:50.336Z"
   },
   {
    "duration": 332,
    "start_time": "2021-12-27T03:40:51.484Z"
   },
   {
    "duration": 37,
    "start_time": "2021-12-27T03:40:56.903Z"
   },
   {
    "duration": 385,
    "start_time": "2021-12-27T03:41:00.423Z"
   },
   {
    "duration": 480,
    "start_time": "2021-12-27T03:41:01.277Z"
   },
   {
    "duration": 139,
    "start_time": "2021-12-27T03:41:08.469Z"
   },
   {
    "duration": 11,
    "start_time": "2021-12-27T03:41:11.376Z"
   },
   {
    "duration": 18,
    "start_time": "2021-12-27T03:41:13.710Z"
   },
   {
    "duration": 15,
    "start_time": "2021-12-27T03:41:15.130Z"
   },
   {
    "duration": 8,
    "start_time": "2021-12-27T03:41:16.482Z"
   },
   {
    "duration": 11,
    "start_time": "2021-12-27T03:41:17.879Z"
   },
   {
    "duration": 10,
    "start_time": "2021-12-27T03:41:19.351Z"
   },
   {
    "duration": 8,
    "start_time": "2021-12-27T03:41:20.727Z"
   },
   {
    "duration": 20,
    "start_time": "2021-12-27T03:41:22.704Z"
   },
   {
    "duration": 13,
    "start_time": "2021-12-27T03:41:24.833Z"
   },
   {
    "duration": 37094,
    "start_time": "2021-12-27T03:41:26.326Z"
   },
   {
    "duration": 51,
    "start_time": "2021-12-27T03:42:03.423Z"
   },
   {
    "duration": 12,
    "start_time": "2021-12-27T03:42:07.636Z"
   },
   {
    "duration": 11,
    "start_time": "2021-12-27T03:42:09.319Z"
   },
   {
    "duration": 12,
    "start_time": "2021-12-27T03:42:10.340Z"
   },
   {
    "duration": 12,
    "start_time": "2021-12-27T03:42:11.753Z"
   },
   {
    "duration": 394,
    "start_time": "2021-12-27T03:42:16.569Z"
   },
   {
    "duration": 291,
    "start_time": "2021-12-27T03:42:19.553Z"
   },
   {
    "duration": 483,
    "start_time": "2021-12-27T03:42:22.374Z"
   },
   {
    "duration": 411,
    "start_time": "2021-12-27T03:42:23.989Z"
   },
   {
    "duration": 346,
    "start_time": "2021-12-27T03:42:27.388Z"
   },
   {
    "duration": 390,
    "start_time": "2021-12-27T03:42:30.872Z"
   },
   {
    "duration": 304,
    "start_time": "2021-12-27T03:42:33.176Z"
   },
   {
    "duration": 14,
    "start_time": "2021-12-27T03:42:35.827Z"
   },
   {
    "duration": 144,
    "start_time": "2021-12-27T03:42:36.273Z"
   },
   {
    "duration": 41,
    "start_time": "2021-12-27T03:42:37.042Z"
   },
   {
    "duration": 58,
    "start_time": "2021-12-27T03:42:38.978Z"
   },
   {
    "duration": 13,
    "start_time": "2021-12-27T03:42:42.851Z"
   },
   {
    "duration": 44,
    "start_time": "2021-12-27T03:42:47.157Z"
   },
   {
    "duration": 62,
    "start_time": "2021-12-27T03:42:48.425Z"
   },
   {
    "duration": 13,
    "start_time": "2021-12-27T03:42:49.572Z"
   },
   {
    "duration": 6,
    "start_time": "2021-12-27T03:42:50.852Z"
   },
   {
    "duration": 446,
    "start_time": "2021-12-27T03:42:51.379Z"
   },
   {
    "duration": 466,
    "start_time": "2021-12-27T03:42:52.438Z"
   },
   {
    "duration": 486,
    "start_time": "2021-12-27T03:42:53.371Z"
   },
   {
    "duration": 451,
    "start_time": "2021-12-27T03:42:54.178Z"
   },
   {
    "duration": 472,
    "start_time": "2021-12-27T03:42:54.632Z"
   },
   {
    "duration": 462,
    "start_time": "2021-12-27T03:42:55.270Z"
   },
   {
    "duration": 457,
    "start_time": "2021-12-27T03:42:55.903Z"
   },
   {
    "duration": 458,
    "start_time": "2021-12-27T03:42:56.546Z"
   },
   {
    "duration": 472,
    "start_time": "2021-12-27T03:42:57.008Z"
   },
   {
    "duration": 5,
    "start_time": "2021-12-27T03:42:58.091Z"
   },
   {
    "duration": 5,
    "start_time": "2021-12-27T03:42:58.399Z"
   },
   {
    "duration": 8,
    "start_time": "2021-12-27T03:42:59.052Z"
   },
   {
    "duration": 11,
    "start_time": "2021-12-27T03:43:00.015Z"
   },
   {
    "duration": 5,
    "start_time": "2021-12-27T03:43:00.332Z"
   },
   {
    "duration": 5,
    "start_time": "2021-12-27T03:43:00.634Z"
   },
   {
    "duration": 8,
    "start_time": "2021-12-27T03:43:01.295Z"
   }
  ],
  "kernelspec": {
   "display_name": "Python 3",
   "language": "python",
   "name": "python3"
  },
  "language_info": {
   "codemirror_mode": {
    "name": "ipython",
    "version": 3
   },
   "file_extension": ".py",
   "mimetype": "text/x-python",
   "name": "python",
   "nbconvert_exporter": "python",
   "pygments_lexer": "ipython3",
   "version": "3.7.8"
  },
  "toc": {
   "base_numbering": 1,
   "nav_menu": {},
   "number_sections": true,
   "sideBar": true,
   "skip_h1_title": true,
   "title_cell": "Table of Contents",
   "title_sidebar": "Contents",
   "toc_cell": false,
   "toc_position": {},
   "toc_section_display": true,
   "toc_window_display": false
  }
 },
 "nbformat": 4,
 "nbformat_minor": 2
}
