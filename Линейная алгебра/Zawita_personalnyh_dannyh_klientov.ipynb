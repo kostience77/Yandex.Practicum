{
 "cells": [
  {
   "cell_type": "markdown",
   "metadata": {
    "toc": true
   },
   "source": [
    "<h1>Содержание<span class=\"tocSkip\"></span></h1>\n",
    "<div class=\"toc\"><ul class=\"toc-item\"><li><span><a href=\"#Загрузка-данных\" data-toc-modified-id=\"Загрузка-данных-1\"><span class=\"toc-item-num\">1&nbsp;&nbsp;</span>Загрузка данных</a></span><ul class=\"toc-item\"><li><span><a href=\"#Импорт-библиотек\" data-toc-modified-id=\"Импорт-библиотек-1.1\"><span class=\"toc-item-num\">1.1&nbsp;&nbsp;</span>Импорт библиотек</a></span></li><li><span><a href=\"#Загрузка-и-изучение-данных\" data-toc-modified-id=\"Загрузка-и-изучение-данных-1.2\"><span class=\"toc-item-num\">1.2&nbsp;&nbsp;</span>Загрузка и изучение данных</a></span></li><li><span><a href=\"#Вывод\" data-toc-modified-id=\"Вывод-1.3\"><span class=\"toc-item-num\">1.3&nbsp;&nbsp;</span>Вывод</a></span></li></ul></li><li><span><a href=\"#Умножение-матриц\" data-toc-modified-id=\"Умножение-матриц-2\"><span class=\"toc-item-num\">2&nbsp;&nbsp;</span>Умножение матриц</a></span></li><li><span><a href=\"#Алгоритм-преобразования\" data-toc-modified-id=\"Алгоритм-преобразования-3\"><span class=\"toc-item-num\">3&nbsp;&nbsp;</span>Алгоритм преобразования</a></span></li><li><span><a href=\"#Проверка-алгоритма\" data-toc-modified-id=\"Проверка-алгоритма-4\"><span class=\"toc-item-num\">4&nbsp;&nbsp;</span>Проверка алгоритма</a></span><ul class=\"toc-item\"><li><span><a href=\"#Вывод\" data-toc-modified-id=\"Вывод-4.1\"><span class=\"toc-item-num\">4.1&nbsp;&nbsp;</span>Вывод</a></span></li></ul></li><li><span><a href=\"#Чек-лист-проверки\" data-toc-modified-id=\"Чек-лист-проверки-5\"><span class=\"toc-item-num\">5&nbsp;&nbsp;</span>Чек-лист проверки</a></span></li><li><span><a href=\"#-Комментарий-ревьюера\" data-toc-modified-id=\"-Комментарий-ревьюера-6\"><span class=\"toc-item-num\">6&nbsp;&nbsp;</span> Комментарий ревьюера</a></span></li></ul></div>"
   ]
  },
  {
   "cell_type": "markdown",
   "metadata": {},
   "source": [
    "<div class=\"alert alert-info\">\n",
    "Привет! Меня зовут Никита Мишин и я буду твоим ревьюером по этому проекты.\n",
    "Для простоты предлагаю общение на 'ты'. Буду предполагать, что ты не против:) \n",
    "Если более предпочтительно обращение на 'Вы', пиши, не стесняйся.\n",
    "Также если будут возникать вопросы, аналогично, пиши:)\n",
    "\n",
    "Предлагаю работать в известном тебе итеративном формате.\n",
    "Итерация состоит в моей проверке твоего решения. \n",
    "После решения могут остаться какие-то недочеты, которые я попрошу тебя устранить, ты их исправляешь и я проверяю твои решения.\n",
    "    Оставленные мною комментарии могут быть разного вида:\n",
    "   \n",
    "    - зеленый: элегантные решения, которые тебе стоит запомнит и в дальнейшем взять на вооружение:) \n",
    "    \n",
    "    - желтый: сигнал о том, что есть некритичная вещь(не всегда ошибка), что нужно точно поправить в следующей работе, даже желательно в этой (полезно, в первую очередь, для тебя:) ).Также это рекомендации на будущее    \n",
    "\n",
    "    - красный: недочет, который нужно исправить в этой работе, для того, чтобы она была принята\n",
    "    \n",
    "    - синий: полезная информация, доп ресурсы, \"вопросы на подумать\"\n",
    "\n",
    "Также попрошу не удалять мои комментарии:) <a class=\"tocSkip\">\n",
    "</div>"
   ]
  },
  {
   "cell_type": "markdown",
   "metadata": {},
   "source": [
    "<div class=\"alert alert-info\"> \n",
    "<h5>Комментарий студента <a class=\"tocSkip\"></a></h5>\n",
    "    \n",
    "Никита, привет! Очень рада, что ты вновь проверяешь мой проект)\n",
    "Напомню,  меня зовут Костерина Марьяна.\n",
    "    \n",
    "Ты не мог бы мне подсказать, где ревьюеры смотрят кто написал проект. Уже много раз меня спрашивали, как ко мне обращаться, т.к. видят только мою фамилию. Спрашивала у куратора, хотела дополнить фамилию именем, но она мне не смогла помочь.\n",
    "Может быть ты подскажешь)\n",
    "\n",
    "Постаралась учесть все твои комментарии и замечания."
   ]
  },
  {
   "cell_type": "markdown",
   "metadata": {},
   "source": [
    "# Защита персональных данных клиентов"
   ]
  },
  {
   "cell_type": "markdown",
   "metadata": {},
   "source": [
    "Задание - защитить данные клиентов страховой компании «Хоть потоп». Разработь такой метод преобразования данных, чтобы по ним было сложно восстановить персональную информацию. Обосновать корректность его работы.\n",
    "\n",
    "Нужно защитить данные, чтобы при преобразовании качество моделей машинного обучения не ухудшилось. Подбирать наилучшую модель не требуется."
   ]
  },
  {
   "cell_type": "markdown",
   "metadata": {},
   "source": [
    "## Загрузка данных"
   ]
  },
  {
   "cell_type": "markdown",
   "metadata": {},
   "source": [
    "### Импорт библиотек"
   ]
  },
  {
   "cell_type": "code",
   "execution_count": 1,
   "metadata": {},
   "outputs": [],
   "source": [
    "import pandas as pd\n",
    "import numpy as np\n",
    "\n",
    "import matplotlib.pyplot as plt\n",
    "import seaborn as sns\n",
    "\n",
    "from numpy import linalg as LA\n",
    "\n",
    "from sklearn.model_selection import train_test_split \n",
    "from sklearn.preprocessing import StandardScaler \n",
    "\n",
    "from sklearn.linear_model import LinearRegression\n",
    "from sklearn.metrics import mean_squared_error, r2_score"
   ]
  },
  {
   "cell_type": "markdown",
   "metadata": {},
   "source": [
    "### Загрузка и изучение данных"
   ]
  },
  {
   "cell_type": "code",
   "execution_count": 2,
   "metadata": {},
   "outputs": [],
   "source": [
    "df = pd.read_csv('/datasets/insurance.csv')"
   ]
  },
  {
   "cell_type": "code",
   "execution_count": 3,
   "metadata": {},
   "outputs": [
    {
     "data": {
      "text/html": [
       "<div>\n",
       "<style scoped>\n",
       "    .dataframe tbody tr th:only-of-type {\n",
       "        vertical-align: middle;\n",
       "    }\n",
       "\n",
       "    .dataframe tbody tr th {\n",
       "        vertical-align: top;\n",
       "    }\n",
       "\n",
       "    .dataframe thead th {\n",
       "        text-align: right;\n",
       "    }\n",
       "</style>\n",
       "<table border=\"1\" class=\"dataframe\">\n",
       "  <thead>\n",
       "    <tr style=\"text-align: right;\">\n",
       "      <th></th>\n",
       "      <th>Пол</th>\n",
       "      <th>Возраст</th>\n",
       "      <th>Зарплата</th>\n",
       "      <th>Члены семьи</th>\n",
       "      <th>Страховые выплаты</th>\n",
       "    </tr>\n",
       "  </thead>\n",
       "  <tbody>\n",
       "    <tr>\n",
       "      <td>0</td>\n",
       "      <td>1</td>\n",
       "      <td>41.0</td>\n",
       "      <td>49600.0</td>\n",
       "      <td>1</td>\n",
       "      <td>0</td>\n",
       "    </tr>\n",
       "    <tr>\n",
       "      <td>1</td>\n",
       "      <td>0</td>\n",
       "      <td>46.0</td>\n",
       "      <td>38000.0</td>\n",
       "      <td>1</td>\n",
       "      <td>1</td>\n",
       "    </tr>\n",
       "    <tr>\n",
       "      <td>2</td>\n",
       "      <td>0</td>\n",
       "      <td>29.0</td>\n",
       "      <td>21000.0</td>\n",
       "      <td>0</td>\n",
       "      <td>0</td>\n",
       "    </tr>\n",
       "    <tr>\n",
       "      <td>3</td>\n",
       "      <td>0</td>\n",
       "      <td>21.0</td>\n",
       "      <td>41700.0</td>\n",
       "      <td>2</td>\n",
       "      <td>0</td>\n",
       "    </tr>\n",
       "    <tr>\n",
       "      <td>4</td>\n",
       "      <td>1</td>\n",
       "      <td>28.0</td>\n",
       "      <td>26100.0</td>\n",
       "      <td>0</td>\n",
       "      <td>0</td>\n",
       "    </tr>\n",
       "  </tbody>\n",
       "</table>\n",
       "</div>"
      ],
      "text/plain": [
       "   Пол  Возраст  Зарплата  Члены семьи  Страховые выплаты\n",
       "0    1     41.0   49600.0            1                  0\n",
       "1    0     46.0   38000.0            1                  1\n",
       "2    0     29.0   21000.0            0                  0\n",
       "3    0     21.0   41700.0            2                  0\n",
       "4    1     28.0   26100.0            0                  0"
      ]
     },
     "execution_count": 3,
     "metadata": {},
     "output_type": "execute_result"
    }
   ],
   "source": [
    "df.head()"
   ]
  },
  {
   "cell_type": "code",
   "execution_count": 4,
   "metadata": {
    "scrolled": true
   },
   "outputs": [
    {
     "name": "stdout",
     "output_type": "stream",
     "text": [
      "<class 'pandas.core.frame.DataFrame'>\n",
      "RangeIndex: 5000 entries, 0 to 4999\n",
      "Data columns (total 5 columns):\n",
      "Пол                  5000 non-null int64\n",
      "Возраст              5000 non-null float64\n",
      "Зарплата             5000 non-null float64\n",
      "Члены семьи          5000 non-null int64\n",
      "Страховые выплаты    5000 non-null int64\n",
      "dtypes: float64(2), int64(3)\n",
      "memory usage: 195.4 KB\n"
     ]
    }
   ],
   "source": [
    "df.info()"
   ]
  },
  {
   "cell_type": "code",
   "execution_count": 5,
   "metadata": {},
   "outputs": [
    {
     "data": {
      "text/plain": [
       "Index(['Пол', 'Возраст', 'Зарплата', 'Члены семьи', 'Страховые выплаты'], dtype='object')"
      ]
     },
     "execution_count": 5,
     "metadata": {},
     "output_type": "execute_result"
    }
   ],
   "source": [
    "df_column = df.columns\n",
    "df_column"
   ]
  },
  {
   "cell_type": "code",
   "execution_count": 6,
   "metadata": {},
   "outputs": [],
   "source": [
    "df = df.rename(columns={'Члены семьи': 'Члены_семьи', 'Страховые выплаты': 'Страховые_выплаты'})"
   ]
  },
  {
   "cell_type": "code",
   "execution_count": 7,
   "metadata": {},
   "outputs": [
    {
     "data": {
      "text/plain": [
       "153"
      ]
     },
     "execution_count": 7,
     "metadata": {},
     "output_type": "execute_result"
    }
   ],
   "source": [
    "df.duplicated().sum()"
   ]
  },
  {
   "cell_type": "markdown",
   "metadata": {},
   "source": [
    "\n",
    "<div class=\"alert alert-success\">\n",
    "<h1>Комментарий ревьюера <a class=\"tocSkip\"></a></h1>\n",
    "Молодец, что не забыла проверить на дубликаты!</div>"
   ]
  },
  {
   "cell_type": "markdown",
   "metadata": {},
   "source": [
    "Удаляем выявленные дубликаты"
   ]
  },
  {
   "cell_type": "code",
   "execution_count": 8,
   "metadata": {},
   "outputs": [],
   "source": [
    "df = df.drop_duplicates()"
   ]
  },
  {
   "cell_type": "code",
   "execution_count": 9,
   "metadata": {
    "scrolled": true
   },
   "outputs": [
    {
     "data": {
      "text/plain": [
       "0"
      ]
     },
     "execution_count": 9,
     "metadata": {},
     "output_type": "execute_result"
    }
   ],
   "source": [
    "df.duplicated().sum()"
   ]
  },
  {
   "cell_type": "markdown",
   "metadata": {},
   "source": [
    "Исследуем исходные данные на наличие в них случайных (псевдослучайных) строк"
   ]
  },
  {
   "cell_type": "code",
   "execution_count": 10,
   "metadata": {},
   "outputs": [
    {
     "data": {
      "text/html": [
       "<div>\n",
       "<style scoped>\n",
       "    .dataframe tbody tr th:only-of-type {\n",
       "        vertical-align: middle;\n",
       "    }\n",
       "\n",
       "    .dataframe tbody tr th {\n",
       "        vertical-align: top;\n",
       "    }\n",
       "\n",
       "    .dataframe thead th {\n",
       "        text-align: right;\n",
       "    }\n",
       "</style>\n",
       "<table border=\"1\" class=\"dataframe\">\n",
       "  <thead>\n",
       "    <tr style=\"text-align: right;\">\n",
       "      <th></th>\n",
       "      <th>Пол</th>\n",
       "      <th>Возраст</th>\n",
       "      <th>Зарплата</th>\n",
       "      <th>Члены_семьи</th>\n",
       "      <th>Страховые_выплаты</th>\n",
       "    </tr>\n",
       "  </thead>\n",
       "  <tbody>\n",
       "    <tr>\n",
       "      <td>3991</td>\n",
       "      <td>0</td>\n",
       "      <td>19.0</td>\n",
       "      <td>33800.0</td>\n",
       "      <td>0</td>\n",
       "      <td>0</td>\n",
       "    </tr>\n",
       "  </tbody>\n",
       "</table>\n",
       "</div>"
      ],
      "text/plain": [
       "      Пол  Возраст  Зарплата  Члены_семьи  Страховые_выплаты\n",
       "3991    0     19.0   33800.0            0                  0"
      ]
     },
     "execution_count": 10,
     "metadata": {},
     "output_type": "execute_result"
    }
   ],
   "source": [
    "df.sample(random_state=42)"
   ]
  },
  {
   "cell_type": "markdown",
   "metadata": {},
   "source": [
    "\n",
    "<div class=\"alert alert-success\">\n",
    "<h1>Комментарий ревьюера <a class=\"tocSkip\"></a></h1>\n",
    "Всегда стоит фиксировать random_state --- будет сохраняться воспроизводимость результатов</div>"
   ]
  },
  {
   "cell_type": "code",
   "execution_count": 11,
   "metadata": {},
   "outputs": [],
   "source": [
    "df=df.drop([3991], axis=0)"
   ]
  },
  {
   "cell_type": "code",
   "execution_count": 12,
   "metadata": {
    "scrolled": false
   },
   "outputs": [
    {
     "data": {
      "text/html": [
       "<div>\n",
       "<style scoped>\n",
       "    .dataframe tbody tr th:only-of-type {\n",
       "        vertical-align: middle;\n",
       "    }\n",
       "\n",
       "    .dataframe tbody tr th {\n",
       "        vertical-align: top;\n",
       "    }\n",
       "\n",
       "    .dataframe thead th {\n",
       "        text-align: right;\n",
       "    }\n",
       "</style>\n",
       "<table border=\"1\" class=\"dataframe\">\n",
       "  <thead>\n",
       "    <tr style=\"text-align: right;\">\n",
       "      <th></th>\n",
       "      <th>Пол</th>\n",
       "      <th>Возраст</th>\n",
       "      <th>Зарплата</th>\n",
       "      <th>Члены_семьи</th>\n",
       "      <th>Страховые_выплаты</th>\n",
       "    </tr>\n",
       "  </thead>\n",
       "  <tbody>\n",
       "    <tr>\n",
       "      <td>count</td>\n",
       "      <td>4846.000000</td>\n",
       "      <td>4846.000000</td>\n",
       "      <td>4846.000000</td>\n",
       "      <td>4846.000000</td>\n",
       "      <td>4846.000000</td>\n",
       "    </tr>\n",
       "    <tr>\n",
       "      <td>mean</td>\n",
       "      <td>0.498556</td>\n",
       "      <td>31.026414</td>\n",
       "      <td>39897.069748</td>\n",
       "      <td>1.203673</td>\n",
       "      <td>0.152291</td>\n",
       "    </tr>\n",
       "    <tr>\n",
       "      <td>std</td>\n",
       "      <td>0.500050</td>\n",
       "      <td>8.487113</td>\n",
       "      <td>9973.598568</td>\n",
       "      <td>1.098641</td>\n",
       "      <td>0.468978</td>\n",
       "    </tr>\n",
       "    <tr>\n",
       "      <td>min</td>\n",
       "      <td>0.000000</td>\n",
       "      <td>18.000000</td>\n",
       "      <td>5300.000000</td>\n",
       "      <td>0.000000</td>\n",
       "      <td>0.000000</td>\n",
       "    </tr>\n",
       "    <tr>\n",
       "      <td>25%</td>\n",
       "      <td>0.000000</td>\n",
       "      <td>24.000000</td>\n",
       "      <td>33200.000000</td>\n",
       "      <td>0.000000</td>\n",
       "      <td>0.000000</td>\n",
       "    </tr>\n",
       "    <tr>\n",
       "      <td>50%</td>\n",
       "      <td>0.000000</td>\n",
       "      <td>30.000000</td>\n",
       "      <td>40200.000000</td>\n",
       "      <td>1.000000</td>\n",
       "      <td>0.000000</td>\n",
       "    </tr>\n",
       "    <tr>\n",
       "      <td>75%</td>\n",
       "      <td>1.000000</td>\n",
       "      <td>37.000000</td>\n",
       "      <td>46600.000000</td>\n",
       "      <td>2.000000</td>\n",
       "      <td>0.000000</td>\n",
       "    </tr>\n",
       "    <tr>\n",
       "      <td>max</td>\n",
       "      <td>1.000000</td>\n",
       "      <td>65.000000</td>\n",
       "      <td>79000.000000</td>\n",
       "      <td>6.000000</td>\n",
       "      <td>5.000000</td>\n",
       "    </tr>\n",
       "  </tbody>\n",
       "</table>\n",
       "</div>"
      ],
      "text/plain": [
       "               Пол      Возраст      Зарплата  Члены_семьи  Страховые_выплаты\n",
       "count  4846.000000  4846.000000   4846.000000  4846.000000        4846.000000\n",
       "mean      0.498556    31.026414  39897.069748     1.203673           0.152291\n",
       "std       0.500050     8.487113   9973.598568     1.098641           0.468978\n",
       "min       0.000000    18.000000   5300.000000     0.000000           0.000000\n",
       "25%       0.000000    24.000000  33200.000000     0.000000           0.000000\n",
       "50%       0.000000    30.000000  40200.000000     1.000000           0.000000\n",
       "75%       1.000000    37.000000  46600.000000     2.000000           0.000000\n",
       "max       1.000000    65.000000  79000.000000     6.000000           5.000000"
      ]
     },
     "execution_count": 12,
     "metadata": {},
     "output_type": "execute_result"
    }
   ],
   "source": [
    "df.describe()"
   ]
  },
  {
   "cell_type": "markdown",
   "metadata": {},
   "source": [
    "Визуализируем зависимость признаков и влияние их на целевой признак."
   ]
  },
  {
   "cell_type": "code",
   "execution_count": 13,
   "metadata": {
    "scrolled": true
   },
   "outputs": [
    {
     "name": "stderr",
     "output_type": "stream",
     "text": [
      "/opt/conda/lib/python3.7/site-packages/numpy/core/_methods.py:234: RuntimeWarning: Degrees of freedom <= 0 for slice\n",
      "  keepdims=keepdims)\n",
      "/opt/conda/lib/python3.7/site-packages/numpy/core/_methods.py:226: RuntimeWarning: invalid value encountered in double_scalars\n",
      "  ret = ret.dtype.type(ret / rcount)\n",
      "/opt/conda/lib/python3.7/site-packages/statsmodels/nonparametric/kde.py:487: RuntimeWarning: invalid value encountered in true_divide\n",
      "  binned = fast_linbin(X, a, b, gridsize) / (delta * nobs)\n",
      "/opt/conda/lib/python3.7/site-packages/statsmodels/nonparametric/kdetools.py:34: RuntimeWarning: invalid value encountered in double_scalars\n",
      "  FAC1 = 2*(np.pi*bw/RANGE)**2\n"
     ]
    },
    {
     "data": {
      "text/plain": [
       "Text(0.5, 1, 'Зависимость признаков')"
      ]
     },
     "execution_count": 13,
     "metadata": {},
     "output_type": "execute_result"
    },
    {
     "data": {
      "image/png": "[encoded data removed]",
      "text/plain": [
       "<Figure size 1016.38x900 with 30 Axes>"
      ]
     },
     "metadata": {
      "needs_background": "light"
     },
     "output_type": "display_data"
    }
   ],
   "source": [
    "sns.pairplot(df, hue='Страховые_выплаты')\n",
    "plt.title('Зависимость признаков', size=14)"
   ]
  },
  {
   "cell_type": "markdown",
   "metadata": {},
   "source": [
    "Построим тепловую корреляционную зависимость признаков."
   ]
  },
  {
   "cell_type": "code",
   "execution_count": 14,
   "metadata": {
    "scrolled": true
   },
   "outputs": [
    {
     "data": {
      "image/png": "[encoded data removed]",
      "text/plain": [
       "<Figure size 432x288 with 2 Axes>"
      ]
     },
     "metadata": {
      "needs_background": "light"
     },
     "output_type": "display_data"
    }
   ],
   "source": [
    "cols = ['Пол', 'Возраст', 'Зарплата', 'Члены_семьи', 'Страховые_выплаты']\n",
    "plt.title('Корреляция между признаками', size=14)\n",
    "hm = sns.heatmap(df[cols].corr(),\n",
    "                 cbar=True,\n",
    "                 annot=True)"
   ]
  },
  {
   "cell_type": "markdown",
   "metadata": {},
   "source": [
    "Посмотрим на соотношение данных в целевом признаке."
   ]
  },
  {
   "cell_type": "code",
   "execution_count": 15,
   "metadata": {},
   "outputs": [
    {
     "data": {
      "text/plain": [
       "Text(0, 0.5, 'Количество страховых выплат')"
      ]
     },
     "execution_count": 15,
     "metadata": {},
     "output_type": "execute_result"
    },
    {
     "data": {
      "image/png": "[encoded data removed]",
      "text/plain": [
       "<Figure size 432x288 with 1 Axes>"
      ]
     },
     "metadata": {
      "needs_background": "light"
     },
     "output_type": "display_data"
    }
   ],
   "source": [
    "df['Страховые_выплаты'].plot(kind='hist', bins=50, title = 'Страховые выплаты')\n",
    "plt.xlabel(\"Значения\")\n",
    "plt.ylabel(\"Количество страховых выплат\")"
   ]
  },
  {
   "cell_type": "markdown",
   "metadata": {},
   "source": [
    "### Вывод"
   ]
  },
  {
   "cell_type": "markdown",
   "metadata": {},
   "source": [
    "Датафрейм df содержит 5 столбцов  и 5000 объектов:\n",
    "* пол, \n",
    "* возраст, \n",
    "* зарплата,\n",
    "* члены семьи,\n",
    "* страховые выплаты\n",
    "\n",
    "Пропущенных значений нет.\n",
    "Дубликаты выявлены и удалены.\n",
    "Названия столбцов - некорректны. Были сразу переименованы.\n",
    "Типы данных  2 колонки - float64 и 3 колонки -  int64.\n",
    "Корреляции между признаками и целевым признаком невыявлено, выявлена корреляция между возрастом и страховыми выплатами, коэффициент Пирсона равен 0,66. Для признаков характерно нормальное распределение.\n",
    "\n",
    "Столбцы: пол, возраст, зарплата, члены семьи - признаки.\n",
    "Столбец - Страховые выплаты - целевой признак.\n",
    "\n",
    "Средние значения признаков имеют различные значения, т.е. признаки имеют разный масштаб, значит для дальнейшей работы нам лучше нормировать матрицу объекты-признаки.\n",
    "\n",
    "Целевой признак несбалансирован. Однако в этой работе балансировку целевого признака проводить не будем, т.к. нам нужна не «жёсткая» классификация, а ранжирование, поэтому баланс классов не столь важен."
   ]
  },
  {
   "cell_type": "markdown",
   "metadata": {},
   "source": [
    "\n",
    "<div class=\"alert alert-success\">\n",
    "<h1>Комментарий ревьюера <a class=\"tocSkip\"></a></h1>\n",
    "Круто, что провела исследовательский анализ данных!</div>"
   ]
  },
  {
   "cell_type": "markdown",
   "metadata": {},
   "source": [
    "## Умножение матриц"
   ]
  },
  {
   "cell_type": "markdown",
   "metadata": {},
   "source": [
    "В этом задании вы можете записывать формулы в *Jupyter Notebook.*\n",
    "\n",
    "Чтобы записать формулу внутри текста, окружите её символами доллара \\\\$; если снаружи —  двойными символами \\\\$\\\\$. Эти формулы записываются на языке вёрстки *LaTeX.* \n",
    "\n",
    "Для примера мы записали формулы линейной регрессии. Можете их скопировать и отредактировать, чтобы решить задачу.\n",
    "\n",
    "Работать в *LaTeX* необязательно."
   ]
  },
  {
   "cell_type": "markdown",
   "metadata": {},
   "source": [
    "Обозначения:\n",
    "\n",
    "- $X$ — матрица признаков (нулевой столбец состоит из единиц)\n",
    "\n",
    "- $y$ — вектор целевого признака\n",
    "\n",
    "- $P$ — матрица, на которую умножаются признаки\n",
    "\n",
    "- $w$ — вектор весов линейной регрессии (нулевой элемент равен сдвигу)"
   ]
  },
  {
   "cell_type": "markdown",
   "metadata": {},
   "source": [
    "Предсказания:\n",
    "\n",
    "$$\n",
    "a = Xw\n",
    "$$\n",
    "\n",
    "Задача обучения:\n",
    "\n",
    "$$\n",
    "w = \\arg\\min_w MSE(Xw, y)\n",
    "$$\n",
    "\n",
    "Формула обучения:\n",
    "\n",
    "$$\n",
    "w = (X^T X)^{-1} X^T y\n",
    "$$"
   ]
  },
  {
   "cell_type": "markdown",
   "metadata": {},
   "source": [
    "Докажем, что умножение исходной матрицы на обратимую матрицу не приведет к изменению предсказания."
   ]
  },
  {
   "cell_type": "markdown",
   "metadata": {},
   "source": [
    "Домножим признаки на обратимую матрицу $Р$.\n",
    "$$\n",
    "X_р = X * P\n",
    "$$\n",
    "Подставим новую матрицу в формулу расчета весов, тогда формула будет равна:\n",
    "$$\n",
    "w_р =  (X_р^T X_р)^{-1} X_р^T y = ((P X)^T (P X))^{-1} (P X)^T y\n",
    "$$\n",
    "Раскроем скобки воспользовавшись свойствами опериций транспонирования  матриц $(P X)^T$\n",
    "$$\n",
    "w_р =  (P^T X^T (P X))^{-1} P^T X^T y\n",
    "$$\n",
    "Сгруппируем по новому произведение в скобках, объединим $(X^T X)$\n",
    "$$\n",
    "w_р =  (P^T (X^T X) P)^{-1} P^T X^T y\n",
    "$$\n",
    "Раскроем скобки\n",
    "$$\n",
    "w_р =  (P)^{-1} (X^T X)^{-1} (P^T )^{-1} P^T X^T y\n",
    "$$\n",
    "Сгруппируем матрицы $(P^T)^{-1}$ и  $P^T$\n",
    "$$\n",
    "w_р =   P^{-1} (X^T X)^{-1} ((P^T)^{-1} P^T) X^T y\n",
    "$$\n",
    "По условию матрица $P$ обратная, поэтому произведение  $(P^T)^{-1} * P^T = E$:\n",
    "$$\n",
    "w_р =   P^{-1} (X^T X)^{-1} E X^T y\n",
    "$$\n",
    "Воспользуемся свойствами единичной матрицы: при умножении на единичную матрицу (справа или слева) исходная матрица не изменяется \n",
    "$$\n",
    "w_р =   P^{-1} (X^T X)^{-1} X^T y\n",
    "$$\n",
    "Получаем выражение $(X^T X)^{-1} X^T$, которое равно $w$\n",
    "$$\n",
    "w_р =   P^{-1} w\n",
    "$$\n",
    "Подставим новое значение весов и значение $X_р$ в формулу предсказаний:\n",
    "$$\n",
    "a_р = X_р w_р\n",
    "$$\n",
    "Вместо $X_р$ запишем полное выражение $Х * P$, вместо $w_р$ подставим $P^{-1} w$\n",
    "$$\n",
    "a_р = X P P^{-1} w\n",
    "$$\n",
    "Из условия матрица $P$ обратимая, поэтому произведение $P P^{-1} = E$\n",
    "$$\n",
    "a_р = X E  w\n",
    "$$\n",
    "Опять воспользуемся свойствами единичной матрицы\n",
    "$$\n",
    "a_р = X w\n",
    "$$\n",
    "Получаем, что\n",
    "$$\n",
    "a_р = a\n",
    "$$"
   ]
  },
  {
   "cell_type": "markdown",
   "metadata": {},
   "source": [
    "\n",
    "<div class=\"alert alert-success\">\n",
    "<h1>Комментарий ревьюера <a class=\"tocSkip\"></a></h1>\n",
    "Круто, четкое и аккуратное доказательство, трудно придраться)</div>"
   ]
  },
  {
   "cell_type": "markdown",
   "metadata": {},
   "source": [
    "<div class=\"alert alert-info\">\n",
    "<h5>Комментарий студента <a class=\"tocSkip\"></a></h5>\n",
    "    \n",
    "Если честно, то задание сформулировано на мой взгляд некорректно. Если бы написали докажите, что  $a_р = a$ или выведите доказательство, было бы понятнее.\n",
    "Хорошо наставник в чате объяснил что к чему,  а то ни за что бы не догадалась, какой результат хотят получить)"
   ]
  },
  {
   "cell_type": "markdown",
   "metadata": {},
   "source": [
    "\n",
    "<div class=\"alert alert-success\">\n",
    "<h1>Комментарий ревьюера v2 <a class=\"tocSkip\"></a></h1>\n",
    "И да и нет. Это уже по факту часть доказательство. Т.е тут еще ведь надо придумать, как доказать)</div>"
   ]
  },
  {
   "cell_type": "markdown",
   "metadata": {},
   "source": [
    "Ответьте на вопрос и обоснуйте решение.\n",
    "\n",
    "Признаки умножают на обратимую матрицу. Изменится ли качество линейной регрессии? (Её можно обучить заново.)\n",
    "\n",
    "* a. Изменится. Приведите примеры матриц.\n",
    "* b. Не изменится. Укажите, как связаны параметры линейной регрессии в исходной задаче и в преобразованной."
   ]
  },
  {
   "cell_type": "markdown",
   "metadata": {},
   "source": [
    "**Ответ:**\n",
    "* a. Изменится, если умножать будем на необратную матрицу.\n",
    "* b. Качество линейной регрессии неизменится. Изменятся ее весовые коэффициенты, поэтому её придется переобучить заново. Предсказания будут такими же."
   ]
  },
  {
   "cell_type": "markdown",
   "metadata": {},
   "source": [
    "**Обоснование:** \n",
    "\n",
    "Проверим полученные теотерические выкладки на практике.\n",
    "Но сначала подготовим данные: выделим целевой признак и признаки."
   ]
  },
  {
   "cell_type": "code",
   "execution_count": 16,
   "metadata": {},
   "outputs": [
    {
     "data": {
      "text/plain": [
       "(4846, 4)"
      ]
     },
     "execution_count": 16,
     "metadata": {},
     "output_type": "execute_result"
    }
   ],
   "source": [
    "features = df.drop('Страховые_выплаты', axis=1)\n",
    "target = df['Страховые_выплаты']\n",
    "features.shape"
   ]
  },
  {
   "cell_type": "markdown",
   "metadata": {},
   "source": [
    "Создадим матрицу и обратную к ней"
   ]
  },
  {
   "cell_type": "code",
   "execution_count": 17,
   "metadata": {},
   "outputs": [],
   "source": [
    "P = np.random.normal(10, size = (4,4))"
   ]
  },
  {
   "cell_type": "code",
   "execution_count": 18,
   "metadata": {},
   "outputs": [],
   "source": [
    "P_inv = LA.inv(P)"
   ]
  },
  {
   "cell_type": "markdown",
   "metadata": {},
   "source": [
    "\n",
    "<div class=\"alert alert-danger\">\n",
    "<h1>Комментарий ревьюера <a class=\"tocSkip\"></a></h1>\n",
    "А вот тут у тебя потенциально необработанное исключение. метод inv выдаст исключение если матриба необратима. Стоит обернуть в try except, либо на детерминант прежде проверить</div>"
   ]
  },
  {
   "cell_type": "markdown",
   "metadata": {},
   "source": [
    "<div class=\"alert alert-info\">\n",
    "<h5>Комментарий студента <a class=\"tocSkip\"></a></h5>\n",
    "Далее я считала детерминант / определитель, поэтому здесь использую другую конструкцию, предложенную тобой.\n",
    "Почему проверка на единичную матрицу не совсем правильное решение? \n",
    "\n",
    "Прочитала, что лучше всего указывать тип ошибки except. Указала BaseException. Какой здесь лучше всего указать тип?\n",
    "    \n",
    "Ниже написала код проверки."
   ]
  },
  {
   "cell_type": "markdown",
   "metadata": {},
   "source": [
    "\n",
    "<div class=\"alert alert-info\">\n",
    "<h1>Комментарий ревьюера v2 <a class=\"tocSkip\"></a></h1>\n",
    "Лучше ловить то, что конкретно выбрасывается. По документации inv() выбрасывает LinAlgError\n",
    "If a is not square or inversion fails.\n",
    "\n",
    "Почему проверка не совсем верное решение ---- у тебя раньше исключение выбросится. т.е тебе чтобы умножить a на $a^{-1}$ надо сперва inv(a) сделать. И тут у тебя может выбросится исключение\n",
    "</div>"
   ]
  },
  {
   "cell_type": "code",
   "execution_count": 19,
   "metadata": {},
   "outputs": [],
   "source": [
    "#from numpy import array\n",
    "#P = array([[1, 2, 3, 4], [4, 5, 6, 0], [7, 8, 9, 1],  [7, 8, 9, 1]])"
   ]
  },
  {
   "cell_type": "code",
   "execution_count": 20,
   "metadata": {},
   "outputs": [],
   "source": [
    "try:\n",
    "    P_inv = LA.inv(P)   \n",
    "except BaseException:\n",
    "    print('Матрица необратима')"
   ]
  },
  {
   "cell_type": "markdown",
   "metadata": {},
   "source": [
    "Проверим получилась ли обратная матрица. Умножим одну матрицу на другу, в результате должна получится единичная матрица."
   ]
  },
  {
   "cell_type": "code",
   "execution_count": 21,
   "metadata": {},
   "outputs": [
    {
     "data": {
      "text/plain": [
       "array([[ 1.00000000e+00, -1.44193822e-16,  7.94265699e-16,\n",
       "         1.39039389e-16],\n",
       "       [ 1.58267042e-16,  1.00000000e+00,  6.44020172e-16,\n",
       "        -8.17204881e-16],\n",
       "       [-8.94720112e-17,  1.14175812e-16,  1.00000000e+00,\n",
       "        -3.80745332e-16],\n",
       "       [-1.48551840e-16,  7.15818052e-16, -8.79568762e-16,\n",
       "         1.00000000e+00]])"
      ]
     },
     "execution_count": 21,
     "metadata": {},
     "output_type": "execute_result"
    }
   ],
   "source": [
    "np.dot(P, P_inv)"
   ]
  },
  {
   "cell_type": "markdown",
   "metadata": {},
   "source": [
    "Отлично. Получился тот результат, который мы ожидали."
   ]
  },
  {
   "cell_type": "markdown",
   "metadata": {},
   "source": [
    "Повторим теже действия, которые мы сделали ранее в теории для имеющихся данных.\n",
    "\n",
    "Найдем весовые коэффициенты и вектор предсказаний."
   ]
  },
  {
   "cell_type": "code",
   "execution_count": 22,
   "metadata": {},
   "outputs": [],
   "source": [
    "X = features\n",
    "y = target\n",
    "w = ((np.linalg.inv(X.T.dot(X))).dot(X.T)).dot(y)\n",
    "a = X * w"
   ]
  },
  {
   "cell_type": "markdown",
   "metadata": {},
   "source": [
    "Исходную матрицу помножим на искусственно сгенерированную обратную матрицу, определим ветрор весовых коэффициентов и вычислим предсказания."
   ]
  },
  {
   "cell_type": "code",
   "execution_count": 23,
   "metadata": {},
   "outputs": [],
   "source": [
    "X_p = X @ P_inv"
   ]
  },
  {
   "cell_type": "code",
   "execution_count": 24,
   "metadata": {},
   "outputs": [],
   "source": [
    "w_p = ((np.linalg.inv(X_p.T.dot(X_p))).dot(X_p.T)).dot(y)"
   ]
  },
  {
   "cell_type": "code",
   "execution_count": 25,
   "metadata": {},
   "outputs": [],
   "source": [
    "a_p = X_p * w_p"
   ]
  },
  {
   "cell_type": "markdown",
   "metadata": {},
   "source": [
    "Найдем разность между вычисленными истинными предсказаниями и предсказаниями, полученными умножением исходной матрицы на обратную сгенерированную матрицу."
   ]
  },
  {
   "cell_type": "code",
   "execution_count": 26,
   "metadata": {},
   "outputs": [
    {
     "name": "stdout",
     "output_type": "stream",
     "text": [
      "0              0.0\n",
      "1              0.0\n",
      "2              0.0\n",
      "3              0.0\n",
      "Возраст        0.0\n",
      "Зарплата       0.0\n",
      "Пол            0.0\n",
      "Члены_семьи    0.0\n",
      "dtype: float64\n"
     ]
    }
   ],
   "source": [
    "delta = a - a_p\n",
    "print(delta.sum())"
   ]
  },
  {
   "cell_type": "markdown",
   "metadata": {},
   "source": [
    "Умножение матрицы-признаков на обратную матрицу не изменяет результата предсказания. Теперь перейдем к решению линейной регрессии."
   ]
  },
  {
   "cell_type": "markdown",
   "metadata": {},
   "source": [
    "\n",
    "<div class=\"alert alert-success\">\n",
    "<h1>Комментарий ревьюера <a class=\"tocSkip\"></a></h1>\n",
    "Успех!</div>"
   ]
  },
  {
   "cell_type": "markdown",
   "metadata": {},
   "source": [
    "## Алгоритм преобразования"
   ]
  },
  {
   "cell_type": "markdown",
   "metadata": {},
   "source": [
    "**Алгоритм**\n",
    "\n",
    "1. Создать обратную матрицу. Проверить ее на обратимость, посчитав определитель.\n",
    "\n",
    "При создании обратной матрицы нужно учитывать размерность исходной матрицы. Так если исходная матрица имеет размерность $(nxk)$, где $k$ - количество признаков для регрессии, то создаваемая обратная матрица должна быть размерностью  $(k*k)$.\n",
    "\n",
    "2. Матрицу признаков умножаем на обратную матрицу.\n",
    "3. Подставляем данные в модель линейной регрессии, обучаем ее.\n",
    "4. Получаем предсказания. Проверяем работу модели на тестировочной выборке.\n",
    "5. Проверяем работу модели на полном комплекте данных и сравниваем работу модели с исходными данными."
   ]
  },
  {
   "cell_type": "markdown",
   "metadata": {},
   "source": [
    "**Обоснование**\n",
    "\n",
    "Алгоритм преобразования защитить персональную информацию клиентов и при этом не повлияет на работу модели (ранее уже отмечалось, что качество модели не изменится, если матрицу признаков умножать на обратимую матрицу)."
   ]
  },
  {
   "cell_type": "markdown",
   "metadata": {},
   "source": [
    "## Проверка алгоритма"
   ]
  },
  {
   "cell_type": "markdown",
   "metadata": {},
   "source": [
    "В начале разобъем данные на две выборки: обучающую и тестовую, потом проведем нормализацию признаков и затем перейдем к выполнению алгоритма."
   ]
  },
  {
   "cell_type": "code",
   "execution_count": 27,
   "metadata": {},
   "outputs": [],
   "source": [
    "X_t, X_test, y_t, y_test = train_test_split(features, target, \n",
    "                                                    train_size = 0.7, \n",
    "                                                    random_state = 42)"
   ]
  },
  {
   "cell_type": "code",
   "execution_count": 28,
   "metadata": {},
   "outputs": [],
   "source": [
    "scaler = StandardScaler()\n",
    "\n",
    "scaler.fit(X_t)\n",
    "X_t = scaler.transform(X_t)#преобразуем обучающую выборку функцией transform()\n",
    "X_test = scaler.transform(X_test)#"
   ]
  },
  {
   "cell_type": "markdown",
   "metadata": {},
   "source": [
    "Будем работать с уже созданной ранее обратной матрицей $P_inv$. Докажем, что она является обратной матрицей $P$.\n",
    "Обратная матрица $P_inv$ существует только для квадратных невырожденных матриц $P$ (определитель, которых не равен нулю).\n",
    "Посчитаем определитель матрицы $P$."
   ]
  },
  {
   "cell_type": "code",
   "execution_count": 29,
   "metadata": {},
   "outputs": [
    {
     "name": "stdout",
     "output_type": "stream",
     "text": [
      "-76.11865938183618\n"
     ]
    }
   ],
   "source": [
    "print(np.linalg.det(P))"
   ]
  },
  {
   "cell_type": "markdown",
   "metadata": {},
   "source": [
    "\n",
    "<div class=\"alert alert-success\">\n",
    "<h1>Комментарий ревьюера <a class=\"tocSkip\"></a></h1>\n",
    " А тут все гут)</div>"
   ]
  },
  {
   "cell_type": "markdown",
   "metadata": {},
   "source": [
    "Определитель матрицы $P$ не равен нулю, следователь она имеет обратную матрицу $P_inv$. Ранее мы доказали это путем умножения матрицы $P$ на матрицу $P_inv$ получив в результате единичную матрицу $E$."
   ]
  },
  {
   "cell_type": "markdown",
   "metadata": {},
   "source": [
    "Рассчитаем среднюю квадратичную ошибку и коэффициент детерминации Линейной регрессии из библиотеки sklearn для следующих данных:\n",
    "  * обучающие данные умноженные на обратную матрицу\n",
    "  * обучающие данные\n",
    "  * тестовые данные\n",
    "  * полные данные умноженные на обратную матрицу\n",
    "  * полные данные."
   ]
  },
  {
   "cell_type": "code",
   "execution_count": 30,
   "metadata": {},
   "outputs": [],
   "source": [
    "def model_styde (feat, targ):\n",
    "    model = LinearRegression(normalize = True)\n",
    "    predictions = model.fit(feat,targ).predict(feat)\n",
    "    mse = mean_squared_error(targ, predictions)\n",
    "    return mse, predictions\n",
    "\n",
    "\n",
    "mse_matr_train, predictions_matr_train = model_styde (X_t @ P_inv, y_t)\n",
    "#print('MSE Score:', mse_matr_train)\n",
    "#print('R2_Score для преобразованных  признаков: ',r2_score(y_t, predictions_matr_train))"
   ]
  },
  {
   "cell_type": "code",
   "execution_count": 31,
   "metadata": {},
   "outputs": [],
   "source": [
    "mse_test, predictions_test = model_styde (X_test, y_test)\n",
    "#print('MSE Score:', mse_test)\n",
    "#print('R2_Score для преобразованных  признаков: ',r2_score(y_test, predictions_test))"
   ]
  },
  {
   "cell_type": "code",
   "execution_count": 32,
   "metadata": {},
   "outputs": [],
   "source": [
    "mse_train, predictions_train = model_styde (X_t, y_t)\n",
    "#print('MSE Score:', mse_train)\n",
    "#print('R2_Score для преобразованных  признаков: ',r2_score(y_t, predictions_train))"
   ]
  },
  {
   "cell_type": "code",
   "execution_count": 33,
   "metadata": {},
   "outputs": [],
   "source": [
    "mse_matrix, predictions_matrix = model_styde (X @ P_inv, y)\n",
    "#print('MSE Score:', mse_matrix)\n",
    "#print('R2_Score для преобразованных  признаков: ',r2_score(y, predictions_matrix))\n",
    "mse, predictions = model_styde (X, y)\n",
    "#print('MSE Score:', mse)\n",
    "#print('R2_Score для преобразованных  признаков: ',r2_score(y, predictions))"
   ]
  },
  {
   "cell_type": "code",
   "execution_count": 34,
   "metadata": {
    "scrolled": false
   },
   "outputs": [
    {
     "data": {
      "text/html": [
       "<div>\n",
       "<style scoped>\n",
       "    .dataframe tbody tr th:only-of-type {\n",
       "        vertical-align: middle;\n",
       "    }\n",
       "\n",
       "    .dataframe tbody tr th {\n",
       "        vertical-align: top;\n",
       "    }\n",
       "\n",
       "    .dataframe thead th {\n",
       "        text-align: right;\n",
       "    }\n",
       "</style>\n",
       "<table border=\"1\" class=\"dataframe\">\n",
       "  <thead>\n",
       "    <tr style=\"text-align: right;\">\n",
       "      <th></th>\n",
       "      <th>data</th>\n",
       "      <th>MSE</th>\n",
       "      <th>R2</th>\n",
       "    </tr>\n",
       "  </thead>\n",
       "  <tbody>\n",
       "    <tr>\n",
       "      <td>0</td>\n",
       "      <td>Train * matrix</td>\n",
       "      <td>0.118345</td>\n",
       "      <td>0.423754</td>\n",
       "    </tr>\n",
       "    <tr>\n",
       "      <td>1</td>\n",
       "      <td>Train</td>\n",
       "      <td>0.118345</td>\n",
       "      <td>0.423754</td>\n",
       "    </tr>\n",
       "    <tr>\n",
       "      <td>2</td>\n",
       "      <td>Test</td>\n",
       "      <td>0.139820</td>\n",
       "      <td>0.448957</td>\n",
       "    </tr>\n",
       "    <tr>\n",
       "      <td>3</td>\n",
       "      <td>All_data * matrix</td>\n",
       "      <td>0.125284</td>\n",
       "      <td>0.430257</td>\n",
       "    </tr>\n",
       "    <tr>\n",
       "      <td>4</td>\n",
       "      <td>All_data</td>\n",
       "      <td>0.125284</td>\n",
       "      <td>0.430257</td>\n",
       "    </tr>\n",
       "  </tbody>\n",
       "</table>\n",
       "</div>"
      ],
      "text/plain": [
       "                data       MSE        R2\n",
       "0     Train * matrix  0.118345  0.423754\n",
       "1              Train  0.118345  0.423754\n",
       "2               Test  0.139820  0.448957\n",
       "3  All_data * matrix  0.125284  0.430257\n",
       "4           All_data  0.125284  0.430257"
      ]
     },
     "execution_count": 34,
     "metadata": {},
     "output_type": "execute_result"
    }
   ],
   "source": [
    "data =  pd.DataFrame({'data':['Train * matrix', 'Train', 'Test', 'All_data * matrix', 'All_data'], \n",
    "                     'MSE' : [mse_matr_train, mse_train, mse_test, mse_matrix, mse], \n",
    "                     'R2' : [r2_score(y_t, predictions_matr_train), r2_score(y_t, predictions_train), r2_score(y_test, predictions_test),\n",
    "                            r2_score(y, predictions_matrix), r2_score(y, predictions)]})\n",
    "data"
   ]
  },
  {
   "cell_type": "markdown",
   "metadata": {},
   "source": [
    "### Вывод\n",
    "\n",
    "В работе показано:\n",
    "* что защиту персональных данных можно достигнуть умножением матрицы признаков на обратную матрицу. Тем самым данные будут защищины, т.к. их первоначальные значения будут искажены, но смысл останется таким же, что позволит сделать точные предсказания, которые будут соответствовать первоначальным значениям;\n",
    "* доказано, что умножение исходной матрицы признаков на обратную матрицу не изменяет значений предсказаний;\n",
    "* предложен алгоритм действия по защите персональных данных;\n",
    "* рассчитаны метрические параметры модели линейной регресии. Значение MSE не превышают 0,13, что является хорошим показателем работы модели, однако метрика R2, находящаяся в пределе 0,42 - 0,45, остается недостаточной для определения работы модели, как хорошая."
   ]
  },
  {
   "cell_type": "markdown",
   "metadata": {},
   "source": [
    "\n",
    "<div class=\"alert alert-info\">\n",
    "<h1>Комментарий ревьюера <a class=\"tocSkip\"></a></h1>\n",
    "Вопрос на подумать: что делать если у нас будет чисто строковый признак к категориями: \"a\",\"b\",\"c\",\"d\"</div>"
   ]
  },
  {
   "cell_type": "markdown",
   "metadata": {},
   "source": [
    "<div class=\"alert alert-info\">\n",
    "<h5>Комментарий студента <a class=\"tocSkip\"></a></h5>    \n",
    "Самое простое что приходит на ум, это провести кодирование (закодировать цифрами выраженные в тексте категории методом OneHotEncoder, таким образом мы избежим ранжирования и создания более приоритетного класса), т.е. перевести категориями: \"a\",\"b\",\"c\",\"d\" в числа 1 и 0, дальше работать с матрицей как обычно."
   ]
  },
  {
   "cell_type": "markdown",
   "metadata": {},
   "source": [
    "\n",
    "<div class=\"alert alert-info\">\n",
    "<h1>Комментарий ревьюера v2 <a class=\"tocSkip\"></a></h1>\n",
    "Верно!</div>"
   ]
  },
  {
   "cell_type": "markdown",
   "metadata": {},
   "source": [
    "## Чек-лист проверки"
   ]
  },
  {
   "cell_type": "markdown",
   "metadata": {},
   "source": [
    "<div class=\"alert alert-success\">\n",
    "<h2> Комментарий ревьюера</h2>\n",
    "\n",
    "-Спасибо за качественно сделанный проект, было приятно проверять. \n",
    "\n",
    "- Видно, что приложено много усилий\n",
    "\n",
    "- Код написан хорошо\n",
    "\n",
    "- Соблюдена структура проекта \n",
    "    \n",
    "- Нужно чуть чуть доработать проект:\n",
    "    \n",
    "    - исключение\n",
    "\n",
    "</div>"
   ]
  },
  {
   "cell_type": "markdown",
   "metadata": {},
   "source": [
    "<div class=\"alert alert-info\">\n",
    "<h5>Комментарий студента <a class=\"tocSkip\"></a></h5>   \n",
    "\n",
    "Большое спасибо за ревью моего проекта. Надеюсь, что исправила все ошибки и учла все заменчания.\n",
    "\n",
    "Еще один маленький вопрос/совет. В тренажере была использована конструкция class.\n",
    "Много про нее прочитала, но до конца так и не поняла для чего она нужна и зачем ее используют.\n",
    "Если можно в двух словах для \"детей\" объясни, пожалуйста) Или где можно доступно почитать про нее. Спасибо)"
   ]
  },
  {
   "cell_type": "markdown",
   "metadata": {},
   "source": [
    "\n",
    "<div class=\"alert alert-info\">\n",
    "<h1>Комментарий ревьюера v2 <a class=\"tocSkip\"></a></h1>\n",
    "Есть разные парадигмы программирования. Классы относятся к объектно ориентированному подходу.\n",
    "\n",
    "Т.е у нас есть всякие абстракции, которые представляются в виде классов. Соотвественно, у них есть какие-то методы и свойства.\n",
    "\n",
    "Например, у тебя датафреймы, которые ты используешь --- это экземпляры класса DataFrame, который имеет заданный набор методов и свойств\n",
    "\n",
    "<a href='https://metanit.com/python/tutorial/7.1.php'>https://metanit.com/python/tutorial/7.1.php> чтиво</a>\n",
    "\n",
    "</div>"
   ]
  },
  {
   "cell_type": "markdown",
   "metadata": {},
   "source": [
    "Поставьте 'x' в выполненных пунктах. Далее нажмите Shift+Enter."
   ]
  },
  {
   "cell_type": "markdown",
   "metadata": {},
   "source": [
    "- [x]  Jupyter Notebook открыт\n",
    "- [x]  Весь код выполняется без ошибок\n",
    "- [x]  Ячейки с кодом расположены в порядке исполнения\n",
    "- [x]  Выполнен шаг 1: данные загружены\n",
    "- [x]  Выполнен шаг 2: получен ответ на вопрос об умножении матриц\n",
    "    - [x]  Указан правильный вариант ответа\n",
    "    - [x]  Вариант обоснован\n",
    "- [x]  Выполнен шаг 3: предложен алгоритм преобразования\n",
    "    - [x]  Алгоритм описан\n",
    "    - [x]  Алгоритм обоснован\n",
    "- [x]  Выполнен шаг 4: алгоритм проверен\n",
    "    - [x]  Алгоритм реализован\n",
    "    - [x]  Проведено сравнение качества моделей до и после преобразования"
   ]
  }
 ],
 "metadata": {
  "ExecuteTimeLog": [
   {
    "duration": 796,
    "start_time": "2021-08-11T03:34:36.359Z"
   },
   {
    "duration": 426,
    "start_time": "2021-08-11T03:34:38.325Z"
   },
   {
    "duration": 614,
    "start_time": "2021-08-11T03:35:24.031Z"
   },
   {
    "duration": 512,
    "start_time": "2021-08-11T03:35:29.995Z"
   },
   {
    "duration": 65,
    "start_time": "2021-08-11T03:35:39.808Z"
   },
   {
    "duration": 21,
    "start_time": "2021-08-11T03:35:50.730Z"
   },
   {
    "duration": 9,
    "start_time": "2021-08-11T03:36:08.075Z"
   },
   {
    "duration": 8,
    "start_time": "2021-08-11T03:36:39.566Z"
   },
   {
    "duration": 21,
    "start_time": "2021-08-11T05:20:12.005Z"
   },
   {
    "duration": 7,
    "start_time": "2021-08-11T05:20:26.489Z"
   },
   {
    "duration": 8,
    "start_time": "2021-08-11T05:20:28.648Z"
   },
   {
    "duration": 380,
    "start_time": "2021-08-11T05:40:01.077Z"
   },
   {
    "duration": 373,
    "start_time": "2021-08-11T05:40:06.755Z"
   },
   {
    "duration": 13,
    "start_time": "2021-08-11T05:40:14.559Z"
   },
   {
    "duration": 33,
    "start_time": "2021-08-11T05:40:38.317Z"
   },
   {
    "duration": 8588,
    "start_time": "2021-08-11T07:04:53.784Z"
   },
   {
    "duration": 16308,
    "start_time": "2021-08-11T07:05:10.761Z"
   },
   {
    "duration": 20,
    "start_time": "2021-08-11T07:11:57.926Z"
   },
   {
    "duration": 5,
    "start_time": "2021-08-11T07:12:04.323Z"
   },
   {
    "duration": 362,
    "start_time": "2021-08-11T07:12:26.636Z"
   },
   {
    "duration": 362,
    "start_time": "2021-08-11T07:12:31.670Z"
   },
   {
    "duration": 373,
    "start_time": "2021-08-11T07:12:50.670Z"
   },
   {
    "duration": 368,
    "start_time": "2021-08-11T07:13:00.838Z"
   },
   {
    "duration": 333,
    "start_time": "2021-08-11T07:13:15.597Z"
   },
   {
    "duration": 338,
    "start_time": "2021-08-11T07:13:36.980Z"
   },
   {
    "duration": 351,
    "start_time": "2021-08-11T07:14:00.725Z"
   },
   {
    "duration": 364,
    "start_time": "2021-08-11T07:14:42.864Z"
   },
   {
    "duration": 359,
    "start_time": "2021-08-11T07:14:53.408Z"
   },
   {
    "duration": 19,
    "start_time": "2021-08-11T07:15:00.191Z"
   },
   {
    "duration": 12,
    "start_time": "2021-08-11T07:15:00.430Z"
   },
   {
    "duration": 9,
    "start_time": "2021-08-11T07:15:00.690Z"
   },
   {
    "duration": 10,
    "start_time": "2021-08-11T07:15:00.949Z"
   },
   {
    "duration": 8,
    "start_time": "2021-08-11T07:15:01.200Z"
   },
   {
    "duration": 9,
    "start_time": "2021-08-11T07:15:01.481Z"
   },
   {
    "duration": 13,
    "start_time": "2021-08-11T07:15:02.392Z"
   },
   {
    "duration": 6,
    "start_time": "2021-08-11T07:15:03.172Z"
   },
   {
    "duration": 13,
    "start_time": "2021-08-11T07:15:09.227Z"
   },
   {
    "duration": 12,
    "start_time": "2021-08-11T07:15:25.867Z"
   },
   {
    "duration": 11,
    "start_time": "2021-08-11T07:15:36.664Z"
   },
   {
    "duration": 13,
    "start_time": "2021-08-11T07:15:42.782Z"
   },
   {
    "duration": 449,
    "start_time": "2021-08-11T07:22:14.061Z"
   },
   {
    "duration": 3,
    "start_time": "2021-08-11T07:22:19.822Z"
   },
   {
    "duration": 6,
    "start_time": "2021-08-11T07:22:20.830Z"
   },
   {
    "duration": 4,
    "start_time": "2021-08-11T07:26:36.874Z"
   },
   {
    "duration": 4,
    "start_time": "2021-08-11T07:31:58.508Z"
   },
   {
    "duration": 6,
    "start_time": "2021-08-11T07:32:07.019Z"
   },
   {
    "duration": 6,
    "start_time": "2021-08-11T07:32:32.130Z"
   },
   {
    "duration": 348,
    "start_time": "2021-08-11T07:33:54.839Z"
   },
   {
    "duration": 5,
    "start_time": "2021-08-11T07:34:36.476Z"
   },
   {
    "duration": 8,
    "start_time": "2021-08-11T07:34:57.210Z"
   },
   {
    "duration": 135,
    "start_time": "2021-08-13T00:22:10.731Z"
   },
   {
    "duration": 8,
    "start_time": "2021-08-13T00:22:39.947Z"
   },
   {
    "duration": 15,
    "start_time": "2021-08-13T00:23:07.052Z"
   },
   {
    "duration": 14,
    "start_time": "2021-08-13T00:23:27.384Z"
   },
   {
    "duration": 17,
    "start_time": "2021-08-13T00:23:34.034Z"
   },
   {
    "duration": 115,
    "start_time": "2021-08-13T00:23:54.238Z"
   },
   {
    "duration": 258,
    "start_time": "2021-08-13T00:28:40.964Z"
   },
   {
    "duration": 6,
    "start_time": "2021-08-13T00:28:56.423Z"
   },
   {
    "duration": 6,
    "start_time": "2021-08-13T00:31:24.902Z"
   },
   {
    "duration": 406,
    "start_time": "2021-08-13T00:31:40.781Z"
   },
   {
    "duration": 16,
    "start_time": "2021-08-13T00:31:55.515Z"
   },
   {
    "duration": 7,
    "start_time": "2021-08-13T00:32:24.763Z"
   },
   {
    "duration": 540,
    "start_time": "2021-08-13T00:34:23.309Z"
   },
   {
    "duration": 20,
    "start_time": "2021-08-13T00:34:24.909Z"
   },
   {
    "duration": 13,
    "start_time": "2021-08-13T00:34:24.932Z"
   },
   {
    "duration": 8,
    "start_time": "2021-08-13T00:34:24.948Z"
   },
   {
    "duration": 7,
    "start_time": "2021-08-13T00:34:24.959Z"
   },
   {
    "duration": 8,
    "start_time": "2021-08-13T00:34:25.024Z"
   },
   {
    "duration": 9,
    "start_time": "2021-08-13T00:34:25.281Z"
   },
   {
    "duration": 12,
    "start_time": "2021-08-13T00:34:25.962Z"
   },
   {
    "duration": 6,
    "start_time": "2021-08-13T00:34:26.175Z"
   },
   {
    "duration": 34,
    "start_time": "2021-08-13T00:34:26.385Z"
   },
   {
    "duration": 5,
    "start_time": "2021-08-13T00:34:28.890Z"
   },
   {
    "duration": 6,
    "start_time": "2021-08-13T00:34:29.080Z"
   },
   {
    "duration": 5,
    "start_time": "2021-08-13T00:34:30.120Z"
   },
   {
    "duration": 6,
    "start_time": "2021-08-13T00:34:32.045Z"
   },
   {
    "duration": 526,
    "start_time": "2021-08-13T00:34:33.077Z"
   },
   {
    "duration": 7,
    "start_time": "2021-08-13T00:34:36.804Z"
   },
   {
    "duration": 5,
    "start_time": "2021-08-13T00:34:44.285Z"
   },
   {
    "duration": 14,
    "start_time": "2021-08-13T00:34:52.288Z"
   },
   {
    "duration": 6,
    "start_time": "2021-08-13T00:34:52.472Z"
   },
   {
    "duration": 8582,
    "start_time": "2021-08-13T00:35:14.992Z"
   },
   {
    "duration": 795,
    "start_time": "2021-08-13T00:35:23.577Z"
   },
   {
    "duration": 608,
    "start_time": "2021-08-13T00:35:33.820Z"
   },
   {
    "duration": 873,
    "start_time": "2021-08-13T00:35:41.583Z"
   },
   {
    "duration": 22377,
    "start_time": "2021-08-13T00:35:43.943Z"
   },
   {
    "duration": 15188,
    "start_time": "2021-08-13T00:36:08.673Z"
   },
   {
    "duration": 7,
    "start_time": "2021-08-13T02:04:57.729Z"
   },
   {
    "duration": 370,
    "start_time": "2021-08-13T02:06:47.068Z"
   },
   {
    "duration": 349,
    "start_time": "2021-08-13T02:07:32.310Z"
   },
   {
    "duration": 339,
    "start_time": "2021-08-13T02:08:08.849Z"
   },
   {
    "duration": 357,
    "start_time": "2021-08-13T02:08:12.029Z"
   },
   {
    "duration": 472,
    "start_time": "2021-08-13T02:09:31.386Z"
   },
   {
    "duration": 365,
    "start_time": "2021-08-13T02:09:34.915Z"
   },
   {
    "duration": 372,
    "start_time": "2021-08-13T02:11:01.092Z"
   },
   {
    "duration": 4,
    "start_time": "2021-08-13T02:11:25.153Z"
   },
   {
    "duration": 20,
    "start_time": "2021-08-13T02:11:25.599Z"
   },
   {
    "duration": 12,
    "start_time": "2021-08-13T02:11:26.258Z"
   },
   {
    "duration": 9,
    "start_time": "2021-08-13T02:11:27.302Z"
   },
   {
    "duration": 5,
    "start_time": "2021-08-13T02:11:33.489Z"
   },
   {
    "duration": 6,
    "start_time": "2021-08-13T02:12:08.617Z"
   },
   {
    "duration": 4,
    "start_time": "2021-08-13T02:12:15.510Z"
   },
   {
    "duration": 19,
    "start_time": "2021-08-13T02:12:15.735Z"
   },
   {
    "duration": 11,
    "start_time": "2021-08-13T02:12:15.950Z"
   },
   {
    "duration": 9,
    "start_time": "2021-08-13T02:12:16.202Z"
   },
   {
    "duration": 5,
    "start_time": "2021-08-13T02:12:16.449Z"
   },
   {
    "duration": 8,
    "start_time": "2021-08-13T02:12:16.666Z"
   },
   {
    "duration": 7,
    "start_time": "2021-08-13T02:12:16.880Z"
   },
   {
    "duration": 8,
    "start_time": "2021-08-13T02:12:17.089Z"
   },
   {
    "duration": 12,
    "start_time": "2021-08-13T02:12:17.765Z"
   },
   {
    "duration": 6,
    "start_time": "2021-08-13T02:12:18.414Z"
   },
   {
    "duration": 34,
    "start_time": "2021-08-13T02:12:19.278Z"
   },
   {
    "duration": 3,
    "start_time": "2021-08-13T02:12:38.382Z"
   },
   {
    "duration": 6,
    "start_time": "2021-08-13T02:12:38.771Z"
   },
   {
    "duration": 5,
    "start_time": "2021-08-13T02:12:39.574Z"
   },
   {
    "duration": 6,
    "start_time": "2021-08-13T02:12:40.298Z"
   },
   {
    "duration": 452,
    "start_time": "2021-08-13T02:12:41.352Z"
   },
   {
    "duration": 5,
    "start_time": "2021-08-13T02:12:42.853Z"
   },
   {
    "duration": 852,
    "start_time": "2021-08-13T02:12:59.369Z"
   },
   {
    "duration": 22768,
    "start_time": "2021-08-13T02:13:05.472Z"
   },
   {
    "duration": 7,
    "start_time": "2021-08-13T02:13:47.101Z"
   },
   {
    "duration": 471,
    "start_time": "2021-08-13T02:20:13.436Z"
   },
   {
    "duration": 692,
    "start_time": "2021-08-13T02:20:38.275Z"
   },
   {
    "duration": 431,
    "start_time": "2021-08-13T02:21:40.555Z"
   },
   {
    "duration": 448,
    "start_time": "2021-08-13T02:22:03.976Z"
   },
   {
    "duration": 17,
    "start_time": "2021-08-13T02:22:23.375Z"
   },
   {
    "duration": 28,
    "start_time": "2021-08-13T02:25:04.527Z"
   },
   {
    "duration": 13,
    "start_time": "2021-08-13T02:26:23.671Z"
   },
   {
    "duration": 7,
    "start_time": "2021-08-13T02:33:11.343Z"
   },
   {
    "duration": 5,
    "start_time": "2021-08-13T02:33:25.074Z"
   },
   {
    "duration": 604,
    "start_time": "2021-08-13T02:34:03.658Z"
   },
   {
    "duration": 498,
    "start_time": "2021-08-13T02:34:24.987Z"
   },
   {
    "duration": 10276,
    "start_time": "2021-08-13T02:34:27.571Z"
   },
   {
    "duration": 6,
    "start_time": "2021-08-13T02:34:40.963Z"
   },
   {
    "duration": 8,
    "start_time": "2021-08-13T02:34:41.640Z"
   },
   {
    "duration": 98,
    "start_time": "2021-08-13T02:34:43.260Z"
   },
   {
    "duration": 782,
    "start_time": "2021-08-13T02:34:45.205Z"
   },
   {
    "duration": 8,
    "start_time": "2021-08-13T02:38:53.214Z"
   },
   {
    "duration": 6,
    "start_time": "2021-08-13T02:38:54.831Z"
   },
   {
    "duration": 593,
    "start_time": "2021-08-13T02:39:04.720Z"
   },
   {
    "duration": 347,
    "start_time": "2021-08-13T02:39:50.724Z"
   },
   {
    "duration": 352,
    "start_time": "2021-08-13T02:41:00.438Z"
   },
   {
    "duration": 358,
    "start_time": "2021-08-13T02:41:10.821Z"
   },
   {
    "duration": 343,
    "start_time": "2021-08-13T02:41:20.881Z"
   },
   {
    "duration": 5,
    "start_time": "2021-08-13T02:41:55.489Z"
   },
   {
    "duration": 8,
    "start_time": "2021-08-13T02:42:16.897Z"
   },
   {
    "duration": 6,
    "start_time": "2021-08-13T02:44:22.966Z"
   },
   {
    "duration": 6,
    "start_time": "2021-08-13T02:44:25.038Z"
   },
   {
    "duration": 4,
    "start_time": "2021-08-13T02:44:26.822Z"
   },
   {
    "duration": 369,
    "start_time": "2021-08-13T02:45:07.153Z"
   },
   {
    "duration": 4,
    "start_time": "2021-08-13T02:46:45.804Z"
   },
   {
    "duration": 4,
    "start_time": "2021-08-13T02:47:39.658Z"
   },
   {
    "duration": 5,
    "start_time": "2021-08-13T02:47:41.271Z"
   },
   {
    "duration": 3,
    "start_time": "2021-08-13T02:48:19.556Z"
   },
   {
    "duration": 5,
    "start_time": "2021-08-13T02:48:32.779Z"
   },
   {
    "duration": 4,
    "start_time": "2021-08-13T02:48:39.862Z"
   },
   {
    "duration": 340,
    "start_time": "2021-08-13T02:48:59.692Z"
   },
   {
    "duration": 4,
    "start_time": "2021-08-13T02:50:09.988Z"
   },
   {
    "duration": 6,
    "start_time": "2021-08-13T02:50:11.134Z"
   },
   {
    "duration": 4,
    "start_time": "2021-08-13T02:50:12.442Z"
   },
   {
    "duration": 6,
    "start_time": "2021-08-13T02:51:07.735Z"
   },
   {
    "duration": 4,
    "start_time": "2021-08-13T02:51:08.664Z"
   },
   {
    "duration": 5,
    "start_time": "2021-08-13T02:51:09.569Z"
   },
   {
    "duration": 3,
    "start_time": "2021-08-13T02:51:10.491Z"
   },
   {
    "duration": 4,
    "start_time": "2021-08-13T02:51:11.727Z"
   },
   {
    "duration": 6,
    "start_time": "2021-08-13T02:51:20.110Z"
   },
   {
    "duration": 6,
    "start_time": "2021-08-13T02:51:47.278Z"
   },
   {
    "duration": 896,
    "start_time": "2021-08-13T02:54:14.078Z"
   },
   {
    "duration": 585,
    "start_time": "2021-08-13T02:54:27.737Z"
   },
   {
    "duration": 5,
    "start_time": "2021-08-13T02:55:39.124Z"
   },
   {
    "duration": 618,
    "start_time": "2021-08-13T02:55:40.556Z"
   },
   {
    "duration": 94,
    "start_time": "2021-08-13T02:55:49.962Z"
   },
   {
    "duration": 18,
    "start_time": "2021-08-13T02:58:52.992Z"
   },
   {
    "duration": 6,
    "start_time": "2021-08-13T03:09:26.987Z"
   },
   {
    "duration": 5,
    "start_time": "2021-08-13T03:09:28.413Z"
   },
   {
    "duration": 5,
    "start_time": "2021-08-13T03:09:31.691Z"
   },
   {
    "duration": 5,
    "start_time": "2021-08-13T03:10:00.556Z"
   },
   {
    "duration": 5,
    "start_time": "2021-08-13T03:10:31.517Z"
   },
   {
    "duration": 17,
    "start_time": "2021-08-13T03:11:44.625Z"
   },
   {
    "duration": 15,
    "start_time": "2021-08-13T03:12:35.717Z"
   },
   {
    "duration": 6,
    "start_time": "2021-08-13T03:13:17.859Z"
   },
   {
    "duration": 4,
    "start_time": "2021-08-13T03:13:18.421Z"
   },
   {
    "duration": 24,
    "start_time": "2021-08-13T03:13:19.418Z"
   },
   {
    "duration": 14,
    "start_time": "2021-08-13T03:21:22.854Z"
   },
   {
    "duration": 368,
    "start_time": "2021-08-13T03:24:03.632Z"
   },
   {
    "duration": 3110,
    "start_time": "2021-08-13T03:24:22.960Z"
   },
   {
    "duration": 2807,
    "start_time": "2021-08-13T03:25:57.051Z"
   },
   {
    "duration": 3025,
    "start_time": "2021-08-13T03:27:35.148Z"
   },
   {
    "duration": 2893,
    "start_time": "2021-08-13T03:27:47.903Z"
   },
   {
    "duration": 928,
    "start_time": "2021-08-13T03:28:10.704Z"
   },
   {
    "duration": 8,
    "start_time": "2021-08-13T03:28:58.193Z"
   },
   {
    "duration": 8,
    "start_time": "2021-08-13T03:30:59.711Z"
   },
   {
    "duration": 10,
    "start_time": "2021-08-13T03:31:28.126Z"
   },
   {
    "duration": 346,
    "start_time": "2021-08-13T03:33:29.614Z"
   },
   {
    "duration": 601,
    "start_time": "2021-08-13T03:51:39.810Z"
   },
   {
    "duration": 584,
    "start_time": "2021-08-13T03:52:01.826Z"
   },
   {
    "duration": 445,
    "start_time": "2021-08-13T05:08:18.757Z"
   },
   {
    "duration": 5,
    "start_time": "2021-08-13T05:33:24.885Z"
   },
   {
    "duration": 6,
    "start_time": "2021-08-13T05:33:25.451Z"
   },
   {
    "duration": 5,
    "start_time": "2021-08-13T05:33:26.888Z"
   },
   {
    "duration": 341,
    "start_time": "2021-08-13T05:34:39.516Z"
   },
   {
    "duration": 2142,
    "start_time": "2021-08-13T05:35:36.010Z"
   },
   {
    "duration": 4,
    "start_time": "2021-08-13T05:36:35.294Z"
   },
   {
    "duration": 391,
    "start_time": "2021-08-13T05:36:36.363Z"
   },
   {
    "duration": 350,
    "start_time": "2021-08-13T05:38:33.299Z"
   },
   {
    "duration": 11,
    "start_time": "2021-08-13T05:39:37.017Z"
   },
   {
    "duration": 7,
    "start_time": "2021-08-13T05:40:47.233Z"
   },
   {
    "duration": 679,
    "start_time": "2021-08-13T05:40:56.258Z"
   },
   {
    "duration": 8,
    "start_time": "2021-08-13T05:41:45.735Z"
   },
   {
    "duration": 26,
    "start_time": "2021-08-13T05:41:46.844Z"
   },
   {
    "duration": 6,
    "start_time": "2021-08-13T05:41:54.019Z"
   },
   {
    "duration": 4,
    "start_time": "2021-08-13T05:41:55.135Z"
   },
   {
    "duration": 368,
    "start_time": "2021-08-13T05:41:56.225Z"
   },
   {
    "duration": 6,
    "start_time": "2021-08-13T05:42:19.505Z"
   },
   {
    "duration": 5,
    "start_time": "2021-08-13T05:42:20.646Z"
   },
   {
    "duration": 7,
    "start_time": "2021-08-13T05:42:21.330Z"
   },
   {
    "duration": 8,
    "start_time": "2021-08-13T05:42:25.009Z"
   },
   {
    "duration": 8,
    "start_time": "2021-08-13T05:42:25.797Z"
   },
   {
    "duration": 19,
    "start_time": "2021-08-13T05:42:27.299Z"
   },
   {
    "duration": 6,
    "start_time": "2021-08-13T05:42:29.095Z"
   },
   {
    "duration": 4,
    "start_time": "2021-08-13T05:42:29.789Z"
   },
   {
    "duration": 420,
    "start_time": "2021-08-13T05:42:30.872Z"
   },
   {
    "duration": 415,
    "start_time": "2021-08-13T05:46:27.077Z"
   },
   {
    "duration": 13,
    "start_time": "2021-08-13T05:46:55.891Z"
   },
   {
    "duration": 20,
    "start_time": "2021-08-13T05:47:05.521Z"
   },
   {
    "duration": 12,
    "start_time": "2021-08-13T05:47:19.009Z"
   },
   {
    "duration": 5,
    "start_time": "2021-08-13T05:47:44.960Z"
   },
   {
    "duration": 5,
    "start_time": "2021-08-13T05:47:50.302Z"
   },
   {
    "duration": 6,
    "start_time": "2021-08-13T05:47:56.273Z"
   },
   {
    "duration": 7,
    "start_time": "2021-08-13T05:48:03.143Z"
   },
   {
    "duration": 11,
    "start_time": "2021-08-13T05:48:04.566Z"
   },
   {
    "duration": 744,
    "start_time": "2021-08-13T05:49:49.325Z"
   },
   {
    "duration": 729,
    "start_time": "2021-08-13T05:50:18.896Z"
   },
   {
    "duration": 58,
    "start_time": "2021-08-13T06:00:42.799Z"
   },
   {
    "duration": 14,
    "start_time": "2021-08-13T06:01:01.469Z"
   },
   {
    "duration": 14,
    "start_time": "2021-08-13T06:01:22.899Z"
   },
   {
    "duration": 346,
    "start_time": "2021-08-13T06:17:08.757Z"
   },
   {
    "duration": 31,
    "start_time": "2021-08-13T06:26:36.697Z"
   },
   {
    "duration": 12,
    "start_time": "2021-08-13T06:27:21.245Z"
   },
   {
    "duration": 413,
    "start_time": "2021-08-13T06:27:23.362Z"
   },
   {
    "duration": 6,
    "start_time": "2021-08-13T06:27:46.869Z"
   },
   {
    "duration": 453,
    "start_time": "2021-08-13T06:28:22.229Z"
   },
   {
    "duration": 365,
    "start_time": "2021-08-13T06:28:33.107Z"
   },
   {
    "duration": 8,
    "start_time": "2021-08-13T06:31:04.005Z"
   },
   {
    "duration": 444,
    "start_time": "2021-08-13T06:31:06.850Z"
   },
   {
    "duration": 506,
    "start_time": "2021-08-13T06:31:27.176Z"
   },
   {
    "duration": 447,
    "start_time": "2021-08-13T06:33:58.311Z"
   },
   {
    "duration": 16,
    "start_time": "2021-08-13T06:34:09.757Z"
   },
   {
    "duration": 31,
    "start_time": "2021-08-13T06:34:41.000Z"
   },
   {
    "duration": 15,
    "start_time": "2021-08-13T06:34:59.403Z"
   },
   {
    "duration": 31,
    "start_time": "2021-08-13T06:35:00.524Z"
   },
   {
    "duration": 11,
    "start_time": "2021-08-13T06:35:06.595Z"
   },
   {
    "duration": 7,
    "start_time": "2021-08-13T06:35:08.388Z"
   },
   {
    "duration": 16,
    "start_time": "2021-08-13T06:35:09.399Z"
   },
   {
    "duration": 34,
    "start_time": "2021-08-13T06:35:10.913Z"
   },
   {
    "duration": 19,
    "start_time": "2021-08-13T06:35:54.711Z"
   },
   {
    "duration": 14,
    "start_time": "2021-08-13T06:36:04.267Z"
   },
   {
    "duration": 20,
    "start_time": "2021-08-13T06:37:15.292Z"
   },
   {
    "duration": 12,
    "start_time": "2021-08-13T06:37:15.666Z"
   },
   {
    "duration": 8,
    "start_time": "2021-08-13T06:37:26.016Z"
   },
   {
    "duration": 8,
    "start_time": "2021-08-13T06:37:26.854Z"
   },
   {
    "duration": 13,
    "start_time": "2021-08-13T06:37:27.588Z"
   },
   {
    "duration": 6,
    "start_time": "2021-08-13T06:37:28.313Z"
   },
   {
    "duration": 34,
    "start_time": "2021-08-13T06:37:29.483Z"
   },
   {
    "duration": 7,
    "start_time": "2021-08-13T06:37:39.009Z"
   },
   {
    "duration": 14,
    "start_time": "2021-08-13T06:37:40.079Z"
   },
   {
    "duration": 30,
    "start_time": "2021-08-13T06:37:44.031Z"
   },
   {
    "duration": 16,
    "start_time": "2021-08-13T06:38:08.032Z"
   },
   {
    "duration": 30,
    "start_time": "2021-08-13T06:38:09.175Z"
   },
   {
    "duration": 16,
    "start_time": "2021-08-13T06:38:30.569Z"
   },
   {
    "duration": 31,
    "start_time": "2021-08-13T06:38:32.240Z"
   },
   {
    "duration": 617,
    "start_time": "2021-08-13T07:36:51.857Z"
   },
   {
    "duration": 14,
    "start_time": "2021-08-13T07:37:09.581Z"
   },
   {
    "duration": 15,
    "start_time": "2021-08-13T07:38:00.389Z"
   },
   {
    "duration": 15,
    "start_time": "2021-08-13T07:40:25.530Z"
   },
   {
    "duration": 14,
    "start_time": "2021-08-13T07:40:26.515Z"
   },
   {
    "duration": 15,
    "start_time": "2021-08-13T07:40:41.226Z"
   },
   {
    "duration": 14,
    "start_time": "2021-08-13T07:40:42.430Z"
   },
   {
    "duration": 7,
    "start_time": "2021-08-13T07:41:33.493Z"
   },
   {
    "duration": 14,
    "start_time": "2021-08-13T07:43:38.598Z"
   },
   {
    "duration": 27,
    "start_time": "2021-08-13T07:43:47.337Z"
   },
   {
    "duration": 19,
    "start_time": "2021-08-13T08:47:27.544Z"
   },
   {
    "duration": 16,
    "start_time": "2021-08-13T08:47:28.809Z"
   },
   {
    "duration": 3,
    "start_time": "2021-08-13T08:47:37.147Z"
   },
   {
    "duration": 346,
    "start_time": "2021-08-13T08:48:51.901Z"
   },
   {
    "duration": 754,
    "start_time": "2021-08-13T10:39:47.637Z"
   },
   {
    "duration": 1577,
    "start_time": "2021-08-13T10:40:09.267Z"
   },
   {
    "duration": 1284,
    "start_time": "2021-08-13T10:40:23.581Z"
   },
   {
    "duration": 334,
    "start_time": "2021-08-13T10:40:33.800Z"
   },
   {
    "duration": 427,
    "start_time": "2021-08-13T10:40:57.060Z"
   },
   {
    "duration": 10,
    "start_time": "2021-08-13T10:41:04.894Z"
   },
   {
    "duration": 4,
    "start_time": "2021-08-13T10:41:05.707Z"
   },
   {
    "duration": 352,
    "start_time": "2021-08-13T10:41:06.761Z"
   },
   {
    "duration": 1360,
    "start_time": "2021-08-13T10:41:26.459Z"
   },
   {
    "duration": 711,
    "start_time": "2021-08-13T10:42:16.613Z"
   },
   {
    "duration": 372,
    "start_time": "2021-08-13T10:42:53.313Z"
   },
   {
    "duration": 11,
    "start_time": "2021-08-13T10:43:54.142Z"
   },
   {
    "duration": 3,
    "start_time": "2021-08-13T10:43:55.513Z"
   },
   {
    "duration": 919,
    "start_time": "2021-08-13T10:43:56.786Z"
   },
   {
    "duration": 5,
    "start_time": "2021-08-13T10:51:57.809Z"
   },
   {
    "duration": 5,
    "start_time": "2021-08-13T10:52:17.747Z"
   },
   {
    "duration": 5,
    "start_time": "2021-08-13T11:11:53.872Z"
   },
   {
    "duration": 4,
    "start_time": "2021-08-13T11:12:34.419Z"
   },
   {
    "duration": 371,
    "start_time": "2021-08-13T11:13:00.082Z"
   },
   {
    "duration": 6,
    "start_time": "2021-08-13T11:13:35.506Z"
   },
   {
    "duration": 385,
    "start_time": "2021-08-13T11:13:39.085Z"
   },
   {
    "duration": 9,
    "start_time": "2021-08-13T11:15:38.819Z"
   },
   {
    "duration": 351,
    "start_time": "2021-08-13T11:15:39.833Z"
   },
   {
    "duration": 4,
    "start_time": "2021-08-13T11:17:21.293Z"
   },
   {
    "duration": 5,
    "start_time": "2021-08-13T11:17:22.531Z"
   },
   {
    "duration": 5,
    "start_time": "2021-08-13T11:18:50.303Z"
   },
   {
    "duration": 17,
    "start_time": "2021-08-13T11:18:51.432Z"
   },
   {
    "duration": 15,
    "start_time": "2021-08-13T11:24:47.660Z"
   },
   {
    "duration": 13,
    "start_time": "2021-08-13T11:40:52.538Z"
   },
   {
    "duration": 6,
    "start_time": "2021-08-13T13:34:51.699Z"
   },
   {
    "duration": 448,
    "start_time": "2021-08-13T13:35:41.586Z"
   },
   {
    "duration": 30,
    "start_time": "2021-08-13T13:36:22.928Z"
   },
   {
    "duration": 4,
    "start_time": "2021-08-13T13:36:35.625Z"
   },
   {
    "duration": 19,
    "start_time": "2021-08-13T13:36:36.868Z"
   },
   {
    "duration": 9,
    "start_time": "2021-08-13T13:36:44.312Z"
   },
   {
    "duration": 9,
    "start_time": "2021-08-13T13:36:44.597Z"
   },
   {
    "duration": 9,
    "start_time": "2021-08-13T13:36:44.882Z"
   },
   {
    "duration": 13,
    "start_time": "2021-08-13T13:36:45.399Z"
   },
   {
    "duration": 5,
    "start_time": "2021-08-13T13:36:48.779Z"
   },
   {
    "duration": 36,
    "start_time": "2021-08-13T13:36:50.009Z"
   },
   {
    "duration": 8,
    "start_time": "2021-08-13T13:37:04.463Z"
   },
   {
    "duration": 22,
    "start_time": "2021-08-13T13:37:07.026Z"
   },
   {
    "duration": 33,
    "start_time": "2021-08-13T13:37:10.281Z"
   },
   {
    "duration": 3,
    "start_time": "2021-08-13T13:37:30.993Z"
   },
   {
    "duration": 20,
    "start_time": "2021-08-13T13:37:31.470Z"
   },
   {
    "duration": 9,
    "start_time": "2021-08-13T13:37:38.625Z"
   },
   {
    "duration": 7,
    "start_time": "2021-08-13T13:37:38.881Z"
   },
   {
    "duration": 8,
    "start_time": "2021-08-13T13:37:39.107Z"
   },
   {
    "duration": 12,
    "start_time": "2021-08-13T13:37:39.716Z"
   },
   {
    "duration": 5,
    "start_time": "2021-08-13T13:37:40.463Z"
   },
   {
    "duration": 16,
    "start_time": "2021-08-13T13:38:00.681Z"
   },
   {
    "duration": 31,
    "start_time": "2021-08-13T13:38:02.664Z"
   },
   {
    "duration": 14,
    "start_time": "2021-08-13T13:38:15.737Z"
   },
   {
    "duration": 31,
    "start_time": "2021-08-13T13:38:16.752Z"
   },
   {
    "duration": 14,
    "start_time": "2021-08-13T13:38:23.066Z"
   },
   {
    "duration": 30,
    "start_time": "2021-08-13T13:38:25.571Z"
   },
   {
    "duration": 31,
    "start_time": "2021-08-13T13:39:35.461Z"
   },
   {
    "duration": 24,
    "start_time": "2021-08-13T13:40:03.482Z"
   },
   {
    "duration": 380,
    "start_time": "2021-08-13T13:42:08.984Z"
   },
   {
    "duration": 4,
    "start_time": "2021-08-13T13:42:39.251Z"
   },
   {
    "duration": 19,
    "start_time": "2021-08-13T13:42:39.839Z"
   },
   {
    "duration": 8,
    "start_time": "2021-08-13T13:42:45.364Z"
   },
   {
    "duration": 7,
    "start_time": "2021-08-13T13:42:45.574Z"
   },
   {
    "duration": 8,
    "start_time": "2021-08-13T13:42:45.777Z"
   },
   {
    "duration": 12,
    "start_time": "2021-08-13T13:42:45.977Z"
   },
   {
    "duration": 7,
    "start_time": "2021-08-13T13:42:47.315Z"
   },
   {
    "duration": 7,
    "start_time": "2021-08-13T13:42:56.523Z"
   },
   {
    "duration": 380,
    "start_time": "2021-08-13T13:42:57.559Z"
   },
   {
    "duration": 7,
    "start_time": "2021-08-13T13:43:27.847Z"
   },
   {
    "duration": 8,
    "start_time": "2021-08-13T13:43:35.516Z"
   },
   {
    "duration": 24,
    "start_time": "2021-08-13T13:44:11.091Z"
   },
   {
    "duration": 17,
    "start_time": "2021-08-13T13:44:47.363Z"
   },
   {
    "duration": 23,
    "start_time": "2021-08-13T13:45:43.644Z"
   },
   {
    "duration": 29,
    "start_time": "2021-08-13T13:45:46.611Z"
   },
   {
    "duration": 37,
    "start_time": "2021-08-13T13:45:55.683Z"
   },
   {
    "duration": 10,
    "start_time": "2021-08-13T13:46:28.574Z"
   },
   {
    "duration": 469,
    "start_time": "2021-08-13T13:53:55.309Z"
   },
   {
    "duration": 7,
    "start_time": "2021-08-13T14:16:46.232Z"
   },
   {
    "duration": 5,
    "start_time": "2021-08-13T14:17:06.947Z"
   },
   {
    "duration": 356,
    "start_time": "2021-08-13T14:17:18.088Z"
   },
   {
    "duration": 17,
    "start_time": "2021-08-13T14:17:26.098Z"
   },
   {
    "duration": 5,
    "start_time": "2021-08-13T14:17:36.183Z"
   },
   {
    "duration": 386,
    "start_time": "2021-08-13T14:18:40.288Z"
   },
   {
    "duration": 17,
    "start_time": "2021-08-13T14:19:47.928Z"
   },
   {
    "duration": 7,
    "start_time": "2021-08-13T14:19:58.760Z"
   },
   {
    "duration": 8,
    "start_time": "2021-08-13T14:20:00.196Z"
   },
   {
    "duration": 23,
    "start_time": "2021-08-13T14:20:04.363Z"
   },
   {
    "duration": 31,
    "start_time": "2021-08-13T14:20:09.708Z"
   },
   {
    "duration": 18,
    "start_time": "2021-08-13T14:21:36.430Z"
   },
   {
    "duration": 718,
    "start_time": "2021-08-14T01:50:23.896Z"
   },
   {
    "duration": 23,
    "start_time": "2021-08-14T01:50:24.677Z"
   },
   {
    "duration": 24,
    "start_time": "2021-08-14T01:50:25.387Z"
   },
   {
    "duration": 11,
    "start_time": "2021-08-14T01:50:26.166Z"
   },
   {
    "duration": 6,
    "start_time": "2021-08-14T01:50:26.426Z"
   },
   {
    "duration": 5,
    "start_time": "2021-08-14T01:50:26.727Z"
   },
   {
    "duration": 8,
    "start_time": "2021-08-14T01:50:26.999Z"
   },
   {
    "duration": 7,
    "start_time": "2021-08-14T01:50:27.240Z"
   },
   {
    "duration": 8,
    "start_time": "2021-08-14T01:50:27.470Z"
   },
   {
    "duration": 12,
    "start_time": "2021-08-14T01:50:27.700Z"
   },
   {
    "duration": 6,
    "start_time": "2021-08-14T01:50:27.954Z"
   },
   {
    "duration": 34,
    "start_time": "2021-08-14T01:50:28.188Z"
   },
   {
    "duration": 13,
    "start_time": "2021-08-14T01:50:28.432Z"
   },
   {
    "duration": 511,
    "start_time": "2021-08-14T01:50:28.701Z"
   },
   {
    "duration": 7,
    "start_time": "2021-08-14T01:50:33.621Z"
   },
   {
    "duration": 4,
    "start_time": "2021-08-14T01:50:34.072Z"
   },
   {
    "duration": 539,
    "start_time": "2021-08-14T01:50:36.014Z"
   },
   {
    "duration": 4,
    "start_time": "2021-08-14T01:50:55.002Z"
   },
   {
    "duration": 4,
    "start_time": "2021-08-14T01:51:18.688Z"
   },
   {
    "duration": 4,
    "start_time": "2021-08-14T01:51:19.746Z"
   },
   {
    "duration": 6,
    "start_time": "2021-08-14T01:51:22.611Z"
   },
   {
    "duration": 282,
    "start_time": "2021-08-14T01:51:28.544Z"
   },
   {
    "duration": 21,
    "start_time": "2021-08-14T01:51:54.986Z"
   },
   {
    "duration": 5,
    "start_time": "2021-08-14T01:51:57.207Z"
   },
   {
    "duration": 7,
    "start_time": "2021-08-14T01:51:58.472Z"
   },
   {
    "duration": 7,
    "start_time": "2021-08-14T01:52:04.728Z"
   },
   {
    "duration": 12,
    "start_time": "2021-08-14T01:52:06.015Z"
   },
   {
    "duration": 302,
    "start_time": "2021-08-14T03:31:25.133Z"
   },
   {
    "duration": 596,
    "start_time": "2021-08-14T03:31:45.515Z"
   },
   {
    "duration": 9,
    "start_time": "2021-08-14T03:31:47.942Z"
   },
   {
    "duration": 296,
    "start_time": "2021-08-14T03:32:15.748Z"
   },
   {
    "duration": 284,
    "start_time": "2021-08-14T03:32:31.576Z"
   },
   {
    "duration": 336,
    "start_time": "2021-08-14T03:32:50.290Z"
   },
   {
    "duration": 339,
    "start_time": "2021-08-14T03:34:15.589Z"
   },
   {
    "duration": 12,
    "start_time": "2021-08-14T03:34:29.240Z"
   },
   {
    "duration": 11,
    "start_time": "2021-08-14T03:35:11.739Z"
   },
   {
    "duration": 112,
    "start_time": "2021-08-14T03:36:11.444Z"
   },
   {
    "duration": 17,
    "start_time": "2021-08-14T03:38:47.628Z"
   },
   {
    "duration": 360,
    "start_time": "2021-08-14T03:38:50.973Z"
   },
   {
    "duration": 67,
    "start_time": "2021-08-14T03:39:08.088Z"
   },
   {
    "duration": 76,
    "start_time": "2021-08-14T03:41:12.683Z"
   },
   {
    "duration": 15,
    "start_time": "2021-08-14T03:41:17.668Z"
   },
   {
    "duration": 25,
    "start_time": "2021-08-14T03:44:26.629Z"
   },
   {
    "duration": 17,
    "start_time": "2021-08-14T03:45:04.231Z"
   },
   {
    "duration": 318,
    "start_time": "2021-08-14T03:47:31.900Z"
   },
   {
    "duration": 349,
    "start_time": "2021-08-14T03:48:30.990Z"
   },
   {
    "duration": 13,
    "start_time": "2021-08-14T03:48:42.293Z"
   },
   {
    "duration": 331,
    "start_time": "2021-08-14T03:48:49.314Z"
   },
   {
    "duration": 68,
    "start_time": "2021-08-14T03:49:27.690Z"
   },
   {
    "duration": 6,
    "start_time": "2021-08-14T04:30:25.865Z"
   },
   {
    "duration": 5,
    "start_time": "2021-08-14T04:30:36.000Z"
   },
   {
    "duration": 13,
    "start_time": "2021-08-14T04:31:00.924Z"
   },
   {
    "duration": 13,
    "start_time": "2021-08-14T04:31:45.730Z"
   },
   {
    "duration": 255,
    "start_time": "2021-08-14T04:46:51.578Z"
   },
   {
    "duration": 5,
    "start_time": "2021-08-14T04:48:09.676Z"
   },
   {
    "duration": 4,
    "start_time": "2021-08-14T04:51:01.387Z"
   },
   {
    "duration": 4,
    "start_time": "2021-08-14T04:52:19.633Z"
   },
   {
    "duration": 8,
    "start_time": "2021-08-14T04:55:57.323Z"
   },
   {
    "duration": 15,
    "start_time": "2021-08-14T05:05:41.200Z"
   },
   {
    "duration": 92,
    "start_time": "2021-08-14T05:06:49.002Z"
   },
   {
    "duration": 93,
    "start_time": "2021-08-14T05:07:04.165Z"
   },
   {
    "duration": 94,
    "start_time": "2021-08-14T05:07:14.801Z"
   },
   {
    "duration": 11,
    "start_time": "2021-08-14T05:07:55.855Z"
   },
   {
    "duration": 50,
    "start_time": "2021-08-14T05:10:05.805Z"
   },
   {
    "duration": 64,
    "start_time": "2021-08-14T05:12:11.492Z"
   },
   {
    "duration": 10,
    "start_time": "2021-08-14T05:19:20.736Z"
   },
   {
    "duration": 9,
    "start_time": "2021-08-14T05:21:04.662Z"
   },
   {
    "duration": 18,
    "start_time": "2021-08-14T05:21:12.875Z"
   },
   {
    "duration": 105,
    "start_time": "2021-08-14T05:22:40.350Z"
   },
   {
    "duration": 8,
    "start_time": "2021-08-14T05:22:41.178Z"
   },
   {
    "duration": 9,
    "start_time": "2021-08-14T05:22:41.876Z"
   },
   {
    "duration": 16,
    "start_time": "2021-08-14T05:22:42.481Z"
   },
   {
    "duration": 18,
    "start_time": "2021-08-14T05:22:43.676Z"
   },
   {
    "duration": 273,
    "start_time": "2021-08-14T05:31:15.462Z"
   },
   {
    "duration": 267,
    "start_time": "2021-08-14T05:34:31.355Z"
   },
   {
    "duration": 549,
    "start_time": "2021-08-14T05:34:49.268Z"
   },
   {
    "duration": 417,
    "start_time": "2021-08-14T05:37:01.437Z"
   },
   {
    "duration": 261,
    "start_time": "2021-08-14T05:37:18.420Z"
   },
   {
    "duration": 527,
    "start_time": "2021-08-14T05:43:44.329Z"
   },
   {
    "duration": 518,
    "start_time": "2021-08-14T05:44:53.620Z"
   },
   {
    "duration": 104,
    "start_time": "2021-08-14T05:45:04.916Z"
   },
   {
    "duration": 439,
    "start_time": "2021-08-14T05:45:09.836Z"
   },
   {
    "duration": 574,
    "start_time": "2021-08-14T05:47:41.531Z"
   },
   {
    "duration": 591,
    "start_time": "2021-08-14T05:48:04.137Z"
   },
   {
    "duration": 6,
    "start_time": "2021-08-14T05:48:21.491Z"
   },
   {
    "duration": 5,
    "start_time": "2021-08-14T05:48:27.650Z"
   },
   {
    "duration": 273,
    "start_time": "2021-08-14T05:50:00.525Z"
   },
   {
    "duration": 1160,
    "start_time": "2021-08-14T05:50:23.629Z"
   },
   {
    "duration": 1057,
    "start_time": "2021-08-14T05:50:39.999Z"
   },
   {
    "duration": 973,
    "start_time": "2021-08-14T05:50:46.762Z"
   },
   {
    "duration": 943,
    "start_time": "2021-08-14T05:50:55.064Z"
   },
   {
    "duration": 940,
    "start_time": "2021-08-14T05:51:07.176Z"
   },
   {
    "duration": 648,
    "start_time": "2021-08-14T05:53:45.638Z"
   },
   {
    "duration": 485,
    "start_time": "2021-08-14T05:57:56.724Z"
   },
   {
    "duration": 94,
    "start_time": "2021-08-14T06:09:56.443Z"
   },
   {
    "duration": 87,
    "start_time": "2021-08-14T06:10:08.262Z"
   },
   {
    "duration": 759,
    "start_time": "2021-08-14T06:10:29.288Z"
   },
   {
    "duration": 709,
    "start_time": "2021-08-14T06:11:19.747Z"
   },
   {
    "duration": 753,
    "start_time": "2021-08-14T06:11:32.523Z"
   },
   {
    "duration": 842,
    "start_time": "2021-08-14T06:11:46.809Z"
   },
   {
    "duration": 636,
    "start_time": "2021-08-14T06:12:48.844Z"
   },
   {
    "duration": 606,
    "start_time": "2021-08-14T06:12:57.601Z"
   },
   {
    "duration": 474,
    "start_time": "2021-08-14T06:13:05.694Z"
   },
   {
    "duration": 668,
    "start_time": "2021-08-14T06:13:21.274Z"
   },
   {
    "duration": 21710,
    "start_time": "2021-08-14T06:14:34.803Z"
   },
   {
    "duration": 498,
    "start_time": "2021-08-14T06:17:03.362Z"
   },
   {
    "duration": 500,
    "start_time": "2021-08-14T06:18:31.465Z"
   },
   {
    "duration": 409,
    "start_time": "2021-08-14T07:21:42.723Z"
   },
   {
    "duration": 409,
    "start_time": "2021-08-14T07:22:13.365Z"
   },
   {
    "duration": 556,
    "start_time": "2021-08-14T07:22:25.753Z"
   },
   {
    "duration": 413,
    "start_time": "2021-08-14T07:23:18.663Z"
   },
   {
    "duration": 420,
    "start_time": "2021-08-14T07:23:38.528Z"
   },
   {
    "duration": 5,
    "start_time": "2021-08-14T07:28:21.678Z"
   },
   {
    "duration": 513,
    "start_time": "2021-08-14T07:46:17.100Z"
   },
   {
    "duration": 21215,
    "start_time": "2021-08-14T07:46:56.167Z"
   },
   {
    "duration": 5,
    "start_time": "2021-08-14T08:50:29.610Z"
   },
   {
    "duration": 5,
    "start_time": "2021-08-14T08:50:30.718Z"
   },
   {
    "duration": 735,
    "start_time": "2021-08-14T09:24:38.188Z"
   },
   {
    "duration": 21,
    "start_time": "2021-08-14T09:24:38.926Z"
   },
   {
    "duration": 28,
    "start_time": "2021-08-14T09:24:38.950Z"
   },
   {
    "duration": 17,
    "start_time": "2021-08-14T09:24:38.981Z"
   },
   {
    "duration": 18,
    "start_time": "2021-08-14T09:24:39.000Z"
   },
   {
    "duration": 15,
    "start_time": "2021-08-14T09:24:39.020Z"
   },
   {
    "duration": 24,
    "start_time": "2021-08-14T09:24:39.038Z"
   },
   {
    "duration": 30,
    "start_time": "2021-08-14T09:24:39.066Z"
   },
   {
    "duration": 17,
    "start_time": "2021-08-14T09:24:39.099Z"
   },
   {
    "duration": 28,
    "start_time": "2021-08-14T09:24:39.118Z"
   },
   {
    "duration": 22,
    "start_time": "2021-08-14T09:24:39.149Z"
   },
   {
    "duration": 44,
    "start_time": "2021-08-14T09:24:39.174Z"
   },
   {
    "duration": 25767,
    "start_time": "2021-08-14T09:24:39.221Z"
   },
   {
    "duration": -17455,
    "start_time": "2021-08-14T09:25:22.446Z"
   },
   {
    "duration": -17456,
    "start_time": "2021-08-14T09:25:22.449Z"
   },
   {
    "duration": -17457,
    "start_time": "2021-08-14T09:25:22.451Z"
   },
   {
    "duration": -17457,
    "start_time": "2021-08-14T09:25:22.453Z"
   },
   {
    "duration": -17459,
    "start_time": "2021-08-14T09:25:22.456Z"
   },
   {
    "duration": -17459,
    "start_time": "2021-08-14T09:25:22.458Z"
   },
   {
    "duration": -17459,
    "start_time": "2021-08-14T09:25:22.460Z"
   },
   {
    "duration": -17462,
    "start_time": "2021-08-14T09:25:22.464Z"
   },
   {
    "duration": -17462,
    "start_time": "2021-08-14T09:25:22.466Z"
   },
   {
    "duration": -17462,
    "start_time": "2021-08-14T09:25:22.468Z"
   },
   {
    "duration": -17463,
    "start_time": "2021-08-14T09:25:22.472Z"
   },
   {
    "duration": -17464,
    "start_time": "2021-08-14T09:25:22.474Z"
   },
   {
    "duration": -17465,
    "start_time": "2021-08-14T09:25:22.476Z"
   },
   {
    "duration": -17466,
    "start_time": "2021-08-14T09:25:22.479Z"
   },
   {
    "duration": -17467,
    "start_time": "2021-08-14T09:25:22.481Z"
   },
   {
    "duration": -17430,
    "start_time": "2021-08-14T09:25:22.484Z"
   },
   {
    "duration": -17431,
    "start_time": "2021-08-14T09:25:22.487Z"
   },
   {
    "duration": -17433,
    "start_time": "2021-08-14T09:25:22.490Z"
   },
   {
    "duration": -17433,
    "start_time": "2021-08-14T09:25:22.492Z"
   },
   {
    "duration": 20671,
    "start_time": "2021-08-14T09:25:21.388Z"
   },
   {
    "duration": 514,
    "start_time": "2021-08-14T09:27:58.608Z"
   },
   {
    "duration": 669,
    "start_time": "2021-08-14T09:28:04.512Z"
   },
   {
    "duration": 8,
    "start_time": "2021-08-14T09:28:12.636Z"
   },
   {
    "duration": 4,
    "start_time": "2021-08-14T09:28:25.592Z"
   },
   {
    "duration": 4,
    "start_time": "2021-08-14T09:28:39.809Z"
   },
   {
    "duration": 3,
    "start_time": "2021-08-14T09:28:48.746Z"
   },
   {
    "duration": 4,
    "start_time": "2021-08-14T09:28:49.879Z"
   },
   {
    "duration": 8,
    "start_time": "2021-08-14T09:28:52.827Z"
   },
   {
    "duration": 13,
    "start_time": "2021-08-14T09:28:59.260Z"
   },
   {
    "duration": 5,
    "start_time": "2021-08-14T09:29:02.115Z"
   },
   {
    "duration": 12,
    "start_time": "2021-08-14T09:29:04.159Z"
   },
   {
    "duration": 7,
    "start_time": "2021-08-14T09:29:05.038Z"
   },
   {
    "duration": 18,
    "start_time": "2021-08-14T09:29:06.954Z"
   },
   {
    "duration": 44,
    "start_time": "2021-08-14T09:29:12.602Z"
   },
   {
    "duration": 4,
    "start_time": "2021-08-14T09:29:41.427Z"
   },
   {
    "duration": 12,
    "start_time": "2021-08-14T09:29:50.163Z"
   },
   {
    "duration": 4,
    "start_time": "2021-08-14T09:29:52.977Z"
   },
   {
    "duration": 460,
    "start_time": "2021-08-14T09:30:36.822Z"
   },
   {
    "duration": 23,
    "start_time": "2021-08-14T09:30:42.552Z"
   },
   {
    "duration": 9,
    "start_time": "2021-08-14T09:30:47.036Z"
   },
   {
    "duration": 7,
    "start_time": "2021-08-14T09:30:48.243Z"
   },
   {
    "duration": 12,
    "start_time": "2021-08-14T09:30:54.301Z"
   },
   {
    "duration": 17,
    "start_time": "2021-08-14T09:30:55.344Z"
   },
   {
    "duration": 17,
    "start_time": "2021-08-14T09:31:04.088Z"
   },
   {
    "duration": 1516,
    "start_time": "2021-08-14T09:32:21.895Z"
   },
   {
    "duration": 25,
    "start_time": "2021-08-14T09:32:23.415Z"
   },
   {
    "duration": 32,
    "start_time": "2021-08-14T09:32:23.445Z"
   },
   {
    "duration": 14,
    "start_time": "2021-08-14T09:32:23.482Z"
   },
   {
    "duration": 8,
    "start_time": "2021-08-14T09:32:23.499Z"
   },
   {
    "duration": 6,
    "start_time": "2021-08-14T09:32:23.510Z"
   },
   {
    "duration": 9,
    "start_time": "2021-08-14T09:32:23.554Z"
   },
   {
    "duration": 8,
    "start_time": "2021-08-14T09:32:23.568Z"
   },
   {
    "duration": 9,
    "start_time": "2021-08-14T09:32:23.579Z"
   },
   {
    "duration": 69,
    "start_time": "2021-08-14T09:32:23.591Z"
   },
   {
    "duration": 6,
    "start_time": "2021-08-14T09:32:23.662Z"
   },
   {
    "duration": 54,
    "start_time": "2021-08-14T09:32:23.670Z"
   },
   {
    "duration": 28234,
    "start_time": "2021-08-14T09:32:23.728Z"
   },
   {
    "duration": 560,
    "start_time": "2021-08-14T09:32:51.965Z"
   },
   {
    "duration": 441,
    "start_time": "2021-08-14T09:32:52.528Z"
   },
   {
    "duration": 7,
    "start_time": "2021-08-14T09:32:52.971Z"
   },
   {
    "duration": 12,
    "start_time": "2021-08-14T09:32:52.980Z"
   },
   {
    "duration": 10,
    "start_time": "2021-08-14T09:32:52.994Z"
   },
   {
    "duration": 65,
    "start_time": "2021-08-14T09:32:53.008Z"
   },
   {
    "duration": 89,
    "start_time": "2021-08-14T09:32:53.077Z"
   },
   {
    "duration": 84,
    "start_time": "2021-08-14T09:32:53.171Z"
   },
   {
    "duration": 10,
    "start_time": "2021-08-14T09:32:53.260Z"
   },
   {
    "duration": 11,
    "start_time": "2021-08-14T09:32:53.359Z"
   },
   {
    "duration": 95,
    "start_time": "2021-08-14T09:32:53.374Z"
   },
   {
    "duration": 13,
    "start_time": "2021-08-14T09:32:53.471Z"
   },
   {
    "duration": 17,
    "start_time": "2021-08-14T09:32:53.488Z"
   },
   {
    "duration": 8,
    "start_time": "2021-08-14T09:32:53.508Z"
   },
   {
    "duration": 136,
    "start_time": "2021-08-14T09:32:53.519Z"
   },
   {
    "duration": 101,
    "start_time": "2021-08-14T09:32:53.659Z"
   },
   {
    "duration": 16,
    "start_time": "2021-08-14T09:32:53.762Z"
   },
   {
    "duration": 109,
    "start_time": "2021-08-14T09:32:53.855Z"
   },
   {
    "duration": 108,
    "start_time": "2021-08-14T09:32:54.058Z"
   },
   {
    "duration": 1522,
    "start_time": "2021-08-15T01:44:02.254Z"
   },
   {
    "duration": 4,
    "start_time": "2021-08-15T01:44:09.096Z"
   },
   {
    "duration": 4,
    "start_time": "2021-08-15T01:44:11.345Z"
   },
   {
    "duration": 5,
    "start_time": "2021-08-15T01:44:20.803Z"
   },
   {
    "duration": 5,
    "start_time": "2021-08-15T01:54:50.255Z"
   },
   {
    "duration": 5,
    "start_time": "2021-08-15T01:55:01.936Z"
   },
   {
    "duration": 587,
    "start_time": "2021-08-15T01:56:06.954Z"
   },
   {
    "duration": 578,
    "start_time": "2021-08-15T01:56:41.985Z"
   },
   {
    "duration": 482,
    "start_time": "2021-08-15T01:57:18.769Z"
   },
   {
    "duration": 4,
    "start_time": "2021-08-15T01:57:27.295Z"
   },
   {
    "duration": 5,
    "start_time": "2021-08-15T01:57:29.326Z"
   },
   {
    "duration": 4,
    "start_time": "2021-08-15T01:57:30.300Z"
   },
   {
    "duration": 4,
    "start_time": "2021-08-15T01:57:33.945Z"
   },
   {
    "duration": 5,
    "start_time": "2021-08-15T01:58:33.529Z"
   },
   {
    "duration": 353,
    "start_time": "2021-08-15T02:15:15.970Z"
   },
   {
    "duration": 4,
    "start_time": "2021-08-15T02:15:38.487Z"
   },
   {
    "duration": 645,
    "start_time": "2021-08-15T02:15:43.823Z"
   },
   {
    "duration": 4,
    "start_time": "2021-08-15T02:16:34.640Z"
   },
   {
    "duration": 590,
    "start_time": "2021-08-15T02:17:16.625Z"
   },
   {
    "duration": 5729,
    "start_time": "2021-08-15T02:20:10.931Z"
   },
   {
    "duration": 6,
    "start_time": "2021-08-15T02:20:23.160Z"
   },
   {
    "duration": 5,
    "start_time": "2021-08-15T02:20:30.445Z"
   },
   {
    "duration": 5,
    "start_time": "2021-08-15T02:21:20.914Z"
   },
   {
    "duration": 5,
    "start_time": "2021-08-15T02:21:27.960Z"
   },
   {
    "duration": 5,
    "start_time": "2021-08-15T02:22:00.626Z"
   },
   {
    "duration": 4,
    "start_time": "2021-08-15T02:22:13.573Z"
   },
   {
    "duration": 4,
    "start_time": "2021-08-15T02:22:17.348Z"
   },
   {
    "duration": 5,
    "start_time": "2021-08-15T02:22:18.959Z"
   },
   {
    "duration": 5,
    "start_time": "2021-08-15T02:38:16.334Z"
   },
   {
    "duration": 592,
    "start_time": "2021-08-15T02:38:17.571Z"
   },
   {
    "duration": 590,
    "start_time": "2021-08-15T02:38:36.163Z"
   },
   {
    "duration": 937,
    "start_time": "2021-08-15T02:38:57.594Z"
   },
   {
    "duration": 134,
    "start_time": "2021-08-15T02:39:27.368Z"
   },
   {
    "duration": 585,
    "start_time": "2021-08-15T02:39:31.746Z"
   },
   {
    "duration": 5,
    "start_time": "2021-08-15T02:40:28.426Z"
   },
   {
    "duration": 124,
    "start_time": "2021-08-15T04:11:37.311Z"
   },
   {
    "duration": 110,
    "start_time": "2021-08-15T04:11:53.450Z"
   },
   {
    "duration": 121,
    "start_time": "2021-08-15T04:12:26.366Z"
   },
   {
    "duration": 139,
    "start_time": "2021-08-15T04:34:43.335Z"
   },
   {
    "duration": 4,
    "start_time": "2021-08-15T04:43:15.087Z"
   },
   {
    "duration": 4,
    "start_time": "2021-08-15T04:43:37.790Z"
   },
   {
    "duration": 4,
    "start_time": "2021-08-15T04:43:53.091Z"
   },
   {
    "duration": 4,
    "start_time": "2021-08-15T04:43:55.433Z"
   },
   {
    "duration": 5,
    "start_time": "2021-08-15T04:44:21.227Z"
   },
   {
    "duration": 3,
    "start_time": "2021-08-15T04:44:22.205Z"
   },
   {
    "duration": 4,
    "start_time": "2021-08-15T04:44:23.647Z"
   },
   {
    "duration": 6,
    "start_time": "2021-08-15T04:44:47.264Z"
   },
   {
    "duration": 3,
    "start_time": "2021-08-15T04:46:29.163Z"
   },
   {
    "duration": 5,
    "start_time": "2021-08-15T04:46:43.213Z"
   },
   {
    "duration": 4,
    "start_time": "2021-08-15T04:46:45.224Z"
   },
   {
    "duration": 4,
    "start_time": "2021-08-15T04:46:48.841Z"
   },
   {
    "duration": 5,
    "start_time": "2021-08-15T04:47:23.874Z"
   },
   {
    "duration": 4,
    "start_time": "2021-08-15T04:47:35.313Z"
   },
   {
    "duration": 5,
    "start_time": "2021-08-15T04:47:36.481Z"
   },
   {
    "duration": 360,
    "start_time": "2021-08-15T04:47:46.218Z"
   },
   {
    "duration": 4,
    "start_time": "2021-08-15T04:47:49.820Z"
   },
   {
    "duration": 4,
    "start_time": "2021-08-15T04:47:50.583Z"
   },
   {
    "duration": 4,
    "start_time": "2021-08-15T04:47:53.945Z"
   },
   {
    "duration": 8,
    "start_time": "2021-08-15T04:48:03.969Z"
   },
   {
    "duration": 1526,
    "start_time": "2021-08-15T05:21:55.739Z"
   },
   {
    "duration": 21,
    "start_time": "2021-08-15T05:21:57.268Z"
   },
   {
    "duration": 17,
    "start_time": "2021-08-15T05:21:57.291Z"
   },
   {
    "duration": 10,
    "start_time": "2021-08-15T05:21:57.311Z"
   },
   {
    "duration": 5,
    "start_time": "2021-08-15T05:21:57.323Z"
   },
   {
    "duration": 26,
    "start_time": "2021-08-15T05:21:57.330Z"
   },
   {
    "duration": 8,
    "start_time": "2021-08-15T05:21:57.359Z"
   },
   {
    "duration": 6,
    "start_time": "2021-08-15T05:21:57.371Z"
   },
   {
    "duration": 8,
    "start_time": "2021-08-15T05:21:57.380Z"
   },
   {
    "duration": 11,
    "start_time": "2021-08-15T05:21:57.391Z"
   },
   {
    "duration": 58,
    "start_time": "2021-08-15T05:21:57.404Z"
   },
   {
    "duration": 36,
    "start_time": "2021-08-15T05:21:57.464Z"
   },
   {
    "duration": 21727,
    "start_time": "2021-08-15T05:21:57.503Z"
   },
   {
    "duration": 509,
    "start_time": "2021-08-15T05:22:19.233Z"
   },
   {
    "duration": 423,
    "start_time": "2021-08-15T05:22:19.745Z"
   },
   {
    "duration": 7,
    "start_time": "2021-08-15T05:22:20.171Z"
   },
   {
    "duration": 7,
    "start_time": "2021-08-15T05:22:20.181Z"
   },
   {
    "duration": 7,
    "start_time": "2021-08-15T05:22:20.190Z"
   },
   {
    "duration": 58,
    "start_time": "2021-08-15T05:22:20.199Z"
   },
   {
    "duration": 8,
    "start_time": "2021-08-15T05:22:20.260Z"
   },
   {
    "duration": 87,
    "start_time": "2021-08-15T05:22:20.271Z"
   },
   {
    "duration": 104,
    "start_time": "2021-08-15T05:22:20.361Z"
   },
   {
    "duration": 5,
    "start_time": "2021-08-15T05:22:20.473Z"
   },
   {
    "duration": 9,
    "start_time": "2021-08-15T05:22:20.557Z"
   },
   {
    "duration": 86,
    "start_time": "2021-08-15T05:22:20.570Z"
   },
   {
    "duration": 100,
    "start_time": "2021-08-15T05:22:20.660Z"
   },
   {
    "duration": 6,
    "start_time": "2021-08-15T05:22:20.763Z"
   },
   {
    "duration": 17,
    "start_time": "2021-08-15T05:22:20.772Z"
   },
   {
    "duration": 6,
    "start_time": "2021-08-15T05:22:20.791Z"
   },
   {
    "duration": 57,
    "start_time": "2021-08-15T05:22:20.799Z"
   },
   {
    "duration": 99,
    "start_time": "2021-08-15T05:22:20.859Z"
   },
   {
    "duration": 15,
    "start_time": "2021-08-15T05:22:20.960Z"
   },
   {
    "duration": 186,
    "start_time": "2021-08-15T05:22:20.979Z"
   },
   {
    "duration": 106,
    "start_time": "2021-08-15T05:22:21.258Z"
   },
   {
    "duration": 96,
    "start_time": "2021-08-15T06:42:48.072Z"
   }
  ],
  "kernelspec": {
   "display_name": "Python 3",
   "language": "python",
   "name": "python3"
  },
  "language_info": {
   "codemirror_mode": {
    "name": "ipython",
    "version": 3
   },
   "file_extension": ".py",
   "mimetype": "text/x-python",
   "name": "python",
   "nbconvert_exporter": "python",
   "pygments_lexer": "ipython3",
   "version": "3.7.8"
  },
  "toc": {
   "base_numbering": 1,
   "nav_menu": {},
   "number_sections": true,
   "sideBar": true,
   "skip_h1_title": true,
   "title_cell": "Содержание",
   "title_sidebar": "Contents",
   "toc_cell": true,
   "toc_position": {},
   "toc_section_display": true,
   "toc_window_display": false
  }
 },
 "nbformat": 4,
 "nbformat_minor": 2
}
