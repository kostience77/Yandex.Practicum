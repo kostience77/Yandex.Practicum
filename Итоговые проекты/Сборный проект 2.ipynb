{
 "cells": [
  {
   "cell_type": "markdown",
   "metadata": {
    "toc": true
   },
   "source": [
    "<h1>Содержание<span class=\"tocSkip\"></span></h1>\n",
    "<div class=\"toc\"><ul class=\"toc-item\"><li><span><a href=\"#Подготовка-данных\" data-toc-modified-id=\"Подготовка-данных-1\"><span class=\"toc-item-num\">1&nbsp;&nbsp;</span>Подготовка данных</a></span><ul class=\"toc-item\"><li><span><a href=\"#Откроем-файлы-и-изучим-их.\" data-toc-modified-id=\"Откроем-файлы-и-изучим-их.-1.1\"><span class=\"toc-item-num\">1.1&nbsp;&nbsp;</span>Откроем файлы и изучим их.</a></span></li><li><span><a href=\"#Проверим,-что-эффективность-обогащения-рассчитана-правильно.-Вычислим-её-на-обучающей-выборке-для-признака-rougher.output.recovery.-Найдем-MAE-между--расчётами-и-значением-признака.\" data-toc-modified-id=\"Проверим,-что-эффективность-обогащения-рассчитана-правильно.-Вычислим-её-на-обучающей-выборке-для-признака-rougher.output.recovery.-Найдем-MAE-между--расчётами-и-значением-признака.-1.2\"><span class=\"toc-item-num\">1.2&nbsp;&nbsp;</span>Проверим, что эффективность обогащения рассчитана правильно. Вычислим её на обучающей выборке для признака rougher.output.recovery. Найдем MAE между  расчётами и значением признака.</a></span></li><li><span><a href=\"#Анализ-признаков,-недоступных-в-тестовой-выборке.\" data-toc-modified-id=\"Анализ-признаков,-недоступных-в-тестовой-выборке.-1.3\"><span class=\"toc-item-num\">1.3&nbsp;&nbsp;</span>Анализ признаков, недоступных в тестовой выборке.</a></span></li><li><span><a href=\"#Предобработка-данных.\" data-toc-modified-id=\"Предобработка-данных.-1.4\"><span class=\"toc-item-num\">1.4&nbsp;&nbsp;</span>Предобработка данных.</a></span></li><li><span><a href=\"#Вывод\" data-toc-modified-id=\"Вывод-1.5\"><span class=\"toc-item-num\">1.5&nbsp;&nbsp;</span>Вывод</a></span></li></ul></li><li><span><a href=\"#Анализ-данных\" data-toc-modified-id=\"Анализ-данных-2\"><span class=\"toc-item-num\">2&nbsp;&nbsp;</span>Анализ данных</a></span><ul class=\"toc-item\"><li><span><a href=\"#Посмотрите,-как-меняется-концентрация-металлов-(Au,-Ag,-Pb)-на-различных-этапах-очистки.-Опишите-выводы.\" data-toc-modified-id=\"Посмотрите,-как-меняется-концентрация-металлов-(Au,-Ag,-Pb)-на-различных-этапах-очистки.-Опишите-выводы.-2.1\"><span class=\"toc-item-num\">2.1&nbsp;&nbsp;</span>Посмотрите, как меняется концентрация металлов (Au, Ag, Pb) на различных этапах очистки. Опишите выводы.</a></span></li><li><span><a href=\"#Сравните-распределения-размеров-гранул-сырья-на-обучающей-и-тестовой-выборках.-Если-распределения-сильно-отличаются-друг-от-друга,-оценка-модели-будет-неправильной.\" data-toc-modified-id=\"Сравните-распределения-размеров-гранул-сырья-на-обучающей-и-тестовой-выборках.-Если-распределения-сильно-отличаются-друг-от-друга,-оценка-модели-будет-неправильной.-2.2\"><span class=\"toc-item-num\">2.2&nbsp;&nbsp;</span>Сравните распределения размеров гранул сырья на обучающей и тестовой выборках. Если распределения сильно отличаются друг от друга, оценка модели будет неправильной.</a></span></li><li><span><a href=\"#Исследуйте-суммарную-концентрацию-всех-веществ-на-разных-стадиях:-в-сырье,-в-черновом-и-финальном-концентратах.\" data-toc-modified-id=\"Исследуйте-суммарную-концентрацию-всех-веществ-на-разных-стадиях:-в-сырье,-в-черновом-и-финальном-концентратах.-2.3\"><span class=\"toc-item-num\">2.3&nbsp;&nbsp;</span>Исследуйте суммарную концентрацию всех веществ на разных стадиях: в сырье, в черновом и финальном концентратах.</a></span></li></ul></li><li><span><a href=\"#Модель\" data-toc-modified-id=\"Модель-3\"><span class=\"toc-item-num\">3&nbsp;&nbsp;</span>Модель</a></span><ul class=\"toc-item\"><li><span><a href=\"#Напишем-функцию-для-вычисления-итоговой-sMAPE.\" data-toc-modified-id=\"Напишем-функцию-для-вычисления-итоговой-sMAPE.-3.1\"><span class=\"toc-item-num\">3.1&nbsp;&nbsp;</span>Напишем функцию для вычисления итоговой sMAPE.</a></span></li><li><span><a href=\"#Обучим-разные-модели-и-оценим-их-качество-кросс-валидацией.-Выберим-лучшую-модель-и-проверим-её-на-тестовой-выборке.\" data-toc-modified-id=\"Обучим-разные-модели-и-оценим-их-качество-кросс-валидацией.-Выберим-лучшую-модель-и-проверим-её-на-тестовой-выборке.-3.2\"><span class=\"toc-item-num\">3.2&nbsp;&nbsp;</span>Обучим разные модели и оценим их качество кросс-валидацией. Выберим лучшую модель и проверим её на тестовой выборке.</a></span></li><li><span><a href=\"#Вывод\" data-toc-modified-id=\"Вывод-3.3\"><span class=\"toc-item-num\">3.3&nbsp;&nbsp;</span>Вывод</a></span></li></ul></li><li><span><a href=\"#Вывод\" data-toc-modified-id=\"Вывод-4\"><span class=\"toc-item-num\">4&nbsp;&nbsp;</span>Вывод</a></span></li><li><span><a href=\"#Чек-лист-готовности-проекта\" data-toc-modified-id=\"Чек-лист-готовности-проекта-5\"><span class=\"toc-item-num\">5&nbsp;&nbsp;</span>Чек-лист готовности проекта</a></span></li></ul></div>"
   ]
  },
  {
   "cell_type": "markdown",
   "metadata": {},
   "source": [
    "# Восстановление золота из руды"
   ]
  },
  {
   "cell_type": "markdown",
   "metadata": {},
   "source": [
    "Компания «Цифры» разрабатывает решения для эффективной работы промышленных предприятий. Для нее необходимо подготовить прототип модели машинного обучения, которая должна предсказать коэффициент восстановления золота из золотосодержащей руды. \n",
    "\n",
    "Предоставлены данные с параметрами добычи и очистки. \n",
    "\n",
    "Модель должна помочь оптимизировать производство, чтобы не запускать предприятие с убыточными характеристиками."
   ]
  },
  {
   "cell_type": "markdown",
   "metadata": {},
   "source": [
    "## Подготовка данных"
   ]
  },
  {
   "cell_type": "markdown",
   "metadata": {},
   "source": [
    "### Откроем файлы и изучим их."
   ]
  },
  {
   "cell_type": "code",
   "execution_count": 1,
   "metadata": {},
   "outputs": [],
   "source": [
    "import warnings\n",
    "warnings.simplefilter(action='ignore')# Игнорировать все предупреждения\n",
    "\n",
    "import pandas as pd# импорт библиотеки pandas\n",
    "import numpy as np #Импорт модуля numpy. numpy работает с однородными многомерными массивами (матрицами)\n",
    "\n",
    "import matplotlib.pyplot as plt#Импорт модуля matplotlib\n",
    "import seaborn as sns# импорт seaborn\n",
    "\n",
    "from sklearn.dummy import DummyClassifier #Фиктивный классификатор\n",
    "\n",
    "from sklearn.model_selection import train_test_split # функция  для разделения датасет на данные для обучения и тестирования\n",
    "from sklearn.preprocessing import StandardScaler # импортируем StandardScaler из библиотеки sklearn\n",
    "\n",
    "from sklearn.model_selection import GridSearchCV# импортируем GridSearchCV из библиотеки sklearn\n",
    "\n",
    "from sklearn.linear_model import LinearRegression\n",
    "from sklearn.ensemble import RandomForestRegressor\n",
    "from sklearn.linear_model import Ridge\n",
    "\n",
    "from sklearn.metrics import mean_absolute_error\n",
    "from sklearn.metrics import mean_squared_error\n",
    "from sklearn.metrics import r2_score\n",
    "\n",
    "from sklearn.utils import shuffle# импортируем shuffle из библиотеки sklearn"
   ]
  },
  {
   "cell_type": "code",
   "execution_count": 2,
   "metadata": {},
   "outputs": [],
   "source": [
    "pd.set_option('display.max_rows', None)\n",
    "pd.set_option('display.max_columns', None)"
   ]
  },
  {
   "cell_type": "markdown",
   "metadata": {},
   "source": [
    "Прочитаем данные и запишим их в датафреймы: data_train, data_test, data_full."
   ]
  },
  {
   "cell_type": "code",
   "execution_count": 3,
   "metadata": {},
   "outputs": [],
   "source": [
    "data_train=pd.read_csv('/datasets/gold_recovery_train_new.csv')\n",
    "data_test=pd.read_csv('/datasets/gold_recovery_test_new.csv')\n",
    "data_full=pd.read_csv('/datasets/gold_recovery_full_new.csv')"
   ]
  },
  {
   "cell_type": "markdown",
   "metadata": {},
   "source": [
    "Посмтрим на первые 5 сток каждого датафрейма."
   ]
  },
  {
   "cell_type": "code",
   "execution_count": 4,
   "metadata": {},
   "outputs": [
    {
     "data": {
      "text/html": [
       "<div>\n",
       "<style scoped>\n",
       "    .dataframe tbody tr th:only-of-type {\n",
       "        vertical-align: middle;\n",
       "    }\n",
       "\n",
       "    .dataframe tbody tr th {\n",
       "        vertical-align: top;\n",
       "    }\n",
       "\n",
       "    .dataframe thead th {\n",
       "        text-align: right;\n",
       "    }\n",
       "</style>\n",
       "<table border=\"1\" class=\"dataframe\">\n",
       "  <thead>\n",
       "    <tr style=\"text-align: right;\">\n",
       "      <th></th>\n",
       "      <th>date</th>\n",
       "      <th>final.output.concentrate_ag</th>\n",
       "      <th>final.output.concentrate_pb</th>\n",
       "      <th>final.output.concentrate_sol</th>\n",
       "      <th>final.output.concentrate_au</th>\n",
       "      <th>final.output.recovery</th>\n",
       "      <th>final.output.tail_ag</th>\n",
       "      <th>final.output.tail_pb</th>\n",
       "      <th>final.output.tail_sol</th>\n",
       "      <th>final.output.tail_au</th>\n",
       "      <th>primary_cleaner.input.sulfate</th>\n",
       "      <th>primary_cleaner.input.depressant</th>\n",
       "      <th>primary_cleaner.input.feed_size</th>\n",
       "      <th>primary_cleaner.input.xanthate</th>\n",
       "      <th>primary_cleaner.output.concentrate_ag</th>\n",
       "      <th>primary_cleaner.output.concentrate_pb</th>\n",
       "      <th>primary_cleaner.output.concentrate_sol</th>\n",
       "      <th>primary_cleaner.output.concentrate_au</th>\n",
       "      <th>primary_cleaner.output.tail_ag</th>\n",
       "      <th>primary_cleaner.output.tail_pb</th>\n",
       "      <th>primary_cleaner.output.tail_sol</th>\n",
       "      <th>primary_cleaner.output.tail_au</th>\n",
       "      <th>primary_cleaner.state.floatbank8_a_air</th>\n",
       "      <th>primary_cleaner.state.floatbank8_a_level</th>\n",
       "      <th>primary_cleaner.state.floatbank8_b_air</th>\n",
       "      <th>primary_cleaner.state.floatbank8_b_level</th>\n",
       "      <th>primary_cleaner.state.floatbank8_c_air</th>\n",
       "      <th>primary_cleaner.state.floatbank8_c_level</th>\n",
       "      <th>primary_cleaner.state.floatbank8_d_air</th>\n",
       "      <th>primary_cleaner.state.floatbank8_d_level</th>\n",
       "      <th>rougher.calculation.sulfate_to_au_concentrate</th>\n",
       "      <th>rougher.calculation.floatbank10_sulfate_to_au_feed</th>\n",
       "      <th>rougher.calculation.floatbank11_sulfate_to_au_feed</th>\n",
       "      <th>rougher.calculation.au_pb_ratio</th>\n",
       "      <th>rougher.input.feed_ag</th>\n",
       "      <th>rougher.input.feed_pb</th>\n",
       "      <th>rougher.input.feed_rate</th>\n",
       "      <th>rougher.input.feed_size</th>\n",
       "      <th>rougher.input.feed_sol</th>\n",
       "      <th>rougher.input.feed_au</th>\n",
       "      <th>rougher.input.floatbank10_sulfate</th>\n",
       "      <th>rougher.input.floatbank10_xanthate</th>\n",
       "      <th>rougher.input.floatbank11_sulfate</th>\n",
       "      <th>rougher.input.floatbank11_xanthate</th>\n",
       "      <th>rougher.output.concentrate_ag</th>\n",
       "      <th>rougher.output.concentrate_pb</th>\n",
       "      <th>rougher.output.concentrate_sol</th>\n",
       "      <th>rougher.output.concentrate_au</th>\n",
       "      <th>rougher.output.recovery</th>\n",
       "      <th>rougher.output.tail_ag</th>\n",
       "      <th>rougher.output.tail_pb</th>\n",
       "      <th>rougher.output.tail_sol</th>\n",
       "      <th>rougher.output.tail_au</th>\n",
       "      <th>rougher.state.floatbank10_a_air</th>\n",
       "      <th>rougher.state.floatbank10_a_level</th>\n",
       "      <th>rougher.state.floatbank10_b_air</th>\n",
       "      <th>rougher.state.floatbank10_b_level</th>\n",
       "      <th>rougher.state.floatbank10_c_air</th>\n",
       "      <th>rougher.state.floatbank10_c_level</th>\n",
       "      <th>rougher.state.floatbank10_d_air</th>\n",
       "      <th>rougher.state.floatbank10_d_level</th>\n",
       "      <th>rougher.state.floatbank10_e_air</th>\n",
       "      <th>rougher.state.floatbank10_e_level</th>\n",
       "      <th>rougher.state.floatbank10_f_air</th>\n",
       "      <th>rougher.state.floatbank10_f_level</th>\n",
       "      <th>secondary_cleaner.output.tail_ag</th>\n",
       "      <th>secondary_cleaner.output.tail_pb</th>\n",
       "      <th>secondary_cleaner.output.tail_sol</th>\n",
       "      <th>secondary_cleaner.output.tail_au</th>\n",
       "      <th>secondary_cleaner.state.floatbank2_a_air</th>\n",
       "      <th>secondary_cleaner.state.floatbank2_a_level</th>\n",
       "      <th>secondary_cleaner.state.floatbank2_b_air</th>\n",
       "      <th>secondary_cleaner.state.floatbank2_b_level</th>\n",
       "      <th>secondary_cleaner.state.floatbank3_a_air</th>\n",
       "      <th>secondary_cleaner.state.floatbank3_a_level</th>\n",
       "      <th>secondary_cleaner.state.floatbank3_b_air</th>\n",
       "      <th>secondary_cleaner.state.floatbank3_b_level</th>\n",
       "      <th>secondary_cleaner.state.floatbank4_a_air</th>\n",
       "      <th>secondary_cleaner.state.floatbank4_a_level</th>\n",
       "      <th>secondary_cleaner.state.floatbank4_b_air</th>\n",
       "      <th>secondary_cleaner.state.floatbank4_b_level</th>\n",
       "      <th>secondary_cleaner.state.floatbank5_a_air</th>\n",
       "      <th>secondary_cleaner.state.floatbank5_a_level</th>\n",
       "      <th>secondary_cleaner.state.floatbank5_b_air</th>\n",
       "      <th>secondary_cleaner.state.floatbank5_b_level</th>\n",
       "      <th>secondary_cleaner.state.floatbank6_a_air</th>\n",
       "      <th>secondary_cleaner.state.floatbank6_a_level</th>\n",
       "    </tr>\n",
       "  </thead>\n",
       "  <tbody>\n",
       "    <tr>\n",
       "      <td>0</td>\n",
       "      <td>2016-01-15 00:00:00</td>\n",
       "      <td>6.055403</td>\n",
       "      <td>9.889648</td>\n",
       "      <td>5.507324</td>\n",
       "      <td>42.192020</td>\n",
       "      <td>70.541216</td>\n",
       "      <td>10.411962</td>\n",
       "      <td>0.895447</td>\n",
       "      <td>16.904297</td>\n",
       "      <td>2.143149</td>\n",
       "      <td>127.092003</td>\n",
       "      <td>10.128295</td>\n",
       "      <td>7.25</td>\n",
       "      <td>0.988759</td>\n",
       "      <td>8.547551</td>\n",
       "      <td>10.389648</td>\n",
       "      <td>19.529297</td>\n",
       "      <td>34.174427</td>\n",
       "      <td>14.936526</td>\n",
       "      <td>2.534912</td>\n",
       "      <td>7.476074</td>\n",
       "      <td>2.106679</td>\n",
       "      <td>1549.775757</td>\n",
       "      <td>-498.912140</td>\n",
       "      <td>1551.434204</td>\n",
       "      <td>-516.403442</td>\n",
       "      <td>1549.873901</td>\n",
       "      <td>-498.666595</td>\n",
       "      <td>1554.367432</td>\n",
       "      <td>-493.428131</td>\n",
       "      <td>41885.707031</td>\n",
       "      <td>3481.779053</td>\n",
       "      <td>3520.337158</td>\n",
       "      <td>2.838687</td>\n",
       "      <td>6.100378</td>\n",
       "      <td>2.284912</td>\n",
       "      <td>523.546326</td>\n",
       "      <td>55.486599</td>\n",
       "      <td>36.808594</td>\n",
       "      <td>6.486150</td>\n",
       "      <td>11.986616</td>\n",
       "      <td>6.007990</td>\n",
       "      <td>11.836743</td>\n",
       "      <td>6.005818</td>\n",
       "      <td>11.500771</td>\n",
       "      <td>7.101074</td>\n",
       "      <td>28.029297</td>\n",
       "      <td>19.793808</td>\n",
       "      <td>87.107763</td>\n",
       "      <td>5.008018</td>\n",
       "      <td>0.508728</td>\n",
       "      <td>19.154297</td>\n",
       "      <td>1.170244</td>\n",
       "      <td>999.706909</td>\n",
       "      <td>-404.066986</td>\n",
       "      <td>1603.011353</td>\n",
       "      <td>-434.715027</td>\n",
       "      <td>1602.375000</td>\n",
       "      <td>-442.204468</td>\n",
       "      <td>1598.937256</td>\n",
       "      <td>-451.294128</td>\n",
       "      <td>1404.472046</td>\n",
       "      <td>-455.462982</td>\n",
       "      <td>1416.354980</td>\n",
       "      <td>-451.939636</td>\n",
       "      <td>14.500184</td>\n",
       "      <td>4.694824</td>\n",
       "      <td>8.764648</td>\n",
       "      <td>2.606185</td>\n",
       "      <td>25.853109</td>\n",
       "      <td>-498.526489</td>\n",
       "      <td>23.893660</td>\n",
       "      <td>-501.406281</td>\n",
       "      <td>23.961798</td>\n",
       "      <td>-495.262817</td>\n",
       "      <td>21.940409</td>\n",
       "      <td>-499.340973</td>\n",
       "      <td>14.016835</td>\n",
       "      <td>-502.488007</td>\n",
       "      <td>12.099931</td>\n",
       "      <td>-504.715942</td>\n",
       "      <td>9.925633</td>\n",
       "      <td>-498.310211</td>\n",
       "      <td>8.079666</td>\n",
       "      <td>-500.470978</td>\n",
       "      <td>14.151341</td>\n",
       "      <td>-605.841980</td>\n",
       "    </tr>\n",
       "    <tr>\n",
       "      <td>1</td>\n",
       "      <td>2016-01-15 01:00:00</td>\n",
       "      <td>6.029369</td>\n",
       "      <td>9.968944</td>\n",
       "      <td>5.257781</td>\n",
       "      <td>42.701629</td>\n",
       "      <td>69.266198</td>\n",
       "      <td>10.462676</td>\n",
       "      <td>0.927452</td>\n",
       "      <td>16.634514</td>\n",
       "      <td>2.224930</td>\n",
       "      <td>125.629232</td>\n",
       "      <td>10.296251</td>\n",
       "      <td>7.25</td>\n",
       "      <td>1.002663</td>\n",
       "      <td>8.558743</td>\n",
       "      <td>10.497069</td>\n",
       "      <td>19.369147</td>\n",
       "      <td>34.118526</td>\n",
       "      <td>16.250511</td>\n",
       "      <td>3.049646</td>\n",
       "      <td>6.733907</td>\n",
       "      <td>2.353017</td>\n",
       "      <td>1576.166671</td>\n",
       "      <td>-500.904965</td>\n",
       "      <td>1575.950626</td>\n",
       "      <td>-499.865889</td>\n",
       "      <td>1575.994189</td>\n",
       "      <td>-499.315107</td>\n",
       "      <td>1574.479259</td>\n",
       "      <td>-498.931665</td>\n",
       "      <td>42050.861809</td>\n",
       "      <td>3498.370979</td>\n",
       "      <td>3489.981857</td>\n",
       "      <td>2.858998</td>\n",
       "      <td>6.161113</td>\n",
       "      <td>2.266033</td>\n",
       "      <td>525.290581</td>\n",
       "      <td>57.278666</td>\n",
       "      <td>35.753385</td>\n",
       "      <td>6.478583</td>\n",
       "      <td>11.971193</td>\n",
       "      <td>6.005766</td>\n",
       "      <td>11.996163</td>\n",
       "      <td>6.012594</td>\n",
       "      <td>11.615865</td>\n",
       "      <td>7.278807</td>\n",
       "      <td>28.067063</td>\n",
       "      <td>20.050975</td>\n",
       "      <td>86.843261</td>\n",
       "      <td>4.955378</td>\n",
       "      <td>0.536689</td>\n",
       "      <td>18.965234</td>\n",
       "      <td>1.184827</td>\n",
       "      <td>1000.286398</td>\n",
       "      <td>-400.065196</td>\n",
       "      <td>1600.754587</td>\n",
       "      <td>-449.953435</td>\n",
       "      <td>1600.479580</td>\n",
       "      <td>-449.830646</td>\n",
       "      <td>1600.527589</td>\n",
       "      <td>-449.953649</td>\n",
       "      <td>1399.227084</td>\n",
       "      <td>-450.869848</td>\n",
       "      <td>1399.719514</td>\n",
       "      <td>-450.119001</td>\n",
       "      <td>14.265474</td>\n",
       "      <td>4.592547</td>\n",
       "      <td>9.001494</td>\n",
       "      <td>2.488248</td>\n",
       "      <td>25.880539</td>\n",
       "      <td>-499.989656</td>\n",
       "      <td>23.889530</td>\n",
       "      <td>-500.372428</td>\n",
       "      <td>23.970550</td>\n",
       "      <td>-500.085473</td>\n",
       "      <td>22.085714</td>\n",
       "      <td>-499.446897</td>\n",
       "      <td>13.992281</td>\n",
       "      <td>-505.503262</td>\n",
       "      <td>11.950531</td>\n",
       "      <td>-501.331529</td>\n",
       "      <td>10.039245</td>\n",
       "      <td>-500.169983</td>\n",
       "      <td>7.984757</td>\n",
       "      <td>-500.582168</td>\n",
       "      <td>13.998353</td>\n",
       "      <td>-599.787184</td>\n",
       "    </tr>\n",
       "    <tr>\n",
       "      <td>2</td>\n",
       "      <td>2016-01-15 02:00:00</td>\n",
       "      <td>6.055926</td>\n",
       "      <td>10.213995</td>\n",
       "      <td>5.383759</td>\n",
       "      <td>42.657501</td>\n",
       "      <td>68.116445</td>\n",
       "      <td>10.507046</td>\n",
       "      <td>0.953716</td>\n",
       "      <td>16.208849</td>\n",
       "      <td>2.257889</td>\n",
       "      <td>123.819808</td>\n",
       "      <td>11.316280</td>\n",
       "      <td>7.25</td>\n",
       "      <td>0.991265</td>\n",
       "      <td>8.603505</td>\n",
       "      <td>10.354494</td>\n",
       "      <td>19.167579</td>\n",
       "      <td>33.969464</td>\n",
       "      <td>16.491823</td>\n",
       "      <td>3.124664</td>\n",
       "      <td>6.471768</td>\n",
       "      <td>2.416800</td>\n",
       "      <td>1601.556163</td>\n",
       "      <td>-499.997791</td>\n",
       "      <td>1600.386685</td>\n",
       "      <td>-500.607762</td>\n",
       "      <td>1602.003542</td>\n",
       "      <td>-500.870069</td>\n",
       "      <td>1599.541515</td>\n",
       "      <td>-499.827444</td>\n",
       "      <td>42018.101184</td>\n",
       "      <td>3495.348910</td>\n",
       "      <td>3502.359819</td>\n",
       "      <td>2.945989</td>\n",
       "      <td>6.116455</td>\n",
       "      <td>2.159622</td>\n",
       "      <td>530.026610</td>\n",
       "      <td>57.510649</td>\n",
       "      <td>35.971630</td>\n",
       "      <td>6.362222</td>\n",
       "      <td>11.920603</td>\n",
       "      <td>6.197377</td>\n",
       "      <td>11.920305</td>\n",
       "      <td>6.204633</td>\n",
       "      <td>11.695753</td>\n",
       "      <td>7.216833</td>\n",
       "      <td>27.454037</td>\n",
       "      <td>19.737170</td>\n",
       "      <td>86.842308</td>\n",
       "      <td>4.843460</td>\n",
       "      <td>0.546416</td>\n",
       "      <td>18.808533</td>\n",
       "      <td>1.162562</td>\n",
       "      <td>999.719565</td>\n",
       "      <td>-400.074028</td>\n",
       "      <td>1599.337330</td>\n",
       "      <td>-450.008530</td>\n",
       "      <td>1599.672797</td>\n",
       "      <td>-449.954491</td>\n",
       "      <td>1599.849325</td>\n",
       "      <td>-449.954185</td>\n",
       "      <td>1399.180945</td>\n",
       "      <td>-449.937588</td>\n",
       "      <td>1400.316682</td>\n",
       "      <td>-450.527147</td>\n",
       "      <td>14.115662</td>\n",
       "      <td>4.624775</td>\n",
       "      <td>8.842896</td>\n",
       "      <td>2.458187</td>\n",
       "      <td>26.005245</td>\n",
       "      <td>-499.929616</td>\n",
       "      <td>23.886657</td>\n",
       "      <td>-499.951928</td>\n",
       "      <td>23.913535</td>\n",
       "      <td>-499.442343</td>\n",
       "      <td>23.957717</td>\n",
       "      <td>-499.901982</td>\n",
       "      <td>14.015015</td>\n",
       "      <td>-502.520901</td>\n",
       "      <td>11.912783</td>\n",
       "      <td>-501.133383</td>\n",
       "      <td>10.070913</td>\n",
       "      <td>-500.129135</td>\n",
       "      <td>8.013877</td>\n",
       "      <td>-500.517572</td>\n",
       "      <td>14.028663</td>\n",
       "      <td>-601.427363</td>\n",
       "    </tr>\n",
       "    <tr>\n",
       "      <td>3</td>\n",
       "      <td>2016-01-15 03:00:00</td>\n",
       "      <td>6.047977</td>\n",
       "      <td>9.977019</td>\n",
       "      <td>4.858634</td>\n",
       "      <td>42.689819</td>\n",
       "      <td>68.347543</td>\n",
       "      <td>10.422762</td>\n",
       "      <td>0.883763</td>\n",
       "      <td>16.532835</td>\n",
       "      <td>2.146849</td>\n",
       "      <td>122.270188</td>\n",
       "      <td>11.322140</td>\n",
       "      <td>7.25</td>\n",
       "      <td>0.996739</td>\n",
       "      <td>7.221879</td>\n",
       "      <td>8.496563</td>\n",
       "      <td>15.978538</td>\n",
       "      <td>28.260743</td>\n",
       "      <td>16.024359</td>\n",
       "      <td>2.960362</td>\n",
       "      <td>6.843791</td>\n",
       "      <td>2.262051</td>\n",
       "      <td>1599.968720</td>\n",
       "      <td>-500.951778</td>\n",
       "      <td>1600.659236</td>\n",
       "      <td>-499.677094</td>\n",
       "      <td>1600.304144</td>\n",
       "      <td>-500.727997</td>\n",
       "      <td>1600.449520</td>\n",
       "      <td>-500.052575</td>\n",
       "      <td>42029.447991</td>\n",
       "      <td>3498.578313</td>\n",
       "      <td>3499.162912</td>\n",
       "      <td>3.002340</td>\n",
       "      <td>6.043309</td>\n",
       "      <td>2.037807</td>\n",
       "      <td>542.590390</td>\n",
       "      <td>57.792734</td>\n",
       "      <td>36.862241</td>\n",
       "      <td>6.118189</td>\n",
       "      <td>11.630094</td>\n",
       "      <td>6.203177</td>\n",
       "      <td>11.692450</td>\n",
       "      <td>6.196578</td>\n",
       "      <td>11.915047</td>\n",
       "      <td>7.175616</td>\n",
       "      <td>27.341277</td>\n",
       "      <td>19.320810</td>\n",
       "      <td>87.226430</td>\n",
       "      <td>4.655288</td>\n",
       "      <td>0.542525</td>\n",
       "      <td>19.330200</td>\n",
       "      <td>1.079755</td>\n",
       "      <td>999.814770</td>\n",
       "      <td>-400.200179</td>\n",
       "      <td>1600.059442</td>\n",
       "      <td>-450.619948</td>\n",
       "      <td>1600.012842</td>\n",
       "      <td>-449.910497</td>\n",
       "      <td>1597.725177</td>\n",
       "      <td>-450.130127</td>\n",
       "      <td>1400.943157</td>\n",
       "      <td>-450.030142</td>\n",
       "      <td>1400.234743</td>\n",
       "      <td>-449.790835</td>\n",
       "      <td>13.732071</td>\n",
       "      <td>4.482453</td>\n",
       "      <td>9.122857</td>\n",
       "      <td>2.322062</td>\n",
       "      <td>25.942508</td>\n",
       "      <td>-499.176749</td>\n",
       "      <td>23.955516</td>\n",
       "      <td>-499.848796</td>\n",
       "      <td>23.966838</td>\n",
       "      <td>-500.008812</td>\n",
       "      <td>23.954443</td>\n",
       "      <td>-499.944710</td>\n",
       "      <td>14.036510</td>\n",
       "      <td>-500.857308</td>\n",
       "      <td>11.999550</td>\n",
       "      <td>-501.193686</td>\n",
       "      <td>9.970366</td>\n",
       "      <td>-499.201640</td>\n",
       "      <td>7.977324</td>\n",
       "      <td>-500.255908</td>\n",
       "      <td>14.005551</td>\n",
       "      <td>-599.996129</td>\n",
       "    </tr>\n",
       "    <tr>\n",
       "      <td>4</td>\n",
       "      <td>2016-01-15 04:00:00</td>\n",
       "      <td>6.148599</td>\n",
       "      <td>10.142511</td>\n",
       "      <td>4.939416</td>\n",
       "      <td>42.774141</td>\n",
       "      <td>66.927016</td>\n",
       "      <td>10.360302</td>\n",
       "      <td>0.792826</td>\n",
       "      <td>16.525686</td>\n",
       "      <td>2.055292</td>\n",
       "      <td>117.988169</td>\n",
       "      <td>11.913613</td>\n",
       "      <td>7.25</td>\n",
       "      <td>1.009869</td>\n",
       "      <td>9.089428</td>\n",
       "      <td>9.986786</td>\n",
       "      <td>19.199864</td>\n",
       "      <td>33.044932</td>\n",
       "      <td>16.480185</td>\n",
       "      <td>3.112100</td>\n",
       "      <td>6.550154</td>\n",
       "      <td>2.277073</td>\n",
       "      <td>1601.339707</td>\n",
       "      <td>-498.975456</td>\n",
       "      <td>1601.437854</td>\n",
       "      <td>-500.323246</td>\n",
       "      <td>1599.581894</td>\n",
       "      <td>-500.888152</td>\n",
       "      <td>1602.649541</td>\n",
       "      <td>-500.593010</td>\n",
       "      <td>42125.354245</td>\n",
       "      <td>3494.800771</td>\n",
       "      <td>3506.679315</td>\n",
       "      <td>3.169615</td>\n",
       "      <td>6.060915</td>\n",
       "      <td>1.786875</td>\n",
       "      <td>540.531893</td>\n",
       "      <td>56.047189</td>\n",
       "      <td>34.347666</td>\n",
       "      <td>5.663707</td>\n",
       "      <td>10.957755</td>\n",
       "      <td>6.198826</td>\n",
       "      <td>10.960521</td>\n",
       "      <td>6.194897</td>\n",
       "      <td>12.411054</td>\n",
       "      <td>7.240205</td>\n",
       "      <td>27.041023</td>\n",
       "      <td>19.216101</td>\n",
       "      <td>86.688794</td>\n",
       "      <td>4.552800</td>\n",
       "      <td>0.515438</td>\n",
       "      <td>19.267422</td>\n",
       "      <td>1.012642</td>\n",
       "      <td>999.678690</td>\n",
       "      <td>-399.752729</td>\n",
       "      <td>1600.208824</td>\n",
       "      <td>-449.599614</td>\n",
       "      <td>1600.357732</td>\n",
       "      <td>-450.034364</td>\n",
       "      <td>1599.759049</td>\n",
       "      <td>-449.909799</td>\n",
       "      <td>1401.560902</td>\n",
       "      <td>-448.877187</td>\n",
       "      <td>1401.160227</td>\n",
       "      <td>-450.407128</td>\n",
       "      <td>14.079996</td>\n",
       "      <td>4.470737</td>\n",
       "      <td>8.871028</td>\n",
       "      <td>2.330448</td>\n",
       "      <td>26.024787</td>\n",
       "      <td>-500.279091</td>\n",
       "      <td>23.955345</td>\n",
       "      <td>-500.593614</td>\n",
       "      <td>23.985703</td>\n",
       "      <td>-500.083811</td>\n",
       "      <td>23.958945</td>\n",
       "      <td>-499.990309</td>\n",
       "      <td>14.027298</td>\n",
       "      <td>-499.838632</td>\n",
       "      <td>11.953070</td>\n",
       "      <td>-501.053894</td>\n",
       "      <td>9.925709</td>\n",
       "      <td>-501.686727</td>\n",
       "      <td>7.894242</td>\n",
       "      <td>-500.356035</td>\n",
       "      <td>13.996647</td>\n",
       "      <td>-601.496691</td>\n",
       "    </tr>\n",
       "  </tbody>\n",
       "</table>\n",
       "</div>"
      ],
      "text/plain": [
       "                  date  final.output.concentrate_ag  \\\n",
       "0  2016-01-15 00:00:00                     6.055403   \n",
       "1  2016-01-15 01:00:00                     6.029369   \n",
       "2  2016-01-15 02:00:00                     6.055926   \n",
       "3  2016-01-15 03:00:00                     6.047977   \n",
       "4  2016-01-15 04:00:00                     6.148599   \n",
       "\n",
       "   final.output.concentrate_pb  final.output.concentrate_sol  \\\n",
       "0                     9.889648                      5.507324   \n",
       "1                     9.968944                      5.257781   \n",
       "2                    10.213995                      5.383759   \n",
       "3                     9.977019                      4.858634   \n",
       "4                    10.142511                      4.939416   \n",
       "\n",
       "   final.output.concentrate_au  final.output.recovery  final.output.tail_ag  \\\n",
       "0                    42.192020              70.541216             10.411962   \n",
       "1                    42.701629              69.266198             10.462676   \n",
       "2                    42.657501              68.116445             10.507046   \n",
       "3                    42.689819              68.347543             10.422762   \n",
       "4                    42.774141              66.927016             10.360302   \n",
       "\n",
       "   final.output.tail_pb  final.output.tail_sol  final.output.tail_au  \\\n",
       "0              0.895447              16.904297              2.143149   \n",
       "1              0.927452              16.634514              2.224930   \n",
       "2              0.953716              16.208849              2.257889   \n",
       "3              0.883763              16.532835              2.146849   \n",
       "4              0.792826              16.525686              2.055292   \n",
       "\n",
       "   primary_cleaner.input.sulfate  primary_cleaner.input.depressant  \\\n",
       "0                     127.092003                         10.128295   \n",
       "1                     125.629232                         10.296251   \n",
       "2                     123.819808                         11.316280   \n",
       "3                     122.270188                         11.322140   \n",
       "4                     117.988169                         11.913613   \n",
       "\n",
       "   primary_cleaner.input.feed_size  primary_cleaner.input.xanthate  \\\n",
       "0                             7.25                        0.988759   \n",
       "1                             7.25                        1.002663   \n",
       "2                             7.25                        0.991265   \n",
       "3                             7.25                        0.996739   \n",
       "4                             7.25                        1.009869   \n",
       "\n",
       "   primary_cleaner.output.concentrate_ag  \\\n",
       "0                               8.547551   \n",
       "1                               8.558743   \n",
       "2                               8.603505   \n",
       "3                               7.221879   \n",
       "4                               9.089428   \n",
       "\n",
       "   primary_cleaner.output.concentrate_pb  \\\n",
       "0                              10.389648   \n",
       "1                              10.497069   \n",
       "2                              10.354494   \n",
       "3                               8.496563   \n",
       "4                               9.986786   \n",
       "\n",
       "   primary_cleaner.output.concentrate_sol  \\\n",
       "0                               19.529297   \n",
       "1                               19.369147   \n",
       "2                               19.167579   \n",
       "3                               15.978538   \n",
       "4                               19.199864   \n",
       "\n",
       "   primary_cleaner.output.concentrate_au  primary_cleaner.output.tail_ag  \\\n",
       "0                              34.174427                       14.936526   \n",
       "1                              34.118526                       16.250511   \n",
       "2                              33.969464                       16.491823   \n",
       "3                              28.260743                       16.024359   \n",
       "4                              33.044932                       16.480185   \n",
       "\n",
       "   primary_cleaner.output.tail_pb  primary_cleaner.output.tail_sol  \\\n",
       "0                        2.534912                         7.476074   \n",
       "1                        3.049646                         6.733907   \n",
       "2                        3.124664                         6.471768   \n",
       "3                        2.960362                         6.843791   \n",
       "4                        3.112100                         6.550154   \n",
       "\n",
       "   primary_cleaner.output.tail_au  primary_cleaner.state.floatbank8_a_air  \\\n",
       "0                        2.106679                             1549.775757   \n",
       "1                        2.353017                             1576.166671   \n",
       "2                        2.416800                             1601.556163   \n",
       "3                        2.262051                             1599.968720   \n",
       "4                        2.277073                             1601.339707   \n",
       "\n",
       "   primary_cleaner.state.floatbank8_a_level  \\\n",
       "0                               -498.912140   \n",
       "1                               -500.904965   \n",
       "2                               -499.997791   \n",
       "3                               -500.951778   \n",
       "4                               -498.975456   \n",
       "\n",
       "   primary_cleaner.state.floatbank8_b_air  \\\n",
       "0                             1551.434204   \n",
       "1                             1575.950626   \n",
       "2                             1600.386685   \n",
       "3                             1600.659236   \n",
       "4                             1601.437854   \n",
       "\n",
       "   primary_cleaner.state.floatbank8_b_level  \\\n",
       "0                               -516.403442   \n",
       "1                               -499.865889   \n",
       "2                               -500.607762   \n",
       "3                               -499.677094   \n",
       "4                               -500.323246   \n",
       "\n",
       "   primary_cleaner.state.floatbank8_c_air  \\\n",
       "0                             1549.873901   \n",
       "1                             1575.994189   \n",
       "2                             1602.003542   \n",
       "3                             1600.304144   \n",
       "4                             1599.581894   \n",
       "\n",
       "   primary_cleaner.state.floatbank8_c_level  \\\n",
       "0                               -498.666595   \n",
       "1                               -499.315107   \n",
       "2                               -500.870069   \n",
       "3                               -500.727997   \n",
       "4                               -500.888152   \n",
       "\n",
       "   primary_cleaner.state.floatbank8_d_air  \\\n",
       "0                             1554.367432   \n",
       "1                             1574.479259   \n",
       "2                             1599.541515   \n",
       "3                             1600.449520   \n",
       "4                             1602.649541   \n",
       "\n",
       "   primary_cleaner.state.floatbank8_d_level  \\\n",
       "0                               -493.428131   \n",
       "1                               -498.931665   \n",
       "2                               -499.827444   \n",
       "3                               -500.052575   \n",
       "4                               -500.593010   \n",
       "\n",
       "   rougher.calculation.sulfate_to_au_concentrate  \\\n",
       "0                                   41885.707031   \n",
       "1                                   42050.861809   \n",
       "2                                   42018.101184   \n",
       "3                                   42029.447991   \n",
       "4                                   42125.354245   \n",
       "\n",
       "   rougher.calculation.floatbank10_sulfate_to_au_feed  \\\n",
       "0                                        3481.779053    \n",
       "1                                        3498.370979    \n",
       "2                                        3495.348910    \n",
       "3                                        3498.578313    \n",
       "4                                        3494.800771    \n",
       "\n",
       "   rougher.calculation.floatbank11_sulfate_to_au_feed  \\\n",
       "0                                        3520.337158    \n",
       "1                                        3489.981857    \n",
       "2                                        3502.359819    \n",
       "3                                        3499.162912    \n",
       "4                                        3506.679315    \n",
       "\n",
       "   rougher.calculation.au_pb_ratio  rougher.input.feed_ag  \\\n",
       "0                         2.838687               6.100378   \n",
       "1                         2.858998               6.161113   \n",
       "2                         2.945989               6.116455   \n",
       "3                         3.002340               6.043309   \n",
       "4                         3.169615               6.060915   \n",
       "\n",
       "   rougher.input.feed_pb  rougher.input.feed_rate  rougher.input.feed_size  \\\n",
       "0               2.284912               523.546326                55.486599   \n",
       "1               2.266033               525.290581                57.278666   \n",
       "2               2.159622               530.026610                57.510649   \n",
       "3               2.037807               542.590390                57.792734   \n",
       "4               1.786875               540.531893                56.047189   \n",
       "\n",
       "   rougher.input.feed_sol  rougher.input.feed_au  \\\n",
       "0               36.808594               6.486150   \n",
       "1               35.753385               6.478583   \n",
       "2               35.971630               6.362222   \n",
       "3               36.862241               6.118189   \n",
       "4               34.347666               5.663707   \n",
       "\n",
       "   rougher.input.floatbank10_sulfate  rougher.input.floatbank10_xanthate  \\\n",
       "0                          11.986616                            6.007990   \n",
       "1                          11.971193                            6.005766   \n",
       "2                          11.920603                            6.197377   \n",
       "3                          11.630094                            6.203177   \n",
       "4                          10.957755                            6.198826   \n",
       "\n",
       "   rougher.input.floatbank11_sulfate  rougher.input.floatbank11_xanthate  \\\n",
       "0                          11.836743                            6.005818   \n",
       "1                          11.996163                            6.012594   \n",
       "2                          11.920305                            6.204633   \n",
       "3                          11.692450                            6.196578   \n",
       "4                          10.960521                            6.194897   \n",
       "\n",
       "   rougher.output.concentrate_ag  rougher.output.concentrate_pb  \\\n",
       "0                      11.500771                       7.101074   \n",
       "1                      11.615865                       7.278807   \n",
       "2                      11.695753                       7.216833   \n",
       "3                      11.915047                       7.175616   \n",
       "4                      12.411054                       7.240205   \n",
       "\n",
       "   rougher.output.concentrate_sol  rougher.output.concentrate_au  \\\n",
       "0                       28.029297                      19.793808   \n",
       "1                       28.067063                      20.050975   \n",
       "2                       27.454037                      19.737170   \n",
       "3                       27.341277                      19.320810   \n",
       "4                       27.041023                      19.216101   \n",
       "\n",
       "   rougher.output.recovery  rougher.output.tail_ag  rougher.output.tail_pb  \\\n",
       "0                87.107763                5.008018                0.508728   \n",
       "1                86.843261                4.955378                0.536689   \n",
       "2                86.842308                4.843460                0.546416   \n",
       "3                87.226430                4.655288                0.542525   \n",
       "4                86.688794                4.552800                0.515438   \n",
       "\n",
       "   rougher.output.tail_sol  rougher.output.tail_au  \\\n",
       "0                19.154297                1.170244   \n",
       "1                18.965234                1.184827   \n",
       "2                18.808533                1.162562   \n",
       "3                19.330200                1.079755   \n",
       "4                19.267422                1.012642   \n",
       "\n",
       "   rougher.state.floatbank10_a_air  rougher.state.floatbank10_a_level  \\\n",
       "0                       999.706909                        -404.066986   \n",
       "1                      1000.286398                        -400.065196   \n",
       "2                       999.719565                        -400.074028   \n",
       "3                       999.814770                        -400.200179   \n",
       "4                       999.678690                        -399.752729   \n",
       "\n",
       "   rougher.state.floatbank10_b_air  rougher.state.floatbank10_b_level  \\\n",
       "0                      1603.011353                        -434.715027   \n",
       "1                      1600.754587                        -449.953435   \n",
       "2                      1599.337330                        -450.008530   \n",
       "3                      1600.059442                        -450.619948   \n",
       "4                      1600.208824                        -449.599614   \n",
       "\n",
       "   rougher.state.floatbank10_c_air  rougher.state.floatbank10_c_level  \\\n",
       "0                      1602.375000                        -442.204468   \n",
       "1                      1600.479580                        -449.830646   \n",
       "2                      1599.672797                        -449.954491   \n",
       "3                      1600.012842                        -449.910497   \n",
       "4                      1600.357732                        -450.034364   \n",
       "\n",
       "   rougher.state.floatbank10_d_air  rougher.state.floatbank10_d_level  \\\n",
       "0                      1598.937256                        -451.294128   \n",
       "1                      1600.527589                        -449.953649   \n",
       "2                      1599.849325                        -449.954185   \n",
       "3                      1597.725177                        -450.130127   \n",
       "4                      1599.759049                        -449.909799   \n",
       "\n",
       "   rougher.state.floatbank10_e_air  rougher.state.floatbank10_e_level  \\\n",
       "0                      1404.472046                        -455.462982   \n",
       "1                      1399.227084                        -450.869848   \n",
       "2                      1399.180945                        -449.937588   \n",
       "3                      1400.943157                        -450.030142   \n",
       "4                      1401.560902                        -448.877187   \n",
       "\n",
       "   rougher.state.floatbank10_f_air  rougher.state.floatbank10_f_level  \\\n",
       "0                      1416.354980                        -451.939636   \n",
       "1                      1399.719514                        -450.119001   \n",
       "2                      1400.316682                        -450.527147   \n",
       "3                      1400.234743                        -449.790835   \n",
       "4                      1401.160227                        -450.407128   \n",
       "\n",
       "   secondary_cleaner.output.tail_ag  secondary_cleaner.output.tail_pb  \\\n",
       "0                         14.500184                          4.694824   \n",
       "1                         14.265474                          4.592547   \n",
       "2                         14.115662                          4.624775   \n",
       "3                         13.732071                          4.482453   \n",
       "4                         14.079996                          4.470737   \n",
       "\n",
       "   secondary_cleaner.output.tail_sol  secondary_cleaner.output.tail_au  \\\n",
       "0                           8.764648                          2.606185   \n",
       "1                           9.001494                          2.488248   \n",
       "2                           8.842896                          2.458187   \n",
       "3                           9.122857                          2.322062   \n",
       "4                           8.871028                          2.330448   \n",
       "\n",
       "   secondary_cleaner.state.floatbank2_a_air  \\\n",
       "0                                 25.853109   \n",
       "1                                 25.880539   \n",
       "2                                 26.005245   \n",
       "3                                 25.942508   \n",
       "4                                 26.024787   \n",
       "\n",
       "   secondary_cleaner.state.floatbank2_a_level  \\\n",
       "0                                 -498.526489   \n",
       "1                                 -499.989656   \n",
       "2                                 -499.929616   \n",
       "3                                 -499.176749   \n",
       "4                                 -500.279091   \n",
       "\n",
       "   secondary_cleaner.state.floatbank2_b_air  \\\n",
       "0                                 23.893660   \n",
       "1                                 23.889530   \n",
       "2                                 23.886657   \n",
       "3                                 23.955516   \n",
       "4                                 23.955345   \n",
       "\n",
       "   secondary_cleaner.state.floatbank2_b_level  \\\n",
       "0                                 -501.406281   \n",
       "1                                 -500.372428   \n",
       "2                                 -499.951928   \n",
       "3                                 -499.848796   \n",
       "4                                 -500.593614   \n",
       "\n",
       "   secondary_cleaner.state.floatbank3_a_air  \\\n",
       "0                                 23.961798   \n",
       "1                                 23.970550   \n",
       "2                                 23.913535   \n",
       "3                                 23.966838   \n",
       "4                                 23.985703   \n",
       "\n",
       "   secondary_cleaner.state.floatbank3_a_level  \\\n",
       "0                                 -495.262817   \n",
       "1                                 -500.085473   \n",
       "2                                 -499.442343   \n",
       "3                                 -500.008812   \n",
       "4                                 -500.083811   \n",
       "\n",
       "   secondary_cleaner.state.floatbank3_b_air  \\\n",
       "0                                 21.940409   \n",
       "1                                 22.085714   \n",
       "2                                 23.957717   \n",
       "3                                 23.954443   \n",
       "4                                 23.958945   \n",
       "\n",
       "   secondary_cleaner.state.floatbank3_b_level  \\\n",
       "0                                 -499.340973   \n",
       "1                                 -499.446897   \n",
       "2                                 -499.901982   \n",
       "3                                 -499.944710   \n",
       "4                                 -499.990309   \n",
       "\n",
       "   secondary_cleaner.state.floatbank4_a_air  \\\n",
       "0                                 14.016835   \n",
       "1                                 13.992281   \n",
       "2                                 14.015015   \n",
       "3                                 14.036510   \n",
       "4                                 14.027298   \n",
       "\n",
       "   secondary_cleaner.state.floatbank4_a_level  \\\n",
       "0                                 -502.488007   \n",
       "1                                 -505.503262   \n",
       "2                                 -502.520901   \n",
       "3                                 -500.857308   \n",
       "4                                 -499.838632   \n",
       "\n",
       "   secondary_cleaner.state.floatbank4_b_air  \\\n",
       "0                                 12.099931   \n",
       "1                                 11.950531   \n",
       "2                                 11.912783   \n",
       "3                                 11.999550   \n",
       "4                                 11.953070   \n",
       "\n",
       "   secondary_cleaner.state.floatbank4_b_level  \\\n",
       "0                                 -504.715942   \n",
       "1                                 -501.331529   \n",
       "2                                 -501.133383   \n",
       "3                                 -501.193686   \n",
       "4                                 -501.053894   \n",
       "\n",
       "   secondary_cleaner.state.floatbank5_a_air  \\\n",
       "0                                  9.925633   \n",
       "1                                 10.039245   \n",
       "2                                 10.070913   \n",
       "3                                  9.970366   \n",
       "4                                  9.925709   \n",
       "\n",
       "   secondary_cleaner.state.floatbank5_a_level  \\\n",
       "0                                 -498.310211   \n",
       "1                                 -500.169983   \n",
       "2                                 -500.129135   \n",
       "3                                 -499.201640   \n",
       "4                                 -501.686727   \n",
       "\n",
       "   secondary_cleaner.state.floatbank5_b_air  \\\n",
       "0                                  8.079666   \n",
       "1                                  7.984757   \n",
       "2                                  8.013877   \n",
       "3                                  7.977324   \n",
       "4                                  7.894242   \n",
       "\n",
       "   secondary_cleaner.state.floatbank5_b_level  \\\n",
       "0                                 -500.470978   \n",
       "1                                 -500.582168   \n",
       "2                                 -500.517572   \n",
       "3                                 -500.255908   \n",
       "4                                 -500.356035   \n",
       "\n",
       "   secondary_cleaner.state.floatbank6_a_air  \\\n",
       "0                                 14.151341   \n",
       "1                                 13.998353   \n",
       "2                                 14.028663   \n",
       "3                                 14.005551   \n",
       "4                                 13.996647   \n",
       "\n",
       "   secondary_cleaner.state.floatbank6_a_level  \n",
       "0                                 -605.841980  \n",
       "1                                 -599.787184  \n",
       "2                                 -601.427363  \n",
       "3                                 -599.996129  \n",
       "4                                 -601.496691  "
      ]
     },
     "execution_count": 4,
     "metadata": {},
     "output_type": "execute_result"
    }
   ],
   "source": [
    "data_train.head()"
   ]
  },
  {
   "cell_type": "code",
   "execution_count": 5,
   "metadata": {},
   "outputs": [
    {
     "data": {
      "text/html": [
       "<div>\n",
       "<style scoped>\n",
       "    .dataframe tbody tr th:only-of-type {\n",
       "        vertical-align: middle;\n",
       "    }\n",
       "\n",
       "    .dataframe tbody tr th {\n",
       "        vertical-align: top;\n",
       "    }\n",
       "\n",
       "    .dataframe thead th {\n",
       "        text-align: right;\n",
       "    }\n",
       "</style>\n",
       "<table border=\"1\" class=\"dataframe\">\n",
       "  <thead>\n",
       "    <tr style=\"text-align: right;\">\n",
       "      <th></th>\n",
       "      <th>date</th>\n",
       "      <th>primary_cleaner.input.sulfate</th>\n",
       "      <th>primary_cleaner.input.depressant</th>\n",
       "      <th>primary_cleaner.input.feed_size</th>\n",
       "      <th>primary_cleaner.input.xanthate</th>\n",
       "      <th>primary_cleaner.state.floatbank8_a_air</th>\n",
       "      <th>primary_cleaner.state.floatbank8_a_level</th>\n",
       "      <th>primary_cleaner.state.floatbank8_b_air</th>\n",
       "      <th>primary_cleaner.state.floatbank8_b_level</th>\n",
       "      <th>primary_cleaner.state.floatbank8_c_air</th>\n",
       "      <th>primary_cleaner.state.floatbank8_c_level</th>\n",
       "      <th>primary_cleaner.state.floatbank8_d_air</th>\n",
       "      <th>primary_cleaner.state.floatbank8_d_level</th>\n",
       "      <th>rougher.input.feed_ag</th>\n",
       "      <th>rougher.input.feed_pb</th>\n",
       "      <th>rougher.input.feed_rate</th>\n",
       "      <th>rougher.input.feed_size</th>\n",
       "      <th>rougher.input.feed_sol</th>\n",
       "      <th>rougher.input.feed_au</th>\n",
       "      <th>rougher.input.floatbank10_sulfate</th>\n",
       "      <th>rougher.input.floatbank10_xanthate</th>\n",
       "      <th>rougher.input.floatbank11_sulfate</th>\n",
       "      <th>rougher.input.floatbank11_xanthate</th>\n",
       "      <th>rougher.state.floatbank10_a_air</th>\n",
       "      <th>rougher.state.floatbank10_a_level</th>\n",
       "      <th>rougher.state.floatbank10_b_air</th>\n",
       "      <th>rougher.state.floatbank10_b_level</th>\n",
       "      <th>rougher.state.floatbank10_c_air</th>\n",
       "      <th>rougher.state.floatbank10_c_level</th>\n",
       "      <th>rougher.state.floatbank10_d_air</th>\n",
       "      <th>rougher.state.floatbank10_d_level</th>\n",
       "      <th>rougher.state.floatbank10_e_air</th>\n",
       "      <th>rougher.state.floatbank10_e_level</th>\n",
       "      <th>rougher.state.floatbank10_f_air</th>\n",
       "      <th>rougher.state.floatbank10_f_level</th>\n",
       "      <th>secondary_cleaner.state.floatbank2_a_air</th>\n",
       "      <th>secondary_cleaner.state.floatbank2_a_level</th>\n",
       "      <th>secondary_cleaner.state.floatbank2_b_air</th>\n",
       "      <th>secondary_cleaner.state.floatbank2_b_level</th>\n",
       "      <th>secondary_cleaner.state.floatbank3_a_air</th>\n",
       "      <th>secondary_cleaner.state.floatbank3_a_level</th>\n",
       "      <th>secondary_cleaner.state.floatbank3_b_air</th>\n",
       "      <th>secondary_cleaner.state.floatbank3_b_level</th>\n",
       "      <th>secondary_cleaner.state.floatbank4_a_air</th>\n",
       "      <th>secondary_cleaner.state.floatbank4_a_level</th>\n",
       "      <th>secondary_cleaner.state.floatbank4_b_air</th>\n",
       "      <th>secondary_cleaner.state.floatbank4_b_level</th>\n",
       "      <th>secondary_cleaner.state.floatbank5_a_air</th>\n",
       "      <th>secondary_cleaner.state.floatbank5_a_level</th>\n",
       "      <th>secondary_cleaner.state.floatbank5_b_air</th>\n",
       "      <th>secondary_cleaner.state.floatbank5_b_level</th>\n",
       "      <th>secondary_cleaner.state.floatbank6_a_air</th>\n",
       "      <th>secondary_cleaner.state.floatbank6_a_level</th>\n",
       "    </tr>\n",
       "  </thead>\n",
       "  <tbody>\n",
       "    <tr>\n",
       "      <td>0</td>\n",
       "      <td>2016-09-01 00:59:59</td>\n",
       "      <td>210.800909</td>\n",
       "      <td>14.993118</td>\n",
       "      <td>8.080000</td>\n",
       "      <td>1.005021</td>\n",
       "      <td>1398.981301</td>\n",
       "      <td>-500.225577</td>\n",
       "      <td>1399.144926</td>\n",
       "      <td>-499.919735</td>\n",
       "      <td>1400.102998</td>\n",
       "      <td>-500.704369</td>\n",
       "      <td>1399.001695</td>\n",
       "      <td>-499.485144</td>\n",
       "      <td>13.128569</td>\n",
       "      <td>5.636710</td>\n",
       "      <td>489.793655</td>\n",
       "      <td>62.710452</td>\n",
       "      <td>42.022440</td>\n",
       "      <td>12.084103</td>\n",
       "      <td>16.922877</td>\n",
       "      <td>6.153479</td>\n",
       "      <td>16.867518</td>\n",
       "      <td>6.150709</td>\n",
       "      <td>1001.849317</td>\n",
       "      <td>-350.301265</td>\n",
       "      <td>1249.738612</td>\n",
       "      <td>-399.107531</td>\n",
       "      <td>1249.750520</td>\n",
       "      <td>-399.396730</td>\n",
       "      <td>1198.287855</td>\n",
       "      <td>-399.488594</td>\n",
       "      <td>999.472250</td>\n",
       "      <td>-399.530962</td>\n",
       "      <td>949.566189</td>\n",
       "      <td>-398.180807</td>\n",
       "      <td>24.938200</td>\n",
       "      <td>-500.490963</td>\n",
       "      <td>14.947607</td>\n",
       "      <td>-500.013837</td>\n",
       "      <td>20.018166</td>\n",
       "      <td>-450.395995</td>\n",
       "      <td>13.987058</td>\n",
       "      <td>-449.831513</td>\n",
       "      <td>12.023554</td>\n",
       "      <td>-497.795834</td>\n",
       "      <td>8.016656</td>\n",
       "      <td>-501.289139</td>\n",
       "      <td>7.946562</td>\n",
       "      <td>-432.317850</td>\n",
       "      <td>4.872511</td>\n",
       "      <td>-500.037437</td>\n",
       "      <td>26.705889</td>\n",
       "      <td>-499.709414</td>\n",
       "    </tr>\n",
       "    <tr>\n",
       "      <td>1</td>\n",
       "      <td>2016-09-01 01:59:59</td>\n",
       "      <td>215.392455</td>\n",
       "      <td>14.987471</td>\n",
       "      <td>8.080000</td>\n",
       "      <td>0.990469</td>\n",
       "      <td>1398.777912</td>\n",
       "      <td>-500.057435</td>\n",
       "      <td>1398.055362</td>\n",
       "      <td>-499.778182</td>\n",
       "      <td>1396.151033</td>\n",
       "      <td>-499.240168</td>\n",
       "      <td>1399.508091</td>\n",
       "      <td>-500.416324</td>\n",
       "      <td>13.036280</td>\n",
       "      <td>5.526065</td>\n",
       "      <td>490.104534</td>\n",
       "      <td>61.961163</td>\n",
       "      <td>41.187903</td>\n",
       "      <td>11.918977</td>\n",
       "      <td>17.002532</td>\n",
       "      <td>5.999043</td>\n",
       "      <td>16.996063</td>\n",
       "      <td>6.002315</td>\n",
       "      <td>998.690785</td>\n",
       "      <td>-350.425704</td>\n",
       "      <td>1248.395457</td>\n",
       "      <td>-399.946025</td>\n",
       "      <td>1249.514451</td>\n",
       "      <td>-399.630810</td>\n",
       "      <td>1200.506459</td>\n",
       "      <td>-399.942434</td>\n",
       "      <td>1000.002114</td>\n",
       "      <td>-399.491528</td>\n",
       "      <td>950.200009</td>\n",
       "      <td>-405.787514</td>\n",
       "      <td>24.923466</td>\n",
       "      <td>-499.813963</td>\n",
       "      <td>14.930873</td>\n",
       "      <td>-500.764452</td>\n",
       "      <td>19.988503</td>\n",
       "      <td>-450.114024</td>\n",
       "      <td>14.092981</td>\n",
       "      <td>-450.059163</td>\n",
       "      <td>12.058140</td>\n",
       "      <td>-498.695773</td>\n",
       "      <td>8.130979</td>\n",
       "      <td>-499.634209</td>\n",
       "      <td>7.958270</td>\n",
       "      <td>-525.839648</td>\n",
       "      <td>4.878850</td>\n",
       "      <td>-500.162375</td>\n",
       "      <td>25.019940</td>\n",
       "      <td>-499.819438</td>\n",
       "    </tr>\n",
       "    <tr>\n",
       "      <td>2</td>\n",
       "      <td>2016-09-01 02:59:59</td>\n",
       "      <td>215.259946</td>\n",
       "      <td>12.884934</td>\n",
       "      <td>7.786667</td>\n",
       "      <td>0.996043</td>\n",
       "      <td>1398.493666</td>\n",
       "      <td>-500.868360</td>\n",
       "      <td>1398.860436</td>\n",
       "      <td>-499.764529</td>\n",
       "      <td>1398.075709</td>\n",
       "      <td>-502.151509</td>\n",
       "      <td>1399.497088</td>\n",
       "      <td>-499.715479</td>\n",
       "      <td>13.138412</td>\n",
       "      <td>5.426561</td>\n",
       "      <td>489.617969</td>\n",
       "      <td>66.903807</td>\n",
       "      <td>42.546294</td>\n",
       "      <td>12.091332</td>\n",
       "      <td>16.992520</td>\n",
       "      <td>5.850632</td>\n",
       "      <td>16.982096</td>\n",
       "      <td>5.853594</td>\n",
       "      <td>998.516720</td>\n",
       "      <td>-349.783538</td>\n",
       "      <td>1247.440748</td>\n",
       "      <td>-400.264330</td>\n",
       "      <td>1248.207204</td>\n",
       "      <td>-401.074405</td>\n",
       "      <td>1199.770026</td>\n",
       "      <td>-400.790582</td>\n",
       "      <td>999.925519</td>\n",
       "      <td>-399.236999</td>\n",
       "      <td>950.320481</td>\n",
       "      <td>-400.864340</td>\n",
       "      <td>24.908732</td>\n",
       "      <td>-500.304035</td>\n",
       "      <td>14.996511</td>\n",
       "      <td>-500.993821</td>\n",
       "      <td>20.039689</td>\n",
       "      <td>-450.263164</td>\n",
       "      <td>14.077881</td>\n",
       "      <td>-449.660997</td>\n",
       "      <td>11.962366</td>\n",
       "      <td>-498.767484</td>\n",
       "      <td>8.096893</td>\n",
       "      <td>-500.827423</td>\n",
       "      <td>8.071056</td>\n",
       "      <td>-500.801673</td>\n",
       "      <td>4.905125</td>\n",
       "      <td>-499.828510</td>\n",
       "      <td>24.994862</td>\n",
       "      <td>-500.622559</td>\n",
       "    </tr>\n",
       "    <tr>\n",
       "      <td>3</td>\n",
       "      <td>2016-09-01 03:59:59</td>\n",
       "      <td>215.336236</td>\n",
       "      <td>12.006805</td>\n",
       "      <td>7.640000</td>\n",
       "      <td>0.863514</td>\n",
       "      <td>1399.618111</td>\n",
       "      <td>-498.863574</td>\n",
       "      <td>1397.440120</td>\n",
       "      <td>-499.211024</td>\n",
       "      <td>1400.129303</td>\n",
       "      <td>-498.355873</td>\n",
       "      <td>1401.065165</td>\n",
       "      <td>-501.038738</td>\n",
       "      <td>12.400507</td>\n",
       "      <td>5.114758</td>\n",
       "      <td>476.618130</td>\n",
       "      <td>59.865919</td>\n",
       "      <td>41.060195</td>\n",
       "      <td>12.181597</td>\n",
       "      <td>16.532144</td>\n",
       "      <td>5.801935</td>\n",
       "      <td>16.515277</td>\n",
       "      <td>5.803657</td>\n",
       "      <td>1000.276604</td>\n",
       "      <td>-350.172597</td>\n",
       "      <td>1251.322675</td>\n",
       "      <td>-398.655289</td>\n",
       "      <td>1250.493702</td>\n",
       "      <td>-399.746728</td>\n",
       "      <td>1199.398691</td>\n",
       "      <td>-397.503052</td>\n",
       "      <td>1001.930679</td>\n",
       "      <td>-400.437573</td>\n",
       "      <td>950.735324</td>\n",
       "      <td>-399.802986</td>\n",
       "      <td>24.893998</td>\n",
       "      <td>-499.382374</td>\n",
       "      <td>14.916674</td>\n",
       "      <td>-499.862299</td>\n",
       "      <td>20.031100</td>\n",
       "      <td>-449.372570</td>\n",
       "      <td>14.013968</td>\n",
       "      <td>-449.526900</td>\n",
       "      <td>12.033091</td>\n",
       "      <td>-498.350935</td>\n",
       "      <td>8.074946</td>\n",
       "      <td>-499.474407</td>\n",
       "      <td>7.897085</td>\n",
       "      <td>-500.868509</td>\n",
       "      <td>4.931400</td>\n",
       "      <td>-499.963623</td>\n",
       "      <td>24.948919</td>\n",
       "      <td>-498.709987</td>\n",
       "    </tr>\n",
       "    <tr>\n",
       "      <td>4</td>\n",
       "      <td>2016-09-01 04:59:59</td>\n",
       "      <td>199.099327</td>\n",
       "      <td>10.682530</td>\n",
       "      <td>7.530000</td>\n",
       "      <td>0.805575</td>\n",
       "      <td>1401.268123</td>\n",
       "      <td>-500.808305</td>\n",
       "      <td>1398.128818</td>\n",
       "      <td>-499.504543</td>\n",
       "      <td>1402.172226</td>\n",
       "      <td>-500.810606</td>\n",
       "      <td>1399.480508</td>\n",
       "      <td>-499.374053</td>\n",
       "      <td>11.327427</td>\n",
       "      <td>4.767383</td>\n",
       "      <td>488.248117</td>\n",
       "      <td>63.315324</td>\n",
       "      <td>41.269161</td>\n",
       "      <td>11.290425</td>\n",
       "      <td>13.607257</td>\n",
       "      <td>5.738081</td>\n",
       "      <td>13.650053</td>\n",
       "      <td>5.739634</td>\n",
       "      <td>996.541302</td>\n",
       "      <td>-350.562517</td>\n",
       "      <td>1304.658848</td>\n",
       "      <td>-399.511519</td>\n",
       "      <td>1306.455515</td>\n",
       "      <td>-399.050685</td>\n",
       "      <td>1248.699349</td>\n",
       "      <td>-400.876894</td>\n",
       "      <td>1058.839106</td>\n",
       "      <td>-398.988239</td>\n",
       "      <td>949.645313</td>\n",
       "      <td>-399.277632</td>\n",
       "      <td>24.886905</td>\n",
       "      <td>-499.357375</td>\n",
       "      <td>14.979233</td>\n",
       "      <td>-500.186804</td>\n",
       "      <td>19.962364</td>\n",
       "      <td>-450.638828</td>\n",
       "      <td>14.009245</td>\n",
       "      <td>-450.022259</td>\n",
       "      <td>12.025367</td>\n",
       "      <td>-500.786497</td>\n",
       "      <td>8.054678</td>\n",
       "      <td>-500.397500</td>\n",
       "      <td>8.107890</td>\n",
       "      <td>-509.526725</td>\n",
       "      <td>4.957674</td>\n",
       "      <td>-500.360026</td>\n",
       "      <td>25.003331</td>\n",
       "      <td>-500.856333</td>\n",
       "    </tr>\n",
       "  </tbody>\n",
       "</table>\n",
       "</div>"
      ],
      "text/plain": [
       "                  date  primary_cleaner.input.sulfate  \\\n",
       "0  2016-09-01 00:59:59                     210.800909   \n",
       "1  2016-09-01 01:59:59                     215.392455   \n",
       "2  2016-09-01 02:59:59                     215.259946   \n",
       "3  2016-09-01 03:59:59                     215.336236   \n",
       "4  2016-09-01 04:59:59                     199.099327   \n",
       "\n",
       "   primary_cleaner.input.depressant  primary_cleaner.input.feed_size  \\\n",
       "0                         14.993118                         8.080000   \n",
       "1                         14.987471                         8.080000   \n",
       "2                         12.884934                         7.786667   \n",
       "3                         12.006805                         7.640000   \n",
       "4                         10.682530                         7.530000   \n",
       "\n",
       "   primary_cleaner.input.xanthate  primary_cleaner.state.floatbank8_a_air  \\\n",
       "0                        1.005021                             1398.981301   \n",
       "1                        0.990469                             1398.777912   \n",
       "2                        0.996043                             1398.493666   \n",
       "3                        0.863514                             1399.618111   \n",
       "4                        0.805575                             1401.268123   \n",
       "\n",
       "   primary_cleaner.state.floatbank8_a_level  \\\n",
       "0                               -500.225577   \n",
       "1                               -500.057435   \n",
       "2                               -500.868360   \n",
       "3                               -498.863574   \n",
       "4                               -500.808305   \n",
       "\n",
       "   primary_cleaner.state.floatbank8_b_air  \\\n",
       "0                             1399.144926   \n",
       "1                             1398.055362   \n",
       "2                             1398.860436   \n",
       "3                             1397.440120   \n",
       "4                             1398.128818   \n",
       "\n",
       "   primary_cleaner.state.floatbank8_b_level  \\\n",
       "0                               -499.919735   \n",
       "1                               -499.778182   \n",
       "2                               -499.764529   \n",
       "3                               -499.211024   \n",
       "4                               -499.504543   \n",
       "\n",
       "   primary_cleaner.state.floatbank8_c_air  \\\n",
       "0                             1400.102998   \n",
       "1                             1396.151033   \n",
       "2                             1398.075709   \n",
       "3                             1400.129303   \n",
       "4                             1402.172226   \n",
       "\n",
       "   primary_cleaner.state.floatbank8_c_level  \\\n",
       "0                               -500.704369   \n",
       "1                               -499.240168   \n",
       "2                               -502.151509   \n",
       "3                               -498.355873   \n",
       "4                               -500.810606   \n",
       "\n",
       "   primary_cleaner.state.floatbank8_d_air  \\\n",
       "0                             1399.001695   \n",
       "1                             1399.508091   \n",
       "2                             1399.497088   \n",
       "3                             1401.065165   \n",
       "4                             1399.480508   \n",
       "\n",
       "   primary_cleaner.state.floatbank8_d_level  rougher.input.feed_ag  \\\n",
       "0                               -499.485144              13.128569   \n",
       "1                               -500.416324              13.036280   \n",
       "2                               -499.715479              13.138412   \n",
       "3                               -501.038738              12.400507   \n",
       "4                               -499.374053              11.327427   \n",
       "\n",
       "   rougher.input.feed_pb  rougher.input.feed_rate  rougher.input.feed_size  \\\n",
       "0               5.636710               489.793655                62.710452   \n",
       "1               5.526065               490.104534                61.961163   \n",
       "2               5.426561               489.617969                66.903807   \n",
       "3               5.114758               476.618130                59.865919   \n",
       "4               4.767383               488.248117                63.315324   \n",
       "\n",
       "   rougher.input.feed_sol  rougher.input.feed_au  \\\n",
       "0               42.022440              12.084103   \n",
       "1               41.187903              11.918977   \n",
       "2               42.546294              12.091332   \n",
       "3               41.060195              12.181597   \n",
       "4               41.269161              11.290425   \n",
       "\n",
       "   rougher.input.floatbank10_sulfate  rougher.input.floatbank10_xanthate  \\\n",
       "0                          16.922877                            6.153479   \n",
       "1                          17.002532                            5.999043   \n",
       "2                          16.992520                            5.850632   \n",
       "3                          16.532144                            5.801935   \n",
       "4                          13.607257                            5.738081   \n",
       "\n",
       "   rougher.input.floatbank11_sulfate  rougher.input.floatbank11_xanthate  \\\n",
       "0                          16.867518                            6.150709   \n",
       "1                          16.996063                            6.002315   \n",
       "2                          16.982096                            5.853594   \n",
       "3                          16.515277                            5.803657   \n",
       "4                          13.650053                            5.739634   \n",
       "\n",
       "   rougher.state.floatbank10_a_air  rougher.state.floatbank10_a_level  \\\n",
       "0                      1001.849317                        -350.301265   \n",
       "1                       998.690785                        -350.425704   \n",
       "2                       998.516720                        -349.783538   \n",
       "3                      1000.276604                        -350.172597   \n",
       "4                       996.541302                        -350.562517   \n",
       "\n",
       "   rougher.state.floatbank10_b_air  rougher.state.floatbank10_b_level  \\\n",
       "0                      1249.738612                        -399.107531   \n",
       "1                      1248.395457                        -399.946025   \n",
       "2                      1247.440748                        -400.264330   \n",
       "3                      1251.322675                        -398.655289   \n",
       "4                      1304.658848                        -399.511519   \n",
       "\n",
       "   rougher.state.floatbank10_c_air  rougher.state.floatbank10_c_level  \\\n",
       "0                      1249.750520                        -399.396730   \n",
       "1                      1249.514451                        -399.630810   \n",
       "2                      1248.207204                        -401.074405   \n",
       "3                      1250.493702                        -399.746728   \n",
       "4                      1306.455515                        -399.050685   \n",
       "\n",
       "   rougher.state.floatbank10_d_air  rougher.state.floatbank10_d_level  \\\n",
       "0                      1198.287855                        -399.488594   \n",
       "1                      1200.506459                        -399.942434   \n",
       "2                      1199.770026                        -400.790582   \n",
       "3                      1199.398691                        -397.503052   \n",
       "4                      1248.699349                        -400.876894   \n",
       "\n",
       "   rougher.state.floatbank10_e_air  rougher.state.floatbank10_e_level  \\\n",
       "0                       999.472250                        -399.530962   \n",
       "1                      1000.002114                        -399.491528   \n",
       "2                       999.925519                        -399.236999   \n",
       "3                      1001.930679                        -400.437573   \n",
       "4                      1058.839106                        -398.988239   \n",
       "\n",
       "   rougher.state.floatbank10_f_air  rougher.state.floatbank10_f_level  \\\n",
       "0                       949.566189                        -398.180807   \n",
       "1                       950.200009                        -405.787514   \n",
       "2                       950.320481                        -400.864340   \n",
       "3                       950.735324                        -399.802986   \n",
       "4                       949.645313                        -399.277632   \n",
       "\n",
       "   secondary_cleaner.state.floatbank2_a_air  \\\n",
       "0                                 24.938200   \n",
       "1                                 24.923466   \n",
       "2                                 24.908732   \n",
       "3                                 24.893998   \n",
       "4                                 24.886905   \n",
       "\n",
       "   secondary_cleaner.state.floatbank2_a_level  \\\n",
       "0                                 -500.490963   \n",
       "1                                 -499.813963   \n",
       "2                                 -500.304035   \n",
       "3                                 -499.382374   \n",
       "4                                 -499.357375   \n",
       "\n",
       "   secondary_cleaner.state.floatbank2_b_air  \\\n",
       "0                                 14.947607   \n",
       "1                                 14.930873   \n",
       "2                                 14.996511   \n",
       "3                                 14.916674   \n",
       "4                                 14.979233   \n",
       "\n",
       "   secondary_cleaner.state.floatbank2_b_level  \\\n",
       "0                                 -500.013837   \n",
       "1                                 -500.764452   \n",
       "2                                 -500.993821   \n",
       "3                                 -499.862299   \n",
       "4                                 -500.186804   \n",
       "\n",
       "   secondary_cleaner.state.floatbank3_a_air  \\\n",
       "0                                 20.018166   \n",
       "1                                 19.988503   \n",
       "2                                 20.039689   \n",
       "3                                 20.031100   \n",
       "4                                 19.962364   \n",
       "\n",
       "   secondary_cleaner.state.floatbank3_a_level  \\\n",
       "0                                 -450.395995   \n",
       "1                                 -450.114024   \n",
       "2                                 -450.263164   \n",
       "3                                 -449.372570   \n",
       "4                                 -450.638828   \n",
       "\n",
       "   secondary_cleaner.state.floatbank3_b_air  \\\n",
       "0                                 13.987058   \n",
       "1                                 14.092981   \n",
       "2                                 14.077881   \n",
       "3                                 14.013968   \n",
       "4                                 14.009245   \n",
       "\n",
       "   secondary_cleaner.state.floatbank3_b_level  \\\n",
       "0                                 -449.831513   \n",
       "1                                 -450.059163   \n",
       "2                                 -449.660997   \n",
       "3                                 -449.526900   \n",
       "4                                 -450.022259   \n",
       "\n",
       "   secondary_cleaner.state.floatbank4_a_air  \\\n",
       "0                                 12.023554   \n",
       "1                                 12.058140   \n",
       "2                                 11.962366   \n",
       "3                                 12.033091   \n",
       "4                                 12.025367   \n",
       "\n",
       "   secondary_cleaner.state.floatbank4_a_level  \\\n",
       "0                                 -497.795834   \n",
       "1                                 -498.695773   \n",
       "2                                 -498.767484   \n",
       "3                                 -498.350935   \n",
       "4                                 -500.786497   \n",
       "\n",
       "   secondary_cleaner.state.floatbank4_b_air  \\\n",
       "0                                  8.016656   \n",
       "1                                  8.130979   \n",
       "2                                  8.096893   \n",
       "3                                  8.074946   \n",
       "4                                  8.054678   \n",
       "\n",
       "   secondary_cleaner.state.floatbank4_b_level  \\\n",
       "0                                 -501.289139   \n",
       "1                                 -499.634209   \n",
       "2                                 -500.827423   \n",
       "3                                 -499.474407   \n",
       "4                                 -500.397500   \n",
       "\n",
       "   secondary_cleaner.state.floatbank5_a_air  \\\n",
       "0                                  7.946562   \n",
       "1                                  7.958270   \n",
       "2                                  8.071056   \n",
       "3                                  7.897085   \n",
       "4                                  8.107890   \n",
       "\n",
       "   secondary_cleaner.state.floatbank5_a_level  \\\n",
       "0                                 -432.317850   \n",
       "1                                 -525.839648   \n",
       "2                                 -500.801673   \n",
       "3                                 -500.868509   \n",
       "4                                 -509.526725   \n",
       "\n",
       "   secondary_cleaner.state.floatbank5_b_air  \\\n",
       "0                                  4.872511   \n",
       "1                                  4.878850   \n",
       "2                                  4.905125   \n",
       "3                                  4.931400   \n",
       "4                                  4.957674   \n",
       "\n",
       "   secondary_cleaner.state.floatbank5_b_level  \\\n",
       "0                                 -500.037437   \n",
       "1                                 -500.162375   \n",
       "2                                 -499.828510   \n",
       "3                                 -499.963623   \n",
       "4                                 -500.360026   \n",
       "\n",
       "   secondary_cleaner.state.floatbank6_a_air  \\\n",
       "0                                 26.705889   \n",
       "1                                 25.019940   \n",
       "2                                 24.994862   \n",
       "3                                 24.948919   \n",
       "4                                 25.003331   \n",
       "\n",
       "   secondary_cleaner.state.floatbank6_a_level  \n",
       "0                                 -499.709414  \n",
       "1                                 -499.819438  \n",
       "2                                 -500.622559  \n",
       "3                                 -498.709987  \n",
       "4                                 -500.856333  "
      ]
     },
     "execution_count": 5,
     "metadata": {},
     "output_type": "execute_result"
    }
   ],
   "source": [
    "data_test.head()"
   ]
  },
  {
   "cell_type": "code",
   "execution_count": 6,
   "metadata": {
    "scrolled": false
   },
   "outputs": [
    {
     "data": {
      "text/html": [
       "<div>\n",
       "<style scoped>\n",
       "    .dataframe tbody tr th:only-of-type {\n",
       "        vertical-align: middle;\n",
       "    }\n",
       "\n",
       "    .dataframe tbody tr th {\n",
       "        vertical-align: top;\n",
       "    }\n",
       "\n",
       "    .dataframe thead th {\n",
       "        text-align: right;\n",
       "    }\n",
       "</style>\n",
       "<table border=\"1\" class=\"dataframe\">\n",
       "  <thead>\n",
       "    <tr style=\"text-align: right;\">\n",
       "      <th></th>\n",
       "      <th>date</th>\n",
       "      <th>final.output.concentrate_ag</th>\n",
       "      <th>final.output.concentrate_pb</th>\n",
       "      <th>final.output.concentrate_sol</th>\n",
       "      <th>final.output.concentrate_au</th>\n",
       "      <th>final.output.recovery</th>\n",
       "      <th>final.output.tail_ag</th>\n",
       "      <th>final.output.tail_pb</th>\n",
       "      <th>final.output.tail_sol</th>\n",
       "      <th>final.output.tail_au</th>\n",
       "      <th>primary_cleaner.input.sulfate</th>\n",
       "      <th>primary_cleaner.input.depressant</th>\n",
       "      <th>primary_cleaner.input.feed_size</th>\n",
       "      <th>primary_cleaner.input.xanthate</th>\n",
       "      <th>primary_cleaner.output.concentrate_ag</th>\n",
       "      <th>primary_cleaner.output.concentrate_pb</th>\n",
       "      <th>primary_cleaner.output.concentrate_sol</th>\n",
       "      <th>primary_cleaner.output.concentrate_au</th>\n",
       "      <th>primary_cleaner.output.tail_ag</th>\n",
       "      <th>primary_cleaner.output.tail_pb</th>\n",
       "      <th>primary_cleaner.output.tail_sol</th>\n",
       "      <th>primary_cleaner.output.tail_au</th>\n",
       "      <th>primary_cleaner.state.floatbank8_a_air</th>\n",
       "      <th>primary_cleaner.state.floatbank8_a_level</th>\n",
       "      <th>primary_cleaner.state.floatbank8_b_air</th>\n",
       "      <th>primary_cleaner.state.floatbank8_b_level</th>\n",
       "      <th>primary_cleaner.state.floatbank8_c_air</th>\n",
       "      <th>primary_cleaner.state.floatbank8_c_level</th>\n",
       "      <th>primary_cleaner.state.floatbank8_d_air</th>\n",
       "      <th>primary_cleaner.state.floatbank8_d_level</th>\n",
       "      <th>rougher.calculation.sulfate_to_au_concentrate</th>\n",
       "      <th>rougher.calculation.floatbank10_sulfate_to_au_feed</th>\n",
       "      <th>rougher.calculation.floatbank11_sulfate_to_au_feed</th>\n",
       "      <th>rougher.calculation.au_pb_ratio</th>\n",
       "      <th>rougher.input.feed_ag</th>\n",
       "      <th>rougher.input.feed_pb</th>\n",
       "      <th>rougher.input.feed_rate</th>\n",
       "      <th>rougher.input.feed_size</th>\n",
       "      <th>rougher.input.feed_sol</th>\n",
       "      <th>rougher.input.feed_au</th>\n",
       "      <th>rougher.input.floatbank10_sulfate</th>\n",
       "      <th>rougher.input.floatbank10_xanthate</th>\n",
       "      <th>rougher.input.floatbank11_sulfate</th>\n",
       "      <th>rougher.input.floatbank11_xanthate</th>\n",
       "      <th>rougher.output.concentrate_ag</th>\n",
       "      <th>rougher.output.concentrate_pb</th>\n",
       "      <th>rougher.output.concentrate_sol</th>\n",
       "      <th>rougher.output.concentrate_au</th>\n",
       "      <th>rougher.output.recovery</th>\n",
       "      <th>rougher.output.tail_ag</th>\n",
       "      <th>rougher.output.tail_pb</th>\n",
       "      <th>rougher.output.tail_sol</th>\n",
       "      <th>rougher.output.tail_au</th>\n",
       "      <th>rougher.state.floatbank10_a_air</th>\n",
       "      <th>rougher.state.floatbank10_a_level</th>\n",
       "      <th>rougher.state.floatbank10_b_air</th>\n",
       "      <th>rougher.state.floatbank10_b_level</th>\n",
       "      <th>rougher.state.floatbank10_c_air</th>\n",
       "      <th>rougher.state.floatbank10_c_level</th>\n",
       "      <th>rougher.state.floatbank10_d_air</th>\n",
       "      <th>rougher.state.floatbank10_d_level</th>\n",
       "      <th>rougher.state.floatbank10_e_air</th>\n",
       "      <th>rougher.state.floatbank10_e_level</th>\n",
       "      <th>rougher.state.floatbank10_f_air</th>\n",
       "      <th>rougher.state.floatbank10_f_level</th>\n",
       "      <th>secondary_cleaner.output.tail_ag</th>\n",
       "      <th>secondary_cleaner.output.tail_pb</th>\n",
       "      <th>secondary_cleaner.output.tail_sol</th>\n",
       "      <th>secondary_cleaner.output.tail_au</th>\n",
       "      <th>secondary_cleaner.state.floatbank2_a_air</th>\n",
       "      <th>secondary_cleaner.state.floatbank2_a_level</th>\n",
       "      <th>secondary_cleaner.state.floatbank2_b_air</th>\n",
       "      <th>secondary_cleaner.state.floatbank2_b_level</th>\n",
       "      <th>secondary_cleaner.state.floatbank3_a_air</th>\n",
       "      <th>secondary_cleaner.state.floatbank3_a_level</th>\n",
       "      <th>secondary_cleaner.state.floatbank3_b_air</th>\n",
       "      <th>secondary_cleaner.state.floatbank3_b_level</th>\n",
       "      <th>secondary_cleaner.state.floatbank4_a_air</th>\n",
       "      <th>secondary_cleaner.state.floatbank4_a_level</th>\n",
       "      <th>secondary_cleaner.state.floatbank4_b_air</th>\n",
       "      <th>secondary_cleaner.state.floatbank4_b_level</th>\n",
       "      <th>secondary_cleaner.state.floatbank5_a_air</th>\n",
       "      <th>secondary_cleaner.state.floatbank5_a_level</th>\n",
       "      <th>secondary_cleaner.state.floatbank5_b_air</th>\n",
       "      <th>secondary_cleaner.state.floatbank5_b_level</th>\n",
       "      <th>secondary_cleaner.state.floatbank6_a_air</th>\n",
       "      <th>secondary_cleaner.state.floatbank6_a_level</th>\n",
       "    </tr>\n",
       "  </thead>\n",
       "  <tbody>\n",
       "    <tr>\n",
       "      <td>0</td>\n",
       "      <td>2016-01-15 00:00:00</td>\n",
       "      <td>6.055403</td>\n",
       "      <td>9.889648</td>\n",
       "      <td>5.507324</td>\n",
       "      <td>42.192020</td>\n",
       "      <td>70.541216</td>\n",
       "      <td>10.411962</td>\n",
       "      <td>0.895447</td>\n",
       "      <td>16.904297</td>\n",
       "      <td>2.143149</td>\n",
       "      <td>127.092003</td>\n",
       "      <td>10.128295</td>\n",
       "      <td>7.25</td>\n",
       "      <td>0.988759</td>\n",
       "      <td>8.547551</td>\n",
       "      <td>10.389648</td>\n",
       "      <td>19.529297</td>\n",
       "      <td>34.174427</td>\n",
       "      <td>14.936526</td>\n",
       "      <td>2.534912</td>\n",
       "      <td>7.476074</td>\n",
       "      <td>2.106679</td>\n",
       "      <td>1549.775757</td>\n",
       "      <td>-498.912140</td>\n",
       "      <td>1551.434204</td>\n",
       "      <td>-516.403442</td>\n",
       "      <td>1549.873901</td>\n",
       "      <td>-498.666595</td>\n",
       "      <td>1554.367432</td>\n",
       "      <td>-493.428131</td>\n",
       "      <td>41885.707031</td>\n",
       "      <td>3481.779053</td>\n",
       "      <td>3520.337158</td>\n",
       "      <td>2.838687</td>\n",
       "      <td>6.100378</td>\n",
       "      <td>2.284912</td>\n",
       "      <td>523.546326</td>\n",
       "      <td>55.486599</td>\n",
       "      <td>36.808594</td>\n",
       "      <td>6.486150</td>\n",
       "      <td>11.986616</td>\n",
       "      <td>6.007990</td>\n",
       "      <td>11.836743</td>\n",
       "      <td>6.005818</td>\n",
       "      <td>11.500771</td>\n",
       "      <td>7.101074</td>\n",
       "      <td>28.029297</td>\n",
       "      <td>19.793808</td>\n",
       "      <td>87.107763</td>\n",
       "      <td>5.008018</td>\n",
       "      <td>0.508728</td>\n",
       "      <td>19.154297</td>\n",
       "      <td>1.170244</td>\n",
       "      <td>999.706909</td>\n",
       "      <td>-404.066986</td>\n",
       "      <td>1603.011353</td>\n",
       "      <td>-434.715027</td>\n",
       "      <td>1602.375000</td>\n",
       "      <td>-442.204468</td>\n",
       "      <td>1598.937256</td>\n",
       "      <td>-451.294128</td>\n",
       "      <td>1404.472046</td>\n",
       "      <td>-455.462982</td>\n",
       "      <td>1416.354980</td>\n",
       "      <td>-451.939636</td>\n",
       "      <td>14.500184</td>\n",
       "      <td>4.694824</td>\n",
       "      <td>8.764648</td>\n",
       "      <td>2.606185</td>\n",
       "      <td>25.853109</td>\n",
       "      <td>-498.526489</td>\n",
       "      <td>23.893660</td>\n",
       "      <td>-501.406281</td>\n",
       "      <td>23.961798</td>\n",
       "      <td>-495.262817</td>\n",
       "      <td>21.940409</td>\n",
       "      <td>-499.340973</td>\n",
       "      <td>14.016835</td>\n",
       "      <td>-502.488007</td>\n",
       "      <td>12.099931</td>\n",
       "      <td>-504.715942</td>\n",
       "      <td>9.925633</td>\n",
       "      <td>-498.310211</td>\n",
       "      <td>8.079666</td>\n",
       "      <td>-500.470978</td>\n",
       "      <td>14.151341</td>\n",
       "      <td>-605.841980</td>\n",
       "    </tr>\n",
       "    <tr>\n",
       "      <td>1</td>\n",
       "      <td>2016-01-15 01:00:00</td>\n",
       "      <td>6.029369</td>\n",
       "      <td>9.968944</td>\n",
       "      <td>5.257781</td>\n",
       "      <td>42.701629</td>\n",
       "      <td>69.266198</td>\n",
       "      <td>10.462676</td>\n",
       "      <td>0.927452</td>\n",
       "      <td>16.634514</td>\n",
       "      <td>2.224930</td>\n",
       "      <td>125.629232</td>\n",
       "      <td>10.296251</td>\n",
       "      <td>7.25</td>\n",
       "      <td>1.002663</td>\n",
       "      <td>8.558743</td>\n",
       "      <td>10.497069</td>\n",
       "      <td>19.369147</td>\n",
       "      <td>34.118526</td>\n",
       "      <td>16.250511</td>\n",
       "      <td>3.049646</td>\n",
       "      <td>6.733907</td>\n",
       "      <td>2.353017</td>\n",
       "      <td>1576.166671</td>\n",
       "      <td>-500.904965</td>\n",
       "      <td>1575.950626</td>\n",
       "      <td>-499.865889</td>\n",
       "      <td>1575.994189</td>\n",
       "      <td>-499.315107</td>\n",
       "      <td>1574.479259</td>\n",
       "      <td>-498.931665</td>\n",
       "      <td>42050.861809</td>\n",
       "      <td>3498.370979</td>\n",
       "      <td>3489.981857</td>\n",
       "      <td>2.858998</td>\n",
       "      <td>6.161113</td>\n",
       "      <td>2.266033</td>\n",
       "      <td>525.290581</td>\n",
       "      <td>57.278666</td>\n",
       "      <td>35.753385</td>\n",
       "      <td>6.478583</td>\n",
       "      <td>11.971193</td>\n",
       "      <td>6.005766</td>\n",
       "      <td>11.996163</td>\n",
       "      <td>6.012594</td>\n",
       "      <td>11.615865</td>\n",
       "      <td>7.278807</td>\n",
       "      <td>28.067063</td>\n",
       "      <td>20.050975</td>\n",
       "      <td>86.843261</td>\n",
       "      <td>4.955378</td>\n",
       "      <td>0.536689</td>\n",
       "      <td>18.965234</td>\n",
       "      <td>1.184827</td>\n",
       "      <td>1000.286398</td>\n",
       "      <td>-400.065196</td>\n",
       "      <td>1600.754587</td>\n",
       "      <td>-449.953435</td>\n",
       "      <td>1600.479580</td>\n",
       "      <td>-449.830646</td>\n",
       "      <td>1600.527589</td>\n",
       "      <td>-449.953649</td>\n",
       "      <td>1399.227084</td>\n",
       "      <td>-450.869848</td>\n",
       "      <td>1399.719514</td>\n",
       "      <td>-450.119001</td>\n",
       "      <td>14.265474</td>\n",
       "      <td>4.592547</td>\n",
       "      <td>9.001494</td>\n",
       "      <td>2.488248</td>\n",
       "      <td>25.880539</td>\n",
       "      <td>-499.989656</td>\n",
       "      <td>23.889530</td>\n",
       "      <td>-500.372428</td>\n",
       "      <td>23.970550</td>\n",
       "      <td>-500.085473</td>\n",
       "      <td>22.085714</td>\n",
       "      <td>-499.446897</td>\n",
       "      <td>13.992281</td>\n",
       "      <td>-505.503262</td>\n",
       "      <td>11.950531</td>\n",
       "      <td>-501.331529</td>\n",
       "      <td>10.039245</td>\n",
       "      <td>-500.169983</td>\n",
       "      <td>7.984757</td>\n",
       "      <td>-500.582168</td>\n",
       "      <td>13.998353</td>\n",
       "      <td>-599.787184</td>\n",
       "    </tr>\n",
       "    <tr>\n",
       "      <td>2</td>\n",
       "      <td>2016-01-15 02:00:00</td>\n",
       "      <td>6.055926</td>\n",
       "      <td>10.213995</td>\n",
       "      <td>5.383759</td>\n",
       "      <td>42.657501</td>\n",
       "      <td>68.116445</td>\n",
       "      <td>10.507046</td>\n",
       "      <td>0.953716</td>\n",
       "      <td>16.208849</td>\n",
       "      <td>2.257889</td>\n",
       "      <td>123.819808</td>\n",
       "      <td>11.316280</td>\n",
       "      <td>7.25</td>\n",
       "      <td>0.991265</td>\n",
       "      <td>8.603505</td>\n",
       "      <td>10.354494</td>\n",
       "      <td>19.167579</td>\n",
       "      <td>33.969464</td>\n",
       "      <td>16.491823</td>\n",
       "      <td>3.124664</td>\n",
       "      <td>6.471768</td>\n",
       "      <td>2.416800</td>\n",
       "      <td>1601.556163</td>\n",
       "      <td>-499.997791</td>\n",
       "      <td>1600.386685</td>\n",
       "      <td>-500.607762</td>\n",
       "      <td>1602.003542</td>\n",
       "      <td>-500.870069</td>\n",
       "      <td>1599.541515</td>\n",
       "      <td>-499.827444</td>\n",
       "      <td>42018.101184</td>\n",
       "      <td>3495.348910</td>\n",
       "      <td>3502.359819</td>\n",
       "      <td>2.945989</td>\n",
       "      <td>6.116455</td>\n",
       "      <td>2.159622</td>\n",
       "      <td>530.026610</td>\n",
       "      <td>57.510649</td>\n",
       "      <td>35.971630</td>\n",
       "      <td>6.362222</td>\n",
       "      <td>11.920603</td>\n",
       "      <td>6.197377</td>\n",
       "      <td>11.920305</td>\n",
       "      <td>6.204633</td>\n",
       "      <td>11.695753</td>\n",
       "      <td>7.216833</td>\n",
       "      <td>27.454037</td>\n",
       "      <td>19.737170</td>\n",
       "      <td>86.842308</td>\n",
       "      <td>4.843460</td>\n",
       "      <td>0.546416</td>\n",
       "      <td>18.808533</td>\n",
       "      <td>1.162562</td>\n",
       "      <td>999.719565</td>\n",
       "      <td>-400.074028</td>\n",
       "      <td>1599.337330</td>\n",
       "      <td>-450.008530</td>\n",
       "      <td>1599.672797</td>\n",
       "      <td>-449.954491</td>\n",
       "      <td>1599.849325</td>\n",
       "      <td>-449.954185</td>\n",
       "      <td>1399.180945</td>\n",
       "      <td>-449.937588</td>\n",
       "      <td>1400.316682</td>\n",
       "      <td>-450.527147</td>\n",
       "      <td>14.115662</td>\n",
       "      <td>4.624775</td>\n",
       "      <td>8.842896</td>\n",
       "      <td>2.458187</td>\n",
       "      <td>26.005245</td>\n",
       "      <td>-499.929616</td>\n",
       "      <td>23.886657</td>\n",
       "      <td>-499.951928</td>\n",
       "      <td>23.913535</td>\n",
       "      <td>-499.442343</td>\n",
       "      <td>23.957717</td>\n",
       "      <td>-499.901982</td>\n",
       "      <td>14.015015</td>\n",
       "      <td>-502.520901</td>\n",
       "      <td>11.912783</td>\n",
       "      <td>-501.133383</td>\n",
       "      <td>10.070913</td>\n",
       "      <td>-500.129135</td>\n",
       "      <td>8.013877</td>\n",
       "      <td>-500.517572</td>\n",
       "      <td>14.028663</td>\n",
       "      <td>-601.427363</td>\n",
       "    </tr>\n",
       "    <tr>\n",
       "      <td>3</td>\n",
       "      <td>2016-01-15 03:00:00</td>\n",
       "      <td>6.047977</td>\n",
       "      <td>9.977019</td>\n",
       "      <td>4.858634</td>\n",
       "      <td>42.689819</td>\n",
       "      <td>68.347543</td>\n",
       "      <td>10.422762</td>\n",
       "      <td>0.883763</td>\n",
       "      <td>16.532835</td>\n",
       "      <td>2.146849</td>\n",
       "      <td>122.270188</td>\n",
       "      <td>11.322140</td>\n",
       "      <td>7.25</td>\n",
       "      <td>0.996739</td>\n",
       "      <td>7.221879</td>\n",
       "      <td>8.496563</td>\n",
       "      <td>15.978538</td>\n",
       "      <td>28.260743</td>\n",
       "      <td>16.024359</td>\n",
       "      <td>2.960362</td>\n",
       "      <td>6.843791</td>\n",
       "      <td>2.262051</td>\n",
       "      <td>1599.968720</td>\n",
       "      <td>-500.951778</td>\n",
       "      <td>1600.659236</td>\n",
       "      <td>-499.677094</td>\n",
       "      <td>1600.304144</td>\n",
       "      <td>-500.727997</td>\n",
       "      <td>1600.449520</td>\n",
       "      <td>-500.052575</td>\n",
       "      <td>42029.447991</td>\n",
       "      <td>3498.578313</td>\n",
       "      <td>3499.162912</td>\n",
       "      <td>3.002340</td>\n",
       "      <td>6.043309</td>\n",
       "      <td>2.037807</td>\n",
       "      <td>542.590390</td>\n",
       "      <td>57.792734</td>\n",
       "      <td>36.862241</td>\n",
       "      <td>6.118189</td>\n",
       "      <td>11.630094</td>\n",
       "      <td>6.203177</td>\n",
       "      <td>11.692450</td>\n",
       "      <td>6.196578</td>\n",
       "      <td>11.915047</td>\n",
       "      <td>7.175616</td>\n",
       "      <td>27.341277</td>\n",
       "      <td>19.320810</td>\n",
       "      <td>87.226430</td>\n",
       "      <td>4.655288</td>\n",
       "      <td>0.542525</td>\n",
       "      <td>19.330200</td>\n",
       "      <td>1.079755</td>\n",
       "      <td>999.814770</td>\n",
       "      <td>-400.200179</td>\n",
       "      <td>1600.059442</td>\n",
       "      <td>-450.619948</td>\n",
       "      <td>1600.012842</td>\n",
       "      <td>-449.910497</td>\n",
       "      <td>1597.725177</td>\n",
       "      <td>-450.130127</td>\n",
       "      <td>1400.943157</td>\n",
       "      <td>-450.030142</td>\n",
       "      <td>1400.234743</td>\n",
       "      <td>-449.790835</td>\n",
       "      <td>13.732071</td>\n",
       "      <td>4.482453</td>\n",
       "      <td>9.122857</td>\n",
       "      <td>2.322062</td>\n",
       "      <td>25.942508</td>\n",
       "      <td>-499.176749</td>\n",
       "      <td>23.955516</td>\n",
       "      <td>-499.848796</td>\n",
       "      <td>23.966838</td>\n",
       "      <td>-500.008812</td>\n",
       "      <td>23.954443</td>\n",
       "      <td>-499.944710</td>\n",
       "      <td>14.036510</td>\n",
       "      <td>-500.857308</td>\n",
       "      <td>11.999550</td>\n",
       "      <td>-501.193686</td>\n",
       "      <td>9.970366</td>\n",
       "      <td>-499.201640</td>\n",
       "      <td>7.977324</td>\n",
       "      <td>-500.255908</td>\n",
       "      <td>14.005551</td>\n",
       "      <td>-599.996129</td>\n",
       "    </tr>\n",
       "    <tr>\n",
       "      <td>4</td>\n",
       "      <td>2016-01-15 04:00:00</td>\n",
       "      <td>6.148599</td>\n",
       "      <td>10.142511</td>\n",
       "      <td>4.939416</td>\n",
       "      <td>42.774141</td>\n",
       "      <td>66.927016</td>\n",
       "      <td>10.360302</td>\n",
       "      <td>0.792826</td>\n",
       "      <td>16.525686</td>\n",
       "      <td>2.055292</td>\n",
       "      <td>117.988169</td>\n",
       "      <td>11.913613</td>\n",
       "      <td>7.25</td>\n",
       "      <td>1.009869</td>\n",
       "      <td>9.089428</td>\n",
       "      <td>9.986786</td>\n",
       "      <td>19.199864</td>\n",
       "      <td>33.044932</td>\n",
       "      <td>16.480185</td>\n",
       "      <td>3.112100</td>\n",
       "      <td>6.550154</td>\n",
       "      <td>2.277073</td>\n",
       "      <td>1601.339707</td>\n",
       "      <td>-498.975456</td>\n",
       "      <td>1601.437854</td>\n",
       "      <td>-500.323246</td>\n",
       "      <td>1599.581894</td>\n",
       "      <td>-500.888152</td>\n",
       "      <td>1602.649541</td>\n",
       "      <td>-500.593010</td>\n",
       "      <td>42125.354245</td>\n",
       "      <td>3494.800771</td>\n",
       "      <td>3506.679315</td>\n",
       "      <td>3.169615</td>\n",
       "      <td>6.060915</td>\n",
       "      <td>1.786875</td>\n",
       "      <td>540.531893</td>\n",
       "      <td>56.047189</td>\n",
       "      <td>34.347666</td>\n",
       "      <td>5.663707</td>\n",
       "      <td>10.957755</td>\n",
       "      <td>6.198826</td>\n",
       "      <td>10.960521</td>\n",
       "      <td>6.194897</td>\n",
       "      <td>12.411054</td>\n",
       "      <td>7.240205</td>\n",
       "      <td>27.041023</td>\n",
       "      <td>19.216101</td>\n",
       "      <td>86.688794</td>\n",
       "      <td>4.552800</td>\n",
       "      <td>0.515438</td>\n",
       "      <td>19.267422</td>\n",
       "      <td>1.012642</td>\n",
       "      <td>999.678690</td>\n",
       "      <td>-399.752729</td>\n",
       "      <td>1600.208824</td>\n",
       "      <td>-449.599614</td>\n",
       "      <td>1600.357732</td>\n",
       "      <td>-450.034364</td>\n",
       "      <td>1599.759049</td>\n",
       "      <td>-449.909799</td>\n",
       "      <td>1401.560902</td>\n",
       "      <td>-448.877187</td>\n",
       "      <td>1401.160227</td>\n",
       "      <td>-450.407128</td>\n",
       "      <td>14.079996</td>\n",
       "      <td>4.470737</td>\n",
       "      <td>8.871028</td>\n",
       "      <td>2.330448</td>\n",
       "      <td>26.024787</td>\n",
       "      <td>-500.279091</td>\n",
       "      <td>23.955345</td>\n",
       "      <td>-500.593614</td>\n",
       "      <td>23.985703</td>\n",
       "      <td>-500.083811</td>\n",
       "      <td>23.958945</td>\n",
       "      <td>-499.990309</td>\n",
       "      <td>14.027298</td>\n",
       "      <td>-499.838632</td>\n",
       "      <td>11.953070</td>\n",
       "      <td>-501.053894</td>\n",
       "      <td>9.925709</td>\n",
       "      <td>-501.686727</td>\n",
       "      <td>7.894242</td>\n",
       "      <td>-500.356035</td>\n",
       "      <td>13.996647</td>\n",
       "      <td>-601.496691</td>\n",
       "    </tr>\n",
       "  </tbody>\n",
       "</table>\n",
       "</div>"
      ],
      "text/plain": [
       "                  date  final.output.concentrate_ag  \\\n",
       "0  2016-01-15 00:00:00                     6.055403   \n",
       "1  2016-01-15 01:00:00                     6.029369   \n",
       "2  2016-01-15 02:00:00                     6.055926   \n",
       "3  2016-01-15 03:00:00                     6.047977   \n",
       "4  2016-01-15 04:00:00                     6.148599   \n",
       "\n",
       "   final.output.concentrate_pb  final.output.concentrate_sol  \\\n",
       "0                     9.889648                      5.507324   \n",
       "1                     9.968944                      5.257781   \n",
       "2                    10.213995                      5.383759   \n",
       "3                     9.977019                      4.858634   \n",
       "4                    10.142511                      4.939416   \n",
       "\n",
       "   final.output.concentrate_au  final.output.recovery  final.output.tail_ag  \\\n",
       "0                    42.192020              70.541216             10.411962   \n",
       "1                    42.701629              69.266198             10.462676   \n",
       "2                    42.657501              68.116445             10.507046   \n",
       "3                    42.689819              68.347543             10.422762   \n",
       "4                    42.774141              66.927016             10.360302   \n",
       "\n",
       "   final.output.tail_pb  final.output.tail_sol  final.output.tail_au  \\\n",
       "0              0.895447              16.904297              2.143149   \n",
       "1              0.927452              16.634514              2.224930   \n",
       "2              0.953716              16.208849              2.257889   \n",
       "3              0.883763              16.532835              2.146849   \n",
       "4              0.792826              16.525686              2.055292   \n",
       "\n",
       "   primary_cleaner.input.sulfate  primary_cleaner.input.depressant  \\\n",
       "0                     127.092003                         10.128295   \n",
       "1                     125.629232                         10.296251   \n",
       "2                     123.819808                         11.316280   \n",
       "3                     122.270188                         11.322140   \n",
       "4                     117.988169                         11.913613   \n",
       "\n",
       "   primary_cleaner.input.feed_size  primary_cleaner.input.xanthate  \\\n",
       "0                             7.25                        0.988759   \n",
       "1                             7.25                        1.002663   \n",
       "2                             7.25                        0.991265   \n",
       "3                             7.25                        0.996739   \n",
       "4                             7.25                        1.009869   \n",
       "\n",
       "   primary_cleaner.output.concentrate_ag  \\\n",
       "0                               8.547551   \n",
       "1                               8.558743   \n",
       "2                               8.603505   \n",
       "3                               7.221879   \n",
       "4                               9.089428   \n",
       "\n",
       "   primary_cleaner.output.concentrate_pb  \\\n",
       "0                              10.389648   \n",
       "1                              10.497069   \n",
       "2                              10.354494   \n",
       "3                               8.496563   \n",
       "4                               9.986786   \n",
       "\n",
       "   primary_cleaner.output.concentrate_sol  \\\n",
       "0                               19.529297   \n",
       "1                               19.369147   \n",
       "2                               19.167579   \n",
       "3                               15.978538   \n",
       "4                               19.199864   \n",
       "\n",
       "   primary_cleaner.output.concentrate_au  primary_cleaner.output.tail_ag  \\\n",
       "0                              34.174427                       14.936526   \n",
       "1                              34.118526                       16.250511   \n",
       "2                              33.969464                       16.491823   \n",
       "3                              28.260743                       16.024359   \n",
       "4                              33.044932                       16.480185   \n",
       "\n",
       "   primary_cleaner.output.tail_pb  primary_cleaner.output.tail_sol  \\\n",
       "0                        2.534912                         7.476074   \n",
       "1                        3.049646                         6.733907   \n",
       "2                        3.124664                         6.471768   \n",
       "3                        2.960362                         6.843791   \n",
       "4                        3.112100                         6.550154   \n",
       "\n",
       "   primary_cleaner.output.tail_au  primary_cleaner.state.floatbank8_a_air  \\\n",
       "0                        2.106679                             1549.775757   \n",
       "1                        2.353017                             1576.166671   \n",
       "2                        2.416800                             1601.556163   \n",
       "3                        2.262051                             1599.968720   \n",
       "4                        2.277073                             1601.339707   \n",
       "\n",
       "   primary_cleaner.state.floatbank8_a_level  \\\n",
       "0                               -498.912140   \n",
       "1                               -500.904965   \n",
       "2                               -499.997791   \n",
       "3                               -500.951778   \n",
       "4                               -498.975456   \n",
       "\n",
       "   primary_cleaner.state.floatbank8_b_air  \\\n",
       "0                             1551.434204   \n",
       "1                             1575.950626   \n",
       "2                             1600.386685   \n",
       "3                             1600.659236   \n",
       "4                             1601.437854   \n",
       "\n",
       "   primary_cleaner.state.floatbank8_b_level  \\\n",
       "0                               -516.403442   \n",
       "1                               -499.865889   \n",
       "2                               -500.607762   \n",
       "3                               -499.677094   \n",
       "4                               -500.323246   \n",
       "\n",
       "   primary_cleaner.state.floatbank8_c_air  \\\n",
       "0                             1549.873901   \n",
       "1                             1575.994189   \n",
       "2                             1602.003542   \n",
       "3                             1600.304144   \n",
       "4                             1599.581894   \n",
       "\n",
       "   primary_cleaner.state.floatbank8_c_level  \\\n",
       "0                               -498.666595   \n",
       "1                               -499.315107   \n",
       "2                               -500.870069   \n",
       "3                               -500.727997   \n",
       "4                               -500.888152   \n",
       "\n",
       "   primary_cleaner.state.floatbank8_d_air  \\\n",
       "0                             1554.367432   \n",
       "1                             1574.479259   \n",
       "2                             1599.541515   \n",
       "3                             1600.449520   \n",
       "4                             1602.649541   \n",
       "\n",
       "   primary_cleaner.state.floatbank8_d_level  \\\n",
       "0                               -493.428131   \n",
       "1                               -498.931665   \n",
       "2                               -499.827444   \n",
       "3                               -500.052575   \n",
       "4                               -500.593010   \n",
       "\n",
       "   rougher.calculation.sulfate_to_au_concentrate  \\\n",
       "0                                   41885.707031   \n",
       "1                                   42050.861809   \n",
       "2                                   42018.101184   \n",
       "3                                   42029.447991   \n",
       "4                                   42125.354245   \n",
       "\n",
       "   rougher.calculation.floatbank10_sulfate_to_au_feed  \\\n",
       "0                                        3481.779053    \n",
       "1                                        3498.370979    \n",
       "2                                        3495.348910    \n",
       "3                                        3498.578313    \n",
       "4                                        3494.800771    \n",
       "\n",
       "   rougher.calculation.floatbank11_sulfate_to_au_feed  \\\n",
       "0                                        3520.337158    \n",
       "1                                        3489.981857    \n",
       "2                                        3502.359819    \n",
       "3                                        3499.162912    \n",
       "4                                        3506.679315    \n",
       "\n",
       "   rougher.calculation.au_pb_ratio  rougher.input.feed_ag  \\\n",
       "0                         2.838687               6.100378   \n",
       "1                         2.858998               6.161113   \n",
       "2                         2.945989               6.116455   \n",
       "3                         3.002340               6.043309   \n",
       "4                         3.169615               6.060915   \n",
       "\n",
       "   rougher.input.feed_pb  rougher.input.feed_rate  rougher.input.feed_size  \\\n",
       "0               2.284912               523.546326                55.486599   \n",
       "1               2.266033               525.290581                57.278666   \n",
       "2               2.159622               530.026610                57.510649   \n",
       "3               2.037807               542.590390                57.792734   \n",
       "4               1.786875               540.531893                56.047189   \n",
       "\n",
       "   rougher.input.feed_sol  rougher.input.feed_au  \\\n",
       "0               36.808594               6.486150   \n",
       "1               35.753385               6.478583   \n",
       "2               35.971630               6.362222   \n",
       "3               36.862241               6.118189   \n",
       "4               34.347666               5.663707   \n",
       "\n",
       "   rougher.input.floatbank10_sulfate  rougher.input.floatbank10_xanthate  \\\n",
       "0                          11.986616                            6.007990   \n",
       "1                          11.971193                            6.005766   \n",
       "2                          11.920603                            6.197377   \n",
       "3                          11.630094                            6.203177   \n",
       "4                          10.957755                            6.198826   \n",
       "\n",
       "   rougher.input.floatbank11_sulfate  rougher.input.floatbank11_xanthate  \\\n",
       "0                          11.836743                            6.005818   \n",
       "1                          11.996163                            6.012594   \n",
       "2                          11.920305                            6.204633   \n",
       "3                          11.692450                            6.196578   \n",
       "4                          10.960521                            6.194897   \n",
       "\n",
       "   rougher.output.concentrate_ag  rougher.output.concentrate_pb  \\\n",
       "0                      11.500771                       7.101074   \n",
       "1                      11.615865                       7.278807   \n",
       "2                      11.695753                       7.216833   \n",
       "3                      11.915047                       7.175616   \n",
       "4                      12.411054                       7.240205   \n",
       "\n",
       "   rougher.output.concentrate_sol  rougher.output.concentrate_au  \\\n",
       "0                       28.029297                      19.793808   \n",
       "1                       28.067063                      20.050975   \n",
       "2                       27.454037                      19.737170   \n",
       "3                       27.341277                      19.320810   \n",
       "4                       27.041023                      19.216101   \n",
       "\n",
       "   rougher.output.recovery  rougher.output.tail_ag  rougher.output.tail_pb  \\\n",
       "0                87.107763                5.008018                0.508728   \n",
       "1                86.843261                4.955378                0.536689   \n",
       "2                86.842308                4.843460                0.546416   \n",
       "3                87.226430                4.655288                0.542525   \n",
       "4                86.688794                4.552800                0.515438   \n",
       "\n",
       "   rougher.output.tail_sol  rougher.output.tail_au  \\\n",
       "0                19.154297                1.170244   \n",
       "1                18.965234                1.184827   \n",
       "2                18.808533                1.162562   \n",
       "3                19.330200                1.079755   \n",
       "4                19.267422                1.012642   \n",
       "\n",
       "   rougher.state.floatbank10_a_air  rougher.state.floatbank10_a_level  \\\n",
       "0                       999.706909                        -404.066986   \n",
       "1                      1000.286398                        -400.065196   \n",
       "2                       999.719565                        -400.074028   \n",
       "3                       999.814770                        -400.200179   \n",
       "4                       999.678690                        -399.752729   \n",
       "\n",
       "   rougher.state.floatbank10_b_air  rougher.state.floatbank10_b_level  \\\n",
       "0                      1603.011353                        -434.715027   \n",
       "1                      1600.754587                        -449.953435   \n",
       "2                      1599.337330                        -450.008530   \n",
       "3                      1600.059442                        -450.619948   \n",
       "4                      1600.208824                        -449.599614   \n",
       "\n",
       "   rougher.state.floatbank10_c_air  rougher.state.floatbank10_c_level  \\\n",
       "0                      1602.375000                        -442.204468   \n",
       "1                      1600.479580                        -449.830646   \n",
       "2                      1599.672797                        -449.954491   \n",
       "3                      1600.012842                        -449.910497   \n",
       "4                      1600.357732                        -450.034364   \n",
       "\n",
       "   rougher.state.floatbank10_d_air  rougher.state.floatbank10_d_level  \\\n",
       "0                      1598.937256                        -451.294128   \n",
       "1                      1600.527589                        -449.953649   \n",
       "2                      1599.849325                        -449.954185   \n",
       "3                      1597.725177                        -450.130127   \n",
       "4                      1599.759049                        -449.909799   \n",
       "\n",
       "   rougher.state.floatbank10_e_air  rougher.state.floatbank10_e_level  \\\n",
       "0                      1404.472046                        -455.462982   \n",
       "1                      1399.227084                        -450.869848   \n",
       "2                      1399.180945                        -449.937588   \n",
       "3                      1400.943157                        -450.030142   \n",
       "4                      1401.560902                        -448.877187   \n",
       "\n",
       "   rougher.state.floatbank10_f_air  rougher.state.floatbank10_f_level  \\\n",
       "0                      1416.354980                        -451.939636   \n",
       "1                      1399.719514                        -450.119001   \n",
       "2                      1400.316682                        -450.527147   \n",
       "3                      1400.234743                        -449.790835   \n",
       "4                      1401.160227                        -450.407128   \n",
       "\n",
       "   secondary_cleaner.output.tail_ag  secondary_cleaner.output.tail_pb  \\\n",
       "0                         14.500184                          4.694824   \n",
       "1                         14.265474                          4.592547   \n",
       "2                         14.115662                          4.624775   \n",
       "3                         13.732071                          4.482453   \n",
       "4                         14.079996                          4.470737   \n",
       "\n",
       "   secondary_cleaner.output.tail_sol  secondary_cleaner.output.tail_au  \\\n",
       "0                           8.764648                          2.606185   \n",
       "1                           9.001494                          2.488248   \n",
       "2                           8.842896                          2.458187   \n",
       "3                           9.122857                          2.322062   \n",
       "4                           8.871028                          2.330448   \n",
       "\n",
       "   secondary_cleaner.state.floatbank2_a_air  \\\n",
       "0                                 25.853109   \n",
       "1                                 25.880539   \n",
       "2                                 26.005245   \n",
       "3                                 25.942508   \n",
       "4                                 26.024787   \n",
       "\n",
       "   secondary_cleaner.state.floatbank2_a_level  \\\n",
       "0                                 -498.526489   \n",
       "1                                 -499.989656   \n",
       "2                                 -499.929616   \n",
       "3                                 -499.176749   \n",
       "4                                 -500.279091   \n",
       "\n",
       "   secondary_cleaner.state.floatbank2_b_air  \\\n",
       "0                                 23.893660   \n",
       "1                                 23.889530   \n",
       "2                                 23.886657   \n",
       "3                                 23.955516   \n",
       "4                                 23.955345   \n",
       "\n",
       "   secondary_cleaner.state.floatbank2_b_level  \\\n",
       "0                                 -501.406281   \n",
       "1                                 -500.372428   \n",
       "2                                 -499.951928   \n",
       "3                                 -499.848796   \n",
       "4                                 -500.593614   \n",
       "\n",
       "   secondary_cleaner.state.floatbank3_a_air  \\\n",
       "0                                 23.961798   \n",
       "1                                 23.970550   \n",
       "2                                 23.913535   \n",
       "3                                 23.966838   \n",
       "4                                 23.985703   \n",
       "\n",
       "   secondary_cleaner.state.floatbank3_a_level  \\\n",
       "0                                 -495.262817   \n",
       "1                                 -500.085473   \n",
       "2                                 -499.442343   \n",
       "3                                 -500.008812   \n",
       "4                                 -500.083811   \n",
       "\n",
       "   secondary_cleaner.state.floatbank3_b_air  \\\n",
       "0                                 21.940409   \n",
       "1                                 22.085714   \n",
       "2                                 23.957717   \n",
       "3                                 23.954443   \n",
       "4                                 23.958945   \n",
       "\n",
       "   secondary_cleaner.state.floatbank3_b_level  \\\n",
       "0                                 -499.340973   \n",
       "1                                 -499.446897   \n",
       "2                                 -499.901982   \n",
       "3                                 -499.944710   \n",
       "4                                 -499.990309   \n",
       "\n",
       "   secondary_cleaner.state.floatbank4_a_air  \\\n",
       "0                                 14.016835   \n",
       "1                                 13.992281   \n",
       "2                                 14.015015   \n",
       "3                                 14.036510   \n",
       "4                                 14.027298   \n",
       "\n",
       "   secondary_cleaner.state.floatbank4_a_level  \\\n",
       "0                                 -502.488007   \n",
       "1                                 -505.503262   \n",
       "2                                 -502.520901   \n",
       "3                                 -500.857308   \n",
       "4                                 -499.838632   \n",
       "\n",
       "   secondary_cleaner.state.floatbank4_b_air  \\\n",
       "0                                 12.099931   \n",
       "1                                 11.950531   \n",
       "2                                 11.912783   \n",
       "3                                 11.999550   \n",
       "4                                 11.953070   \n",
       "\n",
       "   secondary_cleaner.state.floatbank4_b_level  \\\n",
       "0                                 -504.715942   \n",
       "1                                 -501.331529   \n",
       "2                                 -501.133383   \n",
       "3                                 -501.193686   \n",
       "4                                 -501.053894   \n",
       "\n",
       "   secondary_cleaner.state.floatbank5_a_air  \\\n",
       "0                                  9.925633   \n",
       "1                                 10.039245   \n",
       "2                                 10.070913   \n",
       "3                                  9.970366   \n",
       "4                                  9.925709   \n",
       "\n",
       "   secondary_cleaner.state.floatbank5_a_level  \\\n",
       "0                                 -498.310211   \n",
       "1                                 -500.169983   \n",
       "2                                 -500.129135   \n",
       "3                                 -499.201640   \n",
       "4                                 -501.686727   \n",
       "\n",
       "   secondary_cleaner.state.floatbank5_b_air  \\\n",
       "0                                  8.079666   \n",
       "1                                  7.984757   \n",
       "2                                  8.013877   \n",
       "3                                  7.977324   \n",
       "4                                  7.894242   \n",
       "\n",
       "   secondary_cleaner.state.floatbank5_b_level  \\\n",
       "0                                 -500.470978   \n",
       "1                                 -500.582168   \n",
       "2                                 -500.517572   \n",
       "3                                 -500.255908   \n",
       "4                                 -500.356035   \n",
       "\n",
       "   secondary_cleaner.state.floatbank6_a_air  \\\n",
       "0                                 14.151341   \n",
       "1                                 13.998353   \n",
       "2                                 14.028663   \n",
       "3                                 14.005551   \n",
       "4                                 13.996647   \n",
       "\n",
       "   secondary_cleaner.state.floatbank6_a_level  \n",
       "0                                 -605.841980  \n",
       "1                                 -599.787184  \n",
       "2                                 -601.427363  \n",
       "3                                 -599.996129  \n",
       "4                                 -601.496691  "
      ]
     },
     "execution_count": 6,
     "metadata": {},
     "output_type": "execute_result"
    }
   ],
   "source": [
    "data_full.head()"
   ]
  },
  {
   "cell_type": "markdown",
   "metadata": {},
   "source": [
    "Выведем основные характеристики"
   ]
  },
  {
   "cell_type": "code",
   "execution_count": 7,
   "metadata": {},
   "outputs": [
    {
     "name": "stdout",
     "output_type": "stream",
     "text": [
      "Shape: (14149, 87)\n",
      "NaN's 4100\n",
      "Duplicates: 0\n",
      "--------------------------------------\n",
      "Shape: (5290, 53)\n",
      "NaN's 90\n",
      "Duplicates: 0\n",
      "--------------------------------------\n",
      "Shape: (19439, 87)\n",
      "NaN's 4481\n",
      "Duplicates: 0\n",
      "--------------------------------------\n"
     ]
    }
   ],
   "source": [
    "dataset = [data_train, data_test, data_full]\n",
    "for i in dataset:\n",
    "    print(\"Shape:\", i.shape)\n",
    "    print(\"NaN's\", i.isna().sum().sum())\n",
    "    print(\"Duplicates:\", i.duplicated().sum())\n",
    "    print(\"--------------------------------------\")"
   ]
  },
  {
   "cell_type": "code",
   "execution_count": 8,
   "metadata": {
    "scrolled": true
   },
   "outputs": [
    {
     "name": "stdout",
     "output_type": "stream",
     "text": [
      "<class 'pandas.core.frame.DataFrame'>\n",
      "RangeIndex: 19439 entries, 0 to 19438\n",
      "Data columns (total 87 columns):\n",
      "date                                                  19439 non-null object\n",
      "final.output.concentrate_ag                           19438 non-null float64\n",
      "final.output.concentrate_pb                           19438 non-null float64\n",
      "final.output.concentrate_sol                          19228 non-null float64\n",
      "final.output.concentrate_au                           19439 non-null float64\n",
      "final.output.recovery                                 19439 non-null float64\n",
      "final.output.tail_ag                                  19438 non-null float64\n",
      "final.output.tail_pb                                  19338 non-null float64\n",
      "final.output.tail_sol                                 19433 non-null float64\n",
      "final.output.tail_au                                  19439 non-null float64\n",
      "primary_cleaner.input.sulfate                         19415 non-null float64\n",
      "primary_cleaner.input.depressant                      19402 non-null float64\n",
      "primary_cleaner.input.feed_size                       19439 non-null float64\n",
      "primary_cleaner.input.xanthate                        19335 non-null float64\n",
      "primary_cleaner.output.concentrate_ag                 19439 non-null float64\n",
      "primary_cleaner.output.concentrate_pb                 19323 non-null float64\n",
      "primary_cleaner.output.concentrate_sol                19069 non-null float64\n",
      "primary_cleaner.output.concentrate_au                 19439 non-null float64\n",
      "primary_cleaner.output.tail_ag                        19435 non-null float64\n",
      "primary_cleaner.output.tail_pb                        19418 non-null float64\n",
      "primary_cleaner.output.tail_sol                       19377 non-null float64\n",
      "primary_cleaner.output.tail_au                        19439 non-null float64\n",
      "primary_cleaner.state.floatbank8_a_air                19435 non-null float64\n",
      "primary_cleaner.state.floatbank8_a_level              19438 non-null float64\n",
      "primary_cleaner.state.floatbank8_b_air                19435 non-null float64\n",
      "primary_cleaner.state.floatbank8_b_level              19438 non-null float64\n",
      "primary_cleaner.state.floatbank8_c_air                19437 non-null float64\n",
      "primary_cleaner.state.floatbank8_c_level              19438 non-null float64\n",
      "primary_cleaner.state.floatbank8_d_air                19436 non-null float64\n",
      "primary_cleaner.state.floatbank8_d_level              19438 non-null float64\n",
      "rougher.calculation.sulfate_to_au_concentrate         19437 non-null float64\n",
      "rougher.calculation.floatbank10_sulfate_to_au_feed    19437 non-null float64\n",
      "rougher.calculation.floatbank11_sulfate_to_au_feed    19437 non-null float64\n",
      "rougher.calculation.au_pb_ratio                       19439 non-null float64\n",
      "rougher.input.feed_ag                                 19439 non-null float64\n",
      "rougher.input.feed_pb                                 19339 non-null float64\n",
      "rougher.input.feed_rate                               19428 non-null float64\n",
      "rougher.input.feed_size                               19294 non-null float64\n",
      "rougher.input.feed_sol                                19340 non-null float64\n",
      "rougher.input.feed_au                                 19439 non-null float64\n",
      "rougher.input.floatbank10_sulfate                     19405 non-null float64\n",
      "rougher.input.floatbank10_xanthate                    19431 non-null float64\n",
      "rougher.input.floatbank11_sulfate                     19395 non-null float64\n",
      "rougher.input.floatbank11_xanthate                    18986 non-null float64\n",
      "rougher.output.concentrate_ag                         19439 non-null float64\n",
      "rougher.output.concentrate_pb                         19439 non-null float64\n",
      "rougher.output.concentrate_sol                        19416 non-null float64\n",
      "rougher.output.concentrate_au                         19439 non-null float64\n",
      "rougher.output.recovery                               19439 non-null float64\n",
      "rougher.output.tail_ag                                19438 non-null float64\n",
      "rougher.output.tail_pb                                19439 non-null float64\n",
      "rougher.output.tail_sol                               19439 non-null float64\n",
      "rougher.output.tail_au                                19439 non-null float64\n",
      "rougher.state.floatbank10_a_air                       19438 non-null float64\n",
      "rougher.state.floatbank10_a_level                     19438 non-null float64\n",
      "rougher.state.floatbank10_b_air                       19438 non-null float64\n",
      "rougher.state.floatbank10_b_level                     19438 non-null float64\n",
      "rougher.state.floatbank10_c_air                       19438 non-null float64\n",
      "rougher.state.floatbank10_c_level                     19438 non-null float64\n",
      "rougher.state.floatbank10_d_air                       19439 non-null float64\n",
      "rougher.state.floatbank10_d_level                     19439 non-null float64\n",
      "rougher.state.floatbank10_e_air                       19003 non-null float64\n",
      "rougher.state.floatbank10_e_level                     19439 non-null float64\n",
      "rougher.state.floatbank10_f_air                       19439 non-null float64\n",
      "rougher.state.floatbank10_f_level                     19439 non-null float64\n",
      "secondary_cleaner.output.tail_ag                      19437 non-null float64\n",
      "secondary_cleaner.output.tail_pb                      19427 non-null float64\n",
      "secondary_cleaner.output.tail_sol                     17691 non-null float64\n",
      "secondary_cleaner.output.tail_au                      19439 non-null float64\n",
      "secondary_cleaner.state.floatbank2_a_air              19219 non-null float64\n",
      "secondary_cleaner.state.floatbank2_a_level            19438 non-null float64\n",
      "secondary_cleaner.state.floatbank2_b_air              19416 non-null float64\n",
      "secondary_cleaner.state.floatbank2_b_level            19438 non-null float64\n",
      "secondary_cleaner.state.floatbank3_a_air              19426 non-null float64\n",
      "secondary_cleaner.state.floatbank3_a_level            19438 non-null float64\n",
      "secondary_cleaner.state.floatbank3_b_air              19438 non-null float64\n",
      "secondary_cleaner.state.floatbank3_b_level            19438 non-null float64\n",
      "secondary_cleaner.state.floatbank4_a_air              19433 non-null float64\n",
      "secondary_cleaner.state.floatbank4_a_level            19438 non-null float64\n",
      "secondary_cleaner.state.floatbank4_b_air              19438 non-null float64\n",
      "secondary_cleaner.state.floatbank4_b_level            19438 non-null float64\n",
      "secondary_cleaner.state.floatbank5_a_air              19438 non-null float64\n",
      "secondary_cleaner.state.floatbank5_a_level            19438 non-null float64\n",
      "secondary_cleaner.state.floatbank5_b_air              19438 non-null float64\n",
      "secondary_cleaner.state.floatbank5_b_level            19438 non-null float64\n",
      "secondary_cleaner.state.floatbank6_a_air              19437 non-null float64\n",
      "secondary_cleaner.state.floatbank6_a_level            19438 non-null float64\n",
      "dtypes: float64(86), object(1)\n",
      "memory usage: 12.9+ MB\n"
     ]
    }
   ],
   "source": [
    "data_full.info()"
   ]
  },
  {
   "cell_type": "code",
   "execution_count": 9,
   "metadata": {},
   "outputs": [
    {
     "data": {
      "text/html": [
       "<div>\n",
       "<style scoped>\n",
       "    .dataframe tbody tr th:only-of-type {\n",
       "        vertical-align: middle;\n",
       "    }\n",
       "\n",
       "    .dataframe tbody tr th {\n",
       "        vertical-align: top;\n",
       "    }\n",
       "\n",
       "    .dataframe thead th {\n",
       "        text-align: right;\n",
       "    }\n",
       "</style>\n",
       "<table border=\"1\" class=\"dataframe\">\n",
       "  <thead>\n",
       "    <tr style=\"text-align: right;\">\n",
       "      <th></th>\n",
       "      <th>final.output.concentrate_ag</th>\n",
       "      <th>final.output.concentrate_pb</th>\n",
       "      <th>final.output.concentrate_sol</th>\n",
       "      <th>final.output.concentrate_au</th>\n",
       "      <th>final.output.recovery</th>\n",
       "      <th>final.output.tail_ag</th>\n",
       "      <th>final.output.tail_pb</th>\n",
       "      <th>final.output.tail_sol</th>\n",
       "      <th>final.output.tail_au</th>\n",
       "      <th>primary_cleaner.input.sulfate</th>\n",
       "      <th>primary_cleaner.input.depressant</th>\n",
       "      <th>primary_cleaner.input.feed_size</th>\n",
       "      <th>primary_cleaner.input.xanthate</th>\n",
       "      <th>primary_cleaner.output.concentrate_ag</th>\n",
       "      <th>primary_cleaner.output.concentrate_pb</th>\n",
       "      <th>primary_cleaner.output.concentrate_sol</th>\n",
       "      <th>primary_cleaner.output.concentrate_au</th>\n",
       "      <th>primary_cleaner.output.tail_ag</th>\n",
       "      <th>primary_cleaner.output.tail_pb</th>\n",
       "      <th>primary_cleaner.output.tail_sol</th>\n",
       "      <th>primary_cleaner.output.tail_au</th>\n",
       "      <th>primary_cleaner.state.floatbank8_a_air</th>\n",
       "      <th>primary_cleaner.state.floatbank8_a_level</th>\n",
       "      <th>primary_cleaner.state.floatbank8_b_air</th>\n",
       "      <th>primary_cleaner.state.floatbank8_b_level</th>\n",
       "      <th>primary_cleaner.state.floatbank8_c_air</th>\n",
       "      <th>primary_cleaner.state.floatbank8_c_level</th>\n",
       "      <th>primary_cleaner.state.floatbank8_d_air</th>\n",
       "      <th>primary_cleaner.state.floatbank8_d_level</th>\n",
       "      <th>rougher.calculation.sulfate_to_au_concentrate</th>\n",
       "      <th>rougher.calculation.floatbank10_sulfate_to_au_feed</th>\n",
       "      <th>rougher.calculation.floatbank11_sulfate_to_au_feed</th>\n",
       "      <th>rougher.calculation.au_pb_ratio</th>\n",
       "      <th>rougher.input.feed_ag</th>\n",
       "      <th>rougher.input.feed_pb</th>\n",
       "      <th>rougher.input.feed_rate</th>\n",
       "      <th>rougher.input.feed_size</th>\n",
       "      <th>rougher.input.feed_sol</th>\n",
       "      <th>rougher.input.feed_au</th>\n",
       "      <th>rougher.input.floatbank10_sulfate</th>\n",
       "      <th>rougher.input.floatbank10_xanthate</th>\n",
       "      <th>rougher.input.floatbank11_sulfate</th>\n",
       "      <th>rougher.input.floatbank11_xanthate</th>\n",
       "      <th>rougher.output.concentrate_ag</th>\n",
       "      <th>rougher.output.concentrate_pb</th>\n",
       "      <th>rougher.output.concentrate_sol</th>\n",
       "      <th>rougher.output.concentrate_au</th>\n",
       "      <th>rougher.output.recovery</th>\n",
       "      <th>rougher.output.tail_ag</th>\n",
       "      <th>rougher.output.tail_pb</th>\n",
       "      <th>rougher.output.tail_sol</th>\n",
       "      <th>rougher.output.tail_au</th>\n",
       "      <th>rougher.state.floatbank10_a_air</th>\n",
       "      <th>rougher.state.floatbank10_a_level</th>\n",
       "      <th>rougher.state.floatbank10_b_air</th>\n",
       "      <th>rougher.state.floatbank10_b_level</th>\n",
       "      <th>rougher.state.floatbank10_c_air</th>\n",
       "      <th>rougher.state.floatbank10_c_level</th>\n",
       "      <th>rougher.state.floatbank10_d_air</th>\n",
       "      <th>rougher.state.floatbank10_d_level</th>\n",
       "      <th>rougher.state.floatbank10_e_air</th>\n",
       "      <th>rougher.state.floatbank10_e_level</th>\n",
       "      <th>rougher.state.floatbank10_f_air</th>\n",
       "      <th>rougher.state.floatbank10_f_level</th>\n",
       "      <th>secondary_cleaner.output.tail_ag</th>\n",
       "      <th>secondary_cleaner.output.tail_pb</th>\n",
       "      <th>secondary_cleaner.output.tail_sol</th>\n",
       "      <th>secondary_cleaner.output.tail_au</th>\n",
       "      <th>secondary_cleaner.state.floatbank2_a_air</th>\n",
       "      <th>secondary_cleaner.state.floatbank2_a_level</th>\n",
       "      <th>secondary_cleaner.state.floatbank2_b_air</th>\n",
       "      <th>secondary_cleaner.state.floatbank2_b_level</th>\n",
       "      <th>secondary_cleaner.state.floatbank3_a_air</th>\n",
       "      <th>secondary_cleaner.state.floatbank3_a_level</th>\n",
       "      <th>secondary_cleaner.state.floatbank3_b_air</th>\n",
       "      <th>secondary_cleaner.state.floatbank3_b_level</th>\n",
       "      <th>secondary_cleaner.state.floatbank4_a_air</th>\n",
       "      <th>secondary_cleaner.state.floatbank4_a_level</th>\n",
       "      <th>secondary_cleaner.state.floatbank4_b_air</th>\n",
       "      <th>secondary_cleaner.state.floatbank4_b_level</th>\n",
       "      <th>secondary_cleaner.state.floatbank5_a_air</th>\n",
       "      <th>secondary_cleaner.state.floatbank5_a_level</th>\n",
       "      <th>secondary_cleaner.state.floatbank5_b_air</th>\n",
       "      <th>secondary_cleaner.state.floatbank5_b_level</th>\n",
       "      <th>secondary_cleaner.state.floatbank6_a_air</th>\n",
       "      <th>secondary_cleaner.state.floatbank6_a_level</th>\n",
       "    </tr>\n",
       "  </thead>\n",
       "  <tbody>\n",
       "    <tr>\n",
       "      <td>count</td>\n",
       "      <td>19438.000000</td>\n",
       "      <td>19438.000000</td>\n",
       "      <td>19228.000000</td>\n",
       "      <td>19439.000000</td>\n",
       "      <td>19439.000000</td>\n",
       "      <td>19438.000000</td>\n",
       "      <td>19338.000000</td>\n",
       "      <td>19433.000000</td>\n",
       "      <td>19439.000000</td>\n",
       "      <td>19415.000000</td>\n",
       "      <td>19402.000000</td>\n",
       "      <td>19439.000000</td>\n",
       "      <td>19335.000000</td>\n",
       "      <td>19439.000000</td>\n",
       "      <td>19323.000000</td>\n",
       "      <td>19069.000000</td>\n",
       "      <td>19439.000000</td>\n",
       "      <td>19435.000000</td>\n",
       "      <td>19418.000000</td>\n",
       "      <td>19377.000000</td>\n",
       "      <td>19439.000000</td>\n",
       "      <td>1.943500e+04</td>\n",
       "      <td>19438.000000</td>\n",
       "      <td>1.943500e+04</td>\n",
       "      <td>19438.000000</td>\n",
       "      <td>1.943700e+04</td>\n",
       "      <td>19438.000000</td>\n",
       "      <td>1.943600e+04</td>\n",
       "      <td>19438.000000</td>\n",
       "      <td>1.943700e+04</td>\n",
       "      <td>19437.000000</td>\n",
       "      <td>19437.000000</td>\n",
       "      <td>19439.000000</td>\n",
       "      <td>19439.000000</td>\n",
       "      <td>19339.000000</td>\n",
       "      <td>19428.000000</td>\n",
       "      <td>19294.000000</td>\n",
       "      <td>19340.000000</td>\n",
       "      <td>19439.000000</td>\n",
       "      <td>19405.000000</td>\n",
       "      <td>19431.000000</td>\n",
       "      <td>19395.000000</td>\n",
       "      <td>18986.000000</td>\n",
       "      <td>19439.000000</td>\n",
       "      <td>19439.000000</td>\n",
       "      <td>19416.000000</td>\n",
       "      <td>19439.000000</td>\n",
       "      <td>19439.000000</td>\n",
       "      <td>19438.000000</td>\n",
       "      <td>19439.000000</td>\n",
       "      <td>19439.000000</td>\n",
       "      <td>19439.000000</td>\n",
       "      <td>19438.000000</td>\n",
       "      <td>19438.000000</td>\n",
       "      <td>19438.000000</td>\n",
       "      <td>19438.000000</td>\n",
       "      <td>19438.000000</td>\n",
       "      <td>19438.000000</td>\n",
       "      <td>19439.000000</td>\n",
       "      <td>19439.000000</td>\n",
       "      <td>19003.000000</td>\n",
       "      <td>19439.000000</td>\n",
       "      <td>19439.000000</td>\n",
       "      <td>19439.000000</td>\n",
       "      <td>19437.000000</td>\n",
       "      <td>19427.000000</td>\n",
       "      <td>17691.000000</td>\n",
       "      <td>19439.000000</td>\n",
       "      <td>19219.000000</td>\n",
       "      <td>19438.000000</td>\n",
       "      <td>19416.000000</td>\n",
       "      <td>19438.000000</td>\n",
       "      <td>19426.000000</td>\n",
       "      <td>19438.000000</td>\n",
       "      <td>19438.000000</td>\n",
       "      <td>19438.000000</td>\n",
       "      <td>19433.000000</td>\n",
       "      <td>19438.000000</td>\n",
       "      <td>19438.000000</td>\n",
       "      <td>19438.000000</td>\n",
       "      <td>19438.000000</td>\n",
       "      <td>19438.000000</td>\n",
       "      <td>19438.000000</td>\n",
       "      <td>19438.000000</td>\n",
       "      <td>19437.000000</td>\n",
       "      <td>19438.000000</td>\n",
       "    </tr>\n",
       "    <tr>\n",
       "      <td>mean</td>\n",
       "      <td>5.168470</td>\n",
       "      <td>9.978895</td>\n",
       "      <td>9.501224</td>\n",
       "      <td>44.076513</td>\n",
       "      <td>67.050208</td>\n",
       "      <td>9.688589</td>\n",
       "      <td>2.705795</td>\n",
       "      <td>10.583728</td>\n",
       "      <td>3.042467</td>\n",
       "      <td>144.624774</td>\n",
       "      <td>8.817039</td>\n",
       "      <td>7.307078</td>\n",
       "      <td>1.021795</td>\n",
       "      <td>8.442408</td>\n",
       "      <td>9.829530</td>\n",
       "      <td>10.489499</td>\n",
       "      <td>32.119400</td>\n",
       "      <td>16.145826</td>\n",
       "      <td>3.435656</td>\n",
       "      <td>7.973209</td>\n",
       "      <td>3.914179</td>\n",
       "      <td>1.589354e+03</td>\n",
       "      <td>-491.195012</td>\n",
       "      <td>1.591344e+03</td>\n",
       "      <td>-492.192978</td>\n",
       "      <td>1.586669e+03</td>\n",
       "      <td>-491.980070</td>\n",
       "      <td>1.542912e+03</td>\n",
       "      <td>-488.017382</td>\n",
       "      <td>4.217119e+04</td>\n",
       "      <td>3393.052498</td>\n",
       "      <td>3256.854171</td>\n",
       "      <td>2.420119</td>\n",
       "      <td>8.794927</td>\n",
       "      <td>3.598085</td>\n",
       "      <td>478.320042</td>\n",
       "      <td>58.970310</td>\n",
       "      <td>36.695114</td>\n",
       "      <td>8.266097</td>\n",
       "      <td>12.334373</td>\n",
       "      <td>6.021474</td>\n",
       "      <td>12.064140</td>\n",
       "      <td>6.065533</td>\n",
       "      <td>11.994759</td>\n",
       "      <td>7.606272</td>\n",
       "      <td>28.805571</td>\n",
       "      <td>19.772000</td>\n",
       "      <td>83.328587</td>\n",
       "      <td>5.588982</td>\n",
       "      <td>0.645782</td>\n",
       "      <td>18.057106</td>\n",
       "      <td>1.816391</td>\n",
       "      <td>1105.315068</td>\n",
       "      <td>-376.610690</td>\n",
       "      <td>1320.221139</td>\n",
       "      <td>-467.247826</td>\n",
       "      <td>1299.968799</td>\n",
       "      <td>-467.716946</td>\n",
       "      <td>1211.563299</td>\n",
       "      <td>-468.239912</td>\n",
       "      <td>1080.869685</td>\n",
       "      <td>-466.037742</td>\n",
       "      <td>1025.274256</td>\n",
       "      <td>-466.265327</td>\n",
       "      <td>14.586833</td>\n",
       "      <td>5.777703</td>\n",
       "      <td>7.167247</td>\n",
       "      <td>4.339625</td>\n",
       "      <td>28.705564</td>\n",
       "      <td>-502.367331</td>\n",
       "      <td>24.106800</td>\n",
       "      <td>-503.230712</td>\n",
       "      <td>28.199338</td>\n",
       "      <td>-486.203350</td>\n",
       "      <td>22.200645</td>\n",
       "      <td>-493.742107</td>\n",
       "      <td>18.987674</td>\n",
       "      <td>-485.894516</td>\n",
       "      <td>15.010366</td>\n",
       "      <td>-461.078636</td>\n",
       "      <td>15.694452</td>\n",
       "      <td>-488.684065</td>\n",
       "      <td>12.198224</td>\n",
       "      <td>-487.149827</td>\n",
       "      <td>18.959024</td>\n",
       "      <td>-505.436305</td>\n",
       "    </tr>\n",
       "    <tr>\n",
       "      <td>std</td>\n",
       "      <td>1.372348</td>\n",
       "      <td>1.669240</td>\n",
       "      <td>2.787537</td>\n",
       "      <td>5.129784</td>\n",
       "      <td>10.125840</td>\n",
       "      <td>2.328642</td>\n",
       "      <td>0.949077</td>\n",
       "      <td>2.868782</td>\n",
       "      <td>0.922808</td>\n",
       "      <td>44.464071</td>\n",
       "      <td>3.286186</td>\n",
       "      <td>0.613509</td>\n",
       "      <td>0.513254</td>\n",
       "      <td>2.054465</td>\n",
       "      <td>2.556843</td>\n",
       "      <td>3.909639</td>\n",
       "      <td>5.627611</td>\n",
       "      <td>3.548598</td>\n",
       "      <td>1.392536</td>\n",
       "      <td>2.212677</td>\n",
       "      <td>1.593034</td>\n",
       "      <td>1.289968e+02</td>\n",
       "      <td>32.431842</td>\n",
       "      <td>1.318109e+02</td>\n",
       "      <td>33.794822</td>\n",
       "      <td>1.361114e+02</td>\n",
       "      <td>32.711455</td>\n",
       "      <td>2.461996e+02</td>\n",
       "      <td>43.959780</td>\n",
       "      <td>3.243621e+05</td>\n",
       "      <td>4943.845943</td>\n",
       "      <td>5781.423659</td>\n",
       "      <td>0.814935</td>\n",
       "      <td>1.936847</td>\n",
       "      <td>1.049486</td>\n",
       "      <td>105.373758</td>\n",
       "      <td>21.634478</td>\n",
       "      <td>5.145445</td>\n",
       "      <td>1.955092</td>\n",
       "      <td>3.427317</td>\n",
       "      <td>1.127263</td>\n",
       "      <td>3.784221</td>\n",
       "      <td>1.099118</td>\n",
       "      <td>2.733862</td>\n",
       "      <td>1.796757</td>\n",
       "      <td>5.944207</td>\n",
       "      <td>3.753600</td>\n",
       "      <td>14.148086</td>\n",
       "      <td>1.111288</td>\n",
       "      <td>0.251526</td>\n",
       "      <td>3.449218</td>\n",
       "      <td>0.680046</td>\n",
       "      <td>160.826798</td>\n",
       "      <td>93.909667</td>\n",
       "      <td>176.287095</td>\n",
       "      <td>54.673142</td>\n",
       "      <td>202.804325</td>\n",
       "      <td>53.534825</td>\n",
       "      <td>204.019326</td>\n",
       "      <td>53.921458</td>\n",
       "      <td>172.149992</td>\n",
       "      <td>57.384424</td>\n",
       "      <td>164.487837</td>\n",
       "      <td>57.850263</td>\n",
       "      <td>4.265202</td>\n",
       "      <td>2.774598</td>\n",
       "      <td>3.916079</td>\n",
       "      <td>2.326751</td>\n",
       "      <td>5.458789</td>\n",
       "      <td>53.571950</td>\n",
       "      <td>5.749616</td>\n",
       "      <td>56.567724</td>\n",
       "      <td>6.134908</td>\n",
       "      <td>54.412349</td>\n",
       "      <td>5.574001</td>\n",
       "      <td>43.372158</td>\n",
       "      <td>5.411058</td>\n",
       "      <td>47.758570</td>\n",
       "      <td>4.890228</td>\n",
       "      <td>67.405524</td>\n",
       "      <td>5.510974</td>\n",
       "      <td>34.533396</td>\n",
       "      <td>5.333024</td>\n",
       "      <td>38.347312</td>\n",
       "      <td>5.550498</td>\n",
       "      <td>37.689057</td>\n",
       "    </tr>\n",
       "    <tr>\n",
       "      <td>min</td>\n",
       "      <td>0.000000</td>\n",
       "      <td>0.000000</td>\n",
       "      <td>0.000000</td>\n",
       "      <td>0.000000</td>\n",
       "      <td>0.000000</td>\n",
       "      <td>0.000000</td>\n",
       "      <td>0.000000</td>\n",
       "      <td>0.000000</td>\n",
       "      <td>0.000000</td>\n",
       "      <td>0.003112</td>\n",
       "      <td>0.000000</td>\n",
       "      <td>1.080000</td>\n",
       "      <td>0.000005</td>\n",
       "      <td>0.000000</td>\n",
       "      <td>0.000000</td>\n",
       "      <td>0.000000</td>\n",
       "      <td>0.000000</td>\n",
       "      <td>0.000000</td>\n",
       "      <td>0.000000</td>\n",
       "      <td>0.000000</td>\n",
       "      <td>0.000000</td>\n",
       "      <td>5.445860e-32</td>\n",
       "      <td>-798.641662</td>\n",
       "      <td>6.647490e-32</td>\n",
       "      <td>-799.997015</td>\n",
       "      <td>4.033736e-32</td>\n",
       "      <td>-799.960571</td>\n",
       "      <td>4.039220e-32</td>\n",
       "      <td>-799.794250</td>\n",
       "      <td>-4.223520e+07</td>\n",
       "      <td>-486.598675</td>\n",
       "      <td>-264.982785</td>\n",
       "      <td>-0.010548</td>\n",
       "      <td>0.010000</td>\n",
       "      <td>0.010000</td>\n",
       "      <td>0.002986</td>\n",
       "      <td>0.046369</td>\n",
       "      <td>0.010000</td>\n",
       "      <td>0.010000</td>\n",
       "      <td>0.001083</td>\n",
       "      <td>0.000568</td>\n",
       "      <td>0.000077</td>\n",
       "      <td>0.000290</td>\n",
       "      <td>0.000000</td>\n",
       "      <td>0.000000</td>\n",
       "      <td>0.000000</td>\n",
       "      <td>0.000000</td>\n",
       "      <td>0.000000</td>\n",
       "      <td>0.594562</td>\n",
       "      <td>0.007566</td>\n",
       "      <td>10.014648</td>\n",
       "      <td>0.020676</td>\n",
       "      <td>-0.042069</td>\n",
       "      <td>-657.949759</td>\n",
       "      <td>-0.721806</td>\n",
       "      <td>-650.260008</td>\n",
       "      <td>-0.056636</td>\n",
       "      <td>-647.544439</td>\n",
       "      <td>-0.992219</td>\n",
       "      <td>-648.390665</td>\n",
       "      <td>-1.982295</td>\n",
       "      <td>-649.443911</td>\n",
       "      <td>-2.593390</td>\n",
       "      <td>-649.949283</td>\n",
       "      <td>0.000000</td>\n",
       "      <td>0.000000</td>\n",
       "      <td>0.000000</td>\n",
       "      <td>0.000000</td>\n",
       "      <td>0.077503</td>\n",
       "      <td>-799.606441</td>\n",
       "      <td>0.000000</td>\n",
       "      <td>-799.873878</td>\n",
       "      <td>0.000000</td>\n",
       "      <td>-799.755798</td>\n",
       "      <td>0.000000</td>\n",
       "      <td>-809.333008</td>\n",
       "      <td>0.000000</td>\n",
       "      <td>-799.798523</td>\n",
       "      <td>0.000000</td>\n",
       "      <td>-800.836914</td>\n",
       "      <td>-0.372054</td>\n",
       "      <td>-797.323986</td>\n",
       "      <td>0.528083</td>\n",
       "      <td>-800.220337</td>\n",
       "      <td>-0.079426</td>\n",
       "      <td>-809.741464</td>\n",
       "    </tr>\n",
       "    <tr>\n",
       "      <td>25%</td>\n",
       "      <td>4.251240</td>\n",
       "      <td>9.137262</td>\n",
       "      <td>7.722820</td>\n",
       "      <td>43.402215</td>\n",
       "      <td>63.299712</td>\n",
       "      <td>8.062878</td>\n",
       "      <td>2.040119</td>\n",
       "      <td>8.938947</td>\n",
       "      <td>2.461138</td>\n",
       "      <td>114.107029</td>\n",
       "      <td>6.076909</td>\n",
       "      <td>6.940000</td>\n",
       "      <td>0.697224</td>\n",
       "      <td>7.263288</td>\n",
       "      <td>8.702328</td>\n",
       "      <td>7.893893</td>\n",
       "      <td>30.463140</td>\n",
       "      <td>14.017742</td>\n",
       "      <td>2.504365</td>\n",
       "      <td>6.747483</td>\n",
       "      <td>2.924844</td>\n",
       "      <td>1.505063e+03</td>\n",
       "      <td>-500.308544</td>\n",
       "      <td>1.503630e+03</td>\n",
       "      <td>-500.437171</td>\n",
       "      <td>1.500927e+03</td>\n",
       "      <td>-500.703932</td>\n",
       "      <td>1.494219e+03</td>\n",
       "      <td>-500.458365</td>\n",
       "      <td>4.070095e+04</td>\n",
       "      <td>2611.425833</td>\n",
       "      <td>2551.437587</td>\n",
       "      <td>2.035434</td>\n",
       "      <td>7.237967</td>\n",
       "      <td>2.887280</td>\n",
       "      <td>416.525453</td>\n",
       "      <td>47.435103</td>\n",
       "      <td>34.207799</td>\n",
       "      <td>6.854384</td>\n",
       "      <td>10.000362</td>\n",
       "      <td>5.398678</td>\n",
       "      <td>9.998460</td>\n",
       "      <td>5.402368</td>\n",
       "      <td>10.628337</td>\n",
       "      <td>6.725987</td>\n",
       "      <td>27.224120</td>\n",
       "      <td>18.802523</td>\n",
       "      <td>81.037957</td>\n",
       "      <td>4.889892</td>\n",
       "      <td>0.477728</td>\n",
       "      <td>15.822525</td>\n",
       "      <td>1.404207</td>\n",
       "      <td>999.661867</td>\n",
       "      <td>-499.835165</td>\n",
       "      <td>1199.626115</td>\n",
       "      <td>-500.201130</td>\n",
       "      <td>1151.076301</td>\n",
       "      <td>-500.217218</td>\n",
       "      <td>1061.051788</td>\n",
       "      <td>-500.386386</td>\n",
       "      <td>998.675263</td>\n",
       "      <td>-500.232191</td>\n",
       "      <td>900.995511</td>\n",
       "      <td>-500.522553</td>\n",
       "      <td>12.640239</td>\n",
       "      <td>3.864733</td>\n",
       "      <td>3.845475</td>\n",
       "      <td>3.182770</td>\n",
       "      <td>25.048462</td>\n",
       "      <td>-500.233700</td>\n",
       "      <td>20.919853</td>\n",
       "      <td>-500.253794</td>\n",
       "      <td>24.949227</td>\n",
       "      <td>-500.213546</td>\n",
       "      <td>18.995924</td>\n",
       "      <td>-500.123034</td>\n",
       "      <td>14.975734</td>\n",
       "      <td>-500.704892</td>\n",
       "      <td>11.940294</td>\n",
       "      <td>-500.187742</td>\n",
       "      <td>10.988606</td>\n",
       "      <td>-500.458467</td>\n",
       "      <td>8.971105</td>\n",
       "      <td>-500.129462</td>\n",
       "      <td>14.983037</td>\n",
       "      <td>-500.728067</td>\n",
       "    </tr>\n",
       "    <tr>\n",
       "      <td>50%</td>\n",
       "      <td>5.066094</td>\n",
       "      <td>10.102433</td>\n",
       "      <td>9.218961</td>\n",
       "      <td>45.011244</td>\n",
       "      <td>68.172738</td>\n",
       "      <td>9.743623</td>\n",
       "      <td>2.748730</td>\n",
       "      <td>10.622456</td>\n",
       "      <td>2.984909</td>\n",
       "      <td>143.232103</td>\n",
       "      <td>8.038311</td>\n",
       "      <td>7.280000</td>\n",
       "      <td>0.940863</td>\n",
       "      <td>8.507298</td>\n",
       "      <td>10.152433</td>\n",
       "      <td>10.314632</td>\n",
       "      <td>32.841295</td>\n",
       "      <td>15.842836</td>\n",
       "      <td>3.271153</td>\n",
       "      <td>8.183673</td>\n",
       "      <td>3.623234</td>\n",
       "      <td>1.600597e+03</td>\n",
       "      <td>-499.926134</td>\n",
       "      <td>1.600521e+03</td>\n",
       "      <td>-499.956767</td>\n",
       "      <td>1.600254e+03</td>\n",
       "      <td>-499.909524</td>\n",
       "      <td>1.599447e+03</td>\n",
       "      <td>-499.905974</td>\n",
       "      <td>4.469648e+04</td>\n",
       "      <td>3018.353876</td>\n",
       "      <td>2997.218088</td>\n",
       "      <td>2.309665</td>\n",
       "      <td>8.593574</td>\n",
       "      <td>3.534895</td>\n",
       "      <td>499.416120</td>\n",
       "      <td>54.610197</td>\n",
       "      <td>37.202650</td>\n",
       "      <td>8.125839</td>\n",
       "      <td>12.001174</td>\n",
       "      <td>6.008273</td>\n",
       "      <td>12.000204</td>\n",
       "      <td>6.098580</td>\n",
       "      <td>12.098115</td>\n",
       "      <td>7.742580</td>\n",
       "      <td>29.835345</td>\n",
       "      <td>20.280214</td>\n",
       "      <td>86.188892</td>\n",
       "      <td>5.765802</td>\n",
       "      <td>0.617465</td>\n",
       "      <td>18.106867</td>\n",
       "      <td>1.808170</td>\n",
       "      <td>1001.072890</td>\n",
       "      <td>-300.263994</td>\n",
       "      <td>1301.579988</td>\n",
       "      <td>-499.784045</td>\n",
       "      <td>1300.211537</td>\n",
       "      <td>-499.713364</td>\n",
       "      <td>1201.569141</td>\n",
       "      <td>-499.532412</td>\n",
       "      <td>1050.029461</td>\n",
       "      <td>-499.663089</td>\n",
       "      <td>999.924821</td>\n",
       "      <td>-499.471777</td>\n",
       "      <td>15.641902</td>\n",
       "      <td>5.344073</td>\n",
       "      <td>7.685827</td>\n",
       "      <td>4.072412</td>\n",
       "      <td>29.099943</td>\n",
       "      <td>-499.973250</td>\n",
       "      <td>25.043289</td>\n",
       "      <td>-500.015439</td>\n",
       "      <td>27.982129</td>\n",
       "      <td>-499.930680</td>\n",
       "      <td>22.011231</td>\n",
       "      <td>-499.981902</td>\n",
       "      <td>18.017481</td>\n",
       "      <td>-499.837793</td>\n",
       "      <td>14.971014</td>\n",
       "      <td>-499.459786</td>\n",
       "      <td>15.000036</td>\n",
       "      <td>-499.802605</td>\n",
       "      <td>11.019433</td>\n",
       "      <td>-499.935317</td>\n",
       "      <td>19.960541</td>\n",
       "      <td>-500.048400</td>\n",
       "    </tr>\n",
       "    <tr>\n",
       "      <td>75%</td>\n",
       "      <td>5.895527</td>\n",
       "      <td>11.035769</td>\n",
       "      <td>10.947813</td>\n",
       "      <td>46.275313</td>\n",
       "      <td>72.686642</td>\n",
       "      <td>11.134294</td>\n",
       "      <td>3.333216</td>\n",
       "      <td>12.104271</td>\n",
       "      <td>3.571351</td>\n",
       "      <td>175.075656</td>\n",
       "      <td>11.013521</td>\n",
       "      <td>7.670000</td>\n",
       "      <td>1.210990</td>\n",
       "      <td>9.809001</td>\n",
       "      <td>11.424971</td>\n",
       "      <td>13.446702</td>\n",
       "      <td>35.048006</td>\n",
       "      <td>18.013975</td>\n",
       "      <td>4.181748</td>\n",
       "      <td>9.548586</td>\n",
       "      <td>4.585705</td>\n",
       "      <td>1.697658e+03</td>\n",
       "      <td>-499.433950</td>\n",
       "      <td>1.699218e+03</td>\n",
       "      <td>-499.373336</td>\n",
       "      <td>1.699483e+03</td>\n",
       "      <td>-498.857643</td>\n",
       "      <td>1.698525e+03</td>\n",
       "      <td>-499.064695</td>\n",
       "      <td>4.816821e+04</td>\n",
       "      <td>3676.769750</td>\n",
       "      <td>3601.998911</td>\n",
       "      <td>2.731794</td>\n",
       "      <td>10.213771</td>\n",
       "      <td>4.244161</td>\n",
       "      <td>550.172183</td>\n",
       "      <td>65.023044</td>\n",
       "      <td>40.039133</td>\n",
       "      <td>9.769917</td>\n",
       "      <td>14.716595</td>\n",
       "      <td>6.798051</td>\n",
       "      <td>14.636766</td>\n",
       "      <td>6.801233</td>\n",
       "      <td>13.736996</td>\n",
       "      <td>8.565199</td>\n",
       "      <td>32.189933</td>\n",
       "      <td>21.717843</td>\n",
       "      <td>90.010670</td>\n",
       "      <td>6.389234</td>\n",
       "      <td>0.778271</td>\n",
       "      <td>20.088151</td>\n",
       "      <td>2.211861</td>\n",
       "      <td>1205.620588</td>\n",
       "      <td>-299.981998</td>\n",
       "      <td>1448.630789</td>\n",
       "      <td>-400.615589</td>\n",
       "      <td>1449.464001</td>\n",
       "      <td>-400.985743</td>\n",
       "      <td>1352.880320</td>\n",
       "      <td>-401.638550</td>\n",
       "      <td>1199.425140</td>\n",
       "      <td>-401.161191</td>\n",
       "      <td>1099.719692</td>\n",
       "      <td>-401.511042</td>\n",
       "      <td>17.358217</td>\n",
       "      <td>7.788467</td>\n",
       "      <td>10.411296</td>\n",
       "      <td>5.063081</td>\n",
       "      <td>33.012536</td>\n",
       "      <td>-499.671261</td>\n",
       "      <td>28.008197</td>\n",
       "      <td>-499.785698</td>\n",
       "      <td>33.002798</td>\n",
       "      <td>-499.325739</td>\n",
       "      <td>25.998206</td>\n",
       "      <td>-499.812834</td>\n",
       "      <td>23.012470</td>\n",
       "      <td>-498.249730</td>\n",
       "      <td>19.034162</td>\n",
       "      <td>-400.118106</td>\n",
       "      <td>18.026190</td>\n",
       "      <td>-498.384187</td>\n",
       "      <td>14.019088</td>\n",
       "      <td>-499.436708</td>\n",
       "      <td>24.003170</td>\n",
       "      <td>-499.495378</td>\n",
       "    </tr>\n",
       "    <tr>\n",
       "      <td>max</td>\n",
       "      <td>16.001945</td>\n",
       "      <td>17.031899</td>\n",
       "      <td>19.615720</td>\n",
       "      <td>52.756638</td>\n",
       "      <td>100.000000</td>\n",
       "      <td>19.552149</td>\n",
       "      <td>5.804178</td>\n",
       "      <td>22.317730</td>\n",
       "      <td>8.245022</td>\n",
       "      <td>265.983123</td>\n",
       "      <td>40.000000</td>\n",
       "      <td>15.500000</td>\n",
       "      <td>4.102454</td>\n",
       "      <td>16.081632</td>\n",
       "      <td>17.081278</td>\n",
       "      <td>22.458114</td>\n",
       "      <td>45.933934</td>\n",
       "      <td>29.459575</td>\n",
       "      <td>9.634565</td>\n",
       "      <td>22.276364</td>\n",
       "      <td>17.788925</td>\n",
       "      <td>2.103104e+03</td>\n",
       "      <td>-57.195404</td>\n",
       "      <td>2.114907e+03</td>\n",
       "      <td>-142.527229</td>\n",
       "      <td>2.013156e+03</td>\n",
       "      <td>-150.937035</td>\n",
       "      <td>2.398904e+03</td>\n",
       "      <td>-30.601828</td>\n",
       "      <td>3.428099e+06</td>\n",
       "      <td>629638.977914</td>\n",
       "      <td>718684.955855</td>\n",
       "      <td>39.379272</td>\n",
       "      <td>14.596026</td>\n",
       "      <td>7.142594</td>\n",
       "      <td>717.508837</td>\n",
       "      <td>484.967466</td>\n",
       "      <td>53.477742</td>\n",
       "      <td>13.731330</td>\n",
       "      <td>36.118275</td>\n",
       "      <td>9.703448</td>\n",
       "      <td>37.980648</td>\n",
       "      <td>9.698407</td>\n",
       "      <td>24.480271</td>\n",
       "      <td>13.617072</td>\n",
       "      <td>38.351193</td>\n",
       "      <td>28.824507</td>\n",
       "      <td>100.000000</td>\n",
       "      <td>12.719177</td>\n",
       "      <td>3.778064</td>\n",
       "      <td>66.117188</td>\n",
       "      <td>9.688980</td>\n",
       "      <td>1521.980372</td>\n",
       "      <td>-273.776101</td>\n",
       "      <td>1809.194008</td>\n",
       "      <td>-296.383080</td>\n",
       "      <td>2499.129174</td>\n",
       "      <td>-292.155509</td>\n",
       "      <td>1817.199290</td>\n",
       "      <td>-76.397327</td>\n",
       "      <td>1922.636637</td>\n",
       "      <td>-139.753025</td>\n",
       "      <td>1706.307502</td>\n",
       "      <td>-191.718480</td>\n",
       "      <td>23.264738</td>\n",
       "      <td>17.042505</td>\n",
       "      <td>26.000772</td>\n",
       "      <td>26.811643</td>\n",
       "      <td>52.651399</td>\n",
       "      <td>-127.875565</td>\n",
       "      <td>35.152122</td>\n",
       "      <td>-211.999273</td>\n",
       "      <td>44.260464</td>\n",
       "      <td>-191.678810</td>\n",
       "      <td>35.072841</td>\n",
       "      <td>-159.742331</td>\n",
       "      <td>30.115735</td>\n",
       "      <td>-245.239184</td>\n",
       "      <td>31.269706</td>\n",
       "      <td>-6.506986</td>\n",
       "      <td>43.709931</td>\n",
       "      <td>-244.483566</td>\n",
       "      <td>27.926001</td>\n",
       "      <td>-137.740004</td>\n",
       "      <td>32.188906</td>\n",
       "      <td>-104.427459</td>\n",
       "    </tr>\n",
       "  </tbody>\n",
       "</table>\n",
       "</div>"
      ],
      "text/plain": [
       "       final.output.concentrate_ag  final.output.concentrate_pb  \\\n",
       "count                 19438.000000                 19438.000000   \n",
       "mean                      5.168470                     9.978895   \n",
       "std                       1.372348                     1.669240   \n",
       "min                       0.000000                     0.000000   \n",
       "25%                       4.251240                     9.137262   \n",
       "50%                       5.066094                    10.102433   \n",
       "75%                       5.895527                    11.035769   \n",
       "max                      16.001945                    17.031899   \n",
       "\n",
       "       final.output.concentrate_sol  final.output.concentrate_au  \\\n",
       "count                  19228.000000                 19439.000000   \n",
       "mean                       9.501224                    44.076513   \n",
       "std                        2.787537                     5.129784   \n",
       "min                        0.000000                     0.000000   \n",
       "25%                        7.722820                    43.402215   \n",
       "50%                        9.218961                    45.011244   \n",
       "75%                       10.947813                    46.275313   \n",
       "max                       19.615720                    52.756638   \n",
       "\n",
       "       final.output.recovery  final.output.tail_ag  final.output.tail_pb  \\\n",
       "count           19439.000000          19438.000000          19338.000000   \n",
       "mean               67.050208              9.688589              2.705795   \n",
       "std                10.125840              2.328642              0.949077   \n",
       "min                 0.000000              0.000000              0.000000   \n",
       "25%                63.299712              8.062878              2.040119   \n",
       "50%                68.172738              9.743623              2.748730   \n",
       "75%                72.686642             11.134294              3.333216   \n",
       "max               100.000000             19.552149              5.804178   \n",
       "\n",
       "       final.output.tail_sol  final.output.tail_au  \\\n",
       "count           19433.000000          19439.000000   \n",
       "mean               10.583728              3.042467   \n",
       "std                 2.868782              0.922808   \n",
       "min                 0.000000              0.000000   \n",
       "25%                 8.938947              2.461138   \n",
       "50%                10.622456              2.984909   \n",
       "75%                12.104271              3.571351   \n",
       "max                22.317730              8.245022   \n",
       "\n",
       "       primary_cleaner.input.sulfate  primary_cleaner.input.depressant  \\\n",
       "count                   19415.000000                      19402.000000   \n",
       "mean                      144.624774                          8.817039   \n",
       "std                        44.464071                          3.286186   \n",
       "min                         0.003112                          0.000000   \n",
       "25%                       114.107029                          6.076909   \n",
       "50%                       143.232103                          8.038311   \n",
       "75%                       175.075656                         11.013521   \n",
       "max                       265.983123                         40.000000   \n",
       "\n",
       "       primary_cleaner.input.feed_size  primary_cleaner.input.xanthate  \\\n",
       "count                     19439.000000                    19335.000000   \n",
       "mean                          7.307078                        1.021795   \n",
       "std                           0.613509                        0.513254   \n",
       "min                           1.080000                        0.000005   \n",
       "25%                           6.940000                        0.697224   \n",
       "50%                           7.280000                        0.940863   \n",
       "75%                           7.670000                        1.210990   \n",
       "max                          15.500000                        4.102454   \n",
       "\n",
       "       primary_cleaner.output.concentrate_ag  \\\n",
       "count                           19439.000000   \n",
       "mean                                8.442408   \n",
       "std                                 2.054465   \n",
       "min                                 0.000000   \n",
       "25%                                 7.263288   \n",
       "50%                                 8.507298   \n",
       "75%                                 9.809001   \n",
       "max                                16.081632   \n",
       "\n",
       "       primary_cleaner.output.concentrate_pb  \\\n",
       "count                           19323.000000   \n",
       "mean                                9.829530   \n",
       "std                                 2.556843   \n",
       "min                                 0.000000   \n",
       "25%                                 8.702328   \n",
       "50%                                10.152433   \n",
       "75%                                11.424971   \n",
       "max                                17.081278   \n",
       "\n",
       "       primary_cleaner.output.concentrate_sol  \\\n",
       "count                            19069.000000   \n",
       "mean                                10.489499   \n",
       "std                                  3.909639   \n",
       "min                                  0.000000   \n",
       "25%                                  7.893893   \n",
       "50%                                 10.314632   \n",
       "75%                                 13.446702   \n",
       "max                                 22.458114   \n",
       "\n",
       "       primary_cleaner.output.concentrate_au  primary_cleaner.output.tail_ag  \\\n",
       "count                           19439.000000                    19435.000000   \n",
       "mean                               32.119400                       16.145826   \n",
       "std                                 5.627611                        3.548598   \n",
       "min                                 0.000000                        0.000000   \n",
       "25%                                30.463140                       14.017742   \n",
       "50%                                32.841295                       15.842836   \n",
       "75%                                35.048006                       18.013975   \n",
       "max                                45.933934                       29.459575   \n",
       "\n",
       "       primary_cleaner.output.tail_pb  primary_cleaner.output.tail_sol  \\\n",
       "count                    19418.000000                     19377.000000   \n",
       "mean                         3.435656                         7.973209   \n",
       "std                          1.392536                         2.212677   \n",
       "min                          0.000000                         0.000000   \n",
       "25%                          2.504365                         6.747483   \n",
       "50%                          3.271153                         8.183673   \n",
       "75%                          4.181748                         9.548586   \n",
       "max                          9.634565                        22.276364   \n",
       "\n",
       "       primary_cleaner.output.tail_au  primary_cleaner.state.floatbank8_a_air  \\\n",
       "count                    19439.000000                            1.943500e+04   \n",
       "mean                         3.914179                            1.589354e+03   \n",
       "std                          1.593034                            1.289968e+02   \n",
       "min                          0.000000                            5.445860e-32   \n",
       "25%                          2.924844                            1.505063e+03   \n",
       "50%                          3.623234                            1.600597e+03   \n",
       "75%                          4.585705                            1.697658e+03   \n",
       "max                         17.788925                            2.103104e+03   \n",
       "\n",
       "       primary_cleaner.state.floatbank8_a_level  \\\n",
       "count                              19438.000000   \n",
       "mean                                -491.195012   \n",
       "std                                   32.431842   \n",
       "min                                 -798.641662   \n",
       "25%                                 -500.308544   \n",
       "50%                                 -499.926134   \n",
       "75%                                 -499.433950   \n",
       "max                                  -57.195404   \n",
       "\n",
       "       primary_cleaner.state.floatbank8_b_air  \\\n",
       "count                            1.943500e+04   \n",
       "mean                             1.591344e+03   \n",
       "std                              1.318109e+02   \n",
       "min                              6.647490e-32   \n",
       "25%                              1.503630e+03   \n",
       "50%                              1.600521e+03   \n",
       "75%                              1.699218e+03   \n",
       "max                              2.114907e+03   \n",
       "\n",
       "       primary_cleaner.state.floatbank8_b_level  \\\n",
       "count                              19438.000000   \n",
       "mean                                -492.192978   \n",
       "std                                   33.794822   \n",
       "min                                 -799.997015   \n",
       "25%                                 -500.437171   \n",
       "50%                                 -499.956767   \n",
       "75%                                 -499.373336   \n",
       "max                                 -142.527229   \n",
       "\n",
       "       primary_cleaner.state.floatbank8_c_air  \\\n",
       "count                            1.943700e+04   \n",
       "mean                             1.586669e+03   \n",
       "std                              1.361114e+02   \n",
       "min                              4.033736e-32   \n",
       "25%                              1.500927e+03   \n",
       "50%                              1.600254e+03   \n",
       "75%                              1.699483e+03   \n",
       "max                              2.013156e+03   \n",
       "\n",
       "       primary_cleaner.state.floatbank8_c_level  \\\n",
       "count                              19438.000000   \n",
       "mean                                -491.980070   \n",
       "std                                   32.711455   \n",
       "min                                 -799.960571   \n",
       "25%                                 -500.703932   \n",
       "50%                                 -499.909524   \n",
       "75%                                 -498.857643   \n",
       "max                                 -150.937035   \n",
       "\n",
       "       primary_cleaner.state.floatbank8_d_air  \\\n",
       "count                            1.943600e+04   \n",
       "mean                             1.542912e+03   \n",
       "std                              2.461996e+02   \n",
       "min                              4.039220e-32   \n",
       "25%                              1.494219e+03   \n",
       "50%                              1.599447e+03   \n",
       "75%                              1.698525e+03   \n",
       "max                              2.398904e+03   \n",
       "\n",
       "       primary_cleaner.state.floatbank8_d_level  \\\n",
       "count                              19438.000000   \n",
       "mean                                -488.017382   \n",
       "std                                   43.959780   \n",
       "min                                 -799.794250   \n",
       "25%                                 -500.458365   \n",
       "50%                                 -499.905974   \n",
       "75%                                 -499.064695   \n",
       "max                                  -30.601828   \n",
       "\n",
       "       rougher.calculation.sulfate_to_au_concentrate  \\\n",
       "count                                   1.943700e+04   \n",
       "mean                                    4.217119e+04   \n",
       "std                                     3.243621e+05   \n",
       "min                                    -4.223520e+07   \n",
       "25%                                     4.070095e+04   \n",
       "50%                                     4.469648e+04   \n",
       "75%                                     4.816821e+04   \n",
       "max                                     3.428099e+06   \n",
       "\n",
       "       rougher.calculation.floatbank10_sulfate_to_au_feed  \\\n",
       "count                                       19437.000000    \n",
       "mean                                         3393.052498    \n",
       "std                                          4943.845943    \n",
       "min                                          -486.598675    \n",
       "25%                                          2611.425833    \n",
       "50%                                          3018.353876    \n",
       "75%                                          3676.769750    \n",
       "max                                        629638.977914    \n",
       "\n",
       "       rougher.calculation.floatbank11_sulfate_to_au_feed  \\\n",
       "count                                       19437.000000    \n",
       "mean                                         3256.854171    \n",
       "std                                          5781.423659    \n",
       "min                                          -264.982785    \n",
       "25%                                          2551.437587    \n",
       "50%                                          2997.218088    \n",
       "75%                                          3601.998911    \n",
       "max                                        718684.955855    \n",
       "\n",
       "       rougher.calculation.au_pb_ratio  rougher.input.feed_ag  \\\n",
       "count                     19439.000000           19439.000000   \n",
       "mean                          2.420119               8.794927   \n",
       "std                           0.814935               1.936847   \n",
       "min                          -0.010548               0.010000   \n",
       "25%                           2.035434               7.237967   \n",
       "50%                           2.309665               8.593574   \n",
       "75%                           2.731794              10.213771   \n",
       "max                          39.379272              14.596026   \n",
       "\n",
       "       rougher.input.feed_pb  rougher.input.feed_rate  \\\n",
       "count           19339.000000             19428.000000   \n",
       "mean                3.598085               478.320042   \n",
       "std                 1.049486               105.373758   \n",
       "min                 0.010000                 0.002986   \n",
       "25%                 2.887280               416.525453   \n",
       "50%                 3.534895               499.416120   \n",
       "75%                 4.244161               550.172183   \n",
       "max                 7.142594               717.508837   \n",
       "\n",
       "       rougher.input.feed_size  rougher.input.feed_sol  rougher.input.feed_au  \\\n",
       "count             19294.000000            19340.000000           19439.000000   \n",
       "mean                 58.970310               36.695114               8.266097   \n",
       "std                  21.634478                5.145445               1.955092   \n",
       "min                   0.046369                0.010000               0.010000   \n",
       "25%                  47.435103               34.207799               6.854384   \n",
       "50%                  54.610197               37.202650               8.125839   \n",
       "75%                  65.023044               40.039133               9.769917   \n",
       "max                 484.967466               53.477742              13.731330   \n",
       "\n",
       "       rougher.input.floatbank10_sulfate  rougher.input.floatbank10_xanthate  \\\n",
       "count                       19405.000000                        19431.000000   \n",
       "mean                           12.334373                            6.021474   \n",
       "std                             3.427317                            1.127263   \n",
       "min                             0.001083                            0.000568   \n",
       "25%                            10.000362                            5.398678   \n",
       "50%                            12.001174                            6.008273   \n",
       "75%                            14.716595                            6.798051   \n",
       "max                            36.118275                            9.703448   \n",
       "\n",
       "       rougher.input.floatbank11_sulfate  rougher.input.floatbank11_xanthate  \\\n",
       "count                       19395.000000                        18986.000000   \n",
       "mean                           12.064140                            6.065533   \n",
       "std                             3.784221                            1.099118   \n",
       "min                             0.000077                            0.000290   \n",
       "25%                             9.998460                            5.402368   \n",
       "50%                            12.000204                            6.098580   \n",
       "75%                            14.636766                            6.801233   \n",
       "max                            37.980648                            9.698407   \n",
       "\n",
       "       rougher.output.concentrate_ag  rougher.output.concentrate_pb  \\\n",
       "count                   19439.000000                   19439.000000   \n",
       "mean                       11.994759                       7.606272   \n",
       "std                         2.733862                       1.796757   \n",
       "min                         0.000000                       0.000000   \n",
       "25%                        10.628337                       6.725987   \n",
       "50%                        12.098115                       7.742580   \n",
       "75%                        13.736996                       8.565199   \n",
       "max                        24.480271                      13.617072   \n",
       "\n",
       "       rougher.output.concentrate_sol  rougher.output.concentrate_au  \\\n",
       "count                    19416.000000                   19439.000000   \n",
       "mean                        28.805571                      19.772000   \n",
       "std                          5.944207                       3.753600   \n",
       "min                          0.000000                       0.000000   \n",
       "25%                         27.224120                      18.802523   \n",
       "50%                         29.835345                      20.280214   \n",
       "75%                         32.189933                      21.717843   \n",
       "max                         38.351193                      28.824507   \n",
       "\n",
       "       rougher.output.recovery  rougher.output.tail_ag  \\\n",
       "count             19439.000000            19438.000000   \n",
       "mean                 83.328587                5.588982   \n",
       "std                  14.148086                1.111288   \n",
       "min                   0.000000                0.594562   \n",
       "25%                  81.037957                4.889892   \n",
       "50%                  86.188892                5.765802   \n",
       "75%                  90.010670                6.389234   \n",
       "max                 100.000000               12.719177   \n",
       "\n",
       "       rougher.output.tail_pb  rougher.output.tail_sol  \\\n",
       "count            19439.000000             19439.000000   \n",
       "mean                 0.645782                18.057106   \n",
       "std                  0.251526                 3.449218   \n",
       "min                  0.007566                10.014648   \n",
       "25%                  0.477728                15.822525   \n",
       "50%                  0.617465                18.106867   \n",
       "75%                  0.778271                20.088151   \n",
       "max                  3.778064                66.117188   \n",
       "\n",
       "       rougher.output.tail_au  rougher.state.floatbank10_a_air  \\\n",
       "count            19439.000000                     19438.000000   \n",
       "mean                 1.816391                      1105.315068   \n",
       "std                  0.680046                       160.826798   \n",
       "min                  0.020676                        -0.042069   \n",
       "25%                  1.404207                       999.661867   \n",
       "50%                  1.808170                      1001.072890   \n",
       "75%                  2.211861                      1205.620588   \n",
       "max                  9.688980                      1521.980372   \n",
       "\n",
       "       rougher.state.floatbank10_a_level  rougher.state.floatbank10_b_air  \\\n",
       "count                       19438.000000                     19438.000000   \n",
       "mean                         -376.610690                      1320.221139   \n",
       "std                            93.909667                       176.287095   \n",
       "min                          -657.949759                        -0.721806   \n",
       "25%                          -499.835165                      1199.626115   \n",
       "50%                          -300.263994                      1301.579988   \n",
       "75%                          -299.981998                      1448.630789   \n",
       "max                          -273.776101                      1809.194008   \n",
       "\n",
       "       rougher.state.floatbank10_b_level  rougher.state.floatbank10_c_air  \\\n",
       "count                       19438.000000                     19438.000000   \n",
       "mean                         -467.247826                      1299.968799   \n",
       "std                            54.673142                       202.804325   \n",
       "min                          -650.260008                        -0.056636   \n",
       "25%                          -500.201130                      1151.076301   \n",
       "50%                          -499.784045                      1300.211537   \n",
       "75%                          -400.615589                      1449.464001   \n",
       "max                          -296.383080                      2499.129174   \n",
       "\n",
       "       rougher.state.floatbank10_c_level  rougher.state.floatbank10_d_air  \\\n",
       "count                       19438.000000                     19439.000000   \n",
       "mean                         -467.716946                      1211.563299   \n",
       "std                            53.534825                       204.019326   \n",
       "min                          -647.544439                        -0.992219   \n",
       "25%                          -500.217218                      1061.051788   \n",
       "50%                          -499.713364                      1201.569141   \n",
       "75%                          -400.985743                      1352.880320   \n",
       "max                          -292.155509                      1817.199290   \n",
       "\n",
       "       rougher.state.floatbank10_d_level  rougher.state.floatbank10_e_air  \\\n",
       "count                       19439.000000                     19003.000000   \n",
       "mean                         -468.239912                      1080.869685   \n",
       "std                            53.921458                       172.149992   \n",
       "min                          -648.390665                        -1.982295   \n",
       "25%                          -500.386386                       998.675263   \n",
       "50%                          -499.532412                      1050.029461   \n",
       "75%                          -401.638550                      1199.425140   \n",
       "max                           -76.397327                      1922.636637   \n",
       "\n",
       "       rougher.state.floatbank10_e_level  rougher.state.floatbank10_f_air  \\\n",
       "count                       19439.000000                     19439.000000   \n",
       "mean                         -466.037742                      1025.274256   \n",
       "std                            57.384424                       164.487837   \n",
       "min                          -649.443911                        -2.593390   \n",
       "25%                          -500.232191                       900.995511   \n",
       "50%                          -499.663089                       999.924821   \n",
       "75%                          -401.161191                      1099.719692   \n",
       "max                          -139.753025                      1706.307502   \n",
       "\n",
       "       rougher.state.floatbank10_f_level  secondary_cleaner.output.tail_ag  \\\n",
       "count                       19439.000000                      19437.000000   \n",
       "mean                         -466.265327                         14.586833   \n",
       "std                            57.850263                          4.265202   \n",
       "min                          -649.949283                          0.000000   \n",
       "25%                          -500.522553                         12.640239   \n",
       "50%                          -499.471777                         15.641902   \n",
       "75%                          -401.511042                         17.358217   \n",
       "max                          -191.718480                         23.264738   \n",
       "\n",
       "       secondary_cleaner.output.tail_pb  secondary_cleaner.output.tail_sol  \\\n",
       "count                      19427.000000                       17691.000000   \n",
       "mean                           5.777703                           7.167247   \n",
       "std                            2.774598                           3.916079   \n",
       "min                            0.000000                           0.000000   \n",
       "25%                            3.864733                           3.845475   \n",
       "50%                            5.344073                           7.685827   \n",
       "75%                            7.788467                          10.411296   \n",
       "max                           17.042505                          26.000772   \n",
       "\n",
       "       secondary_cleaner.output.tail_au  \\\n",
       "count                      19439.000000   \n",
       "mean                           4.339625   \n",
       "std                            2.326751   \n",
       "min                            0.000000   \n",
       "25%                            3.182770   \n",
       "50%                            4.072412   \n",
       "75%                            5.063081   \n",
       "max                           26.811643   \n",
       "\n",
       "       secondary_cleaner.state.floatbank2_a_air  \\\n",
       "count                              19219.000000   \n",
       "mean                                  28.705564   \n",
       "std                                    5.458789   \n",
       "min                                    0.077503   \n",
       "25%                                   25.048462   \n",
       "50%                                   29.099943   \n",
       "75%                                   33.012536   \n",
       "max                                   52.651399   \n",
       "\n",
       "       secondary_cleaner.state.floatbank2_a_level  \\\n",
       "count                                19438.000000   \n",
       "mean                                  -502.367331   \n",
       "std                                     53.571950   \n",
       "min                                   -799.606441   \n",
       "25%                                   -500.233700   \n",
       "50%                                   -499.973250   \n",
       "75%                                   -499.671261   \n",
       "max                                   -127.875565   \n",
       "\n",
       "       secondary_cleaner.state.floatbank2_b_air  \\\n",
       "count                              19416.000000   \n",
       "mean                                  24.106800   \n",
       "std                                    5.749616   \n",
       "min                                    0.000000   \n",
       "25%                                   20.919853   \n",
       "50%                                   25.043289   \n",
       "75%                                   28.008197   \n",
       "max                                   35.152122   \n",
       "\n",
       "       secondary_cleaner.state.floatbank2_b_level  \\\n",
       "count                                19438.000000   \n",
       "mean                                  -503.230712   \n",
       "std                                     56.567724   \n",
       "min                                   -799.873878   \n",
       "25%                                   -500.253794   \n",
       "50%                                   -500.015439   \n",
       "75%                                   -499.785698   \n",
       "max                                   -211.999273   \n",
       "\n",
       "       secondary_cleaner.state.floatbank3_a_air  \\\n",
       "count                              19426.000000   \n",
       "mean                                  28.199338   \n",
       "std                                    6.134908   \n",
       "min                                    0.000000   \n",
       "25%                                   24.949227   \n",
       "50%                                   27.982129   \n",
       "75%                                   33.002798   \n",
       "max                                   44.260464   \n",
       "\n",
       "       secondary_cleaner.state.floatbank3_a_level  \\\n",
       "count                                19438.000000   \n",
       "mean                                  -486.203350   \n",
       "std                                     54.412349   \n",
       "min                                   -799.755798   \n",
       "25%                                   -500.213546   \n",
       "50%                                   -499.930680   \n",
       "75%                                   -499.325739   \n",
       "max                                   -191.678810   \n",
       "\n",
       "       secondary_cleaner.state.floatbank3_b_air  \\\n",
       "count                              19438.000000   \n",
       "mean                                  22.200645   \n",
       "std                                    5.574001   \n",
       "min                                    0.000000   \n",
       "25%                                   18.995924   \n",
       "50%                                   22.011231   \n",
       "75%                                   25.998206   \n",
       "max                                   35.072841   \n",
       "\n",
       "       secondary_cleaner.state.floatbank3_b_level  \\\n",
       "count                                19438.000000   \n",
       "mean                                  -493.742107   \n",
       "std                                     43.372158   \n",
       "min                                   -809.333008   \n",
       "25%                                   -500.123034   \n",
       "50%                                   -499.981902   \n",
       "75%                                   -499.812834   \n",
       "max                                   -159.742331   \n",
       "\n",
       "       secondary_cleaner.state.floatbank4_a_air  \\\n",
       "count                              19433.000000   \n",
       "mean                                  18.987674   \n",
       "std                                    5.411058   \n",
       "min                                    0.000000   \n",
       "25%                                   14.975734   \n",
       "50%                                   18.017481   \n",
       "75%                                   23.012470   \n",
       "max                                   30.115735   \n",
       "\n",
       "       secondary_cleaner.state.floatbank4_a_level  \\\n",
       "count                                19438.000000   \n",
       "mean                                  -485.894516   \n",
       "std                                     47.758570   \n",
       "min                                   -799.798523   \n",
       "25%                                   -500.704892   \n",
       "50%                                   -499.837793   \n",
       "75%                                   -498.249730   \n",
       "max                                   -245.239184   \n",
       "\n",
       "       secondary_cleaner.state.floatbank4_b_air  \\\n",
       "count                              19438.000000   \n",
       "mean                                  15.010366   \n",
       "std                                    4.890228   \n",
       "min                                    0.000000   \n",
       "25%                                   11.940294   \n",
       "50%                                   14.971014   \n",
       "75%                                   19.034162   \n",
       "max                                   31.269706   \n",
       "\n",
       "       secondary_cleaner.state.floatbank4_b_level  \\\n",
       "count                                19438.000000   \n",
       "mean                                  -461.078636   \n",
       "std                                     67.405524   \n",
       "min                                   -800.836914   \n",
       "25%                                   -500.187742   \n",
       "50%                                   -499.459786   \n",
       "75%                                   -400.118106   \n",
       "max                                     -6.506986   \n",
       "\n",
       "       secondary_cleaner.state.floatbank5_a_air  \\\n",
       "count                              19438.000000   \n",
       "mean                                  15.694452   \n",
       "std                                    5.510974   \n",
       "min                                   -0.372054   \n",
       "25%                                   10.988606   \n",
       "50%                                   15.000036   \n",
       "75%                                   18.026190   \n",
       "max                                   43.709931   \n",
       "\n",
       "       secondary_cleaner.state.floatbank5_a_level  \\\n",
       "count                                19438.000000   \n",
       "mean                                  -488.684065   \n",
       "std                                     34.533396   \n",
       "min                                   -797.323986   \n",
       "25%                                   -500.458467   \n",
       "50%                                   -499.802605   \n",
       "75%                                   -498.384187   \n",
       "max                                   -244.483566   \n",
       "\n",
       "       secondary_cleaner.state.floatbank5_b_air  \\\n",
       "count                              19438.000000   \n",
       "mean                                  12.198224   \n",
       "std                                    5.333024   \n",
       "min                                    0.528083   \n",
       "25%                                    8.971105   \n",
       "50%                                   11.019433   \n",
       "75%                                   14.019088   \n",
       "max                                   27.926001   \n",
       "\n",
       "       secondary_cleaner.state.floatbank5_b_level  \\\n",
       "count                                19438.000000   \n",
       "mean                                  -487.149827   \n",
       "std                                     38.347312   \n",
       "min                                   -800.220337   \n",
       "25%                                   -500.129462   \n",
       "50%                                   -499.935317   \n",
       "75%                                   -499.436708   \n",
       "max                                   -137.740004   \n",
       "\n",
       "       secondary_cleaner.state.floatbank6_a_air  \\\n",
       "count                              19437.000000   \n",
       "mean                                  18.959024   \n",
       "std                                    5.550498   \n",
       "min                                   -0.079426   \n",
       "25%                                   14.983037   \n",
       "50%                                   19.960541   \n",
       "75%                                   24.003170   \n",
       "max                                   32.188906   \n",
       "\n",
       "       secondary_cleaner.state.floatbank6_a_level  \n",
       "count                                19438.000000  \n",
       "mean                                  -505.436305  \n",
       "std                                     37.689057  \n",
       "min                                   -809.741464  \n",
       "25%                                   -500.728067  \n",
       "50%                                   -500.048400  \n",
       "75%                                   -499.495378  \n",
       "max                                   -104.427459  "
      ]
     },
     "execution_count": 9,
     "metadata": {},
     "output_type": "execute_result"
    }
   ],
   "source": [
    "data_full.describe()"
   ]
  },
  {
   "cell_type": "markdown",
   "metadata": {},
   "source": [
    "Вывод:  \n",
    "\n",
    "В исходном датафрейме data_train: 87 столбцов  (1 из них — качественные, а 86 — количественные) , 14149 объектов. Тип данных представлен: float64 - 86 шт, object - 1 шт. Общее количество пропущенных значений 4100. Дубликатов не выявлено.\n",
    "\n",
    "В исходном датафрейме: 53 столбцов  (1 из них — качественные, а 52 — количественные) , 5290 объектов. Тип данных представлен: float64 - 52 шт, object - 1 шт. Общее количество пропущенных значений 90.\n",
    "\n",
    "В исходном датафрейме data_full: 87 столбцов  (1 из них — качественные, а 86 — количественные) , 19439 объектов. Тип данных представлен: float64 - 86 шт,  object - 1 шт. Общее количество пропущенных значений 4481.\n",
    "\n",
    "Датафреймы  data_train, data_test, data_full содержита следующие столбцы объединенные в блоки:\n",
    "\n",
    "Блоки\n",
    "* rougher — флотация\n",
    "* primary_cleaner — первичная очистка\n",
    "* secondary_cleaner — вторичная очистка\n",
    "* final — финальные характеристики\n",
    "\n",
    "Целевые признаки:\n",
    "* rougher.output.recovery -  параметры продукта восстановления после флотации\n",
    "* final.output.recovery - финальные характеристики восстановления продукта\n",
    "\n",
    "Многие признаки содержат большое количество нулей. Можно предположить, что нули - не измеренная концентрация или ошибка прибора измерения.\n",
    "Данные анамалии: пропуски и нуливые значения в концентрации в дальнейшем стоит удалить."
   ]
  },
  {
   "cell_type": "markdown",
   "metadata": {},
   "source": [
    "### Проверим, что эффективность обогащения рассчитана правильно. Вычислим её на обучающей выборке для признака rougher.output.recovery. Найдем MAE между  расчётами и значением признака. "
   ]
  },
  {
   "cell_type": "markdown",
   "metadata": {},
   "source": [
    "**recovery = (C * (F - T) / (F * (C - T))) * 100 %**\n",
    "\n",
    "где:\n",
    "C — доля золота в концентрате после флотации/очистки;\n",
    "F — доля золота в сырье/концентрате до флотации/очистки;\n",
    "T — доля золота в отвальных хвостах после флотации/очистки."
   ]
  },
  {
   "cell_type": "markdown",
   "metadata": {},
   "source": [
    "C - data_train['rougher.output.concentrate_au']\n",
    "\n",
    "F - data_train['rougher.input.feed_au'] \n",
    "\n",
    "T - data_train['rougher.output.tail_au']"
   ]
  },
  {
   "cell_type": "code",
   "execution_count": 10,
   "metadata": {},
   "outputs": [],
   "source": [
    "data_train['recovery']=(data_train['rougher.output.concentrate_au'] * (data_train['rougher.input.feed_au'] - data_train['rougher.output.tail_au']) / \n",
    "                        (data_train['rougher.input.feed_au'] * (data_train['rougher.output.concentrate_au'] - data_train['rougher.output.tail_au']))) * 100"
   ]
  },
  {
   "cell_type": "markdown",
   "metadata": {},
   "source": [
    "Построим график распределения эффективности обогащения рассчитаное и приведенное."
   ]
  },
  {
   "cell_type": "code",
   "execution_count": 11,
   "metadata": {
    "scrolled": true
   },
   "outputs": [
    {
     "data": {
      "text/plain": [
       "<matplotlib.axes._subplots.AxesSubplot at 0x7f5d52335c10>"
      ]
     },
     "execution_count": 11,
     "metadata": {},
     "output_type": "execute_result"
    },
    {
     "data": {
      "image/png": "[encoded data removed]",
      "text/plain": [
       "<Figure size 432x288 with 1 Axes>"
      ]
     },
     "metadata": {
      "needs_background": "light"
     },
     "output_type": "display_data"
    }
   ],
   "source": [
    "data_train['recovery'].plot(kind='hist', y='recovery', bins=50, title = 'recovery', color = 'b')\n",
    "data_train['rougher.output.recovery'].plot(kind='hist', y='rougher.output.recovery', bins=50, title = 'rougher', color = 'r', alpha=0.3)"
   ]
  },
  {
   "cell_type": "markdown",
   "metadata": {},
   "source": [
    "Графики совпадают один в один, следовательно расчетное значение совпадает с приведенным в данных.\n",
    "Рассчитаем МАЕ между расчетами и данными."
   ]
  },
  {
   "cell_type": "code",
   "execution_count": 12,
   "metadata": {},
   "outputs": [
    {
     "name": "stdout",
     "output_type": "stream",
     "text": [
      "MAE между вашими расчётами и значением признака: 9.682896147825551e-15\n"
     ]
    }
   ],
   "source": [
    "print('MAE между вашими расчётами и значением признака:', mean_absolute_error(data_train['recovery'], data_train['rougher.output.recovery']))"
   ]
  },
  {
   "cell_type": "markdown",
   "metadata": {},
   "source": [
    "Показатель МАЕ стремится к нулю, следовательно расчет эффективности обогащения рассчитан правильно."
   ]
  },
  {
   "cell_type": "markdown",
   "metadata": {},
   "source": [
    "### Анализ признаков, недоступных в тестовой выборке. "
   ]
  },
  {
   "cell_type": "code",
   "execution_count": 13,
   "metadata": {},
   "outputs": [
    {
     "name": "stdout",
     "output_type": "stream",
     "text": [
      "К-во признаков, которые недоступны в тестовой выборке: 35\n"
     ]
    }
   ],
   "source": [
    "print('К-во признаков, которые недоступны в тестовой выборке:' , len(set(data_train) - set(data_test)))"
   ]
  },
  {
   "cell_type": "markdown",
   "metadata": {},
   "source": [
    "В тестовом датефрейме находятся данные:\n",
    "* флотация:\n",
    " 'rougher.calculation.sulfate_to_au_concentrate',  'rougher.calculation.floatbank10_sulfate_to_au_feed',  'rougher.calculation.floatbank11_sulfate_to_au_feed',\n",
    " 'rougher.calculation.au_pb_ratio', 'rougher.output.concentrate_ag', 'rougher.output.concentrate_pb', 'rougher.output.concentrate_sol',  'rougher.output.concentrate_au', 'rougher.output.recovery',  'rougher.output.tail_ag',  'rougher.output.tail_pb',  'rougher.output.tail_sol', 'rougher.output.tail_au'\n",
    "* первичная очистка.параметры продукта:\n",
    " 'primary_cleaner.output.concentrate_ag',  'primary_cleaner.output.concentrate_pb',  'primary_cleaner.output.concentrate_sol',  'primary_cleaner.output.concentrate_au',  'primary_cleaner.output.tail_ag', 'primary_cleaner.output.tail_pb',  'primary_cleaner.output.tail_sol',  'primary_cleaner.output.tail_au'\n",
    "* вторичная очистка.параметры продукта:\n",
    " 'secondary_cleaner.output.tail_ag',  'secondary_cleaner.output.tail_pb',   'secondary_cleaner.output.tail_sol',  'secondary_cleaner.output.tail_au',\n",
    "* финальные характеристики.параметры продукта:\n",
    " 'final.output.concentrate_ag',  'final.output.concentrate_pb',  'final.output.concentrate_sol',  'final.output.concentrate_au',  'final.output.recovery',  'final.output.tail_ag', 'final.output.tail_pb',  'final.output.tail_sol',  'final.output.tail_au'\n",
    "\n",
    "В тестовом блоке отсутствуют все технологические параметры, характеризующие текущее состояние этапа, расчётные характеристики, целевые признаки:\n",
    "\n",
    "rougher.output.recovery — эффективность обогащения чернового концентрата\n",
    "\n",
    "final.output.recovery — эффективность обогащения финального концентрата"
   ]
  },
  {
   "cell_type": "markdown",
   "metadata": {},
   "source": [
    "### Предобработка данных."
   ]
  },
  {
   "cell_type": "markdown",
   "metadata": {},
   "source": [
    "Заменим тип данных для признака date."
   ]
  },
  {
   "cell_type": "code",
   "execution_count": 14,
   "metadata": {},
   "outputs": [],
   "source": [
    "data_train['date'] = pd.to_datetime(data_train['date'], format='%Y-%m-%d %H:%M:%S')\n",
    "data_test['date'] = pd.to_datetime(data_test['date'], format='%Y-%m-%d %H:%M:%S')\n",
    "data_full['date'] = pd.to_datetime(data_full['date'], format='%Y-%m-%d %H:%M:%S')"
   ]
  },
  {
   "cell_type": "markdown",
   "metadata": {},
   "source": [
    "Приведем обучающую выборку к тестовой. Удалим из обучающей не нужные столбцы."
   ]
  },
  {
   "cell_type": "markdown",
   "metadata": {},
   "source": [
    "Сделаем копии наших данных."
   ]
  },
  {
   "cell_type": "code",
   "execution_count": 15,
   "metadata": {},
   "outputs": [],
   "source": [
    "data_full_copy = data_full.copy(deep=True)\n",
    "data_train_copy = data_train.copy(deep=True)\n",
    "data_test_copy = data_test.copy(deep=True)"
   ]
  },
  {
   "cell_type": "markdown",
   "metadata": {},
   "source": [
    "Добавим в тестовую выборку данные, которые отсутствуют, чтобы в дальнейшем синхронировать ее с обучающей выборкой"
   ]
  },
  {
   "cell_type": "code",
   "execution_count": 16,
   "metadata": {},
   "outputs": [
    {
     "data": {
      "text/plain": [
       "(5290, 55)"
      ]
     },
     "execution_count": 16,
     "metadata": {},
     "output_type": "execute_result"
    }
   ],
   "source": [
    "data_test_copy = data_test_copy.merge(data_full_copy[['date', 'rougher.output.recovery', 'final.output.recovery']], \n",
    "                           how = 'left', on = 'date')\n",
    "data_test_copy.shape"
   ]
  },
  {
   "cell_type": "markdown",
   "metadata": {},
   "source": [
    "Удалим пропуски методом \n",
    "pad/ffill: использование предыдущего не пропущенного значения, чтобы заполнить пропущенное значение\n",
    "backfill/bfill: использование следующего за пропущенном значением не пропущенным значением"
   ]
  },
  {
   "cell_type": "code",
   "execution_count": 17,
   "metadata": {},
   "outputs": [],
   "source": [
    "data_full_copy = data_full_copy.ffill().bfill()\n",
    "data_train_copy = data_train_copy.ffill().bfill()\n",
    "data_test_copy = data_test_copy.ffill().bfill()"
   ]
  },
  {
   "cell_type": "markdown",
   "metadata": {},
   "source": [
    "Количество столбцов в data_test_copy и data_train_copy сделаем одинаковым"
   ]
  },
  {
   "cell_type": "code",
   "execution_count": 18,
   "metadata": {},
   "outputs": [],
   "source": [
    "useful_cols = list(data_test_copy.columns)\n",
    "data_train_copy = data_train_copy[useful_cols]"
   ]
  },
  {
   "cell_type": "code",
   "execution_count": 19,
   "metadata": {
    "scrolled": true
   },
   "outputs": [
    {
     "name": "stdout",
     "output_type": "stream",
     "text": [
      "Размер выборки train_copy: (14149, 55)\n",
      "Размер выборки test_copy: (5290, 55)\n"
     ]
    }
   ],
   "source": [
    "print('Размер выборки train_copy:', data_train_copy.shape)\n",
    "print('Размер выборки test_copy:', data_test_copy.shape)"
   ]
  },
  {
   "cell_type": "markdown",
   "metadata": {},
   "source": [
    "Проверим как признаки коррелируют с целевыми признаками"
   ]
  },
  {
   "cell_type": "markdown",
   "metadata": {},
   "source": [
    "### Вывод\n",
    "\n",
    "\n",
    "\n",
    "\n",
    "    \n"
   ]
  },
  {
   "cell_type": "markdown",
   "metadata": {},
   "source": [
    "1. Открыли, изучили и провели предобработку данных. \n",
    "2. Провели расчет, построили график и определили, что эффективность обогащения рассчитана правильно.\n",
    "3. Проанализировали признаки, недоступные в тестовой выборке.\n",
    "4. Провели предобработку данных:\n",
    "    * заменили тип данных для признака date\n",
    "    * обработали пропуски\n",
    "    * подготовили обучающую и тестовую выборки для дальнейшей работы."
   ]
  },
  {
   "cell_type": "markdown",
   "metadata": {},
   "source": [
    "## Анализ данных"
   ]
  },
  {
   "cell_type": "markdown",
   "metadata": {},
   "source": [
    "### Посмотрите, как меняется концентрация металлов (Au, Ag, Pb) на различных этапах очистки. Опишите выводы."
   ]
  },
  {
   "cell_type": "code",
   "execution_count": 20,
   "metadata": {},
   "outputs": [],
   "source": [
    "def  concentration(m, d, h):\n",
    "    plt.figure(figsize=[12,9])\n",
    "\n",
    "    plt.hist(data_full_copy['final.output.concentrate_'+m], bins=100, label = 'final.output', alpha=.5)\n",
    "    plt.hist(data_full_copy['primary_cleaner.output.concentrate_'+m], bins=100, label = 'primary_cleaner.output', alpha=.5)\n",
    "    plt.hist(data_full_copy['rougher.output.concentrate_'+m], bins=100, label = 'rougher.output', alpha=.5)\n",
    "    plt.hist(data_full_copy['rougher.input.feed_'+m], bins=100, label = 'rougher.input.feed', alpha=.5)\n",
    "\n",
    "\n",
    "    plt.xlim([0, d])\n",
    "    plt.ylim([0, h])\n",
    "\n",
    "    plt.xlabel('Концентрация на выходе этапов '+ str(m).title())\n",
    "    plt.ylabel(\"Количество результатов\")\n",
    "\n",
    "    plt.legend(loc='upper left', fontsize='x-large')\n",
    "\n",
    "    plt.title(\"Гистограмма распределения концентрации \" + str(m).title())\n",
    "    plt.show()"
   ]
  },
  {
   "cell_type": "code",
   "execution_count": 21,
   "metadata": {
    "scrolled": false
   },
   "outputs": [
    {
     "data": {
      "image/png": "[encoded data removed]",
      "text/plain": [
       "<Figure size 864x648 with 1 Axes>"
      ]
     },
     "metadata": {
      "needs_background": "light"
     },
     "output_type": "display_data"
    }
   ],
   "source": [
    "concentration('au', 55, 2200)"
   ]
  },
  {
   "cell_type": "markdown",
   "metadata": {},
   "source": [
    "Концентрация золота с каждым этапом очистки увеличивается. Наименьшая концентрация золота на этапе исходное сырье (rougher.input.feed_au), а самый высокий на финальном этапе (final.output.concentrate_au), что соответствует технологическому процессу очистки золотоносной руды.\n",
    "\n",
    "Стоит обратить внимание на наличие нуливых значений, которые присущи всем четырем зависимостям."
   ]
  },
  {
   "cell_type": "code",
   "execution_count": 22,
   "metadata": {
    "scrolled": true
   },
   "outputs": [
    {
     "data": {
      "image/png": "[encoded data removed]",
      "text/plain": [
       "<Figure size 864x648 with 1 Axes>"
      ]
     },
     "metadata": {
      "needs_background": "light"
     },
     "output_type": "display_data"
    }
   ],
   "source": [
    "concentration('ag', 25, 1100)"
   ]
  },
  {
   "cell_type": "markdown",
   "metadata": {},
   "source": [
    "Концентрация серебра понижается с каждым шагом очистки.  Максимальную концентрацию серебра мы видим после второго этапа очистки.\n",
    "\n",
    "Стоит обратить внимание на наличие нуливых значений, которые присущи всем четырем зависимостям."
   ]
  },
  {
   "cell_type": "code",
   "execution_count": 23,
   "metadata": {
    "scrolled": true
   },
   "outputs": [
    {
     "data": {
      "image/png": "[encoded data removed]",
      "text/plain": [
       "<Figure size 864x648 with 1 Axes>"
      ]
     },
     "metadata": {
      "needs_background": "light"
     },
     "output_type": "display_data"
    }
   ],
   "source": [
    "concentration('pb', 20, 1000)"
   ]
  },
  {
   "cell_type": "markdown",
   "metadata": {},
   "source": [
    "Из представленных данных видно, концентрация свинца возрастает.  Это связано с химическим процесами очищения золота. При использование азотнокислого выщелачивания в концентрате образуется много сульфата свинца. Повышение концентрации свинца в целом происходит не только из-за этого процесса, но из-за очищения других составляющих из золотоносной руды.\n",
    "В данных есть выбросы."
   ]
  },
  {
   "cell_type": "markdown",
   "metadata": {},
   "source": [
    "### Сравните распределения размеров гранул сырья на обучающей и тестовой выборках. Если распределения сильно отличаются друг от друга, оценка модели будет неправильной."
   ]
  },
  {
   "cell_type": "code",
   "execution_count": 24,
   "metadata": {
    "scrolled": true
   },
   "outputs": [
    {
     "data": {
      "image/png": "[encoded data removed]",
      "text/plain": [
       "<Figure size 864x648 with 1 Axes>"
      ]
     },
     "metadata": {
      "needs_background": "light"
     },
     "output_type": "display_data"
    }
   ],
   "source": [
    "plt.figure(figsize=[12,9])\n",
    "\n",
    "plt.hist(data_train_copy['rougher.input.feed_size'], bins=100, label = 'rougher.input.feed_train', alpha=.5)\n",
    "plt.hist(data_test_copy['rougher.input.feed_size'], bins=100, label = 'rougher.input.feed_test', alpha=.5)\n",
    "\n",
    "plt.xlim([0, 150])\n",
    "plt.ylim([0, 2750])\n",
    "\n",
    "plt.xlabel(\"Размеры гранул\")\n",
    "plt.ylabel(\"Количество\")\n",
    "\n",
    "plt.legend(loc='upper left', fontsize='x-large')\n",
    "\n",
    "plt.title(\"Гистограмма  распределения размеров гранул сырья до флотации\")\n",
    "plt.show()"
   ]
  },
  {
   "cell_type": "markdown",
   "metadata": {},
   "source": [
    "Распределение гранул до флотации похоже на нормальное со смещением влево как в обучающей, так и в тестовой выбрке. Существует много выбросов при размере гранул превышающих 100."
   ]
  },
  {
   "cell_type": "code",
   "execution_count": 25,
   "metadata": {
    "scrolled": true
   },
   "outputs": [
    {
     "data": {
      "image/png": "[encoded data removed]",
      "text/plain": [
       "<Figure size 864x648 with 1 Axes>"
      ]
     },
     "metadata": {
      "needs_background": "light"
     },
     "output_type": "display_data"
    }
   ],
   "source": [
    "plt.figure(figsize=[12,9])\n",
    "\n",
    "plt.hist(data_train_copy['primary_cleaner.input.feed_size'], bins=100, label = 'primary_cleaner.output_train', alpha=.5)\n",
    "plt.hist(data_test_copy['primary_cleaner.input.feed_size'], bins=100, label = 'primary_cleaner.output_test', alpha=.5)\n",
    "\n",
    "plt.xlim([0, 15])\n",
    "plt.ylim([0, 1300])\n",
    "\n",
    "plt.xlabel(\"Размеры гранул\")\n",
    "plt.ylabel(\"Количество\")\n",
    "\n",
    "plt.legend(loc='upper left', fontsize='x-large')\n",
    "\n",
    "plt.title(\"Гистограмма  распределения размеров гранул сырья после первого этапа очистки\")\n",
    "plt.show()"
   ]
  },
  {
   "cell_type": "markdown",
   "metadata": {},
   "source": [
    "Размеры гранул перед первичной очисткой обладают нормальным распределением.\n",
    "\n",
    "Рассчитаем соотношение среднего размера гранул в обучающей выборке к тестовой."
   ]
  },
  {
   "cell_type": "code",
   "execution_count": 26,
   "metadata": {
    "scrolled": true
   },
   "outputs": [
    {
     "name": "stdout",
     "output_type": "stream",
     "text": [
      "1.076620034850264\n",
      "1.007702739186418\n"
     ]
    }
   ],
   "source": [
    "print(data_train_copy['rougher.input.feed_size'].mean()/data_test_copy['rougher.input.feed_size'].mean())\n",
    "print(data_train_copy['primary_cleaner.input.feed_size'].mean()/data_test_copy['primary_cleaner.input.feed_size'].mean())"
   ]
  },
  {
   "cell_type": "markdown",
   "metadata": {},
   "source": [
    "Соотношение 1:1, что до флотации, что после первичной выборки."
   ]
  },
  {
   "cell_type": "markdown",
   "metadata": {},
   "source": [
    "### Исследуйте суммарную концентрацию всех веществ на разных стадиях: в сырье, в черновом и финальном концентратах."
   ]
  },
  {
   "cell_type": "code",
   "execution_count": 27,
   "metadata": {
    "scrolled": true
   },
   "outputs": [
    {
     "data": {
      "image/png": "[encoded data removed]",
      "text/plain": [
       "<Figure size 864x648 with 1 Axes>"
      ]
     },
     "metadata": {
      "needs_background": "light"
     },
     "output_type": "display_data"
    }
   ],
   "source": [
    "plt.figure(figsize=[12,9])\n",
    "data_full_copy_f = data_full_copy['final.output.concentrate_au'] +  data_full_copy['final.output.concentrate_ag']  + data_full_copy['final.output.concentrate_pb']\n",
    "data_full_copy_p = data_full_copy['primary_cleaner.output.concentrate_au'] + data_full_copy['primary_cleaner.output.concentrate_ag'] + data_full_copy['primary_cleaner.output.concentrate_pb']\n",
    "data_full_copy_r_c = data_full_copy['rougher.output.concentrate_au'] + data_full_copy['rougher.output.concentrate_ag'] + data_full_copy['rougher.output.concentrate_pb']\n",
    "data_full_copy_r_f = data_full_copy['rougher.input.feed_au'] + data_full_copy['rougher.input.feed_ag'] + data_full_copy['rougher.input.feed_pb']\n",
    "plt.hist( data_full_copy_f, bins=100, label = 'final.output', alpha=.5)\n",
    "plt.hist(data_full_copy_p, bins=100, label = 'primary_cleaner.output', alpha=.5)\n",
    "plt.hist(data_full_copy_r_c, bins=100, label = 'rougher.output', alpha=.5)\n",
    "plt.hist(data_full_copy_r_f, bins=100, label = 'rougher.input.feed', alpha=.5)\n",
    "\n",
    "\n",
    "plt.xlim([0, 65])\n",
    "plt.ylim([0, 4200])\n",
    "\n",
    "plt.xlabel('Концентрация на разных стадиях')\n",
    "plt.ylabel(\"Количество результатов\")\n",
    "\n",
    "plt.legend(loc='upper left', fontsize='x-large')\n",
    "\n",
    "plt.title(\"Гистограмма распределения концентрации \")\n",
    "plt.show()"
   ]
  },
  {
   "cell_type": "markdown",
   "metadata": {},
   "source": [
    "Концентрация элементов с каждым этапом обработки возрастает.\n",
    "Выялено, что на всех этапах обработки суммарная концентрация всех металлов составляет 0. Такие объекты необходимо удалить, так как они не несут никакого смысла и могут негативно повлиять на работу модели."
   ]
  },
  {
   "cell_type": "code",
   "execution_count": 28,
   "metadata": {},
   "outputs": [],
   "source": [
    "def  sum_concentration(f):\n",
    "    sun_conc = (data_full_copy[f+'au'] + data_full_copy[f+'ag'] + data_full_copy[f+'pb']).sum()\n",
    "    return sun_conc"
   ]
  },
  {
   "cell_type": "code",
   "execution_count": 29,
   "metadata": {},
   "outputs": [
    {
     "name": "stdout",
     "output_type": "stream",
     "text": [
      "Суммарная концентрация всех веществ в сырье 401339.9356994926\n",
      "Суммарная концентрация всех веществ в черновом концентрате 765372.3654042517\n",
      "Суммарная концентрация всех веществ  в финальном концентрате 1151249.918227378\n"
     ]
    }
   ],
   "source": [
    "print('Суммарная концентрация всех веществ в сырье',  sum_concentration('rougher.input.feed_'))\n",
    "print('Суммарная концентрация всех веществ в черновом концентрате',  sum_concentration('rougher.output.concentrate_'))\n",
    "print('Суммарная концентрация всех веществ  в финальном концентрате',  sum_concentration('final.output.concentrate_'))"
   ]
  },
  {
   "cell_type": "markdown",
   "metadata": {},
   "source": [
    "Изучим нуливые значения для золота в обобщенных данных на разных этапах: primary_cleaner.output.concentrate_au, final.output.concentrate_au."
   ]
  },
  {
   "cell_type": "code",
   "execution_count": 30,
   "metadata": {
    "scrolled": false
   },
   "outputs": [
    {
     "data": {
      "text/html": [
       "<div>\n",
       "<style scoped>\n",
       "    .dataframe tbody tr th:only-of-type {\n",
       "        vertical-align: middle;\n",
       "    }\n",
       "\n",
       "    .dataframe tbody tr th {\n",
       "        vertical-align: top;\n",
       "    }\n",
       "\n",
       "    .dataframe thead th {\n",
       "        text-align: right;\n",
       "    }\n",
       "</style>\n",
       "<table border=\"1\" class=\"dataframe\">\n",
       "  <thead>\n",
       "    <tr style=\"text-align: right;\">\n",
       "      <th></th>\n",
       "      <th>date</th>\n",
       "      <th>final.output.concentrate_ag</th>\n",
       "      <th>final.output.concentrate_pb</th>\n",
       "      <th>final.output.concentrate_sol</th>\n",
       "      <th>final.output.concentrate_au</th>\n",
       "      <th>final.output.recovery</th>\n",
       "      <th>final.output.tail_ag</th>\n",
       "      <th>final.output.tail_pb</th>\n",
       "      <th>final.output.tail_sol</th>\n",
       "      <th>final.output.tail_au</th>\n",
       "      <th>primary_cleaner.input.sulfate</th>\n",
       "      <th>primary_cleaner.input.depressant</th>\n",
       "      <th>primary_cleaner.input.feed_size</th>\n",
       "      <th>primary_cleaner.input.xanthate</th>\n",
       "      <th>primary_cleaner.output.concentrate_ag</th>\n",
       "      <th>primary_cleaner.output.concentrate_pb</th>\n",
       "      <th>primary_cleaner.output.concentrate_sol</th>\n",
       "      <th>primary_cleaner.output.concentrate_au</th>\n",
       "      <th>primary_cleaner.output.tail_ag</th>\n",
       "      <th>primary_cleaner.output.tail_pb</th>\n",
       "      <th>primary_cleaner.output.tail_sol</th>\n",
       "      <th>primary_cleaner.output.tail_au</th>\n",
       "      <th>primary_cleaner.state.floatbank8_a_air</th>\n",
       "      <th>primary_cleaner.state.floatbank8_a_level</th>\n",
       "      <th>primary_cleaner.state.floatbank8_b_air</th>\n",
       "      <th>primary_cleaner.state.floatbank8_b_level</th>\n",
       "      <th>primary_cleaner.state.floatbank8_c_air</th>\n",
       "      <th>primary_cleaner.state.floatbank8_c_level</th>\n",
       "      <th>primary_cleaner.state.floatbank8_d_air</th>\n",
       "      <th>primary_cleaner.state.floatbank8_d_level</th>\n",
       "      <th>rougher.calculation.sulfate_to_au_concentrate</th>\n",
       "      <th>rougher.calculation.floatbank10_sulfate_to_au_feed</th>\n",
       "      <th>rougher.calculation.floatbank11_sulfate_to_au_feed</th>\n",
       "      <th>rougher.calculation.au_pb_ratio</th>\n",
       "      <th>rougher.input.feed_ag</th>\n",
       "      <th>rougher.input.feed_pb</th>\n",
       "      <th>rougher.input.feed_rate</th>\n",
       "      <th>rougher.input.feed_size</th>\n",
       "      <th>rougher.input.feed_sol</th>\n",
       "      <th>rougher.input.feed_au</th>\n",
       "      <th>rougher.input.floatbank10_sulfate</th>\n",
       "      <th>rougher.input.floatbank10_xanthate</th>\n",
       "      <th>rougher.input.floatbank11_sulfate</th>\n",
       "      <th>rougher.input.floatbank11_xanthate</th>\n",
       "      <th>rougher.output.concentrate_ag</th>\n",
       "      <th>rougher.output.concentrate_pb</th>\n",
       "      <th>rougher.output.concentrate_sol</th>\n",
       "      <th>rougher.output.concentrate_au</th>\n",
       "      <th>rougher.output.recovery</th>\n",
       "      <th>rougher.output.tail_ag</th>\n",
       "      <th>rougher.output.tail_pb</th>\n",
       "      <th>rougher.output.tail_sol</th>\n",
       "      <th>rougher.output.tail_au</th>\n",
       "      <th>rougher.state.floatbank10_a_air</th>\n",
       "      <th>rougher.state.floatbank10_a_level</th>\n",
       "      <th>rougher.state.floatbank10_b_air</th>\n",
       "      <th>rougher.state.floatbank10_b_level</th>\n",
       "      <th>rougher.state.floatbank10_c_air</th>\n",
       "      <th>rougher.state.floatbank10_c_level</th>\n",
       "      <th>rougher.state.floatbank10_d_air</th>\n",
       "      <th>rougher.state.floatbank10_d_level</th>\n",
       "      <th>rougher.state.floatbank10_e_air</th>\n",
       "      <th>rougher.state.floatbank10_e_level</th>\n",
       "      <th>rougher.state.floatbank10_f_air</th>\n",
       "      <th>rougher.state.floatbank10_f_level</th>\n",
       "      <th>secondary_cleaner.output.tail_ag</th>\n",
       "      <th>secondary_cleaner.output.tail_pb</th>\n",
       "      <th>secondary_cleaner.output.tail_sol</th>\n",
       "      <th>secondary_cleaner.output.tail_au</th>\n",
       "      <th>secondary_cleaner.state.floatbank2_a_air</th>\n",
       "      <th>secondary_cleaner.state.floatbank2_a_level</th>\n",
       "      <th>secondary_cleaner.state.floatbank2_b_air</th>\n",
       "      <th>secondary_cleaner.state.floatbank2_b_level</th>\n",
       "      <th>secondary_cleaner.state.floatbank3_a_air</th>\n",
       "      <th>secondary_cleaner.state.floatbank3_a_level</th>\n",
       "      <th>secondary_cleaner.state.floatbank3_b_air</th>\n",
       "      <th>secondary_cleaner.state.floatbank3_b_level</th>\n",
       "      <th>secondary_cleaner.state.floatbank4_a_air</th>\n",
       "      <th>secondary_cleaner.state.floatbank4_a_level</th>\n",
       "      <th>secondary_cleaner.state.floatbank4_b_air</th>\n",
       "      <th>secondary_cleaner.state.floatbank4_b_level</th>\n",
       "      <th>secondary_cleaner.state.floatbank5_a_air</th>\n",
       "      <th>secondary_cleaner.state.floatbank5_a_level</th>\n",
       "      <th>secondary_cleaner.state.floatbank5_b_air</th>\n",
       "      <th>secondary_cleaner.state.floatbank5_b_level</th>\n",
       "      <th>secondary_cleaner.state.floatbank6_a_air</th>\n",
       "      <th>secondary_cleaner.state.floatbank6_a_level</th>\n",
       "    </tr>\n",
       "  </thead>\n",
       "  <tbody>\n",
       "    <tr>\n",
       "      <td>19</td>\n",
       "      <td>2016-01-15 19:00:00</td>\n",
       "      <td>5.658943</td>\n",
       "      <td>10.436002</td>\n",
       "      <td>5.942418</td>\n",
       "      <td>42.509402</td>\n",
       "      <td>70.348300</td>\n",
       "      <td>10.232392</td>\n",
       "      <td>1.174845</td>\n",
       "      <td>19.498566</td>\n",
       "      <td>2.272460</td>\n",
       "      <td>149.998260</td>\n",
       "      <td>12.509947</td>\n",
       "      <td>7.25</td>\n",
       "      <td>0.997030</td>\n",
       "      <td>0.0</td>\n",
       "      <td>0.0</td>\n",
       "      <td>0.0</td>\n",
       "      <td>0.0</td>\n",
       "      <td>14.915949</td>\n",
       "      <td>2.702527</td>\n",
       "      <td>7.784534</td>\n",
       "      <td>2.013487</td>\n",
       "      <td>1599.617983</td>\n",
       "      <td>-499.527131</td>\n",
       "      <td>1599.389604</td>\n",
       "      <td>-499.554869</td>\n",
       "      <td>1600.441370</td>\n",
       "      <td>-500.503609</td>\n",
       "      <td>1601.900702</td>\n",
       "      <td>-500.129123</td>\n",
       "      <td>41959.818540</td>\n",
       "      <td>3507.941540</td>\n",
       "      <td>3499.552368</td>\n",
       "      <td>2.448851</td>\n",
       "      <td>6.046063</td>\n",
       "      <td>2.777324</td>\n",
       "      <td>571.766992</td>\n",
       "      <td>62.823127</td>\n",
       "      <td>40.381002</td>\n",
       "      <td>6.801254</td>\n",
       "      <td>14.812266</td>\n",
       "      <td>7.064468</td>\n",
       "      <td>14.814722</td>\n",
       "      <td>7.064408</td>\n",
       "      <td>10.788951</td>\n",
       "      <td>7.537074</td>\n",
       "      <td>26.092838</td>\n",
       "      <td>18.511902</td>\n",
       "      <td>86.241795</td>\n",
       "      <td>4.919573</td>\n",
       "      <td>0.739863</td>\n",
       "      <td>20.309714</td>\n",
       "      <td>1.369732</td>\n",
       "      <td>999.708593</td>\n",
       "      <td>-400.075046</td>\n",
       "      <td>1600.639292</td>\n",
       "      <td>-450.110961</td>\n",
       "      <td>1602.333794</td>\n",
       "      <td>-450.673170</td>\n",
       "      <td>1600.427078</td>\n",
       "      <td>-449.633484</td>\n",
       "      <td>1401.859581</td>\n",
       "      <td>-448.145152</td>\n",
       "      <td>1400.906088</td>\n",
       "      <td>-451.771497</td>\n",
       "      <td>12.708557</td>\n",
       "      <td>4.565723</td>\n",
       "      <td>9.997717</td>\n",
       "      <td>2.138772</td>\n",
       "      <td>25.999540</td>\n",
       "      <td>-500.152462</td>\n",
       "      <td>24.013000</td>\n",
       "      <td>-500.297031</td>\n",
       "      <td>24.022240</td>\n",
       "      <td>-499.329964</td>\n",
       "      <td>24.012891</td>\n",
       "      <td>-499.923981</td>\n",
       "      <td>14.001632</td>\n",
       "      <td>-509.808331</td>\n",
       "      <td>12.087669</td>\n",
       "      <td>-510.782166</td>\n",
       "      <td>10.032043</td>\n",
       "      <td>-499.128183</td>\n",
       "      <td>8.016140</td>\n",
       "      <td>-499.806844</td>\n",
       "      <td>13.949790</td>\n",
       "      <td>-600.140776</td>\n",
       "    </tr>\n",
       "    <tr>\n",
       "      <td>22</td>\n",
       "      <td>2016-01-15 22:00:00</td>\n",
       "      <td>6.118749</td>\n",
       "      <td>10.483007</td>\n",
       "      <td>6.546983</td>\n",
       "      <td>41.406172</td>\n",
       "      <td>69.823900</td>\n",
       "      <td>10.322077</td>\n",
       "      <td>1.270956</td>\n",
       "      <td>19.384247</td>\n",
       "      <td>2.245145</td>\n",
       "      <td>158.353434</td>\n",
       "      <td>14.020791</td>\n",
       "      <td>7.25</td>\n",
       "      <td>0.997999</td>\n",
       "      <td>0.0</td>\n",
       "      <td>0.0</td>\n",
       "      <td>0.0</td>\n",
       "      <td>0.0</td>\n",
       "      <td>13.874346</td>\n",
       "      <td>2.440897</td>\n",
       "      <td>8.529620</td>\n",
       "      <td>1.964468</td>\n",
       "      <td>1596.351031</td>\n",
       "      <td>-498.896997</td>\n",
       "      <td>1596.177717</td>\n",
       "      <td>-500.402418</td>\n",
       "      <td>1598.280618</td>\n",
       "      <td>-498.946313</td>\n",
       "      <td>1600.472486</td>\n",
       "      <td>-499.623157</td>\n",
       "      <td>42082.414968</td>\n",
       "      <td>3506.178699</td>\n",
       "      <td>3501.343118</td>\n",
       "      <td>2.617243</td>\n",
       "      <td>5.599324</td>\n",
       "      <td>2.525838</td>\n",
       "      <td>571.140653</td>\n",
       "      <td>64.816398</td>\n",
       "      <td>41.302359</td>\n",
       "      <td>6.610732</td>\n",
       "      <td>14.501843</td>\n",
       "      <td>7.301759</td>\n",
       "      <td>14.460181</td>\n",
       "      <td>7.298780</td>\n",
       "      <td>10.958096</td>\n",
       "      <td>7.267608</td>\n",
       "      <td>25.911055</td>\n",
       "      <td>18.089134</td>\n",
       "      <td>88.132239</td>\n",
       "      <td>4.421208</td>\n",
       "      <td>0.705108</td>\n",
       "      <td>20.397352</td>\n",
       "      <td>1.157287</td>\n",
       "      <td>1000.107388</td>\n",
       "      <td>-399.263233</td>\n",
       "      <td>1599.780054</td>\n",
       "      <td>-449.883122</td>\n",
       "      <td>1597.621485</td>\n",
       "      <td>-450.022545</td>\n",
       "      <td>1605.906830</td>\n",
       "      <td>-449.026683</td>\n",
       "      <td>1400.871116</td>\n",
       "      <td>-449.902838</td>\n",
       "      <td>1400.723107</td>\n",
       "      <td>-449.651567</td>\n",
       "      <td>11.523559</td>\n",
       "      <td>4.466500</td>\n",
       "      <td>10.776495</td>\n",
       "      <td>2.018144</td>\n",
       "      <td>25.979270</td>\n",
       "      <td>-499.922901</td>\n",
       "      <td>24.039935</td>\n",
       "      <td>-499.368998</td>\n",
       "      <td>24.027888</td>\n",
       "      <td>-501.291317</td>\n",
       "      <td>23.994020</td>\n",
       "      <td>-499.715395</td>\n",
       "      <td>13.943970</td>\n",
       "      <td>-541.642068</td>\n",
       "      <td>11.993920</td>\n",
       "      <td>-550.493894</td>\n",
       "      <td>9.985232</td>\n",
       "      <td>-499.796583</td>\n",
       "      <td>7.985524</td>\n",
       "      <td>-499.872153</td>\n",
       "      <td>13.973257</td>\n",
       "      <td>-600.054998</td>\n",
       "    </tr>\n",
       "    <tr>\n",
       "      <td>30</td>\n",
       "      <td>2016-01-16 06:00:00</td>\n",
       "      <td>5.322681</td>\n",
       "      <td>9.577672</td>\n",
       "      <td>4.805490</td>\n",
       "      <td>44.059908</td>\n",
       "      <td>69.193840</td>\n",
       "      <td>10.334312</td>\n",
       "      <td>1.406355</td>\n",
       "      <td>19.923319</td>\n",
       "      <td>2.239310</td>\n",
       "      <td>145.952867</td>\n",
       "      <td>13.947704</td>\n",
       "      <td>7.25</td>\n",
       "      <td>0.991678</td>\n",
       "      <td>0.0</td>\n",
       "      <td>0.0</td>\n",
       "      <td>0.0</td>\n",
       "      <td>0.0</td>\n",
       "      <td>14.613684</td>\n",
       "      <td>2.893445</td>\n",
       "      <td>8.537165</td>\n",
       "      <td>1.982306</td>\n",
       "      <td>1599.096777</td>\n",
       "      <td>-498.630270</td>\n",
       "      <td>1599.484314</td>\n",
       "      <td>-499.255872</td>\n",
       "      <td>1598.366222</td>\n",
       "      <td>-499.198198</td>\n",
       "      <td>1602.317332</td>\n",
       "      <td>-500.664282</td>\n",
       "      <td>41974.790294</td>\n",
       "      <td>3501.482821</td>\n",
       "      <td>3497.994338</td>\n",
       "      <td>2.600945</td>\n",
       "      <td>5.689557</td>\n",
       "      <td>2.508414</td>\n",
       "      <td>583.537789</td>\n",
       "      <td>64.616077</td>\n",
       "      <td>43.042457</td>\n",
       "      <td>6.524249</td>\n",
       "      <td>14.160944</td>\n",
       "      <td>7.300138</td>\n",
       "      <td>14.205313</td>\n",
       "      <td>7.298306</td>\n",
       "      <td>11.574823</td>\n",
       "      <td>7.384216</td>\n",
       "      <td>25.740506</td>\n",
       "      <td>17.583602</td>\n",
       "      <td>88.066903</td>\n",
       "      <td>4.404777</td>\n",
       "      <td>0.714497</td>\n",
       "      <td>21.003984</td>\n",
       "      <td>1.156424</td>\n",
       "      <td>999.750176</td>\n",
       "      <td>-399.931753</td>\n",
       "      <td>1600.527289</td>\n",
       "      <td>-450.011008</td>\n",
       "      <td>1600.517301</td>\n",
       "      <td>-450.379779</td>\n",
       "      <td>1603.804224</td>\n",
       "      <td>-450.250299</td>\n",
       "      <td>1402.769232</td>\n",
       "      <td>-447.699241</td>\n",
       "      <td>1401.919470</td>\n",
       "      <td>-451.025028</td>\n",
       "      <td>12.403678</td>\n",
       "      <td>5.121716</td>\n",
       "      <td>11.185081</td>\n",
       "      <td>2.216077</td>\n",
       "      <td>25.942168</td>\n",
       "      <td>-500.100481</td>\n",
       "      <td>24.040606</td>\n",
       "      <td>-499.449996</td>\n",
       "      <td>25.013290</td>\n",
       "      <td>-500.208164</td>\n",
       "      <td>23.988862</td>\n",
       "      <td>-500.062470</td>\n",
       "      <td>13.981220</td>\n",
       "      <td>-551.189582</td>\n",
       "      <td>12.004777</td>\n",
       "      <td>-549.974630</td>\n",
       "      <td>9.969535</td>\n",
       "      <td>-499.350934</td>\n",
       "      <td>8.017975</td>\n",
       "      <td>-500.620850</td>\n",
       "      <td>11.999969</td>\n",
       "      <td>-600.315548</td>\n",
       "    </tr>\n",
       "    <tr>\n",
       "      <td>71</td>\n",
       "      <td>2016-01-18 01:00:00</td>\n",
       "      <td>4.677499</td>\n",
       "      <td>11.304745</td>\n",
       "      <td>4.655438</td>\n",
       "      <td>45.135616</td>\n",
       "      <td>72.437752</td>\n",
       "      <td>10.525415</td>\n",
       "      <td>1.479372</td>\n",
       "      <td>19.364956</td>\n",
       "      <td>2.215637</td>\n",
       "      <td>162.832830</td>\n",
       "      <td>12.024304</td>\n",
       "      <td>7.25</td>\n",
       "      <td>1.110139</td>\n",
       "      <td>0.0</td>\n",
       "      <td>0.0</td>\n",
       "      <td>0.0</td>\n",
       "      <td>0.0</td>\n",
       "      <td>15.381083</td>\n",
       "      <td>2.899981</td>\n",
       "      <td>7.829180</td>\n",
       "      <td>2.310403</td>\n",
       "      <td>1600.411540</td>\n",
       "      <td>-500.602704</td>\n",
       "      <td>1598.410648</td>\n",
       "      <td>-499.290937</td>\n",
       "      <td>1596.883719</td>\n",
       "      <td>-500.477610</td>\n",
       "      <td>1599.276083</td>\n",
       "      <td>-499.812265</td>\n",
       "      <td>44917.694990</td>\n",
       "      <td>3199.288186</td>\n",
       "      <td>3199.794726</td>\n",
       "      <td>2.476431</td>\n",
       "      <td>6.994296</td>\n",
       "      <td>2.875142</td>\n",
       "      <td>604.213935</td>\n",
       "      <td>64.964428</td>\n",
       "      <td>39.637217</td>\n",
       "      <td>7.120089</td>\n",
       "      <td>14.653364</td>\n",
       "      <td>7.499838</td>\n",
       "      <td>14.655964</td>\n",
       "      <td>7.495236</td>\n",
       "      <td>10.350497</td>\n",
       "      <td>7.456147</td>\n",
       "      <td>24.962090</td>\n",
       "      <td>18.414367</td>\n",
       "      <td>81.830028</td>\n",
       "      <td>4.556496</td>\n",
       "      <td>0.861689</td>\n",
       "      <td>20.386658</td>\n",
       "      <td>1.892517</td>\n",
       "      <td>1000.317571</td>\n",
       "      <td>-499.412566</td>\n",
       "      <td>1600.234972</td>\n",
       "      <td>-499.742743</td>\n",
       "      <td>1600.010141</td>\n",
       "      <td>-498.228999</td>\n",
       "      <td>1398.847371</td>\n",
       "      <td>-500.279887</td>\n",
       "      <td>1200.452668</td>\n",
       "      <td>-498.900405</td>\n",
       "      <td>1200.560340</td>\n",
       "      <td>-495.501577</td>\n",
       "      <td>13.163678</td>\n",
       "      <td>4.542220</td>\n",
       "      <td>10.265176</td>\n",
       "      <td>2.310524</td>\n",
       "      <td>27.932437</td>\n",
       "      <td>-500.412401</td>\n",
       "      <td>25.921557</td>\n",
       "      <td>-500.863932</td>\n",
       "      <td>25.028852</td>\n",
       "      <td>-497.018258</td>\n",
       "      <td>23.910732</td>\n",
       "      <td>-500.029270</td>\n",
       "      <td>14.051080</td>\n",
       "      <td>-549.947124</td>\n",
       "      <td>12.071173</td>\n",
       "      <td>-549.799781</td>\n",
       "      <td>10.025142</td>\n",
       "      <td>-499.554142</td>\n",
       "      <td>8.130711</td>\n",
       "      <td>-499.758800</td>\n",
       "      <td>11.951659</td>\n",
       "      <td>-600.726946</td>\n",
       "    </tr>\n",
       "    <tr>\n",
       "      <td>74</td>\n",
       "      <td>2016-01-18 04:00:00</td>\n",
       "      <td>4.821388</td>\n",
       "      <td>10.235502</td>\n",
       "      <td>1.581066</td>\n",
       "      <td>43.264258</td>\n",
       "      <td>84.687443</td>\n",
       "      <td>5.520487</td>\n",
       "      <td>0.821232</td>\n",
       "      <td>9.264695</td>\n",
       "      <td>1.263480</td>\n",
       "      <td>161.743280</td>\n",
       "      <td>11.978393</td>\n",
       "      <td>7.25</td>\n",
       "      <td>1.097857</td>\n",
       "      <td>0.0</td>\n",
       "      <td>0.0</td>\n",
       "      <td>0.0</td>\n",
       "      <td>0.0</td>\n",
       "      <td>5.594745</td>\n",
       "      <td>1.082635</td>\n",
       "      <td>2.845393</td>\n",
       "      <td>0.860176</td>\n",
       "      <td>1602.680809</td>\n",
       "      <td>-500.738258</td>\n",
       "      <td>1599.760900</td>\n",
       "      <td>-499.950057</td>\n",
       "      <td>1599.230418</td>\n",
       "      <td>-500.047977</td>\n",
       "      <td>1600.362308</td>\n",
       "      <td>-500.309124</td>\n",
       "      <td>45133.164569</td>\n",
       "      <td>3200.553753</td>\n",
       "      <td>3200.226096</td>\n",
       "      <td>2.677176</td>\n",
       "      <td>7.844640</td>\n",
       "      <td>2.653501</td>\n",
       "      <td>616.710761</td>\n",
       "      <td>65.729426</td>\n",
       "      <td>38.767396</td>\n",
       "      <td>7.103887</td>\n",
       "      <td>14.723131</td>\n",
       "      <td>7.501458</td>\n",
       "      <td>14.734324</td>\n",
       "      <td>7.500098</td>\n",
       "      <td>10.585663</td>\n",
       "      <td>7.076596</td>\n",
       "      <td>24.024872</td>\n",
       "      <td>18.614079</td>\n",
       "      <td>76.149160</td>\n",
       "      <td>5.775301</td>\n",
       "      <td>0.911031</td>\n",
       "      <td>20.490200</td>\n",
       "      <td>2.388462</td>\n",
       "      <td>1002.325843</td>\n",
       "      <td>-499.666257</td>\n",
       "      <td>1600.173133</td>\n",
       "      <td>-499.877318</td>\n",
       "      <td>1600.309331</td>\n",
       "      <td>-499.786564</td>\n",
       "      <td>1404.035000</td>\n",
       "      <td>-503.002881</td>\n",
       "      <td>1198.539117</td>\n",
       "      <td>-501.238642</td>\n",
       "      <td>1199.078049</td>\n",
       "      <td>-500.773546</td>\n",
       "      <td>0.000000</td>\n",
       "      <td>0.000000</td>\n",
       "      <td>0.000000</td>\n",
       "      <td>0.000000</td>\n",
       "      <td>28.044630</td>\n",
       "      <td>-499.065039</td>\n",
       "      <td>25.933710</td>\n",
       "      <td>-508.465372</td>\n",
       "      <td>24.983136</td>\n",
       "      <td>-509.506437</td>\n",
       "      <td>24.005055</td>\n",
       "      <td>-503.492963</td>\n",
       "      <td>14.016798</td>\n",
       "      <td>-548.935696</td>\n",
       "      <td>12.029818</td>\n",
       "      <td>-550.966916</td>\n",
       "      <td>10.012719</td>\n",
       "      <td>-501.020322</td>\n",
       "      <td>8.020406</td>\n",
       "      <td>-500.395112</td>\n",
       "      <td>11.995851</td>\n",
       "      <td>-598.774893</td>\n",
       "    </tr>\n",
       "  </tbody>\n",
       "</table>\n",
       "</div>"
      ],
      "text/plain": [
       "                  date  final.output.concentrate_ag  \\\n",
       "19 2016-01-15 19:00:00                     5.658943   \n",
       "22 2016-01-15 22:00:00                     6.118749   \n",
       "30 2016-01-16 06:00:00                     5.322681   \n",
       "71 2016-01-18 01:00:00                     4.677499   \n",
       "74 2016-01-18 04:00:00                     4.821388   \n",
       "\n",
       "    final.output.concentrate_pb  final.output.concentrate_sol  \\\n",
       "19                    10.436002                      5.942418   \n",
       "22                    10.483007                      6.546983   \n",
       "30                     9.577672                      4.805490   \n",
       "71                    11.304745                      4.655438   \n",
       "74                    10.235502                      1.581066   \n",
       "\n",
       "    final.output.concentrate_au  final.output.recovery  final.output.tail_ag  \\\n",
       "19                    42.509402              70.348300             10.232392   \n",
       "22                    41.406172              69.823900             10.322077   \n",
       "30                    44.059908              69.193840             10.334312   \n",
       "71                    45.135616              72.437752             10.525415   \n",
       "74                    43.264258              84.687443              5.520487   \n",
       "\n",
       "    final.output.tail_pb  final.output.tail_sol  final.output.tail_au  \\\n",
       "19              1.174845              19.498566              2.272460   \n",
       "22              1.270956              19.384247              2.245145   \n",
       "30              1.406355              19.923319              2.239310   \n",
       "71              1.479372              19.364956              2.215637   \n",
       "74              0.821232               9.264695              1.263480   \n",
       "\n",
       "    primary_cleaner.input.sulfate  primary_cleaner.input.depressant  \\\n",
       "19                     149.998260                         12.509947   \n",
       "22                     158.353434                         14.020791   \n",
       "30                     145.952867                         13.947704   \n",
       "71                     162.832830                         12.024304   \n",
       "74                     161.743280                         11.978393   \n",
       "\n",
       "    primary_cleaner.input.feed_size  primary_cleaner.input.xanthate  \\\n",
       "19                             7.25                        0.997030   \n",
       "22                             7.25                        0.997999   \n",
       "30                             7.25                        0.991678   \n",
       "71                             7.25                        1.110139   \n",
       "74                             7.25                        1.097857   \n",
       "\n",
       "    primary_cleaner.output.concentrate_ag  \\\n",
       "19                                    0.0   \n",
       "22                                    0.0   \n",
       "30                                    0.0   \n",
       "71                                    0.0   \n",
       "74                                    0.0   \n",
       "\n",
       "    primary_cleaner.output.concentrate_pb  \\\n",
       "19                                    0.0   \n",
       "22                                    0.0   \n",
       "30                                    0.0   \n",
       "71                                    0.0   \n",
       "74                                    0.0   \n",
       "\n",
       "    primary_cleaner.output.concentrate_sol  \\\n",
       "19                                     0.0   \n",
       "22                                     0.0   \n",
       "30                                     0.0   \n",
       "71                                     0.0   \n",
       "74                                     0.0   \n",
       "\n",
       "    primary_cleaner.output.concentrate_au  primary_cleaner.output.tail_ag  \\\n",
       "19                                    0.0                       14.915949   \n",
       "22                                    0.0                       13.874346   \n",
       "30                                    0.0                       14.613684   \n",
       "71                                    0.0                       15.381083   \n",
       "74                                    0.0                        5.594745   \n",
       "\n",
       "    primary_cleaner.output.tail_pb  primary_cleaner.output.tail_sol  \\\n",
       "19                        2.702527                         7.784534   \n",
       "22                        2.440897                         8.529620   \n",
       "30                        2.893445                         8.537165   \n",
       "71                        2.899981                         7.829180   \n",
       "74                        1.082635                         2.845393   \n",
       "\n",
       "    primary_cleaner.output.tail_au  primary_cleaner.state.floatbank8_a_air  \\\n",
       "19                        2.013487                             1599.617983   \n",
       "22                        1.964468                             1596.351031   \n",
       "30                        1.982306                             1599.096777   \n",
       "71                        2.310403                             1600.411540   \n",
       "74                        0.860176                             1602.680809   \n",
       "\n",
       "    primary_cleaner.state.floatbank8_a_level  \\\n",
       "19                               -499.527131   \n",
       "22                               -498.896997   \n",
       "30                               -498.630270   \n",
       "71                               -500.602704   \n",
       "74                               -500.738258   \n",
       "\n",
       "    primary_cleaner.state.floatbank8_b_air  \\\n",
       "19                             1599.389604   \n",
       "22                             1596.177717   \n",
       "30                             1599.484314   \n",
       "71                             1598.410648   \n",
       "74                             1599.760900   \n",
       "\n",
       "    primary_cleaner.state.floatbank8_b_level  \\\n",
       "19                               -499.554869   \n",
       "22                               -500.402418   \n",
       "30                               -499.255872   \n",
       "71                               -499.290937   \n",
       "74                               -499.950057   \n",
       "\n",
       "    primary_cleaner.state.floatbank8_c_air  \\\n",
       "19                             1600.441370   \n",
       "22                             1598.280618   \n",
       "30                             1598.366222   \n",
       "71                             1596.883719   \n",
       "74                             1599.230418   \n",
       "\n",
       "    primary_cleaner.state.floatbank8_c_level  \\\n",
       "19                               -500.503609   \n",
       "22                               -498.946313   \n",
       "30                               -499.198198   \n",
       "71                               -500.477610   \n",
       "74                               -500.047977   \n",
       "\n",
       "    primary_cleaner.state.floatbank8_d_air  \\\n",
       "19                             1601.900702   \n",
       "22                             1600.472486   \n",
       "30                             1602.317332   \n",
       "71                             1599.276083   \n",
       "74                             1600.362308   \n",
       "\n",
       "    primary_cleaner.state.floatbank8_d_level  \\\n",
       "19                               -500.129123   \n",
       "22                               -499.623157   \n",
       "30                               -500.664282   \n",
       "71                               -499.812265   \n",
       "74                               -500.309124   \n",
       "\n",
       "    rougher.calculation.sulfate_to_au_concentrate  \\\n",
       "19                                   41959.818540   \n",
       "22                                   42082.414968   \n",
       "30                                   41974.790294   \n",
       "71                                   44917.694990   \n",
       "74                                   45133.164569   \n",
       "\n",
       "    rougher.calculation.floatbank10_sulfate_to_au_feed  \\\n",
       "19                                        3507.941540    \n",
       "22                                        3506.178699    \n",
       "30                                        3501.482821    \n",
       "71                                        3199.288186    \n",
       "74                                        3200.553753    \n",
       "\n",
       "    rougher.calculation.floatbank11_sulfate_to_au_feed  \\\n",
       "19                                        3499.552368    \n",
       "22                                        3501.343118    \n",
       "30                                        3497.994338    \n",
       "71                                        3199.794726    \n",
       "74                                        3200.226096    \n",
       "\n",
       "    rougher.calculation.au_pb_ratio  rougher.input.feed_ag  \\\n",
       "19                         2.448851               6.046063   \n",
       "22                         2.617243               5.599324   \n",
       "30                         2.600945               5.689557   \n",
       "71                         2.476431               6.994296   \n",
       "74                         2.677176               7.844640   \n",
       "\n",
       "    rougher.input.feed_pb  rougher.input.feed_rate  rougher.input.feed_size  \\\n",
       "19               2.777324               571.766992                62.823127   \n",
       "22               2.525838               571.140653                64.816398   \n",
       "30               2.508414               583.537789                64.616077   \n",
       "71               2.875142               604.213935                64.964428   \n",
       "74               2.653501               616.710761                65.729426   \n",
       "\n",
       "    rougher.input.feed_sol  rougher.input.feed_au  \\\n",
       "19               40.381002               6.801254   \n",
       "22               41.302359               6.610732   \n",
       "30               43.042457               6.524249   \n",
       "71               39.637217               7.120089   \n",
       "74               38.767396               7.103887   \n",
       "\n",
       "    rougher.input.floatbank10_sulfate  rougher.input.floatbank10_xanthate  \\\n",
       "19                          14.812266                            7.064468   \n",
       "22                          14.501843                            7.301759   \n",
       "30                          14.160944                            7.300138   \n",
       "71                          14.653364                            7.499838   \n",
       "74                          14.723131                            7.501458   \n",
       "\n",
       "    rougher.input.floatbank11_sulfate  rougher.input.floatbank11_xanthate  \\\n",
       "19                          14.814722                            7.064408   \n",
       "22                          14.460181                            7.298780   \n",
       "30                          14.205313                            7.298306   \n",
       "71                          14.655964                            7.495236   \n",
       "74                          14.734324                            7.500098   \n",
       "\n",
       "    rougher.output.concentrate_ag  rougher.output.concentrate_pb  \\\n",
       "19                      10.788951                       7.537074   \n",
       "22                      10.958096                       7.267608   \n",
       "30                      11.574823                       7.384216   \n",
       "71                      10.350497                       7.456147   \n",
       "74                      10.585663                       7.076596   \n",
       "\n",
       "    rougher.output.concentrate_sol  rougher.output.concentrate_au  \\\n",
       "19                       26.092838                      18.511902   \n",
       "22                       25.911055                      18.089134   \n",
       "30                       25.740506                      17.583602   \n",
       "71                       24.962090                      18.414367   \n",
       "74                       24.024872                      18.614079   \n",
       "\n",
       "    rougher.output.recovery  rougher.output.tail_ag  rougher.output.tail_pb  \\\n",
       "19                86.241795                4.919573                0.739863   \n",
       "22                88.132239                4.421208                0.705108   \n",
       "30                88.066903                4.404777                0.714497   \n",
       "71                81.830028                4.556496                0.861689   \n",
       "74                76.149160                5.775301                0.911031   \n",
       "\n",
       "    rougher.output.tail_sol  rougher.output.tail_au  \\\n",
       "19                20.309714                1.369732   \n",
       "22                20.397352                1.157287   \n",
       "30                21.003984                1.156424   \n",
       "71                20.386658                1.892517   \n",
       "74                20.490200                2.388462   \n",
       "\n",
       "    rougher.state.floatbank10_a_air  rougher.state.floatbank10_a_level  \\\n",
       "19                       999.708593                        -400.075046   \n",
       "22                      1000.107388                        -399.263233   \n",
       "30                       999.750176                        -399.931753   \n",
       "71                      1000.317571                        -499.412566   \n",
       "74                      1002.325843                        -499.666257   \n",
       "\n",
       "    rougher.state.floatbank10_b_air  rougher.state.floatbank10_b_level  \\\n",
       "19                      1600.639292                        -450.110961   \n",
       "22                      1599.780054                        -449.883122   \n",
       "30                      1600.527289                        -450.011008   \n",
       "71                      1600.234972                        -499.742743   \n",
       "74                      1600.173133                        -499.877318   \n",
       "\n",
       "    rougher.state.floatbank10_c_air  rougher.state.floatbank10_c_level  \\\n",
       "19                      1602.333794                        -450.673170   \n",
       "22                      1597.621485                        -450.022545   \n",
       "30                      1600.517301                        -450.379779   \n",
       "71                      1600.010141                        -498.228999   \n",
       "74                      1600.309331                        -499.786564   \n",
       "\n",
       "    rougher.state.floatbank10_d_air  rougher.state.floatbank10_d_level  \\\n",
       "19                      1600.427078                        -449.633484   \n",
       "22                      1605.906830                        -449.026683   \n",
       "30                      1603.804224                        -450.250299   \n",
       "71                      1398.847371                        -500.279887   \n",
       "74                      1404.035000                        -503.002881   \n",
       "\n",
       "    rougher.state.floatbank10_e_air  rougher.state.floatbank10_e_level  \\\n",
       "19                      1401.859581                        -448.145152   \n",
       "22                      1400.871116                        -449.902838   \n",
       "30                      1402.769232                        -447.699241   \n",
       "71                      1200.452668                        -498.900405   \n",
       "74                      1198.539117                        -501.238642   \n",
       "\n",
       "    rougher.state.floatbank10_f_air  rougher.state.floatbank10_f_level  \\\n",
       "19                      1400.906088                        -451.771497   \n",
       "22                      1400.723107                        -449.651567   \n",
       "30                      1401.919470                        -451.025028   \n",
       "71                      1200.560340                        -495.501577   \n",
       "74                      1199.078049                        -500.773546   \n",
       "\n",
       "    secondary_cleaner.output.tail_ag  secondary_cleaner.output.tail_pb  \\\n",
       "19                         12.708557                          4.565723   \n",
       "22                         11.523559                          4.466500   \n",
       "30                         12.403678                          5.121716   \n",
       "71                         13.163678                          4.542220   \n",
       "74                          0.000000                          0.000000   \n",
       "\n",
       "    secondary_cleaner.output.tail_sol  secondary_cleaner.output.tail_au  \\\n",
       "19                           9.997717                          2.138772   \n",
       "22                          10.776495                          2.018144   \n",
       "30                          11.185081                          2.216077   \n",
       "71                          10.265176                          2.310524   \n",
       "74                           0.000000                          0.000000   \n",
       "\n",
       "    secondary_cleaner.state.floatbank2_a_air  \\\n",
       "19                                 25.999540   \n",
       "22                                 25.979270   \n",
       "30                                 25.942168   \n",
       "71                                 27.932437   \n",
       "74                                 28.044630   \n",
       "\n",
       "    secondary_cleaner.state.floatbank2_a_level  \\\n",
       "19                                 -500.152462   \n",
       "22                                 -499.922901   \n",
       "30                                 -500.100481   \n",
       "71                                 -500.412401   \n",
       "74                                 -499.065039   \n",
       "\n",
       "    secondary_cleaner.state.floatbank2_b_air  \\\n",
       "19                                 24.013000   \n",
       "22                                 24.039935   \n",
       "30                                 24.040606   \n",
       "71                                 25.921557   \n",
       "74                                 25.933710   \n",
       "\n",
       "    secondary_cleaner.state.floatbank2_b_level  \\\n",
       "19                                 -500.297031   \n",
       "22                                 -499.368998   \n",
       "30                                 -499.449996   \n",
       "71                                 -500.863932   \n",
       "74                                 -508.465372   \n",
       "\n",
       "    secondary_cleaner.state.floatbank3_a_air  \\\n",
       "19                                 24.022240   \n",
       "22                                 24.027888   \n",
       "30                                 25.013290   \n",
       "71                                 25.028852   \n",
       "74                                 24.983136   \n",
       "\n",
       "    secondary_cleaner.state.floatbank3_a_level  \\\n",
       "19                                 -499.329964   \n",
       "22                                 -501.291317   \n",
       "30                                 -500.208164   \n",
       "71                                 -497.018258   \n",
       "74                                 -509.506437   \n",
       "\n",
       "    secondary_cleaner.state.floatbank3_b_air  \\\n",
       "19                                 24.012891   \n",
       "22                                 23.994020   \n",
       "30                                 23.988862   \n",
       "71                                 23.910732   \n",
       "74                                 24.005055   \n",
       "\n",
       "    secondary_cleaner.state.floatbank3_b_level  \\\n",
       "19                                 -499.923981   \n",
       "22                                 -499.715395   \n",
       "30                                 -500.062470   \n",
       "71                                 -500.029270   \n",
       "74                                 -503.492963   \n",
       "\n",
       "    secondary_cleaner.state.floatbank4_a_air  \\\n",
       "19                                 14.001632   \n",
       "22                                 13.943970   \n",
       "30                                 13.981220   \n",
       "71                                 14.051080   \n",
       "74                                 14.016798   \n",
       "\n",
       "    secondary_cleaner.state.floatbank4_a_level  \\\n",
       "19                                 -509.808331   \n",
       "22                                 -541.642068   \n",
       "30                                 -551.189582   \n",
       "71                                 -549.947124   \n",
       "74                                 -548.935696   \n",
       "\n",
       "    secondary_cleaner.state.floatbank4_b_air  \\\n",
       "19                                 12.087669   \n",
       "22                                 11.993920   \n",
       "30                                 12.004777   \n",
       "71                                 12.071173   \n",
       "74                                 12.029818   \n",
       "\n",
       "    secondary_cleaner.state.floatbank4_b_level  \\\n",
       "19                                 -510.782166   \n",
       "22                                 -550.493894   \n",
       "30                                 -549.974630   \n",
       "71                                 -549.799781   \n",
       "74                                 -550.966916   \n",
       "\n",
       "    secondary_cleaner.state.floatbank5_a_air  \\\n",
       "19                                 10.032043   \n",
       "22                                  9.985232   \n",
       "30                                  9.969535   \n",
       "71                                 10.025142   \n",
       "74                                 10.012719   \n",
       "\n",
       "    secondary_cleaner.state.floatbank5_a_level  \\\n",
       "19                                 -499.128183   \n",
       "22                                 -499.796583   \n",
       "30                                 -499.350934   \n",
       "71                                 -499.554142   \n",
       "74                                 -501.020322   \n",
       "\n",
       "    secondary_cleaner.state.floatbank5_b_air  \\\n",
       "19                                  8.016140   \n",
       "22                                  7.985524   \n",
       "30                                  8.017975   \n",
       "71                                  8.130711   \n",
       "74                                  8.020406   \n",
       "\n",
       "    secondary_cleaner.state.floatbank5_b_level  \\\n",
       "19                                 -499.806844   \n",
       "22                                 -499.872153   \n",
       "30                                 -500.620850   \n",
       "71                                 -499.758800   \n",
       "74                                 -500.395112   \n",
       "\n",
       "    secondary_cleaner.state.floatbank6_a_air  \\\n",
       "19                                 13.949790   \n",
       "22                                 13.973257   \n",
       "30                                 11.999969   \n",
       "71                                 11.951659   \n",
       "74                                 11.995851   \n",
       "\n",
       "    secondary_cleaner.state.floatbank6_a_level  \n",
       "19                                 -600.140776  \n",
       "22                                 -600.054998  \n",
       "30                                 -600.315548  \n",
       "71                                 -600.726946  \n",
       "74                                 -598.774893  "
      ]
     },
     "execution_count": 30,
     "metadata": {},
     "output_type": "execute_result"
    }
   ],
   "source": [
    "data_full_copy.loc[(data_full_copy['primary_cleaner.output.concentrate_au'] ==0)].head()"
   ]
  },
  {
   "cell_type": "code",
   "execution_count": 31,
   "metadata": {},
   "outputs": [
    {
     "data": {
      "text/html": [
       "<div>\n",
       "<style scoped>\n",
       "    .dataframe tbody tr th:only-of-type {\n",
       "        vertical-align: middle;\n",
       "    }\n",
       "\n",
       "    .dataframe tbody tr th {\n",
       "        vertical-align: top;\n",
       "    }\n",
       "\n",
       "    .dataframe thead th {\n",
       "        text-align: right;\n",
       "    }\n",
       "</style>\n",
       "<table border=\"1\" class=\"dataframe\">\n",
       "  <thead>\n",
       "    <tr style=\"text-align: right;\">\n",
       "      <th></th>\n",
       "      <th>date</th>\n",
       "      <th>final.output.concentrate_ag</th>\n",
       "      <th>final.output.concentrate_pb</th>\n",
       "      <th>final.output.concentrate_sol</th>\n",
       "      <th>final.output.concentrate_au</th>\n",
       "      <th>final.output.recovery</th>\n",
       "      <th>final.output.tail_ag</th>\n",
       "      <th>final.output.tail_pb</th>\n",
       "      <th>final.output.tail_sol</th>\n",
       "      <th>final.output.tail_au</th>\n",
       "      <th>primary_cleaner.input.sulfate</th>\n",
       "      <th>primary_cleaner.input.depressant</th>\n",
       "      <th>primary_cleaner.input.feed_size</th>\n",
       "      <th>primary_cleaner.input.xanthate</th>\n",
       "      <th>primary_cleaner.output.concentrate_ag</th>\n",
       "      <th>primary_cleaner.output.concentrate_pb</th>\n",
       "      <th>primary_cleaner.output.concentrate_sol</th>\n",
       "      <th>primary_cleaner.output.concentrate_au</th>\n",
       "      <th>primary_cleaner.output.tail_ag</th>\n",
       "      <th>primary_cleaner.output.tail_pb</th>\n",
       "      <th>primary_cleaner.output.tail_sol</th>\n",
       "      <th>primary_cleaner.output.tail_au</th>\n",
       "      <th>primary_cleaner.state.floatbank8_a_air</th>\n",
       "      <th>primary_cleaner.state.floatbank8_a_level</th>\n",
       "      <th>primary_cleaner.state.floatbank8_b_air</th>\n",
       "      <th>primary_cleaner.state.floatbank8_b_level</th>\n",
       "      <th>primary_cleaner.state.floatbank8_c_air</th>\n",
       "      <th>primary_cleaner.state.floatbank8_c_level</th>\n",
       "      <th>primary_cleaner.state.floatbank8_d_air</th>\n",
       "      <th>primary_cleaner.state.floatbank8_d_level</th>\n",
       "      <th>rougher.calculation.sulfate_to_au_concentrate</th>\n",
       "      <th>rougher.calculation.floatbank10_sulfate_to_au_feed</th>\n",
       "      <th>rougher.calculation.floatbank11_sulfate_to_au_feed</th>\n",
       "      <th>rougher.calculation.au_pb_ratio</th>\n",
       "      <th>rougher.input.feed_ag</th>\n",
       "      <th>rougher.input.feed_pb</th>\n",
       "      <th>rougher.input.feed_rate</th>\n",
       "      <th>rougher.input.feed_size</th>\n",
       "      <th>rougher.input.feed_sol</th>\n",
       "      <th>rougher.input.feed_au</th>\n",
       "      <th>rougher.input.floatbank10_sulfate</th>\n",
       "      <th>rougher.input.floatbank10_xanthate</th>\n",
       "      <th>rougher.input.floatbank11_sulfate</th>\n",
       "      <th>rougher.input.floatbank11_xanthate</th>\n",
       "      <th>rougher.output.concentrate_ag</th>\n",
       "      <th>rougher.output.concentrate_pb</th>\n",
       "      <th>rougher.output.concentrate_sol</th>\n",
       "      <th>rougher.output.concentrate_au</th>\n",
       "      <th>rougher.output.recovery</th>\n",
       "      <th>rougher.output.tail_ag</th>\n",
       "      <th>rougher.output.tail_pb</th>\n",
       "      <th>rougher.output.tail_sol</th>\n",
       "      <th>rougher.output.tail_au</th>\n",
       "      <th>rougher.state.floatbank10_a_air</th>\n",
       "      <th>rougher.state.floatbank10_a_level</th>\n",
       "      <th>rougher.state.floatbank10_b_air</th>\n",
       "      <th>rougher.state.floatbank10_b_level</th>\n",
       "      <th>rougher.state.floatbank10_c_air</th>\n",
       "      <th>rougher.state.floatbank10_c_level</th>\n",
       "      <th>rougher.state.floatbank10_d_air</th>\n",
       "      <th>rougher.state.floatbank10_d_level</th>\n",
       "      <th>rougher.state.floatbank10_e_air</th>\n",
       "      <th>rougher.state.floatbank10_e_level</th>\n",
       "      <th>rougher.state.floatbank10_f_air</th>\n",
       "      <th>rougher.state.floatbank10_f_level</th>\n",
       "      <th>secondary_cleaner.output.tail_ag</th>\n",
       "      <th>secondary_cleaner.output.tail_pb</th>\n",
       "      <th>secondary_cleaner.output.tail_sol</th>\n",
       "      <th>secondary_cleaner.output.tail_au</th>\n",
       "      <th>secondary_cleaner.state.floatbank2_a_air</th>\n",
       "      <th>secondary_cleaner.state.floatbank2_a_level</th>\n",
       "      <th>secondary_cleaner.state.floatbank2_b_air</th>\n",
       "      <th>secondary_cleaner.state.floatbank2_b_level</th>\n",
       "      <th>secondary_cleaner.state.floatbank3_a_air</th>\n",
       "      <th>secondary_cleaner.state.floatbank3_a_level</th>\n",
       "      <th>secondary_cleaner.state.floatbank3_b_air</th>\n",
       "      <th>secondary_cleaner.state.floatbank3_b_level</th>\n",
       "      <th>secondary_cleaner.state.floatbank4_a_air</th>\n",
       "      <th>secondary_cleaner.state.floatbank4_a_level</th>\n",
       "      <th>secondary_cleaner.state.floatbank4_b_air</th>\n",
       "      <th>secondary_cleaner.state.floatbank4_b_level</th>\n",
       "      <th>secondary_cleaner.state.floatbank5_a_air</th>\n",
       "      <th>secondary_cleaner.state.floatbank5_a_level</th>\n",
       "      <th>secondary_cleaner.state.floatbank5_b_air</th>\n",
       "      <th>secondary_cleaner.state.floatbank5_b_level</th>\n",
       "      <th>secondary_cleaner.state.floatbank6_a_air</th>\n",
       "      <th>secondary_cleaner.state.floatbank6_a_level</th>\n",
       "    </tr>\n",
       "  </thead>\n",
       "  <tbody>\n",
       "    <tr>\n",
       "      <td>644</td>\n",
       "      <td>2016-02-13 11:00:00</td>\n",
       "      <td>0.0</td>\n",
       "      <td>0.0</td>\n",
       "      <td>0.0</td>\n",
       "      <td>0.0</td>\n",
       "      <td>0.0</td>\n",
       "      <td>8.894029</td>\n",
       "      <td>0.843584</td>\n",
       "      <td>15.417342</td>\n",
       "      <td>1.779052</td>\n",
       "      <td>133.610147</td>\n",
       "      <td>14.032789</td>\n",
       "      <td>7.32</td>\n",
       "      <td>1.550190</td>\n",
       "      <td>8.986696</td>\n",
       "      <td>6.530607</td>\n",
       "      <td>11.969464</td>\n",
       "      <td>26.238846</td>\n",
       "      <td>13.854131</td>\n",
       "      <td>2.156414</td>\n",
       "      <td>8.174442</td>\n",
       "      <td>1.965728</td>\n",
       "      <td>1800.648807</td>\n",
       "      <td>-349.517991</td>\n",
       "      <td>1799.347332</td>\n",
       "      <td>-350.925554</td>\n",
       "      <td>1798.833149</td>\n",
       "      <td>-349.609813</td>\n",
       "      <td>1456.714168</td>\n",
       "      <td>-350.518404</td>\n",
       "      <td>45778.313924</td>\n",
       "      <td>2952.203313</td>\n",
       "      <td>2943.136954</td>\n",
       "      <td>2.894754</td>\n",
       "      <td>7.407737</td>\n",
       "      <td>1.934178</td>\n",
       "      <td>500.087438</td>\n",
       "      <td>51.965198</td>\n",
       "      <td>31.762853</td>\n",
       "      <td>5.598971</td>\n",
       "      <td>10.251319</td>\n",
       "      <td>6.620908</td>\n",
       "      <td>10.259054</td>\n",
       "      <td>6.620118</td>\n",
       "      <td>11.803589</td>\n",
       "      <td>7.143475</td>\n",
       "      <td>21.692525</td>\n",
       "      <td>15.935190</td>\n",
       "      <td>68.960993</td>\n",
       "      <td>5.114923</td>\n",
       "      <td>0.925673</td>\n",
       "      <td>20.699912</td>\n",
       "      <td>2.293607</td>\n",
       "      <td>999.884600</td>\n",
       "      <td>-499.972731</td>\n",
       "      <td>1499.290173</td>\n",
       "      <td>-399.546180</td>\n",
       "      <td>1499.161769</td>\n",
       "      <td>-398.630471</td>\n",
       "      <td>1499.040323</td>\n",
       "      <td>-399.389036</td>\n",
       "      <td>1501.877151</td>\n",
       "      <td>-397.227473</td>\n",
       "      <td>1501.061312</td>\n",
       "      <td>-400.602849</td>\n",
       "      <td>11.838086</td>\n",
       "      <td>3.905472</td>\n",
       "      <td>10.651508</td>\n",
       "      <td>2.283842</td>\n",
       "      <td>32.054894</td>\n",
       "      <td>-400.832639</td>\n",
       "      <td>30.998499</td>\n",
       "      <td>-401.051170</td>\n",
       "      <td>30.900779</td>\n",
       "      <td>-400.953348</td>\n",
       "      <td>29.003189</td>\n",
       "      <td>-401.031397</td>\n",
       "      <td>21.991762</td>\n",
       "      <td>-399.587122</td>\n",
       "      <td>21.988937</td>\n",
       "      <td>-401.366408</td>\n",
       "      <td>22.995012</td>\n",
       "      <td>-399.370680</td>\n",
       "      <td>20.966863</td>\n",
       "      <td>-399.308354</td>\n",
       "      <td>24.987274</td>\n",
       "      <td>-399.619808</td>\n",
       "    </tr>\n",
       "    <tr>\n",
       "      <td>1193</td>\n",
       "      <td>2016-03-11 10:00:00</td>\n",
       "      <td>0.0</td>\n",
       "      <td>0.0</td>\n",
       "      <td>0.0</td>\n",
       "      <td>0.0</td>\n",
       "      <td>0.0</td>\n",
       "      <td>10.817313</td>\n",
       "      <td>1.462800</td>\n",
       "      <td>16.407607</td>\n",
       "      <td>2.984504</td>\n",
       "      <td>111.502432</td>\n",
       "      <td>11.927825</td>\n",
       "      <td>7.79</td>\n",
       "      <td>0.992436</td>\n",
       "      <td>8.701237</td>\n",
       "      <td>7.234158</td>\n",
       "      <td>10.754321</td>\n",
       "      <td>34.564456</td>\n",
       "      <td>13.665507</td>\n",
       "      <td>2.569557</td>\n",
       "      <td>9.186415</td>\n",
       "      <td>4.009465</td>\n",
       "      <td>1600.246853</td>\n",
       "      <td>-402.167837</td>\n",
       "      <td>1601.734558</td>\n",
       "      <td>-398.906828</td>\n",
       "      <td>1595.110867</td>\n",
       "      <td>-401.693888</td>\n",
       "      <td>627.591922</td>\n",
       "      <td>-398.868839</td>\n",
       "      <td>32559.326343</td>\n",
       "      <td>2098.775030</td>\n",
       "      <td>2097.794484</td>\n",
       "      <td>3.007789</td>\n",
       "      <td>8.098125</td>\n",
       "      <td>2.588661</td>\n",
       "      <td>502.314489</td>\n",
       "      <td>49.985298</td>\n",
       "      <td>34.896012</td>\n",
       "      <td>7.786147</td>\n",
       "      <td>8.842907</td>\n",
       "      <td>7.265263</td>\n",
       "      <td>8.842783</td>\n",
       "      <td>7.269218</td>\n",
       "      <td>10.640168</td>\n",
       "      <td>7.565854</td>\n",
       "      <td>24.793448</td>\n",
       "      <td>18.682162</td>\n",
       "      <td>82.787322</td>\n",
       "      <td>6.102604</td>\n",
       "      <td>0.788412</td>\n",
       "      <td>21.096415</td>\n",
       "      <td>2.046213</td>\n",
       "      <td>1000.621368</td>\n",
       "      <td>-499.594073</td>\n",
       "      <td>1500.980640</td>\n",
       "      <td>-499.669103</td>\n",
       "      <td>1501.032313</td>\n",
       "      <td>-500.950129</td>\n",
       "      <td>1498.673085</td>\n",
       "      <td>-501.877154</td>\n",
       "      <td>1297.623855</td>\n",
       "      <td>-501.776602</td>\n",
       "      <td>1197.469227</td>\n",
       "      <td>-500.648180</td>\n",
       "      <td>11.644152</td>\n",
       "      <td>4.028016</td>\n",
       "      <td>11.880836</td>\n",
       "      <td>3.627020</td>\n",
       "      <td>30.029055</td>\n",
       "      <td>-449.465681</td>\n",
       "      <td>28.042141</td>\n",
       "      <td>-450.180346</td>\n",
       "      <td>27.039535</td>\n",
       "      <td>-449.388889</td>\n",
       "      <td>24.884122</td>\n",
       "      <td>-449.365144</td>\n",
       "      <td>11.979352</td>\n",
       "      <td>-453.431061</td>\n",
       "      <td>12.003445</td>\n",
       "      <td>-450.179844</td>\n",
       "      <td>11.982937</td>\n",
       "      <td>-449.856468</td>\n",
       "      <td>9.927727</td>\n",
       "      <td>-450.521700</td>\n",
       "      <td>19.971682</td>\n",
       "      <td>-500.685521</td>\n",
       "    </tr>\n",
       "    <tr>\n",
       "      <td>1194</td>\n",
       "      <td>2016-03-11 11:00:00</td>\n",
       "      <td>0.0</td>\n",
       "      <td>0.0</td>\n",
       "      <td>0.0</td>\n",
       "      <td>0.0</td>\n",
       "      <td>0.0</td>\n",
       "      <td>10.436792</td>\n",
       "      <td>1.207636</td>\n",
       "      <td>17.800392</td>\n",
       "      <td>2.747294</td>\n",
       "      <td>110.586754</td>\n",
       "      <td>12.018310</td>\n",
       "      <td>7.79</td>\n",
       "      <td>1.000046</td>\n",
       "      <td>8.697952</td>\n",
       "      <td>7.119325</td>\n",
       "      <td>10.194141</td>\n",
       "      <td>34.399450</td>\n",
       "      <td>13.008128</td>\n",
       "      <td>2.295769</td>\n",
       "      <td>9.822700</td>\n",
       "      <td>3.611843</td>\n",
       "      <td>1599.492169</td>\n",
       "      <td>-399.712307</td>\n",
       "      <td>1600.069554</td>\n",
       "      <td>-400.566751</td>\n",
       "      <td>1597.600427</td>\n",
       "      <td>-400.355176</td>\n",
       "      <td>620.987030</td>\n",
       "      <td>-400.064647</td>\n",
       "      <td>32534.407535</td>\n",
       "      <td>2102.119757</td>\n",
       "      <td>2101.265127</td>\n",
       "      <td>3.079615</td>\n",
       "      <td>7.832467</td>\n",
       "      <td>2.435125</td>\n",
       "      <td>501.677628</td>\n",
       "      <td>48.845911</td>\n",
       "      <td>34.196525</td>\n",
       "      <td>7.499248</td>\n",
       "      <td>8.501246</td>\n",
       "      <td>6.989404</td>\n",
       "      <td>8.511888</td>\n",
       "      <td>6.982774</td>\n",
       "      <td>10.415491</td>\n",
       "      <td>7.367937</td>\n",
       "      <td>24.200400</td>\n",
       "      <td>18.231121</td>\n",
       "      <td>83.515262</td>\n",
       "      <td>6.016604</td>\n",
       "      <td>0.695116</td>\n",
       "      <td>20.893637</td>\n",
       "      <td>1.883162</td>\n",
       "      <td>999.826851</td>\n",
       "      <td>-500.323676</td>\n",
       "      <td>1500.315649</td>\n",
       "      <td>-499.482887</td>\n",
       "      <td>1498.075323</td>\n",
       "      <td>-499.213575</td>\n",
       "      <td>1501.362418</td>\n",
       "      <td>-500.711943</td>\n",
       "      <td>1300.513265</td>\n",
       "      <td>-499.835501</td>\n",
       "      <td>1200.145997</td>\n",
       "      <td>-498.002888</td>\n",
       "      <td>11.344059</td>\n",
       "      <td>3.795803</td>\n",
       "      <td>11.783571</td>\n",
       "      <td>3.462723</td>\n",
       "      <td>29.995514</td>\n",
       "      <td>-446.314649</td>\n",
       "      <td>27.944098</td>\n",
       "      <td>-449.314545</td>\n",
       "      <td>27.022681</td>\n",
       "      <td>-412.624177</td>\n",
       "      <td>25.010402</td>\n",
       "      <td>-421.023904</td>\n",
       "      <td>12.034636</td>\n",
       "      <td>-446.590944</td>\n",
       "      <td>12.130405</td>\n",
       "      <td>-449.684812</td>\n",
       "      <td>11.844983</td>\n",
       "      <td>-450.881424</td>\n",
       "      <td>9.916784</td>\n",
       "      <td>-449.542871</td>\n",
       "      <td>20.004767</td>\n",
       "      <td>-500.137068</td>\n",
       "    </tr>\n",
       "    <tr>\n",
       "      <td>1195</td>\n",
       "      <td>2016-03-11 12:00:00</td>\n",
       "      <td>0.0</td>\n",
       "      <td>0.0</td>\n",
       "      <td>0.0</td>\n",
       "      <td>0.0</td>\n",
       "      <td>0.0</td>\n",
       "      <td>10.637073</td>\n",
       "      <td>1.405778</td>\n",
       "      <td>17.195897</td>\n",
       "      <td>2.791440</td>\n",
       "      <td>104.202288</td>\n",
       "      <td>12.009356</td>\n",
       "      <td>7.79</td>\n",
       "      <td>1.032094</td>\n",
       "      <td>8.921656</td>\n",
       "      <td>6.637383</td>\n",
       "      <td>10.291689</td>\n",
       "      <td>34.303756</td>\n",
       "      <td>13.088421</td>\n",
       "      <td>2.320117</td>\n",
       "      <td>9.669966</td>\n",
       "      <td>3.741261</td>\n",
       "      <td>1598.737484</td>\n",
       "      <td>-400.513059</td>\n",
       "      <td>1598.779541</td>\n",
       "      <td>-399.862718</td>\n",
       "      <td>1601.842631</td>\n",
       "      <td>-400.839380</td>\n",
       "      <td>615.876751</td>\n",
       "      <td>-399.840555</td>\n",
       "      <td>32614.935512</td>\n",
       "      <td>2100.138259</td>\n",
       "      <td>2099.194438</td>\n",
       "      <td>3.104556</td>\n",
       "      <td>7.600277</td>\n",
       "      <td>2.265148</td>\n",
       "      <td>502.999469</td>\n",
       "      <td>47.430198</td>\n",
       "      <td>31.994985</td>\n",
       "      <td>7.032278</td>\n",
       "      <td>7.984067</td>\n",
       "      <td>6.548808</td>\n",
       "      <td>7.985276</td>\n",
       "      <td>6.547925</td>\n",
       "      <td>10.197899</td>\n",
       "      <td>7.364725</td>\n",
       "      <td>22.839147</td>\n",
       "      <td>18.190655</td>\n",
       "      <td>83.702224</td>\n",
       "      <td>5.716353</td>\n",
       "      <td>0.652338</td>\n",
       "      <td>20.221484</td>\n",
       "      <td>1.694374</td>\n",
       "      <td>1000.694329</td>\n",
       "      <td>-499.966581</td>\n",
       "      <td>1500.338769</td>\n",
       "      <td>-500.170904</td>\n",
       "      <td>1501.268792</td>\n",
       "      <td>-499.772062</td>\n",
       "      <td>1500.508380</td>\n",
       "      <td>-498.921405</td>\n",
       "      <td>1298.806976</td>\n",
       "      <td>-501.174090</td>\n",
       "      <td>1199.749541</td>\n",
       "      <td>-499.076953</td>\n",
       "      <td>9.964582</td>\n",
       "      <td>3.606678</td>\n",
       "      <td>10.664451</td>\n",
       "      <td>3.488992</td>\n",
       "      <td>30.035842</td>\n",
       "      <td>-498.964978</td>\n",
       "      <td>27.997281</td>\n",
       "      <td>-497.340734</td>\n",
       "      <td>26.996184</td>\n",
       "      <td>-400.344496</td>\n",
       "      <td>25.036609</td>\n",
       "      <td>-441.604494</td>\n",
       "      <td>12.016716</td>\n",
       "      <td>-496.613149</td>\n",
       "      <td>12.055535</td>\n",
       "      <td>-496.908551</td>\n",
       "      <td>12.091144</td>\n",
       "      <td>-496.404140</td>\n",
       "      <td>9.976074</td>\n",
       "      <td>-496.783155</td>\n",
       "      <td>19.921634</td>\n",
       "      <td>-500.769011</td>\n",
       "    </tr>\n",
       "    <tr>\n",
       "      <td>1196</td>\n",
       "      <td>2016-03-11 13:00:00</td>\n",
       "      <td>0.0</td>\n",
       "      <td>0.0</td>\n",
       "      <td>0.0</td>\n",
       "      <td>0.0</td>\n",
       "      <td>0.0</td>\n",
       "      <td>10.530320</td>\n",
       "      <td>1.461550</td>\n",
       "      <td>17.556860</td>\n",
       "      <td>2.682127</td>\n",
       "      <td>102.438023</td>\n",
       "      <td>12.031551</td>\n",
       "      <td>7.79</td>\n",
       "      <td>0.955098</td>\n",
       "      <td>9.239378</td>\n",
       "      <td>6.249012</td>\n",
       "      <td>10.464946</td>\n",
       "      <td>33.956378</td>\n",
       "      <td>12.172650</td>\n",
       "      <td>2.040281</td>\n",
       "      <td>9.742966</td>\n",
       "      <td>3.869915</td>\n",
       "      <td>1597.982799</td>\n",
       "      <td>-399.485106</td>\n",
       "      <td>1597.494612</td>\n",
       "      <td>-399.626848</td>\n",
       "      <td>1602.547360</td>\n",
       "      <td>-400.172289</td>\n",
       "      <td>613.328125</td>\n",
       "      <td>-399.403101</td>\n",
       "      <td>32480.770879</td>\n",
       "      <td>2096.866328</td>\n",
       "      <td>2100.975298</td>\n",
       "      <td>3.099465</td>\n",
       "      <td>7.436860</td>\n",
       "      <td>2.265435</td>\n",
       "      <td>501.128474</td>\n",
       "      <td>47.440433</td>\n",
       "      <td>32.541806</td>\n",
       "      <td>7.021635</td>\n",
       "      <td>8.021768</td>\n",
       "      <td>6.531857</td>\n",
       "      <td>8.022532</td>\n",
       "      <td>6.533838</td>\n",
       "      <td>9.968103</td>\n",
       "      <td>7.282737</td>\n",
       "      <td>22.918014</td>\n",
       "      <td>18.194323</td>\n",
       "      <td>84.836821</td>\n",
       "      <td>5.405111</td>\n",
       "      <td>0.636144</td>\n",
       "      <td>19.054158</td>\n",
       "      <td>1.582981</td>\n",
       "      <td>999.571743</td>\n",
       "      <td>-499.769543</td>\n",
       "      <td>1498.904184</td>\n",
       "      <td>-499.759503</td>\n",
       "      <td>1497.744582</td>\n",
       "      <td>-500.817450</td>\n",
       "      <td>1497.460411</td>\n",
       "      <td>-499.781484</td>\n",
       "      <td>1299.624610</td>\n",
       "      <td>-501.187097</td>\n",
       "      <td>1198.830483</td>\n",
       "      <td>-500.974606</td>\n",
       "      <td>8.665906</td>\n",
       "      <td>3.729378</td>\n",
       "      <td>9.578744</td>\n",
       "      <td>3.401284</td>\n",
       "      <td>30.038790</td>\n",
       "      <td>-494.944110</td>\n",
       "      <td>27.992440</td>\n",
       "      <td>-500.194801</td>\n",
       "      <td>26.952931</td>\n",
       "      <td>-499.602693</td>\n",
       "      <td>24.969402</td>\n",
       "      <td>-479.404793</td>\n",
       "      <td>11.993898</td>\n",
       "      <td>-500.427824</td>\n",
       "      <td>12.083824</td>\n",
       "      <td>-500.162537</td>\n",
       "      <td>12.078809</td>\n",
       "      <td>-499.903743</td>\n",
       "      <td>10.075259</td>\n",
       "      <td>-499.540325</td>\n",
       "      <td>20.039788</td>\n",
       "      <td>-499.932405</td>\n",
       "    </tr>\n",
       "  </tbody>\n",
       "</table>\n",
       "</div>"
      ],
      "text/plain": [
       "                    date  final.output.concentrate_ag  \\\n",
       "644  2016-02-13 11:00:00                          0.0   \n",
       "1193 2016-03-11 10:00:00                          0.0   \n",
       "1194 2016-03-11 11:00:00                          0.0   \n",
       "1195 2016-03-11 12:00:00                          0.0   \n",
       "1196 2016-03-11 13:00:00                          0.0   \n",
       "\n",
       "      final.output.concentrate_pb  final.output.concentrate_sol  \\\n",
       "644                           0.0                           0.0   \n",
       "1193                          0.0                           0.0   \n",
       "1194                          0.0                           0.0   \n",
       "1195                          0.0                           0.0   \n",
       "1196                          0.0                           0.0   \n",
       "\n",
       "      final.output.concentrate_au  final.output.recovery  \\\n",
       "644                           0.0                    0.0   \n",
       "1193                          0.0                    0.0   \n",
       "1194                          0.0                    0.0   \n",
       "1195                          0.0                    0.0   \n",
       "1196                          0.0                    0.0   \n",
       "\n",
       "      final.output.tail_ag  final.output.tail_pb  final.output.tail_sol  \\\n",
       "644               8.894029              0.843584              15.417342   \n",
       "1193             10.817313              1.462800              16.407607   \n",
       "1194             10.436792              1.207636              17.800392   \n",
       "1195             10.637073              1.405778              17.195897   \n",
       "1196             10.530320              1.461550              17.556860   \n",
       "\n",
       "      final.output.tail_au  primary_cleaner.input.sulfate  \\\n",
       "644               1.779052                     133.610147   \n",
       "1193              2.984504                     111.502432   \n",
       "1194              2.747294                     110.586754   \n",
       "1195              2.791440                     104.202288   \n",
       "1196              2.682127                     102.438023   \n",
       "\n",
       "      primary_cleaner.input.depressant  primary_cleaner.input.feed_size  \\\n",
       "644                          14.032789                             7.32   \n",
       "1193                         11.927825                             7.79   \n",
       "1194                         12.018310                             7.79   \n",
       "1195                         12.009356                             7.79   \n",
       "1196                         12.031551                             7.79   \n",
       "\n",
       "      primary_cleaner.input.xanthate  primary_cleaner.output.concentrate_ag  \\\n",
       "644                         1.550190                               8.986696   \n",
       "1193                        0.992436                               8.701237   \n",
       "1194                        1.000046                               8.697952   \n",
       "1195                        1.032094                               8.921656   \n",
       "1196                        0.955098                               9.239378   \n",
       "\n",
       "      primary_cleaner.output.concentrate_pb  \\\n",
       "644                                6.530607   \n",
       "1193                               7.234158   \n",
       "1194                               7.119325   \n",
       "1195                               6.637383   \n",
       "1196                               6.249012   \n",
       "\n",
       "      primary_cleaner.output.concentrate_sol  \\\n",
       "644                                11.969464   \n",
       "1193                               10.754321   \n",
       "1194                               10.194141   \n",
       "1195                               10.291689   \n",
       "1196                               10.464946   \n",
       "\n",
       "      primary_cleaner.output.concentrate_au  primary_cleaner.output.tail_ag  \\\n",
       "644                               26.238846                       13.854131   \n",
       "1193                              34.564456                       13.665507   \n",
       "1194                              34.399450                       13.008128   \n",
       "1195                              34.303756                       13.088421   \n",
       "1196                              33.956378                       12.172650   \n",
       "\n",
       "      primary_cleaner.output.tail_pb  primary_cleaner.output.tail_sol  \\\n",
       "644                         2.156414                         8.174442   \n",
       "1193                        2.569557                         9.186415   \n",
       "1194                        2.295769                         9.822700   \n",
       "1195                        2.320117                         9.669966   \n",
       "1196                        2.040281                         9.742966   \n",
       "\n",
       "      primary_cleaner.output.tail_au  primary_cleaner.state.floatbank8_a_air  \\\n",
       "644                         1.965728                             1800.648807   \n",
       "1193                        4.009465                             1600.246853   \n",
       "1194                        3.611843                             1599.492169   \n",
       "1195                        3.741261                             1598.737484   \n",
       "1196                        3.869915                             1597.982799   \n",
       "\n",
       "      primary_cleaner.state.floatbank8_a_level  \\\n",
       "644                                -349.517991   \n",
       "1193                               -402.167837   \n",
       "1194                               -399.712307   \n",
       "1195                               -400.513059   \n",
       "1196                               -399.485106   \n",
       "\n",
       "      primary_cleaner.state.floatbank8_b_air  \\\n",
       "644                              1799.347332   \n",
       "1193                             1601.734558   \n",
       "1194                             1600.069554   \n",
       "1195                             1598.779541   \n",
       "1196                             1597.494612   \n",
       "\n",
       "      primary_cleaner.state.floatbank8_b_level  \\\n",
       "644                                -350.925554   \n",
       "1193                               -398.906828   \n",
       "1194                               -400.566751   \n",
       "1195                               -399.862718   \n",
       "1196                               -399.626848   \n",
       "\n",
       "      primary_cleaner.state.floatbank8_c_air  \\\n",
       "644                              1798.833149   \n",
       "1193                             1595.110867   \n",
       "1194                             1597.600427   \n",
       "1195                             1601.842631   \n",
       "1196                             1602.547360   \n",
       "\n",
       "      primary_cleaner.state.floatbank8_c_level  \\\n",
       "644                                -349.609813   \n",
       "1193                               -401.693888   \n",
       "1194                               -400.355176   \n",
       "1195                               -400.839380   \n",
       "1196                               -400.172289   \n",
       "\n",
       "      primary_cleaner.state.floatbank8_d_air  \\\n",
       "644                              1456.714168   \n",
       "1193                              627.591922   \n",
       "1194                              620.987030   \n",
       "1195                              615.876751   \n",
       "1196                              613.328125   \n",
       "\n",
       "      primary_cleaner.state.floatbank8_d_level  \\\n",
       "644                                -350.518404   \n",
       "1193                               -398.868839   \n",
       "1194                               -400.064647   \n",
       "1195                               -399.840555   \n",
       "1196                               -399.403101   \n",
       "\n",
       "      rougher.calculation.sulfate_to_au_concentrate  \\\n",
       "644                                    45778.313924   \n",
       "1193                                   32559.326343   \n",
       "1194                                   32534.407535   \n",
       "1195                                   32614.935512   \n",
       "1196                                   32480.770879   \n",
       "\n",
       "      rougher.calculation.floatbank10_sulfate_to_au_feed  \\\n",
       "644                                         2952.203313    \n",
       "1193                                        2098.775030    \n",
       "1194                                        2102.119757    \n",
       "1195                                        2100.138259    \n",
       "1196                                        2096.866328    \n",
       "\n",
       "      rougher.calculation.floatbank11_sulfate_to_au_feed  \\\n",
       "644                                         2943.136954    \n",
       "1193                                        2097.794484    \n",
       "1194                                        2101.265127    \n",
       "1195                                        2099.194438    \n",
       "1196                                        2100.975298    \n",
       "\n",
       "      rougher.calculation.au_pb_ratio  rougher.input.feed_ag  \\\n",
       "644                          2.894754               7.407737   \n",
       "1193                         3.007789               8.098125   \n",
       "1194                         3.079615               7.832467   \n",
       "1195                         3.104556               7.600277   \n",
       "1196                         3.099465               7.436860   \n",
       "\n",
       "      rougher.input.feed_pb  rougher.input.feed_rate  rougher.input.feed_size  \\\n",
       "644                1.934178               500.087438                51.965198   \n",
       "1193               2.588661               502.314489                49.985298   \n",
       "1194               2.435125               501.677628                48.845911   \n",
       "1195               2.265148               502.999469                47.430198   \n",
       "1196               2.265435               501.128474                47.440433   \n",
       "\n",
       "      rougher.input.feed_sol  rougher.input.feed_au  \\\n",
       "644                31.762853               5.598971   \n",
       "1193               34.896012               7.786147   \n",
       "1194               34.196525               7.499248   \n",
       "1195               31.994985               7.032278   \n",
       "1196               32.541806               7.021635   \n",
       "\n",
       "      rougher.input.floatbank10_sulfate  rougher.input.floatbank10_xanthate  \\\n",
       "644                           10.251319                            6.620908   \n",
       "1193                           8.842907                            7.265263   \n",
       "1194                           8.501246                            6.989404   \n",
       "1195                           7.984067                            6.548808   \n",
       "1196                           8.021768                            6.531857   \n",
       "\n",
       "      rougher.input.floatbank11_sulfate  rougher.input.floatbank11_xanthate  \\\n",
       "644                           10.259054                            6.620118   \n",
       "1193                           8.842783                            7.269218   \n",
       "1194                           8.511888                            6.982774   \n",
       "1195                           7.985276                            6.547925   \n",
       "1196                           8.022532                            6.533838   \n",
       "\n",
       "      rougher.output.concentrate_ag  rougher.output.concentrate_pb  \\\n",
       "644                       11.803589                       7.143475   \n",
       "1193                      10.640168                       7.565854   \n",
       "1194                      10.415491                       7.367937   \n",
       "1195                      10.197899                       7.364725   \n",
       "1196                       9.968103                       7.282737   \n",
       "\n",
       "      rougher.output.concentrate_sol  rougher.output.concentrate_au  \\\n",
       "644                        21.692525                      15.935190   \n",
       "1193                       24.793448                      18.682162   \n",
       "1194                       24.200400                      18.231121   \n",
       "1195                       22.839147                      18.190655   \n",
       "1196                       22.918014                      18.194323   \n",
       "\n",
       "      rougher.output.recovery  rougher.output.tail_ag  rougher.output.tail_pb  \\\n",
       "644                 68.960993                5.114923                0.925673   \n",
       "1193                82.787322                6.102604                0.788412   \n",
       "1194                83.515262                6.016604                0.695116   \n",
       "1195                83.702224                5.716353                0.652338   \n",
       "1196                84.836821                5.405111                0.636144   \n",
       "\n",
       "      rougher.output.tail_sol  rougher.output.tail_au  \\\n",
       "644                 20.699912                2.293607   \n",
       "1193                21.096415                2.046213   \n",
       "1194                20.893637                1.883162   \n",
       "1195                20.221484                1.694374   \n",
       "1196                19.054158                1.582981   \n",
       "\n",
       "      rougher.state.floatbank10_a_air  rougher.state.floatbank10_a_level  \\\n",
       "644                        999.884600                        -499.972731   \n",
       "1193                      1000.621368                        -499.594073   \n",
       "1194                       999.826851                        -500.323676   \n",
       "1195                      1000.694329                        -499.966581   \n",
       "1196                       999.571743                        -499.769543   \n",
       "\n",
       "      rougher.state.floatbank10_b_air  rougher.state.floatbank10_b_level  \\\n",
       "644                       1499.290173                        -399.546180   \n",
       "1193                      1500.980640                        -499.669103   \n",
       "1194                      1500.315649                        -499.482887   \n",
       "1195                      1500.338769                        -500.170904   \n",
       "1196                      1498.904184                        -499.759503   \n",
       "\n",
       "      rougher.state.floatbank10_c_air  rougher.state.floatbank10_c_level  \\\n",
       "644                       1499.161769                        -398.630471   \n",
       "1193                      1501.032313                        -500.950129   \n",
       "1194                      1498.075323                        -499.213575   \n",
       "1195                      1501.268792                        -499.772062   \n",
       "1196                      1497.744582                        -500.817450   \n",
       "\n",
       "      rougher.state.floatbank10_d_air  rougher.state.floatbank10_d_level  \\\n",
       "644                       1499.040323                        -399.389036   \n",
       "1193                      1498.673085                        -501.877154   \n",
       "1194                      1501.362418                        -500.711943   \n",
       "1195                      1500.508380                        -498.921405   \n",
       "1196                      1497.460411                        -499.781484   \n",
       "\n",
       "      rougher.state.floatbank10_e_air  rougher.state.floatbank10_e_level  \\\n",
       "644                       1501.877151                        -397.227473   \n",
       "1193                      1297.623855                        -501.776602   \n",
       "1194                      1300.513265                        -499.835501   \n",
       "1195                      1298.806976                        -501.174090   \n",
       "1196                      1299.624610                        -501.187097   \n",
       "\n",
       "      rougher.state.floatbank10_f_air  rougher.state.floatbank10_f_level  \\\n",
       "644                       1501.061312                        -400.602849   \n",
       "1193                      1197.469227                        -500.648180   \n",
       "1194                      1200.145997                        -498.002888   \n",
       "1195                      1199.749541                        -499.076953   \n",
       "1196                      1198.830483                        -500.974606   \n",
       "\n",
       "      secondary_cleaner.output.tail_ag  secondary_cleaner.output.tail_pb  \\\n",
       "644                          11.838086                          3.905472   \n",
       "1193                         11.644152                          4.028016   \n",
       "1194                         11.344059                          3.795803   \n",
       "1195                          9.964582                          3.606678   \n",
       "1196                          8.665906                          3.729378   \n",
       "\n",
       "      secondary_cleaner.output.tail_sol  secondary_cleaner.output.tail_au  \\\n",
       "644                           10.651508                          2.283842   \n",
       "1193                          11.880836                          3.627020   \n",
       "1194                          11.783571                          3.462723   \n",
       "1195                          10.664451                          3.488992   \n",
       "1196                           9.578744                          3.401284   \n",
       "\n",
       "      secondary_cleaner.state.floatbank2_a_air  \\\n",
       "644                                  32.054894   \n",
       "1193                                 30.029055   \n",
       "1194                                 29.995514   \n",
       "1195                                 30.035842   \n",
       "1196                                 30.038790   \n",
       "\n",
       "      secondary_cleaner.state.floatbank2_a_level  \\\n",
       "644                                  -400.832639   \n",
       "1193                                 -449.465681   \n",
       "1194                                 -446.314649   \n",
       "1195                                 -498.964978   \n",
       "1196                                 -494.944110   \n",
       "\n",
       "      secondary_cleaner.state.floatbank2_b_air  \\\n",
       "644                                  30.998499   \n",
       "1193                                 28.042141   \n",
       "1194                                 27.944098   \n",
       "1195                                 27.997281   \n",
       "1196                                 27.992440   \n",
       "\n",
       "      secondary_cleaner.state.floatbank2_b_level  \\\n",
       "644                                  -401.051170   \n",
       "1193                                 -450.180346   \n",
       "1194                                 -449.314545   \n",
       "1195                                 -497.340734   \n",
       "1196                                 -500.194801   \n",
       "\n",
       "      secondary_cleaner.state.floatbank3_a_air  \\\n",
       "644                                  30.900779   \n",
       "1193                                 27.039535   \n",
       "1194                                 27.022681   \n",
       "1195                                 26.996184   \n",
       "1196                                 26.952931   \n",
       "\n",
       "      secondary_cleaner.state.floatbank3_a_level  \\\n",
       "644                                  -400.953348   \n",
       "1193                                 -449.388889   \n",
       "1194                                 -412.624177   \n",
       "1195                                 -400.344496   \n",
       "1196                                 -499.602693   \n",
       "\n",
       "      secondary_cleaner.state.floatbank3_b_air  \\\n",
       "644                                  29.003189   \n",
       "1193                                 24.884122   \n",
       "1194                                 25.010402   \n",
       "1195                                 25.036609   \n",
       "1196                                 24.969402   \n",
       "\n",
       "      secondary_cleaner.state.floatbank3_b_level  \\\n",
       "644                                  -401.031397   \n",
       "1193                                 -449.365144   \n",
       "1194                                 -421.023904   \n",
       "1195                                 -441.604494   \n",
       "1196                                 -479.404793   \n",
       "\n",
       "      secondary_cleaner.state.floatbank4_a_air  \\\n",
       "644                                  21.991762   \n",
       "1193                                 11.979352   \n",
       "1194                                 12.034636   \n",
       "1195                                 12.016716   \n",
       "1196                                 11.993898   \n",
       "\n",
       "      secondary_cleaner.state.floatbank4_a_level  \\\n",
       "644                                  -399.587122   \n",
       "1193                                 -453.431061   \n",
       "1194                                 -446.590944   \n",
       "1195                                 -496.613149   \n",
       "1196                                 -500.427824   \n",
       "\n",
       "      secondary_cleaner.state.floatbank4_b_air  \\\n",
       "644                                  21.988937   \n",
       "1193                                 12.003445   \n",
       "1194                                 12.130405   \n",
       "1195                                 12.055535   \n",
       "1196                                 12.083824   \n",
       "\n",
       "      secondary_cleaner.state.floatbank4_b_level  \\\n",
       "644                                  -401.366408   \n",
       "1193                                 -450.179844   \n",
       "1194                                 -449.684812   \n",
       "1195                                 -496.908551   \n",
       "1196                                 -500.162537   \n",
       "\n",
       "      secondary_cleaner.state.floatbank5_a_air  \\\n",
       "644                                  22.995012   \n",
       "1193                                 11.982937   \n",
       "1194                                 11.844983   \n",
       "1195                                 12.091144   \n",
       "1196                                 12.078809   \n",
       "\n",
       "      secondary_cleaner.state.floatbank5_a_level  \\\n",
       "644                                  -399.370680   \n",
       "1193                                 -449.856468   \n",
       "1194                                 -450.881424   \n",
       "1195                                 -496.404140   \n",
       "1196                                 -499.903743   \n",
       "\n",
       "      secondary_cleaner.state.floatbank5_b_air  \\\n",
       "644                                  20.966863   \n",
       "1193                                  9.927727   \n",
       "1194                                  9.916784   \n",
       "1195                                  9.976074   \n",
       "1196                                 10.075259   \n",
       "\n",
       "      secondary_cleaner.state.floatbank5_b_level  \\\n",
       "644                                  -399.308354   \n",
       "1193                                 -450.521700   \n",
       "1194                                 -449.542871   \n",
       "1195                                 -496.783155   \n",
       "1196                                 -499.540325   \n",
       "\n",
       "      secondary_cleaner.state.floatbank6_a_air  \\\n",
       "644                                  24.987274   \n",
       "1193                                 19.971682   \n",
       "1194                                 20.004767   \n",
       "1195                                 19.921634   \n",
       "1196                                 20.039788   \n",
       "\n",
       "      secondary_cleaner.state.floatbank6_a_level  \n",
       "644                                  -399.619808  \n",
       "1193                                 -500.685521  \n",
       "1194                                 -500.137068  \n",
       "1195                                 -500.769011  \n",
       "1196                                 -499.932405  "
      ]
     },
     "execution_count": 31,
     "metadata": {},
     "output_type": "execute_result"
    }
   ],
   "source": [
    "data_full_copy.loc[(data_full_copy['final.output.concentrate_au'] ==0)].head()"
   ]
  },
  {
   "cell_type": "markdown",
   "metadata": {},
   "source": [
    "Видно, что нуливые значения золота на различных этапах совпадают с нуливыми значениями концентрации других металлов на этих этапах. Поэтому можно удалить только один элемент на различных этапах, что и сделаем."
   ]
  },
  {
   "cell_type": "code",
   "execution_count": 32,
   "metadata": {
    "scrolled": false
   },
   "outputs": [
    {
     "data": {
      "text/html": [
       "<div>\n",
       "<style scoped>\n",
       "    .dataframe tbody tr th:only-of-type {\n",
       "        vertical-align: middle;\n",
       "    }\n",
       "\n",
       "    .dataframe tbody tr th {\n",
       "        vertical-align: top;\n",
       "    }\n",
       "\n",
       "    .dataframe thead th {\n",
       "        text-align: right;\n",
       "    }\n",
       "</style>\n",
       "<table border=\"1\" class=\"dataframe\">\n",
       "  <thead>\n",
       "    <tr style=\"text-align: right;\">\n",
       "      <th></th>\n",
       "      <th>date</th>\n",
       "      <th>final.output.concentrate_ag</th>\n",
       "      <th>final.output.concentrate_pb</th>\n",
       "      <th>final.output.concentrate_sol</th>\n",
       "      <th>final.output.concentrate_au</th>\n",
       "      <th>final.output.recovery</th>\n",
       "      <th>final.output.tail_ag</th>\n",
       "      <th>final.output.tail_pb</th>\n",
       "      <th>final.output.tail_sol</th>\n",
       "      <th>final.output.tail_au</th>\n",
       "      <th>primary_cleaner.input.sulfate</th>\n",
       "      <th>primary_cleaner.input.depressant</th>\n",
       "      <th>primary_cleaner.input.feed_size</th>\n",
       "      <th>primary_cleaner.input.xanthate</th>\n",
       "      <th>primary_cleaner.output.concentrate_ag</th>\n",
       "      <th>primary_cleaner.output.concentrate_pb</th>\n",
       "      <th>primary_cleaner.output.concentrate_sol</th>\n",
       "      <th>primary_cleaner.output.concentrate_au</th>\n",
       "      <th>primary_cleaner.output.tail_ag</th>\n",
       "      <th>primary_cleaner.output.tail_pb</th>\n",
       "      <th>primary_cleaner.output.tail_sol</th>\n",
       "      <th>primary_cleaner.output.tail_au</th>\n",
       "      <th>primary_cleaner.state.floatbank8_a_air</th>\n",
       "      <th>primary_cleaner.state.floatbank8_a_level</th>\n",
       "      <th>primary_cleaner.state.floatbank8_b_air</th>\n",
       "      <th>primary_cleaner.state.floatbank8_b_level</th>\n",
       "      <th>primary_cleaner.state.floatbank8_c_air</th>\n",
       "      <th>primary_cleaner.state.floatbank8_c_level</th>\n",
       "      <th>primary_cleaner.state.floatbank8_d_air</th>\n",
       "      <th>primary_cleaner.state.floatbank8_d_level</th>\n",
       "      <th>rougher.calculation.sulfate_to_au_concentrate</th>\n",
       "      <th>rougher.calculation.floatbank10_sulfate_to_au_feed</th>\n",
       "      <th>rougher.calculation.floatbank11_sulfate_to_au_feed</th>\n",
       "      <th>rougher.calculation.au_pb_ratio</th>\n",
       "      <th>rougher.input.feed_ag</th>\n",
       "      <th>rougher.input.feed_pb</th>\n",
       "      <th>rougher.input.feed_rate</th>\n",
       "      <th>rougher.input.feed_size</th>\n",
       "      <th>rougher.input.feed_sol</th>\n",
       "      <th>rougher.input.feed_au</th>\n",
       "      <th>rougher.input.floatbank10_sulfate</th>\n",
       "      <th>rougher.input.floatbank10_xanthate</th>\n",
       "      <th>rougher.input.floatbank11_sulfate</th>\n",
       "      <th>rougher.input.floatbank11_xanthate</th>\n",
       "      <th>rougher.output.concentrate_ag</th>\n",
       "      <th>rougher.output.concentrate_pb</th>\n",
       "      <th>rougher.output.concentrate_sol</th>\n",
       "      <th>rougher.output.concentrate_au</th>\n",
       "      <th>rougher.output.recovery</th>\n",
       "      <th>rougher.output.tail_ag</th>\n",
       "      <th>rougher.output.tail_pb</th>\n",
       "      <th>rougher.output.tail_sol</th>\n",
       "      <th>rougher.output.tail_au</th>\n",
       "      <th>rougher.state.floatbank10_a_air</th>\n",
       "      <th>rougher.state.floatbank10_a_level</th>\n",
       "      <th>rougher.state.floatbank10_b_air</th>\n",
       "      <th>rougher.state.floatbank10_b_level</th>\n",
       "      <th>rougher.state.floatbank10_c_air</th>\n",
       "      <th>rougher.state.floatbank10_c_level</th>\n",
       "      <th>rougher.state.floatbank10_d_air</th>\n",
       "      <th>rougher.state.floatbank10_d_level</th>\n",
       "      <th>rougher.state.floatbank10_e_air</th>\n",
       "      <th>rougher.state.floatbank10_e_level</th>\n",
       "      <th>rougher.state.floatbank10_f_air</th>\n",
       "      <th>rougher.state.floatbank10_f_level</th>\n",
       "      <th>secondary_cleaner.output.tail_ag</th>\n",
       "      <th>secondary_cleaner.output.tail_pb</th>\n",
       "      <th>secondary_cleaner.output.tail_sol</th>\n",
       "      <th>secondary_cleaner.output.tail_au</th>\n",
       "      <th>secondary_cleaner.state.floatbank2_a_air</th>\n",
       "      <th>secondary_cleaner.state.floatbank2_a_level</th>\n",
       "      <th>secondary_cleaner.state.floatbank2_b_air</th>\n",
       "      <th>secondary_cleaner.state.floatbank2_b_level</th>\n",
       "      <th>secondary_cleaner.state.floatbank3_a_air</th>\n",
       "      <th>secondary_cleaner.state.floatbank3_a_level</th>\n",
       "      <th>secondary_cleaner.state.floatbank3_b_air</th>\n",
       "      <th>secondary_cleaner.state.floatbank3_b_level</th>\n",
       "      <th>secondary_cleaner.state.floatbank4_a_air</th>\n",
       "      <th>secondary_cleaner.state.floatbank4_a_level</th>\n",
       "      <th>secondary_cleaner.state.floatbank4_b_air</th>\n",
       "      <th>secondary_cleaner.state.floatbank4_b_level</th>\n",
       "      <th>secondary_cleaner.state.floatbank5_a_air</th>\n",
       "      <th>secondary_cleaner.state.floatbank5_a_level</th>\n",
       "      <th>secondary_cleaner.state.floatbank5_b_air</th>\n",
       "      <th>secondary_cleaner.state.floatbank5_b_level</th>\n",
       "      <th>secondary_cleaner.state.floatbank6_a_air</th>\n",
       "      <th>secondary_cleaner.state.floatbank6_a_level</th>\n",
       "    </tr>\n",
       "  </thead>\n",
       "  <tbody>\n",
       "  </tbody>\n",
       "</table>\n",
       "</div>"
      ],
      "text/plain": [
       "Empty DataFrame\n",
       "Columns: [date, final.output.concentrate_ag, final.output.concentrate_pb, final.output.concentrate_sol, final.output.concentrate_au, final.output.recovery, final.output.tail_ag, final.output.tail_pb, final.output.tail_sol, final.output.tail_au, primary_cleaner.input.sulfate, primary_cleaner.input.depressant, primary_cleaner.input.feed_size, primary_cleaner.input.xanthate, primary_cleaner.output.concentrate_ag, primary_cleaner.output.concentrate_pb, primary_cleaner.output.concentrate_sol, primary_cleaner.output.concentrate_au, primary_cleaner.output.tail_ag, primary_cleaner.output.tail_pb, primary_cleaner.output.tail_sol, primary_cleaner.output.tail_au, primary_cleaner.state.floatbank8_a_air, primary_cleaner.state.floatbank8_a_level, primary_cleaner.state.floatbank8_b_air, primary_cleaner.state.floatbank8_b_level, primary_cleaner.state.floatbank8_c_air, primary_cleaner.state.floatbank8_c_level, primary_cleaner.state.floatbank8_d_air, primary_cleaner.state.floatbank8_d_level, rougher.calculation.sulfate_to_au_concentrate, rougher.calculation.floatbank10_sulfate_to_au_feed, rougher.calculation.floatbank11_sulfate_to_au_feed, rougher.calculation.au_pb_ratio, rougher.input.feed_ag, rougher.input.feed_pb, rougher.input.feed_rate, rougher.input.feed_size, rougher.input.feed_sol, rougher.input.feed_au, rougher.input.floatbank10_sulfate, rougher.input.floatbank10_xanthate, rougher.input.floatbank11_sulfate, rougher.input.floatbank11_xanthate, rougher.output.concentrate_ag, rougher.output.concentrate_pb, rougher.output.concentrate_sol, rougher.output.concentrate_au, rougher.output.recovery, rougher.output.tail_ag, rougher.output.tail_pb, rougher.output.tail_sol, rougher.output.tail_au, rougher.state.floatbank10_a_air, rougher.state.floatbank10_a_level, rougher.state.floatbank10_b_air, rougher.state.floatbank10_b_level, rougher.state.floatbank10_c_air, rougher.state.floatbank10_c_level, rougher.state.floatbank10_d_air, rougher.state.floatbank10_d_level, rougher.state.floatbank10_e_air, rougher.state.floatbank10_e_level, rougher.state.floatbank10_f_air, rougher.state.floatbank10_f_level, secondary_cleaner.output.tail_ag, secondary_cleaner.output.tail_pb, secondary_cleaner.output.tail_sol, secondary_cleaner.output.tail_au, secondary_cleaner.state.floatbank2_a_air, secondary_cleaner.state.floatbank2_a_level, secondary_cleaner.state.floatbank2_b_air, secondary_cleaner.state.floatbank2_b_level, secondary_cleaner.state.floatbank3_a_air, secondary_cleaner.state.floatbank3_a_level, secondary_cleaner.state.floatbank3_b_air, secondary_cleaner.state.floatbank3_b_level, secondary_cleaner.state.floatbank4_a_air, secondary_cleaner.state.floatbank4_a_level, secondary_cleaner.state.floatbank4_b_air, secondary_cleaner.state.floatbank4_b_level, secondary_cleaner.state.floatbank5_a_air, secondary_cleaner.state.floatbank5_a_level, secondary_cleaner.state.floatbank5_b_air, secondary_cleaner.state.floatbank5_b_level, secondary_cleaner.state.floatbank6_a_air, secondary_cleaner.state.floatbank6_a_level]\n",
       "Index: []"
      ]
     },
     "execution_count": 32,
     "metadata": {},
     "output_type": "execute_result"
    }
   ],
   "source": [
    "data_full_end = data_full_copy[(data_full_copy['rougher.input.feed_au'] >  1) & (data_full_copy['rougher.output.concentrate_au'] > 1) & \n",
    "    (data_full_copy['primary_cleaner.output.concentrate_au'] > 1) & (data_full_copy['final.output.concentrate_au'] > 1)]\n",
    "\n",
    "data_full_end[(data_full_end['primary_cleaner.output.concentrate_au']==0)].head()"
   ]
  },
  {
   "cell_type": "markdown",
   "metadata": {},
   "source": [
    "Проверим остались ли нулевые значения в данных."
   ]
  },
  {
   "cell_type": "code",
   "execution_count": 33,
   "metadata": {},
   "outputs": [
    {
     "data": {
      "text/html": [
       "<div>\n",
       "<style scoped>\n",
       "    .dataframe tbody tr th:only-of-type {\n",
       "        vertical-align: middle;\n",
       "    }\n",
       "\n",
       "    .dataframe tbody tr th {\n",
       "        vertical-align: top;\n",
       "    }\n",
       "\n",
       "    .dataframe thead th {\n",
       "        text-align: right;\n",
       "    }\n",
       "</style>\n",
       "<table border=\"1\" class=\"dataframe\">\n",
       "  <thead>\n",
       "    <tr style=\"text-align: right;\">\n",
       "      <th></th>\n",
       "      <th>final.output.concentrate_ag</th>\n",
       "      <th>final.output.concentrate_pb</th>\n",
       "      <th>final.output.concentrate_sol</th>\n",
       "      <th>final.output.concentrate_au</th>\n",
       "      <th>final.output.recovery</th>\n",
       "      <th>final.output.tail_ag</th>\n",
       "      <th>final.output.tail_pb</th>\n",
       "      <th>final.output.tail_sol</th>\n",
       "      <th>final.output.tail_au</th>\n",
       "      <th>primary_cleaner.input.sulfate</th>\n",
       "      <th>primary_cleaner.input.depressant</th>\n",
       "      <th>primary_cleaner.input.feed_size</th>\n",
       "      <th>primary_cleaner.input.xanthate</th>\n",
       "      <th>primary_cleaner.output.concentrate_ag</th>\n",
       "      <th>primary_cleaner.output.concentrate_pb</th>\n",
       "      <th>primary_cleaner.output.concentrate_sol</th>\n",
       "      <th>primary_cleaner.output.concentrate_au</th>\n",
       "      <th>primary_cleaner.output.tail_ag</th>\n",
       "      <th>primary_cleaner.output.tail_pb</th>\n",
       "      <th>primary_cleaner.output.tail_sol</th>\n",
       "      <th>primary_cleaner.output.tail_au</th>\n",
       "      <th>primary_cleaner.state.floatbank8_a_air</th>\n",
       "      <th>primary_cleaner.state.floatbank8_a_level</th>\n",
       "      <th>primary_cleaner.state.floatbank8_b_air</th>\n",
       "      <th>primary_cleaner.state.floatbank8_b_level</th>\n",
       "      <th>primary_cleaner.state.floatbank8_c_air</th>\n",
       "      <th>primary_cleaner.state.floatbank8_c_level</th>\n",
       "      <th>primary_cleaner.state.floatbank8_d_air</th>\n",
       "      <th>primary_cleaner.state.floatbank8_d_level</th>\n",
       "      <th>rougher.calculation.sulfate_to_au_concentrate</th>\n",
       "      <th>rougher.calculation.floatbank10_sulfate_to_au_feed</th>\n",
       "      <th>rougher.calculation.floatbank11_sulfate_to_au_feed</th>\n",
       "      <th>rougher.calculation.au_pb_ratio</th>\n",
       "      <th>rougher.input.feed_ag</th>\n",
       "      <th>rougher.input.feed_pb</th>\n",
       "      <th>rougher.input.feed_rate</th>\n",
       "      <th>rougher.input.feed_size</th>\n",
       "      <th>rougher.input.feed_sol</th>\n",
       "      <th>rougher.input.feed_au</th>\n",
       "      <th>rougher.input.floatbank10_sulfate</th>\n",
       "      <th>rougher.input.floatbank10_xanthate</th>\n",
       "      <th>rougher.input.floatbank11_sulfate</th>\n",
       "      <th>rougher.input.floatbank11_xanthate</th>\n",
       "      <th>rougher.output.concentrate_ag</th>\n",
       "      <th>rougher.output.concentrate_pb</th>\n",
       "      <th>rougher.output.concentrate_sol</th>\n",
       "      <th>rougher.output.concentrate_au</th>\n",
       "      <th>rougher.output.recovery</th>\n",
       "      <th>rougher.output.tail_ag</th>\n",
       "      <th>rougher.output.tail_pb</th>\n",
       "      <th>rougher.output.tail_sol</th>\n",
       "      <th>rougher.output.tail_au</th>\n",
       "      <th>rougher.state.floatbank10_a_air</th>\n",
       "      <th>rougher.state.floatbank10_a_level</th>\n",
       "      <th>rougher.state.floatbank10_b_air</th>\n",
       "      <th>rougher.state.floatbank10_b_level</th>\n",
       "      <th>rougher.state.floatbank10_c_air</th>\n",
       "      <th>rougher.state.floatbank10_c_level</th>\n",
       "      <th>rougher.state.floatbank10_d_air</th>\n",
       "      <th>rougher.state.floatbank10_d_level</th>\n",
       "      <th>rougher.state.floatbank10_e_air</th>\n",
       "      <th>rougher.state.floatbank10_e_level</th>\n",
       "      <th>rougher.state.floatbank10_f_air</th>\n",
       "      <th>rougher.state.floatbank10_f_level</th>\n",
       "      <th>secondary_cleaner.output.tail_ag</th>\n",
       "      <th>secondary_cleaner.output.tail_pb</th>\n",
       "      <th>secondary_cleaner.output.tail_sol</th>\n",
       "      <th>secondary_cleaner.output.tail_au</th>\n",
       "      <th>secondary_cleaner.state.floatbank2_a_air</th>\n",
       "      <th>secondary_cleaner.state.floatbank2_a_level</th>\n",
       "      <th>secondary_cleaner.state.floatbank2_b_air</th>\n",
       "      <th>secondary_cleaner.state.floatbank2_b_level</th>\n",
       "      <th>secondary_cleaner.state.floatbank3_a_air</th>\n",
       "      <th>secondary_cleaner.state.floatbank3_a_level</th>\n",
       "      <th>secondary_cleaner.state.floatbank3_b_air</th>\n",
       "      <th>secondary_cleaner.state.floatbank3_b_level</th>\n",
       "      <th>secondary_cleaner.state.floatbank4_a_air</th>\n",
       "      <th>secondary_cleaner.state.floatbank4_a_level</th>\n",
       "      <th>secondary_cleaner.state.floatbank4_b_air</th>\n",
       "      <th>secondary_cleaner.state.floatbank4_b_level</th>\n",
       "      <th>secondary_cleaner.state.floatbank5_a_air</th>\n",
       "      <th>secondary_cleaner.state.floatbank5_a_level</th>\n",
       "      <th>secondary_cleaner.state.floatbank5_b_air</th>\n",
       "      <th>secondary_cleaner.state.floatbank5_b_level</th>\n",
       "      <th>secondary_cleaner.state.floatbank6_a_air</th>\n",
       "      <th>secondary_cleaner.state.floatbank6_a_level</th>\n",
       "    </tr>\n",
       "  </thead>\n",
       "  <tbody>\n",
       "    <tr>\n",
       "      <td>count</td>\n",
       "      <td>18714.000000</td>\n",
       "      <td>18714.000000</td>\n",
       "      <td>18714.000000</td>\n",
       "      <td>18714.000000</td>\n",
       "      <td>18714.000000</td>\n",
       "      <td>18714.000000</td>\n",
       "      <td>18714.000000</td>\n",
       "      <td>18714.000000</td>\n",
       "      <td>18714.000000</td>\n",
       "      <td>18714.000000</td>\n",
       "      <td>18714.000000</td>\n",
       "      <td>18714.000000</td>\n",
       "      <td>18714.000000</td>\n",
       "      <td>18714.000000</td>\n",
       "      <td>18714.000000</td>\n",
       "      <td>18714.000000</td>\n",
       "      <td>18714.000000</td>\n",
       "      <td>18714.000000</td>\n",
       "      <td>18714.000000</td>\n",
       "      <td>18714.000000</td>\n",
       "      <td>18714.000000</td>\n",
       "      <td>1.871400e+04</td>\n",
       "      <td>18714.000000</td>\n",
       "      <td>1.871400e+04</td>\n",
       "      <td>18714.000000</td>\n",
       "      <td>1.871400e+04</td>\n",
       "      <td>18714.000000</td>\n",
       "      <td>1.871400e+04</td>\n",
       "      <td>18714.000000</td>\n",
       "      <td>1.871400e+04</td>\n",
       "      <td>18714.000000</td>\n",
       "      <td>18714.000000</td>\n",
       "      <td>18714.000000</td>\n",
       "      <td>18714.000000</td>\n",
       "      <td>18714.000000</td>\n",
       "      <td>18714.000000</td>\n",
       "      <td>18714.000000</td>\n",
       "      <td>18714.000000</td>\n",
       "      <td>18714.000000</td>\n",
       "      <td>18714.000000</td>\n",
       "      <td>18714.000000</td>\n",
       "      <td>18714.000000</td>\n",
       "      <td>18714.000000</td>\n",
       "      <td>18714.000000</td>\n",
       "      <td>18714.000000</td>\n",
       "      <td>18714.000000</td>\n",
       "      <td>18714.000000</td>\n",
       "      <td>18714.000000</td>\n",
       "      <td>18714.000000</td>\n",
       "      <td>18714.000000</td>\n",
       "      <td>18714.000000</td>\n",
       "      <td>18714.000000</td>\n",
       "      <td>18714.000000</td>\n",
       "      <td>18714.000000</td>\n",
       "      <td>18714.000000</td>\n",
       "      <td>18714.000000</td>\n",
       "      <td>18714.000000</td>\n",
       "      <td>18714.000000</td>\n",
       "      <td>18714.000000</td>\n",
       "      <td>18714.000000</td>\n",
       "      <td>18714.000000</td>\n",
       "      <td>18714.000000</td>\n",
       "      <td>18714.000000</td>\n",
       "      <td>18714.000000</td>\n",
       "      <td>18714.000000</td>\n",
       "      <td>18714.000000</td>\n",
       "      <td>18714.000000</td>\n",
       "      <td>18714.000000</td>\n",
       "      <td>18714.000000</td>\n",
       "      <td>18714.000000</td>\n",
       "      <td>18714.000000</td>\n",
       "      <td>18714.000000</td>\n",
       "      <td>18714.000000</td>\n",
       "      <td>18714.000000</td>\n",
       "      <td>1.871400e+04</td>\n",
       "      <td>18714.000000</td>\n",
       "      <td>1.871400e+04</td>\n",
       "      <td>18714.000000</td>\n",
       "      <td>1.871400e+04</td>\n",
       "      <td>18714.000000</td>\n",
       "      <td>18714.000000</td>\n",
       "      <td>18714.000000</td>\n",
       "      <td>18714.000000</td>\n",
       "      <td>18714.000000</td>\n",
       "      <td>18714.000000</td>\n",
       "      <td>18714.000000</td>\n",
       "    </tr>\n",
       "    <tr>\n",
       "      <td>mean</td>\n",
       "      <td>5.198743</td>\n",
       "      <td>10.041500</td>\n",
       "      <td>9.499278</td>\n",
       "      <td>44.302603</td>\n",
       "      <td>67.443771</td>\n",
       "      <td>9.700700</td>\n",
       "      <td>2.697616</td>\n",
       "      <td>10.609701</td>\n",
       "      <td>3.041404</td>\n",
       "      <td>145.347769</td>\n",
       "      <td>8.816377</td>\n",
       "      <td>7.309872</td>\n",
       "      <td>1.020747</td>\n",
       "      <td>8.562029</td>\n",
       "      <td>9.925704</td>\n",
       "      <td>10.509946</td>\n",
       "      <td>32.488024</td>\n",
       "      <td>16.136432</td>\n",
       "      <td>3.424402</td>\n",
       "      <td>7.986392</td>\n",
       "      <td>3.896669</td>\n",
       "      <td>1.589517e+03</td>\n",
       "      <td>-490.918576</td>\n",
       "      <td>1.591608e+03</td>\n",
       "      <td>-491.885371</td>\n",
       "      <td>1.587097e+03</td>\n",
       "      <td>-491.628589</td>\n",
       "      <td>1.541672e+03</td>\n",
       "      <td>-487.988513</td>\n",
       "      <td>4.210784e+04</td>\n",
       "      <td>3369.503485</td>\n",
       "      <td>3243.163584</td>\n",
       "      <td>2.427056</td>\n",
       "      <td>8.794362</td>\n",
       "      <td>3.584114</td>\n",
       "      <td>479.278751</td>\n",
       "      <td>59.074082</td>\n",
       "      <td>36.702866</td>\n",
       "      <td>8.274383</td>\n",
       "      <td>12.312820</td>\n",
       "      <td>6.042405</td>\n",
       "      <td>12.064016</td>\n",
       "      <td>6.016489</td>\n",
       "      <td>12.239140</td>\n",
       "      <td>7.768774</td>\n",
       "      <td>29.423787</td>\n",
       "      <td>20.206515</td>\n",
       "      <td>85.105404</td>\n",
       "      <td>5.586388</td>\n",
       "      <td>0.645289</td>\n",
       "      <td>18.070174</td>\n",
       "      <td>1.814431</td>\n",
       "      <td>1103.824383</td>\n",
       "      <td>-377.744380</td>\n",
       "      <td>1323.476956</td>\n",
       "      <td>-466.717027</td>\n",
       "      <td>1303.752659</td>\n",
       "      <td>-467.217383</td>\n",
       "      <td>1215.513188</td>\n",
       "      <td>-467.754930</td>\n",
       "      <td>1079.556899</td>\n",
       "      <td>-465.432801</td>\n",
       "      <td>1027.592999</td>\n",
       "      <td>-465.711969</td>\n",
       "      <td>14.609437</td>\n",
       "      <td>5.770371</td>\n",
       "      <td>6.713459</td>\n",
       "      <td>4.308502</td>\n",
       "      <td>28.787854</td>\n",
       "      <td>-502.051287</td>\n",
       "      <td>24.139039</td>\n",
       "      <td>-502.874535</td>\n",
       "      <td>28.225062</td>\n",
       "      <td>-485.928429</td>\n",
       "      <td>2.226336e+01</td>\n",
       "      <td>-493.374053</td>\n",
       "      <td>1.898092e+01</td>\n",
       "      <td>-485.647889</td>\n",
       "      <td>1.502223e+01</td>\n",
       "      <td>-461.091192</td>\n",
       "      <td>15.717722</td>\n",
       "      <td>-488.344566</td>\n",
       "      <td>12.214251</td>\n",
       "      <td>-486.876569</td>\n",
       "      <td>19.034046</td>\n",
       "      <td>-505.244312</td>\n",
       "    </tr>\n",
       "    <tr>\n",
       "      <td>std</td>\n",
       "      <td>1.324241</td>\n",
       "      <td>1.497377</td>\n",
       "      <td>2.809513</td>\n",
       "      <td>3.943766</td>\n",
       "      <td>8.739045</td>\n",
       "      <td>2.294374</td>\n",
       "      <td>0.948591</td>\n",
       "      <td>2.846511</td>\n",
       "      <td>0.906330</td>\n",
       "      <td>43.884279</td>\n",
       "      <td>3.278042</td>\n",
       "      <td>0.612886</td>\n",
       "      <td>0.512762</td>\n",
       "      <td>1.834116</td>\n",
       "      <td>2.346392</td>\n",
       "      <td>3.811157</td>\n",
       "      <td>4.348960</td>\n",
       "      <td>3.498282</td>\n",
       "      <td>1.385280</td>\n",
       "      <td>2.208837</td>\n",
       "      <td>1.568020</td>\n",
       "      <td>1.276057e+02</td>\n",
       "      <td>31.966100</td>\n",
       "      <td>1.306071e+02</td>\n",
       "      <td>33.142363</td>\n",
       "      <td>1.347467e+02</td>\n",
       "      <td>31.824432</td>\n",
       "      <td>2.477502e+02</td>\n",
       "      <td>43.140314</td>\n",
       "      <td>3.305417e+05</td>\n",
       "      <td>5019.289905</td>\n",
       "      <td>5876.645900</td>\n",
       "      <td>0.816302</td>\n",
       "      <td>1.924395</td>\n",
       "      <td>1.055739</td>\n",
       "      <td>103.960277</td>\n",
       "      <td>22.233739</td>\n",
       "      <td>5.111164</td>\n",
       "      <td>1.925297</td>\n",
       "      <td>3.381702</td>\n",
       "      <td>1.110497</td>\n",
       "      <td>3.743635</td>\n",
       "      <td>1.181342</td>\n",
       "      <td>2.109927</td>\n",
       "      <td>1.417284</td>\n",
       "      <td>4.242566</td>\n",
       "      <td>2.425352</td>\n",
       "      <td>7.423825</td>\n",
       "      <td>1.114552</td>\n",
       "      <td>0.248429</td>\n",
       "      <td>3.430689</td>\n",
       "      <td>0.673257</td>\n",
       "      <td>159.859877</td>\n",
       "      <td>94.233982</td>\n",
       "      <td>175.491772</td>\n",
       "      <td>54.743086</td>\n",
       "      <td>201.900328</td>\n",
       "      <td>53.595921</td>\n",
       "      <td>203.084464</td>\n",
       "      <td>53.974144</td>\n",
       "      <td>174.077888</td>\n",
       "      <td>57.487526</td>\n",
       "      <td>165.045404</td>\n",
       "      <td>57.979580</td>\n",
       "      <td>4.191868</td>\n",
       "      <td>2.764672</td>\n",
       "      <td>4.127764</td>\n",
       "      <td>2.277518</td>\n",
       "      <td>5.452762</td>\n",
       "      <td>53.275629</td>\n",
       "      <td>5.708497</td>\n",
       "      <td>56.351448</td>\n",
       "      <td>6.113745</td>\n",
       "      <td>54.383763</td>\n",
       "      <td>5.547829e+00</td>\n",
       "      <td>43.064426</td>\n",
       "      <td>5.389411e+00</td>\n",
       "      <td>47.785133</td>\n",
       "      <td>4.875285e+00</td>\n",
       "      <td>66.368169</td>\n",
       "      <td>5.486058</td>\n",
       "      <td>34.494974</td>\n",
       "      <td>5.310549</td>\n",
       "      <td>37.974938</td>\n",
       "      <td>5.512016</td>\n",
       "      <td>37.412978</td>\n",
       "    </tr>\n",
       "    <tr>\n",
       "      <td>min</td>\n",
       "      <td>0.193950</td>\n",
       "      <td>0.332391</td>\n",
       "      <td>0.268995</td>\n",
       "      <td>1.063992</td>\n",
       "      <td>0.463711</td>\n",
       "      <td>0.000000</td>\n",
       "      <td>0.000000</td>\n",
       "      <td>0.000000</td>\n",
       "      <td>0.000000</td>\n",
       "      <td>0.051279</td>\n",
       "      <td>0.000000</td>\n",
       "      <td>1.080000</td>\n",
       "      <td>0.000005</td>\n",
       "      <td>0.232558</td>\n",
       "      <td>0.000000</td>\n",
       "      <td>0.000000</td>\n",
       "      <td>1.004621</td>\n",
       "      <td>0.000000</td>\n",
       "      <td>0.000000</td>\n",
       "      <td>0.000000</td>\n",
       "      <td>0.000000</td>\n",
       "      <td>5.445860e-32</td>\n",
       "      <td>-783.448551</td>\n",
       "      <td>6.647490e-32</td>\n",
       "      <td>-799.950103</td>\n",
       "      <td>4.033736e-32</td>\n",
       "      <td>-799.960571</td>\n",
       "      <td>4.039220e-32</td>\n",
       "      <td>-799.794250</td>\n",
       "      <td>-4.223520e+07</td>\n",
       "      <td>-486.598675</td>\n",
       "      <td>-264.982785</td>\n",
       "      <td>-0.010548</td>\n",
       "      <td>1.226494</td>\n",
       "      <td>0.088552</td>\n",
       "      <td>0.002986</td>\n",
       "      <td>0.046369</td>\n",
       "      <td>0.463867</td>\n",
       "      <td>1.025235</td>\n",
       "      <td>0.001147</td>\n",
       "      <td>0.000568</td>\n",
       "      <td>0.000077</td>\n",
       "      <td>0.000290</td>\n",
       "      <td>0.905993</td>\n",
       "      <td>0.629964</td>\n",
       "      <td>0.000000</td>\n",
       "      <td>1.889855</td>\n",
       "      <td>2.520854</td>\n",
       "      <td>0.594562</td>\n",
       "      <td>0.007566</td>\n",
       "      <td>10.014648</td>\n",
       "      <td>0.020676</td>\n",
       "      <td>-0.042069</td>\n",
       "      <td>-657.949759</td>\n",
       "      <td>-0.721806</td>\n",
       "      <td>-650.065369</td>\n",
       "      <td>-0.056636</td>\n",
       "      <td>-647.544439</td>\n",
       "      <td>-0.992219</td>\n",
       "      <td>-648.390665</td>\n",
       "      <td>-1.982295</td>\n",
       "      <td>-648.002444</td>\n",
       "      <td>-2.593390</td>\n",
       "      <td>-649.949283</td>\n",
       "      <td>0.000000</td>\n",
       "      <td>0.000000</td>\n",
       "      <td>0.000000</td>\n",
       "      <td>0.000000</td>\n",
       "      <td>0.077503</td>\n",
       "      <td>-799.606441</td>\n",
       "      <td>0.000000</td>\n",
       "      <td>-799.873878</td>\n",
       "      <td>0.000000</td>\n",
       "      <td>-799.755798</td>\n",
       "      <td>6.137256e-22</td>\n",
       "      <td>-809.333008</td>\n",
       "      <td>1.079872e-16</td>\n",
       "      <td>-799.798523</td>\n",
       "      <td>2.489718e-17</td>\n",
       "      <td>-800.836914</td>\n",
       "      <td>-0.372054</td>\n",
       "      <td>-797.323986</td>\n",
       "      <td>0.528083</td>\n",
       "      <td>-800.220337</td>\n",
       "      <td>-0.079426</td>\n",
       "      <td>-809.741464</td>\n",
       "    </tr>\n",
       "    <tr>\n",
       "      <td>25%</td>\n",
       "      <td>4.270066</td>\n",
       "      <td>9.156969</td>\n",
       "      <td>7.679149</td>\n",
       "      <td>43.425918</td>\n",
       "      <td>63.516017</td>\n",
       "      <td>8.058148</td>\n",
       "      <td>2.035142</td>\n",
       "      <td>8.937283</td>\n",
       "      <td>2.463251</td>\n",
       "      <td>114.860001</td>\n",
       "      <td>6.082042</td>\n",
       "      <td>6.940000</td>\n",
       "      <td>0.697456</td>\n",
       "      <td>7.333258</td>\n",
       "      <td>8.742292</td>\n",
       "      <td>7.880826</td>\n",
       "      <td>30.543715</td>\n",
       "      <td>14.004241</td>\n",
       "      <td>2.496822</td>\n",
       "      <td>6.753641</td>\n",
       "      <td>2.920485</td>\n",
       "      <td>1.504628e+03</td>\n",
       "      <td>-500.304697</td>\n",
       "      <td>1.503558e+03</td>\n",
       "      <td>-500.431391</td>\n",
       "      <td>1.500918e+03</td>\n",
       "      <td>-500.696957</td>\n",
       "      <td>1.488618e+03</td>\n",
       "      <td>-500.454241</td>\n",
       "      <td>4.080309e+04</td>\n",
       "      <td>2617.787382</td>\n",
       "      <td>2563.368062</td>\n",
       "      <td>2.039037</td>\n",
       "      <td>7.229655</td>\n",
       "      <td>2.872416</td>\n",
       "      <td>419.951142</td>\n",
       "      <td>47.487790</td>\n",
       "      <td>34.181244</td>\n",
       "      <td>6.848150</td>\n",
       "      <td>10.000452</td>\n",
       "      <td>5.400110</td>\n",
       "      <td>9.998818</td>\n",
       "      <td>5.399324</td>\n",
       "      <td>10.709856</td>\n",
       "      <td>6.806943</td>\n",
       "      <td>27.446600</td>\n",
       "      <td>18.945836</td>\n",
       "      <td>81.463101</td>\n",
       "      <td>4.886030</td>\n",
       "      <td>0.477400</td>\n",
       "      <td>15.872552</td>\n",
       "      <td>1.405175</td>\n",
       "      <td>999.655155</td>\n",
       "      <td>-499.848541</td>\n",
       "      <td>1199.719509</td>\n",
       "      <td>-500.196420</td>\n",
       "      <td>1151.776957</td>\n",
       "      <td>-500.214212</td>\n",
       "      <td>1082.690465</td>\n",
       "      <td>-500.373841</td>\n",
       "      <td>998.286270</td>\n",
       "      <td>-500.225047</td>\n",
       "      <td>901.299841</td>\n",
       "      <td>-500.508563</td>\n",
       "      <td>12.659250</td>\n",
       "      <td>3.850866</td>\n",
       "      <td>3.002904</td>\n",
       "      <td>3.170424</td>\n",
       "      <td>25.053622</td>\n",
       "      <td>-500.233032</td>\n",
       "      <td>20.987521</td>\n",
       "      <td>-500.249254</td>\n",
       "      <td>24.946904</td>\n",
       "      <td>-500.214128</td>\n",
       "      <td>1.899583e+01</td>\n",
       "      <td>-500.122172</td>\n",
       "      <td>1.497696e+01</td>\n",
       "      <td>-500.702004</td>\n",
       "      <td>1.194885e+01</td>\n",
       "      <td>-500.188184</td>\n",
       "      <td>10.992146</td>\n",
       "      <td>-500.452777</td>\n",
       "      <td>8.972315</td>\n",
       "      <td>-500.129289</td>\n",
       "      <td>14.986128</td>\n",
       "      <td>-500.720691</td>\n",
       "    </tr>\n",
       "    <tr>\n",
       "      <td>50%</td>\n",
       "      <td>5.075892</td>\n",
       "      <td>10.116793</td>\n",
       "      <td>9.219488</td>\n",
       "      <td>45.010115</td>\n",
       "      <td>68.260741</td>\n",
       "      <td>9.758384</td>\n",
       "      <td>2.736462</td>\n",
       "      <td>10.637636</td>\n",
       "      <td>2.979581</td>\n",
       "      <td>143.706669</td>\n",
       "      <td>8.036503</td>\n",
       "      <td>7.290000</td>\n",
       "      <td>0.929263</td>\n",
       "      <td>8.551549</td>\n",
       "      <td>10.160578</td>\n",
       "      <td>10.301785</td>\n",
       "      <td>32.851581</td>\n",
       "      <td>15.823360</td>\n",
       "      <td>3.255157</td>\n",
       "      <td>8.198522</td>\n",
       "      <td>3.605933</td>\n",
       "      <td>1.600554e+03</td>\n",
       "      <td>-499.925963</td>\n",
       "      <td>1.600484e+03</td>\n",
       "      <td>-499.954028</td>\n",
       "      <td>1.600216e+03</td>\n",
       "      <td>-499.906305</td>\n",
       "      <td>1.599375e+03</td>\n",
       "      <td>-499.905885</td>\n",
       "      <td>4.475133e+04</td>\n",
       "      <td>3014.220309</td>\n",
       "      <td>2996.682735</td>\n",
       "      <td>2.316552</td>\n",
       "      <td>8.599942</td>\n",
       "      <td>3.524133</td>\n",
       "      <td>499.510836</td>\n",
       "      <td>54.678807</td>\n",
       "      <td>37.187763</td>\n",
       "      <td>8.129623</td>\n",
       "      <td>12.001047</td>\n",
       "      <td>6.074301</td>\n",
       "      <td>12.000138</td>\n",
       "      <td>6.093538</td>\n",
       "      <td>12.167750</td>\n",
       "      <td>7.774230</td>\n",
       "      <td>29.920032</td>\n",
       "      <td>20.342178</td>\n",
       "      <td>86.374856</td>\n",
       "      <td>5.759491</td>\n",
       "      <td>0.616989</td>\n",
       "      <td>18.133151</td>\n",
       "      <td>1.805247</td>\n",
       "      <td>1001.034509</td>\n",
       "      <td>-300.275178</td>\n",
       "      <td>1302.221057</td>\n",
       "      <td>-499.778684</td>\n",
       "      <td>1300.626711</td>\n",
       "      <td>-499.700973</td>\n",
       "      <td>1202.307578</td>\n",
       "      <td>-499.519469</td>\n",
       "      <td>1049.955265</td>\n",
       "      <td>-499.648218</td>\n",
       "      <td>999.968494</td>\n",
       "      <td>-499.457382</td>\n",
       "      <td>15.654178</td>\n",
       "      <td>5.325794</td>\n",
       "      <td>7.214248</td>\n",
       "      <td>4.056771</td>\n",
       "      <td>29.332490</td>\n",
       "      <td>-499.971638</td>\n",
       "      <td>25.039834</td>\n",
       "      <td>-500.013849</td>\n",
       "      <td>27.982514</td>\n",
       "      <td>-499.930784</td>\n",
       "      <td>2.201834e+01</td>\n",
       "      <td>-499.980735</td>\n",
       "      <td>1.801567e+01</td>\n",
       "      <td>-499.838080</td>\n",
       "      <td>1.497108e+01</td>\n",
       "      <td>-499.456819</td>\n",
       "      <td>15.009880</td>\n",
       "      <td>-499.801536</td>\n",
       "      <td>11.027731</td>\n",
       "      <td>-499.935062</td>\n",
       "      <td>19.968498</td>\n",
       "      <td>-500.047281</td>\n",
       "    </tr>\n",
       "    <tr>\n",
       "      <td>75%</td>\n",
       "      <td>5.897855</td>\n",
       "      <td>11.053647</td>\n",
       "      <td>10.976130</td>\n",
       "      <td>46.257638</td>\n",
       "      <td>72.712021</td>\n",
       "      <td>11.138161</td>\n",
       "      <td>3.320140</td>\n",
       "      <td>12.109396</td>\n",
       "      <td>3.557575</td>\n",
       "      <td>175.300439</td>\n",
       "      <td>11.002677</td>\n",
       "      <td>7.670000</td>\n",
       "      <td>1.212279</td>\n",
       "      <td>9.834839</td>\n",
       "      <td>11.424171</td>\n",
       "      <td>13.413541</td>\n",
       "      <td>35.038336</td>\n",
       "      <td>17.972562</td>\n",
       "      <td>4.169516</td>\n",
       "      <td>9.559740</td>\n",
       "      <td>4.561422</td>\n",
       "      <td>1.697563e+03</td>\n",
       "      <td>-499.431645</td>\n",
       "      <td>1.699200e+03</td>\n",
       "      <td>-499.366326</td>\n",
       "      <td>1.699472e+03</td>\n",
       "      <td>-498.844801</td>\n",
       "      <td>1.698426e+03</td>\n",
       "      <td>-499.070805</td>\n",
       "      <td>4.818918e+04</td>\n",
       "      <td>3656.738057</td>\n",
       "      <td>3584.090968</td>\n",
       "      <td>2.734208</td>\n",
       "      <td>10.211141</td>\n",
       "      <td>4.239307</td>\n",
       "      <td>550.086483</td>\n",
       "      <td>64.838793</td>\n",
       "      <td>40.060490</td>\n",
       "      <td>9.770743</td>\n",
       "      <td>14.691803</td>\n",
       "      <td>6.799081</td>\n",
       "      <td>14.598800</td>\n",
       "      <td>6.800679</td>\n",
       "      <td>13.758403</td>\n",
       "      <td>8.581828</td>\n",
       "      <td>32.246715</td>\n",
       "      <td>21.768199</td>\n",
       "      <td>90.081431</td>\n",
       "      <td>6.391601</td>\n",
       "      <td>0.778646</td>\n",
       "      <td>20.087561</td>\n",
       "      <td>2.209721</td>\n",
       "      <td>1204.665282</td>\n",
       "      <td>-299.983474</td>\n",
       "      <td>1449.243648</td>\n",
       "      <td>-400.553696</td>\n",
       "      <td>1449.936875</td>\n",
       "      <td>-400.898192</td>\n",
       "      <td>1360.610690</td>\n",
       "      <td>-401.477026</td>\n",
       "      <td>1199.449952</td>\n",
       "      <td>-401.007685</td>\n",
       "      <td>1099.831048</td>\n",
       "      <td>-401.350099</td>\n",
       "      <td>17.328234</td>\n",
       "      <td>7.771722</td>\n",
       "      <td>10.254014</td>\n",
       "      <td>5.035162</td>\n",
       "      <td>33.040527</td>\n",
       "      <td>-499.668096</td>\n",
       "      <td>28.009880</td>\n",
       "      <td>-499.783979</td>\n",
       "      <td>33.003342</td>\n",
       "      <td>-499.319884</td>\n",
       "      <td>2.600725e+01</td>\n",
       "      <td>-499.810592</td>\n",
       "      <td>2.301231e+01</td>\n",
       "      <td>-498.237702</td>\n",
       "      <td>1.903373e+01</td>\n",
       "      <td>-400.126650</td>\n",
       "      <td>18.025957</td>\n",
       "      <td>-498.358838</td>\n",
       "      <td>14.018478</td>\n",
       "      <td>-499.424206</td>\n",
       "      <td>24.658177</td>\n",
       "      <td>-499.491376</td>\n",
       "    </tr>\n",
       "    <tr>\n",
       "      <td>max</td>\n",
       "      <td>16.001945</td>\n",
       "      <td>17.031899</td>\n",
       "      <td>19.615720</td>\n",
       "      <td>51.571885</td>\n",
       "      <td>100.000000</td>\n",
       "      <td>19.552149</td>\n",
       "      <td>5.804178</td>\n",
       "      <td>22.317730</td>\n",
       "      <td>8.245022</td>\n",
       "      <td>265.983123</td>\n",
       "      <td>40.000000</td>\n",
       "      <td>15.500000</td>\n",
       "      <td>4.102454</td>\n",
       "      <td>16.081632</td>\n",
       "      <td>17.081278</td>\n",
       "      <td>22.458114</td>\n",
       "      <td>45.933934</td>\n",
       "      <td>29.459575</td>\n",
       "      <td>9.634565</td>\n",
       "      <td>22.276364</td>\n",
       "      <td>17.281572</td>\n",
       "      <td>2.079531e+03</td>\n",
       "      <td>-57.195404</td>\n",
       "      <td>1.846447e+03</td>\n",
       "      <td>-142.527229</td>\n",
       "      <td>2.013156e+03</td>\n",
       "      <td>-150.937035</td>\n",
       "      <td>2.398888e+03</td>\n",
       "      <td>-30.601828</td>\n",
       "      <td>3.428099e+06</td>\n",
       "      <td>629638.977914</td>\n",
       "      <td>718684.955855</td>\n",
       "      <td>39.379272</td>\n",
       "      <td>14.596026</td>\n",
       "      <td>7.142594</td>\n",
       "      <td>717.508837</td>\n",
       "      <td>484.967466</td>\n",
       "      <td>53.477742</td>\n",
       "      <td>13.731330</td>\n",
       "      <td>36.118275</td>\n",
       "      <td>9.703448</td>\n",
       "      <td>37.980648</td>\n",
       "      <td>9.698407</td>\n",
       "      <td>24.480271</td>\n",
       "      <td>13.617072</td>\n",
       "      <td>38.351193</td>\n",
       "      <td>28.824507</td>\n",
       "      <td>99.979041</td>\n",
       "      <td>12.719177</td>\n",
       "      <td>3.778064</td>\n",
       "      <td>66.117188</td>\n",
       "      <td>9.688980</td>\n",
       "      <td>1521.980372</td>\n",
       "      <td>-273.776101</td>\n",
       "      <td>1809.194008</td>\n",
       "      <td>-296.383080</td>\n",
       "      <td>2499.129174</td>\n",
       "      <td>-292.155509</td>\n",
       "      <td>1817.199290</td>\n",
       "      <td>-76.397327</td>\n",
       "      <td>1922.636637</td>\n",
       "      <td>-139.753025</td>\n",
       "      <td>1706.307502</td>\n",
       "      <td>-191.718480</td>\n",
       "      <td>23.264738</td>\n",
       "      <td>17.042505</td>\n",
       "      <td>17.976171</td>\n",
       "      <td>26.811643</td>\n",
       "      <td>52.651399</td>\n",
       "      <td>-127.875565</td>\n",
       "      <td>35.152122</td>\n",
       "      <td>-211.999273</td>\n",
       "      <td>44.260464</td>\n",
       "      <td>-191.678810</td>\n",
       "      <td>3.507284e+01</td>\n",
       "      <td>-159.742331</td>\n",
       "      <td>3.011574e+01</td>\n",
       "      <td>-245.239184</td>\n",
       "      <td>2.400791e+01</td>\n",
       "      <td>-7.834746</td>\n",
       "      <td>43.709931</td>\n",
       "      <td>-244.483566</td>\n",
       "      <td>27.926001</td>\n",
       "      <td>-137.740004</td>\n",
       "      <td>32.188906</td>\n",
       "      <td>-104.427459</td>\n",
       "    </tr>\n",
       "  </tbody>\n",
       "</table>\n",
       "</div>"
      ],
      "text/plain": [
       "       final.output.concentrate_ag  final.output.concentrate_pb  \\\n",
       "count                 18714.000000                 18714.000000   \n",
       "mean                      5.198743                    10.041500   \n",
       "std                       1.324241                     1.497377   \n",
       "min                       0.193950                     0.332391   \n",
       "25%                       4.270066                     9.156969   \n",
       "50%                       5.075892                    10.116793   \n",
       "75%                       5.897855                    11.053647   \n",
       "max                      16.001945                    17.031899   \n",
       "\n",
       "       final.output.concentrate_sol  final.output.concentrate_au  \\\n",
       "count                  18714.000000                 18714.000000   \n",
       "mean                       9.499278                    44.302603   \n",
       "std                        2.809513                     3.943766   \n",
       "min                        0.268995                     1.063992   \n",
       "25%                        7.679149                    43.425918   \n",
       "50%                        9.219488                    45.010115   \n",
       "75%                       10.976130                    46.257638   \n",
       "max                       19.615720                    51.571885   \n",
       "\n",
       "       final.output.recovery  final.output.tail_ag  final.output.tail_pb  \\\n",
       "count           18714.000000          18714.000000          18714.000000   \n",
       "mean               67.443771              9.700700              2.697616   \n",
       "std                 8.739045              2.294374              0.948591   \n",
       "min                 0.463711              0.000000              0.000000   \n",
       "25%                63.516017              8.058148              2.035142   \n",
       "50%                68.260741              9.758384              2.736462   \n",
       "75%                72.712021             11.138161              3.320140   \n",
       "max               100.000000             19.552149              5.804178   \n",
       "\n",
       "       final.output.tail_sol  final.output.tail_au  \\\n",
       "count           18714.000000          18714.000000   \n",
       "mean               10.609701              3.041404   \n",
       "std                 2.846511              0.906330   \n",
       "min                 0.000000              0.000000   \n",
       "25%                 8.937283              2.463251   \n",
       "50%                10.637636              2.979581   \n",
       "75%                12.109396              3.557575   \n",
       "max                22.317730              8.245022   \n",
       "\n",
       "       primary_cleaner.input.sulfate  primary_cleaner.input.depressant  \\\n",
       "count                   18714.000000                      18714.000000   \n",
       "mean                      145.347769                          8.816377   \n",
       "std                        43.884279                          3.278042   \n",
       "min                         0.051279                          0.000000   \n",
       "25%                       114.860001                          6.082042   \n",
       "50%                       143.706669                          8.036503   \n",
       "75%                       175.300439                         11.002677   \n",
       "max                       265.983123                         40.000000   \n",
       "\n",
       "       primary_cleaner.input.feed_size  primary_cleaner.input.xanthate  \\\n",
       "count                     18714.000000                    18714.000000   \n",
       "mean                          7.309872                        1.020747   \n",
       "std                           0.612886                        0.512762   \n",
       "min                           1.080000                        0.000005   \n",
       "25%                           6.940000                        0.697456   \n",
       "50%                           7.290000                        0.929263   \n",
       "75%                           7.670000                        1.212279   \n",
       "max                          15.500000                        4.102454   \n",
       "\n",
       "       primary_cleaner.output.concentrate_ag  \\\n",
       "count                           18714.000000   \n",
       "mean                                8.562029   \n",
       "std                                 1.834116   \n",
       "min                                 0.232558   \n",
       "25%                                 7.333258   \n",
       "50%                                 8.551549   \n",
       "75%                                 9.834839   \n",
       "max                                16.081632   \n",
       "\n",
       "       primary_cleaner.output.concentrate_pb  \\\n",
       "count                           18714.000000   \n",
       "mean                                9.925704   \n",
       "std                                 2.346392   \n",
       "min                                 0.000000   \n",
       "25%                                 8.742292   \n",
       "50%                                10.160578   \n",
       "75%                                11.424171   \n",
       "max                                17.081278   \n",
       "\n",
       "       primary_cleaner.output.concentrate_sol  \\\n",
       "count                            18714.000000   \n",
       "mean                                10.509946   \n",
       "std                                  3.811157   \n",
       "min                                  0.000000   \n",
       "25%                                  7.880826   \n",
       "50%                                 10.301785   \n",
       "75%                                 13.413541   \n",
       "max                                 22.458114   \n",
       "\n",
       "       primary_cleaner.output.concentrate_au  primary_cleaner.output.tail_ag  \\\n",
       "count                           18714.000000                    18714.000000   \n",
       "mean                               32.488024                       16.136432   \n",
       "std                                 4.348960                        3.498282   \n",
       "min                                 1.004621                        0.000000   \n",
       "25%                                30.543715                       14.004241   \n",
       "50%                                32.851581                       15.823360   \n",
       "75%                                35.038336                       17.972562   \n",
       "max                                45.933934                       29.459575   \n",
       "\n",
       "       primary_cleaner.output.tail_pb  primary_cleaner.output.tail_sol  \\\n",
       "count                    18714.000000                     18714.000000   \n",
       "mean                         3.424402                         7.986392   \n",
       "std                          1.385280                         2.208837   \n",
       "min                          0.000000                         0.000000   \n",
       "25%                          2.496822                         6.753641   \n",
       "50%                          3.255157                         8.198522   \n",
       "75%                          4.169516                         9.559740   \n",
       "max                          9.634565                        22.276364   \n",
       "\n",
       "       primary_cleaner.output.tail_au  primary_cleaner.state.floatbank8_a_air  \\\n",
       "count                    18714.000000                            1.871400e+04   \n",
       "mean                         3.896669                            1.589517e+03   \n",
       "std                          1.568020                            1.276057e+02   \n",
       "min                          0.000000                            5.445860e-32   \n",
       "25%                          2.920485                            1.504628e+03   \n",
       "50%                          3.605933                            1.600554e+03   \n",
       "75%                          4.561422                            1.697563e+03   \n",
       "max                         17.281572                            2.079531e+03   \n",
       "\n",
       "       primary_cleaner.state.floatbank8_a_level  \\\n",
       "count                              18714.000000   \n",
       "mean                                -490.918576   \n",
       "std                                   31.966100   \n",
       "min                                 -783.448551   \n",
       "25%                                 -500.304697   \n",
       "50%                                 -499.925963   \n",
       "75%                                 -499.431645   \n",
       "max                                  -57.195404   \n",
       "\n",
       "       primary_cleaner.state.floatbank8_b_air  \\\n",
       "count                            1.871400e+04   \n",
       "mean                             1.591608e+03   \n",
       "std                              1.306071e+02   \n",
       "min                              6.647490e-32   \n",
       "25%                              1.503558e+03   \n",
       "50%                              1.600484e+03   \n",
       "75%                              1.699200e+03   \n",
       "max                              1.846447e+03   \n",
       "\n",
       "       primary_cleaner.state.floatbank8_b_level  \\\n",
       "count                              18714.000000   \n",
       "mean                                -491.885371   \n",
       "std                                   33.142363   \n",
       "min                                 -799.950103   \n",
       "25%                                 -500.431391   \n",
       "50%                                 -499.954028   \n",
       "75%                                 -499.366326   \n",
       "max                                 -142.527229   \n",
       "\n",
       "       primary_cleaner.state.floatbank8_c_air  \\\n",
       "count                            1.871400e+04   \n",
       "mean                             1.587097e+03   \n",
       "std                              1.347467e+02   \n",
       "min                              4.033736e-32   \n",
       "25%                              1.500918e+03   \n",
       "50%                              1.600216e+03   \n",
       "75%                              1.699472e+03   \n",
       "max                              2.013156e+03   \n",
       "\n",
       "       primary_cleaner.state.floatbank8_c_level  \\\n",
       "count                              18714.000000   \n",
       "mean                                -491.628589   \n",
       "std                                   31.824432   \n",
       "min                                 -799.960571   \n",
       "25%                                 -500.696957   \n",
       "50%                                 -499.906305   \n",
       "75%                                 -498.844801   \n",
       "max                                 -150.937035   \n",
       "\n",
       "       primary_cleaner.state.floatbank8_d_air  \\\n",
       "count                            1.871400e+04   \n",
       "mean                             1.541672e+03   \n",
       "std                              2.477502e+02   \n",
       "min                              4.039220e-32   \n",
       "25%                              1.488618e+03   \n",
       "50%                              1.599375e+03   \n",
       "75%                              1.698426e+03   \n",
       "max                              2.398888e+03   \n",
       "\n",
       "       primary_cleaner.state.floatbank8_d_level  \\\n",
       "count                              18714.000000   \n",
       "mean                                -487.988513   \n",
       "std                                   43.140314   \n",
       "min                                 -799.794250   \n",
       "25%                                 -500.454241   \n",
       "50%                                 -499.905885   \n",
       "75%                                 -499.070805   \n",
       "max                                  -30.601828   \n",
       "\n",
       "       rougher.calculation.sulfate_to_au_concentrate  \\\n",
       "count                                   1.871400e+04   \n",
       "mean                                    4.210784e+04   \n",
       "std                                     3.305417e+05   \n",
       "min                                    -4.223520e+07   \n",
       "25%                                     4.080309e+04   \n",
       "50%                                     4.475133e+04   \n",
       "75%                                     4.818918e+04   \n",
       "max                                     3.428099e+06   \n",
       "\n",
       "       rougher.calculation.floatbank10_sulfate_to_au_feed  \\\n",
       "count                                       18714.000000    \n",
       "mean                                         3369.503485    \n",
       "std                                          5019.289905    \n",
       "min                                          -486.598675    \n",
       "25%                                          2617.787382    \n",
       "50%                                          3014.220309    \n",
       "75%                                          3656.738057    \n",
       "max                                        629638.977914    \n",
       "\n",
       "       rougher.calculation.floatbank11_sulfate_to_au_feed  \\\n",
       "count                                       18714.000000    \n",
       "mean                                         3243.163584    \n",
       "std                                          5876.645900    \n",
       "min                                          -264.982785    \n",
       "25%                                          2563.368062    \n",
       "50%                                          2996.682735    \n",
       "75%                                          3584.090968    \n",
       "max                                        718684.955855    \n",
       "\n",
       "       rougher.calculation.au_pb_ratio  rougher.input.feed_ag  \\\n",
       "count                     18714.000000           18714.000000   \n",
       "mean                          2.427056               8.794362   \n",
       "std                           0.816302               1.924395   \n",
       "min                          -0.010548               1.226494   \n",
       "25%                           2.039037               7.229655   \n",
       "50%                           2.316552               8.599942   \n",
       "75%                           2.734208              10.211141   \n",
       "max                          39.379272              14.596026   \n",
       "\n",
       "       rougher.input.feed_pb  rougher.input.feed_rate  \\\n",
       "count           18714.000000             18714.000000   \n",
       "mean                3.584114               479.278751   \n",
       "std                 1.055739               103.960277   \n",
       "min                 0.088552                 0.002986   \n",
       "25%                 2.872416               419.951142   \n",
       "50%                 3.524133               499.510836   \n",
       "75%                 4.239307               550.086483   \n",
       "max                 7.142594               717.508837   \n",
       "\n",
       "       rougher.input.feed_size  rougher.input.feed_sol  rougher.input.feed_au  \\\n",
       "count             18714.000000            18714.000000           18714.000000   \n",
       "mean                 59.074082               36.702866               8.274383   \n",
       "std                  22.233739                5.111164               1.925297   \n",
       "min                   0.046369                0.463867               1.025235   \n",
       "25%                  47.487790               34.181244               6.848150   \n",
       "50%                  54.678807               37.187763               8.129623   \n",
       "75%                  64.838793               40.060490               9.770743   \n",
       "max                 484.967466               53.477742              13.731330   \n",
       "\n",
       "       rougher.input.floatbank10_sulfate  rougher.input.floatbank10_xanthate  \\\n",
       "count                       18714.000000                        18714.000000   \n",
       "mean                           12.312820                            6.042405   \n",
       "std                             3.381702                            1.110497   \n",
       "min                             0.001147                            0.000568   \n",
       "25%                            10.000452                            5.400110   \n",
       "50%                            12.001047                            6.074301   \n",
       "75%                            14.691803                            6.799081   \n",
       "max                            36.118275                            9.703448   \n",
       "\n",
       "       rougher.input.floatbank11_sulfate  rougher.input.floatbank11_xanthate  \\\n",
       "count                       18714.000000                        18714.000000   \n",
       "mean                           12.064016                            6.016489   \n",
       "std                             3.743635                            1.181342   \n",
       "min                             0.000077                            0.000290   \n",
       "25%                             9.998818                            5.399324   \n",
       "50%                            12.000138                            6.093538   \n",
       "75%                            14.598800                            6.800679   \n",
       "max                            37.980648                            9.698407   \n",
       "\n",
       "       rougher.output.concentrate_ag  rougher.output.concentrate_pb  \\\n",
       "count                   18714.000000                   18714.000000   \n",
       "mean                       12.239140                       7.768774   \n",
       "std                         2.109927                       1.417284   \n",
       "min                         0.905993                       0.629964   \n",
       "25%                        10.709856                       6.806943   \n",
       "50%                        12.167750                       7.774230   \n",
       "75%                        13.758403                       8.581828   \n",
       "max                        24.480271                      13.617072   \n",
       "\n",
       "       rougher.output.concentrate_sol  rougher.output.concentrate_au  \\\n",
       "count                    18714.000000                   18714.000000   \n",
       "mean                        29.423787                      20.206515   \n",
       "std                          4.242566                       2.425352   \n",
       "min                          0.000000                       1.889855   \n",
       "25%                         27.446600                      18.945836   \n",
       "50%                         29.920032                      20.342178   \n",
       "75%                         32.246715                      21.768199   \n",
       "max                         38.351193                      28.824507   \n",
       "\n",
       "       rougher.output.recovery  rougher.output.tail_ag  \\\n",
       "count             18714.000000            18714.000000   \n",
       "mean                 85.105404                5.586388   \n",
       "std                   7.423825                1.114552   \n",
       "min                   2.520854                0.594562   \n",
       "25%                  81.463101                4.886030   \n",
       "50%                  86.374856                5.759491   \n",
       "75%                  90.081431                6.391601   \n",
       "max                  99.979041               12.719177   \n",
       "\n",
       "       rougher.output.tail_pb  rougher.output.tail_sol  \\\n",
       "count            18714.000000             18714.000000   \n",
       "mean                 0.645289                18.070174   \n",
       "std                  0.248429                 3.430689   \n",
       "min                  0.007566                10.014648   \n",
       "25%                  0.477400                15.872552   \n",
       "50%                  0.616989                18.133151   \n",
       "75%                  0.778646                20.087561   \n",
       "max                  3.778064                66.117188   \n",
       "\n",
       "       rougher.output.tail_au  rougher.state.floatbank10_a_air  \\\n",
       "count            18714.000000                     18714.000000   \n",
       "mean                 1.814431                      1103.824383   \n",
       "std                  0.673257                       159.859877   \n",
       "min                  0.020676                        -0.042069   \n",
       "25%                  1.405175                       999.655155   \n",
       "50%                  1.805247                      1001.034509   \n",
       "75%                  2.209721                      1204.665282   \n",
       "max                  9.688980                      1521.980372   \n",
       "\n",
       "       rougher.state.floatbank10_a_level  rougher.state.floatbank10_b_air  \\\n",
       "count                       18714.000000                     18714.000000   \n",
       "mean                         -377.744380                      1323.476956   \n",
       "std                            94.233982                       175.491772   \n",
       "min                          -657.949759                        -0.721806   \n",
       "25%                          -499.848541                      1199.719509   \n",
       "50%                          -300.275178                      1302.221057   \n",
       "75%                          -299.983474                      1449.243648   \n",
       "max                          -273.776101                      1809.194008   \n",
       "\n",
       "       rougher.state.floatbank10_b_level  rougher.state.floatbank10_c_air  \\\n",
       "count                       18714.000000                     18714.000000   \n",
       "mean                         -466.717027                      1303.752659   \n",
       "std                            54.743086                       201.900328   \n",
       "min                          -650.065369                        -0.056636   \n",
       "25%                          -500.196420                      1151.776957   \n",
       "50%                          -499.778684                      1300.626711   \n",
       "75%                          -400.553696                      1449.936875   \n",
       "max                          -296.383080                      2499.129174   \n",
       "\n",
       "       rougher.state.floatbank10_c_level  rougher.state.floatbank10_d_air  \\\n",
       "count                       18714.000000                     18714.000000   \n",
       "mean                         -467.217383                      1215.513188   \n",
       "std                            53.595921                       203.084464   \n",
       "min                          -647.544439                        -0.992219   \n",
       "25%                          -500.214212                      1082.690465   \n",
       "50%                          -499.700973                      1202.307578   \n",
       "75%                          -400.898192                      1360.610690   \n",
       "max                          -292.155509                      1817.199290   \n",
       "\n",
       "       rougher.state.floatbank10_d_level  rougher.state.floatbank10_e_air  \\\n",
       "count                       18714.000000                     18714.000000   \n",
       "mean                         -467.754930                      1079.556899   \n",
       "std                            53.974144                       174.077888   \n",
       "min                          -648.390665                        -1.982295   \n",
       "25%                          -500.373841                       998.286270   \n",
       "50%                          -499.519469                      1049.955265   \n",
       "75%                          -401.477026                      1199.449952   \n",
       "max                           -76.397327                      1922.636637   \n",
       "\n",
       "       rougher.state.floatbank10_e_level  rougher.state.floatbank10_f_air  \\\n",
       "count                       18714.000000                     18714.000000   \n",
       "mean                         -465.432801                      1027.592999   \n",
       "std                            57.487526                       165.045404   \n",
       "min                          -648.002444                        -2.593390   \n",
       "25%                          -500.225047                       901.299841   \n",
       "50%                          -499.648218                       999.968494   \n",
       "75%                          -401.007685                      1099.831048   \n",
       "max                          -139.753025                      1706.307502   \n",
       "\n",
       "       rougher.state.floatbank10_f_level  secondary_cleaner.output.tail_ag  \\\n",
       "count                       18714.000000                      18714.000000   \n",
       "mean                         -465.711969                         14.609437   \n",
       "std                            57.979580                          4.191868   \n",
       "min                          -649.949283                          0.000000   \n",
       "25%                          -500.508563                         12.659250   \n",
       "50%                          -499.457382                         15.654178   \n",
       "75%                          -401.350099                         17.328234   \n",
       "max                          -191.718480                         23.264738   \n",
       "\n",
       "       secondary_cleaner.output.tail_pb  secondary_cleaner.output.tail_sol  \\\n",
       "count                      18714.000000                       18714.000000   \n",
       "mean                           5.770371                           6.713459   \n",
       "std                            2.764672                           4.127764   \n",
       "min                            0.000000                           0.000000   \n",
       "25%                            3.850866                           3.002904   \n",
       "50%                            5.325794                           7.214248   \n",
       "75%                            7.771722                          10.254014   \n",
       "max                           17.042505                          17.976171   \n",
       "\n",
       "       secondary_cleaner.output.tail_au  \\\n",
       "count                      18714.000000   \n",
       "mean                           4.308502   \n",
       "std                            2.277518   \n",
       "min                            0.000000   \n",
       "25%                            3.170424   \n",
       "50%                            4.056771   \n",
       "75%                            5.035162   \n",
       "max                           26.811643   \n",
       "\n",
       "       secondary_cleaner.state.floatbank2_a_air  \\\n",
       "count                              18714.000000   \n",
       "mean                                  28.787854   \n",
       "std                                    5.452762   \n",
       "min                                    0.077503   \n",
       "25%                                   25.053622   \n",
       "50%                                   29.332490   \n",
       "75%                                   33.040527   \n",
       "max                                   52.651399   \n",
       "\n",
       "       secondary_cleaner.state.floatbank2_a_level  \\\n",
       "count                                18714.000000   \n",
       "mean                                  -502.051287   \n",
       "std                                     53.275629   \n",
       "min                                   -799.606441   \n",
       "25%                                   -500.233032   \n",
       "50%                                   -499.971638   \n",
       "75%                                   -499.668096   \n",
       "max                                   -127.875565   \n",
       "\n",
       "       secondary_cleaner.state.floatbank2_b_air  \\\n",
       "count                              18714.000000   \n",
       "mean                                  24.139039   \n",
       "std                                    5.708497   \n",
       "min                                    0.000000   \n",
       "25%                                   20.987521   \n",
       "50%                                   25.039834   \n",
       "75%                                   28.009880   \n",
       "max                                   35.152122   \n",
       "\n",
       "       secondary_cleaner.state.floatbank2_b_level  \\\n",
       "count                                18714.000000   \n",
       "mean                                  -502.874535   \n",
       "std                                     56.351448   \n",
       "min                                   -799.873878   \n",
       "25%                                   -500.249254   \n",
       "50%                                   -500.013849   \n",
       "75%                                   -499.783979   \n",
       "max                                   -211.999273   \n",
       "\n",
       "       secondary_cleaner.state.floatbank3_a_air  \\\n",
       "count                              18714.000000   \n",
       "mean                                  28.225062   \n",
       "std                                    6.113745   \n",
       "min                                    0.000000   \n",
       "25%                                   24.946904   \n",
       "50%                                   27.982514   \n",
       "75%                                   33.003342   \n",
       "max                                   44.260464   \n",
       "\n",
       "       secondary_cleaner.state.floatbank3_a_level  \\\n",
       "count                                18714.000000   \n",
       "mean                                  -485.928429   \n",
       "std                                     54.383763   \n",
       "min                                   -799.755798   \n",
       "25%                                   -500.214128   \n",
       "50%                                   -499.930784   \n",
       "75%                                   -499.319884   \n",
       "max                                   -191.678810   \n",
       "\n",
       "       secondary_cleaner.state.floatbank3_b_air  \\\n",
       "count                              1.871400e+04   \n",
       "mean                               2.226336e+01   \n",
       "std                                5.547829e+00   \n",
       "min                                6.137256e-22   \n",
       "25%                                1.899583e+01   \n",
       "50%                                2.201834e+01   \n",
       "75%                                2.600725e+01   \n",
       "max                                3.507284e+01   \n",
       "\n",
       "       secondary_cleaner.state.floatbank3_b_level  \\\n",
       "count                                18714.000000   \n",
       "mean                                  -493.374053   \n",
       "std                                     43.064426   \n",
       "min                                   -809.333008   \n",
       "25%                                   -500.122172   \n",
       "50%                                   -499.980735   \n",
       "75%                                   -499.810592   \n",
       "max                                   -159.742331   \n",
       "\n",
       "       secondary_cleaner.state.floatbank4_a_air  \\\n",
       "count                              1.871400e+04   \n",
       "mean                               1.898092e+01   \n",
       "std                                5.389411e+00   \n",
       "min                                1.079872e-16   \n",
       "25%                                1.497696e+01   \n",
       "50%                                1.801567e+01   \n",
       "75%                                2.301231e+01   \n",
       "max                                3.011574e+01   \n",
       "\n",
       "       secondary_cleaner.state.floatbank4_a_level  \\\n",
       "count                                18714.000000   \n",
       "mean                                  -485.647889   \n",
       "std                                     47.785133   \n",
       "min                                   -799.798523   \n",
       "25%                                   -500.702004   \n",
       "50%                                   -499.838080   \n",
       "75%                                   -498.237702   \n",
       "max                                   -245.239184   \n",
       "\n",
       "       secondary_cleaner.state.floatbank4_b_air  \\\n",
       "count                              1.871400e+04   \n",
       "mean                               1.502223e+01   \n",
       "std                                4.875285e+00   \n",
       "min                                2.489718e-17   \n",
       "25%                                1.194885e+01   \n",
       "50%                                1.497108e+01   \n",
       "75%                                1.903373e+01   \n",
       "max                                2.400791e+01   \n",
       "\n",
       "       secondary_cleaner.state.floatbank4_b_level  \\\n",
       "count                                18714.000000   \n",
       "mean                                  -461.091192   \n",
       "std                                     66.368169   \n",
       "min                                   -800.836914   \n",
       "25%                                   -500.188184   \n",
       "50%                                   -499.456819   \n",
       "75%                                   -400.126650   \n",
       "max                                     -7.834746   \n",
       "\n",
       "       secondary_cleaner.state.floatbank5_a_air  \\\n",
       "count                              18714.000000   \n",
       "mean                                  15.717722   \n",
       "std                                    5.486058   \n",
       "min                                   -0.372054   \n",
       "25%                                   10.992146   \n",
       "50%                                   15.009880   \n",
       "75%                                   18.025957   \n",
       "max                                   43.709931   \n",
       "\n",
       "       secondary_cleaner.state.floatbank5_a_level  \\\n",
       "count                                18714.000000   \n",
       "mean                                  -488.344566   \n",
       "std                                     34.494974   \n",
       "min                                   -797.323986   \n",
       "25%                                   -500.452777   \n",
       "50%                                   -499.801536   \n",
       "75%                                   -498.358838   \n",
       "max                                   -244.483566   \n",
       "\n",
       "       secondary_cleaner.state.floatbank5_b_air  \\\n",
       "count                              18714.000000   \n",
       "mean                                  12.214251   \n",
       "std                                    5.310549   \n",
       "min                                    0.528083   \n",
       "25%                                    8.972315   \n",
       "50%                                   11.027731   \n",
       "75%                                   14.018478   \n",
       "max                                   27.926001   \n",
       "\n",
       "       secondary_cleaner.state.floatbank5_b_level  \\\n",
       "count                                18714.000000   \n",
       "mean                                  -486.876569   \n",
       "std                                     37.974938   \n",
       "min                                   -800.220337   \n",
       "25%                                   -500.129289   \n",
       "50%                                   -499.935062   \n",
       "75%                                   -499.424206   \n",
       "max                                   -137.740004   \n",
       "\n",
       "       secondary_cleaner.state.floatbank6_a_air  \\\n",
       "count                              18714.000000   \n",
       "mean                                  19.034046   \n",
       "std                                    5.512016   \n",
       "min                                   -0.079426   \n",
       "25%                                   14.986128   \n",
       "50%                                   19.968498   \n",
       "75%                                   24.658177   \n",
       "max                                   32.188906   \n",
       "\n",
       "       secondary_cleaner.state.floatbank6_a_level  \n",
       "count                                18714.000000  \n",
       "mean                                  -505.244312  \n",
       "std                                     37.412978  \n",
       "min                                   -809.741464  \n",
       "25%                                   -500.720691  \n",
       "50%                                   -500.047281  \n",
       "75%                                   -499.491376  \n",
       "max                                   -104.427459  "
      ]
     },
     "execution_count": 33,
     "metadata": {},
     "output_type": "execute_result"
    }
   ],
   "source": [
    "data_full_end.describe()"
   ]
  },
  {
   "cell_type": "markdown",
   "metadata": {},
   "source": [
    "Подготовим наши данные для работы с моделью"
   ]
  },
  {
   "cell_type": "code",
   "execution_count": 34,
   "metadata": {},
   "outputs": [
    {
     "name": "stdout",
     "output_type": "stream",
     "text": [
      "Обучающая выборка (13593, 55)\n",
      "Тестовая выборка (5121, 55)\n"
     ]
    }
   ],
   "source": [
    "data_train_end = data_train_copy[data_train_copy['date'].isin(data_full_end['date'])]\n",
    "data_test_end = data_test_copy[data_test_copy['date'].isin(data_full_end['date'])]\n",
    "\n",
    "print('Обучающая выборка', data_train_end.shape)\n",
    "print('Тестовая выборка', data_test_end.shape)"
   ]
  },
  {
   "cell_type": "code",
   "execution_count": 35,
   "metadata": {},
   "outputs": [],
   "source": [
    "# train выборка\n",
    "target_rougher_train = data_train_end['rougher.output.recovery']\n",
    "target_final_train = data_train_end['final.output.recovery']\n",
    "features_train = data_train_end.drop(['date', 'rougher.output.recovery', 'final.output.recovery'], axis=1)\n",
    "\n",
    "# test выборка\n",
    "target_rougher_test = data_test_end['rougher.output.recovery']\n",
    "target_final_test = data_test_end['final.output.recovery']\n",
    "features_test = data_test_end.drop(['date', 'rougher.output.recovery', 'final.output.recovery'], axis=1)"
   ]
  },
  {
   "cell_type": "code",
   "execution_count": 36,
   "metadata": {},
   "outputs": [],
   "source": [
    "numeric = features_train.columns\n",
    "scaler = StandardScaler()\n",
    "scaler.fit(features_train[numeric])\n",
    "\n",
    "features_train[numeric] = scaler.transform(features_train[numeric])\n",
    "features_test[numeric] = scaler.transform(features_test[numeric])"
   ]
  },
  {
   "cell_type": "markdown",
   "metadata": {},
   "source": [
    "**Вывод**"
   ]
  },
  {
   "cell_type": "markdown",
   "metadata": {},
   "source": [
    "1. Проверили, как меняется концентрация металлов (Au, Ag, Pb) на различных этапах очистки.\n",
    "\n",
    "На всех этах концентрация металлов изменяется: золото, свинец возрастает, серебро - падает, что соответствует технологическому процессу.\n",
    "\n",
    "На всех этапах очистки в данных присутствуют нуливые значения конентрации - это однозначно выбросы, от которых нужно избавиться.\n",
    "\n",
    "2. Провели анализ размера гранул на обучающей и тестовой выборках и убедились, что размеры гранул примерно одинаково распределены в обоих выборках.\n",
    "\n",
    "3. Анализ суммарной концентрации всех металлов на разных этапах показал наличие концентраций равных нулю. Они были удалены."
   ]
  },
  {
   "cell_type": "markdown",
   "metadata": {},
   "source": []
  },
  {
   "cell_type": "markdown",
   "metadata": {},
   "source": [
    "## Модель"
   ]
  },
  {
   "cell_type": "markdown",
   "metadata": {},
   "source": [
    "### Напишем функцию для вычисления итоговой sMAPE."
   ]
  },
  {
   "cell_type": "code",
   "execution_count": 37,
   "metadata": {},
   "outputs": [],
   "source": [
    "def smape(f, pf):\n",
    "    smape = 1/len(f) * (np.sum(2 * np.abs(pf-f) / (np.abs(f) + np.abs(pf)))*100)\n",
    "    return smape"
   ]
  },
  {
   "cell_type": "markdown",
   "metadata": {},
   "source": [
    "### Обучим разные модели и оценим их качество кросс-валидацией. Выберим лучшую модель и проверим её на тестовой выборке."
   ]
  },
  {
   "cell_type": "markdown",
   "metadata": {},
   "source": [
    "Напишем функцию по нахождению лучших параметров модели с учетом кросс-валидации."
   ]
  },
  {
   "cell_type": "code",
   "execution_count": 38,
   "metadata": {},
   "outputs": [],
   "source": [
    "from sklearn.metrics import make_scorer\n",
    "from sklearn.svm import SVR\n",
    "def grid_search(X, y, model, parameters):#функция для автоматического подбора параметров\n",
    "    my_scorer = make_scorer(smape, greater_is_better=False)\n",
    "    model_cv = GridSearchCV(model, parameters, cv=7, scoring=my_scorer)#спомощью GridSearchCV подбираем параметры\n",
    "    model_cv.fit(X, y)#обучаем модель\n",
    "    return model_cv.best_params_#возвращаем наилучшие параметры"
   ]
  },
  {
   "cell_type": "code",
   "execution_count": 39,
   "metadata": {},
   "outputs": [
    {
     "data": {
      "text/plain": [
       "{'copy_X': True, 'fit_intercept': True, 'normalize': True}"
      ]
     },
     "execution_count": 39,
     "metadata": {},
     "output_type": "execute_result"
    }
   ],
   "source": [
    "parameters = {'fit_intercept':[True,False], 'normalize':[True,False], 'copy_X':[True, False]}#Отдельно создаем словарик, в который вписываем параметры, которые будем прогонять GridSearch’ем. \n",
    "grid_search(features_train, target_rougher_train, LinearRegression(), parameters)"
   ]
  },
  {
   "cell_type": "code",
   "execution_count": 40,
   "metadata": {},
   "outputs": [
    {
     "data": {
      "text/plain": [
       "{'max_depth': 6, 'max_features': 2, 'n_estimators': 30}"
      ]
     },
     "execution_count": 40,
     "metadata": {},
     "output_type": "execute_result"
    }
   ],
   "source": [
    "param_grid = [\n",
    "{'n_estimators': [3, 10, 30], 'max_features': [2, 4, 6, 8],  'max_depth':[2,4,6]},\n",
    "{'bootstrap': [False], 'n_estimators': [3, 10], 'max_features': [2, 3, 4]}\n",
    "]\n",
    "grid_search(features_train, target_rougher_train, RandomForestRegressor(), param_grid)"
   ]
  },
  {
   "cell_type": "code",
   "execution_count": 41,
   "metadata": {},
   "outputs": [
    {
     "data": {
      "text/plain": [
       "{'alpha': 25}"
      ]
     },
     "execution_count": 41,
     "metadata": {},
     "output_type": "execute_result"
    }
   ],
   "source": [
    "params={'alpha': [25,10,4,2,1.0,0.8,0.5,0.3,0.2,0.1,0.05,0.02,0.01]}\n",
    "grid_search(features_train, target_rougher_train, Ridge(), params)"
   ]
  },
  {
   "cell_type": "markdown",
   "metadata": {},
   "source": [
    "Напишем функцию для обучения разных моделей. Выберем лучшую модель и проверьте её на тестовой выборке"
   ]
  },
  {
   "cell_type": "code",
   "execution_count": 42,
   "metadata": {},
   "outputs": [],
   "source": [
    "def model_study(model, feat_train, targ_train, feat_test, targ_test):\n",
    "    reg = model.fit(feat_train, targ_train)\n",
    "    \n",
    "    prediction_regr = reg.predict(feat_train)\n",
    "    prediction_regr_test = reg.predict(feat_test)\n",
    "     \n",
    "    mse_train = mean_squared_error(targ_train, prediction_regr)\n",
    "    mse_test = mean_squared_error(targ_test, prediction_regr_test) \n",
    "       \n",
    "    r2_tain =  r2_score(targ_train, prediction_regr)\n",
    "    r2_test= r2_score(targ_test, prediction_regr_test)\n",
    "    \n",
    "      \n",
    "    study= ({'RMSE_train': np.sqrt(mse_train), 'RMSE_test':np.sqrt(mse_test),  'R^2_tain':r2_tain,  'R^2_test': r2_test, \n",
    "                                         'target_feat': prediction_regr, 'predicted_test':prediction_regr_test, 'sMAPE': smape(targ_test, prediction_regr_test)})\n",
    "  \n",
    "    return  dict(study)"
   ]
  },
  {
   "cell_type": "code",
   "execution_count": 43,
   "metadata": {},
   "outputs": [
    {
     "data": {
      "text/html": [
       "<div>\n",
       "<style scoped>\n",
       "    .dataframe tbody tr th:only-of-type {\n",
       "        vertical-align: middle;\n",
       "    }\n",
       "\n",
       "    .dataframe tbody tr th {\n",
       "        vertical-align: top;\n",
       "    }\n",
       "\n",
       "    .dataframe thead th {\n",
       "        text-align: right;\n",
       "    }\n",
       "</style>\n",
       "<table border=\"1\" class=\"dataframe\">\n",
       "  <thead>\n",
       "    <tr style=\"text-align: right;\">\n",
       "      <th></th>\n",
       "      <th>RMSE_train</th>\n",
       "      <th>RMSE_test</th>\n",
       "      <th>R^2_tain</th>\n",
       "      <th>R^2_test</th>\n",
       "      <th>sMAPE</th>\n",
       "    </tr>\n",
       "  </thead>\n",
       "  <tbody>\n",
       "    <tr>\n",
       "      <td>LinearRegression</td>\n",
       "      <td>5.302656</td>\n",
       "      <td>5.512925</td>\n",
       "      <td>0.550010</td>\n",
       "      <td>0.055585</td>\n",
       "      <td>4.924909</td>\n",
       "    </tr>\n",
       "    <tr>\n",
       "      <td>RandomForestRegressor</td>\n",
       "      <td>6.172760</td>\n",
       "      <td>5.246810</td>\n",
       "      <td>0.390218</td>\n",
       "      <td>0.144561</td>\n",
       "      <td>4.600444</td>\n",
       "    </tr>\n",
       "    <tr>\n",
       "      <td>Ridge</td>\n",
       "      <td>5.302656</td>\n",
       "      <td>5.512676</td>\n",
       "      <td>0.550010</td>\n",
       "      <td>0.055671</td>\n",
       "      <td>4.924634</td>\n",
       "    </tr>\n",
       "  </tbody>\n",
       "</table>\n",
       "</div>"
      ],
      "text/plain": [
       "                       RMSE_train  RMSE_test  R^2_tain  R^2_test     sMAPE\n",
       "LinearRegression         5.302656   5.512925  0.550010  0.055585  4.924909\n",
       "RandomForestRegressor    6.172760   5.246810  0.390218  0.144561  4.600444\n",
       "Ridge                    5.302656   5.512676  0.550010  0.055671  4.924634"
      ]
     },
     "execution_count": 43,
     "metadata": {},
     "output_type": "execute_result"
    }
   ],
   "source": [
    "model_roug_1 = model_study(LinearRegression(copy_X= True, fit_intercept= True, normalize= False), \n",
    "            features_train, target_rougher_train, \n",
    "            features_test,  target_rougher_test)\n",
    "prediction_train_roug_l=  pd.Series(model_roug_1.pop('target_feat'))\n",
    "prediction_test_roug_l=  pd.Series(model_roug_1.pop('predicted_test'))\n",
    "model_roug_1=model_roug_1\n",
    "\n",
    "\n",
    "model_roug_2 = model_study(RandomForestRegressor(max_depth=2, random_state=123, max_features= 6, n_estimators= 30),#max_depth=2, random_state=123, max_features= 6, n_estimators= 30),\n",
    "                 features_train, target_rougher_train, \n",
    "            features_test,  target_rougher_test)\n",
    "prediction_train_roug_rfr=  pd.Series(model_roug_2.pop('target_feat'))\n",
    "prediction_test_roug_rfr=  pd.Series(model_roug_2.pop('predicted_test'))\n",
    "model_roug_2=model_roug_2\n",
    "\n",
    "\n",
    "\n",
    "model_roug_3 = model_study(Ridge (alpha=.25, random_state=None, solver='auto', tol=0.001), \n",
    "            features_train, target_rougher_train, \n",
    "            features_test,  target_rougher_test)\n",
    "prediction_train_roug_r=  pd.Series(model_roug_3.pop('target_feat'))\n",
    "prediction_test_roug_r=  pd.Series(model_roug_3.pop('predicted_test'))\n",
    "model_roug_3=model_roug_3\n",
    "\n",
    "\n",
    "model_all = pd.DataFrame([model_roug_1,model_roug_2,model_roug_3], index=['LinearRegression','RandomForestRegressor','Ridge'])\n",
    "model_all"
   ]
  },
  {
   "cell_type": "code",
   "execution_count": 44,
   "metadata": {
    "scrolled": false
   },
   "outputs": [
    {
     "data": {
      "text/html": [
       "<div>\n",
       "<style scoped>\n",
       "    .dataframe tbody tr th:only-of-type {\n",
       "        vertical-align: middle;\n",
       "    }\n",
       "\n",
       "    .dataframe tbody tr th {\n",
       "        vertical-align: top;\n",
       "    }\n",
       "\n",
       "    .dataframe thead th {\n",
       "        text-align: right;\n",
       "    }\n",
       "</style>\n",
       "<table border=\"1\" class=\"dataframe\">\n",
       "  <thead>\n",
       "    <tr style=\"text-align: right;\">\n",
       "      <th></th>\n",
       "      <th>RMSE_train</th>\n",
       "      <th>RMSE_test</th>\n",
       "      <th>R^2_tain</th>\n",
       "      <th>R^2_test</th>\n",
       "      <th>sMAPE</th>\n",
       "    </tr>\n",
       "  </thead>\n",
       "  <tbody>\n",
       "    <tr>\n",
       "      <td>LinearRegression</td>\n",
       "      <td>7.312646</td>\n",
       "      <td>7.632825</td>\n",
       "      <td>0.359654</td>\n",
       "      <td>-0.089325</td>\n",
       "      <td>8.097821</td>\n",
       "    </tr>\n",
       "    <tr>\n",
       "      <td>RandomForestRegressor</td>\n",
       "      <td>8.004080</td>\n",
       "      <td>7.093833</td>\n",
       "      <td>0.232836</td>\n",
       "      <td>0.059089</td>\n",
       "      <td>7.553789</td>\n",
       "    </tr>\n",
       "    <tr>\n",
       "      <td>Ridge</td>\n",
       "      <td>7.312646</td>\n",
       "      <td>7.632517</td>\n",
       "      <td>0.359654</td>\n",
       "      <td>-0.089237</td>\n",
       "      <td>8.097500</td>\n",
       "    </tr>\n",
       "  </tbody>\n",
       "</table>\n",
       "</div>"
      ],
      "text/plain": [
       "                       RMSE_train  RMSE_test  R^2_tain  R^2_test     sMAPE\n",
       "LinearRegression         7.312646   7.632825  0.359654 -0.089325  8.097821\n",
       "RandomForestRegressor    8.004080   7.093833  0.232836  0.059089  7.553789\n",
       "Ridge                    7.312646   7.632517  0.359654 -0.089237  8.097500"
      ]
     },
     "execution_count": 44,
     "metadata": {},
     "output_type": "execute_result"
    }
   ],
   "source": [
    "model_fin_1 = model_study(LinearRegression(copy_X= True, fit_intercept= True, normalize= False), \n",
    "             features_train, target_final_train,  features_test,  target_final_test)\n",
    "prediction_train_fin_l=  pd.Series(model_fin_1.pop('target_feat'))\n",
    "prediction_test_fin_l=  pd.Series(model_fin_1.pop('predicted_test'))\n",
    "model_fin_1=model_fin_1\n",
    "\n",
    "model_fin_2 = model_study(RandomForestRegressor(max_depth=2, random_state=123, max_features= 6, n_estimators= 30),#max_depth=2, random_state=123, max_features= 6, n_estimators= 30),\n",
    "                 features_train, target_final_train, features_test,  target_final_test)\n",
    "prediction_train_fin_rfr=  pd.Series(model_fin_2.pop('target_feat'))\n",
    "prediction_test_fin_rfr=  pd.Series(model_fin_2.pop('predicted_test'))\n",
    "model_fin_2=model_fin_2\n",
    "\n",
    "model_fin_3 = model_study(Ridge (alpha=.25, random_state=None, solver='auto', tol=0.001), \n",
    "             features_train, target_final_train, features_test,  target_final_test)\n",
    "prediction_train_fin_r=  pd.Series(model_fin_3.pop('target_feat'))\n",
    "prediction_test_fin_r=  pd.Series(model_fin_3.pop('predicted_test'))\n",
    "model_fin_3=model_fin_3\n",
    "\n",
    "model_all_fin = pd.DataFrame([model_fin_1,model_fin_2,model_fin_3], index=['LinearRegression','RandomForestRegressor','Ridge'])\n",
    "model_all_fin"
   ]
  },
  {
   "cell_type": "code",
   "execution_count": 45,
   "metadata": {},
   "outputs": [
    {
     "name": "stdout",
     "output_type": "stream",
     "text": [
      "Итоговое значение sMAPE:\n",
      "LinearRegression: 7.3045928857924\n",
      "RandomForestRegressor: 6.81545285778474\n",
      "Ridge: 7.30428378235265\n"
     ]
    }
   ],
   "source": [
    "print('Итоговое значение sMAPE:')\n",
    "print('LinearRegression:', 0.25 * (model_all.iloc[0]['sMAPE'] )+ 0.75 * (model_all_fin.iloc[0]['sMAPE']))\n",
    "print('RandomForestRegressor:', 0.25 * (model_all.iloc[1]['sMAPE'] )+ 0.75 * (model_all_fin.iloc[1]['sMAPE']))\n",
    "print('Ridge:', 0.25 * (model_all.iloc[2]['sMAPE'] )+ 0.75 * (model_all_fin.iloc[2]['sMAPE']))"
   ]
  },
  {
   "cell_type": "markdown",
   "metadata": {},
   "source": [
    "Наилучшие характеристики показала модель RandomForestRegressor, т.к. на тестовой выборке метрика R^2 осталась положительной и не ушла в минус, как у LinearRegression и Ridge для target - final.output.recovery. Показатели RMSE  и R^2 у всех моделей примерно одинаковы.\n",
    "Однако итоговое sMAPE на тестовой выборке наименьшее у RandomForestRegressor.\n",
    "Для дальнейшей работы будем пользоваться RandomForestRegressor\n",
    "\n",
    "Сравним работу нашей модели с работой фиктивной модели."
   ]
  },
  {
   "cell_type": "code",
   "execution_count": 46,
   "metadata": {},
   "outputs": [],
   "source": [
    "from sklearn.dummy import DummyRegressor\n",
    "def DC(strateg, feat_tr,  targ_tr_fin, name, first_name):\n",
    "    dummy_clf = DummyRegressor(strategy=strateg, constant=75)\n",
    "    fin = dummy_clf.fit(feat_tr, targ_tr_fin)\n",
    "              \n",
    "    pred = fin.predict(feat_tr)\n",
    "       \n",
    "    r2= r2_score(targ_tr_fin, pred)\n",
    "    mse = mean_squared_error(targ_tr_fin, pred)\n",
    "    print('Model:', name+',', 'targer:', first_name)\n",
    "    print('mse:', mse)\n",
    "    print('r2', r2)\n",
    "    print('sMAPE:', smape(targ_tr_fin, pred))\n",
    "    print(\"--------------------------------------\")"
   ]
  },
  {
   "cell_type": "code",
   "execution_count": 47,
   "metadata": {},
   "outputs": [
    {
     "name": "stdout",
     "output_type": "stream",
     "text": [
      "Model: mean, targer: rougher.output.recovery\n",
      "mse: 63.479900784609434\n",
      "r2 -0.015902639944939567\n",
      "sMAPE: 7.229723654179781\n",
      "--------------------------------------\n",
      "Model: mean, targer: final.output.recovery\n",
      "mse: 83.91621354810853\n",
      "r2 -0.004872909836870942\n",
      "sMAPE: 10.033035081835676\n",
      "--------------------------------------\n",
      "Model: constant = 75, targer: rougher.output.recovery\n",
      "mse: 153.07242279911836\n",
      "r2 -1.4496994560850758\n",
      "sMAPE: 13.474034299921843\n",
      "--------------------------------------\n",
      "Model: constant = 75, targer: final.output.recovery\n",
      "mse: 150.62434883188234\n",
      "r2 -0.8036839521626526\n",
      "sMAPE: 14.005099687843439\n",
      "--------------------------------------\n"
     ]
    }
   ],
   "source": [
    "DC(\"median\", features_train, target_rougher_train, 'mean', 'rougher.output.recovery')\n",
    "DC(\"median\", features_train, target_final_train, 'mean', 'final.output.recovery')\n",
    "DC(\"constant\", features_train, target_rougher_train, 'constant = 75', 'rougher.output.recovery')\n",
    "DC(\"constant\", features_train, target_final_train, 'constant = 75', 'final.output.recovery')"
   ]
  },
  {
   "cell_type": "markdown",
   "metadata": {},
   "source": [
    "Проверка на фиктивных моделях показала, что выбранная нами модель RandomForestRegressor обладает наилучшими метриками.\n",
    "\n",
    "| Модель        | targer         | sMAPE   |  \n",
    "|:-----------:|:---------------:|: -----------:|\n",
    "| RandomForestRegressor         |  rougher.output.recovery | 4.60 |\n",
    "| RandomForestRegressor         | final.output.recovery | 7.55 |\n",
    "|Фиктивная модель (медиана)         | rougher.output.recovery | 7.23 |\n",
    "| Фиктивная модель (медиана)         |  final.output.recovery | 10.03 |\n",
    "| Фиктивная модель (constant = 75)         |  rougher.output.recovery |13.47 |\n",
    "| Фиктивная модель (constant = 75)         |  final.output.recovery | 14.00 |\n"
   ]
  },
  {
   "cell_type": "markdown",
   "metadata": {},
   "source": [
    "Итоговое тестирование модели"
   ]
  },
  {
   "cell_type": "markdown",
   "metadata": {},
   "source": [
    "Подготовим данные для тестировании модели на полных данных:\n",
    "* выделим целевые признаки\n",
    "* выделим основные признаки"
   ]
  },
  {
   "cell_type": "code",
   "execution_count": 48,
   "metadata": {},
   "outputs": [],
   "source": [
    "useful_cols = list(data_test_copy.columns)\n",
    "data_full_end = data_full_end[useful_cols]"
   ]
  },
  {
   "cell_type": "code",
   "execution_count": 49,
   "metadata": {},
   "outputs": [],
   "source": [
    "target_rougher_full = data_full_end['rougher.output.recovery']\n",
    "target_final_full = data_full_end['final.output.recovery']\n",
    "features_train_full = data_full_end.drop(['date', 'rougher.output.recovery', 'final.output.recovery'], axis=1)"
   ]
  },
  {
   "cell_type": "code",
   "execution_count": 50,
   "metadata": {
    "scrolled": false
   },
   "outputs": [
    {
     "name": "stdout",
     "output_type": "stream",
     "text": [
      "RandomForestRegressor sMAPE: 8.432612174036205\n"
     ]
    }
   ],
   "source": [
    "model_full_fin = model_study(RandomForestRegressor(max_depth=2, random_state=123, max_features= 6, n_estimators= 30),#max_depth=2, random_state=123, max_features= 6, n_estimators= 30),\n",
    "                 features_train, target_final_train, features_train_full,  target_final_full)\n",
    "\n",
    "prediction_full_fin_rfr=  pd.Series(model_full_fin.pop('predicted_test'))\n",
    "\n",
    "model_full_roug = model_study(RandomForestRegressor(max_depth=2, random_state=123, max_features= 6, n_estimators= 30),#max_depth=2, random_state=123, max_features= 6, n_estimators= 30),\n",
    "                 features_train, target_rougher_train,  features_train_full,  target_rougher_full)\n",
    "\n",
    "prediction_full_roug_rfr=  pd.Series(model_full_roug.pop('predicted_test'))\n",
    "\n",
    "print('RandomForestRegressor sMAPE:', 0.25 *(smape(target_rougher_full, prediction_full_roug_rfr)) + 0.75 *(smape(target_final_full,  prediction_full_fin_rfr)))"
   ]
  },
  {
   "cell_type": "markdown",
   "metadata": {},
   "source": [
    "### Вывод"
   ]
  },
  {
   "cell_type": "markdown",
   "metadata": {},
   "source": [
    "1. Написаны функции для нахождения модели с наилучшими параметрами с учетом кросс-валидации, расчёта итоговой sMAPE.\n",
    "2. Сравнили работу разных моделей ( LinearRegression(), RandomForestRegressor(), Ridge ()). Выяснили, что наилучшей моделью является модель RandomForestRegressor.\n",
    "3. Протестировали модель случайного леса с гиперпараметрами max_depth=2, random_state=123, max_features= 6, n_estimators= 30 на тестовой выборке и проверили модель на адекватность."
   ]
  },
  {
   "cell_type": "markdown",
   "metadata": {},
   "source": [
    "## Вывод"
   ]
  },
  {
   "cell_type": "markdown",
   "metadata": {},
   "source": [
    "В ходе работы была достигнута цель проекта - подготовить прототип модели машинного обучения, которая должна предсказать коэффициент восстановления золота из золотосодержащей руды. Для достижения цели были выполнены следующие этапы:\n",
    "- произведен исследовательский анализ данных, проверено наличие пропусков, дубликатов. В тестовой выборке не оказалось целевых признаков и  признаков, которые обозначают характеристики смеси на разных этапах обработки. Всего отсутствовало 35 признаков, по сравнению с полными данными.\n",
    "- Выявили, что концентрация золота и цинка увеличивается с каждым этапом, а концентрация серебра снижается после флотации.\n",
    "- Распределения размеров гранул в train и test выборках одинаковы.\n",
    "- Суммарные распределения концентраций элементов,  имеют множество нулевых значений. Распределения нормализованы. Избавились от выбросов.\n",
    "- Определена наилучшая модель - RandomForestRegressor, с помощью GridSearchCV с использованием кросс-валидации.\n",
    "- Обученная модель работает лучше чем константная модель: ошибка обученной модели составляет 6,81%, константной - 9,33 и 13,86%\n",
    "- На полных данных значение итоговое sMAPE равно 8.43 для модели RandomForestRegressor."
   ]
  },
  {
   "cell_type": "markdown",
   "metadata": {},
   "source": [
    "## Чек-лист готовности проекта"
   ]
  },
  {
   "cell_type": "markdown",
   "metadata": {},
   "source": [
    "- [x]  Jupyter Notebook открыт\n",
    "- [x]  Весь код выполняется без ошибок\n",
    "- [x]  Ячейки с кодом расположены в порядке выполнения\n",
    "- [x]  Выполнен шаг 1: данные подготовлены\n",
    "    - [x]  Проверена формула вычисления эффективности обогащения\n",
    "    - [x]  Проанализированы признаки, недоступные в тестовой выборке\n",
    "    - [x]  Проведена предобработка данных\n",
    "- [x]  Выполнен шаг 2: данные проанализированы\n",
    "    - [x]  Исследовано изменение концентрации элементов на каждом этапе\n",
    "    - [x]  Проанализированы распределения размеров гранул на обучающей и тестовой выборках\n",
    "    - [x]  Исследованы суммарные концентрации\n",
    "- [x]  Выполнен шаг 3: построена модель прогнозирования\n",
    "    - [x]  Написана функция для вычисления итогового *sMAPE*\n",
    "    - [x]  Обучено и проверено несколько моделей\n",
    "    - [x]  Выбрана лучшая модель, её качество проверено на тестовой выборке"
   ]
  }
 ],
 "metadata": {
  "ExecuteTimeLog": [
   {
    "duration": 1505,
    "start_time": "2021-07-26T07:12:45.011Z"
   },
   {
    "duration": 830,
    "start_time": "2021-07-26T07:12:46.701Z"
   },
   {
    "duration": 34,
    "start_time": "2021-07-26T07:12:58.038Z"
   },
   {
    "duration": 31,
    "start_time": "2021-07-26T07:13:26.599Z"
   },
   {
    "duration": 29,
    "start_time": "2021-07-26T07:13:37.275Z"
   },
   {
    "duration": 445,
    "start_time": "2021-07-26T07:13:42.321Z"
   },
   {
    "duration": 833,
    "start_time": "2021-07-26T07:14:02.859Z"
   },
   {
    "duration": 30,
    "start_time": "2021-07-26T07:14:04.578Z"
   },
   {
    "duration": 25,
    "start_time": "2021-07-26T07:15:32.124Z"
   },
   {
    "duration": 18,
    "start_time": "2021-07-26T07:15:34.171Z"
   },
   {
    "duration": 26,
    "start_time": "2021-07-26T07:15:35.412Z"
   },
   {
    "duration": 6,
    "start_time": "2021-07-26T13:16:59.706Z"
   },
   {
    "duration": 4,
    "start_time": "2021-07-26T13:17:01.179Z"
   },
   {
    "duration": 845,
    "start_time": "2021-07-26T13:17:02.267Z"
   },
   {
    "duration": 90,
    "start_time": "2021-07-26T13:17:03.517Z"
   },
   {
    "duration": 287,
    "start_time": "2021-07-27T03:48:14.518Z"
   },
   {
    "duration": 1044,
    "start_time": "2021-07-27T03:48:20.144Z"
   },
   {
    "duration": 3,
    "start_time": "2021-07-27T03:48:21.190Z"
   },
   {
    "duration": 676,
    "start_time": "2021-07-27T03:48:21.772Z"
   },
   {
    "duration": 51,
    "start_time": "2021-07-27T03:48:22.657Z"
   },
   {
    "duration": 15,
    "start_time": "2021-07-27T03:48:24.250Z"
   },
   {
    "duration": 10,
    "start_time": "2021-07-27T03:48:25.504Z"
   },
   {
    "duration": 18,
    "start_time": "2021-07-27T03:48:26.372Z"
   },
   {
    "duration": 9,
    "start_time": "2021-07-27T03:48:27.651Z"
   },
   {
    "duration": 231,
    "start_time": "2021-07-27T03:48:30.842Z"
   },
   {
    "duration": 290,
    "start_time": "2021-07-27T03:49:11.391Z"
   },
   {
    "duration": 249,
    "start_time": "2021-07-27T03:49:27.858Z"
   },
   {
    "duration": 2,
    "start_time": "2021-07-27T03:49:33.134Z"
   },
   {
    "duration": 2,
    "start_time": "2021-07-27T03:49:37.570Z"
   },
   {
    "duration": 9,
    "start_time": "2021-07-27T03:49:47.699Z"
   },
   {
    "duration": 5,
    "start_time": "2021-07-27T04:41:16.464Z"
   },
   {
    "duration": 9,
    "start_time": "2021-07-27T04:54:52.610Z"
   },
   {
    "duration": 5918,
    "start_time": "2021-07-27T04:55:41.669Z"
   },
   {
    "duration": 249,
    "start_time": "2021-07-27T04:56:03.065Z"
   },
   {
    "duration": 73,
    "start_time": "2021-07-27T04:56:33.402Z"
   },
   {
    "duration": 48,
    "start_time": "2021-07-27T04:56:41.018Z"
   },
   {
    "duration": 17,
    "start_time": "2021-07-27T04:58:58.091Z"
   },
   {
    "duration": 6362,
    "start_time": "2021-07-27T05:00:47.500Z"
   },
   {
    "duration": 258,
    "start_time": "2021-07-27T05:01:03.080Z"
   },
   {
    "duration": 309,
    "start_time": "2021-07-27T05:04:41.765Z"
   },
   {
    "duration": 6,
    "start_time": "2021-07-27T05:04:50.932Z"
   },
   {
    "duration": 87,
    "start_time": "2021-07-27T05:05:25.815Z"
   },
   {
    "duration": 238,
    "start_time": "2021-07-27T05:05:32.498Z"
   },
   {
    "duration": 6,
    "start_time": "2021-07-27T05:06:09.649Z"
   },
   {
    "duration": 5,
    "start_time": "2021-07-27T05:07:00.487Z"
   },
   {
    "duration": 4,
    "start_time": "2021-07-27T05:07:16.483Z"
   },
   {
    "duration": 6,
    "start_time": "2021-07-27T05:11:09.349Z"
   },
   {
    "duration": 93,
    "start_time": "2021-07-27T05:11:20.018Z"
   },
   {
    "duration": 17,
    "start_time": "2021-07-27T05:12:31.904Z"
   },
   {
    "duration": 8,
    "start_time": "2021-07-27T05:13:09.035Z"
   },
   {
    "duration": 5,
    "start_time": "2021-07-27T05:14:11.343Z"
   },
   {
    "duration": 8,
    "start_time": "2021-07-27T05:14:33.006Z"
   },
   {
    "duration": 172,
    "start_time": "2021-07-27T05:14:38.717Z"
   },
   {
    "duration": 6,
    "start_time": "2021-07-27T05:15:08.634Z"
   },
   {
    "duration": 235,
    "start_time": "2021-07-27T05:15:33.724Z"
   },
   {
    "duration": 5,
    "start_time": "2021-07-27T05:15:36.887Z"
   },
   {
    "duration": 171,
    "start_time": "2021-07-27T05:16:04.644Z"
   },
   {
    "duration": 5,
    "start_time": "2021-07-27T05:16:37.314Z"
   },
   {
    "duration": 232,
    "start_time": "2021-07-27T05:18:35.418Z"
   },
   {
    "duration": 9,
    "start_time": "2021-07-27T05:18:48.720Z"
   },
   {
    "duration": 241,
    "start_time": "2021-07-27T05:19:12.701Z"
   },
   {
    "duration": 9490,
    "start_time": "2021-07-27T05:21:00.870Z"
   },
   {
    "duration": 257,
    "start_time": "2021-07-27T05:26:28.728Z"
   },
   {
    "duration": 301,
    "start_time": "2021-07-27T05:26:47.926Z"
   },
   {
    "duration": 396,
    "start_time": "2021-07-27T05:28:53.289Z"
   },
   {
    "duration": 363,
    "start_time": "2021-07-27T05:29:06.891Z"
   },
   {
    "duration": 297,
    "start_time": "2021-07-27T05:29:29.459Z"
   },
   {
    "duration": 286,
    "start_time": "2021-07-27T05:29:37.115Z"
   },
   {
    "duration": 288,
    "start_time": "2021-07-27T05:29:40.532Z"
   },
   {
    "duration": 6,
    "start_time": "2021-07-27T05:34:37.834Z"
   },
   {
    "duration": 5,
    "start_time": "2021-07-27T05:34:49.710Z"
   },
   {
    "duration": 776,
    "start_time": "2021-07-27T05:35:03.345Z"
   },
   {
    "duration": 245,
    "start_time": "2021-07-27T05:35:11.910Z"
   },
   {
    "duration": 238,
    "start_time": "2021-07-27T05:37:10.388Z"
   },
   {
    "duration": 6,
    "start_time": "2021-07-27T05:38:44.469Z"
   },
   {
    "duration": 82,
    "start_time": "2021-07-27T05:51:41.776Z"
   },
   {
    "duration": 77,
    "start_time": "2021-07-27T05:52:25.955Z"
   },
   {
    "duration": 239,
    "start_time": "2021-07-27T05:53:23.531Z"
   },
   {
    "duration": 4,
    "start_time": "2021-07-27T05:53:59.408Z"
   },
   {
    "duration": 4,
    "start_time": "2021-07-27T06:13:06.351Z"
   },
   {
    "duration": 11,
    "start_time": "2021-07-27T07:15:27.315Z"
   },
   {
    "duration": 9,
    "start_time": "2021-07-27T07:15:50.008Z"
   },
   {
    "duration": 11,
    "start_time": "2021-07-27T07:16:07.474Z"
   },
   {
    "duration": 9,
    "start_time": "2021-07-27T07:16:39.991Z"
   },
   {
    "duration": 10,
    "start_time": "2021-07-27T07:16:46.405Z"
   },
   {
    "duration": 292,
    "start_time": "2021-07-27T07:25:11.709Z"
   },
   {
    "duration": 232,
    "start_time": "2021-07-27T07:25:34.157Z"
   },
   {
    "duration": 85,
    "start_time": "2021-07-27T07:26:52.496Z"
   },
   {
    "duration": 2469,
    "start_time": "2021-07-27T07:27:57.076Z"
   },
   {
    "duration": 5,
    "start_time": "2021-07-27T07:28:11.345Z"
   },
   {
    "duration": 76,
    "start_time": "2021-07-27T07:28:32.185Z"
   },
   {
    "duration": 53,
    "start_time": "2021-07-27T07:29:12.611Z"
   },
   {
    "duration": 4,
    "start_time": "2021-07-27T07:36:19.645Z"
   },
   {
    "duration": 4,
    "start_time": "2021-07-27T07:36:45.317Z"
   },
   {
    "duration": 4,
    "start_time": "2021-07-27T07:36:56.691Z"
   },
   {
    "duration": 304,
    "start_time": "2021-07-27T07:36:57.977Z"
   },
   {
    "duration": 52,
    "start_time": "2021-07-27T07:37:05.676Z"
   },
   {
    "duration": 5,
    "start_time": "2021-07-27T07:39:16.806Z"
   },
   {
    "duration": 376,
    "start_time": "2021-07-27T07:39:18.525Z"
   },
   {
    "duration": 3,
    "start_time": "2021-07-27T07:40:35.609Z"
   },
   {
    "duration": 54,
    "start_time": "2021-07-27T07:40:40.411Z"
   },
   {
    "duration": 4,
    "start_time": "2021-07-27T07:41:01.944Z"
   },
   {
    "duration": 229,
    "start_time": "2021-07-27T07:42:06.933Z"
   },
   {
    "duration": 232,
    "start_time": "2021-07-27T07:42:23.818Z"
   },
   {
    "duration": 11,
    "start_time": "2021-07-27T07:42:35.505Z"
   },
   {
    "duration": 219,
    "start_time": "2021-07-27T07:42:55.078Z"
   },
   {
    "duration": 250,
    "start_time": "2021-07-27T07:43:12.309Z"
   },
   {
    "duration": 52,
    "start_time": "2021-07-27T07:43:34.169Z"
   },
   {
    "duration": 243,
    "start_time": "2021-07-27T09:18:43.502Z"
   },
   {
    "duration": 284,
    "start_time": "2021-07-27T09:28:40.644Z"
   },
   {
    "duration": 12,
    "start_time": "2021-07-27T09:30:02.721Z"
   },
   {
    "duration": 14,
    "start_time": "2021-07-27T09:33:47.204Z"
   },
   {
    "duration": 13,
    "start_time": "2021-07-27T09:40:16.169Z"
   },
   {
    "duration": 12,
    "start_time": "2021-07-27T09:47:35.084Z"
   },
   {
    "duration": 13,
    "start_time": "2021-07-27T09:48:50.759Z"
   },
   {
    "duration": 410,
    "start_time": "2021-07-27T10:39:08.505Z"
   },
   {
    "duration": 402,
    "start_time": "2021-07-27T10:39:39.141Z"
   },
   {
    "duration": 5,
    "start_time": "2021-07-27T10:39:45.951Z"
   },
   {
    "duration": 418,
    "start_time": "2021-07-27T10:39:47.122Z"
   },
   {
    "duration": 394,
    "start_time": "2021-07-27T10:40:56.618Z"
   },
   {
    "duration": 413,
    "start_time": "2021-07-27T10:41:17.212Z"
   },
   {
    "duration": 12,
    "start_time": "2021-07-27T10:51:59.333Z"
   },
   {
    "duration": 109,
    "start_time": "2021-07-27T10:59:26.875Z"
   },
   {
    "duration": 120,
    "start_time": "2021-07-27T11:01:24.951Z"
   },
   {
    "duration": 104,
    "start_time": "2021-07-27T11:01:32.456Z"
   },
   {
    "duration": 76,
    "start_time": "2021-07-27T11:34:25.683Z"
   },
   {
    "duration": 71,
    "start_time": "2021-07-27T11:35:11.578Z"
   },
   {
    "duration": 1805,
    "start_time": "2021-07-27T11:41:59.716Z"
   },
   {
    "duration": 7,
    "start_time": "2021-07-27T11:42:12.176Z"
   },
   {
    "duration": 77,
    "start_time": "2021-07-27T11:42:16.491Z"
   },
   {
    "duration": 49,
    "start_time": "2021-07-27T11:42:25.204Z"
   },
   {
    "duration": 14,
    "start_time": "2021-07-27T11:42:35.507Z"
   },
   {
    "duration": 15,
    "start_time": "2021-07-27T11:46:03.330Z"
   },
   {
    "duration": 11,
    "start_time": "2021-07-27T11:46:37.737Z"
   },
   {
    "duration": 15,
    "start_time": "2021-07-27T11:46:46.995Z"
   },
   {
    "duration": 11,
    "start_time": "2021-07-27T11:46:54.568Z"
   },
   {
    "duration": 20667,
    "start_time": "2021-07-27T11:50:23.375Z"
   },
   {
    "duration": 28684,
    "start_time": "2021-07-27T11:51:39.295Z"
   },
   {
    "duration": 29026,
    "start_time": "2021-07-27T11:55:10.410Z"
   },
   {
    "duration": 10,
    "start_time": "2021-07-27T11:55:39.438Z"
   },
   {
    "duration": 5,
    "start_time": "2021-07-27T12:08:50.801Z"
   },
   {
    "duration": 1189,
    "start_time": "2021-07-27T12:09:04.686Z"
   },
   {
    "duration": 2,
    "start_time": "2021-07-27T12:09:05.877Z"
   },
   {
    "duration": 683,
    "start_time": "2021-07-27T12:09:06.515Z"
   },
   {
    "duration": 13,
    "start_time": "2021-07-27T12:09:45.206Z"
   },
   {
    "duration": 28073,
    "start_time": "2021-07-27T12:10:05.645Z"
   },
   {
    "duration": 12,
    "start_time": "2021-07-27T12:10:50.427Z"
   },
   {
    "duration": 14,
    "start_time": "2021-07-27T12:16:23.083Z"
   },
   {
    "duration": 13,
    "start_time": "2021-07-27T12:22:10.896Z"
   },
   {
    "duration": 5,
    "start_time": "2021-07-27T13:29:07.383Z"
   },
   {
    "duration": 3,
    "start_time": "2021-07-27T13:29:07.731Z"
   },
   {
    "duration": 664,
    "start_time": "2021-07-27T13:29:08.154Z"
   },
   {
    "duration": 47,
    "start_time": "2021-07-27T13:29:10.855Z"
   },
   {
    "duration": 12,
    "start_time": "2021-07-27T13:32:51.338Z"
   },
   {
    "duration": 249,
    "start_time": "2021-07-27T13:33:49.469Z"
   },
   {
    "duration": 116,
    "start_time": "2021-07-27T13:38:39.358Z"
   },
   {
    "duration": 433,
    "start_time": "2021-07-27T13:42:47.146Z"
   },
   {
    "duration": 271,
    "start_time": "2021-07-27T13:43:34.228Z"
   },
   {
    "duration": 268,
    "start_time": "2021-07-27T13:44:30.258Z"
   },
   {
    "duration": 240,
    "start_time": "2021-07-27T13:45:08.587Z"
   },
   {
    "duration": 268,
    "start_time": "2021-07-27T13:46:52.505Z"
   },
   {
    "duration": 8,
    "start_time": "2021-07-27T13:47:13.812Z"
   },
   {
    "duration": 14,
    "start_time": "2021-07-27T13:47:19.893Z"
   },
   {
    "duration": 16,
    "start_time": "2021-07-27T13:47:34.759Z"
   },
   {
    "duration": 4,
    "start_time": "2021-07-27T13:48:04.789Z"
   },
   {
    "duration": 2,
    "start_time": "2021-07-27T13:48:05.786Z"
   },
   {
    "duration": 627,
    "start_time": "2021-07-27T13:48:06.879Z"
   },
   {
    "duration": 48,
    "start_time": "2021-07-27T13:48:09.927Z"
   },
   {
    "duration": 14,
    "start_time": "2021-07-27T13:48:14.301Z"
   },
   {
    "duration": 10,
    "start_time": "2021-07-27T13:48:33.958Z"
   },
   {
    "duration": 6,
    "start_time": "2021-07-27T13:48:41.149Z"
   },
   {
    "duration": 16,
    "start_time": "2021-07-27T13:48:46.771Z"
   },
   {
    "duration": 9,
    "start_time": "2021-07-27T13:48:52.161Z"
   },
   {
    "duration": 11,
    "start_time": "2021-07-27T13:50:03.404Z"
   },
   {
    "duration": 1498,
    "start_time": "2021-07-28T00:37:55.474Z"
   },
   {
    "duration": 3,
    "start_time": "2021-07-28T00:37:57.330Z"
   },
   {
    "duration": 855,
    "start_time": "2021-07-28T00:37:58.321Z"
   },
   {
    "duration": 91,
    "start_time": "2021-07-28T00:38:02.370Z"
   },
   {
    "duration": 13,
    "start_time": "2021-07-28T00:38:10.874Z"
   },
   {
    "duration": 12,
    "start_time": "2021-07-28T00:38:41.500Z"
   },
   {
    "duration": 9,
    "start_time": "2021-07-28T00:38:43.242Z"
   },
   {
    "duration": 16,
    "start_time": "2021-07-28T00:38:45.006Z"
   },
   {
    "duration": 159,
    "start_time": "2021-07-28T01:00:10.053Z"
   },
   {
    "duration": 511,
    "start_time": "2021-07-28T01:00:20.709Z"
   },
   {
    "duration": 433,
    "start_time": "2021-07-28T01:00:33.574Z"
   },
   {
    "duration": 647,
    "start_time": "2021-07-28T01:05:46.803Z"
   },
   {
    "duration": 417,
    "start_time": "2021-07-28T01:20:26.490Z"
   },
   {
    "duration": 405,
    "start_time": "2021-07-28T01:20:49.536Z"
   },
   {
    "duration": 8837,
    "start_time": "2021-07-28T01:21:54.968Z"
   },
   {
    "duration": 329,
    "start_time": "2021-07-28T01:22:37.136Z"
   },
   {
    "duration": 8858,
    "start_time": "2021-07-28T01:22:47.142Z"
   },
   {
    "duration": 8406,
    "start_time": "2021-07-28T01:23:24.085Z"
   },
   {
    "duration": 8552,
    "start_time": "2021-07-28T01:24:06.008Z"
   },
   {
    "duration": 8595,
    "start_time": "2021-07-28T01:34:04.708Z"
   },
   {
    "duration": 387,
    "start_time": "2021-07-28T01:34:54.175Z"
   },
   {
    "duration": 721,
    "start_time": "2021-07-28T01:35:16.846Z"
   },
   {
    "duration": 653,
    "start_time": "2021-07-28T01:35:45.748Z"
   },
   {
    "duration": 652,
    "start_time": "2021-07-28T01:39:36.917Z"
   },
   {
    "duration": 1181,
    "start_time": "2021-07-28T01:39:56.824Z"
   },
   {
    "duration": 32118,
    "start_time": "2021-07-28T01:41:06.251Z"
   },
   {
    "duration": 16540,
    "start_time": "2021-07-28T01:43:48.033Z"
   },
   {
    "duration": 12397,
    "start_time": "2021-07-28T01:44:28.565Z"
   },
   {
    "duration": 1437,
    "start_time": "2021-07-28T01:44:46.462Z"
   },
   {
    "duration": 315,
    "start_time": "2021-07-28T01:48:41.947Z"
   },
   {
    "duration": 126,
    "start_time": "2021-07-28T01:50:28.347Z"
   },
   {
    "duration": 126,
    "start_time": "2021-07-28T01:50:52.526Z"
   },
   {
    "duration": 340,
    "start_time": "2021-07-28T01:51:20.219Z"
   },
   {
    "duration": 3039,
    "start_time": "2021-07-28T01:59:00.073Z"
   },
   {
    "duration": 5350,
    "start_time": "2021-07-28T01:59:13.987Z"
   },
   {
    "duration": 8170,
    "start_time": "2021-07-28T01:59:34.318Z"
   },
   {
    "duration": 10025,
    "start_time": "2021-07-28T01:59:54.300Z"
   },
   {
    "duration": 5862,
    "start_time": "2021-07-28T02:00:05.040Z"
   },
   {
    "duration": 5402,
    "start_time": "2021-07-28T02:00:17.553Z"
   },
   {
    "duration": 3256,
    "start_time": "2021-07-28T02:00:33.750Z"
   },
   {
    "duration": 2954,
    "start_time": "2021-07-28T02:02:15.408Z"
   },
   {
    "duration": 2799,
    "start_time": "2021-07-28T02:02:34.680Z"
   },
   {
    "duration": 2568,
    "start_time": "2021-07-28T02:02:56.736Z"
   },
   {
    "duration": 2605,
    "start_time": "2021-07-28T02:03:14.142Z"
   },
   {
    "duration": 2588,
    "start_time": "2021-07-28T02:04:43.138Z"
   },
   {
    "duration": 2621,
    "start_time": "2021-07-28T02:05:14.758Z"
   },
   {
    "duration": 2743,
    "start_time": "2021-07-28T02:06:17.768Z"
   },
   {
    "duration": 2640,
    "start_time": "2021-07-28T02:06:33.940Z"
   },
   {
    "duration": 2832,
    "start_time": "2021-07-28T02:06:57.637Z"
   },
   {
    "duration": 12,
    "start_time": "2021-07-28T02:09:55.710Z"
   },
   {
    "duration": 4509,
    "start_time": "2021-07-28T02:10:19.633Z"
   },
   {
    "duration": 7,
    "start_time": "2021-07-28T02:11:17.454Z"
   },
   {
    "duration": 12,
    "start_time": "2021-07-28T02:11:35.620Z"
   },
   {
    "duration": 26,
    "start_time": "2021-07-28T02:23:57.140Z"
   },
   {
    "duration": 15,
    "start_time": "2021-07-28T02:24:01.129Z"
   },
   {
    "duration": 22,
    "start_time": "2021-07-28T02:24:02.469Z"
   },
   {
    "duration": 110,
    "start_time": "2021-07-28T02:27:38.838Z"
   },
   {
    "duration": 336,
    "start_time": "2021-07-28T02:27:43.235Z"
   },
   {
    "duration": 8761,
    "start_time": "2021-07-28T02:27:59.041Z"
   },
   {
    "duration": 8487,
    "start_time": "2021-07-28T02:28:19.899Z"
   },
   {
    "duration": 678,
    "start_time": "2021-07-28T02:31:30.629Z"
   },
   {
    "duration": 3823,
    "start_time": "2021-07-28T02:32:33.426Z"
   },
   {
    "duration": 9158,
    "start_time": "2021-07-28T02:35:25.791Z"
   },
   {
    "duration": 9783,
    "start_time": "2021-07-28T02:36:21.969Z"
   },
   {
    "duration": 9,
    "start_time": "2021-07-28T02:36:58.704Z"
   },
   {
    "duration": 527,
    "start_time": "2021-07-28T02:37:01.059Z"
   },
   {
    "duration": 6,
    "start_time": "2021-07-28T02:37:30.192Z"
   },
   {
    "duration": 393,
    "start_time": "2021-07-28T02:38:13.809Z"
   },
   {
    "duration": 21,
    "start_time": "2021-07-28T03:57:38.650Z"
   },
   {
    "duration": 418,
    "start_time": "2021-07-28T04:00:08.124Z"
   },
   {
    "duration": 378,
    "start_time": "2021-07-28T04:01:21.884Z"
   },
   {
    "duration": 403,
    "start_time": "2021-07-28T04:04:53.592Z"
   },
   {
    "duration": 478,
    "start_time": "2021-07-28T04:05:20.289Z"
   },
   {
    "duration": 20,
    "start_time": "2021-07-28T04:05:30.082Z"
   },
   {
    "duration": 18,
    "start_time": "2021-07-28T04:05:49.324Z"
   },
   {
    "duration": 20,
    "start_time": "2021-07-28T04:06:57.407Z"
   },
   {
    "duration": 462,
    "start_time": "2021-07-28T04:07:21.859Z"
   },
   {
    "duration": 6681,
    "start_time": "2021-07-28T04:07:49.711Z"
   },
   {
    "duration": 2110,
    "start_time": "2021-07-28T04:08:22.954Z"
   },
   {
    "duration": 4,
    "start_time": "2021-07-28T04:08:25.066Z"
   },
   {
    "duration": 937,
    "start_time": "2021-07-28T04:08:25.073Z"
   },
   {
    "duration": 6901,
    "start_time": "2021-07-28T04:08:40.547Z"
   },
   {
    "duration": 398,
    "start_time": "2021-07-28T04:09:02.247Z"
   },
   {
    "duration": 9223,
    "start_time": "2021-07-28T04:09:32.475Z"
   },
   {
    "duration": 463,
    "start_time": "2021-07-28T04:10:24.495Z"
   },
   {
    "duration": 7,
    "start_time": "2021-07-28T04:11:04.686Z"
   },
   {
    "duration": 447,
    "start_time": "2021-07-28T04:11:09.714Z"
   },
   {
    "duration": 5,
    "start_time": "2021-07-28T04:12:16.634Z"
   },
   {
    "duration": 410,
    "start_time": "2021-07-28T04:12:20.016Z"
   },
   {
    "duration": 902,
    "start_time": "2021-07-28T04:12:46.687Z"
   },
   {
    "duration": 349,
    "start_time": "2021-07-28T04:13:06.450Z"
   },
   {
    "duration": 115,
    "start_time": "2021-07-28T04:13:18.001Z"
   },
   {
    "duration": 5,
    "start_time": "2021-07-28T04:13:24.233Z"
   },
   {
    "duration": 11,
    "start_time": "2021-07-28T04:13:28.169Z"
   },
   {
    "duration": 7,
    "start_time": "2021-07-28T04:13:38.346Z"
   },
   {
    "duration": 360,
    "start_time": "2021-07-28T04:13:49.015Z"
   },
   {
    "duration": 6706,
    "start_time": "2021-07-28T04:14:07.977Z"
   },
   {
    "duration": 24,
    "start_time": "2021-07-28T04:14:47.526Z"
   },
   {
    "duration": 7,
    "start_time": "2021-07-28T04:17:23.622Z"
   },
   {
    "duration": 4,
    "start_time": "2021-07-28T04:17:23.863Z"
   },
   {
    "duration": 827,
    "start_time": "2021-07-28T04:17:24.190Z"
   },
   {
    "duration": 22,
    "start_time": "2021-07-28T04:17:32.885Z"
   },
   {
    "duration": 16,
    "start_time": "2021-07-28T04:17:39.573Z"
   },
   {
    "duration": 375,
    "start_time": "2021-07-28T04:19:42.663Z"
   },
   {
    "duration": 7,
    "start_time": "2021-07-28T04:20:11.155Z"
   },
   {
    "duration": 4,
    "start_time": "2021-07-28T04:20:11.431Z"
   },
   {
    "duration": 820,
    "start_time": "2021-07-28T04:20:12.536Z"
   },
   {
    "duration": 580,
    "start_time": "2021-07-28T04:20:43.877Z"
   },
   {
    "duration": 486,
    "start_time": "2021-07-28T04:21:12.865Z"
   },
   {
    "duration": 462,
    "start_time": "2021-07-28T04:22:54.518Z"
   },
   {
    "duration": 10,
    "start_time": "2021-07-28T04:23:25.476Z"
   },
   {
    "duration": 15,
    "start_time": "2021-07-28T04:23:59.628Z"
   },
   {
    "duration": 10,
    "start_time": "2021-07-28T04:24:04.581Z"
   },
   {
    "duration": 14,
    "start_time": "2021-07-28T04:24:08.373Z"
   },
   {
    "duration": 126,
    "start_time": "2021-07-28T04:26:43.234Z"
   },
   {
    "duration": 396,
    "start_time": "2021-07-28T04:27:11.811Z"
   },
   {
    "duration": 382,
    "start_time": "2021-07-28T04:27:23.148Z"
   },
   {
    "duration": 380,
    "start_time": "2021-07-28T04:27:40.488Z"
   },
   {
    "duration": 394,
    "start_time": "2021-07-28T04:27:46.304Z"
   },
   {
    "duration": 13,
    "start_time": "2021-07-28T04:30:57.936Z"
   },
   {
    "duration": 12,
    "start_time": "2021-07-28T04:31:28.016Z"
   },
   {
    "duration": 16,
    "start_time": "2021-07-28T04:31:36.371Z"
   },
   {
    "duration": 411,
    "start_time": "2021-07-28T04:32:26.623Z"
   },
   {
    "duration": 398,
    "start_time": "2021-07-28T04:32:37.692Z"
   },
   {
    "duration": 357,
    "start_time": "2021-07-28T04:32:57.649Z"
   },
   {
    "duration": 373,
    "start_time": "2021-07-28T04:33:05.570Z"
   },
   {
    "duration": 115,
    "start_time": "2021-07-28T04:36:27.020Z"
   },
   {
    "duration": 114,
    "start_time": "2021-07-28T04:36:40.826Z"
   },
   {
    "duration": 7,
    "start_time": "2021-07-28T04:37:09.826Z"
   },
   {
    "duration": 4,
    "start_time": "2021-07-28T04:37:10.176Z"
   },
   {
    "duration": 818,
    "start_time": "2021-07-28T04:37:10.660Z"
   },
   {
    "duration": 171,
    "start_time": "2021-07-28T04:37:23.040Z"
   },
   {
    "duration": 243,
    "start_time": "2021-07-28T04:40:24.459Z"
   },
   {
    "duration": 382,
    "start_time": "2021-07-28T04:41:08.219Z"
   },
   {
    "duration": 113,
    "start_time": "2021-07-28T04:42:07.977Z"
   },
   {
    "duration": 27,
    "start_time": "2021-07-28T04:42:30.517Z"
   },
   {
    "duration": 29,
    "start_time": "2021-07-28T04:42:36.287Z"
   },
   {
    "duration": 20,
    "start_time": "2021-07-28T04:42:57.587Z"
   },
   {
    "duration": 29,
    "start_time": "2021-07-28T04:43:27.625Z"
   },
   {
    "duration": 10793,
    "start_time": "2021-07-28T04:43:58.847Z"
   },
   {
    "duration": 421,
    "start_time": "2021-07-28T04:44:54.580Z"
   },
   {
    "duration": 17,
    "start_time": "2021-07-28T04:45:23.434Z"
   },
   {
    "duration": 397,
    "start_time": "2021-07-28T04:45:45.448Z"
   },
   {
    "duration": 393,
    "start_time": "2021-07-28T04:46:13.776Z"
   },
   {
    "duration": 7,
    "start_time": "2021-07-28T04:47:00.259Z"
   },
   {
    "duration": 4,
    "start_time": "2021-07-28T04:47:00.590Z"
   },
   {
    "duration": 938,
    "start_time": "2021-07-28T04:47:00.914Z"
   },
   {
    "duration": 25,
    "start_time": "2021-07-28T04:47:08.440Z"
   },
   {
    "duration": 31,
    "start_time": "2021-07-28T04:47:37.978Z"
   },
   {
    "duration": 30,
    "start_time": "2021-07-28T04:48:15.063Z"
   },
   {
    "duration": 37,
    "start_time": "2021-07-28T04:48:55.706Z"
   },
   {
    "duration": 36,
    "start_time": "2021-07-28T04:49:38.074Z"
   },
   {
    "duration": 401,
    "start_time": "2021-07-28T04:52:21.546Z"
   },
   {
    "duration": 6,
    "start_time": "2021-07-28T04:52:36.463Z"
   },
   {
    "duration": 3,
    "start_time": "2021-07-28T04:52:36.761Z"
   },
   {
    "duration": 2221,
    "start_time": "2021-07-28T04:52:37.095Z"
   },
   {
    "duration": 363,
    "start_time": "2021-07-28T04:52:56.170Z"
   },
   {
    "duration": 385,
    "start_time": "2021-07-28T05:08:08.392Z"
   },
   {
    "duration": 441,
    "start_time": "2021-07-28T05:08:38.631Z"
   },
   {
    "duration": 450,
    "start_time": "2021-07-28T05:09:15.203Z"
   },
   {
    "duration": 404,
    "start_time": "2021-07-28T05:09:39.502Z"
   },
   {
    "duration": 397,
    "start_time": "2021-07-28T05:10:01.686Z"
   },
   {
    "duration": 392,
    "start_time": "2021-07-28T05:10:22.936Z"
   },
   {
    "duration": 12,
    "start_time": "2021-07-28T05:13:10.788Z"
   },
   {
    "duration": 339,
    "start_time": "2021-07-28T05:13:40.337Z"
   },
   {
    "duration": 13,
    "start_time": "2021-07-28T05:14:03.800Z"
   },
   {
    "duration": 11,
    "start_time": "2021-07-28T05:14:20.737Z"
   },
   {
    "duration": 13,
    "start_time": "2021-07-28T05:14:26.655Z"
   },
   {
    "duration": 11,
    "start_time": "2021-07-28T05:14:42.277Z"
   },
   {
    "duration": 12,
    "start_time": "2021-07-28T05:14:45.663Z"
   },
   {
    "duration": 338,
    "start_time": "2021-07-28T05:21:47.441Z"
   },
   {
    "duration": 340,
    "start_time": "2021-07-28T05:22:11.588Z"
   },
   {
    "duration": 337,
    "start_time": "2021-07-28T05:23:18.395Z"
   },
   {
    "duration": 344,
    "start_time": "2021-07-28T05:23:30.681Z"
   },
   {
    "duration": 6,
    "start_time": "2021-07-28T05:23:39.648Z"
   },
   {
    "duration": 3,
    "start_time": "2021-07-28T05:23:39.974Z"
   },
   {
    "duration": 783,
    "start_time": "2021-07-28T05:23:40.273Z"
   },
   {
    "duration": 358,
    "start_time": "2021-07-28T05:24:00.066Z"
   },
   {
    "duration": 161,
    "start_time": "2021-07-28T05:24:20.981Z"
   },
   {
    "duration": 336,
    "start_time": "2021-07-28T05:24:29.640Z"
   },
   {
    "duration": 348,
    "start_time": "2021-07-28T05:25:21.271Z"
   },
   {
    "duration": 357,
    "start_time": "2021-07-28T05:28:33.452Z"
   },
   {
    "duration": 87,
    "start_time": "2021-07-28T05:29:35.625Z"
   },
   {
    "duration": 324,
    "start_time": "2021-07-28T05:30:45.496Z"
   },
   {
    "duration": 15,
    "start_time": "2021-07-28T05:31:34.521Z"
   },
   {
    "duration": 12,
    "start_time": "2021-07-28T05:31:58.843Z"
   },
   {
    "duration": 354,
    "start_time": "2021-07-28T05:32:31.357Z"
   },
   {
    "duration": 356,
    "start_time": "2021-07-28T05:33:23.416Z"
   },
   {
    "duration": 365,
    "start_time": "2021-07-28T05:34:13.471Z"
   },
   {
    "duration": 403,
    "start_time": "2021-07-28T05:34:31.968Z"
   },
   {
    "duration": 13,
    "start_time": "2021-07-28T05:34:57.931Z"
   },
   {
    "duration": 396,
    "start_time": "2021-07-28T05:35:30.775Z"
   },
   {
    "duration": 6,
    "start_time": "2021-07-28T05:36:30.239Z"
   },
   {
    "duration": 5,
    "start_time": "2021-07-28T05:36:30.545Z"
   },
   {
    "duration": 917,
    "start_time": "2021-07-28T05:36:30.849Z"
   },
   {
    "duration": 16,
    "start_time": "2021-07-28T05:36:43.435Z"
   },
   {
    "duration": 398,
    "start_time": "2021-07-28T05:36:47.146Z"
   },
   {
    "duration": 7,
    "start_time": "2021-07-28T05:37:22.472Z"
   },
   {
    "duration": 3,
    "start_time": "2021-07-28T05:37:22.849Z"
   },
   {
    "duration": 853,
    "start_time": "2021-07-28T05:37:23.655Z"
   },
   {
    "duration": 15,
    "start_time": "2021-07-28T05:37:33.614Z"
   },
   {
    "duration": 369,
    "start_time": "2021-07-28T05:37:37.040Z"
   },
   {
    "duration": 346,
    "start_time": "2021-07-28T05:37:50.466Z"
   },
   {
    "duration": 20,
    "start_time": "2021-07-28T05:37:58.869Z"
   },
   {
    "duration": 3,
    "start_time": "2021-07-28T05:38:00.243Z"
   },
   {
    "duration": 412,
    "start_time": "2021-07-28T05:38:01.083Z"
   },
   {
    "duration": 30918,
    "start_time": "2021-07-28T05:41:53.306Z"
   },
   {
    "duration": 20,
    "start_time": "2021-07-28T05:42:45.531Z"
   },
   {
    "duration": 121,
    "start_time": "2021-07-28T05:47:24.120Z"
   },
   {
    "duration": 6729,
    "start_time": "2021-07-28T05:47:40.760Z"
   },
   {
    "duration": 409,
    "start_time": "2021-07-28T05:48:02.214Z"
   },
   {
    "duration": 6529,
    "start_time": "2021-07-28T05:48:24.313Z"
   },
   {
    "duration": 355,
    "start_time": "2021-07-28T05:49:21.169Z"
   },
   {
    "duration": 22898,
    "start_time": "2021-07-28T05:49:34.166Z"
   },
   {
    "duration": 1513,
    "start_time": "2021-07-28T05:52:56.180Z"
   },
   {
    "duration": 4,
    "start_time": "2021-07-28T05:52:57.695Z"
   },
   {
    "duration": 898,
    "start_time": "2021-07-28T05:52:57.701Z"
   },
   {
    "duration": 27,
    "start_time": "2021-07-28T05:53:05.191Z"
   },
   {
    "duration": 23,
    "start_time": "2021-07-28T05:55:09.431Z"
   },
   {
    "duration": 22,
    "start_time": "2021-07-28T05:55:33.198Z"
   },
   {
    "duration": 21,
    "start_time": "2021-07-28T05:55:55.049Z"
   },
   {
    "duration": 19,
    "start_time": "2021-07-28T05:56:22.895Z"
   },
   {
    "duration": 7,
    "start_time": "2021-07-28T05:56:35.010Z"
   },
   {
    "duration": 3,
    "start_time": "2021-07-28T05:56:35.349Z"
   },
   {
    "duration": 958,
    "start_time": "2021-07-28T05:56:35.681Z"
   },
   {
    "duration": 25,
    "start_time": "2021-07-28T05:56:42.347Z"
   },
   {
    "duration": 22,
    "start_time": "2021-07-28T05:57:08.678Z"
   },
   {
    "duration": 536,
    "start_time": "2021-07-28T05:57:42.736Z"
   },
   {
    "duration": 18,
    "start_time": "2021-07-28T05:57:48.902Z"
   },
   {
    "duration": 7,
    "start_time": "2021-07-28T05:58:13.269Z"
   },
   {
    "duration": 3,
    "start_time": "2021-07-28T05:58:13.807Z"
   },
   {
    "duration": 876,
    "start_time": "2021-07-28T05:58:14.243Z"
   },
   {
    "duration": 90,
    "start_time": "2021-07-28T05:58:32.354Z"
   },
   {
    "duration": 59,
    "start_time": "2021-07-28T05:58:34.705Z"
   },
   {
    "duration": 94,
    "start_time": "2021-07-28T05:58:36.081Z"
   },
   {
    "duration": 7,
    "start_time": "2021-07-28T07:08:10.330Z"
   },
   {
    "duration": 4,
    "start_time": "2021-07-28T07:08:10.954Z"
   },
   {
    "duration": 838,
    "start_time": "2021-07-28T07:08:11.604Z"
   },
   {
    "duration": 91,
    "start_time": "2021-07-28T07:08:13.346Z"
   },
   {
    "duration": 61,
    "start_time": "2021-07-28T07:08:13.853Z"
   },
   {
    "duration": 92,
    "start_time": "2021-07-28T07:08:14.383Z"
   },
   {
    "duration": 7,
    "start_time": "2021-07-28T07:08:25.637Z"
   },
   {
    "duration": 23,
    "start_time": "2021-07-28T07:08:44.485Z"
   },
   {
    "duration": 16,
    "start_time": "2021-07-28T07:08:45.571Z"
   },
   {
    "duration": 26,
    "start_time": "2021-07-28T07:08:46.336Z"
   },
   {
    "duration": 190,
    "start_time": "2021-07-28T07:09:11.500Z"
   },
   {
    "duration": 12,
    "start_time": "2021-07-28T07:09:35.477Z"
   },
   {
    "duration": 627,
    "start_time": "2021-07-28T07:09:40.135Z"
   },
   {
    "duration": 6,
    "start_time": "2021-07-28T07:09:48.213Z"
   },
   {
    "duration": 194,
    "start_time": "2021-07-28T07:09:54.384Z"
   },
   {
    "duration": 20,
    "start_time": "2021-07-28T07:20:25.355Z"
   },
   {
    "duration": 24,
    "start_time": "2021-07-28T07:20:42.199Z"
   },
   {
    "duration": 12,
    "start_time": "2021-07-28T07:23:54.883Z"
   },
   {
    "duration": 7,
    "start_time": "2021-07-28T07:23:56.167Z"
   },
   {
    "duration": 17,
    "start_time": "2021-07-28T07:24:15.597Z"
   },
   {
    "duration": 16,
    "start_time": "2021-07-28T07:24:35.781Z"
   },
   {
    "duration": 12,
    "start_time": "2021-07-28T07:24:36.864Z"
   },
   {
    "duration": 21,
    "start_time": "2021-07-28T07:24:38.163Z"
   },
   {
    "duration": 6,
    "start_time": "2021-07-28T07:27:46.852Z"
   },
   {
    "duration": 4,
    "start_time": "2021-07-28T07:27:47.209Z"
   },
   {
    "duration": 887,
    "start_time": "2021-07-28T07:27:47.513Z"
   },
   {
    "duration": 19,
    "start_time": "2021-07-28T07:28:14.803Z"
   },
   {
    "duration": 24,
    "start_time": "2021-07-28T07:28:29.343Z"
   },
   {
    "duration": 35,
    "start_time": "2021-07-28T07:29:18.895Z"
   },
   {
    "duration": 44,
    "start_time": "2021-07-28T07:29:27.942Z"
   },
   {
    "duration": 18,
    "start_time": "2021-07-28T07:30:08.367Z"
   },
   {
    "duration": 20,
    "start_time": "2021-07-28T07:30:18.984Z"
   },
   {
    "duration": 32,
    "start_time": "2021-07-28T07:31:01.286Z"
   },
   {
    "duration": 62,
    "start_time": "2021-07-28T07:31:13.448Z"
   },
   {
    "duration": 3132,
    "start_time": "2021-07-28T07:32:05.881Z"
   },
   {
    "duration": 436,
    "start_time": "2021-07-28T07:34:33.163Z"
   },
   {
    "duration": 1358,
    "start_time": "2021-07-28T07:35:06.133Z"
   },
   {
    "duration": 1323,
    "start_time": "2021-07-28T07:35:26.830Z"
   },
   {
    "duration": 1473,
    "start_time": "2021-07-28T07:35:31.690Z"
   },
   {
    "duration": 1630,
    "start_time": "2021-07-28T07:38:57.820Z"
   },
   {
    "duration": 1731,
    "start_time": "2021-07-28T07:41:50.395Z"
   },
   {
    "duration": 1686,
    "start_time": "2021-07-28T07:42:02.425Z"
   },
   {
    "duration": 1749,
    "start_time": "2021-07-28T07:42:08.007Z"
   },
   {
    "duration": 1613,
    "start_time": "2021-07-28T07:42:13.995Z"
   },
   {
    "duration": 1618,
    "start_time": "2021-07-28T07:42:19.214Z"
   },
   {
    "duration": 10374,
    "start_time": "2021-07-28T07:44:58.643Z"
   },
   {
    "duration": 274727,
    "start_time": "2021-07-28T07:45:25.179Z"
   },
   {
    "duration": 1598,
    "start_time": "2021-07-28T07:49:59.908Z"
   },
   {
    "duration": 9,
    "start_time": "2021-07-28T07:50:11.240Z"
   },
   {
    "duration": 9,
    "start_time": "2021-07-28T07:50:51.119Z"
   },
   {
    "duration": 1546,
    "start_time": "2021-07-28T07:54:14.037Z"
   },
   {
    "duration": 2045,
    "start_time": "2021-07-28T07:57:45.052Z"
   },
   {
    "duration": 1524,
    "start_time": "2021-07-28T07:58:16.987Z"
   },
   {
    "duration": 1510,
    "start_time": "2021-07-28T07:59:11.837Z"
   },
   {
    "duration": 1495,
    "start_time": "2021-07-28T07:59:48.763Z"
   },
   {
    "duration": 1803,
    "start_time": "2021-07-28T08:00:03.653Z"
   },
   {
    "duration": 8,
    "start_time": "2021-07-28T08:02:30.580Z"
   },
   {
    "duration": 9,
    "start_time": "2021-07-28T08:03:46.777Z"
   },
   {
    "duration": 985,
    "start_time": "2021-07-28T08:06:01.354Z"
   },
   {
    "duration": 991,
    "start_time": "2021-07-28T08:06:12.109Z"
   },
   {
    "duration": 972,
    "start_time": "2021-07-28T08:06:18.868Z"
   },
   {
    "duration": 965,
    "start_time": "2021-07-28T08:06:32.812Z"
   },
   {
    "duration": 955,
    "start_time": "2021-07-28T08:06:51.326Z"
   },
   {
    "duration": 1624,
    "start_time": "2021-07-28T08:07:02.042Z"
   },
   {
    "duration": 974,
    "start_time": "2021-07-28T08:07:10.177Z"
   },
   {
    "duration": 1560,
    "start_time": "2021-07-28T08:07:47.653Z"
   },
   {
    "duration": 1683,
    "start_time": "2021-07-28T08:08:02.825Z"
   },
   {
    "duration": 4048,
    "start_time": "2021-07-28T09:29:36.069Z"
   },
   {
    "duration": 3418,
    "start_time": "2021-07-28T13:09:40.917Z"
   },
   {
    "duration": 8,
    "start_time": "2021-07-28T13:09:55.139Z"
   },
   {
    "duration": 4,
    "start_time": "2021-07-28T13:09:55.750Z"
   },
   {
    "duration": 913,
    "start_time": "2021-07-28T13:09:56.410Z"
   },
   {
    "duration": 450,
    "start_time": "2021-07-28T13:11:39.855Z"
   },
   {
    "duration": 9,
    "start_time": "2021-07-28T13:12:00.014Z"
   },
   {
    "duration": 21,
    "start_time": "2021-07-28T13:12:08.360Z"
   },
   {
    "duration": 24,
    "start_time": "2021-07-28T13:12:26.375Z"
   },
   {
    "duration": 7,
    "start_time": "2021-07-28T13:21:21.682Z"
   },
   {
    "duration": 5,
    "start_time": "2021-07-28T13:21:22.264Z"
   },
   {
    "duration": 1327,
    "start_time": "2021-07-28T13:21:22.762Z"
   },
   {
    "duration": 9,
    "start_time": "2021-07-28T13:21:47.323Z"
   },
   {
    "duration": 558,
    "start_time": "2021-07-28T13:21:50.337Z"
   },
   {
    "duration": 6,
    "start_time": "2021-07-28T13:21:54.250Z"
   },
   {
    "duration": 193,
    "start_time": "2021-07-28T13:21:55.097Z"
   },
   {
    "duration": 24,
    "start_time": "2021-07-28T13:22:13.278Z"
   },
   {
    "duration": 42,
    "start_time": "2021-07-28T13:22:28.506Z"
   },
   {
    "duration": 16,
    "start_time": "2021-07-28T13:22:33.082Z"
   },
   {
    "duration": 42,
    "start_time": "2021-07-28T13:22:36.647Z"
   },
   {
    "duration": 404,
    "start_time": "2021-07-28T13:23:19.773Z"
   },
   {
    "duration": 232,
    "start_time": "2021-07-28T13:23:22.381Z"
   },
   {
    "duration": 422,
    "start_time": "2021-07-28T13:23:23.791Z"
   },
   {
    "duration": 1546,
    "start_time": "2021-07-28T13:24:52.001Z"
   },
   {
    "duration": 1572,
    "start_time": "2021-07-28T13:25:05.496Z"
   },
   {
    "duration": 1876,
    "start_time": "2021-07-28T13:25:07.075Z"
   },
   {
    "duration": 1441,
    "start_time": "2021-07-28T13:27:29.169Z"
   },
   {
    "duration": 14,
    "start_time": "2021-07-28T13:29:01.619Z"
   },
   {
    "duration": 500,
    "start_time": "2021-07-28T13:29:03.659Z"
   },
   {
    "duration": 14,
    "start_time": "2021-07-28T13:29:38.169Z"
   },
   {
    "duration": 117,
    "start_time": "2021-07-28T13:29:55.068Z"
   },
   {
    "duration": 15,
    "start_time": "2021-07-28T13:30:09.706Z"
   },
   {
    "duration": 9741,
    "start_time": "2021-07-28T13:30:17.827Z"
   },
   {
    "duration": 1497,
    "start_time": "2021-07-28T13:31:12.242Z"
   },
   {
    "duration": 15,
    "start_time": "2021-07-28T13:32:04.851Z"
   },
   {
    "duration": 1558,
    "start_time": "2021-07-28T13:32:06.928Z"
   },
   {
    "duration": 15,
    "start_time": "2021-07-28T13:32:20.036Z"
   },
   {
    "duration": 1552,
    "start_time": "2021-07-28T13:32:22.830Z"
   },
   {
    "duration": 3,
    "start_time": "2021-07-28T13:33:23.527Z"
   },
   {
    "duration": 3,
    "start_time": "2021-07-28T13:33:27.317Z"
   },
   {
    "duration": 11786,
    "start_time": "2021-07-28T13:33:41.361Z"
   },
   {
    "duration": 9693,
    "start_time": "2021-07-28T13:42:45.305Z"
   },
   {
    "duration": 1473,
    "start_time": "2021-07-28T13:43:12.304Z"
   },
   {
    "duration": 4,
    "start_time": "2021-07-28T13:43:13.780Z"
   },
   {
    "duration": 875,
    "start_time": "2021-07-28T13:43:14.147Z"
   },
   {
    "duration": 13,
    "start_time": "2021-07-28T13:43:26.277Z"
   },
   {
    "duration": 661,
    "start_time": "2021-07-28T13:43:32.021Z"
   },
   {
    "duration": 20,
    "start_time": "2021-07-28T13:43:41.198Z"
   },
   {
    "duration": 30,
    "start_time": "2021-07-28T13:43:58.483Z"
   },
   {
    "duration": 7,
    "start_time": "2021-07-28T13:43:59.486Z"
   },
   {
    "duration": 29,
    "start_time": "2021-07-28T13:44:00.527Z"
   },
   {
    "duration": 191,
    "start_time": "2021-07-28T13:44:27.495Z"
   },
   {
    "duration": 8,
    "start_time": "2021-07-28T13:44:56.771Z"
   },
   {
    "duration": 7,
    "start_time": "2021-07-28T13:45:54.775Z"
   },
   {
    "duration": 9801,
    "start_time": "2021-07-28T13:47:52.941Z"
   },
   {
    "duration": 14,
    "start_time": "2021-07-28T13:48:26.770Z"
   },
   {
    "duration": 26,
    "start_time": "2021-07-28T13:51:19.006Z"
   },
   {
    "duration": 372,
    "start_time": "2021-07-28T13:51:20.029Z"
   },
   {
    "duration": 2050,
    "start_time": "2021-07-28T13:52:52.159Z"
   },
   {
    "duration": 13,
    "start_time": "2021-07-28T13:54:12.560Z"
   },
   {
    "duration": 11,
    "start_time": "2021-07-28T13:55:51.666Z"
   },
   {
    "duration": 1153,
    "start_time": "2021-07-29T01:16:51.224Z"
   },
   {
    "duration": 3,
    "start_time": "2021-07-29T01:16:52.379Z"
   },
   {
    "duration": 737,
    "start_time": "2021-07-29T01:16:52.384Z"
   },
   {
    "duration": 8,
    "start_time": "2021-07-29T01:22:38.208Z"
   },
   {
    "duration": 270,
    "start_time": "2021-07-29T01:40:33.158Z"
   },
   {
    "duration": 5,
    "start_time": "2021-07-29T01:40:53.217Z"
   },
   {
    "duration": 3,
    "start_time": "2021-07-29T01:40:53.672Z"
   },
   {
    "duration": 767,
    "start_time": "2021-07-29T01:40:54.162Z"
   },
   {
    "duration": 16,
    "start_time": "2021-07-29T01:41:10.203Z"
   },
   {
    "duration": 19,
    "start_time": "2021-07-29T01:41:13.979Z"
   },
   {
    "duration": 216,
    "start_time": "2021-07-29T01:41:19.701Z"
   },
   {
    "duration": 3,
    "start_time": "2021-07-29T01:41:30.810Z"
   },
   {
    "duration": 183,
    "start_time": "2021-07-29T01:41:34.058Z"
   },
   {
    "duration": 10,
    "start_time": "2021-07-29T01:41:43.046Z"
   },
   {
    "duration": 12,
    "start_time": "2021-07-29T01:41:44.357Z"
   },
   {
    "duration": 67,
    "start_time": "2021-07-29T01:44:05.103Z"
   },
   {
    "duration": 8,
    "start_time": "2021-07-29T01:44:13.495Z"
   },
   {
    "duration": 12,
    "start_time": "2021-07-29T01:44:14.602Z"
   },
   {
    "duration": 17,
    "start_time": "2021-07-29T01:44:47.522Z"
   },
   {
    "duration": 8,
    "start_time": "2021-07-29T01:47:26.718Z"
   },
   {
    "duration": 17,
    "start_time": "2021-07-29T01:47:27.720Z"
   },
   {
    "duration": 8,
    "start_time": "2021-07-29T01:48:27.571Z"
   },
   {
    "duration": 18,
    "start_time": "2021-07-29T01:48:28.858Z"
   },
   {
    "duration": 62,
    "start_time": "2021-07-29T01:49:18.877Z"
   },
   {
    "duration": 23,
    "start_time": "2021-07-29T01:50:15.722Z"
   },
   {
    "duration": 1508,
    "start_time": "2021-07-29T10:52:31.869Z"
   },
   {
    "duration": 3,
    "start_time": "2021-07-29T10:52:33.380Z"
   },
   {
    "duration": 819,
    "start_time": "2021-07-29T10:52:33.385Z"
   },
   {
    "duration": 9,
    "start_time": "2021-07-29T10:58:26.482Z"
   },
   {
    "duration": 9774,
    "start_time": "2021-07-29T11:00:15.917Z"
   },
   {
    "duration": 11,
    "start_time": "2021-07-29T11:01:31.199Z"
   },
   {
    "duration": 17,
    "start_time": "2021-07-29T11:01:44.004Z"
   },
   {
    "duration": 16,
    "start_time": "2021-07-29T11:01:58.333Z"
   },
   {
    "duration": 12,
    "start_time": "2021-07-29T11:02:32.063Z"
   },
   {
    "duration": 4,
    "start_time": "2021-07-29T11:03:33.559Z"
   },
   {
    "duration": 10091,
    "start_time": "2021-07-29T11:03:42.766Z"
   },
   {
    "duration": 10656,
    "start_time": "2021-07-29T11:05:00.433Z"
   },
   {
    "duration": 535,
    "start_time": "2021-07-29T11:05:40.214Z"
   },
   {
    "duration": 394,
    "start_time": "2021-07-29T11:06:39.096Z"
   },
   {
    "duration": 11,
    "start_time": "2021-07-29T11:10:17.731Z"
   },
   {
    "duration": 14,
    "start_time": "2021-07-29T11:10:27.574Z"
   },
   {
    "duration": 6,
    "start_time": "2021-07-29T11:10:39.970Z"
   },
   {
    "duration": 3,
    "start_time": "2021-07-29T11:10:40.232Z"
   },
   {
    "duration": 872,
    "start_time": "2021-07-29T11:10:40.519Z"
   },
   {
    "duration": 23,
    "start_time": "2021-07-29T11:10:57.782Z"
   },
   {
    "duration": 11,
    "start_time": "2021-07-29T11:11:00.049Z"
   },
   {
    "duration": 15,
    "start_time": "2021-07-29T11:11:01.334Z"
   },
   {
    "duration": 23,
    "start_time": "2021-07-29T11:11:13.473Z"
   },
   {
    "duration": 9,
    "start_time": "2021-07-29T11:19:04.075Z"
   },
   {
    "duration": 9,
    "start_time": "2021-07-29T11:19:08.016Z"
   },
   {
    "duration": 26,
    "start_time": "2021-07-29T11:19:10.210Z"
   },
   {
    "duration": 7,
    "start_time": "2021-07-29T11:19:20.540Z"
   },
   {
    "duration": 3,
    "start_time": "2021-07-29T11:19:20.864Z"
   },
   {
    "duration": 825,
    "start_time": "2021-07-29T11:19:21.202Z"
   },
   {
    "duration": 3,
    "start_time": "2021-07-29T11:19:33.725Z"
   },
   {
    "duration": 21,
    "start_time": "2021-07-29T11:19:34.057Z"
   },
   {
    "duration": 1602,
    "start_time": "2021-07-29T11:22:00.888Z"
   },
   {
    "duration": 1668,
    "start_time": "2021-07-29T11:22:32.587Z"
   },
   {
    "duration": 18,
    "start_time": "2021-07-29T11:22:56.973Z"
   },
   {
    "duration": 18,
    "start_time": "2021-07-29T11:23:25.848Z"
   },
   {
    "duration": 14155,
    "start_time": "2021-07-29T11:25:46.059Z"
   },
   {
    "duration": 24701,
    "start_time": "2021-07-29T11:26:47.955Z"
   },
   {
    "duration": 18,
    "start_time": "2021-07-29T11:27:14.804Z"
   },
   {
    "duration": 16,
    "start_time": "2021-07-29T11:28:09.876Z"
   },
   {
    "duration": 17,
    "start_time": "2021-07-29T11:29:06.852Z"
   },
   {
    "duration": 28,
    "start_time": "2021-07-29T11:29:43.086Z"
   },
   {
    "duration": 70,
    "start_time": "2021-07-29T11:30:14.586Z"
   },
   {
    "duration": 29,
    "start_time": "2021-07-29T11:30:45.073Z"
   },
   {
    "duration": 24,
    "start_time": "2021-07-29T11:31:01.511Z"
   },
   {
    "duration": 28,
    "start_time": "2021-07-29T11:31:23.260Z"
   },
   {
    "duration": 77,
    "start_time": "2021-07-29T11:35:00.846Z"
   },
   {
    "duration": 78,
    "start_time": "2021-07-29T11:35:11.959Z"
   },
   {
    "duration": 432,
    "start_time": "2021-07-29T11:35:20.226Z"
   },
   {
    "duration": 568,
    "start_time": "2021-07-29T11:35:32.736Z"
   },
   {
    "duration": 3063,
    "start_time": "2021-07-29T11:36:23.367Z"
   },
   {
    "duration": 141,
    "start_time": "2021-07-29T11:36:36.991Z"
   },
   {
    "duration": 102,
    "start_time": "2021-07-29T11:36:46.500Z"
   },
   {
    "duration": 96,
    "start_time": "2021-07-29T11:36:55.461Z"
   },
   {
    "duration": 371,
    "start_time": "2021-07-29T11:41:54.969Z"
   },
   {
    "duration": 382,
    "start_time": "2021-07-29T11:42:11.894Z"
   },
   {
    "duration": 109,
    "start_time": "2021-07-29T11:42:20.570Z"
   },
   {
    "duration": 98,
    "start_time": "2021-07-29T11:43:31.781Z"
   },
   {
    "duration": 7,
    "start_time": "2021-07-29T11:44:55.513Z"
   },
   {
    "duration": 5,
    "start_time": "2021-07-29T11:44:56.798Z"
   },
   {
    "duration": 798,
    "start_time": "2021-07-29T11:44:57.650Z"
   },
   {
    "duration": 8,
    "start_time": "2021-07-29T11:46:37.942Z"
   },
   {
    "duration": 520,
    "start_time": "2021-07-29T11:46:39.421Z"
   },
   {
    "duration": 7,
    "start_time": "2021-07-29T11:46:51.401Z"
   },
   {
    "duration": 202,
    "start_time": "2021-07-29T11:47:04.613Z"
   },
   {
    "duration": 14,
    "start_time": "2021-07-29T11:48:57.987Z"
   },
   {
    "duration": 8193,
    "start_time": "2021-07-29T11:51:13.207Z"
   },
   {
    "duration": 97,
    "start_time": "2021-07-29T11:52:31.528Z"
   },
   {
    "duration": 138,
    "start_time": "2021-07-29T11:56:19.180Z"
   },
   {
    "duration": 6,
    "start_time": "2021-07-29T11:59:44.479Z"
   },
   {
    "duration": 4,
    "start_time": "2021-07-29T11:59:45.042Z"
   },
   {
    "duration": 807,
    "start_time": "2021-07-29T11:59:45.212Z"
   },
   {
    "duration": 90,
    "start_time": "2021-07-29T11:59:46.022Z"
   },
   {
    "duration": 71,
    "start_time": "2021-07-29T11:59:46.115Z"
   },
   {
    "duration": 98,
    "start_time": "2021-07-29T11:59:46.188Z"
   },
   {
    "duration": 5,
    "start_time": "2021-07-29T11:59:46.289Z"
   },
   {
    "duration": 22,
    "start_time": "2021-07-29T11:59:46.773Z"
   },
   {
    "duration": 15,
    "start_time": "2021-07-29T11:59:46.966Z"
   },
   {
    "duration": 24,
    "start_time": "2021-07-29T11:59:47.138Z"
   },
   {
    "duration": 339,
    "start_time": "2021-07-29T12:02:38.740Z"
   },
   {
    "duration": 1446,
    "start_time": "2021-07-29T12:02:51.273Z"
   },
   {
    "duration": 1601,
    "start_time": "2021-07-29T12:03:29.200Z"
   },
   {
    "duration": 17,
    "start_time": "2021-07-29T12:06:03.731Z"
   },
   {
    "duration": 3,
    "start_time": "2021-07-29T12:06:38.691Z"
   },
   {
    "duration": 128,
    "start_time": "2021-07-29T12:42:51.481Z"
   },
   {
    "duration": 123,
    "start_time": "2021-07-29T12:43:06.643Z"
   },
   {
    "duration": 11,
    "start_time": "2021-07-29T12:43:19.160Z"
   },
   {
    "duration": 11112,
    "start_time": "2021-07-29T12:44:01.822Z"
   },
   {
    "duration": 116,
    "start_time": "2021-07-29T12:44:20.432Z"
   },
   {
    "duration": 9073,
    "start_time": "2021-07-29T12:44:38.326Z"
   },
   {
    "duration": 141,
    "start_time": "2021-07-29T12:45:00.362Z"
   },
   {
    "duration": 57,
    "start_time": "2021-07-29T12:45:28.950Z"
   },
   {
    "duration": 60,
    "start_time": "2021-07-29T12:45:35.368Z"
   },
   {
    "duration": 13,
    "start_time": "2021-07-29T12:46:47.336Z"
   },
   {
    "duration": 92,
    "start_time": "2021-07-29T12:47:00.739Z"
   },
   {
    "duration": 424,
    "start_time": "2021-07-29T12:48:48.411Z"
   },
   {
    "duration": 440,
    "start_time": "2021-07-29T12:49:10.837Z"
   },
   {
    "duration": 395,
    "start_time": "2021-07-29T12:49:22.265Z"
   },
   {
    "duration": 12,
    "start_time": "2021-07-29T12:49:58.911Z"
   },
   {
    "duration": 91,
    "start_time": "2021-07-29T12:50:02.674Z"
   },
   {
    "duration": 13,
    "start_time": "2021-07-29T12:50:39.638Z"
   },
   {
    "duration": 11,
    "start_time": "2021-07-29T12:50:52.643Z"
   },
   {
    "duration": 39,
    "start_time": "2021-07-29T12:50:55.656Z"
   },
   {
    "duration": 141,
    "start_time": "2021-07-29T12:51:32.833Z"
   },
   {
    "duration": 19,
    "start_time": "2021-07-29T12:51:42.045Z"
   },
   {
    "duration": 38,
    "start_time": "2021-07-29T12:51:44.902Z"
   },
   {
    "duration": 382,
    "start_time": "2021-07-29T12:52:41.224Z"
   },
   {
    "duration": 126,
    "start_time": "2021-07-29T12:53:51.671Z"
   },
   {
    "duration": 14,
    "start_time": "2021-07-29T12:54:02.043Z"
   },
   {
    "duration": 40,
    "start_time": "2021-07-29T12:54:05.289Z"
   },
   {
    "duration": 411,
    "start_time": "2021-07-29T12:54:07.491Z"
   },
   {
    "duration": 18,
    "start_time": "2021-07-29T12:55:11.654Z"
   },
   {
    "duration": 37,
    "start_time": "2021-07-29T12:55:13.433Z"
   },
   {
    "duration": 381,
    "start_time": "2021-07-29T12:55:14.587Z"
   },
   {
    "duration": 437,
    "start_time": "2021-07-29T12:55:50.593Z"
   },
   {
    "duration": 221,
    "start_time": "2021-07-29T12:56:14.516Z"
   },
   {
    "duration": 241,
    "start_time": "2021-07-29T12:56:35.316Z"
   },
   {
    "duration": 388,
    "start_time": "2021-07-29T13:13:28.749Z"
   },
   {
    "duration": 21,
    "start_time": "2021-07-29T13:14:02.950Z"
   },
   {
    "duration": 22,
    "start_time": "2021-07-29T13:14:12.393Z"
   },
   {
    "duration": 10346,
    "start_time": "2021-07-29T13:14:59.860Z"
   },
   {
    "duration": 9378,
    "start_time": "2021-07-29T13:15:21.131Z"
   },
   {
    "duration": 36,
    "start_time": "2021-07-29T13:15:39.974Z"
   },
   {
    "duration": 9,
    "start_time": "2021-07-29T13:20:10.498Z"
   },
   {
    "duration": 9170,
    "start_time": "2021-07-29T13:30:20.842Z"
   },
   {
    "duration": 7,
    "start_time": "2021-07-29T13:34:11.327Z"
   },
   {
    "duration": 77,
    "start_time": "2021-07-29T13:34:28.307Z"
   },
   {
    "duration": 6,
    "start_time": "2021-07-29T13:34:36.272Z"
   },
   {
    "duration": 8,
    "start_time": "2021-07-29T13:36:14.917Z"
   },
   {
    "duration": 373,
    "start_time": "2021-07-29T13:36:45.874Z"
   },
   {
    "duration": 6,
    "start_time": "2021-07-29T13:37:01.066Z"
   },
   {
    "duration": 6,
    "start_time": "2021-07-29T13:37:05.913Z"
   },
   {
    "duration": 4,
    "start_time": "2021-07-29T13:37:10.373Z"
   },
   {
    "duration": 5,
    "start_time": "2021-07-29T13:37:12.039Z"
   },
   {
    "duration": 403,
    "start_time": "2021-07-29T13:37:13.201Z"
   },
   {
    "duration": 9,
    "start_time": "2021-07-29T13:37:29.897Z"
   },
   {
    "duration": 9,
    "start_time": "2021-07-29T13:37:30.740Z"
   },
   {
    "duration": 5,
    "start_time": "2021-07-29T13:37:31.456Z"
   },
   {
    "duration": 6,
    "start_time": "2021-07-29T13:37:33.516Z"
   },
   {
    "duration": 3,
    "start_time": "2021-07-29T13:37:34.361Z"
   },
   {
    "duration": 4,
    "start_time": "2021-07-29T13:37:35.118Z"
   },
   {
    "duration": 390,
    "start_time": "2021-07-29T13:37:36.038Z"
   },
   {
    "duration": 790,
    "start_time": "2021-07-29T13:38:08.219Z"
   },
   {
    "duration": 7,
    "start_time": "2021-07-29T13:39:55.420Z"
   },
   {
    "duration": 4,
    "start_time": "2021-07-29T13:39:55.731Z"
   },
   {
    "duration": 793,
    "start_time": "2021-07-29T13:39:56.091Z"
   },
   {
    "duration": 99,
    "start_time": "2021-07-29T13:39:56.887Z"
   },
   {
    "duration": 58,
    "start_time": "2021-07-29T13:39:57.384Z"
   },
   {
    "duration": 6,
    "start_time": "2021-07-29T13:40:33.224Z"
   },
   {
    "duration": 9,
    "start_time": "2021-07-29T13:40:33.528Z"
   },
   {
    "duration": 686,
    "start_time": "2021-07-29T13:40:34.157Z"
   },
   {
    "duration": 6,
    "start_time": "2021-07-29T13:40:38.807Z"
   },
   {
    "duration": 20,
    "start_time": "2021-07-29T13:40:51.041Z"
   },
   {
    "duration": 14,
    "start_time": "2021-07-29T13:41:12.009Z"
   },
   {
    "duration": 13,
    "start_time": "2021-07-29T13:41:18.672Z"
   },
   {
    "duration": 17,
    "start_time": "2021-07-29T13:41:21.960Z"
   },
   {
    "duration": 9441,
    "start_time": "2021-07-29T13:42:31.599Z"
   },
   {
    "duration": 240,
    "start_time": "2021-07-29T13:42:46.828Z"
   },
   {
    "duration": 232,
    "start_time": "2021-07-29T13:43:15.355Z"
   },
   {
    "duration": 35,
    "start_time": "2021-07-29T13:44:00.916Z"
   },
   {
    "duration": 8,
    "start_time": "2021-07-29T13:44:57.217Z"
   },
   {
    "duration": 9,
    "start_time": "2021-07-29T13:44:59.823Z"
   },
   {
    "duration": 37880,
    "start_time": "2021-07-29T13:46:38.717Z"
   },
   {
    "duration": 35835,
    "start_time": "2021-07-29T13:51:06.046Z"
   },
   {
    "duration": 29,
    "start_time": "2021-07-29T13:52:37.188Z"
   },
   {
    "duration": 38,
    "start_time": "2021-07-29T13:52:43.670Z"
   },
   {
    "duration": 8,
    "start_time": "2021-07-29T13:54:54.903Z"
   },
   {
    "duration": 9,
    "start_time": "2021-07-29T14:06:05.457Z"
   },
   {
    "duration": 6,
    "start_time": "2021-07-29T14:07:20.601Z"
   },
   {
    "duration": 5,
    "start_time": "2021-07-29T14:07:26.092Z"
   },
   {
    "duration": 760,
    "start_time": "2021-07-29T14:07:27.129Z"
   },
   {
    "duration": 364,
    "start_time": "2021-07-29T14:08:27.618Z"
   },
   {
    "duration": 41,
    "start_time": "2021-07-29T14:17:41.565Z"
   },
   {
    "duration": 38,
    "start_time": "2021-07-29T14:17:57.017Z"
   },
   {
    "duration": 8,
    "start_time": "2021-07-29T14:21:02.350Z"
   },
   {
    "duration": 387,
    "start_time": "2021-07-29T14:21:35.478Z"
   },
   {
    "duration": 7,
    "start_time": "2021-07-29T14:21:48.420Z"
   },
   {
    "duration": 5,
    "start_time": "2021-07-29T14:24:08.059Z"
   },
   {
    "duration": 3,
    "start_time": "2021-07-29T14:24:17.860Z"
   },
   {
    "duration": 7,
    "start_time": "2021-07-29T14:24:28.180Z"
   },
   {
    "duration": 4,
    "start_time": "2021-07-29T14:24:28.578Z"
   },
   {
    "duration": 824,
    "start_time": "2021-07-29T14:24:30.504Z"
   },
   {
    "duration": 8,
    "start_time": "2021-07-29T14:24:48.957Z"
   },
   {
    "duration": 545,
    "start_time": "2021-07-29T14:24:51.150Z"
   },
   {
    "duration": 7,
    "start_time": "2021-07-29T14:24:54.746Z"
   },
   {
    "duration": 196,
    "start_time": "2021-07-29T14:24:55.914Z"
   },
   {
    "duration": 10,
    "start_time": "2021-07-29T14:25:18.263Z"
   },
   {
    "duration": 21,
    "start_time": "2021-07-29T14:25:25.627Z"
   },
   {
    "duration": 30,
    "start_time": "2021-07-29T14:26:14.015Z"
   },
   {
    "duration": 39,
    "start_time": "2021-07-29T14:26:15.991Z"
   },
   {
    "duration": 370,
    "start_time": "2021-07-29T14:26:23.710Z"
   },
   {
    "duration": 62,
    "start_time": "2021-07-29T14:29:12.070Z"
   },
   {
    "duration": 53,
    "start_time": "2021-07-29T14:29:15.769Z"
   },
   {
    "duration": 11,
    "start_time": "2021-07-29T14:29:47.516Z"
   },
   {
    "duration": 8,
    "start_time": "2021-07-29T14:29:49.728Z"
   },
   {
    "duration": 8,
    "start_time": "2021-07-29T14:31:11.954Z"
   },
   {
    "duration": 4,
    "start_time": "2021-07-29T14:31:19.735Z"
   },
   {
    "duration": 834,
    "start_time": "2021-07-29T14:31:20.805Z"
   },
   {
    "duration": 830,
    "start_time": "2021-07-29T14:32:25.088Z"
   },
   {
    "duration": 25184,
    "start_time": "2021-07-29T14:32:56.883Z"
   },
   {
    "duration": 176,
    "start_time": "2021-07-29T14:33:24.944Z"
   },
   {
    "duration": 113,
    "start_time": "2021-07-29T14:33:35.072Z"
   },
   {
    "duration": 5,
    "start_time": "2021-07-29T14:37:30.771Z"
   },
   {
    "duration": 6,
    "start_time": "2021-07-29T14:37:50.087Z"
   },
   {
    "duration": 5,
    "start_time": "2021-07-29T14:38:13.240Z"
   },
   {
    "duration": 9,
    "start_time": "2021-07-29T14:38:43.411Z"
   },
   {
    "duration": 6,
    "start_time": "2021-07-29T14:38:47.451Z"
   },
   {
    "duration": 758,
    "start_time": "2021-07-29T14:39:10.517Z"
   },
   {
    "duration": 1163,
    "start_time": "2021-07-29T14:40:36.650Z"
   },
   {
    "duration": 764,
    "start_time": "2021-07-29T14:41:54.036Z"
   },
   {
    "duration": 1571,
    "start_time": "2021-07-29T14:48:33.537Z"
   },
   {
    "duration": 8,
    "start_time": "2021-07-29T14:52:18.043Z"
   },
   {
    "duration": 8,
    "start_time": "2021-07-29T14:52:23.742Z"
   },
   {
    "duration": 6,
    "start_time": "2021-07-29T14:52:24.135Z"
   },
   {
    "duration": 104,
    "start_time": "2021-07-29T14:52:25.358Z"
   },
   {
    "duration": 7,
    "start_time": "2021-07-29T14:52:42.051Z"
   },
   {
    "duration": 1516,
    "start_time": "2021-07-29T14:53:16.129Z"
   },
   {
    "duration": 1757,
    "start_time": "2021-07-29T14:57:49.045Z"
   },
   {
    "duration": 1518,
    "start_time": "2021-07-30T00:37:55.063Z"
   },
   {
    "duration": 3,
    "start_time": "2021-07-30T00:37:56.584Z"
   },
   {
    "duration": 860,
    "start_time": "2021-07-30T00:37:57.305Z"
   },
   {
    "duration": 14,
    "start_time": "2021-07-30T00:38:12.883Z"
   },
   {
    "duration": 529,
    "start_time": "2021-07-30T00:38:13.392Z"
   },
   {
    "duration": 6,
    "start_time": "2021-07-30T00:38:17.229Z"
   },
   {
    "duration": 20,
    "start_time": "2021-07-30T00:38:29.250Z"
   },
   {
    "duration": 66,
    "start_time": "2021-07-30T00:39:31.952Z"
   },
   {
    "duration": 39,
    "start_time": "2021-07-30T00:39:35.081Z"
   },
   {
    "duration": 9,
    "start_time": "2021-07-30T00:39:48.631Z"
   },
   {
    "duration": 13,
    "start_time": "2021-07-30T00:40:00.740Z"
   },
   {
    "duration": 10,
    "start_time": "2021-07-30T00:40:02.585Z"
   },
   {
    "duration": 10,
    "start_time": "2021-07-30T00:40:12.659Z"
   },
   {
    "duration": 5,
    "start_time": "2021-07-30T00:40:15.104Z"
   },
   {
    "duration": 87,
    "start_time": "2021-07-30T00:40:16.738Z"
   },
   {
    "duration": 6,
    "start_time": "2021-07-30T00:40:22.737Z"
   },
   {
    "duration": 17,
    "start_time": "2021-07-30T00:40:30.173Z"
   },
   {
    "duration": 16,
    "start_time": "2021-07-30T00:40:50.704Z"
   },
   {
    "duration": 488,
    "start_time": "2021-07-30T00:41:13.568Z"
   },
   {
    "duration": 172,
    "start_time": "2021-07-30T00:41:18.128Z"
   },
   {
    "duration": 1520,
    "start_time": "2021-07-30T00:41:36.286Z"
   },
   {
    "duration": 57,
    "start_time": "2021-07-30T00:42:08.561Z"
   },
   {
    "duration": 13,
    "start_time": "2021-07-30T00:42:48.474Z"
   },
   {
    "duration": 431,
    "start_time": "2021-07-30T00:49:38.794Z"
   },
   {
    "duration": 1564,
    "start_time": "2021-07-30T00:50:30.818Z"
   },
   {
    "duration": 3,
    "start_time": "2021-07-30T00:50:32.385Z"
   },
   {
    "duration": 866,
    "start_time": "2021-07-30T00:50:32.391Z"
   },
   {
    "duration": 24,
    "start_time": "2021-07-30T00:50:40.364Z"
   },
   {
    "duration": 63,
    "start_time": "2021-07-30T00:51:02.323Z"
   },
   {
    "duration": 41,
    "start_time": "2021-07-30T00:51:05.392Z"
   },
   {
    "duration": 9,
    "start_time": "2021-07-30T00:51:10.651Z"
   },
   {
    "duration": 14,
    "start_time": "2021-07-30T00:51:12.225Z"
   },
   {
    "duration": 11,
    "start_time": "2021-07-30T00:51:13.586Z"
   },
   {
    "duration": 2270,
    "start_time": "2021-07-30T00:51:28.238Z"
   },
   {
    "duration": 8,
    "start_time": "2021-07-30T00:55:11.159Z"
   },
   {
    "duration": 4,
    "start_time": "2021-07-30T00:55:11.481Z"
   },
   {
    "duration": 879,
    "start_time": "2021-07-30T00:55:11.797Z"
   },
   {
    "duration": 20,
    "start_time": "2021-07-30T00:55:19.723Z"
   },
   {
    "duration": 13,
    "start_time": "2021-07-30T00:56:06.137Z"
   },
   {
    "duration": 5,
    "start_time": "2021-07-30T00:56:34.645Z"
   },
   {
    "duration": 6,
    "start_time": "2021-07-30T00:56:46.403Z"
   },
   {
    "duration": 426,
    "start_time": "2021-07-30T00:56:55.246Z"
   },
   {
    "duration": 32,
    "start_time": "2021-07-30T00:57:02.432Z"
   },
   {
    "duration": 18,
    "start_time": "2021-07-30T00:57:29.435Z"
   },
   {
    "duration": 29,
    "start_time": "2021-07-30T00:57:44.371Z"
   },
   {
    "duration": 9657,
    "start_time": "2021-07-30T00:58:37.453Z"
   },
   {
    "duration": 7,
    "start_time": "2021-07-30T00:59:15.030Z"
   },
   {
    "duration": 5,
    "start_time": "2021-07-30T01:00:17.182Z"
   },
   {
    "duration": 4959,
    "start_time": "2021-07-30T01:02:04.349Z"
   },
   {
    "duration": 8922,
    "start_time": "2021-07-30T01:03:14.213Z"
   },
   {
    "duration": 18,
    "start_time": "2021-07-30T01:03:35.004Z"
   },
   {
    "duration": 25,
    "start_time": "2021-07-30T01:04:11.264Z"
   },
   {
    "duration": 10,
    "start_time": "2021-07-30T01:04:33.004Z"
   },
   {
    "duration": 34,
    "start_time": "2021-07-30T01:05:06.707Z"
   },
   {
    "duration": 1051,
    "start_time": "2021-07-30T01:06:03.038Z"
   },
   {
    "duration": 429,
    "start_time": "2021-07-30T01:06:34.966Z"
   },
   {
    "duration": 4,
    "start_time": "2021-07-30T01:07:13.740Z"
   },
   {
    "duration": 791,
    "start_time": "2021-07-30T01:07:16.596Z"
   },
   {
    "duration": 1160,
    "start_time": "2021-07-30T01:07:22.143Z"
   },
   {
    "duration": 779,
    "start_time": "2021-07-30T01:08:13.403Z"
   },
   {
    "duration": 749,
    "start_time": "2021-07-30T01:08:21.203Z"
   },
   {
    "duration": 263,
    "start_time": "2021-07-30T01:11:51.796Z"
   },
   {
    "duration": 5,
    "start_time": "2021-07-30T01:47:49.756Z"
   },
   {
    "duration": 4,
    "start_time": "2021-07-30T01:47:54.446Z"
   },
   {
    "duration": 758,
    "start_time": "2021-07-30T01:47:56.063Z"
   },
   {
    "duration": 192,
    "start_time": "2021-07-30T01:49:37.150Z"
   },
   {
    "duration": 128,
    "start_time": "2021-07-30T01:50:03.760Z"
   },
   {
    "duration": 410,
    "start_time": "2021-07-30T01:50:34.079Z"
   },
   {
    "duration": 426,
    "start_time": "2021-07-30T01:50:47.544Z"
   },
   {
    "duration": 356,
    "start_time": "2021-07-30T01:56:34.826Z"
   },
   {
    "duration": 474,
    "start_time": "2021-07-30T01:57:06.716Z"
   },
   {
    "duration": 10324,
    "start_time": "2021-07-30T01:57:59.753Z"
   },
   {
    "duration": 11317,
    "start_time": "2021-07-30T01:58:30.904Z"
   },
   {
    "duration": 11190,
    "start_time": "2021-07-30T01:59:13.373Z"
   },
   {
    "duration": 15562,
    "start_time": "2021-07-30T01:59:33.016Z"
   },
   {
    "duration": 7428,
    "start_time": "2021-07-30T02:00:41.120Z"
   },
   {
    "duration": 418,
    "start_time": "2021-07-30T02:01:43.502Z"
   },
   {
    "duration": 112267,
    "start_time": "2021-07-30T02:06:46.049Z"
   },
   {
    "duration": 404,
    "start_time": "2021-07-30T02:11:05.853Z"
   },
   {
    "duration": 610,
    "start_time": "2021-07-30T02:11:35.219Z"
   },
   {
    "duration": 652,
    "start_time": "2021-07-30T02:12:25.835Z"
   },
   {
    "duration": -10094,
    "start_time": "2021-07-30T02:15:26.433Z"
   },
   {
    "duration": 415,
    "start_time": "2021-07-30T02:16:45.185Z"
   },
   {
    "duration": 58694,
    "start_time": "2021-07-30T02:17:17.469Z"
   },
   {
    "duration": 450,
    "start_time": "2021-07-30T02:20:46.886Z"
   },
   {
    "duration": 390,
    "start_time": "2021-07-30T02:23:58.371Z"
   },
   {
    "duration": 368,
    "start_time": "2021-07-30T02:26:06.191Z"
   },
   {
    "duration": 415,
    "start_time": "2021-07-30T02:27:58.507Z"
   },
   {
    "duration": 442,
    "start_time": "2021-07-30T02:28:40.508Z"
   },
   {
    "duration": 23,
    "start_time": "2021-07-30T02:29:20.325Z"
   },
   {
    "duration": 21,
    "start_time": "2021-07-30T02:29:41.450Z"
   },
   {
    "duration": 392,
    "start_time": "2021-07-30T02:30:02.509Z"
   },
   {
    "duration": 10912,
    "start_time": "2021-07-30T02:30:15.955Z"
   },
   {
    "duration": 57853,
    "start_time": "2021-07-30T02:30:28.445Z"
   },
   {
    "duration": 1312,
    "start_time": "2021-07-30T02:32:26.957Z"
   },
   {
    "duration": 559,
    "start_time": "2021-07-30T02:33:38.472Z"
   },
   {
    "duration": 480,
    "start_time": "2021-07-30T02:33:58.747Z"
   },
   {
    "duration": 24,
    "start_time": "2021-07-30T02:34:21.829Z"
   },
   {
    "duration": 7,
    "start_time": "2021-07-30T02:34:30.063Z"
   },
   {
    "duration": 4,
    "start_time": "2021-07-30T02:34:30.342Z"
   },
   {
    "duration": 791,
    "start_time": "2021-07-30T02:34:30.664Z"
   },
   {
    "duration": 21,
    "start_time": "2021-07-30T02:34:36.621Z"
   },
   {
    "duration": 11,
    "start_time": "2021-07-30T02:34:39.118Z"
   },
   {
    "duration": 17,
    "start_time": "2021-07-30T02:34:39.543Z"
   },
   {
    "duration": 24,
    "start_time": "2021-07-30T02:34:40.496Z"
   },
   {
    "duration": 9272,
    "start_time": "2021-07-30T02:34:44.423Z"
   },
   {
    "duration": 8,
    "start_time": "2021-07-30T02:35:40.626Z"
   },
   {
    "duration": 6,
    "start_time": "2021-07-30T02:35:41.458Z"
   },
   {
    "duration": 16,
    "start_time": "2021-07-30T02:36:25.407Z"
   },
   {
    "duration": 24,
    "start_time": "2021-07-30T02:36:26.045Z"
   },
   {
    "duration": 9,
    "start_time": "2021-07-30T02:36:28.481Z"
   },
   {
    "duration": 32,
    "start_time": "2021-07-30T02:36:29.580Z"
   },
   {
    "duration": 20,
    "start_time": "2021-07-30T02:36:48.905Z"
   },
   {
    "duration": 4,
    "start_time": "2021-07-30T02:37:00.955Z"
   },
   {
    "duration": 9734,
    "start_time": "2021-07-30T02:37:19.634Z"
   },
   {
    "duration": 599,
    "start_time": "2021-07-30T02:37:45.525Z"
   },
   {
    "duration": 501,
    "start_time": "2021-07-30T02:38:38.513Z"
   },
   {
    "duration": 8,
    "start_time": "2021-07-30T02:43:04.381Z"
   },
   {
    "duration": 3,
    "start_time": "2021-07-30T02:43:05.055Z"
   },
   {
    "duration": 795,
    "start_time": "2021-07-30T02:43:05.429Z"
   },
   {
    "duration": 23,
    "start_time": "2021-07-30T02:43:12.503Z"
   },
   {
    "duration": 11,
    "start_time": "2021-07-30T02:43:14.183Z"
   },
   {
    "duration": 17,
    "start_time": "2021-07-30T02:43:15.086Z"
   },
   {
    "duration": 26,
    "start_time": "2021-07-30T02:43:17.564Z"
   },
   {
    "duration": 9067,
    "start_time": "2021-07-30T02:43:25.926Z"
   },
   {
    "duration": 9,
    "start_time": "2021-07-30T02:43:34.996Z"
   },
   {
    "duration": 50,
    "start_time": "2021-07-30T02:43:35.008Z"
   },
   {
    "duration": 19,
    "start_time": "2021-07-30T02:43:35.061Z"
   },
   {
    "duration": 81,
    "start_time": "2021-07-30T02:43:35.083Z"
   },
   {
    "duration": 10,
    "start_time": "2021-07-30T02:47:36.632Z"
   },
   {
    "duration": 33,
    "start_time": "2021-07-30T02:47:39.489Z"
   },
   {
    "duration": 23,
    "start_time": "2021-07-30T02:48:04.808Z"
   },
   {
    "duration": 22,
    "start_time": "2021-07-30T02:48:19.182Z"
   },
   {
    "duration": 416,
    "start_time": "2021-07-30T02:48:42.739Z"
   },
   {
    "duration": 14,
    "start_time": "2021-07-30T02:49:20.827Z"
   },
   {
    "duration": 16,
    "start_time": "2021-07-30T02:49:37.004Z"
   },
   {
    "duration": 22,
    "start_time": "2021-07-30T02:51:27.846Z"
   },
   {
    "duration": 10,
    "start_time": "2021-07-30T02:51:29.209Z"
   },
   {
    "duration": 36,
    "start_time": "2021-07-30T02:51:30.429Z"
   },
   {
    "duration": 8,
    "start_time": "2021-07-30T02:51:57.962Z"
   },
   {
    "duration": 189,
    "start_time": "2021-07-30T02:52:06.670Z"
   },
   {
    "duration": 384,
    "start_time": "2021-07-30T02:52:08.878Z"
   },
   {
    "duration": 278,
    "start_time": "2021-07-30T02:52:16.447Z"
   },
   {
    "duration": 10111,
    "start_time": "2021-07-30T02:52:22.745Z"
   },
   {
    "duration": -10134,
    "start_time": "2021-07-30T02:59:22.283Z"
   },
   {
    "duration": -10134,
    "start_time": "2021-07-30T03:03:13.649Z"
   },
   {
    "duration": 600,
    "start_time": "2021-07-30T03:03:31.402Z"
   },
   {
    "duration": 437,
    "start_time": "2021-07-30T03:03:38.764Z"
   },
   {
    "duration": 4,
    "start_time": "2021-07-30T03:03:54.421Z"
   },
   {
    "duration": 364,
    "start_time": "2021-07-30T03:04:03.192Z"
   },
   {
    "duration": 725,
    "start_time": "2021-07-30T03:04:15.447Z"
   },
   {
    "duration": 7,
    "start_time": "2021-07-30T03:06:26.412Z"
   },
   {
    "duration": 9,
    "start_time": "2021-07-30T03:06:47.758Z"
   },
   {
    "duration": 26,
    "start_time": "2021-07-30T03:28:44.229Z"
   },
   {
    "duration": 13,
    "start_time": "2021-07-30T03:30:15.756Z"
   },
   {
    "duration": 16,
    "start_time": "2021-07-30T03:30:36.013Z"
   },
   {
    "duration": 354,
    "start_time": "2021-07-30T03:32:12.836Z"
   },
   {
    "duration": 6,
    "start_time": "2021-07-30T03:32:27.773Z"
   },
   {
    "duration": 3,
    "start_time": "2021-07-30T03:32:29.422Z"
   },
   {
    "duration": 866,
    "start_time": "2021-07-30T03:32:30.062Z"
   },
   {
    "duration": 9,
    "start_time": "2021-07-30T03:33:03.781Z"
   },
   {
    "duration": 7,
    "start_time": "2021-07-30T03:33:10.320Z"
   },
   {
    "duration": 22,
    "start_time": "2021-07-30T03:33:27.054Z"
   },
   {
    "duration": 21,
    "start_time": "2021-07-30T03:33:30.027Z"
   },
   {
    "duration": 17,
    "start_time": "2021-07-30T03:33:33.811Z"
   },
   {
    "duration": 369,
    "start_time": "2021-07-30T03:33:40.254Z"
   },
   {
    "duration": 44,
    "start_time": "2021-07-30T03:34:03.605Z"
   },
   {
    "duration": 1692,
    "start_time": "2021-07-30T03:36:32.252Z"
   },
   {
    "duration": 1908,
    "start_time": "2021-07-30T03:37:43.208Z"
   },
   {
    "duration": 1540,
    "start_time": "2021-07-30T03:39:22.010Z"
   },
   {
    "duration": 1704,
    "start_time": "2021-07-30T03:40:06.957Z"
   },
   {
    "duration": 135,
    "start_time": "2021-07-30T03:43:20.152Z"
   },
   {
    "duration": 119,
    "start_time": "2021-07-30T03:43:36.759Z"
   },
   {
    "duration": 124,
    "start_time": "2021-07-30T03:44:08.235Z"
   },
   {
    "duration": 7,
    "start_time": "2021-07-30T03:44:38.542Z"
   },
   {
    "duration": 7,
    "start_time": "2021-07-30T03:44:46.312Z"
   },
   {
    "duration": 366,
    "start_time": "2021-07-30T03:44:47.656Z"
   },
   {
    "duration": 2267,
    "start_time": "2021-07-30T03:44:55.543Z"
   },
   {
    "duration": 7,
    "start_time": "2021-07-30T03:45:53.788Z"
   },
   {
    "duration": 2361,
    "start_time": "2021-07-30T03:45:55.325Z"
   },
   {
    "duration": 7,
    "start_time": "2021-07-30T03:46:08.163Z"
   },
   {
    "duration": 8,
    "start_time": "2021-07-30T03:46:29.350Z"
   },
   {
    "duration": 1489,
    "start_time": "2021-07-30T03:46:32.571Z"
   },
   {
    "duration": 7,
    "start_time": "2021-07-30T03:46:47.125Z"
   },
   {
    "duration": 2280,
    "start_time": "2021-07-30T03:46:52.892Z"
   },
   {
    "duration": 8,
    "start_time": "2021-07-30T03:47:11.623Z"
   },
   {
    "duration": 1580,
    "start_time": "2021-07-30T03:47:12.913Z"
   },
   {
    "duration": 7,
    "start_time": "2021-07-30T03:47:30.148Z"
   },
   {
    "duration": 1794,
    "start_time": "2021-07-30T03:47:31.576Z"
   },
   {
    "duration": 1617,
    "start_time": "2021-07-30T03:47:51.654Z"
   },
   {
    "duration": 8,
    "start_time": "2021-07-30T03:48:36.951Z"
   },
   {
    "duration": 1502,
    "start_time": "2021-07-30T03:48:37.871Z"
   },
   {
    "duration": 1735,
    "start_time": "2021-07-30T03:48:41.486Z"
   },
   {
    "duration": 7,
    "start_time": "2021-07-30T03:49:40.536Z"
   },
   {
    "duration": 1492,
    "start_time": "2021-07-30T03:49:41.170Z"
   },
   {
    "duration": 1749,
    "start_time": "2021-07-30T03:49:49.786Z"
   },
   {
    "duration": 1493,
    "start_time": "2021-07-30T03:49:54.327Z"
   },
   {
    "duration": 1900,
    "start_time": "2021-07-30T03:50:03.241Z"
   },
   {
    "duration": 1494,
    "start_time": "2021-07-30T03:50:32.378Z"
   },
   {
    "duration": 1674,
    "start_time": "2021-07-30T03:50:39.331Z"
   },
   {
    "duration": 1653,
    "start_time": "2021-07-30T03:50:45.890Z"
   },
   {
    "duration": 913,
    "start_time": "2021-07-30T03:52:08.997Z"
   },
   {
    "duration": 349,
    "start_time": "2021-07-30T03:52:23.736Z"
   },
   {
    "duration": 8,
    "start_time": "2021-07-30T03:54:39.038Z"
   },
   {
    "duration": 7,
    "start_time": "2021-07-30T03:55:47.017Z"
   },
   {
    "duration": 113,
    "start_time": "2021-07-30T04:05:58.490Z"
   },
   {
    "duration": 5,
    "start_time": "2021-07-30T04:06:16.505Z"
   },
   {
    "duration": 115,
    "start_time": "2021-07-30T04:06:19.402Z"
   },
   {
    "duration": 4,
    "start_time": "2021-07-30T04:06:35.734Z"
   },
   {
    "duration": 116,
    "start_time": "2021-07-30T04:06:37.510Z"
   },
   {
    "duration": 354,
    "start_time": "2021-07-30T04:06:53.564Z"
   },
   {
    "duration": 843,
    "start_time": "2021-07-30T04:07:11.747Z"
   },
   {
    "duration": 5,
    "start_time": "2021-07-30T04:08:21.518Z"
   },
   {
    "duration": 7,
    "start_time": "2021-07-30T04:08:23.297Z"
   },
   {
    "duration": 9,
    "start_time": "2021-07-30T04:32:50.983Z"
   },
   {
    "duration": 365,
    "start_time": "2021-07-30T04:32:53.038Z"
   },
   {
    "duration": 9702,
    "start_time": "2021-07-30T04:33:29.521Z"
   },
   {
    "duration": 3048,
    "start_time": "2021-07-30T04:35:17.898Z"
   },
   {
    "duration": 13,
    "start_time": "2021-07-30T04:35:45.348Z"
   },
   {
    "duration": 1465,
    "start_time": "2021-07-30T04:35:47.845Z"
   },
   {
    "duration": 8,
    "start_time": "2021-07-30T04:35:56.545Z"
   },
   {
    "duration": 1592,
    "start_time": "2021-07-30T04:35:58.360Z"
   },
   {
    "duration": 109,
    "start_time": "2021-07-30T04:38:14.443Z"
   },
   {
    "duration": 131,
    "start_time": "2021-07-30T04:40:00.161Z"
   },
   {
    "duration": 123,
    "start_time": "2021-07-30T04:40:13.981Z"
   },
   {
    "duration": 5,
    "start_time": "2021-07-30T04:40:27.238Z"
   },
   {
    "duration": 297,
    "start_time": "2021-07-30T04:40:49.624Z"
   },
   {
    "duration": 680,
    "start_time": "2021-07-30T04:43:16.450Z"
   },
   {
    "duration": 1654,
    "start_time": "2021-07-30T04:45:09.312Z"
   },
   {
    "duration": 4,
    "start_time": "2021-07-30T04:48:09.011Z"
   },
   {
    "duration": 9,
    "start_time": "2021-07-30T04:49:13.293Z"
   },
   {
    "duration": 16,
    "start_time": "2021-07-30T04:52:03.837Z"
   },
   {
    "duration": 92,
    "start_time": "2021-07-30T04:53:32.613Z"
   },
   {
    "duration": 94,
    "start_time": "2021-07-30T04:54:49.412Z"
   },
   {
    "duration": 16,
    "start_time": "2021-07-30T04:55:27.668Z"
   },
   {
    "duration": 448,
    "start_time": "2021-07-30T05:02:39.353Z"
   },
   {
    "duration": 24,
    "start_time": "2021-07-30T05:02:45.647Z"
   },
   {
    "duration": 17,
    "start_time": "2021-07-30T05:02:47.854Z"
   },
   {
    "duration": 12,
    "start_time": "2021-07-30T05:02:48.833Z"
   },
   {
    "duration": 14,
    "start_time": "2021-07-30T05:03:17.087Z"
   },
   {
    "duration": 13,
    "start_time": "2021-07-30T05:03:24.048Z"
   },
   {
    "duration": 16,
    "start_time": "2021-07-30T05:03:42.926Z"
   },
   {
    "duration": 5,
    "start_time": "2021-07-30T05:05:00.435Z"
   },
   {
    "duration": 13,
    "start_time": "2021-07-30T05:05:11.155Z"
   },
   {
    "duration": 15,
    "start_time": "2021-07-30T05:05:12.266Z"
   },
   {
    "duration": 24,
    "start_time": "2021-07-30T05:05:37.645Z"
   },
   {
    "duration": 15,
    "start_time": "2021-07-30T05:05:39.030Z"
   },
   {
    "duration": 9,
    "start_time": "2021-07-30T05:05:45.285Z"
   },
   {
    "duration": 11,
    "start_time": "2021-07-30T05:05:53.282Z"
   },
   {
    "duration": 10,
    "start_time": "2021-07-30T05:07:10.001Z"
   },
   {
    "duration": 53,
    "start_time": "2021-07-30T05:08:10.406Z"
   },
   {
    "duration": 13,
    "start_time": "2021-07-30T05:08:16.316Z"
   },
   {
    "duration": 13,
    "start_time": "2021-07-30T05:08:17.293Z"
   },
   {
    "duration": 444,
    "start_time": "2021-07-30T05:08:46.856Z"
   },
   {
    "duration": 9,
    "start_time": "2021-07-30T05:09:49.404Z"
   },
   {
    "duration": 10,
    "start_time": "2021-07-30T05:09:54.819Z"
   },
   {
    "duration": 4,
    "start_time": "2021-07-30T05:10:01.031Z"
   },
   {
    "duration": 11074,
    "start_time": "2021-07-30T05:14:44.409Z"
   },
   {
    "duration": 5,
    "start_time": "2021-07-30T05:14:57.602Z"
   },
   {
    "duration": 15265,
    "start_time": "2021-07-30T05:15:01.715Z"
   },
   {
    "duration": 472,
    "start_time": "2021-07-30T05:16:18.292Z"
   },
   {
    "duration": 185,
    "start_time": "2021-07-30T05:16:26.782Z"
   },
   {
    "duration": 158,
    "start_time": "2021-07-30T05:19:49.902Z"
   },
   {
    "duration": 423,
    "start_time": "2021-07-30T05:22:05.645Z"
   },
   {
    "duration": 5,
    "start_time": "2021-07-30T05:22:14.977Z"
   },
   {
    "duration": 864,
    "start_time": "2021-07-30T05:22:21.824Z"
   },
   {
    "duration": 6,
    "start_time": "2021-07-30T05:23:26.454Z"
   },
   {
    "duration": 6,
    "start_time": "2021-07-30T05:23:40.661Z"
   },
   {
    "duration": 5,
    "start_time": "2021-07-30T05:23:50.899Z"
   },
   {
    "duration": 5,
    "start_time": "2021-07-30T05:24:24.338Z"
   },
   {
    "duration": 5,
    "start_time": "2021-07-30T05:24:52.500Z"
   },
   {
    "duration": 765,
    "start_time": "2021-07-30T05:25:05.834Z"
   },
   {
    "duration": 6,
    "start_time": "2021-07-30T05:27:00.626Z"
   },
   {
    "duration": 9,
    "start_time": "2021-07-30T05:27:07.473Z"
   },
   {
    "duration": 377,
    "start_time": "2021-07-30T05:27:47.372Z"
   },
   {
    "duration": 6,
    "start_time": "2021-07-30T05:28:02.319Z"
   },
   {
    "duration": 9,
    "start_time": "2021-07-30T05:28:29.083Z"
   },
   {
    "duration": 9,
    "start_time": "2021-07-30T05:28:45.844Z"
   },
   {
    "duration": 73609,
    "start_time": "2021-07-30T05:29:43.679Z"
   },
   {
    "duration": 478,
    "start_time": "2021-07-30T05:33:09.632Z"
   },
   {
    "duration": 452,
    "start_time": "2021-07-30T05:33:51.067Z"
   },
   {
    "duration": 9,
    "start_time": "2021-07-30T05:34:24.369Z"
   },
   {
    "duration": 5,
    "start_time": "2021-07-30T05:45:54.928Z"
   },
   {
    "duration": 10388,
    "start_time": "2021-07-30T05:45:59.783Z"
   },
   {
    "duration": 10585,
    "start_time": "2021-07-30T05:46:36.070Z"
   },
   {
    "duration": 6430,
    "start_time": "2021-07-30T05:48:35.654Z"
   },
   {
    "duration": 50703,
    "start_time": "2021-07-30T05:49:17.897Z"
   },
   {
    "duration": 9,
    "start_time": "2021-07-30T06:13:34.219Z"
   },
   {
    "duration": 8242,
    "start_time": "2021-07-30T06:13:50.759Z"
   },
   {
    "duration": -10273,
    "start_time": "2021-07-30T06:14:09.279Z"
   },
   {
    "duration": 10,
    "start_time": "2021-07-30T06:14:05.042Z"
   },
   {
    "duration": 9066,
    "start_time": "2021-07-30T06:14:07.125Z"
   },
   {
    "duration": 64,
    "start_time": "2021-07-30T06:14:24.639Z"
   },
   {
    "duration": 10,
    "start_time": "2021-07-30T06:15:34.158Z"
   },
   {
    "duration": 3,
    "start_time": "2021-07-30T06:26:51.182Z"
   },
   {
    "duration": 977,
    "start_time": "2021-07-30T06:26:52.629Z"
   },
   {
    "duration": 1137,
    "start_time": "2021-07-30T06:27:58.241Z"
   },
   {
    "duration": 983,
    "start_time": "2021-07-30T06:28:05.441Z"
   },
   {
    "duration": 5,
    "start_time": "2021-07-30T06:30:22.629Z"
   },
   {
    "duration": 1040,
    "start_time": "2021-07-30T06:30:23.739Z"
   },
   {
    "duration": 596,
    "start_time": "2021-07-30T06:30:57.869Z"
   },
   {
    "duration": 998,
    "start_time": "2021-07-30T06:32:01.857Z"
   },
   {
    "duration": 697,
    "start_time": "2021-07-30T06:32:15.366Z"
   },
   {
    "duration": 905,
    "start_time": "2021-07-30T06:37:56.381Z"
   },
   {
    "duration": 599,
    "start_time": "2021-07-30T06:41:31.776Z"
   },
   {
    "duration": 999,
    "start_time": "2021-07-30T06:41:36.469Z"
   },
   {
    "duration": 11,
    "start_time": "2021-07-30T06:41:39.264Z"
   },
   {
    "duration": 1356,
    "start_time": "2021-07-30T06:48:44.693Z"
   },
   {
    "duration": 3,
    "start_time": "2021-07-30T06:49:01.046Z"
   },
   {
    "duration": 931,
    "start_time": "2021-07-30T06:49:03.704Z"
   },
   {
    "duration": 1228,
    "start_time": "2021-07-30T06:51:32.435Z"
   },
   {
    "duration": 1324,
    "start_time": "2021-07-30T06:51:55.559Z"
   },
   {
    "duration": 1269,
    "start_time": "2021-07-30T06:53:01.638Z"
   },
   {
    "duration": 979,
    "start_time": "2021-07-30T06:53:05.911Z"
   },
   {
    "duration": 9,
    "start_time": "2021-07-30T06:54:18.672Z"
   },
   {
    "duration": 410,
    "start_time": "2021-07-30T06:56:27.434Z"
   },
   {
    "duration": 410,
    "start_time": "2021-07-30T06:57:18.730Z"
   },
   {
    "duration": 415,
    "start_time": "2021-07-30T06:57:53.631Z"
   },
   {
    "duration": 4,
    "start_time": "2021-07-30T06:58:14.179Z"
   },
   {
    "duration": 413,
    "start_time": "2021-07-30T06:58:16.419Z"
   },
   {
    "duration": 10,
    "start_time": "2021-07-30T06:58:53.310Z"
   },
   {
    "duration": 35,
    "start_time": "2021-07-30T06:58:53.666Z"
   },
   {
    "duration": 890,
    "start_time": "2021-07-30T06:58:59.825Z"
   },
   {
    "duration": 1340,
    "start_time": "2021-07-30T06:59:47.629Z"
   },
   {
    "duration": 877,
    "start_time": "2021-07-30T07:00:09.232Z"
   },
   {
    "duration": 384,
    "start_time": "2021-07-30T07:06:01.931Z"
   },
   {
    "duration": 378,
    "start_time": "2021-07-30T07:06:10.498Z"
   },
   {
    "duration": 131,
    "start_time": "2021-07-30T07:07:55.683Z"
   },
   {
    "duration": 136,
    "start_time": "2021-07-30T07:42:20.397Z"
   },
   {
    "duration": 1404,
    "start_time": "2021-07-30T07:42:31.884Z"
   },
   {
    "duration": 113,
    "start_time": "2021-07-30T07:42:53.831Z"
   },
   {
    "duration": 462,
    "start_time": "2021-07-30T07:47:07.542Z"
   },
   {
    "duration": 389,
    "start_time": "2021-07-30T07:47:45.908Z"
   },
   {
    "duration": 452,
    "start_time": "2021-07-30T07:48:53.050Z"
   },
   {
    "duration": 552,
    "start_time": "2021-07-30T07:49:37.649Z"
   },
   {
    "duration": 364,
    "start_time": "2021-07-30T07:50:29.679Z"
   },
   {
    "duration": 107,
    "start_time": "2021-07-30T07:50:57.355Z"
   },
   {
    "duration": 489,
    "start_time": "2021-07-30T07:55:23.815Z"
   },
   {
    "duration": 685,
    "start_time": "2021-07-30T07:57:15.975Z"
   },
   {
    "duration": 740,
    "start_time": "2021-07-30T08:08:34.526Z"
   },
   {
    "duration": 16755,
    "start_time": "2021-07-30T08:08:46.007Z"
   },
   {
    "duration": 182,
    "start_time": "2021-07-30T08:10:02.983Z"
   },
   {
    "duration": 5,
    "start_time": "2021-07-30T08:10:31.862Z"
   },
   {
    "duration": 13912,
    "start_time": "2021-07-30T08:10:33.749Z"
   },
   {
    "duration": 10,
    "start_time": "2021-07-30T11:28:37.145Z"
   },
   {
    "duration": 1269,
    "start_time": "2021-07-30T11:28:43.730Z"
   },
   {
    "duration": 2,
    "start_time": "2021-07-30T11:28:45.001Z"
   },
   {
    "duration": 738,
    "start_time": "2021-07-30T11:28:45.005Z"
   },
   {
    "duration": 15,
    "start_time": "2021-07-30T11:28:51.657Z"
   },
   {
    "duration": 380,
    "start_time": "2021-07-30T11:28:52.032Z"
   },
   {
    "duration": 4,
    "start_time": "2021-07-30T11:28:53.409Z"
   },
   {
    "duration": 19,
    "start_time": "2021-07-30T11:28:58.476Z"
   },
   {
    "duration": 23,
    "start_time": "2021-07-30T11:28:59.474Z"
   },
   {
    "duration": 414,
    "start_time": "2021-07-30T11:29:01.015Z"
   },
   {
    "duration": 38,
    "start_time": "2021-07-30T11:29:12.081Z"
   },
   {
    "duration": 6,
    "start_time": "2021-07-30T11:29:12.633Z"
   },
   {
    "duration": 3,
    "start_time": "2021-07-30T11:29:12.877Z"
   },
   {
    "duration": 92,
    "start_time": "2021-07-30T11:29:58.737Z"
   },
   {
    "duration": 3,
    "start_time": "2021-07-30T11:30:03.085Z"
   },
   {
    "duration": 26,
    "start_time": "2021-07-30T11:30:04.276Z"
   },
   {
    "duration": 259,
    "start_time": "2021-07-30T11:30:09.688Z"
   },
   {
    "duration": 18,
    "start_time": "2021-07-30T11:30:36.060Z"
   },
   {
    "duration": 16,
    "start_time": "2021-07-30T11:30:38.659Z"
   },
   {
    "duration": 2,
    "start_time": "2021-07-30T11:30:40.514Z"
   },
   {
    "duration": 31,
    "start_time": "2021-07-30T11:30:41.602Z"
   },
   {
    "duration": 6,
    "start_time": "2021-07-30T11:30:44.597Z"
   },
   {
    "duration": 4,
    "start_time": "2021-07-30T11:30:46.516Z"
   },
   {
    "duration": 5,
    "start_time": "2021-07-30T11:31:08.425Z"
   },
   {
    "duration": 997,
    "start_time": "2021-07-30T11:31:12.700Z"
   },
   {
    "duration": 977,
    "start_time": "2021-07-30T11:31:17.698Z"
   },
   {
    "duration": 1214,
    "start_time": "2021-07-30T11:31:18.677Z"
   },
   {
    "duration": 284,
    "start_time": "2021-07-30T11:31:20.496Z"
   },
   {
    "duration": 659,
    "start_time": "2021-07-30T11:32:00.709Z"
   },
   {
    "duration": 6,
    "start_time": "2021-07-30T11:32:06.461Z"
   },
   {
    "duration": 1104,
    "start_time": "2021-07-30T11:32:11.037Z"
   },
   {
    "duration": 4,
    "start_time": "2021-07-30T11:32:17.121Z"
   },
   {
    "duration": 8,
    "start_time": "2021-07-30T11:32:18.587Z"
   },
   {
    "duration": 68,
    "start_time": "2021-07-30T11:32:30.766Z"
   },
   {
    "duration": 55,
    "start_time": "2021-07-30T11:32:32.658Z"
   },
   {
    "duration": 38,
    "start_time": "2021-07-30T11:32:37.428Z"
   },
   {
    "duration": 277,
    "start_time": "2021-07-30T11:32:39.667Z"
   },
   {
    "duration": 15,
    "start_time": "2021-07-30T11:32:43.757Z"
   },
   {
    "duration": 7,
    "start_time": "2021-07-30T11:32:45.128Z"
   },
   {
    "duration": 33,
    "start_time": "2021-07-30T11:32:46.006Z"
   },
   {
    "duration": 4,
    "start_time": "2021-07-30T11:32:49.348Z"
   },
   {
    "duration": 5,
    "start_time": "2021-07-30T11:32:51.953Z"
   },
   {
    "duration": 3,
    "start_time": "2021-07-30T11:32:56.539Z"
   },
   {
    "duration": 6,
    "start_time": "2021-07-30T11:33:05.128Z"
   },
   {
    "duration": 262,
    "start_time": "2021-07-30T11:33:13.188Z"
   },
   {
    "duration": 4,
    "start_time": "2021-07-30T11:33:27.052Z"
   },
   {
    "duration": 4,
    "start_time": "2021-07-30T11:33:42.076Z"
   },
   {
    "duration": 3,
    "start_time": "2021-07-30T11:34:48.083Z"
   },
   {
    "duration": 5,
    "start_time": "2021-07-30T11:34:53.773Z"
   },
   {
    "duration": 261,
    "start_time": "2021-07-30T11:34:56.096Z"
   },
   {
    "duration": 3,
    "start_time": "2021-07-30T11:35:39.307Z"
   },
   {
    "duration": 1229,
    "start_time": "2021-07-30T11:35:42.668Z"
   },
   {
    "duration": 6,
    "start_time": "2021-07-30T11:37:20.409Z"
   },
   {
    "duration": 1927,
    "start_time": "2021-07-30T11:37:23.846Z"
   },
   {
    "duration": 1193,
    "start_time": "2021-07-30T13:14:38.169Z"
   },
   {
    "duration": 7,
    "start_time": "2021-07-30T13:15:45.954Z"
   },
   {
    "duration": 7,
    "start_time": "2021-07-30T13:15:52.750Z"
   },
   {
    "duration": 6,
    "start_time": "2021-07-30T13:16:59.657Z"
   },
   {
    "duration": 6,
    "start_time": "2021-07-30T13:17:40.793Z"
   },
   {
    "duration": 352,
    "start_time": "2021-07-30T13:21:03.335Z"
   },
   {
    "duration": 5,
    "start_time": "2021-07-30T13:22:06.912Z"
   },
   {
    "duration": 4,
    "start_time": "2021-07-30T13:22:13.363Z"
   },
   {
    "duration": 7,
    "start_time": "2021-07-30T13:22:18.000Z"
   },
   {
    "duration": 6,
    "start_time": "2021-07-30T13:22:30.419Z"
   },
   {
    "duration": 2,
    "start_time": "2021-07-30T13:22:31.510Z"
   },
   {
    "duration": 696,
    "start_time": "2021-07-30T13:22:32.141Z"
   },
   {
    "duration": 54,
    "start_time": "2021-07-30T13:22:32.839Z"
   },
   {
    "duration": 41,
    "start_time": "2021-07-30T13:22:33.433Z"
   },
   {
    "duration": 6,
    "start_time": "2021-07-30T13:22:52.135Z"
   },
   {
    "duration": 345,
    "start_time": "2021-07-30T13:22:52.902Z"
   },
   {
    "duration": 5,
    "start_time": "2021-07-30T13:22:56.546Z"
   },
   {
    "duration": 17,
    "start_time": "2021-07-30T13:23:10.730Z"
   },
   {
    "duration": 16,
    "start_time": "2021-07-30T13:23:12.198Z"
   },
   {
    "duration": 11,
    "start_time": "2021-07-30T13:23:13.774Z"
   },
   {
    "duration": 2,
    "start_time": "2021-07-30T13:23:17.824Z"
   },
   {
    "duration": 36,
    "start_time": "2021-07-30T13:23:18.473Z"
   },
   {
    "duration": 5,
    "start_time": "2021-07-30T13:23:20.810Z"
   },
   {
    "duration": 4,
    "start_time": "2021-07-30T13:23:21.784Z"
   },
   {
    "duration": 240,
    "start_time": "2021-07-30T13:23:29.339Z"
   },
   {
    "duration": 5,
    "start_time": "2021-07-30T13:25:23.354Z"
   },
   {
    "duration": 1020,
    "start_time": "2021-07-30T13:25:25.346Z"
   },
   {
    "duration": 908,
    "start_time": "2021-07-30T13:25:27.767Z"
   },
   {
    "duration": 973,
    "start_time": "2021-07-30T13:25:29.720Z"
   },
   {
    "duration": 723,
    "start_time": "2021-07-30T13:25:34.809Z"
   },
   {
    "duration": 6,
    "start_time": "2021-07-30T13:25:36.756Z"
   },
   {
    "duration": 926,
    "start_time": "2021-07-30T13:25:39.079Z"
   },
   {
    "duration": 4,
    "start_time": "2021-07-30T13:25:41.124Z"
   },
   {
    "duration": 7,
    "start_time": "2021-07-30T13:25:42.193Z"
   },
   {
    "duration": 51,
    "start_time": "2021-07-30T13:25:45.057Z"
   },
   {
    "duration": 54,
    "start_time": "2021-07-30T13:25:46.786Z"
   },
   {
    "duration": 30,
    "start_time": "2021-07-30T13:25:54.829Z"
   },
   {
    "duration": 271,
    "start_time": "2021-07-30T13:25:56.032Z"
   },
   {
    "duration": 9,
    "start_time": "2021-07-30T13:26:01.168Z"
   },
   {
    "duration": 7,
    "start_time": "2021-07-30T13:26:02.205Z"
   },
   {
    "duration": 27,
    "start_time": "2021-07-30T13:26:02.996Z"
   },
   {
    "duration": 3,
    "start_time": "2021-07-30T13:26:05.648Z"
   },
   {
    "duration": 4,
    "start_time": "2021-07-30T13:26:12.515Z"
   },
   {
    "duration": 4,
    "start_time": "2021-07-30T13:26:13.247Z"
   },
   {
    "duration": 10091,
    "start_time": "2021-07-30T13:26:13.864Z"
   },
   {
    "duration": 42088,
    "start_time": "2021-07-30T13:26:23.961Z"
   },
   {
    "duration": 5,
    "start_time": "2021-07-30T13:27:29.726Z"
   },
   {
    "duration": 1841,
    "start_time": "2021-07-30T13:27:31.802Z"
   },
   {
    "duration": 6,
    "start_time": "2021-07-30T13:27:39.012Z"
   },
   {
    "duration": 6,
    "start_time": "2021-07-30T13:27:39.896Z"
   },
   {
    "duration": 7,
    "start_time": "2021-07-30T13:27:41.811Z"
   },
   {
    "duration": 27,
    "start_time": "2021-07-30T13:29:07.257Z"
   },
   {
    "duration": 6,
    "start_time": "2021-07-30T13:29:09.425Z"
   },
   {
    "duration": 3,
    "start_time": "2021-07-30T13:29:09.987Z"
   },
   {
    "duration": 5,
    "start_time": "2021-07-30T13:29:22.728Z"
   },
   {
    "duration": 1031,
    "start_time": "2021-07-30T13:29:24.750Z"
   },
   {
    "duration": 933,
    "start_time": "2021-07-30T13:29:25.783Z"
   },
   {
    "duration": 1077,
    "start_time": "2021-07-30T13:29:26.718Z"
   },
   {
    "duration": 586,
    "start_time": "2021-07-30T13:29:37.182Z"
   },
   {
    "duration": 5,
    "start_time": "2021-07-30T13:29:38.025Z"
   },
   {
    "duration": 893,
    "start_time": "2021-07-30T13:29:39.513Z"
   },
   {
    "duration": 2,
    "start_time": "2021-07-30T13:29:40.408Z"
   },
   {
    "duration": 6,
    "start_time": "2021-07-30T13:29:40.581Z"
   },
   {
    "duration": 58,
    "start_time": "2021-07-30T13:29:47.009Z"
   },
   {
    "duration": 57,
    "start_time": "2021-07-30T13:29:48.269Z"
   },
   {
    "duration": 27,
    "start_time": "2021-07-30T13:29:55.185Z"
   },
   {
    "duration": 265,
    "start_time": "2021-07-30T13:29:55.668Z"
   },
   {
    "duration": 9,
    "start_time": "2021-07-30T13:30:12.716Z"
   },
   {
    "duration": 7,
    "start_time": "2021-07-30T13:30:13.096Z"
   },
   {
    "duration": 38,
    "start_time": "2021-07-30T13:30:13.621Z"
   },
   {
    "duration": 6,
    "start_time": "2021-07-30T13:30:23.311Z"
   },
   {
    "duration": 2157,
    "start_time": "2021-07-30T13:30:23.692Z"
   },
   {
    "duration": 7,
    "start_time": "2021-07-30T13:30:32.550Z"
   },
   {
    "duration": 6,
    "start_time": "2021-07-30T13:30:33.683Z"
   },
   {
    "duration": 7,
    "start_time": "2021-07-30T13:30:34.703Z"
   },
   {
    "duration": 580,
    "start_time": "2021-07-30T13:30:41.129Z"
   },
   {
    "duration": 623,
    "start_time": "2021-07-30T13:31:47.012Z"
   },
   {
    "duration": 4,
    "start_time": "2021-07-30T13:32:42.806Z"
   },
   {
    "duration": 4,
    "start_time": "2021-07-30T13:32:48.022Z"
   },
   {
    "duration": 3,
    "start_time": "2021-07-30T13:32:52.015Z"
   },
   {
    "duration": 138,
    "start_time": "2021-07-30T13:33:14.121Z"
   },
   {
    "duration": 603,
    "start_time": "2021-07-30T13:36:06.957Z"
   },
   {
    "duration": 7,
    "start_time": "2021-07-30T13:37:28.401Z"
   },
   {
    "duration": 4,
    "start_time": "2021-07-30T13:48:23.914Z"
   },
   {
    "duration": 573,
    "start_time": "2021-07-30T13:48:49.840Z"
   },
   {
    "duration": 3,
    "start_time": "2021-07-30T13:49:26.593Z"
   },
   {
    "duration": 589,
    "start_time": "2021-07-30T13:49:27.658Z"
   },
   {
    "duration": 5,
    "start_time": "2021-07-30T13:49:57.951Z"
   },
   {
    "duration": 484,
    "start_time": "2021-07-30T13:49:58.901Z"
   },
   {
    "duration": 4,
    "start_time": "2021-07-30T13:50:17.987Z"
   },
   {
    "duration": 519,
    "start_time": "2021-07-30T13:50:18.938Z"
   },
   {
    "duration": 7,
    "start_time": "2021-07-30T13:50:53.346Z"
   },
   {
    "duration": 514,
    "start_time": "2021-07-30T13:50:54.285Z"
   },
   {
    "duration": 4,
    "start_time": "2021-07-30T13:51:17.561Z"
   },
   {
    "duration": 3280,
    "start_time": "2021-07-30T13:51:18.586Z"
   },
   {
    "duration": 4,
    "start_time": "2021-07-30T13:52:56.075Z"
   },
   {
    "duration": 3336,
    "start_time": "2021-07-30T13:52:57.829Z"
   },
   {
    "duration": 88,
    "start_time": "2021-07-30T13:54:38.053Z"
   },
   {
    "duration": 86,
    "start_time": "2021-07-30T13:54:59.736Z"
   },
   {
    "duration": 6,
    "start_time": "2021-07-30T13:55:18.721Z"
   },
   {
    "duration": 1739,
    "start_time": "2021-07-30T13:55:20.103Z"
   },
   {
    "duration": 27,
    "start_time": "2021-07-30T13:56:12.386Z"
   },
   {
    "duration": 398,
    "start_time": "2021-07-30T13:56:13.163Z"
   },
   {
    "duration": 10,
    "start_time": "2021-07-30T13:56:14.807Z"
   },
   {
    "duration": 7,
    "start_time": "2021-07-30T13:56:15.261Z"
   },
   {
    "duration": 30,
    "start_time": "2021-07-30T13:56:15.717Z"
   },
   {
    "duration": 2,
    "start_time": "2021-07-30T13:56:16.108Z"
   },
   {
    "duration": 4,
    "start_time": "2021-07-30T13:56:18.375Z"
   },
   {
    "duration": 5,
    "start_time": "2021-07-30T13:56:29.567Z"
   },
   {
    "duration": 1723,
    "start_time": "2021-07-30T13:56:30.926Z"
   },
   {
    "duration": 3,
    "start_time": "2021-07-30T13:58:38.811Z"
   },
   {
    "duration": 6,
    "start_time": "2021-07-30T13:58:42.432Z"
   },
   {
    "duration": 1319,
    "start_time": "2021-07-30T13:58:42.923Z"
   },
   {
    "duration": 4,
    "start_time": "2021-07-30T13:58:52.195Z"
   },
   {
    "duration": 3407,
    "start_time": "2021-07-30T13:58:55.673Z"
   },
   {
    "duration": 26,
    "start_time": "2021-07-30T13:59:25.685Z"
   },
   {
    "duration": 264,
    "start_time": "2021-07-30T13:59:26.419Z"
   },
   {
    "duration": 9,
    "start_time": "2021-07-30T13:59:27.193Z"
   },
   {
    "duration": 8,
    "start_time": "2021-07-30T13:59:27.516Z"
   },
   {
    "duration": 28,
    "start_time": "2021-07-30T13:59:27.883Z"
   },
   {
    "duration": 2,
    "start_time": "2021-07-30T13:59:28.338Z"
   },
   {
    "duration": 4,
    "start_time": "2021-07-30T13:59:32.225Z"
   },
   {
    "duration": 5,
    "start_time": "2021-07-30T13:59:35.290Z"
   },
   {
    "duration": 1601,
    "start_time": "2021-07-30T13:59:35.853Z"
   },
   {
    "duration": 6495,
    "start_time": "2021-07-30T14:00:45.064Z"
   },
   {
    "duration": 647,
    "start_time": "2021-07-30T14:01:16.882Z"
   },
   {
    "duration": 1829,
    "start_time": "2021-07-30T14:01:25.313Z"
   },
   {
    "duration": 253,
    "start_time": "2021-07-30T14:01:41.089Z"
   },
   {
    "duration": 1912,
    "start_time": "2021-07-30T14:02:01.234Z"
   },
   {
    "duration": 262,
    "start_time": "2021-07-30T14:05:43.382Z"
   },
   {
    "duration": 8,
    "start_time": "2021-07-30T14:14:50.877Z"
   },
   {
    "duration": 384,
    "start_time": "2021-07-30T14:15:18.000Z"
   },
   {
    "duration": 13,
    "start_time": "2021-07-30T14:15:56.846Z"
   },
   {
    "duration": 4,
    "start_time": "2021-07-30T14:16:06.630Z"
   },
   {
    "duration": 17,
    "start_time": "2021-07-30T14:17:02.957Z"
   },
   {
    "duration": 6,
    "start_time": "2021-07-30T14:17:45.489Z"
   },
   {
    "duration": 8,
    "start_time": "2021-07-30T14:18:43.222Z"
   },
   {
    "duration": 507,
    "start_time": "2021-07-30T14:19:29.718Z"
   },
   {
    "duration": 4,
    "start_time": "2021-07-30T14:19:50.111Z"
   },
   {
    "duration": 7,
    "start_time": "2021-07-30T14:19:55.949Z"
   },
   {
    "duration": 3,
    "start_time": "2021-07-30T14:19:59.561Z"
   },
   {
    "duration": 574,
    "start_time": "2021-07-30T14:20:39.510Z"
   },
   {
    "duration": 22,
    "start_time": "2021-07-30T14:20:56.055Z"
   },
   {
    "duration": 6,
    "start_time": "2021-07-30T14:20:56.458Z"
   },
   {
    "duration": 7,
    "start_time": "2021-07-30T14:20:56.960Z"
   },
   {
    "duration": 4,
    "start_time": "2021-07-30T14:20:58.230Z"
   },
   {
    "duration": 6,
    "start_time": "2021-07-30T14:21:24.160Z"
   },
   {
    "duration": 6,
    "start_time": "2021-07-30T14:21:24.868Z"
   },
   {
    "duration": 5,
    "start_time": "2021-07-30T14:21:25.739Z"
   },
   {
    "duration": 514,
    "start_time": "2021-07-30T14:21:28.736Z"
   },
   {
    "duration": 7,
    "start_time": "2021-07-30T14:22:04.012Z"
   },
   {
    "duration": 1111,
    "start_time": "2021-07-31T01:55:06.066Z"
   },
   {
    "duration": 3,
    "start_time": "2021-07-31T01:55:07.268Z"
   },
   {
    "duration": 693,
    "start_time": "2021-07-31T01:55:08.019Z"
   },
   {
    "duration": 52,
    "start_time": "2021-07-31T01:55:09.473Z"
   },
   {
    "duration": 37,
    "start_time": "2021-07-31T01:55:11.463Z"
   },
   {
    "duration": 52,
    "start_time": "2021-07-31T01:55:12.920Z"
   },
   {
    "duration": 338,
    "start_time": "2021-07-31T01:57:14.192Z"
   },
   {
    "duration": 332,
    "start_time": "2021-07-31T01:58:01.453Z"
   },
   {
    "duration": 223,
    "start_time": "2021-07-31T01:58:22.073Z"
   },
   {
    "duration": 498,
    "start_time": "2021-07-31T01:59:22.257Z"
   },
   {
    "duration": 3,
    "start_time": "2021-07-31T02:00:02.296Z"
   },
   {
    "duration": 2,
    "start_time": "2021-07-31T02:01:32.188Z"
   },
   {
    "duration": 3,
    "start_time": "2021-07-31T02:01:39.146Z"
   },
   {
    "duration": 12,
    "start_time": "2021-07-31T02:04:54.241Z"
   },
   {
    "duration": 2,
    "start_time": "2021-07-31T02:06:22.694Z"
   },
   {
    "duration": 14,
    "start_time": "2021-07-31T02:06:26.117Z"
   },
   {
    "duration": 8,
    "start_time": "2021-07-31T02:06:59.225Z"
   },
   {
    "duration": 3,
    "start_time": "2021-07-31T02:07:15.473Z"
   },
   {
    "duration": 41,
    "start_time": "2021-07-31T02:09:30.694Z"
   },
   {
    "duration": 3,
    "start_time": "2021-07-31T02:09:38.874Z"
   },
   {
    "duration": 27,
    "start_time": "2021-07-31T02:09:46.267Z"
   },
   {
    "duration": 43,
    "start_time": "2021-07-31T02:09:50.905Z"
   },
   {
    "duration": 2,
    "start_time": "2021-07-31T02:11:07.106Z"
   },
   {
    "duration": 6096,
    "start_time": "2021-07-31T02:24:22.120Z"
   },
   {
    "duration": 10,
    "start_time": "2021-07-31T02:24:34.436Z"
   },
   {
    "duration": 306,
    "start_time": "2021-07-31T02:24:35.986Z"
   },
   {
    "duration": 4,
    "start_time": "2021-07-31T02:24:38.447Z"
   },
   {
    "duration": 114,
    "start_time": "2021-07-31T02:24:45.692Z"
   },
   {
    "duration": 5,
    "start_time": "2021-07-31T02:37:35.589Z"
   },
   {
    "duration": 2,
    "start_time": "2021-07-31T02:37:35.846Z"
   },
   {
    "duration": 689,
    "start_time": "2021-07-31T02:37:36.104Z"
   },
   {
    "duration": 56,
    "start_time": "2021-07-31T02:37:36.796Z"
   },
   {
    "duration": 31,
    "start_time": "2021-07-31T02:37:36.854Z"
   },
   {
    "duration": 53,
    "start_time": "2021-07-31T02:37:37.119Z"
   },
   {
    "duration": 214,
    "start_time": "2021-07-31T02:37:37.644Z"
   },
   {
    "duration": 4,
    "start_time": "2021-07-31T02:37:37.993Z"
   },
   {
    "duration": 3,
    "start_time": "2021-07-31T02:37:38.285Z"
   },
   {
    "duration": 2,
    "start_time": "2021-07-31T02:37:38.798Z"
   },
   {
    "duration": 3,
    "start_time": "2021-07-31T02:37:39.212Z"
   },
   {
    "duration": 268,
    "start_time": "2021-07-31T02:37:39.525Z"
   },
   {
    "duration": 2,
    "start_time": "2021-07-31T02:37:40.775Z"
   },
   {
    "duration": 110,
    "start_time": "2021-07-31T02:37:41.114Z"
   },
   {
    "duration": 2,
    "start_time": "2021-07-31T02:37:41.432Z"
   },
   {
    "duration": 2,
    "start_time": "2021-07-31T02:37:41.678Z"
   },
   {
    "duration": 2,
    "start_time": "2021-07-31T02:37:41.943Z"
   },
   {
    "duration": 321,
    "start_time": "2021-07-31T02:37:42.169Z"
   },
   {
    "duration": 2,
    "start_time": "2021-07-31T02:37:44.386Z"
   },
   {
    "duration": 6,
    "start_time": "2021-07-31T02:37:44.670Z"
   },
   {
    "duration": 308,
    "start_time": "2021-07-31T02:37:46.438Z"
   },
   {
    "duration": 5,
    "start_time": "2021-07-31T02:37:47.676Z"
   },
   {
    "duration": 114,
    "start_time": "2021-07-31T02:37:47.968Z"
   },
   {
    "duration": 5,
    "start_time": "2021-07-31T02:37:49.326Z"
   },
   {
    "duration": 2,
    "start_time": "2021-07-31T02:37:49.568Z"
   },
   {
    "duration": 2,
    "start_time": "2021-07-31T02:37:50.827Z"
   },
   {
    "duration": 15,
    "start_time": "2021-07-31T02:37:51.045Z"
   },
   {
    "duration": 18,
    "start_time": "2021-07-31T02:37:53.710Z"
   },
   {
    "duration": 11,
    "start_time": "2021-07-31T02:37:54.752Z"
   },
   {
    "duration": 3,
    "start_time": "2021-07-31T02:37:56.475Z"
   },
   {
    "duration": 34,
    "start_time": "2021-07-31T02:37:56.948Z"
   },
   {
    "duration": 5,
    "start_time": "2021-07-31T02:37:58.355Z"
   },
   {
    "duration": 4,
    "start_time": "2021-07-31T02:38:00.127Z"
   },
   {
    "duration": 2,
    "start_time": "2021-07-31T02:38:03.420Z"
   },
   {
    "duration": 2,
    "start_time": "2021-07-31T02:38:03.861Z"
   },
   {
    "duration": 3,
    "start_time": "2021-07-31T02:38:04.101Z"
   },
   {
    "duration": 1747,
    "start_time": "2021-07-31T02:38:04.336Z"
   },
   {
    "duration": 1179,
    "start_time": "2021-07-31T02:38:06.085Z"
   },
   {
    "duration": 14,
    "start_time": "2021-07-31T02:40:04.551Z"
   },
   {
    "duration": 5,
    "start_time": "2021-07-31T02:51:49.362Z"
   },
   {
    "duration": 4,
    "start_time": "2021-07-31T02:55:42.902Z"
   },
   {
    "duration": 3,
    "start_time": "2021-07-31T02:55:43.164Z"
   },
   {
    "duration": 694,
    "start_time": "2021-07-31T02:55:43.435Z"
   },
   {
    "duration": 3523,
    "start_time": "2021-07-31T02:55:54.282Z"
   },
   {
    "duration": 4607,
    "start_time": "2021-07-31T02:56:06.783Z"
   },
   {
    "duration": 2507,
    "start_time": "2021-07-31T02:56:11.391Z"
   },
   {
    "duration": 2017,
    "start_time": "2021-07-31T02:57:20.548Z"
   },
   {
    "duration": 1553,
    "start_time": "2021-07-31T02:57:24.088Z"
   },
   {
    "duration": 3720,
    "start_time": "2021-07-31T02:58:04.848Z"
   },
   {
    "duration": 3731,
    "start_time": "2021-07-31T02:58:22.828Z"
   },
   {
    "duration": 3463,
    "start_time": "2021-07-31T02:58:41.221Z"
   },
   {
    "duration": 1179,
    "start_time": "2021-07-31T03:03:41.966Z"
   },
   {
    "duration": 3,
    "start_time": "2021-07-31T03:03:43.147Z"
   },
   {
    "duration": 713,
    "start_time": "2021-07-31T03:03:43.151Z"
   },
   {
    "duration": 53,
    "start_time": "2021-07-31T03:03:43.866Z"
   },
   {
    "duration": 33,
    "start_time": "2021-07-31T03:03:44.650Z"
   },
   {
    "duration": 51,
    "start_time": "2021-07-31T03:03:45.244Z"
   },
   {
    "duration": 228,
    "start_time": "2021-07-31T03:03:47.391Z"
   },
   {
    "duration": 3,
    "start_time": "2021-07-31T03:03:54.079Z"
   },
   {
    "duration": 3,
    "start_time": "2021-07-31T03:03:54.384Z"
   },
   {
    "duration": 2,
    "start_time": "2021-07-31T03:03:54.757Z"
   },
   {
    "duration": 256,
    "start_time": "2021-07-31T03:03:57.000Z"
   },
   {
    "duration": 3,
    "start_time": "2021-07-31T03:03:58.747Z"
   },
   {
    "duration": 117,
    "start_time": "2021-07-31T03:04:02.505Z"
   },
   {
    "duration": 3,
    "start_time": "2021-07-31T03:04:08.798Z"
   },
   {
    "duration": 3,
    "start_time": "2021-07-31T03:04:09.014Z"
   },
   {
    "duration": 3,
    "start_time": "2021-07-31T03:04:09.221Z"
   },
   {
    "duration": 253,
    "start_time": "2021-07-31T03:04:09.425Z"
   },
   {
    "duration": 2,
    "start_time": "2021-07-31T03:04:12.166Z"
   },
   {
    "duration": 10,
    "start_time": "2021-07-31T03:04:12.357Z"
   },
   {
    "duration": 314,
    "start_time": "2021-07-31T03:04:12.829Z"
   },
   {
    "duration": 4,
    "start_time": "2021-07-31T03:04:15.062Z"
   },
   {
    "duration": 121,
    "start_time": "2021-07-31T03:04:15.287Z"
   },
   {
    "duration": 6,
    "start_time": "2021-07-31T03:04:22.982Z"
   },
   {
    "duration": 3,
    "start_time": "2021-07-31T03:04:28.964Z"
   },
   {
    "duration": 3,
    "start_time": "2021-07-31T03:05:47.972Z"
   },
   {
    "duration": 2,
    "start_time": "2021-07-31T03:05:55.495Z"
   },
   {
    "duration": 14,
    "start_time": "2021-07-31T03:05:55.850Z"
   },
   {
    "duration": 17,
    "start_time": "2021-07-31T03:05:58.266Z"
   },
   {
    "duration": 12,
    "start_time": "2021-07-31T03:05:58.978Z"
   },
   {
    "duration": 3,
    "start_time": "2021-07-31T03:05:59.562Z"
   },
   {
    "duration": 36,
    "start_time": "2021-07-31T03:06:00.104Z"
   },
   {
    "duration": 6,
    "start_time": "2021-07-31T03:06:00.714Z"
   },
   {
    "duration": 4,
    "start_time": "2021-07-31T03:06:00.985Z"
   },
   {
    "duration": 2,
    "start_time": "2021-07-31T03:06:19.792Z"
   },
   {
    "duration": 3,
    "start_time": "2021-07-31T03:06:20.405Z"
   },
   {
    "duration": 3,
    "start_time": "2021-07-31T03:06:30.193Z"
   },
   {
    "duration": 3526,
    "start_time": "2021-07-31T03:06:31.453Z"
   },
   {
    "duration": 1922,
    "start_time": "2021-07-31T03:06:34.981Z"
   },
   {
    "duration": 1535,
    "start_time": "2021-07-31T03:06:36.905Z"
   },
   {
    "duration": 2510,
    "start_time": "2021-07-31T03:06:38.442Z"
   },
   {
    "duration": 351,
    "start_time": "2021-07-31T03:09:20.256Z"
   },
   {
    "duration": 245,
    "start_time": "2021-07-31T03:09:32.711Z"
   },
   {
    "duration": 251,
    "start_time": "2021-07-31T03:10:13.025Z"
   },
   {
    "duration": 262,
    "start_time": "2021-07-31T03:10:49.221Z"
   },
   {
    "duration": 240,
    "start_time": "2021-07-31T03:10:57.312Z"
   },
   {
    "duration": 336,
    "start_time": "2021-07-31T03:11:12.553Z"
   },
   {
    "duration": 4,
    "start_time": "2021-07-31T03:11:40.367Z"
   },
   {
    "duration": 3,
    "start_time": "2021-07-31T03:11:40.769Z"
   },
   {
    "duration": 696,
    "start_time": "2021-07-31T03:11:41.155Z"
   },
   {
    "duration": 51,
    "start_time": "2021-07-31T03:11:41.853Z"
   },
   {
    "duration": 49,
    "start_time": "2021-07-31T03:11:41.906Z"
   },
   {
    "duration": 50,
    "start_time": "2021-07-31T03:11:42.147Z"
   },
   {
    "duration": 220,
    "start_time": "2021-07-31T03:11:42.372Z"
   },
   {
    "duration": 4,
    "start_time": "2021-07-31T03:11:42.594Z"
   },
   {
    "duration": 2,
    "start_time": "2021-07-31T03:11:42.801Z"
   },
   {
    "duration": 2,
    "start_time": "2021-07-31T03:11:42.981Z"
   },
   {
    "duration": 3,
    "start_time": "2021-07-31T03:11:43.181Z"
   },
   {
    "duration": 261,
    "start_time": "2021-07-31T03:11:43.393Z"
   },
   {
    "duration": 2,
    "start_time": "2021-07-31T03:11:43.656Z"
   },
   {
    "duration": 2,
    "start_time": "2021-07-31T03:11:43.783Z"
   },
   {
    "duration": 2,
    "start_time": "2021-07-31T03:11:43.962Z"
   },
   {
    "duration": 2,
    "start_time": "2021-07-31T03:11:44.145Z"
   },
   {
    "duration": 268,
    "start_time": "2021-07-31T03:11:44.340Z"
   },
   {
    "duration": 2,
    "start_time": "2021-07-31T03:12:31.141Z"
   },
   {
    "duration": 5,
    "start_time": "2021-07-31T03:12:31.333Z"
   },
   {
    "duration": 300,
    "start_time": "2021-07-31T03:12:31.703Z"
   },
   {
    "duration": 4,
    "start_time": "2021-07-31T03:12:32.034Z"
   },
   {
    "duration": 111,
    "start_time": "2021-07-31T03:12:32.216Z"
   },
   {
    "duration": 3,
    "start_time": "2021-07-31T03:12:32.726Z"
   },
   {
    "duration": 3,
    "start_time": "2021-07-31T03:12:35.069Z"
   },
   {
    "duration": 15,
    "start_time": "2021-07-31T03:12:35.248Z"
   },
   {
    "duration": 15,
    "start_time": "2021-07-31T03:12:35.803Z"
   },
   {
    "duration": 12,
    "start_time": "2021-07-31T03:12:36.156Z"
   },
   {
    "duration": 3,
    "start_time": "2021-07-31T03:12:36.511Z"
   },
   {
    "duration": 29,
    "start_time": "2021-07-31T03:12:36.889Z"
   },
   {
    "duration": 6,
    "start_time": "2021-07-31T03:12:37.252Z"
   },
   {
    "duration": 4,
    "start_time": "2021-07-31T03:12:38.091Z"
   },
   {
    "duration": 3,
    "start_time": "2021-07-31T03:12:45.065Z"
   },
   {
    "duration": 2,
    "start_time": "2021-07-31T03:12:45.484Z"
   },
   {
    "duration": 3,
    "start_time": "2021-07-31T03:12:45.701Z"
   },
   {
    "duration": 3571,
    "start_time": "2021-07-31T03:12:46.587Z"
   },
   {
    "duration": 1880,
    "start_time": "2021-07-31T03:12:50.160Z"
   },
   {
    "duration": 1563,
    "start_time": "2021-07-31T03:12:52.043Z"
   },
   {
    "duration": 2648,
    "start_time": "2021-07-31T03:12:53.608Z"
   },
   {
    "duration": 5,
    "start_time": "2021-07-31T03:12:56.258Z"
   },
   {
    "duration": 880,
    "start_time": "2021-07-31T03:12:56.265Z"
   },
   {
    "duration": 1116,
    "start_time": "2021-07-31T03:12:57.146Z"
   },
   {
    "duration": 963,
    "start_time": "2021-07-31T03:12:58.264Z"
   },
   {
    "duration": 730,
    "start_time": "2021-07-31T03:13:18.732Z"
   },
   {
    "duration": 699,
    "start_time": "2021-07-31T03:16:00.148Z"
   },
   {
    "duration": 534,
    "start_time": "2021-07-31T03:16:17.729Z"
   },
   {
    "duration": 541,
    "start_time": "2021-07-31T03:16:29.305Z"
   },
   {
    "duration": 6,
    "start_time": "2021-07-31T03:16:37.094Z"
   },
   {
    "duration": 980,
    "start_time": "2021-07-31T03:16:45.416Z"
   },
   {
    "duration": 4,
    "start_time": "2021-07-31T03:17:06.080Z"
   },
   {
    "duration": 7,
    "start_time": "2021-07-31T03:17:06.925Z"
   },
   {
    "duration": 57,
    "start_time": "2021-07-31T03:17:12.345Z"
   },
   {
    "duration": 54,
    "start_time": "2021-07-31T03:17:13.191Z"
   },
   {
    "duration": 28,
    "start_time": "2021-07-31T03:17:18.033Z"
   },
   {
    "duration": 250,
    "start_time": "2021-07-31T03:17:19.326Z"
   },
   {
    "duration": 10,
    "start_time": "2021-07-31T03:17:41.175Z"
   },
   {
    "duration": 7,
    "start_time": "2021-07-31T03:17:43.757Z"
   },
   {
    "duration": 29,
    "start_time": "2021-07-31T03:17:44.740Z"
   },
   {
    "duration": 3,
    "start_time": "2021-07-31T03:17:46.929Z"
   },
   {
    "duration": 4,
    "start_time": "2021-07-31T03:17:50.866Z"
   },
   {
    "duration": 3,
    "start_time": "2021-07-31T03:17:52.533Z"
   },
   {
    "duration": 261,
    "start_time": "2021-07-31T03:17:54.182Z"
   },
   {
    "duration": 3,
    "start_time": "2021-07-31T03:18:16.936Z"
   },
   {
    "duration": 8086,
    "start_time": "2021-07-31T03:18:22.857Z"
   },
   {
    "duration": 39332,
    "start_time": "2021-07-31T03:21:58.340Z"
   },
   {
    "duration": 9869,
    "start_time": "2021-07-31T03:22:37.673Z"
   },
   {
    "duration": 97,
    "start_time": "2021-07-31T03:24:09.188Z"
   },
   {
    "duration": 258,
    "start_time": "2021-07-31T03:24:24.533Z"
   },
   {
    "duration": 7,
    "start_time": "2021-07-31T03:24:31.808Z"
   },
   {
    "duration": 2363,
    "start_time": "2021-07-31T03:24:32.785Z"
   },
   {
    "duration": 4,
    "start_time": "2021-07-31T03:28:10.691Z"
   },
   {
    "duration": 15196,
    "start_time": "2021-07-31T03:28:12.154Z"
   },
   {
    "duration": 81725,
    "start_time": "2021-07-31T03:28:27.443Z"
   },
   {
    "duration": 23372,
    "start_time": "2021-07-31T03:29:49.170Z"
   },
   {
    "duration": 5,
    "start_time": "2021-07-31T03:32:16.626Z"
   },
   {
    "duration": 6879,
    "start_time": "2021-07-31T03:32:17.768Z"
   },
   {
    "duration": 4,
    "start_time": "2021-07-31T03:40:19.041Z"
   },
   {
    "duration": 6,
    "start_time": "2021-07-31T03:40:24.072Z"
   },
   {
    "duration": 6987,
    "start_time": "2021-07-31T03:40:26.555Z"
   },
   {
    "duration": 6,
    "start_time": "2021-07-31T03:44:08.126Z"
   },
   {
    "duration": 6964,
    "start_time": "2021-07-31T03:44:09.981Z"
   },
   {
    "duration": 6,
    "start_time": "2021-07-31T03:46:08.166Z"
   },
   {
    "duration": 6947,
    "start_time": "2021-07-31T03:46:09.295Z"
   },
   {
    "duration": 410,
    "start_time": "2021-07-31T03:46:37.114Z"
   },
   {
    "duration": 286,
    "start_time": "2021-07-31T03:47:17.859Z"
   },
   {
    "duration": 296,
    "start_time": "2021-07-31T04:15:44.551Z"
   },
   {
    "duration": 967,
    "start_time": "2021-07-31T04:16:40.106Z"
   },
   {
    "duration": 946,
    "start_time": "2021-07-31T04:17:05.773Z"
   },
   {
    "duration": 963,
    "start_time": "2021-07-31T04:17:15.162Z"
   },
   {
    "duration": 960,
    "start_time": "2021-07-31T04:18:22.533Z"
   },
   {
    "duration": 693,
    "start_time": "2021-07-31T04:18:54.320Z"
   },
   {
    "duration": 1417,
    "start_time": "2021-07-31T04:23:22.533Z"
   },
   {
    "duration": 300,
    "start_time": "2021-07-31T04:24:25.847Z"
   },
   {
    "duration": 261,
    "start_time": "2021-07-31T04:24:36.684Z"
   },
   {
    "duration": 7,
    "start_time": "2021-07-31T04:25:10.555Z"
   },
   {
    "duration": 1582,
    "start_time": "2021-07-31T04:25:13.161Z"
   },
   {
    "duration": 504,
    "start_time": "2021-07-31T04:26:51.813Z"
   },
   {
    "duration": 470,
    "start_time": "2021-07-31T04:27:10.080Z"
   },
   {
    "duration": 82,
    "start_time": "2021-07-31T04:29:16.722Z"
   },
   {
    "duration": 5,
    "start_time": "2021-07-31T04:29:36.312Z"
   },
   {
    "duration": 5,
    "start_time": "2021-07-31T04:30:39.710Z"
   },
   {
    "duration": 5,
    "start_time": "2021-07-31T04:31:02.353Z"
   },
   {
    "duration": 5,
    "start_time": "2021-07-31T04:31:03.038Z"
   },
   {
    "duration": 248,
    "start_time": "2021-07-31T04:31:07.001Z"
   },
   {
    "duration": 820,
    "start_time": "2021-07-31T04:31:30.025Z"
   },
   {
    "duration": 272,
    "start_time": "2021-07-31T04:32:00.054Z"
   },
   {
    "duration": 5,
    "start_time": "2021-07-31T04:32:19.324Z"
   },
   {
    "duration": 885,
    "start_time": "2021-07-31T04:32:20.157Z"
   },
   {
    "duration": 761,
    "start_time": "2021-07-31T04:32:27.587Z"
   },
   {
    "duration": 6,
    "start_time": "2021-07-31T04:41:51.856Z"
   },
   {
    "duration": 265,
    "start_time": "2021-07-31T04:41:52.916Z"
   },
   {
    "duration": 1355,
    "start_time": "2021-07-31T04:42:18.190Z"
   },
   {
    "duration": 4,
    "start_time": "2021-07-31T04:47:55.667Z"
   },
   {
    "duration": 697,
    "start_time": "2021-07-31T04:47:56.152Z"
   },
   {
    "duration": 797,
    "start_time": "2021-07-31T04:47:57.851Z"
   },
   {
    "duration": 678,
    "start_time": "2021-07-31T04:50:10.528Z"
   },
   {
    "duration": 1278,
    "start_time": "2021-07-31T04:51:34.434Z"
   },
   {
    "duration": 670,
    "start_time": "2021-07-31T04:52:05.063Z"
   },
   {
    "duration": 83,
    "start_time": "2021-07-31T04:52:27.070Z"
   },
   {
    "duration": 674,
    "start_time": "2021-07-31T04:52:33.967Z"
   },
   {
    "duration": 4,
    "start_time": "2021-07-31T04:57:55.499Z"
   },
   {
    "duration": 18,
    "start_time": "2021-07-31T04:57:58.690Z"
   },
   {
    "duration": 4,
    "start_time": "2021-07-31T04:58:21.503Z"
   },
   {
    "duration": 9,
    "start_time": "2021-07-31T04:58:26.082Z"
   },
   {
    "duration": 3353,
    "start_time": "2021-07-31T04:59:42.288Z"
   },
   {
    "duration": 835,
    "start_time": "2021-07-31T04:59:53.414Z"
   },
   {
    "duration": 3763,
    "start_time": "2021-07-31T05:00:26.480Z"
   },
   {
    "duration": 3,
    "start_time": "2021-07-31T05:02:48.328Z"
   },
   {
    "duration": 9,
    "start_time": "2021-07-31T05:02:49.403Z"
   },
   {
    "duration": 4,
    "start_time": "2021-07-31T05:04:04.728Z"
   },
   {
    "duration": 272,
    "start_time": "2021-07-31T05:04:05.816Z"
   },
   {
    "duration": 3,
    "start_time": "2021-07-31T05:04:54.152Z"
   },
   {
    "duration": 11,
    "start_time": "2021-07-31T05:04:54.692Z"
   },
   {
    "duration": 4,
    "start_time": "2021-07-31T05:05:30.851Z"
   },
   {
    "duration": 9,
    "start_time": "2021-07-31T05:05:31.789Z"
   },
   {
    "duration": 4,
    "start_time": "2021-07-31T05:05:52.367Z"
   },
   {
    "duration": 9,
    "start_time": "2021-07-31T05:05:52.986Z"
   },
   {
    "duration": 16,
    "start_time": "2021-07-31T05:08:06.636Z"
   },
   {
    "duration": 6,
    "start_time": "2021-07-31T05:08:07.319Z"
   },
   {
    "duration": 5,
    "start_time": "2021-07-31T05:08:08.179Z"
   },
   {
    "duration": 667,
    "start_time": "2021-07-31T05:08:16.043Z"
   },
   {
    "duration": 6,
    "start_time": "2021-07-31T05:12:06.396Z"
   },
   {
    "duration": 6,
    "start_time": "2021-07-31T05:12:07.409Z"
   },
   {
    "duration": 681,
    "start_time": "2021-07-31T05:12:10.809Z"
   },
   {
    "duration": 6,
    "start_time": "2021-07-31T05:13:29.754Z"
   },
   {
    "duration": 6,
    "start_time": "2021-07-31T05:13:31.367Z"
   },
   {
    "duration": 684,
    "start_time": "2021-07-31T05:13:32.838Z"
   },
   {
    "duration": 121,
    "start_time": "2021-07-31T05:19:19.107Z"
   },
   {
    "duration": 98,
    "start_time": "2021-07-31T05:19:31.361Z"
   },
   {
    "duration": 116,
    "start_time": "2021-07-31T05:20:11.787Z"
   },
   {
    "duration": 79,
    "start_time": "2021-07-31T05:20:20.925Z"
   },
   {
    "duration": 3,
    "start_time": "2021-07-31T05:20:43.306Z"
   },
   {
    "duration": 676,
    "start_time": "2021-07-31T05:20:44.992Z"
   },
   {
    "duration": 660,
    "start_time": "2021-07-31T05:21:26.877Z"
   },
   {
    "duration": 3,
    "start_time": "2021-07-31T05:31:50.147Z"
   },
   {
    "duration": 6,
    "start_time": "2021-07-31T05:37:39.907Z"
   },
   {
    "duration": 310,
    "start_time": "2021-07-31T05:37:42.025Z"
   },
   {
    "duration": 10,
    "start_time": "2021-07-31T05:53:53.997Z"
   },
   {
    "duration": 3,
    "start_time": "2021-07-31T05:54:17.471Z"
   },
   {
    "duration": 1002,
    "start_time": "2021-07-31T06:15:36.255Z"
   },
   {
    "duration": 555,
    "start_time": "2021-07-31T06:21:05.133Z"
   },
   {
    "duration": 589,
    "start_time": "2021-07-31T06:23:00.677Z"
   },
   {
    "duration": 574,
    "start_time": "2021-07-31T06:23:19.427Z"
   },
   {
    "duration": 728,
    "start_time": "2021-07-31T06:23:27.001Z"
   },
   {
    "duration": 549,
    "start_time": "2021-07-31T06:24:35.735Z"
   },
   {
    "duration": 577,
    "start_time": "2021-07-31T06:25:11.744Z"
   },
   {
    "duration": 6,
    "start_time": "2021-07-31T06:28:25.857Z"
   },
   {
    "duration": 29,
    "start_time": "2021-07-31T06:40:54.944Z"
   },
   {
    "duration": 370,
    "start_time": "2021-07-31T06:41:00.298Z"
   },
   {
    "duration": 9,
    "start_time": "2021-07-31T06:41:00.921Z"
   },
   {
    "duration": 8,
    "start_time": "2021-07-31T06:41:01.161Z"
   },
   {
    "duration": 29,
    "start_time": "2021-07-31T06:41:01.405Z"
   },
   {
    "duration": 2,
    "start_time": "2021-07-31T06:41:01.635Z"
   },
   {
    "duration": 4,
    "start_time": "2021-07-31T07:03:15.387Z"
   },
   {
    "duration": 4,
    "start_time": "2021-07-31T07:03:19.584Z"
   },
   {
    "duration": 3571,
    "start_time": "2021-07-31T07:03:20.270Z"
   },
   {
    "duration": 822,
    "start_time": "2021-07-31T07:03:27.228Z"
   },
   {
    "duration": 92,
    "start_time": "2021-07-31T07:03:28.054Z"
   },
   {
    "duration": 4,
    "start_time": "2021-07-31T07:04:12.719Z"
   },
   {
    "duration": 709,
    "start_time": "2021-07-31T07:04:14.456Z"
   },
   {
    "duration": 3,
    "start_time": "2021-07-31T07:12:41.184Z"
   },
   {
    "duration": 71754,
    "start_time": "2021-07-31T07:14:21.970Z"
   },
   {
    "duration": 1066,
    "start_time": "2021-07-31T07:17:12.375Z"
   },
   {
    "duration": 1103,
    "start_time": "2021-07-31T07:17:17.253Z"
   },
   {
    "duration": 5,
    "start_time": "2021-07-31T07:20:12.680Z"
   },
   {
    "duration": 966,
    "start_time": "2021-07-31T07:20:13.893Z"
   },
   {
    "duration": 1215,
    "start_time": "2021-07-31T07:20:17.238Z"
   },
   {
    "duration": 4,
    "start_time": "2021-07-31T07:21:05.474Z"
   },
   {
    "duration": 11,
    "start_time": "2021-07-31T07:21:07.377Z"
   },
   {
    "duration": 4,
    "start_time": "2021-07-31T07:21:40.754Z"
   },
   {
    "duration": 17202,
    "start_time": "2021-07-31T07:21:43.470Z"
   },
   {
    "duration": 85,
    "start_time": "2021-07-31T07:25:41.470Z"
   },
   {
    "duration": 7,
    "start_time": "2021-07-31T07:26:26.927Z"
   },
   {
    "duration": 6,
    "start_time": "2021-07-31T07:26:27.431Z"
   },
   {
    "duration": 702,
    "start_time": "2021-07-31T07:26:28.710Z"
   },
   {
    "duration": 2,
    "start_time": "2021-07-31T07:34:09.357Z"
   },
   {
    "duration": 3,
    "start_time": "2021-07-31T07:36:56.331Z"
   },
   {
    "duration": 1264,
    "start_time": "2021-07-31T07:36:57.485Z"
   },
   {
    "duration": 863,
    "start_time": "2021-07-31T07:37:28.380Z"
   },
   {
    "duration": 766,
    "start_time": "2021-07-31T07:37:39.389Z"
   },
   {
    "duration": 90,
    "start_time": "2021-07-31T07:41:49.628Z"
   },
   {
    "duration": 79,
    "start_time": "2021-07-31T07:42:12.114Z"
   },
   {
    "duration": 4,
    "start_time": "2021-07-31T07:42:18.585Z"
   },
   {
    "duration": 1336,
    "start_time": "2021-07-31T07:42:20.422Z"
   },
   {
    "duration": 342,
    "start_time": "2021-07-31T07:42:26.300Z"
   },
   {
    "duration": 7,
    "start_time": "2021-07-31T07:42:36.351Z"
   },
   {
    "duration": 729,
    "start_time": "2021-07-31T07:42:37.362Z"
   },
   {
    "duration": 338,
    "start_time": "2021-07-31T07:43:25.510Z"
   },
   {
    "duration": 6,
    "start_time": "2021-07-31T07:43:35.115Z"
   },
   {
    "duration": 6,
    "start_time": "2021-07-31T07:43:35.657Z"
   },
   {
    "duration": 335,
    "start_time": "2021-07-31T07:43:36.311Z"
   },
   {
    "duration": 688,
    "start_time": "2021-07-31T07:43:41.061Z"
   },
   {
    "duration": 638,
    "start_time": "2021-07-31T07:44:15.716Z"
   },
   {
    "duration": 1010,
    "start_time": "2021-07-31T07:44:18.632Z"
   },
   {
    "duration": 5,
    "start_time": "2021-07-31T07:46:36.942Z"
   },
   {
    "duration": 13,
    "start_time": "2021-07-31T07:46:37.447Z"
   },
   {
    "duration": 17115,
    "start_time": "2021-07-31T07:46:38.860Z"
   },
   {
    "duration": 117,
    "start_time": "2021-07-31T08:05:22.594Z"
   },
   {
    "duration": 5,
    "start_time": "2021-07-31T08:05:44.729Z"
   },
   {
    "duration": 433,
    "start_time": "2021-07-31T08:05:46.187Z"
   },
   {
    "duration": 757,
    "start_time": "2021-07-31T08:06:37.194Z"
   },
   {
    "duration": 786,
    "start_time": "2021-07-31T08:10:37.055Z"
   },
   {
    "duration": 92,
    "start_time": "2021-07-31T08:13:23.638Z"
   },
   {
    "duration": 295,
    "start_time": "2021-07-31T08:13:28.394Z"
   },
   {
    "duration": 755,
    "start_time": "2021-07-31T08:13:35.402Z"
   },
   {
    "duration": 908,
    "start_time": "2021-07-31T08:13:36.935Z"
   },
   {
    "duration": 10,
    "start_time": "2021-07-31T08:13:38.777Z"
   },
   {
    "duration": 77,
    "start_time": "2021-07-31T08:14:58.364Z"
   },
   {
    "duration": 694,
    "start_time": "2021-07-31T08:15:23.330Z"
   },
   {
    "duration": 79,
    "start_time": "2021-07-31T08:15:32.007Z"
   },
   {
    "duration": 86,
    "start_time": "2021-07-31T08:16:24.044Z"
   },
   {
    "duration": 94,
    "start_time": "2021-07-31T08:16:50.702Z"
   },
   {
    "duration": 9,
    "start_time": "2021-07-31T08:17:09.166Z"
   },
   {
    "duration": 17,
    "start_time": "2021-07-31T08:17:17.463Z"
   },
   {
    "duration": 654,
    "start_time": "2021-07-31T08:46:00.116Z"
   },
   {
    "duration": 658,
    "start_time": "2021-07-31T08:50:47.183Z"
   },
   {
    "duration": 616,
    "start_time": "2021-07-31T08:51:14.580Z"
   },
   {
    "duration": 610,
    "start_time": "2021-07-31T08:52:21.610Z"
   },
   {
    "duration": 635,
    "start_time": "2021-07-31T08:54:00.059Z"
   },
   {
    "duration": 597,
    "start_time": "2021-07-31T08:54:07.964Z"
   },
   {
    "duration": 720,
    "start_time": "2021-07-31T08:58:05.474Z"
   },
   {
    "duration": 717,
    "start_time": "2021-07-31T08:58:11.104Z"
   },
   {
    "duration": 725,
    "start_time": "2021-07-31T08:58:28.862Z"
   },
   {
    "duration": 722,
    "start_time": "2021-07-31T08:58:40.382Z"
   },
   {
    "duration": 724,
    "start_time": "2021-07-31T08:58:52.382Z"
   },
   {
    "duration": 1196,
    "start_time": "2021-07-31T09:46:23.425Z"
   },
   {
    "duration": 2,
    "start_time": "2021-07-31T09:46:24.623Z"
   },
   {
    "duration": 777,
    "start_time": "2021-07-31T09:46:24.627Z"
   },
   {
    "duration": 71,
    "start_time": "2021-07-31T09:46:25.405Z"
   },
   {
    "duration": 32,
    "start_time": "2021-07-31T09:46:25.477Z"
   },
   {
    "duration": 82,
    "start_time": "2021-07-31T09:46:25.511Z"
   },
   {
    "duration": 271,
    "start_time": "2021-07-31T09:46:25.595Z"
   },
   {
    "duration": 3,
    "start_time": "2021-07-31T09:46:25.869Z"
   },
   {
    "duration": 6,
    "start_time": "2021-07-31T09:46:25.874Z"
   },
   {
    "duration": 4,
    "start_time": "2021-07-31T09:46:25.882Z"
   },
   {
    "duration": 16,
    "start_time": "2021-07-31T09:46:25.888Z"
   },
   {
    "duration": 3,
    "start_time": "2021-07-31T09:46:25.906Z"
   },
   {
    "duration": 10,
    "start_time": "2021-07-31T09:46:25.910Z"
   },
   {
    "duration": 21,
    "start_time": "2021-07-31T09:46:25.921Z"
   },
   {
    "duration": 5,
    "start_time": "2021-07-31T09:46:25.944Z"
   },
   {
    "duration": 5,
    "start_time": "2021-07-31T09:46:25.951Z"
   },
   {
    "duration": 289,
    "start_time": "2021-07-31T09:46:25.958Z"
   },
   {
    "duration": 11,
    "start_time": "2021-07-31T09:46:26.249Z"
   },
   {
    "duration": 340,
    "start_time": "2021-07-31T09:46:26.262Z"
   },
   {
    "duration": 4,
    "start_time": "2021-07-31T09:46:26.604Z"
   },
   {
    "duration": 6,
    "start_time": "2021-07-31T09:46:26.610Z"
   },
   {
    "duration": 32,
    "start_time": "2021-07-31T09:46:26.617Z"
   },
   {
    "duration": 21,
    "start_time": "2021-07-31T09:46:26.653Z"
   },
   {
    "duration": 12,
    "start_time": "2021-07-31T09:46:26.677Z"
   },
   {
    "duration": 56,
    "start_time": "2021-07-31T09:46:26.691Z"
   },
   {
    "duration": 6,
    "start_time": "2021-07-31T09:46:26.749Z"
   },
   {
    "duration": 5,
    "start_time": "2021-07-31T09:46:26.758Z"
   },
   {
    "duration": 6,
    "start_time": "2021-07-31T09:46:26.765Z"
   },
   {
    "duration": 1132,
    "start_time": "2021-07-31T09:46:26.773Z"
   },
   {
    "duration": 1036,
    "start_time": "2021-07-31T09:46:27.908Z"
   },
   {
    "duration": 928,
    "start_time": "2021-07-31T09:46:28.946Z"
   },
   {
    "duration": 709,
    "start_time": "2021-07-31T09:46:29.876Z"
   },
   {
    "duration": 583,
    "start_time": "2021-07-31T09:46:30.586Z"
   },
   {
    "duration": 5,
    "start_time": "2021-07-31T09:46:31.170Z"
   },
   {
    "duration": 912,
    "start_time": "2021-07-31T09:46:31.176Z"
   },
   {
    "duration": 3,
    "start_time": "2021-07-31T09:46:32.090Z"
   },
   {
    "duration": 9,
    "start_time": "2021-07-31T09:46:32.094Z"
   },
   {
    "duration": 72,
    "start_time": "2021-07-31T09:46:32.104Z"
   },
   {
    "duration": 158,
    "start_time": "2021-07-31T09:46:32.177Z"
   },
   {
    "duration": 33,
    "start_time": "2021-07-31T09:46:32.337Z"
   },
   {
    "duration": 277,
    "start_time": "2021-07-31T09:46:32.372Z"
   },
   {
    "duration": 12,
    "start_time": "2021-07-31T09:46:32.652Z"
   },
   {
    "duration": 9,
    "start_time": "2021-07-31T09:46:32.666Z"
   },
   {
    "duration": 34,
    "start_time": "2021-07-31T09:46:32.677Z"
   },
   {
    "duration": 4,
    "start_time": "2021-07-31T09:46:32.712Z"
   },
   {
    "duration": 24,
    "start_time": "2021-07-31T09:46:32.717Z"
   },
   {
    "duration": 356,
    "start_time": "2021-07-31T09:46:32.744Z"
   },
   {
    "duration": -10172,
    "start_time": "2021-07-31T09:46:43.273Z"
   },
   {
    "duration": -10174,
    "start_time": "2021-07-31T09:46:43.276Z"
   },
   {
    "duration": -10177,
    "start_time": "2021-07-31T09:46:43.280Z"
   },
   {
    "duration": -10180,
    "start_time": "2021-07-31T09:46:43.284Z"
   },
   {
    "duration": -10183,
    "start_time": "2021-07-31T09:46:43.288Z"
   },
   {
    "duration": -10233,
    "start_time": "2021-07-31T09:46:43.338Z"
   },
   {
    "duration": -10239,
    "start_time": "2021-07-31T09:46:43.345Z"
   },
   {
    "duration": -10244,
    "start_time": "2021-07-31T09:46:43.351Z"
   },
   {
    "duration": -10250,
    "start_time": "2021-07-31T09:46:43.358Z"
   },
   {
    "duration": -10254,
    "start_time": "2021-07-31T09:46:43.362Z"
   },
   {
    "duration": -10256,
    "start_time": "2021-07-31T09:46:43.365Z"
   },
   {
    "duration": -10258,
    "start_time": "2021-07-31T09:46:43.368Z"
   },
   {
    "duration": 37,
    "start_time": "2021-07-31T09:52:19.437Z"
   },
   {
    "duration": 3,
    "start_time": "2021-07-31T09:52:27.183Z"
   },
   {
    "duration": 19879,
    "start_time": "2021-07-31T09:52:28.066Z"
   },
   {
    "duration": 73656,
    "start_time": "2021-07-31T09:52:54.721Z"
   },
   {
    "duration": 21449,
    "start_time": "2021-07-31T09:58:08.393Z"
   },
   {
    "duration": 4,
    "start_time": "2021-07-31T09:59:08.663Z"
   },
   {
    "duration": 719,
    "start_time": "2021-07-31T09:59:09.343Z"
   },
   {
    "duration": -10203,
    "start_time": "2021-07-31T09:59:20.267Z"
   },
   {
    "duration": 6,
    "start_time": "2021-07-31T10:00:08.742Z"
   },
   {
    "duration": 5,
    "start_time": "2021-07-31T10:00:19.429Z"
   },
   {
    "duration": 962,
    "start_time": "2021-07-31T10:00:24.181Z"
   },
   {
    "duration": 656,
    "start_time": "2021-07-31T10:00:27.098Z"
   },
   {
    "duration": 17,
    "start_time": "2021-07-31T10:00:28.692Z"
   },
   {
    "duration": 4,
    "start_time": "2021-07-31T10:00:33.929Z"
   },
   {
    "duration": 547,
    "start_time": "2021-07-31T10:00:35.990Z"
   },
   {
    "duration": 4,
    "start_time": "2021-07-31T10:52:06.854Z"
   },
   {
    "duration": 798,
    "start_time": "2021-07-31T10:52:07.739Z"
   },
   {
    "duration": 4,
    "start_time": "2021-07-31T10:54:49.685Z"
   },
   {
    "duration": 10,
    "start_time": "2021-07-31T10:54:52.470Z"
   },
   {
    "duration": 17,
    "start_time": "2021-07-31T10:55:13.056Z"
   },
   {
    "duration": 5,
    "start_time": "2021-07-31T10:56:29.446Z"
   },
   {
    "duration": 273,
    "start_time": "2021-07-31T10:56:31.564Z"
   },
   {
    "duration": 17163,
    "start_time": "2021-07-31T10:56:44.519Z"
   },
   {
    "duration": 6,
    "start_time": "2021-07-31T10:57:17.898Z"
   },
   {
    "duration": 5,
    "start_time": "2021-07-31T10:57:18.470Z"
   },
   {
    "duration": 694,
    "start_time": "2021-07-31T10:57:19.123Z"
   },
   {
    "duration": 1193,
    "start_time": "2021-07-31T10:58:29.561Z"
   },
   {
    "duration": 2,
    "start_time": "2021-07-31T10:58:30.756Z"
   },
   {
    "duration": 705,
    "start_time": "2021-07-31T10:58:30.760Z"
   },
   {
    "duration": 51,
    "start_time": "2021-07-31T10:58:31.467Z"
   },
   {
    "duration": 39,
    "start_time": "2021-07-31T10:58:31.520Z"
   },
   {
    "duration": 49,
    "start_time": "2021-07-31T10:58:31.561Z"
   },
   {
    "duration": 245,
    "start_time": "2021-07-31T10:58:31.611Z"
   },
   {
    "duration": 2,
    "start_time": "2021-07-31T10:58:31.859Z"
   },
   {
    "duration": 8,
    "start_time": "2021-07-31T10:58:31.863Z"
   },
   {
    "duration": 10,
    "start_time": "2021-07-31T10:58:31.873Z"
   },
   {
    "duration": 26,
    "start_time": "2021-07-31T10:58:31.885Z"
   },
   {
    "duration": 2,
    "start_time": "2021-07-31T10:58:31.912Z"
   },
   {
    "duration": 7,
    "start_time": "2021-07-31T10:58:31.916Z"
   },
   {
    "duration": 11,
    "start_time": "2021-07-31T10:58:31.925Z"
   },
   {
    "duration": 7,
    "start_time": "2021-07-31T10:58:31.937Z"
   },
   {
    "duration": 8,
    "start_time": "2021-07-31T10:58:31.946Z"
   },
   {
    "duration": 265,
    "start_time": "2021-07-31T10:58:31.955Z"
   },
   {
    "duration": 9,
    "start_time": "2021-07-31T10:58:32.222Z"
   },
   {
    "duration": 323,
    "start_time": "2021-07-31T10:58:32.241Z"
   },
   {
    "duration": 342,
    "start_time": "2021-07-31T10:58:32.565Z"
   },
   {
    "duration": -10264,
    "start_time": "2021-07-31T10:58:43.173Z"
   },
   {
    "duration": -10268,
    "start_time": "2021-07-31T10:58:43.178Z"
   },
   {
    "duration": -10272,
    "start_time": "2021-07-31T10:58:43.183Z"
   },
   {
    "duration": -10274,
    "start_time": "2021-07-31T10:58:43.186Z"
   },
   {
    "duration": -10276,
    "start_time": "2021-07-31T10:58:43.189Z"
   },
   {
    "duration": -10277,
    "start_time": "2021-07-31T10:58:43.191Z"
   },
   {
    "duration": -10280,
    "start_time": "2021-07-31T10:58:43.195Z"
   },
   {
    "duration": -10282,
    "start_time": "2021-07-31T10:58:43.197Z"
   },
   {
    "duration": -10285,
    "start_time": "2021-07-31T10:58:43.201Z"
   },
   {
    "duration": -10287,
    "start_time": "2021-07-31T10:58:43.204Z"
   },
   {
    "duration": -10289,
    "start_time": "2021-07-31T10:58:43.207Z"
   },
   {
    "duration": -10291,
    "start_time": "2021-07-31T10:58:43.210Z"
   },
   {
    "duration": -10293,
    "start_time": "2021-07-31T10:58:43.213Z"
   },
   {
    "duration": -10295,
    "start_time": "2021-07-31T10:58:43.216Z"
   },
   {
    "duration": -10297,
    "start_time": "2021-07-31T10:58:43.219Z"
   },
   {
    "duration": -10299,
    "start_time": "2021-07-31T10:58:43.222Z"
   },
   {
    "duration": -10302,
    "start_time": "2021-07-31T10:58:43.225Z"
   },
   {
    "duration": -10309,
    "start_time": "2021-07-31T10:58:43.233Z"
   },
   {
    "duration": -10312,
    "start_time": "2021-07-31T10:58:43.237Z"
   },
   {
    "duration": -10315,
    "start_time": "2021-07-31T10:58:43.241Z"
   },
   {
    "duration": -10317,
    "start_time": "2021-07-31T10:58:43.244Z"
   },
   {
    "duration": -10320,
    "start_time": "2021-07-31T10:58:43.247Z"
   },
   {
    "duration": -10322,
    "start_time": "2021-07-31T10:58:43.250Z"
   },
   {
    "duration": -10324,
    "start_time": "2021-07-31T10:58:43.253Z"
   },
   {
    "duration": -10326,
    "start_time": "2021-07-31T10:58:43.256Z"
   },
   {
    "duration": -10328,
    "start_time": "2021-07-31T10:58:43.259Z"
   },
   {
    "duration": -10330,
    "start_time": "2021-07-31T10:58:43.262Z"
   },
   {
    "duration": -10332,
    "start_time": "2021-07-31T10:58:43.265Z"
   },
   {
    "duration": -10334,
    "start_time": "2021-07-31T10:58:43.268Z"
   },
   {
    "duration": -10335,
    "start_time": "2021-07-31T10:58:43.270Z"
   },
   {
    "duration": -10338,
    "start_time": "2021-07-31T10:58:43.274Z"
   },
   {
    "duration": -10340,
    "start_time": "2021-07-31T10:58:43.276Z"
   },
   {
    "duration": -10342,
    "start_time": "2021-07-31T10:58:43.279Z"
   },
   {
    "duration": -10344,
    "start_time": "2021-07-31T10:58:43.282Z"
   },
   {
    "duration": -10346,
    "start_time": "2021-07-31T10:58:43.285Z"
   },
   {
    "duration": -10348,
    "start_time": "2021-07-31T10:58:43.288Z"
   },
   {
    "duration": -10349,
    "start_time": "2021-07-31T10:58:43.290Z"
   },
   {
    "duration": -10352,
    "start_time": "2021-07-31T10:58:43.293Z"
   },
   {
    "duration": -10354,
    "start_time": "2021-07-31T10:58:43.296Z"
   },
   {
    "duration": 1192,
    "start_time": "2021-07-31T11:03:28.842Z"
   },
   {
    "duration": 3,
    "start_time": "2021-07-31T11:03:30.036Z"
   },
   {
    "duration": 722,
    "start_time": "2021-07-31T11:03:30.041Z"
   },
   {
    "duration": 57,
    "start_time": "2021-07-31T11:03:30.765Z"
   },
   {
    "duration": 53,
    "start_time": "2021-07-31T11:03:30.824Z"
   },
   {
    "duration": 50,
    "start_time": "2021-07-31T11:03:30.879Z"
   },
   {
    "duration": 245,
    "start_time": "2021-07-31T11:03:30.941Z"
   },
   {
    "duration": 3,
    "start_time": "2021-07-31T11:03:31.188Z"
   },
   {
    "duration": 9,
    "start_time": "2021-07-31T11:03:31.193Z"
   },
   {
    "duration": 18,
    "start_time": "2021-07-31T11:03:31.203Z"
   },
   {
    "duration": 35,
    "start_time": "2021-07-31T11:03:31.222Z"
   },
   {
    "duration": 15,
    "start_time": "2021-07-31T11:03:31.259Z"
   },
   {
    "duration": 15,
    "start_time": "2021-07-31T11:03:31.276Z"
   },
   {
    "duration": 18,
    "start_time": "2021-07-31T11:03:31.293Z"
   },
   {
    "duration": 17,
    "start_time": "2021-07-31T11:03:31.313Z"
   },
   {
    "duration": 15,
    "start_time": "2021-07-31T11:03:31.332Z"
   },
   {
    "duration": 265,
    "start_time": "2021-07-31T11:03:31.349Z"
   },
   {
    "duration": 11,
    "start_time": "2021-07-31T11:03:31.615Z"
   },
   {
    "duration": 317,
    "start_time": "2021-07-31T11:03:31.628Z"
   },
   {
    "duration": 4,
    "start_time": "2021-07-31T11:03:31.947Z"
   },
   {
    "duration": 6,
    "start_time": "2021-07-31T11:03:31.952Z"
   },
   {
    "duration": 16,
    "start_time": "2021-07-31T11:03:31.959Z"
   },
   {
    "duration": 20,
    "start_time": "2021-07-31T11:03:31.978Z"
   },
   {
    "duration": 42,
    "start_time": "2021-07-31T11:03:32.000Z"
   },
   {
    "duration": 36,
    "start_time": "2021-07-31T11:03:32.044Z"
   },
   {
    "duration": 7,
    "start_time": "2021-07-31T11:03:32.081Z"
   },
   {
    "duration": 6,
    "start_time": "2021-07-31T11:03:32.089Z"
   },
   {
    "duration": 7,
    "start_time": "2021-07-31T11:03:32.097Z"
   },
   {
    "duration": 963,
    "start_time": "2021-07-31T11:03:32.106Z"
   },
   {
    "duration": 860,
    "start_time": "2021-07-31T11:03:33.070Z"
   },
   {
    "duration": 967,
    "start_time": "2021-07-31T11:03:33.932Z"
   },
   {
    "duration": 535,
    "start_time": "2021-07-31T11:03:34.901Z"
   },
   {
    "duration": 536,
    "start_time": "2021-07-31T11:03:35.440Z"
   },
   {
    "duration": 5,
    "start_time": "2021-07-31T11:03:35.977Z"
   },
   {
    "duration": 961,
    "start_time": "2021-07-31T11:03:35.983Z"
   },
   {
    "duration": 4,
    "start_time": "2021-07-31T11:03:36.946Z"
   },
   {
    "duration": 9,
    "start_time": "2021-07-31T11:03:36.952Z"
   },
   {
    "duration": 52,
    "start_time": "2021-07-31T11:03:36.962Z"
   },
   {
    "duration": 75,
    "start_time": "2021-07-31T11:03:37.016Z"
   },
   {
    "duration": 26,
    "start_time": "2021-07-31T11:03:37.093Z"
   },
   {
    "duration": 269,
    "start_time": "2021-07-31T11:03:37.121Z"
   },
   {
    "duration": 8,
    "start_time": "2021-07-31T11:03:37.392Z"
   },
   {
    "duration": 10,
    "start_time": "2021-07-31T11:03:37.401Z"
   },
   {
    "duration": 52,
    "start_time": "2021-07-31T11:03:37.412Z"
   },
   {
    "duration": 4,
    "start_time": "2021-07-31T11:03:37.465Z"
   },
   {
    "duration": 22,
    "start_time": "2021-07-31T11:03:37.470Z"
   },
   {
    "duration": 14749,
    "start_time": "2021-07-31T11:03:37.493Z"
   },
   {
    "duration": 69220,
    "start_time": "2021-07-31T11:03:52.244Z"
   },
   {
    "duration": 20677,
    "start_time": "2021-07-31T11:05:01.465Z"
   },
   {
    "duration": 6,
    "start_time": "2021-07-31T11:05:22.145Z"
   },
   {
    "duration": 1090,
    "start_time": "2021-07-31T11:05:22.153Z"
   },
   {
    "duration": 1297,
    "start_time": "2021-07-31T11:05:23.245Z"
   },
   {
    "duration": 16,
    "start_time": "2021-07-31T11:05:24.544Z"
   },
   {
    "duration": 3,
    "start_time": "2021-07-31T11:05:24.562Z"
   },
   {
    "duration": 8,
    "start_time": "2021-07-31T11:05:24.566Z"
   },
   {
    "duration": 16409,
    "start_time": "2021-07-31T11:05:24.576Z"
   },
   {
    "duration": 7,
    "start_time": "2021-07-31T11:05:40.986Z"
   },
   {
    "duration": 23,
    "start_time": "2021-07-31T11:05:40.994Z"
   },
   {
    "duration": 699,
    "start_time": "2021-07-31T11:05:41.019Z"
   },
   {
    "duration": 1118,
    "start_time": "2021-07-31T11:14:53.960Z"
   },
   {
    "duration": 2,
    "start_time": "2021-07-31T11:14:55.080Z"
   },
   {
    "duration": 682,
    "start_time": "2021-07-31T11:14:55.085Z"
   },
   {
    "duration": 53,
    "start_time": "2021-07-31T11:14:55.768Z"
   },
   {
    "duration": 49,
    "start_time": "2021-07-31T11:14:55.823Z"
   },
   {
    "duration": 47,
    "start_time": "2021-07-31T11:14:55.874Z"
   },
   {
    "duration": 250,
    "start_time": "2021-07-31T11:14:55.923Z"
   },
   {
    "duration": 2,
    "start_time": "2021-07-31T11:14:56.176Z"
   },
   {
    "duration": 14,
    "start_time": "2021-07-31T11:14:56.180Z"
   },
   {
    "duration": 22,
    "start_time": "2021-07-31T11:14:56.196Z"
   },
   {
    "duration": 22,
    "start_time": "2021-07-31T11:14:56.219Z"
   },
   {
    "duration": 4,
    "start_time": "2021-07-31T11:14:56.243Z"
   },
   {
    "duration": 9,
    "start_time": "2021-07-31T11:14:56.249Z"
   },
   {
    "duration": 8,
    "start_time": "2021-07-31T11:14:56.260Z"
   },
   {
    "duration": 19,
    "start_time": "2021-07-31T11:14:56.270Z"
   },
   {
    "duration": 10,
    "start_time": "2021-07-31T11:14:56.291Z"
   },
   {
    "duration": 272,
    "start_time": "2021-07-31T11:14:56.302Z"
   },
   {
    "duration": 9,
    "start_time": "2021-07-31T11:14:56.575Z"
   },
   {
    "duration": 312,
    "start_time": "2021-07-31T11:14:56.585Z"
   },
   {
    "duration": 4,
    "start_time": "2021-07-31T11:14:56.898Z"
   },
   {
    "duration": 14,
    "start_time": "2021-07-31T11:14:56.903Z"
   },
   {
    "duration": 17,
    "start_time": "2021-07-31T11:14:56.918Z"
   },
   {
    "duration": 24,
    "start_time": "2021-07-31T11:14:56.938Z"
   },
   {
    "duration": 11,
    "start_time": "2021-07-31T11:14:56.964Z"
   },
   {
    "duration": 45,
    "start_time": "2021-07-31T11:14:56.976Z"
   },
   {
    "duration": 5,
    "start_time": "2021-07-31T11:14:57.023Z"
   },
   {
    "duration": 12,
    "start_time": "2021-07-31T11:14:57.029Z"
   },
   {
    "duration": 17,
    "start_time": "2021-07-31T11:14:57.043Z"
   },
   {
    "duration": 933,
    "start_time": "2021-07-31T11:14:57.061Z"
   },
   {
    "duration": 858,
    "start_time": "2021-07-31T11:14:57.995Z"
   },
   {
    "duration": 969,
    "start_time": "2021-07-31T11:14:58.856Z"
   },
   {
    "duration": 576,
    "start_time": "2021-07-31T11:14:59.827Z"
   },
   {
    "duration": 549,
    "start_time": "2021-07-31T11:15:00.405Z"
   },
   {
    "duration": 5,
    "start_time": "2021-07-31T11:15:00.955Z"
   },
   {
    "duration": 1143,
    "start_time": "2021-07-31T11:15:00.962Z"
   },
   {
    "duration": 4,
    "start_time": "2021-07-31T11:15:02.107Z"
   },
   {
    "duration": 9,
    "start_time": "2021-07-31T11:15:02.113Z"
   },
   {
    "duration": 68,
    "start_time": "2021-07-31T11:15:02.124Z"
   },
   {
    "duration": 70,
    "start_time": "2021-07-31T11:15:02.194Z"
   },
   {
    "duration": 29,
    "start_time": "2021-07-31T11:15:02.267Z"
   },
   {
    "duration": 279,
    "start_time": "2021-07-31T11:15:02.298Z"
   },
   {
    "duration": 9,
    "start_time": "2021-07-31T11:15:02.579Z"
   },
   {
    "duration": 11,
    "start_time": "2021-07-31T11:15:02.590Z"
   },
   {
    "duration": 53,
    "start_time": "2021-07-31T11:15:02.602Z"
   },
   {
    "duration": 4,
    "start_time": "2021-07-31T11:15:02.657Z"
   },
   {
    "duration": 9,
    "start_time": "2021-07-31T11:15:02.663Z"
   },
   {
    "duration": 15176,
    "start_time": "2021-07-31T11:15:02.674Z"
   },
   {
    "duration": 1536,
    "start_time": "2021-08-01T04:00:37.884Z"
   },
   {
    "duration": 4,
    "start_time": "2021-08-01T04:00:39.423Z"
   },
   {
    "duration": 913,
    "start_time": "2021-08-01T04:00:39.429Z"
   },
   {
    "duration": 94,
    "start_time": "2021-08-01T04:01:44.541Z"
   },
   {
    "duration": 62,
    "start_time": "2021-08-01T04:01:44.638Z"
   },
   {
    "duration": 110,
    "start_time": "2021-08-01T04:01:44.703Z"
   },
   {
    "duration": 421,
    "start_time": "2021-08-01T04:01:50.700Z"
   },
   {
    "duration": 20,
    "start_time": "2021-08-01T04:02:38.757Z"
   },
   {
    "duration": 439,
    "start_time": "2021-08-01T04:02:45.671Z"
   },
   {
    "duration": 11,
    "start_time": "2021-08-01T04:03:42.555Z"
   },
   {
    "duration": 560,
    "start_time": "2021-08-01T04:03:42.643Z"
   },
   {
    "duration": 7,
    "start_time": "2021-08-01T04:03:43.881Z"
   },
   {
    "duration": 21,
    "start_time": "2021-08-01T04:05:35.155Z"
   },
   {
    "duration": 24,
    "start_time": "2021-08-01T04:05:36.251Z"
   },
   {
    "duration": 20,
    "start_time": "2021-08-01T04:05:37.035Z"
   },
   {
    "duration": 43,
    "start_time": "2021-08-01T04:05:37.432Z"
   },
   {
    "duration": 8,
    "start_time": "2021-08-01T04:05:37.810Z"
   },
   {
    "duration": 5,
    "start_time": "2021-08-01T04:05:37.962Z"
   },
   {
    "duration": 8,
    "start_time": "2021-08-01T04:10:31.055Z"
   },
   {
    "duration": 1787,
    "start_time": "2021-08-01T04:10:32.755Z"
   },
   {
    "duration": 1593,
    "start_time": "2021-08-01T04:10:40.050Z"
   },
   {
    "duration": 1739,
    "start_time": "2021-08-01T04:10:41.645Z"
   },
   {
    "duration": 1009,
    "start_time": "2021-08-01T04:13:16.364Z"
   },
   {
    "duration": 1125,
    "start_time": "2021-08-01T04:13:17.375Z"
   },
   {
    "duration": 6,
    "start_time": "2021-08-01T04:13:18.594Z"
   },
   {
    "duration": 1782,
    "start_time": "2021-08-01T04:14:29.967Z"
   },
   {
    "duration": 4,
    "start_time": "2021-08-01T04:14:31.751Z"
   },
   {
    "duration": 18,
    "start_time": "2021-08-01T04:14:31.758Z"
   },
   {
    "duration": 103,
    "start_time": "2021-08-01T04:14:32.164Z"
   },
   {
    "duration": 94,
    "start_time": "2021-08-01T04:14:32.380Z"
   },
   {
    "duration": 46,
    "start_time": "2021-08-01T04:14:32.768Z"
   },
   {
    "duration": 438,
    "start_time": "2021-08-01T04:14:33.213Z"
   },
   {
    "duration": 22,
    "start_time": "2021-08-01T04:14:33.653Z"
   },
   {
    "duration": 12,
    "start_time": "2021-08-01T04:14:33.861Z"
   },
   {
    "duration": 44,
    "start_time": "2021-08-01T04:14:34.047Z"
   },
   {
    "duration": 5,
    "start_time": "2021-08-01T04:16:24.911Z"
   },
   {
    "duration": 4,
    "start_time": "2021-08-01T04:16:50.164Z"
   },
   {
    "duration": 19783,
    "start_time": "2021-08-01T04:16:56.490Z"
   },
   {
    "duration": 97417,
    "start_time": "2021-08-01T04:17:52.755Z"
   },
   {
    "duration": 27094,
    "start_time": "2021-08-01T04:19:30.175Z"
   },
   {
    "duration": 8,
    "start_time": "2021-08-01T04:20:10.485Z"
   },
   {
    "duration": 1149,
    "start_time": "2021-08-01T04:20:16.124Z"
   },
   {
    "duration": 936,
    "start_time": "2021-08-01T04:20:22.535Z"
   },
   {
    "duration": 29,
    "start_time": "2021-08-01T04:20:26.521Z"
   },
   {
    "duration": 6,
    "start_time": "2021-08-01T04:20:30.826Z"
   },
   {
    "duration": 6,
    "start_time": "2021-08-01T04:20:32.962Z"
   },
   {
    "duration": 32122,
    "start_time": "2021-08-01T04:20:34.714Z"
   },
   {
    "duration": 9,
    "start_time": "2021-08-01T04:24:53.809Z"
   },
   {
    "duration": 8,
    "start_time": "2021-08-01T04:24:54.519Z"
   },
   {
    "duration": 979,
    "start_time": "2021-08-01T04:24:56.041Z"
   },
   {
    "duration": 1563,
    "start_time": "2021-08-02T06:10:35.068Z"
   },
   {
    "duration": 4,
    "start_time": "2021-08-02T06:10:36.634Z"
   },
   {
    "duration": 879,
    "start_time": "2021-08-02T06:10:38.025Z"
   },
   {
    "duration": 95,
    "start_time": "2021-08-02T06:10:42.320Z"
   },
   {
    "duration": 60,
    "start_time": "2021-08-02T06:10:43.758Z"
   },
   {
    "duration": 93,
    "start_time": "2021-08-02T06:10:45.501Z"
   },
   {
    "duration": 413,
    "start_time": "2021-08-02T06:10:48.199Z"
   },
   {
    "duration": 3,
    "start_time": "2021-08-02T06:10:49.802Z"
   },
   {
    "duration": 3,
    "start_time": "2021-08-02T06:10:50.508Z"
   },
   {
    "duration": 3,
    "start_time": "2021-08-02T06:10:50.903Z"
   },
   {
    "duration": 20,
    "start_time": "2021-08-02T06:10:51.675Z"
   },
   {
    "duration": 4,
    "start_time": "2021-08-02T06:10:52.454Z"
   },
   {
    "duration": 4,
    "start_time": "2021-08-02T06:10:53.238Z"
   },
   {
    "duration": 3,
    "start_time": "2021-08-02T06:10:53.640Z"
   },
   {
    "duration": 4,
    "start_time": "2021-08-02T06:10:53.958Z"
   },
   {
    "duration": 3,
    "start_time": "2021-08-02T06:10:54.301Z"
   },
   {
    "duration": 438,
    "start_time": "2021-08-02T06:10:55.062Z"
   },
   {
    "duration": 11,
    "start_time": "2021-08-02T06:11:11.270Z"
   },
   {
    "duration": 563,
    "start_time": "2021-08-02T06:11:12.555Z"
   },
   {
    "duration": 6,
    "start_time": "2021-08-02T06:11:14.424Z"
   },
   {
    "duration": 5,
    "start_time": "2021-08-02T06:11:16.089Z"
   },
   {
    "duration": 20,
    "start_time": "2021-08-02T06:11:19.526Z"
   },
   {
    "duration": 23,
    "start_time": "2021-08-02T06:11:20.981Z"
   },
   {
    "duration": 18,
    "start_time": "2021-08-02T06:11:21.750Z"
   },
   {
    "duration": 41,
    "start_time": "2021-08-02T06:11:22.338Z"
   },
   {
    "duration": 7,
    "start_time": "2021-08-02T06:11:23.151Z"
   },
   {
    "duration": 4,
    "start_time": "2021-08-02T06:11:23.396Z"
   },
   {
    "duration": 7,
    "start_time": "2021-08-02T06:11:32.525Z"
   },
   {
    "duration": 1653,
    "start_time": "2021-08-02T06:11:32.954Z"
   },
   {
    "duration": 1567,
    "start_time": "2021-08-02T06:11:35.539Z"
   },
   {
    "duration": 1820,
    "start_time": "2021-08-02T06:11:37.108Z"
   },
   {
    "duration": 979,
    "start_time": "2021-08-02T06:11:50.031Z"
   },
   {
    "duration": 1042,
    "start_time": "2021-08-02T06:11:51.013Z"
   },
   {
    "duration": 6,
    "start_time": "2021-08-02T06:11:56.643Z"
   },
   {
    "duration": 1867,
    "start_time": "2021-08-02T06:11:59.218Z"
   },
   {
    "duration": 4,
    "start_time": "2021-08-02T06:12:02.503Z"
   },
   {
    "duration": 10,
    "start_time": "2021-08-02T06:12:02.956Z"
   },
   {
    "duration": 94,
    "start_time": "2021-08-02T06:12:03.882Z"
   },
   {
    "duration": 99,
    "start_time": "2021-08-02T06:12:04.242Z"
   },
   {
    "duration": 48,
    "start_time": "2021-08-02T06:12:05.077Z"
   },
   {
    "duration": 439,
    "start_time": "2021-08-02T06:12:07.837Z"
   },
   {
    "duration": 15,
    "start_time": "2021-08-02T06:12:09.750Z"
   },
   {
    "duration": 12,
    "start_time": "2021-08-02T06:12:10.116Z"
   },
   {
    "duration": 43,
    "start_time": "2021-08-02T06:12:11.127Z"
   },
   {
    "duration": 6,
    "start_time": "2021-08-02T06:12:15.695Z"
   },
   {
    "duration": 4,
    "start_time": "2021-08-02T06:12:17.938Z"
   },
   {
    "duration": 4,
    "start_time": "2021-08-02T06:12:19.615Z"
   },
   {
    "duration": 627,
    "start_time": "2021-08-02T06:12:22.050Z"
   },
   {
    "duration": 285,
    "start_time": "2021-08-02T06:13:44.572Z"
   },
   {
    "duration": 5,
    "start_time": "2021-08-02T06:13:53.794Z"
   },
   {
    "duration": 5,
    "start_time": "2021-08-02T06:44:29.365Z"
   },
   {
    "duration": 5,
    "start_time": "2021-08-02T06:44:31.704Z"
   },
   {
    "duration": 479,
    "start_time": "2021-08-02T06:44:33.820Z"
   },
   {
    "duration": 5,
    "start_time": "2021-08-02T06:51:51.240Z"
   },
   {
    "duration": 534,
    "start_time": "2021-08-02T06:51:52.341Z"
   },
   {
    "duration": 5,
    "start_time": "2021-08-02T06:56:29.341Z"
   },
   {
    "duration": 625,
    "start_time": "2021-08-02T06:56:30.669Z"
   },
   {
    "duration": 4,
    "start_time": "2021-08-02T06:56:50.727Z"
   },
   {
    "duration": 22891,
    "start_time": "2021-08-02T06:56:51.583Z"
   },
   {
    "duration": 6,
    "start_time": "2021-08-02T06:57:39.914Z"
   },
   {
    "duration": 7,
    "start_time": "2021-08-02T06:57:42.416Z"
   },
   {
    "duration": 22661,
    "start_time": "2021-08-02T06:57:43.414Z"
   },
   {
    "duration": 95770,
    "start_time": "2021-08-02T06:58:24.449Z"
   },
   {
    "duration": 5,
    "start_time": "2021-08-02T07:00:31.200Z"
   },
   {
    "duration": 3,
    "start_time": "2021-08-02T07:00:32.791Z"
   },
   {
    "duration": 3,
    "start_time": "2021-08-02T07:00:33.415Z"
   },
   {
    "duration": 8,
    "start_time": "2021-08-02T07:00:33.621Z"
   },
   {
    "duration": 745,
    "start_time": "2021-08-02T07:00:34.519Z"
   },
   {
    "duration": 4,
    "start_time": "2021-08-02T07:01:03.158Z"
   },
   {
    "duration": 3,
    "start_time": "2021-08-02T07:01:04.141Z"
   },
   {
    "duration": 5,
    "start_time": "2021-08-02T07:01:05.147Z"
   },
   {
    "duration": 7,
    "start_time": "2021-08-02T07:01:05.895Z"
   },
   {
    "duration": 21209,
    "start_time": "2021-08-02T07:01:07.366Z"
   },
   {
    "duration": 97889,
    "start_time": "2021-08-02T07:01:44.324Z"
   },
   {
    "duration": 30053,
    "start_time": "2021-08-02T07:03:22.216Z"
   },
   {
    "duration": 9,
    "start_time": "2021-08-02T07:34:37.320Z"
   },
   {
    "duration": 1280,
    "start_time": "2021-08-02T07:34:39.290Z"
   },
   {
    "duration": 1181,
    "start_time": "2021-08-02T07:35:17.688Z"
   },
   {
    "duration": 10,
    "start_time": "2021-08-02T07:37:31.628Z"
   },
   {
    "duration": 282,
    "start_time": "2021-08-02T07:37:44.774Z"
   },
   {
    "duration": 285,
    "start_time": "2021-08-02T07:38:08.077Z"
   },
   {
    "duration": 84,
    "start_time": "2021-08-02T07:38:21.493Z"
   },
   {
    "duration": 6,
    "start_time": "2021-08-02T07:38:36.477Z"
   },
   {
    "duration": 354,
    "start_time": "2021-08-02T07:38:54.523Z"
   },
   {
    "duration": 12,
    "start_time": "2021-08-02T07:38:59.392Z"
   },
   {
    "duration": 12,
    "start_time": "2021-08-02T07:39:06.475Z"
   },
   {
    "duration": 13,
    "start_time": "2021-08-02T07:39:17.545Z"
   },
   {
    "duration": 9,
    "start_time": "2021-08-02T07:39:26.606Z"
   },
   {
    "duration": 12,
    "start_time": "2021-08-02T07:39:31.826Z"
   },
   {
    "duration": 234,
    "start_time": "2021-08-02T07:39:42.642Z"
   },
   {
    "duration": 72,
    "start_time": "2021-08-02T07:39:55.728Z"
   },
   {
    "duration": 84,
    "start_time": "2021-08-02T08:22:24.401Z"
   },
   {
    "duration": 12,
    "start_time": "2021-08-02T08:22:32.011Z"
   },
   {
    "duration": 288,
    "start_time": "2021-08-02T08:23:10.376Z"
   },
   {
    "duration": 6,
    "start_time": "2021-08-02T08:23:41.023Z"
   },
   {
    "duration": 7,
    "start_time": "2021-08-02T08:24:02.837Z"
   },
   {
    "duration": 7,
    "start_time": "2021-08-02T08:24:15.360Z"
   },
   {
    "duration": 6,
    "start_time": "2021-08-02T08:24:22.033Z"
   },
   {
    "duration": 91,
    "start_time": "2021-08-02T08:49:25.564Z"
   },
   {
    "duration": 72,
    "start_time": "2021-08-02T08:49:45.286Z"
   },
   {
    "duration": 71,
    "start_time": "2021-08-02T08:50:17.339Z"
   },
   {
    "duration": 7,
    "start_time": "2021-08-02T08:51:11.757Z"
   },
   {
    "duration": 6,
    "start_time": "2021-08-02T08:51:13.031Z"
   },
   {
    "duration": 85,
    "start_time": "2021-08-02T08:51:19.111Z"
   },
   {
    "duration": 234,
    "start_time": "2021-08-02T08:51:58.597Z"
   },
   {
    "duration": 7,
    "start_time": "2021-08-02T08:52:38.722Z"
   },
   {
    "duration": 4,
    "start_time": "2021-08-02T08:53:23.523Z"
   },
   {
    "duration": 8,
    "start_time": "2021-08-02T08:54:45.552Z"
   },
   {
    "duration": 9,
    "start_time": "2021-08-02T08:55:39.631Z"
   },
   {
    "duration": 9,
    "start_time": "2021-08-02T08:56:14.828Z"
   },
   {
    "duration": 5,
    "start_time": "2021-08-02T09:01:24.304Z"
   },
   {
    "duration": 467,
    "start_time": "2021-08-02T09:01:26.430Z"
   },
   {
    "duration": 6,
    "start_time": "2021-08-02T09:04:47.905Z"
   },
   {
    "duration": 543,
    "start_time": "2021-08-02T09:04:52.420Z"
   },
   {
    "duration": 478,
    "start_time": "2021-08-02T09:05:13.395Z"
   },
   {
    "duration": 6,
    "start_time": "2021-08-02T09:09:11.551Z"
   },
   {
    "duration": 533,
    "start_time": "2021-08-02T09:09:12.691Z"
   },
   {
    "duration": 457,
    "start_time": "2021-08-02T09:10:32.017Z"
   },
   {
    "duration": 12,
    "start_time": "2021-08-02T09:10:45.203Z"
   },
   {
    "duration": 11,
    "start_time": "2021-08-02T09:11:01.360Z"
   },
   {
    "duration": 17,
    "start_time": "2021-08-02T09:56:32.119Z"
   },
   {
    "duration": 23,
    "start_time": "2021-08-02T09:57:32.673Z"
   },
   {
    "duration": 8,
    "start_time": "2021-08-02T10:30:31.542Z"
   },
   {
    "duration": 12,
    "start_time": "2021-08-02T10:30:33.406Z"
   },
   {
    "duration": 6,
    "start_time": "2021-08-02T10:30:46.465Z"
   },
   {
    "duration": 10,
    "start_time": "2021-08-02T10:30:47.578Z"
   },
   {
    "duration": 7,
    "start_time": "2021-08-02T10:30:51.956Z"
   },
   {
    "duration": 11,
    "start_time": "2021-08-02T10:30:52.895Z"
   },
   {
    "duration": 6,
    "start_time": "2021-08-02T10:30:58.080Z"
   },
   {
    "duration": 10,
    "start_time": "2021-08-02T10:30:59.154Z"
   },
   {
    "duration": 6,
    "start_time": "2021-08-02T10:31:04.431Z"
   },
   {
    "duration": 11,
    "start_time": "2021-08-02T10:31:06.160Z"
   },
   {
    "duration": 6,
    "start_time": "2021-08-02T10:31:10.408Z"
   },
   {
    "duration": 10,
    "start_time": "2021-08-02T10:31:11.595Z"
   },
   {
    "duration": 10,
    "start_time": "2021-08-02T10:31:23.612Z"
   },
   {
    "duration": 5,
    "start_time": "2021-08-02T10:31:26.115Z"
   },
   {
    "duration": 11,
    "start_time": "2021-08-02T10:31:27.483Z"
   },
   {
    "duration": 5,
    "start_time": "2021-08-02T10:31:37.032Z"
   },
   {
    "duration": 12,
    "start_time": "2021-08-02T10:31:38.119Z"
   },
   {
    "duration": 555,
    "start_time": "2021-08-02T10:31:48.105Z"
   },
   {
    "duration": 524,
    "start_time": "2021-08-02T10:32:03.913Z"
   },
   {
    "duration": 6,
    "start_time": "2021-08-02T10:32:10.487Z"
   },
   {
    "duration": 11,
    "start_time": "2021-08-02T10:32:11.275Z"
   },
   {
    "duration": 16,
    "start_time": "2021-08-02T10:32:20.065Z"
   },
   {
    "duration": 30,
    "start_time": "2021-08-02T10:33:00.568Z"
   },
   {
    "duration": 208,
    "start_time": "2021-08-02T10:36:22.347Z"
   },
   {
    "duration": 7,
    "start_time": "2021-08-02T10:36:50.050Z"
   },
   {
    "duration": 42,
    "start_time": "2021-08-02T10:36:51.041Z"
   },
   {
    "duration": 6,
    "start_time": "2021-08-02T10:37:07.412Z"
   },
   {
    "duration": 28,
    "start_time": "2021-08-02T10:37:09.014Z"
   },
   {
    "duration": 33,
    "start_time": "2021-08-02T10:37:33.342Z"
   },
   {
    "duration": 73,
    "start_time": "2021-08-02T10:38:09.774Z"
   },
   {
    "duration": 7,
    "start_time": "2021-08-02T10:38:41.485Z"
   },
   {
    "duration": 30,
    "start_time": "2021-08-02T10:38:42.952Z"
   },
   {
    "duration": 79,
    "start_time": "2021-08-02T10:39:06.804Z"
   },
   {
    "duration": 6,
    "start_time": "2021-08-02T10:39:11.684Z"
   },
   {
    "duration": 29,
    "start_time": "2021-08-02T10:39:13.072Z"
   },
   {
    "duration": 1592,
    "start_time": "2021-08-02T13:14:41.659Z"
   },
   {
    "duration": 3,
    "start_time": "2021-08-02T13:14:43.254Z"
   },
   {
    "duration": 930,
    "start_time": "2021-08-02T13:14:43.267Z"
   },
   {
    "duration": 112,
    "start_time": "2021-08-02T13:14:44.200Z"
   },
   {
    "duration": 105,
    "start_time": "2021-08-02T13:14:44.315Z"
   },
   {
    "duration": 116,
    "start_time": "2021-08-02T13:14:44.423Z"
   },
   {
    "duration": 443,
    "start_time": "2021-08-02T13:14:44.541Z"
   },
   {
    "duration": 4,
    "start_time": "2021-08-02T13:14:44.988Z"
   },
   {
    "duration": 8,
    "start_time": "2021-08-02T13:14:44.995Z"
   },
   {
    "duration": 10,
    "start_time": "2021-08-02T13:14:45.005Z"
   },
   {
    "duration": 54,
    "start_time": "2021-08-02T13:14:45.018Z"
   },
   {
    "duration": 4,
    "start_time": "2021-08-02T13:14:45.075Z"
   },
   {
    "duration": 11,
    "start_time": "2021-08-02T13:14:45.082Z"
   },
   {
    "duration": 13,
    "start_time": "2021-08-02T13:14:45.095Z"
   },
   {
    "duration": 6,
    "start_time": "2021-08-02T13:14:45.110Z"
   },
   {
    "duration": 5,
    "start_time": "2021-08-02T13:14:45.119Z"
   },
   {
    "duration": 476,
    "start_time": "2021-08-02T13:14:45.126Z"
   },
   {
    "duration": 11,
    "start_time": "2021-08-02T13:14:45.605Z"
   },
   {
    "duration": 623,
    "start_time": "2021-08-02T13:14:45.618Z"
   },
   {
    "duration": 8,
    "start_time": "2021-08-02T13:14:46.244Z"
   },
   {
    "duration": 7,
    "start_time": "2021-08-02T13:14:46.267Z"
   },
   {
    "duration": 23,
    "start_time": "2021-08-02T13:14:46.280Z"
   },
   {
    "duration": 24,
    "start_time": "2021-08-02T13:14:46.310Z"
   },
   {
    "duration": 47,
    "start_time": "2021-08-02T13:14:46.337Z"
   },
   {
    "duration": 39,
    "start_time": "2021-08-02T13:14:46.387Z"
   },
   {
    "duration": 7,
    "start_time": "2021-08-02T13:14:46.429Z"
   },
   {
    "duration": 7,
    "start_time": "2021-08-02T13:14:46.467Z"
   },
   {
    "duration": 11,
    "start_time": "2021-08-02T13:14:46.477Z"
   },
   {
    "duration": 2014,
    "start_time": "2021-08-02T13:14:46.491Z"
   },
   {
    "duration": 1695,
    "start_time": "2021-08-02T13:14:48.507Z"
   },
   {
    "duration": 1842,
    "start_time": "2021-08-02T13:14:50.205Z"
   },
   {
    "duration": 1070,
    "start_time": "2021-08-02T13:14:52.049Z"
   },
   {
    "duration": 1183,
    "start_time": "2021-08-02T13:14:53.122Z"
   },
   {
    "duration": 7,
    "start_time": "2021-08-02T13:14:54.307Z"
   },
   {
    "duration": 1872,
    "start_time": "2021-08-02T13:14:54.316Z"
   },
   {
    "duration": 4,
    "start_time": "2021-08-02T13:14:56.191Z"
   },
   {
    "duration": 15,
    "start_time": "2021-08-02T13:14:56.197Z"
   },
   {
    "duration": 121,
    "start_time": "2021-08-02T13:14:56.215Z"
   },
   {
    "duration": 111,
    "start_time": "2021-08-02T13:14:56.338Z"
   },
   {
    "duration": 64,
    "start_time": "2021-08-02T13:14:56.451Z"
   },
   {
    "duration": 473,
    "start_time": "2021-08-02T13:14:56.518Z"
   },
   {
    "duration": 14,
    "start_time": "2021-08-02T13:14:56.994Z"
   },
   {
    "duration": 11,
    "start_time": "2021-08-02T13:14:57.010Z"
   },
   {
    "duration": 77,
    "start_time": "2021-08-02T13:14:57.024Z"
   },
   {
    "duration": 2,
    "start_time": "2021-08-02T13:14:57.104Z"
   },
   {
    "duration": 7,
    "start_time": "2021-08-02T13:14:57.109Z"
   },
   {
    "duration": 9,
    "start_time": "2021-08-02T13:14:57.119Z"
   },
   {
    "duration": 7,
    "start_time": "2021-08-02T13:14:57.131Z"
   },
   {
    "duration": 29538,
    "start_time": "2021-08-02T13:14:57.141Z"
   },
   {
    "duration": 100673,
    "start_time": "2021-08-02T13:15:26.683Z"
   },
   {
    "duration": 27317,
    "start_time": "2021-08-02T13:17:07.358Z"
   },
   {
    "duration": 8,
    "start_time": "2021-08-02T13:17:34.678Z"
   },
   {
    "duration": 1193,
    "start_time": "2021-08-02T13:17:34.689Z"
   },
   {
    "duration": 1301,
    "start_time": "2021-08-02T13:17:35.885Z"
   },
   {
    "duration": 99,
    "start_time": "2021-08-02T13:17:37.189Z"
   },
   {
    "duration": 16,
    "start_time": "2021-08-02T13:17:37.290Z"
   },
   {
    "duration": 21,
    "start_time": "2021-08-02T13:17:37.309Z"
   },
   {
    "duration": 8,
    "start_time": "2021-08-02T13:17:37.332Z"
   },
   {
    "duration": 6,
    "start_time": "2021-08-02T13:17:37.343Z"
   },
   {
    "duration": 33,
    "start_time": "2021-08-02T13:17:37.352Z"
   },
   {
    "duration": 7,
    "start_time": "2021-08-02T13:17:37.387Z"
   },
   {
    "duration": 10,
    "start_time": "2021-08-02T13:17:37.397Z"
   },
   {
    "duration": 1482,
    "start_time": "2021-08-02T13:17:37.410Z"
   },
   {
    "duration": 1061,
    "start_time": "2021-08-02T13:32:20.828Z"
   },
   {
    "duration": 6,
    "start_time": "2021-08-02T13:33:21.992Z"
   },
   {
    "duration": 26,
    "start_time": "2021-08-02T13:33:22.985Z"
   },
   {
    "duration": 27,
    "start_time": "2021-08-02T13:33:42.331Z"
   },
   {
    "duration": 8,
    "start_time": "2021-08-02T13:35:17.926Z"
   },
   {
    "duration": 36,
    "start_time": "2021-08-02T13:35:19.353Z"
   },
   {
    "duration": 7,
    "start_time": "2021-08-02T13:35:35.564Z"
   },
   {
    "duration": 36,
    "start_time": "2021-08-02T13:35:36.369Z"
   },
   {
    "duration": 7,
    "start_time": "2021-08-02T13:35:44.476Z"
   },
   {
    "duration": 31,
    "start_time": "2021-08-02T13:35:45.159Z"
   },
   {
    "duration": 1617,
    "start_time": "2021-08-02T13:43:41.064Z"
   },
   {
    "duration": 4,
    "start_time": "2021-08-02T13:43:42.684Z"
   },
   {
    "duration": 940,
    "start_time": "2021-08-02T13:43:42.692Z"
   },
   {
    "duration": 111,
    "start_time": "2021-08-02T13:43:43.635Z"
   },
   {
    "duration": 77,
    "start_time": "2021-08-02T13:43:43.748Z"
   },
   {
    "duration": 109,
    "start_time": "2021-08-02T13:43:43.827Z"
   },
   {
    "duration": 455,
    "start_time": "2021-08-02T13:43:43.939Z"
   },
   {
    "duration": 5,
    "start_time": "2021-08-02T13:43:44.398Z"
   },
   {
    "duration": 5,
    "start_time": "2021-08-02T13:43:44.407Z"
   },
   {
    "duration": 6,
    "start_time": "2021-08-02T13:43:44.415Z"
   },
   {
    "duration": 55,
    "start_time": "2021-08-02T13:43:44.423Z"
   },
   {
    "duration": 4,
    "start_time": "2021-08-02T13:43:44.481Z"
   },
   {
    "duration": 6,
    "start_time": "2021-08-02T13:43:44.488Z"
   },
   {
    "duration": 7,
    "start_time": "2021-08-02T13:43:44.496Z"
   },
   {
    "duration": 5,
    "start_time": "2021-08-02T13:43:44.506Z"
   },
   {
    "duration": 9,
    "start_time": "2021-08-02T13:43:44.514Z"
   },
   {
    "duration": 617,
    "start_time": "2021-08-02T13:43:44.525Z"
   },
   {
    "duration": 32,
    "start_time": "2021-08-02T13:43:45.145Z"
   },
   {
    "duration": 856,
    "start_time": "2021-08-02T13:43:45.180Z"
   },
   {
    "duration": 6,
    "start_time": "2021-08-02T13:43:46.038Z"
   },
   {
    "duration": 23,
    "start_time": "2021-08-02T13:43:46.046Z"
   },
   {
    "duration": 29,
    "start_time": "2021-08-02T13:43:46.072Z"
   },
   {
    "duration": 28,
    "start_time": "2021-08-02T13:43:46.110Z"
   },
   {
    "duration": 26,
    "start_time": "2021-08-02T13:43:46.169Z"
   },
   {
    "duration": 41,
    "start_time": "2021-08-02T13:43:46.198Z"
   },
   {
    "duration": 11,
    "start_time": "2021-08-02T13:43:46.271Z"
   },
   {
    "duration": 12,
    "start_time": "2021-08-02T13:43:46.284Z"
   },
   {
    "duration": 9,
    "start_time": "2021-08-02T13:43:46.299Z"
   },
   {
    "duration": 2620,
    "start_time": "2021-08-02T13:43:46.311Z"
   },
   {
    "duration": 1931,
    "start_time": "2021-08-02T13:43:48.934Z"
   },
   {
    "duration": 1943,
    "start_time": "2021-08-02T13:43:50.872Z"
   },
   {
    "duration": 1041,
    "start_time": "2021-08-02T13:43:52.818Z"
   },
   {
    "duration": 1089,
    "start_time": "2021-08-02T13:43:53.861Z"
   },
   {
    "duration": 18,
    "start_time": "2021-08-02T13:43:54.953Z"
   },
   {
    "duration": 1976,
    "start_time": "2021-08-02T13:43:54.975Z"
   },
   {
    "duration": 4,
    "start_time": "2021-08-02T13:43:56.954Z"
   },
   {
    "duration": 13,
    "start_time": "2021-08-02T13:43:56.972Z"
   },
   {
    "duration": 180,
    "start_time": "2021-08-02T13:43:56.987Z"
   },
   {
    "duration": 167,
    "start_time": "2021-08-02T13:43:57.170Z"
   },
   {
    "duration": 72,
    "start_time": "2021-08-02T13:43:57.340Z"
   },
   {
    "duration": 694,
    "start_time": "2021-08-02T13:43:57.414Z"
   },
   {
    "duration": 18,
    "start_time": "2021-08-02T13:43:58.111Z"
   },
   {
    "duration": 37,
    "start_time": "2021-08-02T13:43:58.132Z"
   },
   {
    "duration": 57,
    "start_time": "2021-08-02T13:43:58.174Z"
   },
   {
    "duration": 5,
    "start_time": "2021-08-02T13:43:58.234Z"
   },
   {
    "duration": 37,
    "start_time": "2021-08-02T13:43:58.241Z"
   },
   {
    "duration": 8,
    "start_time": "2021-08-02T13:43:58.282Z"
   },
   {
    "duration": 7,
    "start_time": "2021-08-02T13:43:58.294Z"
   },
   {
    "duration": 31486,
    "start_time": "2021-08-02T13:43:58.304Z"
   },
   {
    "duration": 107210,
    "start_time": "2021-08-02T13:44:29.793Z"
   },
   {
    "duration": 28563,
    "start_time": "2021-08-02T13:46:17.006Z"
   },
   {
    "duration": 13,
    "start_time": "2021-08-02T13:46:45.571Z"
   },
   {
    "duration": 1503,
    "start_time": "2021-08-02T13:46:45.666Z"
   },
   {
    "duration": 1504,
    "start_time": "2021-08-02T13:46:47.177Z"
   },
   {
    "duration": 90,
    "start_time": "2021-08-02T13:46:48.684Z"
   },
   {
    "duration": 3,
    "start_time": "2021-08-02T13:46:48.788Z"
   },
   {
    "duration": 9,
    "start_time": "2021-08-02T13:46:48.793Z"
   },
   {
    "duration": 6,
    "start_time": "2021-08-02T13:46:48.804Z"
   },
   {
    "duration": 7,
    "start_time": "2021-08-02T13:46:48.813Z"
   },
   {
    "duration": 65,
    "start_time": "2021-08-02T13:46:48.823Z"
   },
   {
    "duration": 8,
    "start_time": "2021-08-02T13:46:48.890Z"
   },
   {
    "duration": 13,
    "start_time": "2021-08-02T13:46:48.900Z"
   },
   {
    "duration": 1055,
    "start_time": "2021-08-02T13:46:48.915Z"
   },
   {
    "duration": 1139,
    "start_time": "2022-01-21T02:42:19.133Z"
   },
   {
    "duration": 2,
    "start_time": "2022-01-21T02:42:20.274Z"
   },
   {
    "duration": 4140,
    "start_time": "2022-01-21T02:42:20.278Z"
   },
   {
    "duration": 56,
    "start_time": "2022-01-21T02:42:24.420Z"
   },
   {
    "duration": 32,
    "start_time": "2022-01-21T02:42:24.478Z"
   },
   {
    "duration": 63,
    "start_time": "2022-01-21T02:42:24.512Z"
   },
   {
    "duration": 230,
    "start_time": "2022-01-21T02:42:24.577Z"
   },
   {
    "duration": 12,
    "start_time": "2022-01-21T02:42:24.808Z"
   },
   {
    "duration": 269,
    "start_time": "2022-01-21T02:42:24.822Z"
   },
   {
    "duration": 7,
    "start_time": "2022-01-21T02:42:25.094Z"
   },
   {
    "duration": 361,
    "start_time": "2022-01-21T02:42:25.103Z"
   },
   {
    "duration": 8,
    "start_time": "2022-01-21T02:42:25.465Z"
   },
   {
    "duration": 5,
    "start_time": "2022-01-21T02:42:25.475Z"
   },
   {
    "duration": 13,
    "start_time": "2022-01-21T02:42:25.482Z"
   },
   {
    "duration": 19,
    "start_time": "2022-01-21T02:42:25.610Z"
   },
   {
    "duration": 15,
    "start_time": "2022-01-21T02:42:25.980Z"
   },
   {
    "duration": 34,
    "start_time": "2022-01-21T02:42:26.349Z"
   },
   {
    "duration": 6,
    "start_time": "2022-01-21T02:42:26.720Z"
   },
   {
    "duration": 3,
    "start_time": "2022-01-21T02:42:26.879Z"
   },
   {
    "duration": 5,
    "start_time": "2022-01-21T02:42:27.969Z"
   },
   {
    "duration": 906,
    "start_time": "2022-01-21T02:42:28.157Z"
   },
   {
    "duration": 843,
    "start_time": "2022-01-21T02:42:29.071Z"
   },
   {
    "duration": 1006,
    "start_time": "2022-01-21T02:42:29.915Z"
   },
   {
    "duration": 551,
    "start_time": "2022-01-21T02:42:30.923Z"
   },
   {
    "duration": 549,
    "start_time": "2022-01-21T02:42:31.476Z"
   },
   {
    "duration": 5,
    "start_time": "2022-01-21T02:42:32.026Z"
   },
   {
    "duration": 1020,
    "start_time": "2022-01-21T02:42:32.033Z"
   },
   {
    "duration": 2,
    "start_time": "2022-01-21T02:42:33.055Z"
   },
   {
    "duration": 17,
    "start_time": "2022-01-21T02:42:33.059Z"
   },
   {
    "duration": 51,
    "start_time": "2022-01-21T02:42:33.078Z"
   },
   {
    "duration": 69,
    "start_time": "2022-01-21T02:42:33.131Z"
   },
   {
    "duration": 25,
    "start_time": "2022-01-21T02:42:33.201Z"
   },
   {
    "duration": 262,
    "start_time": "2022-01-21T02:42:33.228Z"
   },
   {
    "duration": 8,
    "start_time": "2022-01-21T02:42:33.492Z"
   },
   {
    "duration": 8,
    "start_time": "2022-01-21T02:42:33.501Z"
   },
   {
    "duration": 31,
    "start_time": "2022-01-21T02:42:33.510Z"
   },
   {
    "duration": 3,
    "start_time": "2022-01-21T02:42:34.323Z"
   },
   {
    "duration": 4,
    "start_time": "2022-01-21T02:42:34.876Z"
   },
   {
    "duration": 15314,
    "start_time": "2022-01-21T02:42:35.059Z"
   },
   {
    "duration": 69171,
    "start_time": "2022-01-21T02:42:50.376Z"
   },
   {
    "duration": 15131,
    "start_time": "2022-01-21T02:43:59.549Z"
   },
   {
    "duration": 99,
    "start_time": "2022-01-21T02:44:14.773Z"
   },
   {
    "duration": 1000,
    "start_time": "2022-01-21T02:44:14.873Z"
   },
   {
    "duration": 998,
    "start_time": "2022-01-21T02:44:15.875Z"
   },
   {
    "duration": 97,
    "start_time": "2022-01-21T02:44:16.876Z"
   },
   {
    "duration": 4,
    "start_time": "2022-01-21T02:44:16.975Z"
   },
   {
    "duration": 19,
    "start_time": "2022-01-21T02:44:16.981Z"
   },
   {
    "duration": 5,
    "start_time": "2022-01-21T02:44:17.001Z"
   },
   {
    "duration": 5,
    "start_time": "2022-01-21T02:44:17.008Z"
   },
   {
    "duration": 723,
    "start_time": "2022-01-21T02:44:17.015Z"
   }
  ],
  "kernelspec": {
   "display_name": "Python 3",
   "language": "python",
   "name": "python3"
  },
  "language_info": {
   "codemirror_mode": {
    "name": "ipython",
    "version": 3
   },
   "file_extension": ".py",
   "mimetype": "text/x-python",
   "name": "python",
   "nbconvert_exporter": "python",
   "pygments_lexer": "ipython3",
   "version": "3.7.8"
  },
  "toc": {
   "base_numbering": 1,
   "nav_menu": {},
   "number_sections": true,
   "sideBar": true,
   "skip_h1_title": true,
   "title_cell": "Содержание",
   "title_sidebar": "Contents",
   "toc_cell": true,
   "toc_position": {},
   "toc_section_display": true,
   "toc_window_display": false
  }
 },
 "nbformat": 4,
 "nbformat_minor": 2
}
