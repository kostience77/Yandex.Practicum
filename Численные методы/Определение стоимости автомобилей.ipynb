{
 "cells": [
  {
   "cell_type": "markdown",
   "metadata": {},
   "source": [
    "# Определение стоимости автомобилей"
   ]
  },
  {
   "cell_type": "markdown",
   "metadata": {},
   "source": [
    "Цель данной работы - разработать модель для предсказания рыночной стоимости автомобиля, на основании исторические данные: технические характеристики, комплектации и цены автомобилей, для разрабатываемого приложения  сервисом по продаже автомобилей с пробегом «Не бит, не крашен», которое будет использоваться для привлечения новых клиентов.\n",
    "Необходимо построить модель для определения стоимости автомобиля. \n",
    "\n",
    "Заказчику важны:\n",
    "\n",
    "- качество предсказания;\n",
    "- скорость предсказания;\n",
    "- время обучения."
   ]
  },
  {
   "cell_type": "markdown",
   "metadata": {},
   "source": [
    "<h1>Содержание<span class=\"tocSkip\"></span></h1>"
   ]
  },
  {
   "cell_type": "markdown",
   "metadata": {},
   "source": [
    "1. [Загрузка и подготовка данных](#старт)\n",
    "    - 1.1.[Импорт библиотек](#библиотека)\n",
    "    - 1.2.[Загрузка и изучение данных](#данные)\n",
    "        - 1.2.1.[Вывод](#вывод1.1)\n",
    "    - 1.3. [Анализ признаков](#признак)\n",
    "    - 1.4.[Предобработка данных](#предобработка)\n",
    "        - 1.4.1.[Вывод](#вывод1.4)\n",
    "    - 1.5.[Подготовка данных для работы с моделями](#обработка)\n",
    "2.[Обучение моделей](#обучение)\n",
    "    - 2.1.[Вывод](#вывод2.1)\n",
    "    - 2.2.[Подбор параметров](#параметр)\n",
    "3.[Анализ моделей](#анализ)\n",
    "    - 3.1.[Проверяем на тестовых данных](#тест)\n",
    "    - 3.2.[Проверяем на полных данных](#массив)\n",
    "4.[Вывод](#вывод)  \n",
    "5.[Чек-лист готовности проекта](#лист)"
   ]
  },
  {
   "cell_type": "markdown",
   "metadata": {},
   "source": [
    "## Подготовка данных\n",
    "<a id=\"старт\"></a>"
   ]
  },
  {
   "cell_type": "markdown",
   "metadata": {},
   "source": [
    "### Импорт библиотек \n",
    "<a id=\"библиотека\"></a>"
   ]
  },
  {
   "cell_type": "code",
   "execution_count": 1,
   "metadata": {},
   "outputs": [],
   "source": [
    "import warnings\n",
    "warnings.simplefilter(action='ignore')# Игнорировать все предупреждения\n",
    "\n",
    "import pandas as pd# импорт библиотеки pandas\n",
    "import numpy as np #Импорт модуля numpy. numpy работает с однородными многомерными массивами (матрицами)\n",
    "\n",
    "import matplotlib.pyplot as plt#Импорт модуля matplotlib\n",
    "import seaborn as sns# импорт seaborn\n",
    "from pandas.plotting import scatter_matrix\n",
    "\n",
    "from sklearn.model_selection import train_test_split # функция  для разделения датасет на данные для обучения и тестирования\n",
    "#from sklearn.preprocessing import StandardScaler # импортируем StandardScaler из библиотеки sklearn\n",
    "from sklearn.preprocessing import MinMaxScaler\n",
    "\n",
    "from sklearn.linear_model import LinearRegression # импортируем LinearRegression из библиотеки sklearn\n",
    "from sklearn.ensemble import RandomForestRegressor\n",
    "from lightgbm import LGBMRegressor\n",
    "from catboost import CatBoostRegressor\n",
    "from sklearn.linear_model import Ridge\n",
    "from sklearn.metrics import mean_squared_error\n",
    "\n",
    "import os\n",
    "import time\n",
    "\n",
    "from sklearn.model_selection import GridSearchCV\n",
    "\n",
    "from sklearn.dummy import DummyRegressor"
   ]
  },
  {
   "cell_type": "markdown",
   "metadata": {},
   "source": [
    "### Загрузка и изучение данных\n",
    "<a id=\"данные\"></a>"
   ]
  },
  {
   "cell_type": "code",
   "execution_count": 2,
   "metadata": {
    "scrolled": true
   },
   "outputs": [
    {
     "data": {
      "text/html": [
       "<div>\n",
       "<style scoped>\n",
       "    .dataframe tbody tr th:only-of-type {\n",
       "        vertical-align: middle;\n",
       "    }\n",
       "\n",
       "    .dataframe tbody tr th {\n",
       "        vertical-align: top;\n",
       "    }\n",
       "\n",
       "    .dataframe thead th {\n",
       "        text-align: right;\n",
       "    }\n",
       "</style>\n",
       "<table border=\"1\" class=\"dataframe\">\n",
       "  <thead>\n",
       "    <tr style=\"text-align: right;\">\n",
       "      <th></th>\n",
       "      <th>DateCrawled</th>\n",
       "      <th>Price</th>\n",
       "      <th>VehicleType</th>\n",
       "      <th>RegistrationYear</th>\n",
       "      <th>Gearbox</th>\n",
       "      <th>Power</th>\n",
       "      <th>Model</th>\n",
       "      <th>Kilometer</th>\n",
       "      <th>RegistrationMonth</th>\n",
       "      <th>FuelType</th>\n",
       "      <th>Brand</th>\n",
       "      <th>NotRepaired</th>\n",
       "      <th>DateCreated</th>\n",
       "      <th>NumberOfPictures</th>\n",
       "      <th>PostalCode</th>\n",
       "      <th>LastSeen</th>\n",
       "    </tr>\n",
       "  </thead>\n",
       "  <tbody>\n",
       "    <tr>\n",
       "      <td>0</td>\n",
       "      <td>2016-03-24 11:52:17</td>\n",
       "      <td>480</td>\n",
       "      <td>NaN</td>\n",
       "      <td>1993</td>\n",
       "      <td>manual</td>\n",
       "      <td>0</td>\n",
       "      <td>golf</td>\n",
       "      <td>150000</td>\n",
       "      <td>0</td>\n",
       "      <td>petrol</td>\n",
       "      <td>volkswagen</td>\n",
       "      <td>NaN</td>\n",
       "      <td>2016-03-24 00:00:00</td>\n",
       "      <td>0</td>\n",
       "      <td>70435</td>\n",
       "      <td>2016-04-07 03:16:57</td>\n",
       "    </tr>\n",
       "    <tr>\n",
       "      <td>1</td>\n",
       "      <td>2016-03-24 10:58:45</td>\n",
       "      <td>18300</td>\n",
       "      <td>coupe</td>\n",
       "      <td>2011</td>\n",
       "      <td>manual</td>\n",
       "      <td>190</td>\n",
       "      <td>NaN</td>\n",
       "      <td>125000</td>\n",
       "      <td>5</td>\n",
       "      <td>gasoline</td>\n",
       "      <td>audi</td>\n",
       "      <td>yes</td>\n",
       "      <td>2016-03-24 00:00:00</td>\n",
       "      <td>0</td>\n",
       "      <td>66954</td>\n",
       "      <td>2016-04-07 01:46:50</td>\n",
       "    </tr>\n",
       "    <tr>\n",
       "      <td>2</td>\n",
       "      <td>2016-03-14 12:52:21</td>\n",
       "      <td>9800</td>\n",
       "      <td>suv</td>\n",
       "      <td>2004</td>\n",
       "      <td>auto</td>\n",
       "      <td>163</td>\n",
       "      <td>grand</td>\n",
       "      <td>125000</td>\n",
       "      <td>8</td>\n",
       "      <td>gasoline</td>\n",
       "      <td>jeep</td>\n",
       "      <td>NaN</td>\n",
       "      <td>2016-03-14 00:00:00</td>\n",
       "      <td>0</td>\n",
       "      <td>90480</td>\n",
       "      <td>2016-04-05 12:47:46</td>\n",
       "    </tr>\n",
       "    <tr>\n",
       "      <td>3</td>\n",
       "      <td>2016-03-17 16:54:04</td>\n",
       "      <td>1500</td>\n",
       "      <td>small</td>\n",
       "      <td>2001</td>\n",
       "      <td>manual</td>\n",
       "      <td>75</td>\n",
       "      <td>golf</td>\n",
       "      <td>150000</td>\n",
       "      <td>6</td>\n",
       "      <td>petrol</td>\n",
       "      <td>volkswagen</td>\n",
       "      <td>no</td>\n",
       "      <td>2016-03-17 00:00:00</td>\n",
       "      <td>0</td>\n",
       "      <td>91074</td>\n",
       "      <td>2016-03-17 17:40:17</td>\n",
       "    </tr>\n",
       "    <tr>\n",
       "      <td>4</td>\n",
       "      <td>2016-03-31 17:25:20</td>\n",
       "      <td>3600</td>\n",
       "      <td>small</td>\n",
       "      <td>2008</td>\n",
       "      <td>manual</td>\n",
       "      <td>69</td>\n",
       "      <td>fabia</td>\n",
       "      <td>90000</td>\n",
       "      <td>7</td>\n",
       "      <td>gasoline</td>\n",
       "      <td>skoda</td>\n",
       "      <td>no</td>\n",
       "      <td>2016-03-31 00:00:00</td>\n",
       "      <td>0</td>\n",
       "      <td>60437</td>\n",
       "      <td>2016-04-06 10:17:21</td>\n",
       "    </tr>\n",
       "  </tbody>\n",
       "</table>\n",
       "</div>"
      ],
      "text/plain": [
       "           DateCrawled  Price VehicleType  RegistrationYear Gearbox  Power  \\\n",
       "0  2016-03-24 11:52:17    480         NaN              1993  manual      0   \n",
       "1  2016-03-24 10:58:45  18300       coupe              2011  manual    190   \n",
       "2  2016-03-14 12:52:21   9800         suv              2004    auto    163   \n",
       "3  2016-03-17 16:54:04   1500       small              2001  manual     75   \n",
       "4  2016-03-31 17:25:20   3600       small              2008  manual     69   \n",
       "\n",
       "   Model  Kilometer  RegistrationMonth  FuelType       Brand NotRepaired  \\\n",
       "0   golf     150000                  0    petrol  volkswagen         NaN   \n",
       "1    NaN     125000                  5  gasoline        audi         yes   \n",
       "2  grand     125000                  8  gasoline        jeep         NaN   \n",
       "3   golf     150000                  6    petrol  volkswagen          no   \n",
       "4  fabia      90000                  7  gasoline       skoda          no   \n",
       "\n",
       "           DateCreated  NumberOfPictures  PostalCode             LastSeen  \n",
       "0  2016-03-24 00:00:00                 0       70435  2016-04-07 03:16:57  \n",
       "1  2016-03-24 00:00:00                 0       66954  2016-04-07 01:46:50  \n",
       "2  2016-03-14 00:00:00                 0       90480  2016-04-05 12:47:46  \n",
       "3  2016-03-17 00:00:00                 0       91074  2016-03-17 17:40:17  \n",
       "4  2016-03-31 00:00:00                 0       60437  2016-04-06 10:17:21  "
      ]
     },
     "execution_count": 2,
     "metadata": {},
     "output_type": "execute_result"
    }
   ],
   "source": [
    "df = pd.read_csv('/datasets/autos.csv')\n",
    "df.head()"
   ]
  },
  {
   "cell_type": "code",
   "execution_count": 3,
   "metadata": {
    "scrolled": false
   },
   "outputs": [
    {
     "name": "stdout",
     "output_type": "stream",
     "text": [
      "<class 'pandas.core.frame.DataFrame'>\n",
      "RangeIndex: 354369 entries, 0 to 354368\n",
      "Data columns (total 16 columns):\n",
      "DateCrawled          354369 non-null object\n",
      "Price                354369 non-null int64\n",
      "VehicleType          316879 non-null object\n",
      "RegistrationYear     354369 non-null int64\n",
      "Gearbox              334536 non-null object\n",
      "Power                354369 non-null int64\n",
      "Model                334664 non-null object\n",
      "Kilometer            354369 non-null int64\n",
      "RegistrationMonth    354369 non-null int64\n",
      "FuelType             321474 non-null object\n",
      "Brand                354369 non-null object\n",
      "NotRepaired          283215 non-null object\n",
      "DateCreated          354369 non-null object\n",
      "NumberOfPictures     354369 non-null int64\n",
      "PostalCode           354369 non-null int64\n",
      "LastSeen             354369 non-null object\n",
      "dtypes: int64(7), object(9)\n",
      "memory usage: 43.3+ MB\n"
     ]
    }
   ],
   "source": [
    "df.info()"
   ]
  },
  {
   "cell_type": "markdown",
   "metadata": {},
   "source": [
    "Проверим данные на наличие дупликатов."
   ]
  },
  {
   "cell_type": "code",
   "execution_count": 4,
   "metadata": {
    "scrolled": true
   },
   "outputs": [
    {
     "data": {
      "text/plain": [
       "4"
      ]
     },
     "execution_count": 4,
     "metadata": {},
     "output_type": "execute_result"
    }
   ],
   "source": [
    "df.duplicated().sum()"
   ]
  },
  {
   "cell_type": "markdown",
   "metadata": {},
   "source": [
    "Удалим выявленные дупликаты и проверим результат."
   ]
  },
  {
   "cell_type": "code",
   "execution_count": 5,
   "metadata": {},
   "outputs": [],
   "source": [
    "df = df.drop_duplicates()"
   ]
  },
  {
   "cell_type": "code",
   "execution_count": 6,
   "metadata": {},
   "outputs": [
    {
     "data": {
      "text/plain": [
       "0"
      ]
     },
     "execution_count": 6,
     "metadata": {},
     "output_type": "execute_result"
    }
   ],
   "source": [
    "df.duplicated().sum()"
   ]
  },
  {
   "cell_type": "code",
   "execution_count": 7,
   "metadata": {
    "scrolled": false
   },
   "outputs": [
    {
     "data": {
      "text/html": [
       "<div>\n",
       "<style scoped>\n",
       "    .dataframe tbody tr th:only-of-type {\n",
       "        vertical-align: middle;\n",
       "    }\n",
       "\n",
       "    .dataframe tbody tr th {\n",
       "        vertical-align: top;\n",
       "    }\n",
       "\n",
       "    .dataframe thead th {\n",
       "        text-align: right;\n",
       "    }\n",
       "</style>\n",
       "<table border=\"1\" class=\"dataframe\">\n",
       "  <thead>\n",
       "    <tr style=\"text-align: right;\">\n",
       "      <th></th>\n",
       "      <th>Price</th>\n",
       "      <th>RegistrationYear</th>\n",
       "      <th>Power</th>\n",
       "      <th>Kilometer</th>\n",
       "      <th>RegistrationMonth</th>\n",
       "      <th>NumberOfPictures</th>\n",
       "      <th>PostalCode</th>\n",
       "    </tr>\n",
       "  </thead>\n",
       "  <tbody>\n",
       "    <tr>\n",
       "      <td>count</td>\n",
       "      <td>354365.000000</td>\n",
       "      <td>354365.000000</td>\n",
       "      <td>354365.000000</td>\n",
       "      <td>354365.000000</td>\n",
       "      <td>354365.000000</td>\n",
       "      <td>354365.0</td>\n",
       "      <td>354365.000000</td>\n",
       "    </tr>\n",
       "    <tr>\n",
       "      <td>mean</td>\n",
       "      <td>4416.679830</td>\n",
       "      <td>2004.234481</td>\n",
       "      <td>110.093816</td>\n",
       "      <td>128211.363989</td>\n",
       "      <td>5.714650</td>\n",
       "      <td>0.0</td>\n",
       "      <td>50508.503800</td>\n",
       "    </tr>\n",
       "    <tr>\n",
       "      <td>std</td>\n",
       "      <td>4514.176349</td>\n",
       "      <td>90.228466</td>\n",
       "      <td>189.851330</td>\n",
       "      <td>37905.083858</td>\n",
       "      <td>3.726432</td>\n",
       "      <td>0.0</td>\n",
       "      <td>25783.100078</td>\n",
       "    </tr>\n",
       "    <tr>\n",
       "      <td>min</td>\n",
       "      <td>0.000000</td>\n",
       "      <td>1000.000000</td>\n",
       "      <td>0.000000</td>\n",
       "      <td>5000.000000</td>\n",
       "      <td>0.000000</td>\n",
       "      <td>0.0</td>\n",
       "      <td>1067.000000</td>\n",
       "    </tr>\n",
       "    <tr>\n",
       "      <td>25%</td>\n",
       "      <td>1050.000000</td>\n",
       "      <td>1999.000000</td>\n",
       "      <td>69.000000</td>\n",
       "      <td>125000.000000</td>\n",
       "      <td>3.000000</td>\n",
       "      <td>0.0</td>\n",
       "      <td>30165.000000</td>\n",
       "    </tr>\n",
       "    <tr>\n",
       "      <td>50%</td>\n",
       "      <td>2700.000000</td>\n",
       "      <td>2003.000000</td>\n",
       "      <td>105.000000</td>\n",
       "      <td>150000.000000</td>\n",
       "      <td>6.000000</td>\n",
       "      <td>0.0</td>\n",
       "      <td>49413.000000</td>\n",
       "    </tr>\n",
       "    <tr>\n",
       "      <td>75%</td>\n",
       "      <td>6400.000000</td>\n",
       "      <td>2008.000000</td>\n",
       "      <td>143.000000</td>\n",
       "      <td>150000.000000</td>\n",
       "      <td>9.000000</td>\n",
       "      <td>0.0</td>\n",
       "      <td>71083.000000</td>\n",
       "    </tr>\n",
       "    <tr>\n",
       "      <td>max</td>\n",
       "      <td>20000.000000</td>\n",
       "      <td>9999.000000</td>\n",
       "      <td>20000.000000</td>\n",
       "      <td>150000.000000</td>\n",
       "      <td>12.000000</td>\n",
       "      <td>0.0</td>\n",
       "      <td>99998.000000</td>\n",
       "    </tr>\n",
       "  </tbody>\n",
       "</table>\n",
       "</div>"
      ],
      "text/plain": [
       "               Price  RegistrationYear          Power      Kilometer  \\\n",
       "count  354365.000000     354365.000000  354365.000000  354365.000000   \n",
       "mean     4416.679830       2004.234481     110.093816  128211.363989   \n",
       "std      4514.176349         90.228466     189.851330   37905.083858   \n",
       "min         0.000000       1000.000000       0.000000    5000.000000   \n",
       "25%      1050.000000       1999.000000      69.000000  125000.000000   \n",
       "50%      2700.000000       2003.000000     105.000000  150000.000000   \n",
       "75%      6400.000000       2008.000000     143.000000  150000.000000   \n",
       "max     20000.000000       9999.000000   20000.000000  150000.000000   \n",
       "\n",
       "       RegistrationMonth  NumberOfPictures     PostalCode  \n",
       "count      354365.000000          354365.0  354365.000000  \n",
       "mean            5.714650               0.0   50508.503800  \n",
       "std             3.726432               0.0   25783.100078  \n",
       "min             0.000000               0.0    1067.000000  \n",
       "25%             3.000000               0.0   30165.000000  \n",
       "50%             6.000000               0.0   49413.000000  \n",
       "75%             9.000000               0.0   71083.000000  \n",
       "max            12.000000               0.0   99998.000000  "
      ]
     },
     "execution_count": 7,
     "metadata": {},
     "output_type": "execute_result"
    }
   ],
   "source": [
    "df.describe()"
   ]
  },
  {
   "cell_type": "code",
   "execution_count": 8,
   "metadata": {},
   "outputs": [
    {
     "data": {
      "image/png": "[encoded data removed]",
      "text/plain": [
       "<Figure size 432x288 with 2 Axes>"
      ]
     },
     "metadata": {
      "needs_background": "light"
     },
     "output_type": "display_data"
    }
   ],
   "source": [
    "plt.title('Корреляция между признаками', size=14)\n",
    "hm = sns.heatmap(df.corr(),\n",
    "                 cbar=True,\n",
    "                 annot=True)"
   ]
  },
  {
   "cell_type": "markdown",
   "metadata": {},
   "source": [
    "#### Вывод\n",
    "<a id=\"вывод1.1\"></a>"
   ]
  },
  {
   "cell_type": "markdown",
   "metadata": {},
   "source": [
    "В исходном датафрейме: 6 столбцов (9 из них — качественные, а 7 — количественные) , 354369  объектов. Тип данных представлен: int64 - 7 шт, object - 9 шт.\n",
    "Датафрейм df содержит следующие столбцы:\n",
    "Признаки:\n",
    "* DateCrawled — дата скачивания анкеты из базы\n",
    "* VehicleType — тип автомобильного кузова\n",
    "* RegistrationYear — год регистрации автомобиля\n",
    "* Gearbox — тип коробки передач\n",
    "* Power — мощность (л. с.)\n",
    "* Model — модель автомобиля\n",
    "* Kilometer — пробег (км)\n",
    "* RegistrationMonth — месяц регистрации автомобиля\n",
    "* FuelType — тип топлива\n",
    "* Brand — марка автомобиля\n",
    "* NotRepaired — была машина в ремонте или нет\n",
    "* DateCreated — дата создания анкеты\n",
    "* NumberOfPictures — количество фотографий автомобиля\n",
    "* PostalCode — почтовый индекс владельца анкеты (пользователя)\n",
    "* LastSeen — дата последней активности пользователя\n",
    "и целевой признак:\n",
    "* Price  - цена (евро)\n",
    "\n",
    "Пропущенные значения выявлены: VehicleType - 37490 шт, Gearbox - 19833 шт, Model - 19705 шт, FuelType - 32895 шт, NotRepaired - 71154 шт. Необходимо проанализировать и решить, что делать с пропущенными значениями.\n",
    "\n",
    "Столбецы DateCrawled, DateCreated, NumberOfPictures, PostalCode, LastSeen можно удалить, для предсказания стоимости автомобиля эта информация значения не имеет.\n",
    "\n",
    "В RegistrationMonth значение равное нулю трогать не будем, примем это метку - отсутствие данных.\n",
    "\n",
    "Столбецы RegistrationYear и Power проверить на выборосы.\n",
    "\n",
    "Выявлена отрицательная корреляция между целевым признаком Price  и Kilometer, коэффициент Пирсона равен -0,33."
   ]
  },
  {
   "cell_type": "markdown",
   "metadata": {},
   "source": [
    "### Анализ признаков\n",
    "<a id=\"признак\"></a>"
   ]
  },
  {
   "cell_type": "markdown",
   "metadata": {},
   "source": [
    "Удалим столбцы, которые не несут существенной информации для определения стоимости автомобиля"
   ]
  },
  {
   "cell_type": "code",
   "execution_count": 9,
   "metadata": {},
   "outputs": [],
   "source": [
    "df_new=df.drop(['DateCrawled','DateCreated','NumberOfPictures', 'PostalCode', 'LastSeen'], axis=1)"
   ]
  },
  {
   "cell_type": "markdown",
   "metadata": {},
   "source": [
    "Визуализируем распределение целевого признака и признаков: RegistrationYear и Power."
   ]
  },
  {
   "cell_type": "code",
   "execution_count": 10,
   "metadata": {
    "scrolled": true
   },
   "outputs": [
    {
     "data": {
      "text/plain": [
       "<matplotlib.axes._subplots.AxesSubplot at 0x7f6f1ac27410>"
      ]
     },
     "execution_count": 10,
     "metadata": {},
     "output_type": "execute_result"
    },
    {
     "data": {
      "image/png": "[encoded data removed]",
      "text/plain": [
       "<Figure size 720x360 with 1 Axes>"
      ]
     },
     "metadata": {
      "needs_background": "light"
     },
     "output_type": "display_data"
    }
   ],
   "source": [
    "plt.figure(figsize=(10,5))\n",
    "plt.title('Распределение целевого признака')\n",
    "sns.distplot(df_new['Price'])"
   ]
  },
  {
   "cell_type": "code",
   "execution_count": 11,
   "metadata": {
    "scrolled": true
   },
   "outputs": [
    {
     "data": {
      "text/plain": [
       "<matplotlib.axes._subplots.AxesSubplot at 0x7f6f1a530bd0>"
      ]
     },
     "execution_count": 11,
     "metadata": {},
     "output_type": "execute_result"
    },
    {
     "data": {
      "image/png": "[encoded data removed]",
      "text/plain": [
       "<Figure size 432x288 with 1 Axes>"
      ]
     },
     "metadata": {
      "needs_background": "light"
     },
     "output_type": "display_data"
    }
   ],
   "source": [
    "sns.boxplot(df_new['Price'])"
   ]
  },
  {
   "cell_type": "code",
   "execution_count": 12,
   "metadata": {},
   "outputs": [
    {
     "data": {
      "text/plain": [
       "<matplotlib.axes._subplots.AxesSubplot at 0x7f6f1a3e8390>"
      ]
     },
     "execution_count": 12,
     "metadata": {},
     "output_type": "execute_result"
    },
    {
     "data": {
      "image/png": "[encoded data removed]",
      "text/plain": [
       "<Figure size 720x360 with 1 Axes>"
      ]
     },
     "metadata": {
      "needs_background": "light"
     },
     "output_type": "display_data"
    }
   ],
   "source": [
    "plt.figure(figsize=(10,5))\n",
    "plt.title('Распределение  признака RegistrationYear')\n",
    "sns.distplot(df_new['RegistrationYear'])"
   ]
  },
  {
   "cell_type": "code",
   "execution_count": 13,
   "metadata": {
    "scrolled": false
   },
   "outputs": [
    {
     "data": {
      "text/plain": [
       "<matplotlib.axes._subplots.AxesSubplot at 0x7f6f1a3aa990>"
      ]
     },
     "execution_count": 13,
     "metadata": {},
     "output_type": "execute_result"
    },
    {
     "data": {
      "image/png": "[encoded data removed]",
      "text/plain": [
       "<Figure size 432x288 with 1 Axes>"
      ]
     },
     "metadata": {
      "needs_background": "light"
     },
     "output_type": "display_data"
    }
   ],
   "source": [
    "sns.boxplot(df_new['RegistrationYear'])"
   ]
  },
  {
   "cell_type": "markdown",
   "metadata": {},
   "source": [
    "Могут быть раритетные автомобили и их удалять мы не можем. Так же автомобиль не может быть с годом превышающий нынешний год. \n",
    "Объектов с годом регистрации старше 1900г выявлено 66 объектов,  с превышающим 2021 года - 105 шт. \n",
    "Поэтому отсекаем все года до 1900 и после 2021.\n",
    "Эти данные удаляем, т.к. они являются выбросами и будут только мешать работе модели."
   ]
  },
  {
   "cell_type": "code",
   "execution_count": 14,
   "metadata": {
    "scrolled": true
   },
   "outputs": [
    {
     "data": {
      "text/plain": [
       "<matplotlib.axes._subplots.AxesSubplot at 0x7f6f1a2c12d0>"
      ]
     },
     "execution_count": 14,
     "metadata": {},
     "output_type": "execute_result"
    },
    {
     "data": {
      "image/png": "[encoded data removed]",
      "text/plain": [
       "<Figure size 720x360 with 1 Axes>"
      ]
     },
     "metadata": {
      "needs_background": "light"
     },
     "output_type": "display_data"
    }
   ],
   "source": [
    "plt.figure(figsize=(10,5))\n",
    "plt.title('Распределение признака Power')\n",
    "sns.distplot(df_new['Power'])"
   ]
  },
  {
   "cell_type": "code",
   "execution_count": 15,
   "metadata": {
    "scrolled": true
   },
   "outputs": [
    {
     "data": {
      "text/plain": [
       "<matplotlib.axes._subplots.AxesSubplot at 0x7f6f1a26ff10>"
      ]
     },
     "execution_count": 15,
     "metadata": {},
     "output_type": "execute_result"
    },
    {
     "data": {
      "image/png": "[encoded data removed]",
      "text/plain": [
       "<Figure size 432x288 with 1 Axes>"
      ]
     },
     "metadata": {
      "needs_background": "light"
     },
     "output_type": "display_data"
    }
   ],
   "source": [
    "sns.boxplot(df_new['Power'])"
   ]
  },
  {
   "cell_type": "markdown",
   "metadata": {},
   "source": [
    "Со скоростью сложнее. Скорость автомобиля выше 4500 л.с. быть не может. (эта скорость эксклюзивного авто, и в массовым сектором не является.) Первая серийная машина мощностью две тысячи лошадиных сил. Это Lotus Evija.\n",
    "Обычная скорость автомобиля не превышает 1000 л.с. Есть два пути: первый удалить данные, которые неявляются правильными, второе привести их в порядок, т.к. скорее всего здесь проблема с ноликами на конце. Диапозон от 1000 до 10000 уменьшить в 10 раз, выше 10000 уменьшить в 100 раз."
   ]
  },
  {
   "cell_type": "code",
   "execution_count": 16,
   "metadata": {},
   "outputs": [],
   "source": [
    "for i in df_new['Brand'].unique ():\n",
    "    df_new.loc[(df_new['Power'] > 1000) & (df_new['Brand'] == i), 'Power'] = df_new.loc[(df_new['Brand'] == i)]['Power'].mean()"
   ]
  },
  {
   "cell_type": "code",
   "execution_count": 17,
   "metadata": {},
   "outputs": [
    {
     "data": {
      "text/plain": [
       "<matplotlib.axes._subplots.AxesSubplot at 0x7f6f1a1aca50>"
      ]
     },
     "execution_count": 17,
     "metadata": {},
     "output_type": "execute_result"
    },
    {
     "data": {
      "image/png": "[encoded data removed]",
      "text/plain": [
       "<Figure size 720x360 with 1 Axes>"
      ]
     },
     "metadata": {
      "needs_background": "light"
     },
     "output_type": "display_data"
    }
   ],
   "source": [
    "plt.figure(figsize=(10,5))\n",
    "plt.title('Распределение признака Power')\n",
    "sns.distplot(df_new['Power'])"
   ]
  },
  {
   "cell_type": "markdown",
   "metadata": {},
   "source": [
    "Сформируем новую таблицу df_new  без выявленных выбросов."
   ]
  },
  {
   "cell_type": "code",
   "execution_count": 18,
   "metadata": {},
   "outputs": [],
   "source": [
    "df_new = df_new.query('1900 < RegistrationYear < 2021 & 50 <  Power & RegistrationMonth > 0')"
   ]
  },
  {
   "cell_type": "code",
   "execution_count": 19,
   "metadata": {
    "scrolled": true
   },
   "outputs": [
    {
     "data": {
      "text/plain": [
       "<matplotlib.axes._subplots.AxesSubplot at 0x7f6f1a1ac1d0>"
      ]
     },
     "execution_count": 19,
     "metadata": {},
     "output_type": "execute_result"
    },
    {
     "data": {
      "image/png": "[encoded data removed]",
      "text/plain": [
       "<Figure size 720x360 with 1 Axes>"
      ]
     },
     "metadata": {
      "needs_background": "light"
     },
     "output_type": "display_data"
    }
   ],
   "source": [
    "plt.figure(figsize = (10,5))\n",
    "plt.title('Распределение  признака RegistrationYear')\n",
    "sns.distplot(df_new['RegistrationYear'])"
   ]
  },
  {
   "cell_type": "code",
   "execution_count": 20,
   "metadata": {
    "scrolled": true
   },
   "outputs": [
    {
     "data": {
      "text/plain": [
       "<matplotlib.axes._subplots.AxesSubplot at 0x7f6f1a03cb90>"
      ]
     },
     "execution_count": 20,
     "metadata": {},
     "output_type": "execute_result"
    },
    {
     "data": {
      "image/png": "[encoded data removed]",
      "text/plain": [
       "<Figure size 720x360 with 1 Axes>"
      ]
     },
     "metadata": {
      "needs_background": "light"
     },
     "output_type": "display_data"
    }
   ],
   "source": [
    "plt.figure(figsize = (10,5))\n",
    "plt.title('Распределение признака Power')\n",
    "sns.distplot(df_new['Power'])"
   ]
  },
  {
   "cell_type": "markdown",
   "metadata": {},
   "source": [
    "### Предобработка данных\n",
    "<a id=\"предобработка\"></a>"
   ]
  },
  {
   "cell_type": "markdown",
   "metadata": {},
   "source": [
    "Определим количество строк, в которых встречается одновременно пропущенные значения в столбцах: VehicleType, NotRepaired, Gearbox, FuelType и Model."
   ]
  },
  {
   "cell_type": "code",
   "execution_count": 21,
   "metadata": {
    "scrolled": false
   },
   "outputs": [
    {
     "data": {
      "text/plain": [
       "(2237, 16)"
      ]
     },
     "execution_count": 21,
     "metadata": {},
     "output_type": "execute_result"
    }
   ],
   "source": [
    "df.loc[(df['VehicleType'].isnull()) & (df['NotRepaired'].isnull()) & (df['Gearbox'].isnull()) & (df['FuelType'].isnull()) & (df['Model'].isnull())].shape\n",
    "#эти строчки удаляем"
   ]
  },
  {
   "cell_type": "markdown",
   "metadata": {},
   "source": [
    "Выявлено 2237 строк, где одновременно отсутствует данные, поэтому эти строки мы удаляем."
   ]
  },
  {
   "cell_type": "code",
   "execution_count": 22,
   "metadata": {},
   "outputs": [],
   "source": [
    "df_new.drop(df_new.loc[(df['VehicleType'].isnull())&(df_new['NotRepaired'].isnull())&(df_new['Gearbox'].isnull())&(df_new['FuelType'].isnull())&(df_new['Model'].isnull())].index, inplace=True)"
   ]
  },
  {
   "cell_type": "markdown",
   "metadata": {},
   "source": [
    "Сделаем копию таблицы df_new."
   ]
  },
  {
   "cell_type": "code",
   "execution_count": 23,
   "metadata": {},
   "outputs": [],
   "source": [
    "df_new_nan = df_new.copy()"
   ]
  },
  {
   "cell_type": "markdown",
   "metadata": {},
   "source": [
    "Все пропущенные значения находятся в столбцах с типом данных \"объект\", поэтому эти пропущенные значения можно заменить на значение  'unknown', потому что не всегда в жизни бывают известны все данные и это приблизит нашу модель к реалиям жизни."
   ]
  },
  {
   "cell_type": "code",
   "execution_count": 24,
   "metadata": {},
   "outputs": [],
   "source": [
    "df_new_nan = df_new_nan.fillna('unknown')"
   ]
  },
  {
   "cell_type": "markdown",
   "metadata": {},
   "source": [
    "Проверим наличие пропущенных значений в таблице после замены их на 'unknown'."
   ]
  },
  {
   "cell_type": "code",
   "execution_count": 25,
   "metadata": {
    "scrolled": true
   },
   "outputs": [
    {
     "data": {
      "text/plain": [
       "Price                0\n",
       "VehicleType          0\n",
       "RegistrationYear     0\n",
       "Gearbox              0\n",
       "Power                0\n",
       "Model                0\n",
       "Kilometer            0\n",
       "RegistrationMonth    0\n",
       "FuelType             0\n",
       "Brand                0\n",
       "NotRepaired          0\n",
       "dtype: int64"
      ]
     },
     "execution_count": 25,
     "metadata": {},
     "output_type": "execute_result"
    }
   ],
   "source": [
    "df_new_nan.isnull().sum()"
   ]
  },
  {
   "cell_type": "markdown",
   "metadata": {},
   "source": [
    "Признаки относящиеся к типу данных \"object\" переведем в численный тип, т.е закодируем их.\n",
    "Воспользуемся частотным кодированием - этот способ использует частоту категорий в качестве меток. В тех случаях, когда частота связана с целевой переменной, это помогает модели понять и назначить вес в прямой и обратной пропорции, в зависимости от характера данных."
   ]
  },
  {
   "cell_type": "code",
   "execution_count": 26,
   "metadata": {},
   "outputs": [],
   "source": [
    "df_new_nan = df_new_nan.copy()\n",
    "df_new_categ = df_new_nan.copy()"
   ]
  },
  {
   "cell_type": "markdown",
   "metadata": {},
   "source": [
    "Напишем функцию для частотного кодирования."
   ]
  },
  {
   "cell_type": "code",
   "execution_count": 27,
   "metadata": {},
   "outputs": [],
   "source": [
    "def cod_type(col):    \n",
    "     return df_new_nan[col].map(df_new_nan.groupby(col).size()/len(df))"
   ]
  },
  {
   "cell_type": "code",
   "execution_count": 28,
   "metadata": {},
   "outputs": [],
   "source": [
    "df_new_nan.loc[:,'VehicleType_freq'] = cod_type('VehicleType')"
   ]
  },
  {
   "cell_type": "code",
   "execution_count": 29,
   "metadata": {},
   "outputs": [],
   "source": [
    "df_new_nan.loc[:,'Model_freq'] = cod_type('Model')"
   ]
  },
  {
   "cell_type": "code",
   "execution_count": 30,
   "metadata": {},
   "outputs": [],
   "source": [
    "df_new_nan.loc[:,'FuelType_freq'] = cod_type('VehicleType')"
   ]
  },
  {
   "cell_type": "code",
   "execution_count": 31,
   "metadata": {},
   "outputs": [],
   "source": [
    "df_new_nan.loc[:,'Brand_freq'] = cod_type('FuelType')"
   ]
  },
  {
   "cell_type": "code",
   "execution_count": 32,
   "metadata": {},
   "outputs": [],
   "source": [
    "df_new_nan.loc[:,'NotRepaired_freq'] = cod_type('Brand')"
   ]
  },
  {
   "cell_type": "code",
   "execution_count": 33,
   "metadata": {},
   "outputs": [],
   "source": [
    "df_new_nan.loc[:,'Gearbox_freq'] = cod_type('NotRepaired')"
   ]
  },
  {
   "cell_type": "markdown",
   "metadata": {},
   "source": [
    "Удалим не нужные столбцы, оставим закодированные, а те которые имеют тип \"object\" - удалим."
   ]
  },
  {
   "cell_type": "code",
   "execution_count": 34,
   "metadata": {},
   "outputs": [],
   "source": [
    "df_new_nan_final=df_new_nan.drop(['VehicleType','Model','FuelType', 'Brand', 'Gearbox', 'NotRepaired'], axis=1)"
   ]
  },
  {
   "cell_type": "markdown",
   "metadata": {},
   "source": [
    "Проверим, что получилось."
   ]
  },
  {
   "cell_type": "code",
   "execution_count": 35,
   "metadata": {
    "scrolled": true
   },
   "outputs": [
    {
     "data": {
      "text/html": [
       "<div>\n",
       "<style scoped>\n",
       "    .dataframe tbody tr th:only-of-type {\n",
       "        vertical-align: middle;\n",
       "    }\n",
       "\n",
       "    .dataframe tbody tr th {\n",
       "        vertical-align: top;\n",
       "    }\n",
       "\n",
       "    .dataframe thead th {\n",
       "        text-align: right;\n",
       "    }\n",
       "</style>\n",
       "<table border=\"1\" class=\"dataframe\">\n",
       "  <thead>\n",
       "    <tr style=\"text-align: right;\">\n",
       "      <th></th>\n",
       "      <th>Price</th>\n",
       "      <th>RegistrationYear</th>\n",
       "      <th>Power</th>\n",
       "      <th>Kilometer</th>\n",
       "      <th>RegistrationMonth</th>\n",
       "      <th>VehicleType_freq</th>\n",
       "      <th>Model_freq</th>\n",
       "      <th>FuelType_freq</th>\n",
       "      <th>Brand_freq</th>\n",
       "      <th>NotRepaired_freq</th>\n",
       "      <th>Gearbox_freq</th>\n",
       "    </tr>\n",
       "  </thead>\n",
       "  <tbody>\n",
       "    <tr>\n",
       "      <td>1</td>\n",
       "      <td>18300</td>\n",
       "      <td>2011</td>\n",
       "      <td>190.0</td>\n",
       "      <td>125000</td>\n",
       "      <td>5</td>\n",
       "      <td>0.038898</td>\n",
       "      <td>0.027599</td>\n",
       "      <td>0.038898</td>\n",
       "      <td>0.244767</td>\n",
       "      <td>0.071218</td>\n",
       "      <td>0.074776</td>\n",
       "    </tr>\n",
       "    <tr>\n",
       "      <td>2</td>\n",
       "      <td>9800</td>\n",
       "      <td>2004</td>\n",
       "      <td>163.0</td>\n",
       "      <td>125000</td>\n",
       "      <td>8</td>\n",
       "      <td>0.030096</td>\n",
       "      <td>0.001439</td>\n",
       "      <td>0.030096</td>\n",
       "      <td>0.244767</td>\n",
       "      <td>0.001592</td>\n",
       "      <td>0.103614</td>\n",
       "    </tr>\n",
       "    <tr>\n",
       "      <td>3</td>\n",
       "      <td>1500</td>\n",
       "      <td>2001</td>\n",
       "      <td>75.0</td>\n",
       "      <td>150000</td>\n",
       "      <td>6</td>\n",
       "      <td>0.169235</td>\n",
       "      <td>0.068638</td>\n",
       "      <td>0.169235</td>\n",
       "      <td>0.497052</td>\n",
       "      <td>0.167361</td>\n",
       "      <td>0.619635</td>\n",
       "    </tr>\n",
       "    <tr>\n",
       "      <td>4</td>\n",
       "      <td>3600</td>\n",
       "      <td>2008</td>\n",
       "      <td>69.0</td>\n",
       "      <td>90000</td>\n",
       "      <td>7</td>\n",
       "      <td>0.169235</td>\n",
       "      <td>0.005302</td>\n",
       "      <td>0.169235</td>\n",
       "      <td>0.244767</td>\n",
       "      <td>0.013909</td>\n",
       "      <td>0.619635</td>\n",
       "    </tr>\n",
       "    <tr>\n",
       "      <td>5</td>\n",
       "      <td>650</td>\n",
       "      <td>1995</td>\n",
       "      <td>102.0</td>\n",
       "      <td>150000</td>\n",
       "      <td>10</td>\n",
       "      <td>0.226010</td>\n",
       "      <td>0.047928</td>\n",
       "      <td>0.226010</td>\n",
       "      <td>0.497052</td>\n",
       "      <td>0.089619</td>\n",
       "      <td>0.074776</td>\n",
       "    </tr>\n",
       "    <tr>\n",
       "      <td>...</td>\n",
       "      <td>...</td>\n",
       "      <td>...</td>\n",
       "      <td>...</td>\n",
       "      <td>...</td>\n",
       "      <td>...</td>\n",
       "      <td>...</td>\n",
       "      <td>...</td>\n",
       "      <td>...</td>\n",
       "      <td>...</td>\n",
       "      <td>...</td>\n",
       "      <td>...</td>\n",
       "    </tr>\n",
       "    <tr>\n",
       "      <td>354361</td>\n",
       "      <td>5250</td>\n",
       "      <td>2016</td>\n",
       "      <td>150.0</td>\n",
       "      <td>150000</td>\n",
       "      <td>12</td>\n",
       "      <td>0.044804</td>\n",
       "      <td>0.000550</td>\n",
       "      <td>0.044804</td>\n",
       "      <td>0.041082</td>\n",
       "      <td>0.005463</td>\n",
       "      <td>0.619635</td>\n",
       "    </tr>\n",
       "    <tr>\n",
       "      <td>354362</td>\n",
       "      <td>3200</td>\n",
       "      <td>2004</td>\n",
       "      <td>225.0</td>\n",
       "      <td>150000</td>\n",
       "      <td>5</td>\n",
       "      <td>0.226010</td>\n",
       "      <td>0.003463</td>\n",
       "      <td>0.226010</td>\n",
       "      <td>0.497052</td>\n",
       "      <td>0.014908</td>\n",
       "      <td>0.074776</td>\n",
       "    </tr>\n",
       "    <tr>\n",
       "      <td>354366</td>\n",
       "      <td>1199</td>\n",
       "      <td>2000</td>\n",
       "      <td>101.0</td>\n",
       "      <td>125000</td>\n",
       "      <td>3</td>\n",
       "      <td>0.050253</td>\n",
       "      <td>0.008127</td>\n",
       "      <td>0.050253</td>\n",
       "      <td>0.497052</td>\n",
       "      <td>0.009843</td>\n",
       "      <td>0.619635</td>\n",
       "    </tr>\n",
       "    <tr>\n",
       "      <td>354367</td>\n",
       "      <td>9200</td>\n",
       "      <td>1996</td>\n",
       "      <td>102.0</td>\n",
       "      <td>150000</td>\n",
       "      <td>3</td>\n",
       "      <td>0.071872</td>\n",
       "      <td>0.011020</td>\n",
       "      <td>0.071872</td>\n",
       "      <td>0.244767</td>\n",
       "      <td>0.167361</td>\n",
       "      <td>0.619635</td>\n",
       "    </tr>\n",
       "    <tr>\n",
       "      <td>354368</td>\n",
       "      <td>3400</td>\n",
       "      <td>2002</td>\n",
       "      <td>100.0</td>\n",
       "      <td>150000</td>\n",
       "      <td>6</td>\n",
       "      <td>0.160690</td>\n",
       "      <td>0.068638</td>\n",
       "      <td>0.160690</td>\n",
       "      <td>0.244767</td>\n",
       "      <td>0.167361</td>\n",
       "      <td>0.103614</td>\n",
       "    </tr>\n",
       "  </tbody>\n",
       "</table>\n",
       "<p>282792 rows × 11 columns</p>\n",
       "</div>"
      ],
      "text/plain": [
       "        Price  RegistrationYear  Power  Kilometer  RegistrationMonth  \\\n",
       "1       18300              2011  190.0     125000                  5   \n",
       "2        9800              2004  163.0     125000                  8   \n",
       "3        1500              2001   75.0     150000                  6   \n",
       "4        3600              2008   69.0      90000                  7   \n",
       "5         650              1995  102.0     150000                 10   \n",
       "...       ...               ...    ...        ...                ...   \n",
       "354361   5250              2016  150.0     150000                 12   \n",
       "354362   3200              2004  225.0     150000                  5   \n",
       "354366   1199              2000  101.0     125000                  3   \n",
       "354367   9200              1996  102.0     150000                  3   \n",
       "354368   3400              2002  100.0     150000                  6   \n",
       "\n",
       "        VehicleType_freq  Model_freq  FuelType_freq  Brand_freq  \\\n",
       "1               0.038898    0.027599       0.038898    0.244767   \n",
       "2               0.030096    0.001439       0.030096    0.244767   \n",
       "3               0.169235    0.068638       0.169235    0.497052   \n",
       "4               0.169235    0.005302       0.169235    0.244767   \n",
       "5               0.226010    0.047928       0.226010    0.497052   \n",
       "...                  ...         ...            ...         ...   \n",
       "354361          0.044804    0.000550       0.044804    0.041082   \n",
       "354362          0.226010    0.003463       0.226010    0.497052   \n",
       "354366          0.050253    0.008127       0.050253    0.497052   \n",
       "354367          0.071872    0.011020       0.071872    0.244767   \n",
       "354368          0.160690    0.068638       0.160690    0.244767   \n",
       "\n",
       "        NotRepaired_freq  Gearbox_freq  \n",
       "1               0.071218      0.074776  \n",
       "2               0.001592      0.103614  \n",
       "3               0.167361      0.619635  \n",
       "4               0.013909      0.619635  \n",
       "5               0.089619      0.074776  \n",
       "...                  ...           ...  \n",
       "354361          0.005463      0.619635  \n",
       "354362          0.014908      0.074776  \n",
       "354366          0.009843      0.619635  \n",
       "354367          0.167361      0.619635  \n",
       "354368          0.167361      0.103614  \n",
       "\n",
       "[282792 rows x 11 columns]"
      ]
     },
     "execution_count": 35,
     "metadata": {},
     "output_type": "execute_result"
    }
   ],
   "source": [
    "df_new_nan_final"
   ]
  },
  {
   "cell_type": "code",
   "execution_count": 36,
   "metadata": {},
   "outputs": [
    {
     "name": "stdout",
     "output_type": "stream",
     "text": [
      "<class 'pandas.core.frame.DataFrame'>\n",
      "Int64Index: 282792 entries, 1 to 354368\n",
      "Columns: 11 entries, Price to Gearbox_freq\n",
      "dtypes: float64(7), int64(4)\n",
      "memory usage: 25.9 MB\n"
     ]
    }
   ],
   "source": [
    "df_new_nan_final.info(memory_usage='deep', max_cols=0)"
   ]
  },
  {
   "cell_type": "markdown",
   "metadata": {},
   "source": [
    "Уменьшим память занимаемую данными."
   ]
  },
  {
   "cell_type": "code",
   "execution_count": 37,
   "metadata": {},
   "outputs": [],
   "source": [
    "numerics = ['int16', 'int32', 'int64', 'float16', 'float32', 'float64'] \n",
    "for col in df_new_nan_final.columns:\n",
    "    col_type = df_new_nan_final[col].dtypes\n",
    "    if col_type in numerics:\n",
    "        c_min = df_new_nan_final[col].min()\n",
    "        c_max = df_new_nan_final[col].max()\n",
    "        if str(col_type)[:3] == 'int':\n",
    "            # последовательно сравниваем от наименьшего инта начиная с np.int8\n",
    "            # наверх и переопределяем тип для серии\n",
    "            if c_min > np.iinfo(np.int8).min and c_max < np.iinfo(np.int8).max:\n",
    "                df_new_nan_final[col] = df_new_nan_final[col].astype(np.int8)\n",
    "            elif c_min > np.iinfo(np.int16).min and c_max < np.iinfo(np.int16).max:\n",
    "                df_new_nan_final[col] = df_new_nan_final[col].astype(np.int16)  \n",
    "            elif c_min > np.iinfo(np.int32).min and c_max < np.iinfo(np.int32).max:\n",
    "                df_new_nan_final[col] = df_new_nan_final[col].astype(np.int32)      # и т.д.\n",
    "            elif c_min > np.iinfo(np.int64).min and c_max < np.iinfo(np.int64).max:\n",
    "                df_new_nan_final[col] = df_new_nan_final[col].astype(np.int64)      \n",
    "        else:\n",
    "            if str(col_type)[:3] == 'float':\n",
    "                if  c_min > np.iinfo(np.float8).min and c_max < np.iinfo(np.float8).max:\n",
    "                    df_new_nan_final[col] = df_new_nan_final[col].astype(np.float8)\n",
    "                elif c_min > np.iinfo(np.float16).min and c_max < np.iinfo(np.float16).max:\n",
    "                    df_new_nan_final[col] = df_new_nan_final[col].astype(np.float16)  \n",
    "                elif c_min > np.iinfo(np.float32).min and c_max < np.iinfo(np.float32).max:\n",
    "                    df_new_nan_final[col] = df_new_nan_final[col].astype(np.float32)      # и т.д.\n",
    "                elif c_min > np.iinfo(np.float64).min and c_max < np.iinfo(npfloat64).max:\n",
    "                    df_new_nan_final[col] = df_new_nan_final[col].astype(np.float64)   # аналогично для float"
   ]
  },
  {
   "cell_type": "code",
   "execution_count": 38,
   "metadata": {},
   "outputs": [
    {
     "name": "stdout",
     "output_type": "stream",
     "text": [
      "<class 'pandas.core.frame.DataFrame'>\n",
      "Int64Index: 282792 entries, 1 to 354368\n",
      "Columns: 11 entries, Price to Gearbox_freq\n",
      "dtypes: float64(7), int16(2), int32(1), int8(1)\n",
      "memory usage: 19.7 MB\n"
     ]
    }
   ],
   "source": [
    "df_new_nan_final.info(memory_usage='deep', max_cols=0)"
   ]
  },
  {
   "cell_type": "code",
   "execution_count": 39,
   "metadata": {
    "scrolled": false
   },
   "outputs": [
    {
     "data": {
      "image/png": "[encoded data removed]",
      "text/plain": [
       "<Figure size 432x288 with 2 Axes>"
      ]
     },
     "metadata": {
      "needs_background": "light"
     },
     "output_type": "display_data"
    }
   ],
   "source": [
    "plt.title('Корреляция между признаками', size=25)\n",
    "hm = sns.heatmap(df_new_nan_final.corr(),\n",
    "                 cbar=True,\n",
    "                 annot=True)"
   ]
  },
  {
   "cell_type": "code",
   "execution_count": 40,
   "metadata": {},
   "outputs": [],
   "source": [
    "def matrix(pic):\n",
    "    return scatter_matrix(pic, alpha=0.2)"
   ]
  },
  {
   "cell_type": "code",
   "execution_count": 41,
   "metadata": {},
   "outputs": [
    {
     "data": {
      "text/plain": [
       "array([[<matplotlib.axes._subplots.AxesSubplot object at 0x7f6f19c28fd0>,\n",
       "        <matplotlib.axes._subplots.AxesSubplot object at 0x7f6f19be1f50>,\n",
       "        <matplotlib.axes._subplots.AxesSubplot object at 0x7f6f08e3b710>,\n",
       "        <matplotlib.axes._subplots.AxesSubplot object at 0x7f6f08e70f10>],\n",
       "       [<matplotlib.axes._subplots.AxesSubplot object at 0x7f6f08e31710>,\n",
       "        <matplotlib.axes._subplots.AxesSubplot object at 0x7f6f08de5f10>,\n",
       "        <matplotlib.axes._subplots.AxesSubplot object at 0x7f6f08da6750>,\n",
       "        <matplotlib.axes._subplots.AxesSubplot object at 0x7f6f08d58f50>],\n",
       "       [<matplotlib.axes._subplots.AxesSubplot object at 0x7f6f08d64ad0>,\n",
       "        <matplotlib.axes._subplots.AxesSubplot object at 0x7f6f08d25490>,\n",
       "        <matplotlib.axes._subplots.AxesSubplot object at 0x7f6f08c917d0>,\n",
       "        <matplotlib.axes._subplots.AxesSubplot object at 0x7f6f08c43fd0>],\n",
       "       [<matplotlib.axes._subplots.AxesSubplot object at 0x7f6f08c06810>,\n",
       "        <matplotlib.axes._subplots.AxesSubplot object at 0x7f6f08c39f90>,\n",
       "        <matplotlib.axes._subplots.AxesSubplot object at 0x7f6f08b7c850>,\n",
       "        <matplotlib.axes._subplots.AxesSubplot object at 0x7f6f08bb8bd0>]],\n",
       "      dtype=object)"
      ]
     },
     "execution_count": 41,
     "metadata": {},
     "output_type": "execute_result"
    },
    {
     "data": {
      "image/png": "[encoded data removed]",
      "text/plain": [
       "<Figure size 432x288 with 16 Axes>"
      ]
     },
     "metadata": {
      "needs_background": "light"
     },
     "output_type": "display_data"
    }
   ],
   "source": [
    "matrix(df_new_nan_final[['Price', 'Power', 'RegistrationYear', 'Kilometer']])"
   ]
  },
  {
   "cell_type": "code",
   "execution_count": 42,
   "metadata": {},
   "outputs": [
    {
     "data": {
      "text/plain": [
       "array([[<matplotlib.axes._subplots.AxesSubplot object at 0x7f6f08b36a90>,\n",
       "        <matplotlib.axes._subplots.AxesSubplot object at 0x7f6f08af8b50>,\n",
       "        <matplotlib.axes._subplots.AxesSubplot object at 0x7f6f08a9d6d0>,\n",
       "        <matplotlib.axes._subplots.AxesSubplot object at 0x7f6f08a4ee90>],\n",
       "       [<matplotlib.axes._subplots.AxesSubplot object at 0x7f6f08a106d0>,\n",
       "        <matplotlib.axes._subplots.AxesSubplot object at 0x7f6f089c5ed0>,\n",
       "        <matplotlib.axes._subplots.AxesSubplot object at 0x7f6f08986710>,\n",
       "        <matplotlib.axes._subplots.AxesSubplot object at 0x7f6f089b9f10>],\n",
       "       [<matplotlib.axes._subplots.AxesSubplot object at 0x7f6f08942a90>,\n",
       "        <matplotlib.axes._subplots.AxesSubplot object at 0x7f6f08906450>,\n",
       "        <matplotlib.axes._subplots.AxesSubplot object at 0x7f6f088f3790>,\n",
       "        <matplotlib.axes._subplots.AxesSubplot object at 0x7f6f088a5f90>],\n",
       "       [<matplotlib.axes._subplots.AxesSubplot object at 0x7f6f088687d0>,\n",
       "        <matplotlib.axes._subplots.AxesSubplot object at 0x7f6f08819fd0>,\n",
       "        <matplotlib.axes._subplots.AxesSubplot object at 0x7f6f087de810>,\n",
       "        <matplotlib.axes._subplots.AxesSubplot object at 0x7f6f08790f90>]],\n",
       "      dtype=object)"
      ]
     },
     "execution_count": 42,
     "metadata": {},
     "output_type": "execute_result"
    },
    {
     "data": {
      "image/png": "[encoded data removed]",
      "text/plain": [
       "<Figure size 432x288 with 16 Axes>"
      ]
     },
     "metadata": {
      "needs_background": "light"
     },
     "output_type": "display_data"
    }
   ],
   "source": [
    "matrix(df_new_nan_final[['Price', 'RegistrationMonth', 'VehicleType_freq', 'Model_freq']])"
   ]
  },
  {
   "cell_type": "code",
   "execution_count": 43,
   "metadata": {},
   "outputs": [
    {
     "data": {
      "text/plain": [
       "array([[<matplotlib.axes._subplots.AxesSubplot object at 0x7f6f086e9410>,\n",
       "        <matplotlib.axes._subplots.AxesSubplot object at 0x7f6f08609450>,\n",
       "        <matplotlib.axes._subplots.AxesSubplot object at 0x7f6f08592f50>,\n",
       "        <matplotlib.axes._subplots.AxesSubplot object at 0x7f6f08547bd0>,\n",
       "        <matplotlib.axes._subplots.AxesSubplot object at 0x7f6f08506f10>],\n",
       "       [<matplotlib.axes._subplots.AxesSubplot object at 0x7f6f084bbbd0>,\n",
       "        <matplotlib.axes._subplots.AxesSubplot object at 0x7f6f084f9410>,\n",
       "        <matplotlib.axes._subplots.AxesSubplot object at 0x7f6f084afc10>,\n",
       "        <matplotlib.axes._subplots.AxesSubplot object at 0x7f6f084b9790>,\n",
       "        <matplotlib.axes._subplots.AxesSubplot object at 0x7f6f0847a150>],\n",
       "       [<matplotlib.axes._subplots.AxesSubplot object at 0x7f6f083e4fd0>,\n",
       "        <matplotlib.axes._subplots.AxesSubplot object at 0x7f6f08398c90>,\n",
       "        <matplotlib.axes._subplots.AxesSubplot object at 0x7f6f083594d0>,\n",
       "        <matplotlib.axes._subplots.AxesSubplot object at 0x7f6f0830ecd0>,\n",
       "        <matplotlib.axes._subplots.AxesSubplot object at 0x7f6f082cf510>],\n",
       "       [<matplotlib.axes._subplots.AxesSubplot object at 0x7f6f08284d10>,\n",
       "        <matplotlib.axes._subplots.AxesSubplot object at 0x7f6f08244550>,\n",
       "        <matplotlib.axes._subplots.AxesSubplot object at 0x7f6f08279d50>,\n",
       "        <matplotlib.axes._subplots.AxesSubplot object at 0x7f6f0823a590>,\n",
       "        <matplotlib.axes._subplots.AxesSubplot object at 0x7f6f081efd90>],\n",
       "       [<matplotlib.axes._subplots.AxesSubplot object at 0x7f6f081b05d0>,\n",
       "        <matplotlib.axes._subplots.AxesSubplot object at 0x7f6f08164dd0>,\n",
       "        <matplotlib.axes._subplots.AxesSubplot object at 0x7f6f08121e50>,\n",
       "        <matplotlib.axes._subplots.AxesSubplot object at 0x7f6f080d5b10>,\n",
       "        <matplotlib.axes._subplots.AxesSubplot object at 0x7f6f08092e90>]],\n",
       "      dtype=object)"
      ]
     },
     "execution_count": 43,
     "metadata": {},
     "output_type": "execute_result"
    },
    {
     "data": {
      "image/png": "[encoded data removed]",
      "text/plain": [
       "<Figure size 432x288 with 25 Axes>"
      ]
     },
     "metadata": {
      "needs_background": "light"
     },
     "output_type": "display_data"
    }
   ],
   "source": [
    "matrix(df_new_nan_final[['Price', 'FuelType_freq', 'Brand_freq', 'NotRepaired_freq', 'Gearbox_freq']])"
   ]
  },
  {
   "cell_type": "markdown",
   "metadata": {},
   "source": [
    "#### Вывод\n",
    "<a id=\"вывод1.4\"></a>"
   ]
  },
  {
   "cell_type": "markdown",
   "metadata": {},
   "source": [
    "Предобработали данные:\n",
    " * пропущенные значения заменили на метку 'unknown'\n",
    " * удалили выбросы\n",
    " * уменьшили почти на 24% процента  память\n",
    " * выявили корреляцию между целевым признаком и признаками: максимальный положительный коэффициент корреляции 0,45 и 0,48 у RegistrationYear и Power соответственно, отрицательный коэффициент корреляции -0,4 - Kilometer. Некоторые признаки имееют между собой корреляцию сопоставимую с целевым признаком: 0,43 между Model_freq и NotRepaired_freq и отрицательный коэффициент корреляции -0,31 между RegistrationYear и Kilometer.\n",
    " * VehicleType_freq, Model_freq, FuelType_freq, Brand_freq, NotRepaired_freq, Gearbox_freq признаки имеют ненормальное распределение."
   ]
  },
  {
   "cell_type": "markdown",
   "metadata": {},
   "source": [
    "### Подготовка данных для работы с моделями.\n",
    "<a id=\"подготовка\"></a>"
   ]
  },
  {
   "cell_type": "markdown",
   "metadata": {},
   "source": [
    "Так как спрятанной тестовой выборки у нас нет, разделим исходные данные на три выборки: обучающую, валидационную и тестовую. Так как размеры тестовой и валидационной выборок обычно равны, разделим данные в соотношении 3:1:1.\n",
    "\n",
    "Для этого методом train_test_split разделим исходные данные на обучающую (70%) и валидационную выборку (30%), а после этого валидационную выборку разделим пополам — на валидационную и тестовую выборки."
   ]
  },
  {
   "cell_type": "code",
   "execution_count": 44,
   "metadata": {},
   "outputs": [],
   "source": [
    "features =df_new_nan_final.drop(['Price'], axis=1)# признаки \n",
    "target = df_new_nan_final['Price']"
   ]
  },
  {
   "cell_type": "code",
   "execution_count": 45,
   "metadata": {},
   "outputs": [],
   "source": [
    "features_train, features_valid, target_train, target_valid = train_test_split(features, target, \n",
    "                                                    train_size=0.7, random_state=42)"
   ]
  },
  {
   "cell_type": "code",
   "execution_count": 46,
   "metadata": {},
   "outputs": [],
   "source": [
    " features_valid, features_test, target_valid, target_test = train_test_split(features_valid, target_valid, \n",
    "                                                    train_size=0.5, random_state=42)"
   ]
  },
  {
   "cell_type": "code",
   "execution_count": 47,
   "metadata": {},
   "outputs": [
    {
     "name": "stdout",
     "output_type": "stream",
     "text": [
      "Обучающая выборка (197954, 10)\n",
      "Валидационная выборка (42419, 10)\n",
      "Тестовая выборка (42419, 10)\n"
     ]
    }
   ],
   "source": [
    "print('Обучающая выборка', features_train.shape)\n",
    "print('Валидационная выборка', features_valid.shape)\n",
    "print('Тестовая выборка', features_test.shape)"
   ]
  },
  {
   "cell_type": "markdown",
   "metadata": {},
   "source": [
    "Приведем признаки к одному масштабу. Для этого будем использовать структуру для стандартизации данных StandardScaler. Часть признаков у нас уже отмасштабирована, когда мы их кодировали частотным методом. Оставшиеся признаки: RegistrationYear, Power, Kilometer, RegistrationMonth приведем к тому же рабочему диапозону."
   ]
  },
  {
   "cell_type": "code",
   "execution_count": 48,
   "metadata": {},
   "outputs": [
    {
     "data": {
      "text/plain": [
       "MinMaxScaler(copy=True, feature_range=(0, 1))"
      ]
     },
     "execution_count": 48,
     "metadata": {},
     "output_type": "execute_result"
    }
   ],
   "source": [
    "numeric = ['RegistrationYear', 'Power', 'Kilometer', 'RegistrationMonth']\n",
    "#scaler = StandardScaler()\n",
    "scaler = MinMaxScaler()\n",
    "scaler.fit(features_train[numeric])"
   ]
  },
  {
   "cell_type": "code",
   "execution_count": 49,
   "metadata": {},
   "outputs": [],
   "source": [
    "features_train[numeric] = scaler.transform(features_train[numeric])\n",
    "features_valid[numeric] = scaler.transform(features_valid[numeric])\n",
    "features_test[numeric] = scaler.transform(features_test[numeric])"
   ]
  },
  {
   "cell_type": "markdown",
   "metadata": {},
   "source": [
    "Проверим, что получилось"
   ]
  },
  {
   "cell_type": "code",
   "execution_count": 50,
   "metadata": {
    "scrolled": true
   },
   "outputs": [
    {
     "data": {
      "text/html": [
       "<div>\n",
       "<style scoped>\n",
       "    .dataframe tbody tr th:only-of-type {\n",
       "        vertical-align: middle;\n",
       "    }\n",
       "\n",
       "    .dataframe tbody tr th {\n",
       "        vertical-align: top;\n",
       "    }\n",
       "\n",
       "    .dataframe thead th {\n",
       "        text-align: right;\n",
       "    }\n",
       "</style>\n",
       "<table border=\"1\" class=\"dataframe\">\n",
       "  <thead>\n",
       "    <tr style=\"text-align: right;\">\n",
       "      <th></th>\n",
       "      <th>RegistrationYear</th>\n",
       "      <th>Power</th>\n",
       "      <th>Kilometer</th>\n",
       "      <th>RegistrationMonth</th>\n",
       "      <th>VehicleType_freq</th>\n",
       "      <th>Model_freq</th>\n",
       "      <th>FuelType_freq</th>\n",
       "      <th>Brand_freq</th>\n",
       "      <th>NotRepaired_freq</th>\n",
       "      <th>Gearbox_freq</th>\n",
       "    </tr>\n",
       "  </thead>\n",
       "  <tbody>\n",
       "    <tr>\n",
       "      <td>344274</td>\n",
       "      <td>0.853211</td>\n",
       "      <td>0.025290</td>\n",
       "      <td>1.000000</td>\n",
       "      <td>0.363636</td>\n",
       "      <td>0.169235</td>\n",
       "      <td>0.006482</td>\n",
       "      <td>0.169235</td>\n",
       "      <td>0.497052</td>\n",
       "      <td>0.014908</td>\n",
       "      <td>0.103614</td>\n",
       "    </tr>\n",
       "    <tr>\n",
       "      <td>219049</td>\n",
       "      <td>0.853211</td>\n",
       "      <td>0.025290</td>\n",
       "      <td>1.000000</td>\n",
       "      <td>0.909091</td>\n",
       "      <td>0.169235</td>\n",
       "      <td>0.006482</td>\n",
       "      <td>0.169235</td>\n",
       "      <td>0.497052</td>\n",
       "      <td>0.014908</td>\n",
       "      <td>0.619635</td>\n",
       "    </tr>\n",
       "    <tr>\n",
       "      <td>7920</td>\n",
       "      <td>0.752294</td>\n",
       "      <td>0.009484</td>\n",
       "      <td>1.000000</td>\n",
       "      <td>0.454545</td>\n",
       "      <td>0.169235</td>\n",
       "      <td>0.068638</td>\n",
       "      <td>0.169235</td>\n",
       "      <td>0.497052</td>\n",
       "      <td>0.167361</td>\n",
       "      <td>0.619635</td>\n",
       "    </tr>\n",
       "    <tr>\n",
       "      <td>196865</td>\n",
       "      <td>0.880734</td>\n",
       "      <td>0.052687</td>\n",
       "      <td>1.000000</td>\n",
       "      <td>0.454545</td>\n",
       "      <td>0.160690</td>\n",
       "      <td>0.014138</td>\n",
       "      <td>0.160690</td>\n",
       "      <td>0.497052</td>\n",
       "      <td>0.055079</td>\n",
       "      <td>0.619635</td>\n",
       "    </tr>\n",
       "    <tr>\n",
       "      <td>111399</td>\n",
       "      <td>0.834862</td>\n",
       "      <td>0.025290</td>\n",
       "      <td>1.000000</td>\n",
       "      <td>0.363636</td>\n",
       "      <td>0.169235</td>\n",
       "      <td>0.012126</td>\n",
       "      <td>0.169235</td>\n",
       "      <td>0.497052</td>\n",
       "      <td>0.025256</td>\n",
       "      <td>0.619635</td>\n",
       "    </tr>\n",
       "    <tr>\n",
       "      <td>...</td>\n",
       "      <td>...</td>\n",
       "      <td>...</td>\n",
       "      <td>...</td>\n",
       "      <td>...</td>\n",
       "      <td>...</td>\n",
       "      <td>...</td>\n",
       "      <td>...</td>\n",
       "      <td>...</td>\n",
       "      <td>...</td>\n",
       "      <td>...</td>\n",
       "    </tr>\n",
       "    <tr>\n",
       "      <td>150329</td>\n",
       "      <td>0.871560</td>\n",
       "      <td>0.042150</td>\n",
       "      <td>1.000000</td>\n",
       "      <td>0.363636</td>\n",
       "      <td>0.071872</td>\n",
       "      <td>0.054687</td>\n",
       "      <td>0.071872</td>\n",
       "      <td>0.244767</td>\n",
       "      <td>0.076653</td>\n",
       "      <td>0.619635</td>\n",
       "    </tr>\n",
       "    <tr>\n",
       "      <td>324709</td>\n",
       "      <td>0.880734</td>\n",
       "      <td>0.104320</td>\n",
       "      <td>1.000000</td>\n",
       "      <td>0.454545</td>\n",
       "      <td>0.160690</td>\n",
       "      <td>0.009327</td>\n",
       "      <td>0.160690</td>\n",
       "      <td>0.244767</td>\n",
       "      <td>0.085861</td>\n",
       "      <td>0.619635</td>\n",
       "    </tr>\n",
       "    <tr>\n",
       "      <td>165444</td>\n",
       "      <td>0.844037</td>\n",
       "      <td>0.025290</td>\n",
       "      <td>1.000000</td>\n",
       "      <td>0.181818</td>\n",
       "      <td>0.160690</td>\n",
       "      <td>0.005302</td>\n",
       "      <td>0.160690</td>\n",
       "      <td>0.497052</td>\n",
       "      <td>0.013909</td>\n",
       "      <td>0.619635</td>\n",
       "    </tr>\n",
       "    <tr>\n",
       "      <td>184096</td>\n",
       "      <td>0.688073</td>\n",
       "      <td>0.068493</td>\n",
       "      <td>1.000000</td>\n",
       "      <td>0.636364</td>\n",
       "      <td>0.169235</td>\n",
       "      <td>0.054687</td>\n",
       "      <td>0.169235</td>\n",
       "      <td>0.497052</td>\n",
       "      <td>0.038291</td>\n",
       "      <td>0.619635</td>\n",
       "    </tr>\n",
       "    <tr>\n",
       "      <td>152967</td>\n",
       "      <td>0.816514</td>\n",
       "      <td>0.074816</td>\n",
       "      <td>0.655172</td>\n",
       "      <td>0.545455</td>\n",
       "      <td>0.226010</td>\n",
       "      <td>0.020400</td>\n",
       "      <td>0.226010</td>\n",
       "      <td>0.497052</td>\n",
       "      <td>0.076653</td>\n",
       "      <td>0.619635</td>\n",
       "    </tr>\n",
       "  </tbody>\n",
       "</table>\n",
       "<p>197954 rows × 10 columns</p>\n",
       "</div>"
      ],
      "text/plain": [
       "        RegistrationYear     Power  Kilometer  RegistrationMonth  \\\n",
       "344274          0.853211  0.025290   1.000000           0.363636   \n",
       "219049          0.853211  0.025290   1.000000           0.909091   \n",
       "7920            0.752294  0.009484   1.000000           0.454545   \n",
       "196865          0.880734  0.052687   1.000000           0.454545   \n",
       "111399          0.834862  0.025290   1.000000           0.363636   \n",
       "...                  ...       ...        ...                ...   \n",
       "150329          0.871560  0.042150   1.000000           0.363636   \n",
       "324709          0.880734  0.104320   1.000000           0.454545   \n",
       "165444          0.844037  0.025290   1.000000           0.181818   \n",
       "184096          0.688073  0.068493   1.000000           0.636364   \n",
       "152967          0.816514  0.074816   0.655172           0.545455   \n",
       "\n",
       "        VehicleType_freq  Model_freq  FuelType_freq  Brand_freq  \\\n",
       "344274          0.169235    0.006482       0.169235    0.497052   \n",
       "219049          0.169235    0.006482       0.169235    0.497052   \n",
       "7920            0.169235    0.068638       0.169235    0.497052   \n",
       "196865          0.160690    0.014138       0.160690    0.497052   \n",
       "111399          0.169235    0.012126       0.169235    0.497052   \n",
       "...                  ...         ...            ...         ...   \n",
       "150329          0.071872    0.054687       0.071872    0.244767   \n",
       "324709          0.160690    0.009327       0.160690    0.244767   \n",
       "165444          0.160690    0.005302       0.160690    0.497052   \n",
       "184096          0.169235    0.054687       0.169235    0.497052   \n",
       "152967          0.226010    0.020400       0.226010    0.497052   \n",
       "\n",
       "        NotRepaired_freq  Gearbox_freq  \n",
       "344274          0.014908      0.103614  \n",
       "219049          0.014908      0.619635  \n",
       "7920            0.167361      0.619635  \n",
       "196865          0.055079      0.619635  \n",
       "111399          0.025256      0.619635  \n",
       "...                  ...           ...  \n",
       "150329          0.076653      0.619635  \n",
       "324709          0.085861      0.619635  \n",
       "165444          0.013909      0.619635  \n",
       "184096          0.038291      0.619635  \n",
       "152967          0.076653      0.619635  \n",
       "\n",
       "[197954 rows x 10 columns]"
      ]
     },
     "execution_count": 50,
     "metadata": {},
     "output_type": "execute_result"
    }
   ],
   "source": [
    "features_train"
   ]
  },
  {
   "cell_type": "markdown",
   "metadata": {},
   "source": [
    "Для моделей CatBoostRegressor и LGBMRegressor данные подготовим отдельно.\n",
    "    \n",
    "Заменим типы данных на категориальные."
   ]
  },
  {
   "cell_type": "code",
   "execution_count": 51,
   "metadata": {},
   "outputs": [],
   "source": [
    "cols_categ = df_new_categ.select_dtypes(include='object').columns\n",
    "for col in cols_categ:\n",
    "    df_new_categ[col] = df_new_categ[col].astype('category')"
   ]
  },
  {
   "cell_type": "code",
   "execution_count": 52,
   "metadata": {},
   "outputs": [],
   "source": [
    "features_train_categ, features_valid_categ, target_train_categ, target_valid_categ = train_test_split(\n",
    "    df_new_categ.drop('Price', axis=1), df_new_categ.Price, test_size=0.3, random_state=12345)"
   ]
  },
  {
   "cell_type": "code",
   "execution_count": 53,
   "metadata": {},
   "outputs": [],
   "source": [
    "features_valid_categ, features_test_categ, target_valid_categ, target_test_categ = train_test_split(\n",
    "    features_valid_categ, target_valid_categ, train_size=0.5, random_state=42)"
   ]
  },
  {
   "cell_type": "code",
   "execution_count": 54,
   "metadata": {},
   "outputs": [
    {
     "name": "stdout",
     "output_type": "stream",
     "text": [
      "Обучающая выборка (197954, 10)\n",
      "Валидационная выборка (42419, 10)\n",
      "Тестовая выборка (42419, 10)\n"
     ]
    }
   ],
   "source": [
    "print('Обучающая выборка', features_train_categ.shape)\n",
    "print('Валидационная выборка', features_valid_categ.shape)\n",
    "print('Тестовая выборка', features_test_categ.shape)"
   ]
  },
  {
   "cell_type": "code",
   "execution_count": 55,
   "metadata": {},
   "outputs": [],
   "source": [
    "cat_features = ['VehicleType', 'Gearbox', 'Model', 'FuelType', 'Brand', 'NotRepaired']"
   ]
  },
  {
   "cell_type": "markdown",
   "metadata": {},
   "source": [
    "## Обучение моделей\n",
    "<a id=\"обучение\"></a>"
   ]
  },
  {
   "cell_type": "markdown",
   "metadata": {},
   "source": [
    "Обучим следующие модели регрессии:\n",
    "* LinearRegression - линейной регрессии\n",
    "* RandomForestRegressor - случайный лес для регрессии\n",
    "* LGBMRegressor - градиентный бустинг и модель линейной регрессии\n",
    "* Ridge - гребневая регрессия\n",
    "* CatBoostRegressor - градиентный бустинг и модели линейной регрессии\n",
    "\n",
    "Оценим скорость обучения и время затраченое для предсказания, а также предсказания - метрику RMSE."
   ]
  },
  {
   "cell_type": "markdown",
   "metadata": {},
   "source": [
    "Напишем функцию для подсчета времени и  расчета метрики  rmse"
   ]
  },
  {
   "cell_type": "code",
   "execution_count": 56,
   "metadata": {},
   "outputs": [],
   "source": [
    "def time_model(model, feat_tr, targ_tr, feat_val, targ_val):\n",
    "    start = time.time()\n",
    "\n",
    "    model_study = model\n",
    "    model_study.fit(feat_tr, targ_tr)\n",
    "\n",
    "    end = time.time()\n",
    "    catboost_time_study = end - start\n",
    "    \n",
    "    start = time.time()\n",
    "    predicted_valid = model_study.predict(feat_val) \n",
    "    mse=mean_squared_error(targ_val, predicted_valid)# средняя квадратичная ошибка\n",
    "    RMSE = mse ** 0.5# квадратный корень из средней квадратичной ошибки\n",
    "    end = time.time()\n",
    "    catboost_time_pred = end - start\n",
    "    return RMSE, catboost_time_study, catboost_time_pred"
   ]
  },
  {
   "cell_type": "code",
   "execution_count": 57,
   "metadata": {},
   "outputs": [],
   "source": [
    "rmse_LR, time_study_LR, time_pred_LR = time_model(LinearRegression() , features_train, target_train, features_valid, target_valid)"
   ]
  },
  {
   "cell_type": "code",
   "execution_count": 58,
   "metadata": {},
   "outputs": [],
   "source": [
    "rmse_RFR, time_study_RFR, time_pred_RFR = time_model(RandomForestRegressor() , features_train, target_train, features_valid, target_valid)"
   ]
  },
  {
   "cell_type": "code",
   "execution_count": 59,
   "metadata": {
    "scrolled": true
   },
   "outputs": [],
   "source": [
    "rmse_LGBMR, time_study_LGBMR, time_pred_LGBMR = time_model(LGBMRegressor(), \n",
    "                                                           features_train_categ, target_train_categ, features_valid_categ, target_valid_categ)"
   ]
  },
  {
   "cell_type": "code",
   "execution_count": 60,
   "metadata": {},
   "outputs": [],
   "source": [
    "rmse_Rid, time_study_Rid, time_pred_Rid = time_model(Ridge() , features_train, target_train, features_valid, target_valid)"
   ]
  },
  {
   "cell_type": "code",
   "execution_count": 61,
   "metadata": {
    "scrolled": true
   },
   "outputs": [],
   "source": [
    "rmse_CBR, time_study_CBR, time_pred_CBR = time_model(CatBoostRegressor(iterations=35, cat_features=cat_features, verbose =False), \n",
    "                                                     features_train_categ, target_train_categ, features_valid_categ, target_valid_categ)"
   ]
  },
  {
   "cell_type": "code",
   "execution_count": 62,
   "metadata": {
    "scrolled": false
   },
   "outputs": [
    {
     "data": {
      "text/html": [
       "<div>\n",
       "<style scoped>\n",
       "    .dataframe tbody tr th:only-of-type {\n",
       "        vertical-align: middle;\n",
       "    }\n",
       "\n",
       "    .dataframe tbody tr th {\n",
       "        vertical-align: top;\n",
       "    }\n",
       "\n",
       "    .dataframe thead th {\n",
       "        text-align: right;\n",
       "    }\n",
       "</style>\n",
       "<table border=\"1\" class=\"dataframe\">\n",
       "  <thead>\n",
       "    <tr style=\"text-align: right;\">\n",
       "      <th></th>\n",
       "      <th>Модель</th>\n",
       "      <th>Параметры</th>\n",
       "      <th>Время обучения</th>\n",
       "      <th>Скорость предсказания</th>\n",
       "      <th>RMSE</th>\n",
       "    </tr>\n",
       "  </thead>\n",
       "  <tbody>\n",
       "    <tr>\n",
       "      <td>0</td>\n",
       "      <td>LinearRegression</td>\n",
       "      <td>-</td>\n",
       "      <td>0.074107</td>\n",
       "      <td>0.076812</td>\n",
       "      <td>3109.878835</td>\n",
       "    </tr>\n",
       "    <tr>\n",
       "      <td>1</td>\n",
       "      <td>RandomForestRegressor</td>\n",
       "      <td>-</td>\n",
       "      <td>7.793949</td>\n",
       "      <td>0.243969</td>\n",
       "      <td>1766.407720</td>\n",
       "    </tr>\n",
       "    <tr>\n",
       "      <td>2</td>\n",
       "      <td>LGBMRegressor</td>\n",
       "      <td>-</td>\n",
       "      <td>7.589327</td>\n",
       "      <td>0.695080</td>\n",
       "      <td>1728.825116</td>\n",
       "    </tr>\n",
       "    <tr>\n",
       "      <td>3</td>\n",
       "      <td>Ridge</td>\n",
       "      <td>-</td>\n",
       "      <td>0.017382</td>\n",
       "      <td>0.003012</td>\n",
       "      <td>3109.883982</td>\n",
       "    </tr>\n",
       "    <tr>\n",
       "      <td>4</td>\n",
       "      <td>CatBoostRegressor</td>\n",
       "      <td>iterations=35</td>\n",
       "      <td>13.195566</td>\n",
       "      <td>0.071284</td>\n",
       "      <td>2858.178871</td>\n",
       "    </tr>\n",
       "  </tbody>\n",
       "</table>\n",
       "</div>"
      ],
      "text/plain": [
       "                  Модель      Параметры  Время обучения  \\\n",
       "0       LinearRegression              -        0.074107   \n",
       "1  RandomForestRegressor              -        7.793949   \n",
       "2          LGBMRegressor              -        7.589327   \n",
       "3                  Ridge              -        0.017382   \n",
       "4      CatBoostRegressor  iterations=35       13.195566   \n",
       "\n",
       "   Скорость предсказания         RMSE  \n",
       "0               0.076812  3109.878835  \n",
       "1               0.243969  1766.407720  \n",
       "2               0.695080  1728.825116  \n",
       "3               0.003012  3109.883982  \n",
       "4               0.071284  2858.178871  "
      ]
     },
     "execution_count": 62,
     "metadata": {},
     "output_type": "execute_result"
    }
   ],
   "source": [
    "model_valid = pd.DataFrame({'Модель': ['LinearRegression','RandomForestRegressor','LGBMRegressor','Ridge', 'CatBoostRegressor'],\n",
    "                'Параметры': ['-',  '-',  '-',  '-', 'iterations=35'], \n",
    "                'Время обучения': [time_study_LR, time_study_RFR, time_study_LGBMR, time_study_Rid, time_study_CBR], \n",
    "                'Скорость предсказания': [time_pred_LR,time_pred_RFR, time_pred_LGBMR, time_pred_Rid, time_pred_CBR], \n",
    "                'RMSE': [rmse_LR, rmse_RFR, rmse_LGBMR, rmse_Rid, rmse_CBR]})#, index=['LinearRegression','RandomForestRegressor','LGBMRegressor','Ridge'])\n",
    "model_valid"
   ]
  },
  {
   "cell_type": "markdown",
   "metadata": {},
   "source": [
    "### Вывод\n",
    "<a id=\"вывод2.1\"></a>"
   ]
  },
  {
   "cell_type": "markdown",
   "metadata": {},
   "source": [
    "Обученные модели на валидационной выборке показали результаты плохие. Метрика RMSE тем лучше, чем ближе она к нулю, поэтому самыми лучшими моделями в порядке ухудшения являются: RandomForestRegressor, LGBMRegressor, CatBoostRegressor, Ridge и LinearRegression.\n",
    "\n",
    "Время затрачиваемое на обучение и предсказание самое быстрое у Ridge и LinearRegression.\n",
    "У моделей RandomForestRegressor, CatBoostRegressor,  и LGBMRegressor время затрачиваемое на обучение возрастает.\n",
    "\n",
    "Скорость предсказания выше у Ridge, LinearRegression, CatBoostRegressor, RandomForestRegressor и LGBMRegressor."
   ]
  },
  {
   "cell_type": "markdown",
   "metadata": {},
   "source": [
    "### Подбор параметров\n",
    "<a id=\"параметр\"></a>"
   ]
  },
  {
   "cell_type": "code",
   "execution_count": 63,
   "metadata": {},
   "outputs": [],
   "source": [
    "def grid_search(X, y, model, parameters):#функция для автоматического подбора параметров\n",
    "    model_cv = GridSearchCV(model, parameters, cv=4, scoring='neg_mean_squared_error', n_jobs=-1)#спомощью GridSearchCV подбираем параметры\n",
    "    model_cv.fit(X, y)#обучаем модель\n",
    "    return model_cv.best_params_#возвращаем наилучшие параметры"
   ]
  },
  {
   "cell_type": "code",
   "execution_count": 64,
   "metadata": {},
   "outputs": [
    {
     "data": {
      "text/plain": [
       "{'copy_X': True, 'fit_intercept': True, 'normalize': True}"
      ]
     },
     "execution_count": 64,
     "metadata": {},
     "output_type": "execute_result"
    }
   ],
   "source": [
    "parameters_LR = {'fit_intercept':[True,False], 'normalize':[True,False], 'copy_X':[True, False]}#Отдельно создаем словарик, в который вписываем параметры, которые будем прогонять GridSearch’ем. \n",
    "grid_search(features_train, target_train, LinearRegression(), parameters_LR)"
   ]
  },
  {
   "cell_type": "code",
   "execution_count": 65,
   "metadata": {},
   "outputs": [
    {
     "data": {
      "text/plain": [
       "{'bootstrap': False, 'max_features': 3, 'n_estimators': 10}"
      ]
     },
     "execution_count": 65,
     "metadata": {},
     "output_type": "execute_result"
    }
   ],
   "source": [
    "parameters_RFR = [\n",
    "{'n_estimators': [3, 10, 30], 'max_features': [2, 4, 6, 8],  'max_depth':[2,4,6]},\n",
    "{'bootstrap': [False], 'n_estimators': [3, 10], 'max_features': [2, 3, 4]}\n",
    "]\n",
    "grid_search(features_train, target_train, RandomForestRegressor(), parameters_RFR)"
   ]
  },
  {
   "cell_type": "code",
   "execution_count": 66,
   "metadata": {},
   "outputs": [
    {
     "data": {
      "text/plain": [
       "{'max_depth': -1, 'n_estimators': 200}"
      ]
     },
     "execution_count": 66,
     "metadata": {},
     "output_type": "execute_result"
    }
   ],
   "source": [
    "parameters_LGBMR = {\n",
    "    'max_depth': [-1, 3, 5],\n",
    "    'n_estimators': [100, 200]}\n",
    "grid_search(features_train, target_train,  LGBMRegressor(), parameters_LGBMR)"
   ]
  },
  {
   "cell_type": "code",
   "execution_count": 67,
   "metadata": {},
   "outputs": [
    {
     "data": {
      "text/plain": [
       "{'alpha': 0.1}"
      ]
     },
     "execution_count": 67,
     "metadata": {},
     "output_type": "execute_result"
    }
   ],
   "source": [
    "parameters_Ridge={'alpha': [25,10, 4, 2, 1, 0.5,0.1, 0.05, 0.01]}\n",
    "grid_search(features_train, target_train, Ridge(), parameters_Ridge)"
   ]
  },
  {
   "cell_type": "code",
   "execution_count": 68,
   "metadata": {},
   "outputs": [
    {
     "data": {
      "text/plain": [
       "{'depth': 8, 'iterations': 100, 'learning_rate': 0.5, 'verbose': False}"
      ]
     },
     "execution_count": 68,
     "metadata": {},
     "output_type": "execute_result"
    }
   ],
   "source": [
    "parameters_CBR={'iterations': [50, 100],\n",
    "                'depth': [2,8],\n",
    "                 'learning_rate' : [0.1,0.5],\n",
    "                 'verbose': [False]}\n",
    "grid_search(features_train, target_train, CatBoostRegressor(), parameters_CBR)"
   ]
  },
  {
   "cell_type": "markdown",
   "metadata": {},
   "source": [
    "## Анализ моделей\n",
    "<a id=\"анализ\"></a>"
   ]
  },
  {
   "cell_type": "code",
   "execution_count": 69,
   "metadata": {},
   "outputs": [],
   "source": [
    "rmse_LR_best, time_study_LR_best, time_pred_LR_best = time_model(LinearRegression(\n",
    "    copy_X = True, fit_intercept = True, normalize = True) , features_train, target_train, features_valid, target_valid)"
   ]
  },
  {
   "cell_type": "code",
   "execution_count": 70,
   "metadata": {},
   "outputs": [],
   "source": [
    "rmse_RFR_best, time_study_RFR_best, time_pred_RFR_best = time_model(RandomForestRegressor(\n",
    "    random_state = 42, bootstrap = False, max_features = 3, n_estimators = 10) , features_train, target_train, \n",
    "                                                                    features_valid, target_valid)"
   ]
  },
  {
   "cell_type": "code",
   "execution_count": 71,
   "metadata": {},
   "outputs": [],
   "source": [
    "rmse_LGBMR_best, time_study_LGBMR_best, time_pred_LGBMR_best = time_model(LGBMRegressor(\n",
    "    random_state = 42, max_depth = -1, n_estimators = 200) , features_train_categ, target_train_categ, \n",
    "                                                                          features_valid_categ, target_valid_categ)"
   ]
  },
  {
   "cell_type": "code",
   "execution_count": 72,
   "metadata": {},
   "outputs": [],
   "source": [
    "rmse_Rid_best, time_study_Rid_best, time_pred_Rid_best = time_model(Ridge(\n",
    "    random_state = 12345, alpha = 0.01) , features_train, target_train, features_valid, target_valid)"
   ]
  },
  {
   "cell_type": "code",
   "execution_count": 73,
   "metadata": {},
   "outputs": [],
   "source": [
    "rmse_CBR_best, time_study_CBR_best, time_pred_CBR_best = time_model(CatBoostRegressor(\n",
    "    random_state = 42, depth = 8, iterations = 100, learning_rate = 0.5, cat_features=cat_features, verbose = False) , features_train_categ, \n",
    "                                                                    target_train_categ, features_valid_categ, target_valid_categ)"
   ]
  },
  {
   "cell_type": "code",
   "execution_count": 74,
   "metadata": {},
   "outputs": [
    {
     "data": {
      "text/html": [
       "<div>\n",
       "<style scoped>\n",
       "    .dataframe tbody tr th:only-of-type {\n",
       "        vertical-align: middle;\n",
       "    }\n",
       "\n",
       "    .dataframe tbody tr th {\n",
       "        vertical-align: top;\n",
       "    }\n",
       "\n",
       "    .dataframe thead th {\n",
       "        text-align: right;\n",
       "    }\n",
       "</style>\n",
       "<table border=\"1\" class=\"dataframe\">\n",
       "  <thead>\n",
       "    <tr style=\"text-align: right;\">\n",
       "      <th></th>\n",
       "      <th>Модель</th>\n",
       "      <th>Параметры</th>\n",
       "      <th>Время обучения</th>\n",
       "      <th>Скорость предсказания</th>\n",
       "      <th>RMSE</th>\n",
       "      <th>RMSE_best</th>\n",
       "    </tr>\n",
       "  </thead>\n",
       "  <tbody>\n",
       "    <tr>\n",
       "      <td>0</td>\n",
       "      <td>LinearRegression</td>\n",
       "      <td>copy_X = True, fit_intercept = True, normalize...</td>\n",
       "      <td>0.049633</td>\n",
       "      <td>0.011526</td>\n",
       "      <td>3109.878835</td>\n",
       "      <td>3109.878835</td>\n",
       "    </tr>\n",
       "    <tr>\n",
       "      <td>1</td>\n",
       "      <td>RandomForestRegressor</td>\n",
       "      <td>random_state = 42, bootstrap = False, max_feat...</td>\n",
       "      <td>4.805545</td>\n",
       "      <td>0.277824</td>\n",
       "      <td>1766.407720</td>\n",
       "      <td>1792.356689</td>\n",
       "    </tr>\n",
       "    <tr>\n",
       "      <td>2</td>\n",
       "      <td>LGBMRegressor</td>\n",
       "      <td>random_state = 42, max_depth = -1, n_estimator...</td>\n",
       "      <td>13.405577</td>\n",
       "      <td>1.301669</td>\n",
       "      <td>1728.825116</td>\n",
       "      <td>1692.331141</td>\n",
       "    </tr>\n",
       "    <tr>\n",
       "      <td>3</td>\n",
       "      <td>Ridge</td>\n",
       "      <td>random_state = 12345, alpha = 0.01</td>\n",
       "      <td>0.016318</td>\n",
       "      <td>0.002983</td>\n",
       "      <td>3109.883982</td>\n",
       "      <td>3109.878859</td>\n",
       "    </tr>\n",
       "    <tr>\n",
       "      <td>4</td>\n",
       "      <td>CatBoostRegressor</td>\n",
       "      <td>random_state = 42, iterations = 100, depth = 2...</td>\n",
       "      <td>41.973670</td>\n",
       "      <td>0.045862</td>\n",
       "      <td>2858.178871</td>\n",
       "      <td>1732.157121</td>\n",
       "    </tr>\n",
       "  </tbody>\n",
       "</table>\n",
       "</div>"
      ],
      "text/plain": [
       "                  Модель                                          Параметры  \\\n",
       "0       LinearRegression  copy_X = True, fit_intercept = True, normalize...   \n",
       "1  RandomForestRegressor  random_state = 42, bootstrap = False, max_feat...   \n",
       "2          LGBMRegressor  random_state = 42, max_depth = -1, n_estimator...   \n",
       "3                  Ridge                 random_state = 12345, alpha = 0.01   \n",
       "4      CatBoostRegressor  random_state = 42, iterations = 100, depth = 2...   \n",
       "\n",
       "   Время обучения  Скорость предсказания         RMSE    RMSE_best  \n",
       "0        0.049633               0.011526  3109.878835  3109.878835  \n",
       "1        4.805545               0.277824  1766.407720  1792.356689  \n",
       "2       13.405577               1.301669  1728.825116  1692.331141  \n",
       "3        0.016318               0.002983  3109.883982  3109.878859  \n",
       "4       41.973670               0.045862  2858.178871  1732.157121  "
      ]
     },
     "execution_count": 74,
     "metadata": {},
     "output_type": "execute_result"
    }
   ],
   "source": [
    "model_valid = pd.DataFrame({'Модель': ['LinearRegression','RandomForestRegressor','LGBMRegressor','Ridge', 'CatBoostRegressor'],\n",
    "                'Параметры':  ['copy_X = True, fit_intercept = True, normalize = False', 'random_state = 42, bootstrap = False, max_features = 3, n_estimators = 10',\n",
    "                              'random_state = 42, max_depth = -1, n_estimators = 200',  'random_state = 12345, alpha = 0.01', 'random_state = 42, iterations = 100, depth = 2, loss_function = \"RMSE\", verbose = False'], \n",
    "                'Время обучения': [time_study_LR_best, time_study_RFR_best, time_study_LGBMR_best, time_study_Rid_best, time_study_CBR_best], \n",
    "                'Скорость предсказания': [time_pred_LR_best,time_pred_RFR_best, time_pred_LGBMR_best, time_pred_Rid_best, time_pred_CBR_best], \n",
    "                'RMSE': [rmse_LR, rmse_RFR, rmse_LGBMR, rmse_Rid, rmse_CBR],\n",
    "                'RMSE_best': [rmse_LR_best, rmse_RFR_best, rmse_LGBMR_best, rmse_Rid_best, rmse_CBR_best]})\n",
    "model_valid"
   ]
  },
  {
   "cell_type": "markdown",
   "metadata": {},
   "source": [
    "Сравним качество предсказаний моделей с подобранными параметрами, наилучшей моделью является LGBMRegressor, затем по мере ухудшения метрики RMSE CatBoostRegressor, RandomForestRegressor, Ridge и \n",
    "LinearRegression.\n",
    "\n",
    "Время затрачиваемое на обучение и предсказание самое быстрое у Ridge и LinearRegression.\n",
    "\n",
    "RandomForestRegressor  обучается быстрее, чем LGBMRegressor и CatBoostRegressor.\n",
    "\n",
    "Скорость предсказания выше у LinearRegression, CatBoostRegressor, Ridge, RandomForestRegressor и LGBMRegressor.\n",
    "\n",
    "Модель LGBMRegressor является наилучшей среди рассматриваемых моделей, т.к. метрика RMSE самая минимальная, скорость предсказания из рассматриваемых моделей самая медленная, обучаемость не самое длительное. Однако, затрачиваемое время на обучение не критично длительное."
   ]
  },
  {
   "cell_type": "markdown",
   "metadata": {},
   "source": [
    "Сравним качество наших моделей с работой фиктивной модели."
   ]
  },
  {
   "cell_type": "code",
   "execution_count": 75,
   "metadata": {},
   "outputs": [
    {
     "name": "stdout",
     "output_type": "stream",
     "text": [
      "RMSE_dummy: 4643.106044207798\n"
     ]
    }
   ],
   "source": [
    "dummy_regr = DummyRegressor(strategy='mean')\n",
    "\n",
    "dummy_regr.fit(features_train, target_train)\n",
    "predicted_regr_dummy = dummy_regr.predict(features_test)\n",
    "mse_dummy = mean_squared_error(target_test, predicted_regr_dummy)# средняя квадратичная ошибка\n",
    "RMSE_dummy  = mse_dummy ** 0.5\n",
    "print('RMSE_dummy:', RMSE_dummy )"
   ]
  },
  {
   "cell_type": "markdown",
   "metadata": {},
   "source": [
    "Все модели работают лучше чем фиктивная модель."
   ]
  },
  {
   "cell_type": "markdown",
   "metadata": {},
   "source": [
    "### Проверяем на тестовых данных\n",
    "<a id=\"тест\"></a>"
   ]
  },
  {
   "cell_type": "code",
   "execution_count": 76,
   "metadata": {},
   "outputs": [],
   "source": [
    "rmse_LR_test, time_study_LR_test, time_pred_LR_test = time_model(LinearRegression(\n",
    "    copy_X = True, fit_intercept = True, normalize = True) , features_train, target_train, features_test, target_test)"
   ]
  },
  {
   "cell_type": "code",
   "execution_count": 77,
   "metadata": {},
   "outputs": [],
   "source": [
    "rmse_RFR_test, time_study_RFR_test, time_pred_RFR_test = time_model(RandomForestRegressor(\n",
    "    random_state=42, bootstrap = False, max_features = 3, n_estimators = 10) , features_train, target_train, \n",
    "                                                                    features_test, target_test)"
   ]
  },
  {
   "cell_type": "code",
   "execution_count": 78,
   "metadata": {},
   "outputs": [],
   "source": [
    "rmse_LGBMR_test, time_study_LGBMR_test, time_pred_LGBMR_test = time_model(LGBMRegressor(\n",
    "    max_depth = -1, n_estimators = 200, random_state=42) , features_train_categ, target_train_categ, \n",
    "                                                                          features_test_categ, target_test_categ)"
   ]
  },
  {
   "cell_type": "code",
   "execution_count": 79,
   "metadata": {},
   "outputs": [],
   "source": [
    "rmse_Rid_test, time_study_Rid_test, time_pred_Rid_test = time_model(Ridge(\n",
    "    random_state=42, alpha = 0.01) , features_train, target_train, features_test, target_test)"
   ]
  },
  {
   "cell_type": "code",
   "execution_count": 80,
   "metadata": {},
   "outputs": [],
   "source": [
    "rmse_CBR_test, time_study_CBR_test, time_pred_CBR_test = time_model(CatBoostRegressor(\n",
    "    random_state=42, depth = 8, iterations = 100, learning_rate = 0.5, cat_features=cat_features, verbose = False) , features_train_categ, \n",
    "                                                                    target_train_categ, features_test_categ, target_test_categ)"
   ]
  },
  {
   "cell_type": "code",
   "execution_count": 81,
   "metadata": {
    "scrolled": false
   },
   "outputs": [
    {
     "data": {
      "text/html": [
       "<div>\n",
       "<style scoped>\n",
       "    .dataframe tbody tr th:only-of-type {\n",
       "        vertical-align: middle;\n",
       "    }\n",
       "\n",
       "    .dataframe tbody tr th {\n",
       "        vertical-align: top;\n",
       "    }\n",
       "\n",
       "    .dataframe thead th {\n",
       "        text-align: right;\n",
       "    }\n",
       "</style>\n",
       "<table border=\"1\" class=\"dataframe\">\n",
       "  <thead>\n",
       "    <tr style=\"text-align: right;\">\n",
       "      <th></th>\n",
       "      <th>Модель</th>\n",
       "      <th>Параметры</th>\n",
       "      <th>Время обучения</th>\n",
       "      <th>Скорость предсказания</th>\n",
       "      <th>RMSE_test</th>\n",
       "    </tr>\n",
       "  </thead>\n",
       "  <tbody>\n",
       "    <tr>\n",
       "      <td>0</td>\n",
       "      <td>LinearRegression</td>\n",
       "      <td>copy_X = True, fit_intercept = True, normalize...</td>\n",
       "      <td>0.090466</td>\n",
       "      <td>0.005246</td>\n",
       "      <td>3130.436701</td>\n",
       "    </tr>\n",
       "    <tr>\n",
       "      <td>1</td>\n",
       "      <td>RandomForestRegressor</td>\n",
       "      <td>random_state = 42, bootstrap = False, max_feat...</td>\n",
       "      <td>5.500592</td>\n",
       "      <td>0.302946</td>\n",
       "      <td>1796.128018</td>\n",
       "    </tr>\n",
       "    <tr>\n",
       "      <td>2</td>\n",
       "      <td>LGBMRegressor</td>\n",
       "      <td>random_state = 42, max_depth = -1, n_estimator...</td>\n",
       "      <td>12.774690</td>\n",
       "      <td>1.311314</td>\n",
       "      <td>1669.305920</td>\n",
       "    </tr>\n",
       "    <tr>\n",
       "      <td>3</td>\n",
       "      <td>Ridge</td>\n",
       "      <td>random_state = 12345, alpha = 0.01</td>\n",
       "      <td>0.085894</td>\n",
       "      <td>0.003168</td>\n",
       "      <td>3130.436564</td>\n",
       "    </tr>\n",
       "    <tr>\n",
       "      <td>4</td>\n",
       "      <td>CatBoostRegressor</td>\n",
       "      <td>random_state = 42, iterations = 100, depth = 2...</td>\n",
       "      <td>41.866259</td>\n",
       "      <td>0.047181</td>\n",
       "      <td>1719.649104</td>\n",
       "    </tr>\n",
       "  </tbody>\n",
       "</table>\n",
       "</div>"
      ],
      "text/plain": [
       "                  Модель                                          Параметры  \\\n",
       "0       LinearRegression  copy_X = True, fit_intercept = True, normalize...   \n",
       "1  RandomForestRegressor  random_state = 42, bootstrap = False, max_feat...   \n",
       "2          LGBMRegressor  random_state = 42, max_depth = -1, n_estimator...   \n",
       "3                  Ridge                 random_state = 12345, alpha = 0.01   \n",
       "4      CatBoostRegressor  random_state = 42, iterations = 100, depth = 2...   \n",
       "\n",
       "   Время обучения  Скорость предсказания    RMSE_test  \n",
       "0        0.090466               0.005246  3130.436701  \n",
       "1        5.500592               0.302946  1796.128018  \n",
       "2       12.774690               1.311314  1669.305920  \n",
       "3        0.085894               0.003168  3130.436564  \n",
       "4       41.866259               0.047181  1719.649104  "
      ]
     },
     "execution_count": 81,
     "metadata": {},
     "output_type": "execute_result"
    }
   ],
   "source": [
    "model_test = pd.DataFrame({'Модель': ['LinearRegression', 'RandomForestRegressor', 'LGBMRegressor', 'Ridge', 'CatBoostRegressor'],\n",
    "                'Параметры':  ['copy_X = True, fit_intercept = True, normalize = False', \n",
    "                               'random_state = 42, bootstrap = False, max_features = 3, n_estimators = 10',\n",
    "                              'random_state = 42, max_depth = -1, n_estimators = 200',  'random_state = 12345, alpha = 0.01', \n",
    "                               'random_state = 42, iterations = 100, depth = 2, loss_function = \"RMSE\", verbose = False'], \n",
    "                'Время обучения': [time_study_LR_test, time_study_RFR_test, time_study_LGBMR_test, time_study_Rid_test, time_study_CBR_test], \n",
    "                'Скорость предсказания': [time_pred_LR_test, time_pred_RFR_test, time_pred_LGBMR_test, time_pred_Rid_test, time_pred_CBR_test], \n",
    "                'RMSE_test': [rmse_LR_test, rmse_RFR_test, rmse_LGBMR_test, rmse_Rid_test, rmse_CBR_test]})\n",
    "model_test"
   ]
  },
  {
   "cell_type": "markdown",
   "metadata": {},
   "source": [
    "На тестовых данных модели распределись следующим образом:\n",
    "* предсказание: LGBMRegressor, CatBoostRegressor, RandomForestRegressor, Ridge и LinearRegression\n",
    "* скорость обучения: LinearRegression, Ridge, RandomForestRegressor,  LGBMRegressor и CatBoostRegressor\n",
    "* скорость предсказания: Ridge, LinearRegression, CatBoostRegressor, RandomForestRegressor и LGBMRegressor"
   ]
  },
  {
   "cell_type": "markdown",
   "metadata": {},
   "source": [
    "### Проверяем на полных данных.\n",
    "<a id=\"массив\"></a>"
   ]
  },
  {
   "cell_type": "code",
   "execution_count": 82,
   "metadata": {},
   "outputs": [],
   "source": [
    "features_all = pd.concat([features_train, features_valid])\n",
    "features_all = pd.concat([features_all, features_test])"
   ]
  },
  {
   "cell_type": "code",
   "execution_count": 83,
   "metadata": {},
   "outputs": [],
   "source": [
    "target_all = pd.concat([target_train, target_valid])\n",
    "target_all = pd.concat([target_all, target_test])"
   ]
  },
  {
   "cell_type": "code",
   "execution_count": 84,
   "metadata": {},
   "outputs": [],
   "source": [
    "features_categ_all = pd.concat([features_train_categ, features_valid_categ])\n",
    "features_categ_all = pd.concat([features_categ_all, features_test_categ])\n",
    "target_categ_all = pd.concat([target_train_categ, target_valid_categ])\n",
    "target_categ_all = pd.concat([target_categ_all, target_test_categ])"
   ]
  },
  {
   "cell_type": "code",
   "execution_count": 85,
   "metadata": {},
   "outputs": [],
   "source": [
    "rmse_LR_all, time_study_LR_all, time_pred_LR_all = time_model(LinearRegression(\n",
    "    copy_X = True, fit_intercept = True, normalize = True) , features_train, target_train, features_all, target_all)"
   ]
  },
  {
   "cell_type": "code",
   "execution_count": 86,
   "metadata": {},
   "outputs": [],
   "source": [
    "rmse_RFR_all, time_study_RFR_all, time_pred_RFR_all = time_model(RandomForestRegressor(\n",
    "    bootstrap = False, max_features = 4, n_estimators = 10) , features_train, target_train, features_all, target_all)"
   ]
  },
  {
   "cell_type": "code",
   "execution_count": 87,
   "metadata": {},
   "outputs": [],
   "source": [
    "rmse_LGBMR_all, time_study_LGBMR_all, time_pred_LGBMR_all = time_model(LGBMRegressor(\n",
    "    max_depth = -1, n_estimators = 200, random_state=19072020) , features_train_categ, target_train_categ, features_categ_all, target_categ_all)"
   ]
  },
  {
   "cell_type": "code",
   "execution_count": 88,
   "metadata": {},
   "outputs": [],
   "source": [
    "rmse_Rid_all, time_study_Rid_all, time_pred_Rid_all = time_model(Ridge(\n",
    "    alpha = 25) , features_train, target_train, features_all, target_all)"
   ]
  },
  {
   "cell_type": "code",
   "execution_count": 89,
   "metadata": {},
   "outputs": [],
   "source": [
    "rmse_CBR_all, time_study_CBR_all, time_pred_CBR_all = time_model(CatBoostRegressor(\n",
    "    depth = 8, iterations = 100, learning_rate = 0.5, cat_features=cat_features, verbose = False) , \n",
    "                                                                 features_train_categ, target_train_categ, features_categ_all, target_categ_all)"
   ]
  },
  {
   "cell_type": "code",
   "execution_count": 90,
   "metadata": {},
   "outputs": [
    {
     "data": {
      "text/html": [
       "<div>\n",
       "<style scoped>\n",
       "    .dataframe tbody tr th:only-of-type {\n",
       "        vertical-align: middle;\n",
       "    }\n",
       "\n",
       "    .dataframe tbody tr th {\n",
       "        vertical-align: top;\n",
       "    }\n",
       "\n",
       "    .dataframe thead th {\n",
       "        text-align: right;\n",
       "    }\n",
       "</style>\n",
       "<table border=\"1\" class=\"dataframe\">\n",
       "  <thead>\n",
       "    <tr style=\"text-align: right;\">\n",
       "      <th></th>\n",
       "      <th>Модель</th>\n",
       "      <th>Параметры</th>\n",
       "      <th>Время обучения</th>\n",
       "      <th>Скорость предсказания</th>\n",
       "      <th>RMSE_test</th>\n",
       "      <th>RMSE_all</th>\n",
       "    </tr>\n",
       "  </thead>\n",
       "  <tbody>\n",
       "    <tr>\n",
       "      <td>0</td>\n",
       "      <td>LinearRegression</td>\n",
       "      <td>copy_X = True, fit_intercept = True, normalize...</td>\n",
       "      <td>0.054423</td>\n",
       "      <td>0.009322</td>\n",
       "      <td>3130.436701</td>\n",
       "      <td>3107.936681</td>\n",
       "    </tr>\n",
       "    <tr>\n",
       "      <td>1</td>\n",
       "      <td>RandomForestRegressor</td>\n",
       "      <td>random_state = 42, bootstrap = False, max_feat...</td>\n",
       "      <td>5.971238</td>\n",
       "      <td>1.908719</td>\n",
       "      <td>1796.128018</td>\n",
       "      <td>1100.654758</td>\n",
       "    </tr>\n",
       "    <tr>\n",
       "      <td>2</td>\n",
       "      <td>LGBMRegressor</td>\n",
       "      <td>random_state = 42, max_depth = -1, n_estimator...</td>\n",
       "      <td>15.292697</td>\n",
       "      <td>8.527776</td>\n",
       "      <td>1669.305920</td>\n",
       "      <td>1637.178173</td>\n",
       "    </tr>\n",
       "    <tr>\n",
       "      <td>3</td>\n",
       "      <td>Ridge</td>\n",
       "      <td>random_state = 12345, alpha = 0.01</td>\n",
       "      <td>0.065454</td>\n",
       "      <td>0.008830</td>\n",
       "      <td>3130.436564</td>\n",
       "      <td>3109.456906</td>\n",
       "    </tr>\n",
       "    <tr>\n",
       "      <td>4</td>\n",
       "      <td>CatBoostRegressor</td>\n",
       "      <td>random_state = 42, iterations = 100, depth = 2...</td>\n",
       "      <td>42.228123</td>\n",
       "      <td>0.477147</td>\n",
       "      <td>1719.649104</td>\n",
       "      <td>1670.938459</td>\n",
       "    </tr>\n",
       "  </tbody>\n",
       "</table>\n",
       "</div>"
      ],
      "text/plain": [
       "                  Модель                                          Параметры  \\\n",
       "0       LinearRegression  copy_X = True, fit_intercept = True, normalize...   \n",
       "1  RandomForestRegressor  random_state = 42, bootstrap = False, max_feat...   \n",
       "2          LGBMRegressor  random_state = 42, max_depth = -1, n_estimator...   \n",
       "3                  Ridge                 random_state = 12345, alpha = 0.01   \n",
       "4      CatBoostRegressor  random_state = 42, iterations = 100, depth = 2...   \n",
       "\n",
       "   Время обучения  Скорость предсказания    RMSE_test     RMSE_all  \n",
       "0        0.054423               0.009322  3130.436701  3107.936681  \n",
       "1        5.971238               1.908719  1796.128018  1100.654758  \n",
       "2       15.292697               8.527776  1669.305920  1637.178173  \n",
       "3        0.065454               0.008830  3130.436564  3109.456906  \n",
       "4       42.228123               0.477147  1719.649104  1670.938459  "
      ]
     },
     "execution_count": 90,
     "metadata": {},
     "output_type": "execute_result"
    }
   ],
   "source": [
    "model_all = pd.DataFrame({'Модель': ['LinearRegression', 'RandomForestRegressor', 'LGBMRegressor', 'Ridge', 'CatBoostRegressor'],\n",
    "                'Параметры':  ['copy_X = True, fit_intercept = True, normalize = False', \n",
    "                               'random_state = 42, bootstrap = False, max_features = 3, n_estimators = 10',\n",
    "                              'random_state = 42, max_depth = -1, n_estimators = 200',  'random_state = 12345, alpha = 0.01', \n",
    "                               'random_state = 42, iterations = 100, depth = 2, loss_function = \"RMSE\", verbose = False'], \n",
    "                'Время обучения': [time_study_LR_all, time_study_RFR_all, time_study_LGBMR_all, time_study_Rid_all, time_study_CBR_all], \n",
    "                'Скорость предсказания': [time_pred_LR_all, time_pred_RFR_all, time_pred_LGBMR_all, time_pred_Rid_all, time_pred_CBR_all], \n",
    "                'RMSE_test': [rmse_LR_test, rmse_RFR_test, rmse_LGBMR_test, rmse_Rid_test, rmse_CBR_test],\n",
    "                'RMSE_all': [rmse_LR_all, rmse_RFR_all, rmse_LGBMR_all, rmse_Rid_all, rmse_CBR_all]})\n",
    "model_all"
   ]
  },
  {
   "cell_type": "markdown",
   "metadata": {},
   "source": [
    "На тестовых наилучшими моделями являются RandomForestRegressor, LGBMRegressor  и CatBoostRegressor, т.е. метрика RMSE 1101,9, 1637,1 и 1670,9, скорость обучения 6,1, 13,09 и 41,28 с, скорость предсказания 1,71, 9,13 и 0,43 с."
   ]
  },
  {
   "cell_type": "markdown",
   "metadata": {},
   "source": [
    "## Вывод\n",
    "<a id=\"вывод\"></a>"
   ]
  },
  {
   "cell_type": "markdown",
   "metadata": {},
   "source": [
    "В данной работе были рассмотрены разные модели для предсказания рыночной стоимости автомобиля по историческим данным: технические характеристики, комплектации и цены автомобилей.\n",
    "\n",
    "Для этого представленные данные были:\n",
    "* аналитически обработаны: часть пропущенных значений была удалена, часть заменена на метку 'unknown', повторяющиеся данные,  выбросы в  \"RegistrationYear \"  и \"Power \" также были удалены.\n",
    "* была проведена кодировка с последующим масштабированием данных.\n",
    "* рассмотрены модели: LinearRegression, RandomForestRegressor, LGBMRegressor, Ridge и  CatBoostRegressor.\n",
    "* были подобраны гиперпараметры для данных моделей.\n",
    "* были рассчитаны скорости обучения, предсказания и метрика качества предсказания RMSE.\n",
    "\n",
    "Следует отметить, что все модели имеют низкий показатель качества предсказания. Для улучшения качества работы моделей, необходимо подобрать другие гиперпараметры и улучшить метрику RMSE максимально приблизив ее к нулю.\n",
    "\n",
    "В работе показано, что наилучшими моделями являются **RandomForestRegressor**, **LGBMRegressor**  **CatBoostRegressor** , т.к. у них наименьшие метрики RMSE и хотя время обучения занимает длительное время по сравнению с другими моделями, предсказание занимает время 1,71, 9,13 и 0,43 с. соответственно."
   ]
  },
  {
   "cell_type": "markdown",
   "metadata": {},
   "source": [
    "## Чек-лист проверки\n",
    "<a id=\"лист\"></a>"
   ]
  },
  {
   "cell_type": "markdown",
   "metadata": {},
   "source": [
    "Поставьте 'x' в выполненных пунктах. Далее нажмите Shift+Enter."
   ]
  },
  {
   "cell_type": "markdown",
   "metadata": {},
   "source": [
    "- [x]  Jupyter Notebook открыт\n",
    "- [x]  Весь код выполняется без ошибок\n",
    "- [x]  Ячейки с кодом расположены в порядке исполнения\n",
    "- [x]  Выполнена загрузка и подготовка данных\n",
    "- [x]  Выполнено обучение моделей\n",
    "- [x]  Есть анализ скорости работы и качества моделей"
   ]
  }
 ],
 "metadata": {
  "ExecuteTimeLog": [
   {
    "duration": 531,
    "start_time": "2021-08-24T11:14:09.415Z"
   },
   {
    "duration": 745,
    "start_time": "2021-08-24T11:14:55.288Z"
   },
   {
    "duration": 1090,
    "start_time": "2021-08-24T11:14:56.119Z"
   },
   {
    "duration": 1133,
    "start_time": "2021-08-24T11:15:04.549Z"
   },
   {
    "duration": 1452,
    "start_time": "2021-08-24T12:31:46.169Z"
   },
   {
    "duration": 1147,
    "start_time": "2021-08-24T12:31:49.409Z"
   },
   {
    "duration": 156,
    "start_time": "2021-08-24T12:31:58.861Z"
   },
   {
    "duration": 121,
    "start_time": "2021-08-24T12:32:24.649Z"
   },
   {
    "duration": 29,
    "start_time": "2021-08-24T12:32:40.763Z"
   },
   {
    "duration": 970,
    "start_time": "2021-08-24T12:32:59.190Z"
   },
   {
    "duration": 665,
    "start_time": "2021-08-24T12:33:03.981Z"
   },
   {
    "duration": 69,
    "start_time": "2021-08-24T12:34:26.673Z"
   },
   {
    "duration": 59960,
    "start_time": "2021-08-24T12:36:32.523Z"
   },
   {
    "duration": 164,
    "start_time": "2021-08-24T12:38:09.645Z"
   },
   {
    "duration": 754,
    "start_time": "2021-08-24T12:39:02.765Z"
   },
   {
    "duration": 2349,
    "start_time": "2021-08-24T13:10:32.500Z"
   },
   {
    "duration": 132,
    "start_time": "2021-08-24T13:14:51.776Z"
   },
   {
    "duration": 147,
    "start_time": "2021-08-24T13:18:34.619Z"
   },
   {
    "duration": 188,
    "start_time": "2021-08-24T13:18:48.889Z"
   },
   {
    "duration": 49,
    "start_time": "2021-08-24T13:19:19.814Z"
   },
   {
    "duration": 2363,
    "start_time": "2021-08-24T13:19:32.283Z"
   },
   {
    "duration": 190,
    "start_time": "2021-08-24T13:21:24.096Z"
   },
   {
    "duration": 388,
    "start_time": "2021-08-24T13:22:10.655Z"
   },
   {
    "duration": 429,
    "start_time": "2021-08-24T13:23:14.455Z"
   },
   {
    "duration": 449,
    "start_time": "2021-08-24T13:23:47.968Z"
   },
   {
    "duration": 134,
    "start_time": "2021-08-24T13:24:22.460Z"
   },
   {
    "duration": 7,
    "start_time": "2021-08-24T13:24:25.309Z"
   },
   {
    "duration": 2566,
    "start_time": "2021-08-24T13:24:56.039Z"
   },
   {
    "duration": 6,
    "start_time": "2021-08-24T13:25:41.631Z"
   },
   {
    "duration": 1384,
    "start_time": "2021-08-24T13:25:56.386Z"
   },
   {
    "duration": 211,
    "start_time": "2021-08-24T13:28:15.126Z"
   },
   {
    "duration": 21,
    "start_time": "2021-08-24T13:28:24.662Z"
   },
   {
    "duration": 154,
    "start_time": "2021-08-24T13:28:47.871Z"
   },
   {
    "duration": 1088,
    "start_time": "2021-08-25T03:13:28.839Z"
   },
   {
    "duration": 753,
    "start_time": "2021-08-25T03:13:29.929Z"
   },
   {
    "duration": 4,
    "start_time": "2021-08-25T03:13:31.880Z"
   },
   {
    "duration": 6,
    "start_time": "2021-08-25T03:13:46.478Z"
   },
   {
    "duration": 25250,
    "start_time": "2021-08-25T03:17:57.259Z"
   },
   {
    "duration": 4,
    "start_time": "2021-08-25T04:53:13.299Z"
   },
   {
    "duration": 117,
    "start_time": "2021-08-25T05:03:07.211Z"
   },
   {
    "duration": 132,
    "start_time": "2021-08-25T05:03:18.988Z"
   },
   {
    "duration": 547,
    "start_time": "2021-08-25T05:03:31.552Z"
   },
   {
    "duration": 43,
    "start_time": "2021-08-25T05:03:42.204Z"
   },
   {
    "duration": 70,
    "start_time": "2021-08-25T05:05:21.923Z"
   },
   {
    "duration": 80,
    "start_time": "2021-08-25T05:06:08.887Z"
   },
   {
    "duration": 109,
    "start_time": "2021-08-25T05:07:35.739Z"
   },
   {
    "duration": 407,
    "start_time": "2021-08-25T05:08:03.449Z"
   },
   {
    "duration": 78,
    "start_time": "2021-08-25T05:10:41.915Z"
   },
   {
    "duration": 66,
    "start_time": "2021-08-25T05:13:05.460Z"
   },
   {
    "duration": 9810,
    "start_time": "2021-08-25T05:14:21.932Z"
   },
   {
    "duration": 8889,
    "start_time": "2021-08-25T05:14:32.235Z"
   },
   {
    "duration": 43,
    "start_time": "2021-08-25T05:14:47.031Z"
   },
   {
    "duration": 13,
    "start_time": "2021-08-25T05:15:39.025Z"
   },
   {
    "duration": 225,
    "start_time": "2021-08-25T05:24:20.183Z"
   },
   {
    "duration": 54,
    "start_time": "2021-08-25T05:24:57.765Z"
   },
   {
    "duration": 50,
    "start_time": "2021-08-25T05:31:25.226Z"
   },
   {
    "duration": 113,
    "start_time": "2021-08-25T05:36:33.877Z"
   },
   {
    "duration": 111,
    "start_time": "2021-08-25T05:36:46.868Z"
   },
   {
    "duration": 194,
    "start_time": "2021-08-25T05:45:47.378Z"
   },
   {
    "duration": 93,
    "start_time": "2021-08-25T05:45:55.477Z"
   },
   {
    "duration": 13,
    "start_time": "2021-08-25T05:46:17.756Z"
   },
   {
    "duration": 17,
    "start_time": "2021-08-25T05:47:21.997Z"
   },
   {
    "duration": 13,
    "start_time": "2021-08-25T05:47:23.399Z"
   },
   {
    "duration": 348,
    "start_time": "2021-08-25T05:47:35.058Z"
   },
   {
    "duration": 15,
    "start_time": "2021-08-25T05:49:46.424Z"
   },
   {
    "duration": 13,
    "start_time": "2021-08-25T05:49:47.949Z"
   },
   {
    "duration": 13,
    "start_time": "2021-08-25T05:56:15.374Z"
   },
   {
    "duration": 13,
    "start_time": "2021-08-25T05:56:18.018Z"
   },
   {
    "duration": 86,
    "start_time": "2021-08-25T05:56:27.203Z"
   },
   {
    "duration": 13,
    "start_time": "2021-08-25T05:56:38.220Z"
   },
   {
    "duration": 16,
    "start_time": "2021-08-25T05:57:11.632Z"
   },
   {
    "duration": 13,
    "start_time": "2021-08-25T05:57:13.156Z"
   },
   {
    "duration": 3,
    "start_time": "2021-08-25T05:58:02.215Z"
   },
   {
    "duration": 699,
    "start_time": "2021-08-25T05:58:02.884Z"
   },
   {
    "duration": 204,
    "start_time": "2021-08-25T05:58:09.270Z"
   },
   {
    "duration": 13,
    "start_time": "2021-08-25T05:58:10.472Z"
   },
   {
    "duration": 5165,
    "start_time": "2021-08-25T06:53:14.373Z"
   },
   {
    "duration": -20908,
    "start_time": "2021-08-25T06:53:40.448Z"
   },
   {
    "duration": 13,
    "start_time": "2021-08-25T06:53:35.404Z"
   },
   {
    "duration": 4398,
    "start_time": "2021-08-25T07:18:08.092Z"
   },
   {
    "duration": 3597,
    "start_time": "2021-08-25T07:18:31.440Z"
   },
   {
    "duration": 5123,
    "start_time": "2021-08-25T07:19:48.252Z"
   },
   {
    "duration": 7934,
    "start_time": "2021-08-25T07:25:31.477Z"
   },
   {
    "duration": 4715,
    "start_time": "2021-08-25T07:26:01.729Z"
   },
   {
    "duration": 4681,
    "start_time": "2021-08-25T07:26:39.414Z"
   },
   {
    "duration": 4980,
    "start_time": "2021-08-25T07:27:02.057Z"
   },
   {
    "duration": 4940,
    "start_time": "2021-08-25T07:29:34.559Z"
   },
   {
    "duration": 4855,
    "start_time": "2021-08-25T07:29:51.375Z"
   },
   {
    "duration": 14,
    "start_time": "2021-08-25T07:33:00.997Z"
   },
   {
    "duration": 79,
    "start_time": "2021-08-25T07:33:04.725Z"
   },
   {
    "duration": 4,
    "start_time": "2021-08-25T10:26:08.462Z"
   },
   {
    "duration": 1043,
    "start_time": "2021-08-25T10:26:09.408Z"
   },
   {
    "duration": 5,
    "start_time": "2021-08-25T10:26:11.379Z"
   },
   {
    "duration": 6,
    "start_time": "2021-08-25T10:26:13.227Z"
   },
   {
    "duration": 5,
    "start_time": "2021-08-25T10:26:13.998Z"
   },
   {
    "duration": 125,
    "start_time": "2021-08-25T10:26:14.795Z"
   },
   {
    "duration": 116,
    "start_time": "2021-08-25T10:26:15.749Z"
   },
   {
    "duration": 91,
    "start_time": "2021-08-25T10:26:17.560Z"
   },
   {
    "duration": 547,
    "start_time": "2021-08-25T10:28:05.087Z"
   },
   {
    "duration": 45,
    "start_time": "2021-08-25T10:28:26.627Z"
   },
   {
    "duration": 44,
    "start_time": "2021-08-25T10:28:39.330Z"
   },
   {
    "duration": 73,
    "start_time": "2021-08-25T10:29:01.280Z"
   },
   {
    "duration": 162,
    "start_time": "2021-08-25T10:29:44.608Z"
   },
   {
    "duration": 104,
    "start_time": "2021-08-25T10:29:49.160Z"
   },
   {
    "duration": 32,
    "start_time": "2021-08-25T10:30:47.636Z"
   },
   {
    "duration": 272,
    "start_time": "2021-08-25T10:36:36.361Z"
   },
   {
    "duration": 36,
    "start_time": "2021-08-25T10:36:40.338Z"
   },
   {
    "duration": 1176,
    "start_time": "2021-08-25T10:37:27.996Z"
   },
   {
    "duration": 944,
    "start_time": "2021-08-25T10:37:47.614Z"
   },
   {
    "duration": 32,
    "start_time": "2021-08-25T10:38:02.721Z"
   },
   {
    "duration": 34,
    "start_time": "2021-08-25T10:43:05.326Z"
   },
   {
    "duration": 52,
    "start_time": "2021-08-25T10:45:18.269Z"
   },
   {
    "duration": 17,
    "start_time": "2021-08-25T10:45:48.884Z"
   },
   {
    "duration": 23,
    "start_time": "2021-08-25T10:46:04.248Z"
   },
   {
    "duration": 39,
    "start_time": "2021-08-25T10:46:56.792Z"
   },
   {
    "duration": 125,
    "start_time": "2021-08-25T11:06:19.416Z"
   },
   {
    "duration": 118,
    "start_time": "2021-08-25T11:06:26.348Z"
   },
   {
    "duration": 72,
    "start_time": "2021-08-25T11:06:41.831Z"
   },
   {
    "duration": 45,
    "start_time": "2021-08-25T11:07:09.715Z"
   },
   {
    "duration": 41,
    "start_time": "2021-08-25T11:09:37.032Z"
   },
   {
    "duration": 40,
    "start_time": "2021-08-25T11:47:17.364Z"
   },
   {
    "duration": 64,
    "start_time": "2021-08-25T11:47:34.581Z"
   },
   {
    "duration": 54,
    "start_time": "2021-08-25T11:47:40.544Z"
   },
   {
    "duration": 153,
    "start_time": "2021-08-25T11:59:58.707Z"
   },
   {
    "duration": 372,
    "start_time": "2021-08-25T12:00:08.718Z"
   },
   {
    "duration": 3,
    "start_time": "2021-08-25T12:00:18.568Z"
   },
   {
    "duration": 667,
    "start_time": "2021-08-25T12:00:18.926Z"
   },
   {
    "duration": 119,
    "start_time": "2021-08-25T12:00:23.906Z"
   },
   {
    "duration": 374,
    "start_time": "2021-08-25T12:00:26.137Z"
   },
   {
    "duration": 347,
    "start_time": "2021-08-25T12:00:36.294Z"
   },
   {
    "duration": 4,
    "start_time": "2021-08-25T12:00:40.377Z"
   },
   {
    "duration": 653,
    "start_time": "2021-08-25T12:00:41.975Z"
   },
   {
    "duration": 109,
    "start_time": "2021-08-25T12:00:51.504Z"
   },
   {
    "duration": 107,
    "start_time": "2021-08-25T12:00:55.915Z"
   },
   {
    "duration": 471,
    "start_time": "2021-08-25T12:00:56.979Z"
   },
   {
    "duration": 383,
    "start_time": "2021-08-25T12:01:11.877Z"
   },
   {
    "duration": 341,
    "start_time": "2021-08-25T12:01:17.690Z"
   },
   {
    "duration": 3,
    "start_time": "2021-08-25T12:01:26.877Z"
   },
   {
    "duration": 655,
    "start_time": "2021-08-25T12:01:27.215Z"
   },
   {
    "duration": 100,
    "start_time": "2021-08-25T12:01:32.126Z"
   },
   {
    "duration": 107,
    "start_time": "2021-08-25T12:01:33.326Z"
   },
   {
    "duration": 116,
    "start_time": "2021-08-25T12:01:54.486Z"
   },
   {
    "duration": 426,
    "start_time": "2021-08-25T12:02:29.417Z"
   },
   {
    "duration": 88,
    "start_time": "2021-08-25T12:02:55.353Z"
   },
   {
    "duration": 99,
    "start_time": "2021-08-25T12:02:57.136Z"
   },
   {
    "duration": 96,
    "start_time": "2021-08-25T12:02:59.734Z"
   },
   {
    "duration": 35,
    "start_time": "2021-08-25T12:04:55.739Z"
   },
   {
    "duration": 37,
    "start_time": "2021-08-25T12:05:59.005Z"
   },
   {
    "duration": 45,
    "start_time": "2021-08-25T12:06:48.778Z"
   },
   {
    "duration": 42,
    "start_time": "2021-08-25T12:07:20.268Z"
   },
   {
    "duration": 36,
    "start_time": "2021-08-25T12:08:53.105Z"
   },
   {
    "duration": 103,
    "start_time": "2021-08-25T12:12:19.592Z"
   },
   {
    "duration": 76,
    "start_time": "2021-08-25T12:12:53.367Z"
   },
   {
    "duration": 28,
    "start_time": "2021-08-25T12:13:57.958Z"
   },
   {
    "duration": 25,
    "start_time": "2021-08-25T12:14:16.520Z"
   },
   {
    "duration": 22,
    "start_time": "2021-08-25T12:14:51.051Z"
   },
   {
    "duration": 342,
    "start_time": "2021-08-25T12:17:05.709Z"
   },
   {
    "duration": 249,
    "start_time": "2021-08-25T12:17:12.435Z"
   },
   {
    "duration": 248,
    "start_time": "2021-08-25T12:17:30.228Z"
   },
   {
    "duration": 243,
    "start_time": "2021-08-25T12:18:21.244Z"
   },
   {
    "duration": 615,
    "start_time": "2021-08-25T12:24:20.095Z"
   },
   {
    "duration": 536,
    "start_time": "2021-08-25T12:24:40.465Z"
   },
   {
    "duration": 546,
    "start_time": "2021-08-25T12:27:19.774Z"
   },
   {
    "duration": 539,
    "start_time": "2021-08-25T12:28:10.092Z"
   },
   {
    "duration": 611,
    "start_time": "2021-08-25T12:28:25.283Z"
   },
   {
    "duration": 124,
    "start_time": "2021-08-25T12:29:45.125Z"
   },
   {
    "duration": 246,
    "start_time": "2021-08-25T12:29:48.414Z"
   },
   {
    "duration": 243,
    "start_time": "2021-08-25T12:29:55.473Z"
   },
   {
    "duration": 246,
    "start_time": "2021-08-25T12:30:00.719Z"
   },
   {
    "duration": 234,
    "start_time": "2021-08-25T12:30:52.643Z"
   },
   {
    "duration": 267,
    "start_time": "2021-08-25T12:30:58.936Z"
   },
   {
    "duration": 232,
    "start_time": "2021-08-25T12:31:03.929Z"
   },
   {
    "duration": 354,
    "start_time": "2021-08-25T12:31:20.151Z"
   },
   {
    "duration": 237,
    "start_time": "2021-08-25T12:31:24.728Z"
   },
   {
    "duration": 242,
    "start_time": "2021-08-25T12:31:34.860Z"
   },
   {
    "duration": 27,
    "start_time": "2021-08-25T12:32:44.945Z"
   },
   {
    "duration": 460,
    "start_time": "2021-08-25T12:34:50.523Z"
   },
   {
    "duration": 373,
    "start_time": "2021-08-25T12:35:40.698Z"
   },
   {
    "duration": 80,
    "start_time": "2021-08-25T12:35:54.643Z"
   },
   {
    "duration": 87,
    "start_time": "2021-08-25T12:36:03.464Z"
   },
   {
    "duration": 419,
    "start_time": "2021-08-25T12:36:44.750Z"
   },
   {
    "duration": 303,
    "start_time": "2021-08-25T12:36:48.636Z"
   },
   {
    "duration": 17,
    "start_time": "2021-08-25T12:36:52.749Z"
   },
   {
    "duration": 343,
    "start_time": "2021-08-25T13:48:40.048Z"
   },
   {
    "duration": 19,
    "start_time": "2021-08-25T13:49:05.447Z"
   },
   {
    "duration": 16,
    "start_time": "2021-08-25T13:49:22.123Z"
   },
   {
    "duration": 18,
    "start_time": "2021-08-25T13:49:35.716Z"
   },
   {
    "duration": 57,
    "start_time": "2021-08-25T13:52:08.662Z"
   },
   {
    "duration": 17,
    "start_time": "2021-08-25T13:53:29.676Z"
   },
   {
    "duration": 50,
    "start_time": "2021-08-25T13:55:22.766Z"
   },
   {
    "duration": 49,
    "start_time": "2021-08-25T13:59:46.651Z"
   },
   {
    "duration": 48,
    "start_time": "2021-08-25T13:59:55.019Z"
   },
   {
    "duration": 47,
    "start_time": "2021-08-25T14:00:27.508Z"
   },
   {
    "duration": 408,
    "start_time": "2021-08-25T14:03:26.241Z"
   },
   {
    "duration": 13,
    "start_time": "2021-08-25T14:03:40.948Z"
   },
   {
    "duration": 203,
    "start_time": "2021-08-25T14:03:52.843Z"
   },
   {
    "duration": 13,
    "start_time": "2021-08-25T14:03:54.143Z"
   },
   {
    "duration": 404,
    "start_time": "2021-08-25T14:04:18.820Z"
   },
   {
    "duration": 14,
    "start_time": "2021-08-25T14:04:20.340Z"
   },
   {
    "duration": 4,
    "start_time": "2021-08-25T14:04:40.474Z"
   },
   {
    "duration": 723,
    "start_time": "2021-08-25T14:04:41.012Z"
   },
   {
    "duration": 576,
    "start_time": "2021-08-25T14:05:12.799Z"
   },
   {
    "duration": 13,
    "start_time": "2021-08-25T14:05:14.527Z"
   },
   {
    "duration": 53,
    "start_time": "2021-08-25T14:05:41.331Z"
   },
   {
    "duration": 13,
    "start_time": "2021-08-25T14:05:42.658Z"
   },
   {
    "duration": 58,
    "start_time": "2021-08-25T14:06:01.114Z"
   },
   {
    "duration": 13,
    "start_time": "2021-08-25T14:06:02.070Z"
   },
   {
    "duration": 5,
    "start_time": "2021-08-25T14:09:44.496Z"
   },
   {
    "duration": 14,
    "start_time": "2021-08-25T14:09:45.433Z"
   },
   {
    "duration": 6,
    "start_time": "2021-08-25T14:10:08.835Z"
   },
   {
    "duration": 13,
    "start_time": "2021-08-25T14:10:10.577Z"
   },
   {
    "duration": 6,
    "start_time": "2021-08-25T14:12:05.511Z"
   },
   {
    "duration": 13,
    "start_time": "2021-08-25T14:12:06.429Z"
   },
   {
    "duration": 6,
    "start_time": "2021-08-25T14:12:20.701Z"
   },
   {
    "duration": 13,
    "start_time": "2021-08-25T14:12:22.290Z"
   },
   {
    "duration": 3,
    "start_time": "2021-08-25T14:12:56.231Z"
   },
   {
    "duration": 755,
    "start_time": "2021-08-25T14:12:56.816Z"
   },
   {
    "duration": 38,
    "start_time": "2021-08-25T14:13:02.672Z"
   },
   {
    "duration": 14,
    "start_time": "2021-08-25T14:13:04.776Z"
   },
   {
    "duration": 53,
    "start_time": "2021-08-25T14:13:37.751Z"
   },
   {
    "duration": 14,
    "start_time": "2021-08-25T14:13:38.747Z"
   },
   {
    "duration": 6,
    "start_time": "2021-08-25T14:13:57.244Z"
   },
   {
    "duration": 14,
    "start_time": "2021-08-25T14:13:57.789Z"
   },
   {
    "duration": 4,
    "start_time": "2021-08-25T14:14:05.952Z"
   },
   {
    "duration": 874,
    "start_time": "2021-08-25T14:14:06.432Z"
   },
   {
    "duration": 37,
    "start_time": "2021-08-25T14:14:27.318Z"
   },
   {
    "duration": 14,
    "start_time": "2021-08-25T14:14:28.705Z"
   },
   {
    "duration": 51,
    "start_time": "2021-08-25T14:14:38.222Z"
   },
   {
    "duration": 14,
    "start_time": "2021-08-25T14:14:41.370Z"
   },
   {
    "duration": 74,
    "start_time": "2021-08-25T14:16:39.007Z"
   },
   {
    "duration": 58,
    "start_time": "2021-08-25T14:16:42.136Z"
   },
   {
    "duration": 49,
    "start_time": "2021-08-25T14:17:22.401Z"
   },
   {
    "duration": 70,
    "start_time": "2021-08-25T14:17:28.020Z"
   },
   {
    "duration": 65,
    "start_time": "2021-08-25T14:17:49.204Z"
   },
   {
    "duration": 52,
    "start_time": "2021-08-25T14:18:03.998Z"
   },
   {
    "duration": 70,
    "start_time": "2021-08-25T14:18:16.628Z"
   },
   {
    "duration": 73,
    "start_time": "2021-08-25T14:18:38.595Z"
   },
   {
    "duration": 52,
    "start_time": "2021-08-25T14:19:19.628Z"
   },
   {
    "duration": 52,
    "start_time": "2021-08-25T14:19:20.881Z"
   },
   {
    "duration": 79,
    "start_time": "2021-08-25T14:19:22.177Z"
   },
   {
    "duration": 80,
    "start_time": "2021-08-25T14:19:25.852Z"
   },
   {
    "duration": 8,
    "start_time": "2021-08-25T14:19:27.887Z"
   },
   {
    "duration": 15,
    "start_time": "2021-08-25T14:19:29.725Z"
   },
   {
    "duration": 49,
    "start_time": "2021-08-25T14:21:07.248Z"
   },
   {
    "duration": 40,
    "start_time": "2021-08-25T14:21:08.010Z"
   },
   {
    "duration": 260,
    "start_time": "2021-08-25T14:21:08.776Z"
   },
   {
    "duration": 238,
    "start_time": "2021-08-25T14:21:10.819Z"
   },
   {
    "duration": 8,
    "start_time": "2021-08-25T14:21:13.764Z"
   },
   {
    "duration": 22,
    "start_time": "2021-08-25T14:21:14.696Z"
   },
   {
    "duration": 1084,
    "start_time": "2021-08-26T07:15:03.756Z"
   },
   {
    "duration": 719,
    "start_time": "2021-08-26T07:15:06.036Z"
   },
   {
    "duration": 115,
    "start_time": "2021-08-26T07:15:06.757Z"
   },
   {
    "duration": 87,
    "start_time": "2021-08-26T07:15:18.436Z"
   },
   {
    "duration": 610,
    "start_time": "2021-08-26T07:15:44.965Z"
   },
   {
    "duration": 467,
    "start_time": "2021-08-26T07:16:04.331Z"
   },
   {
    "duration": 23,
    "start_time": "2021-08-26T07:16:29.329Z"
   },
   {
    "duration": 44,
    "start_time": "2021-08-26T07:16:38.286Z"
   },
   {
    "duration": 18,
    "start_time": "2021-08-26T07:16:59.806Z"
   },
   {
    "duration": 46,
    "start_time": "2021-08-26T07:18:24.468Z"
   },
   {
    "duration": 281,
    "start_time": "2021-08-26T07:18:43.578Z"
   },
   {
    "duration": 32,
    "start_time": "2021-08-26T07:19:55.843Z"
   },
   {
    "duration": 291,
    "start_time": "2021-08-26T07:20:09.588Z"
   },
   {
    "duration": 61,
    "start_time": "2021-08-26T07:20:12.794Z"
   },
   {
    "duration": 68,
    "start_time": "2021-08-26T07:20:55.335Z"
   },
   {
    "duration": 266,
    "start_time": "2021-08-26T07:20:58.031Z"
   },
   {
    "duration": 267,
    "start_time": "2021-08-26T07:21:19.648Z"
   },
   {
    "duration": 36,
    "start_time": "2021-08-26T07:21:33.918Z"
   },
   {
    "duration": 88,
    "start_time": "2021-08-26T07:22:54.652Z"
   },
   {
    "duration": 235,
    "start_time": "2021-08-26T07:23:15.607Z"
   },
   {
    "duration": 34,
    "start_time": "2021-08-26T07:23:23.736Z"
   },
   {
    "duration": 220,
    "start_time": "2021-08-26T07:23:36.221Z"
   },
   {
    "duration": 61,
    "start_time": "2021-08-26T07:24:11.070Z"
   },
   {
    "duration": 13,
    "start_time": "2021-08-26T07:25:43.864Z"
   },
   {
    "duration": 3,
    "start_time": "2021-08-26T07:25:49.397Z"
   },
   {
    "duration": 795,
    "start_time": "2021-08-26T07:25:49.749Z"
   },
   {
    "duration": 9,
    "start_time": "2021-08-26T07:25:54.649Z"
   },
   {
    "duration": 8,
    "start_time": "2021-08-26T07:26:07.640Z"
   },
   {
    "duration": 9,
    "start_time": "2021-08-26T07:26:24.976Z"
   },
   {
    "duration": 9,
    "start_time": "2021-08-26T07:26:35.395Z"
   },
   {
    "duration": 7,
    "start_time": "2021-08-26T07:26:45.142Z"
   },
   {
    "duration": 3,
    "start_time": "2021-08-26T07:26:54.707Z"
   },
   {
    "duration": 687,
    "start_time": "2021-08-26T07:26:55.108Z"
   },
   {
    "duration": 118,
    "start_time": "2021-08-26T07:26:55.797Z"
   },
   {
    "duration": 88,
    "start_time": "2021-08-26T07:26:56.824Z"
   },
   {
    "duration": 7,
    "start_time": "2021-08-26T07:27:05.421Z"
   },
   {
    "duration": 11,
    "start_time": "2021-08-26T07:27:13.879Z"
   },
   {
    "duration": 21,
    "start_time": "2021-08-26T07:27:22.665Z"
   },
   {
    "duration": 24,
    "start_time": "2021-08-26T07:27:40.954Z"
   },
   {
    "duration": 60,
    "start_time": "2021-08-26T07:28:10.931Z"
   },
   {
    "duration": 95,
    "start_time": "2021-08-26T07:28:19.804Z"
   },
   {
    "duration": 24,
    "start_time": "2021-08-26T07:28:28.110Z"
   },
   {
    "duration": 23,
    "start_time": "2021-08-26T07:29:15.193Z"
   },
   {
    "duration": 254,
    "start_time": "2021-08-26T07:34:33.080Z"
   },
   {
    "duration": 313,
    "start_time": "2021-08-26T07:34:40.452Z"
   },
   {
    "duration": 239,
    "start_time": "2021-08-26T07:34:50.798Z"
   },
   {
    "duration": 235,
    "start_time": "2021-08-26T07:34:58.165Z"
   },
   {
    "duration": 3,
    "start_time": "2021-08-26T07:35:04.210Z"
   },
   {
    "duration": 702,
    "start_time": "2021-08-26T07:35:04.561Z"
   },
   {
    "duration": 251,
    "start_time": "2021-08-26T07:35:08.319Z"
   },
   {
    "duration": 244,
    "start_time": "2021-08-26T07:35:20.260Z"
   },
   {
    "duration": 3,
    "start_time": "2021-08-26T07:35:28.123Z"
   },
   {
    "duration": 1081,
    "start_time": "2021-08-26T07:39:16.708Z"
   },
   {
    "duration": 760,
    "start_time": "2021-08-26T07:39:20.517Z"
   },
   {
    "duration": 25,
    "start_time": "2021-08-26T07:39:26.230Z"
   },
   {
    "duration": 4,
    "start_time": "2021-08-26T07:39:28.375Z"
   },
   {
    "duration": 83,
    "start_time": "2021-08-26T07:39:30.959Z"
   },
   {
    "duration": 568,
    "start_time": "2021-08-26T07:39:43.334Z"
   },
   {
    "duration": 3,
    "start_time": "2021-08-26T07:42:07.382Z"
   },
   {
    "duration": 861,
    "start_time": "2021-08-26T07:42:09.705Z"
   },
   {
    "duration": 5,
    "start_time": "2021-08-26T07:42:12.998Z"
   },
   {
    "duration": 497,
    "start_time": "2021-08-26T07:42:14.923Z"
   },
   {
    "duration": 403,
    "start_time": "2021-08-26T07:43:04.356Z"
   },
   {
    "duration": 29,
    "start_time": "2021-08-26T07:43:20.988Z"
   },
   {
    "duration": 389,
    "start_time": "2021-08-26T07:43:22.521Z"
   },
   {
    "duration": 388,
    "start_time": "2021-08-26T07:43:55.022Z"
   },
   {
    "duration": 408,
    "start_time": "2021-08-26T07:43:56.690Z"
   },
   {
    "duration": 44,
    "start_time": "2021-08-26T07:44:33.680Z"
   },
   {
    "duration": 468,
    "start_time": "2021-08-26T07:44:48.070Z"
   },
   {
    "duration": 373,
    "start_time": "2021-08-26T07:45:12.301Z"
   },
   {
    "duration": 32,
    "start_time": "2021-08-26T07:45:32.240Z"
   },
   {
    "duration": 381,
    "start_time": "2021-08-26T07:45:33.931Z"
   },
   {
    "duration": 402,
    "start_time": "2021-08-26T07:45:34.591Z"
   },
   {
    "duration": 271,
    "start_time": "2021-08-26T11:36:54.761Z"
   },
   {
    "duration": 211,
    "start_time": "2021-08-26T11:37:13.570Z"
   },
   {
    "duration": 206,
    "start_time": "2021-08-26T11:37:42.053Z"
   },
   {
    "duration": 326,
    "start_time": "2021-08-26T11:37:52.492Z"
   },
   {
    "duration": 208,
    "start_time": "2021-08-26T11:38:09.118Z"
   },
   {
    "duration": 4,
    "start_time": "2021-08-26T11:45:09.861Z"
   },
   {
    "duration": 827,
    "start_time": "2021-08-26T11:45:10.835Z"
   },
   {
    "duration": 22,
    "start_time": "2021-08-26T11:45:18.497Z"
   },
   {
    "duration": 381,
    "start_time": "2021-08-26T11:45:19.823Z"
   },
   {
    "duration": 365,
    "start_time": "2021-08-26T11:45:26.328Z"
   },
   {
    "duration": 378,
    "start_time": "2021-08-26T11:45:32.295Z"
   },
   {
    "duration": 206,
    "start_time": "2021-08-26T11:45:36.013Z"
   },
   {
    "duration": 398,
    "start_time": "2021-08-26T11:45:44.531Z"
   },
   {
    "duration": 229,
    "start_time": "2021-08-26T11:45:48.225Z"
   },
   {
    "duration": 260,
    "start_time": "2021-08-26T12:00:21.366Z"
   },
   {
    "duration": 7366,
    "start_time": "2021-08-26T12:01:58.649Z"
   },
   {
    "duration": 6061,
    "start_time": "2021-08-26T12:08:03.852Z"
   },
   {
    "duration": 6163,
    "start_time": "2021-08-26T12:08:37.009Z"
   },
   {
    "duration": 249,
    "start_time": "2021-08-26T12:08:50.283Z"
   },
   {
    "duration": 6065,
    "start_time": "2021-08-26T12:09:01.738Z"
   },
   {
    "duration": 245,
    "start_time": "2021-08-26T12:14:13.030Z"
   },
   {
    "duration": 4,
    "start_time": "2021-08-26T12:14:27.938Z"
   },
   {
    "duration": 4,
    "start_time": "2021-08-26T12:15:49.833Z"
   },
   {
    "duration": 720,
    "start_time": "2021-08-26T12:15:50.864Z"
   },
   {
    "duration": 25,
    "start_time": "2021-08-26T12:15:57.277Z"
   },
   {
    "duration": 251,
    "start_time": "2021-08-26T12:16:02.726Z"
   },
   {
    "duration": 5,
    "start_time": "2021-08-26T12:17:05.161Z"
   },
   {
    "duration": 264,
    "start_time": "2021-08-26T12:17:06.110Z"
   },
   {
    "duration": 10,
    "start_time": "2021-08-26T12:19:00.217Z"
   },
   {
    "duration": 9,
    "start_time": "2021-08-26T12:19:18.651Z"
   },
   {
    "duration": 4,
    "start_time": "2021-08-26T12:19:37.577Z"
   },
   {
    "duration": 679,
    "start_time": "2021-08-26T12:19:38.163Z"
   },
   {
    "duration": 23,
    "start_time": "2021-08-26T12:19:49.211Z"
   },
   {
    "duration": 14,
    "start_time": "2021-08-26T12:19:53.730Z"
   },
   {
    "duration": 218,
    "start_time": "2021-08-26T12:20:06.447Z"
   },
   {
    "duration": 30,
    "start_time": "2021-08-26T12:21:10.651Z"
   },
   {
    "duration": 211,
    "start_time": "2021-08-26T12:21:16.307Z"
   },
   {
    "duration": 332,
    "start_time": "2021-08-26T12:22:02.565Z"
   },
   {
    "duration": 433,
    "start_time": "2021-08-26T12:22:28.626Z"
   },
   {
    "duration": 308,
    "start_time": "2021-08-26T12:22:38.044Z"
   },
   {
    "duration": 307,
    "start_time": "2021-08-26T12:22:41.676Z"
   },
   {
    "duration": 313,
    "start_time": "2021-08-26T12:22:45.146Z"
   },
   {
    "duration": 391,
    "start_time": "2021-08-26T12:22:49.495Z"
   },
   {
    "duration": 382,
    "start_time": "2021-08-26T12:23:15.708Z"
   },
   {
    "duration": 404,
    "start_time": "2021-08-26T12:23:27.069Z"
   },
   {
    "duration": 79,
    "start_time": "2021-08-26T12:24:49.222Z"
   },
   {
    "duration": 406,
    "start_time": "2021-08-26T12:25:38.227Z"
   },
   {
    "duration": 62,
    "start_time": "2021-08-26T12:25:47.493Z"
   },
   {
    "duration": 58,
    "start_time": "2021-08-26T12:26:12.791Z"
   },
   {
    "duration": 32,
    "start_time": "2021-08-26T12:27:16.372Z"
   },
   {
    "duration": 503,
    "start_time": "2021-08-26T12:27:18.113Z"
   },
   {
    "duration": 402,
    "start_time": "2021-08-26T12:27:21.581Z"
   },
   {
    "duration": 39,
    "start_time": "2021-08-26T12:27:54.623Z"
   },
   {
    "duration": 8,
    "start_time": "2021-08-26T12:28:24.095Z"
   },
   {
    "duration": 28,
    "start_time": "2021-08-26T12:28:25.302Z"
   },
   {
    "duration": 385,
    "start_time": "2021-08-26T12:28:26.659Z"
   },
   {
    "duration": 391,
    "start_time": "2021-08-26T12:28:28.374Z"
   },
   {
    "duration": 247,
    "start_time": "2021-08-26T13:13:28.551Z"
   },
   {
    "duration": 15,
    "start_time": "2021-08-26T13:13:36.248Z"
   },
   {
    "duration": 58,
    "start_time": "2021-08-26T13:13:43.862Z"
   },
   {
    "duration": 75,
    "start_time": "2021-08-26T13:15:00.883Z"
   },
   {
    "duration": 51,
    "start_time": "2021-08-26T13:15:07.047Z"
   },
   {
    "duration": 51,
    "start_time": "2021-08-26T13:15:15.228Z"
   },
   {
    "duration": 111,
    "start_time": "2021-08-26T13:15:34.052Z"
   },
   {
    "duration": 143,
    "start_time": "2021-08-26T13:16:52.120Z"
   },
   {
    "duration": 51,
    "start_time": "2021-08-26T13:16:53.520Z"
   },
   {
    "duration": 318,
    "start_time": "2021-08-26T13:19:35.011Z"
   },
   {
    "duration": 18,
    "start_time": "2021-08-26T13:19:36.555Z"
   },
   {
    "duration": 97,
    "start_time": "2021-08-26T13:20:02.122Z"
   },
   {
    "duration": 15,
    "start_time": "2021-08-26T13:20:24.554Z"
   },
   {
    "duration": 94,
    "start_time": "2021-08-26T13:20:49.516Z"
   },
   {
    "duration": 95,
    "start_time": "2021-08-26T13:21:04.874Z"
   },
   {
    "duration": 91,
    "start_time": "2021-08-26T13:21:08.911Z"
   },
   {
    "duration": 91,
    "start_time": "2021-08-26T13:21:26.470Z"
   },
   {
    "duration": 89,
    "start_time": "2021-08-26T13:21:38.249Z"
   },
   {
    "duration": 90,
    "start_time": "2021-08-26T13:21:46.233Z"
   },
   {
    "duration": 14,
    "start_time": "2021-08-26T13:22:19.010Z"
   },
   {
    "duration": 274,
    "start_time": "2021-08-26T13:25:18.064Z"
   },
   {
    "duration": 286,
    "start_time": "2021-08-26T13:27:02.838Z"
   },
   {
    "duration": 3,
    "start_time": "2021-08-26T13:27:07.999Z"
   },
   {
    "duration": 721,
    "start_time": "2021-08-26T13:27:08.860Z"
   },
   {
    "duration": 114,
    "start_time": "2021-08-26T13:27:10.882Z"
   },
   {
    "duration": 99,
    "start_time": "2021-08-26T13:27:12.193Z"
   },
   {
    "duration": 321,
    "start_time": "2021-08-26T13:27:15.322Z"
   },
   {
    "duration": 26,
    "start_time": "2021-08-26T13:27:51.094Z"
   },
   {
    "duration": 407,
    "start_time": "2021-08-26T13:28:06.305Z"
   },
   {
    "duration": 263,
    "start_time": "2021-08-26T13:28:33.261Z"
   },
   {
    "duration": 398,
    "start_time": "2021-08-26T13:29:26.348Z"
   },
   {
    "duration": 202,
    "start_time": "2021-08-26T13:29:30.113Z"
   },
   {
    "duration": 27,
    "start_time": "2021-08-26T13:30:14.824Z"
   },
   {
    "duration": 39,
    "start_time": "2021-08-26T13:30:32.145Z"
   },
   {
    "duration": 246,
    "start_time": "2021-08-26T13:30:45.364Z"
   },
   {
    "duration": 308,
    "start_time": "2021-08-26T13:30:49.872Z"
   },
   {
    "duration": 227,
    "start_time": "2021-08-26T13:30:53.945Z"
   },
   {
    "duration": 254,
    "start_time": "2021-08-26T13:30:59.732Z"
   },
   {
    "duration": 260,
    "start_time": "2021-08-26T13:31:10.885Z"
   },
   {
    "duration": 17,
    "start_time": "2021-08-26T13:32:34.800Z"
   },
   {
    "duration": 21,
    "start_time": "2021-08-26T13:32:39.604Z"
   },
   {
    "duration": 9,
    "start_time": "2021-08-26T13:33:40.458Z"
   },
   {
    "duration": 82,
    "start_time": "2021-08-26T13:33:51.351Z"
   },
   {
    "duration": 258,
    "start_time": "2021-08-26T13:33:55.084Z"
   },
   {
    "duration": 6,
    "start_time": "2021-08-26T13:33:56.225Z"
   },
   {
    "duration": 4,
    "start_time": "2021-08-26T13:34:04.764Z"
   },
   {
    "duration": 722,
    "start_time": "2021-08-26T13:34:05.700Z"
   },
   {
    "duration": 111,
    "start_time": "2021-08-26T13:34:07.641Z"
   },
   {
    "duration": 89,
    "start_time": "2021-08-26T13:34:08.564Z"
   },
   {
    "duration": 20,
    "start_time": "2021-08-26T13:34:11.394Z"
   },
   {
    "duration": 393,
    "start_time": "2021-08-26T13:34:13.401Z"
   },
   {
    "duration": 262,
    "start_time": "2021-08-26T13:34:15.307Z"
   },
   {
    "duration": 379,
    "start_time": "2021-08-26T13:34:15.752Z"
   },
   {
    "duration": 344,
    "start_time": "2021-08-26T13:34:16.161Z"
   },
   {
    "duration": 384,
    "start_time": "2021-08-26T13:34:16.537Z"
   },
   {
    "duration": 213,
    "start_time": "2021-08-26T13:34:16.923Z"
   },
   {
    "duration": 431,
    "start_time": "2021-08-26T13:34:17.144Z"
   },
   {
    "duration": 241,
    "start_time": "2021-08-26T13:34:17.577Z"
   },
   {
    "duration": 14,
    "start_time": "2021-08-26T13:34:18.653Z"
   },
   {
    "duration": 33,
    "start_time": "2021-08-26T13:34:19.867Z"
   },
   {
    "duration": 375,
    "start_time": "2021-08-26T13:34:23.465Z"
   },
   {
    "duration": 374,
    "start_time": "2021-08-26T13:34:25.511Z"
   },
   {
    "duration": 81,
    "start_time": "2021-08-26T13:34:27.733Z"
   },
   {
    "duration": 407,
    "start_time": "2021-08-26T13:34:29.072Z"
   },
   {
    "duration": 61,
    "start_time": "2021-08-26T13:34:30.659Z"
   },
   {
    "duration": 17,
    "start_time": "2021-08-26T13:34:38.069Z"
   },
   {
    "duration": 60,
    "start_time": "2021-08-26T13:34:39.330Z"
   },
   {
    "duration": 76,
    "start_time": "2021-08-26T13:34:42.833Z"
   },
   {
    "duration": 54,
    "start_time": "2021-08-26T13:34:45.129Z"
   },
   {
    "duration": 88,
    "start_time": "2021-08-26T13:35:42.574Z"
   },
   {
    "duration": 273,
    "start_time": "2021-08-26T13:36:01.844Z"
   },
   {
    "duration": 127,
    "start_time": "2021-08-26T13:36:24.669Z"
   },
   {
    "duration": 104,
    "start_time": "2021-08-26T13:36:31.854Z"
   },
   {
    "duration": 87,
    "start_time": "2021-08-26T13:36:38.983Z"
   },
   {
    "duration": 64,
    "start_time": "2021-08-26T13:36:44.927Z"
   },
   {
    "duration": 17,
    "start_time": "2021-08-26T13:37:01.091Z"
   },
   {
    "duration": 22,
    "start_time": "2021-08-26T13:37:19.676Z"
   },
   {
    "duration": 52,
    "start_time": "2021-08-26T13:43:32.732Z"
   },
   {
    "duration": 50,
    "start_time": "2021-08-26T13:43:33.731Z"
   },
   {
    "duration": 60,
    "start_time": "2021-08-26T13:43:34.659Z"
   },
   {
    "duration": 61,
    "start_time": "2021-08-26T13:43:35.601Z"
   },
   {
    "duration": 30,
    "start_time": "2021-08-26T13:44:13.094Z"
   },
   {
    "duration": 30,
    "start_time": "2021-08-26T13:44:14.049Z"
   },
   {
    "duration": 37,
    "start_time": "2021-08-26T13:44:14.979Z"
   },
   {
    "duration": 37,
    "start_time": "2021-08-26T13:44:15.894Z"
   },
   {
    "duration": 37,
    "start_time": "2021-08-26T13:44:16.860Z"
   },
   {
    "duration": 22,
    "start_time": "2021-08-26T13:44:22.589Z"
   },
   {
    "duration": 105,
    "start_time": "2021-08-26T13:44:57.311Z"
   },
   {
    "duration": 35,
    "start_time": "2021-08-26T13:45:09.286Z"
   },
   {
    "duration": 21,
    "start_time": "2021-08-26T13:45:10.309Z"
   },
   {
    "duration": 33,
    "start_time": "2021-08-26T13:47:07.742Z"
   },
   {
    "duration": 33,
    "start_time": "2021-08-26T13:47:08.772Z"
   },
   {
    "duration": 29,
    "start_time": "2021-08-26T13:47:09.697Z"
   },
   {
    "duration": 32,
    "start_time": "2021-08-26T13:47:10.614Z"
   },
   {
    "duration": 6,
    "start_time": "2021-08-26T13:47:12.861Z"
   },
   {
    "duration": 11,
    "start_time": "2021-08-26T13:47:27.320Z"
   },
   {
    "duration": 16,
    "start_time": "2021-08-26T13:47:31.876Z"
   },
   {
    "duration": 232,
    "start_time": "2021-08-26T13:50:09.764Z"
   },
   {
    "duration": -21204,
    "start_time": "2021-08-26T13:51:37.735Z"
   },
   {
    "duration": 276,
    "start_time": "2021-08-26T13:51:23.083Z"
   },
   {
    "duration": 74316,
    "start_time": "2021-08-26T13:54:42.191Z"
   },
   {
    "duration": -23068,
    "start_time": "2021-08-26T13:56:19.580Z"
   },
   {
    "duration": 784,
    "start_time": "2021-08-26T13:56:08.853Z"
   },
   {
    "duration": 8,
    "start_time": "2021-08-26T13:57:07.100Z"
   },
   {
    "duration": 17,
    "start_time": "2021-08-26T13:57:11.953Z"
   },
   {
    "duration": 1173,
    "start_time": "2021-08-26T13:57:32.301Z"
   },
   {
    "duration": 857,
    "start_time": "2021-08-26T13:57:34.294Z"
   },
   {
    "duration": 117,
    "start_time": "2021-08-26T13:57:38.301Z"
   },
   {
    "duration": 112,
    "start_time": "2021-08-26T13:57:39.327Z"
   },
   {
    "duration": 26,
    "start_time": "2021-08-26T13:57:42.800Z"
   },
   {
    "duration": 23,
    "start_time": "2021-08-26T13:57:53.537Z"
   },
   {
    "duration": 39,
    "start_time": "2021-08-26T13:57:55.910Z"
   },
   {
    "duration": 89,
    "start_time": "2021-08-26T13:57:59.571Z"
   },
   {
    "duration": 556,
    "start_time": "2021-08-26T13:58:03.235Z"
   },
   {
    "duration": 17,
    "start_time": "2021-08-26T13:58:07.688Z"
   },
   {
    "duration": 76,
    "start_time": "2021-08-26T13:58:15.381Z"
   },
   {
    "duration": 91,
    "start_time": "2021-08-26T13:58:18.163Z"
   },
   {
    "duration": 105,
    "start_time": "2021-08-26T13:58:20.707Z"
   },
   {
    "duration": 32,
    "start_time": "2021-08-26T13:58:26.582Z"
   },
   {
    "duration": 36,
    "start_time": "2021-08-26T13:58:29.308Z"
   },
   {
    "duration": 38,
    "start_time": "2021-08-26T13:58:30.176Z"
   },
   {
    "duration": 37,
    "start_time": "2021-08-26T13:58:31.687Z"
   },
   {
    "duration": 36,
    "start_time": "2021-08-26T13:58:33.346Z"
   },
   {
    "duration": 15,
    "start_time": "2021-08-26T13:58:35.278Z"
   },
   {
    "duration": 16,
    "start_time": "2021-08-26T13:58:38.410Z"
   },
   {
    "duration": 828,
    "start_time": "2021-08-26T13:58:49.514Z"
   },
   {
    "duration": 483,
    "start_time": "2021-08-26T13:59:36.080Z"
   },
   {
    "duration": 8,
    "start_time": "2021-08-26T14:04:57.564Z"
   },
   {
    "duration": 339,
    "start_time": "2021-08-26T14:04:58.572Z"
   },
   {
    "duration": 33,
    "start_time": "2021-08-26T14:05:22.463Z"
   },
   {
    "duration": 13,
    "start_time": "2021-08-26T14:05:30.227Z"
   },
   {
    "duration": 44,
    "start_time": "2021-08-26T14:05:31.217Z"
   },
   {
    "duration": 48,
    "start_time": "2021-08-26T14:05:32.118Z"
   },
   {
    "duration": 258,
    "start_time": "2021-08-26T14:05:52.343Z"
   },
   {
    "duration": 5,
    "start_time": "2021-08-26T14:05:55.116Z"
   },
   {
    "duration": 5,
    "start_time": "2021-08-26T14:06:09.274Z"
   },
   {
    "duration": 5,
    "start_time": "2021-08-26T14:06:10.363Z"
   },
   {
    "duration": 24,
    "start_time": "2021-08-26T14:06:33.915Z"
   },
   {
    "duration": 3,
    "start_time": "2021-08-26T14:06:34.779Z"
   },
   {
    "duration": 4,
    "start_time": "2021-08-26T14:06:35.747Z"
   },
   {
    "duration": 4,
    "start_time": "2021-08-26T14:06:36.626Z"
   },
   {
    "duration": 34,
    "start_time": "2021-08-26T14:07:37.739Z"
   },
   {
    "duration": 5,
    "start_time": "2021-08-26T14:07:42.981Z"
   },
   {
    "duration": 272,
    "start_time": "2021-08-26T14:07:50.138Z"
   },
   {
    "duration": 5,
    "start_time": "2021-08-26T14:07:53.591Z"
   },
   {
    "duration": 238,
    "start_time": "2021-08-26T14:08:52.526Z"
   },
   {
    "duration": 16,
    "start_time": "2021-08-26T14:09:11.753Z"
   },
   {
    "duration": 79,
    "start_time": "2021-08-26T14:09:12.617Z"
   },
   {
    "duration": 7,
    "start_time": "2021-08-26T14:09:24.929Z"
   },
   {
    "duration": 113,
    "start_time": "2021-08-26T14:10:14.642Z"
   },
   {
    "duration": 67,
    "start_time": "2021-08-26T14:10:37.429Z"
   },
   {
    "duration": 250,
    "start_time": "2021-08-26T14:11:36.329Z"
   },
   {
    "duration": 256,
    "start_time": "2021-08-26T14:12:45.271Z"
   },
   {
    "duration": 155,
    "start_time": "2021-08-26T14:13:08.537Z"
   },
   {
    "duration": 111,
    "start_time": "2021-08-26T14:13:28.292Z"
   },
   {
    "duration": 119,
    "start_time": "2021-08-26T14:14:01.880Z"
   },
   {
    "duration": 66,
    "start_time": "2021-08-26T14:14:26.426Z"
   },
   {
    "duration": 99,
    "start_time": "2021-08-26T14:14:32.892Z"
   },
   {
    "duration": 93,
    "start_time": "2021-08-26T14:14:44.702Z"
   },
   {
    "duration": 57,
    "start_time": "2021-08-26T14:14:54.236Z"
   },
   {
    "duration": 62,
    "start_time": "2021-08-26T14:15:02.131Z"
   },
   {
    "duration": 95,
    "start_time": "2021-08-26T14:15:09.898Z"
   },
   {
    "duration": 15,
    "start_time": "2021-08-26T14:16:57.888Z"
   },
   {
    "duration": 250,
    "start_time": "2021-08-26T14:21:46.992Z"
   },
   {
    "duration": 245,
    "start_time": "2021-08-26T14:21:58.152Z"
   },
   {
    "duration": 9,
    "start_time": "2021-08-26T14:22:03.586Z"
   },
   {
    "duration": 39,
    "start_time": "2021-08-26T14:22:04.298Z"
   },
   {
    "duration": 14,
    "start_time": "2021-08-26T14:22:04.835Z"
   },
   {
    "duration": 3,
    "start_time": "2021-08-26T14:22:05.414Z"
   },
   {
    "duration": 4,
    "start_time": "2021-08-26T14:22:06.808Z"
   },
   {
    "duration": 4,
    "start_time": "2021-08-26T14:22:07.822Z"
   },
   {
    "duration": 13,
    "start_time": "2021-08-26T14:22:10.151Z"
   },
   {
    "duration": 32,
    "start_time": "2021-08-26T14:22:17.434Z"
   },
   {
    "duration": 303,
    "start_time": "2021-08-26T14:22:30.090Z"
   },
   {
    "duration": 248,
    "start_time": "2021-08-26T14:24:00.908Z"
   },
   {
    "duration": 288,
    "start_time": "2021-08-26T14:24:37.839Z"
   },
   {
    "duration": 8,
    "start_time": "2021-08-26T14:24:49.513Z"
   },
   {
    "duration": 41,
    "start_time": "2021-08-26T14:24:50.068Z"
   },
   {
    "duration": 16,
    "start_time": "2021-08-26T14:24:50.576Z"
   },
   {
    "duration": 4,
    "start_time": "2021-08-26T14:24:51.120Z"
   },
   {
    "duration": 4,
    "start_time": "2021-08-26T14:24:51.604Z"
   },
   {
    "duration": 4,
    "start_time": "2021-08-26T14:24:52.069Z"
   },
   {
    "duration": 13,
    "start_time": "2021-08-26T14:24:54.760Z"
   },
   {
    "duration": 14,
    "start_time": "2021-08-26T14:24:56.250Z"
   },
   {
    "duration": 88,
    "start_time": "2021-08-26T14:24:58.882Z"
   },
   {
    "duration": 18,
    "start_time": "2021-08-26T14:25:06.590Z"
   },
   {
    "duration": 22,
    "start_time": "2021-08-26T14:25:37.984Z"
   },
   {
    "duration": 160,
    "start_time": "2021-08-26T14:25:39.069Z"
   },
   {
    "duration": 19,
    "start_time": "2021-08-26T14:25:41.967Z"
   },
   {
    "duration": 66,
    "start_time": "2021-08-26T14:25:50.837Z"
   },
   {
    "duration": 21,
    "start_time": "2021-08-26T14:50:35.314Z"
   },
   {
    "duration": 23,
    "start_time": "2021-08-26T14:50:47.368Z"
   },
   {
    "duration": 1563,
    "start_time": "2021-08-27T02:59:09.527Z"
   },
   {
    "duration": 1076,
    "start_time": "2021-08-27T02:59:11.092Z"
   },
   {
    "duration": 148,
    "start_time": "2021-08-27T02:59:13.427Z"
   },
   {
    "duration": 114,
    "start_time": "2021-08-27T02:59:14.438Z"
   },
   {
    "duration": 793,
    "start_time": "2021-08-27T02:59:15.271Z"
   },
   {
    "duration": 35,
    "start_time": "2021-08-27T02:59:20.592Z"
   },
   {
    "duration": 637,
    "start_time": "2021-08-27T02:59:21.159Z"
   },
   {
    "duration": 17,
    "start_time": "2021-08-27T02:59:26.246Z"
   },
   {
    "duration": 55,
    "start_time": "2021-08-27T02:59:27.271Z"
   },
   {
    "duration": 630,
    "start_time": "2021-08-27T02:59:28.235Z"
   },
   {
    "duration": 106,
    "start_time": "2021-08-27T02:59:33.691Z"
   },
   {
    "duration": 691,
    "start_time": "2021-08-27T02:59:37.103Z"
   },
   {
    "duration": 78,
    "start_time": "2021-08-27T02:59:39.105Z"
   },
   {
    "duration": 23,
    "start_time": "2021-08-27T02:59:40.260Z"
   },
   {
    "duration": 77,
    "start_time": "2021-08-27T02:59:41.240Z"
   },
   {
    "duration": 110,
    "start_time": "2021-08-27T02:59:42.447Z"
   },
   {
    "duration": 70,
    "start_time": "2021-08-27T02:59:43.762Z"
   },
   {
    "duration": 146,
    "start_time": "2021-08-27T02:59:47.192Z"
   },
   {
    "duration": 155,
    "start_time": "2021-08-27T02:59:48.325Z"
   },
   {
    "duration": 23,
    "start_time": "2021-08-27T02:59:49.551Z"
   },
   {
    "duration": 43,
    "start_time": "2021-08-27T02:59:56.850Z"
   },
   {
    "duration": 49,
    "start_time": "2021-08-27T02:59:57.617Z"
   },
   {
    "duration": 45,
    "start_time": "2021-08-27T02:59:58.395Z"
   },
   {
    "duration": 50,
    "start_time": "2021-08-27T02:59:59.152Z"
   },
   {
    "duration": 50,
    "start_time": "2021-08-27T02:59:59.908Z"
   },
   {
    "duration": 19,
    "start_time": "2021-08-27T03:00:00.619Z"
   },
   {
    "duration": 23,
    "start_time": "2021-08-27T03:00:01.607Z"
   },
   {
    "duration": 426,
    "start_time": "2021-08-27T03:00:05.019Z"
   },
   {
    "duration": 119146,
    "start_time": "2021-08-27T03:00:05.679Z"
   },
   {
    "duration": -21626,
    "start_time": "2021-08-27T03:02:26.461Z"
   },
   {
    "duration": 1241,
    "start_time": "2021-08-27T03:02:11.895Z"
   },
   {
    "duration": 15,
    "start_time": "2021-08-27T03:02:17.739Z"
   },
   {
    "duration": 51,
    "start_time": "2021-08-27T03:02:18.306Z"
   },
   {
    "duration": 21,
    "start_time": "2021-08-27T03:02:18.761Z"
   },
   {
    "duration": 5,
    "start_time": "2021-08-27T03:02:19.375Z"
   },
   {
    "duration": 5,
    "start_time": "2021-08-27T03:02:19.792Z"
   },
   {
    "duration": 5,
    "start_time": "2021-08-27T03:02:20.122Z"
   },
   {
    "duration": 19,
    "start_time": "2021-08-27T03:02:23.460Z"
   },
   {
    "duration": 33,
    "start_time": "2021-08-27T03:02:32.089Z"
   },
   {
    "duration": 234,
    "start_time": "2021-08-27T03:02:33.286Z"
   },
   {
    "duration": 4,
    "start_time": "2021-08-27T03:02:34.697Z"
   },
   {
    "duration": 31,
    "start_time": "2021-08-27T03:02:35.375Z"
   },
   {
    "duration": 21,
    "start_time": "2021-08-27T03:03:00.020Z"
   },
   {
    "duration": 155187,
    "start_time": "2021-08-27T03:04:45.839Z"
   },
   {
    "duration": 158156,
    "start_time": "2021-08-27T03:09:37.072Z"
   },
   {
    "duration": 8475,
    "start_time": "2021-08-27T03:18:47.761Z"
   },
   {
    "duration": 8992,
    "start_time": "2021-08-27T03:19:03.850Z"
   },
   {
    "duration": 396,
    "start_time": "2021-08-27T03:23:54.935Z"
   },
   {
    "duration": 930,
    "start_time": "2021-08-27T03:24:57.697Z"
   },
   {
    "duration": 5,
    "start_time": "2021-08-27T03:25:36.507Z"
   },
   {
    "duration": 5,
    "start_time": "2021-08-27T03:25:46.766Z"
   },
   {
    "duration": 43,
    "start_time": "2021-08-27T03:25:55.488Z"
   },
   {
    "duration": 17,
    "start_time": "2021-08-27T03:26:25.357Z"
   },
   {
    "duration": 5,
    "start_time": "2021-08-27T03:26:36.861Z"
   },
   {
    "duration": 5,
    "start_time": "2021-08-27T03:26:40.691Z"
   },
   {
    "duration": 6,
    "start_time": "2021-08-27T03:26:56.518Z"
   },
   {
    "duration": 6,
    "start_time": "2021-08-27T03:27:00.491Z"
   },
   {
    "duration": 5,
    "start_time": "2021-08-27T03:27:05.592Z"
   },
   {
    "duration": 1702,
    "start_time": "2021-08-27T03:27:19.206Z"
   },
   {
    "duration": 2006,
    "start_time": "2021-08-27T03:27:49.612Z"
   },
   {
    "duration": 160323,
    "start_time": "2021-08-27T05:10:50.254Z"
   },
   {
    "duration": -21793,
    "start_time": "2021-08-27T05:19:01.546Z"
   },
   {
    "duration": 167253,
    "start_time": "2021-08-27T05:19:31.050Z"
   },
   {
    "duration": 3021,
    "start_time": "2021-08-27T05:23:34.401Z"
   },
   {
    "duration": 1531,
    "start_time": "2021-08-27T05:33:18.387Z"
   },
   {
    "duration": 1470,
    "start_time": "2021-08-27T05:34:11.748Z"
   },
   {
    "duration": 6,
    "start_time": "2021-08-27T05:34:17.473Z"
   },
   {
    "duration": 1100,
    "start_time": "2021-08-27T05:34:18.690Z"
   },
   {
    "duration": 149,
    "start_time": "2021-08-27T05:34:20.919Z"
   },
   {
    "duration": 35,
    "start_time": "2021-08-27T05:34:28.213Z"
   },
   {
    "duration": 29,
    "start_time": "2021-08-27T05:34:34.875Z"
   },
   {
    "duration": 60,
    "start_time": "2021-08-27T05:34:36.303Z"
   },
   {
    "duration": 691,
    "start_time": "2021-08-27T05:34:40.242Z"
   },
   {
    "duration": 23,
    "start_time": "2021-08-27T05:34:42.680Z"
   },
   {
    "duration": 113,
    "start_time": "2021-08-27T05:34:46.072Z"
   },
   {
    "duration": 133,
    "start_time": "2021-08-27T05:34:52.884Z"
   },
   {
    "duration": 159,
    "start_time": "2021-08-27T05:34:54.364Z"
   },
   {
    "duration": 43,
    "start_time": "2021-08-27T05:34:59.661Z"
   },
   {
    "duration": 51,
    "start_time": "2021-08-27T05:35:00.348Z"
   },
   {
    "duration": 51,
    "start_time": "2021-08-27T05:35:01.025Z"
   },
   {
    "duration": 56,
    "start_time": "2021-08-27T05:35:01.756Z"
   },
   {
    "duration": 51,
    "start_time": "2021-08-27T05:35:02.582Z"
   },
   {
    "duration": 17,
    "start_time": "2021-08-27T05:35:06.642Z"
   },
   {
    "duration": 14,
    "start_time": "2021-08-27T05:35:15.939Z"
   },
   {
    "duration": 47,
    "start_time": "2021-08-27T05:35:18.167Z"
   },
   {
    "duration": 21,
    "start_time": "2021-08-27T05:35:19.517Z"
   },
   {
    "duration": 22,
    "start_time": "2021-08-27T05:35:34.871Z"
   },
   {
    "duration": 217,
    "start_time": "2021-08-27T05:35:36.701Z"
   },
   {
    "duration": 20,
    "start_time": "2021-08-27T05:35:51.377Z"
   },
   {
    "duration": 170628,
    "start_time": "2021-08-27T05:35:52.489Z"
   },
   {
    "duration": 399915,
    "start_time": "2021-08-27T05:46:35.025Z"
   },
   {
    "duration": 5,
    "start_time": "2021-08-27T05:56:30.001Z"
   },
   {
    "duration": 5,
    "start_time": "2021-08-27T05:56:34.997Z"
   },
   {
    "duration": 6050,
    "start_time": "2021-08-27T06:04:52.089Z"
   },
   {
    "duration": 1461,
    "start_time": "2021-08-27T06:06:51.956Z"
   },
   {
    "duration": 5,
    "start_time": "2021-08-27T07:51:28.692Z"
   },
   {
    "duration": 2817,
    "start_time": "2021-08-27T07:54:12.229Z"
   },
   {
    "duration": 2585,
    "start_time": "2021-08-27T07:54:33.738Z"
   },
   {
    "duration": 468,
    "start_time": "2021-08-27T09:42:59.988Z"
   },
   {
    "duration": 504,
    "start_time": "2021-08-27T09:43:11.114Z"
   },
   {
    "duration": 5,
    "start_time": "2021-08-27T09:51:23.576Z"
   },
   {
    "duration": 1002,
    "start_time": "2021-08-27T09:51:25.240Z"
   },
   {
    "duration": 149,
    "start_time": "2021-08-27T09:51:26.287Z"
   },
   {
    "duration": 115,
    "start_time": "2021-08-27T09:51:27.210Z"
   },
   {
    "duration": 722,
    "start_time": "2021-08-27T09:51:27.875Z"
   },
   {
    "duration": 28,
    "start_time": "2021-08-27T09:51:43.006Z"
   },
   {
    "duration": 15,
    "start_time": "2021-08-27T09:51:47.115Z"
   },
   {
    "duration": 49,
    "start_time": "2021-08-27T09:51:48.705Z"
   },
   {
    "duration": 681,
    "start_time": "2021-08-27T09:51:53.144Z"
   },
   {
    "duration": 24,
    "start_time": "2021-08-27T09:51:56.262Z"
   },
   {
    "duration": 107,
    "start_time": "2021-08-27T09:51:59.427Z"
   },
   {
    "duration": 156,
    "start_time": "2021-08-27T09:52:02.556Z"
   },
   {
    "duration": 46,
    "start_time": "2021-08-27T09:52:04.695Z"
   },
   {
    "duration": 49,
    "start_time": "2021-08-27T09:52:05.020Z"
   },
   {
    "duration": 48,
    "start_time": "2021-08-27T09:52:05.387Z"
   },
   {
    "duration": 54,
    "start_time": "2021-08-27T09:52:05.800Z"
   },
   {
    "duration": 51,
    "start_time": "2021-08-27T09:52:06.160Z"
   },
   {
    "duration": 16,
    "start_time": "2021-08-27T09:52:06.472Z"
   },
   {
    "duration": 24,
    "start_time": "2021-08-27T09:52:07.542Z"
   },
   {
    "duration": 1224,
    "start_time": "2021-08-27T09:52:43.766Z"
   },
   {
    "duration": 3218,
    "start_time": "2021-08-27T09:54:52.065Z"
   },
   {
    "duration": 399,
    "start_time": "2021-08-27T09:55:04.913Z"
   },
   {
    "duration": 394,
    "start_time": "2021-08-27T09:55:19.525Z"
   },
   {
    "duration": 2724,
    "start_time": "2021-08-27T09:55:37.128Z"
   },
   {
    "duration": 10,
    "start_time": "2021-08-27T09:56:13.098Z"
   },
   {
    "duration": 40,
    "start_time": "2021-08-27T09:56:15.504Z"
   },
   {
    "duration": 17,
    "start_time": "2021-08-27T09:56:16.057Z"
   },
   {
    "duration": 412,
    "start_time": "2021-08-27T09:56:22.729Z"
   },
   {
    "duration": 23,
    "start_time": "2021-08-27T09:56:43.193Z"
   },
   {
    "duration": 208,
    "start_time": "2021-08-27T09:56:44.991Z"
   },
   {
    "duration": 509,
    "start_time": "2021-08-27T09:56:53.137Z"
   },
   {
    "duration": 53,
    "start_time": "2021-08-27T09:57:13.268Z"
   },
   {
    "duration": 26,
    "start_time": "2021-08-27T09:57:32.291Z"
   },
   {
    "duration": 1437,
    "start_time": "2021-08-27T09:57:37.004Z"
   },
   {
    "duration": 10,
    "start_time": "2021-08-27T09:57:42.746Z"
   },
   {
    "duration": 40,
    "start_time": "2021-08-27T09:57:43.357Z"
   },
   {
    "duration": 17,
    "start_time": "2021-08-27T09:57:44.403Z"
   },
   {
    "duration": 4,
    "start_time": "2021-08-27T09:57:50.429Z"
   },
   {
    "duration": 124,
    "start_time": "2021-08-27T09:57:52.393Z"
   },
   {
    "duration": 11,
    "start_time": "2021-08-27T09:58:22.295Z"
   },
   {
    "duration": 41,
    "start_time": "2021-08-27T09:58:23.247Z"
   },
   {
    "duration": 17,
    "start_time": "2021-08-27T09:58:24.395Z"
   },
   {
    "duration": 133,
    "start_time": "2021-08-27T09:58:28.790Z"
   },
   {
    "duration": 11,
    "start_time": "2021-08-27T09:58:40.539Z"
   },
   {
    "duration": 43,
    "start_time": "2021-08-27T09:58:41.596Z"
   },
   {
    "duration": 19,
    "start_time": "2021-08-27T09:58:42.414Z"
   },
   {
    "duration": 199,
    "start_time": "2021-08-27T09:58:47.819Z"
   },
   {
    "duration": 12,
    "start_time": "2021-08-27T09:59:12.629Z"
   },
   {
    "duration": 42,
    "start_time": "2021-08-27T09:59:13.722Z"
   },
   {
    "duration": 18,
    "start_time": "2021-08-27T09:59:14.522Z"
   },
   {
    "duration": 92,
    "start_time": "2021-08-27T09:59:17.826Z"
   },
   {
    "duration": 10,
    "start_time": "2021-08-27T09:59:55.025Z"
   },
   {
    "duration": 42,
    "start_time": "2021-08-27T09:59:55.900Z"
   },
   {
    "duration": 16,
    "start_time": "2021-08-27T09:59:56.744Z"
   },
   {
    "duration": 99,
    "start_time": "2021-08-27T10:00:00.420Z"
   },
   {
    "duration": 323,
    "start_time": "2021-08-27T10:37:22.726Z"
   },
   {
    "duration": 7,
    "start_time": "2021-08-27T10:38:05.696Z"
   },
   {
    "duration": 7,
    "start_time": "2021-08-27T10:40:15.560Z"
   },
   {
    "duration": 7,
    "start_time": "2021-08-27T10:42:20.698Z"
   },
   {
    "duration": 7,
    "start_time": "2021-08-27T10:43:34.777Z"
   },
   {
    "duration": 6,
    "start_time": "2021-08-27T10:44:29.663Z"
   },
   {
    "duration": 6,
    "start_time": "2021-08-27T10:44:34.935Z"
   },
   {
    "duration": 5,
    "start_time": "2021-08-27T10:45:06.232Z"
   },
   {
    "duration": 9,
    "start_time": "2021-08-27T10:45:25.761Z"
   },
   {
    "duration": 56,
    "start_time": "2021-08-27T10:47:16.470Z"
   },
   {
    "duration": 112,
    "start_time": "2021-08-27T10:47:44.115Z"
   },
   {
    "duration": 4,
    "start_time": "2021-08-27T10:48:17.423Z"
   },
   {
    "duration": 39,
    "start_time": "2021-08-27T10:53:33.204Z"
   },
   {
    "duration": 21,
    "start_time": "2021-08-27T10:53:38.907Z"
   },
   {
    "duration": 10,
    "start_time": "2021-08-27T10:54:03.510Z"
   },
   {
    "duration": 15509,
    "start_time": "2021-08-27T10:56:57.316Z"
   },
   {
    "duration": 705,
    "start_time": "2021-08-27T10:58:37.825Z"
   },
   {
    "duration": 675,
    "start_time": "2021-08-27T10:58:45.649Z"
   },
   {
    "duration": 898,
    "start_time": "2021-08-27T11:10:27.319Z"
   },
   {
    "duration": 767,
    "start_time": "2021-08-27T12:52:02.750Z"
   },
   {
    "duration": 25,
    "start_time": "2021-08-27T12:52:59.195Z"
   },
   {
    "duration": 8,
    "start_time": "2021-08-27T12:53:12.975Z"
   },
   {
    "duration": 5,
    "start_time": "2021-08-27T12:54:54.712Z"
   },
   {
    "duration": 996,
    "start_time": "2021-08-27T12:54:55.393Z"
   },
   {
    "duration": 41,
    "start_time": "2021-08-27T12:55:04.330Z"
   },
   {
    "duration": 16,
    "start_time": "2021-08-27T12:55:12.341Z"
   },
   {
    "duration": 50,
    "start_time": "2021-08-27T12:55:14.246Z"
   },
   {
    "duration": 656,
    "start_time": "2021-08-27T12:55:21.135Z"
   },
   {
    "duration": 30,
    "start_time": "2021-08-27T12:55:25.041Z"
   },
   {
    "duration": 107,
    "start_time": "2021-08-27T12:55:33.563Z"
   },
   {
    "duration": 129,
    "start_time": "2021-08-27T12:57:03.336Z"
   },
   {
    "duration": 152,
    "start_time": "2021-08-27T12:57:05.681Z"
   },
   {
    "duration": 1514,
    "start_time": "2021-08-27T12:59:11.856Z"
   },
   {
    "duration": 503,
    "start_time": "2021-08-27T12:59:19.465Z"
   },
   {
    "duration": 4893,
    "start_time": "2021-08-27T12:59:36.170Z"
   },
   {
    "duration": 4425,
    "start_time": "2021-08-27T13:34:43.324Z"
   },
   {
    "duration": 509,
    "start_time": "2021-08-27T13:36:51.229Z"
   },
   {
    "duration": 17758,
    "start_time": "2021-08-27T13:37:45.293Z"
   },
   {
    "duration": 11535,
    "start_time": "2021-08-27T13:41:04.188Z"
   },
   {
    "duration": 16187,
    "start_time": "2021-08-27T13:41:26.401Z"
   },
   {
    "duration": 16754,
    "start_time": "2021-08-27T13:42:05.934Z"
   },
   {
    "duration": 16993,
    "start_time": "2021-08-27T13:42:42.884Z"
   },
   {
    "duration": 17656,
    "start_time": "2021-08-27T13:43:14.045Z"
   },
   {
    "duration": 120,
    "start_time": "2021-08-27T13:44:22.138Z"
   },
   {
    "duration": 150,
    "start_time": "2021-08-27T13:44:22.943Z"
   },
   {
    "duration": 43,
    "start_time": "2021-08-27T13:44:26.793Z"
   },
   {
    "duration": 50,
    "start_time": "2021-08-27T13:44:27.056Z"
   },
   {
    "duration": 52,
    "start_time": "2021-08-27T13:44:27.328Z"
   },
   {
    "duration": 57,
    "start_time": "2021-08-27T13:44:27.560Z"
   },
   {
    "duration": 50,
    "start_time": "2021-08-27T13:44:28.217Z"
   },
   {
    "duration": 16,
    "start_time": "2021-08-27T13:44:29.229Z"
   },
   {
    "duration": 12,
    "start_time": "2021-08-27T13:44:36.199Z"
   },
   {
    "duration": 49,
    "start_time": "2021-08-27T13:44:36.493Z"
   },
   {
    "duration": 17,
    "start_time": "2021-08-27T13:44:36.816Z"
   },
   {
    "duration": 419,
    "start_time": "2021-08-27T13:44:45.590Z"
   },
   {
    "duration": 453,
    "start_time": "2021-08-27T13:45:07.794Z"
   },
   {
    "duration": 30,
    "start_time": "2021-08-27T13:46:03.516Z"
   },
   {
    "duration": 230,
    "start_time": "2021-08-27T13:46:04.564Z"
   },
   {
    "duration": 505,
    "start_time": "2021-08-27T13:46:14.200Z"
   },
   {
    "duration": 7,
    "start_time": "2021-08-27T13:47:27.860Z"
   },
   {
    "duration": 10126,
    "start_time": "2021-08-27T13:49:20.577Z"
   },
   {
    "duration": 14,
    "start_time": "2021-08-27T13:50:51.363Z"
   },
   {
    "duration": 394,
    "start_time": "2021-08-27T13:51:06.110Z"
   },
   {
    "duration": 7,
    "start_time": "2021-08-27T13:51:13.009Z"
   },
   {
    "duration": 18,
    "start_time": "2021-08-27T13:52:57.999Z"
   },
   {
    "duration": 77,
    "start_time": "2021-08-27T13:53:14.157Z"
   },
   {
    "duration": 70,
    "start_time": "2021-08-27T14:33:24.335Z"
   },
   {
    "duration": 1170,
    "start_time": "2021-08-28T02:22:21.033Z"
   },
   {
    "duration": 761,
    "start_time": "2021-08-28T02:22:22.205Z"
   },
   {
    "duration": 116,
    "start_time": "2021-08-28T02:22:24.695Z"
   },
   {
    "duration": 23,
    "start_time": "2021-08-28T02:22:29.083Z"
   },
   {
    "duration": 40,
    "start_time": "2021-08-28T02:22:36.145Z"
   },
   {
    "duration": 39,
    "start_time": "2021-08-28T02:22:37.649Z"
   },
   {
    "duration": 456,
    "start_time": "2021-08-28T02:22:42.696Z"
   },
   {
    "duration": 3,
    "start_time": "2021-08-28T02:22:44.832Z"
   },
   {
    "duration": 5,
    "start_time": "2021-08-28T02:22:46.116Z"
   },
   {
    "duration": 3,
    "start_time": "2021-08-28T02:23:22.915Z"
   },
   {
    "duration": 6,
    "start_time": "2021-08-28T02:23:24.551Z"
   },
   {
    "duration": 4,
    "start_time": "2021-08-28T02:23:41.154Z"
   },
   {
    "duration": 731,
    "start_time": "2021-08-28T02:23:41.671Z"
   },
   {
    "duration": 17,
    "start_time": "2021-08-28T02:23:51.465Z"
   },
   {
    "duration": 14,
    "start_time": "2021-08-28T02:23:56.260Z"
   },
   {
    "duration": 35,
    "start_time": "2021-08-28T02:23:56.695Z"
   },
   {
    "duration": 415,
    "start_time": "2021-08-28T02:23:59.722Z"
   },
   {
    "duration": 10,
    "start_time": "2021-08-28T02:24:00.139Z"
   },
   {
    "duration": 61,
    "start_time": "2021-08-28T02:24:01.257Z"
   },
   {
    "duration": 20,
    "start_time": "2021-08-28T02:24:08.624Z"
   },
   {
    "duration": 68,
    "start_time": "2021-08-28T02:24:15.975Z"
   },
   {
    "duration": 16,
    "start_time": "2021-08-28T02:24:20.835Z"
   },
   {
    "duration": 81,
    "start_time": "2021-08-28T02:24:28.569Z"
   },
   {
    "duration": 99,
    "start_time": "2021-08-28T02:24:36.513Z"
   },
   {
    "duration": 32,
    "start_time": "2021-08-28T02:24:50.256Z"
   },
   {
    "duration": 36,
    "start_time": "2021-08-28T02:24:50.517Z"
   },
   {
    "duration": 31,
    "start_time": "2021-08-28T02:24:50.794Z"
   },
   {
    "duration": 42,
    "start_time": "2021-08-28T02:24:51.055Z"
   },
   {
    "duration": 39,
    "start_time": "2021-08-28T02:24:51.318Z"
   },
   {
    "duration": 15,
    "start_time": "2021-08-28T02:25:04.685Z"
   },
   {
    "duration": 16,
    "start_time": "2021-08-28T02:25:05.591Z"
   },
   {
    "duration": 7,
    "start_time": "2021-08-28T02:25:47.663Z"
   },
   {
    "duration": 37,
    "start_time": "2021-08-28T02:25:48.474Z"
   },
   {
    "duration": 20,
    "start_time": "2021-08-28T02:25:50.168Z"
   },
   {
    "duration": 14,
    "start_time": "2021-08-28T02:26:09.760Z"
   },
   {
    "duration": 2,
    "start_time": "2021-08-28T02:26:10.244Z"
   },
   {
    "duration": 35,
    "start_time": "2021-08-28T02:26:11.109Z"
   },
   {
    "duration": 9,
    "start_time": "2021-08-28T02:26:13.228Z"
   },
   {
    "duration": 7,
    "start_time": "2021-08-28T02:26:23.712Z"
   },
   {
    "duration": 35,
    "start_time": "2021-08-28T02:26:24.049Z"
   },
   {
    "duration": 13,
    "start_time": "2021-08-28T02:26:24.476Z"
   },
   {
    "duration": 3,
    "start_time": "2021-08-28T02:26:24.860Z"
   },
   {
    "duration": 3,
    "start_time": "2021-08-28T02:26:34.203Z"
   },
   {
    "duration": 2,
    "start_time": "2021-08-28T02:26:34.496Z"
   },
   {
    "duration": 38,
    "start_time": "2021-08-28T02:26:34.874Z"
   },
   {
    "duration": 76,
    "start_time": "2021-08-28T02:26:35.665Z"
   },
   {
    "duration": 19,
    "start_time": "2021-08-28T02:26:44.281Z"
   },
   {
    "duration": 136,
    "start_time": "2021-08-28T02:26:44.988Z"
   },
   {
    "duration": 41,
    "start_time": "2021-08-28T02:26:51.705Z"
   },
   {
    "duration": 9,
    "start_time": "2021-08-28T02:26:52.064Z"
   },
   {
    "duration": 6,
    "start_time": "2021-08-28T02:28:19.092Z"
   },
   {
    "duration": 27,
    "start_time": "2021-08-28T02:28:19.935Z"
   },
   {
    "duration": 12,
    "start_time": "2021-08-28T02:28:20.626Z"
   },
   {
    "duration": 29,
    "start_time": "2021-08-28T02:28:25.904Z"
   },
   {
    "duration": 8,
    "start_time": "2021-08-28T02:28:27.474Z"
   },
   {
    "duration": 17,
    "start_time": "2021-08-28T02:28:35.314Z"
   },
   {
    "duration": 131,
    "start_time": "2021-08-28T02:28:36.036Z"
   },
   {
    "duration": 27,
    "start_time": "2021-08-28T02:28:39.104Z"
   },
   {
    "duration": 30,
    "start_time": "2021-08-28T02:28:40.913Z"
   },
   {
    "duration": 6,
    "start_time": "2021-08-28T02:28:55.006Z"
   },
   {
    "duration": 30,
    "start_time": "2021-08-28T02:28:55.681Z"
   },
   {
    "duration": 13,
    "start_time": "2021-08-28T02:28:56.921Z"
   },
   {
    "duration": 34,
    "start_time": "2021-08-28T02:29:02.406Z"
   },
   {
    "duration": 8,
    "start_time": "2021-08-28T02:29:02.702Z"
   },
   {
    "duration": 17,
    "start_time": "2021-08-28T02:29:10.793Z"
   },
   {
    "duration": 132,
    "start_time": "2021-08-28T02:29:11.069Z"
   },
   {
    "duration": 36,
    "start_time": "2021-08-28T02:29:14.383Z"
   },
   {
    "duration": 17,
    "start_time": "2021-08-28T02:29:14.683Z"
   },
   {
    "duration": 7,
    "start_time": "2021-08-28T02:29:23.870Z"
   },
   {
    "duration": 32,
    "start_time": "2021-08-28T02:29:25.144Z"
   },
   {
    "duration": 12,
    "start_time": "2021-08-28T02:29:25.439Z"
   },
   {
    "duration": 32,
    "start_time": "2021-08-28T02:29:29.331Z"
   },
   {
    "duration": 42,
    "start_time": "2021-08-28T02:29:29.599Z"
   },
   {
    "duration": 7,
    "start_time": "2021-08-28T02:29:43.337Z"
   },
   {
    "duration": 32,
    "start_time": "2021-08-28T02:29:43.784Z"
   },
   {
    "duration": 14,
    "start_time": "2021-08-28T02:29:44.038Z"
   },
   {
    "duration": 30,
    "start_time": "2021-08-28T02:29:48.617Z"
   },
   {
    "duration": 65,
    "start_time": "2021-08-28T02:29:48.977Z"
   },
   {
    "duration": 7,
    "start_time": "2021-08-28T02:29:57.679Z"
   },
   {
    "duration": 33,
    "start_time": "2021-08-28T02:29:58.218Z"
   },
   {
    "duration": 12,
    "start_time": "2021-08-28T02:29:58.473Z"
   },
   {
    "duration": 37,
    "start_time": "2021-08-28T02:30:02.666Z"
   },
   {
    "duration": 8,
    "start_time": "2021-08-28T02:30:02.999Z"
   },
   {
    "duration": 14,
    "start_time": "2021-08-28T02:31:19.678Z"
   },
   {
    "duration": 57,
    "start_time": "2021-08-28T02:31:21.104Z"
   },
   {
    "duration": 21,
    "start_time": "2021-08-28T02:31:22.014Z"
   },
   {
    "duration": 314,
    "start_time": "2021-08-28T02:31:27.083Z"
   },
   {
    "duration": 14,
    "start_time": "2021-08-28T02:31:44.928Z"
   },
   {
    "duration": 340,
    "start_time": "2021-08-28T02:31:46.346Z"
   },
   {
    "duration": 298,
    "start_time": "2021-08-28T02:32:17.827Z"
   },
   {
    "duration": 281,
    "start_time": "2021-08-28T02:32:18.371Z"
   },
   {
    "duration": 10,
    "start_time": "2021-08-28T02:32:46.826Z"
   },
   {
    "duration": 35,
    "start_time": "2021-08-28T02:32:47.290Z"
   },
   {
    "duration": 19,
    "start_time": "2021-08-28T02:32:47.695Z"
   },
   {
    "duration": 39,
    "start_time": "2021-08-28T02:33:03.651Z"
   },
   {
    "duration": 9,
    "start_time": "2021-08-28T02:33:06.522Z"
   },
   {
    "duration": 104,
    "start_time": "2021-08-28T02:34:12.973Z"
   },
   {
    "duration": 130,
    "start_time": "2021-08-28T02:34:24.418Z"
   },
   {
    "duration": 89,
    "start_time": "2021-08-28T02:34:32.977Z"
   },
   {
    "duration": 14,
    "start_time": "2021-08-28T02:34:47.831Z"
   },
   {
    "duration": 56,
    "start_time": "2021-08-28T02:34:48.598Z"
   },
   {
    "duration": 20,
    "start_time": "2021-08-28T02:34:49.526Z"
   },
   {
    "duration": 281,
    "start_time": "2021-08-28T02:34:56.337Z"
   },
   {
    "duration": 59,
    "start_time": "2021-08-28T02:35:40.218Z"
   },
   {
    "duration": 41,
    "start_time": "2021-08-28T02:37:17.753Z"
   },
   {
    "duration": 39,
    "start_time": "2021-08-28T02:37:18.417Z"
   },
   {
    "duration": 38,
    "start_time": "2021-08-28T02:37:18.968Z"
   },
   {
    "duration": 42,
    "start_time": "2021-08-28T02:37:19.505Z"
   },
   {
    "duration": 45,
    "start_time": "2021-08-28T02:37:20.055Z"
   },
   {
    "duration": 19,
    "start_time": "2021-08-28T02:37:20.805Z"
   },
   {
    "duration": 269,
    "start_time": "2021-08-28T02:37:22.326Z"
   },
   {
    "duration": 273,
    "start_time": "2021-08-28T02:37:43.088Z"
   },
   {
    "duration": 268,
    "start_time": "2021-08-28T02:38:02.915Z"
   },
   {
    "duration": 292,
    "start_time": "2021-08-28T02:38:21.045Z"
   },
   {
    "duration": 3,
    "start_time": "2021-08-28T02:40:03.521Z"
   },
   {
    "duration": 676,
    "start_time": "2021-08-28T02:40:04.247Z"
   },
   {
    "duration": 27,
    "start_time": "2021-08-28T02:40:11.424Z"
   },
   {
    "duration": 12,
    "start_time": "2021-08-28T02:40:17.055Z"
   },
   {
    "duration": 28,
    "start_time": "2021-08-28T02:40:18.072Z"
   },
   {
    "duration": 384,
    "start_time": "2021-08-28T02:40:26.057Z"
   },
   {
    "duration": 10,
    "start_time": "2021-08-28T02:40:34.275Z"
   },
   {
    "duration": 112,
    "start_time": "2021-08-28T02:40:35.150Z"
   },
   {
    "duration": 37,
    "start_time": "2021-08-28T02:40:46.493Z"
   },
   {
    "duration": 38,
    "start_time": "2021-08-28T02:40:47.500Z"
   },
   {
    "duration": 37,
    "start_time": "2021-08-28T02:40:48.136Z"
   },
   {
    "duration": 45,
    "start_time": "2021-08-28T02:40:49.720Z"
   },
   {
    "duration": 41,
    "start_time": "2021-08-28T02:40:50.552Z"
   },
   {
    "duration": 16,
    "start_time": "2021-08-28T02:40:54.577Z"
   },
   {
    "duration": 16,
    "start_time": "2021-08-28T02:40:56.070Z"
   },
   {
    "duration": 22,
    "start_time": "2021-08-28T02:41:12.528Z"
   },
   {
    "duration": 63,
    "start_time": "2021-08-28T02:41:13.341Z"
   },
   {
    "duration": 23,
    "start_time": "2021-08-28T02:41:14.009Z"
   },
   {
    "duration": 254,
    "start_time": "2021-08-28T02:41:18.446Z"
   },
   {
    "duration": 302,
    "start_time": "2021-08-28T02:41:28.321Z"
   },
   {
    "duration": 13,
    "start_time": "2021-08-28T02:41:46.667Z"
   },
   {
    "duration": 12,
    "start_time": "2021-08-28T02:42:10.050Z"
   },
   {
    "duration": 42,
    "start_time": "2021-08-28T02:42:10.908Z"
   },
   {
    "duration": 16,
    "start_time": "2021-08-28T02:42:11.590Z"
   },
   {
    "duration": 46,
    "start_time": "2021-08-28T02:42:22.445Z"
   },
   {
    "duration": 8,
    "start_time": "2021-08-28T02:42:23.801Z"
   },
   {
    "duration": 4994,
    "start_time": "2021-08-28T02:42:31.560Z"
   },
   {
    "duration": 270,
    "start_time": "2021-08-28T02:43:21.878Z"
   },
   {
    "duration": 11,
    "start_time": "2021-08-28T02:47:41.436Z"
   },
   {
    "duration": 83,
    "start_time": "2021-08-28T02:47:42.293Z"
   },
   {
    "duration": 13,
    "start_time": "2021-08-28T02:47:43.451Z"
   },
   {
    "duration": 59,
    "start_time": "2021-08-28T02:47:44.584Z"
   },
   {
    "duration": 16,
    "start_time": "2021-08-28T02:47:54.560Z"
   },
   {
    "duration": 60,
    "start_time": "2021-08-28T02:47:55.533Z"
   },
   {
    "duration": 72,
    "start_time": "2021-08-28T02:47:56.829Z"
   },
   {
    "duration": 53,
    "start_time": "2021-08-28T02:47:57.752Z"
   },
   {
    "duration": 84,
    "start_time": "2021-08-28T02:48:02.119Z"
   },
   {
    "duration": 96,
    "start_time": "2021-08-28T02:48:03.955Z"
   },
   {
    "duration": 30,
    "start_time": "2021-08-28T02:52:02.678Z"
   },
   {
    "duration": 33,
    "start_time": "2021-08-28T02:52:03.110Z"
   },
   {
    "duration": 31,
    "start_time": "2021-08-28T02:52:03.486Z"
   },
   {
    "duration": 38,
    "start_time": "2021-08-28T02:52:03.801Z"
   },
   {
    "duration": 33,
    "start_time": "2021-08-28T02:52:04.114Z"
   },
   {
    "duration": 13,
    "start_time": "2021-08-28T02:52:04.522Z"
   },
   {
    "duration": 11,
    "start_time": "2021-08-28T02:52:05.607Z"
   },
   {
    "duration": 42,
    "start_time": "2021-08-28T02:52:12.556Z"
   },
   {
    "duration": 43,
    "start_time": "2021-08-28T02:52:12.846Z"
   },
   {
    "duration": 39,
    "start_time": "2021-08-28T02:52:13.159Z"
   },
   {
    "duration": 47,
    "start_time": "2021-08-28T02:52:13.445Z"
   },
   {
    "duration": 42,
    "start_time": "2021-08-28T02:52:13.774Z"
   },
   {
    "duration": 15,
    "start_time": "2021-08-28T02:52:14.198Z"
   },
   {
    "duration": 12,
    "start_time": "2021-08-28T02:52:15.050Z"
   },
   {
    "duration": 803,
    "start_time": "2021-08-28T02:52:43.417Z"
   },
   {
    "duration": 7,
    "start_time": "2021-08-28T02:54:19.010Z"
   },
   {
    "duration": 38,
    "start_time": "2021-08-28T02:54:19.808Z"
   },
   {
    "duration": 15,
    "start_time": "2021-08-28T02:54:20.394Z"
   },
   {
    "duration": 37,
    "start_time": "2021-08-28T02:54:23.567Z"
   },
   {
    "duration": 8,
    "start_time": "2021-08-28T02:54:24.756Z"
   },
   {
    "duration": 8,
    "start_time": "2021-08-28T02:54:41.314Z"
   },
   {
    "duration": 40,
    "start_time": "2021-08-28T02:54:41.781Z"
   },
   {
    "duration": 15,
    "start_time": "2021-08-28T02:54:42.195Z"
   },
   {
    "duration": 40,
    "start_time": "2021-08-28T02:54:46.491Z"
   },
   {
    "duration": 8,
    "start_time": "2021-08-28T02:54:47.621Z"
   },
   {
    "duration": 9,
    "start_time": "2021-08-28T02:54:54.716Z"
   },
   {
    "duration": 41,
    "start_time": "2021-08-28T02:54:55.233Z"
   },
   {
    "duration": 16,
    "start_time": "2021-08-28T02:54:55.646Z"
   },
   {
    "duration": 50,
    "start_time": "2021-08-28T02:54:59.662Z"
   },
   {
    "duration": 11,
    "start_time": "2021-08-28T02:55:01.222Z"
   },
   {
    "duration": 8,
    "start_time": "2021-08-28T02:56:10.206Z"
   },
   {
    "duration": 40,
    "start_time": "2021-08-28T02:56:11.002Z"
   },
   {
    "duration": 15,
    "start_time": "2021-08-28T02:56:11.560Z"
   },
   {
    "duration": 39,
    "start_time": "2021-08-28T02:56:14.460Z"
   },
   {
    "duration": 11,
    "start_time": "2021-08-28T02:56:15.541Z"
   },
   {
    "duration": 8,
    "start_time": "2021-08-28T02:56:24.950Z"
   },
   {
    "duration": 44,
    "start_time": "2021-08-28T02:56:25.530Z"
   },
   {
    "duration": 17,
    "start_time": "2021-08-28T02:56:26.026Z"
   },
   {
    "duration": 362,
    "start_time": "2021-08-28T02:56:29.678Z"
   },
   {
    "duration": 43,
    "start_time": "2021-08-28T02:56:36.443Z"
   },
   {
    "duration": 12,
    "start_time": "2021-08-28T02:56:37.386Z"
   },
   {
    "duration": 22,
    "start_time": "2021-08-28T02:56:50.140Z"
   },
   {
    "duration": 169,
    "start_time": "2021-08-28T02:56:51.351Z"
   },
   {
    "duration": 48,
    "start_time": "2021-08-28T02:56:55.112Z"
   },
   {
    "duration": 14,
    "start_time": "2021-08-28T02:56:56.145Z"
   },
   {
    "duration": 18959,
    "start_time": "2021-08-28T02:57:38.299Z"
   },
   {
    "duration": 309,
    "start_time": "2021-08-28T02:58:07.196Z"
   },
   {
    "duration": 6,
    "start_time": "2021-08-28T02:58:33.387Z"
   },
   {
    "duration": 6619,
    "start_time": "2021-08-28T02:58:35.450Z"
   },
   {
    "duration": 283,
    "start_time": "2021-08-28T02:59:06.975Z"
   },
   {
    "duration": 36757,
    "start_time": "2021-08-28T02:59:26.399Z"
   },
   {
    "duration": 410,
    "start_time": "2021-08-28T03:00:11.558Z"
   },
   {
    "duration": 1103,
    "start_time": "2021-08-28T03:05:40.200Z"
   },
   {
    "duration": 5,
    "start_time": "2021-08-28T03:05:48.484Z"
   },
   {
    "duration": 743,
    "start_time": "2021-08-28T03:05:52.280Z"
   },
   {
    "duration": 109,
    "start_time": "2021-08-28T03:05:54.109Z"
   },
   {
    "duration": 90,
    "start_time": "2021-08-28T03:05:54.750Z"
   },
   {
    "duration": 479,
    "start_time": "2021-08-28T03:05:56.822Z"
   },
   {
    "duration": 21,
    "start_time": "2021-08-28T03:06:02.786Z"
   },
   {
    "duration": 395,
    "start_time": "2021-08-28T03:06:03.740Z"
   },
   {
    "duration": 268,
    "start_time": "2021-08-28T03:06:05.730Z"
   },
   {
    "duration": 386,
    "start_time": "2021-08-28T03:06:07.584Z"
   },
   {
    "duration": 268,
    "start_time": "2021-08-28T03:06:09.341Z"
   },
   {
    "duration": 388,
    "start_time": "2021-08-28T03:06:10.550Z"
   },
   {
    "duration": 233,
    "start_time": "2021-08-28T03:06:12.232Z"
   },
   {
    "duration": 403,
    "start_time": "2021-08-28T03:06:37.013Z"
   },
   {
    "duration": 236,
    "start_time": "2021-08-28T03:06:39.740Z"
   },
   {
    "duration": 13,
    "start_time": "2021-08-28T03:08:49.330Z"
   },
   {
    "duration": 36,
    "start_time": "2021-08-28T03:08:50.547Z"
   },
   {
    "duration": 377,
    "start_time": "2021-08-28T03:08:51.425Z"
   },
   {
    "duration": 8,
    "start_time": "2021-08-28T03:09:14.480Z"
   },
   {
    "duration": 367,
    "start_time": "2021-08-28T03:09:19.195Z"
   },
   {
    "duration": 87,
    "start_time": "2021-08-28T03:10:01.944Z"
   },
   {
    "duration": 420,
    "start_time": "2021-08-28T03:10:04.238Z"
   },
   {
    "duration": 393,
    "start_time": "2021-08-28T03:10:17.600Z"
   },
   {
    "duration": 11,
    "start_time": "2021-08-28T03:10:23.677Z"
   },
   {
    "duration": 108,
    "start_time": "2021-08-28T03:10:24.565Z"
   },
   {
    "duration": 134,
    "start_time": "2021-08-28T03:10:40.574Z"
   },
   {
    "duration": 114,
    "start_time": "2021-08-28T03:11:56.036Z"
   },
   {
    "duration": 42,
    "start_time": "2021-08-28T03:11:56.800Z"
   },
   {
    "duration": 38,
    "start_time": "2021-08-28T03:11:57.522Z"
   },
   {
    "duration": 42,
    "start_time": "2021-08-28T03:11:58.312Z"
   },
   {
    "duration": 39,
    "start_time": "2021-08-28T03:11:59.116Z"
   },
   {
    "duration": 44,
    "start_time": "2021-08-28T03:12:00.327Z"
   },
   {
    "duration": 15,
    "start_time": "2021-08-28T03:12:18.048Z"
   },
   {
    "duration": 13,
    "start_time": "2021-08-28T03:12:19.133Z"
   },
   {
    "duration": 791,
    "start_time": "2021-08-28T03:12:38.181Z"
   },
   {
    "duration": 12,
    "start_time": "2021-08-28T03:13:06.795Z"
   },
   {
    "duration": 49,
    "start_time": "2021-08-28T03:13:07.515Z"
   },
   {
    "duration": 20,
    "start_time": "2021-08-28T03:13:08.350Z"
   },
   {
    "duration": 201,
    "start_time": "2021-08-28T03:13:14.511Z"
   },
   {
    "duration": 14,
    "start_time": "2021-08-28T03:13:20.882Z"
   },
   {
    "duration": 3,
    "start_time": "2021-08-28T03:13:21.599Z"
   },
   {
    "duration": 48,
    "start_time": "2021-08-28T03:13:22.507Z"
   },
   {
    "duration": 8,
    "start_time": "2021-08-28T03:13:23.818Z"
   },
   {
    "duration": 7,
    "start_time": "2021-08-28T03:13:54.027Z"
   },
   {
    "duration": 42,
    "start_time": "2021-08-28T03:13:55.566Z"
   },
   {
    "duration": 16,
    "start_time": "2021-08-28T03:13:56.188Z"
   },
   {
    "duration": 47,
    "start_time": "2021-08-28T03:14:00.336Z"
   },
   {
    "duration": 9,
    "start_time": "2021-08-28T03:14:01.102Z"
   },
   {
    "duration": 8,
    "start_time": "2021-08-28T03:14:43.327Z"
   },
   {
    "duration": 41,
    "start_time": "2021-08-28T03:14:43.769Z"
   },
   {
    "duration": 15,
    "start_time": "2021-08-28T03:14:44.221Z"
   },
   {
    "duration": 48,
    "start_time": "2021-08-28T03:14:47.810Z"
   },
   {
    "duration": 11,
    "start_time": "2021-08-28T03:14:48.216Z"
   },
   {
    "duration": 8,
    "start_time": "2021-08-28T03:14:58.531Z"
   },
   {
    "duration": 42,
    "start_time": "2021-08-28T03:14:58.953Z"
   },
   {
    "duration": 17,
    "start_time": "2021-08-28T03:14:59.265Z"
   },
   {
    "duration": 48,
    "start_time": "2021-08-28T03:15:02.333Z"
   },
   {
    "duration": 9,
    "start_time": "2021-08-28T03:15:02.708Z"
   },
   {
    "duration": 7,
    "start_time": "2021-08-28T03:15:09.640Z"
   },
   {
    "duration": 40,
    "start_time": "2021-08-28T03:15:10.148Z"
   },
   {
    "duration": 14,
    "start_time": "2021-08-28T03:15:10.587Z"
   },
   {
    "duration": 39,
    "start_time": "2021-08-28T03:15:13.968Z"
   },
   {
    "duration": 16,
    "start_time": "2021-08-28T03:15:16.252Z"
   },
   {
    "duration": 274,
    "start_time": "2021-08-28T03:15:52.563Z"
   },
   {
    "duration": 5507,
    "start_time": "2021-08-28T03:16:00.039Z"
   },
   {
    "duration": 11099,
    "start_time": "2021-08-28T03:16:10.857Z"
   },
   {
    "duration": 450,
    "start_time": "2021-08-28T03:16:23.493Z"
   },
   {
    "duration": 8,
    "start_time": "2021-08-28T03:16:35.599Z"
   },
   {
    "duration": 42,
    "start_time": "2021-08-28T03:16:36.380Z"
   },
   {
    "duration": 16,
    "start_time": "2021-08-28T03:16:36.834Z"
   },
   {
    "duration": 11587,
    "start_time": "2021-08-28T03:16:43.261Z"
   },
   {
    "duration": 337,
    "start_time": "2021-08-28T03:16:56.516Z"
   },
   {
    "duration": 287,
    "start_time": "2021-08-28T03:17:21.265Z"
   },
   {
    "duration": 262,
    "start_time": "2021-08-28T03:17:21.693Z"
   },
   {
    "duration": 21,
    "start_time": "2021-08-28T03:18:03.965Z"
   },
   {
    "duration": 143,
    "start_time": "2021-08-28T03:18:05.086Z"
   },
   {
    "duration": 26,
    "start_time": "2021-08-28T03:18:19.768Z"
   },
   {
    "duration": 165,
    "start_time": "2021-08-28T03:18:20.947Z"
   },
   {
    "duration": 46,
    "start_time": "2021-08-28T03:18:29.119Z"
   },
   {
    "duration": 89,
    "start_time": "2021-08-28T03:18:30.360Z"
   },
   {
    "duration": 5702,
    "start_time": "2021-08-28T03:18:42.550Z"
   },
   {
    "duration": 11456,
    "start_time": "2021-08-28T03:18:53.100Z"
   },
   {
    "duration": 367,
    "start_time": "2021-08-28T03:19:05.786Z"
   },
   {
    "duration": 115,
    "start_time": "2021-08-28T03:31:13.301Z"
   },
   {
    "duration": 387,
    "start_time": "2021-08-28T03:38:33.705Z"
   },
   {
    "duration": 246,
    "start_time": "2021-08-28T03:38:36.728Z"
   },
   {
    "duration": 383,
    "start_time": "2021-08-28T03:38:45.976Z"
   },
   {
    "duration": 205,
    "start_time": "2021-08-28T03:38:47.694Z"
   },
   {
    "duration": 4,
    "start_time": "2021-08-28T03:39:47.517Z"
   },
   {
    "duration": 675,
    "start_time": "2021-08-28T03:39:48.451Z"
   },
   {
    "duration": 110,
    "start_time": "2021-08-28T03:39:50.125Z"
   },
   {
    "duration": 85,
    "start_time": "2021-08-28T03:39:51.054Z"
   },
   {
    "duration": 479,
    "start_time": "2021-08-28T03:39:52.897Z"
   },
   {
    "duration": 19,
    "start_time": "2021-08-28T03:43:53.575Z"
   },
   {
    "duration": 392,
    "start_time": "2021-08-28T03:43:58.813Z"
   },
   {
    "duration": 370,
    "start_time": "2021-08-28T03:44:02.625Z"
   },
   {
    "duration": 387,
    "start_time": "2021-08-28T03:44:07.675Z"
   },
   {
    "duration": 211,
    "start_time": "2021-08-28T03:44:15.995Z"
   },
   {
    "duration": 422,
    "start_time": "2021-08-28T03:44:20.735Z"
   },
   {
    "duration": 232,
    "start_time": "2021-08-28T03:44:22.625Z"
   },
   {
    "duration": 278,
    "start_time": "2021-08-28T03:46:16.529Z"
   },
   {
    "duration": 272,
    "start_time": "2021-08-28T03:47:10.866Z"
   },
   {
    "duration": 4,
    "start_time": "2021-08-28T03:47:27.035Z"
   },
   {
    "duration": 713,
    "start_time": "2021-08-28T03:47:27.513Z"
   },
   {
    "duration": 120,
    "start_time": "2021-08-28T03:47:28.228Z"
   },
   {
    "duration": 93,
    "start_time": "2021-08-28T03:47:28.351Z"
   },
   {
    "duration": 488,
    "start_time": "2021-08-28T03:47:28.446Z"
   },
   {
    "duration": 17,
    "start_time": "2021-08-28T03:47:29.573Z"
   },
   {
    "duration": 391,
    "start_time": "2021-08-28T03:47:31.627Z"
   },
   {
    "duration": 270,
    "start_time": "2021-08-28T03:47:32.303Z"
   },
   {
    "duration": 298,
    "start_time": "2021-08-28T03:47:34.109Z"
   },
   {
    "duration": 6,
    "start_time": "2021-08-28T03:47:39.002Z"
   },
   {
    "duration": 22,
    "start_time": "2021-08-28T03:47:43.894Z"
   },
   {
    "duration": 9,
    "start_time": "2021-08-28T03:47:58.543Z"
   },
   {
    "duration": 10,
    "start_time": "2021-08-28T03:48:03.328Z"
   },
   {
    "duration": 9,
    "start_time": "2021-08-28T03:48:29.277Z"
   },
   {
    "duration": 10,
    "start_time": "2021-08-28T03:48:37.372Z"
   },
   {
    "duration": 8,
    "start_time": "2021-08-28T03:48:40.655Z"
   },
   {
    "duration": 8,
    "start_time": "2021-08-28T03:48:56.677Z"
   },
   {
    "duration": 9,
    "start_time": "2021-08-28T03:49:00.114Z"
   },
   {
    "duration": 4,
    "start_time": "2021-08-28T03:49:04.771Z"
   },
   {
    "duration": 719,
    "start_time": "2021-08-28T03:49:05.002Z"
   },
   {
    "duration": 115,
    "start_time": "2021-08-28T03:49:05.723Z"
   },
   {
    "duration": 84,
    "start_time": "2021-08-28T03:49:05.841Z"
   },
   {
    "duration": 463,
    "start_time": "2021-08-28T03:49:05.926Z"
   },
   {
    "duration": 20,
    "start_time": "2021-08-28T03:49:08.513Z"
   },
   {
    "duration": 25,
    "start_time": "2021-08-28T03:49:25.115Z"
   },
   {
    "duration": 18,
    "start_time": "2021-08-28T03:49:49.388Z"
   },
   {
    "duration": 9,
    "start_time": "2021-08-28T03:49:58.179Z"
   },
   {
    "duration": 3,
    "start_time": "2021-08-28T03:50:02.285Z"
   },
   {
    "duration": 720,
    "start_time": "2021-08-28T03:50:02.488Z"
   },
   {
    "duration": 120,
    "start_time": "2021-08-28T03:50:03.210Z"
   },
   {
    "duration": 90,
    "start_time": "2021-08-28T03:50:03.332Z"
   },
   {
    "duration": 484,
    "start_time": "2021-08-28T03:50:03.423Z"
   },
   {
    "duration": 17,
    "start_time": "2021-08-28T03:50:06.665Z"
   },
   {
    "duration": 22,
    "start_time": "2021-08-28T03:50:11.733Z"
   },
   {
    "duration": 439,
    "start_time": "2021-08-28T04:34:02.598Z"
   },
   {
    "duration": 3,
    "start_time": "2021-08-28T04:38:17.907Z"
   },
   {
    "duration": 687,
    "start_time": "2021-08-28T04:38:18.659Z"
   },
   {
    "duration": 108,
    "start_time": "2021-08-28T04:38:20.035Z"
   },
   {
    "duration": 84,
    "start_time": "2021-08-28T04:38:20.531Z"
   },
   {
    "duration": 504,
    "start_time": "2021-08-28T04:38:20.957Z"
   },
   {
    "duration": 18,
    "start_time": "2021-08-28T04:38:22.168Z"
   },
   {
    "duration": 395,
    "start_time": "2021-08-28T04:38:22.616Z"
   },
   {
    "duration": 284,
    "start_time": "2021-08-28T04:38:23.013Z"
   },
   {
    "duration": 404,
    "start_time": "2021-08-28T04:38:23.299Z"
   },
   {
    "duration": 235,
    "start_time": "2021-08-28T04:38:23.705Z"
   },
   {
    "duration": 414,
    "start_time": "2021-08-28T04:38:23.943Z"
   },
   {
    "duration": 253,
    "start_time": "2021-08-28T04:38:24.359Z"
   },
   {
    "duration": 12,
    "start_time": "2021-08-28T04:38:24.614Z"
   },
   {
    "duration": 29,
    "start_time": "2021-08-28T04:38:24.849Z"
   },
   {
    "duration": 382,
    "start_time": "2021-08-28T04:38:25.062Z"
   },
   {
    "duration": 377,
    "start_time": "2021-08-28T04:38:27.617Z"
   },
   {
    "duration": 76,
    "start_time": "2021-08-28T04:40:35.647Z"
   },
   {
    "duration": 80,
    "start_time": "2021-08-28T04:40:49.072Z"
   },
   {
    "duration": 65,
    "start_time": "2021-08-28T04:40:58.806Z"
   },
   {
    "duration": 395,
    "start_time": "2021-08-28T04:44:31.385Z"
   },
   {
    "duration": 10,
    "start_time": "2021-08-28T04:44:58.541Z"
   },
   {
    "duration": 123,
    "start_time": "2021-08-28T04:45:00.465Z"
   },
   {
    "duration": 58,
    "start_time": "2021-08-28T04:45:18.508Z"
   },
   {
    "duration": 77,
    "start_time": "2021-08-28T04:51:51.450Z"
   },
   {
    "duration": 57,
    "start_time": "2021-08-28T04:51:54.541Z"
   },
   {
    "duration": 88,
    "start_time": "2021-08-28T04:52:49.812Z"
   },
   {
    "duration": 100,
    "start_time": "2021-08-28T04:53:45.082Z"
   },
   {
    "duration": 16,
    "start_time": "2021-08-28T04:53:53.174Z"
   },
   {
    "duration": 35,
    "start_time": "2021-08-28T04:54:18.325Z"
   },
   {
    "duration": 38,
    "start_time": "2021-08-28T04:54:18.791Z"
   },
   {
    "duration": 39,
    "start_time": "2021-08-28T04:54:19.237Z"
   },
   {
    "duration": 38,
    "start_time": "2021-08-28T04:54:19.758Z"
   },
   {
    "duration": 38,
    "start_time": "2021-08-28T04:54:20.473Z"
   },
   {
    "duration": 1151,
    "start_time": "2021-08-28T04:58:01.459Z"
   },
   {
    "duration": 758,
    "start_time": "2021-08-28T04:58:02.612Z"
   },
   {
    "duration": 113,
    "start_time": "2021-08-28T04:58:03.372Z"
   },
   {
    "duration": 105,
    "start_time": "2021-08-28T04:58:03.486Z"
   },
   {
    "duration": 485,
    "start_time": "2021-08-28T04:58:03.593Z"
   },
   {
    "duration": 21,
    "start_time": "2021-08-28T04:58:04.080Z"
   },
   {
    "duration": 392,
    "start_time": "2021-08-28T04:58:04.358Z"
   },
   {
    "duration": 289,
    "start_time": "2021-08-28T04:58:04.752Z"
   },
   {
    "duration": 396,
    "start_time": "2021-08-28T04:58:05.043Z"
   },
   {
    "duration": 277,
    "start_time": "2021-08-28T04:58:05.441Z"
   },
   {
    "duration": 407,
    "start_time": "2021-08-28T04:58:05.873Z"
   },
   {
    "duration": 248,
    "start_time": "2021-08-28T04:58:06.282Z"
   },
   {
    "duration": 14,
    "start_time": "2021-08-28T04:58:06.732Z"
   },
   {
    "duration": 37,
    "start_time": "2021-08-28T04:58:06.940Z"
   },
   {
    "duration": 383,
    "start_time": "2021-08-28T04:58:07.147Z"
   },
   {
    "duration": 372,
    "start_time": "2021-08-28T04:58:07.617Z"
   },
   {
    "duration": 72,
    "start_time": "2021-08-28T04:58:08.930Z"
   },
   {
    "duration": 410,
    "start_time": "2021-08-28T04:58:10.005Z"
   },
   {
    "duration": 11,
    "start_time": "2021-08-28T04:58:13.879Z"
   },
   {
    "duration": 119,
    "start_time": "2021-08-28T04:58:15.573Z"
   },
   {
    "duration": 56,
    "start_time": "2021-08-28T04:58:17.802Z"
   },
   {
    "duration": 13,
    "start_time": "2021-08-28T04:58:18.649Z"
   },
   {
    "duration": 60,
    "start_time": "2021-08-28T04:58:20.916Z"
   },
   {
    "duration": 15,
    "start_time": "2021-08-28T04:58:21.907Z"
   },
   {
    "duration": 1078,
    "start_time": "2021-08-28T04:58:39.164Z"
   },
   {
    "duration": 738,
    "start_time": "2021-08-28T04:58:40.244Z"
   },
   {
    "duration": 114,
    "start_time": "2021-08-28T04:58:40.984Z"
   },
   {
    "duration": 99,
    "start_time": "2021-08-28T04:58:41.100Z"
   },
   {
    "duration": 480,
    "start_time": "2021-08-28T04:58:41.201Z"
   },
   {
    "duration": 21,
    "start_time": "2021-08-28T04:58:41.682Z"
   },
   {
    "duration": 402,
    "start_time": "2021-08-28T04:58:41.705Z"
   },
   {
    "duration": 277,
    "start_time": "2021-08-28T04:58:42.109Z"
   },
   {
    "duration": 395,
    "start_time": "2021-08-28T04:58:42.387Z"
   },
   {
    "duration": 287,
    "start_time": "2021-08-28T04:58:42.784Z"
   },
   {
    "duration": 411,
    "start_time": "2021-08-28T04:58:43.072Z"
   },
   {
    "duration": 243,
    "start_time": "2021-08-28T04:58:43.485Z"
   },
   {
    "duration": 13,
    "start_time": "2021-08-28T04:58:44.075Z"
   },
   {
    "duration": 36,
    "start_time": "2021-08-28T04:58:44.719Z"
   },
   {
    "duration": 392,
    "start_time": "2021-08-28T04:58:44.939Z"
   },
   {
    "duration": 397,
    "start_time": "2021-08-28T04:58:45.333Z"
   },
   {
    "duration": 65,
    "start_time": "2021-08-28T04:58:49.932Z"
   },
   {
    "duration": 405,
    "start_time": "2021-08-28T04:58:53.368Z"
   },
   {
    "duration": 11,
    "start_time": "2021-08-28T04:58:56.873Z"
   },
   {
    "duration": 118,
    "start_time": "2021-08-28T04:58:59.571Z"
   },
   {
    "duration": 60,
    "start_time": "2021-08-28T04:59:00.243Z"
   },
   {
    "duration": 91,
    "start_time": "2021-08-28T04:59:19.363Z"
   },
   {
    "duration": 107,
    "start_time": "2021-08-28T04:59:21.705Z"
   },
   {
    "duration": 36,
    "start_time": "2021-08-28T04:59:29.433Z"
   },
   {
    "duration": 42,
    "start_time": "2021-08-28T04:59:29.774Z"
   },
   {
    "duration": 44,
    "start_time": "2021-08-28T04:59:30.174Z"
   },
   {
    "duration": 42,
    "start_time": "2021-08-28T04:59:30.566Z"
   },
   {
    "duration": 41,
    "start_time": "2021-08-28T04:59:30.971Z"
   },
   {
    "duration": 39,
    "start_time": "2021-08-28T04:59:31.490Z"
   },
   {
    "duration": 28,
    "start_time": "2021-08-28T04:59:32.619Z"
   },
   {
    "duration": 14,
    "start_time": "2021-08-28T04:59:48.547Z"
   },
   {
    "duration": 8,
    "start_time": "2021-08-28T05:01:08.740Z"
   },
   {
    "duration": 13,
    "start_time": "2021-08-28T05:01:11.504Z"
   },
   {
    "duration": 10,
    "start_time": "2021-08-28T05:01:30.035Z"
   },
   {
    "duration": 12,
    "start_time": "2021-08-28T05:01:46.950Z"
   },
   {
    "duration": 12,
    "start_time": "2021-08-28T05:02:27.399Z"
   },
   {
    "duration": 36,
    "start_time": "2021-08-28T05:03:33.656Z"
   },
   {
    "duration": 11,
    "start_time": "2021-08-28T05:03:47.423Z"
   },
   {
    "duration": 31,
    "start_time": "2021-08-28T05:05:34.413Z"
   },
   {
    "duration": 13,
    "start_time": "2021-08-28T05:05:36.832Z"
   },
   {
    "duration": 14,
    "start_time": "2021-08-28T05:09:07.940Z"
   },
   {
    "duration": 816,
    "start_time": "2021-08-28T05:11:26.642Z"
   },
   {
    "duration": 15,
    "start_time": "2021-08-28T05:12:46.681Z"
   },
   {
    "duration": 8,
    "start_time": "2021-08-28T05:15:33.189Z"
   },
   {
    "duration": 50,
    "start_time": "2021-08-28T05:15:33.919Z"
   },
   {
    "duration": 17,
    "start_time": "2021-08-28T05:15:34.592Z"
   },
   {
    "duration": 15,
    "start_time": "2021-08-28T05:15:40.096Z"
   },
   {
    "duration": 15,
    "start_time": "2021-08-28T05:15:58.027Z"
   },
   {
    "duration": 20,
    "start_time": "2021-08-28T05:17:04.620Z"
   },
   {
    "duration": 132,
    "start_time": "2021-08-28T05:17:06.716Z"
   },
   {
    "duration": 15,
    "start_time": "2021-08-28T05:17:20.088Z"
   },
   {
    "duration": 14,
    "start_time": "2021-08-28T05:17:29.663Z"
   },
   {
    "duration": 2,
    "start_time": "2021-08-28T05:17:30.892Z"
   },
   {
    "duration": 50,
    "start_time": "2021-08-28T05:17:31.698Z"
   },
   {
    "duration": 9,
    "start_time": "2021-08-28T05:17:32.757Z"
   },
   {
    "duration": 46,
    "start_time": "2021-08-28T05:17:43.323Z"
   },
   {
    "duration": 6009,
    "start_time": "2021-08-28T05:17:44.437Z"
   },
   {
    "duration": 19,
    "start_time": "2021-08-28T06:01:58.685Z"
   },
   {
    "duration": 5,
    "start_time": "2021-08-28T06:03:27.012Z"
   },
   {
    "duration": 9,
    "start_time": "2021-08-28T06:06:35.798Z"
   },
   {
    "duration": 38,
    "start_time": "2021-08-28T06:06:36.431Z"
   },
   {
    "duration": 15,
    "start_time": "2021-08-28T06:06:37.329Z"
   },
   {
    "duration": 16,
    "start_time": "2021-08-28T06:06:38.867Z"
   },
   {
    "duration": 17,
    "start_time": "2021-08-28T06:06:40.437Z"
   },
   {
    "duration": 126,
    "start_time": "2021-08-28T06:06:42.080Z"
   },
   {
    "duration": 16,
    "start_time": "2021-08-28T06:06:50.449Z"
   },
   {
    "duration": 25,
    "start_time": "2021-08-28T06:07:08.014Z"
   },
   {
    "duration": 4,
    "start_time": "2021-08-28T06:07:33.769Z"
   },
   {
    "duration": 3,
    "start_time": "2021-08-28T06:08:00.895Z"
   },
   {
    "duration": 4,
    "start_time": "2021-08-28T06:08:01.850Z"
   },
   {
    "duration": 3,
    "start_time": "2021-08-28T06:08:06.997Z"
   },
   {
    "duration": 2,
    "start_time": "2021-08-28T06:08:07.860Z"
   },
   {
    "duration": 150,
    "start_time": "2021-08-28T06:08:08.893Z"
   },
   {
    "duration": 12,
    "start_time": "2021-08-28T06:08:09.988Z"
   },
   {
    "duration": 3,
    "start_time": "2021-08-28T06:08:33.784Z"
   },
   {
    "duration": 5921,
    "start_time": "2021-08-28T06:08:35.121Z"
   },
   {
    "duration": 11330,
    "start_time": "2021-08-28T06:09:10.519Z"
   },
   {
    "duration": 354,
    "start_time": "2021-08-28T06:09:27.494Z"
   },
   {
    "duration": 68,
    "start_time": "2021-08-28T06:15:01.960Z"
   },
   {
    "duration": 393,
    "start_time": "2021-08-28T06:15:03.635Z"
   },
   {
    "duration": 10,
    "start_time": "2021-08-28T06:15:05.406Z"
   },
   {
    "duration": 105,
    "start_time": "2021-08-28T06:15:06.823Z"
   },
   {
    "duration": 59,
    "start_time": "2021-08-28T06:15:07.073Z"
   },
   {
    "duration": 90,
    "start_time": "2021-08-28T06:15:08.046Z"
   },
   {
    "duration": 101,
    "start_time": "2021-08-28T06:15:09.009Z"
   },
   {
    "duration": 15,
    "start_time": "2021-08-28T06:15:09.816Z"
   },
   {
    "duration": 38,
    "start_time": "2021-08-28T06:15:11.761Z"
   },
   {
    "duration": 43,
    "start_time": "2021-08-28T06:15:12.360Z"
   },
   {
    "duration": 40,
    "start_time": "2021-08-28T06:15:12.818Z"
   },
   {
    "duration": 48,
    "start_time": "2021-08-28T06:15:13.246Z"
   },
   {
    "duration": 40,
    "start_time": "2021-08-28T06:15:13.732Z"
   },
   {
    "duration": 42,
    "start_time": "2021-08-28T06:15:14.470Z"
   },
   {
    "duration": 3,
    "start_time": "2021-08-28T06:15:15.361Z"
   },
   {
    "duration": 9,
    "start_time": "2021-08-28T06:15:16.530Z"
   },
   {
    "duration": 16,
    "start_time": "2021-08-28T06:15:18.043Z"
   },
   {
    "duration": 5,
    "start_time": "2021-08-28T06:15:22.818Z"
   },
   {
    "duration": 30,
    "start_time": "2021-08-28T06:15:27.039Z"
   },
   {
    "duration": 6,
    "start_time": "2021-08-28T06:15:28.228Z"
   },
   {
    "duration": 811,
    "start_time": "2021-08-28T06:15:33.117Z"
   },
   {
    "duration": 8,
    "start_time": "2021-08-28T06:18:14.239Z"
   },
   {
    "duration": 38,
    "start_time": "2021-08-28T06:18:14.879Z"
   },
   {
    "duration": 14,
    "start_time": "2021-08-28T06:18:15.435Z"
   },
   {
    "duration": 16,
    "start_time": "2021-08-28T06:18:16.612Z"
   },
   {
    "duration": 21,
    "start_time": "2021-08-28T06:18:17.434Z"
   },
   {
    "duration": 11,
    "start_time": "2021-08-28T06:18:25.600Z"
   },
   {
    "duration": 121,
    "start_time": "2021-08-28T06:18:28.767Z"
   },
   {
    "duration": 14,
    "start_time": "2021-08-28T06:18:30.102Z"
   },
   {
    "duration": 3,
    "start_time": "2021-08-28T06:18:37.928Z"
   },
   {
    "duration": 3,
    "start_time": "2021-08-28T06:18:38.302Z"
   },
   {
    "duration": 43,
    "start_time": "2021-08-28T06:18:39.270Z"
   },
   {
    "duration": 9,
    "start_time": "2021-08-28T06:18:40.544Z"
   },
   {
    "duration": 3,
    "start_time": "2021-08-28T06:18:46.985Z"
   },
   {
    "duration": 5665,
    "start_time": "2021-08-28T06:18:53.079Z"
   },
   {
    "duration": 15,
    "start_time": "2021-08-28T06:19:22.195Z"
   },
   {
    "duration": 19,
    "start_time": "2021-08-28T06:19:23.895Z"
   },
   {
    "duration": 13,
    "start_time": "2021-08-28T06:19:24.614Z"
   },
   {
    "duration": 3,
    "start_time": "2021-08-28T06:19:26.623Z"
   },
   {
    "duration": 38,
    "start_time": "2021-08-28T06:19:32.660Z"
   },
   {
    "duration": 9,
    "start_time": "2021-08-28T06:19:34.091Z"
   },
   {
    "duration": 3,
    "start_time": "2021-08-28T06:31:48.179Z"
   },
   {
    "duration": 3,
    "start_time": "2021-08-28T06:31:48.582Z"
   },
   {
    "duration": 37,
    "start_time": "2021-08-28T06:31:49.749Z"
   },
   {
    "duration": 10,
    "start_time": "2021-08-28T06:32:02.627Z"
   },
   {
    "duration": 8,
    "start_time": "2021-08-28T06:32:42.857Z"
   },
   {
    "duration": 47,
    "start_time": "2021-08-28T06:33:11.097Z"
   },
   {
    "duration": 6592,
    "start_time": "2021-08-28T06:33:53.260Z"
   },
   {
    "duration": 1772,
    "start_time": "2021-08-28T06:34:14.174Z"
   },
   {
    "duration": 2413,
    "start_time": "2021-08-28T06:34:31.434Z"
   },
   {
    "duration": 20,
    "start_time": "2021-08-28T06:34:46.382Z"
   },
   {
    "duration": 15394,
    "start_time": "2021-08-28T06:39:05.760Z"
   },
   {
    "duration": 327,
    "start_time": "2021-08-28T06:39:22.523Z"
   },
   {
    "duration": 3,
    "start_time": "2021-08-28T06:47:18.029Z"
   },
   {
    "duration": 38,
    "start_time": "2021-08-28T06:47:19.324Z"
   },
   {
    "duration": 4,
    "start_time": "2021-08-28T07:12:09.415Z"
   },
   {
    "duration": 351,
    "start_time": "2021-08-28T07:12:10.418Z"
   },
   {
    "duration": 512,
    "start_time": "2021-08-28T07:12:22.224Z"
   },
   {
    "duration": 3,
    "start_time": "2021-08-28T07:19:27.513Z"
   },
   {
    "duration": 6552,
    "start_time": "2021-08-28T07:19:30.418Z"
   },
   {
    "duration": 10258,
    "start_time": "2021-08-28T07:20:01.589Z"
   },
   {
    "duration": 301,
    "start_time": "2021-08-28T07:22:27.851Z"
   },
   {
    "duration": 270,
    "start_time": "2021-08-28T07:22:44.126Z"
   },
   {
    "duration": 288,
    "start_time": "2021-08-28T07:23:38.456Z"
   },
   {
    "duration": 9,
    "start_time": "2021-08-28T07:24:12.489Z"
   },
   {
    "duration": 39,
    "start_time": "2021-08-28T07:24:13.091Z"
   },
   {
    "duration": 26,
    "start_time": "2021-08-28T07:24:13.454Z"
   },
   {
    "duration": 21,
    "start_time": "2021-08-28T07:24:13.977Z"
   },
   {
    "duration": 17,
    "start_time": "2021-08-28T07:24:15.008Z"
   },
   {
    "duration": 121,
    "start_time": "2021-08-28T07:24:16.480Z"
   },
   {
    "duration": 14,
    "start_time": "2021-08-28T07:24:17.007Z"
   },
   {
    "duration": 3,
    "start_time": "2021-08-28T07:24:17.865Z"
   },
   {
    "duration": 3,
    "start_time": "2021-08-28T07:24:19.319Z"
   },
   {
    "duration": 3,
    "start_time": "2021-08-28T07:24:19.938Z"
   },
   {
    "duration": 3,
    "start_time": "2021-08-28T07:24:22.247Z"
   },
   {
    "duration": 2,
    "start_time": "2021-08-28T07:24:23.120Z"
   },
   {
    "duration": 45,
    "start_time": "2021-08-28T07:24:23.948Z"
   },
   {
    "duration": 9,
    "start_time": "2021-08-28T07:24:24.652Z"
   },
   {
    "duration": 359,
    "start_time": "2021-08-28T07:24:32.158Z"
   },
   {
    "duration": 395,
    "start_time": "2021-08-28T07:57:33.273Z"
   },
   {
    "duration": 1233,
    "start_time": "2021-08-28T07:58:09.030Z"
   },
   {
    "duration": 31,
    "start_time": "2021-08-28T07:58:16.802Z"
   },
   {
    "duration": 1223,
    "start_time": "2021-08-28T07:59:44.681Z"
   },
   {
    "duration": 31,
    "start_time": "2021-08-28T07:59:48.175Z"
   },
   {
    "duration": 32,
    "start_time": "2021-08-28T08:00:04.789Z"
   },
   {
    "duration": 8,
    "start_time": "2021-08-28T08:00:24.905Z"
   },
   {
    "duration": 37,
    "start_time": "2021-08-28T08:00:25.190Z"
   },
   {
    "duration": 15,
    "start_time": "2021-08-28T08:00:25.455Z"
   },
   {
    "duration": 17,
    "start_time": "2021-08-28T08:00:25.689Z"
   },
   {
    "duration": 18,
    "start_time": "2021-08-28T08:00:26.143Z"
   },
   {
    "duration": 120,
    "start_time": "2021-08-28T08:00:27.058Z"
   },
   {
    "duration": 16,
    "start_time": "2021-08-28T08:00:27.346Z"
   },
   {
    "duration": 3,
    "start_time": "2021-08-28T08:00:28.012Z"
   },
   {
    "duration": 4,
    "start_time": "2021-08-28T08:00:28.240Z"
   },
   {
    "duration": 4,
    "start_time": "2021-08-28T08:00:28.437Z"
   },
   {
    "duration": 3,
    "start_time": "2021-08-28T08:00:29.651Z"
   },
   {
    "duration": 2,
    "start_time": "2021-08-28T08:00:30.913Z"
   },
   {
    "duration": 49,
    "start_time": "2021-08-28T08:00:31.711Z"
   },
   {
    "duration": 11,
    "start_time": "2021-08-28T08:00:32.775Z"
   },
   {
    "duration": 1214,
    "start_time": "2021-08-28T08:00:34.787Z"
   },
   {
    "duration": 30,
    "start_time": "2021-08-28T08:00:37.415Z"
   },
   {
    "duration": 282,
    "start_time": "2021-08-28T08:01:56.343Z"
   },
   {
    "duration": 149703,
    "start_time": "2021-08-28T08:02:08.162Z"
   },
   {
    "duration": 3238,
    "start_time": "2021-08-28T08:05:50.931Z"
   },
   {
    "duration": 220,
    "start_time": "2021-08-28T08:05:55.303Z"
   },
   {
    "duration": 194081,
    "start_time": "2021-08-28T08:08:14.729Z"
   },
   {
    "duration": 173307,
    "start_time": "2021-08-28T08:11:56.238Z"
   },
   {
    "duration": 86,
    "start_time": "2021-08-28T08:17:18.147Z"
   },
   {
    "duration": 9771,
    "start_time": "2021-08-28T08:17:33.971Z"
   },
   {
    "duration": 11290,
    "start_time": "2021-08-28T08:18:25.553Z"
   },
   {
    "duration": 407,
    "start_time": "2021-08-28T08:18:36.845Z"
   },
   {
    "duration": 143,
    "start_time": "2021-08-28T11:17:31.334Z"
   },
   {
    "duration": 96,
    "start_time": "2021-08-28T11:18:45.071Z"
   },
   {
    "duration": 6,
    "start_time": "2021-08-28T11:19:35.930Z"
   },
   {
    "duration": 3,
    "start_time": "2021-08-28T11:19:37.183Z"
   },
   {
    "duration": 3,
    "start_time": "2021-08-28T11:19:45.157Z"
   },
   {
    "duration": 3,
    "start_time": "2021-08-28T11:19:45.997Z"
   },
   {
    "duration": 7,
    "start_time": "2021-08-28T11:19:47.326Z"
   },
   {
    "duration": 3,
    "start_time": "2021-08-28T11:19:51.589Z"
   },
   {
    "duration": 4,
    "start_time": "2021-08-28T11:21:31.194Z"
   },
   {
    "duration": 55,
    "start_time": "2021-08-28T11:21:32.303Z"
   },
   {
    "duration": 125,
    "start_time": "2021-08-28T11:22:21.417Z"
   },
   {
    "duration": 9,
    "start_time": "2021-08-28T11:27:29.631Z"
   },
   {
    "duration": 133,
    "start_time": "2021-08-28T11:27:30.613Z"
   },
   {
    "duration": 92,
    "start_time": "2021-08-28T11:27:37.162Z"
   },
   {
    "duration": 7089,
    "start_time": "2021-08-28T11:28:59.937Z"
   },
   {
    "duration": 6474,
    "start_time": "2021-08-28T11:29:26.212Z"
   },
   {
    "duration": 207,
    "start_time": "2021-08-28T11:29:35.728Z"
   },
   {
    "duration": 6913,
    "start_time": "2021-08-28T11:29:57.485Z"
   },
   {
    "duration": 4,
    "start_time": "2021-08-28T11:30:45.968Z"
   },
   {
    "duration": 185,
    "start_time": "2021-08-28T11:30:47.759Z"
   },
   {
    "duration": 6764,
    "start_time": "2021-08-28T11:30:49.821Z"
   },
   {
    "duration": 6791,
    "start_time": "2021-08-28T11:31:08.471Z"
   },
   {
    "duration": 209,
    "start_time": "2021-08-28T11:31:16.488Z"
   },
   {
    "duration": 6553,
    "start_time": "2021-08-28T11:33:08.904Z"
   },
   {
    "duration": 4,
    "start_time": "2021-08-28T11:34:11.128Z"
   },
   {
    "duration": 6476,
    "start_time": "2021-08-28T11:34:40.192Z"
   },
   {
    "duration": 86,
    "start_time": "2021-08-28T11:35:00.158Z"
   },
   {
    "duration": 6222,
    "start_time": "2021-08-28T11:35:03.931Z"
   },
   {
    "duration": 4,
    "start_time": "2021-08-28T11:36:30.290Z"
   },
   {
    "duration": 22249,
    "start_time": "2021-08-28T11:36:32.800Z"
   },
   {
    "duration": 20786,
    "start_time": "2021-08-28T11:36:59.469Z"
   },
   {
    "duration": 2,
    "start_time": "2021-08-28T11:39:10.234Z"
   },
   {
    "duration": 25,
    "start_time": "2021-08-28T11:39:11.242Z"
   },
   {
    "duration": 91,
    "start_time": "2021-08-28T11:45:16.526Z"
   },
   {
    "duration": 94,
    "start_time": "2021-08-28T11:45:27.108Z"
   },
   {
    "duration": 93,
    "start_time": "2021-08-28T11:46:03.342Z"
   },
   {
    "duration": 94,
    "start_time": "2021-08-28T11:55:27.837Z"
   },
   {
    "duration": 3,
    "start_time": "2021-08-28T11:56:02.863Z"
   },
   {
    "duration": 11490,
    "start_time": "2021-08-28T11:56:36.790Z"
   },
   {
    "duration": 318177,
    "start_time": "2021-08-28T11:58:22.015Z"
   },
   {
    "duration": 1153728,
    "start_time": "2021-08-28T12:03:45.522Z"
   },
   {
    "duration": 9098,
    "start_time": "2021-08-28T12:23:02.763Z"
   },
   {
    "duration": 13953,
    "start_time": "2021-08-28T12:26:59.501Z"
   },
   {
    "duration": 80,
    "start_time": "2021-08-28T12:28:10.477Z"
   },
   {
    "duration": 4330,
    "start_time": "2021-08-28T12:28:11.594Z"
   },
   {
    "duration": 41553,
    "start_time": "2021-08-28T12:28:17.528Z"
   },
   {
    "duration": 19,
    "start_time": "2021-08-28T12:29:28.778Z"
   },
   {
    "duration": 89,
    "start_time": "2021-08-28T12:29:29.912Z"
   },
   {
    "duration": 11,
    "start_time": "2021-08-28T12:31:10.026Z"
   },
   {
    "duration": 95,
    "start_time": "2021-08-28T12:34:08.720Z"
   },
   {
    "duration": 10,
    "start_time": "2021-08-28T12:34:34.561Z"
   },
   {
    "duration": 38396,
    "start_time": "2021-08-28T12:35:23.468Z"
   },
   {
    "duration": 11,
    "start_time": "2021-08-28T12:37:15.752Z"
   },
   {
    "duration": 21,
    "start_time": "2021-08-28T12:39:15.029Z"
   },
   {
    "duration": 12,
    "start_time": "2021-08-28T12:39:17.704Z"
   },
   {
    "duration": 21,
    "start_time": "2021-08-28T12:39:24.202Z"
   },
   {
    "duration": 10,
    "start_time": "2021-08-28T12:39:25.480Z"
   },
   {
    "duration": 21,
    "start_time": "2021-08-28T12:39:30.784Z"
   },
   {
    "duration": 12,
    "start_time": "2021-08-28T12:39:32.083Z"
   },
   {
    "duration": 4372,
    "start_time": "2021-08-28T12:39:45.423Z"
   },
   {
    "duration": 10,
    "start_time": "2021-08-28T12:39:49.796Z"
   },
   {
    "duration": 4583,
    "start_time": "2021-08-28T12:40:02.387Z"
   },
   {
    "duration": 12,
    "start_time": "2021-08-28T12:40:09.318Z"
   },
   {
    "duration": 12,
    "start_time": "2021-08-28T12:41:01.506Z"
   },
   {
    "duration": 308,
    "start_time": "2021-08-28T13:07:04.567Z"
   },
   {
    "duration": 298,
    "start_time": "2021-08-28T13:09:00.974Z"
   },
   {
    "duration": 18882,
    "start_time": "2021-08-28T13:09:45.501Z"
   },
   {
    "duration": -23008,
    "start_time": "2021-08-28T13:12:27.519Z"
   },
   {
    "duration": 2825,
    "start_time": "2021-08-28T13:12:11.237Z"
   },
   {
    "duration": 2531,
    "start_time": "2021-08-28T13:14:52.304Z"
   },
   {
    "duration": 293,
    "start_time": "2021-08-28T13:15:23.134Z"
   },
   {
    "duration": 317,
    "start_time": "2021-08-28T13:15:39.754Z"
   },
   {
    "duration": 404,
    "start_time": "2021-08-28T13:16:33.418Z"
   },
   {
    "duration": 513,
    "start_time": "2021-08-28T13:17:03.607Z"
   },
   {
    "duration": 306,
    "start_time": "2021-08-28T13:17:23.066Z"
   },
   {
    "duration": 4,
    "start_time": "2021-08-28T13:17:31.489Z"
   },
   {
    "duration": 2834,
    "start_time": "2021-08-28T13:18:43.949Z"
   },
   {
    "duration": 292,
    "start_time": "2021-08-28T13:20:06.924Z"
   },
   {
    "duration": 2594,
    "start_time": "2021-08-28T13:20:15.525Z"
   },
   {
    "duration": 12,
    "start_time": "2021-08-28T13:20:20.174Z"
   },
   {
    "duration": 16,
    "start_time": "2021-08-28T13:20:54.740Z"
   },
   {
    "duration": 22,
    "start_time": "2021-08-28T13:21:10.908Z"
   },
   {
    "duration": 2728,
    "start_time": "2021-08-28T13:21:16.933Z"
   },
   {
    "duration": 15,
    "start_time": "2021-08-28T13:21:23.342Z"
   },
   {
    "duration": 102667,
    "start_time": "2021-08-28T13:24:13.596Z"
   },
   {
    "duration": 601,
    "start_time": "2021-08-28T13:27:27.470Z"
   },
   {
    "duration": 43563,
    "start_time": "2021-08-28T13:27:47.648Z"
   },
   {
    "duration": 62263,
    "start_time": "2021-08-28T13:30:02.449Z"
   },
   {
    "duration": 118,
    "start_time": "2021-08-28T13:40:03.133Z"
   },
   {
    "duration": 94,
    "start_time": "2021-08-28T13:40:36.624Z"
   },
   {
    "duration": 301,
    "start_time": "2021-08-28T13:40:46.611Z"
   },
   {
    "duration": 8124,
    "start_time": "2021-08-28T13:42:24.360Z"
   },
   {
    "duration": 12,
    "start_time": "2021-08-28T13:42:47.876Z"
   },
   {
    "duration": 95,
    "start_time": "2021-08-28T13:46:05.776Z"
   },
   {
    "duration": 301,
    "start_time": "2021-08-28T13:46:58.564Z"
   },
   {
    "duration": 8075,
    "start_time": "2021-08-28T13:47:15.765Z"
   },
   {
    "duration": 12,
    "start_time": "2021-08-28T13:48:03.467Z"
   },
   {
    "duration": 146,
    "start_time": "2021-08-28T13:48:11.897Z"
   },
   {
    "duration": 5881,
    "start_time": "2021-08-28T13:48:12.878Z"
   },
   {
    "duration": 53429,
    "start_time": "2021-08-28T13:48:19.824Z"
   },
   {
    "duration": 73,
    "start_time": "2021-08-28T13:49:16.977Z"
   },
   {
    "duration": 8117,
    "start_time": "2021-08-28T13:49:18.249Z"
   },
   {
    "duration": 13,
    "start_time": "2021-08-28T13:49:33.001Z"
   },
   {
    "duration": 65126,
    "start_time": "2021-08-28T13:50:22.544Z"
   },
   {
    "duration": 11,
    "start_time": "2021-08-28T13:51:44.478Z"
   },
   {
    "duration": 1887370,
    "start_time": "2021-08-28T13:53:52.525Z"
   },
   {
    "duration": 1560,
    "start_time": "2021-08-29T01:36:55.329Z"
   },
   {
    "duration": 1135,
    "start_time": "2021-08-29T01:36:58.932Z"
   },
   {
    "duration": 159,
    "start_time": "2021-08-29T01:37:00.877Z"
   },
   {
    "duration": 135,
    "start_time": "2021-08-29T01:37:01.663Z"
   },
   {
    "duration": 730,
    "start_time": "2021-08-29T01:37:02.116Z"
   },
   {
    "duration": 33,
    "start_time": "2021-08-29T01:37:05.285Z"
   },
   {
    "duration": 688,
    "start_time": "2021-08-29T01:37:05.900Z"
   },
   {
    "duration": 476,
    "start_time": "2021-08-29T01:37:06.591Z"
   },
   {
    "duration": 704,
    "start_time": "2021-08-29T01:37:07.069Z"
   },
   {
    "duration": 457,
    "start_time": "2021-08-29T01:37:07.776Z"
   },
   {
    "duration": 733,
    "start_time": "2021-08-29T01:37:08.236Z"
   },
   {
    "duration": 438,
    "start_time": "2021-08-29T01:37:08.973Z"
   },
   {
    "duration": 19,
    "start_time": "2021-08-29T01:37:09.415Z"
   },
   {
    "duration": 85,
    "start_time": "2021-08-29T01:37:09.437Z"
   },
   {
    "duration": 696,
    "start_time": "2021-08-29T01:37:09.988Z"
   },
   {
    "duration": 686,
    "start_time": "2021-08-29T01:37:10.687Z"
   },
   {
    "duration": 88,
    "start_time": "2021-08-29T01:37:14.696Z"
   },
   {
    "duration": 727,
    "start_time": "2021-08-29T01:37:16.472Z"
   },
   {
    "duration": 16,
    "start_time": "2021-08-29T01:37:19.453Z"
   },
   {
    "duration": 174,
    "start_time": "2021-08-29T01:37:21.038Z"
   },
   {
    "duration": 79,
    "start_time": "2021-08-29T01:37:21.891Z"
   },
   {
    "duration": 142,
    "start_time": "2021-08-29T01:37:23.685Z"
   },
   {
    "duration": 177,
    "start_time": "2021-08-29T01:37:25.334Z"
   },
   {
    "duration": 24,
    "start_time": "2021-08-29T01:37:26.247Z"
   },
   {
    "duration": 53,
    "start_time": "2021-08-29T01:37:28.781Z"
   },
   {
    "duration": 62,
    "start_time": "2021-08-29T01:37:29.512Z"
   },
   {
    "duration": 60,
    "start_time": "2021-08-29T01:37:30.176Z"
   },
   {
    "duration": 61,
    "start_time": "2021-08-29T01:37:30.839Z"
   },
   {
    "duration": 58,
    "start_time": "2021-08-29T01:37:31.480Z"
   },
   {
    "duration": 59,
    "start_time": "2021-08-29T01:37:32.306Z"
   },
   {
    "duration": 3,
    "start_time": "2021-08-29T01:37:33.009Z"
   },
   {
    "duration": 12,
    "start_time": "2021-08-29T01:37:33.668Z"
   },
   {
    "duration": 28,
    "start_time": "2021-08-29T01:37:36.013Z"
   },
   {
    "duration": 7,
    "start_time": "2021-08-29T01:37:37.014Z"
   },
   {
    "duration": 42,
    "start_time": "2021-08-29T01:37:42.090Z"
   },
   {
    "duration": 8,
    "start_time": "2021-08-29T01:37:46.967Z"
   },
   {
    "duration": 1383,
    "start_time": "2021-08-29T01:37:48.624Z"
   },
   {
    "duration": 397,
    "start_time": "2021-08-29T01:37:56.161Z"
   },
   {
    "duration": 12,
    "start_time": "2021-08-29T01:38:06.204Z"
   },
   {
    "duration": 51,
    "start_time": "2021-08-29T01:38:07.917Z"
   },
   {
    "duration": 22,
    "start_time": "2021-08-29T01:38:09.309Z"
   },
   {
    "duration": 25,
    "start_time": "2021-08-29T01:38:14.424Z"
   },
   {
    "duration": 25,
    "start_time": "2021-08-29T01:38:15.373Z"
   },
   {
    "duration": 199,
    "start_time": "2021-08-29T01:38:17.922Z"
   },
   {
    "duration": 24,
    "start_time": "2021-08-29T01:38:19.256Z"
   },
   {
    "duration": 8,
    "start_time": "2021-08-29T01:38:28.831Z"
   },
   {
    "duration": 5,
    "start_time": "2021-08-29T01:38:29.273Z"
   },
   {
    "duration": 6,
    "start_time": "2021-08-29T01:38:29.729Z"
   },
   {
    "duration": 21,
    "start_time": "2021-08-29T01:38:36.048Z"
   },
   {
    "duration": 4,
    "start_time": "2021-08-29T01:38:36.850Z"
   },
   {
    "duration": 6,
    "start_time": "2021-08-29T01:38:39.731Z"
   },
   {
    "duration": 144,
    "start_time": "2021-08-29T01:38:51.423Z"
   },
   {
    "duration": 308,
    "start_time": "2021-08-29T01:38:52.598Z"
   },
   {
    "duration": 118,
    "start_time": "2021-08-29T01:40:57.634Z"
   },
   {
    "duration": 4,
    "start_time": "2021-08-29T01:41:10.004Z"
   },
   {
    "duration": 4,
    "start_time": "2021-08-29T01:41:11.235Z"
   },
   {
    "duration": 6,
    "start_time": "2021-08-29T01:41:12.747Z"
   },
   {
    "duration": 57,
    "start_time": "2021-08-29T01:41:13.617Z"
   },
   {
    "duration": 7410,
    "start_time": "2021-08-29T01:41:14.800Z"
   },
   {
    "duration": 41,
    "start_time": "2021-08-29T01:41:23.852Z"
   },
   {
    "duration": 7325,
    "start_time": "2021-08-29T01:41:24.951Z"
   },
   {
    "duration": 3,
    "start_time": "2021-08-29T01:41:37.197Z"
   },
   {
    "duration": 54,
    "start_time": "2021-08-29T01:41:38.313Z"
   },
   {
    "duration": 321,
    "start_time": "2021-08-29T01:41:42.205Z"
   },
   {
    "duration": 26,
    "start_time": "2021-08-29T01:42:10.149Z"
   },
   {
    "duration": 3041,
    "start_time": "2021-08-29T01:42:14.121Z"
   },
   {
    "duration": 16,
    "start_time": "2021-08-29T01:42:21.551Z"
   },
   {
    "duration": 4445,
    "start_time": "2021-08-29T01:42:34.308Z"
   },
   {
    "duration": 17,
    "start_time": "2021-08-29T01:42:43.672Z"
   },
   {
    "duration": 6102,
    "start_time": "2021-08-29T01:43:00.887Z"
   },
   {
    "duration": 18,
    "start_time": "2021-08-29T01:43:10.064Z"
   },
   {
    "duration": 6676,
    "start_time": "2021-08-29T01:43:18.355Z"
   },
   {
    "duration": 18,
    "start_time": "2021-08-29T01:43:29.081Z"
   },
   {
    "duration": 4,
    "start_time": "2021-08-29T01:43:38.649Z"
   },
   {
    "duration": 4,
    "start_time": "2021-08-29T01:43:39.651Z"
   },
   {
    "duration": 591,
    "start_time": "2021-08-29T01:43:41.135Z"
   },
   {
    "duration": 4,
    "start_time": "2021-08-29T01:44:26.446Z"
   },
   {
    "duration": 4,
    "start_time": "2021-08-29T01:44:28.026Z"
   },
   {
    "duration": 11963,
    "start_time": "2021-08-29T01:44:30.704Z"
   },
   {
    "duration": 4,
    "start_time": "2021-08-29T01:44:48.163Z"
   },
   {
    "duration": 198202,
    "start_time": "2021-08-29T01:44:53.191Z"
   },
   {
    "duration": 173142,
    "start_time": "2021-08-29T01:49:10.835Z"
   },
   {
    "duration": 7191,
    "start_time": "2021-08-29T01:52:49.181Z"
   },
   {
    "duration": 709127,
    "start_time": "2021-08-29T01:52:58.353Z"
   },
   {
    "duration": 4,
    "start_time": "2021-08-29T02:04:52.092Z"
   },
   {
    "duration": 87990,
    "start_time": "2021-08-29T02:04:55.520Z"
   },
   {
    "duration": 1208252,
    "start_time": "2021-08-29T02:09:31.955Z"
   },
   {
    "duration": 89130,
    "start_time": "2021-08-29T02:31:03.305Z"
   },
   {
    "duration": 77,
    "start_time": "2021-08-29T02:35:19.395Z"
   },
   {
    "duration": 5811,
    "start_time": "2021-08-29T02:35:28.802Z"
   },
   {
    "duration": 12107,
    "start_time": "2021-08-29T02:35:39.167Z"
   },
   {
    "duration": 137,
    "start_time": "2021-08-29T02:36:04.131Z"
   },
   {
    "duration": 7691,
    "start_time": "2021-08-29T02:36:05.675Z"
   },
   {
    "duration": 16,
    "start_time": "2021-08-29T02:36:15.292Z"
   },
   {
    "duration": 7779,
    "start_time": "2021-08-29T02:36:31.783Z"
   },
   {
    "duration": 16,
    "start_time": "2021-08-29T02:36:41.020Z"
   },
   {
    "duration": 7760,
    "start_time": "2021-08-29T02:36:48.222Z"
   },
   {
    "duration": 7614,
    "start_time": "2021-08-29T02:37:09.525Z"
   },
   {
    "duration": 571,
    "start_time": "2021-08-29T02:37:53.942Z"
   },
   {
    "duration": 115565,
    "start_time": "2021-08-29T02:38:03.257Z"
   },
   {
    "duration": 10209,
    "start_time": "2021-08-29T02:41:03.754Z"
   },
   {
    "duration": 17,
    "start_time": "2021-08-29T02:41:15.617Z"
   },
   {
    "duration": 18821,
    "start_time": "2021-08-29T02:41:54.777Z"
   },
   {
    "duration": 17,
    "start_time": "2021-08-29T02:42:14.833Z"
   },
   {
    "duration": 86,
    "start_time": "2021-08-29T02:49:26.886Z"
   },
   {
    "duration": 5813,
    "start_time": "2021-08-29T02:49:27.902Z"
   },
   {
    "duration": 15512,
    "start_time": "2021-08-29T02:49:34.685Z"
   },
   {
    "duration": 50,
    "start_time": "2021-08-29T02:49:51.217Z"
   },
   {
    "duration": 19166,
    "start_time": "2021-08-29T02:49:53.220Z"
   },
   {
    "duration": 312,
    "start_time": "2021-08-29T02:50:13.484Z"
   },
   {
    "duration": 75,
    "start_time": "2021-08-29T02:50:29.400Z"
   },
   {
    "duration": 18,
    "start_time": "2021-08-29T02:50:36.847Z"
   },
   {
    "duration": 71,
    "start_time": "2021-08-29T02:53:21.799Z"
   },
   {
    "duration": 5931,
    "start_time": "2021-08-29T02:53:22.638Z"
   },
   {
    "duration": 11807,
    "start_time": "2021-08-29T02:53:28.572Z"
   },
   {
    "duration": 96,
    "start_time": "2021-08-29T02:53:40.382Z"
   },
   {
    "duration": 19600,
    "start_time": "2021-08-29T02:53:40.482Z"
   },
   {
    "duration": 17,
    "start_time": "2021-08-29T02:54:00.085Z"
   },
   {
    "duration": 168,
    "start_time": "2021-08-29T02:54:00.104Z"
   },
   {
    "duration": 6210,
    "start_time": "2021-08-29T02:54:00.276Z"
   },
   {
    "duration": 14681,
    "start_time": "2021-08-29T02:54:06.489Z"
   },
   {
    "duration": 107,
    "start_time": "2021-08-29T02:54:21.173Z"
   },
   {
    "duration": 19404,
    "start_time": "2021-08-29T02:54:21.284Z"
   },
   {
    "duration": 76,
    "start_time": "2021-08-29T02:54:40.691Z"
   },
   {
    "duration": 42531,
    "start_time": "2021-08-29T03:13:23.560Z"
   },
   {
    "duration": 62350,
    "start_time": "2021-08-29T03:16:22.435Z"
   },
   {
    "duration": 520824,
    "start_time": "2021-08-29T03:17:31.404Z"
   },
   {
    "duration": -22257,
    "start_time": "2021-08-29T03:26:34.491Z"
   },
   {
    "duration": 62634,
    "start_time": "2021-08-29T03:26:54.015Z"
   },
   {
    "duration": 100995,
    "start_time": "2021-08-29T03:28:04.603Z"
   },
   {
    "duration": 1283,
    "start_time": "2021-08-29T03:36:06.684Z"
   },
   {
    "duration": 11,
    "start_time": "2021-08-29T03:37:14.394Z"
   },
   {
    "duration": 48,
    "start_time": "2021-08-29T03:37:15.235Z"
   },
   {
    "duration": 19,
    "start_time": "2021-08-29T03:37:15.803Z"
   },
   {
    "duration": 22,
    "start_time": "2021-08-29T03:37:22.785Z"
   },
   {
    "duration": 192,
    "start_time": "2021-08-29T03:37:23.652Z"
   },
   {
    "duration": 62,
    "start_time": "2021-08-29T03:37:35.434Z"
   },
   {
    "duration": 18,
    "start_time": "2021-08-29T03:37:42.529Z"
   },
   {
    "duration": 91,
    "start_time": "2021-08-29T03:37:50.876Z"
   },
   {
    "duration": 16,
    "start_time": "2021-08-29T03:37:55.868Z"
   },
   {
    "duration": 13,
    "start_time": "2021-08-29T03:38:41.206Z"
   },
   {
    "duration": 51,
    "start_time": "2021-08-29T03:38:41.627Z"
   },
   {
    "duration": 19,
    "start_time": "2021-08-29T03:38:42.063Z"
   },
   {
    "duration": 21,
    "start_time": "2021-08-29T03:38:46.150Z"
   },
   {
    "duration": 193,
    "start_time": "2021-08-29T03:38:46.747Z"
   },
   {
    "duration": 9,
    "start_time": "2021-08-29T03:38:57.348Z"
   },
   {
    "duration": 28,
    "start_time": "2021-08-29T03:44:23.703Z"
   },
   {
    "duration": 46,
    "start_time": "2021-08-29T03:44:25.112Z"
   },
   {
    "duration": 29,
    "start_time": "2021-08-29T03:44:33.635Z"
   },
   {
    "duration": 67,
    "start_time": "2021-08-29T03:45:19.540Z"
   },
   {
    "duration": 28,
    "start_time": "2021-08-29T03:45:28.500Z"
   },
   {
    "duration": 204,
    "start_time": "2021-08-29T03:45:53.933Z"
   },
   {
    "duration": 5,
    "start_time": "2021-08-29T04:38:40.223Z"
   },
   {
    "duration": 1063,
    "start_time": "2021-08-29T04:38:41.560Z"
   },
   {
    "duration": 169,
    "start_time": "2021-08-29T04:38:42.626Z"
   },
   {
    "duration": 540,
    "start_time": "2021-08-29T04:38:45.528Z"
   },
   {
    "duration": 623,
    "start_time": "2021-08-29T04:38:46.929Z"
   },
   {
    "duration": 536,
    "start_time": "2021-08-29T04:38:49.015Z"
   },
   {
    "duration": 113,
    "start_time": "2021-08-29T04:38:50.603Z"
   },
   {
    "duration": 611,
    "start_time": "2021-08-29T04:39:06.082Z"
   },
   {
    "duration": 647,
    "start_time": "2021-08-29T04:39:07.327Z"
   },
   {
    "duration": 4,
    "start_time": "2021-08-29T04:46:50.874Z"
   },
   {
    "duration": 288,
    "start_time": "2021-08-29T04:46:53.224Z"
   },
   {
    "duration": 324,
    "start_time": "2021-08-29T04:47:21.468Z"
   },
   {
    "duration": 78,
    "start_time": "2021-08-29T04:47:47.633Z"
   },
   {
    "duration": 4,
    "start_time": "2021-08-29T04:47:50.276Z"
   },
   {
    "duration": 292,
    "start_time": "2021-08-29T04:47:53.101Z"
   },
   {
    "duration": 4,
    "start_time": "2021-08-29T04:48:02.608Z"
   },
   {
    "duration": 305,
    "start_time": "2021-08-29T04:48:04.563Z"
   },
   {
    "duration": 4,
    "start_time": "2021-08-29T04:48:22.962Z"
   },
   {
    "duration": 47,
    "start_time": "2021-08-29T04:48:23.853Z"
   },
   {
    "duration": 37,
    "start_time": "2021-08-29T04:48:34.405Z"
   },
   {
    "duration": 5,
    "start_time": "2021-08-29T04:48:47.739Z"
   },
   {
    "duration": 1060,
    "start_time": "2021-08-29T04:48:48.158Z"
   },
   {
    "duration": 163,
    "start_time": "2021-08-29T04:48:49.222Z"
   },
   {
    "duration": 555,
    "start_time": "2021-08-29T04:48:49.389Z"
   },
   {
    "duration": 643,
    "start_time": "2021-08-29T04:48:49.948Z"
   },
   {
    "duration": 552,
    "start_time": "2021-08-29T04:48:50.594Z"
   },
   {
    "duration": 127,
    "start_time": "2021-08-29T04:48:51.149Z"
   },
   {
    "duration": 777,
    "start_time": "2021-08-29T04:48:51.279Z"
   },
   {
    "duration": 34,
    "start_time": "2021-08-29T04:48:58.940Z"
   },
   {
    "duration": 18,
    "start_time": "2021-08-29T04:49:05.821Z"
   },
   {
    "duration": 50,
    "start_time": "2021-08-29T04:49:06.629Z"
   },
   {
    "duration": 94,
    "start_time": "2021-08-29T04:49:11.965Z"
   },
   {
    "duration": 702,
    "start_time": "2021-08-29T04:49:13.398Z"
   },
   {
    "duration": 283,
    "start_time": "2021-08-29T04:49:16.729Z"
   },
   {
    "duration": 285,
    "start_time": "2021-08-29T04:50:08.160Z"
   },
   {
    "duration": 6,
    "start_time": "2021-08-29T04:50:17.854Z"
   },
   {
    "duration": 1095,
    "start_time": "2021-08-29T04:50:18.336Z"
   },
   {
    "duration": 167,
    "start_time": "2021-08-29T04:50:19.434Z"
   },
   {
    "duration": 569,
    "start_time": "2021-08-29T04:50:19.604Z"
   },
   {
    "duration": 612,
    "start_time": "2021-08-29T04:50:20.177Z"
   },
   {
    "duration": 581,
    "start_time": "2021-08-29T04:50:20.792Z"
   },
   {
    "duration": 133,
    "start_time": "2021-08-29T04:50:21.376Z"
   },
   {
    "duration": 772,
    "start_time": "2021-08-29T04:50:21.513Z"
   },
   {
    "duration": 1523,
    "start_time": "2021-08-29T04:50:31.942Z"
   },
   {
    "duration": 1165,
    "start_time": "2021-08-29T04:50:34.446Z"
   },
   {
    "duration": 173,
    "start_time": "2021-08-29T04:50:35.613Z"
   },
   {
    "duration": 644,
    "start_time": "2021-08-29T04:50:35.789Z"
   },
   {
    "duration": 715,
    "start_time": "2021-08-29T04:50:36.435Z"
   },
   {
    "duration": 591,
    "start_time": "2021-08-29T04:50:37.398Z"
   },
   {
    "duration": 137,
    "start_time": "2021-08-29T04:50:37.992Z"
   },
   {
    "duration": 749,
    "start_time": "2021-08-29T04:50:38.132Z"
   },
   {
    "duration": 35,
    "start_time": "2021-08-29T04:50:43.530Z"
   },
   {
    "duration": 19,
    "start_time": "2021-08-29T04:50:54.000Z"
   },
   {
    "duration": 59,
    "start_time": "2021-08-29T04:50:55.887Z"
   },
   {
    "duration": 90,
    "start_time": "2021-08-29T04:51:05.927Z"
   },
   {
    "duration": 811,
    "start_time": "2021-08-29T04:51:09.313Z"
   },
   {
    "duration": 453,
    "start_time": "2021-08-29T04:51:16.125Z"
   },
   {
    "duration": 271,
    "start_time": "2021-08-29T04:52:02.015Z"
   },
   {
    "duration": 1538,
    "start_time": "2021-08-29T08:06:07.439Z"
   },
   {
    "duration": 1147,
    "start_time": "2021-08-29T08:06:11.453Z"
   },
   {
    "duration": 168,
    "start_time": "2021-08-29T08:06:13.503Z"
   },
   {
    "duration": 622,
    "start_time": "2021-08-29T08:06:14.906Z"
   },
   {
    "duration": 645,
    "start_time": "2021-08-29T08:06:16.746Z"
   },
   {
    "duration": 696,
    "start_time": "2021-08-29T08:06:18.004Z"
   },
   {
    "duration": 123,
    "start_time": "2021-08-29T08:06:19.275Z"
   },
   {
    "duration": 683,
    "start_time": "2021-08-29T08:06:20.408Z"
   },
   {
    "duration": 34,
    "start_time": "2021-08-29T08:06:31.253Z"
   },
   {
    "duration": 562,
    "start_time": "2021-08-29T08:06:33.073Z"
   },
   {
    "duration": 313,
    "start_time": "2021-08-29T08:06:34.054Z"
   },
   {
    "duration": 550,
    "start_time": "2021-08-29T08:06:37.783Z"
   },
   {
    "duration": 244,
    "start_time": "2021-08-29T08:06:38.439Z"
   },
   {
    "duration": 665,
    "start_time": "2021-08-29T08:06:42.491Z"
   },
   {
    "duration": 356,
    "start_time": "2021-08-29T08:06:43.954Z"
   },
   {
    "duration": 18,
    "start_time": "2021-08-29T08:06:48.513Z"
   },
   {
    "duration": 59,
    "start_time": "2021-08-29T08:06:49.895Z"
   },
   {
    "duration": 550,
    "start_time": "2021-08-29T08:06:50.755Z"
   },
   {
    "duration": 526,
    "start_time": "2021-08-29T08:06:54.686Z"
   },
   {
    "duration": 91,
    "start_time": "2021-08-29T08:06:57.155Z"
   },
   {
    "duration": 731,
    "start_time": "2021-08-29T08:07:00.254Z"
   },
   {
    "duration": 443,
    "start_time": "2021-08-29T08:07:05.585Z"
   },
   {
    "duration": 312,
    "start_time": "2021-08-29T08:07:37.535Z"
   },
   {
    "duration": 442,
    "start_time": "2021-08-29T08:07:42.373Z"
   },
   {
    "duration": 299,
    "start_time": "2021-08-29T08:11:26.307Z"
   },
   {
    "duration": 255,
    "start_time": "2021-08-29T08:11:41.126Z"
   },
   {
    "duration": 6,
    "start_time": "2021-08-29T08:11:50.776Z"
   },
   {
    "duration": 1115,
    "start_time": "2021-08-29T08:11:51.340Z"
   },
   {
    "duration": 166,
    "start_time": "2021-08-29T08:11:52.457Z"
   },
   {
    "duration": 615,
    "start_time": "2021-08-29T08:11:52.626Z"
   },
   {
    "duration": 655,
    "start_time": "2021-08-29T08:11:53.244Z"
   },
   {
    "duration": 633,
    "start_time": "2021-08-29T08:11:53.901Z"
   },
   {
    "duration": 132,
    "start_time": "2021-08-29T08:11:54.537Z"
   },
   {
    "duration": 728,
    "start_time": "2021-08-29T08:11:54.672Z"
   },
   {
    "duration": 32,
    "start_time": "2021-08-29T08:11:55.402Z"
   },
   {
    "duration": 584,
    "start_time": "2021-08-29T08:11:55.436Z"
   },
   {
    "duration": 331,
    "start_time": "2021-08-29T08:11:56.022Z"
   },
   {
    "duration": 565,
    "start_time": "2021-08-29T08:11:56.356Z"
   },
   {
    "duration": 255,
    "start_time": "2021-08-29T08:11:56.923Z"
   },
   {
    "duration": 572,
    "start_time": "2021-08-29T08:11:57.181Z"
   },
   {
    "duration": 276,
    "start_time": "2021-08-29T08:11:57.755Z"
   },
   {
    "duration": 17,
    "start_time": "2021-08-29T08:11:58.034Z"
   },
   {
    "duration": 55,
    "start_time": "2021-08-29T08:11:58.068Z"
   },
   {
    "duration": 627,
    "start_time": "2021-08-29T08:11:58.393Z"
   },
   {
    "duration": 535,
    "start_time": "2021-08-29T08:11:59.050Z"
   },
   {
    "duration": 88,
    "start_time": "2021-08-29T08:12:01.889Z"
   },
   {
    "duration": 733,
    "start_time": "2021-08-29T08:12:03.745Z"
   },
   {
    "duration": 15,
    "start_time": "2021-08-29T08:12:11.256Z"
   },
   {
    "duration": 162,
    "start_time": "2021-08-29T08:12:18.921Z"
   },
   {
    "duration": 83,
    "start_time": "2021-08-29T08:12:20.603Z"
   },
   {
    "duration": 4,
    "start_time": "2021-08-29T08:12:23.739Z"
   },
   {
    "duration": 60,
    "start_time": "2021-08-29T08:12:28.910Z"
   },
   {
    "duration": 63,
    "start_time": "2021-08-29T08:15:57.072Z"
   },
   {
    "duration": 62,
    "start_time": "2021-08-29T08:15:57.905Z"
   },
   {
    "duration": 57,
    "start_time": "2021-08-29T08:15:58.743Z"
   },
   {
    "duration": 62,
    "start_time": "2021-08-29T08:15:59.673Z"
   },
   {
    "duration": 65,
    "start_time": "2021-08-29T08:16:00.730Z"
   },
   {
    "duration": 12,
    "start_time": "2021-08-29T08:16:17.761Z"
   },
   {
    "duration": 25,
    "start_time": "2021-08-29T08:16:19.084Z"
   },
   {
    "duration": 7,
    "start_time": "2021-08-29T08:16:36.663Z"
   },
   {
    "duration": 42,
    "start_time": "2021-08-29T08:16:43.942Z"
   },
   {
    "duration": 7,
    "start_time": "2021-08-29T08:16:46.215Z"
   },
   {
    "duration": 1245,
    "start_time": "2021-08-29T08:17:01.172Z"
   },
   {
    "duration": 85,
    "start_time": "2021-08-29T08:19:03.680Z"
   },
   {
    "duration": 4,
    "start_time": "2021-08-29T08:19:09.681Z"
   },
   {
    "duration": 544,
    "start_time": "2021-08-29T08:19:13.654Z"
   },
   {
    "duration": 4,
    "start_time": "2021-08-29T08:19:32.729Z"
   },
   {
    "duration": 70064,
    "start_time": "2021-08-29T08:19:33.836Z"
   },
   {
    "duration": 70163,
    "start_time": "2021-08-29T08:21:17.279Z"
   },
   {
    "duration": 113551,
    "start_time": "2021-08-29T08:22:27.444Z"
   },
   {
    "duration": 17,
    "start_time": "2021-08-29T08:34:56.928Z"
   },
   {
    "duration": 55,
    "start_time": "2021-08-29T08:35:19.726Z"
   },
   {
    "duration": 24,
    "start_time": "2021-08-29T08:35:20.616Z"
   },
   {
    "duration": 25,
    "start_time": "2021-08-29T08:35:30.493Z"
   },
   {
    "duration": 209,
    "start_time": "2021-08-29T08:35:31.876Z"
   },
   {
    "duration": 5,
    "start_time": "2021-08-29T08:38:07.228Z"
   },
   {
    "duration": 6,
    "start_time": "2021-08-29T08:40:31.914Z"
   },
   {
    "duration": 127,
    "start_time": "2021-08-29T08:52:35.321Z"
   },
   {
    "duration": 170,
    "start_time": "2021-08-29T08:52:41.464Z"
   },
   {
    "duration": 302,
    "start_time": "2021-08-29T08:53:10.764Z"
   },
   {
    "duration": 5,
    "start_time": "2021-08-29T08:53:35.489Z"
   },
   {
    "duration": 28,
    "start_time": "2021-08-29T08:53:43.454Z"
   },
   {
    "duration": 30,
    "start_time": "2021-08-29T08:53:44.788Z"
   },
   {
    "duration": 22,
    "start_time": "2021-08-29T08:53:46.960Z"
   },
   {
    "duration": 69,
    "start_time": "2021-08-29T08:54:02.207Z"
   },
   {
    "duration": 4,
    "start_time": "2021-08-29T08:54:03.569Z"
   },
   {
    "duration": 7,
    "start_time": "2021-08-29T08:54:06.964Z"
   },
   {
    "duration": 75,
    "start_time": "2021-08-29T08:54:09.796Z"
   },
   {
    "duration": 7932,
    "start_time": "2021-08-29T08:54:11.057Z"
   },
   {
    "duration": 38,
    "start_time": "2021-08-29T08:54:18.992Z"
   },
   {
    "duration": 7741,
    "start_time": "2021-08-29T08:54:19.033Z"
   },
   {
    "duration": 3,
    "start_time": "2021-08-29T08:54:26.777Z"
   },
   {
    "duration": 29,
    "start_time": "2021-08-29T09:03:01.616Z"
   },
   {
    "duration": 103,
    "start_time": "2021-08-29T09:03:02.281Z"
   },
   {
    "duration": 7319,
    "start_time": "2021-08-29T09:03:09.216Z"
   },
   {
    "duration": 19,
    "start_time": "2021-08-29T09:03:16.538Z"
   },
   {
    "duration": 4,
    "start_time": "2021-08-29T09:38:08.176Z"
   },
   {
    "duration": 4,
    "start_time": "2021-08-29T09:38:09.107Z"
   },
   {
    "duration": 6493,
    "start_time": "2021-08-29T09:38:10.011Z"
   },
   {
    "duration": 221829,
    "start_time": "2021-08-29T09:38:16.507Z"
   },
   {
    "duration": 190331,
    "start_time": "2021-08-29T09:41:58.340Z"
   },
   {
    "duration": 7205,
    "start_time": "2021-08-29T09:45:08.674Z"
   },
   {
    "duration": 336833,
    "start_time": "2021-08-29T09:45:15.883Z"
   },
   {
    "duration": 75,
    "start_time": "2021-08-29T09:55:50.500Z"
   },
   {
    "duration": 5357,
    "start_time": "2021-08-29T09:55:51.577Z"
   },
   {
    "duration": 815,
    "start_time": "2021-08-29T09:55:56.937Z"
   },
   {
    "duration": -22461,
    "start_time": "2021-08-29T09:56:20.215Z"
   },
   {
    "duration": -22464,
    "start_time": "2021-08-29T09:56:20.220Z"
   },
   {
    "duration": 13682,
    "start_time": "2021-08-29T09:56:19.006Z"
   },
   {
    "duration": 24,
    "start_time": "2021-08-29T09:56:32.768Z"
   },
   {
    "duration": 20199,
    "start_time": "2021-08-29T09:56:32.796Z"
   },
   {
    "duration": 18,
    "start_time": "2021-08-29T09:56:52.998Z"
   },
   {
    "duration": 24,
    "start_time": "2021-08-29T09:59:58.648Z"
   },
   {
    "duration": 27,
    "start_time": "2021-08-29T10:00:00.705Z"
   },
   {
    "duration": 26,
    "start_time": "2021-08-29T10:00:31.979Z"
   },
   {
    "duration": 19,
    "start_time": "2021-08-29T10:00:34.980Z"
   },
   {
    "duration": 27,
    "start_time": "2021-08-29T10:00:42.455Z"
   },
   {
    "duration": 17,
    "start_time": "2021-08-29T10:00:44.140Z"
   },
   {
    "duration": 25,
    "start_time": "2021-08-29T10:00:57.824Z"
   },
   {
    "duration": 18,
    "start_time": "2021-08-29T10:00:59.756Z"
   },
   {
    "duration": 25,
    "start_time": "2021-08-29T10:01:11.136Z"
   },
   {
    "duration": 17,
    "start_time": "2021-08-29T10:01:13.420Z"
   },
   {
    "duration": 24,
    "start_time": "2021-08-29T10:01:24.369Z"
   },
   {
    "duration": 18,
    "start_time": "2021-08-29T10:01:26.214Z"
   },
   {
    "duration": 23,
    "start_time": "2021-08-29T10:01:32.764Z"
   },
   {
    "duration": 18,
    "start_time": "2021-08-29T10:01:34.310Z"
   },
   {
    "duration": 309,
    "start_time": "2021-08-29T10:01:47.065Z"
   },
   {
    "duration": 356,
    "start_time": "2021-08-29T10:01:52.705Z"
   },
   {
    "duration": 63,
    "start_time": "2021-08-29T10:02:14.712Z"
   },
   {
    "duration": 18,
    "start_time": "2021-08-29T10:02:17.549Z"
   },
   {
    "duration": 1682,
    "start_time": "2021-08-29T10:03:08.161Z"
   },
   {
    "duration": 28,
    "start_time": "2021-08-29T10:03:15.137Z"
   },
   {
    "duration": 522,
    "start_time": "2021-08-29T10:03:24.452Z"
   },
   {
    "duration": 18,
    "start_time": "2021-08-29T10:03:27.484Z"
   },
   {
    "duration": 5389,
    "start_time": "2021-08-29T10:34:37.953Z"
   },
   {
    "duration": 18,
    "start_time": "2021-08-29T10:34:50.027Z"
   },
   {
    "duration": 358,
    "start_time": "2021-08-29T10:34:56.681Z"
   },
   {
    "duration": 8,
    "start_time": "2021-08-29T10:35:06.427Z"
   },
   {
    "duration": 75,
    "start_time": "2021-08-29T10:35:32.199Z"
   },
   {
    "duration": 5150,
    "start_time": "2021-08-29T10:36:09.713Z"
   },
   {
    "duration": 18,
    "start_time": "2021-08-29T10:36:18.480Z"
   },
   {
    "duration": 5258,
    "start_time": "2021-08-29T10:36:24.073Z"
   },
   {
    "duration": 18,
    "start_time": "2021-08-29T10:36:31.378Z"
   },
   {
    "duration": 5288,
    "start_time": "2021-08-29T10:37:05.970Z"
   },
   {
    "duration": 18,
    "start_time": "2021-08-29T10:37:14.090Z"
   },
   {
    "duration": 5347,
    "start_time": "2021-08-29T10:37:18.439Z"
   },
   {
    "duration": 17,
    "start_time": "2021-08-29T10:37:49.489Z"
   },
   {
    "duration": 68,
    "start_time": "2021-08-29T10:37:53.105Z"
   },
   {
    "duration": 5281,
    "start_time": "2021-08-29T10:37:53.489Z"
   },
   {
    "duration": 14307,
    "start_time": "2021-08-29T10:37:58.773Z"
   },
   {
    "duration": 86,
    "start_time": "2021-08-29T10:38:13.083Z"
   },
   {
    "duration": 21076,
    "start_time": "2021-08-29T10:38:13.172Z"
   },
   {
    "duration": 18,
    "start_time": "2021-08-29T10:38:34.250Z"
   },
   {
    "duration": 18,
    "start_time": "2021-08-29T10:48:18.488Z"
   },
   {
    "duration": 16,
    "start_time": "2021-08-29T10:48:45.228Z"
   },
   {
    "duration": 16,
    "start_time": "2021-08-29T10:49:14.159Z"
   },
   {
    "duration": 239,
    "start_time": "2021-08-29T10:58:47.728Z"
   },
   {
    "duration": 6341,
    "start_time": "2021-08-29T10:58:49.363Z"
   },
   {
    "duration": 17405,
    "start_time": "2021-08-29T10:58:55.707Z"
   },
   {
    "duration": 152,
    "start_time": "2021-08-29T10:59:13.116Z"
   },
   {
    "duration": 22216,
    "start_time": "2021-08-29T10:59:13.272Z"
   },
   {
    "duration": 109,
    "start_time": "2021-08-29T10:59:35.491Z"
   },
   {
    "duration": 18,
    "start_time": "2021-08-29T11:01:03.185Z"
   },
   {
    "duration": 1580,
    "start_time": "2021-08-29T11:25:23.973Z"
   },
   {
    "duration": 1176,
    "start_time": "2021-08-29T11:25:27.747Z"
   },
   {
    "duration": 170,
    "start_time": "2021-08-29T11:25:29.951Z"
   },
   {
    "duration": 682,
    "start_time": "2021-08-29T11:25:30.944Z"
   },
   {
    "duration": 721,
    "start_time": "2021-08-29T11:25:31.788Z"
   },
   {
    "duration": 643,
    "start_time": "2021-08-29T11:25:32.512Z"
   },
   {
    "duration": 133,
    "start_time": "2021-08-29T11:25:33.556Z"
   },
   {
    "duration": 796,
    "start_time": "2021-08-29T11:25:34.155Z"
   },
   {
    "duration": 36,
    "start_time": "2021-08-29T11:25:36.288Z"
   },
   {
    "duration": 614,
    "start_time": "2021-08-29T11:25:37.436Z"
   },
   {
    "duration": 368,
    "start_time": "2021-08-29T11:25:38.053Z"
   },
   {
    "duration": 589,
    "start_time": "2021-08-29T11:25:39.082Z"
   },
   {
    "duration": 323,
    "start_time": "2021-08-29T11:25:39.884Z"
   },
   {
    "duration": 584,
    "start_time": "2021-08-29T11:25:41.041Z"
   },
   {
    "duration": 271,
    "start_time": "2021-08-29T11:25:41.884Z"
   },
   {
    "duration": 18,
    "start_time": "2021-08-29T11:25:43.038Z"
   },
   {
    "duration": 62,
    "start_time": "2021-08-29T11:25:44.648Z"
   },
   {
    "duration": 572,
    "start_time": "2021-08-29T11:25:45.356Z"
   },
   {
    "duration": 579,
    "start_time": "2021-08-29T11:25:46.156Z"
   },
   {
    "duration": 89,
    "start_time": "2021-08-29T11:25:47.448Z"
   },
   {
    "duration": 741,
    "start_time": "2021-08-29T11:25:48.261Z"
   },
   {
    "duration": 15,
    "start_time": "2021-08-29T11:25:49.971Z"
   },
   {
    "duration": 179,
    "start_time": "2021-08-29T11:25:51.726Z"
   },
   {
    "duration": 84,
    "start_time": "2021-08-29T11:25:53.891Z"
   },
   {
    "duration": 4,
    "start_time": "2021-08-29T11:25:55.149Z"
   },
   {
    "duration": 57,
    "start_time": "2021-08-29T11:25:55.573Z"
   },
   {
    "duration": 66,
    "start_time": "2021-08-29T11:25:56.007Z"
   },
   {
    "duration": 59,
    "start_time": "2021-08-29T11:25:56.517Z"
   },
   {
    "duration": 62,
    "start_time": "2021-08-29T11:25:56.992Z"
   },
   {
    "duration": 74,
    "start_time": "2021-08-29T11:25:57.443Z"
   },
   {
    "duration": 55,
    "start_time": "2021-08-29T11:25:57.904Z"
   },
   {
    "duration": 12,
    "start_time": "2021-08-29T11:25:58.789Z"
   },
   {
    "duration": 26,
    "start_time": "2021-08-29T11:25:59.626Z"
   },
   {
    "duration": 8,
    "start_time": "2021-08-29T11:26:00.087Z"
   },
   {
    "duration": 48,
    "start_time": "2021-08-29T11:26:01.135Z"
   },
   {
    "duration": 8,
    "start_time": "2021-08-29T11:26:02.023Z"
   },
   {
    "duration": 1322,
    "start_time": "2021-08-29T11:26:02.812Z"
   },
   {
    "duration": 4,
    "start_time": "2021-08-29T11:26:04.136Z"
   },
   {
    "duration": 71067,
    "start_time": "2021-08-29T11:26:04.143Z"
   },
   {
    "duration": 97985,
    "start_time": "2021-08-29T11:27:15.214Z"
   },
   {
    "duration": 114368,
    "start_time": "2021-08-29T11:28:53.203Z"
   },
   {
    "duration": 20,
    "start_time": "2021-08-29T11:39:27.487Z"
   },
   {
    "duration": 57,
    "start_time": "2021-08-29T11:39:27.843Z"
   },
   {
    "duration": 29,
    "start_time": "2021-08-29T11:39:28.174Z"
   },
   {
    "duration": 6,
    "start_time": "2021-08-29T11:39:28.542Z"
   },
   {
    "duration": 18,
    "start_time": "2021-08-29T11:39:32.646Z"
   },
   {
    "duration": 212,
    "start_time": "2021-08-29T11:39:33.628Z"
   },
   {
    "duration": 25,
    "start_time": "2021-08-29T11:39:35.622Z"
   },
   {
    "duration": 6,
    "start_time": "2021-08-29T11:39:43.774Z"
   },
   {
    "duration": 160,
    "start_time": "2021-08-29T11:39:44.607Z"
   },
   {
    "duration": 7026,
    "start_time": "2021-08-29T11:39:45.177Z"
   },
   {
    "duration": 7460,
    "start_time": "2021-08-29T11:39:58.521Z"
   },
   {
    "duration": 22,
    "start_time": "2021-08-29T11:40:07.820Z"
   },
   {
    "duration": 6517,
    "start_time": "2021-08-29T11:40:09.169Z"
   },
   {
    "duration": 16,
    "start_time": "2021-08-29T11:40:18.708Z"
   },
   {
    "duration": 5,
    "start_time": "2021-08-29T11:40:35.476Z"
   },
   {
    "duration": 6581,
    "start_time": "2021-08-29T11:40:37.222Z"
   },
   {
    "duration": -22900,
    "start_time": "2021-08-29T11:43:57.059Z"
   },
   {
    "duration": -22905,
    "start_time": "2021-08-29T11:43:57.066Z"
   },
   {
    "duration": -22911,
    "start_time": "2021-08-29T11:43:57.073Z"
   },
   {
    "duration": -22912,
    "start_time": "2021-08-29T11:43:57.076Z"
   },
   {
    "duration": 186364,
    "start_time": "2021-08-29T11:43:38.560Z"
   },
   {
    "duration": 195649,
    "start_time": "2021-08-29T11:46:44.928Z"
   },
   {
    "duration": 7202,
    "start_time": "2021-08-29T11:50:00.579Z"
   },
   {
    "duration": 302033,
    "start_time": "2021-08-29T11:50:07.869Z"
   },
   {
    "duration": 68,
    "start_time": "2021-08-29T11:55:45.099Z"
   },
   {
    "duration": 4708,
    "start_time": "2021-08-29T11:55:45.491Z"
   },
   {
    "duration": 12979,
    "start_time": "2021-08-29T11:55:50.202Z"
   },
   {
    "duration": 83,
    "start_time": "2021-08-29T11:56:03.185Z"
   },
   {
    "duration": 18127,
    "start_time": "2021-08-29T11:56:03.272Z"
   },
   {
    "duration": 18,
    "start_time": "2021-08-29T11:56:21.402Z"
   },
   {
    "duration": 8,
    "start_time": "2021-08-29T12:00:38.568Z"
   },
   {
    "duration": 138,
    "start_time": "2021-08-29T12:00:44.134Z"
   },
   {
    "duration": 4523,
    "start_time": "2021-08-29T12:00:44.705Z"
   },
   {
    "duration": 136547,
    "start_time": "2021-08-29T12:00:49.231Z"
   },
   {
    "duration": 22,
    "start_time": "2021-08-29T12:03:05.781Z"
   },
   {
    "duration": 17872,
    "start_time": "2021-08-29T12:03:05.870Z"
   },
   {
    "duration": 17,
    "start_time": "2021-08-29T12:03:23.745Z"
   },
   {
    "duration": 89,
    "start_time": "2021-08-29T12:05:42.984Z"
   },
   {
    "duration": 5200,
    "start_time": "2021-08-29T12:05:43.279Z"
   },
   {
    "duration": 15614,
    "start_time": "2021-08-29T12:05:48.482Z"
   },
   {
    "duration": 167,
    "start_time": "2021-08-29T12:06:04.100Z"
   },
   {
    "duration": 18322,
    "start_time": "2021-08-29T12:06:04.276Z"
   },
   {
    "duration": 20,
    "start_time": "2021-08-29T12:06:22.600Z"
   },
   {
    "duration": 107,
    "start_time": "2021-08-29T12:24:23.900Z"
   },
   {
    "duration": 1735,
    "start_time": "2021-08-29T12:40:42.508Z"
   },
   {
    "duration": 1373,
    "start_time": "2021-08-29T12:40:44.246Z"
   },
   {
    "duration": 173,
    "start_time": "2021-08-29T12:40:45.622Z"
   },
   {
    "duration": 667,
    "start_time": "2021-08-29T12:40:45.797Z"
   },
   {
    "duration": 712,
    "start_time": "2021-08-29T12:40:46.467Z"
   },
   {
    "duration": 627,
    "start_time": "2021-08-29T12:40:47.182Z"
   },
   {
    "duration": 141,
    "start_time": "2021-08-29T12:40:47.811Z"
   },
   {
    "duration": 741,
    "start_time": "2021-08-29T12:40:47.955Z"
   },
   {
    "duration": 33,
    "start_time": "2021-08-29T12:40:48.700Z"
   },
   {
    "duration": 643,
    "start_time": "2021-08-29T12:40:48.736Z"
   },
   {
    "duration": 349,
    "start_time": "2021-08-29T12:40:49.382Z"
   },
   {
    "duration": 582,
    "start_time": "2021-08-29T12:40:49.734Z"
   },
   {
    "duration": 333,
    "start_time": "2021-08-29T12:40:50.319Z"
   },
   {
    "duration": 589,
    "start_time": "2021-08-29T12:40:50.655Z"
   },
   {
    "duration": 285,
    "start_time": "2021-08-29T12:40:51.247Z"
   },
   {
    "duration": 18,
    "start_time": "2021-08-29T12:40:51.534Z"
   },
   {
    "duration": 70,
    "start_time": "2021-08-29T12:40:51.555Z"
   },
   {
    "duration": 591,
    "start_time": "2021-08-29T12:40:51.627Z"
   },
   {
    "duration": 566,
    "start_time": "2021-08-29T12:40:52.221Z"
   },
   {
    "duration": 107,
    "start_time": "2021-08-29T12:40:52.789Z"
   },
   {
    "duration": 732,
    "start_time": "2021-08-29T12:40:52.898Z"
   },
   {
    "duration": 14,
    "start_time": "2021-08-29T12:40:53.633Z"
   },
   {
    "duration": 198,
    "start_time": "2021-08-29T12:40:53.650Z"
   },
   {
    "duration": 86,
    "start_time": "2021-08-29T12:40:53.850Z"
   },
   {
    "duration": 4,
    "start_time": "2021-08-29T12:40:53.939Z"
   },
   {
    "duration": 78,
    "start_time": "2021-08-29T12:40:53.945Z"
   },
   {
    "duration": 74,
    "start_time": "2021-08-29T12:40:54.030Z"
   },
   {
    "duration": 66,
    "start_time": "2021-08-29T12:40:54.108Z"
   },
   {
    "duration": 60,
    "start_time": "2021-08-29T12:40:54.177Z"
   },
   {
    "duration": 82,
    "start_time": "2021-08-29T12:40:54.240Z"
   },
   {
    "duration": 71,
    "start_time": "2021-08-29T12:40:54.325Z"
   },
   {
    "duration": 13,
    "start_time": "2021-08-29T12:40:54.399Z"
   },
   {
    "duration": 33,
    "start_time": "2021-08-29T12:40:54.415Z"
   },
   {
    "duration": 20,
    "start_time": "2021-08-29T12:40:54.451Z"
   },
   {
    "duration": 51,
    "start_time": "2021-08-29T12:40:54.474Z"
   },
   {
    "duration": 7,
    "start_time": "2021-08-29T12:40:54.527Z"
   },
   {
    "duration": 1290,
    "start_time": "2021-08-29T12:40:54.536Z"
   },
   {
    "duration": 4,
    "start_time": "2021-08-29T12:40:55.828Z"
   },
   {
    "duration": 69807,
    "start_time": "2021-08-29T12:40:55.835Z"
   },
   {
    "duration": 72062,
    "start_time": "2021-08-29T12:42:05.644Z"
   },
   {
    "duration": 115468,
    "start_time": "2021-08-29T12:43:17.709Z"
   },
   {
    "duration": 17,
    "start_time": "2021-08-29T12:45:13.179Z"
   },
   {
    "duration": 78,
    "start_time": "2021-08-29T12:45:13.199Z"
   },
   {
    "duration": 20,
    "start_time": "2021-08-29T12:45:13.280Z"
   },
   {
    "duration": 7,
    "start_time": "2021-08-29T12:45:13.303Z"
   },
   {
    "duration": 54,
    "start_time": "2021-08-29T12:45:13.313Z"
   },
   {
    "duration": 219,
    "start_time": "2021-08-29T12:45:13.370Z"
   },
   {
    "duration": 26,
    "start_time": "2021-08-29T12:45:13.592Z"
   },
   {
    "duration": 6,
    "start_time": "2021-08-29T12:45:13.620Z"
   },
   {
    "duration": 142,
    "start_time": "2021-08-29T12:45:13.628Z"
   },
   {
    "duration": 8369,
    "start_time": "2021-08-29T12:45:13.774Z"
   },
   {
    "duration": 9025,
    "start_time": "2021-08-29T12:45:22.146Z"
   },
   {
    "duration": 95,
    "start_time": "2021-08-29T12:45:31.173Z"
   },
   {
    "duration": 7613,
    "start_time": "2021-08-29T12:45:31.271Z"
   },
   {
    "duration": 16,
    "start_time": "2021-08-29T12:45:38.886Z"
   },
   {
    "duration": 14,
    "start_time": "2021-08-29T12:45:38.905Z"
   },
   {
    "duration": 7380,
    "start_time": "2021-08-29T12:45:38.922Z"
   },
   {
    "duration": 224217,
    "start_time": "2021-08-29T12:45:46.305Z"
   },
   {
    "duration": 1344850,
    "start_time": "2021-08-29T12:49:30.526Z"
   },
   {
    "duration": 7295,
    "start_time": "2021-08-29T13:11:55.379Z"
   },
   {
    "duration": 345820,
    "start_time": "2021-08-29T13:12:02.677Z"
   },
   {
    "duration": 87,
    "start_time": "2021-08-29T13:17:48.499Z"
   },
   {
    "duration": 5812,
    "start_time": "2021-08-29T13:17:48.589Z"
   },
   {
    "duration": 457487,
    "start_time": "2021-08-29T13:17:54.404Z"
   },
   {
    "duration": 24,
    "start_time": "2021-08-29T13:25:31.894Z"
   },
   {
    "duration": 20260,
    "start_time": "2021-08-29T13:25:31.969Z"
   },
   {
    "duration": 19,
    "start_time": "2021-08-29T13:25:52.232Z"
   },
   {
    "duration": 9,
    "start_time": "2021-08-29T13:25:52.253Z"
   },
   {
    "duration": 105,
    "start_time": "2021-08-29T13:25:52.266Z"
   },
   {
    "duration": 5480,
    "start_time": "2021-08-29T13:25:52.379Z"
   },
   {
    "duration": 327849,
    "start_time": "2021-08-29T13:25:57.861Z"
   },
   {
    "duration": 57,
    "start_time": "2021-08-29T13:31:25.712Z"
   },
   {
    "duration": 20534,
    "start_time": "2021-08-29T13:31:25.772Z"
   },
   {
    "duration": 15,
    "start_time": "2021-08-29T13:31:46.309Z"
   },
   {
    "duration": 145,
    "start_time": "2021-08-29T13:31:46.326Z"
   },
   {
    "duration": 9555,
    "start_time": "2021-08-29T13:31:46.475Z"
   },
   {
    "duration": 411157,
    "start_time": "2021-08-29T13:31:56.033Z"
   },
   {
    "duration": 174,
    "start_time": "2021-08-29T13:38:47.193Z"
   },
   {
    "duration": 20417,
    "start_time": "2021-08-29T13:38:47.371Z"
   },
   {
    "duration": 18,
    "start_time": "2021-08-29T13:39:07.791Z"
   },
   {
    "duration": 464,
    "start_time": "2021-08-30T02:21:50.476Z"
   },
   {
    "duration": 1509,
    "start_time": "2021-08-30T02:21:57.612Z"
   },
   {
    "duration": 1111,
    "start_time": "2021-08-30T02:21:59.123Z"
   },
   {
    "duration": 156,
    "start_time": "2021-08-30T02:22:00.386Z"
   },
   {
    "duration": 708,
    "start_time": "2021-08-30T02:22:00.959Z"
   },
   {
    "duration": 721,
    "start_time": "2021-08-30T02:22:01.670Z"
   },
   {
    "duration": 624,
    "start_time": "2021-08-30T02:22:02.394Z"
   },
   {
    "duration": 126,
    "start_time": "2021-08-30T02:22:03.021Z"
   },
   {
    "duration": 715,
    "start_time": "2021-08-30T02:22:03.154Z"
   },
   {
    "duration": 32,
    "start_time": "2021-08-30T02:22:03.872Z"
   },
   {
    "duration": 580,
    "start_time": "2021-08-30T02:22:03.907Z"
   },
   {
    "duration": 364,
    "start_time": "2021-08-30T02:22:04.490Z"
   },
   {
    "duration": 538,
    "start_time": "2021-08-30T02:22:04.857Z"
   },
   {
    "duration": 327,
    "start_time": "2021-08-30T02:22:05.399Z"
   },
   {
    "duration": 557,
    "start_time": "2021-08-30T02:22:05.729Z"
   },
   {
    "duration": 266,
    "start_time": "2021-08-30T02:22:06.288Z"
   },
   {
    "duration": 18,
    "start_time": "2021-08-30T02:22:06.557Z"
   },
   {
    "duration": 27,
    "start_time": "2021-08-30T02:22:06.578Z"
   },
   {
    "duration": 69,
    "start_time": "2021-08-30T02:23:12.904Z"
   },
   {
    "duration": 27,
    "start_time": "2021-08-30T02:23:23.066Z"
   },
   {
    "duration": 11608,
    "start_time": "2021-08-30T02:25:02.606Z"
   },
   {
    "duration": 8,
    "start_time": "2021-08-30T02:25:32.659Z"
   },
   {
    "duration": 527,
    "start_time": "2021-08-30T02:25:49.677Z"
   },
   {
    "duration": 6,
    "start_time": "2021-08-30T02:26:18.219Z"
   },
   {
    "duration": 1138,
    "start_time": "2021-08-30T02:26:19.005Z"
   },
   {
    "duration": 155,
    "start_time": "2021-08-30T02:26:20.146Z"
   },
   {
    "duration": 583,
    "start_time": "2021-08-30T02:26:20.304Z"
   },
   {
    "duration": 603,
    "start_time": "2021-08-30T02:26:20.889Z"
   },
   {
    "duration": 577,
    "start_time": "2021-08-30T02:26:21.494Z"
   },
   {
    "duration": 126,
    "start_time": "2021-08-30T02:26:22.073Z"
   },
   {
    "duration": 644,
    "start_time": "2021-08-30T02:26:22.201Z"
   },
   {
    "duration": 40,
    "start_time": "2021-08-30T02:26:22.854Z"
   },
   {
    "duration": 540,
    "start_time": "2021-08-30T02:26:22.897Z"
   },
   {
    "duration": 308,
    "start_time": "2021-08-30T02:26:23.440Z"
   },
   {
    "duration": 554,
    "start_time": "2021-08-30T02:26:23.754Z"
   },
   {
    "duration": 255,
    "start_time": "2021-08-30T02:26:24.311Z"
   },
   {
    "duration": 559,
    "start_time": "2021-08-30T02:26:24.569Z"
   },
   {
    "duration": 362,
    "start_time": "2021-08-30T02:26:25.130Z"
   },
   {
    "duration": 3,
    "start_time": "2021-08-30T02:26:25.494Z"
   },
   {
    "duration": 11271,
    "start_time": "2021-08-30T02:26:25.499Z"
   },
   {
    "duration": 540,
    "start_time": "2021-08-30T02:26:36.772Z"
   },
   {
    "duration": 11250,
    "start_time": "2021-08-30T02:27:27.319Z"
   },
   {
    "duration": 532,
    "start_time": "2021-08-30T02:27:40.491Z"
   },
   {
    "duration": 41,
    "start_time": "2021-08-30T02:27:59.063Z"
   },
   {
    "duration": 30,
    "start_time": "2021-08-30T02:38:33.885Z"
   },
   {
    "duration": 32,
    "start_time": "2021-08-30T02:39:46.511Z"
   },
   {
    "duration": 28,
    "start_time": "2021-08-30T02:39:59.078Z"
   },
   {
    "duration": 41,
    "start_time": "2021-08-30T02:40:14.027Z"
   },
   {
    "duration": 49,
    "start_time": "2021-08-30T02:41:02.995Z"
   },
   {
    "duration": 42,
    "start_time": "2021-08-30T02:41:18.958Z"
   },
   {
    "duration": 51,
    "start_time": "2021-08-30T02:42:39.453Z"
   },
   {
    "duration": 549,
    "start_time": "2021-08-30T02:43:50.293Z"
   },
   {
    "duration": 91,
    "start_time": "2021-08-30T02:44:00.869Z"
   },
   {
    "duration": 6,
    "start_time": "2021-08-30T03:03:21.546Z"
   },
   {
    "duration": 1046,
    "start_time": "2021-08-30T03:03:22.187Z"
   },
   {
    "duration": 166,
    "start_time": "2021-08-30T03:03:23.236Z"
   },
   {
    "duration": 565,
    "start_time": "2021-08-30T03:03:23.406Z"
   },
   {
    "duration": 674,
    "start_time": "2021-08-30T03:03:23.973Z"
   },
   {
    "duration": 600,
    "start_time": "2021-08-30T03:03:24.654Z"
   },
   {
    "duration": 125,
    "start_time": "2021-08-30T03:03:25.256Z"
   },
   {
    "duration": 657,
    "start_time": "2021-08-30T03:03:25.385Z"
   },
   {
    "duration": 36,
    "start_time": "2021-08-30T03:03:26.162Z"
   },
   {
    "duration": 530,
    "start_time": "2021-08-30T03:03:27.434Z"
   },
   {
    "duration": 329,
    "start_time": "2021-08-30T03:03:27.968Z"
   },
   {
    "duration": 527,
    "start_time": "2021-08-30T03:03:28.458Z"
   },
   {
    "duration": 232,
    "start_time": "2021-08-30T03:03:32.161Z"
   },
   {
    "duration": 631,
    "start_time": "2021-08-30T03:03:32.619Z"
   },
   {
    "duration": 255,
    "start_time": "2021-08-30T03:03:33.308Z"
   },
   {
    "duration": 4,
    "start_time": "2021-08-30T03:03:40.817Z"
   },
   {
    "duration": 98,
    "start_time": "2021-08-30T03:04:45.131Z"
   },
   {
    "duration": 90,
    "start_time": "2021-08-30T03:04:57.039Z"
   },
   {
    "duration": 304,
    "start_time": "2021-08-30T03:05:19.456Z"
   },
   {
    "duration": 278,
    "start_time": "2021-08-30T03:05:24.277Z"
   },
   {
    "duration": 271,
    "start_time": "2021-08-30T03:05:37.907Z"
   },
   {
    "duration": 30,
    "start_time": "2021-08-30T03:05:47.750Z"
   },
   {
    "duration": 31,
    "start_time": "2021-08-30T03:06:02.144Z"
   },
   {
    "duration": 79,
    "start_time": "2021-08-30T03:06:16.508Z"
   },
   {
    "duration": 171,
    "start_time": "2021-08-30T03:06:45.027Z"
   },
   {
    "duration": 29,
    "start_time": "2021-08-30T03:06:58.131Z"
   },
   {
    "duration": 40,
    "start_time": "2021-08-30T03:07:11.796Z"
   },
   {
    "duration": 77,
    "start_time": "2021-08-30T03:08:07.003Z"
   },
   {
    "duration": 28,
    "start_time": "2021-08-30T03:08:19.857Z"
   },
   {
    "duration": 40,
    "start_time": "2021-08-30T03:10:10.629Z"
   },
   {
    "duration": 76,
    "start_time": "2021-08-30T03:10:13.354Z"
   },
   {
    "duration": 42,
    "start_time": "2021-08-30T03:10:14.507Z"
   },
   {
    "duration": 16845,
    "start_time": "2021-08-30T03:10:58.136Z"
   },
   {
    "duration": 526,
    "start_time": "2021-08-30T03:11:35.886Z"
   },
   {
    "duration": 44,
    "start_time": "2021-08-30T03:13:16.854Z"
   },
   {
    "duration": 76,
    "start_time": "2021-08-30T03:13:18.105Z"
   },
   {
    "duration": 41,
    "start_time": "2021-08-30T03:13:19.713Z"
   },
   {
    "duration": 8,
    "start_time": "2021-08-30T03:13:50.482Z"
   },
   {
    "duration": 15941,
    "start_time": "2021-08-30T03:14:50.853Z"
   },
   {
    "duration": 539,
    "start_time": "2021-08-30T03:15:09.774Z"
   },
   {
    "duration": 40,
    "start_time": "2021-08-30T03:15:20.343Z"
   },
   {
    "duration": 29,
    "start_time": "2021-08-30T03:16:20.715Z"
   },
   {
    "duration": 7,
    "start_time": "2021-08-30T03:16:45.605Z"
   },
   {
    "duration": 30,
    "start_time": "2021-08-30T03:17:04.605Z"
   },
   {
    "duration": 55,
    "start_time": "2021-08-30T03:19:23.453Z"
   },
   {
    "duration": 6,
    "start_time": "2021-08-30T03:19:25.793Z"
   },
   {
    "duration": 28,
    "start_time": "2021-08-30T03:19:38.183Z"
   },
   {
    "duration": 32,
    "start_time": "2021-08-30T03:19:56.656Z"
   },
   {
    "duration": 10937,
    "start_time": "2021-08-30T03:20:24.307Z"
   },
   {
    "duration": 690,
    "start_time": "2021-08-30T03:20:38.683Z"
   },
   {
    "duration": 47,
    "start_time": "2021-08-30T03:20:44.732Z"
   },
   {
    "duration": 11713,
    "start_time": "2021-08-30T03:21:06.918Z"
   },
   {
    "duration": 545,
    "start_time": "2021-08-30T03:21:20.559Z"
   },
   {
    "duration": 50,
    "start_time": "2021-08-30T03:21:31.636Z"
   },
   {
    "duration": 29,
    "start_time": "2021-08-30T03:21:54.985Z"
   },
   {
    "duration": 1954,
    "start_time": "2021-08-30T03:22:39.396Z"
   },
   {
    "duration": 12,
    "start_time": "2021-08-30T03:22:45.087Z"
   },
   {
    "duration": 521,
    "start_time": "2021-08-30T03:22:47.930Z"
   },
   {
    "duration": 48,
    "start_time": "2021-08-30T03:23:05.219Z"
   },
   {
    "duration": 7,
    "start_time": "2021-08-30T03:24:35.504Z"
   },
   {
    "duration": 1215,
    "start_time": "2021-08-30T03:24:36.370Z"
   },
   {
    "duration": 168,
    "start_time": "2021-08-30T03:24:37.587Z"
   },
   {
    "duration": 630,
    "start_time": "2021-08-30T03:24:37.758Z"
   },
   {
    "duration": 673,
    "start_time": "2021-08-30T03:24:38.391Z"
   },
   {
    "duration": 709,
    "start_time": "2021-08-30T03:24:39.067Z"
   },
   {
    "duration": 131,
    "start_time": "2021-08-30T03:24:39.780Z"
   },
   {
    "duration": 685,
    "start_time": "2021-08-30T03:24:39.914Z"
   },
   {
    "duration": 54,
    "start_time": "2021-08-30T03:24:40.603Z"
   },
   {
    "duration": 547,
    "start_time": "2021-08-30T03:24:40.661Z"
   },
   {
    "duration": 329,
    "start_time": "2021-08-30T03:24:41.211Z"
   },
   {
    "duration": 538,
    "start_time": "2021-08-30T03:24:41.542Z"
   },
   {
    "duration": 245,
    "start_time": "2021-08-30T03:24:42.083Z"
   },
   {
    "duration": 567,
    "start_time": "2021-08-30T03:24:42.331Z"
   },
   {
    "duration": 418,
    "start_time": "2021-08-30T03:24:43.313Z"
   },
   {
    "duration": 3,
    "start_time": "2021-08-30T03:24:45.035Z"
   },
   {
    "duration": 2007,
    "start_time": "2021-08-30T03:24:47.331Z"
   },
   {
    "duration": 552,
    "start_time": "2021-08-30T03:24:50.243Z"
   },
   {
    "duration": 52,
    "start_time": "2021-08-30T03:29:26.439Z"
   },
   {
    "duration": 508,
    "start_time": "2021-08-30T03:29:27.507Z"
   },
   {
    "duration": 515,
    "start_time": "2021-08-30T03:29:29.875Z"
   },
   {
    "duration": 84,
    "start_time": "2021-08-30T03:29:37.251Z"
   },
   {
    "duration": 666,
    "start_time": "2021-08-30T03:29:38.500Z"
   },
   {
    "duration": 14,
    "start_time": "2021-08-30T03:29:40.201Z"
   },
   {
    "duration": 144,
    "start_time": "2021-08-30T03:29:41.310Z"
   },
   {
    "duration": 77,
    "start_time": "2021-08-30T03:29:44.548Z"
   },
   {
    "duration": 5,
    "start_time": "2021-08-30T03:29:49.703Z"
   },
   {
    "duration": 59,
    "start_time": "2021-08-30T03:29:50.186Z"
   },
   {
    "duration": 60,
    "start_time": "2021-08-30T03:29:50.603Z"
   },
   {
    "duration": 62,
    "start_time": "2021-08-30T03:29:51.014Z"
   },
   {
    "duration": 56,
    "start_time": "2021-08-30T03:29:51.361Z"
   },
   {
    "duration": 62,
    "start_time": "2021-08-30T03:29:52.300Z"
   },
   {
    "duration": 59,
    "start_time": "2021-08-30T03:29:52.710Z"
   },
   {
    "duration": 35,
    "start_time": "2021-08-30T03:31:43.923Z"
   },
   {
    "duration": 57,
    "start_time": "2021-08-30T03:33:15.904Z"
   },
   {
    "duration": 3,
    "start_time": "2021-08-30T03:33:17.263Z"
   },
   {
    "duration": 53,
    "start_time": "2021-08-30T03:33:17.855Z"
   },
   {
    "duration": 55,
    "start_time": "2021-08-30T03:33:18.170Z"
   },
   {
    "duration": 52,
    "start_time": "2021-08-30T03:33:18.477Z"
   },
   {
    "duration": 49,
    "start_time": "2021-08-30T03:33:18.732Z"
   },
   {
    "duration": 56,
    "start_time": "2021-08-30T03:33:19.005Z"
   },
   {
    "duration": 47,
    "start_time": "2021-08-30T03:33:19.240Z"
   },
   {
    "duration": 53,
    "start_time": "2021-08-30T03:33:25.410Z"
   },
   {
    "duration": 58,
    "start_time": "2021-08-30T03:33:25.670Z"
   },
   {
    "duration": 53,
    "start_time": "2021-08-30T03:33:26.014Z"
   },
   {
    "duration": 50,
    "start_time": "2021-08-30T03:33:26.210Z"
   },
   {
    "duration": 55,
    "start_time": "2021-08-30T03:33:26.423Z"
   },
   {
    "duration": 47,
    "start_time": "2021-08-30T03:33:26.657Z"
   },
   {
    "duration": 12,
    "start_time": "2021-08-30T03:33:29.157Z"
   },
   {
    "duration": 26,
    "start_time": "2021-08-30T03:33:31.266Z"
   },
   {
    "duration": 7,
    "start_time": "2021-08-30T03:33:36.023Z"
   },
   {
    "duration": 43,
    "start_time": "2021-08-30T03:33:41.974Z"
   },
   {
    "duration": 9,
    "start_time": "2021-08-30T03:33:42.989Z"
   },
   {
    "duration": 1199,
    "start_time": "2021-08-30T03:33:46.422Z"
   },
   {
    "duration": 3,
    "start_time": "2021-08-30T03:33:47.624Z"
   },
   {
    "duration": 66647,
    "start_time": "2021-08-30T03:33:48.140Z"
   },
   {
    "duration": 65101,
    "start_time": "2021-08-30T03:34:54.790Z"
   },
   {
    "duration": 110590,
    "start_time": "2021-08-30T03:35:59.894Z"
   },
   {
    "duration": 16,
    "start_time": "2021-08-30T03:37:50.487Z"
   },
   {
    "duration": 74,
    "start_time": "2021-08-30T03:37:50.505Z"
   },
   {
    "duration": 22,
    "start_time": "2021-08-30T03:37:50.582Z"
   },
   {
    "duration": 6,
    "start_time": "2021-08-30T03:37:50.606Z"
   },
   {
    "duration": 46,
    "start_time": "2021-08-30T03:37:50.616Z"
   },
   {
    "duration": 215,
    "start_time": "2021-08-30T03:37:50.665Z"
   },
   {
    "duration": 25,
    "start_time": "2021-08-30T03:37:50.882Z"
   },
   {
    "duration": 40,
    "start_time": "2021-08-30T03:44:46.261Z"
   },
   {
    "duration": 248,
    "start_time": "2021-08-30T03:44:57.408Z"
   },
   {
    "duration": 255,
    "start_time": "2021-08-30T03:45:03.209Z"
   },
   {
    "duration": 84,
    "start_time": "2021-08-30T03:45:06.047Z"
   },
   {
    "duration": 166,
    "start_time": "2021-08-30T03:46:03.157Z"
   },
   {
    "duration": 24,
    "start_time": "2021-08-30T03:46:14.232Z"
   },
   {
    "duration": 170,
    "start_time": "2021-08-30T03:47:48.064Z"
   },
   {
    "duration": 7,
    "start_time": "2021-08-30T03:48:28.540Z"
   },
   {
    "duration": 1079,
    "start_time": "2021-08-30T03:48:29.199Z"
   },
   {
    "duration": 162,
    "start_time": "2021-08-30T03:48:30.281Z"
   },
   {
    "duration": 604,
    "start_time": "2021-08-30T03:48:30.446Z"
   },
   {
    "duration": 589,
    "start_time": "2021-08-30T03:48:31.054Z"
   },
   {
    "duration": 515,
    "start_time": "2021-08-30T03:48:31.645Z"
   },
   {
    "duration": 125,
    "start_time": "2021-08-30T03:48:32.162Z"
   },
   {
    "duration": 696,
    "start_time": "2021-08-30T03:48:32.291Z"
   },
   {
    "duration": 35,
    "start_time": "2021-08-30T03:48:32.989Z"
   },
   {
    "duration": 749,
    "start_time": "2021-08-30T03:48:33.027Z"
   },
   {
    "duration": 523,
    "start_time": "2021-08-30T03:48:33.778Z"
   },
   {
    "duration": 538,
    "start_time": "2021-08-30T03:48:34.304Z"
   },
   {
    "duration": 252,
    "start_time": "2021-08-30T03:48:34.844Z"
   },
   {
    "duration": 552,
    "start_time": "2021-08-30T03:48:35.099Z"
   },
   {
    "duration": 266,
    "start_time": "2021-08-30T03:48:35.655Z"
   },
   {
    "duration": 2,
    "start_time": "2021-08-30T03:48:35.924Z"
   },
   {
    "duration": 1904,
    "start_time": "2021-08-30T03:48:35.929Z"
   },
   {
    "duration": 535,
    "start_time": "2021-08-30T03:48:37.836Z"
   },
   {
    "duration": 49,
    "start_time": "2021-08-30T03:48:38.800Z"
   },
   {
    "duration": 523,
    "start_time": "2021-08-30T03:48:39.541Z"
   },
   {
    "duration": 519,
    "start_time": "2021-08-30T03:48:40.066Z"
   },
   {
    "duration": 82,
    "start_time": "2021-08-30T03:48:40.803Z"
   },
   {
    "duration": 672,
    "start_time": "2021-08-30T03:48:42.347Z"
   },
   {
    "duration": 21,
    "start_time": "2021-08-30T03:48:56.732Z"
   },
   {
    "duration": 119,
    "start_time": "2021-08-30T03:48:57.402Z"
   },
   {
    "duration": 77,
    "start_time": "2021-08-30T03:48:58.163Z"
   },
   {
    "duration": 32,
    "start_time": "2021-08-30T03:49:00.179Z"
   },
   {
    "duration": 5,
    "start_time": "2021-08-30T03:49:03.440Z"
   },
   {
    "duration": 57,
    "start_time": "2021-08-30T03:49:03.645Z"
   },
   {
    "duration": 60,
    "start_time": "2021-08-30T03:49:03.846Z"
   },
   {
    "duration": 61,
    "start_time": "2021-08-30T03:49:04.048Z"
   },
   {
    "duration": 59,
    "start_time": "2021-08-30T03:49:04.255Z"
   },
   {
    "duration": 67,
    "start_time": "2021-08-30T03:49:04.451Z"
   },
   {
    "duration": 59,
    "start_time": "2021-08-30T03:49:04.859Z"
   },
   {
    "duration": 13,
    "start_time": "2021-08-30T03:49:05.283Z"
   },
   {
    "duration": 26,
    "start_time": "2021-08-30T03:49:07.561Z"
   },
   {
    "duration": 7,
    "start_time": "2021-08-30T03:49:08.808Z"
   },
   {
    "duration": 44,
    "start_time": "2021-08-30T03:49:11.147Z"
   },
   {
    "duration": 10,
    "start_time": "2021-08-30T03:49:12.012Z"
   },
   {
    "duration": 1296,
    "start_time": "2021-08-30T03:49:13.422Z"
   },
   {
    "duration": 4,
    "start_time": "2021-08-30T03:49:16.025Z"
   },
   {
    "duration": 12,
    "start_time": "2021-08-30T03:49:23.161Z"
   },
   {
    "duration": 54,
    "start_time": "2021-08-30T03:49:23.388Z"
   },
   {
    "duration": 19,
    "start_time": "2021-08-30T03:49:23.600Z"
   },
   {
    "duration": 6,
    "start_time": "2021-08-30T03:49:23.805Z"
   },
   {
    "duration": 17,
    "start_time": "2021-08-30T03:49:24.873Z"
   },
   {
    "duration": 200,
    "start_time": "2021-08-30T03:49:25.072Z"
   },
   {
    "duration": 25,
    "start_time": "2021-08-30T03:49:25.480Z"
   },
   {
    "duration": 6,
    "start_time": "2021-08-30T03:49:29.389Z"
   },
   {
    "duration": 80,
    "start_time": "2021-08-30T03:49:33.848Z"
   },
   {
    "duration": 165,
    "start_time": "2021-08-30T03:49:36.889Z"
   },
   {
    "duration": 78,
    "start_time": "2021-08-30T03:49:37.953Z"
   },
   {
    "duration": 16,
    "start_time": "2021-08-30T03:50:26.423Z"
   },
   {
    "duration": 254,
    "start_time": "2021-08-30T03:55:12.271Z"
   },
   {
    "duration": 309,
    "start_time": "2021-08-30T03:55:34.226Z"
   },
   {
    "duration": 53079,
    "start_time": "2021-08-30T03:55:59.430Z"
   },
   {
    "duration": 52360,
    "start_time": "2021-08-30T03:58:01.352Z"
   },
   {
    "duration": 52199,
    "start_time": "2021-08-30T04:16:05.786Z"
   },
   {
    "duration": 261,
    "start_time": "2021-08-30T04:21:52.546Z"
   },
   {
    "duration": 9050,
    "start_time": "2021-08-30T04:22:02.010Z"
   },
   {
    "duration": 351,
    "start_time": "2021-08-30T04:23:09.105Z"
   },
   {
    "duration": 7,
    "start_time": "2021-08-30T04:30:43.965Z"
   },
   {
    "duration": 1035,
    "start_time": "2021-08-30T04:30:44.943Z"
   },
   {
    "duration": 152,
    "start_time": "2021-08-30T04:30:45.981Z"
   },
   {
    "duration": 562,
    "start_time": "2021-08-30T04:30:46.136Z"
   },
   {
    "duration": 594,
    "start_time": "2021-08-30T04:30:46.701Z"
   },
   {
    "duration": 561,
    "start_time": "2021-08-30T04:30:47.298Z"
   },
   {
    "duration": 130,
    "start_time": "2021-08-30T04:30:47.861Z"
   },
   {
    "duration": 677,
    "start_time": "2021-08-30T04:30:47.994Z"
   },
   {
    "duration": 33,
    "start_time": "2021-08-30T04:30:48.990Z"
   },
   {
    "duration": 620,
    "start_time": "2021-08-30T04:30:49.669Z"
   },
   {
    "duration": 323,
    "start_time": "2021-08-30T04:30:50.292Z"
   },
   {
    "duration": 552,
    "start_time": "2021-08-30T04:30:50.618Z"
   },
   {
    "duration": 247,
    "start_time": "2021-08-30T04:30:51.173Z"
   },
   {
    "duration": 542,
    "start_time": "2021-08-30T04:30:51.422Z"
   },
   {
    "duration": 266,
    "start_time": "2021-08-30T04:30:51.967Z"
   },
   {
    "duration": 3,
    "start_time": "2021-08-30T04:30:52.236Z"
   },
   {
    "duration": 1955,
    "start_time": "2021-08-30T04:30:52.436Z"
   },
   {
    "duration": 650,
    "start_time": "2021-08-30T04:30:54.395Z"
   },
   {
    "duration": 52,
    "start_time": "2021-08-30T04:30:55.056Z"
   },
   {
    "duration": 548,
    "start_time": "2021-08-30T04:30:55.111Z"
   },
   {
    "duration": 529,
    "start_time": "2021-08-30T04:30:55.663Z"
   },
   {
    "duration": 100,
    "start_time": "2021-08-30T04:30:56.195Z"
   },
   {
    "duration": 663,
    "start_time": "2021-08-30T04:30:56.298Z"
   },
   {
    "duration": 20,
    "start_time": "2021-08-30T04:30:56.964Z"
   },
   {
    "duration": 136,
    "start_time": "2021-08-30T04:30:56.987Z"
   },
   {
    "duration": 78,
    "start_time": "2021-08-30T04:30:57.642Z"
   },
   {
    "duration": 32,
    "start_time": "2021-08-30T04:30:59.408Z"
   },
   {
    "duration": 4,
    "start_time": "2021-08-30T04:31:00.444Z"
   },
   {
    "duration": 58,
    "start_time": "2021-08-30T04:31:00.775Z"
   },
   {
    "duration": 60,
    "start_time": "2021-08-30T04:31:02.265Z"
   },
   {
    "duration": 58,
    "start_time": "2021-08-30T04:31:04.816Z"
   },
   {
    "duration": 58,
    "start_time": "2021-08-30T04:31:06.107Z"
   },
   {
    "duration": 65,
    "start_time": "2021-08-30T04:31:06.911Z"
   },
   {
    "duration": 55,
    "start_time": "2021-08-30T04:31:07.370Z"
   },
   {
    "duration": 12,
    "start_time": "2021-08-30T04:31:12.348Z"
   },
   {
    "duration": 26,
    "start_time": "2021-08-30T04:31:14.890Z"
   },
   {
    "duration": 7,
    "start_time": "2021-08-30T04:31:16.346Z"
   },
   {
    "duration": 43,
    "start_time": "2021-08-30T04:31:21.569Z"
   },
   {
    "duration": 8,
    "start_time": "2021-08-30T04:31:22.327Z"
   },
   {
    "duration": 1512,
    "start_time": "2021-08-30T04:31:22.752Z"
   },
   {
    "duration": 4,
    "start_time": "2021-08-30T04:31:24.266Z"
   },
   {
    "duration": 12,
    "start_time": "2021-08-30T04:31:31.484Z"
   },
   {
    "duration": 53,
    "start_time": "2021-08-30T04:31:32.297Z"
   },
   {
    "duration": 20,
    "start_time": "2021-08-30T04:31:32.991Z"
   },
   {
    "duration": 5,
    "start_time": "2021-08-30T04:31:33.676Z"
   },
   {
    "duration": 18,
    "start_time": "2021-08-30T04:32:26.971Z"
   },
   {
    "duration": 199,
    "start_time": "2021-08-30T04:32:27.767Z"
   },
   {
    "duration": 24,
    "start_time": "2021-08-30T04:32:29.685Z"
   },
   {
    "duration": 169,
    "start_time": "2021-08-30T04:32:31.487Z"
   },
   {
    "duration": 68,
    "start_time": "2021-08-30T04:32:32.353Z"
   },
   {
    "duration": 44,
    "start_time": "2021-08-30T04:32:33.107Z"
   },
   {
    "duration": 6,
    "start_time": "2021-08-30T04:32:34.618Z"
   },
   {
    "duration": 66,
    "start_time": "2021-08-30T04:32:57.150Z"
   },
   {
    "duration": 24,
    "start_time": "2021-08-30T04:32:58.121Z"
   },
   {
    "duration": 5,
    "start_time": "2021-08-30T04:32:58.990Z"
   },
   {
    "duration": 4,
    "start_time": "2021-08-30T04:33:08.005Z"
   },
   {
    "duration": 6,
    "start_time": "2021-08-30T04:33:24.888Z"
   },
   {
    "duration": 119,
    "start_time": "2021-08-30T04:35:55.343Z"
   },
   {
    "duration": 7630,
    "start_time": "2021-08-30T04:35:57.913Z"
   },
   {
    "duration": 7872,
    "start_time": "2021-08-30T04:36:07.295Z"
   },
   {
    "duration": 25,
    "start_time": "2021-08-30T04:36:16.626Z"
   },
   {
    "duration": 12764,
    "start_time": "2021-08-30T04:36:17.902Z"
   },
   {
    "duration": 17,
    "start_time": "2021-08-30T04:36:31.884Z"
   },
   {
    "duration": 4,
    "start_time": "2021-08-30T04:37:22.936Z"
   },
   {
    "duration": 5,
    "start_time": "2021-08-30T04:37:27.830Z"
   },
   {
    "duration": 6753,
    "start_time": "2021-08-30T04:37:31.039Z"
   },
   {
    "duration": 207245,
    "start_time": "2021-08-30T04:37:37.796Z"
   },
   {
    "duration": 208519,
    "start_time": "2021-08-30T04:41:05.043Z"
   },
   {
    "duration": 7297,
    "start_time": "2021-08-30T04:44:33.565Z"
   },
   {
    "duration": 328924,
    "start_time": "2021-08-30T04:44:40.865Z"
   },
   {
    "duration": 65,
    "start_time": "2021-08-30T04:53:26.598Z"
   },
   {
    "duration": 5643,
    "start_time": "2021-08-30T04:53:27.547Z"
   },
   {
    "duration": 15965,
    "start_time": "2021-08-30T04:53:33.193Z"
   },
   {
    "duration": 22,
    "start_time": "2021-08-30T04:53:49.161Z"
   },
   {
    "duration": 41905,
    "start_time": "2021-08-30T04:53:49.254Z"
   },
   {
    "duration": 18,
    "start_time": "2021-08-30T04:54:31.161Z"
   },
   {
    "duration": 8,
    "start_time": "2021-08-30T04:55:01.245Z"
   },
   {
    "duration": 197,
    "start_time": "2021-08-30T04:55:05.058Z"
   },
   {
    "duration": 4909,
    "start_time": "2021-08-30T04:55:05.381Z"
   },
   {
    "duration": 15075,
    "start_time": "2021-08-30T04:55:10.293Z"
   },
   {
    "duration": 91,
    "start_time": "2021-08-30T04:55:25.371Z"
   },
   {
    "duration": 3459,
    "start_time": "2021-08-30T04:55:25.466Z"
   },
   {
    "duration": -22461,
    "start_time": "2021-08-30T04:55:51.390Z"
   },
   {
    "duration": 41212,
    "start_time": "2021-08-30T04:55:53.102Z"
   },
   {
    "duration": 45,
    "start_time": "2021-08-30T04:56:34.317Z"
   },
   {
    "duration": 390,
    "start_time": "2021-08-30T05:10:45.575Z"
   },
   {
    "duration": 464,
    "start_time": "2021-08-30T05:11:02.854Z"
   },
   {
    "duration": 17,
    "start_time": "2021-08-30T05:11:11.606Z"
   },
   {
    "duration": 918,
    "start_time": "2021-08-30T05:11:51.959Z"
   },
   {
    "duration": 266,
    "start_time": "2021-08-30T05:11:53.785Z"
   },
   {
    "duration": 132,
    "start_time": "2021-08-30T05:12:29.450Z"
   },
   {
    "duration": 261,
    "start_time": "2021-08-30T05:12:39.187Z"
   },
   {
    "duration": 6,
    "start_time": "2021-08-30T05:12:47.873Z"
   },
   {
    "duration": 6,
    "start_time": "2021-08-30T05:12:59.213Z"
   },
   {
    "duration": 57,
    "start_time": "2021-08-30T05:13:07.721Z"
   },
   {
    "duration": 6,
    "start_time": "2021-08-30T05:13:11.737Z"
   },
   {
    "duration": 610,
    "start_time": "2021-08-30T05:14:21.951Z"
   },
   {
    "duration": 4,
    "start_time": "2021-08-30T05:16:17.107Z"
   },
   {
    "duration": 10,
    "start_time": "2021-08-30T05:16:39.208Z"
   },
   {
    "duration": 22,
    "start_time": "2021-08-30T05:17:10.602Z"
   },
   {
    "duration": 6,
    "start_time": "2021-08-30T05:17:13.516Z"
   },
   {
    "duration": 6,
    "start_time": "2021-08-30T05:17:21.169Z"
   },
   {
    "duration": 5,
    "start_time": "2021-08-30T05:17:35.769Z"
   },
   {
    "duration": 24,
    "start_time": "2021-08-30T05:17:55.952Z"
   },
   {
    "duration": 6,
    "start_time": "2021-08-30T05:17:56.838Z"
   },
   {
    "duration": 8,
    "start_time": "2021-08-30T05:18:04.663Z"
   },
   {
    "duration": 6,
    "start_time": "2021-08-30T05:18:06.295Z"
   },
   {
    "duration": 6,
    "start_time": "2021-08-30T05:22:09.762Z"
   },
   {
    "duration": 286,
    "start_time": "2021-08-30T05:25:55.699Z"
   },
   {
    "duration": 253,
    "start_time": "2021-08-30T05:26:03.467Z"
   },
   {
    "duration": 259,
    "start_time": "2021-08-30T05:26:07.942Z"
   },
   {
    "duration": 252,
    "start_time": "2021-08-30T05:26:22.197Z"
   },
   {
    "duration": 10,
    "start_time": "2021-08-30T05:26:37.824Z"
   },
   {
    "duration": 6,
    "start_time": "2021-08-30T05:26:45.389Z"
   },
   {
    "duration": 18,
    "start_time": "2021-08-30T05:27:13.206Z"
   },
   {
    "duration": 6,
    "start_time": "2021-08-30T05:27:13.984Z"
   },
   {
    "duration": 10,
    "start_time": "2021-08-30T05:27:14.896Z"
   },
   {
    "duration": 75,
    "start_time": "2021-08-30T05:28:03.985Z"
   },
   {
    "duration": 7481,
    "start_time": "2021-08-30T05:28:04.516Z"
   },
   {
    "duration": 19532,
    "start_time": "2021-08-30T05:28:12.001Z"
   },
   {
    "duration": -22489,
    "start_time": "2021-08-30T05:28:54.024Z"
   },
   {
    "duration": -22495,
    "start_time": "2021-08-30T05:28:54.032Z"
   },
   {
    "duration": -22502,
    "start_time": "2021-08-30T05:28:54.040Z"
   },
   {
    "duration": 306,
    "start_time": "2021-08-30T05:38:16.983Z"
   },
   {
    "duration": 287,
    "start_time": "2021-08-30T05:39:17.528Z"
   },
   {
    "duration": 34,
    "start_time": "2021-08-30T05:40:39.658Z"
   },
   {
    "duration": 14053,
    "start_time": "2021-08-30T05:41:14.289Z"
   },
   {
    "duration": -22501,
    "start_time": "2021-08-30T05:41:50.848Z"
   },
   {
    "duration": -22505,
    "start_time": "2021-08-30T05:41:50.854Z"
   },
   {
    "duration": -22506,
    "start_time": "2021-08-30T05:41:50.857Z"
   },
   {
    "duration": 6,
    "start_time": "2021-08-30T05:54:36.582Z"
   },
   {
    "duration": 6,
    "start_time": "2021-08-30T05:54:43.841Z"
   },
   {
    "duration": 37,
    "start_time": "2021-08-30T05:56:10.192Z"
   },
   {
    "duration": 13156,
    "start_time": "2021-08-30T05:56:13.832Z"
   },
   {
    "duration": 96,
    "start_time": "2021-08-30T05:57:56.158Z"
   },
   {
    "duration": 23768,
    "start_time": "2021-08-30T05:57:57.275Z"
   },
   {
    "duration": 565,
    "start_time": "2021-08-30T05:59:18.642Z"
   },
   {
    "duration": 48,
    "start_time": "2021-08-30T05:59:42.858Z"
   },
   {
    "duration": 17,
    "start_time": "2021-08-30T05:59:49.518Z"
   },
   {
    "duration": 7,
    "start_time": "2021-08-30T06:00:00.912Z"
   },
   {
    "duration": 41,
    "start_time": "2021-08-30T06:00:20.199Z"
   },
   {
    "duration": 7,
    "start_time": "2021-08-30T06:00:32.249Z"
   },
   {
    "duration": 21110,
    "start_time": "2021-08-30T06:02:32.576Z"
   },
   {
    "duration": 41224,
    "start_time": "2021-08-30T06:02:58.943Z"
   },
   {
    "duration": 17,
    "start_time": "2021-08-30T06:03:43.845Z"
   },
   {
    "duration": 1593,
    "start_time": "2021-08-30T09:24:07.790Z"
   },
   {
    "duration": 1133,
    "start_time": "2021-08-30T09:24:09.386Z"
   },
   {
    "duration": 178,
    "start_time": "2021-08-30T09:24:10.522Z"
   },
   {
    "duration": 643,
    "start_time": "2021-08-30T09:24:10.703Z"
   },
   {
    "duration": 736,
    "start_time": "2021-08-30T09:24:11.353Z"
   },
   {
    "duration": 626,
    "start_time": "2021-08-30T09:24:12.092Z"
   },
   {
    "duration": 141,
    "start_time": "2021-08-30T09:24:12.721Z"
   },
   {
    "duration": 719,
    "start_time": "2021-08-30T09:24:12.867Z"
   },
   {
    "duration": 33,
    "start_time": "2021-08-30T09:24:13.590Z"
   },
   {
    "duration": 580,
    "start_time": "2021-08-30T09:24:13.625Z"
   },
   {
    "duration": 337,
    "start_time": "2021-08-30T09:24:14.207Z"
   },
   {
    "duration": 575,
    "start_time": "2021-08-30T09:24:14.546Z"
   },
   {
    "duration": 332,
    "start_time": "2021-08-30T09:24:15.124Z"
   },
   {
    "duration": 562,
    "start_time": "2021-08-30T09:24:15.459Z"
   },
   {
    "duration": 289,
    "start_time": "2021-08-30T09:24:16.024Z"
   },
   {
    "duration": 3,
    "start_time": "2021-08-30T09:24:16.316Z"
   },
   {
    "duration": 2113,
    "start_time": "2021-08-30T09:24:16.321Z"
   },
   {
    "duration": 556,
    "start_time": "2021-08-30T09:24:18.436Z"
   },
   {
    "duration": 71,
    "start_time": "2021-08-30T09:24:18.995Z"
   },
   {
    "duration": 593,
    "start_time": "2021-08-30T09:24:19.069Z"
   },
   {
    "duration": 543,
    "start_time": "2021-08-30T09:24:19.665Z"
   },
   {
    "duration": 100,
    "start_time": "2021-08-30T09:24:20.211Z"
   },
   {
    "duration": 718,
    "start_time": "2021-08-30T09:24:20.317Z"
   },
   {
    "duration": 24,
    "start_time": "2021-08-30T09:24:21.039Z"
   },
   {
    "duration": 166,
    "start_time": "2021-08-30T09:24:21.068Z"
   },
   {
    "duration": 92,
    "start_time": "2021-08-30T09:24:21.237Z"
   },
   {
    "duration": 64,
    "start_time": "2021-08-30T09:24:21.332Z"
   },
   {
    "duration": 4,
    "start_time": "2021-08-30T09:24:21.398Z"
   },
   {
    "duration": 72,
    "start_time": "2021-08-30T09:24:21.404Z"
   },
   {
    "duration": 63,
    "start_time": "2021-08-30T09:24:21.478Z"
   },
   {
    "duration": 71,
    "start_time": "2021-08-30T09:24:21.544Z"
   },
   {
    "duration": 80,
    "start_time": "2021-08-30T09:24:21.617Z"
   },
   {
    "duration": 83,
    "start_time": "2021-08-30T09:24:21.699Z"
   },
   {
    "duration": 57,
    "start_time": "2021-08-30T09:24:21.784Z"
   },
   {
    "duration": 21,
    "start_time": "2021-08-30T09:24:21.843Z"
   },
   {
    "duration": 37,
    "start_time": "2021-08-30T09:24:21.871Z"
   },
   {
    "duration": 18,
    "start_time": "2021-08-30T09:24:21.910Z"
   },
   {
    "duration": 50,
    "start_time": "2021-08-30T09:24:21.931Z"
   },
   {
    "duration": 27,
    "start_time": "2021-08-30T09:24:21.984Z"
   },
   {
    "duration": 1270,
    "start_time": "2021-08-30T09:24:22.014Z"
   },
   {
    "duration": 3,
    "start_time": "2021-08-30T09:24:23.287Z"
   },
   {
    "duration": 69829,
    "start_time": "2021-08-30T09:24:23.293Z"
   },
   {
    "duration": 71455,
    "start_time": "2021-08-30T09:25:33.125Z"
   },
   {
    "duration": 116458,
    "start_time": "2021-08-30T09:26:44.583Z"
   },
   {
    "duration": 21,
    "start_time": "2021-08-30T09:28:41.044Z"
   },
   {
    "duration": 78,
    "start_time": "2021-08-30T09:28:41.068Z"
   },
   {
    "duration": 26,
    "start_time": "2021-08-30T09:28:41.149Z"
   },
   {
    "duration": 14,
    "start_time": "2021-08-30T09:28:41.177Z"
   },
   {
    "duration": 42,
    "start_time": "2021-08-30T09:28:41.193Z"
   },
   {
    "duration": 219,
    "start_time": "2021-08-30T09:28:41.238Z"
   },
   {
    "duration": 25,
    "start_time": "2021-08-30T09:28:41.460Z"
   },
   {
    "duration": 195,
    "start_time": "2021-08-30T09:28:41.488Z"
   },
   {
    "duration": 84,
    "start_time": "2021-08-30T09:28:41.686Z"
   },
   {
    "duration": 24,
    "start_time": "2021-08-30T09:28:41.772Z"
   },
   {
    "duration": 11,
    "start_time": "2021-08-30T09:28:41.798Z"
   },
   {
    "duration": 33,
    "start_time": "2021-08-30T09:28:41.812Z"
   },
   {
    "duration": 33,
    "start_time": "2021-08-30T09:28:41.847Z"
   },
   {
    "duration": 440,
    "start_time": "2021-08-30T09:28:41.882Z"
   },
   {
    "duration": -23084,
    "start_time": "2021-08-30T09:29:05.410Z"
   },
   {
    "duration": -23086,
    "start_time": "2021-08-30T09:29:05.413Z"
   },
   {
    "duration": -23088,
    "start_time": "2021-08-30T09:29:05.417Z"
   },
   {
    "duration": -23089,
    "start_time": "2021-08-30T09:29:05.420Z"
   },
   {
    "duration": -23090,
    "start_time": "2021-08-30T09:29:05.423Z"
   },
   {
    "duration": -23272,
    "start_time": "2021-08-30T09:29:05.606Z"
   },
   {
    "duration": -23280,
    "start_time": "2021-08-30T09:29:05.616Z"
   },
   {
    "duration": -23326,
    "start_time": "2021-08-30T09:29:05.663Z"
   },
   {
    "duration": -23333,
    "start_time": "2021-08-30T09:29:05.672Z"
   },
   {
    "duration": -23336,
    "start_time": "2021-08-30T09:29:05.676Z"
   },
   {
    "duration": -23340,
    "start_time": "2021-08-30T09:29:05.681Z"
   },
   {
    "duration": -23342,
    "start_time": "2021-08-30T09:29:05.684Z"
   },
   {
    "duration": -23346,
    "start_time": "2021-08-30T09:29:05.690Z"
   },
   {
    "duration": -23349,
    "start_time": "2021-08-30T09:29:05.694Z"
   },
   {
    "duration": -23352,
    "start_time": "2021-08-30T09:29:05.698Z"
   },
   {
    "duration": -23355,
    "start_time": "2021-08-30T09:29:05.702Z"
   },
   {
    "duration": -23358,
    "start_time": "2021-08-30T09:29:05.707Z"
   },
   {
    "duration": -23361,
    "start_time": "2021-08-30T09:29:05.711Z"
   },
   {
    "duration": -23520,
    "start_time": "2021-08-30T09:29:05.872Z"
   },
   {
    "duration": -23529,
    "start_time": "2021-08-30T09:29:05.882Z"
   },
   {
    "duration": -23570,
    "start_time": "2021-08-30T09:29:05.924Z"
   },
   {
    "duration": -23574,
    "start_time": "2021-08-30T09:29:05.933Z"
   },
   {
    "duration": -23577,
    "start_time": "2021-08-30T09:29:05.937Z"
   },
   {
    "duration": -23578,
    "start_time": "2021-08-30T09:29:05.940Z"
   },
   {
    "duration": -23580,
    "start_time": "2021-08-30T09:29:05.944Z"
   },
   {
    "duration": -23582,
    "start_time": "2021-08-30T09:29:05.947Z"
   },
   {
    "duration": -23584,
    "start_time": "2021-08-30T09:29:05.951Z"
   },
   {
    "duration": -23586,
    "start_time": "2021-08-30T09:29:05.954Z"
   },
   {
    "duration": -23588,
    "start_time": "2021-08-30T09:29:05.957Z"
   },
   {
    "duration": -23753,
    "start_time": "2021-08-30T09:29:06.123Z"
   },
   {
    "duration": -23761,
    "start_time": "2021-08-30T09:29:06.132Z"
   },
   {
    "duration": -23766,
    "start_time": "2021-08-30T09:29:06.139Z"
   },
   {
    "duration": -23814,
    "start_time": "2021-08-30T09:29:06.188Z"
   },
   {
    "duration": -23817,
    "start_time": "2021-08-30T09:29:06.193Z"
   },
   {
    "duration": -23820,
    "start_time": "2021-08-30T09:29:06.197Z"
   },
   {
    "duration": -23824,
    "start_time": "2021-08-30T09:29:06.202Z"
   },
   {
    "duration": 1543,
    "start_time": "2021-08-30T09:45:32.497Z"
   },
   {
    "duration": 1291,
    "start_time": "2021-08-30T09:45:34.042Z"
   },
   {
    "duration": 176,
    "start_time": "2021-08-30T09:45:35.337Z"
   },
   {
    "duration": 694,
    "start_time": "2021-08-30T09:45:35.516Z"
   },
   {
    "duration": 732,
    "start_time": "2021-08-30T09:45:36.212Z"
   },
   {
    "duration": 694,
    "start_time": "2021-08-30T09:45:36.947Z"
   },
   {
    "duration": 144,
    "start_time": "2021-08-30T09:45:37.643Z"
   },
   {
    "duration": 739,
    "start_time": "2021-08-30T09:45:37.791Z"
   },
   {
    "duration": 46,
    "start_time": "2021-08-30T09:45:38.533Z"
   },
   {
    "duration": 582,
    "start_time": "2021-08-30T09:45:38.581Z"
   },
   {
    "duration": 348,
    "start_time": "2021-08-30T09:45:39.166Z"
   },
   {
    "duration": 586,
    "start_time": "2021-08-30T09:45:39.516Z"
   },
   {
    "duration": 343,
    "start_time": "2021-08-30T09:45:40.105Z"
   },
   {
    "duration": 568,
    "start_time": "2021-08-30T09:45:40.455Z"
   },
   {
    "duration": 287,
    "start_time": "2021-08-30T09:45:41.025Z"
   },
   {
    "duration": 3,
    "start_time": "2021-08-30T09:45:41.314Z"
   },
   {
    "duration": 2116,
    "start_time": "2021-08-30T09:45:41.319Z"
   },
   {
    "duration": 568,
    "start_time": "2021-08-30T09:45:43.437Z"
   },
   {
    "duration": 73,
    "start_time": "2021-08-30T09:45:44.008Z"
   },
   {
    "duration": 631,
    "start_time": "2021-08-30T09:45:44.084Z"
   },
   {
    "duration": 561,
    "start_time": "2021-08-30T09:45:44.718Z"
   },
   {
    "duration": 103,
    "start_time": "2021-08-30T09:45:45.282Z"
   },
   {
    "duration": 721,
    "start_time": "2021-08-30T09:45:45.391Z"
   },
   {
    "duration": 15,
    "start_time": "2021-08-30T09:45:46.116Z"
   },
   {
    "duration": 189,
    "start_time": "2021-08-30T09:45:46.133Z"
   },
   {
    "duration": 91,
    "start_time": "2021-08-30T09:45:46.324Z"
   },
   {
    "duration": 65,
    "start_time": "2021-08-30T09:45:46.418Z"
   },
   {
    "duration": 4,
    "start_time": "2021-08-30T09:45:46.486Z"
   },
   {
    "duration": 70,
    "start_time": "2021-08-30T09:45:46.492Z"
   },
   {
    "duration": 63,
    "start_time": "2021-08-30T09:45:46.565Z"
   },
   {
    "duration": 79,
    "start_time": "2021-08-30T09:45:46.630Z"
   },
   {
    "duration": 76,
    "start_time": "2021-08-30T09:45:46.711Z"
   },
   {
    "duration": 81,
    "start_time": "2021-08-30T09:45:46.789Z"
   },
   {
    "duration": 63,
    "start_time": "2021-08-30T09:45:46.872Z"
   },
   {
    "duration": 25,
    "start_time": "2021-08-30T09:45:46.938Z"
   },
   {
    "duration": 28,
    "start_time": "2021-08-30T09:45:46.966Z"
   },
   {
    "duration": 12,
    "start_time": "2021-08-30T09:45:46.997Z"
   },
   {
    "duration": 68,
    "start_time": "2021-08-30T09:45:47.011Z"
   },
   {
    "duration": 7,
    "start_time": "2021-08-30T09:45:47.082Z"
   },
   {
    "duration": 1380,
    "start_time": "2021-08-30T09:45:47.092Z"
   },
   {
    "duration": 4,
    "start_time": "2021-08-30T09:45:48.474Z"
   },
   {
    "duration": 70922,
    "start_time": "2021-08-30T09:45:48.480Z"
   },
   {
    "duration": 70306,
    "start_time": "2021-08-30T09:46:59.404Z"
   },
   {
    "duration": 115460,
    "start_time": "2021-08-30T09:48:09.713Z"
   },
   {
    "duration": 17,
    "start_time": "2021-08-30T09:50:05.176Z"
   },
   {
    "duration": 86,
    "start_time": "2021-08-30T09:50:05.195Z"
   },
   {
    "duration": 21,
    "start_time": "2021-08-30T09:50:05.284Z"
   },
   {
    "duration": 7,
    "start_time": "2021-08-30T09:50:05.308Z"
   },
   {
    "duration": 47,
    "start_time": "2021-08-30T09:50:05.317Z"
   },
   {
    "duration": 223,
    "start_time": "2021-08-30T09:50:05.369Z"
   },
   {
    "duration": 21,
    "start_time": "2021-08-30T09:50:05.595Z"
   },
   {
    "duration": 194,
    "start_time": "2021-08-30T09:50:05.619Z"
   },
   {
    "duration": 78,
    "start_time": "2021-08-30T09:50:05.815Z"
   },
   {
    "duration": 24,
    "start_time": "2021-08-30T09:50:05.896Z"
   },
   {
    "duration": 5,
    "start_time": "2021-08-30T09:50:05.924Z"
   },
   {
    "duration": 30,
    "start_time": "2021-08-30T09:50:05.932Z"
   },
   {
    "duration": 17,
    "start_time": "2021-08-30T09:50:05.965Z"
   },
   {
    "duration": 182,
    "start_time": "2021-08-30T09:50:05.985Z"
   },
   {
    "duration": 8422,
    "start_time": "2021-08-30T09:50:06.172Z"
   },
   {
    "duration": 43178,
    "start_time": "2021-08-30T09:50:14.596Z"
   },
   {
    "duration": 100,
    "start_time": "2021-08-30T09:50:57.777Z"
   },
   {
    "duration": 14090,
    "start_time": "2021-08-30T09:50:57.880Z"
   },
   {
    "duration": 18,
    "start_time": "2021-08-30T09:51:11.972Z"
   },
   {
    "duration": 3,
    "start_time": "2021-08-30T09:51:11.993Z"
   },
   {
    "duration": 6,
    "start_time": "2021-08-30T09:51:11.999Z"
   },
   {
    "duration": 6886,
    "start_time": "2021-08-30T09:51:12.007Z"
   },
   {
    "duration": 222244,
    "start_time": "2021-08-30T09:51:18.954Z"
   },
   {
    "duration": 877976,
    "start_time": "2021-08-30T09:55:01.207Z"
   },
   {
    "duration": 5485,
    "start_time": "2021-08-30T10:09:39.186Z"
   },
   {
    "duration": 332012,
    "start_time": "2021-08-30T10:09:44.675Z"
   },
   {
    "duration": 69,
    "start_time": "2021-08-30T10:15:16.690Z"
   },
   {
    "duration": 5164,
    "start_time": "2021-08-30T10:15:16.762Z"
   },
   {
    "duration": 14531,
    "start_time": "2021-08-30T10:15:21.928Z"
   },
   {
    "duration": 98,
    "start_time": "2021-08-30T10:15:36.462Z"
   },
   {
    "duration": 41438,
    "start_time": "2021-08-30T10:15:36.563Z"
   },
   {
    "duration": 58,
    "start_time": "2021-08-30T10:16:18.003Z"
   },
   {
    "duration": 11,
    "start_time": "2021-08-30T10:16:18.064Z"
   },
   {
    "duration": 91,
    "start_time": "2021-08-30T10:16:18.078Z"
   },
   {
    "duration": 5197,
    "start_time": "2021-08-30T10:16:18.172Z"
   },
   {
    "duration": 14700,
    "start_time": "2021-08-30T10:16:23.371Z"
   },
   {
    "duration": 88,
    "start_time": "2021-08-30T10:16:38.073Z"
   },
   {
    "duration": 42203,
    "start_time": "2021-08-30T10:16:38.168Z"
   },
   {
    "duration": 16,
    "start_time": "2021-08-30T10:17:20.373Z"
   },
   {
    "duration": 76,
    "start_time": "2021-08-30T10:17:20.392Z"
   },
   {
    "duration": 6,
    "start_time": "2021-08-30T10:17:20.470Z"
   },
   {
    "duration": 58,
    "start_time": "2021-08-30T10:17:20.478Z"
   },
   {
    "duration": 122,
    "start_time": "2021-08-30T10:17:20.539Z"
   },
   {
    "duration": 7900,
    "start_time": "2021-08-30T10:17:20.755Z"
   },
   {
    "duration": 22237,
    "start_time": "2021-08-30T10:17:28.657Z"
   },
   {
    "duration": 83,
    "start_time": "2021-08-30T10:17:50.896Z"
   },
   {
    "duration": 41724,
    "start_time": "2021-08-30T10:17:51.057Z"
   },
   {
    "duration": 18,
    "start_time": "2021-08-30T10:18:32.784Z"
   },
   {
    "duration": 1540,
    "start_time": "2022-01-04T00:17:22.210Z"
   },
   {
    "duration": 1230,
    "start_time": "2022-01-04T00:17:23.753Z"
   },
   {
    "duration": 163,
    "start_time": "2022-01-04T00:17:24.986Z"
   },
   {
    "duration": 604,
    "start_time": "2022-01-04T00:17:26.119Z"
   },
   {
    "duration": 701,
    "start_time": "2022-01-04T00:17:26.726Z"
   },
   {
    "duration": 616,
    "start_time": "2022-01-04T00:17:27.430Z"
   },
   {
    "duration": 131,
    "start_time": "2022-01-04T00:17:28.048Z"
   },
   {
    "duration": 719,
    "start_time": "2022-01-04T00:17:28.181Z"
   },
   {
    "duration": 40,
    "start_time": "2022-01-04T00:17:31.708Z"
   },
   {
    "duration": 548,
    "start_time": "2022-01-04T00:17:32.838Z"
   },
   {
    "duration": 333,
    "start_time": "2022-01-04T00:17:33.389Z"
   },
   {
    "duration": 625,
    "start_time": "2022-01-04T00:17:33.724Z"
   },
   {
    "duration": 322,
    "start_time": "2022-01-04T00:17:34.451Z"
   },
   {
    "duration": 566,
    "start_time": "2022-01-04T00:17:35.013Z"
   },
   {
    "duration": 272,
    "start_time": "2022-01-04T00:17:35.581Z"
   },
   {
    "duration": 2018,
    "start_time": "2022-01-04T00:17:36.631Z"
   },
   {
    "duration": 553,
    "start_time": "2022-01-04T00:17:38.652Z"
   },
   {
    "duration": 60,
    "start_time": "2022-01-04T00:17:40.132Z"
   },
   {
    "duration": 542,
    "start_time": "2022-01-04T00:17:40.859Z"
   },
   {
    "duration": 525,
    "start_time": "2022-01-04T00:17:41.546Z"
   },
   {
    "duration": 87,
    "start_time": "2022-01-04T00:17:42.798Z"
   },
   {
    "duration": 721,
    "start_time": "2022-01-04T00:17:43.327Z"
   },
   {
    "duration": 20,
    "start_time": "2022-01-04T00:17:44.051Z"
   },
   {
    "duration": 186,
    "start_time": "2022-01-04T00:17:44.369Z"
   },
   {
    "duration": 84,
    "start_time": "2022-01-04T00:17:44.865Z"
   },
   {
    "duration": 55,
    "start_time": "2022-01-04T00:17:45.326Z"
   },
   {
    "duration": 4,
    "start_time": "2022-01-04T00:17:45.830Z"
   },
   {
    "duration": 62,
    "start_time": "2022-01-04T00:17:46.098Z"
   },
   {
    "duration": 64,
    "start_time": "2022-01-04T00:17:46.363Z"
   },
   {
    "duration": 62,
    "start_time": "2022-01-04T00:17:46.629Z"
   },
   {
    "duration": 73,
    "start_time": "2022-01-04T00:17:46.894Z"
   },
   {
    "duration": 66,
    "start_time": "2022-01-04T00:17:47.192Z"
   },
   {
    "duration": 125,
    "start_time": "2022-01-04T00:17:47.458Z"
   },
   {
    "duration": 13,
    "start_time": "2022-01-04T00:17:47.985Z"
   },
   {
    "duration": 26,
    "start_time": "2022-01-04T00:17:48.602Z"
   },
   {
    "duration": 8,
    "start_time": "2022-01-04T00:17:48.865Z"
   },
   {
    "duration": 44,
    "start_time": "2022-01-04T00:17:49.404Z"
   },
   {
    "duration": 8,
    "start_time": "2022-01-04T00:17:52.421Z"
   },
   {
    "duration": 1253,
    "start_time": "2022-01-04T00:17:53.337Z"
   },
   {
    "duration": 3,
    "start_time": "2022-01-04T00:17:54.593Z"
   },
   {
    "duration": 68594,
    "start_time": "2022-01-04T00:17:54.599Z"
   },
   {
    "duration": 68439,
    "start_time": "2022-01-04T00:19:03.195Z"
   },
   {
    "duration": 112085,
    "start_time": "2022-01-04T00:20:11.637Z"
   },
   {
    "duration": 16,
    "start_time": "2022-01-04T00:27:21.776Z"
   },
   {
    "duration": 58,
    "start_time": "2022-01-04T00:27:22.214Z"
   },
   {
    "duration": 20,
    "start_time": "2022-01-04T00:27:22.772Z"
   },
   {
    "duration": 7,
    "start_time": "2022-01-04T00:27:23.204Z"
   },
   {
    "duration": 20,
    "start_time": "2022-01-04T00:27:24.643Z"
   },
   {
    "duration": 208,
    "start_time": "2022-01-04T00:27:25.110Z"
   },
   {
    "duration": 23,
    "start_time": "2022-01-04T00:27:25.902Z"
   },
   {
    "duration": 177,
    "start_time": "2022-01-04T00:27:26.480Z"
   },
   {
    "duration": 64,
    "start_time": "2022-01-04T00:27:27.012Z"
   },
   {
    "duration": 25,
    "start_time": "2022-01-04T00:27:27.332Z"
   },
   {
    "duration": 6,
    "start_time": "2022-01-04T00:27:27.638Z"
   },
   {
    "duration": 4,
    "start_time": "2022-01-04T00:27:27.947Z"
   },
   {
    "duration": 6,
    "start_time": "2022-01-04T00:27:29.313Z"
   },
   {
    "duration": 156,
    "start_time": "2022-01-04T00:27:29.615Z"
   },
   {
    "duration": 8050,
    "start_time": "2022-01-04T00:27:29.927Z"
   },
   {
    "duration": 8289,
    "start_time": "2022-01-04T00:27:37.981Z"
   },
   {
    "duration": 90,
    "start_time": "2022-01-04T00:27:46.273Z"
   },
   {
    "duration": 13272,
    "start_time": "2022-01-04T00:27:46.367Z"
   },
   {
    "duration": 22,
    "start_time": "2022-01-04T00:27:59.664Z"
   },
   {
    "duration": 4,
    "start_time": "2022-01-04T00:30:52.342Z"
   },
   {
    "duration": 6749,
    "start_time": "2022-01-04T00:30:52.729Z"
   },
   {
    "duration": 219261,
    "start_time": "2022-01-04T00:30:59.481Z"
   },
   {
    "duration": 208229,
    "start_time": "2022-01-04T00:34:38.745Z"
   },
   {
    "duration": 7295,
    "start_time": "2022-01-04T00:38:06.977Z"
   },
   {
    "duration": 336325,
    "start_time": "2022-01-04T00:38:14.275Z"
   },
   {
    "duration": 144,
    "start_time": "2022-01-04T00:50:51.621Z"
   },
   {
    "duration": 5101,
    "start_time": "2022-01-04T00:50:52.351Z"
   },
   {
    "duration": 14711,
    "start_time": "2022-01-04T00:50:57.455Z"
   },
   {
    "duration": 23,
    "start_time": "2022-01-04T00:51:12.170Z"
   },
   {
    "duration": 42026,
    "start_time": "2022-01-04T00:51:12.265Z"
   },
   {
    "duration": 21,
    "start_time": "2022-01-04T00:51:54.293Z"
   },
   {
    "duration": 8,
    "start_time": "2022-01-04T00:51:54.364Z"
   },
   {
    "duration": 288,
    "start_time": "2022-01-04T00:51:54.375Z"
   },
   {
    "duration": 5822,
    "start_time": "2022-01-04T00:51:54.666Z"
   },
   {
    "duration": 14090,
    "start_time": "2022-01-04T00:52:00.491Z"
   },
   {
    "duration": 94,
    "start_time": "2022-01-04T00:52:14.583Z"
   },
   {
    "duration": 41920,
    "start_time": "2022-01-04T00:52:14.680Z"
   },
   {
    "duration": 61,
    "start_time": "2022-01-04T00:52:56.602Z"
   },
   {
    "duration": 19,
    "start_time": "2022-01-04T00:57:13.215Z"
   },
   {
    "duration": 5,
    "start_time": "2022-01-04T00:57:13.421Z"
   },
   {
    "duration": 35,
    "start_time": "2022-01-04T00:57:13.631Z"
   },
   {
    "duration": 147,
    "start_time": "2022-01-04T00:57:13.824Z"
   },
   {
    "duration": 7900,
    "start_time": "2022-01-04T00:57:14.064Z"
   },
   {
    "duration": 23825,
    "start_time": "2022-01-04T00:57:21.968Z"
   },
   {
    "duration": 79,
    "start_time": "2022-01-04T00:57:45.796Z"
   },
   {
    "duration": 42711,
    "start_time": "2022-01-04T00:57:45.962Z"
   },
   {
    "duration": 18,
    "start_time": "2022-01-04T00:58:28.676Z"
   }
  ],
  "kernelspec": {
   "display_name": "Python 3",
   "language": "python",
   "name": "python3"
  },
  "language_info": {
   "codemirror_mode": {
    "name": "ipython",
    "version": 3
   },
   "file_extension": ".py",
   "mimetype": "text/x-python",
   "name": "python",
   "nbconvert_exporter": "python",
   "pygments_lexer": "ipython3",
   "version": "3.7.8"
  },
  "toc": {
   "base_numbering": 1,
   "nav_menu": {},
   "number_sections": true,
   "sideBar": true,
   "skip_h1_title": true,
   "title_cell": "Table of Contents",
   "title_sidebar": "Contents",
   "toc_cell": false,
   "toc_position": {},
   "toc_section_display": true,
   "toc_window_display": false
  }
 },
 "nbformat": 4,
 "nbformat_minor": 2
}
